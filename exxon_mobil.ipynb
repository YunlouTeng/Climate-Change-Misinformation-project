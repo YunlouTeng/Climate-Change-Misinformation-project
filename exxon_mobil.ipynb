{
 "cells": [
  {
   "cell_type": "code",
   "execution_count": 1,
   "id": "3911a094-8aa5-4ad9-b24a-00fa2046e847",
   "metadata": {},
   "outputs": [],
   "source": [
    "import re\n",
    "import json\n",
    "import numpy as np\n",
    "import pandas as pd\n",
    "from pprint import pprint\n",
    "import seaborn as sns\n",
    "\n",
    "# NLTK Stop words\n",
    "import nltk\n",
    "from nltk import word_tokenize, FreqDist\n",
    "from nltk.corpus import stopwords\n",
    "from nltk.stem import WordNetLemmatizer\n",
    "from nltk.tokenize import TweetTokenizer\n",
    "\n",
    "# spacy for lemmatization\n",
    "import spacy\n",
    "\n",
    "#remove urls, mentions, emojis \n",
    "import preprocessor as p\n",
    "\n",
    "# Gensim\n",
    "import gensim\n",
    "import gensim.corpora as corpora\n",
    "from gensim.utils import simple_preprocess\n",
    "from gensim.models import CoherenceModel\n",
    "\n",
    "# Plotting tools\n",
    "import pyLDAvis\n",
    "import pyLDAvis.gensim_models  \n",
    "import matplotlib.pyplot as plt"
   ]
  },
  {
   "cell_type": "code",
   "execution_count": 2,
   "id": "01936baf-d833-49d0-9aca-11cfeceac718",
   "metadata": {},
   "outputs": [],
   "source": [
    "filepath = '/Users/lavine/Desktop/Terriers!/misinformation project/data/data.txt'"
   ]
  },
  {
   "cell_type": "markdown",
   "id": "2c5aa15e-14fe-4d05-9462-3e5b84aed595",
   "metadata": {
    "jp-MarkdownHeadingCollapsed": true,
    "tags": []
   },
   "source": [
    "### Create a dataframe by every columns"
   ]
  },
  {
   "cell_type": "code",
   "execution_count": 3,
   "id": "1d9ce5af-9975-4db1-bf43-64d4a2f34184",
   "metadata": {},
   "outputs": [],
   "source": [
    "#load all the JSON objects in one list as dictionaries\n",
    "data = []\n",
    "with open(filepath,'r') as f:\n",
    "    for line in f:\n",
    "        data.append(json.loads(line))"
   ]
  },
  {
   "cell_type": "code",
   "execution_count": 4,
   "id": "7ffb3d4f-05dc-421e-865a-f671418b3e15",
   "metadata": {},
   "outputs": [
    {
     "data": {
      "text/plain": [
       "'\\'We are in a climate emergency\\'December wildfires ravage Colorado https://t.co/sWDkZM4Rvn Sen. Manchin, your Exxon highway bill isn\\'t going 2save our homes or our lives,\" \"Your greed &amp; corruption is not only torching our future It\\'s burning our communities and destroying lives!'"
      ]
     },
     "execution_count": 4,
     "metadata": {},
     "output_type": "execute_result"
    }
   ],
   "source": [
    "data[9]['text']"
   ]
  },
  {
   "cell_type": "code",
   "execution_count": null,
   "id": "5ad5915a-4c51-48bd-8bb0-3d34265251f1",
   "metadata": {},
   "outputs": [],
   "source": []
  },
  {
   "cell_type": "code",
   "execution_count": null,
   "id": "461a236c-c225-47da-8eeb-99d6b224e268",
   "metadata": {},
   "outputs": [],
   "source": []
  },
  {
   "cell_type": "code",
   "execution_count": 5,
   "id": "047709f8-ac5a-4db6-8faa-aad6ecb46d71",
   "metadata": {},
   "outputs": [
    {
     "data": {
      "text/plain": [
       "'@ScottGrimnes @MaMan564 @SoFarFletched ‘We’ started calling it ‘climate change’ when Exxon Mobile did a very successful PR campaign in the 90’s. Apparently ‘global warming’ is too specific and scary. But It’s global warming. https://t.co/WPetiWDQG3'"
      ]
     },
     "execution_count": 5,
     "metadata": {},
     "output_type": "execute_result"
    }
   ],
   "source": [
    "data[4]['referenced_tweets'][0]['text']"
   ]
  },
  {
   "cell_type": "markdown",
   "id": "461a17e1-b7bd-41f8-852d-3260c48784ee",
   "metadata": {},
   "source": [
    " #### Put the text data in one list"
   ]
  },
  {
   "cell_type": "code",
   "execution_count": 6,
   "id": "b7edffb1-c0bd-44d0-bdb6-93bb3318a2fb",
   "metadata": {},
   "outputs": [],
   "source": [
    "#retrive text and avoid truncated text when retweet without quoting\n",
    "lst_text = []\n",
    "for i in data:    \n",
    "    if 'referenced_tweets' in i:\n",
    "        if i['referenced_tweets'][0]['type'] == 'retweeted':\n",
    "            lst_text.append(i['referenced_tweets'][0]['text'])\n",
    "        else:\n",
    "            lst_text.append(i['text'])\n",
    "    else:\n",
    "        lst_text.append(i['text'])"
   ]
  },
  {
   "cell_type": "code",
   "execution_count": 7,
   "id": "6d5fe5f6-509e-421f-96d0-1a1dd3ad327c",
   "metadata": {},
   "outputs": [
    {
     "data": {
      "text/plain": [
       "['@tjbabel @Catherine_LCP @SamBoik @Cernovich https://t.co/a5p9XOE7b9',\n",
       " '@tjbabel @Catherine_LCP @SamBoik @Cernovich https://t.co/BRBvadbSVr']"
      ]
     },
     "execution_count": 7,
     "metadata": {},
     "output_type": "execute_result"
    }
   ],
   "source": [
    "lst_text[:2]"
   ]
  },
  {
   "cell_type": "markdown",
   "id": "8768c389-a75e-45af-be8b-cf8940199c75",
   "metadata": {},
   "source": [
    " #### Put the author info in list"
   ]
  },
  {
   "cell_type": "code",
   "execution_count": 8,
   "id": "f3ad13fe-db12-4fe4-a859-87dd1586bebe",
   "metadata": {},
   "outputs": [
    {
     "data": {
      "text/plain": [
       "dict_keys(['lang', 'id', 'possibly_sensitive', 'author_id', 'text', 'referenced_tweets', 'created_at', 'source', 'entities', 'in_reply_to_user_id', 'reply_settings', 'conversation_id', 'public_metrics', 'author', 'in_reply_to_user', '__twarc'])"
      ]
     },
     "execution_count": 8,
     "metadata": {},
     "output_type": "execute_result"
    }
   ],
   "source": [
    "data[0].keys()"
   ]
  },
  {
   "cell_type": "markdown",
   "id": "70882ac5-c59d-4020-b77f-dae8dc32b489",
   "metadata": {},
   "source": [
    " ##### 'id', 'author_id', 'conversation_id', 'author'"
   ]
  },
  {
   "cell_type": "code",
   "execution_count": 9,
   "id": "98da3718-a811-41dc-b879-4b862fd2cc95",
   "metadata": {},
   "outputs": [],
   "source": [
    "#create lists for id, author id and conversation\n",
    "lst_id = []\n",
    "lst_lang = []\n",
    "lst_author_id = []\n",
    "lst_conversation_id = []\n",
    "for i in data:\n",
    "    lst_id.append(i['id'])\n",
    "    lst_lang.append(i['lang'])\n",
    "    lst_author_id.append(i['author_id'])\n",
    "    lst_conversation_id.append(i['conversation_id'])"
   ]
  },
  {
   "cell_type": "markdown",
   "id": "c6a95d19-4d5a-49ca-9f34-d4fd0a8c2fda",
   "metadata": {},
   "source": [
    "There are too much info in author dictionary"
   ]
  },
  {
   "cell_type": "code",
   "execution_count": 10,
   "id": "5f03dbf4-4956-44a2-911a-361deabe3cb7",
   "metadata": {},
   "outputs": [
    {
     "data": {
      "text/plain": [
       "{'lang': 'und',\n",
       " 'id': '1477065589361315842',\n",
       " 'possibly_sensitive': False,\n",
       " 'author_id': '1460383957262880776',\n",
       " 'text': '@tjbabel @Catherine_LCP @SamBoik @Cernovich https://t.co/a5p9XOE7b9',\n",
       " 'referenced_tweets': [{'type': 'replied_to',\n",
       "   'id': '1477064685639782404',\n",
       "   'lang': 'en',\n",
       "   'possibly_sensitive': False,\n",
       "   'author_id': '1733391854',\n",
       "   'text': '@owen_lavine @Catherine_LCP @SamBoik @Cernovich Ever heard of the carbon cycle? Google it.',\n",
       "   'entities': {'annotations': [{'start': 80,\n",
       "      'end': 85,\n",
       "      'probability': 0.4095,\n",
       "      'type': 'Organization',\n",
       "      'normalized_text': 'Google'}],\n",
       "    'mentions': [{'start': 0,\n",
       "      'end': 12,\n",
       "      'username': 'owen_lavine',\n",
       "      'id': '1460383957262880776',\n",
       "      'verified': False,\n",
       "      'created_at': '2021-11-15T23:07:29.000Z',\n",
       "      'public_metrics': {'followers_count': 12,\n",
       "       'following_count': 245,\n",
       "       'tweet_count': 963,\n",
       "       'listed_count': 0},\n",
       "      'name': 'Owen Lavine',\n",
       "      'description': 'Journalist - Cal Poly SLO ‘24 - LA',\n",
       "      'protected': False,\n",
       "      'url': '',\n",
       "      'profile_image_url': 'https://pbs.twimg.com/profile_images/1460384644122099713/ToEk8Ndb_normal.jpg',\n",
       "      'pinned_tweet_id': '1482061096068341760'},\n",
       "     {'start': 13,\n",
       "      'end': 27,\n",
       "      'username': 'Catherine_LCP',\n",
       "      'id': '825445747',\n",
       "      'verified': False,\n",
       "      'created_at': '2012-09-15T15:18:21.000Z',\n",
       "      'location': 'U.S.',\n",
       "      'public_metrics': {'followers_count': 2186,\n",
       "       'following_count': 1882,\n",
       "       'tweet_count': 129708,\n",
       "       'listed_count': 50},\n",
       "      'name': 'Kate 🇮🇪🇬🇧🇮🇹🇪🇸🇫🇷🌲',\n",
       "      'description': 'Europa',\n",
       "      'protected': False,\n",
       "      'url': '',\n",
       "      'profile_image_url': 'https://pbs.twimg.com/profile_images/2618197959/rsa2briy8k244prjsjh2_normal.jpeg',\n",
       "      'pinned_tweet_id': '1474267145596985347'},\n",
       "     {'start': 28,\n",
       "      'end': 36,\n",
       "      'username': 'SamBoik',\n",
       "      'id': '347900663',\n",
       "      'verified': True,\n",
       "      'created_at': '2011-08-03T15:07:55.000Z',\n",
       "      'location': 'Denver, CO',\n",
       "      'public_metrics': {'followers_count': 7568,\n",
       "       'following_count': 693,\n",
       "       'tweet_count': 45370,\n",
       "       'listed_count': 102},\n",
       "      'name': 'Sam Boik',\n",
       "      'description': '💛🏠 PIVOT Lending Group - Boulder 🏈 In-game Host Denver Broncos 🧡💙 Former NFL Cheer 📺 Former TV news anchor 🩰 Former ballerina 🐶🐶 Dog mama',\n",
       "      'protected': False,\n",
       "      'url': '',\n",
       "      'profile_image_url': 'https://pbs.twimg.com/profile_images/1496579962060554240/OxYCYuKG_normal.jpg'},\n",
       "     {'start': 37,\n",
       "      'end': 47,\n",
       "      'username': 'Cernovich',\n",
       "      'id': '358545917',\n",
       "      'verified': True,\n",
       "      'created_at': '2011-08-20T03:02:29.000Z',\n",
       "      'location': 'Orange County, California',\n",
       "      'public_metrics': {'followers_count': 856845,\n",
       "       'following_count': 3213,\n",
       "       'tweet_count': 173927,\n",
       "       'listed_count': 5509},\n",
       "      'name': 'Cernovich',\n",
       "      'description': '“So what you’re saying is…”  No. Stop right there.   What I wrote is what I was “saying.”   The rest is you being drunk, or thinking you can read my mind.',\n",
       "      'protected': False,\n",
       "      'entities': {'url': {'urls': [{'start': 0,\n",
       "          'end': 23,\n",
       "          'url': 'https://t.co/eoO81wTCcf',\n",
       "          'expanded_url': 'http://Rokfin.com/Cernovich',\n",
       "          'display_url': 'Rokfin.com/Cernovich'}]}},\n",
       "      'url': 'https://t.co/eoO81wTCcf',\n",
       "      'profile_image_url': 'https://pbs.twimg.com/profile_images/1505784612466790400/axCC6S4v_normal.jpg',\n",
       "      'pinned_tweet_id': '1506332763003109376'}]},\n",
       "   'referenced_tweets': [{'type': 'replied_to', 'id': '1477006061253107714'}],\n",
       "   'created_at': '2021-12-31T23:50:38.000Z',\n",
       "   'source': 'Twitter for Android',\n",
       "   'in_reply_to_user_id': '1460383957262880776',\n",
       "   'reply_settings': 'everyone',\n",
       "   'conversation_id': '1476711967607853064',\n",
       "   'context_annotations': [{'domain': {'id': '46',\n",
       "      'name': 'Brand Category',\n",
       "      'description': 'Categories within Brand Verticals that narrow down the scope of Brands'},\n",
       "     'entity': {'id': '781974596752842752', 'name': 'Services'}},\n",
       "    {'domain': {'id': '47',\n",
       "      'name': 'Brand',\n",
       "      'description': 'Brands and Companies'},\n",
       "     'entity': {'id': '10026378521', 'name': 'Google '}},\n",
       "    {'domain': {'id': '48',\n",
       "      'name': 'Product',\n",
       "      'description': 'Products created by Brands.  Examples: Ford Explorer, Apple iPhone.'},\n",
       "     'entity': {'id': '1395474411180892160',\n",
       "      'name': 'Google brand conversation'}}],\n",
       "   'public_metrics': {'retweet_count': 0,\n",
       "    'reply_count': 4,\n",
       "    'like_count': 0,\n",
       "    'quote_count': 0},\n",
       "   'author': {'verified': False,\n",
       "    'created_at': '2013-09-05T23:29:42.000Z',\n",
       "    'public_metrics': {'followers_count': 962,\n",
       "     'following_count': 2446,\n",
       "     'tweet_count': 13001,\n",
       "     'listed_count': 3},\n",
       "    'name': 'KJB',\n",
       "    'description': '⚠️ Mean tweets, keep off.\\n💯 BS intolerant.\\n⚫ Black alpha-male.',\n",
       "    'protected': False,\n",
       "    'username': 'tjbabel',\n",
       "    'url': '',\n",
       "    'profile_image_url': 'https://pbs.twimg.com/profile_images/1432232252172345346/02pzg9gO_normal.jpg',\n",
       "    'id': '1733391854',\n",
       "    'pinned_tweet_id': '1431747058206085120'},\n",
       "   'in_reply_to_user': {'verified': False,\n",
       "    'created_at': '2021-11-15T23:07:29.000Z',\n",
       "    'public_metrics': {'followers_count': 12,\n",
       "     'following_count': 245,\n",
       "     'tweet_count': 963,\n",
       "     'listed_count': 0},\n",
       "    'name': 'Owen Lavine',\n",
       "    'description': 'Journalist - Cal Poly SLO ‘24 - LA',\n",
       "    'protected': False,\n",
       "    'username': 'owen_lavine',\n",
       "    'url': '',\n",
       "    'profile_image_url': 'https://pbs.twimg.com/profile_images/1460384644122099713/ToEk8Ndb_normal.jpg',\n",
       "    'id': '1460383957262880776',\n",
       "    'pinned_tweet_id': '1482061096068341760'}}],\n",
       " 'created_at': '2021-12-31T23:54:13.000Z',\n",
       " 'source': 'Twitter for iPhone',\n",
       " 'entities': {'urls': [{'start': 44,\n",
       "    'end': 67,\n",
       "    'url': 'https://t.co/a5p9XOE7b9',\n",
       "    'expanded_url': 'https://unearthed.greenpeace.org/2021/06/30/exxon-climate-change-undercover/',\n",
       "    'display_url': 'unearthed.greenpeace.org/2021/06/30/exx…'}],\n",
       "  'mentions': [{'start': 0,\n",
       "    'end': 8,\n",
       "    'username': 'tjbabel',\n",
       "    'id': '1733391854',\n",
       "    'verified': False,\n",
       "    'created_at': '2013-09-05T23:29:42.000Z',\n",
       "    'public_metrics': {'followers_count': 962,\n",
       "     'following_count': 2446,\n",
       "     'tweet_count': 13001,\n",
       "     'listed_count': 3},\n",
       "    'name': 'KJB',\n",
       "    'description': '⚠️ Mean tweets, keep off.\\n💯 BS intolerant.\\n⚫ Black alpha-male.',\n",
       "    'protected': False,\n",
       "    'url': '',\n",
       "    'profile_image_url': 'https://pbs.twimg.com/profile_images/1432232252172345346/02pzg9gO_normal.jpg',\n",
       "    'pinned_tweet_id': '1431747058206085120'},\n",
       "   {'start': 9,\n",
       "    'end': 23,\n",
       "    'username': 'Catherine_LCP',\n",
       "    'id': '825445747',\n",
       "    'verified': False,\n",
       "    'created_at': '2012-09-15T15:18:21.000Z',\n",
       "    'location': 'U.S.',\n",
       "    'public_metrics': {'followers_count': 2186,\n",
       "     'following_count': 1882,\n",
       "     'tweet_count': 129708,\n",
       "     'listed_count': 50},\n",
       "    'name': 'Kate 🇮🇪🇬🇧🇮🇹🇪🇸🇫🇷🌲',\n",
       "    'description': 'Europa',\n",
       "    'protected': False,\n",
       "    'url': '',\n",
       "    'profile_image_url': 'https://pbs.twimg.com/profile_images/2618197959/rsa2briy8k244prjsjh2_normal.jpeg',\n",
       "    'pinned_tweet_id': '1474267145596985347'},\n",
       "   {'start': 24,\n",
       "    'end': 32,\n",
       "    'username': 'SamBoik',\n",
       "    'id': '347900663',\n",
       "    'verified': True,\n",
       "    'created_at': '2011-08-03T15:07:55.000Z',\n",
       "    'location': 'Denver, CO',\n",
       "    'public_metrics': {'followers_count': 7568,\n",
       "     'following_count': 693,\n",
       "     'tweet_count': 45370,\n",
       "     'listed_count': 102},\n",
       "    'name': 'Sam Boik',\n",
       "    'description': '💛🏠 PIVOT Lending Group - Boulder 🏈 In-game Host Denver Broncos 🧡💙 Former NFL Cheer 📺 Former TV news anchor 🩰 Former ballerina 🐶🐶 Dog mama',\n",
       "    'protected': False,\n",
       "    'url': '',\n",
       "    'profile_image_url': 'https://pbs.twimg.com/profile_images/1496579962060554240/OxYCYuKG_normal.jpg'},\n",
       "   {'start': 33,\n",
       "    'end': 43,\n",
       "    'username': 'Cernovich',\n",
       "    'id': '358545917',\n",
       "    'verified': True,\n",
       "    'created_at': '2011-08-20T03:02:29.000Z',\n",
       "    'location': 'Orange County, California',\n",
       "    'public_metrics': {'followers_count': 856845,\n",
       "     'following_count': 3213,\n",
       "     'tweet_count': 173927,\n",
       "     'listed_count': 5509},\n",
       "    'name': 'Cernovich',\n",
       "    'description': '“So what you’re saying is…”  No. Stop right there.   What I wrote is what I was “saying.”   The rest is you being drunk, or thinking you can read my mind.',\n",
       "    'protected': False,\n",
       "    'entities': {'url': {'urls': [{'start': 0,\n",
       "        'end': 23,\n",
       "        'url': 'https://t.co/eoO81wTCcf',\n",
       "        'expanded_url': 'http://Rokfin.com/Cernovich',\n",
       "        'display_url': 'Rokfin.com/Cernovich'}]}},\n",
       "    'url': 'https://t.co/eoO81wTCcf',\n",
       "    'profile_image_url': 'https://pbs.twimg.com/profile_images/1505784612466790400/axCC6S4v_normal.jpg',\n",
       "    'pinned_tweet_id': '1506332763003109376'}]},\n",
       " 'in_reply_to_user_id': '1733391854',\n",
       " 'reply_settings': 'everyone',\n",
       " 'conversation_id': '1476711967607853064',\n",
       " 'public_metrics': {'retweet_count': 0,\n",
       "  'reply_count': 0,\n",
       "  'like_count': 0,\n",
       "  'quote_count': 0},\n",
       " 'author': {'verified': False,\n",
       "  'created_at': '2021-11-15T23:07:29.000Z',\n",
       "  'public_metrics': {'followers_count': 12,\n",
       "   'following_count': 245,\n",
       "   'tweet_count': 963,\n",
       "   'listed_count': 0},\n",
       "  'name': 'Owen Lavine',\n",
       "  'description': 'Journalist - Cal Poly SLO ‘24 - LA',\n",
       "  'protected': False,\n",
       "  'username': 'owen_lavine',\n",
       "  'url': '',\n",
       "  'profile_image_url': 'https://pbs.twimg.com/profile_images/1460384644122099713/ToEk8Ndb_normal.jpg',\n",
       "  'id': '1460383957262880776',\n",
       "  'pinned_tweet_id': '1482061096068341760'},\n",
       " 'in_reply_to_user': {'verified': False,\n",
       "  'created_at': '2013-09-05T23:29:42.000Z',\n",
       "  'public_metrics': {'followers_count': 962,\n",
       "   'following_count': 2446,\n",
       "   'tweet_count': 13001,\n",
       "   'listed_count': 3},\n",
       "  'name': 'KJB',\n",
       "  'description': '⚠️ Mean tweets, keep off.\\n💯 BS intolerant.\\n⚫ Black alpha-male.',\n",
       "  'protected': False,\n",
       "  'username': 'tjbabel',\n",
       "  'url': '',\n",
       "  'profile_image_url': 'https://pbs.twimg.com/profile_images/1432232252172345346/02pzg9gO_normal.jpg',\n",
       "  'id': '1733391854',\n",
       "  'pinned_tweet_id': '1431747058206085120'},\n",
       " '__twarc': {'url': 'https://api.twitter.com/2/tweets/search/all?expansions=author_id%2Cin_reply_to_user_id%2Creferenced_tweets.id%2Creferenced_tweets.id.author_id%2Centities.mentions.username%2Cattachments.poll_ids%2Cattachments.media_keys%2Cgeo.place_id&tweet.fields=attachments%2Cauthor_id%2Ccontext_annotations%2Cconversation_id%2Ccreated_at%2Centities%2Cgeo%2Cid%2Cin_reply_to_user_id%2Clang%2Cpublic_metrics%2Ctext%2Cpossibly_sensitive%2Creferenced_tweets%2Creply_settings%2Csource%2Cwithheld&user.fields=created_at%2Cdescription%2Centities%2Cid%2Clocation%2Cname%2Cpinned_tweet_id%2Cprofile_image_url%2Cprotected%2Cpublic_metrics%2Curl%2Cusername%2Cverified%2Cwithheld&media.fields=alt_text%2Cduration_ms%2Cheight%2Cmedia_key%2Cpreview_image_url%2Ctype%2Curl%2Cwidth%2Cpublic_metrics&poll.fields=duration_minutes%2Cend_datetime%2Cid%2Coptions%2Cvoting_status&place.fields=contained_within%2Ccountry%2Ccountry_code%2Cfull_name%2Cgeo%2Cid%2Cname%2Cplace_type&start_time=2021-01-01T00%3A00%3A00%2B00%3A00&end_time=2022-01-01T00%3A00%3A00%2B00%3A00&query=exxon+climate&max_results=100',\n",
       "  'version': '2.9.5',\n",
       "  'retrieved_at': '2022-03-27T13:14:12+00:00'}}"
      ]
     },
     "execution_count": 10,
     "metadata": {},
     "output_type": "execute_result"
    }
   ],
   "source": [
    "data[0]"
   ]
  },
  {
   "cell_type": "code",
   "execution_count": 11,
   "id": "d8402d33-10ed-4271-a81e-c53ead6b3117",
   "metadata": {},
   "outputs": [],
   "source": [
    "#lst verified or not, author name and author username\n",
    "lst_author_verified = []\n",
    "lst_author_name = []\n",
    "lst_author_username = []\n",
    "for i in data:\n",
    "    lst_author_verified.append(i['author']['verified'])\n",
    "    lst_author_name.append(i['author']['name'])\n",
    "    lst_author_username.append(i['author']['username'])"
   ]
  },
  {
   "cell_type": "markdown",
   "id": "26dc9a84-57a0-4a0c-b312-945a46893063",
   "metadata": {},
   "source": [
    " ##### Make creation time"
   ]
  },
  {
   "cell_type": "code",
   "execution_count": 12,
   "id": "abaac408-58a0-4fab-a4e7-1e1cd6713fe9",
   "metadata": {},
   "outputs": [],
   "source": [
    "#list creation time\n",
    "lst_twt_creation_time = []\n",
    "for i in data:\n",
    "    lst_twt_creation_time.append(i['created_at'])"
   ]
  },
  {
   "cell_type": "markdown",
   "id": "78a61f6d-633b-4c1d-a9ea-0599dfeb3afd",
   "metadata": {},
   "source": [
    "##### Put what we have in one dataframe"
   ]
  },
  {
   "cell_type": "markdown",
   "id": "c27356dd-560c-4c38-833e-1ee09bc44f64",
   "metadata": {},
   "source": [
    "lst_text,lst_id, lst_author_id,lst_conversation_id,lst_author_verified, lst_author_name, lst_author_username,lst_twt_creation_time"
   ]
  },
  {
   "cell_type": "code",
   "execution_count": 13,
   "id": "3b0e8f52-6dfe-4a2b-bbb4-c5ec3fefb98a",
   "metadata": {},
   "outputs": [],
   "source": [
    "tweets = pd.DataFrame({'text': lst_text,\n",
    "                  'language': lst_lang,\n",
    "                  'id': lst_id,\n",
    "                  'author_id': lst_author_id,\n",
    "                  'conversation_id': lst_conversation_id,\n",
    "                  'author_verified': lst_author_verified,\n",
    "                  'author_name': lst_author_name,\n",
    "                  'author_username': lst_author_username,\n",
    "                  'twt_creation_time': lst_twt_creation_time\n",
    "                  })"
   ]
  },
  {
   "cell_type": "code",
   "execution_count": 14,
   "id": "188315ed-e472-403c-9860-0cd9bebccca0",
   "metadata": {},
   "outputs": [],
   "source": [
    "pd.set_option(\"display.max_colwidth\", 10000)"
   ]
  },
  {
   "cell_type": "code",
   "execution_count": 15,
   "id": "5e7c9a2a-cb70-427a-900a-44f7c76611c0",
   "metadata": {},
   "outputs": [],
   "source": [
    "tweets.drop(tweets[tweets['language'] != 'en'].index, inplace = True)"
   ]
  },
  {
   "cell_type": "code",
   "execution_count": 16,
   "id": "dbe06b4c-50a9-47c3-a3bc-b9802eaa7822",
   "metadata": {},
   "outputs": [
    {
     "data": {
      "text/html": [
       "<div>\n",
       "<style scoped>\n",
       "    .dataframe tbody tr th:only-of-type {\n",
       "        vertical-align: middle;\n",
       "    }\n",
       "\n",
       "    .dataframe tbody tr th {\n",
       "        vertical-align: top;\n",
       "    }\n",
       "\n",
       "    .dataframe thead th {\n",
       "        text-align: right;\n",
       "    }\n",
       "</style>\n",
       "<table border=\"1\" class=\"dataframe\">\n",
       "  <thead>\n",
       "    <tr style=\"text-align: right;\">\n",
       "      <th></th>\n",
       "      <th>text</th>\n",
       "      <th>language</th>\n",
       "      <th>id</th>\n",
       "      <th>author_id</th>\n",
       "      <th>conversation_id</th>\n",
       "      <th>author_verified</th>\n",
       "      <th>author_name</th>\n",
       "      <th>author_username</th>\n",
       "      <th>twt_creation_time</th>\n",
       "    </tr>\n",
       "  </thead>\n",
       "  <tbody>\n",
       "    <tr>\n",
       "      <th>2</th>\n",
       "      <td>I'm thinking about writing a satire where the U.S. Congress is blocked from taking action on the climate by a Senator who owns a coal company, lives on a yacht and speaks daily with Exxon lobbyists -- but I'm worried people will think it's too on the nose. 😔</td>\n",
       "      <td>en</td>\n",
       "      <td>1477059914015125507</td>\n",
       "      <td>2732778706</td>\n",
       "      <td>1477059914015125507</td>\n",
       "      <td>False</td>\n",
       "      <td>Tai Chi</td>\n",
       "      <td>TaiWendysb</td>\n",
       "      <td>2021-12-31T23:31:40.000Z</td>\n",
       "    </tr>\n",
       "    <tr>\n",
       "      <th>3</th>\n",
       "      <td>@Mum2Mrs @oshima9 no, capitalists are the cause.\\nhttps://t.co/VyFfKhY2Yp</td>\n",
       "      <td>en</td>\n",
       "      <td>1477056800889323523</td>\n",
       "      <td>414239235</td>\n",
       "      <td>1477056800889323523</td>\n",
       "      <td>False</td>\n",
       "      <td>Richard Estes</td>\n",
       "      <td>oshima9</td>\n",
       "      <td>2021-12-31T23:19:18.000Z</td>\n",
       "    </tr>\n",
       "    <tr>\n",
       "      <th>4</th>\n",
       "      <td>@ScottGrimnes @MaMan564 @SoFarFletched ‘We’ started calling it ‘climate change’ when Exxon Mobile did a very successful PR campaign in the 90’s. Apparently ‘global warming’ is too specific and scary. But It’s global warming. https://t.co/WPetiWDQG3</td>\n",
       "      <td>en</td>\n",
       "      <td>1477046502400868359</td>\n",
       "      <td>824946672673361920</td>\n",
       "      <td>1477046502400868359</td>\n",
       "      <td>False</td>\n",
       "      <td>Kris</td>\n",
       "      <td>writing_callous</td>\n",
       "      <td>2021-12-31T22:38:23.000Z</td>\n",
       "    </tr>\n",
       "    <tr>\n",
       "      <th>5</th>\n",
       "      <td>I'm thinking about writing a satire where the U.S. Congress is blocked from taking action on the climate by a Senator who owns a coal company, lives on a yacht and speaks daily with Exxon lobbyists -- but I'm worried people will think it's too on the nose. 😔</td>\n",
       "      <td>en</td>\n",
       "      <td>1477040827503362057</td>\n",
       "      <td>2429328178</td>\n",
       "      <td>1477040827503362057</td>\n",
       "      <td>False</td>\n",
       "      <td>David💙l🇪🇺#FindMissyandBiscuit</td>\n",
       "      <td>David96212152</td>\n",
       "      <td>2021-12-31T22:15:50.000Z</td>\n",
       "    </tr>\n",
       "    <tr>\n",
       "      <th>6</th>\n",
       "      <td>@Mum2Mrs @oshima9 no, capitalists are the cause.\\nhttps://t.co/VyFfKhY2Yp</td>\n",
       "      <td>en</td>\n",
       "      <td>1477035647462363141</td>\n",
       "      <td>795750344970141701</td>\n",
       "      <td>1476641658636693513</td>\n",
       "      <td>False</td>\n",
       "      <td>☭🇵🇸🇾🇪🇸🇾</td>\n",
       "      <td>zia_kat</td>\n",
       "      <td>2021-12-31T21:55:15.000Z</td>\n",
       "    </tr>\n",
       "  </tbody>\n",
       "</table>\n",
       "</div>"
      ],
      "text/plain": [
       "                                                                                                                                                                                                                                                                 text  \\\n",
       "2  I'm thinking about writing a satire where the U.S. Congress is blocked from taking action on the climate by a Senator who owns a coal company, lives on a yacht and speaks daily with Exxon lobbyists -- but I'm worried people will think it's too on the nose. 😔   \n",
       "3                                                                                                                                                                                           @Mum2Mrs @oshima9 no, capitalists are the cause.\\nhttps://t.co/VyFfKhY2Yp   \n",
       "4            @ScottGrimnes @MaMan564 @SoFarFletched ‘We’ started calling it ‘climate change’ when Exxon Mobile did a very successful PR campaign in the 90’s. Apparently ‘global warming’ is too specific and scary. But It’s global warming. https://t.co/WPetiWDQG3   \n",
       "5  I'm thinking about writing a satire where the U.S. Congress is blocked from taking action on the climate by a Senator who owns a coal company, lives on a yacht and speaks daily with Exxon lobbyists -- but I'm worried people will think it's too on the nose. 😔   \n",
       "6                                                                                                                                                                                           @Mum2Mrs @oshima9 no, capitalists are the cause.\\nhttps://t.co/VyFfKhY2Yp   \n",
       "\n",
       "  language                   id           author_id      conversation_id  \\\n",
       "2       en  1477059914015125507          2732778706  1477059914015125507   \n",
       "3       en  1477056800889323523           414239235  1477056800889323523   \n",
       "4       en  1477046502400868359  824946672673361920  1477046502400868359   \n",
       "5       en  1477040827503362057          2429328178  1477040827503362057   \n",
       "6       en  1477035647462363141  795750344970141701  1476641658636693513   \n",
       "\n",
       "   author_verified                    author_name  author_username  \\\n",
       "2            False                        Tai Chi       TaiWendysb   \n",
       "3            False                  Richard Estes          oshima9   \n",
       "4            False                           Kris  writing_callous   \n",
       "5            False  David💙l🇪🇺#FindMissyandBiscuit    David96212152   \n",
       "6            False                        ☭🇵🇸🇾🇪🇸🇾          zia_kat   \n",
       "\n",
       "          twt_creation_time  \n",
       "2  2021-12-31T23:31:40.000Z  \n",
       "3  2021-12-31T23:19:18.000Z  \n",
       "4  2021-12-31T22:38:23.000Z  \n",
       "5  2021-12-31T22:15:50.000Z  \n",
       "6  2021-12-31T21:55:15.000Z  "
      ]
     },
     "execution_count": 16,
     "metadata": {},
     "output_type": "execute_result"
    }
   ],
   "source": [
    "tweets.head()"
   ]
  },
  {
   "cell_type": "markdown",
   "id": "87f8239d-0094-46e7-ab51-c559cb9963fa",
   "metadata": {
    "jp-MarkdownHeadingCollapsed": true,
    "tags": []
   },
   "source": [
    "### Data preprocessing"
   ]
  },
  {
   "cell_type": "code",
   "execution_count": 17,
   "id": "7ae12cec-2bd4-43dc-bdd8-e442a6907d5d",
   "metadata": {},
   "outputs": [],
   "source": [
    "tweets['hashtag'] = tweets['text'].apply(lambda x: re.findall(r\"#(\\w+)\", x))"
   ]
  },
  {
   "cell_type": "code",
   "execution_count": 18,
   "id": "8d4bb11c-5b98-452c-8ea9-e1f0f4e36ca9",
   "metadata": {},
   "outputs": [],
   "source": [
    "#forming a separate feature for cleaned tweets\n",
    "tweets['ctext'] = tweets['text'].apply(lambda x: p.clean(x))"
   ]
  },
  {
   "cell_type": "code",
   "execution_count": 19,
   "id": "9b9e878d-4990-4b58-85f2-2e42650a652f",
   "metadata": {},
   "outputs": [
    {
     "data": {
      "text/html": [
       "<div>\n",
       "<style scoped>\n",
       "    .dataframe tbody tr th:only-of-type {\n",
       "        vertical-align: middle;\n",
       "    }\n",
       "\n",
       "    .dataframe tbody tr th {\n",
       "        vertical-align: top;\n",
       "    }\n",
       "\n",
       "    .dataframe thead th {\n",
       "        text-align: right;\n",
       "    }\n",
       "</style>\n",
       "<table border=\"1\" class=\"dataframe\">\n",
       "  <thead>\n",
       "    <tr style=\"text-align: right;\">\n",
       "      <th></th>\n",
       "      <th>text</th>\n",
       "      <th>language</th>\n",
       "      <th>id</th>\n",
       "      <th>author_id</th>\n",
       "      <th>conversation_id</th>\n",
       "      <th>author_verified</th>\n",
       "      <th>author_name</th>\n",
       "      <th>author_username</th>\n",
       "      <th>twt_creation_time</th>\n",
       "      <th>hashtag</th>\n",
       "      <th>ctext</th>\n",
       "    </tr>\n",
       "  </thead>\n",
       "  <tbody>\n",
       "    <tr>\n",
       "      <th>2</th>\n",
       "      <td>I'm thinking about writing a satire where the U.S. Congress is blocked from taking action on the climate by a Senator who owns a coal company, lives on a yacht and speaks daily with Exxon lobbyists -- but I'm worried people will think it's too on the nose. 😔</td>\n",
       "      <td>en</td>\n",
       "      <td>1477059914015125507</td>\n",
       "      <td>2732778706</td>\n",
       "      <td>1477059914015125507</td>\n",
       "      <td>False</td>\n",
       "      <td>Tai Chi</td>\n",
       "      <td>TaiWendysb</td>\n",
       "      <td>2021-12-31T23:31:40.000Z</td>\n",
       "      <td>[]</td>\n",
       "      <td>I'm thinking about writing a satire where the U.S. Congress is blocked from taking action on the climate by a Senator who owns a coal company, lives on a yacht and speaks daily with Exxon lobbyists -- but I'm worried people will think it's too on the nose.</td>\n",
       "    </tr>\n",
       "    <tr>\n",
       "      <th>3</th>\n",
       "      <td>@Mum2Mrs @oshima9 no, capitalists are the cause.\\nhttps://t.co/VyFfKhY2Yp</td>\n",
       "      <td>en</td>\n",
       "      <td>1477056800889323523</td>\n",
       "      <td>414239235</td>\n",
       "      <td>1477056800889323523</td>\n",
       "      <td>False</td>\n",
       "      <td>Richard Estes</td>\n",
       "      <td>oshima9</td>\n",
       "      <td>2021-12-31T23:19:18.000Z</td>\n",
       "      <td>[]</td>\n",
       "      <td>no, capitalists are the cause.</td>\n",
       "    </tr>\n",
       "    <tr>\n",
       "      <th>4</th>\n",
       "      <td>@ScottGrimnes @MaMan564 @SoFarFletched ‘We’ started calling it ‘climate change’ when Exxon Mobile did a very successful PR campaign in the 90’s. Apparently ‘global warming’ is too specific and scary. But It’s global warming. https://t.co/WPetiWDQG3</td>\n",
       "      <td>en</td>\n",
       "      <td>1477046502400868359</td>\n",
       "      <td>824946672673361920</td>\n",
       "      <td>1477046502400868359</td>\n",
       "      <td>False</td>\n",
       "      <td>Kris</td>\n",
       "      <td>writing_callous</td>\n",
       "      <td>2021-12-31T22:38:23.000Z</td>\n",
       "      <td>[]</td>\n",
       "      <td>We started calling it climate change when Exxon Mobile did a very successful PR campaign in the s. Apparently global warming is too specific and scary. But Its global warming.</td>\n",
       "    </tr>\n",
       "  </tbody>\n",
       "</table>\n",
       "</div>"
      ],
      "text/plain": [
       "                                                                                                                                                                                                                                                                 text  \\\n",
       "2  I'm thinking about writing a satire where the U.S. Congress is blocked from taking action on the climate by a Senator who owns a coal company, lives on a yacht and speaks daily with Exxon lobbyists -- but I'm worried people will think it's too on the nose. 😔   \n",
       "3                                                                                                                                                                                           @Mum2Mrs @oshima9 no, capitalists are the cause.\\nhttps://t.co/VyFfKhY2Yp   \n",
       "4            @ScottGrimnes @MaMan564 @SoFarFletched ‘We’ started calling it ‘climate change’ when Exxon Mobile did a very successful PR campaign in the 90’s. Apparently ‘global warming’ is too specific and scary. But It’s global warming. https://t.co/WPetiWDQG3   \n",
       "\n",
       "  language                   id           author_id      conversation_id  \\\n",
       "2       en  1477059914015125507          2732778706  1477059914015125507   \n",
       "3       en  1477056800889323523           414239235  1477056800889323523   \n",
       "4       en  1477046502400868359  824946672673361920  1477046502400868359   \n",
       "\n",
       "   author_verified    author_name  author_username         twt_creation_time  \\\n",
       "2            False        Tai Chi       TaiWendysb  2021-12-31T23:31:40.000Z   \n",
       "3            False  Richard Estes          oshima9  2021-12-31T23:19:18.000Z   \n",
       "4            False           Kris  writing_callous  2021-12-31T22:38:23.000Z   \n",
       "\n",
       "  hashtag  \\\n",
       "2      []   \n",
       "3      []   \n",
       "4      []   \n",
       "\n",
       "                                                                                                                                                                                                                                                              ctext  \n",
       "2  I'm thinking about writing a satire where the U.S. Congress is blocked from taking action on the climate by a Senator who owns a coal company, lives on a yacht and speaks daily with Exxon lobbyists -- but I'm worried people will think it's too on the nose.  \n",
       "3                                                                                                                                                                                                                                    no, capitalists are the cause.  \n",
       "4                                                                                   We started calling it climate change when Exxon Mobile did a very successful PR campaign in the s. Apparently global warming is too specific and scary. But Its global warming.  "
      ]
     },
     "execution_count": 19,
     "metadata": {},
     "output_type": "execute_result"
    }
   ],
   "source": [
    "tweets.head(3)"
   ]
  },
  {
   "cell_type": "code",
   "execution_count": null,
   "id": "e458abf3-644f-47bd-b8c6-43f7d4491501",
   "metadata": {},
   "outputs": [],
   "source": []
  },
  {
   "cell_type": "code",
   "execution_count": null,
   "id": "73fc558d-1a18-4d40-8840-b0638ed6d41a",
   "metadata": {},
   "outputs": [],
   "source": []
  },
  {
   "cell_type": "code",
   "execution_count": 20,
   "id": "bef3a4db-2aa1-412a-b4b6-6a07696d38d7",
   "metadata": {},
   "outputs": [],
   "source": [
    "#convert to list\n",
    "ctext = tweets['ctext'].tolist()"
   ]
  },
  {
   "cell_type": "code",
   "execution_count": 21,
   "id": "25ad07de-a943-4a3d-a64e-0a555ecc16d5",
   "metadata": {},
   "outputs": [
    {
     "name": "stderr",
     "output_type": "stream",
     "text": [
      "<>:2: DeprecationWarning: invalid escape sequence \\s\n",
      "<>:2: DeprecationWarning: invalid escape sequence \\s\n",
      "/var/folders/kg/0ndh6pln2x7b6rpm16twhvpc0000gn/T/ipykernel_6968/1351202947.py:2: DeprecationWarning: invalid escape sequence \\s\n",
      "  ctext = [re.sub('\\s+', ' ', sent) for sent in ctext]\n"
     ]
    }
   ],
   "source": [
    "# Remove new line characters\n",
    "ctext = [re.sub('\\s+', ' ', sent) for sent in ctext]"
   ]
  },
  {
   "cell_type": "code",
   "execution_count": 22,
   "id": "10de78ad-cd53-4a1e-b4d8-42cf0466e43f",
   "metadata": {},
   "outputs": [],
   "source": [
    "# Remove distracting single quotes\n",
    "ctext = [re.sub(\"\\'\", \"\", sent) for sent in ctext]"
   ]
  },
  {
   "cell_type": "code",
   "execution_count": 23,
   "id": "a06b12d3-e30d-437a-82d6-8ff049bc9a56",
   "metadata": {},
   "outputs": [],
   "source": [
    "# remove punctuations\n",
    "ctext = [re.sub(r'[^\\w\\s]', '', sent) for sent in ctext]"
   ]
  },
  {
   "cell_type": "code",
   "execution_count": 24,
   "id": "e48ea990-81ac-4293-8fc2-cad5bc777db5",
   "metadata": {},
   "outputs": [
    {
     "data": {
      "text/plain": [
       "['no capitalists are the cause',\n",
       " 'We started calling it climate change when Exxon Mobile did a very successful PR campaign in the s Apparently global warming is too specific and scary But Its global warming',\n",
       " 'Im thinking about writing a satire where the US Congress is blocked from taking action on the climate by a Senator who owns a coal company lives on a yacht and speaks daily with Exxon lobbyists  but Im worried people will think its too on the nose',\n",
       " 'no capitalists are the cause']"
      ]
     },
     "execution_count": 24,
     "metadata": {},
     "output_type": "execute_result"
    }
   ],
   "source": [
    "ctext[1:5]"
   ]
  },
  {
   "cell_type": "markdown",
   "id": "eee9d1b7-d916-49e8-9467-c99192da368b",
   "metadata": {
    "jp-MarkdownHeadingCollapsed": true,
    "tags": []
   },
   "source": [
    "### Tokenize words and further clean up text"
   ]
  },
  {
   "cell_type": "code",
   "execution_count": 25,
   "id": "f7a3bd80-1498-427b-94a2-0d0cd9273d37",
   "metadata": {},
   "outputs": [],
   "source": [
    "#tokenize each sentence into a list of words, removing punctuations and unnecessary characters altoghter"
   ]
  },
  {
   "cell_type": "code",
   "execution_count": 26,
   "id": "6b44245f-17f9-45d5-8ebd-bc0c18503060",
   "metadata": {},
   "outputs": [
    {
     "name": "stdout",
     "output_type": "stream",
     "text": [
      "[['im', 'thinking', 'about', 'writing', 'satire', 'where', 'the', 'us', 'congress', 'is', 'blocked', 'from', 'taking', 'action', 'on', 'the', 'climate', 'by', 'senator', 'who', 'owns', 'coal', 'company', 'lives', 'on', 'yacht', 'and', 'speaks', 'daily', 'with', 'exxon', 'lobbyists', 'but', 'im', 'worried', 'people', 'will', 'think', 'its', 'too', 'on', 'the', 'nose']]\n"
     ]
    }
   ],
   "source": [
    "def sent_to_words(sentences):\n",
    "    for sentence in sentences:\n",
    "        yield(gensim.utils.simple_preprocess(str(sentence), deacc=True))  # deacc=True removes punctuations\n",
    "\n",
    "tweet_words = list(sent_to_words(ctext))\n",
    "\n",
    "print(tweet_words[:1])"
   ]
  },
  {
   "cell_type": "code",
   "execution_count": 27,
   "id": "8bef03c9-848f-4004-824e-b2340c6086f1",
   "metadata": {},
   "outputs": [
    {
     "name": "stdout",
     "output_type": "stream",
     "text": [
      "['im', 'thinking', 'about_writing_satire', 'where', 'the', 'us', 'congress', 'is', 'blocked', 'from', 'taking', 'action', 'on', 'the', 'climate', 'by', 'senator', 'who', 'owns', 'coal', 'company', 'lives', 'on', 'yacht', 'and', 'speaks', 'daily', 'with', 'exxon', 'lobbyists', 'but', 'im', 'worried', 'people', 'will', 'think', 'its', 'too', 'on', 'the', 'nose']\n"
     ]
    }
   ],
   "source": [
    "# Build the bigram and trigram models\n",
    "bigram = gensim.models.Phrases(tweet_words, min_count=5, threshold=100) # higher threshold fewer phrases.\n",
    "trigram = gensim.models.Phrases(bigram[tweet_words], threshold=100)  \n",
    "\n",
    "# Faster way to get a sentence clubbed as a trigram/bigram\n",
    "bigram_mod = gensim.models.phrases.Phraser(bigram)\n",
    "trigram_mod = gensim.models.phrases.Phraser(trigram)\n",
    "\n",
    "# See trigram example\n",
    "print(trigram_mod[bigram_mod[tweet_words[0]]])"
   ]
  },
  {
   "cell_type": "markdown",
   "id": "c24a6586-a208-47dc-b7df-e84b8c5a621a",
   "metadata": {
    "jp-MarkdownHeadingCollapsed": true,
    "tags": []
   },
   "source": [
    "### Remove Stopwords, Make Bigrams and Lemmatize"
   ]
  },
  {
   "cell_type": "code",
   "execution_count": 43,
   "id": "b527df8e-7e82-45eb-995f-64d60d7d5dcd",
   "metadata": {},
   "outputs": [],
   "source": [
    "stop_words = stopwords.words('english')\n",
    "stop_words.extend(['from', 'subject', 're', 'edu', 'use', 'm'])"
   ]
  },
  {
   "cell_type": "code",
   "execution_count": 44,
   "id": "3a9ae696-61af-40ea-8380-ea5b22393074",
   "metadata": {},
   "outputs": [],
   "source": [
    "# Define functions for stopwords, bigrams, trigrams and lemmatization\n",
    "def remove_stopwords(texts):\n",
    "    return [[word for word in simple_preprocess(str(doc)) if word not in stop_words] for doc in texts]\n",
    "\n",
    "def make_bigrams(texts):\n",
    "    return [bigram_mod[doc] for doc in texts]\n",
    "\n",
    "def make_trigrams(texts):\n",
    "    return [trigram_mod[bigram_mod[doc]] for doc in texts]"
   ]
  },
  {
   "cell_type": "code",
   "execution_count": 45,
   "id": "91edbe4c-1e69-4d5c-b09a-318a5c3047d2",
   "metadata": {},
   "outputs": [],
   "source": [
    "def lemmatization(texts, allowed_postags=['NOUN', 'ADJ', 'VERB', 'ADV']):\n",
    "    \"\"\"https://spacy.io/api/annotation\"\"\"\n",
    "    texts_out = []\n",
    "    for sent in texts:\n",
    "        doc = nlp(\" \".join(sent)) \n",
    "        texts_out.append([token.lemma_ for token in doc if token.pos_ in allowed_postags])\n",
    "    return texts_out"
   ]
  },
  {
   "cell_type": "code",
   "execution_count": 46,
   "id": "246f1398-6c05-4437-9052-fdc9f25af0b6",
   "metadata": {},
   "outputs": [],
   "source": [
    "# Remove Stop Words\n",
    "tweet_words_nostops = remove_stopwords(tweet_words)"
   ]
  },
  {
   "cell_type": "code",
   "execution_count": 47,
   "id": "29c6dc85-e89e-4ff4-a4d1-83fede7b1a5e",
   "metadata": {},
   "outputs": [],
   "source": [
    "# Form Bigrams\n",
    "tweet_words_bigrams = make_bigrams(tweet_words_nostops)"
   ]
  },
  {
   "cell_type": "code",
   "execution_count": 48,
   "id": "ccc2cc77-8a72-423b-ae6c-6546c8ade7a8",
   "metadata": {},
   "outputs": [
    {
     "name": "stdout",
     "output_type": "stream",
     "text": [
      "[['m', 'think', 'block', 'take', 'action', 'climate', 'senator', 'own', 'coal', 'company', 'live', 'yacht', 'speak', 'daily', 'lobbyist', 'm', 'worried', 'people', 'think', 'nose']]\n"
     ]
    }
   ],
   "source": [
    "# Initialize spacy 'en_core_web_sm' model, keeping only tagger component (for efficiency)\n",
    "# python3 -m spacy download en_core_web_sm\n",
    "nlp = spacy.load(\"en_core_web_sm\", disable=['parser', 'ner'])# not \"en\" any more\n",
    "\n",
    "# Do lemmatization keeping only noun, adj, vb, adv\n",
    "tweet_lemmatized = lemmatization(tweet_words_bigrams, allowed_postags=['NOUN', 'ADJ', 'VERB', 'ADV'])\n",
    "\n",
    "print(tweet_lemmatized[:1])"
   ]
  },
  {
   "cell_type": "markdown",
   "id": "805b9a70-7bf6-4b5b-8391-76185dd7cea7",
   "metadata": {
    "jp-MarkdownHeadingCollapsed": true,
    "tags": []
   },
   "source": [
    "### Creat the dictionary and the corpus"
   ]
  },
  {
   "cell_type": "code",
   "execution_count": 49,
   "id": "045af5c1-03ce-4c46-a4ce-5d2510470d2b",
   "metadata": {},
   "outputs": [
    {
     "name": "stdout",
     "output_type": "stream",
     "text": [
      "[[(0, 1), (1, 1), (2, 1), (3, 1), (4, 1), (5, 1), (6, 1), (7, 1), (8, 2), (9, 1), (10, 1), (11, 1), (12, 1), (13, 1), (14, 1), (15, 2), (16, 1), (17, 1)]]\n"
     ]
    }
   ],
   "source": [
    "# Create Dictionary\n",
    "id2word = corpora.Dictionary(tweet_lemmatized)\n",
    "\n",
    "# Create Corpus\n",
    "texts = tweet_lemmatized\n",
    "\n",
    "# Term Document Frequency\n",
    "corpus = [id2word.doc2bow(text) for text in texts] \n",
    "\n",
    "#Gensim creates a unique id for each word in the document. \n",
    "#The produced corpus shown below is a mapping of (word_id, word_frequency(times of occurance)).\n",
    "\n",
    "# View\n",
    "print(corpus[:1])"
   ]
  },
  {
   "cell_type": "code",
   "execution_count": 50,
   "id": "494c70fb-e5f5-497a-89f3-9892a245c9d2",
   "metadata": {},
   "outputs": [
    {
     "data": {
      "text/plain": [
       "'environment'"
      ]
     },
     "execution_count": 50,
     "metadata": {},
     "output_type": "execute_result"
    }
   ],
   "source": [
    "id2word[40]"
   ]
  },
  {
   "cell_type": "code",
   "execution_count": 51,
   "id": "7c2ed933-af4b-42eb-a1f3-d6e64196b7aa",
   "metadata": {},
   "outputs": [
    {
     "data": {
      "text/plain": [
       "'company'"
      ]
     },
     "execution_count": 51,
     "metadata": {},
     "output_type": "execute_result"
    }
   ],
   "source": [
    "#If you want to see what word a given id corresponds to, pass the id as a key to the dictionary.\n",
    "id2word[4]\n",
    "\n",
    "#in put of LDA"
   ]
  },
  {
   "cell_type": "code",
   "execution_count": 52,
   "id": "5520aec4-4caa-4db2-bcad-f2eea66c6b10",
   "metadata": {},
   "outputs": [
    {
     "data": {
      "text/plain": [
       "[[('action', 1),\n",
       "  ('block', 1),\n",
       "  ('climate', 1),\n",
       "  ('coal', 1),\n",
       "  ('company', 1),\n",
       "  ('daily', 1),\n",
       "  ('live', 1),\n",
       "  ('lobbyist', 1),\n",
       "  ('m', 2),\n",
       "  ('nose', 1),\n",
       "  ('own', 1),\n",
       "  ('people', 1),\n",
       "  ('senator', 1),\n",
       "  ('speak', 1),\n",
       "  ('take', 1),\n",
       "  ('think', 2),\n",
       "  ('worried', 1),\n",
       "  ('yacht', 1)]]"
      ]
     },
     "execution_count": 52,
     "metadata": {},
     "output_type": "execute_result"
    }
   ],
   "source": [
    "# Human readable format of corpus (term-frequency)\n",
    "[[(id2word[id], freq) for id, freq in cp] for cp in corpus[:1]]"
   ]
  },
  {
   "cell_type": "markdown",
   "id": "82855c8f-5efb-4c9d-872f-6a1ac7954577",
   "metadata": {
    "tags": []
   },
   "source": [
    "### Building the Topic Model"
   ]
  },
  {
   "cell_type": "code",
   "execution_count": 65,
   "id": "fd2479a5-4314-45dd-98d5-a06ef929f664",
   "metadata": {},
   "outputs": [],
   "source": [
    "# Build LDA model\n",
    "lda_model = gensim.models.ldamodel.LdaModel(corpus=corpus,\n",
    "                                           id2word=id2word,\n",
    "                                           num_topics=6, \n",
    "                                           random_state=100,\n",
    "                                           update_every=1,\n",
    "                                           chunksize=500,\n",
    "                                           passes=10,\n",
    "                                           alpha='auto',\n",
    "                                           per_word_topics=True)"
   ]
  },
  {
   "cell_type": "code",
   "execution_count": 66,
   "id": "98c1416a-9b9f-49b1-95b7-4105946d733f",
   "metadata": {},
   "outputs": [
    {
     "name": "stdout",
     "output_type": "stream",
     "text": [
      "[(0,\n",
      "  '0.117*\"involve\" + 0.071*\"company\" + 0.063*\"see\" + 0.057*\"ad\" + '\n",
      "  '0.055*\"director\" + 0.055*\"recuse\" + 0.055*\"amy_coney\" + '\n",
      "  '0.055*\"stricter_ethic\" + 0.049*\"order\" + 0.028*\"liberal\"'),\n",
      " (1,\n",
      "  '0.103*\"climate\" + 0.049*\"change\" + 0.026*\"case\" + 0.021*\"shell\" + '\n",
      "  '0.019*\"court\" + 0.018*\"major\" + 0.015*\"fund\" + 0.014*\"industry\" + '\n",
      "  '0.014*\"amp\" + 0.014*\"law\"'),\n",
      " (2,\n",
      "  '0.097*\"use\" + 0.075*\"world\" + 0.064*\"work\" + 0.059*\"business\" + '\n",
      "  '0.041*\"member\" + 0.034*\"former\" + 0.030*\"lee_raymond\" + 0.029*\"quit\" + '\n",
      "  '0.028*\"twoand\" + 0.026*\"role\"'),\n",
      " (3,\n",
      "  '0.119*\"job\" + 0.096*\"today\" + 0.066*\"decade\" + 0.053*\"action\" + '\n",
      "  '0.052*\"exxon\" + 0.050*\"climate\" + 0.034*\"report\" + 0.031*\"hold\" + '\n",
      "  '0.029*\"re\" + 0.025*\"dark\"'),\n",
      " (4,\n",
      "  '0.058*\"oil\" + 0.055*\"emission\" + 0.052*\"company\" + 0.046*\"know\" + '\n",
      "  '0.042*\"big\" + 0.028*\"shareholder\" + 0.022*\"investor\" + 0.021*\"new\" + '\n",
      "  '0.021*\"climate\" + 0.020*\"cut\"'),\n",
      " (5,\n",
      "  '0.050*\"fuel\" + 0.038*\"fossil\" + 0.030*\"energy\" + 0.028*\"need\" + 0.027*\"go\" '\n",
      "  '+ 0.025*\"give\" + 0.024*\"crisis\" + 0.024*\"lose\" + 0.023*\"climate\" + '\n",
      "  '0.022*\"try\"')]\n"
     ]
    }
   ],
   "source": [
    "# Print the Keyword in the topics\n",
    "pprint(lda_model.print_topics())\n",
    "doc_lda = lda_model[corpus]"
   ]
  },
  {
   "cell_type": "markdown",
   "id": "d2a08cd6-7d24-4d44-b4b9-398195a86847",
   "metadata": {
    "tags": []
   },
   "source": [
    "### Compute model perplexity and coherence score"
   ]
  },
  {
   "cell_type": "code",
   "execution_count": 67,
   "id": "0d82ce0a-a3f3-410d-84e0-140df9173b4a",
   "metadata": {},
   "outputs": [
    {
     "name": "stdout",
     "output_type": "stream",
     "text": [
      "\n",
      "Perplexity:  -7.289467044863519\n",
      "\n",
      "Coherence Score:  0.34398067146741557\n"
     ]
    }
   ],
   "source": [
    "# Compute Perplexity\n",
    "print('\\nPerplexity: ', lda_model.log_perplexity(corpus))  # a measure of how good the model is. lower the better.\n",
    "\n",
    "# Compute Coherence Score\n",
    "coherence_model_lda = CoherenceModel(model=lda_model, texts=tweet_lemmatized, dictionary=id2word, coherence='c_v')\n",
    "coherence_lda = coherence_model_lda.get_coherence()\n",
    "print('\\nCoherence Score: ', coherence_lda)"
   ]
  },
  {
   "cell_type": "code",
   "execution_count": 69,
   "id": "77942d7d-c8f8-4bd2-9df3-2fd7cdbb7ece",
   "metadata": {},
   "outputs": [
    {
     "name": "stderr",
     "output_type": "stream",
     "text": [
      "/opt/anaconda3/lib/python3.9/site-packages/pyLDAvis/_prepare.py:246: FutureWarning: In a future version of pandas all arguments of DataFrame.drop except for the argument 'labels' will be keyword-only\n",
      "  default_term_info = default_term_info.sort_values(\n"
     ]
    },
    {
     "data": {
      "text/html": [
       "\n",
       "<link rel=\"stylesheet\" type=\"text/css\" href=\"https://cdn.jsdelivr.net/gh/bmabey/pyLDAvis@3.3.1/pyLDAvis/js/ldavis.v1.0.0.css\">\n",
       "\n",
       "\n",
       "<div id=\"ldavis_el69681404976934464327170987061\"></div>\n",
       "<script type=\"text/javascript\">\n",
       "\n",
       "var ldavis_el69681404976934464327170987061_data = {\"mdsDat\": {\"x\": [-0.14473612169552655, 0.17752880349606356, -0.1582385109887175, -0.08134920967310805, 0.3678665903876004, -0.16107155152631195], \"y\": [-0.061880914797866234, -0.1357162374815606, -0.23360420266531742, -0.03271748733305564, 0.09497243333403947, 0.3689464089437605], \"topics\": [1, 2, 3, 4, 5, 6], \"cluster\": [1, 1, 1, 1, 1, 1], \"Freq\": [30.778806341373954, 21.65168634921611, 17.85681567020904, 15.572392553849276, 7.913724801982877, 6.22657428336874]}, \"tinfo\": {\"Term\": [\"job\", \"today\", \"company\", \"involve\", \"oil\", \"decade\", \"emission\", \"change\", \"use\", \"fuel\", \"action\", \"know\", \"big\", \"world\", \"see\", \"exxon\", \"fossil\", \"ad\", \"recuse\", \"work\", \"director\", \"stricter_ethic\", \"amy_coney\", \"business\", \"report\", \"climate\", \"order\", \"case\", \"energy\", \"shareholder\", \"change\", \"case\", \"shell\", \"court\", \"major\", \"fund\", \"industry\", \"amp\", \"law\", \"break\", \"hear\", \"judge\", \"giant\", \"want\", \"good\", \"elect\", \"public\", \"renewable\", \"win\", \"mean\", \"huge\", \"help\", \"funding\", \"claim\", \"product\", \"leader\", \"solution\", \"wind\", \"denial\", \"goal\", \"previous\", \"push\", \"point\", \"conservative\", \"year\", \"global\", \"say\", \"climate\", \"exxon\", \"oil\", \"emission\", \"know\", \"big\", \"shareholder\", \"investor\", \"new\", \"cut\", \"board\", \"demand\", \"investment\", \"strategy\", \"show\", \"enough\", \"day\", \"rise\", \"commit\", \"activist\", \"yearly\", \"ecocide\", \"nowexxon\", \"assessment\", \"green\", \"long\", \"tell\", \"end\", \"half\", \"history\", \"buck\", \"corporation\", \"company\", \"chevron\", \"exxon\", \"climate\", \"fuel\", \"fossil\", \"energy\", \"need\", \"lose\", \"crisis\", \"try\", \"seat\", \"take\", \"give\", \"large\", \"carbon\", \"likely\", \"people\", \"firm\", \"save\", \"era\", \"slam\", \"support\", \"turning\", \"ecuador\", \"planetdutch\", \"halve\", \"much\", \"planet\", \"future\", \"make\", \"argue\", \"solar\", \"s\", \"datum\", \"go\", \"chevron\", \"climate\", \"job\", \"today\", \"report\", \"hold\", \"re\", \"dark\", \"still\", \"well\", \"interest\", \"question\", \"reveal\", \"play\", \"actively\", \"here\", \"action\", \"watch\", \"truth\", \"lobbyist\", \"target\", \"share\", \"fyi\", \"meeting\", \"family\", \"polluter\", \"biden\", \"war\", \"legislation\", \"spending\", \"admit\", \"medium\", \"decade\", \"overdue\", \"invite\", \"toll\", \"whatexxons_co\", \"exxon\", \"young_engineer\", \"climate\", \"go\", \"involve\", \"see\", \"director\", \"order\", \"liberal\", \"real\", \"face\", \"capture\", \"sue\", \"call\", \"ad\", \"ve\", \"federal\", \"microtargeting\", \"nyu_project\", \"regulation_report\", \"believe\", \"finally\", \"executive\", \"direct\", \"choice\", \"chance\", \"government\", \"speak\", \"own\", \"name\", \"conspiracy\", \"word\", \"weak\", \"return\", \"projects_technology\", \"reversing\", \"quietly_shelve\", \"essential\", \"french\", \"strenuous_objection\", \"amy_coney\", \"stricter_ethic\", \"recuse\", \"policymaker\", \"solutionsme\", \"company\", \"use\", \"work\", \"business\", \"member\", \"former\", \"role\", \"quit\", \"going\", \"car\", \"lee_raymond\", \"world\", \"fire\", \"sure\", \"add\", \"practice\", \"harm\", \"regulate\", \"high\", \"ability\", \"buildings_california\", \"china_propose\", \"conoco_rating\", \"germany_earmark\", \"multiministry\", \"singapore_launche\", \"third\", \"legal\", \"official\", \"station\", \"electric\", \"defeat\", \"twoand\", \"exchange\", \"exxononce\", \"provider\", \"nextera\", \"holding_bank\", \"lobby_organization\", \"stepping\", \"valuable\", \"climate\"], \"Freq\": [74592.0, 60222.0, 67772.0, 37066.0, 50433.0, 41335.0, 48198.0, 60852.0, 24223.0, 36047.0, 33074.0, 40153.0, 36198.0, 18796.0, 20148.0, 53946.0, 27365.0, 18282.0, 21004.0, 16088.0, 17450.0, 19354.0, 19354.0, 14713.0, 21405.0, 196448.0, 15433.0, 32079.0, 21674.0, 24071.0, 60851.021940281105, 32078.25082262211, 25409.49558929642, 23674.171845025023, 22276.46343520979, 18878.886610908678, 17399.324589757114, 17305.76230206445, 17220.215821431666, 16493.5844664667, 15420.246130957952, 14669.780449267428, 13422.570861556429, 11692.286513159004, 11244.173065287872, 10524.555397517563, 9449.050985679443, 9178.469407173421, 7938.996875939106, 7796.638261981474, 7398.0888563410235, 7234.211734036037, 7465.016640995075, 7111.3288013211895, 7112.466264961316, 6818.978760432464, 6373.070552195783, 6422.12835111524, 6236.328992862024, 6278.703113025196, 14073.857776861372, 10805.395458230128, 11799.135528030254, 6779.470472711453, 15382.287673442297, 8336.74400975642, 14238.344810049848, 127128.75101941376, 7877.930340634705, 50431.60750838715, 48196.834718178136, 40151.52886114403, 36196.49461656186, 24069.504598392068, 19504.43881501443, 18611.80898446943, 17808.541154392668, 17669.45490996579, 15896.072476786123, 15513.789092497282, 15180.20736643759, 15026.668793111217, 14080.655449864022, 13666.45312971463, 12804.862260305754, 12289.939297250741, 11950.649889829305, 11733.245894928581, 11703.508259213659, 11685.758861111877, 11682.39777901527, 11641.536484905402, 10536.698237666873, 8225.99805189843, 8213.99928051787, 8136.951254162969, 8344.436491603574, 7088.881100127484, 7515.826847985012, 45210.382008394445, 17670.91181102888, 13630.114873276716, 17961.828537880578, 36046.295644060236, 27363.647427258093, 21673.380738935604, 20212.28757134282, 17102.432007840485, 17195.74002439495, 15956.729372189304, 15441.074038785404, 15071.967878159692, 18243.288341685038, 14784.994905239777, 12646.659795826066, 11395.344936661828, 10848.587599344179, 10627.75274604653, 10363.913312790184, 10168.089840865516, 9911.31804245569, 9810.624962296002, 10007.39671087037, 9919.069986878876, 9908.572784896169, 9926.866705463817, 8476.121715404914, 8698.431442956182, 7485.5695694863, 7324.77753537265, 7549.4208655037255, 6794.670840059148, 6176.66578251064, 12376.536609689445, 19349.068463556814, 13670.81461600598, 16175.785956167118, 74591.9332137572, 60221.140757993904, 21404.71506404028, 19416.958030558384, 18017.187838477013, 15780.69484574879, 13217.786098362081, 10705.217811976047, 10020.501291056054, 8997.205832315443, 8505.564618989623, 8402.45350802818, 7569.483804959987, 6618.742599208505, 33068.31664724086, 5036.647043311827, 4565.345987080768, 4385.623314847183, 4002.762779220998, 3833.405416542379, 4151.242953839213, 3504.2616727898417, 3301.0699023279835, 3736.922835372806, 3167.13035832099, 2276.8001825816086, 2205.1383101308825, 2050.9230061226735, 1845.5806349869586, 2728.7909981303083, 41264.860302958296, 11066.148077659122, 5281.064609226194, 3574.428571084722, 3919.7368594862023, 32437.584122424305, 5236.497741037902, 31195.00577874291, 9129.708825774085, 37065.39501274337, 20147.291937994494, 17448.630223434906, 15431.070430041698, 8866.284596071473, 7657.323355082013, 7494.834570667947, 7277.951456737278, 4322.189878159642, 4262.000839547507, 18275.6856025193, 3276.9254670917967, 1846.6851770237079, 8003.817105847713, 8003.812367252929, 8003.812367252929, 1740.2988374645088, 1540.6362212193285, 1369.4359745395698, 1300.7769939145996, 1128.5392911394893, 1112.3529177248952, 986.5136840535052, 917.3052485553119, 756.628680483654, 731.520569659862, 745.4830613102554, 659.6448976230627, 883.4468041804965, 647.8169948414236, 3111.9918639317616, 3111.9918639317616, 2973.993322006081, 3111.205553359921, 3280.279207549622, 1645.7761622694532, 17383.100196177733, 17383.100196177733, 17417.19201634562, 3274.574531754971, 3274.574531754971, 22560.890452233725, 24222.491012937076, 16086.634174445613, 14712.439094457306, 10195.071830046032, 8395.315252329272, 6571.263750892024, 7208.782496041886, 4547.987816362304, 4059.9394765559823, 7594.677975207165, 18785.327164158312, 2340.2967263845417, 2128.0209372335544, 2107.4655582652854, 1727.402748275007, 1393.000343623728, 2912.737652506139, 1260.7732522350188, 2863.670108982034, 2838.4337744440627, 2838.4337744440627, 2838.4337744440627, 2838.4337744440627, 2838.4337744440627, 2838.4337744440627, 941.3432992194914, 907.1815629019794, 874.3903482980878, 734.7245385495261, 843.758844290517, 4281.143988056844, 7093.071921494212, 3542.7542389260834, 5625.57976717863, 5493.913211364538, 5697.635444357767, 5464.1688239367095, 3225.537941210898, 3776.9318109323235, 2454.8988129968775, 3986.9633605825243], \"Total\": [74592.0, 60222.0, 67772.0, 37066.0, 50433.0, 41335.0, 48198.0, 60852.0, 24223.0, 36047.0, 33074.0, 40153.0, 36198.0, 18796.0, 20148.0, 53946.0, 27365.0, 18282.0, 21004.0, 16088.0, 17450.0, 19354.0, 19354.0, 14713.0, 21405.0, 196448.0, 15433.0, 32079.0, 21674.0, 24071.0, 60852.52036770792, 32079.784528785538, 25411.00204337326, 23675.659373015464, 22277.955354858193, 18880.385745782707, 17400.820475578847, 17307.262849301973, 17221.747266806924, 16495.079872070568, 15421.856562439198, 14671.3797978305, 13424.072411788859, 11693.786105746867, 11245.672859344171, 10526.10119790109, 9450.568835662667, 9179.969798706326, 7940.4904540298385, 7798.163923947549, 7399.591043547313, 7235.709798096574, 7466.572525220456, 7112.827128119152, 7113.973886806417, 6820.478237937143, 6374.568810231937, 6423.664720939822, 6237.835283125396, 6280.258753291749, 14077.510907425894, 10809.672989062627, 11823.263172522482, 6782.4629199551855, 15625.241430157874, 8382.692119808655, 15703.074929535243, 196448.54766030845, 53946.31071991117, 50433.13265541511, 48198.34685264877, 40153.05086155179, 36198.014910100006, 24071.016247853702, 19505.95371225069, 18613.3536432081, 17810.050408522682, 17670.967776455884, 15897.581461276455, 15515.309230602808, 15181.723594274263, 15028.195074971245, 14082.166115959153, 13667.964307207645, 12806.376087409279, 12291.466595875845, 11952.164436166096, 11734.757763937536, 11705.020072353913, 11687.270687503204, 11683.9095523204, 11643.077878452292, 10538.221337615914, 8227.50974839981, 8215.514735946477, 8138.46004008388, 8346.008622559782, 7090.388994440428, 7517.4330096957865, 67772.58531890594, 31343.057602015295, 53946.31071991117, 196448.54766030845, 36047.76124635854, 27365.11318468903, 21674.860025327678, 20213.85883449142, 17103.895579400454, 17197.231721622516, 15958.235817044364, 15442.536791528448, 15073.446283086, 18245.077905156646, 14786.500628521524, 12648.154031084665, 11396.807321131608, 10850.079792834378, 10629.220795491352, 10365.374827278316, 10169.551825388915, 9912.779577129533, 9812.121747231256, 10009.067309536917, 9920.736279480325, 9910.2390717769, 9928.536366082542, 8477.613783295375, 8700.067955783034, 7487.0711293006025, 7326.293639812562, 7551.089759016594, 6796.220791174128, 6178.147929207267, 12459.015861434958, 28479.57085045406, 31343.057602015295, 196448.54766030845, 74592.94397966219, 60222.12023437471, 21405.706911100828, 19417.939002966912, 18018.172291453087, 15781.704566850503, 13218.766661113765, 10706.211225715455, 10021.485622968126, 8998.1908534746, 8506.550737833992, 8403.440601869643, 7570.479965067702, 6619.725156757415, 33074.51209875212, 5037.629781709082, 4566.327143187983, 4386.600974007229, 4003.7466686424573, 3834.385966832901, 4152.343397752799, 3505.2433680121703, 3302.0665677697316, 3738.069156794964, 3168.113535943594, 2277.783654927908, 2206.1236016146963, 2051.931578193625, 1846.5577901557353, 2730.3408911273664, 41335.26480323119, 11195.055194067714, 5304.055005849226, 3584.5439747537807, 3937.65483950617, 53946.31071991117, 5896.473106414254, 196448.54766030845, 28479.57085045406, 37066.97857982544, 20148.739854614778, 17450.074030310276, 15433.242391425618, 8867.847297492497, 7658.767207504822, 7496.279458641877, 7279.404985950029, 4323.647694002214, 4263.439935754749, 18282.47906675272, 3278.394576729778, 1848.1470977415045, 8010.408909773305, 8010.404636585042, 8010.404636585042, 1741.760564301387, 1542.1082728991973, 1370.8928906182568, 1302.2170373855815, 1130.0159930330885, 1113.8374643059485, 987.9653367155561, 918.7554104683944, 758.0870879214808, 732.9650096325801, 747.0326825756058, 661.0938167830424, 885.4081217477171, 649.2754470960882, 3121.457853984793, 3121.457853984793, 2981.968423901112, 3121.5629989247745, 3376.6743053211303, 1673.8820492217885, 19354.269689658315, 19354.269689658315, 21004.67020569458, 3762.8735146452127, 3762.8735146452127, 67772.58531890594, 24223.860682067032, 16088.0058464293, 14713.81394278425, 10196.633010632786, 8396.722302378828, 6572.693049876836, 7210.359749147518, 4549.392316690585, 4061.3138181843583, 7597.3260427968025, 18796.268363778854, 2341.672798273558, 2129.4204022748463, 2108.9055737785698, 1728.9399498580185, 1394.3776314146776, 2915.94961020857, 1262.1961117589422, 2867.3634945311014, 2842.2148771964444, 2842.2148771964444, 2842.2148771964444, 2842.2148771964444, 2842.2148771964444, 2842.2148771964444, 942.7082721470616, 908.5544830845377, 875.7589153819686, 736.0883227140715, 845.3733512894598, 4294.468242828769, 7213.021303798182, 3683.2217743229376, 6175.563591994607, 6128.273505739186, 6388.636522096069, 6144.284756419355, 3615.2647088819826, 5452.2171229305295, 5529.118716478267, 196448.54766030845], \"Category\": [\"Default\", \"Default\", \"Default\", \"Default\", \"Default\", \"Default\", \"Default\", \"Default\", \"Default\", \"Default\", \"Default\", \"Default\", \"Default\", \"Default\", \"Default\", \"Default\", \"Default\", \"Default\", \"Default\", \"Default\", \"Default\", \"Default\", \"Default\", \"Default\", \"Default\", \"Default\", \"Default\", \"Default\", \"Default\", \"Default\", \"Topic1\", \"Topic1\", \"Topic1\", \"Topic1\", \"Topic1\", \"Topic1\", \"Topic1\", \"Topic1\", \"Topic1\", \"Topic1\", \"Topic1\", \"Topic1\", \"Topic1\", \"Topic1\", \"Topic1\", \"Topic1\", \"Topic1\", \"Topic1\", \"Topic1\", \"Topic1\", \"Topic1\", \"Topic1\", \"Topic1\", \"Topic1\", \"Topic1\", \"Topic1\", \"Topic1\", \"Topic1\", \"Topic1\", \"Topic1\", \"Topic1\", \"Topic1\", \"Topic1\", \"Topic1\", \"Topic1\", \"Topic1\", \"Topic1\", \"Topic1\", \"Topic1\", \"Topic2\", \"Topic2\", \"Topic2\", \"Topic2\", \"Topic2\", \"Topic2\", \"Topic2\", \"Topic2\", \"Topic2\", \"Topic2\", \"Topic2\", \"Topic2\", \"Topic2\", \"Topic2\", \"Topic2\", \"Topic2\", \"Topic2\", \"Topic2\", \"Topic2\", \"Topic2\", \"Topic2\", \"Topic2\", \"Topic2\", \"Topic2\", \"Topic2\", \"Topic2\", \"Topic2\", \"Topic2\", \"Topic2\", \"Topic2\", \"Topic2\", \"Topic2\", \"Topic2\", \"Topic2\", \"Topic3\", \"Topic3\", \"Topic3\", \"Topic3\", \"Topic3\", \"Topic3\", \"Topic3\", \"Topic3\", \"Topic3\", \"Topic3\", \"Topic3\", \"Topic3\", \"Topic3\", \"Topic3\", \"Topic3\", \"Topic3\", \"Topic3\", \"Topic3\", \"Topic3\", \"Topic3\", \"Topic3\", \"Topic3\", \"Topic3\", \"Topic3\", \"Topic3\", \"Topic3\", \"Topic3\", \"Topic3\", \"Topic3\", \"Topic3\", \"Topic3\", \"Topic3\", \"Topic3\", \"Topic3\", \"Topic4\", \"Topic4\", \"Topic4\", \"Topic4\", \"Topic4\", \"Topic4\", \"Topic4\", \"Topic4\", \"Topic4\", \"Topic4\", \"Topic4\", \"Topic4\", \"Topic4\", \"Topic4\", \"Topic4\", \"Topic4\", \"Topic4\", \"Topic4\", \"Topic4\", \"Topic4\", \"Topic4\", \"Topic4\", \"Topic4\", \"Topic4\", \"Topic4\", \"Topic4\", \"Topic4\", \"Topic4\", \"Topic4\", \"Topic4\", \"Topic4\", \"Topic4\", \"Topic4\", \"Topic4\", \"Topic4\", \"Topic4\", \"Topic4\", \"Topic4\", \"Topic4\", \"Topic5\", \"Topic5\", \"Topic5\", \"Topic5\", \"Topic5\", \"Topic5\", \"Topic5\", \"Topic5\", \"Topic5\", \"Topic5\", \"Topic5\", \"Topic5\", \"Topic5\", \"Topic5\", \"Topic5\", \"Topic5\", \"Topic5\", \"Topic5\", \"Topic5\", \"Topic5\", \"Topic5\", \"Topic5\", \"Topic5\", \"Topic5\", \"Topic5\", \"Topic5\", \"Topic5\", \"Topic5\", \"Topic5\", \"Topic5\", \"Topic5\", \"Topic5\", \"Topic5\", \"Topic5\", \"Topic5\", \"Topic5\", \"Topic5\", \"Topic5\", \"Topic5\", \"Topic5\", \"Topic5\", \"Topic5\", \"Topic6\", \"Topic6\", \"Topic6\", \"Topic6\", \"Topic6\", \"Topic6\", \"Topic6\", \"Topic6\", \"Topic6\", \"Topic6\", \"Topic6\", \"Topic6\", \"Topic6\", \"Topic6\", \"Topic6\", \"Topic6\", \"Topic6\", \"Topic6\", \"Topic6\", \"Topic6\", \"Topic6\", \"Topic6\", \"Topic6\", \"Topic6\", \"Topic6\", \"Topic6\", \"Topic6\", \"Topic6\", \"Topic6\", \"Topic6\", \"Topic6\", \"Topic6\", \"Topic6\", \"Topic6\", \"Topic6\", \"Topic6\", \"Topic6\", \"Topic6\", \"Topic6\", \"Topic6\", \"Topic6\"], \"logprob\": [30.0, 29.0, 28.0, 27.0, 26.0, 25.0, 24.0, 23.0, 22.0, 21.0, 20.0, 19.0, 18.0, 17.0, 16.0, 15.0, 14.0, 13.0, 12.0, 11.0, 10.0, 9.0, 8.0, 7.0, 6.0, 5.0, 4.0, 3.0, 2.0, 1.0, -3.0119, -3.6521, -3.8852, -3.9559, -4.0168, -4.1822, -4.2639, -4.2692, -4.2742, -4.3173, -4.3846, -4.4345, -4.5233, -4.6614, -4.7004, -4.7666, -4.8744, -4.9034, -5.0485, -5.0666, -5.1191, -5.1415, -5.1101, -5.1586, -5.1584, -5.2006, -5.2682, -5.2605, -5.2899, -5.2831, -4.476, -4.7402, -4.6523, -5.2064, -4.3871, -4.9996, -4.4643, -2.2751, -5.0562, -2.8479, -2.8932, -3.0759, -3.1796, -3.5876, -3.7979, -3.8447, -3.8889, -3.8967, -4.0025, -4.0268, -4.0485, -4.0587, -4.1237, -4.1536, -4.2187, -4.2598, -4.2878, -4.3061, -4.3087, -4.3102, -4.3105, -4.314, -4.4137, -4.6612, -4.6627, -4.6721, -4.6469, -4.81, -4.7515, -2.9572, -3.8966, -4.1563, -3.8803, -2.991, -3.2666, -3.4998, -3.5696, -3.7366, -3.7312, -3.806, -3.8388, -3.863, -3.672, -3.8822, -4.0385, -4.1426, -4.1918, -4.2124, -4.2375, -4.2566, -4.2822, -4.2924, -4.2725, -4.2814, -4.2824, -4.2806, -4.4386, -4.4127, -4.5629, -4.5846, -4.5544, -4.6597, -4.7551, -4.06, -3.6132, -3.9606, -3.7923, -2.1269, -2.3409, -3.3753, -3.4728, -3.5476, -3.6802, -3.8574, -4.0682, -4.1343, -4.242, -4.2982, -4.3104, -4.4148, -4.5491, -2.9404, -4.8222, -4.9205, -4.9606, -5.052, -5.0952, -5.0156, -5.185, -5.2447, -5.1207, -5.2861, -5.6162, -5.6482, -5.7207, -5.8262, -5.4351, -2.7189, -4.0351, -4.7748, -5.1652, -5.0729, -2.9596, -4.7833, -2.9987, -4.2274, -2.1494, -2.759, -2.9028, -3.0257, -3.5798, -3.7264, -3.7478, -3.7772, -4.2983, -4.3123, -2.8565, -4.5752, -5.1487, -3.6821, -3.6821, -3.6821, -5.208, -5.3299, -5.4477, -5.4991, -5.6411, -5.6556, -5.7756, -5.8484, -6.0409, -6.0747, -6.0558, -6.1781, -5.886, -6.1962, -4.6268, -4.6268, -4.6722, -4.627, -4.5741, -5.2638, -2.9066, -2.9066, -2.9046, -4.5759, -4.5759, -2.6458, -2.335, -2.7443, -2.8336, -3.2004, -3.3946, -3.6396, -3.547, -4.0076, -4.1211, -3.4948, -2.5892, -4.672, -4.7671, -4.7768, -4.9757, -5.1908, -4.4532, -5.2906, -4.4702, -4.479, -4.479, -4.479, -4.479, -4.479, -4.479, -5.5827, -5.6197, -5.6565, -5.8305, -5.6922, -4.0681, -3.5632, -4.2574, -3.795, -3.8186, -3.7822, -3.8241, -4.3512, -4.1934, -4.6242, -4.1393], \"loglift\": [30.0, 29.0, 28.0, 27.0, 26.0, 25.0, 24.0, 23.0, 22.0, 21.0, 20.0, 19.0, 18.0, 17.0, 16.0, 15.0, 14.0, 13.0, 12.0, 11.0, 10.0, 9.0, 8.0, 7.0, 6.0, 5.0, 4.0, 3.0, 2.0, 1.0, 1.1783, 1.1783, 1.1783, 1.1783, 1.1783, 1.1783, 1.1783, 1.1783, 1.1783, 1.1783, 1.1782, 1.1782, 1.1782, 1.1782, 1.1782, 1.1782, 1.1782, 1.1782, 1.1782, 1.1781, 1.1781, 1.1781, 1.1781, 1.1781, 1.1781, 1.1781, 1.1781, 1.1781, 1.1781, 1.1781, 1.1781, 1.1779, 1.1763, 1.1779, 1.1627, 1.1728, 1.0804, 0.7431, -0.7456, 1.5301, 1.5301, 1.53, 1.53, 1.53, 1.53, 1.53, 1.53, 1.53, 1.53, 1.53, 1.53, 1.53, 1.53, 1.53, 1.53, 1.53, 1.53, 1.53, 1.53, 1.53, 1.53, 1.53, 1.5299, 1.5299, 1.5299, 1.5299, 1.5299, 1.5299, 1.5299, 1.1253, 0.957, 0.1544, -0.8621, 1.7227, 1.7227, 1.7227, 1.7227, 1.7227, 1.7227, 1.7227, 1.7227, 1.7227, 1.7227, 1.7227, 1.7227, 1.7227, 1.7226, 1.7226, 1.7226, 1.7226, 1.7226, 1.7226, 1.7226, 1.7226, 1.7226, 1.7226, 1.7226, 1.7226, 1.7226, 1.7226, 1.7226, 1.7226, 1.7225, 1.7161, 1.3362, 0.8931, -0.7741, 1.8597, 1.8597, 1.8596, 1.8596, 1.8596, 1.8596, 1.8596, 1.8596, 1.8596, 1.8596, 1.8596, 1.8596, 1.8595, 1.8595, 1.8595, 1.8595, 1.8595, 1.8594, 1.8594, 1.8594, 1.8594, 1.8594, 1.8594, 1.8594, 1.8594, 1.8592, 1.8592, 1.8592, 1.8591, 1.8591, 1.858, 1.8481, 1.8553, 1.8568, 1.8551, 1.351, 1.741, 0.0195, 0.722, 2.5365, 2.5365, 2.5365, 2.5364, 2.5364, 2.5364, 2.5364, 2.5364, 2.5362, 2.5362, 2.5362, 2.5361, 2.5358, 2.5357, 2.5357, 2.5357, 2.5357, 2.5356, 2.5355, 2.5355, 2.5353, 2.5352, 2.5351, 2.535, 2.5346, 2.5346, 2.5345, 2.5344, 2.5344, 2.5343, 2.5335, 2.5335, 2.5339, 2.5332, 2.5076, 2.5196, 2.4292, 2.4292, 2.3493, 2.3976, 2.3976, 1.4366, 2.7763, 2.7763, 2.7763, 2.7762, 2.7762, 2.7761, 2.7761, 2.776, 2.776, 2.776, 2.7758, 2.7758, 2.7757, 2.7757, 2.7755, 2.7754, 2.7752, 2.7752, 2.7751, 2.775, 2.775, 2.775, 2.775, 2.775, 2.775, 2.7749, 2.7748, 2.7748, 2.7745, 2.7744, 2.7732, 2.7596, 2.7375, 2.6831, 2.6671, 2.6619, 2.659, 2.6623, 2.4092, 1.9644, -1.121]}, \"token.table\": {\"Topic\": [1, 2, 4, 6, 4, 5, 4, 2, 4, 1, 4, 5, 4, 6, 4, 1, 4, 1, 2, 3, 4, 5, 3, 4, 2, 4, 4, 5, 4, 2, 4, 2, 4, 1, 4, 2, 4, 1, 2, 4, 6, 4, 6, 4, 5, 4, 5, 4, 6, 3, 4, 1, 4, 4, 5, 1, 4, 2, 3, 4, 1, 2, 4, 6, 4, 5, 1, 4, 1, 2, 3, 4, 6, 2, 4, 2, 4, 5, 1, 2, 4, 6, 1, 4, 5, 4, 5, 2, 4, 1, 4, 3, 4, 2, 4, 4, 3, 4, 5, 2, 4, 2, 4, 2, 4, 6, 2, 4, 1, 4, 4, 5, 4, 5, 2, 4, 3, 4, 1, 4, 4, 6, 2, 4, 2, 4, 3, 4, 2, 4, 3, 4, 1, 2, 3, 4, 5, 1, 2, 3, 4, 5, 6, 4, 5, 1, 2, 4, 1, 2, 3, 4, 5, 6, 4, 5, 4, 4, 5, 4, 5, 4, 6, 3, 4, 4, 6, 3, 4, 1, 2, 3, 4, 5, 6, 3, 4, 1, 4, 1, 4, 3, 4, 4, 1, 2, 4, 6, 1, 4, 3, 4, 1, 2, 4, 3, 4, 1, 4, 4, 6, 1, 4, 4, 5, 2, 4, 2, 4, 3, 4, 4, 6, 1, 4, 1, 4, 4, 4, 6, 2, 4, 4, 1, 2, 3, 4, 6, 1, 4, 1, 4, 4, 2, 4, 2, 4, 1, 2, 4, 4, 5, 4, 1, 4, 2, 4, 3, 4, 1, 4, 1, 4, 1, 4, 6, 4, 6, 4, 4, 5, 3, 4, 1, 2, 3, 4, 5, 6, 4, 2, 4, 3, 4, 1, 4, 3, 4, 1, 4, 1, 4, 4, 4, 6, 1, 4, 5, 6, 3, 4, 1, 2, 4, 6, 4, 5, 3, 4, 2, 4, 1, 2, 3, 4, 5, 6, 2, 4, 1, 4, 5, 6, 4, 6, 2, 4, 3, 4, 5, 1, 2, 3, 4, 4, 5, 3, 4, 3, 4, 3, 4, 4, 1, 4, 1, 2, 3, 4, 5, 4, 4, 6, 1, 2, 4, 5, 1, 4, 1, 2, 3, 4, 5, 1, 2, 3, 4, 5, 6, 1, 4, 1, 2, 4, 4, 1, 2, 3, 4, 5, 4, 6, 4, 4, 5, 1, 2, 3, 4, 5, 1, 2, 4, 6, 1, 4, 5, 6, 1, 4, 4, 4, 5, 4, 1, 2, 3, 4, 5, 2, 4, 4, 6, 3, 4, 3, 4, 1, 4, 5, 3, 4, 4, 5, 4, 2, 4, 1, 4, 2, 4, 1, 2, 4, 6, 3, 4, 3, 4, 1, 4, 1, 2, 3, 4, 5, 4, 5, 4, 4, 6, 1, 2, 3, 4, 6, 4, 2, 4, 2, 4, 5, 1, 2, 3, 4, 5, 4, 5, 3, 4, 4, 6, 3, 4, 4, 2, 4, 4, 6, 4, 3, 4, 4, 3, 4, 3, 4, 1, 2, 4, 6, 4, 6, 1, 2, 3, 4, 6, 4, 5, 1, 4, 4, 4, 4, 5, 4, 1, 2, 4, 1, 4, 1, 4, 4, 5, 4, 6, 3, 4, 6, 1, 2, 4, 2, 4, 1, 2, 3, 4], \"Freq\": [0.0003487524347391922, 0.0006975048694783844, 0.0003487524347391922, 0.9988269730930465, 0.9998031082444185, 0.00015117380976237125, 0.9998045084229096, 0.9999025752889934, 8.36668542623206e-05, 0.00032818306412893395, 5.4697177354822324e-05, 0.9996456133367327, 0.0004741795993304144, 0.9990964157891833, 0.9996979297595185, 0.9999270335631365, 5.777921146210196e-05, 0.012762041862627398, 5.1668185678653436e-05, 0.0012400364562876825, 0.08778424746803219, 0.8981480716520327, 0.9997232506719843, 0.00013243121614412296, 0.9998365656365407, 8.558779024452497e-05, 0.0005741317265390585, 0.9989892041779617, 0.9996485176648626, 0.9999443364475922, 2.7625824302342584e-05, 0.9998886435377634, 5.658999623848341e-05, 0.9999345336864723, 6.0624138091819596e-05, 0.9998041018001245, 0.00014103598558331564, 0.00035183828218730536, 0.0007036765643746107, 0.00035183828218730536, 0.9985170448475725, 6.79633440988566e-05, 0.9998767183823783, 0.00023455238377199556, 0.9996622596362451, 0.00013737386529944396, 0.999806991649353, 0.0002462257399372939, 0.9996765041454133, 0.9999087589317912, 7.906292076633125e-05, 0.9999443721704572, 3.117227919977733e-05, 0.0008977970593071381, 0.9983503299495375, 0.9999750155342995, 1.6433173087283682e-05, 0.5637931124774435, 0.43617314473878843, 3.190499193466377e-05, 0.00035183828218730536, 0.0007036765643746107, 0.00035183828218730536, 0.9985170448475725, 0.0008849432274988328, 0.9991009038461823, 0.9997431220967077, 0.00014059107328036953, 0.6471363698744506, 0.09143361055058154, 0.08234217148793047, 0.1587947601116463, 0.020295390561472476, 0.9998806817832189, 8.135725645103489e-05, 0.6670838922148681, 1.4755228759452955e-05, 0.3328927160420181, 0.00035183828218730536, 0.0007036765643746107, 0.00035183828218730536, 0.9985170448475725, 0.9994894303152035, 0.00014743906628045486, 0.0002948781325609097, 0.0013386295182591182, 0.9972789911030431, 0.9998093751292578, 0.00013302413186924665, 0.9999299122787112, 4.223747200636611e-05, 0.9999283767502553, 5.814889373983806e-05, 0.9999410215862062, 5.6148072412050435e-05, 0.9999553554657218, 0.9934171476826812, 8.02631613220232e-05, 0.00650131606708388, 0.9998562838500676, 7.316378485658332e-05, 0.0016934692527850474, 0.9983001245167855, 0.0027942924062923312, 0.00023285770052436093, 0.9968638159447892, 0.9999005218950878, 6.29026498424187e-05, 0.9997057820474419, 0.00016031202406148844, 0.0007679211462381626, 0.9990654112558496, 5.730634714001951e-05, 0.9999384512462004, 0.99991285172109, 8.543342888936175e-05, 0.9998249848165084, 0.00010079897013978309, 0.9998953840666752, 9.500193672842521e-05, 0.0011829093009315776, 0.9983754499862516, 0.9999720560405757, 2.074759956098047e-05, 0.9998156249492378, 0.00012172091854750887, 0.9999141851285082, 4.6136399443017034e-05, 0.9999171920037336, 7.101180257110529e-05, 0.9998474047415697, 9.833275026962723e-05, 0.0012814093456956673, 0.0003203523364239168, 0.0009610570092717504, 0.0003203523364239168, 0.9966161186148051, 0.011131558866703528, 0.0016290086146395408, 0.007330538765877933, 0.01791909476103495, 0.0002715014357732568, 0.9619295869446488, 0.0007294515908890676, 0.9986192279271335, 0.14603408268088092, 0.2526586122036566, 0.6013015453163766, 0.029956780015967417, 0.014573568656416581, 0.044044563050503444, 0.00048578562188055267, 0.0001619285406268509, 0.9110099695666631, 0.0001333995091187773, 0.9998293208452359, 0.9996769999187352, 0.0005410824718562891, 0.999379325518566, 0.0006484628982114064, 0.9992813261437773, 0.0004270451451361047, 0.999285639618485, 0.9998851472262322, 9.408027354405647e-05, 0.00011909408981129406, 0.9997948839658136, 0.9999593210274148, 3.654287827172251e-05, 0.019842008420657593, 0.0026653444147151993, 0.0002961493794127999, 0.005626838208843198, 0.9713699644739837, 0.0002961493794127999, 0.9999511413109263, 2.774097379212468e-05, 0.9999266039475376, 5.2965019542747905e-05, 0.999789391288286, 0.0001339302600520142, 0.9998569361393655, 0.00013356357682866224, 0.9996764723858036, 0.00035183828218730536, 0.0007036765643746107, 0.00035183828218730536, 0.9985170448475725, 0.999920112782771, 7.449304274623936e-05, 0.9998861114670243, 5.4809302826674574e-05, 0.9945492308251805, 0.005368203836767798, 0.00011929341859483994, 0.6793992824400833, 0.320580673351489, 0.9997995698360217, 0.00015922910811212322, 0.00021980957683760303, 0.9996939554574186, 0.9998512441749734, 8.892309179784537e-05, 0.0010121812606548046, 0.999022904266292, 0.9999074232377775, 8.588794221248733e-05, 0.999820599956664, 0.00012287336855802678, 0.9998452575459369, 0.0001007197801496864, 0.0007171658361913348, 0.9990120098145293, 0.9998796148549508, 6.484303598281134e-05, 0.999763700017789, 0.00013820344208153015, 0.9998904551563331, 0.0007922699101064755, 0.9990523566442656, 0.9997593313581833, 0.00011981775303909195, 0.9999516425009488, 0.09521043102515886, 0.0003255057470945602, 0.014810511492802488, 0.0003255057470945602, 0.8892817010623384, 0.9997849822324031, 0.0001351426037080837, 0.999895379899965, 5.7468554508877806e-05, 0.9999515418186089, 0.9999156168540795, 6.445246982429286e-05, 0.9998998402088146, 5.126639869815497e-05, 0.0035821649622877413, 0.0005656049940454328, 0.995653324517977, 2.6978190246784053e-05, 0.9999466214970509, 0.9999873449201516, 0.9999059530971516, 6.815991500321414e-05, 0.9999738286000879, 2.4904707825266184e-05, 0.999898513613246, 6.762925354164667e-05, 0.9998985430003208, 5.806611747969342e-05, 0.9997832647674293, 0.00014661728475838528, 0.0001316252579350761, 0.0001316252579350761, 0.9996938340169028, 0.0011006494586928957, 0.9982890590344564, 0.9994906896359416, 0.00011276693953478015, 0.9997916859153608, 0.9998414186464084, 8.774387175484057e-05, 0.03429900988864157, 0.0030426541030246553, 0.060023267305122745, 0.0002766049184567868, 0.010234381982901114, 0.8923274669415944, 0.9998629977946958, 0.9998841040079928, 9.489267381683523e-05, 0.9998891726512446, 5.8466212878683464e-05, 0.9999122291598557, 4.4887422749140584e-05, 0.9998234250664576, 0.00013649466553808295, 0.999850743847026, 0.0001282353140755452, 0.00036625463261735677, 0.9995088924127665, 0.9996452833992878, 9.807158882321506e-05, 0.9998398480526774, 0.00012483757212193304, 0.00012483757212193304, 0.9991999272639521, 0.0006241878606096652, 0.9998096418005553, 0.00011795772083536519, 0.00035183828218730536, 0.0007036765643746107, 0.00035183828218730536, 0.9985170448475725, 0.0013643216072500909, 0.9986834165070666, 0.9999080415814398, 4.947100937964772e-05, 0.9999272756949636, 5.3724869745055e-05, 0.07294201170911326, 0.005165421430044501, 0.02958377728116396, 0.00031305584424512126, 0.00015652792212256063, 0.8918961002543504, 0.9998912759413913, 8.556317610314832e-05, 0.0001248376387171267, 0.0001248376387171267, 0.999200460291882, 0.0006241881935856334, 0.0011418667654257825, 0.9979915529821339, 0.9999775414423917, 1.9828234879489048e-05, 6.479519822455318e-05, 6.479519822455318e-05, 0.9998547038030801, 0.011254969074807929, 8.932515138736452e-05, 0.00017865030277472904, 0.9884721252525758, 0.001319109658946698, 0.9985660118226504, 0.9999004806549818, 9.216522081804607e-05, 0.9997623057896164, 0.00011494163092545601, 0.9998749705463283, 0.00010090573928209994, 0.9998285699943756, 0.997947844671269, 0.001945317436006372, 0.11480587862404715, 0.003986315230001637, 0.010098665249337481, 0.0007972630460003274, 0.8703454918836908, 0.99971398153696, 0.0005783890875343129, 0.9988779541717584, 0.9997506016902432, 7.103528504264908e-05, 7.103528504264908e-05, 0.00014207057008529817, 0.9997225338695609, 0.00014056841027412274, 0.0012814525094079605, 0.0003203631273519901, 0.0009610893820559703, 0.0003203631273519901, 0.9969700523193932, 0.03410422198099833, 0.01794959051631491, 0.050422031541284607, 0.000815890478014314, 0.0001631780956028628, 0.8965004572421282, 0.9998339956366704, 0.00010581373644159915, 0.9995677030130925, 0.00027752920953625894, 9.250973651208631e-05, 0.9998676563440372, 0.0010060468702332195, 0.0003353489567444065, 0.000670697913488813, 0.0003353489567444065, 0.9973277973578648, 0.00013868933517751733, 0.9998114172947224, 0.9999349383814227, 0.00013056931656312787, 0.9997692569238701, 0.018757733215596147, 4.760845993806129e-05, 0.0014758622580799, 0.1505379503241498, 0.8291965467412135, 0.0003429414543032768, 0.0003429414543032768, 0.0003429414543032768, 0.9989884563854452, 0.0001248376387171267, 0.0001248376387171267, 0.999200460291882, 0.0006241881935856334, 0.9997854242715914, 0.00010893282025186221, 0.9999669755778792, 0.001540178370324247, 0.998035583970112, 0.9999352572093008, 0.0012814525094079605, 0.0003203631273519901, 0.0009610893820559703, 0.0003203631273519901, 0.9969700523193932, 0.9998925466970604, 7.808610282679113e-05, 0.0001521446372760004, 0.9997424115405986, 0.9998141952539141, 0.00016186080544826196, 0.9998673634768424, 9.647504471988058e-05, 0.906701398540763, 6.36817950934656e-05, 0.09316646622174016, 0.999900483220523, 6.475619993656648e-05, 4.9630895391751484e-05, 0.9999136494576171, 0.9996385426910881, 0.9999577812651016, 4.154373831595769e-05, 0.9999212135212203, 3.935303292224095e-05, 0.999920477810856, 6.654159032480575e-05, 0.00035183828218730536, 0.0007036765643746107, 0.00035183828218730536, 0.9985170448475725, 0.9998204764752725, 0.00010087987856677152, 0.9998203720550525, 0.00014714059927226674, 0.9997538954745584, 0.0001568733556369933, 0.11480587862404715, 0.003986315230001637, 0.010098665249337481, 0.0007972630460003274, 0.8703454918836908, 0.0010884289644511437, 0.9980893604016988, 0.9995459993873457, 0.0013585326232494021, 0.9985214780883105, 0.27860225771484826, 0.002017527870219441, 0.025127392565460312, 0.0014672929965232299, 0.6927457059835299, 0.9999420020692233, 0.9998864691308889, 6.586867385578979e-05, 0.016130168796871132, 0.0005974136591433753, 0.9833428829499956, 0.012762041862627398, 5.1668185678653436e-05, 0.0012400364562876825, 0.08778424746803219, 0.8981480716520327, 0.00023128618952631249, 0.9996189111327226, 0.9998856774039139, 0.00010191475664090449, 0.0004696113547760256, 0.9993329629633825, 0.9999040509344156, 6.634182928174201e-05, 0.9998135075207667, 0.9998164999561253, 0.00012154345975639743, 0.0010607735495122513, 0.9981879100910286, 0.9999813982906887, 0.0025107796314922325, 0.9970584892170266, 0.9997093630950287, 0.9999225592942396, 6.266356829568462e-05, 0.9997934563258509, 9.990940904625272e-05, 0.0018022960771174419, 0.0018022960771174419, 0.012893348859378623, 0.9833604673072319, 4.128161126439692e-05, 0.9999231880462222, 0.506952399420599, 0.04214053123974298, 0.0065109833675139365, 0.00018086064909760935, 0.44401289353463097, 0.00030502734695147865, 0.9995746159599956, 0.9998472602687688, 8.551550293095868e-05, 0.9996559572608168, 0.999874984519234, 0.0011294226644613205, 0.9972802127193461, 0.9998868670073924, 0.003301457474020338, 0.0010158330689293347, 0.9955164075507481, 0.9998122969810911, 0.00012593680526276497, 0.9997408456057186, 0.00015567437645682322, 0.0015126446120251338, 0.9983454439365883, 6.215810769499117e-05, 0.999937478489323, 0.0005320204950505172, 5.320204950505171e-05, 0.9994004999523964, 0.9844327890071254, 0.01548776069039945, 6.39990111173531e-05, 0.9998502087582125, 8.521692736369322e-05, 0.10904823754738012, 0.0010175574265696434, 0.001695929044282739, 0.8879884475864422], \"Term\": [\"ability\", \"ability\", \"ability\", \"ability\", \"action\", \"action\", \"actively\", \"activist\", \"activist\", \"ad\", \"ad\", \"ad\", \"add\", \"add\", \"admit\", \"amp\", \"amp\", \"amy_coney\", \"amy_coney\", \"amy_coney\", \"amy_coney\", \"amy_coney\", \"argue\", \"argue\", \"assessment\", \"assessment\", \"believe\", \"believe\", \"biden\", \"big\", \"big\", \"board\", \"board\", \"break\", \"break\", \"buck\", \"buck\", \"buildings_california\", \"buildings_california\", \"buildings_california\", \"buildings_california\", \"business\", \"business\", \"call\", \"call\", \"capture\", \"capture\", \"car\", \"car\", \"carbon\", \"carbon\", \"case\", \"case\", \"chance\", \"chance\", \"change\", \"change\", \"chevron\", \"chevron\", \"chevron\", \"china_propose\", \"china_propose\", \"china_propose\", \"china_propose\", \"choice\", \"choice\", \"claim\", \"claim\", \"climate\", \"climate\", \"climate\", \"climate\", \"climate\", \"commit\", \"commit\", \"company\", \"company\", \"company\", \"conoco_rating\", \"conoco_rating\", \"conoco_rating\", \"conoco_rating\", \"conservative\", \"conservative\", \"conservative\", \"conspiracy\", \"conspiracy\", \"corporation\", \"corporation\", \"court\", \"court\", \"crisis\", \"crisis\", \"cut\", \"cut\", \"dark\", \"datum\", \"datum\", \"datum\", \"day\", \"day\", \"decade\", \"decade\", \"defeat\", \"defeat\", \"defeat\", \"demand\", \"demand\", \"denial\", \"denial\", \"direct\", \"direct\", \"director\", \"director\", \"ecocide\", \"ecocide\", \"ecuador\", \"ecuador\", \"elect\", \"elect\", \"electric\", \"electric\", \"emission\", \"emission\", \"end\", \"end\", \"energy\", \"energy\", \"enough\", \"enough\", \"era\", \"era\", \"essential\", \"essential\", \"essential\", \"essential\", \"essential\", \"exchange\", \"exchange\", \"exchange\", \"exchange\", \"exchange\", \"exchange\", \"executive\", \"executive\", \"exxon\", \"exxon\", \"exxon\", \"exxononce\", \"exxononce\", \"exxononce\", \"exxononce\", \"exxononce\", \"exxononce\", \"face\", \"face\", \"family\", \"federal\", \"federal\", \"finally\", \"finally\", \"fire\", \"fire\", \"firm\", \"firm\", \"former\", \"former\", \"fossil\", \"fossil\", \"french\", \"french\", \"french\", \"french\", \"french\", \"french\", \"fuel\", \"fuel\", \"fund\", \"fund\", \"funding\", \"funding\", \"future\", \"future\", \"fyi\", \"germany_earmark\", \"germany_earmark\", \"germany_earmark\", \"germany_earmark\", \"giant\", \"giant\", \"give\", \"give\", \"global\", \"global\", \"global\", \"go\", \"go\", \"goal\", \"goal\", \"going\", \"going\", \"good\", \"good\", \"government\", \"government\", \"green\", \"green\", \"half\", \"half\", \"halve\", \"halve\", \"harm\", \"harm\", \"hear\", \"hear\", \"help\", \"help\", \"here\", \"high\", \"high\", \"history\", \"history\", \"hold\", \"holding_bank\", \"holding_bank\", \"holding_bank\", \"holding_bank\", \"holding_bank\", \"huge\", \"huge\", \"industry\", \"industry\", \"interest\", \"investment\", \"investment\", \"investor\", \"investor\", \"invite\", \"invite\", \"invite\", \"involve\", \"involve\", \"job\", \"judge\", \"judge\", \"know\", \"know\", \"large\", \"large\", \"law\", \"law\", \"leader\", \"leader\", \"lee_raymond\", \"lee_raymond\", \"lee_raymond\", \"legal\", \"legal\", \"legislation\", \"liberal\", \"liberal\", \"likely\", \"likely\", \"lobby_organization\", \"lobby_organization\", \"lobby_organization\", \"lobby_organization\", \"lobby_organization\", \"lobby_organization\", \"lobbyist\", \"long\", \"long\", \"lose\", \"lose\", \"major\", \"major\", \"make\", \"make\", \"mean\", \"mean\", \"medium\", \"medium\", \"meeting\", \"member\", \"member\", \"microtargeting\", \"microtargeting\", \"microtargeting\", \"microtargeting\", \"much\", \"much\", \"multiministry\", \"multiministry\", \"multiministry\", \"multiministry\", \"name\", \"name\", \"need\", \"need\", \"new\", \"new\", \"nextera\", \"nextera\", \"nextera\", \"nextera\", \"nextera\", \"nextera\", \"nowexxon\", \"nowexxon\", \"nyu_project\", \"nyu_project\", \"nyu_project\", \"nyu_project\", \"official\", \"official\", \"oil\", \"oil\", \"order\", \"order\", \"order\", \"overdue\", \"overdue\", \"overdue\", \"overdue\", \"own\", \"own\", \"people\", \"people\", \"planet\", \"planet\", \"planetdutch\", \"planetdutch\", \"play\", \"point\", \"point\", \"policymaker\", \"policymaker\", \"policymaker\", \"policymaker\", \"policymaker\", \"polluter\", \"practice\", \"practice\", \"previous\", \"previous\", \"previous\", \"previous\", \"product\", \"product\", \"projects_technology\", \"projects_technology\", \"projects_technology\", \"projects_technology\", \"projects_technology\", \"provider\", \"provider\", \"provider\", \"provider\", \"provider\", \"provider\", \"public\", \"public\", \"push\", \"push\", \"push\", \"question\", \"quietly_shelve\", \"quietly_shelve\", \"quietly_shelve\", \"quietly_shelve\", \"quietly_shelve\", \"quit\", \"quit\", \"re\", \"real\", \"real\", \"recuse\", \"recuse\", \"recuse\", \"recuse\", \"recuse\", \"regulate\", \"regulate\", \"regulate\", \"regulate\", \"regulation_report\", \"regulation_report\", \"regulation_report\", \"regulation_report\", \"renewable\", \"renewable\", \"report\", \"return\", \"return\", \"reveal\", \"reversing\", \"reversing\", \"reversing\", \"reversing\", \"reversing\", \"rise\", \"rise\", \"role\", \"role\", \"s\", \"s\", \"save\", \"save\", \"say\", \"say\", \"say\", \"seat\", \"seat\", \"see\", \"see\", \"share\", \"shareholder\", \"shareholder\", \"shell\", \"shell\", \"show\", \"show\", \"singapore_launche\", \"singapore_launche\", \"singapore_launche\", \"singapore_launche\", \"slam\", \"slam\", \"solar\", \"solar\", \"solution\", \"solution\", \"solutionsme\", \"solutionsme\", \"solutionsme\", \"solutionsme\", \"solutionsme\", \"speak\", \"speak\", \"spending\", \"station\", \"station\", \"stepping\", \"stepping\", \"stepping\", \"stepping\", \"stepping\", \"still\", \"strategy\", \"strategy\", \"strenuous_objection\", \"strenuous_objection\", \"strenuous_objection\", \"stricter_ethic\", \"stricter_ethic\", \"stricter_ethic\", \"stricter_ethic\", \"stricter_ethic\", \"sue\", \"sue\", \"support\", \"support\", \"sure\", \"sure\", \"take\", \"take\", \"target\", \"tell\", \"tell\", \"third\", \"third\", \"today\", \"toll\", \"toll\", \"truth\", \"try\", \"try\", \"turning\", \"turning\", \"twoand\", \"twoand\", \"twoand\", \"twoand\", \"use\", \"use\", \"valuable\", \"valuable\", \"valuable\", \"valuable\", \"valuable\", \"ve\", \"ve\", \"want\", \"want\", \"war\", \"watch\", \"weak\", \"weak\", \"well\", \"whatexxons_co\", \"whatexxons_co\", \"whatexxons_co\", \"win\", \"win\", \"wind\", \"wind\", \"word\", \"word\", \"work\", \"work\", \"world\", \"world\", \"world\", \"year\", \"year\", \"year\", \"yearly\", \"yearly\", \"young_engineer\", \"young_engineer\", \"young_engineer\", \"young_engineer\"]}, \"R\": 30, \"lambda.step\": 0.01, \"plot.opts\": {\"xlab\": \"PC1\", \"ylab\": \"PC2\"}, \"topic.order\": [2, 5, 6, 4, 1, 3]};\n",
       "\n",
       "function LDAvis_load_lib(url, callback){\n",
       "  var s = document.createElement('script');\n",
       "  s.src = url;\n",
       "  s.async = true;\n",
       "  s.onreadystatechange = s.onload = callback;\n",
       "  s.onerror = function(){console.warn(\"failed to load library \" + url);};\n",
       "  document.getElementsByTagName(\"head\")[0].appendChild(s);\n",
       "}\n",
       "\n",
       "if(typeof(LDAvis) !== \"undefined\"){\n",
       "   // already loaded: just create the visualization\n",
       "   !function(LDAvis){\n",
       "       new LDAvis(\"#\" + \"ldavis_el69681404976934464327170987061\", ldavis_el69681404976934464327170987061_data);\n",
       "   }(LDAvis);\n",
       "}else if(typeof define === \"function\" && define.amd){\n",
       "   // require.js is available: use it to load d3/LDAvis\n",
       "   require.config({paths: {d3: \"https://d3js.org/d3.v5\"}});\n",
       "   require([\"d3\"], function(d3){\n",
       "      window.d3 = d3;\n",
       "      LDAvis_load_lib(\"https://cdn.jsdelivr.net/gh/bmabey/pyLDAvis@3.3.1/pyLDAvis/js/ldavis.v3.0.0.js\", function(){\n",
       "        new LDAvis(\"#\" + \"ldavis_el69681404976934464327170987061\", ldavis_el69681404976934464327170987061_data);\n",
       "      });\n",
       "    });\n",
       "}else{\n",
       "    // require.js not available: dynamically load d3 & LDAvis\n",
       "    LDAvis_load_lib(\"https://d3js.org/d3.v5.js\", function(){\n",
       "         LDAvis_load_lib(\"https://cdn.jsdelivr.net/gh/bmabey/pyLDAvis@3.3.1/pyLDAvis/js/ldavis.v3.0.0.js\", function(){\n",
       "                 new LDAvis(\"#\" + \"ldavis_el69681404976934464327170987061\", ldavis_el69681404976934464327170987061_data);\n",
       "            })\n",
       "         });\n",
       "}\n",
       "</script>"
      ],
      "text/plain": [
       "PreparedData(topic_coordinates=              x         y  topics  cluster       Freq\n",
       "topic                                                \n",
       "1     -0.144736 -0.061881       1        1  30.778806\n",
       "4      0.177529 -0.135716       2        1  21.651686\n",
       "5     -0.158239 -0.233604       3        1  17.856816\n",
       "3     -0.081349 -0.032717       4        1  15.572393\n",
       "0      0.367867  0.094972       5        1   7.913725\n",
       "2     -0.161072  0.368946       6        1   6.226574, topic_info=                     Term          Freq          Total Category  logprob  \\\n",
       "125                   job  74592.000000   74592.000000  Default  30.0000   \n",
       "250                 today  60222.000000   60222.000000  Default  29.0000   \n",
       "4                 company  67772.000000   67772.000000  Default  28.0000   \n",
       "1788              involve  37066.000000   37066.000000  Default  27.0000   \n",
       "38                    oil  50433.000000   50433.000000  Default  26.0000   \n",
       "...                   ...           ...            ...      ...      ...   \n",
       "18150        holding_bank   5464.168824    6144.284756   Topic6  -3.8241   \n",
       "18124  lobby_organization   3225.537941    3615.264709   Topic6  -4.3512   \n",
       "17283            stepping   3776.931811    5452.217123   Topic6  -4.1934   \n",
       "9105             valuable   2454.898813    5529.118716   Topic6  -4.6242   \n",
       "2                 climate   3986.963361  196448.547660   Topic6  -4.1393   \n",
       "\n",
       "       loglift  \n",
       "125    30.0000  \n",
       "250    29.0000  \n",
       "4      28.0000  \n",
       "1788   27.0000  \n",
       "38     26.0000  \n",
       "...        ...  \n",
       "18150   2.6590  \n",
       "18124   2.6623  \n",
       "17283   2.4092  \n",
       "9105    1.9644  \n",
       "2      -1.1210  \n",
       "\n",
       "[259 rows x 6 columns], token_table=       Topic      Freq            Term\n",
       "term                                  \n",
       "3105       1  0.000349         ability\n",
       "3105       2  0.000698         ability\n",
       "3105       4  0.000349         ability\n",
       "3105       6  0.998827         ability\n",
       "0          4  0.999803          action\n",
       "...      ...       ...             ...\n",
       "483        4  0.000085          yearly\n",
       "17733      1  0.109048  young_engineer\n",
       "17733      2  0.001018  young_engineer\n",
       "17733      3  0.001696  young_engineer\n",
       "17733      4  0.887988  young_engineer\n",
       "\n",
       "[522 rows x 3 columns], R=30, lambda_step=0.01, plot_opts={'xlab': 'PC1', 'ylab': 'PC2'}, topic_order=[2, 5, 6, 4, 1, 3])"
      ]
     },
     "execution_count": 69,
     "metadata": {},
     "output_type": "execute_result"
    }
   ],
   "source": [
    "# Visualize the topics\n",
    "pyLDAvis.enable_notebook()\n",
    "vis = pyLDAvis.gensim_models.prepare(lda_model, corpus, id2word)\n",
    "vis"
   ]
  },
  {
   "cell_type": "markdown",
   "id": "12e69ee4-15d9-47c5-844d-117d707ab222",
   "metadata": {},
   "source": [
    "# The Following code are still being working on"
   ]
  },
  {
   "cell_type": "markdown",
   "id": "376f4e9e-9158-4afc-933d-8571b63db883",
   "metadata": {
    "jp-MarkdownHeadingCollapsed": true,
    "tags": []
   },
   "source": [
    "### Find the optimal number of topics"
   ]
  },
  {
   "cell_type": "code",
   "execution_count": 57,
   "id": "7ad00526-2503-4f3f-9f45-cbf49d3eb72e",
   "metadata": {},
   "outputs": [],
   "source": [
    "def compute_coherence_values(dictionary, corpus, texts, limit, start=2, step=3):\n",
    "    \"\"\"\n",
    "    Compute c_v coherence for various number of topics\n",
    "\n",
    "    Parameters:\n",
    "    ----------\n",
    "    dictionary : Gensim dictionary\n",
    "    corpus : Gensim corpus\n",
    "    texts : List of input texts\n",
    "    limit : Max num of topics\n",
    "\n",
    "    Returns:\n",
    "    -------\n",
    "    model_list : List of LDA topic models\n",
    "    coherence_values : Coherence values corresponding to the LDA model with respective number of topics\n",
    "    \"\"\"\n",
    "    coherence_values = []\n",
    "    model_list = []\n",
    "    for num_topics in range(start, limit, step):\n",
    "        model = gensim.models.ldamodel.LdaModel(corpus=corpus, num_topics=num_topics, id2word=id2word)\n",
    "        model_list.append(model)\n",
    "        coherencemodel = CoherenceModel(model=model, texts=texts, dictionary=dictionary, coherence='c_v')\n",
    "        coherence_values.append(coherencemodel.get_coherence())\n",
    "\n",
    "    return model_list, coherence_values"
   ]
  },
  {
   "cell_type": "code",
   "execution_count": 58,
   "id": "3900923d-71e3-48cc-9874-a5c45678b06e",
   "metadata": {},
   "outputs": [],
   "source": [
    "# Can take a long time to run.\n",
    "model_list, coherence_values = compute_coherence_values(dictionary=id2word, corpus=corpus, texts=tweet_lemmatized, start=2, limit=10, step=2)"
   ]
  },
  {
   "cell_type": "code",
   "execution_count": 59,
   "id": "3415d926-fdd9-4d0e-8d5e-7620b147d78b",
   "metadata": {},
   "outputs": [
    {
     "data": {
      "image/png": "[encoded data removed]",
      "text/plain": [
       "<Figure size 432x288 with 1 Axes>"
      ]
     },
     "metadata": {
      "needs_background": "light"
     },
     "output_type": "display_data"
    }
   ],
   "source": [
    "# Show graph\n",
    "limit=10; start=2; step=2;\n",
    "x = range(start, limit, step)\n",
    "plt.plot(x, coherence_values)\n",
    "plt.xlabel(\"Num Topics\")\n",
    "plt.ylabel(\"Coherence score\")\n",
    "plt.legend((\"coherence_values\"), loc='best')\n",
    "plt.show()"
   ]
  },
  {
   "cell_type": "code",
   "execution_count": 60,
   "id": "fa752331-e3ad-4d55-8b56-b4b5b2be33b2",
   "metadata": {},
   "outputs": [
    {
     "name": "stdout",
     "output_type": "stream",
     "text": [
      "Num Topics = 2  has Coherence Value of 0.461\n",
      "Num Topics = 4  has Coherence Value of 0.3805\n",
      "Num Topics = 6  has Coherence Value of 0.4317\n",
      "Num Topics = 8  has Coherence Value of 0.3603\n"
     ]
    }
   ],
   "source": [
    "# Print the coherence scores\n",
    "for m, cv in zip(x, coherence_values):\n",
    "    print(\"Num Topics =\", m, \" has Coherence Value of\", round(cv, 4))"
   ]
  },
  {
   "cell_type": "code",
   "execution_count": 61,
   "id": "6457081c-f856-4de7-854e-8b8bfca718ad",
   "metadata": {},
   "outputs": [
    {
     "name": "stdout",
     "output_type": "stream",
     "text": [
      "[(0,\n",
      "  '0.076*\"climate\" + 0.030*\"company\" + 0.026*\"shareholder\" + 0.024*\"go\" + '\n",
      "  '0.022*\"today\" + 0.019*\"break\" + 0.017*\"case\" + 0.014*\"change\" + '\n",
      "  '0.014*\"involve\" + 0.014*\"know\"'),\n",
      " (1,\n",
      "  '0.075*\"change\" + 0.073*\"activist\" + 0.044*\"law\" + 0.038*\"good\" + '\n",
      "  '0.038*\"board\" + 0.033*\"work\" + 0.022*\"business\" + 0.022*\"stand\" + '\n",
      "  '0.021*\"put\" + 0.021*\"exxon\"'),\n",
      " (2,\n",
      "  '0.119*\"point\" + 0.043*\"problem\" + 0.041*\"try\" + 0.041*\"capture\" + '\n",
      "  '0.035*\"week\" + 0.034*\"say\" + 0.029*\"blame\" + 0.026*\"mean\" + 0.026*\"report\" '\n",
      "  '+ 0.024*\"re\"'),\n",
      " (3,\n",
      "  '0.070*\"emission\" + 0.042*\"know\" + 0.040*\"end\" + 0.039*\"era\" + '\n",
      "  '0.038*\"turning\" + 0.038*\"halve\" + 0.038*\"ecuador\" + 0.038*\"slam\" + '\n",
      "  '0.038*\"planetdutch\" + 0.038*\"likely\"'),\n",
      " (4,\n",
      "  '0.061*\"climate\" + 0.053*\"emission\" + 0.051*\"oil\" + 0.047*\"cut\" + '\n",
      "  '0.039*\"shell\" + 0.038*\"chevron\" + 0.032*\"day\" + 0.025*\"director\" + '\n",
      "  '0.025*\"major\" + 0.024*\"elect\"'),\n",
      " (5,\n",
      "  '0.078*\"court\" + 0.066*\"fuel\" + 0.059*\"big\" + 0.052*\"fossil\" + '\n",
      "  '0.052*\"investor\" + 0.049*\"company\" + 0.041*\"demand\" + 0.040*\"enough\" + '\n",
      "  '0.033*\"climate\" + 0.030*\"tell\"')]\n"
     ]
    }
   ],
   "source": [
    "# Select the model and print the topics\n",
    "optimal_model = model_list[2]\n",
    "model_topics = optimal_model.show_topics(formatted=False)\n",
    "pprint(optimal_model.print_topics(num_words=10))"
   ]
  },
  {
   "cell_type": "markdown",
   "id": "45a55ce8-e7e1-49a3-b75a-d0274de33505",
   "metadata": {
    "jp-MarkdownHeadingCollapsed": true,
    "tags": []
   },
   "source": [
    "### Finding the dominant topic in each sentence"
   ]
  },
  {
   "cell_type": "code",
   "execution_count": 62,
   "id": "3d78407f-fd9f-4051-afaf-9ae1e492d546",
   "metadata": {},
   "outputs": [
    {
     "data": {
      "text/html": [
       "<div>\n",
       "<style scoped>\n",
       "    .dataframe tbody tr th:only-of-type {\n",
       "        vertical-align: middle;\n",
       "    }\n",
       "\n",
       "    .dataframe tbody tr th {\n",
       "        vertical-align: top;\n",
       "    }\n",
       "\n",
       "    .dataframe thead th {\n",
       "        text-align: right;\n",
       "    }\n",
       "</style>\n",
       "<table border=\"1\" class=\"dataframe\">\n",
       "  <thead>\n",
       "    <tr style=\"text-align: right;\">\n",
       "      <th></th>\n",
       "      <th>Document_No</th>\n",
       "      <th>Dominant_Topic</th>\n",
       "      <th>Topic_Perc_Contrib</th>\n",
       "      <th>Keywords</th>\n",
       "      <th>Text</th>\n",
       "    </tr>\n",
       "  </thead>\n",
       "  <tbody>\n",
       "    <tr>\n",
       "      <th>0</th>\n",
       "      <td>0</td>\n",
       "      <td>0.0</td>\n",
       "      <td>0.8979</td>\n",
       "      <td>climate, company, shareholder, go, today, break, case, change, involve, know</td>\n",
       "      <td>{'lang': 'und', 'id': '1477065589361315842', 'possibly_sensitive': False, 'author_id': '1460383957262880776', 'text': '@tjbabel @Catherine_LCP @SamBoik @Cernovich https://t.co/a5p9XOE7b9', 'referenced_tweets': [{'type': 'replied_to', 'id': '1477064685639782404', 'lang': 'en', 'possibly_sensitive': False, 'author_id': '1733391854', 'text': '@owen_lavine @Catherine_LCP @SamBoik @Cernovich Ever heard of the carbon cycle? Google it.', 'entities': {'annotations': [{'start': 80, 'end': 85, 'probability': 0.4095, 'type': 'Organization', 'normalized_text': 'Google'}], 'mentions': [{'start': 0, 'end': 12, 'username': 'owen_lavine', 'id': '1460383957262880776', 'verified': False, 'created_at': '2021-11-15T23:07:29.000Z', 'public_metrics': {'followers_count': 12, 'following_count': 245, 'tweet_count': 963, 'listed_count': 0}, 'name': 'Owen Lavine', 'description': 'Journalist - Cal Poly SLO ‘24 - LA', 'protected': False, 'url': '', 'profile_image_url': 'https://pbs.twimg.com/profile_images/1460384644122099713/ToEk8Ndb_normal.jpg', 'pinned_tweet_id': '1482061096068341760'}, {'start': 13, 'end': 27, 'username': 'Catherine_LCP', 'id': '825445747', 'verified': False, 'created_at': '2012-09-15T15:18:21.000Z', 'location': 'U.S.', 'public_metrics': {'followers_count': 2186, 'following_count': 1882, 'tweet_count': 129708, 'listed_count': 50}, 'name': 'Kate 🇮🇪🇬🇧🇮🇹🇪🇸🇫🇷🌲', 'description': 'Europa', 'protected': False, 'url': '', 'profile_image_url': 'https://pbs.twimg.com/profile_images/2618197959/rsa2briy8k244prjsjh2_normal.jpeg', 'pinned_tweet_id': '1474267145596985347'}, {'start': 28, 'end': 36, 'username': 'SamBoik', 'id': '347900663', 'verified': True, 'created_at': '2011-08-03T15:07:55.000Z', 'location': 'Denver, CO', 'public_metrics': {'followers_count': 7568, 'following_count': 693, 'tweet_count': 45370, 'listed_count': 102}, 'name': 'Sam Boik', 'description': '💛🏠 PIVOT Lending Group - Boulder 🏈 In-game Host Denver Broncos 🧡💙 Former NFL Cheer 📺 Former TV news anchor 🩰 Former ballerina 🐶🐶 Dog mama', 'protected': False, 'url': '', 'profile_image_url': 'https://pbs.twimg.com/profile_images/1496579962060554240/OxYCYuKG_normal.jpg'}, {'start': 37, 'end': 47, 'username': 'Cernovich', 'id': '358545917', 'verified': True, 'created_at': '2011-08-20T03:02:29.000Z', 'location': 'Orange County, California', 'public_metrics': {'followers_count': 856845, 'following_count': 3213, 'tweet_count': 173927, 'listed_count': 5509}, 'name': 'Cernovich', 'description': '“So what you’re saying is…”  No. Stop right there.   What I wrote is what I was “saying.”   The rest is you being drunk, or thinking you can read my mind.', 'protected': False, 'entities': {'url': {'urls': [{'start': 0, 'end': 23, 'url': 'https://t.co/eoO81wTCcf', 'expanded_url': 'http://Rokfin.com/Cernovich', 'display_url': 'Rokfin.com/Cernovich'}]}}, 'url': 'https://t.co/eoO81wTCcf', 'profile_image_url': 'https://pbs.twimg.com/profile_images/1505784612466790400/axCC6S4v_normal.jpg', 'pinned_tweet_id': '1506332763003109376'}]}, 'referenced_tweets': [{'type': 'replied_to', 'id': '1477006061253107714'}], 'created_at': '2021-12-31T23:50:38.000Z', 'source': 'Twitter for Android', 'in_reply_to_user_id': '1460383957262880776', 'reply_settings': 'everyone', 'conversation_id': '1476711967607853064', 'context_annotations': [{'domain': {'id': '46', 'name': 'Brand Category', 'description': 'Categories within Brand Verticals that narrow down the scope of Brands'}, 'entity': {'id': '781974596752842752', 'name': 'Services'}}, {'domain': {'id': '47', 'name': 'Brand', 'description': 'Brands and Companies'}, 'entity': {'id': '10026378521', 'name': 'Google '}}, {'domain': {'id': '48', 'name': 'Product', 'description': 'Products created by Brands.  Examples: Ford Explorer, Apple iPhone.'}, 'entity': {'id': '1395474411180892160', 'name': 'Google brand conversation'}}], 'public_metrics': {'retweet_count': 0, 'reply_count': 4, 'like_count': 0, 'quote_count': 0}, 'author': {'verified': False, 'created_at': '2013-09-05T23:29:42.000Z', 'public_metrics': {'followers_count': 962, 'following_count': 2446, 'tweet_count': 13001, 'listed_count': 3}, 'name': 'KJB', 'description': '⚠️ Mean tweets, keep off.\\n💯 BS intolerant.\\n⚫ Black alpha-male.', 'protected': False, 'username': 'tjbabel', 'url': '', 'profile_image_url': 'https://pbs.twimg.com/profile_images/1432232252172345346/02pzg9gO_normal.jpg', 'id': '1733391854', 'pinned_tweet_id': '1431747058206085120'}, 'in_reply_to_user': {'verified': False, 'created_at': '2021-11-15T23:07:29.000Z', 'public_metrics': {'followers_count': 12, 'following_count': 245, 'tweet_count': 963, 'listed_count': 0}, 'name': 'Owen Lavine', 'description': 'Journalist - Cal Poly SLO ‘24 - LA', 'protected': False, 'username': 'owen_lavine', 'url': '', 'profile_image_url': 'https://pbs.twimg.com/profile_images/1460384644122099713/ToEk8Ndb_normal.jpg', 'id': '1460383957262880776', 'pinned_tweet_id': '1482061096068341760'}}], 'created_at': '2021-12-31T23:54:13.000Z', 'source': 'Twitter for iPhone', 'entities': {'urls': [{'start': 44, 'end': 67, 'url': 'https://t.co/a5p9XOE7b9', 'expanded_url': 'https://unearthed.greenpeace.org/2021/06/30/exxon-climate-change-undercover/', 'display_url': 'unearthed.greenpeace.org/2021/06/30/exx…'}], 'mentions': [{'start': 0, 'end': 8, 'username': 'tjbabel', 'id': '1733391854', 'verified': False, 'created_at': '2013-09-05T23:29:42.000Z', 'public_metrics': {'followers_count': 962, 'following_count': 2446, 'tweet_count': 13001, 'listed_count': 3}, 'name': 'KJB', 'description': '⚠️ Mean tweets, keep off.\\n💯 BS intolerant.\\n⚫ Black alpha-male.', 'protected': False, 'url': '', 'profile_image_url': 'https://pbs.twimg.com/profile_images/1432232252172345346/02pzg9gO_normal.jpg', 'pinned_tweet_id': '1431747058206085120'}, {'start': 9, 'end': 23, 'username': 'Catherine_LCP', 'id': '825445747', 'verified': False, 'created_at': '2012-09-15T15:18:21.000Z', 'location': 'U.S.', 'public_metrics': {'followers_count': 2186, 'following_count': 1882, 'tweet_count': 129708, 'listed_count': 50}, 'name': 'Kate 🇮🇪🇬🇧🇮🇹🇪🇸🇫🇷🌲', 'description': 'Europa', 'protected': False, 'url': '', 'profile_image_url': 'https://pbs.twimg.com/profile_images/2618197959/rsa2briy8k244prjsjh2_normal.jpeg', 'pinned_tweet_id': '1474267145596985347'}, {'start': 24, 'end': 32, 'username': 'SamBoik', 'id': '347900663', 'verified': True, 'created_at': '2011-08-03T15:07:55.000Z', 'location': 'Denver, CO', 'public_metrics': {'followers_count': 7568, 'following_count': 693, 'tweet_count': 45370, 'listed_count': 102}, 'name': 'Sam Boik', 'description': '💛🏠 PIVOT Lending Group - Boulder 🏈 In-game Host Denver Broncos 🧡💙 Former NFL Cheer 📺 Former TV news anchor 🩰 Former ballerina 🐶🐶 Dog mama', 'protected': False, 'url': '', 'profile_image_url': 'https://pbs.twimg.com/profile_images/1496579962060554240/OxYCYuKG_normal.jpg'}, {'start': 33, 'end': 43, 'username': 'Cernovich', 'id': '358545917', 'verified': True, 'created_at': '2011-08-20T03:02:29.000Z', 'location': 'Orange County, California', 'public_metrics': {'followers_count': 856845, 'following_count': 3213, 'tweet_count': 173927, 'listed_count': 5509}, 'name': 'Cernovich', 'description': '“So what you’re saying is…”  No. Stop right there.   What I wrote is what I was “saying.”   The rest is you being drunk, or thinking you can read my mind.', 'protected': False, 'entities': {'url': {'urls': [{'start': 0, 'end': 23, 'url': 'https://t.co/eoO81wTCcf', 'expanded_url': 'http://Rokfin.com/Cernovich', 'display_url': 'Rokfin.com/Cernovich'}]}}, 'url': 'https://t.co/eoO81wTCcf', 'profile_image_url': 'https://pbs.twimg.com/profile_images/1505784612466790400/axCC6S4v_normal.jpg', 'pinned_tweet_id': '1506332763003109376'}]}, 'in_reply_to_user_id': '1733391854', 'reply_settings': 'everyone', 'conversation_id': '1476711967607853064', 'public_metrics': {'retweet_count': 0, 'reply_count': 0, 'like_count': 0, 'quote_count': 0}, 'author': {'verified': False, 'created_at': '2021-11-15T23:07:29.000Z', 'public_metrics': {'followers_count': 12, 'following_count': 245, 'tweet_count': 963, 'listed_count': 0}, 'name': 'Owen Lavine', 'description': 'Journalist - Cal Poly SLO ‘24 - LA', 'protected': False, 'username': 'owen_lavine', 'url': '', 'profile_image_url': 'https://pbs.twimg.com/profile_images/1460384644122099713/ToEk8Ndb_normal.jpg', 'id': '1460383957262880776', 'pinned_tweet_id': '1482061096068341760'}, 'in_reply_to_user': {'verified': False, 'created_at': '2013-09-05T23:29:42.000Z', 'public_metrics': {'followers_count': 962, 'following_count': 2446, 'tweet_count': 13001, 'listed_count': 3}, 'name': 'KJB', 'description': '⚠️ Mean tweets, keep off.\n",
       "💯 BS intolerant.\n",
       "⚫ Black alpha-male.', 'protected': False, 'username': 'tjbabel', 'url': '', 'profile_image_url': 'https://pbs.twimg.com/profile_images/1432232252172345346/02pzg9gO_normal.jpg', 'id': '1733391854', 'pinned_tweet_id': '1431747058206085120'}, '__twarc': {'url': 'https://api.twitter.com/2/tweets/search/all?expansions=author_id%2Cin_reply_to_user_id%2Creferenced_tweets.id%2Creferenced_tweets.id.author_id%2Centities.mentions.username%2Cattachments.poll_ids%2Cattachments.media_keys%2Cgeo.place_id&amp;tweet.fields=attachments%2Cauthor_id%2Ccontext_annotations%2Cconversation_id%2Ccreated_at%2Centities%2Cgeo%2Cid%2Cin_reply_to_user_id%2Clang%2Cpublic_metrics%2Ctext%2Cpossibly_sensitive%2Creferenced_tweets%2Creply_settings%2Csource%2Cwithheld&amp;user.fields=created_at%2Cdescription%2Centities%2Cid%2Clocation%2Cname%2Cpinned_tweet_id%2Cprofile_image_url%2Cprotected%2Cpublic_metrics%2Curl%2Cusername%2Cverified%2Cwithheld&amp;media.fields=alt_text%2Cduration_ms%2Cheight%2Cmedia_key%2Cpreview_image_url%2Ctype%2Curl%2Cwidth%2Cpublic_metrics&amp;poll.fields=duration_minutes%2Cend_datetime%2Cid%2Coptions%2Cvoting_status&amp;place.fields=contained_within%2Ccountry%2Ccountry_code%2Cfull_name%2Cgeo%2Cid%2Cname%2Cplace_type&amp;start_time=2021-01-01T00%3A00%3A00%2B00%3A00&amp;end_time=2022-01-01T00%3A00%3A00%2B00%3A00&amp;query=exxon+climate&amp;max_results=100', 'version': '...</td>\n",
       "    </tr>\n",
       "    <tr>\n",
       "      <th>1</th>\n",
       "      <td>1</td>\n",
       "      <td>0.0</td>\n",
       "      <td>0.7191</td>\n",
       "      <td>climate, company, shareholder, go, today, break, case, change, involve, know</td>\n",
       "      <td>{'lang': 'und', 'id': '1477064791499759617', 'possibly_sensitive': False, 'author_id': '1460383957262880776', 'text': '@tjbabel @Catherine_LCP @SamBoik @Cernovich https://t.co/BRBvadbSVr', 'referenced_tweets': [{'type': 'replied_to', 'id': '1477064479292592131', 'lang': 'en', 'possibly_sensitive': False, 'author_id': '1733391854', 'text': '@Catherine_LCP @owen_lavine @SamBoik @Cernovich Bra, that dude is heavily dense. Don't waste your time', 'referenced_tweets': [{'type': 'replied_to', 'id': '1477004124789133312'}], 'created_at': '2021-12-31T23:49:49.000Z', 'source': 'Twitter for Android', 'in_reply_to_user_id': '825445747', 'reply_settings': 'everyone', 'conversation_id': '1476711967607853064', 'entities': {'mentions': [{'start': 0, 'end': 14, 'username': 'Catherine_LCP', 'id': '825445747', 'verified': False, 'created_at': '2012-09-15T15:18:21.000Z', 'location': 'U.S.', 'public_metrics': {'followers_count': 2186, 'following_count': 1882, 'tweet_count': 129708, 'listed_count': 50}, 'name': 'Kate 🇮🇪🇬🇧🇮🇹🇪🇸🇫🇷🌲', 'description': 'Europa', 'protected': False, 'url': '', 'profile_image_url': 'https://pbs.twimg.com/profile_images/2618197959/rsa2briy8k244prjsjh2_normal.jpeg', 'pinned_tweet_id': '1474267145596985347'}, {'start': 15, 'end': 27, 'username': 'owen_lavine', 'id': '1460383957262880776', 'verified': False, 'created_at': '2021-11-15T23:07:29.000Z', 'public_metrics': {'followers_count': 12, 'following_count': 245, 'tweet_count': 963, 'listed_count': 0}, 'name': 'Owen Lavine', 'description': 'Journalist - Cal Poly SLO ‘24 - LA', 'protected': False, 'url': '', 'profile_image_url': 'https://pbs.twimg.com/profile_images/1460384644122099713/ToEk8Ndb_normal.jpg', 'pinned_tweet_id': '1482061096068341760'}, {'start': 28, 'end': 36, 'username': 'SamBoik', 'id': '347900663', 'verified': True, 'created_at': '2011-08-03T15:07:55.000Z', 'location': 'Denver, CO', 'public_metrics': {'followers_count': 7568, 'following_count': 693, 'tweet_count': 45370, 'listed_count': 102}, 'name': 'Sam Boik', 'description': '💛🏠 PIVOT Lending Group - Boulder 🏈 In-game Host Denver Broncos 🧡💙 Former NFL Cheer 📺 Former TV news anchor 🩰 Former ballerina 🐶🐶 Dog mama', 'protected': False, 'url': '', 'profile_image_url': 'https://pbs.twimg.com/profile_images/1496579962060554240/OxYCYuKG_normal.jpg'}, {'start': 37, 'end': 47, 'username': 'Cernovich', 'id': '358545917', 'verified': True, 'created_at': '2011-08-20T03:02:29.000Z', 'location': 'Orange County, California', 'public_metrics': {'followers_count': 856845, 'following_count': 3213, 'tweet_count': 173927, 'listed_count': 5509}, 'name': 'Cernovich', 'description': '“So what you’re saying is…”  No. Stop right there.   What I wrote is what I was “saying.”   The rest is you being drunk, or thinking you can read my mind.', 'protected': False, 'entities': {'url': {'urls': [{'start': 0, 'end': 23, 'url': 'https://t.co/eoO81wTCcf', 'expanded_url': 'http://Rokfin.com/Cernovich', 'display_url': 'Rokfin.com/Cernovich'}]}}, 'url': 'https://t.co/eoO81wTCcf', 'profile_image_url': 'https://pbs.twimg.com/profile_images/1505784612466790400/axCC6S4v_normal.jpg', 'pinned_tweet_id': '1506332763003109376'}]}, 'public_metrics': {'retweet_count': 0, 'reply_count': 2, 'like_count': 0, 'quote_count': 0}, 'author': {'verified': False, 'created_at': '2013-09-05T23:29:42.000Z', 'public_metrics': {'followers_count': 962, 'following_count': 2446, 'tweet_count': 13001, 'listed_count': 3}, 'name': 'KJB', 'description': '⚠️ Mean tweets, keep off.\\n💯 BS intolerant.\\n⚫ Black alpha-male.', 'protected': False, 'username': 'tjbabel', 'url': '', 'profile_image_url': 'https://pbs.twimg.com/profile_images/1432232252172345346/02pzg9gO_normal.jpg', 'id': '1733391854', 'pinned_tweet_id': '1431747058206085120'}, 'in_reply_to_user': {'verified': False, 'created_at': '2012-09-15T15:18:21.000Z', 'location': 'U.S.', 'public_metrics': {'followers_count': 2186, 'following_count': 1882, 'tweet_count': 129708, 'listed_count': 50}, 'name': 'Kate 🇮🇪🇬🇧🇮🇹🇪🇸🇫🇷🌲', 'description': 'Europa', 'protected': False, 'username': 'Catherine_LCP', 'url': '', 'profile_image_url': 'https://pbs.twimg.com/profile_images/2618197959/rsa2briy8k244prjsjh2_normal.jpeg', 'id': '825445747', 'pinned_tweet_id': '1474267145596985347'}}], 'created_at': '2021-12-31T23:51:03.000Z', 'source': 'Twitter for iPhone', 'entities': {'urls': [{'start': 44, 'end': 67, 'url': 'https://t.co/BRBvadbSVr', 'expanded_url': 'https://www.scientificamerican.com/article/exxon-knew-about-climate-change-almost-40-years-ago/', 'display_url': 'scientificamerican.com/article/exxon-…'}], 'mentions': [{'start': 0, 'end': 8, 'username': 'tjbabel', 'id': '1733391854', 'verified': False, 'created_at': '2013-09-05T23:29:42.000Z', 'public_metrics': {'followers_count': 962, 'following_count': 2446, 'tweet_count': 13001, 'listed_count': 3}, 'name': 'KJB', 'description': '⚠️ Mean tweets, keep off.\\n💯 BS intolerant.\\n⚫ Black alpha-male.', 'protected': False, 'url': '', 'profile_image_url': 'https://pbs.twimg.com/profile_images/1432232252172345346/02pzg9gO_normal.jpg', 'pinned_tweet_id': '1431747058206085120'}, {'start': 9, 'end': 23, 'username': 'Catherine_LCP', 'id': '825445747', 'verified': False, 'created_at': '2012-09-15T15:18:21.000Z', 'location': 'U.S.', 'public_metrics': {'followers_count': 2186, 'following_count': 1882, 'tweet_count': 129708, 'listed_count': 50}, 'name': 'Kate 🇮🇪🇬🇧🇮🇹🇪🇸🇫🇷🌲', 'description': 'Europa', 'protected': False, 'url': '', 'profile_image_url': 'https://pbs.twimg.com/profile_images/2618197959/rsa2briy8k244prjsjh2_normal.jpeg', 'pinned_tweet_id': '1474267145596985347'}, {'start': 24, 'end': 32, 'username': 'SamBoik', 'id': '347900663', 'verified': True, 'created_at': '2011-08-03T15:07:55.000Z', 'location': 'Denver, CO', 'public_metrics': {'followers_count': 7568, 'following_count': 693, 'tweet_count': 45370, 'listed_count': 102}, 'name': 'Sam Boik', 'description': '💛🏠 PIVOT Lending Group - Boulder 🏈 In-game Host Denver Broncos 🧡💙 Former NFL Cheer 📺 Former TV news anchor 🩰 Former ballerina 🐶🐶 Dog mama', 'protected': False, 'url': '', 'profile_image_url': 'https://pbs.twimg.com/profile_images/1496579962060554240/OxYCYuKG_normal.jpg'}, {'start': 33, 'end': 43, 'username': 'Cernovich', 'id': '358545917', 'verified': True, 'created_at': '2011-08-20T03:02:29.000Z', 'location': 'Orange County, California', 'public_metrics': {'followers_count': 856845, 'following_count': 3213, 'tweet_count': 173927, 'listed_count': 5509}, 'name': 'Cernovich', 'description': '“So what you’re saying is…”  No. Stop right there.   What I wrote is what I was “saying.”   The rest is you being drunk, or thinking you can read my mind.', 'protected': False, 'entities': {'url': {'urls': [{'start': 0, 'end': 23, 'url': 'https://t.co/eoO81wTCcf', 'expanded_url': 'http://Rokfin.com/Cernovich', 'display_url': 'Rokfin.com/Cernovich'}]}}, 'url': 'https://t.co/eoO81wTCcf', 'profile_image_url': 'https://pbs.twimg.com/profile_images/1505784612466790400/axCC6S4v_normal.jpg', 'pinned_tweet_id': '1506332763003109376'}]}, 'in_reply_to_user_id': '1733391854', 'reply_settings': 'everyone', 'conversation_id': '1476711967607853064', 'public_metrics': {'retweet_count': 0, 'reply_count': 0, 'like_count': 0, 'quote_count': 0}, 'author': {'verified': False, 'created_at': '2021-11-15T23:07:29.000Z', 'public_metrics': {'followers_count': 12, 'following_count': 245, 'tweet_count': 963, 'listed_count': 0}, 'name': 'Owen Lavine', 'description': 'Journalist - Cal Poly SLO ‘24 - LA', 'protected': False, 'username': 'owen_lavine', 'url': '', 'profile_image_url': 'https://pbs.twimg.com/profile_images/1460384644122099713/ToEk8Ndb_normal.jpg', 'id': '1460383957262880776', 'pinned_tweet_id': '1482061096068341760'}, 'in_reply_to_user': {'verified': False, 'created_at': '2013-09-05T23:29:42.000Z', 'public_metrics': {'followers_count': 962, 'following_count': 2446, 'tweet_count': 13001, 'listed_count': 3}, 'name': 'KJB', 'description': '⚠️ Mean tweets, keep off.\n",
       "💯 BS intolerant.\n",
       "⚫ Black alpha-male.', 'protected': False, 'username': 'tjbabel', 'url': '', 'profile_image_url': 'https://pbs.twimg.com/profile_images/1432232252172345346/02pzg9gO_normal.jpg', 'id': '1733391854', 'pinned_tweet_id': '1431747058206085120'}, '__twarc': {'url': 'https://api.twitter.com/2/tweets/search/all?expansions=author_id%2Cin_reply_to_user_id%2Creferenced_tweets.id%2Creferenced_tweets.id.author_id%2Centities.mentions.username%2Cattachments.poll_ids%2Cattachments.media_keys%2Cgeo.place_id&amp;tweet.fields=attachments%2Cauthor_id%2Ccontext_annotations%2Cconversation_id%2Ccreated_at%2Centities%2Cgeo%2Cid%2Cin_reply_to_user_id%2Clang%2Cpublic_metrics%2Ctext%2Cpossibly_sensitive%2Creferenced_tweets%2Creply_settings%2Csource%2Cwithheld&amp;user.fields=created_at%2Cdescription%2Centities%2Cid%2Clocation%2Cname%2Cpinned_tweet_id%2Cprofile_image_url%2Cprotected%2Cpublic_metrics%2Curl%2Cusername%2Cverified%2Cwithheld&amp;media.fields=alt_text%2Cduration_ms%2Cheight%2Cmedia_key%2Cpreview_image_url%2Ctype%2Curl%2Cwidth%2Cpublic_metrics&amp;poll.fields=duration_minutes%2Cend_datetime%2Cid%2Coptions%2Cvoting_status&amp;place.fields=contained_within%2Ccountry%2Ccountry_code%2Cfull_name%2Cgeo%2Cid%2Cname%2Cplace_type&amp;start_time=2021-01-01T00%3A00%3A00%2B00%3A00&amp;end_time=2022-01-01T00%3A00%3A00%2B00%3A00&amp;query=exxon+climate&amp;max_results=100', 'version': '2.9.5', 'retrieved_at': '2022-03-27T13:14:12+00:00'}}</td>\n",
       "    </tr>\n",
       "    <tr>\n",
       "      <th>2</th>\n",
       "      <td>2</td>\n",
       "      <td>0.0</td>\n",
       "      <td>0.8466</td>\n",
       "      <td>climate, company, shareholder, go, today, break, case, change, involve, know</td>\n",
       "      <td>{'lang': 'en', 'id': '1477059914015125507', 'possibly_sensitive': False, 'author_id': '2732778706', 'text': 'RT @maxberger: I'm thinking about writing a satire where the U.S. Congress is blocked from taking action on the climate by a Senator who ow…', 'entities': {'annotations': [{'start': 61, 'end': 73, 'probability': 0.8912, 'type': 'Organization', 'normalized_text': 'U.S. Congress'}], 'mentions': [{'start': 3, 'end': 13, 'username': 'maxberger', 'id': '15729844', 'verified': True, 'created_at': '2008-08-05T00:09:12.000Z', 'location': 'Brooklyn, New York', 'public_metrics': {'followers_count': 62181, 'following_count': 1716, 'tweet_count': 15408, 'listed_count': 729}, 'name': 'Max Berger', 'description': 'Editorial @moreperfectus | Previously @JusticeDems, @EWarren, @coribush | Co-Founder @IfNotNowOrg + Momentum Training Institute | He/Him', 'protected': False, 'entities': {'description': {'mentions': [{'start': 10, 'end': 24, 'username': 'moreperfectus'}, {'start': 38, 'end': 50, 'username': 'JusticeDems'}, {'start': 52, 'end': 60, 'username': 'EWarren'}, {'start': 62, 'end': 71, 'username': 'coribush'}, {'start': 85, 'end': 97, 'username': 'IfNotNowOrg'}]}}, 'url': '', 'profile_image_url': 'https://pbs.twimg.com/profile_images/1471674171033858051/Y0xyQsCt_normal.jpg'}]}, 'referenced_tweets': [{'type': 'retweeted', 'id': '1476748809485045783', 'lang': 'en', 'possibly_sensitive': False, 'author_id': '15729844', 'text': 'I'm thinking about writing a satire where the U.S. Congress is blocked from taking action on the climate by a Senator who owns a coal company, lives on a yacht and speaks daily with Exxon lobbyists -- but I'm worried people will think it's too on the nose. 😔', 'entities': {'annotations': [{'start': 46, 'end': 58, 'probability': 0.9006, 'type': 'Organization', 'normalized_text': 'U.S. Congress'}, {'start': 182, 'end': 186, 'probability': 0.5846, 'type': 'Organization', 'normalized_text': 'Exxon'}]}, 'created_at': '2021-12-31T02:55:27.000Z', 'source': 'Twitter Web App', 'reply_settings': 'everyone', 'conversation_id': '1476748809485045783', 'context_annotations': [{'domain': {'id': '45', 'name': 'Brand Vertical', 'description': 'Top level entities that describe a Brands industry'}, 'entity': {'id': '781974597474263040', 'name': 'Energy'}}, {'domain': {'id': '46', 'name': 'Brand Category', 'description': 'Categories within Brand Verticals that narrow down the scope of Brands'}, 'entity': {'id': '781974596723412992', 'name': 'Gas/Oil'}}, {'domain': {'id': '47', 'name': 'Brand', 'description': 'Brands and Companies'}, 'entity': {'id': '10026377931', 'name': 'ExxonMobil'}}, {'domain': {'id': '88', 'name': 'Political Body', 'description': 'A section of a government, like The Supreme Court'}, 'entity': {'id': '961705302700654593', 'name': 'United States Congress', 'description': 'United States Congress'}}, {'domain': {'id': '45', 'name': 'Brand Vertical', 'description': 'Top level entities that describe a Brands industry'}, 'entity': {'id': '781974597474263040', 'name': 'Energy'}}, {'domain': {'id': '46', 'name': 'Brand Category', 'description': 'Categories within Brand Verticals that narrow down the scope of Brands'}, 'entity': {'id': '781974596723412992', 'name': 'Gas/Oil'}}, {'domain': {'id': '47', 'name': 'Brand', 'description': 'Brands and Companies'}, 'entity': {'id': '10039822051', 'name': 'Exxon'}}, {'domain': {'id': '88', 'name': 'Political Body', 'description': 'A section of a government, like The Supreme Court'}, 'entity': {'id': '877326946253684737', 'name': 'United States Senate', 'description': 'United States Senate'}}, {'domain': {'id': '88', 'name': 'Political Body', 'description': 'A section of a government, like The Supreme Court'}, 'entity': {'id': '961705302700654593', 'name': 'United States Congress', 'description': 'United States Congress'}}], 'public_metrics': {'retweet_count': 226, 'reply_count': 35, 'like_count': 1614, 'quote_count': 7}, 'author': {'verified': True, 'created_at': '2008-08-05T00:09:12.000Z', 'location': 'Brooklyn, New York', 'public_metrics': {'followers_count': 62181, 'following_count': 1716, 'tweet_count': 15408, 'listed_count': 729}, 'name': 'Max Berger', 'description': 'Editorial @moreperfectus | Previously @JusticeDems, @EWarren, @coribush | Co-Founder @IfNotNowOrg + Momentum Training Institute | He/Him', 'protected': False, 'entities': {'description': {'mentions': [{'start': 10, 'end': 24, 'username': 'moreperfectus'}, {'start': 38, 'end': 50, 'username': 'JusticeDems'}, {'start': 52, 'end': 60, 'username': 'EWarren'}, {'start': 62, 'end': 71, 'username': 'coribush'}, {'start': 85, 'end': 97, 'username': 'IfNotNowOrg'}]}}, 'username': 'maxberger', 'url': '', 'profile_image_url': 'https://pbs.twimg.com/profile_images/1471674171033858051/Y0xyQsCt_normal.jpg', 'id': '15729844'}}], 'created_at': '2021-12-31T23:31:40.000Z', 'source': 'Twitter for iPhone', 'reply_settings': 'everyone', 'conversation_id': '1477059914015125507', 'context_annotations': [{'domain': {'id': '88', 'name': 'Political Body', 'description': 'A section of a government, like The Supreme Court'}, 'entity': {'id': '961705302700654593', 'name': 'United States Congress', 'description': 'United States Congress'}}, {'domain': {'id': '88', 'name': 'Political Body', 'description': 'A section of a government, like The Supreme Court'}, 'entity': {'id': '877326946253684737', 'name': 'United States Senate', 'description': 'United States Senate'}}, {'domain': {'id': '88', 'name': 'Political Body', 'description': 'A section of a government, like The Supreme Court'}, 'entity': {'id': '961705302700654593', 'name': 'United States Congress', 'description': 'United States Congress'}}], 'public_metrics': {'retweet_count': 226, 'reply_count': 0, 'like_count': 0, 'quote_count': 0}, 'author': {'verified': False, 'created_at': '2014-08-03T21:19:32.000Z', 'public_metrics': {'followers_count': 258, 'following_count': 339, 'tweet_count': 19168, 'listed_count': 2}, 'name': 'Tai Chi', 'description': '', 'protected': False, 'username': 'TaiWendysb', 'url': '', 'profile_image_url': 'https://pbs.twimg.com/profile_images/620775585179172864/UWybuV7i_normal.jpg', 'id': '2732778706'}, '__twarc': {'url': 'https://api.twitter.com/2/tweets/search/all?expansions=author_id%2Cin_reply_to_user_id%2Creferenced_tweets.id%2Creferenced_tweets.id.author_id%2Centities.mentions.username%2Cattachments.poll_ids%2Cattachments.media_keys%2Cgeo.place_id&amp;tweet.fields=attachments%2Cauthor_id%2Ccontext_annotations%2Cconversation_id%2Ccreated_at%2Centities%2Cgeo%2Cid%2Cin_reply_to_user_id%2Clang%2Cpublic_metrics%2Ctext%2Cpossibly_sensitive%2Creferenced_tweets%2Creply_settings%2Csource%2Cwithheld&amp;user.fields=created_at%2Cdescription%2Centities%2Cid%2Clocation%2Cname%2Cpinned_tweet_id%2Cprofile_image_url%2Cprotected%2Cpublic_metrics%2Curl%2Cusername%2Cverified%2Cwithheld&amp;media.fields=alt_text%2Cduration_ms%2Cheight%2Cmedia_key%2Cpreview_image_url%2Ctype%2Curl%2Cwidth%2Cpublic_metrics&amp;poll.fields=duration_minutes%2Cend_datetime%2Cid%2Coptions%2Cvoting_status&amp;place.fields=contained_within%2Ccountry%2Ccountry_code%2Cfull_name%2Cgeo%2Cid%2Cname%2Cplace_type&amp;start_time=2021-01-01T00%3A00%3A00%2B00%3A00&amp;end_time=2022-01-01T00%3A00%3A00%2B00%3A00&amp;query=exxon+climate&amp;max_results=100', 'version': '2.9.5', 'retrieved_at': '2022-03-27T13:14:12+00:00'}}</td>\n",
       "    </tr>\n",
       "    <tr>\n",
       "      <th>3</th>\n",
       "      <td>3</td>\n",
       "      <td>0.0</td>\n",
       "      <td>0.8979</td>\n",
       "      <td>climate, company, shareholder, go, today, break, case, change, involve, know</td>\n",
       "      <td>{'lang': 'en', 'id': '1477056800889323523', 'possibly_sensitive': False, 'author_id': '414239235', 'text': 'RT @zia_kat: @Mum2Mrs @oshima9 no, capitalists are the cause.\n",
       "https://t.co/VyFfKhY2Yp', 'referenced_tweets': [{'type': 'retweeted', 'id': '1477035647462363141', 'lang': 'en', 'possibly_sensitive': False, 'author_id': '795750344970141701', 'text': '@Mum2Mrs @oshima9 no, capitalists are the cause.\n",
       "https://t.co/VyFfKhY2Yp', 'referenced_tweets': [{'type': 'replied_to', 'id': '1477034599545028616', 'lang': 'en', 'possibly_sensitive': False, 'author_id': '1240462685877284864', 'text': '@zia_kat @oshima9 Actually, it is. Public perception or lying to people to skew Science is exactly why we’re here and when the politicians lied as well- we got Trump and people like him that we will now never be rid of. https://t.co/blnwkY2tAJ', 'entities': {'annotations': [{'start': 160, 'end': 164, 'probability': 0.9988, 'type': 'Person', 'normalized_text': 'Trump'}], 'urls': [{'start': 220, 'end': 243, 'url': 'https://t.co/blnwkY2tAJ', 'expanded_url': 'https://twitter.com/Mum2Mrs/status/1477034599545028616/photo/1', 'display_url': 'pic.twitter.com/blnwkY2tAJ'}], 'mentions': [{'start': 0, 'end': 8, 'username': 'zia_kat', 'id': '795750344970141701', 'verified': False, 'created_at': '2016-11-07T22:10:41.000Z', 'location': 'New Mexico, USA', 'public_metrics': {'followers_count': 3009, 'following_count': 4787, 'tweet_count': 79068, 'listed_count': 15}, 'name': '☭🇵🇸🇾🇪🇸🇾', 'description': '#ForceTheVote #NeverBiden #AbolishThePolice #greennewdeal #medicare4all #RIPActualFlatticus #AllAutistics #ActuallyAutistic #neurodiversity #nonbinary she/they', 'protected': False, 'entities': {'url': {'urls': [{'start': 0, 'end': 23, 'url': 'https://t.co/my61h8wOWI', 'expanded_url': 'http://www.neurotypical.com/page1/page1.html', 'display_url': 'neurotypical.com/page1/page1.ht…'}]}, 'description': {'hashtags': [{'start': 0, 'end': 13, 'tag': 'ForceTheVote'}, {'start': 14, 'end': 25, 'tag': 'NeverBiden'}, {'start': 26, 'end': 43, 'tag': 'AbolishThePolice'}, {'start': 44, 'end': 57, 'tag': 'greennewdeal'}, {'start': 58, 'end': 71, 'tag': 'medicare4all'}, {'start': 72, 'end': 91, 'tag': 'RIPActualFlatticus'}, {'start': 92, 'end': 105, 'tag': 'AllAutistics'}, {'start': 106, 'end': 123, 'tag': 'ActuallyAutistic'}, {'start': 124, 'end': 139, 'tag': 'neurodiversity'}, {'start': 140, 'end': 150, 'tag': 'nonbinary'}]}}, 'url': 'https://t.co/my61h8wOWI', 'profile_image_url': 'https://pbs.twimg.com/profile_images/918622187849900032/YjR0eUVd_normal.jpg', 'pinned_tweet_id': '1319703537874468864'}, {'start': 9, 'end': 17, 'username': 'oshima9', 'id': '414239235', 'verified': False, 'created_at': '2011-11-16T20:17:25.000Z', 'location': 'Sacramento, CA', 'public_metrics': {'followers_count': 1011, 'following_count': 1219, 'tweet_count': 81291, 'listed_count': 39}, 'name': 'Richard Estes', 'description': '\"Be as radical as reality.\"  -- Lenin\\n\"Capitalism will not inform the future of this planet.\" -- Angela Davis', 'protected': False, 'entities': {'url': {'urls': [{'start': 0, 'end': 23, 'url': 'https://t.co/jMqJ1VrD1e', 'expanded_url': 'http://www.amleft.blogspot.com', 'display_url': 'amleft.blogspot.com'}]}}, 'url': 'https://t.co/jMqJ1VrD1e', 'profile_image_url': 'https://pbs.twimg.com/profile_images/1833093939/Fassbinder2_normal.jpg', 'pinned_tweet_id': '834100900964626432'}]}, 'referenced_tweets': [{'type': 'replied_to', 'id': '1477033355963101188'}], 'created_at': '2021-12-31T21:51:05.000Z', 'source': 'Twitter for iPhone', 'in_reply_to_user_id': '795750344970141701', 'attachments': {'media_keys': ['16_1477034591261278212'], 'media': [{}]}, 'reply_settings': 'everyone', 'conversation_id': '1476641658636693513', 'context_annotations': [{'domain': {'id': '10', 'name': 'Person', 'description': 'Named people in the world like Nelson Mandela'}, 'entity': {'id': '799022225751871488', 'name': 'Donald Trump', 'description': 'US President Donald Trump'}}, {'domain': {'id': '35', 'name': 'Politician', 'description': 'Politicians in the world, like Joe Biden'}, 'entity': {'id': '799022225751871488', 'name': 'Donald Trump', 'description': 'US President Donald Trump'}}], 'public_metrics': {'retweet_count': 0, 'reply_count': 3, 'like_count': 0, 'quote_count': 0}}], 'created_at': '2021-12-31T21:55:15.000Z', 'source': 'Twitter Web App', 'entities': {'urls': [{'start': 49, 'end': 72, 'url': 'https://t.co/VyFfKhY2Yp', 'expanded_url': 'https://www.scientificamerican.com/article/exxon-knew-about-climate-change-almost-40-years-ago/', 'display_url': 'scientificamerican.com/article/exxon-…'}], 'mentions': [{'start': 0, 'end': 8, 'username': 'Mum2Mrs', 'id': '1240462685877284864', 'verified': False, 'created_at': '2020-03-19T02:18:56.000Z', 'location': 'United States', 'public_metrics': {'followers_count': 726, 'following_count': 833, 'tweet_count': 54296, 'listed_count': 4}, 'name': 'Shiba~Mum🐕Socialist Dog Mom', 'description': 'Feminist, M4ALL, BLM, 🌈 Allergic to anti-vaxers, Trumpers, general idiots.Into animal rescue and retweeting to save the ones I can’t. #FireRisaWeinstock #NYAAC', 'protected': False, 'entities': {'description': {'hashtags': [{'start': 134, 'end': 152, 'tag': 'FireRisaWeinstock'}, {'start': 153, 'end': 159, 'tag': 'NYAAC'}]}}, 'url': '', 'profile_image_url': 'https://pbs.twimg.com/profile_images/1495152677302546433/vo-tD9Zi_normal.jpg', 'pinned_tweet_id': '1404212128723128332'}, {'start': 9, 'end': 17, 'username': 'oshima9', 'id': '414239235', 'verified': False, 'created_at': '2011-11-16T20:17:25.000Z', 'location': 'Sacramento, CA', 'public_metrics': {'followers_count': 1011, 'following_count': 1219, 'tweet_count': 81291, 'listed_count': 39}, 'name': 'Richard Estes', 'description': '\"Be as radical as reality.\"  -- Lenin\\n\"Capitalism will not inform the future of this planet.\" -- Angela Davis', 'protected': False, 'entities': {'url': {'urls': [{'start': 0, 'end': 23, 'url': 'https://t.co/jMqJ1VrD1e', 'expanded_url': 'http://www.amleft.blogspot.com', 'display_url': 'amleft.blogspot.com'}]}}, 'url': 'https://t.co/jMqJ1VrD1e', 'profile_image_url': 'https://pbs.twimg.com/profile_images/1833093939/Fassbinder2_normal.jpg', 'pinned_tweet_id': '834100900964626432'}]}, 'in_reply_to_user_id': '1240462685877284864', 'reply_settings': 'everyone', 'conversation_id': '1476641658636693513', 'public_metrics': {'retweet_count': 1, 'reply_count': 0, 'like_count': 1, 'quote_count': 0}, 'author': {'verified': False, 'created_at': '2016-11-07T22:10:41.000Z', 'location': 'New Mexico, USA', 'public_metrics': {'followers_count': 3009, 'following_count': 4787, 'tweet_count': 79068, 'listed_count': 15}, 'name': '☭🇵🇸🇾🇪🇸🇾', 'description': '#ForceTheVote #NeverBiden #AbolishThePolice #greennewdeal #medicare4all #RIPActualFlatticus #AllAutistics #ActuallyAutistic #neurodiversity #nonbinary she/they', 'protected': False, 'entities': {'url': {'urls': [{'start': 0, 'end': 23, 'url': 'https://t.co/my61h8wOWI', 'expanded_url': 'http://www.neurotypical.com/page1/page1.html', 'display_url': 'neurotypical.com/page1/page1.ht…'}]}, 'description': {'hashtags': [{'start': 0, 'end': 13, 'tag': 'ForceTheVote'}, {'start': 14, 'end': 25, 'tag': 'NeverBiden'}, {'start': 26, 'end': 43, 'tag': 'AbolishThePolice'}, {'start': 44, 'end': 57, 'tag': 'greennewdeal'}, {'start': 58, 'end': 71, 'tag': 'medicare4all'}, {'start': 72, 'end': 91, 'tag': 'RIPActualFlatticus'}, {'start': 92, 'end': 105, 'tag': 'AllAutistics'}, {'start': 106, 'end': 123, 'tag': 'ActuallyAutistic'}, {'start': 124, 'end': 139, 'tag': 'neurodiversity'}, {'start': 140, 'end': 150, 'tag': 'nonbinary'}]}}, 'username': 'zia_kat', 'url': 'https://t.co/my61h8wOWI', 'profile_image_url': 'https://pbs.twimg.com/profile_images/918622187849900032/YjR0eUVd_normal.jpg', 'id': '795750344970141701', 'pinned_tweet_id': '1319703537874468864'}, 'in_reply_to_user': {'verified': False, 'created_at': '2020-03-19T02:18:56.000Z', 'location': 'United States', 'public_metrics': {'followers_count': 726, 'following_count': 833, 'tweet_count': 54296, 'listed_count': 4}, 'name': 'Shiba~Mum🐕Socialist Dog Mom', 'description': 'Feminist, M4ALL, BLM, 🌈 Allergic to anti-vaxers, Trumpers, general idiots.Into animal rescue and retweeting to save the ones I can’t. #FireRisaWeinstock #NYAAC', 'protected': False, 'entities': {'description': {'hashtags': [{'start': 134, 'end': 152, 'tag': 'FireRisaWeinstock'}, {'start': 153, 'end': 159, 'tag': 'NYAAC'}]}}, 'username': 'Mum2Mrs', 'url': '', 'profile_image_url': 'https://pbs.twimg.com/profile_images/1495152677302546433/vo-tD9Zi_normal.jpg', 'id': '1240462685877284864', 'pinned_tweet_id': '1404212128723128332'}}], 'created_at': '2021-12-31T23:19:18.000Z', 'source': 'Twitter Web App', 'entities': {'urls': [{'start': 62, 'end': 85, 'url': 'https://t.co/VyFfKhY2Yp', 'expanded_url': 'https://www.scientificamerican.com/article/exxon-knew-about-climate-change-almost-40-years-ago/', 'display_url': 'scientificamerican.com/article/exxon-…'}], 'mentions': [{'start': 3, 'end': 11, 'username': 'zia_kat', 'id': '795750344970141701', 'verified': False, 'created_at': '2016-11-07T22:10:41.000Z', 'location': 'New Mexico, USA', 'public_metrics': {'followers_count': 3009, 'following_count': 4787, 'tweet_count': 79068, 'listed_count': 15}, 'name': '☭🇵🇸🇾🇪🇸🇾', 'description': '#ForceTheVote #NeverBiden #AbolishThePolice #greennewdeal #medicare4all #RIPActualFlatticus #AllAutistics #ActuallyAutistic #neurodiversity #nonbinary she/they', 'protected': False, 'entities': {'url': {'urls': [{'start': 0, 'end': 23, 'url': 'https://t.co/my61h8wOWI', 'expanded_url': 'http://www.neurotypical.com/page1/page1.html', 'display_url': 'neurotypical.com/page1/page1.ht…'}]}, 'description': {'hashtags': [{'start': 0, 'end': 13, 'tag': 'ForceTheVote'}, {'start': 14, 'end': 25, 'tag': 'NeverBiden'}, {'start': 26, 'end': 43, 'tag': 'AbolishThePolice'}, {'start': 44, 'end': 57, 'tag': 'greennewdeal'}, {'start': 58, 'end': 71, 'tag': 'medicare4all'}, {'start': 72, 'end': 91,...</td>\n",
       "    </tr>\n",
       "    <tr>\n",
       "      <th>4</th>\n",
       "      <td>4</td>\n",
       "      <td>0.0</td>\n",
       "      <td>0.7191</td>\n",
       "      <td>climate, company, shareholder, go, today, break, case, change, involve, know</td>\n",
       "      <td>{'lang': 'en', 'id': '1477046502400868359', 'possibly_sensitive': False, 'author_id': '824946672673361920', 'text': 'RT @Carpe_DMT: @ScottGrimnes @MaMan564 @SoFarFletched ‘We’ started calling it ‘climate change’ when Exxon Mobile did a very successful PR c…', 'entities': {'annotations': [{'start': 100, 'end': 111, 'probability': 0.4118, 'type': 'Organization', 'normalized_text': 'Exxon Mobile'}], 'mentions': [{'start': 3, 'end': 13, 'username': 'Carpe_DMT', 'id': '2181341294', 'verified': False, 'created_at': '2013-11-08T03:03:46.000Z', 'public_metrics': {'followers_count': 585, 'following_count': 4999, 'tweet_count': 9011, 'listed_count': 6}, 'name': 'CARPE_DMT', 'description': 'play MAD DOG 2021 https://t.co/EP5AkVshrF', 'protected': False, 'entities': {'url': {'urls': [{'start': 0, 'end': 23, 'url': 'https://t.co/wL90PAKdfG', 'expanded_url': 'https://virtualreality.pizza', 'display_url': 'virtualreality.pizza'}]}, 'description': {'urls': [{'start': 18, 'end': 41, 'url': 'https://t.co/EP5AkVshrF', 'expanded_url': 'https://www.oculus.com/experiences/quest/4280512035321327/', 'display_url': 'oculus.com/experiences/qu…'}]}}, 'url': 'https://t.co/wL90PAKdfG', 'profile_image_url': 'https://pbs.twimg.com/profile_images/1411076556986986498/ssRjQ9bA_normal.jpg', 'pinned_tweet_id': '1441988376643584002'}, {'start': 15, 'end': 28, 'username': 'ScottGrimnes', 'id': '847597746043342848', 'verified': False, 'created_at': '2017-03-30T23:53:45.000Z', 'location': 'Arizona, USA', 'public_metrics': {'followers_count': 357, 'following_count': 708, 'tweet_count': 19119, 'listed_count': 0}, 'name': 'Scott Grimnes', 'description': 'PNW boy living in the Desert. Life is about Balance.', 'protected': False, 'url': '', 'profile_image_url': 'https://pbs.twimg.com/profile_images/1274786865522991105/PXfSI9wF_normal.jpg'}, {'start': 29, 'end': 38, 'username': 'MaMan564', 'id': '1269846144869298176', 'verified': False, 'created_at': '2020-06-08T04:18:20.000Z', 'public_metrics': {'followers_count': 141, 'following_count': 695, 'tweet_count': 5747, 'listed_count': 0}, 'name': 'Ma Man', 'description': '', 'protected': False, 'url': '', 'profile_image_url': 'https://abs.twimg.com/sticky/default_profile_images/default_profile_normal.png'}, {'start': 39, 'end': 53, 'username': 'SoFarFletched', 'id': '2251014270', 'verified': False, 'created_at': '2013-12-17T21:48:49.000Z', 'location': 'Huntington Beach, CA', 'public_metrics': {'followers_count': 357, 'following_count': 874, 'tweet_count': 1304, 'listed_count': 4}, 'name': 'Jason Fletcher', 'description': 'Director, Digital at Mastercard Luxury Card | Lifestyle Fintech | Performance Marketing | Nutella Hater | Denver Sports Fan | Club🏠: Jason.Fletcher', 'protected': False, 'url': '', 'profile_image_url': 'https://pbs.twimg.com/profile_images/1076940030742953984/TxivOKeT_normal.jpg', 'pinned_tweet_id': '1272228402662010881'}]}, 'referenced_tweets': [{'type': 'retweeted', 'id': '1476696095963058177', 'lang': 'en', 'possibly_sensitive': False, 'author_id': '2181341294', 'text': '@ScottGrimnes @MaMan564 @SoFarFletched ‘We’ started calling it ‘climate change’ when Exxon Mobile did a very successful PR campaign in the 90’s. Apparently ‘global warming’ is too specific and scary. But It’s global warming. https://t.co/WPetiWDQG3', 'entities': {'annotations': [{'start': 85, 'end': 96, 'probability': 0.581, 'type': 'Organization', 'normalized_text': 'Exxon Mobile'}], 'urls': [{'start': 225, 'end': 248, 'url': 'https://t.co/WPetiWDQG3', 'expanded_url': 'http://Exxonknew.org', 'display_url': 'Exxonknew.org'}], 'mentions': [{'start': 0, 'end': 13, 'username': 'ScottGrimnes', 'id': '847597746043342848', 'verified': False, 'created_at': '2017-03-30T23:53:45.000Z', 'location': 'Arizona, USA', 'public_metrics': {'followers_count': 357, 'following_count': 708, 'tweet_count': 19119, 'listed_count': 0}, 'name': 'Scott Grimnes', 'description': 'PNW boy living in the Desert. Life is about Balance.', 'protected': False, 'url': '', 'profile_image_url': 'https://pbs.twimg.com/profile_images/1274786865522991105/PXfSI9wF_normal.jpg'}, {'start': 14, 'end': 23, 'username': 'MaMan564', 'id': '1269846144869298176', 'verified': False, 'created_at': '2020-06-08T04:18:20.000Z', 'public_metrics': {'followers_count': 141, 'following_count': 695, 'tweet_count': 5747, 'listed_count': 0}, 'name': 'Ma Man', 'description': '', 'protected': False, 'url': '', 'profile_image_url': 'https://abs.twimg.com/sticky/default_profile_images/default_profile_normal.png'}, {'start': 24, 'end': 38, 'username': 'SoFarFletched', 'id': '2251014270', 'verified': False, 'created_at': '2013-12-17T21:48:49.000Z', 'location': 'Huntington Beach, CA', 'public_metrics': {'followers_count': 357, 'following_count': 874, 'tweet_count': 1304, 'listed_count': 4}, 'name': 'Jason Fletcher', 'description': 'Director, Digital at Mastercard Luxury Card | Lifestyle Fintech | Performance Marketing | Nutella Hater | Denver Sports Fan | Club🏠: Jason.Fletcher', 'protected': False, 'url': '', 'profile_image_url': 'https://pbs.twimg.com/profile_images/1076940030742953984/TxivOKeT_normal.jpg', 'pinned_tweet_id': '1272228402662010881'}]}, 'referenced_tweets': [{'type': 'replied_to', 'id': '1476684617755160580'}], 'created_at': '2021-12-30T23:25:59.000Z', 'source': 'Twitter for iPhone', 'in_reply_to_user_id': '847597746043342848', 'reply_settings': 'everyone', 'conversation_id': '1476664863980077057', 'context_annotations': [{'domain': {'id': '45', 'name': 'Brand Vertical', 'description': 'Top level entities that describe a Brands industry'}, 'entity': {'id': '781974597474263040', 'name': 'Energy'}}, {'domain': {'id': '46', 'name': 'Brand Category', 'description': 'Categories within Brand Verticals that narrow down the scope of Brands'}, 'entity': {'id': '781974596723412992', 'name': 'Gas/Oil'}}, {'domain': {'id': '47', 'name': 'Brand', 'description': 'Brands and Companies'}, 'entity': {'id': '10026377931', 'name': 'ExxonMobil'}}, {'domain': {'id': '45', 'name': 'Brand Vertical', 'description': 'Top level entities that describe a Brands industry'}, 'entity': {'id': '781974597474263040', 'name': 'Energy'}}, {'domain': {'id': '46', 'name': 'Brand Category', 'description': 'Categories within Brand Verticals that narrow down the scope of Brands'}, 'entity': {'id': '781974596723412992', 'name': 'Gas/Oil'}}, {'domain': {'id': '47', 'name': 'Brand', 'description': 'Brands and Companies'}, 'entity': {'id': '10039822051', 'name': 'Exxon'}}], 'public_metrics': {'retweet_count': 7, 'reply_count': 1, 'like_count': 31, 'quote_count': 0}, 'author': {'verified': False, 'created_at': '2013-11-08T03:03:46.000Z', 'public_metrics': {'followers_count': 585, 'following_count': 4999, 'tweet_count': 9011, 'listed_count': 6}, 'name': 'CARPE_DMT', 'description': 'play MAD DOG 2021 https://t.co/EP5AkVshrF', 'protected': False, 'entities': {'url': {'urls': [{'start': 0, 'end': 23, 'url': 'https://t.co/wL90PAKdfG', 'expanded_url': 'https://virtualreality.pizza', 'display_url': 'virtualreality.pizza'}]}, 'description': {'urls': [{'start': 18, 'end': 41, 'url': 'https://t.co/EP5AkVshrF', 'expanded_url': 'https://www.oculus.com/experiences/quest/4280512035321327/', 'display_url': 'oculus.com/experiences/qu…'}]}}, 'username': 'Carpe_DMT', 'url': 'https://t.co/wL90PAKdfG', 'profile_image_url': 'https://pbs.twimg.com/profile_images/1411076556986986498/ssRjQ9bA_normal.jpg', 'id': '2181341294', 'pinned_tweet_id': '1441988376643584002'}, 'in_reply_to_user': {'verified': False, 'created_at': '2017-03-30T23:53:45.000Z', 'location': 'Arizona, USA', 'public_metrics': {'followers_count': 357, 'following_count': 708, 'tweet_count': 19119, 'listed_count': 0}, 'name': 'Scott Grimnes', 'description': 'PNW boy living in the Desert. Life is about Balance.', 'protected': False, 'username': 'ScottGrimnes', 'url': '', 'profile_image_url': 'https://pbs.twimg.com/profile_images/1274786865522991105/PXfSI9wF_normal.jpg', 'id': '847597746043342848'}}], 'created_at': '2021-12-31T22:38:23.000Z', 'source': 'Twitter for iPhone', 'reply_settings': 'everyone', 'conversation_id': '1477046502400868359', 'context_annotations': [{'domain': {'id': '45', 'name': 'Brand Vertical', 'description': 'Top level entities that describe a Brands industry'}, 'entity': {'id': '781974597474263040', 'name': 'Energy'}}, {'domain': {'id': '46', 'name': 'Brand Category', 'description': 'Categories within Brand Verticals that narrow down the scope of Brands'}, 'entity': {'id': '781974596723412992', 'name': 'Gas/Oil'}}, {'domain': {'id': '47', 'name': 'Brand', 'description': 'Brands and Companies'}, 'entity': {'id': '10026377931', 'name': 'ExxonMobil'}}, {'domain': {'id': '45', 'name': 'Brand Vertical', 'description': 'Top level entities that describe a Brands industry'}, 'entity': {'id': '781974597474263040', 'name': 'Energy'}}, {'domain': {'id': '46', 'name': 'Brand Category', 'description': 'Categories within Brand Verticals that narrow down the scope of Brands'}, 'entity': {'id': '781974596723412992', 'name': 'Gas/Oil'}}, {'domain': {'id': '47', 'name': 'Brand', 'description': 'Brands and Companies'}, 'entity': {'id': '10039822051', 'name': 'Exxon'}}], 'public_metrics': {'retweet_count': 7, 'reply_count': 0, 'like_count': 0, 'quote_count': 0}, 'author': {'verified': False, 'created_at': '2017-01-27T11:46:28.000Z', 'location': 'Illinois, USA', 'public_metrics': {'followers_count': 487, 'following_count': 1753, 'tweet_count': 134727, 'listed_count': 5}, 'name': 'Kris', 'description': 'Air? Nah, I need more bookshelves. He/him, 30, DMs &amp; plays DnD, and occasionally tweets about it. 📚📖🔖', 'protected': False, 'entities': {'url': {'urls': [{'start': 0, 'end': 23, 'url': 'https://t.co/nUj8xCRzV5', 'expanded_url': 'https://comeoutandplay.games/', 'display_url': 'comeoutandplay.games'}]}}, 'username': 'writing_callous', 'url': 'https://t.co/nUj8xCRzV5', 'profile_image_url': 'https://pbs.twimg.com/profile_images/1070131662107930624/swW_99cd_normal.jpg', 'id': '82494...</td>\n",
       "    </tr>\n",
       "  </tbody>\n",
       "</table>\n",
       "</div>"
      ],
      "text/plain": [
       "   Document_No  Dominant_Topic  Topic_Perc_Contrib  \\\n",
       "0            0             0.0              0.8979   \n",
       "1            1             0.0              0.7191   \n",
       "2            2             0.0              0.8466   \n",
       "3            3             0.0              0.8979   \n",
       "4            4             0.0              0.7191   \n",
       "\n",
       "                                                                       Keywords  \\\n",
       "0  climate, company, shareholder, go, today, break, case, change, involve, know   \n",
       "1  climate, company, shareholder, go, today, break, case, change, involve, know   \n",
       "2  climate, company, shareholder, go, today, break, case, change, involve, know   \n",
       "3  climate, company, shareholder, go, today, break, case, change, involve, know   \n",
       "4  climate, company, shareholder, go, today, break, case, change, involve, know   \n",
       "\n",
       "                                                                                                                                                                                                                                                                                                                                                                                                                                                                                                                                                                                                                                                                                                                                                                                                                                                                                                                                                                                                                                                                                                                                                                                                                                                                                                                                                                                                                                                                                                                                                                                                                                                                                                                                                                                                                                                                                                                                                                                                                                                                                                                                                                                                                                                                                                                                                                                                                                                                                                                                                                                                                                                                                                                                                                                                                                                                                                                                                                                                                                                                                                                                                                                                                                                                                                                                                                                                                                                                                                                                                                                                                                                                                                                                                                                                                                                                                                                                                                                                                                                                                                                                                                                                                                                                                                                                                                                                                                                                                                                                                                                                                                                                                                                                                                                                                                                                                                                                                                                                                                                                                                                                                                                                                                                                                                                                                                                                                                                                                                                                                                                                                                                                                                                                                                                                                                                                                                                                                                                                                                                                                                                                                                                                                                                                                                                                                                                                                                                                                                                                                                                                                                                                                                                                                                                                                                                                                                                                                                                                                                                                                                                                                                                                                                                                                                                                                                                                                                                                                                                                                                                                                                                                                                                                                                                                                                                                                                                                                                                                                                                                                                                                                                                                                                                                                                                                                                                                                                                                                                                                                                                                                                                                                                                                                                                                                                                                                                                                                                                                                                                                                                                                                                                                                                                                                                                                                                                                                                                                                                                                                                                                                                                                                                                                                                                                                                                                                                                                                                                                                                                                                                                                                                                                                                                                                                                                                                                                              Text  \n",
       "0  {'lang': 'und', 'id': '1477065589361315842', 'possibly_sensitive': False, 'author_id': '1460383957262880776', 'text': '@tjbabel @Catherine_LCP @SamBoik @Cernovich https://t.co/a5p9XOE7b9', 'referenced_tweets': [{'type': 'replied_to', 'id': '1477064685639782404', 'lang': 'en', 'possibly_sensitive': False, 'author_id': '1733391854', 'text': '@owen_lavine @Catherine_LCP @SamBoik @Cernovich Ever heard of the carbon cycle? Google it.', 'entities': {'annotations': [{'start': 80, 'end': 85, 'probability': 0.4095, 'type': 'Organization', 'normalized_text': 'Google'}], 'mentions': [{'start': 0, 'end': 12, 'username': 'owen_lavine', 'id': '1460383957262880776', 'verified': False, 'created_at': '2021-11-15T23:07:29.000Z', 'public_metrics': {'followers_count': 12, 'following_count': 245, 'tweet_count': 963, 'listed_count': 0}, 'name': 'Owen Lavine', 'description': 'Journalist - Cal Poly SLO ‘24 - LA', 'protected': False, 'url': '', 'profile_image_url': 'https://pbs.twimg.com/profile_images/1460384644122099713/ToEk8Ndb_normal.jpg', 'pinned_tweet_id': '1482061096068341760'}, {'start': 13, 'end': 27, 'username': 'Catherine_LCP', 'id': '825445747', 'verified': False, 'created_at': '2012-09-15T15:18:21.000Z', 'location': 'U.S.', 'public_metrics': {'followers_count': 2186, 'following_count': 1882, 'tweet_count': 129708, 'listed_count': 50}, 'name': 'Kate 🇮🇪🇬🇧🇮🇹🇪🇸🇫🇷🌲', 'description': 'Europa', 'protected': False, 'url': '', 'profile_image_url': 'https://pbs.twimg.com/profile_images/2618197959/rsa2briy8k244prjsjh2_normal.jpeg', 'pinned_tweet_id': '1474267145596985347'}, {'start': 28, 'end': 36, 'username': 'SamBoik', 'id': '347900663', 'verified': True, 'created_at': '2011-08-03T15:07:55.000Z', 'location': 'Denver, CO', 'public_metrics': {'followers_count': 7568, 'following_count': 693, 'tweet_count': 45370, 'listed_count': 102}, 'name': 'Sam Boik', 'description': '💛🏠 PIVOT Lending Group - Boulder 🏈 In-game Host Denver Broncos 🧡💙 Former NFL Cheer 📺 Former TV news anchor 🩰 Former ballerina 🐶🐶 Dog mama', 'protected': False, 'url': '', 'profile_image_url': 'https://pbs.twimg.com/profile_images/1496579962060554240/OxYCYuKG_normal.jpg'}, {'start': 37, 'end': 47, 'username': 'Cernovich', 'id': '358545917', 'verified': True, 'created_at': '2011-08-20T03:02:29.000Z', 'location': 'Orange County, California', 'public_metrics': {'followers_count': 856845, 'following_count': 3213, 'tweet_count': 173927, 'listed_count': 5509}, 'name': 'Cernovich', 'description': '“So what you’re saying is…”  No. Stop right there.   What I wrote is what I was “saying.”   The rest is you being drunk, or thinking you can read my mind.', 'protected': False, 'entities': {'url': {'urls': [{'start': 0, 'end': 23, 'url': 'https://t.co/eoO81wTCcf', 'expanded_url': 'http://Rokfin.com/Cernovich', 'display_url': 'Rokfin.com/Cernovich'}]}}, 'url': 'https://t.co/eoO81wTCcf', 'profile_image_url': 'https://pbs.twimg.com/profile_images/1505784612466790400/axCC6S4v_normal.jpg', 'pinned_tweet_id': '1506332763003109376'}]}, 'referenced_tweets': [{'type': 'replied_to', 'id': '1477006061253107714'}], 'created_at': '2021-12-31T23:50:38.000Z', 'source': 'Twitter for Android', 'in_reply_to_user_id': '1460383957262880776', 'reply_settings': 'everyone', 'conversation_id': '1476711967607853064', 'context_annotations': [{'domain': {'id': '46', 'name': 'Brand Category', 'description': 'Categories within Brand Verticals that narrow down the scope of Brands'}, 'entity': {'id': '781974596752842752', 'name': 'Services'}}, {'domain': {'id': '47', 'name': 'Brand', 'description': 'Brands and Companies'}, 'entity': {'id': '10026378521', 'name': 'Google '}}, {'domain': {'id': '48', 'name': 'Product', 'description': 'Products created by Brands.  Examples: Ford Explorer, Apple iPhone.'}, 'entity': {'id': '1395474411180892160', 'name': 'Google brand conversation'}}], 'public_metrics': {'retweet_count': 0, 'reply_count': 4, 'like_count': 0, 'quote_count': 0}, 'author': {'verified': False, 'created_at': '2013-09-05T23:29:42.000Z', 'public_metrics': {'followers_count': 962, 'following_count': 2446, 'tweet_count': 13001, 'listed_count': 3}, 'name': 'KJB', 'description': '⚠️ Mean tweets, keep off.\\n💯 BS intolerant.\\n⚫ Black alpha-male.', 'protected': False, 'username': 'tjbabel', 'url': '', 'profile_image_url': 'https://pbs.twimg.com/profile_images/1432232252172345346/02pzg9gO_normal.jpg', 'id': '1733391854', 'pinned_tweet_id': '1431747058206085120'}, 'in_reply_to_user': {'verified': False, 'created_at': '2021-11-15T23:07:29.000Z', 'public_metrics': {'followers_count': 12, 'following_count': 245, 'tweet_count': 963, 'listed_count': 0}, 'name': 'Owen Lavine', 'description': 'Journalist - Cal Poly SLO ‘24 - LA', 'protected': False, 'username': 'owen_lavine', 'url': '', 'profile_image_url': 'https://pbs.twimg.com/profile_images/1460384644122099713/ToEk8Ndb_normal.jpg', 'id': '1460383957262880776', 'pinned_tweet_id': '1482061096068341760'}}], 'created_at': '2021-12-31T23:54:13.000Z', 'source': 'Twitter for iPhone', 'entities': {'urls': [{'start': 44, 'end': 67, 'url': 'https://t.co/a5p9XOE7b9', 'expanded_url': 'https://unearthed.greenpeace.org/2021/06/30/exxon-climate-change-undercover/', 'display_url': 'unearthed.greenpeace.org/2021/06/30/exx…'}], 'mentions': [{'start': 0, 'end': 8, 'username': 'tjbabel', 'id': '1733391854', 'verified': False, 'created_at': '2013-09-05T23:29:42.000Z', 'public_metrics': {'followers_count': 962, 'following_count': 2446, 'tweet_count': 13001, 'listed_count': 3}, 'name': 'KJB', 'description': '⚠️ Mean tweets, keep off.\\n💯 BS intolerant.\\n⚫ Black alpha-male.', 'protected': False, 'url': '', 'profile_image_url': 'https://pbs.twimg.com/profile_images/1432232252172345346/02pzg9gO_normal.jpg', 'pinned_tweet_id': '1431747058206085120'}, {'start': 9, 'end': 23, 'username': 'Catherine_LCP', 'id': '825445747', 'verified': False, 'created_at': '2012-09-15T15:18:21.000Z', 'location': 'U.S.', 'public_metrics': {'followers_count': 2186, 'following_count': 1882, 'tweet_count': 129708, 'listed_count': 50}, 'name': 'Kate 🇮🇪🇬🇧🇮🇹🇪🇸🇫🇷🌲', 'description': 'Europa', 'protected': False, 'url': '', 'profile_image_url': 'https://pbs.twimg.com/profile_images/2618197959/rsa2briy8k244prjsjh2_normal.jpeg', 'pinned_tweet_id': '1474267145596985347'}, {'start': 24, 'end': 32, 'username': 'SamBoik', 'id': '347900663', 'verified': True, 'created_at': '2011-08-03T15:07:55.000Z', 'location': 'Denver, CO', 'public_metrics': {'followers_count': 7568, 'following_count': 693, 'tweet_count': 45370, 'listed_count': 102}, 'name': 'Sam Boik', 'description': '💛🏠 PIVOT Lending Group - Boulder 🏈 In-game Host Denver Broncos 🧡💙 Former NFL Cheer 📺 Former TV news anchor 🩰 Former ballerina 🐶🐶 Dog mama', 'protected': False, 'url': '', 'profile_image_url': 'https://pbs.twimg.com/profile_images/1496579962060554240/OxYCYuKG_normal.jpg'}, {'start': 33, 'end': 43, 'username': 'Cernovich', 'id': '358545917', 'verified': True, 'created_at': '2011-08-20T03:02:29.000Z', 'location': 'Orange County, California', 'public_metrics': {'followers_count': 856845, 'following_count': 3213, 'tweet_count': 173927, 'listed_count': 5509}, 'name': 'Cernovich', 'description': '“So what you’re saying is…”  No. Stop right there.   What I wrote is what I was “saying.”   The rest is you being drunk, or thinking you can read my mind.', 'protected': False, 'entities': {'url': {'urls': [{'start': 0, 'end': 23, 'url': 'https://t.co/eoO81wTCcf', 'expanded_url': 'http://Rokfin.com/Cernovich', 'display_url': 'Rokfin.com/Cernovich'}]}}, 'url': 'https://t.co/eoO81wTCcf', 'profile_image_url': 'https://pbs.twimg.com/profile_images/1505784612466790400/axCC6S4v_normal.jpg', 'pinned_tweet_id': '1506332763003109376'}]}, 'in_reply_to_user_id': '1733391854', 'reply_settings': 'everyone', 'conversation_id': '1476711967607853064', 'public_metrics': {'retweet_count': 0, 'reply_count': 0, 'like_count': 0, 'quote_count': 0}, 'author': {'verified': False, 'created_at': '2021-11-15T23:07:29.000Z', 'public_metrics': {'followers_count': 12, 'following_count': 245, 'tweet_count': 963, 'listed_count': 0}, 'name': 'Owen Lavine', 'description': 'Journalist - Cal Poly SLO ‘24 - LA', 'protected': False, 'username': 'owen_lavine', 'url': '', 'profile_image_url': 'https://pbs.twimg.com/profile_images/1460384644122099713/ToEk8Ndb_normal.jpg', 'id': '1460383957262880776', 'pinned_tweet_id': '1482061096068341760'}, 'in_reply_to_user': {'verified': False, 'created_at': '2013-09-05T23:29:42.000Z', 'public_metrics': {'followers_count': 962, 'following_count': 2446, 'tweet_count': 13001, 'listed_count': 3}, 'name': 'KJB', 'description': '⚠️ Mean tweets, keep off.\n",
       "💯 BS intolerant.\n",
       "⚫ Black alpha-male.', 'protected': False, 'username': 'tjbabel', 'url': '', 'profile_image_url': 'https://pbs.twimg.com/profile_images/1432232252172345346/02pzg9gO_normal.jpg', 'id': '1733391854', 'pinned_tweet_id': '1431747058206085120'}, '__twarc': {'url': 'https://api.twitter.com/2/tweets/search/all?expansions=author_id%2Cin_reply_to_user_id%2Creferenced_tweets.id%2Creferenced_tweets.id.author_id%2Centities.mentions.username%2Cattachments.poll_ids%2Cattachments.media_keys%2Cgeo.place_id&tweet.fields=attachments%2Cauthor_id%2Ccontext_annotations%2Cconversation_id%2Ccreated_at%2Centities%2Cgeo%2Cid%2Cin_reply_to_user_id%2Clang%2Cpublic_metrics%2Ctext%2Cpossibly_sensitive%2Creferenced_tweets%2Creply_settings%2Csource%2Cwithheld&user.fields=created_at%2Cdescription%2Centities%2Cid%2Clocation%2Cname%2Cpinned_tweet_id%2Cprofile_image_url%2Cprotected%2Cpublic_metrics%2Curl%2Cusername%2Cverified%2Cwithheld&media.fields=alt_text%2Cduration_ms%2Cheight%2Cmedia_key%2Cpreview_image_url%2Ctype%2Curl%2Cwidth%2Cpublic_metrics&poll.fields=duration_minutes%2Cend_datetime%2Cid%2Coptions%2Cvoting_status&place.fields=contained_within%2Ccountry%2Ccountry_code%2Cfull_name%2Cgeo%2Cid%2Cname%2Cplace_type&start_time=2021-01-01T00%3A00%3A00%2B00%3A00&end_time=2022-01-01T00%3A00%3A00%2B00%3A00&query=exxon+climate&max_results=100', 'version': '...  \n",
       "1                                                                                                                                                                                                                                                                                                                                                                                                                                                                                                                                                                                                                                             {'lang': 'und', 'id': '1477064791499759617', 'possibly_sensitive': False, 'author_id': '1460383957262880776', 'text': '@tjbabel @Catherine_LCP @SamBoik @Cernovich https://t.co/BRBvadbSVr', 'referenced_tweets': [{'type': 'replied_to', 'id': '1477064479292592131', 'lang': 'en', 'possibly_sensitive': False, 'author_id': '1733391854', 'text': '@Catherine_LCP @owen_lavine @SamBoik @Cernovich Bra, that dude is heavily dense. Don't waste your time', 'referenced_tweets': [{'type': 'replied_to', 'id': '1477004124789133312'}], 'created_at': '2021-12-31T23:49:49.000Z', 'source': 'Twitter for Android', 'in_reply_to_user_id': '825445747', 'reply_settings': 'everyone', 'conversation_id': '1476711967607853064', 'entities': {'mentions': [{'start': 0, 'end': 14, 'username': 'Catherine_LCP', 'id': '825445747', 'verified': False, 'created_at': '2012-09-15T15:18:21.000Z', 'location': 'U.S.', 'public_metrics': {'followers_count': 2186, 'following_count': 1882, 'tweet_count': 129708, 'listed_count': 50}, 'name': 'Kate 🇮🇪🇬🇧🇮🇹🇪🇸🇫🇷🌲', 'description': 'Europa', 'protected': False, 'url': '', 'profile_image_url': 'https://pbs.twimg.com/profile_images/2618197959/rsa2briy8k244prjsjh2_normal.jpeg', 'pinned_tweet_id': '1474267145596985347'}, {'start': 15, 'end': 27, 'username': 'owen_lavine', 'id': '1460383957262880776', 'verified': False, 'created_at': '2021-11-15T23:07:29.000Z', 'public_metrics': {'followers_count': 12, 'following_count': 245, 'tweet_count': 963, 'listed_count': 0}, 'name': 'Owen Lavine', 'description': 'Journalist - Cal Poly SLO ‘24 - LA', 'protected': False, 'url': '', 'profile_image_url': 'https://pbs.twimg.com/profile_images/1460384644122099713/ToEk8Ndb_normal.jpg', 'pinned_tweet_id': '1482061096068341760'}, {'start': 28, 'end': 36, 'username': 'SamBoik', 'id': '347900663', 'verified': True, 'created_at': '2011-08-03T15:07:55.000Z', 'location': 'Denver, CO', 'public_metrics': {'followers_count': 7568, 'following_count': 693, 'tweet_count': 45370, 'listed_count': 102}, 'name': 'Sam Boik', 'description': '💛🏠 PIVOT Lending Group - Boulder 🏈 In-game Host Denver Broncos 🧡💙 Former NFL Cheer 📺 Former TV news anchor 🩰 Former ballerina 🐶🐶 Dog mama', 'protected': False, 'url': '', 'profile_image_url': 'https://pbs.twimg.com/profile_images/1496579962060554240/OxYCYuKG_normal.jpg'}, {'start': 37, 'end': 47, 'username': 'Cernovich', 'id': '358545917', 'verified': True, 'created_at': '2011-08-20T03:02:29.000Z', 'location': 'Orange County, California', 'public_metrics': {'followers_count': 856845, 'following_count': 3213, 'tweet_count': 173927, 'listed_count': 5509}, 'name': 'Cernovich', 'description': '“So what you’re saying is…”  No. Stop right there.   What I wrote is what I was “saying.”   The rest is you being drunk, or thinking you can read my mind.', 'protected': False, 'entities': {'url': {'urls': [{'start': 0, 'end': 23, 'url': 'https://t.co/eoO81wTCcf', 'expanded_url': 'http://Rokfin.com/Cernovich', 'display_url': 'Rokfin.com/Cernovich'}]}}, 'url': 'https://t.co/eoO81wTCcf', 'profile_image_url': 'https://pbs.twimg.com/profile_images/1505784612466790400/axCC6S4v_normal.jpg', 'pinned_tweet_id': '1506332763003109376'}]}, 'public_metrics': {'retweet_count': 0, 'reply_count': 2, 'like_count': 0, 'quote_count': 0}, 'author': {'verified': False, 'created_at': '2013-09-05T23:29:42.000Z', 'public_metrics': {'followers_count': 962, 'following_count': 2446, 'tweet_count': 13001, 'listed_count': 3}, 'name': 'KJB', 'description': '⚠️ Mean tweets, keep off.\\n💯 BS intolerant.\\n⚫ Black alpha-male.', 'protected': False, 'username': 'tjbabel', 'url': '', 'profile_image_url': 'https://pbs.twimg.com/profile_images/1432232252172345346/02pzg9gO_normal.jpg', 'id': '1733391854', 'pinned_tweet_id': '1431747058206085120'}, 'in_reply_to_user': {'verified': False, 'created_at': '2012-09-15T15:18:21.000Z', 'location': 'U.S.', 'public_metrics': {'followers_count': 2186, 'following_count': 1882, 'tweet_count': 129708, 'listed_count': 50}, 'name': 'Kate 🇮🇪🇬🇧🇮🇹🇪🇸🇫🇷🌲', 'description': 'Europa', 'protected': False, 'username': 'Catherine_LCP', 'url': '', 'profile_image_url': 'https://pbs.twimg.com/profile_images/2618197959/rsa2briy8k244prjsjh2_normal.jpeg', 'id': '825445747', 'pinned_tweet_id': '1474267145596985347'}}], 'created_at': '2021-12-31T23:51:03.000Z', 'source': 'Twitter for iPhone', 'entities': {'urls': [{'start': 44, 'end': 67, 'url': 'https://t.co/BRBvadbSVr', 'expanded_url': 'https://www.scientificamerican.com/article/exxon-knew-about-climate-change-almost-40-years-ago/', 'display_url': 'scientificamerican.com/article/exxon-…'}], 'mentions': [{'start': 0, 'end': 8, 'username': 'tjbabel', 'id': '1733391854', 'verified': False, 'created_at': '2013-09-05T23:29:42.000Z', 'public_metrics': {'followers_count': 962, 'following_count': 2446, 'tweet_count': 13001, 'listed_count': 3}, 'name': 'KJB', 'description': '⚠️ Mean tweets, keep off.\\n💯 BS intolerant.\\n⚫ Black alpha-male.', 'protected': False, 'url': '', 'profile_image_url': 'https://pbs.twimg.com/profile_images/1432232252172345346/02pzg9gO_normal.jpg', 'pinned_tweet_id': '1431747058206085120'}, {'start': 9, 'end': 23, 'username': 'Catherine_LCP', 'id': '825445747', 'verified': False, 'created_at': '2012-09-15T15:18:21.000Z', 'location': 'U.S.', 'public_metrics': {'followers_count': 2186, 'following_count': 1882, 'tweet_count': 129708, 'listed_count': 50}, 'name': 'Kate 🇮🇪🇬🇧🇮🇹🇪🇸🇫🇷🌲', 'description': 'Europa', 'protected': False, 'url': '', 'profile_image_url': 'https://pbs.twimg.com/profile_images/2618197959/rsa2briy8k244prjsjh2_normal.jpeg', 'pinned_tweet_id': '1474267145596985347'}, {'start': 24, 'end': 32, 'username': 'SamBoik', 'id': '347900663', 'verified': True, 'created_at': '2011-08-03T15:07:55.000Z', 'location': 'Denver, CO', 'public_metrics': {'followers_count': 7568, 'following_count': 693, 'tweet_count': 45370, 'listed_count': 102}, 'name': 'Sam Boik', 'description': '💛🏠 PIVOT Lending Group - Boulder 🏈 In-game Host Denver Broncos 🧡💙 Former NFL Cheer 📺 Former TV news anchor 🩰 Former ballerina 🐶🐶 Dog mama', 'protected': False, 'url': '', 'profile_image_url': 'https://pbs.twimg.com/profile_images/1496579962060554240/OxYCYuKG_normal.jpg'}, {'start': 33, 'end': 43, 'username': 'Cernovich', 'id': '358545917', 'verified': True, 'created_at': '2011-08-20T03:02:29.000Z', 'location': 'Orange County, California', 'public_metrics': {'followers_count': 856845, 'following_count': 3213, 'tweet_count': 173927, 'listed_count': 5509}, 'name': 'Cernovich', 'description': '“So what you’re saying is…”  No. Stop right there.   What I wrote is what I was “saying.”   The rest is you being drunk, or thinking you can read my mind.', 'protected': False, 'entities': {'url': {'urls': [{'start': 0, 'end': 23, 'url': 'https://t.co/eoO81wTCcf', 'expanded_url': 'http://Rokfin.com/Cernovich', 'display_url': 'Rokfin.com/Cernovich'}]}}, 'url': 'https://t.co/eoO81wTCcf', 'profile_image_url': 'https://pbs.twimg.com/profile_images/1505784612466790400/axCC6S4v_normal.jpg', 'pinned_tweet_id': '1506332763003109376'}]}, 'in_reply_to_user_id': '1733391854', 'reply_settings': 'everyone', 'conversation_id': '1476711967607853064', 'public_metrics': {'retweet_count': 0, 'reply_count': 0, 'like_count': 0, 'quote_count': 0}, 'author': {'verified': False, 'created_at': '2021-11-15T23:07:29.000Z', 'public_metrics': {'followers_count': 12, 'following_count': 245, 'tweet_count': 963, 'listed_count': 0}, 'name': 'Owen Lavine', 'description': 'Journalist - Cal Poly SLO ‘24 - LA', 'protected': False, 'username': 'owen_lavine', 'url': '', 'profile_image_url': 'https://pbs.twimg.com/profile_images/1460384644122099713/ToEk8Ndb_normal.jpg', 'id': '1460383957262880776', 'pinned_tweet_id': '1482061096068341760'}, 'in_reply_to_user': {'verified': False, 'created_at': '2013-09-05T23:29:42.000Z', 'public_metrics': {'followers_count': 962, 'following_count': 2446, 'tweet_count': 13001, 'listed_count': 3}, 'name': 'KJB', 'description': '⚠️ Mean tweets, keep off.\n",
       "💯 BS intolerant.\n",
       "⚫ Black alpha-male.', 'protected': False, 'username': 'tjbabel', 'url': '', 'profile_image_url': 'https://pbs.twimg.com/profile_images/1432232252172345346/02pzg9gO_normal.jpg', 'id': '1733391854', 'pinned_tweet_id': '1431747058206085120'}, '__twarc': {'url': 'https://api.twitter.com/2/tweets/search/all?expansions=author_id%2Cin_reply_to_user_id%2Creferenced_tweets.id%2Creferenced_tweets.id.author_id%2Centities.mentions.username%2Cattachments.poll_ids%2Cattachments.media_keys%2Cgeo.place_id&tweet.fields=attachments%2Cauthor_id%2Ccontext_annotations%2Cconversation_id%2Ccreated_at%2Centities%2Cgeo%2Cid%2Cin_reply_to_user_id%2Clang%2Cpublic_metrics%2Ctext%2Cpossibly_sensitive%2Creferenced_tweets%2Creply_settings%2Csource%2Cwithheld&user.fields=created_at%2Cdescription%2Centities%2Cid%2Clocation%2Cname%2Cpinned_tweet_id%2Cprofile_image_url%2Cprotected%2Cpublic_metrics%2Curl%2Cusername%2Cverified%2Cwithheld&media.fields=alt_text%2Cduration_ms%2Cheight%2Cmedia_key%2Cpreview_image_url%2Ctype%2Curl%2Cwidth%2Cpublic_metrics&poll.fields=duration_minutes%2Cend_datetime%2Cid%2Coptions%2Cvoting_status&place.fields=contained_within%2Ccountry%2Ccountry_code%2Cfull_name%2Cgeo%2Cid%2Cname%2Cplace_type&start_time=2021-01-01T00%3A00%3A00%2B00%3A00&end_time=2022-01-01T00%3A00%3A00%2B00%3A00&query=exxon+climate&max_results=100', 'version': '2.9.5', 'retrieved_at': '2022-03-27T13:14:12+00:00'}}  \n",
       "2                                                                                                                                                                                                                                                                                                                                                                                                                                                                                                                                                                                                                                                                                                                                                                                                                                                                                                                                                                                                                                                                                                                                                                                                                                                                                                                                                                                                                                                                                                                                                                                                                                                                                                                                                                                                                                                                                                                                                                                                                                                                                                                                                                                                                                                                                                                                                                                                                                                                                                                                                                                                                                                                                                                                                                   {'lang': 'en', 'id': '1477059914015125507', 'possibly_sensitive': False, 'author_id': '2732778706', 'text': 'RT @maxberger: I'm thinking about writing a satire where the U.S. Congress is blocked from taking action on the climate by a Senator who ow…', 'entities': {'annotations': [{'start': 61, 'end': 73, 'probability': 0.8912, 'type': 'Organization', 'normalized_text': 'U.S. Congress'}], 'mentions': [{'start': 3, 'end': 13, 'username': 'maxberger', 'id': '15729844', 'verified': True, 'created_at': '2008-08-05T00:09:12.000Z', 'location': 'Brooklyn, New York', 'public_metrics': {'followers_count': 62181, 'following_count': 1716, 'tweet_count': 15408, 'listed_count': 729}, 'name': 'Max Berger', 'description': 'Editorial @moreperfectus | Previously @JusticeDems, @EWarren, @coribush | Co-Founder @IfNotNowOrg + Momentum Training Institute | He/Him', 'protected': False, 'entities': {'description': {'mentions': [{'start': 10, 'end': 24, 'username': 'moreperfectus'}, {'start': 38, 'end': 50, 'username': 'JusticeDems'}, {'start': 52, 'end': 60, 'username': 'EWarren'}, {'start': 62, 'end': 71, 'username': 'coribush'}, {'start': 85, 'end': 97, 'username': 'IfNotNowOrg'}]}}, 'url': '', 'profile_image_url': 'https://pbs.twimg.com/profile_images/1471674171033858051/Y0xyQsCt_normal.jpg'}]}, 'referenced_tweets': [{'type': 'retweeted', 'id': '1476748809485045783', 'lang': 'en', 'possibly_sensitive': False, 'author_id': '15729844', 'text': 'I'm thinking about writing a satire where the U.S. Congress is blocked from taking action on the climate by a Senator who owns a coal company, lives on a yacht and speaks daily with Exxon lobbyists -- but I'm worried people will think it's too on the nose. 😔', 'entities': {'annotations': [{'start': 46, 'end': 58, 'probability': 0.9006, 'type': 'Organization', 'normalized_text': 'U.S. Congress'}, {'start': 182, 'end': 186, 'probability': 0.5846, 'type': 'Organization', 'normalized_text': 'Exxon'}]}, 'created_at': '2021-12-31T02:55:27.000Z', 'source': 'Twitter Web App', 'reply_settings': 'everyone', 'conversation_id': '1476748809485045783', 'context_annotations': [{'domain': {'id': '45', 'name': 'Brand Vertical', 'description': 'Top level entities that describe a Brands industry'}, 'entity': {'id': '781974597474263040', 'name': 'Energy'}}, {'domain': {'id': '46', 'name': 'Brand Category', 'description': 'Categories within Brand Verticals that narrow down the scope of Brands'}, 'entity': {'id': '781974596723412992', 'name': 'Gas/Oil'}}, {'domain': {'id': '47', 'name': 'Brand', 'description': 'Brands and Companies'}, 'entity': {'id': '10026377931', 'name': 'ExxonMobil'}}, {'domain': {'id': '88', 'name': 'Political Body', 'description': 'A section of a government, like The Supreme Court'}, 'entity': {'id': '961705302700654593', 'name': 'United States Congress', 'description': 'United States Congress'}}, {'domain': {'id': '45', 'name': 'Brand Vertical', 'description': 'Top level entities that describe a Brands industry'}, 'entity': {'id': '781974597474263040', 'name': 'Energy'}}, {'domain': {'id': '46', 'name': 'Brand Category', 'description': 'Categories within Brand Verticals that narrow down the scope of Brands'}, 'entity': {'id': '781974596723412992', 'name': 'Gas/Oil'}}, {'domain': {'id': '47', 'name': 'Brand', 'description': 'Brands and Companies'}, 'entity': {'id': '10039822051', 'name': 'Exxon'}}, {'domain': {'id': '88', 'name': 'Political Body', 'description': 'A section of a government, like The Supreme Court'}, 'entity': {'id': '877326946253684737', 'name': 'United States Senate', 'description': 'United States Senate'}}, {'domain': {'id': '88', 'name': 'Political Body', 'description': 'A section of a government, like The Supreme Court'}, 'entity': {'id': '961705302700654593', 'name': 'United States Congress', 'description': 'United States Congress'}}], 'public_metrics': {'retweet_count': 226, 'reply_count': 35, 'like_count': 1614, 'quote_count': 7}, 'author': {'verified': True, 'created_at': '2008-08-05T00:09:12.000Z', 'location': 'Brooklyn, New York', 'public_metrics': {'followers_count': 62181, 'following_count': 1716, 'tweet_count': 15408, 'listed_count': 729}, 'name': 'Max Berger', 'description': 'Editorial @moreperfectus | Previously @JusticeDems, @EWarren, @coribush | Co-Founder @IfNotNowOrg + Momentum Training Institute | He/Him', 'protected': False, 'entities': {'description': {'mentions': [{'start': 10, 'end': 24, 'username': 'moreperfectus'}, {'start': 38, 'end': 50, 'username': 'JusticeDems'}, {'start': 52, 'end': 60, 'username': 'EWarren'}, {'start': 62, 'end': 71, 'username': 'coribush'}, {'start': 85, 'end': 97, 'username': 'IfNotNowOrg'}]}}, 'username': 'maxberger', 'url': '', 'profile_image_url': 'https://pbs.twimg.com/profile_images/1471674171033858051/Y0xyQsCt_normal.jpg', 'id': '15729844'}}], 'created_at': '2021-12-31T23:31:40.000Z', 'source': 'Twitter for iPhone', 'reply_settings': 'everyone', 'conversation_id': '1477059914015125507', 'context_annotations': [{'domain': {'id': '88', 'name': 'Political Body', 'description': 'A section of a government, like The Supreme Court'}, 'entity': {'id': '961705302700654593', 'name': 'United States Congress', 'description': 'United States Congress'}}, {'domain': {'id': '88', 'name': 'Political Body', 'description': 'A section of a government, like The Supreme Court'}, 'entity': {'id': '877326946253684737', 'name': 'United States Senate', 'description': 'United States Senate'}}, {'domain': {'id': '88', 'name': 'Political Body', 'description': 'A section of a government, like The Supreme Court'}, 'entity': {'id': '961705302700654593', 'name': 'United States Congress', 'description': 'United States Congress'}}], 'public_metrics': {'retweet_count': 226, 'reply_count': 0, 'like_count': 0, 'quote_count': 0}, 'author': {'verified': False, 'created_at': '2014-08-03T21:19:32.000Z', 'public_metrics': {'followers_count': 258, 'following_count': 339, 'tweet_count': 19168, 'listed_count': 2}, 'name': 'Tai Chi', 'description': '', 'protected': False, 'username': 'TaiWendysb', 'url': '', 'profile_image_url': 'https://pbs.twimg.com/profile_images/620775585179172864/UWybuV7i_normal.jpg', 'id': '2732778706'}, '__twarc': {'url': 'https://api.twitter.com/2/tweets/search/all?expansions=author_id%2Cin_reply_to_user_id%2Creferenced_tweets.id%2Creferenced_tweets.id.author_id%2Centities.mentions.username%2Cattachments.poll_ids%2Cattachments.media_keys%2Cgeo.place_id&tweet.fields=attachments%2Cauthor_id%2Ccontext_annotations%2Cconversation_id%2Ccreated_at%2Centities%2Cgeo%2Cid%2Cin_reply_to_user_id%2Clang%2Cpublic_metrics%2Ctext%2Cpossibly_sensitive%2Creferenced_tweets%2Creply_settings%2Csource%2Cwithheld&user.fields=created_at%2Cdescription%2Centities%2Cid%2Clocation%2Cname%2Cpinned_tweet_id%2Cprofile_image_url%2Cprotected%2Cpublic_metrics%2Curl%2Cusername%2Cverified%2Cwithheld&media.fields=alt_text%2Cduration_ms%2Cheight%2Cmedia_key%2Cpreview_image_url%2Ctype%2Curl%2Cwidth%2Cpublic_metrics&poll.fields=duration_minutes%2Cend_datetime%2Cid%2Coptions%2Cvoting_status&place.fields=contained_within%2Ccountry%2Ccountry_code%2Cfull_name%2Cgeo%2Cid%2Cname%2Cplace_type&start_time=2021-01-01T00%3A00%3A00%2B00%3A00&end_time=2022-01-01T00%3A00%3A00%2B00%3A00&query=exxon+climate&max_results=100', 'version': '2.9.5', 'retrieved_at': '2022-03-27T13:14:12+00:00'}}  \n",
       "3  {'lang': 'en', 'id': '1477056800889323523', 'possibly_sensitive': False, 'author_id': '414239235', 'text': 'RT @zia_kat: @Mum2Mrs @oshima9 no, capitalists are the cause.\n",
       "https://t.co/VyFfKhY2Yp', 'referenced_tweets': [{'type': 'retweeted', 'id': '1477035647462363141', 'lang': 'en', 'possibly_sensitive': False, 'author_id': '795750344970141701', 'text': '@Mum2Mrs @oshima9 no, capitalists are the cause.\n",
       "https://t.co/VyFfKhY2Yp', 'referenced_tweets': [{'type': 'replied_to', 'id': '1477034599545028616', 'lang': 'en', 'possibly_sensitive': False, 'author_id': '1240462685877284864', 'text': '@zia_kat @oshima9 Actually, it is. Public perception or lying to people to skew Science is exactly why we’re here and when the politicians lied as well- we got Trump and people like him that we will now never be rid of. https://t.co/blnwkY2tAJ', 'entities': {'annotations': [{'start': 160, 'end': 164, 'probability': 0.9988, 'type': 'Person', 'normalized_text': 'Trump'}], 'urls': [{'start': 220, 'end': 243, 'url': 'https://t.co/blnwkY2tAJ', 'expanded_url': 'https://twitter.com/Mum2Mrs/status/1477034599545028616/photo/1', 'display_url': 'pic.twitter.com/blnwkY2tAJ'}], 'mentions': [{'start': 0, 'end': 8, 'username': 'zia_kat', 'id': '795750344970141701', 'verified': False, 'created_at': '2016-11-07T22:10:41.000Z', 'location': 'New Mexico, USA', 'public_metrics': {'followers_count': 3009, 'following_count': 4787, 'tweet_count': 79068, 'listed_count': 15}, 'name': '☭🇵🇸🇾🇪🇸🇾', 'description': '#ForceTheVote #NeverBiden #AbolishThePolice #greennewdeal #medicare4all #RIPActualFlatticus #AllAutistics #ActuallyAutistic #neurodiversity #nonbinary she/they', 'protected': False, 'entities': {'url': {'urls': [{'start': 0, 'end': 23, 'url': 'https://t.co/my61h8wOWI', 'expanded_url': 'http://www.neurotypical.com/page1/page1.html', 'display_url': 'neurotypical.com/page1/page1.ht…'}]}, 'description': {'hashtags': [{'start': 0, 'end': 13, 'tag': 'ForceTheVote'}, {'start': 14, 'end': 25, 'tag': 'NeverBiden'}, {'start': 26, 'end': 43, 'tag': 'AbolishThePolice'}, {'start': 44, 'end': 57, 'tag': 'greennewdeal'}, {'start': 58, 'end': 71, 'tag': 'medicare4all'}, {'start': 72, 'end': 91, 'tag': 'RIPActualFlatticus'}, {'start': 92, 'end': 105, 'tag': 'AllAutistics'}, {'start': 106, 'end': 123, 'tag': 'ActuallyAutistic'}, {'start': 124, 'end': 139, 'tag': 'neurodiversity'}, {'start': 140, 'end': 150, 'tag': 'nonbinary'}]}}, 'url': 'https://t.co/my61h8wOWI', 'profile_image_url': 'https://pbs.twimg.com/profile_images/918622187849900032/YjR0eUVd_normal.jpg', 'pinned_tweet_id': '1319703537874468864'}, {'start': 9, 'end': 17, 'username': 'oshima9', 'id': '414239235', 'verified': False, 'created_at': '2011-11-16T20:17:25.000Z', 'location': 'Sacramento, CA', 'public_metrics': {'followers_count': 1011, 'following_count': 1219, 'tweet_count': 81291, 'listed_count': 39}, 'name': 'Richard Estes', 'description': '\"Be as radical as reality.\"  -- Lenin\\n\"Capitalism will not inform the future of this planet.\" -- Angela Davis', 'protected': False, 'entities': {'url': {'urls': [{'start': 0, 'end': 23, 'url': 'https://t.co/jMqJ1VrD1e', 'expanded_url': 'http://www.amleft.blogspot.com', 'display_url': 'amleft.blogspot.com'}]}}, 'url': 'https://t.co/jMqJ1VrD1e', 'profile_image_url': 'https://pbs.twimg.com/profile_images/1833093939/Fassbinder2_normal.jpg', 'pinned_tweet_id': '834100900964626432'}]}, 'referenced_tweets': [{'type': 'replied_to', 'id': '1477033355963101188'}], 'created_at': '2021-12-31T21:51:05.000Z', 'source': 'Twitter for iPhone', 'in_reply_to_user_id': '795750344970141701', 'attachments': {'media_keys': ['16_1477034591261278212'], 'media': [{}]}, 'reply_settings': 'everyone', 'conversation_id': '1476641658636693513', 'context_annotations': [{'domain': {'id': '10', 'name': 'Person', 'description': 'Named people in the world like Nelson Mandela'}, 'entity': {'id': '799022225751871488', 'name': 'Donald Trump', 'description': 'US President Donald Trump'}}, {'domain': {'id': '35', 'name': 'Politician', 'description': 'Politicians in the world, like Joe Biden'}, 'entity': {'id': '799022225751871488', 'name': 'Donald Trump', 'description': 'US President Donald Trump'}}], 'public_metrics': {'retweet_count': 0, 'reply_count': 3, 'like_count': 0, 'quote_count': 0}}], 'created_at': '2021-12-31T21:55:15.000Z', 'source': 'Twitter Web App', 'entities': {'urls': [{'start': 49, 'end': 72, 'url': 'https://t.co/VyFfKhY2Yp', 'expanded_url': 'https://www.scientificamerican.com/article/exxon-knew-about-climate-change-almost-40-years-ago/', 'display_url': 'scientificamerican.com/article/exxon-…'}], 'mentions': [{'start': 0, 'end': 8, 'username': 'Mum2Mrs', 'id': '1240462685877284864', 'verified': False, 'created_at': '2020-03-19T02:18:56.000Z', 'location': 'United States', 'public_metrics': {'followers_count': 726, 'following_count': 833, 'tweet_count': 54296, 'listed_count': 4}, 'name': 'Shiba~Mum🐕Socialist Dog Mom', 'description': 'Feminist, M4ALL, BLM, 🌈 Allergic to anti-vaxers, Trumpers, general idiots.Into animal rescue and retweeting to save the ones I can’t. #FireRisaWeinstock #NYAAC', 'protected': False, 'entities': {'description': {'hashtags': [{'start': 134, 'end': 152, 'tag': 'FireRisaWeinstock'}, {'start': 153, 'end': 159, 'tag': 'NYAAC'}]}}, 'url': '', 'profile_image_url': 'https://pbs.twimg.com/profile_images/1495152677302546433/vo-tD9Zi_normal.jpg', 'pinned_tweet_id': '1404212128723128332'}, {'start': 9, 'end': 17, 'username': 'oshima9', 'id': '414239235', 'verified': False, 'created_at': '2011-11-16T20:17:25.000Z', 'location': 'Sacramento, CA', 'public_metrics': {'followers_count': 1011, 'following_count': 1219, 'tweet_count': 81291, 'listed_count': 39}, 'name': 'Richard Estes', 'description': '\"Be as radical as reality.\"  -- Lenin\\n\"Capitalism will not inform the future of this planet.\" -- Angela Davis', 'protected': False, 'entities': {'url': {'urls': [{'start': 0, 'end': 23, 'url': 'https://t.co/jMqJ1VrD1e', 'expanded_url': 'http://www.amleft.blogspot.com', 'display_url': 'amleft.blogspot.com'}]}}, 'url': 'https://t.co/jMqJ1VrD1e', 'profile_image_url': 'https://pbs.twimg.com/profile_images/1833093939/Fassbinder2_normal.jpg', 'pinned_tweet_id': '834100900964626432'}]}, 'in_reply_to_user_id': '1240462685877284864', 'reply_settings': 'everyone', 'conversation_id': '1476641658636693513', 'public_metrics': {'retweet_count': 1, 'reply_count': 0, 'like_count': 1, 'quote_count': 0}, 'author': {'verified': False, 'created_at': '2016-11-07T22:10:41.000Z', 'location': 'New Mexico, USA', 'public_metrics': {'followers_count': 3009, 'following_count': 4787, 'tweet_count': 79068, 'listed_count': 15}, 'name': '☭🇵🇸🇾🇪🇸🇾', 'description': '#ForceTheVote #NeverBiden #AbolishThePolice #greennewdeal #medicare4all #RIPActualFlatticus #AllAutistics #ActuallyAutistic #neurodiversity #nonbinary she/they', 'protected': False, 'entities': {'url': {'urls': [{'start': 0, 'end': 23, 'url': 'https://t.co/my61h8wOWI', 'expanded_url': 'http://www.neurotypical.com/page1/page1.html', 'display_url': 'neurotypical.com/page1/page1.ht…'}]}, 'description': {'hashtags': [{'start': 0, 'end': 13, 'tag': 'ForceTheVote'}, {'start': 14, 'end': 25, 'tag': 'NeverBiden'}, {'start': 26, 'end': 43, 'tag': 'AbolishThePolice'}, {'start': 44, 'end': 57, 'tag': 'greennewdeal'}, {'start': 58, 'end': 71, 'tag': 'medicare4all'}, {'start': 72, 'end': 91, 'tag': 'RIPActualFlatticus'}, {'start': 92, 'end': 105, 'tag': 'AllAutistics'}, {'start': 106, 'end': 123, 'tag': 'ActuallyAutistic'}, {'start': 124, 'end': 139, 'tag': 'neurodiversity'}, {'start': 140, 'end': 150, 'tag': 'nonbinary'}]}}, 'username': 'zia_kat', 'url': 'https://t.co/my61h8wOWI', 'profile_image_url': 'https://pbs.twimg.com/profile_images/918622187849900032/YjR0eUVd_normal.jpg', 'id': '795750344970141701', 'pinned_tweet_id': '1319703537874468864'}, 'in_reply_to_user': {'verified': False, 'created_at': '2020-03-19T02:18:56.000Z', 'location': 'United States', 'public_metrics': {'followers_count': 726, 'following_count': 833, 'tweet_count': 54296, 'listed_count': 4}, 'name': 'Shiba~Mum🐕Socialist Dog Mom', 'description': 'Feminist, M4ALL, BLM, 🌈 Allergic to anti-vaxers, Trumpers, general idiots.Into animal rescue and retweeting to save the ones I can’t. #FireRisaWeinstock #NYAAC', 'protected': False, 'entities': {'description': {'hashtags': [{'start': 134, 'end': 152, 'tag': 'FireRisaWeinstock'}, {'start': 153, 'end': 159, 'tag': 'NYAAC'}]}}, 'username': 'Mum2Mrs', 'url': '', 'profile_image_url': 'https://pbs.twimg.com/profile_images/1495152677302546433/vo-tD9Zi_normal.jpg', 'id': '1240462685877284864', 'pinned_tweet_id': '1404212128723128332'}}], 'created_at': '2021-12-31T23:19:18.000Z', 'source': 'Twitter Web App', 'entities': {'urls': [{'start': 62, 'end': 85, 'url': 'https://t.co/VyFfKhY2Yp', 'expanded_url': 'https://www.scientificamerican.com/article/exxon-knew-about-climate-change-almost-40-years-ago/', 'display_url': 'scientificamerican.com/article/exxon-…'}], 'mentions': [{'start': 3, 'end': 11, 'username': 'zia_kat', 'id': '795750344970141701', 'verified': False, 'created_at': '2016-11-07T22:10:41.000Z', 'location': 'New Mexico, USA', 'public_metrics': {'followers_count': 3009, 'following_count': 4787, 'tweet_count': 79068, 'listed_count': 15}, 'name': '☭🇵🇸🇾🇪🇸🇾', 'description': '#ForceTheVote #NeverBiden #AbolishThePolice #greennewdeal #medicare4all #RIPActualFlatticus #AllAutistics #ActuallyAutistic #neurodiversity #nonbinary she/they', 'protected': False, 'entities': {'url': {'urls': [{'start': 0, 'end': 23, 'url': 'https://t.co/my61h8wOWI', 'expanded_url': 'http://www.neurotypical.com/page1/page1.html', 'display_url': 'neurotypical.com/page1/page1.ht…'}]}, 'description': {'hashtags': [{'start': 0, 'end': 13, 'tag': 'ForceTheVote'}, {'start': 14, 'end': 25, 'tag': 'NeverBiden'}, {'start': 26, 'end': 43, 'tag': 'AbolishThePolice'}, {'start': 44, 'end': 57, 'tag': 'greennewdeal'}, {'start': 58, 'end': 71, 'tag': 'medicare4all'}, {'start': 72, 'end': 91,...  \n",
       "4  {'lang': 'en', 'id': '1477046502400868359', 'possibly_sensitive': False, 'author_id': '824946672673361920', 'text': 'RT @Carpe_DMT: @ScottGrimnes @MaMan564 @SoFarFletched ‘We’ started calling it ‘climate change’ when Exxon Mobile did a very successful PR c…', 'entities': {'annotations': [{'start': 100, 'end': 111, 'probability': 0.4118, 'type': 'Organization', 'normalized_text': 'Exxon Mobile'}], 'mentions': [{'start': 3, 'end': 13, 'username': 'Carpe_DMT', 'id': '2181341294', 'verified': False, 'created_at': '2013-11-08T03:03:46.000Z', 'public_metrics': {'followers_count': 585, 'following_count': 4999, 'tweet_count': 9011, 'listed_count': 6}, 'name': 'CARPE_DMT', 'description': 'play MAD DOG 2021 https://t.co/EP5AkVshrF', 'protected': False, 'entities': {'url': {'urls': [{'start': 0, 'end': 23, 'url': 'https://t.co/wL90PAKdfG', 'expanded_url': 'https://virtualreality.pizza', 'display_url': 'virtualreality.pizza'}]}, 'description': {'urls': [{'start': 18, 'end': 41, 'url': 'https://t.co/EP5AkVshrF', 'expanded_url': 'https://www.oculus.com/experiences/quest/4280512035321327/', 'display_url': 'oculus.com/experiences/qu…'}]}}, 'url': 'https://t.co/wL90PAKdfG', 'profile_image_url': 'https://pbs.twimg.com/profile_images/1411076556986986498/ssRjQ9bA_normal.jpg', 'pinned_tweet_id': '1441988376643584002'}, {'start': 15, 'end': 28, 'username': 'ScottGrimnes', 'id': '847597746043342848', 'verified': False, 'created_at': '2017-03-30T23:53:45.000Z', 'location': 'Arizona, USA', 'public_metrics': {'followers_count': 357, 'following_count': 708, 'tweet_count': 19119, 'listed_count': 0}, 'name': 'Scott Grimnes', 'description': 'PNW boy living in the Desert. Life is about Balance.', 'protected': False, 'url': '', 'profile_image_url': 'https://pbs.twimg.com/profile_images/1274786865522991105/PXfSI9wF_normal.jpg'}, {'start': 29, 'end': 38, 'username': 'MaMan564', 'id': '1269846144869298176', 'verified': False, 'created_at': '2020-06-08T04:18:20.000Z', 'public_metrics': {'followers_count': 141, 'following_count': 695, 'tweet_count': 5747, 'listed_count': 0}, 'name': 'Ma Man', 'description': '', 'protected': False, 'url': '', 'profile_image_url': 'https://abs.twimg.com/sticky/default_profile_images/default_profile_normal.png'}, {'start': 39, 'end': 53, 'username': 'SoFarFletched', 'id': '2251014270', 'verified': False, 'created_at': '2013-12-17T21:48:49.000Z', 'location': 'Huntington Beach, CA', 'public_metrics': {'followers_count': 357, 'following_count': 874, 'tweet_count': 1304, 'listed_count': 4}, 'name': 'Jason Fletcher', 'description': 'Director, Digital at Mastercard Luxury Card | Lifestyle Fintech | Performance Marketing | Nutella Hater | Denver Sports Fan | Club🏠: Jason.Fletcher', 'protected': False, 'url': '', 'profile_image_url': 'https://pbs.twimg.com/profile_images/1076940030742953984/TxivOKeT_normal.jpg', 'pinned_tweet_id': '1272228402662010881'}]}, 'referenced_tweets': [{'type': 'retweeted', 'id': '1476696095963058177', 'lang': 'en', 'possibly_sensitive': False, 'author_id': '2181341294', 'text': '@ScottGrimnes @MaMan564 @SoFarFletched ‘We’ started calling it ‘climate change’ when Exxon Mobile did a very successful PR campaign in the 90’s. Apparently ‘global warming’ is too specific and scary. But It’s global warming. https://t.co/WPetiWDQG3', 'entities': {'annotations': [{'start': 85, 'end': 96, 'probability': 0.581, 'type': 'Organization', 'normalized_text': 'Exxon Mobile'}], 'urls': [{'start': 225, 'end': 248, 'url': 'https://t.co/WPetiWDQG3', 'expanded_url': 'http://Exxonknew.org', 'display_url': 'Exxonknew.org'}], 'mentions': [{'start': 0, 'end': 13, 'username': 'ScottGrimnes', 'id': '847597746043342848', 'verified': False, 'created_at': '2017-03-30T23:53:45.000Z', 'location': 'Arizona, USA', 'public_metrics': {'followers_count': 357, 'following_count': 708, 'tweet_count': 19119, 'listed_count': 0}, 'name': 'Scott Grimnes', 'description': 'PNW boy living in the Desert. Life is about Balance.', 'protected': False, 'url': '', 'profile_image_url': 'https://pbs.twimg.com/profile_images/1274786865522991105/PXfSI9wF_normal.jpg'}, {'start': 14, 'end': 23, 'username': 'MaMan564', 'id': '1269846144869298176', 'verified': False, 'created_at': '2020-06-08T04:18:20.000Z', 'public_metrics': {'followers_count': 141, 'following_count': 695, 'tweet_count': 5747, 'listed_count': 0}, 'name': 'Ma Man', 'description': '', 'protected': False, 'url': '', 'profile_image_url': 'https://abs.twimg.com/sticky/default_profile_images/default_profile_normal.png'}, {'start': 24, 'end': 38, 'username': 'SoFarFletched', 'id': '2251014270', 'verified': False, 'created_at': '2013-12-17T21:48:49.000Z', 'location': 'Huntington Beach, CA', 'public_metrics': {'followers_count': 357, 'following_count': 874, 'tweet_count': 1304, 'listed_count': 4}, 'name': 'Jason Fletcher', 'description': 'Director, Digital at Mastercard Luxury Card | Lifestyle Fintech | Performance Marketing | Nutella Hater | Denver Sports Fan | Club🏠: Jason.Fletcher', 'protected': False, 'url': '', 'profile_image_url': 'https://pbs.twimg.com/profile_images/1076940030742953984/TxivOKeT_normal.jpg', 'pinned_tweet_id': '1272228402662010881'}]}, 'referenced_tweets': [{'type': 'replied_to', 'id': '1476684617755160580'}], 'created_at': '2021-12-30T23:25:59.000Z', 'source': 'Twitter for iPhone', 'in_reply_to_user_id': '847597746043342848', 'reply_settings': 'everyone', 'conversation_id': '1476664863980077057', 'context_annotations': [{'domain': {'id': '45', 'name': 'Brand Vertical', 'description': 'Top level entities that describe a Brands industry'}, 'entity': {'id': '781974597474263040', 'name': 'Energy'}}, {'domain': {'id': '46', 'name': 'Brand Category', 'description': 'Categories within Brand Verticals that narrow down the scope of Brands'}, 'entity': {'id': '781974596723412992', 'name': 'Gas/Oil'}}, {'domain': {'id': '47', 'name': 'Brand', 'description': 'Brands and Companies'}, 'entity': {'id': '10026377931', 'name': 'ExxonMobil'}}, {'domain': {'id': '45', 'name': 'Brand Vertical', 'description': 'Top level entities that describe a Brands industry'}, 'entity': {'id': '781974597474263040', 'name': 'Energy'}}, {'domain': {'id': '46', 'name': 'Brand Category', 'description': 'Categories within Brand Verticals that narrow down the scope of Brands'}, 'entity': {'id': '781974596723412992', 'name': 'Gas/Oil'}}, {'domain': {'id': '47', 'name': 'Brand', 'description': 'Brands and Companies'}, 'entity': {'id': '10039822051', 'name': 'Exxon'}}], 'public_metrics': {'retweet_count': 7, 'reply_count': 1, 'like_count': 31, 'quote_count': 0}, 'author': {'verified': False, 'created_at': '2013-11-08T03:03:46.000Z', 'public_metrics': {'followers_count': 585, 'following_count': 4999, 'tweet_count': 9011, 'listed_count': 6}, 'name': 'CARPE_DMT', 'description': 'play MAD DOG 2021 https://t.co/EP5AkVshrF', 'protected': False, 'entities': {'url': {'urls': [{'start': 0, 'end': 23, 'url': 'https://t.co/wL90PAKdfG', 'expanded_url': 'https://virtualreality.pizza', 'display_url': 'virtualreality.pizza'}]}, 'description': {'urls': [{'start': 18, 'end': 41, 'url': 'https://t.co/EP5AkVshrF', 'expanded_url': 'https://www.oculus.com/experiences/quest/4280512035321327/', 'display_url': 'oculus.com/experiences/qu…'}]}}, 'username': 'Carpe_DMT', 'url': 'https://t.co/wL90PAKdfG', 'profile_image_url': 'https://pbs.twimg.com/profile_images/1411076556986986498/ssRjQ9bA_normal.jpg', 'id': '2181341294', 'pinned_tweet_id': '1441988376643584002'}, 'in_reply_to_user': {'verified': False, 'created_at': '2017-03-30T23:53:45.000Z', 'location': 'Arizona, USA', 'public_metrics': {'followers_count': 357, 'following_count': 708, 'tweet_count': 19119, 'listed_count': 0}, 'name': 'Scott Grimnes', 'description': 'PNW boy living in the Desert. Life is about Balance.', 'protected': False, 'username': 'ScottGrimnes', 'url': '', 'profile_image_url': 'https://pbs.twimg.com/profile_images/1274786865522991105/PXfSI9wF_normal.jpg', 'id': '847597746043342848'}}], 'created_at': '2021-12-31T22:38:23.000Z', 'source': 'Twitter for iPhone', 'reply_settings': 'everyone', 'conversation_id': '1477046502400868359', 'context_annotations': [{'domain': {'id': '45', 'name': 'Brand Vertical', 'description': 'Top level entities that describe a Brands industry'}, 'entity': {'id': '781974597474263040', 'name': 'Energy'}}, {'domain': {'id': '46', 'name': 'Brand Category', 'description': 'Categories within Brand Verticals that narrow down the scope of Brands'}, 'entity': {'id': '781974596723412992', 'name': 'Gas/Oil'}}, {'domain': {'id': '47', 'name': 'Brand', 'description': 'Brands and Companies'}, 'entity': {'id': '10026377931', 'name': 'ExxonMobil'}}, {'domain': {'id': '45', 'name': 'Brand Vertical', 'description': 'Top level entities that describe a Brands industry'}, 'entity': {'id': '781974597474263040', 'name': 'Energy'}}, {'domain': {'id': '46', 'name': 'Brand Category', 'description': 'Categories within Brand Verticals that narrow down the scope of Brands'}, 'entity': {'id': '781974596723412992', 'name': 'Gas/Oil'}}, {'domain': {'id': '47', 'name': 'Brand', 'description': 'Brands and Companies'}, 'entity': {'id': '10039822051', 'name': 'Exxon'}}], 'public_metrics': {'retweet_count': 7, 'reply_count': 0, 'like_count': 0, 'quote_count': 0}, 'author': {'verified': False, 'created_at': '2017-01-27T11:46:28.000Z', 'location': 'Illinois, USA', 'public_metrics': {'followers_count': 487, 'following_count': 1753, 'tweet_count': 134727, 'listed_count': 5}, 'name': 'Kris', 'description': 'Air? Nah, I need more bookshelves. He/him, 30, DMs & plays DnD, and occasionally tweets about it. 📚📖🔖', 'protected': False, 'entities': {'url': {'urls': [{'start': 0, 'end': 23, 'url': 'https://t.co/nUj8xCRzV5', 'expanded_url': 'https://comeoutandplay.games/', 'display_url': 'comeoutandplay.games'}]}}, 'username': 'writing_callous', 'url': 'https://t.co/nUj8xCRzV5', 'profile_image_url': 'https://pbs.twimg.com/profile_images/1070131662107930624/swW_99cd_normal.jpg', 'id': '82494...  "
      ]
     },
     "execution_count": 62,
     "metadata": {},
     "output_type": "execute_result"
    }
   ],
   "source": [
    "def format_topics_sentences(ldamodel=lda_model, corpus=corpus, texts=data):\n",
    "    # Init output\n",
    "    sent_topics_df = pd.DataFrame()\n",
    "\n",
    "    # Get main topic in each document\n",
    "    for i, row in enumerate(ldamodel[corpus]):\n",
    "        row = sorted(row, key=lambda x: (x[1]), reverse=True)\n",
    "        # Get the Dominant topic, Perc Contribution and Keywords for each document\n",
    "        for j, (topic_num, prop_topic) in enumerate(row):\n",
    "            if j == 0:  # => dominant topic\n",
    "                wp = ldamodel.show_topic(topic_num)\n",
    "                topic_keywords = \", \".join([word for word, prop in wp])\n",
    "                sent_topics_df = sent_topics_df.append(pd.Series([int(topic_num), round(prop_topic,4), topic_keywords]), ignore_index=True)\n",
    "            else:\n",
    "                break\n",
    "    sent_topics_df.columns = ['Dominant_Topic', 'Perc_Contribution', 'Topic_Keywords']\n",
    "\n",
    "    # Add original text to the end of the output\n",
    "    contents = pd.Series(texts)\n",
    "    sent_topics_df = pd.concat([sent_topics_df, contents], axis=1)\n",
    "    return(sent_topics_df)\n",
    "\n",
    "\n",
    "df_topic_sents_keywords = format_topics_sentences(ldamodel=optimal_model, corpus=corpus, texts=data)\n",
    "\n",
    "# Format\n",
    "df_dominant_topic = df_topic_sents_keywords.reset_index()\n",
    "df_dominant_topic.columns = ['Document_No', 'Dominant_Topic', 'Topic_Perc_Contrib', 'Keywords', 'Text']\n",
    "\n",
    "# Show\n",
    "df_dominant_topic.head()"
   ]
  },
  {
   "cell_type": "markdown",
   "id": "ac667693-c3cf-41c6-b3f7-f20dc92ffd93",
   "metadata": {
    "jp-MarkdownHeadingCollapsed": true,
    "tags": []
   },
   "source": [
    "### Find the most representative document for each topic"
   ]
  },
  {
   "cell_type": "code",
   "execution_count": 63,
   "id": "b0af1d4e-6496-4096-817a-52ea6e513e2d",
   "metadata": {},
   "outputs": [
    {
     "data": {
      "text/html": [
       "<div>\n",
       "<style scoped>\n",
       "    .dataframe tbody tr th:only-of-type {\n",
       "        vertical-align: middle;\n",
       "    }\n",
       "\n",
       "    .dataframe tbody tr th {\n",
       "        vertical-align: top;\n",
       "    }\n",
       "\n",
       "    .dataframe thead th {\n",
       "        text-align: right;\n",
       "    }\n",
       "</style>\n",
       "<table border=\"1\" class=\"dataframe\">\n",
       "  <thead>\n",
       "    <tr style=\"text-align: right;\">\n",
       "      <th></th>\n",
       "      <th>Topic_Num</th>\n",
       "      <th>Topic_Perc_Contrib</th>\n",
       "      <th>Keywords</th>\n",
       "      <th>Text</th>\n",
       "    </tr>\n",
       "  </thead>\n",
       "  <tbody>\n",
       "    <tr>\n",
       "      <th>0</th>\n",
       "      <td>0.0</td>\n",
       "      <td>0.9618</td>\n",
       "      <td>climate, company, shareholder, go, today, break, case, change, involve, know</td>\n",
       "      <td>{'lang': 'en', 'entities': {'mentions': [{'start': 3, 'end': 15, 'username': 'PaulEDawson', 'id': '950477244', 'protected': False, 'entities': {'url': {'urls': [{'start': 0, 'end': 23, 'url': 'https://t.co/WMziwe31E3', 'expanded_url': 'https://www.getrevue.co/profile/ClimateSolutionsBookClub', 'display_url': 'getrevue.co/profile/Climat…'}]}}, 'description': 'Thinking and talking about climate change solutions!\\nSign up for my newsletter on climate solutions.', 'created_at': '2012-11-15T21:14:22.000Z', 'public_metrics': {'followers_count': 71125, 'following_count': 16344, 'tweet_count': 32248, 'listed_count': 988}, 'profile_image_url': 'https://pbs.twimg.com/profile_images/1455200229641396231/RbEz6hts_normal.jpg', 'verified': False, 'location': 'Glasgow, Scotland', 'pinned_tweet_id': '1495405901670404101', 'name': 'Paul Dawson 🚢📚', 'url': 'https://t.co/WMziwe31E3'}], 'annotations': [{'start': 17, 'end': 21, 'probability': 0.8828, 'type': 'Organization', 'normalized_text': 'Exxon'}, {'start': 123, 'end': 127, 'probability': 0.4454, 'type': 'Organization', 'normalized_text': 'Exxon'}]}, 'referenced_tweets': [{'type': 'retweeted', 'id': '1410594035178164230', 'entities': {'hashtags': [{'start': 167, 'end': 180, 'tag': 'ActOnClimate'}, {'start': 181, 'end': 199, 'tag': 'KeepItInTheGround'}, {'start': 200, 'end': 210, 'tag': 'ExxonKnew'}], 'annotations': [{'start': 0, 'end': 4, 'probability': 0.8712, 'type': 'Organization', 'normalized_text': 'Exxon'}, {'start': 106, 'end': 110, 'probability': 0.5098, 'type': 'Organization', 'normalized_text': 'Exxon'}, {'start': 122, 'end': 126, 'probability': 0.2802, 'type': 'Organization', 'normalized_text': 'Exxon'}], 'urls': [{'start': 211, 'end': 234, 'url': 'https://t.co/gWZzJIJaFK', 'expanded_url': 'https://www.bloomberg.com/news/articles/2020-10-05/exxon-carbon-emissions-and-climate-leaked-plans-reveal-rising-co2-output', 'display_url': 'bloomberg.com/news/articles/…'}]}, 'lang': 'en', 'source': 'TweetDeck', 'conversation_id': '1410594035178164230', 'text': 'Exxon’s own assessment of its $210 billion investment strategy shows yearly emissions rising 17% by 2025\n",
       "\n",
       "Exxon knew then\n",
       "Exxon knows now\n",
       "Exxon is committing Ecocide\n",
       "\n",
       "#ActOnClimate #KeepItInTheGround #ExxonKnew https://t.co/gWZzJIJaFK', 'context_annotations': [{'domain': {'id': '45', 'name': 'Brand Vertical', 'description': 'Top level entities that describe a Brands industry'}, 'entity': {'id': '781974597474263040', 'name': 'Energy'}}, {'domain': {'id': '46', 'name': 'Brand Category', 'description': 'Categories within Brand Verticals that narrow down the scope of Brands'}, 'entity': {'id': '781974596723412992', 'name': 'Gas/Oil'}}, {'domain': {'id': '47', 'name': 'Brand', 'description': 'Brands and Companies'}, 'entity': {'id': '10026377931', 'name': 'ExxonMobil'}}, {'domain': {'id': '45', 'name': 'Brand Vertical', 'description': 'Top level entities that describe a Brands industry'}, 'entity': {'id': '781974597474263040', 'name': 'Energy'}}, {'domain': {'id': '46', 'name': 'Brand Category', 'description': 'Categories within Brand Verticals that narrow down the scope of Brands'}, 'entity': {'id': '781974596723412992', 'name': 'Gas/Oil'}}, {'domain': {'id': '47', 'name': 'Brand', 'description': 'Brands and Companies'}, 'entity': {'id': '10039822051', 'name': 'Exxon'}}], 'author_id': '950477244', 'public_metrics': {'retweet_count': 70, 'reply_count': 5, 'like_count': 74, 'quote_count': 6}, 'possibly_sensitive': False, 'reply_settings': 'everyone', 'created_at': '2021-07-01T13:40:00.000Z', 'author': {'id': '950477244', 'protected': False, 'entities': {'url': {'urls': [{'start': 0, 'end': 23, 'url': 'https://t.co/WMziwe31E3', 'expanded_url': 'https://www.getrevue.co/profile/ClimateSolutionsBookClub', 'display_url': 'getrevue.co/profile/Climat…'}]}}, 'description': 'Thinking and talking about climate change solutions!\\nSign up for my newsletter on climate solutions.', 'created_at': '2012-11-15T21:14:22.000Z', 'public_metrics': {'followers_count': 71125, 'following_count': 16344, 'tweet_count': 32248, 'listed_count': 988}, 'profile_image_url': 'https://pbs.twimg.com/profile_images/1455200229641396231/RbEz6hts_normal.jpg', 'verified': False, 'username': 'PaulEDawson', 'location': 'Glasgow, Scotland', 'pinned_tweet_id': '1495405901670404101', 'name': 'Paul Dawson 🚢📚', 'url': 'https://t.co/WMziwe31E3'}}], 'source': 'Twitter for iPhone', 'conversation_id': '1410599408182325251', 'text': 'RT @PaulEDawson: Exxon’s own assessment of its $210 billion investment strategy shows yearly emissions rising 17% by 2025\n",
       "\n",
       "Exxon knew then…', 'id': '1410599408182325251', 'context_annotations': [{'domain': {'id': '45', 'name': 'Brand Vertical', 'description': 'Top level entities that describe a Brands industry'}, 'entity': {'id': '781974597474263040', 'name': 'Energy'}}, {'domain': {'id': '46', 'name': 'Brand Category', 'description': 'Categories within Brand Verticals that narrow down the scope of Brands'}, 'entity': {'id': '781974596723412992', 'name': 'Gas/Oil'}}, {'domain': {'id': '47', 'name': 'Brand', 'description': 'Brands and Companies'}, 'entity': {'id': '10026377931', 'name': 'ExxonMobil'}}, {'domain': {'id': '45', 'name': 'Brand Vertical', 'description': 'Top level entities that describe a Brands industry'}, 'entity': {'id': '781974597474263040', 'name': 'Energy'}}, {'domain': {'id': '46', 'name': 'Brand Category', 'description': 'Categories within Brand Verticals that narrow down the scope of Brands'}, 'entity': {'id': '781974596723412992', 'name': 'Gas/Oil'}}, {'domain': {'id': '47', 'name': 'Brand', 'description': 'Brands and Companies'}, 'entity': {'id': '10039822051', 'name': 'Exxon'}}], 'author_id': '2411313362', 'public_metrics': {'retweet_count': 70, 'reply_count': 0, 'like_count': 0, 'quote_count': 0}, 'possibly_sensitive': False, 'reply_settings': 'everyone', 'created_at': '2021-07-01T14:01:21.000Z', 'author': {'id': '2411313362', 'protected': False, 'description': 'Living on Biripi land. Opinions are my own.', 'created_at': '2014-03-25T17:13:19.000Z', 'public_metrics': {'followers_count': 1696, 'following_count': 816, 'tweet_count': 207297, 'listed_count': 12}, 'profile_image_url': 'https://pbs.twimg.com/profile_images/561026440305463296/EuaxSrc-_normal.jpeg', 'verified': False, 'username': 'lorraindeer', 'location': 'Port Macquarie', 'pinned_tweet_id': '1083855148915408896', 'name': '💜 Lorraine Withers', 'url': ''}, '__twarc': {'url': 'https://api.twitter.com/2/tweets/search/all?expansions=author_id%2Cin_reply_to_user_id%2Creferenced_tweets.id%2Creferenced_tweets.id.author_id%2Centities.mentions.username%2Cattachments.poll_ids%2Cattachments.media_keys%2Cgeo.place_id&amp;tweet.fields=attachments%2Cauthor_id%2Ccontext_annotations%2Cconversation_id%2Ccreated_at%2Centities%2Cgeo%2Cid%2Cin_reply_to_user_id%2Clang%2Cpublic_metrics%2Ctext%2Cpossibly_sensitive%2Creferenced_tweets%2Creply_settings%2Csource%2Cwithheld&amp;user.fields=created_at%2Cdescription%2Centities%2Cid%2Clocation%2Cname%2Cpinned_tweet_id%2Cprofile_image_url%2Cprotected%2Cpublic_metrics%2Curl%2Cusername%2Cverified%2Cwithheld&amp;media.fields=alt_text%2Cduration_ms%2Cheight%2Cmedia_key%2Cpreview_image_url%2Ctype%2Curl%2Cwidth%2Cpublic_metrics&amp;poll.fields=duration_minutes%2Cend_datetime%2Cid%2Coptions%2Cvoting_status&amp;place.fields=contained_within%2Ccountry%2Ccountry_code%2Cfull_name%2Cgeo%2Cid%2Cname%2Cplace_type&amp;start_time=2021-01-01T00%3A00%3A00%2B00%3A00&amp;end_time=2022-01-01T00%3A00%3A00%2B00%3A00&amp;query=exxon+climate&amp;max_results=100&amp;next_token=b26v89c19zqg8o3fpdj6p0hwllvsy590t7vpr64pie8al', 'version': '2.9.5', 'retrieved_at': '2022-03-27T22:15:02+00:00'}}</td>\n",
       "    </tr>\n",
       "    <tr>\n",
       "      <th>1</th>\n",
       "      <td>1.0</td>\n",
       "      <td>0.9477</td>\n",
       "      <td>change, activist, law, good, board, work, business, stand, put, exxon</td>\n",
       "      <td>{'lang': 'en', 'reply_settings': 'everyone', 'author_id': '2474265036', 'public_metrics': {'retweet_count': 9, 'reply_count': 0, 'like_count': 0, 'quote_count': 0}, 'text': 'RT @JunkScience: Climate is a brain-eating cancer.\n",
       "\n",
       "https://t.co/9OrV6v5pZY via @WSJ', 'conversation_id': '1423272487337476098', 'source': 'Twitter for Android', 'referenced_tweets': [{'type': 'retweeted', 'id': '1423263068931436550', 'lang': 'en', 'reply_settings': 'everyone', 'author_id': '21150492', 'public_metrics': {'retweet_count': 9, 'reply_count': 4, 'like_count': 22, 'quote_count': 0}, 'text': 'Climate is a brain-eating cancer.\n",
       "\n",
       "https://t.co/9OrV6v5pZY via @WSJ', 'conversation_id': '1423263068931436550', 'source': 'Twitter Web App', 'entities': {'urls': [{'start': 35, 'end': 58, 'url': 'https://t.co/9OrV6v5pZY', 'expanded_url': 'https://www.wsj.com/articles/exxon-considers-pledging-net-zero-carbon-by-2050-11628161201?st=y57847vvnoyx9cn&amp;reflink=desktopwebshare_twitter', 'display_url': 'wsj.com/articles/exxon…'}], 'mentions': [{'start': 63, 'end': 67, 'username': 'WSJ', 'id': '3108351', 'protected': False, 'profile_image_url': 'https://pbs.twimg.com/profile_images/971415515754266624/zCX0q9d5_normal.jpg', 'verified': True, 'description': 'Sign up for our newsletters and email alerts: https://t.co/WFU7oLKkip', 'entities': {'url': {'urls': [{'start': 0, 'end': 23, 'url': 'https://t.co/GhhR6PLfem', 'expanded_url': 'http://wsj.com', 'display_url': 'wsj.com'}]}, 'description': {'urls': [{'start': 46, 'end': 69, 'url': 'https://t.co/WFU7oLKkip', 'expanded_url': 'http://wsj.com/newsletters', 'display_url': 'wsj.com/newsletters'}]}}, 'public_metrics': {'followers_count': 19659227, 'following_count': 1060, 'tweet_count': 367742, 'listed_count': 124941}, 'name': 'The Wall Street Journal', 'created_at': '2007-04-01T06:22:13.000Z', 'location': 'New York, NY', 'url': 'https://t.co/GhhR6PLfem'}]}, 'context_annotations': [{'domain': {'id': '47', 'name': 'Brand', 'description': 'Brands and Companies'}, 'entity': {'id': '10029237524', 'name': 'The Wall Street Journal'}}], 'possibly_sensitive': False, 'created_at': '2021-08-05T12:42:13.000Z', 'author': {'protected': False, 'profile_image_url': 'https://pbs.twimg.com/profile_images/603530131563532291/MWMXWfmZ_normal.jpg', 'verified': True, 'description': \"'Perhaps the most influential climate science contrarian' (Nature). Trump EPA transition. Biostat. Atty. Fund mgr. FOX News contrib. Founder, https://t.co/18cFDFvc4w.\", 'id': '21150492', 'entities': {'url': {'urls': [{'start': 0, 'end': 23, 'url': 'https://t.co/18cFDFvc4w', 'expanded_url': 'http://JunkScience.com', 'display_url': 'JunkScience.com'}]}, 'description': {'urls': [{'start': 142, 'end': 165, 'url': 'https://t.co/18cFDFvc4w', 'expanded_url': 'http://JunkScience.com', 'display_url': 'JunkScience.com'}]}}, 'public_metrics': {'followers_count': 38318, 'following_count': 89, 'tweet_count': 83487, 'listed_count': 786}, 'name': 'Steve Milloy', 'pinned_tweet_id': '1223752534092931075', 'created_at': '2009-02-18T00:19:07.000Z', 'url': 'https://t.co/18cFDFvc4w', 'username': 'JunkScience'}}], 'entities': {'urls': [{'start': 52, 'end': 75, 'url': 'https://t.co/9OrV6v5pZY', 'expanded_url': 'https://www.wsj.com/articles/exxon-considers-pledging-net-zero-carbon-by-2050-11628161201?st=y57847vvnoyx9cn&amp;reflink=desktopwebshare_twitter', 'display_url': 'wsj.com/articles/exxon…'}], 'mentions': [{'start': 3, 'end': 15, 'username': 'JunkScience', 'id': '21150492', 'protected': False, 'profile_image_url': 'https://pbs.twimg.com/profile_images/603530131563532291/MWMXWfmZ_normal.jpg', 'verified': True, 'description': \"'Perhaps the most influential climate science contrarian' (Nature). Trump EPA transition. Biostat. Atty. Fund mgr. FOX News contrib. Founder, https://t.co/18cFDFvc4w.\", 'entities': {'url': {'urls': [{'start': 0, 'end': 23, 'url': 'https://t.co/18cFDFvc4w', 'expanded_url': 'http://JunkScience.com', 'display_url': 'JunkScience.com'}]}, 'description': {'urls': [{'start': 142, 'end': 165, 'url': 'https://t.co/18cFDFvc4w', 'expanded_url': 'http://JunkScience.com', 'display_url': 'JunkScience.com'}]}}, 'public_metrics': {'followers_count': 38318, 'following_count': 89, 'tweet_count': 83487, 'listed_count': 786}, 'name': 'Steve Milloy', 'pinned_tweet_id': '1223752534092931075', 'created_at': '2009-02-18T00:19:07.000Z', 'url': 'https://t.co/18cFDFvc4w'}, {'start': 80, 'end': 84, 'username': 'WSJ', 'id': '3108351', 'protected': False, 'profile_image_url': 'https://pbs.twimg.com/profile_images/971415515754266624/zCX0q9d5_normal.jpg', 'verified': True, 'description': 'Sign up for our newsletters and email alerts: https://t.co/WFU7oLKkip', 'entities': {'url': {'urls': [{'start': 0, 'end': 23, 'url': 'https://t.co/GhhR6PLfem', 'expanded_url': 'http://wsj.com', 'display_url': 'wsj.com'}]}, 'description': {'urls': [{'start': 46, 'end': 69, 'url': 'https://t.co/WFU7oLKkip', 'expanded_url': 'http://wsj.com/newsletters', 'display_url': 'wsj.com/newsletters'}]}}, 'public_metrics': {'followers_count': 19659227, 'following_count': 1060, 'tweet_count': 367742, 'listed_count': 124941}, 'name': 'The Wall Street Journal', 'created_at': '2007-04-01T06:22:13.000Z', 'location': 'New York, NY', 'url': 'https://t.co/GhhR6PLfem'}]}, 'context_annotations': [{'domain': {'id': '47', 'name': 'Brand', 'description': 'Brands and Companies'}, 'entity': {'id': '10029237524', 'name': 'The Wall Street Journal'}}], 'id': '1423272487337476098', 'possibly_sensitive': False, 'created_at': '2021-08-05T13:19:38.000Z', 'author': {'protected': False, 'profile_image_url': 'https://pbs.twimg.com/profile_images/1241409475828944897/uMZTmdIj_normal.jpg', 'verified': False, 'description': '🌿Love CO₂!🌿gab:@Plutarch - Persona non Greta.High quality moaning. Ikke stem på Stortingspartiet, følg meg for flere gode råd.The end justifies the memes.🇧🇻', 'id': '2474265036', 'entities': {'description': {'mentions': [{'start': 15, 'end': 24, 'username': 'Plutarch'}]}}, 'public_metrics': {'followers_count': 3581, 'following_count': 4465, 'tweet_count': 65619, 'listed_count': 24}, 'name': 'FJB 📎 CoVFeFe19', 'pinned_tweet_id': '1113441627933163525', 'created_at': '2014-05-02T16:41:19.000Z', 'location': 'Land of Trolls. Pre Shithole.', 'url': '', 'username': 'Gerald_Bostock'}, '__twarc': {'url': 'https://api.twitter.com/2/tweets/search/all?expansions=author_id%2Cin_reply_to_user_id%2Creferenced_tweets.id%2Creferenced_tweets.id.author_id%2Centities.mentions.username%2Cattachments.poll_ids%2Cattachments.media_keys%2Cgeo.place_id&amp;tweet.fields=attachments%2Cauthor_id%2Ccontext_annotations%2Cconversation_id%2Ccreated_at%2Centities%2Cgeo%2Cid%2Cin_reply_to_user_id%2Clang%2Cpublic_metrics%2Ctext%2Cpossibly_sensitive%2Creferenced_tweets%2Creply_settings%2Csource%2Cwithheld&amp;user.fields=created_at%2Cdescription%2Centities%2Cid%2Clocation%2Cname%2Cpinned_tweet_id%2Cprofile_image_url%2Cprotected%2Cpublic_metrics%2Curl%2Cusername%2Cverified%2Cwithheld&amp;media.fields=alt_text%2Cduration_ms%2Cheight%2Cmedia_key%2Cpreview_image_url%2Ctype%2Curl%2Cwidth%2Cpublic_metrics&amp;poll.fields=duration_minutes%2Cend_datetime%2Cid%2Coptions%2Cvoting_status&amp;place.fields=contained_within%2Ccountry%2Ccountry_code%2Cfull_name%2Cgeo%2Cid%2Cname%2Cplace_type&amp;start_time=2021-01-01T00%3A00%3A00%2B00%3A00&amp;end_time=2022-01-01T00%3A00%3A00%2B00%3A00&amp;query=exxon+climate&amp;max_results=100&amp;next_token=b26v89c19zqg8o3fpdm7q91dgsb0lnqbakxuhqney9pq5', 'version': '2.9.5', 'retrieved_at': '2022-03-27T18:10:10+00:00'}}</td>\n",
       "    </tr>\n",
       "    <tr>\n",
       "      <th>2</th>\n",
       "      <td>2.0</td>\n",
       "      <td>0.8910</td>\n",
       "      <td>point, problem, try, capture, week, say, blame, mean, report, re</td>\n",
       "      <td>{'conversation_id': '1449783819758931971', 'id': '1449783819758931971', 'possibly_sensitive': False, 'public_metrics': {'retweet_count': 244, 'reply_count': 0, 'like_count': 0, 'quote_count': 0}, 'author_id': '23943694', 'reply_settings': 'everyone', 'source': 'Twitter Web App', 'text': 'RT @markrstoll: \"People ask, how did you go against the world’s largest fossil fuel companies? Isn’t that scary? No. What’s scary is coasta…', 'created_at': '2021-10-17T17:06:12.000Z', 'entities': {'mentions': [{'start': 3, 'end': 14, 'username': 'markrstoll', 'id': '3283779462', 'public_metrics': {'followers_count': 4433, 'following_count': 944, 'tweet_count': 19863, 'listed_count': 77}, 'verified': False, 'name': 'Mark Stoll', 'entities': {'url': {'urls': [{'start': 0, 'end': 22, 'url': 'http://t.co/4B55XQCxvD', 'expanded_url': 'http://www.markstoll.net', 'display_url': 'markstoll.net'}]}, 'description': {'urls': [{'start': 119, 'end': 142, 'url': 'https://t.co/dB3SbVbTaj', 'expanded_url': 'https://global.oup.com/academic/product/inherit-the-holy-mountain-9780190230869', 'display_url': 'global.oup.com/academic/produ…'}], 'hashtags': [{'start': 11, 'end': 19, 'tag': 'EnvHist'}, {'start': 43, 'end': 66, 'tag': 'InherittheHolyMountain'}]}}, 'profile_image_url': 'https://pbs.twimg.com/profile_images/622581960053919744/GeQcrXOi_normal.jpg', 'protected': False, 'description': 'Writing an #EnvHist of capitalism. Author, #InherittheHolyMountain: Religion and the Rise of American Environmentalism https://t.co/dB3SbVbTaj', 'location': 'Lubbock, TX', 'url': 'http://t.co/4B55XQCxvD', 'created_at': '2015-07-19T01:26:25.000Z', 'pinned_tweet_id': '1255523419082444806'}]}, 'referenced_tweets': [{'type': 'retweeted', 'id': '1449476985437229061', 'conversation_id': '1449476985437229061', 'possibly_sensitive': False, 'public_metrics': {'retweet_count': 244, 'reply_count': 13, 'like_count': 640, 'quote_count': 11}, 'author_id': '3283779462', 'reply_settings': 'everyone', 'source': 'Twitter Web App', 'text': '\"People ask, how did you go against the world’s largest fossil fuel companies? Isn’t that scary? No. What’s scary is coastal flooding and the idea that whole cities would be under water.\" He deserves an award. https://t.co/UjJWBncAaX', 'created_at': '2021-10-16T20:46:57.000Z', 'lang': 'en', 'entities': {'urls': [{'start': 210, 'end': 233, 'url': 'https://t.co/UjJWBncAaX', 'expanded_url': 'https://www.theguardian.com/environment/2021/oct/16/imperial-beach-california-exxon-mobil-climate-crisis', 'display_url': 'theguardian.com/environment/20…'}]}, 'author': {'public_metrics': {'followers_count': 4433, 'following_count': 944, 'tweet_count': 19863, 'listed_count': 77}, 'verified': False, 'name': 'Mark Stoll', 'entities': {'url': {'urls': [{'start': 0, 'end': 22, 'url': 'http://t.co/4B55XQCxvD', 'expanded_url': 'http://www.markstoll.net', 'display_url': 'markstoll.net'}]}, 'description': {'urls': [{'start': 119, 'end': 142, 'url': 'https://t.co/dB3SbVbTaj', 'expanded_url': 'https://global.oup.com/academic/product/inherit-the-holy-mountain-9780190230869', 'display_url': 'global.oup.com/academic/produ…'}], 'hashtags': [{'start': 11, 'end': 19, 'tag': 'EnvHist'}, {'start': 43, 'end': 66, 'tag': 'InherittheHolyMountain'}]}}, 'id': '3283779462', 'username': 'markrstoll', 'profile_image_url': 'https://pbs.twimg.com/profile_images/622581960053919744/GeQcrXOi_normal.jpg', 'protected': False, 'description': 'Writing an #EnvHist of capitalism. Author, #InherittheHolyMountain: Religion and the Rise of American Environmentalism https://t.co/dB3SbVbTaj', 'location': 'Lubbock, TX', 'url': 'http://t.co/4B55XQCxvD', 'created_at': '2015-07-19T01:26:25.000Z', 'pinned_tweet_id': '1255523419082444806'}}], 'lang': 'en', 'author': {'public_metrics': {'followers_count': 664, 'following_count': 994, 'tweet_count': 22458, 'listed_count': 15}, 'verified': False, 'name': 'C⭕️ra Brink #klimaatdrammer #ZeroCovid', 'entities': {'url': {'urls': [{'start': 0, 'end': 23, 'url': 'https://t.co/JGqlv7w8wm', 'expanded_url': 'http://www.corabrink.nl', 'display_url': 'corabrink.nl'}]}, 'description': {'urls': [{'start': 138, 'end': 161, 'url': 'https://t.co/fe02wIQPZ7', 'expanded_url': 'http://corabrink.nl', 'display_url': 'corabrink.nl'}]}}, 'id': '23943694', 'username': 'Coramb', 'profile_image_url': 'https://pbs.twimg.com/profile_images/860479243247124480/pYphDb0g_normal.jpg', 'protected': False, 'description': 'een leefbare wereld voor iedereen | zelfregie en empowerment | evalueren van sociale interventies | duurzaamheid | weer- en windfietser | https://t.co/fe02wIQPZ7', 'location': 'Utrecht, Netherlands', 'url': 'https://t.co/JGqlv7w8wm', 'created_at': '2009-03-12T13:11:30.000Z'}, '__twarc': {'url': 'https://api.twitter.com/2/tweets/search/all?expansions=author_id%2Cin_reply_to_user_id%2Creferenced_tweets.id%2Creferenced_tweets.id.author_id%2Centities.mentions.username%2Cattachments.poll_ids%2Cattachments.media_keys%2Cgeo.place_id&amp;tweet.fields=attachments%2Cauthor_id%2Ccontext_annotations%2Cconversation_id%2Ccreated_at%2Centities%2Cgeo%2Cid%2Cin_reply_to_user_id%2Clang%2Cpublic_metrics%2Ctext%2Cpossibly_sensitive%2Creferenced_tweets%2Creply_settings%2Csource%2Cwithheld&amp;user.fields=created_at%2Cdescription%2Centities%2Cid%2Clocation%2Cname%2Cpinned_tweet_id%2Cprofile_image_url%2Cprotected%2Cpublic_metrics%2Curl%2Cusername%2Cverified%2Cwithheld&amp;media.fields=alt_text%2Cduration_ms%2Cheight%2Cmedia_key%2Cpreview_image_url%2Ctype%2Curl%2Cwidth%2Cpublic_metrics&amp;poll.fields=duration_minutes%2Cend_datetime%2Cid%2Coptions%2Cvoting_status&amp;place.fields=contained_within%2Ccountry%2Ccountry_code%2Cfull_name%2Cgeo%2Cid%2Cname%2Cplace_type&amp;start_time=2021-01-01T00%3A00%3A00%2B00%3A00&amp;end_time=2022-01-01T00%3A00%3A00%2B00%3A00&amp;query=exxon+climate&amp;max_results=100&amp;next_token=b26v89c19zqg8o3fpds9t9eg7treiy06i6wnvk32s1ksd', 'version': '2.9.5', 'retrieved_at': '2022-03-27T14:56:16+00:00'}}</td>\n",
       "    </tr>\n",
       "    <tr>\n",
       "      <th>3</th>\n",
       "      <td>3.0</td>\n",
       "      <td>0.9404</td>\n",
       "      <td>emission, know, end, era, turning, halve, ecuador, slam, planetdutch, likely</td>\n",
       "      <td>{'entities': {'hashtags': [{'start': 112, 'end': 116, 'tag': 'oil'}, {'start': 117, 'end': 129, 'tag': 'FossilFuels'}], 'mentions': [{'start': 3, 'end': 18, 'username': 'simonjnicholas', 'id': '3010592454', 'protected': False, 'entities': {'url': {'urls': [{'start': 0, 'end': 23, 'url': 'https://t.co/Vy0WJmnmeg', 'expanded_url': 'http://ieefa.org', 'display_url': 'ieefa.org'}]}}, 'description': 'Energy finance analyst at IEEFA following the energy technology transition. Views are my own.', 'created_at': '2015-02-05T23:48:19.000Z', 'public_metrics': {'followers_count': 1898, 'following_count': 1185, 'tweet_count': 6879, 'listed_count': 60}, 'profile_image_url': 'https://pbs.twimg.com/profile_images/763992316524711936/juiymIbd_normal.jpg', 'verified': False, 'location': 'Blackheath, New South Wales', 'pinned_tweet_id': '1491534215829094400', 'name': 'Simon Nicholas', 'url': 'https://t.co/Vy0WJmnmeg'}], 'annotations': [{'start': 35, 'end': 39, 'probability': 0.5122, 'type': 'Organization', 'normalized_text': 'Exxon'}], 'urls': [{'start': 88, 'end': 111, 'url': 'https://t.co/G6mQ9x6KXp', 'expanded_url': 'https://reut.rs/3qicOTg', 'display_url': 'reut.rs/3qicOTg'}]}, 'lang': 'en', 'referenced_tweets': [{'type': 'retweeted', 'id': '1361075882589261824', 'entities': {'hashtags': [{'start': 92, 'end': 96, 'tag': 'oil'}, {'start': 97, 'end': 109, 'tag': 'FossilFuels'}], 'annotations': [{'start': 0, 'end': 2, 'probability': 0.4822, 'type': 'Organization', 'normalized_text': 'S&amp;P'}, {'start': 15, 'end': 19, 'probability': 0.5533, 'type': 'Organization', 'normalized_text': 'Exxon'}], 'urls': [{'start': 68, 'end': 91, 'url': 'https://t.co/G6mQ9x6KXp', 'expanded_url': 'https://reut.rs/3qicOTg', 'display_url': 'reut.rs/3qicOTg'}]}, 'lang': 'en', 'source': 'Twitter Web App', 'conversation_id': '1361075882589261824', 'text': 'S&amp;amp;P downgrades Exxon and Chevron on climate risk, dour earnings https://t.co/G6mQ9x6KXp #oil #FossilFuels', 'context_annotations': [{'domain': {'id': '45', 'name': 'Brand Vertical', 'description': 'Top level entities that describe a Brands industry'}, 'entity': {'id': '781974597474263040', 'name': 'Energy'}}, {'domain': {'id': '46', 'name': 'Brand Category', 'description': 'Categories within Brand Verticals that narrow down the scope of Brands'}, 'entity': {'id': '781974596723412992', 'name': 'Gas/Oil'}}, {'domain': {'id': '47', 'name': 'Brand', 'description': 'Brands and Companies'}, 'entity': {'id': '10026377931', 'name': 'ExxonMobil'}}, {'domain': {'id': '45', 'name': 'Brand Vertical', 'description': 'Top level entities that describe a Brands industry'}, 'entity': {'id': '781974597474263040', 'name': 'Energy'}}, {'domain': {'id': '46', 'name': 'Brand Category', 'description': 'Categories within Brand Verticals that narrow down the scope of Brands'}, 'entity': {'id': '781974596723412992', 'name': 'Gas/Oil'}}, {'domain': {'id': '47', 'name': 'Brand', 'description': 'Brands and Companies'}, 'entity': {'id': '10026377957', 'name': 'Chevron'}}, {'domain': {'id': '47', 'name': 'Brand', 'description': 'Brands and Companies'}, 'entity': {'id': '10039822051', 'name': 'Exxon'}}], 'author_id': '3010592454', 'public_metrics': {'retweet_count': 4, 'reply_count': 0, 'like_count': 2, 'quote_count': 0}, 'possibly_sensitive': False, 'reply_settings': 'everyone', 'created_at': '2021-02-14T22:12:32.000Z', 'author': {'id': '3010592454', 'protected': False, 'entities': {'url': {'urls': [{'start': 0, 'end': 23, 'url': 'https://t.co/Vy0WJmnmeg', 'expanded_url': 'http://ieefa.org', 'display_url': 'ieefa.org'}]}}, 'description': 'Energy finance analyst at IEEFA following the energy technology transition. Views are my own.', 'created_at': '2015-02-05T23:48:19.000Z', 'public_metrics': {'followers_count': 1898, 'following_count': 1185, 'tweet_count': 6879, 'listed_count': 60}, 'profile_image_url': 'https://pbs.twimg.com/profile_images/763992316524711936/juiymIbd_normal.jpg', 'verified': False, 'username': 'simonjnicholas', 'location': 'Blackheath, New South Wales', 'pinned_tweet_id': '1491534215829094400', 'name': 'Simon Nicholas', 'url': 'https://t.co/Vy0WJmnmeg'}}], 'source': 'Twitter Web App', 'conversation_id': '1361804341041012737', 'text': 'RT @simonjnicholas: S&amp;amp;P downgrades Exxon and Chevron on climate risk, dour earnings https://t.co/G6mQ9x6KXp #oil #FossilFuels', 'id': '1361804341041012737', 'context_annotations': [{'domain': {'id': '45', 'name': 'Brand Vertical', 'description': 'Top level entities that describe a Brands industry'}, 'entity': {'id': '781974597474263040', 'name': 'Energy'}}, {'domain': {'id': '46', 'name': 'Brand Category', 'description': 'Categories within Brand Verticals that narrow down the scope of Brands'}, 'entity': {'id': '781974596723412992', 'name': 'Gas/Oil'}}, {'domain': {'id': '47', 'name': 'Brand', 'description': 'Brands and Companies'}, 'entity': {'id': '10026377931', 'name': 'ExxonMobil'}}, {'domain': {'id': '45', 'name': 'Brand Vertical', 'description': 'Top level entities that describe a Brands industry'}, 'entity': {'id': '781974597474263040', 'name': 'Energy'}}, {'domain': {'id': '46', 'name': 'Brand Category', 'description': 'Categories within Brand Verticals that narrow down the scope of Brands'}, 'entity': {'id': '781974596723412992', 'name': 'Gas/Oil'}}, {'domain': {'id': '47', 'name': 'Brand', 'description': 'Brands and Companies'}, 'entity': {'id': '10026377957', 'name': 'Chevron'}}, {'domain': {'id': '47', 'name': 'Brand', 'description': 'Brands and Companies'}, 'entity': {'id': '10039822051', 'name': 'Exxon'}}], 'author_id': '941524016644333569', 'public_metrics': {'retweet_count': 4, 'reply_count': 0, 'like_count': 0, 'quote_count': 0}, 'possibly_sensitive': False, 'reply_settings': 'everyone', 'created_at': '2021-02-16T22:27:10.000Z', 'author': {'id': '941524016644333569', 'protected': False, 'entities': {'url': {'urls': [{'start': 0, 'end': 23, 'url': 'https://t.co/Vy0WJmnmeg', 'expanded_url': 'http://ieefa.org', 'display_url': 'ieefa.org'}]}}, 'description': 'Working to accelerate the energy transition in India through economic and financial analyses', 'created_at': '2017-12-15T04:23:13.000Z', 'public_metrics': {'followers_count': 833, 'following_count': 429, 'tweet_count': 2065, 'listed_count': 19}, 'profile_image_url': 'https://pbs.twimg.com/profile_images/941525056978423808/_X93bGMX_normal.jpg', 'verified': False, 'username': 'IEEFA_India', 'name': 'IEEFA India', 'url': 'https://t.co/Vy0WJmnmeg'}, '__twarc': {'url': 'https://api.twitter.com/2/tweets/search/all?expansions=author_id%2Cin_reply_to_user_id%2Creferenced_tweets.id%2Creferenced_tweets.id.author_id%2Centities.mentions.username%2Cattachments.poll_ids%2Cattachments.media_keys%2Cgeo.place_id&amp;tweet.fields=attachments%2Cauthor_id%2Ccontext_annotations%2Cconversation_id%2Ccreated_at%2Centities%2Cgeo%2Cid%2Cin_reply_to_user_id%2Clang%2Cpublic_metrics%2Ctext%2Cpossibly_sensitive%2Creferenced_tweets%2Creply_settings%2Csource%2Cwithheld&amp;user.fields=created_at%2Cdescription%2Centities%2Cid%2Clocation%2Cname%2Cpinned_tweet_id%2Cprofile_image_url%2Cprotected%2Cpublic_metrics%2Curl%2Cusername%2Cverified%2Cwithheld&amp;media.fields=alt_text%2Cduration_ms%2Cheight%2Cmedia_key%2Cpreview_image_url%2Ctype%2Curl%2Cwidth%2Cpublic_metrics&amp;poll.fields=duration_minutes%2Cend_datetime%2Cid%2Coptions%2Cvoting_status&amp;place.fields=contained_within%2Ccountry%2Ccountry_code%2Cfull_name%2Cgeo%2Cid%2Cname%2Cplace_type&amp;start_time=2021-01-01T00%3A00%3A00%2B00%3A00&amp;end_time=2022-01-01T00%3A00%3A00%2B00%3A00&amp;query=exxon+climate&amp;max_results=100&amp;next_token=b26v89c19zqg8o3fosnro0339n10wb15ny6judy1holtp', 'version': '2.9.5', 'retrieved_at': '2022-03-28T03:20:29+00:00'}}</td>\n",
       "    </tr>\n",
       "    <tr>\n",
       "      <th>4</th>\n",
       "      <td>4.0</td>\n",
       "      <td>0.9411</td>\n",
       "      <td>climate, emission, oil, cut, shell, chevron, day, director, major, elect</td>\n",
       "      <td>{'created_at': '2021-10-28T20:22:48.000Z', 'lang': 'en', 'public_metrics': {'retweet_count': 7, 'reply_count': 0, 'like_count': 0, 'quote_count': 0}, 'possibly_sensitive': False, 'source': 'Twitter for iPhone', 'entities': {'mentions': [{'start': 3, 'end': 17, 'username': 'amywestervelt', 'id': '14779408', 'description': \"Investigative journo. Run @CriticalFreqPod, @WeAreDrilled. Co-host @realhottake &amp; S5 of @sceneonradio. It's the power structure not the energy source.\", 'profile_image_url': 'https://pbs.twimg.com/profile_images/1462538638017720333/DxJSu-Gv_normal.jpg', 'entities': {'url': {'urls': [{'start': 0, 'end': 23, 'url': 'https://t.co/bsuV4T6Vzk', 'expanded_url': 'http://www.drilledpodcast.com', 'display_url': 'drilledpodcast.com'}]}, 'description': {'mentions': [{'start': 26, 'end': 42, 'username': 'CriticalFreqPod'}, {'start': 44, 'end': 57, 'username': 'WeAreDrilled'}, {'start': 67, 'end': 79, 'username': 'realhottake'}, {'start': 88, 'end': 101, 'username': 'sceneonradio'}]}}, 'verified': True, 'pinned_tweet_id': '1497970197264683010', 'protected': False, 'url': 'https://t.co/bsuV4T6Vzk', 'created_at': '2008-05-14T22:06:04.000Z', 'public_metrics': {'followers_count': 52787, 'following_count': 2277, 'tweet_count': 7115, 'listed_count': 1229}, 'location': 'Up your butt', 'name': 'Amy Westervelt'}, {'start': 19, 'end': 25, 'username': 'Shell', 'id': '20663500', 'description': 'Shell’s official Twitter account.', 'profile_image_url': 'https://pbs.twimg.com/profile_images/934717921816993793/H1vB6P7o_normal.jpg', 'entities': {'url': {'urls': [{'start': 0, 'end': 23, 'url': 'https://t.co/8JuOjxJNCY', 'expanded_url': 'http://www.shell.com', 'display_url': 'shell.com'}]}}, 'verified': True, 'protected': False, 'url': 'https://t.co/8JuOjxJNCY', 'created_at': '2009-02-12T09:09:53.000Z', 'public_metrics': {'followers_count': 560262, 'following_count': 124, 'tweet_count': 5385, 'listed_count': 3564}, 'name': 'Shell'}, {'start': 26, 'end': 41, 'username': 'RepAndyBiggsAZ', 'id': '816652616625168388', 'description': \"Representing Arizona's Fighting Fifth.\", 'profile_image_url': 'https://pbs.twimg.com/profile_images/1176647112550993920/rETjTe_z_normal.jpg', 'entities': {'url': {'urls': [{'start': 0, 'end': 23, 'url': 'https://t.co/LxLsr4csI9', 'expanded_url': 'http://biggs.house.gov', 'display_url': 'biggs.house.gov'}]}}, 'verified': True, 'protected': False, 'url': 'https://t.co/LxLsr4csI9', 'created_at': '2017-01-04T14:28:51.000Z', 'public_metrics': {'followers_count': 388181, 'following_count': 1738, 'tweet_count': 20814, 'listed_count': 1908}, 'location': 'Arizona, USA', 'name': 'Rep Andy Biggs'}, {'start': 42, 'end': 52, 'username': 'APIenergy', 'id': '15646547', 'description': \"We are the problem-solvers who tackle the world’s greatest energy challenges.\\n\\nAPI's Climate Framework: https://t.co/TTx2kABdgF\", 'profile_image_url': 'https://pbs.twimg.com/profile_images/1410589673945190402/qYKM3Oz1_normal.png', 'entities': {'url': {'urls': [{'start': 0, 'end': 23, 'url': 'https://t.co/FMkf11xbIz', 'expanded_url': 'https://www.api.org/about', 'display_url': 'api.org/about'}]}, 'description': {'urls': [{'start': 104, 'end': 127, 'url': 'https://t.co/TTx2kABdgF', 'expanded_url': 'http://api.org/climate', 'display_url': 'api.org/climate'}]}}, 'verified': True, 'pinned_tweet_id': '1481316114697179141', 'protected': False, 'url': 'https://t.co/FMkf11xbIz', 'created_at': '2008-07-29T14:15:24.000Z', 'public_metrics': {'followers_count': 82768, 'following_count': 1615, 'tweet_count': 43449, 'listed_count': 1787}, 'name': 'American Petroleum Institute'}, {'start': 53, 'end': 66, 'username': 'RepDWStweets', 'id': '1140648348', 'description': \"U.S. Congresswoman proudly representing the people of Florida's 23rd District in our nation's capital.\", 'profile_image_url': 'https://pbs.twimg.com/profile_images/1217104542837460992/1CZNbVP9_normal.png', 'entities': {'url': {'urls': [{'start': 0, 'end': 22, 'url': 'http://t.co/L7PfQxOrER', 'expanded_url': 'http://wassermanschultz.house.gov/', 'display_url': 'wassermanschultz.house.gov'}]}}, 'verified': True, 'protected': False, 'url': 'http://t.co/L7PfQxOrER', 'created_at': '2013-02-01T20:31:25.000Z', 'public_metrics': {'followers_count': 19103, 'following_count': 2374, 'tweet_count': 6619, 'listed_count': 757}, 'location': 'Weston &amp; Washington', 'name': 'Rep. Debbie Wasserman Schultz'}, {'start': 67, 'end': 82, 'username': 'AyannaPressley', 'id': '31013444', 'description': 'Your Congresswoman. Proudly representing the MA 7th. Here to break concrete ceilings &amp; shake the table. Personal account. She/hers. #ChangeCantWait', 'profile_image_url': 'https://pbs.twimg.com/profile_images/1291076690702151682/rPUqP3Mt_normal.jpg', 'entities': {'url': {'urls': [{'start': 0, 'end': 23, 'url': 'https://t.co/RxDNiQj5Gh', 'expanded_url': 'http://ayannapressley.com/volunteer', 'display_url': 'ayannapressley.com/volunteer'}]}, 'description': {'hashtags': [{'start': 132, 'end': 147, 'tag': 'ChangeCantWait'}]}}, 'verified': True, 'pinned_tweet_id': '1352661926220886019', 'protected': False, 'url': 'https://t.co/RxDNiQj5Gh', 'created_at': '2009-04-14T01:06:07.000Z', 'public_metrics': {'followers_count': 1104195, 'following_count': 18427, 'tweet_count': 26862, 'listed_count': 4532}, 'location': 'Hyde Park, MA', 'name': 'Ayanna Pressley'}, {'start': 83, 'end': 94, 'username': 'exxonmobil', 'id': '36665547', 'description': 'The official Twitter page of Exxon Mobil Corporation. Continue the conversation at https://t.co/zXpm4nkTHw. Direct all inquiries to https://t.co/0FEIipAm9V.', 'profile_image_url': 'https://pbs.twimg.com/profile_images/902558084064616448/YTOCYYnn_normal.jpg', 'entities': {'url': {'urls': [{'start': 0, 'end': 23, 'url': 'https://t.co/4zuwrHTd1I', 'expanded_url': 'http://www.exxonmobil.com', 'display_url': 'exxonmobil.com'}]}, 'description': {'urls': [{'start': 83, 'end': 106, 'url': 'https://t.co/zXpm4nkTHw', 'expanded_url': 'http://facebook.com/ExxonMobil', 'display_url': 'facebook.com/ExxonMobil'}, {'start': 132, 'end': 155, 'url': 'https://t.co/0FEIipAm9V', 'expanded_url': 'http://exxonmobil.com/contactus', 'display_url': 'exxonmobil.com/contactus'}]}}, 'verified': True, 'pinned_tweet_id': '1498813830801076225', 'protected': False, 'url': 'https://t.co/4zuwrHTd1I', 'created_at': '2009-04-30T13:49:24.000Z', 'public_metrics': {'followers_count': 330237, 'following_count': 276, 'tweet_count': 7164, 'listed_count': 2685}, 'name': 'ExxonMobil'}, {'start': 95, 'end': 104, 'username': 'CoriBush', 'id': '4696552878', 'description': 'U.S. Congresswoman, MO-01. Nurse, activist, organizer, single mom, &amp; pastor. Leading with love, fighting for regular people. #StLouisStrong (she/her)', 'profile_image_url': 'https://pbs.twimg.com/profile_images/1275804043785334784/7j5yj4ma_normal.jpg', 'entities': {'url': {'urls': [{'start': 0, 'end': 23, 'url': 'https://t.co/g5ToItg1eT', 'expanded_url': 'http://www.coribush.org/', 'display_url': 'coribush.org'}]}, 'description': {'hashtags': [{'start': 125, 'end': 139, 'tag': 'StLouisStrong'}]}}, 'verified': True, 'pinned_tweet_id': '1459175054554632223', 'protected': False, 'url': 'https://t.co/g5ToItg1eT', 'created_at': '2016-01-02T14:36:12.000Z', 'public_metrics': {'followers_count': 896868, 'following_count': 2154, 'tweet_count': 8304, 'listed_count': 3089}, 'location': 'St Louis, MO', 'name': 'Cori Bush'}, {'start': 105, 'end': 120, 'username': 'cleancreatives', 'id': '1329460821123067906', 'description': \"The future of creativity is clean. It's time for advertisers, marketers, and PR professionals to cut ties with fossil fuels. \\n\\nSign the pledge 👇\", 'profile_image_url': 'https://pbs.twimg.com/profile_images/1329642636714651648/msz_CEvG_normal.png', 'entities': {'url': {'urls': [{'start': 0, 'end': 23, 'url': 'https://t.co/eU1rXixE6M', 'expanded_url': 'http://cleancreatives.org', 'display_url': 'cleancreatives.org'}]}}, 'verified': False, 'pinned_tweet_id': '1440331189840060419', 'protected': False, 'url': 'https://t.co/eU1rXixE6M', 'created_at': '2020-11-19T16:26:16.000Z', 'public_metrics': {'followers_count': 4945, 'following_count': 1367, 'tweet_count': 906, 'listed_count': 69}, 'name': 'Clean Creatives'}]}, 'reply_settings': 'everyone', 'author_id': '2347323266', 'text': 'RT @amywestervelt: @Shell @RepAndyBiggsAZ @APIenergy @RepDWStweets @AyannaPressley @exxonmobil @CoriBush @cleancreatives The pivot to \"We'r…', 'conversation_id': '1453819561023729676', 'id': '1453819561023729676', 'referenced_tweets': [{'type': 'retweeted', 'id': '1453815304367206422', 'created_at': '2021-10-28T20:05:53.000Z', 'lang': 'en', 'public_metrics': {'retweet_count': 7, 'reply_count': 1, 'like_count': 35, 'quote_count': 0}, 'possibly_sensitive': False, 'source': 'Twitter Web App', 'entities': {'mentions': [{'start': 0, 'end': 6, 'username': 'Shell', 'id': '20663500', 'description': 'Shell’s official Twitter account.', 'profile_image_url': 'https://pbs.twimg.com/profile_images/934717921816993793/H1vB6P7o_normal.jpg', 'entities': {'url': {'urls': [{'start': 0, 'end': 23, 'url': 'https://t.co/8JuOjxJNCY', 'expanded_url': 'http://www.shell.com', 'display_url': 'shell.com'}]}}, 'verified': True, 'protected': False, 'url': 'https://t.co/8JuOjxJNCY', 'created_at': '2009-02-12T09:09:53.000Z', 'public_metrics': {'followers_count': 560262, 'following_count': 124, 'tweet_count': 5385, 'listed_count': 3564}, 'name': 'Shell'}, {'start': 7, 'end': 22, 'username': 'RepAndyBiggsAZ', 'id': '816652616625168388', 'description': \"Representing Arizona's Fighting Fifth.\", 'profile_image_url': 'https://pbs.twimg.com/profile_images/1176647112550993920/rETjTe_z_normal.jpg', 'entities': {'url': {'urls': [{'start': 0, 'end': 23, 'url': 'https://t.co/LxLsr4csI9', 'expanded_url': 'http://biggs.house.gov', 'display_url': 'biggs.house.gov'}]}}, 'verified': True, 'protected': False, 'url': 'https://t.co/LxLsr4csI9', 'created_at': '2017-01-04T14:28:51.000Z', 'public_metrics': {'followers_count': 388181...</td>\n",
       "    </tr>\n",
       "  </tbody>\n",
       "</table>\n",
       "</div>"
      ],
      "text/plain": [
       "   Topic_Num  Topic_Perc_Contrib  \\\n",
       "0        0.0              0.9618   \n",
       "1        1.0              0.9477   \n",
       "2        2.0              0.8910   \n",
       "3        3.0              0.9404   \n",
       "4        4.0              0.9411   \n",
       "\n",
       "                                                                       Keywords  \\\n",
       "0  climate, company, shareholder, go, today, break, case, change, involve, know   \n",
       "1         change, activist, law, good, board, work, business, stand, put, exxon   \n",
       "2              point, problem, try, capture, week, say, blame, mean, report, re   \n",
       "3  emission, know, end, era, turning, halve, ecuador, slam, planetdutch, likely   \n",
       "4      climate, emission, oil, cut, shell, chevron, day, director, major, elect   \n",
       "\n",
       "                                                                                                                                                                                                                                                                                                                                                                                                                                                                                                                                                                                                                                                                                                                                                                                                                                                                                                                                                                                                                                                                                                                                                                                                                                                                                                                                                                                                                                                                                                                                                                                                                                                                                                                                                                                                                                                                                                                                                                                                                                                                                                                                                                                                                                                                                                                                                                                                                                                                                                                                                                                                                                                                                                                                                                                                                                                                                                                                                                                                                                                                                                                                                                                                                                                                                                                                                                                                                                                                                                                                                                                                                                                                                                                                                                                                                                                                                                                                                                                                                                                                                                                                                                                                                                                                                                                                                                                                                                                                                                                                                                                                                                                                                                                                                                                                                                                                                                                                                                                                                                                                                                                                                                                                                                                                                                                                                                                                                                                                                                                                                                                                                                                                                                                                                                                                                                                                                                                                                                                                                                                                                                                                                                                                                                                                                                                                                                                                                                                                                                                                                                                                                                                                                                                                                                                                                                                                                                                                                                                                                                                                                                                                                                                                                                                                                                                                                                                                                                                                                                                                                                                                                                                                                                                                                                                                                                                                                                                                                                                                                                                                                                                                                                                                                                                                                                                                                                                                                                                                                                                                                                                                                                                                                                                                                                                                                                                                                                                                                                                                                                                                                                                                                                                                                                                                                                                                                                                                                                                                                                                                                                                                                                                                                                                                                                                                                                                                                                                                                                                                                                                                                                                                                                                                                                                                                                                                                                                                              Text  \n",
       "0                                                                                                                                                                                                                                                                                                                                                                                                                                                                                                                                                                                                                                                                                                                                                                                                                                                                                                                                                                                                                                                                                                                                                                                                                                                                                                                                                                                                                                                                                                                                                                                                                                                                                                                                                                                                                                                                                                                                                                                                                                                                                                                                                                                                                                                                                                                                                                                                                                                               {'lang': 'en', 'entities': {'mentions': [{'start': 3, 'end': 15, 'username': 'PaulEDawson', 'id': '950477244', 'protected': False, 'entities': {'url': {'urls': [{'start': 0, 'end': 23, 'url': 'https://t.co/WMziwe31E3', 'expanded_url': 'https://www.getrevue.co/profile/ClimateSolutionsBookClub', 'display_url': 'getrevue.co/profile/Climat…'}]}}, 'description': 'Thinking and talking about climate change solutions!\\nSign up for my newsletter on climate solutions.', 'created_at': '2012-11-15T21:14:22.000Z', 'public_metrics': {'followers_count': 71125, 'following_count': 16344, 'tweet_count': 32248, 'listed_count': 988}, 'profile_image_url': 'https://pbs.twimg.com/profile_images/1455200229641396231/RbEz6hts_normal.jpg', 'verified': False, 'location': 'Glasgow, Scotland', 'pinned_tweet_id': '1495405901670404101', 'name': 'Paul Dawson 🚢📚', 'url': 'https://t.co/WMziwe31E3'}], 'annotations': [{'start': 17, 'end': 21, 'probability': 0.8828, 'type': 'Organization', 'normalized_text': 'Exxon'}, {'start': 123, 'end': 127, 'probability': 0.4454, 'type': 'Organization', 'normalized_text': 'Exxon'}]}, 'referenced_tweets': [{'type': 'retweeted', 'id': '1410594035178164230', 'entities': {'hashtags': [{'start': 167, 'end': 180, 'tag': 'ActOnClimate'}, {'start': 181, 'end': 199, 'tag': 'KeepItInTheGround'}, {'start': 200, 'end': 210, 'tag': 'ExxonKnew'}], 'annotations': [{'start': 0, 'end': 4, 'probability': 0.8712, 'type': 'Organization', 'normalized_text': 'Exxon'}, {'start': 106, 'end': 110, 'probability': 0.5098, 'type': 'Organization', 'normalized_text': 'Exxon'}, {'start': 122, 'end': 126, 'probability': 0.2802, 'type': 'Organization', 'normalized_text': 'Exxon'}], 'urls': [{'start': 211, 'end': 234, 'url': 'https://t.co/gWZzJIJaFK', 'expanded_url': 'https://www.bloomberg.com/news/articles/2020-10-05/exxon-carbon-emissions-and-climate-leaked-plans-reveal-rising-co2-output', 'display_url': 'bloomberg.com/news/articles/…'}]}, 'lang': 'en', 'source': 'TweetDeck', 'conversation_id': '1410594035178164230', 'text': 'Exxon’s own assessment of its $210 billion investment strategy shows yearly emissions rising 17% by 2025\n",
       "\n",
       "Exxon knew then\n",
       "Exxon knows now\n",
       "Exxon is committing Ecocide\n",
       "\n",
       "#ActOnClimate #KeepItInTheGround #ExxonKnew https://t.co/gWZzJIJaFK', 'context_annotations': [{'domain': {'id': '45', 'name': 'Brand Vertical', 'description': 'Top level entities that describe a Brands industry'}, 'entity': {'id': '781974597474263040', 'name': 'Energy'}}, {'domain': {'id': '46', 'name': 'Brand Category', 'description': 'Categories within Brand Verticals that narrow down the scope of Brands'}, 'entity': {'id': '781974596723412992', 'name': 'Gas/Oil'}}, {'domain': {'id': '47', 'name': 'Brand', 'description': 'Brands and Companies'}, 'entity': {'id': '10026377931', 'name': 'ExxonMobil'}}, {'domain': {'id': '45', 'name': 'Brand Vertical', 'description': 'Top level entities that describe a Brands industry'}, 'entity': {'id': '781974597474263040', 'name': 'Energy'}}, {'domain': {'id': '46', 'name': 'Brand Category', 'description': 'Categories within Brand Verticals that narrow down the scope of Brands'}, 'entity': {'id': '781974596723412992', 'name': 'Gas/Oil'}}, {'domain': {'id': '47', 'name': 'Brand', 'description': 'Brands and Companies'}, 'entity': {'id': '10039822051', 'name': 'Exxon'}}], 'author_id': '950477244', 'public_metrics': {'retweet_count': 70, 'reply_count': 5, 'like_count': 74, 'quote_count': 6}, 'possibly_sensitive': False, 'reply_settings': 'everyone', 'created_at': '2021-07-01T13:40:00.000Z', 'author': {'id': '950477244', 'protected': False, 'entities': {'url': {'urls': [{'start': 0, 'end': 23, 'url': 'https://t.co/WMziwe31E3', 'expanded_url': 'https://www.getrevue.co/profile/ClimateSolutionsBookClub', 'display_url': 'getrevue.co/profile/Climat…'}]}}, 'description': 'Thinking and talking about climate change solutions!\\nSign up for my newsletter on climate solutions.', 'created_at': '2012-11-15T21:14:22.000Z', 'public_metrics': {'followers_count': 71125, 'following_count': 16344, 'tweet_count': 32248, 'listed_count': 988}, 'profile_image_url': 'https://pbs.twimg.com/profile_images/1455200229641396231/RbEz6hts_normal.jpg', 'verified': False, 'username': 'PaulEDawson', 'location': 'Glasgow, Scotland', 'pinned_tweet_id': '1495405901670404101', 'name': 'Paul Dawson 🚢📚', 'url': 'https://t.co/WMziwe31E3'}}], 'source': 'Twitter for iPhone', 'conversation_id': '1410599408182325251', 'text': 'RT @PaulEDawson: Exxon’s own assessment of its $210 billion investment strategy shows yearly emissions rising 17% by 2025\n",
       "\n",
       "Exxon knew then…', 'id': '1410599408182325251', 'context_annotations': [{'domain': {'id': '45', 'name': 'Brand Vertical', 'description': 'Top level entities that describe a Brands industry'}, 'entity': {'id': '781974597474263040', 'name': 'Energy'}}, {'domain': {'id': '46', 'name': 'Brand Category', 'description': 'Categories within Brand Verticals that narrow down the scope of Brands'}, 'entity': {'id': '781974596723412992', 'name': 'Gas/Oil'}}, {'domain': {'id': '47', 'name': 'Brand', 'description': 'Brands and Companies'}, 'entity': {'id': '10026377931', 'name': 'ExxonMobil'}}, {'domain': {'id': '45', 'name': 'Brand Vertical', 'description': 'Top level entities that describe a Brands industry'}, 'entity': {'id': '781974597474263040', 'name': 'Energy'}}, {'domain': {'id': '46', 'name': 'Brand Category', 'description': 'Categories within Brand Verticals that narrow down the scope of Brands'}, 'entity': {'id': '781974596723412992', 'name': 'Gas/Oil'}}, {'domain': {'id': '47', 'name': 'Brand', 'description': 'Brands and Companies'}, 'entity': {'id': '10039822051', 'name': 'Exxon'}}], 'author_id': '2411313362', 'public_metrics': {'retweet_count': 70, 'reply_count': 0, 'like_count': 0, 'quote_count': 0}, 'possibly_sensitive': False, 'reply_settings': 'everyone', 'created_at': '2021-07-01T14:01:21.000Z', 'author': {'id': '2411313362', 'protected': False, 'description': 'Living on Biripi land. Opinions are my own.', 'created_at': '2014-03-25T17:13:19.000Z', 'public_metrics': {'followers_count': 1696, 'following_count': 816, 'tweet_count': 207297, 'listed_count': 12}, 'profile_image_url': 'https://pbs.twimg.com/profile_images/561026440305463296/EuaxSrc-_normal.jpeg', 'verified': False, 'username': 'lorraindeer', 'location': 'Port Macquarie', 'pinned_tweet_id': '1083855148915408896', 'name': '💜 Lorraine Withers', 'url': ''}, '__twarc': {'url': 'https://api.twitter.com/2/tweets/search/all?expansions=author_id%2Cin_reply_to_user_id%2Creferenced_tweets.id%2Creferenced_tweets.id.author_id%2Centities.mentions.username%2Cattachments.poll_ids%2Cattachments.media_keys%2Cgeo.place_id&tweet.fields=attachments%2Cauthor_id%2Ccontext_annotations%2Cconversation_id%2Ccreated_at%2Centities%2Cgeo%2Cid%2Cin_reply_to_user_id%2Clang%2Cpublic_metrics%2Ctext%2Cpossibly_sensitive%2Creferenced_tweets%2Creply_settings%2Csource%2Cwithheld&user.fields=created_at%2Cdescription%2Centities%2Cid%2Clocation%2Cname%2Cpinned_tweet_id%2Cprofile_image_url%2Cprotected%2Cpublic_metrics%2Curl%2Cusername%2Cverified%2Cwithheld&media.fields=alt_text%2Cduration_ms%2Cheight%2Cmedia_key%2Cpreview_image_url%2Ctype%2Curl%2Cwidth%2Cpublic_metrics&poll.fields=duration_minutes%2Cend_datetime%2Cid%2Coptions%2Cvoting_status&place.fields=contained_within%2Ccountry%2Ccountry_code%2Cfull_name%2Cgeo%2Cid%2Cname%2Cplace_type&start_time=2021-01-01T00%3A00%3A00%2B00%3A00&end_time=2022-01-01T00%3A00%3A00%2B00%3A00&query=exxon+climate&max_results=100&next_token=b26v89c19zqg8o3fpdj6p0hwllvsy590t7vpr64pie8al', 'version': '2.9.5', 'retrieved_at': '2022-03-27T22:15:02+00:00'}}  \n",
       "1                                                                                                                                                                                                                                                                                                                                                                                                                                                                                                                                                                                                                                                                                                                                                                                                                                                                                                                                                                                                                                                                                                                                                                                                                                                                                                                                                                                                                                                                                                                                                                                                                                                                                                                                                                                                                                                                                                                                                                                                                                                                                                                                                                                                                                                                                                                                                                                                                                                                                                                                                                                                         {'lang': 'en', 'reply_settings': 'everyone', 'author_id': '2474265036', 'public_metrics': {'retweet_count': 9, 'reply_count': 0, 'like_count': 0, 'quote_count': 0}, 'text': 'RT @JunkScience: Climate is a brain-eating cancer.\n",
       "\n",
       "https://t.co/9OrV6v5pZY via @WSJ', 'conversation_id': '1423272487337476098', 'source': 'Twitter for Android', 'referenced_tweets': [{'type': 'retweeted', 'id': '1423263068931436550', 'lang': 'en', 'reply_settings': 'everyone', 'author_id': '21150492', 'public_metrics': {'retweet_count': 9, 'reply_count': 4, 'like_count': 22, 'quote_count': 0}, 'text': 'Climate is a brain-eating cancer.\n",
       "\n",
       "https://t.co/9OrV6v5pZY via @WSJ', 'conversation_id': '1423263068931436550', 'source': 'Twitter Web App', 'entities': {'urls': [{'start': 35, 'end': 58, 'url': 'https://t.co/9OrV6v5pZY', 'expanded_url': 'https://www.wsj.com/articles/exxon-considers-pledging-net-zero-carbon-by-2050-11628161201?st=y57847vvnoyx9cn&reflink=desktopwebshare_twitter', 'display_url': 'wsj.com/articles/exxon…'}], 'mentions': [{'start': 63, 'end': 67, 'username': 'WSJ', 'id': '3108351', 'protected': False, 'profile_image_url': 'https://pbs.twimg.com/profile_images/971415515754266624/zCX0q9d5_normal.jpg', 'verified': True, 'description': 'Sign up for our newsletters and email alerts: https://t.co/WFU7oLKkip', 'entities': {'url': {'urls': [{'start': 0, 'end': 23, 'url': 'https://t.co/GhhR6PLfem', 'expanded_url': 'http://wsj.com', 'display_url': 'wsj.com'}]}, 'description': {'urls': [{'start': 46, 'end': 69, 'url': 'https://t.co/WFU7oLKkip', 'expanded_url': 'http://wsj.com/newsletters', 'display_url': 'wsj.com/newsletters'}]}}, 'public_metrics': {'followers_count': 19659227, 'following_count': 1060, 'tweet_count': 367742, 'listed_count': 124941}, 'name': 'The Wall Street Journal', 'created_at': '2007-04-01T06:22:13.000Z', 'location': 'New York, NY', 'url': 'https://t.co/GhhR6PLfem'}]}, 'context_annotations': [{'domain': {'id': '47', 'name': 'Brand', 'description': 'Brands and Companies'}, 'entity': {'id': '10029237524', 'name': 'The Wall Street Journal'}}], 'possibly_sensitive': False, 'created_at': '2021-08-05T12:42:13.000Z', 'author': {'protected': False, 'profile_image_url': 'https://pbs.twimg.com/profile_images/603530131563532291/MWMXWfmZ_normal.jpg', 'verified': True, 'description': \"'Perhaps the most influential climate science contrarian' (Nature). Trump EPA transition. Biostat. Atty. Fund mgr. FOX News contrib. Founder, https://t.co/18cFDFvc4w.\", 'id': '21150492', 'entities': {'url': {'urls': [{'start': 0, 'end': 23, 'url': 'https://t.co/18cFDFvc4w', 'expanded_url': 'http://JunkScience.com', 'display_url': 'JunkScience.com'}]}, 'description': {'urls': [{'start': 142, 'end': 165, 'url': 'https://t.co/18cFDFvc4w', 'expanded_url': 'http://JunkScience.com', 'display_url': 'JunkScience.com'}]}}, 'public_metrics': {'followers_count': 38318, 'following_count': 89, 'tweet_count': 83487, 'listed_count': 786}, 'name': 'Steve Milloy', 'pinned_tweet_id': '1223752534092931075', 'created_at': '2009-02-18T00:19:07.000Z', 'url': 'https://t.co/18cFDFvc4w', 'username': 'JunkScience'}}], 'entities': {'urls': [{'start': 52, 'end': 75, 'url': 'https://t.co/9OrV6v5pZY', 'expanded_url': 'https://www.wsj.com/articles/exxon-considers-pledging-net-zero-carbon-by-2050-11628161201?st=y57847vvnoyx9cn&reflink=desktopwebshare_twitter', 'display_url': 'wsj.com/articles/exxon…'}], 'mentions': [{'start': 3, 'end': 15, 'username': 'JunkScience', 'id': '21150492', 'protected': False, 'profile_image_url': 'https://pbs.twimg.com/profile_images/603530131563532291/MWMXWfmZ_normal.jpg', 'verified': True, 'description': \"'Perhaps the most influential climate science contrarian' (Nature). Trump EPA transition. Biostat. Atty. Fund mgr. FOX News contrib. Founder, https://t.co/18cFDFvc4w.\", 'entities': {'url': {'urls': [{'start': 0, 'end': 23, 'url': 'https://t.co/18cFDFvc4w', 'expanded_url': 'http://JunkScience.com', 'display_url': 'JunkScience.com'}]}, 'description': {'urls': [{'start': 142, 'end': 165, 'url': 'https://t.co/18cFDFvc4w', 'expanded_url': 'http://JunkScience.com', 'display_url': 'JunkScience.com'}]}}, 'public_metrics': {'followers_count': 38318, 'following_count': 89, 'tweet_count': 83487, 'listed_count': 786}, 'name': 'Steve Milloy', 'pinned_tweet_id': '1223752534092931075', 'created_at': '2009-02-18T00:19:07.000Z', 'url': 'https://t.co/18cFDFvc4w'}, {'start': 80, 'end': 84, 'username': 'WSJ', 'id': '3108351', 'protected': False, 'profile_image_url': 'https://pbs.twimg.com/profile_images/971415515754266624/zCX0q9d5_normal.jpg', 'verified': True, 'description': 'Sign up for our newsletters and email alerts: https://t.co/WFU7oLKkip', 'entities': {'url': {'urls': [{'start': 0, 'end': 23, 'url': 'https://t.co/GhhR6PLfem', 'expanded_url': 'http://wsj.com', 'display_url': 'wsj.com'}]}, 'description': {'urls': [{'start': 46, 'end': 69, 'url': 'https://t.co/WFU7oLKkip', 'expanded_url': 'http://wsj.com/newsletters', 'display_url': 'wsj.com/newsletters'}]}}, 'public_metrics': {'followers_count': 19659227, 'following_count': 1060, 'tweet_count': 367742, 'listed_count': 124941}, 'name': 'The Wall Street Journal', 'created_at': '2007-04-01T06:22:13.000Z', 'location': 'New York, NY', 'url': 'https://t.co/GhhR6PLfem'}]}, 'context_annotations': [{'domain': {'id': '47', 'name': 'Brand', 'description': 'Brands and Companies'}, 'entity': {'id': '10029237524', 'name': 'The Wall Street Journal'}}], 'id': '1423272487337476098', 'possibly_sensitive': False, 'created_at': '2021-08-05T13:19:38.000Z', 'author': {'protected': False, 'profile_image_url': 'https://pbs.twimg.com/profile_images/1241409475828944897/uMZTmdIj_normal.jpg', 'verified': False, 'description': '🌿Love CO₂!🌿gab:@Plutarch - Persona non Greta.High quality moaning. Ikke stem på Stortingspartiet, følg meg for flere gode råd.The end justifies the memes.🇧🇻', 'id': '2474265036', 'entities': {'description': {'mentions': [{'start': 15, 'end': 24, 'username': 'Plutarch'}]}}, 'public_metrics': {'followers_count': 3581, 'following_count': 4465, 'tweet_count': 65619, 'listed_count': 24}, 'name': 'FJB 📎 CoVFeFe19', 'pinned_tweet_id': '1113441627933163525', 'created_at': '2014-05-02T16:41:19.000Z', 'location': 'Land of Trolls. Pre Shithole.', 'url': '', 'username': 'Gerald_Bostock'}, '__twarc': {'url': 'https://api.twitter.com/2/tweets/search/all?expansions=author_id%2Cin_reply_to_user_id%2Creferenced_tweets.id%2Creferenced_tweets.id.author_id%2Centities.mentions.username%2Cattachments.poll_ids%2Cattachments.media_keys%2Cgeo.place_id&tweet.fields=attachments%2Cauthor_id%2Ccontext_annotations%2Cconversation_id%2Ccreated_at%2Centities%2Cgeo%2Cid%2Cin_reply_to_user_id%2Clang%2Cpublic_metrics%2Ctext%2Cpossibly_sensitive%2Creferenced_tweets%2Creply_settings%2Csource%2Cwithheld&user.fields=created_at%2Cdescription%2Centities%2Cid%2Clocation%2Cname%2Cpinned_tweet_id%2Cprofile_image_url%2Cprotected%2Cpublic_metrics%2Curl%2Cusername%2Cverified%2Cwithheld&media.fields=alt_text%2Cduration_ms%2Cheight%2Cmedia_key%2Cpreview_image_url%2Ctype%2Curl%2Cwidth%2Cpublic_metrics&poll.fields=duration_minutes%2Cend_datetime%2Cid%2Coptions%2Cvoting_status&place.fields=contained_within%2Ccountry%2Ccountry_code%2Cfull_name%2Cgeo%2Cid%2Cname%2Cplace_type&start_time=2021-01-01T00%3A00%3A00%2B00%3A00&end_time=2022-01-01T00%3A00%3A00%2B00%3A00&query=exxon+climate&max_results=100&next_token=b26v89c19zqg8o3fpdm7q91dgsb0lnqbakxuhqney9pq5', 'version': '2.9.5', 'retrieved_at': '2022-03-27T18:10:10+00:00'}}  \n",
       "2                                                                                                                                                                                                                                                                                                                                                                                                                                                                                                                                                                                                                                                                                                                                                                                                                                                                                                                                                                                                                                                                                                                                                                                                                                                                                                                                                                                                                                                                                                                                                                                                                                                                                                                                                                                                                                                                                                                                                                                                                                                                                                                                                                                                                                                                                                                                                                                                                                                                                                                                                                                                                                                                                                                                                                                                                                                                                                                                                                                                                                                                                                                                                                                                                                                                                                                                                                                                                                                                                                                                                                                                                                                                                                                                                                                                                                                                                                                                                                                                                                                                                                                                                                                                                                                         {'conversation_id': '1449783819758931971', 'id': '1449783819758931971', 'possibly_sensitive': False, 'public_metrics': {'retweet_count': 244, 'reply_count': 0, 'like_count': 0, 'quote_count': 0}, 'author_id': '23943694', 'reply_settings': 'everyone', 'source': 'Twitter Web App', 'text': 'RT @markrstoll: \"People ask, how did you go against the world’s largest fossil fuel companies? Isn’t that scary? No. What’s scary is coasta…', 'created_at': '2021-10-17T17:06:12.000Z', 'entities': {'mentions': [{'start': 3, 'end': 14, 'username': 'markrstoll', 'id': '3283779462', 'public_metrics': {'followers_count': 4433, 'following_count': 944, 'tweet_count': 19863, 'listed_count': 77}, 'verified': False, 'name': 'Mark Stoll', 'entities': {'url': {'urls': [{'start': 0, 'end': 22, 'url': 'http://t.co/4B55XQCxvD', 'expanded_url': 'http://www.markstoll.net', 'display_url': 'markstoll.net'}]}, 'description': {'urls': [{'start': 119, 'end': 142, 'url': 'https://t.co/dB3SbVbTaj', 'expanded_url': 'https://global.oup.com/academic/product/inherit-the-holy-mountain-9780190230869', 'display_url': 'global.oup.com/academic/produ…'}], 'hashtags': [{'start': 11, 'end': 19, 'tag': 'EnvHist'}, {'start': 43, 'end': 66, 'tag': 'InherittheHolyMountain'}]}}, 'profile_image_url': 'https://pbs.twimg.com/profile_images/622581960053919744/GeQcrXOi_normal.jpg', 'protected': False, 'description': 'Writing an #EnvHist of capitalism. Author, #InherittheHolyMountain: Religion and the Rise of American Environmentalism https://t.co/dB3SbVbTaj', 'location': 'Lubbock, TX', 'url': 'http://t.co/4B55XQCxvD', 'created_at': '2015-07-19T01:26:25.000Z', 'pinned_tweet_id': '1255523419082444806'}]}, 'referenced_tweets': [{'type': 'retweeted', 'id': '1449476985437229061', 'conversation_id': '1449476985437229061', 'possibly_sensitive': False, 'public_metrics': {'retweet_count': 244, 'reply_count': 13, 'like_count': 640, 'quote_count': 11}, 'author_id': '3283779462', 'reply_settings': 'everyone', 'source': 'Twitter Web App', 'text': '\"People ask, how did you go against the world’s largest fossil fuel companies? Isn’t that scary? No. What’s scary is coastal flooding and the idea that whole cities would be under water.\" He deserves an award. https://t.co/UjJWBncAaX', 'created_at': '2021-10-16T20:46:57.000Z', 'lang': 'en', 'entities': {'urls': [{'start': 210, 'end': 233, 'url': 'https://t.co/UjJWBncAaX', 'expanded_url': 'https://www.theguardian.com/environment/2021/oct/16/imperial-beach-california-exxon-mobil-climate-crisis', 'display_url': 'theguardian.com/environment/20…'}]}, 'author': {'public_metrics': {'followers_count': 4433, 'following_count': 944, 'tweet_count': 19863, 'listed_count': 77}, 'verified': False, 'name': 'Mark Stoll', 'entities': {'url': {'urls': [{'start': 0, 'end': 22, 'url': 'http://t.co/4B55XQCxvD', 'expanded_url': 'http://www.markstoll.net', 'display_url': 'markstoll.net'}]}, 'description': {'urls': [{'start': 119, 'end': 142, 'url': 'https://t.co/dB3SbVbTaj', 'expanded_url': 'https://global.oup.com/academic/product/inherit-the-holy-mountain-9780190230869', 'display_url': 'global.oup.com/academic/produ…'}], 'hashtags': [{'start': 11, 'end': 19, 'tag': 'EnvHist'}, {'start': 43, 'end': 66, 'tag': 'InherittheHolyMountain'}]}}, 'id': '3283779462', 'username': 'markrstoll', 'profile_image_url': 'https://pbs.twimg.com/profile_images/622581960053919744/GeQcrXOi_normal.jpg', 'protected': False, 'description': 'Writing an #EnvHist of capitalism. Author, #InherittheHolyMountain: Religion and the Rise of American Environmentalism https://t.co/dB3SbVbTaj', 'location': 'Lubbock, TX', 'url': 'http://t.co/4B55XQCxvD', 'created_at': '2015-07-19T01:26:25.000Z', 'pinned_tweet_id': '1255523419082444806'}}], 'lang': 'en', 'author': {'public_metrics': {'followers_count': 664, 'following_count': 994, 'tweet_count': 22458, 'listed_count': 15}, 'verified': False, 'name': 'C⭕️ra Brink #klimaatdrammer #ZeroCovid', 'entities': {'url': {'urls': [{'start': 0, 'end': 23, 'url': 'https://t.co/JGqlv7w8wm', 'expanded_url': 'http://www.corabrink.nl', 'display_url': 'corabrink.nl'}]}, 'description': {'urls': [{'start': 138, 'end': 161, 'url': 'https://t.co/fe02wIQPZ7', 'expanded_url': 'http://corabrink.nl', 'display_url': 'corabrink.nl'}]}}, 'id': '23943694', 'username': 'Coramb', 'profile_image_url': 'https://pbs.twimg.com/profile_images/860479243247124480/pYphDb0g_normal.jpg', 'protected': False, 'description': 'een leefbare wereld voor iedereen | zelfregie en empowerment | evalueren van sociale interventies | duurzaamheid | weer- en windfietser | https://t.co/fe02wIQPZ7', 'location': 'Utrecht, Netherlands', 'url': 'https://t.co/JGqlv7w8wm', 'created_at': '2009-03-12T13:11:30.000Z'}, '__twarc': {'url': 'https://api.twitter.com/2/tweets/search/all?expansions=author_id%2Cin_reply_to_user_id%2Creferenced_tweets.id%2Creferenced_tweets.id.author_id%2Centities.mentions.username%2Cattachments.poll_ids%2Cattachments.media_keys%2Cgeo.place_id&tweet.fields=attachments%2Cauthor_id%2Ccontext_annotations%2Cconversation_id%2Ccreated_at%2Centities%2Cgeo%2Cid%2Cin_reply_to_user_id%2Clang%2Cpublic_metrics%2Ctext%2Cpossibly_sensitive%2Creferenced_tweets%2Creply_settings%2Csource%2Cwithheld&user.fields=created_at%2Cdescription%2Centities%2Cid%2Clocation%2Cname%2Cpinned_tweet_id%2Cprofile_image_url%2Cprotected%2Cpublic_metrics%2Curl%2Cusername%2Cverified%2Cwithheld&media.fields=alt_text%2Cduration_ms%2Cheight%2Cmedia_key%2Cpreview_image_url%2Ctype%2Curl%2Cwidth%2Cpublic_metrics&poll.fields=duration_minutes%2Cend_datetime%2Cid%2Coptions%2Cvoting_status&place.fields=contained_within%2Ccountry%2Ccountry_code%2Cfull_name%2Cgeo%2Cid%2Cname%2Cplace_type&start_time=2021-01-01T00%3A00%3A00%2B00%3A00&end_time=2022-01-01T00%3A00%3A00%2B00%3A00&query=exxon+climate&max_results=100&next_token=b26v89c19zqg8o3fpds9t9eg7treiy06i6wnvk32s1ksd', 'version': '2.9.5', 'retrieved_at': '2022-03-27T14:56:16+00:00'}}  \n",
       "3                                                                                                                                                                                                                                                                                                                                                                                                                                                                                                                                                                                                                                                                                                                                                                                                                                                                                                                                                                                                                                                                                                                                                                                                                                                                                                                                                                                                                                                                                                                                                                                                                                                                                                                                                                                                                                                                                                                                                                                                                                                                                                                                                                                                                                                                                                                                                                                                                    {'entities': {'hashtags': [{'start': 112, 'end': 116, 'tag': 'oil'}, {'start': 117, 'end': 129, 'tag': 'FossilFuels'}], 'mentions': [{'start': 3, 'end': 18, 'username': 'simonjnicholas', 'id': '3010592454', 'protected': False, 'entities': {'url': {'urls': [{'start': 0, 'end': 23, 'url': 'https://t.co/Vy0WJmnmeg', 'expanded_url': 'http://ieefa.org', 'display_url': 'ieefa.org'}]}}, 'description': 'Energy finance analyst at IEEFA following the energy technology transition. Views are my own.', 'created_at': '2015-02-05T23:48:19.000Z', 'public_metrics': {'followers_count': 1898, 'following_count': 1185, 'tweet_count': 6879, 'listed_count': 60}, 'profile_image_url': 'https://pbs.twimg.com/profile_images/763992316524711936/juiymIbd_normal.jpg', 'verified': False, 'location': 'Blackheath, New South Wales', 'pinned_tweet_id': '1491534215829094400', 'name': 'Simon Nicholas', 'url': 'https://t.co/Vy0WJmnmeg'}], 'annotations': [{'start': 35, 'end': 39, 'probability': 0.5122, 'type': 'Organization', 'normalized_text': 'Exxon'}], 'urls': [{'start': 88, 'end': 111, 'url': 'https://t.co/G6mQ9x6KXp', 'expanded_url': 'https://reut.rs/3qicOTg', 'display_url': 'reut.rs/3qicOTg'}]}, 'lang': 'en', 'referenced_tweets': [{'type': 'retweeted', 'id': '1361075882589261824', 'entities': {'hashtags': [{'start': 92, 'end': 96, 'tag': 'oil'}, {'start': 97, 'end': 109, 'tag': 'FossilFuels'}], 'annotations': [{'start': 0, 'end': 2, 'probability': 0.4822, 'type': 'Organization', 'normalized_text': 'S&P'}, {'start': 15, 'end': 19, 'probability': 0.5533, 'type': 'Organization', 'normalized_text': 'Exxon'}], 'urls': [{'start': 68, 'end': 91, 'url': 'https://t.co/G6mQ9x6KXp', 'expanded_url': 'https://reut.rs/3qicOTg', 'display_url': 'reut.rs/3qicOTg'}]}, 'lang': 'en', 'source': 'Twitter Web App', 'conversation_id': '1361075882589261824', 'text': 'S&amp;P downgrades Exxon and Chevron on climate risk, dour earnings https://t.co/G6mQ9x6KXp #oil #FossilFuels', 'context_annotations': [{'domain': {'id': '45', 'name': 'Brand Vertical', 'description': 'Top level entities that describe a Brands industry'}, 'entity': {'id': '781974597474263040', 'name': 'Energy'}}, {'domain': {'id': '46', 'name': 'Brand Category', 'description': 'Categories within Brand Verticals that narrow down the scope of Brands'}, 'entity': {'id': '781974596723412992', 'name': 'Gas/Oil'}}, {'domain': {'id': '47', 'name': 'Brand', 'description': 'Brands and Companies'}, 'entity': {'id': '10026377931', 'name': 'ExxonMobil'}}, {'domain': {'id': '45', 'name': 'Brand Vertical', 'description': 'Top level entities that describe a Brands industry'}, 'entity': {'id': '781974597474263040', 'name': 'Energy'}}, {'domain': {'id': '46', 'name': 'Brand Category', 'description': 'Categories within Brand Verticals that narrow down the scope of Brands'}, 'entity': {'id': '781974596723412992', 'name': 'Gas/Oil'}}, {'domain': {'id': '47', 'name': 'Brand', 'description': 'Brands and Companies'}, 'entity': {'id': '10026377957', 'name': 'Chevron'}}, {'domain': {'id': '47', 'name': 'Brand', 'description': 'Brands and Companies'}, 'entity': {'id': '10039822051', 'name': 'Exxon'}}], 'author_id': '3010592454', 'public_metrics': {'retweet_count': 4, 'reply_count': 0, 'like_count': 2, 'quote_count': 0}, 'possibly_sensitive': False, 'reply_settings': 'everyone', 'created_at': '2021-02-14T22:12:32.000Z', 'author': {'id': '3010592454', 'protected': False, 'entities': {'url': {'urls': [{'start': 0, 'end': 23, 'url': 'https://t.co/Vy0WJmnmeg', 'expanded_url': 'http://ieefa.org', 'display_url': 'ieefa.org'}]}}, 'description': 'Energy finance analyst at IEEFA following the energy technology transition. Views are my own.', 'created_at': '2015-02-05T23:48:19.000Z', 'public_metrics': {'followers_count': 1898, 'following_count': 1185, 'tweet_count': 6879, 'listed_count': 60}, 'profile_image_url': 'https://pbs.twimg.com/profile_images/763992316524711936/juiymIbd_normal.jpg', 'verified': False, 'username': 'simonjnicholas', 'location': 'Blackheath, New South Wales', 'pinned_tweet_id': '1491534215829094400', 'name': 'Simon Nicholas', 'url': 'https://t.co/Vy0WJmnmeg'}}], 'source': 'Twitter Web App', 'conversation_id': '1361804341041012737', 'text': 'RT @simonjnicholas: S&amp;P downgrades Exxon and Chevron on climate risk, dour earnings https://t.co/G6mQ9x6KXp #oil #FossilFuels', 'id': '1361804341041012737', 'context_annotations': [{'domain': {'id': '45', 'name': 'Brand Vertical', 'description': 'Top level entities that describe a Brands industry'}, 'entity': {'id': '781974597474263040', 'name': 'Energy'}}, {'domain': {'id': '46', 'name': 'Brand Category', 'description': 'Categories within Brand Verticals that narrow down the scope of Brands'}, 'entity': {'id': '781974596723412992', 'name': 'Gas/Oil'}}, {'domain': {'id': '47', 'name': 'Brand', 'description': 'Brands and Companies'}, 'entity': {'id': '10026377931', 'name': 'ExxonMobil'}}, {'domain': {'id': '45', 'name': 'Brand Vertical', 'description': 'Top level entities that describe a Brands industry'}, 'entity': {'id': '781974597474263040', 'name': 'Energy'}}, {'domain': {'id': '46', 'name': 'Brand Category', 'description': 'Categories within Brand Verticals that narrow down the scope of Brands'}, 'entity': {'id': '781974596723412992', 'name': 'Gas/Oil'}}, {'domain': {'id': '47', 'name': 'Brand', 'description': 'Brands and Companies'}, 'entity': {'id': '10026377957', 'name': 'Chevron'}}, {'domain': {'id': '47', 'name': 'Brand', 'description': 'Brands and Companies'}, 'entity': {'id': '10039822051', 'name': 'Exxon'}}], 'author_id': '941524016644333569', 'public_metrics': {'retweet_count': 4, 'reply_count': 0, 'like_count': 0, 'quote_count': 0}, 'possibly_sensitive': False, 'reply_settings': 'everyone', 'created_at': '2021-02-16T22:27:10.000Z', 'author': {'id': '941524016644333569', 'protected': False, 'entities': {'url': {'urls': [{'start': 0, 'end': 23, 'url': 'https://t.co/Vy0WJmnmeg', 'expanded_url': 'http://ieefa.org', 'display_url': 'ieefa.org'}]}}, 'description': 'Working to accelerate the energy transition in India through economic and financial analyses', 'created_at': '2017-12-15T04:23:13.000Z', 'public_metrics': {'followers_count': 833, 'following_count': 429, 'tweet_count': 2065, 'listed_count': 19}, 'profile_image_url': 'https://pbs.twimg.com/profile_images/941525056978423808/_X93bGMX_normal.jpg', 'verified': False, 'username': 'IEEFA_India', 'name': 'IEEFA India', 'url': 'https://t.co/Vy0WJmnmeg'}, '__twarc': {'url': 'https://api.twitter.com/2/tweets/search/all?expansions=author_id%2Cin_reply_to_user_id%2Creferenced_tweets.id%2Creferenced_tweets.id.author_id%2Centities.mentions.username%2Cattachments.poll_ids%2Cattachments.media_keys%2Cgeo.place_id&tweet.fields=attachments%2Cauthor_id%2Ccontext_annotations%2Cconversation_id%2Ccreated_at%2Centities%2Cgeo%2Cid%2Cin_reply_to_user_id%2Clang%2Cpublic_metrics%2Ctext%2Cpossibly_sensitive%2Creferenced_tweets%2Creply_settings%2Csource%2Cwithheld&user.fields=created_at%2Cdescription%2Centities%2Cid%2Clocation%2Cname%2Cpinned_tweet_id%2Cprofile_image_url%2Cprotected%2Cpublic_metrics%2Curl%2Cusername%2Cverified%2Cwithheld&media.fields=alt_text%2Cduration_ms%2Cheight%2Cmedia_key%2Cpreview_image_url%2Ctype%2Curl%2Cwidth%2Cpublic_metrics&poll.fields=duration_minutes%2Cend_datetime%2Cid%2Coptions%2Cvoting_status&place.fields=contained_within%2Ccountry%2Ccountry_code%2Cfull_name%2Cgeo%2Cid%2Cname%2Cplace_type&start_time=2021-01-01T00%3A00%3A00%2B00%3A00&end_time=2022-01-01T00%3A00%3A00%2B00%3A00&query=exxon+climate&max_results=100&next_token=b26v89c19zqg8o3fosnro0339n10wb15ny6judy1holtp', 'version': '2.9.5', 'retrieved_at': '2022-03-28T03:20:29+00:00'}}  \n",
       "4  {'created_at': '2021-10-28T20:22:48.000Z', 'lang': 'en', 'public_metrics': {'retweet_count': 7, 'reply_count': 0, 'like_count': 0, 'quote_count': 0}, 'possibly_sensitive': False, 'source': 'Twitter for iPhone', 'entities': {'mentions': [{'start': 3, 'end': 17, 'username': 'amywestervelt', 'id': '14779408', 'description': \"Investigative journo. Run @CriticalFreqPod, @WeAreDrilled. Co-host @realhottake & S5 of @sceneonradio. It's the power structure not the energy source.\", 'profile_image_url': 'https://pbs.twimg.com/profile_images/1462538638017720333/DxJSu-Gv_normal.jpg', 'entities': {'url': {'urls': [{'start': 0, 'end': 23, 'url': 'https://t.co/bsuV4T6Vzk', 'expanded_url': 'http://www.drilledpodcast.com', 'display_url': 'drilledpodcast.com'}]}, 'description': {'mentions': [{'start': 26, 'end': 42, 'username': 'CriticalFreqPod'}, {'start': 44, 'end': 57, 'username': 'WeAreDrilled'}, {'start': 67, 'end': 79, 'username': 'realhottake'}, {'start': 88, 'end': 101, 'username': 'sceneonradio'}]}}, 'verified': True, 'pinned_tweet_id': '1497970197264683010', 'protected': False, 'url': 'https://t.co/bsuV4T6Vzk', 'created_at': '2008-05-14T22:06:04.000Z', 'public_metrics': {'followers_count': 52787, 'following_count': 2277, 'tweet_count': 7115, 'listed_count': 1229}, 'location': 'Up your butt', 'name': 'Amy Westervelt'}, {'start': 19, 'end': 25, 'username': 'Shell', 'id': '20663500', 'description': 'Shell’s official Twitter account.', 'profile_image_url': 'https://pbs.twimg.com/profile_images/934717921816993793/H1vB6P7o_normal.jpg', 'entities': {'url': {'urls': [{'start': 0, 'end': 23, 'url': 'https://t.co/8JuOjxJNCY', 'expanded_url': 'http://www.shell.com', 'display_url': 'shell.com'}]}}, 'verified': True, 'protected': False, 'url': 'https://t.co/8JuOjxJNCY', 'created_at': '2009-02-12T09:09:53.000Z', 'public_metrics': {'followers_count': 560262, 'following_count': 124, 'tweet_count': 5385, 'listed_count': 3564}, 'name': 'Shell'}, {'start': 26, 'end': 41, 'username': 'RepAndyBiggsAZ', 'id': '816652616625168388', 'description': \"Representing Arizona's Fighting Fifth.\", 'profile_image_url': 'https://pbs.twimg.com/profile_images/1176647112550993920/rETjTe_z_normal.jpg', 'entities': {'url': {'urls': [{'start': 0, 'end': 23, 'url': 'https://t.co/LxLsr4csI9', 'expanded_url': 'http://biggs.house.gov', 'display_url': 'biggs.house.gov'}]}}, 'verified': True, 'protected': False, 'url': 'https://t.co/LxLsr4csI9', 'created_at': '2017-01-04T14:28:51.000Z', 'public_metrics': {'followers_count': 388181, 'following_count': 1738, 'tweet_count': 20814, 'listed_count': 1908}, 'location': 'Arizona, USA', 'name': 'Rep Andy Biggs'}, {'start': 42, 'end': 52, 'username': 'APIenergy', 'id': '15646547', 'description': \"We are the problem-solvers who tackle the world’s greatest energy challenges.\\n\\nAPI's Climate Framework: https://t.co/TTx2kABdgF\", 'profile_image_url': 'https://pbs.twimg.com/profile_images/1410589673945190402/qYKM3Oz1_normal.png', 'entities': {'url': {'urls': [{'start': 0, 'end': 23, 'url': 'https://t.co/FMkf11xbIz', 'expanded_url': 'https://www.api.org/about', 'display_url': 'api.org/about'}]}, 'description': {'urls': [{'start': 104, 'end': 127, 'url': 'https://t.co/TTx2kABdgF', 'expanded_url': 'http://api.org/climate', 'display_url': 'api.org/climate'}]}}, 'verified': True, 'pinned_tweet_id': '1481316114697179141', 'protected': False, 'url': 'https://t.co/FMkf11xbIz', 'created_at': '2008-07-29T14:15:24.000Z', 'public_metrics': {'followers_count': 82768, 'following_count': 1615, 'tweet_count': 43449, 'listed_count': 1787}, 'name': 'American Petroleum Institute'}, {'start': 53, 'end': 66, 'username': 'RepDWStweets', 'id': '1140648348', 'description': \"U.S. Congresswoman proudly representing the people of Florida's 23rd District in our nation's capital.\", 'profile_image_url': 'https://pbs.twimg.com/profile_images/1217104542837460992/1CZNbVP9_normal.png', 'entities': {'url': {'urls': [{'start': 0, 'end': 22, 'url': 'http://t.co/L7PfQxOrER', 'expanded_url': 'http://wassermanschultz.house.gov/', 'display_url': 'wassermanschultz.house.gov'}]}}, 'verified': True, 'protected': False, 'url': 'http://t.co/L7PfQxOrER', 'created_at': '2013-02-01T20:31:25.000Z', 'public_metrics': {'followers_count': 19103, 'following_count': 2374, 'tweet_count': 6619, 'listed_count': 757}, 'location': 'Weston & Washington', 'name': 'Rep. Debbie Wasserman Schultz'}, {'start': 67, 'end': 82, 'username': 'AyannaPressley', 'id': '31013444', 'description': 'Your Congresswoman. Proudly representing the MA 7th. Here to break concrete ceilings & shake the table. Personal account. She/hers. #ChangeCantWait', 'profile_image_url': 'https://pbs.twimg.com/profile_images/1291076690702151682/rPUqP3Mt_normal.jpg', 'entities': {'url': {'urls': [{'start': 0, 'end': 23, 'url': 'https://t.co/RxDNiQj5Gh', 'expanded_url': 'http://ayannapressley.com/volunteer', 'display_url': 'ayannapressley.com/volunteer'}]}, 'description': {'hashtags': [{'start': 132, 'end': 147, 'tag': 'ChangeCantWait'}]}}, 'verified': True, 'pinned_tweet_id': '1352661926220886019', 'protected': False, 'url': 'https://t.co/RxDNiQj5Gh', 'created_at': '2009-04-14T01:06:07.000Z', 'public_metrics': {'followers_count': 1104195, 'following_count': 18427, 'tweet_count': 26862, 'listed_count': 4532}, 'location': 'Hyde Park, MA', 'name': 'Ayanna Pressley'}, {'start': 83, 'end': 94, 'username': 'exxonmobil', 'id': '36665547', 'description': 'The official Twitter page of Exxon Mobil Corporation. Continue the conversation at https://t.co/zXpm4nkTHw. Direct all inquiries to https://t.co/0FEIipAm9V.', 'profile_image_url': 'https://pbs.twimg.com/profile_images/902558084064616448/YTOCYYnn_normal.jpg', 'entities': {'url': {'urls': [{'start': 0, 'end': 23, 'url': 'https://t.co/4zuwrHTd1I', 'expanded_url': 'http://www.exxonmobil.com', 'display_url': 'exxonmobil.com'}]}, 'description': {'urls': [{'start': 83, 'end': 106, 'url': 'https://t.co/zXpm4nkTHw', 'expanded_url': 'http://facebook.com/ExxonMobil', 'display_url': 'facebook.com/ExxonMobil'}, {'start': 132, 'end': 155, 'url': 'https://t.co/0FEIipAm9V', 'expanded_url': 'http://exxonmobil.com/contactus', 'display_url': 'exxonmobil.com/contactus'}]}}, 'verified': True, 'pinned_tweet_id': '1498813830801076225', 'protected': False, 'url': 'https://t.co/4zuwrHTd1I', 'created_at': '2009-04-30T13:49:24.000Z', 'public_metrics': {'followers_count': 330237, 'following_count': 276, 'tweet_count': 7164, 'listed_count': 2685}, 'name': 'ExxonMobil'}, {'start': 95, 'end': 104, 'username': 'CoriBush', 'id': '4696552878', 'description': 'U.S. Congresswoman, MO-01. Nurse, activist, organizer, single mom, & pastor. Leading with love, fighting for regular people. #StLouisStrong (she/her)', 'profile_image_url': 'https://pbs.twimg.com/profile_images/1275804043785334784/7j5yj4ma_normal.jpg', 'entities': {'url': {'urls': [{'start': 0, 'end': 23, 'url': 'https://t.co/g5ToItg1eT', 'expanded_url': 'http://www.coribush.org/', 'display_url': 'coribush.org'}]}, 'description': {'hashtags': [{'start': 125, 'end': 139, 'tag': 'StLouisStrong'}]}}, 'verified': True, 'pinned_tweet_id': '1459175054554632223', 'protected': False, 'url': 'https://t.co/g5ToItg1eT', 'created_at': '2016-01-02T14:36:12.000Z', 'public_metrics': {'followers_count': 896868, 'following_count': 2154, 'tweet_count': 8304, 'listed_count': 3089}, 'location': 'St Louis, MO', 'name': 'Cori Bush'}, {'start': 105, 'end': 120, 'username': 'cleancreatives', 'id': '1329460821123067906', 'description': \"The future of creativity is clean. It's time for advertisers, marketers, and PR professionals to cut ties with fossil fuels. \\n\\nSign the pledge 👇\", 'profile_image_url': 'https://pbs.twimg.com/profile_images/1329642636714651648/msz_CEvG_normal.png', 'entities': {'url': {'urls': [{'start': 0, 'end': 23, 'url': 'https://t.co/eU1rXixE6M', 'expanded_url': 'http://cleancreatives.org', 'display_url': 'cleancreatives.org'}]}}, 'verified': False, 'pinned_tweet_id': '1440331189840060419', 'protected': False, 'url': 'https://t.co/eU1rXixE6M', 'created_at': '2020-11-19T16:26:16.000Z', 'public_metrics': {'followers_count': 4945, 'following_count': 1367, 'tweet_count': 906, 'listed_count': 69}, 'name': 'Clean Creatives'}]}, 'reply_settings': 'everyone', 'author_id': '2347323266', 'text': 'RT @amywestervelt: @Shell @RepAndyBiggsAZ @APIenergy @RepDWStweets @AyannaPressley @exxonmobil @CoriBush @cleancreatives The pivot to \"We'r…', 'conversation_id': '1453819561023729676', 'id': '1453819561023729676', 'referenced_tweets': [{'type': 'retweeted', 'id': '1453815304367206422', 'created_at': '2021-10-28T20:05:53.000Z', 'lang': 'en', 'public_metrics': {'retweet_count': 7, 'reply_count': 1, 'like_count': 35, 'quote_count': 0}, 'possibly_sensitive': False, 'source': 'Twitter Web App', 'entities': {'mentions': [{'start': 0, 'end': 6, 'username': 'Shell', 'id': '20663500', 'description': 'Shell’s official Twitter account.', 'profile_image_url': 'https://pbs.twimg.com/profile_images/934717921816993793/H1vB6P7o_normal.jpg', 'entities': {'url': {'urls': [{'start': 0, 'end': 23, 'url': 'https://t.co/8JuOjxJNCY', 'expanded_url': 'http://www.shell.com', 'display_url': 'shell.com'}]}}, 'verified': True, 'protected': False, 'url': 'https://t.co/8JuOjxJNCY', 'created_at': '2009-02-12T09:09:53.000Z', 'public_metrics': {'followers_count': 560262, 'following_count': 124, 'tweet_count': 5385, 'listed_count': 3564}, 'name': 'Shell'}, {'start': 7, 'end': 22, 'username': 'RepAndyBiggsAZ', 'id': '816652616625168388', 'description': \"Representing Arizona's Fighting Fifth.\", 'profile_image_url': 'https://pbs.twimg.com/profile_images/1176647112550993920/rETjTe_z_normal.jpg', 'entities': {'url': {'urls': [{'start': 0, 'end': 23, 'url': 'https://t.co/LxLsr4csI9', 'expanded_url': 'http://biggs.house.gov', 'display_url': 'biggs.house.gov'}]}}, 'verified': True, 'protected': False, 'url': 'https://t.co/LxLsr4csI9', 'created_at': '2017-01-04T14:28:51.000Z', 'public_metrics': {'followers_count': 388181...  "
      ]
     },
     "execution_count": 63,
     "metadata": {},
     "output_type": "execute_result"
    }
   ],
   "source": [
    "# Group top 5 sentences under each topic\n",
    "sent_topics_sorteddf_mallet = pd.DataFrame()\n",
    "\n",
    "sent_topics_outdf_grpd = df_topic_sents_keywords.groupby('Dominant_Topic')\n",
    "\n",
    "for i, grp in sent_topics_outdf_grpd:\n",
    "    sent_topics_sorteddf_mallet = pd.concat([sent_topics_sorteddf_mallet, \n",
    "                                             grp.sort_values(['Perc_Contribution'], ascending=[0]).head(1)], \n",
    "                                            axis=0)\n",
    "\n",
    "# Reset Index    \n",
    "sent_topics_sorteddf_mallet.reset_index(drop=True, inplace=True)\n",
    "\n",
    "# Format\n",
    "sent_topics_sorteddf_mallet.columns = ['Topic_Num', \"Topic_Perc_Contrib\", \"Keywords\", \"Text\"]\n",
    "\n",
    "# Show\n",
    "sent_topics_sorteddf_mallet.head()"
   ]
  },
  {
   "cell_type": "markdown",
   "id": "59576a82-5edc-41c6-ab6e-1cd2a5935440",
   "metadata": {
    "jp-MarkdownHeadingCollapsed": true,
    "tags": []
   },
   "source": [
    "### Topic distribution across documents"
   ]
  },
  {
   "cell_type": "code",
   "execution_count": 64,
   "id": "e1695dc0-dc55-4ed8-8636-14b13e5cfb70",
   "metadata": {},
   "outputs": [
    {
     "data": {
      "text/html": [
       "<div>\n",
       "<style scoped>\n",
       "    .dataframe tbody tr th:only-of-type {\n",
       "        vertical-align: middle;\n",
       "    }\n",
       "\n",
       "    .dataframe tbody tr th {\n",
       "        vertical-align: top;\n",
       "    }\n",
       "\n",
       "    .dataframe thead th {\n",
       "        text-align: right;\n",
       "    }\n",
       "</style>\n",
       "<table border=\"1\" class=\"dataframe\">\n",
       "  <thead>\n",
       "    <tr style=\"text-align: right;\">\n",
       "      <th></th>\n",
       "      <th>Dominant_Topic</th>\n",
       "      <th>Topic_Keywords</th>\n",
       "      <th>Num_Documents</th>\n",
       "      <th>Perc_Documents</th>\n",
       "    </tr>\n",
       "  </thead>\n",
       "  <tbody>\n",
       "    <tr>\n",
       "      <th>0.0</th>\n",
       "      <td>0.0</td>\n",
       "      <td>climate, company, shareholder, go, today, break, case, change, involve, know</td>\n",
       "      <td>136609.0</td>\n",
       "      <td>0.5638</td>\n",
       "    </tr>\n",
       "    <tr>\n",
       "      <th>1.0</th>\n",
       "      <td>0.0</td>\n",
       "      <td>climate, company, shareholder, go, today, break, case, change, involve, know</td>\n",
       "      <td>12089.0</td>\n",
       "      <td>0.0499</td>\n",
       "    </tr>\n",
       "    <tr>\n",
       "      <th>2.0</th>\n",
       "      <td>0.0</td>\n",
       "      <td>climate, company, shareholder, go, today, break, case, change, involve, know</td>\n",
       "      <td>29744.0</td>\n",
       "      <td>0.1228</td>\n",
       "    </tr>\n",
       "    <tr>\n",
       "      <th>3.0</th>\n",
       "      <td>0.0</td>\n",
       "      <td>climate, company, shareholder, go, today, break, case, change, involve, know</td>\n",
       "      <td>17741.0</td>\n",
       "      <td>0.0732</td>\n",
       "    </tr>\n",
       "    <tr>\n",
       "      <th>4.0</th>\n",
       "      <td>0.0</td>\n",
       "      <td>climate, company, shareholder, go, today, break, case, change, involve, know</td>\n",
       "      <td>33595.0</td>\n",
       "      <td>0.1387</td>\n",
       "    </tr>\n",
       "    <tr>\n",
       "      <th>5.0</th>\n",
       "      <td>0.0</td>\n",
       "      <td>climate, company, shareholder, go, today, break, case, change, involve, know</td>\n",
       "      <td>12504.0</td>\n",
       "      <td>0.0516</td>\n",
       "    </tr>\n",
       "    <tr>\n",
       "      <th>6.0</th>\n",
       "      <td>0.0</td>\n",
       "      <td>climate, company, shareholder, go, today, break, case, change, involve, know</td>\n",
       "      <td>NaN</td>\n",
       "      <td>NaN</td>\n",
       "    </tr>\n",
       "    <tr>\n",
       "      <th>7.0</th>\n",
       "      <td>0.0</td>\n",
       "      <td>climate, company, shareholder, go, today, break, case, change, involve, know</td>\n",
       "      <td>NaN</td>\n",
       "      <td>NaN</td>\n",
       "    </tr>\n",
       "    <tr>\n",
       "      <th>8.0</th>\n",
       "      <td>0.0</td>\n",
       "      <td>climate, company, shareholder, go, today, break, case, change, involve, know</td>\n",
       "      <td>NaN</td>\n",
       "      <td>NaN</td>\n",
       "    </tr>\n",
       "    <tr>\n",
       "      <th>9.0</th>\n",
       "      <td>0.0</td>\n",
       "      <td>climate, company, shareholder, go, today, break, case, change, involve, know</td>\n",
       "      <td>NaN</td>\n",
       "      <td>NaN</td>\n",
       "    </tr>\n",
       "  </tbody>\n",
       "</table>\n",
       "</div>"
      ],
      "text/plain": [
       "     Dominant_Topic  \\\n",
       "0.0             0.0   \n",
       "1.0             0.0   \n",
       "2.0             0.0   \n",
       "3.0             0.0   \n",
       "4.0             0.0   \n",
       "5.0             0.0   \n",
       "6.0             0.0   \n",
       "7.0             0.0   \n",
       "8.0             0.0   \n",
       "9.0             0.0   \n",
       "\n",
       "                                                                   Topic_Keywords  \\\n",
       "0.0  climate, company, shareholder, go, today, break, case, change, involve, know   \n",
       "1.0  climate, company, shareholder, go, today, break, case, change, involve, know   \n",
       "2.0  climate, company, shareholder, go, today, break, case, change, involve, know   \n",
       "3.0  climate, company, shareholder, go, today, break, case, change, involve, know   \n",
       "4.0  climate, company, shareholder, go, today, break, case, change, involve, know   \n",
       "5.0  climate, company, shareholder, go, today, break, case, change, involve, know   \n",
       "6.0  climate, company, shareholder, go, today, break, case, change, involve, know   \n",
       "7.0  climate, company, shareholder, go, today, break, case, change, involve, know   \n",
       "8.0  climate, company, shareholder, go, today, break, case, change, involve, know   \n",
       "9.0  climate, company, shareholder, go, today, break, case, change, involve, know   \n",
       "\n",
       "     Num_Documents  Perc_Documents  \n",
       "0.0       136609.0          0.5638  \n",
       "1.0        12089.0          0.0499  \n",
       "2.0        29744.0          0.1228  \n",
       "3.0        17741.0          0.0732  \n",
       "4.0        33595.0          0.1387  \n",
       "5.0        12504.0          0.0516  \n",
       "6.0            NaN             NaN  \n",
       "7.0            NaN             NaN  \n",
       "8.0            NaN             NaN  \n",
       "9.0            NaN             NaN  "
      ]
     },
     "execution_count": 64,
     "metadata": {},
     "output_type": "execute_result"
    }
   ],
   "source": [
    "# Number of Documents for Each Topic\n",
    "topic_counts = df_topic_sents_keywords['Dominant_Topic'].value_counts()\n",
    "\n",
    "# Percentage of Documents for Each Topic\n",
    "topic_contribution = round(topic_counts/topic_counts.sum(), 4)\n",
    "\n",
    "# Topic Number and Keywords\n",
    "topic_num_keywords = df_topic_sents_keywords[['Dominant_Topic', 'Topic_Keywords']]\n",
    "\n",
    "# Concatenate Column wise\n",
    "df_dominant_topics = pd.concat([topic_num_keywords, topic_counts, topic_contribution], axis=1)\n",
    "\n",
    "# Change Column names\n",
    "df_dominant_topics.columns = ['Dominant_Topic', 'Topic_Keywords', 'Num_Documents', 'Perc_Documents']\n",
    "\n",
    "# Show\n",
    "df_dominant_topics.head(10)"
   ]
  },
  {
   "cell_type": "code",
   "execution_count": null,
   "id": "b446f62a-d44e-483e-a929-63ce48369ace",
   "metadata": {},
   "outputs": [],
   "source": []
  }
 ],
 "metadata": {
  "kernelspec": {
   "display_name": "Python 3 (ipykernel)",
   "language": "python",
   "name": "python3"
  },
  "language_info": {
   "codemirror_mode": {
    "name": "ipython",
    "version": 3
   },
   "file_extension": ".py",
   "mimetype": "text/x-python",
   "name": "python",
   "nbconvert_exporter": "python",
   "pygments_lexer": "ipython3",
   "version": "3.9.7"
  }
 },
 "nbformat": 4,
 "nbformat_minor": 5
}
