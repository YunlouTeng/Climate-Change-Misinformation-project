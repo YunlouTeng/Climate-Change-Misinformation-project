{
 "cells": [
  {
   "cell_type": "code",
   "execution_count": 1,
   "id": "3911a094-8aa5-4ad9-b24a-00fa2046e847",
   "metadata": {},
   "outputs": [],
   "source": [
    "import re\n",
    "import json\n",
    "import numpy as np\n",
    "import pandas as pd\n",
    "from pprint import pprint\n",
    "import seaborn as sns\n",
    "\n",
    "# NLTK Stop words\n",
    "import nltk\n",
    "from nltk import word_tokenize, FreqDist\n",
    "from nltk.corpus import stopwords\n",
    "from nltk.stem import WordNetLemmatizer\n",
    "from nltk.tokenize import TweetTokenizer\n",
    "\n",
    "# spacy for lemmatization\n",
    "import spacy\n",
    "\n",
    "#remove urls, mentions, emojis \n",
    "import preprocessor as p\n",
    "\n",
    "# Gensim\n",
    "import gensim\n",
    "import gensim.corpora as corpora\n",
    "from gensim.utils import simple_preprocess\n",
    "from gensim.models import CoherenceModel\n",
    "\n",
    "# Plotting tools\n",
    "import pyLDAvis\n",
    "import pyLDAvis.gensim_models  \n",
    "import matplotlib.pyplot as plt"
   ]
  },
  {
   "cell_type": "code",
   "execution_count": 2,
   "id": "01936baf-d833-49d0-9aca-11cfeceac718",
   "metadata": {},
   "outputs": [],
   "source": [
    "filepath = '/Users/lavine/Desktop/Terriers!/misinformation project/data/data.txt'"
   ]
  },
  {
   "cell_type": "markdown",
   "id": "d6cdfa55-4950-4097-b99c-095be9c758aa",
   "metadata": {
    "jp-MarkdownHeadingCollapsed": true,
    "tags": []
   },
   "source": [
    "### Create a dataframe for the first dictionary (failed right now)"
   ]
  },
  {
   "cell_type": "markdown",
   "id": "e847093d-b512-4352-9f63-13591f6fd5d5",
   "metadata": {},
   "source": [
    "Take a look at our dirst dictionary"
   ]
  },
  {
   "cell_type": "code",
   "execution_count": 3,
   "id": "c9707b3c-2448-4c8d-90e1-10a6f7efc2c8",
   "metadata": {},
   "outputs": [],
   "source": [
    "df_0_json = pd.read_json(filepath, lines=True, nrows=1)"
   ]
  },
  {
   "cell_type": "code",
   "execution_count": 4,
   "id": "8144534b-f5eb-4593-86e2-07c61e4ba82a",
   "metadata": {},
   "outputs": [
    {
     "data": {
      "text/plain": [
       "0    und\n",
       "Name: lang, dtype: object"
      ]
     },
     "execution_count": 4,
     "metadata": {},
     "output_type": "execute_result"
    }
   ],
   "source": [
    "df_0_json['lang']"
   ]
  },
  {
   "cell_type": "code",
   "execution_count": 5,
   "id": "17684ebf-2151-4a6d-9025-5a2ef269d760",
   "metadata": {},
   "outputs": [
    {
     "data": {
      "text/html": [
       "<div>\n",
       "<style scoped>\n",
       "    .dataframe tbody tr th:only-of-type {\n",
       "        vertical-align: middle;\n",
       "    }\n",
       "\n",
       "    .dataframe tbody tr th {\n",
       "        vertical-align: top;\n",
       "    }\n",
       "\n",
       "    .dataframe thead th {\n",
       "        text-align: right;\n",
       "    }\n",
       "</style>\n",
       "<table border=\"1\" class=\"dataframe\">\n",
       "  <thead>\n",
       "    <tr style=\"text-align: right;\">\n",
       "      <th></th>\n",
       "      <th>lang</th>\n",
       "      <th>id</th>\n",
       "      <th>possibly_sensitive</th>\n",
       "      <th>author_id</th>\n",
       "      <th>text</th>\n",
       "      <th>referenced_tweets</th>\n",
       "      <th>created_at</th>\n",
       "      <th>source</th>\n",
       "      <th>entities</th>\n",
       "      <th>in_reply_to_user_id</th>\n",
       "      <th>reply_settings</th>\n",
       "      <th>conversation_id</th>\n",
       "      <th>public_metrics</th>\n",
       "      <th>author</th>\n",
       "      <th>in_reply_to_user</th>\n",
       "      <th>__twarc</th>\n",
       "    </tr>\n",
       "  </thead>\n",
       "  <tbody>\n",
       "    <tr>\n",
       "      <th>0</th>\n",
       "      <td>und</td>\n",
       "      <td>1477065589361315840</td>\n",
       "      <td>False</td>\n",
       "      <td>1460383957262880768</td>\n",
       "      <td>@tjbabel @Catherine_LCP @SamBoik @Cernovich ht...</td>\n",
       "      <td>[{'type': 'replied_to', 'id': '147706468563978...</td>\n",
       "      <td>2021-12-31 23:54:13+00:00</td>\n",
       "      <td>Twitter for iPhone</td>\n",
       "      <td>{'urls': [{'start': 44, 'end': 67, 'url': 'htt...</td>\n",
       "      <td>1733391854</td>\n",
       "      <td>everyone</td>\n",
       "      <td>1476711967607853056</td>\n",
       "      <td>{'retweet_count': 0, 'reply_count': 0, 'like_c...</td>\n",
       "      <td>{'verified': False, 'created_at': '2021-11-15T...</td>\n",
       "      <td>{'verified': False, 'created_at': '2013-09-05T...</td>\n",
       "      <td>{'url': 'https://api.twitter.com/2/tweets/sear...</td>\n",
       "    </tr>\n",
       "  </tbody>\n",
       "</table>\n",
       "</div>"
      ],
      "text/plain": [
       "  lang                   id  possibly_sensitive            author_id  \\\n",
       "0  und  1477065589361315840               False  1460383957262880768   \n",
       "\n",
       "                                                text  \\\n",
       "0  @tjbabel @Catherine_LCP @SamBoik @Cernovich ht...   \n",
       "\n",
       "                                   referenced_tweets  \\\n",
       "0  [{'type': 'replied_to', 'id': '147706468563978...   \n",
       "\n",
       "                 created_at              source  \\\n",
       "0 2021-12-31 23:54:13+00:00  Twitter for iPhone   \n",
       "\n",
       "                                            entities  in_reply_to_user_id  \\\n",
       "0  {'urls': [{'start': 44, 'end': 67, 'url': 'htt...           1733391854   \n",
       "\n",
       "  reply_settings      conversation_id  \\\n",
       "0       everyone  1476711967607853056   \n",
       "\n",
       "                                      public_metrics  \\\n",
       "0  {'retweet_count': 0, 'reply_count': 0, 'like_c...   \n",
       "\n",
       "                                              author  \\\n",
       "0  {'verified': False, 'created_at': '2021-11-15T...   \n",
       "\n",
       "                                    in_reply_to_user  \\\n",
       "0  {'verified': False, 'created_at': '2013-09-05T...   \n",
       "\n",
       "                                             __twarc  \n",
       "0  {'url': 'https://api.twitter.com/2/tweets/sear...  "
      ]
     },
     "execution_count": 5,
     "metadata": {},
     "output_type": "execute_result"
    }
   ],
   "source": [
    "df_0_json"
   ]
  },
  {
   "cell_type": "markdown",
   "id": "2c5aa15e-14fe-4d05-9462-3e5b84aed595",
   "metadata": {
    "jp-MarkdownHeadingCollapsed": true,
    "tags": []
   },
   "source": [
    "### Create a dataframe by every columns"
   ]
  },
  {
   "cell_type": "code",
   "execution_count": 6,
   "id": "1d9ce5af-9975-4db1-bf43-64d4a2f34184",
   "metadata": {},
   "outputs": [],
   "source": [
    "#load all the JSON objects in one list as dictionaries\n",
    "data = []\n",
    "with open(filepath,'r') as f:\n",
    "    for line in f:\n",
    "        data.append(json.loads(line))"
   ]
  },
  {
   "cell_type": "code",
   "execution_count": 7,
   "id": "7ffb3d4f-05dc-421e-865a-f671418b3e15",
   "metadata": {},
   "outputs": [
    {
     "data": {
      "text/plain": [
       "'\\'We are in a climate emergency\\'December wildfires ravage Colorado https://t.co/sWDkZM4Rvn Sen. Manchin, your Exxon highway bill isn\\'t going 2save our homes or our lives,\" \"Your greed &amp; corruption is not only torching our future It\\'s burning our communities and destroying lives!'"
      ]
     },
     "execution_count": 7,
     "metadata": {},
     "output_type": "execute_result"
    }
   ],
   "source": [
    "data[9]['text']"
   ]
  },
  {
   "cell_type": "code",
   "execution_count": null,
   "id": "5ad5915a-4c51-48bd-8bb0-3d34265251f1",
   "metadata": {},
   "outputs": [],
   "source": []
  },
  {
   "cell_type": "code",
   "execution_count": null,
   "id": "461a236c-c225-47da-8eeb-99d6b224e268",
   "metadata": {},
   "outputs": [],
   "source": []
  },
  {
   "cell_type": "code",
   "execution_count": 8,
   "id": "047709f8-ac5a-4db6-8faa-aad6ecb46d71",
   "metadata": {},
   "outputs": [
    {
     "data": {
      "text/plain": [
       "'@ScottGrimnes @MaMan564 @SoFarFletched ‘We’ started calling it ‘climate change’ when Exxon Mobile did a very successful PR campaign in the 90’s. Apparently ‘global warming’ is too specific and scary. But It’s global warming. https://t.co/WPetiWDQG3'"
      ]
     },
     "execution_count": 8,
     "metadata": {},
     "output_type": "execute_result"
    }
   ],
   "source": [
    "data[4]['referenced_tweets'][0]['text']"
   ]
  },
  {
   "cell_type": "markdown",
   "id": "461a17e1-b7bd-41f8-852d-3260c48784ee",
   "metadata": {},
   "source": [
    " #### Put the text data in one list"
   ]
  },
  {
   "cell_type": "code",
   "execution_count": 9,
   "id": "b7edffb1-c0bd-44d0-bdb6-93bb3318a2fb",
   "metadata": {},
   "outputs": [],
   "source": [
    "#retrive text and avoid truncated text when retweet without quoting\n",
    "lst_text = []\n",
    "for i in data:    \n",
    "    if 'referenced_tweets' in i:\n",
    "        if i['referenced_tweets'][0]['type'] == 'retweeted':\n",
    "            lst_text.append(i['referenced_tweets'][0]['text'])\n",
    "        else:\n",
    "            lst_text.append(i['text'])\n",
    "    else:\n",
    "        lst_text.append(i['text'])"
   ]
  },
  {
   "cell_type": "code",
   "execution_count": 10,
   "id": "6d5fe5f6-509e-421f-96d0-1a1dd3ad327c",
   "metadata": {},
   "outputs": [
    {
     "data": {
      "text/plain": [
       "['@tjbabel @Catherine_LCP @SamBoik @Cernovich https://t.co/a5p9XOE7b9',\n",
       " '@tjbabel @Catherine_LCP @SamBoik @Cernovich https://t.co/BRBvadbSVr']"
      ]
     },
     "execution_count": 10,
     "metadata": {},
     "output_type": "execute_result"
    }
   ],
   "source": [
    "lst_text[:2]"
   ]
  },
  {
   "cell_type": "markdown",
   "id": "8768c389-a75e-45af-be8b-cf8940199c75",
   "metadata": {},
   "source": [
    " #### Put the author info in list"
   ]
  },
  {
   "cell_type": "code",
   "execution_count": 11,
   "id": "f3ad13fe-db12-4fe4-a859-87dd1586bebe",
   "metadata": {},
   "outputs": [
    {
     "data": {
      "text/plain": [
       "dict_keys(['lang', 'id', 'possibly_sensitive', 'author_id', 'text', 'referenced_tweets', 'created_at', 'source', 'entities', 'in_reply_to_user_id', 'reply_settings', 'conversation_id', 'public_metrics', 'author', 'in_reply_to_user', '__twarc'])"
      ]
     },
     "execution_count": 11,
     "metadata": {},
     "output_type": "execute_result"
    }
   ],
   "source": [
    "data[0].keys()"
   ]
  },
  {
   "cell_type": "markdown",
   "id": "70882ac5-c59d-4020-b77f-dae8dc32b489",
   "metadata": {},
   "source": [
    " ##### 'id', 'author_id', 'conversation_id', 'author'"
   ]
  },
  {
   "cell_type": "code",
   "execution_count": 12,
   "id": "98da3718-a811-41dc-b879-4b862fd2cc95",
   "metadata": {},
   "outputs": [],
   "source": [
    "#create lists for id, author id and conversation\n",
    "lst_id = []\n",
    "lst_lang = []\n",
    "lst_author_id = []\n",
    "lst_conversation_id = []\n",
    "for i in data:\n",
    "    lst_id.append(i['id'])\n",
    "    lst_lang.append(i['lang'])\n",
    "    lst_author_id.append(i['author_id'])\n",
    "    lst_conversation_id.append(i['conversation_id'])"
   ]
  },
  {
   "cell_type": "markdown",
   "id": "c6a95d19-4d5a-49ca-9f34-d4fd0a8c2fda",
   "metadata": {},
   "source": [
    "There are too much info in author dictionary"
   ]
  },
  {
   "cell_type": "code",
   "execution_count": 81,
   "id": "5f03dbf4-4956-44a2-911a-361deabe3cb7",
   "metadata": {},
   "outputs": [
    {
     "data": {
      "text/plain": [
       "{'lang': 'und',\n",
       " 'id': '1477065589361315842',\n",
       " 'possibly_sensitive': False,\n",
       " 'author_id': '1460383957262880776',\n",
       " 'text': '@tjbabel @Catherine_LCP @SamBoik @Cernovich https://t.co/a5p9XOE7b9',\n",
       " 'referenced_tweets': [{'type': 'replied_to',\n",
       "   'id': '1477064685639782404',\n",
       "   'lang': 'en',\n",
       "   'possibly_sensitive': False,\n",
       "   'author_id': '1733391854',\n",
       "   'text': '@owen_lavine @Catherine_LCP @SamBoik @Cernovich Ever heard of the carbon cycle? Google it.',\n",
       "   'entities': {'annotations': [{'start': 80,\n",
       "      'end': 85,\n",
       "      'probability': 0.4095,\n",
       "      'type': 'Organization',\n",
       "      'normalized_text': 'Google'}],\n",
       "    'mentions': [{'start': 0,\n",
       "      'end': 12,\n",
       "      'username': 'owen_lavine',\n",
       "      'id': '1460383957262880776',\n",
       "      'verified': False,\n",
       "      'created_at': '2021-11-15T23:07:29.000Z',\n",
       "      'public_metrics': {'followers_count': 12,\n",
       "       'following_count': 245,\n",
       "       'tweet_count': 963,\n",
       "       'listed_count': 0},\n",
       "      'name': 'Owen Lavine',\n",
       "      'description': 'Journalist - Cal Poly SLO ‘24 - LA',\n",
       "      'protected': False,\n",
       "      'url': '',\n",
       "      'profile_image_url': 'https://pbs.twimg.com/profile_images/1460384644122099713/ToEk8Ndb_normal.jpg',\n",
       "      'pinned_tweet_id': '1482061096068341760'},\n",
       "     {'start': 13,\n",
       "      'end': 27,\n",
       "      'username': 'Catherine_LCP',\n",
       "      'id': '825445747',\n",
       "      'verified': False,\n",
       "      'created_at': '2012-09-15T15:18:21.000Z',\n",
       "      'location': 'U.S.',\n",
       "      'public_metrics': {'followers_count': 2186,\n",
       "       'following_count': 1882,\n",
       "       'tweet_count': 129708,\n",
       "       'listed_count': 50},\n",
       "      'name': 'Kate 🇮🇪🇬🇧🇮🇹🇪🇸🇫🇷🌲',\n",
       "      'description': 'Europa',\n",
       "      'protected': False,\n",
       "      'url': '',\n",
       "      'profile_image_url': 'https://pbs.twimg.com/profile_images/2618197959/rsa2briy8k244prjsjh2_normal.jpeg',\n",
       "      'pinned_tweet_id': '1474267145596985347'},\n",
       "     {'start': 28,\n",
       "      'end': 36,\n",
       "      'username': 'SamBoik',\n",
       "      'id': '347900663',\n",
       "      'verified': True,\n",
       "      'created_at': '2011-08-03T15:07:55.000Z',\n",
       "      'location': 'Denver, CO',\n",
       "      'public_metrics': {'followers_count': 7568,\n",
       "       'following_count': 693,\n",
       "       'tweet_count': 45370,\n",
       "       'listed_count': 102},\n",
       "      'name': 'Sam Boik',\n",
       "      'description': '💛🏠 PIVOT Lending Group - Boulder 🏈 In-game Host Denver Broncos 🧡💙 Former NFL Cheer 📺 Former TV news anchor 🩰 Former ballerina 🐶🐶 Dog mama',\n",
       "      'protected': False,\n",
       "      'url': '',\n",
       "      'profile_image_url': 'https://pbs.twimg.com/profile_images/1496579962060554240/OxYCYuKG_normal.jpg'},\n",
       "     {'start': 37,\n",
       "      'end': 47,\n",
       "      'username': 'Cernovich',\n",
       "      'id': '358545917',\n",
       "      'verified': True,\n",
       "      'created_at': '2011-08-20T03:02:29.000Z',\n",
       "      'location': 'Orange County, California',\n",
       "      'public_metrics': {'followers_count': 856845,\n",
       "       'following_count': 3213,\n",
       "       'tweet_count': 173927,\n",
       "       'listed_count': 5509},\n",
       "      'name': 'Cernovich',\n",
       "      'description': '“So what you’re saying is…”  No. Stop right there.   What I wrote is what I was “saying.”   The rest is you being drunk, or thinking you can read my mind.',\n",
       "      'protected': False,\n",
       "      'entities': {'url': {'urls': [{'start': 0,\n",
       "          'end': 23,\n",
       "          'url': 'https://t.co/eoO81wTCcf',\n",
       "          'expanded_url': 'http://Rokfin.com/Cernovich',\n",
       "          'display_url': 'Rokfin.com/Cernovich'}]}},\n",
       "      'url': 'https://t.co/eoO81wTCcf',\n",
       "      'profile_image_url': 'https://pbs.twimg.com/profile_images/1505784612466790400/axCC6S4v_normal.jpg',\n",
       "      'pinned_tweet_id': '1506332763003109376'}]},\n",
       "   'referenced_tweets': [{'type': 'replied_to', 'id': '1477006061253107714'}],\n",
       "   'created_at': '2021-12-31T23:50:38.000Z',\n",
       "   'source': 'Twitter for Android',\n",
       "   'in_reply_to_user_id': '1460383957262880776',\n",
       "   'reply_settings': 'everyone',\n",
       "   'conversation_id': '1476711967607853064',\n",
       "   'context_annotations': [{'domain': {'id': '46',\n",
       "      'name': 'Brand Category',\n",
       "      'description': 'Categories within Brand Verticals that narrow down the scope of Brands'},\n",
       "     'entity': {'id': '781974596752842752', 'name': 'Services'}},\n",
       "    {'domain': {'id': '47',\n",
       "      'name': 'Brand',\n",
       "      'description': 'Brands and Companies'},\n",
       "     'entity': {'id': '10026378521', 'name': 'Google '}},\n",
       "    {'domain': {'id': '48',\n",
       "      'name': 'Product',\n",
       "      'description': 'Products created by Brands.  Examples: Ford Explorer, Apple iPhone.'},\n",
       "     'entity': {'id': '1395474411180892160',\n",
       "      'name': 'Google brand conversation'}}],\n",
       "   'public_metrics': {'retweet_count': 0,\n",
       "    'reply_count': 4,\n",
       "    'like_count': 0,\n",
       "    'quote_count': 0},\n",
       "   'author': {'verified': False,\n",
       "    'created_at': '2013-09-05T23:29:42.000Z',\n",
       "    'public_metrics': {'followers_count': 962,\n",
       "     'following_count': 2446,\n",
       "     'tweet_count': 13001,\n",
       "     'listed_count': 3},\n",
       "    'name': 'KJB',\n",
       "    'description': '⚠️ Mean tweets, keep off.\\n💯 BS intolerant.\\n⚫ Black alpha-male.',\n",
       "    'protected': False,\n",
       "    'username': 'tjbabel',\n",
       "    'url': '',\n",
       "    'profile_image_url': 'https://pbs.twimg.com/profile_images/1432232252172345346/02pzg9gO_normal.jpg',\n",
       "    'id': '1733391854',\n",
       "    'pinned_tweet_id': '1431747058206085120'},\n",
       "   'in_reply_to_user': {'verified': False,\n",
       "    'created_at': '2021-11-15T23:07:29.000Z',\n",
       "    'public_metrics': {'followers_count': 12,\n",
       "     'following_count': 245,\n",
       "     'tweet_count': 963,\n",
       "     'listed_count': 0},\n",
       "    'name': 'Owen Lavine',\n",
       "    'description': 'Journalist - Cal Poly SLO ‘24 - LA',\n",
       "    'protected': False,\n",
       "    'username': 'owen_lavine',\n",
       "    'url': '',\n",
       "    'profile_image_url': 'https://pbs.twimg.com/profile_images/1460384644122099713/ToEk8Ndb_normal.jpg',\n",
       "    'id': '1460383957262880776',\n",
       "    'pinned_tweet_id': '1482061096068341760'}}],\n",
       " 'created_at': '2021-12-31T23:54:13.000Z',\n",
       " 'source': 'Twitter for iPhone',\n",
       " 'entities': {'urls': [{'start': 44,\n",
       "    'end': 67,\n",
       "    'url': 'https://t.co/a5p9XOE7b9',\n",
       "    'expanded_url': 'https://unearthed.greenpeace.org/2021/06/30/exxon-climate-change-undercover/',\n",
       "    'display_url': 'unearthed.greenpeace.org/2021/06/30/exx…'}],\n",
       "  'mentions': [{'start': 0,\n",
       "    'end': 8,\n",
       "    'username': 'tjbabel',\n",
       "    'id': '1733391854',\n",
       "    'verified': False,\n",
       "    'created_at': '2013-09-05T23:29:42.000Z',\n",
       "    'public_metrics': {'followers_count': 962,\n",
       "     'following_count': 2446,\n",
       "     'tweet_count': 13001,\n",
       "     'listed_count': 3},\n",
       "    'name': 'KJB',\n",
       "    'description': '⚠️ Mean tweets, keep off.\\n💯 BS intolerant.\\n⚫ Black alpha-male.',\n",
       "    'protected': False,\n",
       "    'url': '',\n",
       "    'profile_image_url': 'https://pbs.twimg.com/profile_images/1432232252172345346/02pzg9gO_normal.jpg',\n",
       "    'pinned_tweet_id': '1431747058206085120'},\n",
       "   {'start': 9,\n",
       "    'end': 23,\n",
       "    'username': 'Catherine_LCP',\n",
       "    'id': '825445747',\n",
       "    'verified': False,\n",
       "    'created_at': '2012-09-15T15:18:21.000Z',\n",
       "    'location': 'U.S.',\n",
       "    'public_metrics': {'followers_count': 2186,\n",
       "     'following_count': 1882,\n",
       "     'tweet_count': 129708,\n",
       "     'listed_count': 50},\n",
       "    'name': 'Kate 🇮🇪🇬🇧🇮🇹🇪🇸🇫🇷🌲',\n",
       "    'description': 'Europa',\n",
       "    'protected': False,\n",
       "    'url': '',\n",
       "    'profile_image_url': 'https://pbs.twimg.com/profile_images/2618197959/rsa2briy8k244prjsjh2_normal.jpeg',\n",
       "    'pinned_tweet_id': '1474267145596985347'},\n",
       "   {'start': 24,\n",
       "    'end': 32,\n",
       "    'username': 'SamBoik',\n",
       "    'id': '347900663',\n",
       "    'verified': True,\n",
       "    'created_at': '2011-08-03T15:07:55.000Z',\n",
       "    'location': 'Denver, CO',\n",
       "    'public_metrics': {'followers_count': 7568,\n",
       "     'following_count': 693,\n",
       "     'tweet_count': 45370,\n",
       "     'listed_count': 102},\n",
       "    'name': 'Sam Boik',\n",
       "    'description': '💛🏠 PIVOT Lending Group - Boulder 🏈 In-game Host Denver Broncos 🧡💙 Former NFL Cheer 📺 Former TV news anchor 🩰 Former ballerina 🐶🐶 Dog mama',\n",
       "    'protected': False,\n",
       "    'url': '',\n",
       "    'profile_image_url': 'https://pbs.twimg.com/profile_images/1496579962060554240/OxYCYuKG_normal.jpg'},\n",
       "   {'start': 33,\n",
       "    'end': 43,\n",
       "    'username': 'Cernovich',\n",
       "    'id': '358545917',\n",
       "    'verified': True,\n",
       "    'created_at': '2011-08-20T03:02:29.000Z',\n",
       "    'location': 'Orange County, California',\n",
       "    'public_metrics': {'followers_count': 856845,\n",
       "     'following_count': 3213,\n",
       "     'tweet_count': 173927,\n",
       "     'listed_count': 5509},\n",
       "    'name': 'Cernovich',\n",
       "    'description': '“So what you’re saying is…”  No. Stop right there.   What I wrote is what I was “saying.”   The rest is you being drunk, or thinking you can read my mind.',\n",
       "    'protected': False,\n",
       "    'entities': {'url': {'urls': [{'start': 0,\n",
       "        'end': 23,\n",
       "        'url': 'https://t.co/eoO81wTCcf',\n",
       "        'expanded_url': 'http://Rokfin.com/Cernovich',\n",
       "        'display_url': 'Rokfin.com/Cernovich'}]}},\n",
       "    'url': 'https://t.co/eoO81wTCcf',\n",
       "    'profile_image_url': 'https://pbs.twimg.com/profile_images/1505784612466790400/axCC6S4v_normal.jpg',\n",
       "    'pinned_tweet_id': '1506332763003109376'}]},\n",
       " 'in_reply_to_user_id': '1733391854',\n",
       " 'reply_settings': 'everyone',\n",
       " 'conversation_id': '1476711967607853064',\n",
       " 'public_metrics': {'retweet_count': 0,\n",
       "  'reply_count': 0,\n",
       "  'like_count': 0,\n",
       "  'quote_count': 0},\n",
       " 'author': {'verified': False,\n",
       "  'created_at': '2021-11-15T23:07:29.000Z',\n",
       "  'public_metrics': {'followers_count': 12,\n",
       "   'following_count': 245,\n",
       "   'tweet_count': 963,\n",
       "   'listed_count': 0},\n",
       "  'name': 'Owen Lavine',\n",
       "  'description': 'Journalist - Cal Poly SLO ‘24 - LA',\n",
       "  'protected': False,\n",
       "  'username': 'owen_lavine',\n",
       "  'url': '',\n",
       "  'profile_image_url': 'https://pbs.twimg.com/profile_images/1460384644122099713/ToEk8Ndb_normal.jpg',\n",
       "  'id': '1460383957262880776',\n",
       "  'pinned_tweet_id': '1482061096068341760'},\n",
       " 'in_reply_to_user': {'verified': False,\n",
       "  'created_at': '2013-09-05T23:29:42.000Z',\n",
       "  'public_metrics': {'followers_count': 962,\n",
       "   'following_count': 2446,\n",
       "   'tweet_count': 13001,\n",
       "   'listed_count': 3},\n",
       "  'name': 'KJB',\n",
       "  'description': '⚠️ Mean tweets, keep off.\\n💯 BS intolerant.\\n⚫ Black alpha-male.',\n",
       "  'protected': False,\n",
       "  'username': 'tjbabel',\n",
       "  'url': '',\n",
       "  'profile_image_url': 'https://pbs.twimg.com/profile_images/1432232252172345346/02pzg9gO_normal.jpg',\n",
       "  'id': '1733391854',\n",
       "  'pinned_tweet_id': '1431747058206085120'},\n",
       " '__twarc': {'url': 'https://api.twitter.com/2/tweets/search/all?expansions=author_id%2Cin_reply_to_user_id%2Creferenced_tweets.id%2Creferenced_tweets.id.author_id%2Centities.mentions.username%2Cattachments.poll_ids%2Cattachments.media_keys%2Cgeo.place_id&tweet.fields=attachments%2Cauthor_id%2Ccontext_annotations%2Cconversation_id%2Ccreated_at%2Centities%2Cgeo%2Cid%2Cin_reply_to_user_id%2Clang%2Cpublic_metrics%2Ctext%2Cpossibly_sensitive%2Creferenced_tweets%2Creply_settings%2Csource%2Cwithheld&user.fields=created_at%2Cdescription%2Centities%2Cid%2Clocation%2Cname%2Cpinned_tweet_id%2Cprofile_image_url%2Cprotected%2Cpublic_metrics%2Curl%2Cusername%2Cverified%2Cwithheld&media.fields=alt_text%2Cduration_ms%2Cheight%2Cmedia_key%2Cpreview_image_url%2Ctype%2Curl%2Cwidth%2Cpublic_metrics&poll.fields=duration_minutes%2Cend_datetime%2Cid%2Coptions%2Cvoting_status&place.fields=contained_within%2Ccountry%2Ccountry_code%2Cfull_name%2Cgeo%2Cid%2Cname%2Cplace_type&start_time=2021-01-01T00%3A00%3A00%2B00%3A00&end_time=2022-01-01T00%3A00%3A00%2B00%3A00&query=exxon+climate&max_results=100',\n",
       "  'version': '2.9.5',\n",
       "  'retrieved_at': '2022-03-27T13:14:12+00:00'}}"
      ]
     },
     "execution_count": 81,
     "metadata": {},
     "output_type": "execute_result"
    }
   ],
   "source": [
    "data[0]"
   ]
  },
  {
   "cell_type": "code",
   "execution_count": 14,
   "id": "d8402d33-10ed-4271-a81e-c53ead6b3117",
   "metadata": {},
   "outputs": [],
   "source": [
    "#lst verified or not, author name and author username\n",
    "lst_author_verified = []\n",
    "lst_author_name = []\n",
    "lst_author_username = []\n",
    "for i in data:\n",
    "    lst_author_verified.append(i['author']['verified'])\n",
    "    lst_author_name.append(i['author']['name'])\n",
    "    lst_author_username.append(i['author']['username'])"
   ]
  },
  {
   "cell_type": "markdown",
   "id": "26dc9a84-57a0-4a0c-b312-945a46893063",
   "metadata": {},
   "source": [
    " ##### Make creation time"
   ]
  },
  {
   "cell_type": "code",
   "execution_count": 15,
   "id": "abaac408-58a0-4fab-a4e7-1e1cd6713fe9",
   "metadata": {},
   "outputs": [],
   "source": [
    "#list creation time\n",
    "lst_twt_creation_time = []\n",
    "for i in data:\n",
    "    lst_twt_creation_time.append(i['created_at'])"
   ]
  },
  {
   "cell_type": "markdown",
   "id": "78a61f6d-633b-4c1d-a9ea-0599dfeb3afd",
   "metadata": {},
   "source": [
    "##### Put what we have in one dataframe"
   ]
  },
  {
   "cell_type": "markdown",
   "id": "c27356dd-560c-4c38-833e-1ee09bc44f64",
   "metadata": {},
   "source": [
    "lst_text,lst_id, lst_author_id,lst_conversation_id,lst_author_verified, lst_author_name, lst_author_username,lst_twt_creation_time"
   ]
  },
  {
   "cell_type": "code",
   "execution_count": 16,
   "id": "3b0e8f52-6dfe-4a2b-bbb4-c5ec3fefb98a",
   "metadata": {},
   "outputs": [],
   "source": [
    "tweets = pd.DataFrame({'text': lst_text,\n",
    "                  'language': lst_lang,\n",
    "                  'id': lst_id,\n",
    "                  'author_id': lst_author_id,\n",
    "                  'conversation_id': lst_conversation_id,\n",
    "                  'author_verified': lst_author_verified,\n",
    "                  'author_name': lst_author_name,\n",
    "                  'author_username': lst_author_username,\n",
    "                  'twt_creation_time': lst_twt_creation_time\n",
    "                  })"
   ]
  },
  {
   "cell_type": "code",
   "execution_count": 88,
   "id": "188315ed-e472-403c-9860-0cd9bebccca0",
   "metadata": {},
   "outputs": [],
   "source": [
    "pd.set_option(\"display.max_colwidth\", 10000)"
   ]
  },
  {
   "cell_type": "code",
   "execution_count": 18,
   "id": "5e7c9a2a-cb70-427a-900a-44f7c76611c0",
   "metadata": {},
   "outputs": [],
   "source": [
    "tweets.drop(tweets[tweets['language'] != 'en'].index, inplace = True)"
   ]
  },
  {
   "cell_type": "code",
   "execution_count": 89,
   "id": "dbe06b4c-50a9-47c3-a3bc-b9802eaa7822",
   "metadata": {},
   "outputs": [
    {
     "data": {
      "text/html": [
       "<div>\n",
       "<style scoped>\n",
       "    .dataframe tbody tr th:only-of-type {\n",
       "        vertical-align: middle;\n",
       "    }\n",
       "\n",
       "    .dataframe tbody tr th {\n",
       "        vertical-align: top;\n",
       "    }\n",
       "\n",
       "    .dataframe thead th {\n",
       "        text-align: right;\n",
       "    }\n",
       "</style>\n",
       "<table border=\"1\" class=\"dataframe\">\n",
       "  <thead>\n",
       "    <tr style=\"text-align: right;\">\n",
       "      <th></th>\n",
       "      <th>text</th>\n",
       "      <th>language</th>\n",
       "      <th>id</th>\n",
       "      <th>author_id</th>\n",
       "      <th>conversation_id</th>\n",
       "      <th>author_verified</th>\n",
       "      <th>author_name</th>\n",
       "      <th>author_username</th>\n",
       "      <th>twt_creation_time</th>\n",
       "      <th>hashtag</th>\n",
       "      <th>ctext</th>\n",
       "    </tr>\n",
       "  </thead>\n",
       "  <tbody>\n",
       "    <tr>\n",
       "      <th>2</th>\n",
       "      <td>I'm thinking about writing a satire where the U.S. Congress is blocked from taking action on the climate by a Senator who owns a coal company, lives on a yacht and speaks daily with Exxon lobbyists -- but I'm worried people will think it's too on the nose. 😔</td>\n",
       "      <td>en</td>\n",
       "      <td>1477059914015125507</td>\n",
       "      <td>2732778706</td>\n",
       "      <td>1477059914015125507</td>\n",
       "      <td>False</td>\n",
       "      <td>Tai Chi</td>\n",
       "      <td>TaiWendysb</td>\n",
       "      <td>2021-12-31T23:31:40.000Z</td>\n",
       "      <td>[]</td>\n",
       "      <td>I'm thinking about writing a satire where the U.S. Congress is blocked from taking action on the climate by a Senator who owns a coal company, lives on a yacht and speaks daily with Exxon lobbyists -- but I'm worried people will think it's too on the nose.</td>\n",
       "    </tr>\n",
       "    <tr>\n",
       "      <th>3</th>\n",
       "      <td>@Mum2Mrs @oshima9 no, capitalists are the cause.\\nhttps://t.co/VyFfKhY2Yp</td>\n",
       "      <td>en</td>\n",
       "      <td>1477056800889323523</td>\n",
       "      <td>414239235</td>\n",
       "      <td>1477056800889323523</td>\n",
       "      <td>False</td>\n",
       "      <td>Richard Estes</td>\n",
       "      <td>oshima9</td>\n",
       "      <td>2021-12-31T23:19:18.000Z</td>\n",
       "      <td>[]</td>\n",
       "      <td>no, capitalists are the cause.</td>\n",
       "    </tr>\n",
       "    <tr>\n",
       "      <th>4</th>\n",
       "      <td>@ScottGrimnes @MaMan564 @SoFarFletched ‘We’ started calling it ‘climate change’ when Exxon Mobile did a very successful PR campaign in the 90’s. Apparently ‘global warming’ is too specific and scary. But It’s global warming. https://t.co/WPetiWDQG3</td>\n",
       "      <td>en</td>\n",
       "      <td>1477046502400868359</td>\n",
       "      <td>824946672673361920</td>\n",
       "      <td>1477046502400868359</td>\n",
       "      <td>False</td>\n",
       "      <td>Kris</td>\n",
       "      <td>writing_callous</td>\n",
       "      <td>2021-12-31T22:38:23.000Z</td>\n",
       "      <td>[]</td>\n",
       "      <td>We started calling it climate change when Exxon Mobile did a very successful PR campaign in the s. Apparently global warming is too specific and scary. But Its global warming.</td>\n",
       "    </tr>\n",
       "    <tr>\n",
       "      <th>5</th>\n",
       "      <td>I'm thinking about writing a satire where the U.S. Congress is blocked from taking action on the climate by a Senator who owns a coal company, lives on a yacht and speaks daily with Exxon lobbyists -- but I'm worried people will think it's too on the nose. 😔</td>\n",
       "      <td>en</td>\n",
       "      <td>1477040827503362057</td>\n",
       "      <td>2429328178</td>\n",
       "      <td>1477040827503362057</td>\n",
       "      <td>False</td>\n",
       "      <td>David💙l🇪🇺#FindMissyandBiscuit</td>\n",
       "      <td>David96212152</td>\n",
       "      <td>2021-12-31T22:15:50.000Z</td>\n",
       "      <td>[]</td>\n",
       "      <td>I'm thinking about writing a satire where the U.S. Congress is blocked from taking action on the climate by a Senator who owns a coal company, lives on a yacht and speaks daily with Exxon lobbyists -- but I'm worried people will think it's too on the nose.</td>\n",
       "    </tr>\n",
       "    <tr>\n",
       "      <th>6</th>\n",
       "      <td>@Mum2Mrs @oshima9 no, capitalists are the cause.\\nhttps://t.co/VyFfKhY2Yp</td>\n",
       "      <td>en</td>\n",
       "      <td>1477035647462363141</td>\n",
       "      <td>795750344970141701</td>\n",
       "      <td>1476641658636693513</td>\n",
       "      <td>False</td>\n",
       "      <td>☭🇵🇸🇾🇪🇸🇾</td>\n",
       "      <td>zia_kat</td>\n",
       "      <td>2021-12-31T21:55:15.000Z</td>\n",
       "      <td>[]</td>\n",
       "      <td>no, capitalists are the cause.</td>\n",
       "    </tr>\n",
       "  </tbody>\n",
       "</table>\n",
       "</div>"
      ],
      "text/plain": [
       "                                                                                                                                                                                                                                                                 text  \\\n",
       "2  I'm thinking about writing a satire where the U.S. Congress is blocked from taking action on the climate by a Senator who owns a coal company, lives on a yacht and speaks daily with Exxon lobbyists -- but I'm worried people will think it's too on the nose. 😔   \n",
       "3                                                                                                                                                                                           @Mum2Mrs @oshima9 no, capitalists are the cause.\\nhttps://t.co/VyFfKhY2Yp   \n",
       "4            @ScottGrimnes @MaMan564 @SoFarFletched ‘We’ started calling it ‘climate change’ when Exxon Mobile did a very successful PR campaign in the 90’s. Apparently ‘global warming’ is too specific and scary. But It’s global warming. https://t.co/WPetiWDQG3   \n",
       "5  I'm thinking about writing a satire where the U.S. Congress is blocked from taking action on the climate by a Senator who owns a coal company, lives on a yacht and speaks daily with Exxon lobbyists -- but I'm worried people will think it's too on the nose. 😔   \n",
       "6                                                                                                                                                                                           @Mum2Mrs @oshima9 no, capitalists are the cause.\\nhttps://t.co/VyFfKhY2Yp   \n",
       "\n",
       "  language                   id           author_id      conversation_id  \\\n",
       "2       en  1477059914015125507          2732778706  1477059914015125507   \n",
       "3       en  1477056800889323523           414239235  1477056800889323523   \n",
       "4       en  1477046502400868359  824946672673361920  1477046502400868359   \n",
       "5       en  1477040827503362057          2429328178  1477040827503362057   \n",
       "6       en  1477035647462363141  795750344970141701  1476641658636693513   \n",
       "\n",
       "   author_verified                    author_name  author_username  \\\n",
       "2            False                        Tai Chi       TaiWendysb   \n",
       "3            False                  Richard Estes          oshima9   \n",
       "4            False                           Kris  writing_callous   \n",
       "5            False  David💙l🇪🇺#FindMissyandBiscuit    David96212152   \n",
       "6            False                        ☭🇵🇸🇾🇪🇸🇾          zia_kat   \n",
       "\n",
       "          twt_creation_time hashtag  \\\n",
       "2  2021-12-31T23:31:40.000Z      []   \n",
       "3  2021-12-31T23:19:18.000Z      []   \n",
       "4  2021-12-31T22:38:23.000Z      []   \n",
       "5  2021-12-31T22:15:50.000Z      []   \n",
       "6  2021-12-31T21:55:15.000Z      []   \n",
       "\n",
       "                                                                                                                                                                                                                                                              ctext  \n",
       "2  I'm thinking about writing a satire where the U.S. Congress is blocked from taking action on the climate by a Senator who owns a coal company, lives on a yacht and speaks daily with Exxon lobbyists -- but I'm worried people will think it's too on the nose.  \n",
       "3                                                                                                                                                                                                                                    no, capitalists are the cause.  \n",
       "4                                                                                   We started calling it climate change when Exxon Mobile did a very successful PR campaign in the s. Apparently global warming is too specific and scary. But Its global warming.  \n",
       "5  I'm thinking about writing a satire where the U.S. Congress is blocked from taking action on the climate by a Senator who owns a coal company, lives on a yacht and speaks daily with Exxon lobbyists -- but I'm worried people will think it's too on the nose.  \n",
       "6                                                                                                                                                                                                                                    no, capitalists are the cause.  "
      ]
     },
     "execution_count": 89,
     "metadata": {},
     "output_type": "execute_result"
    }
   ],
   "source": [
    "tweets.head()"
   ]
  },
  {
   "cell_type": "markdown",
   "id": "87f8239d-0094-46e7-ab51-c559cb9963fa",
   "metadata": {
    "jp-MarkdownHeadingCollapsed": true,
    "tags": []
   },
   "source": [
    "### data preprocessing"
   ]
  },
  {
   "cell_type": "code",
   "execution_count": 20,
   "id": "7ae12cec-2bd4-43dc-bdd8-e442a6907d5d",
   "metadata": {},
   "outputs": [],
   "source": [
    "tweets['hashtag'] = tweets['text'].apply(lambda x: re.findall(r\"#(\\w+)\", x))"
   ]
  },
  {
   "cell_type": "code",
   "execution_count": 21,
   "id": "8d4bb11c-5b98-452c-8ea9-e1f0f4e36ca9",
   "metadata": {},
   "outputs": [],
   "source": [
    "#forming a separate feature for cleaned tweets\n",
    "tweets['ctext'] = tweets['text'].apply(lambda x: p.clean(x))"
   ]
  },
  {
   "cell_type": "code",
   "execution_count": 22,
   "id": "9b9e878d-4990-4b58-85f2-2e42650a652f",
   "metadata": {},
   "outputs": [
    {
     "data": {
      "text/html": [
       "<div>\n",
       "<style scoped>\n",
       "    .dataframe tbody tr th:only-of-type {\n",
       "        vertical-align: middle;\n",
       "    }\n",
       "\n",
       "    .dataframe tbody tr th {\n",
       "        vertical-align: top;\n",
       "    }\n",
       "\n",
       "    .dataframe thead th {\n",
       "        text-align: right;\n",
       "    }\n",
       "</style>\n",
       "<table border=\"1\" class=\"dataframe\">\n",
       "  <thead>\n",
       "    <tr style=\"text-align: right;\">\n",
       "      <th></th>\n",
       "      <th>text</th>\n",
       "      <th>language</th>\n",
       "      <th>id</th>\n",
       "      <th>author_id</th>\n",
       "      <th>conversation_id</th>\n",
       "      <th>author_verified</th>\n",
       "      <th>author_name</th>\n",
       "      <th>author_username</th>\n",
       "      <th>twt_creation_time</th>\n",
       "      <th>hashtag</th>\n",
       "      <th>ctext</th>\n",
       "    </tr>\n",
       "  </thead>\n",
       "  <tbody>\n",
       "    <tr>\n",
       "      <th>2</th>\n",
       "      <td>I'm thinking about writing a satire where the U.S. Congress is blocked from taking action on the climate by a Senator who owns a coal company, lives on a yacht and speaks daily with Exxon lobbyists -- but I'm worried people will think it's too on the nose. 😔</td>\n",
       "      <td>en</td>\n",
       "      <td>1477059914015125507</td>\n",
       "      <td>2732778706</td>\n",
       "      <td>1477059914015125507</td>\n",
       "      <td>False</td>\n",
       "      <td>Tai Chi</td>\n",
       "      <td>TaiWendysb</td>\n",
       "      <td>2021-12-31T23:31:40.000Z</td>\n",
       "      <td>[]</td>\n",
       "      <td>I'm thinking about writing a satire where the U.S. Congress is blocked from taking action on the climate by a Senator who owns a coal company, lives on a yacht and speaks daily with Exxon lobbyists -- but I'm worried people will think it's too on the nose.</td>\n",
       "    </tr>\n",
       "    <tr>\n",
       "      <th>3</th>\n",
       "      <td>@Mum2Mrs @oshima9 no, capitalists are the cause.\\nhttps://t.co/VyFfKhY2Yp</td>\n",
       "      <td>en</td>\n",
       "      <td>1477056800889323523</td>\n",
       "      <td>414239235</td>\n",
       "      <td>1477056800889323523</td>\n",
       "      <td>False</td>\n",
       "      <td>Richard Estes</td>\n",
       "      <td>oshima9</td>\n",
       "      <td>2021-12-31T23:19:18.000Z</td>\n",
       "      <td>[]</td>\n",
       "      <td>no, capitalists are the cause.</td>\n",
       "    </tr>\n",
       "    <tr>\n",
       "      <th>4</th>\n",
       "      <td>@ScottGrimnes @MaMan564 @SoFarFletched ‘We’ started calling it ‘climate change’ when Exxon Mobile did a very successful PR campaign in the 90’s. Apparently ‘global warming’ is too specific and scary. But It’s global warming. https://t.co/WPetiWDQG3</td>\n",
       "      <td>en</td>\n",
       "      <td>1477046502400868359</td>\n",
       "      <td>824946672673361920</td>\n",
       "      <td>1477046502400868359</td>\n",
       "      <td>False</td>\n",
       "      <td>Kris</td>\n",
       "      <td>writing_callous</td>\n",
       "      <td>2021-12-31T22:38:23.000Z</td>\n",
       "      <td>[]</td>\n",
       "      <td>We started calling it climate change when Exxon Mobile did a very successful PR campaign in the s. Apparently global warming is too specific and scary. But Its global warming.</td>\n",
       "    </tr>\n",
       "  </tbody>\n",
       "</table>\n",
       "</div>"
      ],
      "text/plain": [
       "                                                                                                                                                                                                                                                                 text  \\\n",
       "2  I'm thinking about writing a satire where the U.S. Congress is blocked from taking action on the climate by a Senator who owns a coal company, lives on a yacht and speaks daily with Exxon lobbyists -- but I'm worried people will think it's too on the nose. 😔   \n",
       "3                                                                                                                                                                                           @Mum2Mrs @oshima9 no, capitalists are the cause.\\nhttps://t.co/VyFfKhY2Yp   \n",
       "4            @ScottGrimnes @MaMan564 @SoFarFletched ‘We’ started calling it ‘climate change’ when Exxon Mobile did a very successful PR campaign in the 90’s. Apparently ‘global warming’ is too specific and scary. But It’s global warming. https://t.co/WPetiWDQG3   \n",
       "\n",
       "  language                   id           author_id      conversation_id  \\\n",
       "2       en  1477059914015125507          2732778706  1477059914015125507   \n",
       "3       en  1477056800889323523           414239235  1477056800889323523   \n",
       "4       en  1477046502400868359  824946672673361920  1477046502400868359   \n",
       "\n",
       "   author_verified    author_name  author_username         twt_creation_time  \\\n",
       "2            False        Tai Chi       TaiWendysb  2021-12-31T23:31:40.000Z   \n",
       "3            False  Richard Estes          oshima9  2021-12-31T23:19:18.000Z   \n",
       "4            False           Kris  writing_callous  2021-12-31T22:38:23.000Z   \n",
       "\n",
       "  hashtag  \\\n",
       "2      []   \n",
       "3      []   \n",
       "4      []   \n",
       "\n",
       "                                                                                                                                                                                                                                                              ctext  \n",
       "2  I'm thinking about writing a satire where the U.S. Congress is blocked from taking action on the climate by a Senator who owns a coal company, lives on a yacht and speaks daily with Exxon lobbyists -- but I'm worried people will think it's too on the nose.  \n",
       "3                                                                                                                                                                                                                                    no, capitalists are the cause.  \n",
       "4                                                                                   We started calling it climate change when Exxon Mobile did a very successful PR campaign in the s. Apparently global warming is too specific and scary. But Its global warming.  "
      ]
     },
     "execution_count": 22,
     "metadata": {},
     "output_type": "execute_result"
    }
   ],
   "source": [
    "tweets.head(3)"
   ]
  },
  {
   "cell_type": "code",
   "execution_count": null,
   "id": "e458abf3-644f-47bd-b8c6-43f7d4491501",
   "metadata": {},
   "outputs": [],
   "source": []
  },
  {
   "cell_type": "code",
   "execution_count": null,
   "id": "73fc558d-1a18-4d40-8840-b0638ed6d41a",
   "metadata": {},
   "outputs": [],
   "source": []
  },
  {
   "cell_type": "code",
   "execution_count": 23,
   "id": "bef3a4db-2aa1-412a-b4b6-6a07696d38d7",
   "metadata": {},
   "outputs": [],
   "source": [
    "#convert to list\n",
    "ctext = tweets['ctext'].tolist()"
   ]
  },
  {
   "cell_type": "code",
   "execution_count": 24,
   "id": "25ad07de-a943-4a3d-a64e-0a555ecc16d5",
   "metadata": {},
   "outputs": [
    {
     "name": "stderr",
     "output_type": "stream",
     "text": [
      "<>:2: DeprecationWarning: invalid escape sequence \\s\n",
      "<>:2: DeprecationWarning: invalid escape sequence \\s\n",
      "/var/folders/kg/0ndh6pln2x7b6rpm16twhvpc0000gn/T/ipykernel_91949/1351202947.py:2: DeprecationWarning: invalid escape sequence \\s\n",
      "  ctext = [re.sub('\\s+', ' ', sent) for sent in ctext]\n"
     ]
    }
   ],
   "source": [
    "# Remove new line characters\n",
    "ctext = [re.sub('\\s+', ' ', sent) for sent in ctext]"
   ]
  },
  {
   "cell_type": "code",
   "execution_count": 25,
   "id": "10de78ad-cd53-4a1e-b4d8-42cf0466e43f",
   "metadata": {},
   "outputs": [],
   "source": [
    "# Remove distracting single quotes\n",
    "ctext = [re.sub(\"\\'\", \"\", sent) for sent in ctext]"
   ]
  },
  {
   "cell_type": "code",
   "execution_count": 26,
   "id": "a06b12d3-e30d-437a-82d6-8ff049bc9a56",
   "metadata": {},
   "outputs": [],
   "source": [
    "# remove punctuations\n",
    "ctext = [re.sub(r'[^\\w\\s]', '', sent) for sent in ctext]"
   ]
  },
  {
   "cell_type": "code",
   "execution_count": 27,
   "id": "e48ea990-81ac-4293-8fc2-cad5bc777db5",
   "metadata": {},
   "outputs": [
    {
     "data": {
      "text/plain": [
       "['no capitalists are the cause',\n",
       " 'We started calling it climate change when Exxon Mobile did a very successful PR campaign in the s Apparently global warming is too specific and scary But Its global warming',\n",
       " 'Im thinking about writing a satire where the US Congress is blocked from taking action on the climate by a Senator who owns a coal company lives on a yacht and speaks daily with Exxon lobbyists  but Im worried people will think its too on the nose',\n",
       " 'no capitalists are the cause']"
      ]
     },
     "execution_count": 27,
     "metadata": {},
     "output_type": "execute_result"
    }
   ],
   "source": [
    "ctext[1:5]"
   ]
  },
  {
   "cell_type": "markdown",
   "id": "eee9d1b7-d916-49e8-9467-c99192da368b",
   "metadata": {
    "jp-MarkdownHeadingCollapsed": true,
    "tags": []
   },
   "source": [
    "### Tokenize words and further clean up text"
   ]
  },
  {
   "cell_type": "code",
   "execution_count": 28,
   "id": "f7a3bd80-1498-427b-94a2-0d0cd9273d37",
   "metadata": {},
   "outputs": [],
   "source": [
    "#tokenize each sentence into a list of words, removing punctuations and unnecessary characters altoghter"
   ]
  },
  {
   "cell_type": "code",
   "execution_count": 29,
   "id": "6b44245f-17f9-45d5-8ebd-bc0c18503060",
   "metadata": {},
   "outputs": [
    {
     "name": "stdout",
     "output_type": "stream",
     "text": [
      "[['im', 'thinking', 'about', 'writing', 'satire', 'where', 'the', 'us', 'congress', 'is', 'blocked', 'from', 'taking', 'action', 'on', 'the', 'climate', 'by', 'senator', 'who', 'owns', 'coal', 'company', 'lives', 'on', 'yacht', 'and', 'speaks', 'daily', 'with', 'exxon', 'lobbyists', 'but', 'im', 'worried', 'people', 'will', 'think', 'its', 'too', 'on', 'the', 'nose']]\n"
     ]
    }
   ],
   "source": [
    "def sent_to_words(sentences):\n",
    "    for sentence in sentences:\n",
    "        yield(gensim.utils.simple_preprocess(str(sentence), deacc=True))  # deacc=True removes punctuations\n",
    "\n",
    "tweet_words = list(sent_to_words(ctext))\n",
    "\n",
    "print(tweet_words[:1])"
   ]
  },
  {
   "cell_type": "code",
   "execution_count": 30,
   "id": "8bef03c9-848f-4004-824e-b2340c6086f1",
   "metadata": {},
   "outputs": [
    {
     "name": "stdout",
     "output_type": "stream",
     "text": [
      "['im', 'thinking', 'about_writing_satire', 'where', 'the', 'us', 'congress', 'is', 'blocked', 'from', 'taking', 'action', 'on', 'the', 'climate', 'by', 'senator', 'who', 'owns', 'coal', 'company', 'lives', 'on', 'yacht', 'and', 'speaks', 'daily', 'with', 'exxon', 'lobbyists', 'but', 'im', 'worried', 'people', 'will', 'think', 'its', 'too', 'on', 'the', 'nose']\n"
     ]
    }
   ],
   "source": [
    "# Build the bigram and trigram models\n",
    "bigram = gensim.models.Phrases(tweet_words, min_count=5, threshold=100) # higher threshold fewer phrases.\n",
    "trigram = gensim.models.Phrases(bigram[tweet_words], threshold=100)  \n",
    "\n",
    "# Faster way to get a sentence clubbed as a trigram/bigram\n",
    "bigram_mod = gensim.models.phrases.Phraser(bigram)\n",
    "trigram_mod = gensim.models.phrases.Phraser(trigram)\n",
    "\n",
    "# See trigram example\n",
    "print(trigram_mod[bigram_mod[tweet_words[0]]])"
   ]
  },
  {
   "cell_type": "markdown",
   "id": "c24a6586-a208-47dc-b7df-e84b8c5a621a",
   "metadata": {
    "tags": []
   },
   "source": [
    "### Remove Stopwords, Make Bigrams and Lemmatize"
   ]
  },
  {
   "cell_type": "code",
   "execution_count": 67,
   "id": "b527df8e-7e82-45eb-995f-64d60d7d5dcd",
   "metadata": {},
   "outputs": [],
   "source": [
    "stop_words = stopwords.words('english')\n",
    "stop_words.extend(['from', 'subject', 're', 'edu', 'use', 'm'])"
   ]
  },
  {
   "cell_type": "code",
   "execution_count": 68,
   "id": "3a9ae696-61af-40ea-8380-ea5b22393074",
   "metadata": {},
   "outputs": [],
   "source": [
    "# Define functions for stopwords, bigrams, trigrams and lemmatization\n",
    "def remove_stopwords(texts):\n",
    "    return [[word for word in simple_preprocess(str(doc)) if word not in stop_words] for doc in texts]\n",
    "\n",
    "def make_bigrams(texts):\n",
    "    return [bigram_mod[doc] for doc in texts]\n",
    "\n",
    "def make_trigrams(texts):\n",
    "    return [trigram_mod[bigram_mod[doc]] for doc in texts]"
   ]
  },
  {
   "cell_type": "code",
   "execution_count": 69,
   "id": "91edbe4c-1e69-4d5c-b09a-318a5c3047d2",
   "metadata": {},
   "outputs": [],
   "source": [
    "def lemmatization(texts, allowed_postags=['NOUN', 'ADJ', 'VERB', 'ADV']):\n",
    "    \"\"\"https://spacy.io/api/annotation\"\"\"\n",
    "    texts_out = []\n",
    "    for sent in texts:\n",
    "        doc = nlp(\" \".join(sent)) \n",
    "        texts_out.append([token.lemma_ for token in doc if token.pos_ in allowed_postags])\n",
    "    return texts_out"
   ]
  },
  {
   "cell_type": "code",
   "execution_count": 70,
   "id": "246f1398-6c05-4437-9052-fdc9f25af0b6",
   "metadata": {},
   "outputs": [],
   "source": [
    "# Remove Stop Words\n",
    "tweet_words_nostops = remove_stopwords(tweet_words)"
   ]
  },
  {
   "cell_type": "code",
   "execution_count": 71,
   "id": "29c6dc85-e89e-4ff4-a4d1-83fede7b1a5e",
   "metadata": {},
   "outputs": [],
   "source": [
    "# Form Bigrams\n",
    "tweet_words_bigrams = make_bigrams(tweet_words_nostops)"
   ]
  },
  {
   "cell_type": "code",
   "execution_count": 72,
   "id": "ccc2cc77-8a72-423b-ae6c-6546c8ade7a8",
   "metadata": {},
   "outputs": [
    {
     "name": "stdout",
     "output_type": "stream",
     "text": [
      "[['m', 'think', 'block', 'take', 'action', 'senator', 'own', 'coal', 'company', 'live', 'yacht', 'speak', 'daily', 'lobbyist', 'm', 'worried', 'people', 'think', 'nose']]\n"
     ]
    }
   ],
   "source": [
    "# Initialize spacy 'en_core_web_sm' model, keeping only tagger component (for efficiency)\n",
    "# python3 -m spacy download en_core_web_sm\n",
    "nlp = spacy.load(\"en_core_web_sm\", disable=['parser', 'ner'])# not \"en\" any more\n",
    "\n",
    "# Do lemmatization keeping only noun, adj, vb, adv\n",
    "tweet_lemmatized = lemmatization(tweet_words_bigrams, allowed_postags=['NOUN', 'ADJ', 'VERB', 'ADV'])\n",
    "\n",
    "print(tweet_lemmatized[:1])"
   ]
  },
  {
   "cell_type": "markdown",
   "id": "805b9a70-7bf6-4b5b-8391-76185dd7cea7",
   "metadata": {
    "tags": []
   },
   "source": [
    "### Creat the dictionary and the corpus"
   ]
  },
  {
   "cell_type": "code",
   "execution_count": 73,
   "id": "045af5c1-03ce-4c46-a4ce-5d2510470d2b",
   "metadata": {},
   "outputs": [
    {
     "name": "stdout",
     "output_type": "stream",
     "text": [
      "[[(0, 1), (1, 1), (2, 1), (3, 1), (4, 1), (5, 1), (6, 1), (7, 2), (8, 1), (9, 1), (10, 1), (11, 1), (12, 1), (13, 1), (14, 2), (15, 1), (16, 1)]]\n"
     ]
    }
   ],
   "source": [
    "# Create Dictionary\n",
    "id2word = corpora.Dictionary(tweet_lemmatized)\n",
    "\n",
    "# Create Corpus\n",
    "texts = tweet_lemmatized\n",
    "\n",
    "# Term Document Frequency\n",
    "corpus = [id2word.doc2bow(text) for text in texts] ##### ?????\n",
    "\n",
    "#Gensim creates a unique id for each word in the document. \n",
    "#The produced corpus shown below is a mapping of (word_id, word_frequency(times of occurance)).\n",
    "\n",
    "# View\n",
    "print(corpus[:1])"
   ]
  },
  {
   "cell_type": "code",
   "execution_count": 74,
   "id": "494c70fb-e5f5-497a-89f3-9892a245c9d2",
   "metadata": {},
   "outputs": [
    {
     "data": {
      "text/plain": [
       "'petroleum'"
      ]
     },
     "execution_count": 74,
     "metadata": {},
     "output_type": "execute_result"
    }
   ],
   "source": [
    "id2word[40]"
   ]
  },
  {
   "cell_type": "code",
   "execution_count": 75,
   "id": "7c2ed933-af4b-42eb-a1f3-d6e64196b7aa",
   "metadata": {},
   "outputs": [
    {
     "data": {
      "text/plain": [
       "'daily'"
      ]
     },
     "execution_count": 75,
     "metadata": {},
     "output_type": "execute_result"
    }
   ],
   "source": [
    "#If you want to see what word a given id corresponds to, pass the id as a key to the dictionary.\n",
    "id2word[4]\n",
    "\n",
    "#in put of LDA"
   ]
  },
  {
   "cell_type": "code",
   "execution_count": 76,
   "id": "5520aec4-4caa-4db2-bcad-f2eea66c6b10",
   "metadata": {},
   "outputs": [
    {
     "data": {
      "text/plain": [
       "[[('action', 1),\n",
       "  ('block', 1),\n",
       "  ('coal', 1),\n",
       "  ('company', 1),\n",
       "  ('daily', 1),\n",
       "  ('live', 1),\n",
       "  ('lobbyist', 1),\n",
       "  ('m', 2),\n",
       "  ('nose', 1),\n",
       "  ('own', 1),\n",
       "  ('people', 1),\n",
       "  ('senator', 1),\n",
       "  ('speak', 1),\n",
       "  ('take', 1),\n",
       "  ('think', 2),\n",
       "  ('worried', 1),\n",
       "  ('yacht', 1)]]"
      ]
     },
     "execution_count": 76,
     "metadata": {},
     "output_type": "execute_result"
    }
   ],
   "source": [
    "# Human readable format of corpus (term-frequency)\n",
    "[[(id2word[id], freq) for id, freq in cp] for cp in corpus[:1]]"
   ]
  },
  {
   "cell_type": "markdown",
   "id": "82855c8f-5efb-4c9d-872f-6a1ac7954577",
   "metadata": {
    "tags": []
   },
   "source": [
    "### Building the Topic Model"
   ]
  },
  {
   "cell_type": "code",
   "execution_count": 77,
   "id": "fd2479a5-4314-45dd-98d5-a06ef929f664",
   "metadata": {},
   "outputs": [],
   "source": [
    "# Build LDA model\n",
    "lda_model = gensim.models.ldamodel.LdaModel(corpus=corpus,\n",
    "                                           id2word=id2word,\n",
    "                                           num_topics=4, \n",
    "                                           random_state=100,\n",
    "                                           update_every=1,\n",
    "                                           chunksize=100,\n",
    "                                           passes=10,\n",
    "                                           alpha='auto',\n",
    "                                           per_word_topics=True)"
   ]
  },
  {
   "cell_type": "code",
   "execution_count": 78,
   "id": "98c1416a-9b9f-49b1-95b7-4105946d733f",
   "metadata": {},
   "outputs": [
    {
     "name": "stdout",
     "output_type": "stream",
     "text": [
      "[(0,\n",
      "  '0.084*\"go\" + 0.053*\"lose\" + 0.051*\"week\" + 0.035*\"point\" + 0.034*\"lower\" + '\n",
      "  '0.032*\"broad_question\" + 0.027*\"kill\" + 0.023*\"order\" + 0.023*\"ability\" + '\n",
      "  '0.023*\"regulate\"'),\n",
      " (1,\n",
      "  '0.052*\"know\" + 0.031*\"exxon\" + 0.020*\"investment\" + 0.019*\"emission\" + '\n",
      "  '0.019*\"show\" + 0.016*\"year\" + 0.016*\"rise\" + 0.016*\"commit\" + '\n",
      "  '0.015*\"strategy\" + 0.015*\"yearly\"'),\n",
      " (2,\n",
      "  '0.220*\"company\" + 0.061*\"involve\" + 0.059*\"hear\" + 0.058*\"recuse\" + '\n",
      "  '0.054*\"stricter_ethic\" + 0.054*\"amy_coney\" + 0.048*\"previous\" + '\n",
      "  '0.025*\"capture\" + 0.020*\"environmental\" + 0.019*\"science\"'),\n",
      " (3,\n",
      "  '0.040*\"oil\" + 0.023*\"case\" + 0.022*\"big\" + 0.016*\"fund\" + 0.015*\"amp\" + '\n",
      "  '0.014*\"job\" + 0.014*\"fuel\" + 0.013*\"large\" + 0.012*\"law\" + '\n",
      "  '0.012*\"emission\"')]\n"
     ]
    }
   ],
   "source": [
    "# Print the Keyword in the 10 topics\n",
    "pprint(lda_model.print_topics())\n",
    "doc_lda = lda_model[corpus]"
   ]
  },
  {
   "cell_type": "markdown",
   "id": "d2a08cd6-7d24-4d44-b4b9-398195a86847",
   "metadata": {
    "tags": []
   },
   "source": [
    "### Compute model perplexity and coherence score"
   ]
  },
  {
   "cell_type": "code",
   "execution_count": 79,
   "id": "0d82ce0a-a3f3-410d-84e0-140df9173b4a",
   "metadata": {},
   "outputs": [
    {
     "name": "stdout",
     "output_type": "stream",
     "text": [
      "\n",
      "Perplexity:  -8.170035116126085\n",
      "\n",
      "Coherence Score:  0.26628529500205533\n"
     ]
    }
   ],
   "source": [
    "# Compute Perplexity\n",
    "print('\\nPerplexity: ', lda_model.log_perplexity(corpus))  # a measure of how good the model is. lower the better.\n",
    "\n",
    "# Compute Coherence Score\n",
    "coherence_model_lda = CoherenceModel(model=lda_model, texts=tweet_lemmatized, dictionary=id2word, coherence='c_v')\n",
    "coherence_lda = coherence_model_lda.get_coherence()\n",
    "print('\\nCoherence Score: ', coherence_lda)"
   ]
  },
  {
   "cell_type": "code",
   "execution_count": 80,
   "id": "77942d7d-c8f8-4bd2-9df3-2fd7cdbb7ece",
   "metadata": {},
   "outputs": [
    {
     "name": "stderr",
     "output_type": "stream",
     "text": [
      "/opt/anaconda3/lib/python3.9/site-packages/pyLDAvis/_prepare.py:246: FutureWarning: In a future version of pandas all arguments of DataFrame.drop except for the argument 'labels' will be keyword-only\n",
      "  default_term_info = default_term_info.sort_values(\n",
      "/opt/anaconda3/lib/python3.9/site-packages/past/builtins/misc.py:45: DeprecationWarning: the imp module is deprecated in favour of importlib; see the module's documentation for alternative uses\n",
      "  from imp import reload\n",
      "/opt/anaconda3/lib/python3.9/site-packages/past/builtins/misc.py:45: DeprecationWarning: the imp module is deprecated in favour of importlib; see the module's documentation for alternative uses\n",
      "  from imp import reload\n",
      "/opt/anaconda3/lib/python3.9/site-packages/past/builtins/misc.py:45: DeprecationWarning: the imp module is deprecated in favour of importlib; see the module's documentation for alternative uses\n",
      "  from imp import reload\n",
      "/opt/anaconda3/lib/python3.9/site-packages/past/builtins/misc.py:45: DeprecationWarning: the imp module is deprecated in favour of importlib; see the module's documentation for alternative uses\n",
      "  from imp import reload\n",
      "/opt/anaconda3/lib/python3.9/site-packages/past/builtins/misc.py:45: DeprecationWarning: the imp module is deprecated in favour of importlib; see the module's documentation for alternative uses\n",
      "  from imp import reload\n",
      "/opt/anaconda3/lib/python3.9/site-packages/past/builtins/misc.py:45: DeprecationWarning: the imp module is deprecated in favour of importlib; see the module's documentation for alternative uses\n",
      "  from imp import reload\n",
      "/opt/anaconda3/lib/python3.9/site-packages/past/builtins/misc.py:45: DeprecationWarning: the imp module is deprecated in favour of importlib; see the module's documentation for alternative uses\n",
      "  from imp import reload\n",
      "/opt/anaconda3/lib/python3.9/site-packages/past/builtins/misc.py:45: DeprecationWarning: the imp module is deprecated in favour of importlib; see the module's documentation for alternative uses\n",
      "  from imp import reload\n"
     ]
    },
    {
     "data": {
      "text/html": [
       "\n",
       "<link rel=\"stylesheet\" type=\"text/css\" href=\"https://cdn.jsdelivr.net/gh/bmabey/pyLDAvis@3.3.1/pyLDAvis/js/ldavis.v1.0.0.css\">\n",
       "\n",
       "\n",
       "<div id=\"ldavis_el919491404498366141445865500107\"></div>\n",
       "<script type=\"text/javascript\">\n",
       "\n",
       "var ldavis_el919491404498366141445865500107_data = {\"mdsDat\": {\"x\": [0.18046601841897603, 0.261749845977738, -0.3378240164736236, -0.10439184792309028], \"y\": [-0.07056135209394038, -0.09171444492792613, -0.22996161479412738, 0.39223741181599353], \"topics\": [1, 2, 3, 4], \"cluster\": [1, 1, 1, 1], \"Freq\": [39.87700163729001, 37.40354914687117, 12.012374260865641, 10.707074954973175]}, \"tinfo\": {\"Term\": [\"company\", \"go\", \"know\", \"involve\", \"hear\", \"recuse\", \"lose\", \"week\", \"stricter_ethic\", \"amy_coney\", \"oil\", \"previous\", \"exxon\", \"point\", \"lower\", \"case\", \"broad_question\", \"big\", \"investment\", \"kill\", \"show\", \"capture\", \"rise\", \"order\", \"ability\", \"regulate\", \"singapore_launche\", \"multiministry\", \"conoco_rating\", \"buildings_california\", \"large\", \"job\", \"big\", \"investor\", \"win\", \"energy\", \"firm\", \"enough\", \"member\", \"long\", \"activist\", \"green\", \"case\", \"day\", \"deni\", \"reckon\", \"address\", \"obstruction\", \"clean\", \"young_engineer\", \"board\", \"include\", \"invest\", \"deal\", \"yesterday\", \"demand\", \"push\", \"far\", \"impact\", \"renewable\", \"fund\", \"oil\", \"law\", \"amp\", \"thank\", \"quit\", \"earth\", \"back\", \"court\", \"pressure\", \"put\", \"remain\", \"dark\", \"huge\", \"judge\", \"say\", \"giant\", \"good\", \"give\", \"major\", \"former\", \"fuel\", \"stepping\", \"funding\", \"need\", \"people\", \"chevron\", \"want\", \"fossil\", \"new\", \"emission\", \"involve\", \"industry\", \"break\", \"know\", \"commit\", \"rise\", \"yearly\", \"nowexxon\", \"assessment\", \"ecocide\", \"world\", \"use\", \"investment\", \"action\", \"liberal\", \"still\", \"microtargeting\", \"nyu_project\", \"regulation_report\", \"hold\", \"mitigate\", \"datum\", \"work\", \"decade\", \"regulation\", \"investigation\", \"show\", \"reveal\", \"planetand\", \"scoopthis\", \"facebook\", \"play\", \"shut\", \"exxon\", \"model\", \"see\", \"try\", \"business\", \"future\", \"twoand\", \"public\", \"planet\", \"strategy\", \"conservative\", \"ad\", \"year\", \"report\", \"extend\", \"way\", \"massive\", \"solar\", \"valuable\", \"much\", \"capitalism\", \"emission\", \"crisis\", \"new\", \"point\", \"kill\", \"biden\", \"output\", \"buildings_california\", \"china_propose\", \"conoco_rating\", \"germany_earmark\", \"multiministry\", \"singapore_launche\", \"turning\", \"ability\", \"end\", \"ecuador\", \"bill\", \"planetdutch\", \"halve\", \"slam\", \"week\", \"order\", \"trip\", \"era\", \"exit\", \"produces_pollution\", \"seems_dubious\", \"tb_combine\", \"lower\", \"appealedchevron\", \"boardford_announce\", \"emissionsexxon_get\", \"go\", \"regulate\", \"save\", \"history\", \"lose\", \"broad_question\", \"legislation\", \"fire\", \"participate\", \"likely\", \"today\", \"chevron\", \"fossil\", \"capture\", \"effort\", \"group\", \"director\", \"fight\", \"call\", \"hear\", \"criticize\", \"policymaker\", \"solutionsme\", \"develop\", \"quietly_shelve\", \"attempt\", \"amy_coney\", \"stricter_ethic\", \"projects_technology\", \"reversing\", \"essential\", \"speak\", \"federal\", \"early\", \"senior\", \"join\", \"combat\", \"watershed\", \"strenuous_objection\", \"coalition\", \"recuse\", \"science\", \"detail\", \"company\", \"respond\", \"already\", \"tyson\", \"previous\", \"environmental\", \"crisisanother_sign\", \"reel\", \"ambitious\", \"involve\", \"support\"], \"Freq\": [89148.0, 37800.0, 72607.0, 38960.0, 23717.0, 23233.0, 24442.0, 23120.0, 21883.0, 21883.0, 60485.0, 21200.0, 42854.0, 15764.0, 15173.0, 35103.0, 14914.0, 32364.0, 28228.0, 12263.0, 26535.0, 9973.0, 22488.0, 10367.0, 10327.0, 10366.0, 10245.0, 10245.0, 10245.0, 10245.0, 19017.51163437542, 20573.243877922323, 32360.556076579705, 13427.786399465567, 10721.739109099386, 17767.677357485525, 7229.798639506795, 6785.777670203514, 6603.098097087164, 6361.421460841124, 8179.215281267034, 12015.448742065597, 35091.37827858013, 4829.95513165672, 8995.337262238325, 4381.096426834916, 5744.996540035275, 4205.418262533724, 3896.6106962980466, 4102.358665930456, 4136.054772398645, 3536.612199390727, 3462.837863451701, 3341.4581921128, 3453.4337648493474, 3118.0619684773214, 3321.169971398866, 2944.5572190473436, 2766.344679745455, 6831.638915840401, 23651.081841223502, 59833.14072618506, 18514.808811462754, 21689.530908910976, 9424.735432272017, 6991.0409965006265, 10144.314930033279, 5462.63143425371, 4777.870759430848, 4517.8893566378, 6232.701165143693, 5004.365151695774, 5844.948226434518, 10844.11207313195, 16164.410404954442, 14514.272562164053, 15388.04448566613, 7367.671840347795, 16971.762881324514, 15506.29328451807, 9049.472583826418, 20213.53762825237, 8400.051906181923, 8822.557912201091, 16972.261093281544, 11527.040288193857, 15911.516345580874, 9538.3743788679, 14212.155718097145, 13506.481622220415, 18250.25547897183, 14546.167868988668, 10840.14655645161, 9552.462783189163, 72606.16584139534, 21745.65155303332, 22487.231014422003, 20649.13498193167, 20494.108370854043, 20491.869724142936, 20527.411340848517, 17474.1974535687, 10932.578063702877, 28223.04070962403, 8120.319577206567, 5888.653788902993, 5396.39593613057, 5279.852836816928, 5279.852836816928, 5279.852836816928, 5558.685748352387, 5525.049918351307, 16325.334404094525, 13495.836379922639, 12616.751797137505, 6084.2508134527, 6076.06637329022, 26520.917337166396, 2720.7577181798133, 5115.5335575548215, 4246.088208961047, 6459.3318275655665, 1665.675854400737, 5691.782758994661, 42797.14248961933, 7386.256877967109, 13863.312521884533, 11336.9298730635, 13109.085685578104, 11722.845154058119, 6703.266651741554, 16923.63133863873, 12077.147871758489, 20665.41379425484, 5941.002225275561, 11966.010484218828, 23000.879691285747, 8095.841966053965, 6886.986448055471, 8721.00918779827, 7584.926004577804, 11041.227485859812, 10267.910801841073, 11113.35498595837, 9537.79282001326, 26850.55839171051, 13779.024536211227, 10314.226640093879, 15763.594723811208, 12262.070926028424, 5312.347140834067, 8042.216096108621, 10242.327695141648, 10242.327695141648, 10242.327695141648, 10242.327695141648, 10242.327695141648, 10242.327695141648, 3357.452796732039, 10323.723442508335, 7402.809954347843, 2630.040715370882, 2440.407471941737, 2607.9644004787965, 2614.3505219521558, 2608.2798602489543, 23108.901707058663, 10361.468780429255, 4236.140938372788, 3208.9379002745686, 787.0576636047729, 4550.957212521306, 4550.957212521306, 4550.957212521306, 15132.101696497612, 283.0342263246439, 283.0342263246439, 283.0342263246439, 37658.95266899011, 10321.353197271825, 4511.506924586787, 5753.14861483179, 23661.028829141258, 14579.146204307595, 3792.8585462092237, 3865.1103620055624, 4240.308780279647, 4146.517245612223, 5348.112942496268, 6619.846769912683, 5446.931291919793, 9972.238666504281, 5019.855448288462, 4242.45705631735, 3031.2866211745636, 3670.503888787677, 2365.2708425548326, 23694.99169565294, 2149.980359665402, 2230.4975198153898, 2230.4975198153898, 3090.123885501243, 4720.57012875081, 921.6249078243072, 21831.74477306141, 21831.74477306141, 4939.112596013737, 4939.112596013737, 4939.108485726697, 732.1409555306539, 1968.5922716061807, 1932.6274468380748, 616.5657559829359, 545.1128530355478, 456.77839401369727, 306.6513742834618, 294.4288285687532, 270.4813854719141, 23076.87626804034, 7685.202466973675, 850.1299211425671, 88454.33367505767, 5566.803497779529, 2044.7110509609918, 871.1301249544553, 19098.54737789588, 8066.977137115562, 3776.347516690302, 3738.761183684946, 4408.288828917834, 24389.92913536664, 3139.2414419658767], \"Total\": [89148.0, 37800.0, 72607.0, 38960.0, 23717.0, 23233.0, 24442.0, 23120.0, 21883.0, 21883.0, 60485.0, 21200.0, 42854.0, 15764.0, 15173.0, 35103.0, 14914.0, 32364.0, 28228.0, 12263.0, 26535.0, 9973.0, 22488.0, 10367.0, 10327.0, 10366.0, 10245.0, 10245.0, 10245.0, 10245.0, 19019.33211628559, 20575.35244845152, 32364.2166681029, 13429.562790276916, 10723.543602902495, 17771.89108073268, 7231.616168248192, 6787.528541105003, 6604.909627094947, 6363.168946461432, 8181.644462730624, 12019.065628088178, 35103.43701023763, 4831.711504067467, 8998.700845894635, 4382.835953460139, 5747.301259892679, 4207.185187446083, 3898.374536862916, 4104.257256860325, 4138.1189514596035, 3538.408615979032, 3464.6120832131965, 3343.2845119517365, 3455.340177078536, 3119.82681338434, 3323.21815355252, 2946.390843786568, 2768.182534151444, 6836.405848275309, 23670.791828088823, 60485.40530123778, 18617.667401865492, 21882.98919135335, 9437.423484243203, 7004.87937836218, 10214.632522440452, 5474.577697643075, 4782.9315388716095, 4521.825559139162, 6258.92154044968, 5014.963855454984, 5868.178956321331, 11044.348481853236, 16599.38602655712, 14913.12617974056, 15874.79391571762, 7467.452938631156, 17956.93516337964, 16337.79703879277, 9411.010984206343, 22823.51048355851, 8672.333242066972, 9195.198713262374, 20716.128643976037, 13799.650631249524, 22532.00728963538, 10807.357270111936, 19659.74304632365, 23822.25495324612, 47350.893989375836, 38960.29794414436, 17988.849421054805, 11587.303730354284, 72607.84994393916, 21747.338550593988, 22488.9808388564, 20650.815877547557, 20495.77924496185, 20493.540595482602, 20529.085697917773, 17476.203852489583, 10934.255267592307, 28228.097035780003, 8122.128572648808, 5890.417578560303, 5398.1150122520685, 5281.541541620381, 5281.541541620381, 5281.541541620381, 5560.53405701762, 5527.112171801606, 16331.718966328066, 13501.921376362834, 12622.442858681032, 6087.068618919754, 6078.977209031004, 26535.044739191533, 2722.4503487653956, 5118.958982285738, 4248.937577051626, 6465.049721875282, 1667.363844425629, 5698.857664912849, 42854.39532341869, 7406.873510715777, 14010.655426007826, 11434.974859402077, 13309.361713848262, 11890.193724004755, 6734.345697157316, 17449.705463534883, 12406.871435112544, 21734.6111935921, 5958.620853801812, 12359.120202569055, 25207.332028284556, 8294.694953904043, 6959.678379859345, 9076.55321730635, 7761.379291213622, 12042.232880882599, 11138.4236840319, 12677.08900893354, 10384.094034026111, 47350.893989375836, 17865.79676408367, 23822.25495324612, 15764.48188297061, 12263.47469348281, 5313.482751053631, 8044.362607470701, 10245.603446450852, 10245.603446450852, 10245.603446450852, 10245.603446450852, 10245.603446450852, 10245.603446450852, 3358.553837824369, 10327.310307943244, 7405.668679118137, 2631.136058897953, 2441.425961131902, 2609.0571642451628, 2615.447185806624, 2609.3775975797553, 23120.965115846357, 10367.274859625684, 4241.345143360188, 3213.285628549144, 788.2375121986588, 4558.644187470116, 4558.644187470116, 4558.644187470116, 15173.60121419309, 283.90761243032784, 283.90761243032784, 283.90761243032784, 37800.86582282295, 10366.01185370314, 4540.19026611751, 5810.4051552007, 24442.34739912429, 14914.377414631143, 3820.5936319650605, 3904.789988318151, 4363.991215926064, 4677.7198464247, 8526.360351918043, 22532.00728963538, 19659.74304632365, 9973.992329936707, 5021.547933080399, 4244.187551117779, 3032.9369740658076, 3672.7705825813523, 2367.0200341398454, 23717.72674913521, 2152.175662393146, 2233.7274301162843, 2233.7274301162843, 3096.044807890602, 4731.002038616022, 923.7385021312035, 21883.48374877008, 21883.48374877008, 4951.072546254268, 4951.072546254268, 4951.075032990544, 733.949445276552, 1974.4458529081699, 1938.3974865723228, 618.860112161791, 547.2272657145032, 458.59796155175604, 308.40545134697606, 296.2418174760808, 272.2321856752744, 23233.631419831316, 7737.589058485603, 856.086478680954, 89148.88382859257, 5738.894307274236, 2110.2825821502993, 885.4720684423781, 21200.492601039212, 8952.696683183884, 4163.7051407342715, 4153.526549492686, 5234.074088436554, 38960.29794414436, 6964.718838088547], \"Category\": [\"Default\", \"Default\", \"Default\", \"Default\", \"Default\", \"Default\", \"Default\", \"Default\", \"Default\", \"Default\", \"Default\", \"Default\", \"Default\", \"Default\", \"Default\", \"Default\", \"Default\", \"Default\", \"Default\", \"Default\", \"Default\", \"Default\", \"Default\", \"Default\", \"Default\", \"Default\", \"Default\", \"Default\", \"Default\", \"Default\", \"Topic1\", \"Topic1\", \"Topic1\", \"Topic1\", \"Topic1\", \"Topic1\", \"Topic1\", \"Topic1\", \"Topic1\", \"Topic1\", \"Topic1\", \"Topic1\", \"Topic1\", \"Topic1\", \"Topic1\", \"Topic1\", \"Topic1\", \"Topic1\", \"Topic1\", \"Topic1\", \"Topic1\", \"Topic1\", \"Topic1\", \"Topic1\", \"Topic1\", \"Topic1\", \"Topic1\", \"Topic1\", \"Topic1\", \"Topic1\", \"Topic1\", \"Topic1\", \"Topic1\", \"Topic1\", \"Topic1\", \"Topic1\", \"Topic1\", \"Topic1\", \"Topic1\", \"Topic1\", \"Topic1\", \"Topic1\", \"Topic1\", \"Topic1\", \"Topic1\", \"Topic1\", \"Topic1\", \"Topic1\", \"Topic1\", \"Topic1\", \"Topic1\", \"Topic1\", \"Topic1\", \"Topic1\", \"Topic1\", \"Topic1\", \"Topic1\", \"Topic1\", \"Topic1\", \"Topic1\", \"Topic1\", \"Topic1\", \"Topic1\", \"Topic1\", \"Topic2\", \"Topic2\", \"Topic2\", \"Topic2\", \"Topic2\", \"Topic2\", \"Topic2\", \"Topic2\", \"Topic2\", \"Topic2\", \"Topic2\", \"Topic2\", \"Topic2\", \"Topic2\", \"Topic2\", \"Topic2\", \"Topic2\", \"Topic2\", \"Topic2\", \"Topic2\", \"Topic2\", \"Topic2\", \"Topic2\", \"Topic2\", \"Topic2\", \"Topic2\", \"Topic2\", \"Topic2\", \"Topic2\", \"Topic2\", \"Topic2\", \"Topic2\", \"Topic2\", \"Topic2\", \"Topic2\", \"Topic2\", \"Topic2\", \"Topic2\", \"Topic2\", \"Topic2\", \"Topic2\", \"Topic2\", \"Topic2\", \"Topic2\", \"Topic2\", \"Topic2\", \"Topic2\", \"Topic2\", \"Topic2\", \"Topic2\", \"Topic2\", \"Topic2\", \"Topic2\", \"Topic2\", \"Topic3\", \"Topic3\", \"Topic3\", \"Topic3\", \"Topic3\", \"Topic3\", \"Topic3\", \"Topic3\", \"Topic3\", \"Topic3\", \"Topic3\", \"Topic3\", \"Topic3\", \"Topic3\", \"Topic3\", \"Topic3\", \"Topic3\", \"Topic3\", \"Topic3\", \"Topic3\", \"Topic3\", \"Topic3\", \"Topic3\", \"Topic3\", \"Topic3\", \"Topic3\", \"Topic3\", \"Topic3\", \"Topic3\", \"Topic3\", \"Topic3\", \"Topic3\", \"Topic3\", \"Topic3\", \"Topic3\", \"Topic3\", \"Topic3\", \"Topic3\", \"Topic3\", \"Topic3\", \"Topic3\", \"Topic3\", \"Topic3\", \"Topic4\", \"Topic4\", \"Topic4\", \"Topic4\", \"Topic4\", \"Topic4\", \"Topic4\", \"Topic4\", \"Topic4\", \"Topic4\", \"Topic4\", \"Topic4\", \"Topic4\", \"Topic4\", \"Topic4\", \"Topic4\", \"Topic4\", \"Topic4\", \"Topic4\", \"Topic4\", \"Topic4\", \"Topic4\", \"Topic4\", \"Topic4\", \"Topic4\", \"Topic4\", \"Topic4\", \"Topic4\", \"Topic4\", \"Topic4\", \"Topic4\", \"Topic4\", \"Topic4\", \"Topic4\", \"Topic4\", \"Topic4\", \"Topic4\", \"Topic4\", \"Topic4\", \"Topic4\", \"Topic4\"], \"logprob\": [30.0, 29.0, 28.0, 27.0, 26.0, 25.0, 24.0, 23.0, 22.0, 21.0, 20.0, 19.0, 18.0, 17.0, 16.0, 15.0, 14.0, 13.0, 12.0, 11.0, 10.0, 9.0, 8.0, 7.0, 6.0, 5.0, 4.0, 3.0, 2.0, 1.0, -4.364, -4.2854, -3.8325, -4.7121, -4.9371, -4.432, -5.3312, -5.3946, -5.4219, -5.4591, -5.2078, -4.8232, -3.7514, -5.7346, -5.1127, -5.8321, -5.5611, -5.873, -5.9493, -5.8978, -5.8897, -6.0462, -6.0673, -6.103, -6.07, -6.1722, -6.1091, -6.2294, -6.2919, -5.3878, -4.146, -3.2178, -4.3908, -4.2326, -5.0661, -5.3648, -4.9925, -5.6115, -5.7454, -5.8014, -5.4796, -5.6991, -5.5438, -4.9258, -4.5266, -4.6343, -4.5758, -5.3123, -4.4778, -4.5682, -5.1067, -4.303, -5.1812, -5.1321, -4.4778, -4.8647, -4.5424, -5.0541, -4.6553, -4.7062, -4.4052, -4.6321, -4.9261, -5.0526, -2.9603, -4.1659, -4.1324, -4.2177, -4.2252, -4.2253, -4.2236, -4.3846, -4.8536, -3.9052, -5.151, -5.4723, -5.5596, -5.5815, -5.5815, -5.5815, -5.53, -5.5361, -4.4526, -4.643, -4.7103, -5.4397, -5.441, -3.9674, -6.2445, -5.6131, -5.7994, -5.3798, -6.7351, -5.5063, -3.4889, -5.2457, -4.6161, -4.8173, -4.6721, -4.7838, -5.3428, -4.4167, -4.754, -4.2169, -5.4635, -4.7633, -4.1098, -5.154, -5.3157, -5.0796, -5.2192, -4.8437, -4.9163, -4.8372, -4.9901, -3.9551, -4.6222, -4.9118, -3.3518, -3.603, -4.4395, -4.0248, -3.783, -3.783, -3.783, -3.783, -3.783, -3.783, -4.8984, -3.7751, -4.1077, -5.1425, -5.2174, -5.151, -5.1485, -5.1508, -2.9693, -3.7714, -4.6659, -4.9436, -6.349, -4.5942, -4.5942, -4.5942, -3.3927, -7.3717, -7.3717, -7.3717, -2.481, -3.7753, -4.6029, -4.3598, -2.9457, -3.4299, -4.7764, -4.7575, -4.6649, -4.6873, -4.4328, -4.2195, -4.4145, -3.6947, -4.3811, -4.5494, -4.8855, -4.6942, -5.1336, -2.8292, -5.229, -5.1923, -5.1923, -4.8663, -4.4426, -6.0761, -2.9111, -2.9111, -4.3973, -4.3973, -4.3973, -6.3063, -5.3172, -5.3356, -6.4781, -6.6013, -6.7781, -7.1765, -7.2172, -7.3021, -2.8557, -3.9552, -6.1569, -1.512, -4.2777, -5.2792, -6.1325, -3.0449, -3.9067, -4.6657, -4.6757, -4.511, -2.8003, -4.8505], \"loglift\": [30.0, 29.0, 28.0, 27.0, 26.0, 25.0, 24.0, 23.0, 22.0, 21.0, 20.0, 19.0, 18.0, 17.0, 16.0, 15.0, 14.0, 13.0, 12.0, 11.0, 10.0, 9.0, 8.0, 7.0, 6.0, 5.0, 4.0, 3.0, 2.0, 1.0, 0.9193, 0.9193, 0.9193, 0.9192, 0.9192, 0.9191, 0.9191, 0.9191, 0.9191, 0.9191, 0.9191, 0.9191, 0.919, 0.919, 0.919, 0.919, 0.919, 0.919, 0.9189, 0.9189, 0.9189, 0.9189, 0.9189, 0.9188, 0.9188, 0.9188, 0.9188, 0.9187, 0.9187, 0.9187, 0.9185, 0.9085, 0.9138, 0.9105, 0.918, 0.9174, 0.9125, 0.9172, 0.9183, 0.9185, 0.9152, 0.9173, 0.9154, 0.9011, 0.8928, 0.8923, 0.8882, 0.9059, 0.8629, 0.8671, 0.8802, 0.7979, 0.8875, 0.878, 0.72, 0.7394, 0.5715, 0.7945, 0.5949, 0.3519, -0.034, -0.0658, 0.4129, 0.7263, 0.9834, 0.9833, 0.9833, 0.9833, 0.9833, 0.9833, 0.9833, 0.9833, 0.9833, 0.9832, 0.9832, 0.9831, 0.9831, 0.9831, 0.9831, 0.9831, 0.9831, 0.983, 0.983, 0.983, 0.983, 0.9829, 0.9829, 0.9829, 0.9828, 0.9827, 0.9827, 0.9825, 0.9824, 0.9822, 0.9821, 0.9806, 0.9728, 0.9748, 0.9682, 0.9692, 0.9788, 0.9528, 0.9565, 0.933, 0.9804, 0.9511, 0.8918, 0.9591, 0.9729, 0.9434, 0.9604, 0.8966, 0.902, 0.8518, 0.8984, 0.4161, 0.7237, 0.1463, 2.1192, 2.1191, 2.119, 2.119, 2.1189, 2.1189, 2.1189, 2.1189, 2.1189, 2.1189, 2.1189, 2.1189, 2.1188, 2.1188, 2.1188, 2.1188, 2.1188, 2.1188, 2.1187, 2.1187, 2.118, 2.1179, 2.1177, 2.1175, 2.1175, 2.1175, 2.1165, 2.1162, 2.1162, 2.1162, 2.1155, 2.1149, 2.1129, 2.1093, 2.0867, 2.0965, 2.1119, 2.109, 2.0905, 1.9987, 1.6528, 0.8944, 0.8357, 2.2341, 2.2339, 2.2339, 2.2337, 2.2336, 2.2335, 2.2333, 2.2332, 2.2328, 2.2328, 2.2324, 2.2321, 2.232, 2.2319, 2.2319, 2.2318, 2.2318, 2.2318, 2.2318, 2.2313, 2.2313, 2.2306, 2.2304, 2.2303, 2.2286, 2.2281, 2.2278, 2.2275, 2.2275, 2.2273, 2.2264, 2.2038, 2.2027, 2.2179, 2.1299, 2.1301, 2.1366, 2.1291, 2.0626, 1.7659, 1.4374]}, \"token.table\": {\"Topic\": [1, 2, 3, 2, 3, 1, 3, 1, 2, 3, 4, 1, 3, 4, 1, 2, 3, 4, 1, 2, 3, 4, 1, 2, 3, 1, 2, 3, 4, 3, 2, 3, 3, 4, 1, 2, 3, 3, 1, 3, 4, 3, 1, 3, 3, 1, 2, 3, 1, 2, 3, 4, 1, 2, 3, 1, 2, 3, 3, 4, 1, 2, 3, 4, 3, 4, 1, 3, 4, 1, 3, 1, 2, 3, 1, 3, 3, 4, 3, 4, 2, 3, 2, 3, 4, 1, 2, 3, 1, 2, 3, 1, 3, 1, 2, 3, 1, 3, 4, 1, 3, 4, 1, 2, 3, 1, 2, 3, 1, 3, 1, 3, 1, 2, 3, 1, 3, 1, 2, 3, 4, 3, 4, 1, 3, 4, 3, 4, 2, 3, 4, 1, 2, 3, 2, 3, 3, 3, 4, 1, 2, 3, 3, 1, 3, 1, 2, 3, 1, 3, 1, 2, 3, 4, 1, 3, 1, 2, 3, 4, 3, 1, 2, 3, 4, 1, 2, 3, 1, 2, 3, 1, 3, 1, 2, 3, 4, 2, 3, 4, 1, 3, 1, 3, 1, 2, 3, 4, 1, 3, 1, 3, 1, 2, 3, 4, 1, 2, 3, 4, 1, 2, 3, 1, 2, 3, 1, 3, 4, 1, 2, 3, 4, 2, 3, 1, 2, 3, 1, 3, 3, 4, 3, 1, 3, 4, 1, 3, 2, 3, 1, 2, 3, 4, 1, 3, 1, 3, 1, 2, 3, 4, 1, 3, 1, 2, 3, 4, 1, 2, 3, 1, 3, 1, 2, 3, 4, 1, 3, 4, 2, 3, 4, 1, 2, 3, 4, 2, 3, 2, 3, 1, 3, 1, 2, 3, 4, 1, 2, 3, 2, 3, 1, 3, 1, 3, 1, 3, 1, 2, 3, 1, 3, 1, 2, 3, 1, 3, 2, 3, 1, 2, 3, 1, 2, 3, 1, 2, 3, 4, 1, 2, 3, 1, 2, 3, 4, 1, 2, 3, 2, 3, 2, 3, 1, 3, 1, 3, 4, 1, 3, 1, 2, 3, 1, 2, 3, 1, 2, 3, 1, 2, 3, 1, 2, 3, 3, 2, 3, 3, 2, 3, 4, 1, 3, 4, 1, 2, 3, 4, 1, 2, 3, 1, 2, 3, 4, 1, 2, 3, 1, 3, 1, 2, 3, 1, 2, 3, 4, 1, 2, 3, 4, 1, 3, 1, 2, 3, 4, 1, 3, 4, 1, 2, 3, 4, 2, 3, 2, 3, 1, 2, 3, 1, 2, 3, 4, 1, 2, 3, 1, 3, 4, 2, 3, 1, 2, 3, 4, 2, 3, 1, 3, 1, 2, 3, 4, 2, 3, 4, 1, 2, 3, 1, 2, 3, 1, 2, 3, 2, 3, 4, 1, 2, 3, 1, 2, 3, 1, 2, 3, 3, 1, 2, 3, 4, 2, 3, 4, 3, 4, 1, 2, 3, 4, 2, 3, 1, 2, 3, 3, 4, 1, 2, 3, 4, 1, 2, 3, 4, 1, 2, 3, 1, 2, 3, 2, 3, 1, 2, 3, 2, 3, 4, 3, 1, 2, 3, 4, 1, 2, 3, 4, 2, 3, 1, 2, 3, 4, 1, 2, 3, 3, 4, 1, 2, 3, 1, 2, 3, 1, 3, 1, 2, 3, 1, 2, 3, 1, 2, 3, 2, 3, 1, 3, 1, 3], \"Freq\": [0.00019366126710279068, 0.00019366126710279068, 0.9996794607846055, 0.9997379292103334, 0.00012312043463181445, 0.9996767810257865, 0.0002444496346804711, 0.03155564422125548, 0.9681918942347257, 8.091190825962942e-05, 0.00016182381651925885, 0.9995995929587442, 0.0001739947072164916, 0.0001739947072164916, 0.029379951540340305, 0.0009477403722690421, 0.00047387018613452103, 0.9690645306450956, 0.0131828474022634, 0.14443815414653813, 0.00019105575945309276, 0.8421737876692329, 0.9911808578953369, 0.008773938437801047, 4.5697596030213784e-05, 0.0022848281641998686, 4.569656328399737e-05, 4.569656328399737e-05, 0.9976473696162307, 0.9968031416186469, 0.9999248253138385, 4.879586303503018e-05, 0.001082557452886125, 0.9981179715610072, 0.9978851889072541, 0.0018266249110511698, 0.000182662491105117, 0.9997209455411639, 0.9999006103519857, 3.089832237421544e-05, 6.179664474843088e-05, 0.9994159310359586, 0.9994879433180972, 0.00024165569229160958, 0.9968031416186469, 0.8243505324692085, 8.630135390171781e-05, 0.17553695383609402, 0.0046934577323575945, 0.015019064743544301, 0.9775131468577338, 0.0028160746394145565, 0.00019520568119321598, 9.760284059660799e-05, 0.999648293390459, 0.014951881561152736, 0.9849458059555337, 7.513508322187304e-05, 0.0004224721318691294, 0.999146591870491, 0.08137445570418986, 0.9185201875817313, 9.630113101087558e-05, 9.630113101087558e-05, 0.00010026075486327808, 0.999800247496609, 0.9996457039168558, 2.8487239004783443e-05, 0.00031335962905261786, 0.7061954044067545, 0.2938042720696779, 0.00019520568119321598, 9.760284059660799e-05, 0.999648293390459, 0.9996474076952026, 0.00025651716902622596, 0.0036733349420807492, 0.9918004343618023, 0.002180559190922489, 0.9965155502515776, 0.9999384499123479, 4.59826381823024e-05, 0.007773512917250179, 1.1217190356782365e-05, 0.9922053558188274, 0.00019520568119321598, 9.760284059660799e-05, 0.999648293390459, 0.0026851851112143564, 0.9970427966077806, 0.00016782406945089727, 0.9989689296550598, 0.0008363071826329509, 0.22864919230539105, 0.7712502376440595, 5.597287449336378e-05, 0.0927058922169327, 0.00024017070522521427, 0.9068845829304091, 0.00046464608696858607, 0.00046464608696858607, 0.99898908698246, 0.996050059738488, 0.0037490335866974746, 0.00017041061757715791, 0.00030615270874479004, 0.9995885940517395, 6.123054174895801e-05, 0.9996457768502887, 0.00020696599934788586, 0.999316686347342, 0.0002991070596669686, 0.0003168958691105515, 0.9995687951419572, 7.922396727763788e-05, 0.999414450386636, 0.0003205306126961629, 0.9995887355343829, 0.00022225430473249202, 0.00011112715236624601, 0.00011112715236624601, 0.005840531446897666, 0.9928903459726032, 0.0016149637070035177, 0.0003229927414007035, 0.9980475709281739, 0.00032971341262639186, 0.9993613536705938, 0.002063560248973093, 0.0005158900622432732, 0.9972154903162471, 0.9930851626541356, 0.006755015400545678, 9.789877392095186e-05, 0.9998984027857615, 4.871137539756231e-05, 0.9995682249520655, 0.00019914178124484492, 0.9996917418491215, 0.3854203894037306, 0.5670642671714833, 0.04751758225525445, 0.9968031416186469, 0.00027006339152593024, 0.9996396437332307, 0.999781054209988, 0.0001688058961408129, 5.626863204693764e-05, 0.9997748015207971, 0.0001473290305807246, 0.09874119846598216, 0.00011169818830993457, 0.00011169818830993457, 0.9010692850962421, 0.0012448317586401653, 0.9986662783690726, 0.0004039526742522344, 0.0018177870341350548, 0.0002019763371261172, 0.9975611290658929, 0.9984300262554024, 0.009052142435534963, 0.9895572214845919, 0.00014368480056404704, 0.0012931632050764232, 0.0013067504412878185, 0.9986606899249065, 2.3334829308711046e-05, 0.0006187114054924456, 0.9990642420189265, 0.0001546778513731114, 0.9995279500038153, 0.00033939828523049757, 0.0005064712200271766, 0.0020258848801087063, 0.0005064712200271766, 0.9972418322335107, 0.0002722740169894208, 0.0002722740169894208, 0.9995179163681637, 0.009987733044971737, 0.9898099543286094, 0.9997765135468213, 0.0001382816754559919, 0.9615332523982946, 0.03825306341732634, 0.00010625850949257317, 0.00010625850949257317, 0.7228985631456475, 0.2770636415321096, 0.8856656829615086, 0.11431195047227545, 0.9991638713131119, 4.224615751186469e-05, 4.224615751186469e-05, 0.0007181846777016997, 0.9595224937634521, 0.03936837161309868, 0.00010875240777099083, 0.0010875240777099085, 0.01396108455868701, 0.985938519767999, 8.410291902823501e-05, 0.00019520568119321598, 9.760284059660799e-05, 0.999648293390459, 0.9693354182547437, 6.299294373893578e-05, 0.03055157771338385, 0.9451501520488719, 0.05318279490965547, 5.568879048131463e-05, 0.0016149749239581241, 0.003730073291465952, 0.9962470218674914, 0.9866818124669178, 0.01312361802684011, 0.00013391446966163378, 0.9996617350953907, 0.00024960342948698893, 0.000235616354827824, 0.9994845771796295, 0.9994466774880879, 0.0008854136917133382, 4.21625567482542e-05, 0.9990417821498834, 0.009809987165693807, 0.9901202835830959, 0.999724116963966, 0.00017983884097211118, 0.9818596377882838, 0.017837177115851338, 9.054404627335705e-05, 0.0001810880925467141, 0.9992115642214637, 0.00036124785402077503, 0.99960190692147, 0.0002826129225110178, 0.60259551604854, 0.38951907573359035, 5.558999225540037e-05, 0.007838188908011452, 0.9995347002277665, 0.0002886326018561266, 0.00016450135699051273, 0.9995102450743554, 0.00032900271398102546, 0.00016450135699051273, 0.00014170278623209612, 0.9998194339571123, 3.542569655802403e-05, 0.9998836305916045, 7.446258792013736e-05, 0.3733544343232167, 0.0005903445613525357, 2.5667154841414596e-05, 0.626021906582102, 0.9998856666753383, 4.860184060056084e-05, 4.860184060056084e-05, 0.0018273943252705453, 0.0018273943252705453, 0.9959299072724471, 0.9737709559943631, 0.00012048638406265319, 6.0243192031326596e-05, 0.02602505895753309, 8.154295784794426e-05, 0.9998797491314925, 0.9999745214334181, 1.3772615506065865e-05, 0.9999299598809546, 5.257808181096617e-05, 0.9944854852302708, 0.0054249545778156825, 5.371242156253151e-05, 5.371242156253151e-05, 0.006281746323190092, 0.0007852182903987615, 0.9927776584941675, 0.9997593415846335, 0.0001697672510756722, 0.11351684526508289, 0.8865430457896398, 0.9996591405194989, 0.00015715440033320214, 0.03195274116871366, 0.9680330458296209, 0.0018453101280801651, 0.0008567511308943624, 0.9972583163610378, 0.9490875644483932, 0.05086365059052075, 0.02254753870850136, 0.9772747491656161, 0.0001288430783342935, 0.9997108776345534, 0.0001514025257662507, 0.9997081265747446, 0.00018933866033612586, 0.00018092630815452442, 0.9996178525537474, 0.00018092630815452442, 0.0025651848884029205, 0.9971818729338933, 0.00013500973096857477, 0.002839768654667551, 0.8766208072033471, 7.88824626296542e-05, 0.1203746379728523, 0.00019520568119321598, 9.760284059660799e-05, 0.999648293390459, 0.8192650418269739, 0.12434755760937337, 4.8271567394943074e-05, 0.05633291914989857, 0.5669488478948386, 0.43295649468290875, 4.197755426438906e-05, 0.9999131896894192, 4.879053331167265e-05, 0.9997081265747446, 0.00018933866033612586, 0.9994806058329443, 0.00023768861018619365, 0.9892138393057205, 1.653291393220665e-05, 0.01076292696986653, 0.00048228681767394825, 0.9993947435839556, 0.00012431065689049277, 0.00012431065689049277, 0.9997063027133428, 0.016040362259332735, 0.01214484571063764, 0.9715876568510112, 0.8353110022870383, 0.162395415643728, 0.0023188992863004444, 0.02643696291328779, 0.973412198487124, 8.060049668685303e-05, 0.0003907044395005002, 0.9994219562422795, 0.0001953522197502501, 0.9995948098571199, 0.9991820355046149, 0.0005997491209511494, 0.9999694323623075, 0.0008953643909435644, 0.0004476821954717822, 0.9983312959020743, 0.999153979053564, 0.00022114961909109427, 0.00044229923818218855, 0.09452610548783981, 0.004575365385389452, 4.716871531329332e-05, 0.9008752937685891, 0.001096817341819086, 0.00043872693672763444, 0.9983231445237322, 0.00040395287714236776, 0.0018177879471406547, 0.00020197643857118388, 0.9975616301030771, 0.03008646771128066, 0.9698731038965979, 5.73075575452965e-05, 0.9993325284558436, 0.00030091313714418656, 0.99585846534708, 0.003994298352908231, 0.00015977193411632922, 0.0002113717119201525, 0.00169097369536122, 0.0002113717119201525, 0.9978858519750399, 0.9980186127965239, 0.0017130915968471302, 0.00014275763307059419, 0.00014275763307059419, 0.9995811037694238, 0.0002281627719172389, 0.00667136347302549, 4.304105466468058e-05, 4.304105466468058e-05, 0.9932584184968338, 0.09943357652317018, 0.00024075926518927405, 0.9001988925426957, 0.0026046661320722453, 0.0016399749720454877, 0.9956577462636164, 9.646911600267574e-05, 0.9994958790327718, 0.0003285653777228047, 0.9997081265747446, 0.00018933866033612586, 0.9978137717895896, 0.0017946290859524995, 0.00019940323177249994, 0.999355531492265, 0.00014627569254863364, 0.0002925513850972673, 0.0002925513850972673, 0.023750119937476243, 0.9760455381411556, 0.00012055898445419413, 0.029796680483077015, 0.00017424959346828663, 0.9700474868379516, 0.9994672634650423, 0.00036731615709850875, 0.00040395287714236776, 0.0018177879471406547, 0.00020197643857118388, 0.9975616301030771, 0.9999119195809452, 4.4466221353713046e-05, 0.0061671424232940504, 0.993790950496527, 0.9732365853456821, 6.705502172700029e-05, 0.005364401738160022, 0.02132349690918609, 0.006591200387421672, 0.0001292392232827779, 0.993203430928148, 0.0002353529516180627, 0.9993086325702942, 0.0002353529516180627, 0.010420640259911167, 0.989461204953072, 7.137424835555594e-05, 0.001096817341819086, 0.00043872693672763444, 0.9983231445237322, 0.0016158740567505927, 0.0016158740567505927, 0.9969942930151157, 0.0004899181489149463, 0.9994707097979455, 3.768601145499587e-05, 0.00105284257877526, 0.9987966597314633, 0.00017547376312921, 0.00019520568119321598, 9.760284059660799e-05, 0.999648293390459, 0.9994720589381034, 0.0829580369256886, 0.9168565422387666, 8.304107800369228e-05, 8.304107800369228e-05, 0.0008953643909435644, 0.0004476821954717822, 0.9983312959020743, 0.0013624916626555938, 0.9973438970638946, 0.9685974657032362, 0.031133489969032594, 0.00011530922210752813, 0.00011530922210752813, 0.9996081942961075, 0.00018524985068497173, 0.04913821510250309, 0.9507876545816726, 4.600956470271825e-05, 0.0033756206619301545, 0.9924324746074654, 0.0022848281641998686, 4.569656328399737e-05, 4.569656328399737e-05, 0.9976473696162307, 0.5368486635170704, 0.012347950003334596, 0.00014358081399226273, 0.45070017512171273, 0.001096817341819086, 0.00043872693672763444, 0.9983231445237322, 0.9986835936456655, 0.0011655723639365856, 0.00010596112399423507, 0.37272644702203966, 0.627231289702287, 0.00023577425703387916, 0.0009430970281355166, 0.9987397527955122, 0.9914320004541576, 0.007783139105620536, 0.0007870590106807284, 0.9995373491391236, 0.0025243729330937073, 0.9953453982663011, 0.00014849252547610042, 0.0019304028311893054, 0.005646705501163274, 0.010164069902093894, 0.001129341100232655, 0.9836560983026423, 0.9998851986201541, 9.145570279156261e-05, 0.0764919726676793, 0.9218539616804355, 8.977931064281609e-05, 0.0016160275915706895, 0.8825469318366683, 0.11732748055870156, 9.252955880023782e-05, 0.0032424848381649887, 0.9954428453166515, 0.03900158920734634, 0.9608272866589476, 0.00011017398081171282, 8.650157940981733e-05, 0.00043250789704908665, 0.9994824992907344, 0.9998560547744612, 9.325275646096449e-05, 0.00037031766521417167, 0.9995614419460922, 7.406353304283433e-05, 5.7220664650094725e-05, 0.9998738940957552, 5.7220664650094725e-05, 0.08735553598172101, 0.9124726081360423, 0.0001586839890676131, 0.9999120675154762, 4.842423688873438e-05, 0.9993227361247787, 0.00028940710574132026, 0.9994500206202837, 0.0002436494443247888], \"Term\": [\"ability\", \"ability\", \"ability\", \"action\", \"action\", \"activist\", \"activist\", \"ad\", \"ad\", \"ad\", \"ad\", \"address\", \"address\", \"address\", \"already\", \"already\", \"already\", \"already\", \"ambitious\", \"ambitious\", \"ambitious\", \"ambitious\", \"amp\", \"amp\", \"amp\", \"amy_coney\", \"amy_coney\", \"amy_coney\", \"amy_coney\", \"appealedchevron\", \"assessment\", \"assessment\", \"attempt\", \"attempt\", \"back\", \"back\", \"back\", \"biden\", \"big\", \"big\", \"big\", \"bill\", \"board\", \"board\", \"boardford_announce\", \"break\", \"break\", \"break\", \"broad_question\", \"broad_question\", \"broad_question\", \"broad_question\", \"buildings_california\", \"buildings_california\", \"buildings_california\", \"business\", \"business\", \"business\", \"call\", \"call\", \"capitalism\", \"capitalism\", \"capitalism\", \"capitalism\", \"capture\", \"capture\", \"case\", \"case\", \"case\", \"chevron\", \"chevron\", \"china_propose\", \"china_propose\", \"china_propose\", \"clean\", \"clean\", \"coalition\", \"coalition\", \"combat\", \"combat\", \"commit\", \"commit\", \"company\", \"company\", \"company\", \"conoco_rating\", \"conoco_rating\", \"conoco_rating\", \"conservative\", \"conservative\", \"conservative\", \"court\", \"court\", \"crisis\", \"crisis\", \"crisis\", \"crisisanother_sign\", \"crisisanother_sign\", \"crisisanother_sign\", \"criticize\", \"criticize\", \"criticize\", \"dark\", \"dark\", \"dark\", \"datum\", \"datum\", \"datum\", \"day\", \"day\", \"deal\", \"deal\", \"decade\", \"decade\", \"decade\", \"demand\", \"demand\", \"deni\", \"deni\", \"deni\", \"deni\", \"detail\", \"detail\", \"develop\", \"develop\", \"develop\", \"director\", \"director\", \"early\", \"early\", \"early\", \"earth\", \"earth\", \"earth\", \"ecocide\", \"ecocide\", \"ecuador\", \"effort\", \"effort\", \"emission\", \"emission\", \"emission\", \"emissionsexxon_get\", \"end\", \"end\", \"energy\", \"energy\", \"energy\", \"enough\", \"enough\", \"environmental\", \"environmental\", \"environmental\", \"environmental\", \"era\", \"era\", \"essential\", \"essential\", \"essential\", \"essential\", \"exit\", \"extend\", \"extend\", \"extend\", \"extend\", \"exxon\", \"exxon\", \"exxon\", \"facebook\", \"facebook\", \"facebook\", \"far\", \"far\", \"federal\", \"federal\", \"federal\", \"federal\", \"fight\", \"fight\", \"fight\", \"fire\", \"fire\", \"firm\", \"firm\", \"former\", \"former\", \"former\", \"former\", \"fossil\", \"fossil\", \"fuel\", \"fuel\", \"fund\", \"fund\", \"fund\", \"fund\", \"funding\", \"funding\", \"funding\", \"funding\", \"future\", \"future\", \"future\", \"germany_earmark\", \"germany_earmark\", \"germany_earmark\", \"giant\", \"giant\", \"giant\", \"give\", \"give\", \"give\", \"give\", \"go\", \"go\", \"good\", \"good\", \"good\", \"green\", \"green\", \"group\", \"group\", \"halve\", \"hear\", \"hear\", \"hear\", \"history\", \"history\", \"hold\", \"hold\", \"huge\", \"huge\", \"huge\", \"huge\", \"impact\", \"impact\", \"include\", \"include\", \"industry\", \"industry\", \"industry\", \"industry\", \"invest\", \"invest\", \"investigation\", \"investigation\", \"investigation\", \"investigation\", \"investment\", \"investment\", \"investment\", \"investor\", \"investor\", \"involve\", \"involve\", \"involve\", \"involve\", \"job\", \"job\", \"job\", \"join\", \"join\", \"join\", \"judge\", \"judge\", \"judge\", \"judge\", \"kill\", \"kill\", \"know\", \"know\", \"large\", \"large\", \"law\", \"law\", \"law\", \"law\", \"legislation\", \"legislation\", \"legislation\", \"liberal\", \"liberal\", \"likely\", \"likely\", \"long\", \"long\", \"lose\", \"lose\", \"lower\", \"lower\", \"lower\", \"major\", \"major\", \"massive\", \"massive\", \"massive\", \"member\", \"member\", \"microtargeting\", \"microtargeting\", \"mitigate\", \"mitigate\", \"mitigate\", \"model\", \"model\", \"model\", \"much\", \"much\", \"much\", \"much\", \"multiministry\", \"multiministry\", \"multiministry\", \"need\", \"need\", \"need\", \"need\", \"new\", \"new\", \"new\", \"nowexxon\", \"nowexxon\", \"nyu_project\", \"nyu_project\", \"obstruction\", \"obstruction\", \"oil\", \"oil\", \"oil\", \"order\", \"order\", \"output\", \"output\", \"output\", \"participate\", \"participate\", \"participate\", \"people\", \"people\", \"people\", \"planet\", \"planet\", \"planet\", \"planetand\", \"planetand\", \"planetand\", \"planetdutch\", \"play\", \"play\", \"point\", \"policymaker\", \"policymaker\", \"policymaker\", \"pressure\", \"pressure\", \"pressure\", \"previous\", \"previous\", \"previous\", \"previous\", \"produces_pollution\", \"produces_pollution\", \"produces_pollution\", \"projects_technology\", \"projects_technology\", \"projects_technology\", \"projects_technology\", \"public\", \"public\", \"public\", \"push\", \"push\", \"put\", \"put\", \"put\", \"quietly_shelve\", \"quietly_shelve\", \"quietly_shelve\", \"quietly_shelve\", \"quit\", \"quit\", \"quit\", \"quit\", \"reckon\", \"reckon\", \"recuse\", \"recuse\", \"recuse\", \"recuse\", \"reel\", \"reel\", \"reel\", \"regulate\", \"regulate\", \"regulate\", \"regulate\", \"regulation\", \"regulation\", \"regulation_report\", \"regulation_report\", \"remain\", \"remain\", \"remain\", \"renewable\", \"renewable\", \"renewable\", \"renewable\", \"report\", \"report\", \"report\", \"respond\", \"respond\", \"respond\", \"reveal\", \"reveal\", \"reversing\", \"reversing\", \"reversing\", \"reversing\", \"rise\", \"rise\", \"save\", \"save\", \"say\", \"say\", \"say\", \"say\", \"science\", \"science\", \"science\", \"scoopthis\", \"scoopthis\", \"scoopthis\", \"see\", \"see\", \"see\", \"seems_dubious\", \"seems_dubious\", \"seems_dubious\", \"senior\", \"senior\", \"senior\", \"show\", \"show\", \"show\", \"shut\", \"shut\", \"shut\", \"singapore_launche\", \"singapore_launche\", \"singapore_launche\", \"slam\", \"solar\", \"solar\", \"solar\", \"solar\", \"solutionsme\", \"solutionsme\", \"solutionsme\", \"speak\", \"speak\", \"stepping\", \"stepping\", \"stepping\", \"stepping\", \"still\", \"still\", \"strategy\", \"strategy\", \"strategy\", \"strenuous_objection\", \"strenuous_objection\", \"stricter_ethic\", \"stricter_ethic\", \"stricter_ethic\", \"stricter_ethic\", \"support\", \"support\", \"support\", \"support\", \"tb_combine\", \"tb_combine\", \"tb_combine\", \"thank\", \"thank\", \"thank\", \"today\", \"today\", \"trip\", \"trip\", \"trip\", \"try\", \"try\", \"try\", \"turning\", \"twoand\", \"twoand\", \"twoand\", \"twoand\", \"tyson\", \"tyson\", \"tyson\", \"tyson\", \"use\", \"use\", \"valuable\", \"valuable\", \"valuable\", \"valuable\", \"want\", \"want\", \"want\", \"watershed\", \"watershed\", \"way\", \"way\", \"way\", \"week\", \"week\", \"week\", \"win\", \"win\", \"work\", \"work\", \"work\", \"world\", \"world\", \"world\", \"year\", \"year\", \"year\", \"yearly\", \"yearly\", \"yesterday\", \"yesterday\", \"young_engineer\", \"young_engineer\"]}, \"R\": 30, \"lambda.step\": 0.01, \"plot.opts\": {\"xlab\": \"PC1\", \"ylab\": \"PC2\"}, \"topic.order\": [4, 2, 1, 3]};\n",
       "\n",
       "function LDAvis_load_lib(url, callback){\n",
       "  var s = document.createElement('script');\n",
       "  s.src = url;\n",
       "  s.async = true;\n",
       "  s.onreadystatechange = s.onload = callback;\n",
       "  s.onerror = function(){console.warn(\"failed to load library \" + url);};\n",
       "  document.getElementsByTagName(\"head\")[0].appendChild(s);\n",
       "}\n",
       "\n",
       "if(typeof(LDAvis) !== \"undefined\"){\n",
       "   // already loaded: just create the visualization\n",
       "   !function(LDAvis){\n",
       "       new LDAvis(\"#\" + \"ldavis_el919491404498366141445865500107\", ldavis_el919491404498366141445865500107_data);\n",
       "   }(LDAvis);\n",
       "}else if(typeof define === \"function\" && define.amd){\n",
       "   // require.js is available: use it to load d3/LDAvis\n",
       "   require.config({paths: {d3: \"https://d3js.org/d3.v5\"}});\n",
       "   require([\"d3\"], function(d3){\n",
       "      window.d3 = d3;\n",
       "      LDAvis_load_lib(\"https://cdn.jsdelivr.net/gh/bmabey/pyLDAvis@3.3.1/pyLDAvis/js/ldavis.v3.0.0.js\", function(){\n",
       "        new LDAvis(\"#\" + \"ldavis_el919491404498366141445865500107\", ldavis_el919491404498366141445865500107_data);\n",
       "      });\n",
       "    });\n",
       "}else{\n",
       "    // require.js not available: dynamically load d3 & LDAvis\n",
       "    LDAvis_load_lib(\"https://d3js.org/d3.v5.js\", function(){\n",
       "         LDAvis_load_lib(\"https://cdn.jsdelivr.net/gh/bmabey/pyLDAvis@3.3.1/pyLDAvis/js/ldavis.v3.0.0.js\", function(){\n",
       "                 new LDAvis(\"#\" + \"ldavis_el919491404498366141445865500107\", ldavis_el919491404498366141445865500107_data);\n",
       "            })\n",
       "         });\n",
       "}\n",
       "</script>"
      ],
      "text/plain": [
       "PreparedData(topic_coordinates=              x         y  topics  cluster       Freq\n",
       "topic                                                \n",
       "3      0.180466 -0.070561       1        1  39.877002\n",
       "1      0.261750 -0.091714       2        1  37.403549\n",
       "0     -0.337824 -0.229962       3        1  12.012374\n",
       "2     -0.104392  0.392237       4        1  10.707075, topic_info=                     Term          Freq         Total Category  logprob  \\\n",
       "3                 company  89148.000000  89148.000000  Default  30.0000   \n",
       "51                     go  37800.000000  37800.000000  Default  29.0000   \n",
       "79                   know  72607.000000  72607.000000  Default  28.0000   \n",
       "1790              involve  38960.000000  38960.000000  Default  27.0000   \n",
       "900                  hear  23717.000000  23717.000000  Default  26.0000   \n",
       "...                   ...           ...           ...      ...      ...   \n",
       "17146  crisisanother_sign   3776.347517   4163.705141   Topic4  -4.6657   \n",
       "9490                 reel   3738.761184   4153.526549   Topic4  -4.6757   \n",
       "3032            ambitious   4408.288829   5234.074088   Topic4  -4.5110   \n",
       "1790              involve  24389.929135  38960.297944   Topic4  -2.8003   \n",
       "437               support   3139.241442   6964.718838   Topic4  -4.8505   \n",
       "\n",
       "       loglift  \n",
       "3      30.0000  \n",
       "51     29.0000  \n",
       "79     28.0000  \n",
       "1790   27.0000  \n",
       "900    26.0000  \n",
       "...        ...  \n",
       "17146   2.1366  \n",
       "9490    2.1291  \n",
       "3032    2.0626  \n",
       "1790    1.7659  \n",
       "437     1.4374  \n",
       "\n",
       "[232 rows x 6 columns], token_table=       Topic      Freq            Term\n",
       "term                                  \n",
       "3105       1  0.000194         ability\n",
       "3105       2  0.000194         ability\n",
       "3105       3  0.999679         ability\n",
       "0          2  0.999738          action\n",
       "0          3  0.000123          action\n",
       "...      ...       ...             ...\n",
       "484        3  0.000048          yearly\n",
       "2312       1  0.999323       yesterday\n",
       "2312       3  0.000289       yesterday\n",
       "17731      1  0.999450  young_engineer\n",
       "17731      3  0.000244  young_engineer\n",
       "\n",
       "[537 rows x 3 columns], R=30, lambda_step=0.01, plot_opts={'xlab': 'PC1', 'ylab': 'PC2'}, topic_order=[4, 2, 1, 3])"
      ]
     },
     "execution_count": 80,
     "metadata": {},
     "output_type": "execute_result"
    }
   ],
   "source": [
    "# Visualize the topics\n",
    "pyLDAvis.enable_notebook()\n",
    "vis = pyLDAvis.gensim_models.prepare(lda_model, corpus, id2word)\n",
    "vis"
   ]
  },
  {
   "cell_type": "markdown",
   "id": "376f4e9e-9158-4afc-933d-8571b63db883",
   "metadata": {
    "tags": []
   },
   "source": [
    "### find the optimal number of topics"
   ]
  },
  {
   "cell_type": "code",
   "execution_count": 46,
   "id": "7ad00526-2503-4f3f-9f45-cbf49d3eb72e",
   "metadata": {},
   "outputs": [],
   "source": [
    "def compute_coherence_values(dictionary, corpus, texts, limit, start=2, step=3):\n",
    "    \"\"\"\n",
    "    Compute c_v coherence for various number of topics\n",
    "\n",
    "    Parameters:\n",
    "    ----------\n",
    "    dictionary : Gensim dictionary\n",
    "    corpus : Gensim corpus\n",
    "    texts : List of input texts\n",
    "    limit : Max num of topics\n",
    "\n",
    "    Returns:\n",
    "    -------\n",
    "    model_list : List of LDA topic models\n",
    "    coherence_values : Coherence values corresponding to the LDA model with respective number of topics\n",
    "    \"\"\"\n",
    "    coherence_values = []\n",
    "    model_list = []\n",
    "    for num_topics in range(start, limit, step):\n",
    "        model = gensim.models.ldamodel.LdaModel(corpus=corpus, num_topics=num_topics, id2word=id2word)\n",
    "        model_list.append(model)\n",
    "        coherencemodel = CoherenceModel(model=model, texts=texts, dictionary=dictionary, coherence='c_v')\n",
    "        coherence_values.append(coherencemodel.get_coherence())\n",
    "\n",
    "    return model_list, coherence_values"
   ]
  },
  {
   "cell_type": "code",
   "execution_count": 65,
   "id": "3900923d-71e3-48cc-9874-a5c45678b06e",
   "metadata": {},
   "outputs": [],
   "source": [
    "# Can take a long time to run.\n",
    "model_list, coherence_values = compute_coherence_values(dictionary=id2word, corpus=corpus, texts=tweet_lemmatized, start=2, limit=4, step=1)"
   ]
  },
  {
   "cell_type": "code",
   "execution_count": 66,
   "id": "3415d926-fdd9-4d0e-8d5e-7620b147d78b",
   "metadata": {},
   "outputs": [
    {
     "data": {
      "image/png": "[encoded data removed]",
      "text/plain": [
       "<Figure size 432x288 with 1 Axes>"
      ]
     },
     "metadata": {
      "needs_background": "light"
     },
     "output_type": "display_data"
    }
   ],
   "source": [
    "# Show graph\n",
    "limit=20; start=2; step=1;\n",
    "x = range(start, limit, step)\n",
    "plt.plot(x, coherence_values)\n",
    "plt.xlabel(\"Num Topics\")\n",
    "plt.ylabel(\"Coherence score\")\n",
    "plt.legend((\"coherence_values\"), loc='best')\n",
    "plt.show()"
   ]
  },
  {
   "cell_type": "code",
   "execution_count": 51,
   "id": "fa752331-e3ad-4d55-8b56-b4b5b2be33b2",
   "metadata": {},
   "outputs": [
    {
     "name": "stdout",
     "output_type": "stream",
     "text": [
      "Num Topics = 2  has Coherence Value of 0.3276\n",
      "Num Topics = 4  has Coherence Value of 0.4217\n",
      "Num Topics = 6  has Coherence Value of 0.3506\n",
      "Num Topics = 8  has Coherence Value of 0.3606\n"
     ]
    }
   ],
   "source": [
    "# Print the coherence scores\n",
    "for m, cv in zip(x, coherence_values):\n",
    "    print(\"Num Topics =\", m, \" has Coherence Value of\", round(cv, 4))"
   ]
  },
  {
   "cell_type": "code",
   "execution_count": null,
   "id": "fedbb57d-9e13-4b1d-a5cc-9c1c7cce6284",
   "metadata": {},
   "outputs": [],
   "source": []
  }
 ],
 "metadata": {
  "kernelspec": {
   "display_name": "Python 3 (ipykernel)",
   "language": "python",
   "name": "python3"
  },
  "language_info": {
   "codemirror_mode": {
    "name": "ipython",
    "version": 3
   },
   "file_extension": ".py",
   "mimetype": "text/x-python",
   "name": "python",
   "nbconvert_exporter": "python",
   "pygments_lexer": "ipython3",
   "version": "3.9.7"
  }
 },
 "nbformat": 4,
 "nbformat_minor": 5
}
