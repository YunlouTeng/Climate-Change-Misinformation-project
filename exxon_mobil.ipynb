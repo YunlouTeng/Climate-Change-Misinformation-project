{
 "cells": [
  {
   "cell_type": "code",
   "execution_count": 1,
   "id": "db116a99-ebd1-47c9-8981-4f4030e438f6",
   "metadata": {
    "jp-MarkdownHeadingCollapsed": true,
    "tags": []
   },
   "outputs": [],
   "source": [
    "### Library"
   ]
  },
  {
   "cell_type": "code",
   "execution_count": 79,
   "id": "3911a094-8aa5-4ad9-b24a-00fa2046e847",
   "metadata": {},
   "outputs": [],
   "source": [
    "import re\n",
    "import os\n",
    "import json\n",
    "import numpy as np\n",
    "import pandas as pd\n",
    "from pprint import pprint\n",
    "import seaborn as sns\n",
    "\n",
    "# NLTK Stop words\n",
    "import nltk\n",
    "from nltk import word_tokenize, FreqDist\n",
    "from nltk.corpus import stopwords\n",
    "from nltk.stem import WordNetLemmatizer\n",
    "from nltk.tokenize import TweetTokenizer\n",
    "\n",
    "# spacy for lemmatization\n",
    "import spacy\n",
    "\n",
    "#remove urls, mentions, emojis \n",
    "import preprocessor as p\n",
    "\n",
    "# Gensim\n",
    "import gensim\n",
    "import gensim.corpora as corpora\n",
    "from gensim.utils import simple_preprocess\n",
    "from gensim.models import CoherenceModel\n",
    "\n",
    "# Plotting tools\n",
    "import pyLDAvis\n",
    "import pyLDAvis.gensim_models  \n",
    "import matplotlib.pyplot as plt"
   ]
  },
  {
   "cell_type": "code",
   "execution_count": 3,
   "id": "01936baf-d833-49d0-9aca-11cfeceac718",
   "metadata": {},
   "outputs": [],
   "source": [
    "filepath = '/Users/lavine/Desktop/Terriers!/misinformation project/data/data.txt'"
   ]
  },
  {
   "cell_type": "markdown",
   "id": "2c5aa15e-14fe-4d05-9462-3e5b84aed595",
   "metadata": {
    "tags": []
   },
   "source": [
    "### Create a dataframe by every columns"
   ]
  },
  {
   "cell_type": "code",
   "execution_count": 4,
   "id": "1d9ce5af-9975-4db1-bf43-64d4a2f34184",
   "metadata": {},
   "outputs": [],
   "source": [
    "#load all the JSON objects in one list as dictionaries\n",
    "data = []\n",
    "with open(filepath,'r') as f:\n",
    "    for line in f:\n",
    "        data.append(json.loads(line))"
   ]
  },
  {
   "cell_type": "markdown",
   "id": "461a17e1-b7bd-41f8-852d-3260c48784ee",
   "metadata": {},
   "source": [
    " #### Put the text data in one list"
   ]
  },
  {
   "cell_type": "code",
   "execution_count": 5,
   "id": "5f5f8967-f8d6-4a4f-a72b-a71ba0eaba60",
   "metadata": {},
   "outputs": [],
   "source": [
    "lst_o_text = []\n",
    "\n",
    "#create lists for id, author id and conversation\n",
    "lst_id = []\n",
    "lst_lang = []\n",
    "lst_author_id = []\n",
    "lst_conversation_id = []\n",
    "\n",
    "#lst verified or not, author name and author username\n",
    "lst_author_verified = []\n",
    "lst_author_name = []\n",
    "lst_author_username = []\n",
    "\n",
    "#list creation time\n",
    "lst_twt_creation_time = []\n",
    "\n",
    "for i in data:\n",
    "    if not 'referenced_tweets' in i:\n",
    "        lst_o_text.append(i['text'])\n",
    "        lst_id.append(i['id'])\n",
    "        lst_lang.append(i['lang'])\n",
    "        lst_author_id.append(i['author_id'])\n",
    "        lst_conversation_id.append(i['conversation_id'])\n",
    "        lst_author_verified.append(i['author']['verified'])\n",
    "        lst_author_name.append(i['author']['name'])\n",
    "        lst_author_username.append(i['author']['username'])\n",
    "        lst_twt_creation_time.append(i['created_at'])"
   ]
  },
  {
   "cell_type": "markdown",
   "id": "8768c389-a75e-45af-be8b-cf8940199c75",
   "metadata": {},
   "source": [
    " #### Put the author info in list"
   ]
  },
  {
   "cell_type": "code",
   "execution_count": 6,
   "id": "f3ad13fe-db12-4fe4-a859-87dd1586bebe",
   "metadata": {},
   "outputs": [
    {
     "data": {
      "text/plain": [
       "dict_keys(['lang', 'id', 'possibly_sensitive', 'author_id', 'text', 'referenced_tweets', 'created_at', 'source', 'entities', 'in_reply_to_user_id', 'reply_settings', 'conversation_id', 'public_metrics', 'author', 'in_reply_to_user', '__twarc'])"
      ]
     },
     "execution_count": 6,
     "metadata": {},
     "output_type": "execute_result"
    }
   ],
   "source": [
    "data[0].keys()"
   ]
  },
  {
   "cell_type": "markdown",
   "id": "78a61f6d-633b-4c1d-a9ea-0599dfeb3afd",
   "metadata": {},
   "source": [
    "##### Put what we have in one dataframe"
   ]
  },
  {
   "cell_type": "code",
   "execution_count": 7,
   "id": "3b0e8f52-6dfe-4a2b-bbb4-c5ec3fefb98a",
   "metadata": {},
   "outputs": [],
   "source": [
    "tweets = pd.DataFrame({'text': lst_o_text,\n",
    "                  'language': lst_lang,\n",
    "                  'id': lst_id,\n",
    "                  'author_id': lst_author_id,\n",
    "                  'conversation_id': lst_conversation_id,\n",
    "                  'author_verified': lst_author_verified,\n",
    "                  'author_name': lst_author_name,\n",
    "                  'author_username': lst_author_username,\n",
    "                  'twt_creation_time': lst_twt_creation_time\n",
    "                  })"
   ]
  },
  {
   "cell_type": "code",
   "execution_count": 8,
   "id": "188315ed-e472-403c-9860-0cd9bebccca0",
   "metadata": {},
   "outputs": [],
   "source": [
    "pd.set_option(\"display.max_colwidth\", 10000)"
   ]
  },
  {
   "cell_type": "code",
   "execution_count": 9,
   "id": "5e7c9a2a-cb70-427a-900a-44f7c76611c0",
   "metadata": {},
   "outputs": [],
   "source": [
    "tweets.drop(tweets[tweets['language'] != 'en'].index, inplace = True)"
   ]
  },
  {
   "cell_type": "code",
   "execution_count": 10,
   "id": "dbe06b4c-50a9-47c3-a3bc-b9802eaa7822",
   "metadata": {},
   "outputs": [
    {
     "data": {
      "text/html": [
       "<div>\n",
       "<style scoped>\n",
       "    .dataframe tbody tr th:only-of-type {\n",
       "        vertical-align: middle;\n",
       "    }\n",
       "\n",
       "    .dataframe tbody tr th {\n",
       "        vertical-align: top;\n",
       "    }\n",
       "\n",
       "    .dataframe thead th {\n",
       "        text-align: right;\n",
       "    }\n",
       "</style>\n",
       "<table border=\"1\" class=\"dataframe\">\n",
       "  <thead>\n",
       "    <tr style=\"text-align: right;\">\n",
       "      <th></th>\n",
       "      <th>text</th>\n",
       "      <th>language</th>\n",
       "      <th>id</th>\n",
       "      <th>author_id</th>\n",
       "      <th>conversation_id</th>\n",
       "      <th>author_verified</th>\n",
       "      <th>author_name</th>\n",
       "      <th>author_username</th>\n",
       "      <th>twt_creation_time</th>\n",
       "    </tr>\n",
       "  </thead>\n",
       "  <tbody>\n",
       "    <tr>\n",
       "      <th>0</th>\n",
       "      <td>'We are in a climate emergency'December wildfires ravage Colorado https://t.co/sWDkZM4Rvn Sen. Manchin, your Exxon highway bill isn't going 2save our homes or our lives,\" \"Your greed &amp;amp; corruption is not only torching our future It's burning our communities and destroying lives!</td>\n",
       "      <td>en</td>\n",
       "      <td>1477024401254092800</td>\n",
       "      <td>1009831809855688707</td>\n",
       "      <td>1477024401254092800</td>\n",
       "      <td>False</td>\n",
       "      <td>Vammek Opinion</td>\n",
       "      <td>Vammek</td>\n",
       "      <td>2021-12-31T21:10:33.000Z</td>\n",
       "    </tr>\n",
       "    <tr>\n",
       "      <th>1</th>\n",
       "      <td>#Oil business knows about the damage that It does, but this business is too much easy and lucrative  https://t.co/W7MemjJAA9 #FossilFuels \\nExxon’s Plan for Surging Carbon Emissions Revealed in Leaked Documents https://t.co/RFX8meYv11</td>\n",
       "      <td>en</td>\n",
       "      <td>1476991564803104776</td>\n",
       "      <td>590788952</td>\n",
       "      <td>1476991564803104776</td>\n",
       "      <td>False</td>\n",
       "      <td>Robert Pujol i Vives</td>\n",
       "      <td>rpujolvives</td>\n",
       "      <td>2021-12-31T19:00:04.000Z</td>\n",
       "    </tr>\n",
       "    <tr>\n",
       "      <th>2</th>\n",
       "      <td>@amywestervelt Your opinion piece concerning climate science alone motivating people to help create political change on Global Warming policy is Spot On. Informing people about the injustices Exxon and Big Oil has perpetrated on us is crucial in inspiring citizens to fight back.</td>\n",
       "      <td>en</td>\n",
       "      <td>1476962302159060992</td>\n",
       "      <td>1476958634705780736</td>\n",
       "      <td>1476962302159060992</td>\n",
       "      <td>False</td>\n",
       "      <td>Megan Robbins</td>\n",
       "      <td>MeganRo50852817</td>\n",
       "      <td>2021-12-31T17:03:48.000Z</td>\n",
       "    </tr>\n",
       "    <tr>\n",
       "      <th>3</th>\n",
       "      <td>Each year, the government gives over $15 billion in taxpayer-funded subsidies to fossil fuel corporations who contribute to the climate crisis like Exxon. \\n\\nWill you sign this petition to pressure the Senate to END fossil fuel subsidies https://t.co/2A7wLyid3X?</td>\n",
       "      <td>en</td>\n",
       "      <td>1476954565450903553</td>\n",
       "      <td>47878087</td>\n",
       "      <td>1476954565450903553</td>\n",
       "      <td>False</td>\n",
       "      <td>Jennifer Hall</td>\n",
       "      <td>JDHall_35402</td>\n",
       "      <td>2021-12-31T16:33:03.000Z</td>\n",
       "    </tr>\n",
       "    <tr>\n",
       "      <th>4</th>\n",
       "      <td>Each year, the government gives over $15 billion in taxpayer-funded subsidies to fossil fuel corporations who contribute to the climate crisis like Exxon. \\n\\nWill you sign our petition to pressure the Senate to END fossil fuel subsidies https://t.co/OD7YqPO5SP?</td>\n",
       "      <td>en</td>\n",
       "      <td>1476922966893948928</td>\n",
       "      <td>1450838788037496836</td>\n",
       "      <td>1476922966893948928</td>\n",
       "      <td>False</td>\n",
       "      <td>Dennis Landi</td>\n",
       "      <td>DennisLandi2</td>\n",
       "      <td>2021-12-31T14:27:29.000Z</td>\n",
       "    </tr>\n",
       "  </tbody>\n",
       "</table>\n",
       "</div>"
      ],
      "text/plain": [
       "                                                                                                                                                                                                                                                                                         text  \\\n",
       "0  'We are in a climate emergency'December wildfires ravage Colorado https://t.co/sWDkZM4Rvn Sen. Manchin, your Exxon highway bill isn't going 2save our homes or our lives,\" \"Your greed &amp; corruption is not only torching our future It's burning our communities and destroying lives!   \n",
       "1                                                  #Oil business knows about the damage that It does, but this business is too much easy and lucrative  https://t.co/W7MemjJAA9 #FossilFuels \\nExxon’s Plan for Surging Carbon Emissions Revealed in Leaked Documents https://t.co/RFX8meYv11   \n",
       "2     @amywestervelt Your opinion piece concerning climate science alone motivating people to help create political change on Global Warming policy is Spot On. Informing people about the injustices Exxon and Big Oil has perpetrated on us is crucial in inspiring citizens to fight back.   \n",
       "3                     Each year, the government gives over $15 billion in taxpayer-funded subsidies to fossil fuel corporations who contribute to the climate crisis like Exxon. \\n\\nWill you sign this petition to pressure the Senate to END fossil fuel subsidies https://t.co/2A7wLyid3X?   \n",
       "4                      Each year, the government gives over $15 billion in taxpayer-funded subsidies to fossil fuel corporations who contribute to the climate crisis like Exxon. \\n\\nWill you sign our petition to pressure the Senate to END fossil fuel subsidies https://t.co/OD7YqPO5SP?   \n",
       "\n",
       "  language                   id            author_id      conversation_id  \\\n",
       "0       en  1477024401254092800  1009831809855688707  1477024401254092800   \n",
       "1       en  1476991564803104776            590788952  1476991564803104776   \n",
       "2       en  1476962302159060992  1476958634705780736  1476962302159060992   \n",
       "3       en  1476954565450903553             47878087  1476954565450903553   \n",
       "4       en  1476922966893948928  1450838788037496836  1476922966893948928   \n",
       "\n",
       "   author_verified           author_name  author_username  \\\n",
       "0            False        Vammek Opinion           Vammek   \n",
       "1            False  Robert Pujol i Vives      rpujolvives   \n",
       "2            False         Megan Robbins  MeganRo50852817   \n",
       "3            False         Jennifer Hall     JDHall_35402   \n",
       "4            False          Dennis Landi     DennisLandi2   \n",
       "\n",
       "          twt_creation_time  \n",
       "0  2021-12-31T21:10:33.000Z  \n",
       "1  2021-12-31T19:00:04.000Z  \n",
       "2  2021-12-31T17:03:48.000Z  \n",
       "3  2021-12-31T16:33:03.000Z  \n",
       "4  2021-12-31T14:27:29.000Z  "
      ]
     },
     "execution_count": 10,
     "metadata": {},
     "output_type": "execute_result"
    }
   ],
   "source": [
    "tweets.head()"
   ]
  },
  {
   "cell_type": "markdown",
   "id": "87f8239d-0094-46e7-ab51-c559cb9963fa",
   "metadata": {
    "tags": []
   },
   "source": [
    "### Data preprocessing"
   ]
  },
  {
   "cell_type": "code",
   "execution_count": 11,
   "id": "7ae12cec-2bd4-43dc-bdd8-e442a6907d5d",
   "metadata": {},
   "outputs": [],
   "source": [
    "tweets['hashtag'] = tweets['text'].apply(lambda x: re.findall(r\"#(\\w+)\", x))"
   ]
  },
  {
   "cell_type": "code",
   "execution_count": 12,
   "id": "8d4bb11c-5b98-452c-8ea9-e1f0f4e36ca9",
   "metadata": {},
   "outputs": [],
   "source": [
    "#forming a separate column for cleaned tweets\n",
    "tweets['ctext'] = tweets['text'].apply(lambda x: p.clean(x))"
   ]
  },
  {
   "cell_type": "code",
   "execution_count": 13,
   "id": "9b9e878d-4990-4b58-85f2-2e42650a652f",
   "metadata": {},
   "outputs": [
    {
     "data": {
      "text/html": [
       "<div>\n",
       "<style scoped>\n",
       "    .dataframe tbody tr th:only-of-type {\n",
       "        vertical-align: middle;\n",
       "    }\n",
       "\n",
       "    .dataframe tbody tr th {\n",
       "        vertical-align: top;\n",
       "    }\n",
       "\n",
       "    .dataframe thead th {\n",
       "        text-align: right;\n",
       "    }\n",
       "</style>\n",
       "<table border=\"1\" class=\"dataframe\">\n",
       "  <thead>\n",
       "    <tr style=\"text-align: right;\">\n",
       "      <th></th>\n",
       "      <th>text</th>\n",
       "      <th>language</th>\n",
       "      <th>id</th>\n",
       "      <th>author_id</th>\n",
       "      <th>conversation_id</th>\n",
       "      <th>author_verified</th>\n",
       "      <th>author_name</th>\n",
       "      <th>author_username</th>\n",
       "      <th>twt_creation_time</th>\n",
       "      <th>hashtag</th>\n",
       "      <th>ctext</th>\n",
       "    </tr>\n",
       "  </thead>\n",
       "  <tbody>\n",
       "    <tr>\n",
       "      <th>0</th>\n",
       "      <td>'We are in a climate emergency'December wildfires ravage Colorado https://t.co/sWDkZM4Rvn Sen. Manchin, your Exxon highway bill isn't going 2save our homes or our lives,\" \"Your greed &amp;amp; corruption is not only torching our future It's burning our communities and destroying lives!</td>\n",
       "      <td>en</td>\n",
       "      <td>1477024401254092800</td>\n",
       "      <td>1009831809855688707</td>\n",
       "      <td>1477024401254092800</td>\n",
       "      <td>False</td>\n",
       "      <td>Vammek Opinion</td>\n",
       "      <td>Vammek</td>\n",
       "      <td>2021-12-31T21:10:33.000Z</td>\n",
       "      <td>[]</td>\n",
       "      <td>'We are in a climate emergency'December wildfires ravage Colorado Sen. Manchin, your Exxon highway bill isn't going save our homes or our lives,\" \"Your greed &amp;amp; corruption is not only torching our future It's burning our communities and destroying lives!</td>\n",
       "    </tr>\n",
       "    <tr>\n",
       "      <th>1</th>\n",
       "      <td>#Oil business knows about the damage that It does, but this business is too much easy and lucrative  https://t.co/W7MemjJAA9 #FossilFuels \\nExxon’s Plan for Surging Carbon Emissions Revealed in Leaked Documents https://t.co/RFX8meYv11</td>\n",
       "      <td>en</td>\n",
       "      <td>1476991564803104776</td>\n",
       "      <td>590788952</td>\n",
       "      <td>1476991564803104776</td>\n",
       "      <td>False</td>\n",
       "      <td>Robert Pujol i Vives</td>\n",
       "      <td>rpujolvives</td>\n",
       "      <td>2021-12-31T19:00:04.000Z</td>\n",
       "      <td>[Oil, FossilFuels]</td>\n",
       "      <td>business knows about the damage that It does, but this business is too much easy and lucrative Exxons Plan for Surging Carbon Emissions Revealed in Leaked Documents</td>\n",
       "    </tr>\n",
       "    <tr>\n",
       "      <th>2</th>\n",
       "      <td>@amywestervelt Your opinion piece concerning climate science alone motivating people to help create political change on Global Warming policy is Spot On. Informing people about the injustices Exxon and Big Oil has perpetrated on us is crucial in inspiring citizens to fight back.</td>\n",
       "      <td>en</td>\n",
       "      <td>1476962302159060992</td>\n",
       "      <td>1476958634705780736</td>\n",
       "      <td>1476962302159060992</td>\n",
       "      <td>False</td>\n",
       "      <td>Megan Robbins</td>\n",
       "      <td>MeganRo50852817</td>\n",
       "      <td>2021-12-31T17:03:48.000Z</td>\n",
       "      <td>[]</td>\n",
       "      <td>Your opinion piece concerning climate science alone motivating people to help create political change on Global Warming policy is Spot On. Informing people about the injustices Exxon and Big Oil has perpetrated on us is crucial in inspiring citizens to fight back.</td>\n",
       "    </tr>\n",
       "  </tbody>\n",
       "</table>\n",
       "</div>"
      ],
      "text/plain": [
       "                                                                                                                                                                                                                                                                                         text  \\\n",
       "0  'We are in a climate emergency'December wildfires ravage Colorado https://t.co/sWDkZM4Rvn Sen. Manchin, your Exxon highway bill isn't going 2save our homes or our lives,\" \"Your greed &amp; corruption is not only torching our future It's burning our communities and destroying lives!   \n",
       "1                                                  #Oil business knows about the damage that It does, but this business is too much easy and lucrative  https://t.co/W7MemjJAA9 #FossilFuels \\nExxon’s Plan for Surging Carbon Emissions Revealed in Leaked Documents https://t.co/RFX8meYv11   \n",
       "2     @amywestervelt Your opinion piece concerning climate science alone motivating people to help create political change on Global Warming policy is Spot On. Informing people about the injustices Exxon and Big Oil has perpetrated on us is crucial in inspiring citizens to fight back.   \n",
       "\n",
       "  language                   id            author_id      conversation_id  \\\n",
       "0       en  1477024401254092800  1009831809855688707  1477024401254092800   \n",
       "1       en  1476991564803104776            590788952  1476991564803104776   \n",
       "2       en  1476962302159060992  1476958634705780736  1476962302159060992   \n",
       "\n",
       "   author_verified           author_name  author_username  \\\n",
       "0            False        Vammek Opinion           Vammek   \n",
       "1            False  Robert Pujol i Vives      rpujolvives   \n",
       "2            False         Megan Robbins  MeganRo50852817   \n",
       "\n",
       "          twt_creation_time             hashtag  \\\n",
       "0  2021-12-31T21:10:33.000Z                  []   \n",
       "1  2021-12-31T19:00:04.000Z  [Oil, FossilFuels]   \n",
       "2  2021-12-31T17:03:48.000Z                  []   \n",
       "\n",
       "                                                                                                                                                                                                                                                                      ctext  \n",
       "0         'We are in a climate emergency'December wildfires ravage Colorado Sen. Manchin, your Exxon highway bill isn't going save our homes or our lives,\" \"Your greed &amp; corruption is not only torching our future It's burning our communities and destroying lives!  \n",
       "1                                                                                                      business knows about the damage that It does, but this business is too much easy and lucrative Exxons Plan for Surging Carbon Emissions Revealed in Leaked Documents  \n",
       "2  Your opinion piece concerning climate science alone motivating people to help create political change on Global Warming policy is Spot On. Informing people about the injustices Exxon and Big Oil has perpetrated on us is crucial in inspiring citizens to fight back.  "
      ]
     },
     "execution_count": 13,
     "metadata": {},
     "output_type": "execute_result"
    }
   ],
   "source": [
    "tweets.head(3)"
   ]
  },
  {
   "cell_type": "code",
   "execution_count": 14,
   "id": "bef3a4db-2aa1-412a-b4b6-6a07696d38d7",
   "metadata": {},
   "outputs": [],
   "source": [
    "#convert to list\n",
    "ctext = tweets['ctext'].tolist()"
   ]
  },
  {
   "cell_type": "code",
   "execution_count": 71,
   "id": "f210384d-bd53-4a61-b085-e7e1545ee33f",
   "metadata": {},
   "outputs": [],
   "source": [
    "nctext = tweets['text'].tolist()\n",
    "tweetid = tweets['id'].tolist()\n",
    "authorid = tweets['author_id'].tolist()\n",
    "authorname = tweets['author_name'].tolist()\n",
    "authorusername = tweets['author_username'].tolist()"
   ]
  },
  {
   "cell_type": "code",
   "execution_count": 16,
   "id": "25ad07de-a943-4a3d-a64e-0a555ecc16d5",
   "metadata": {},
   "outputs": [
    {
     "name": "stderr",
     "output_type": "stream",
     "text": [
      "<>:2: DeprecationWarning: invalid escape sequence \\s\n",
      "<>:2: DeprecationWarning: invalid escape sequence \\s\n",
      "/var/folders/kg/0ndh6pln2x7b6rpm16twhvpc0000gn/T/ipykernel_48789/1351202947.py:2: DeprecationWarning: invalid escape sequence \\s\n",
      "  ctext = [re.sub('\\s+', ' ', sent) for sent in ctext]\n"
     ]
    }
   ],
   "source": [
    "# Remove new line characters\n",
    "ctext = [re.sub('\\s+', ' ', sent) for sent in ctext]"
   ]
  },
  {
   "cell_type": "code",
   "execution_count": 17,
   "id": "10de78ad-cd53-4a1e-b4d8-42cf0466e43f",
   "metadata": {},
   "outputs": [],
   "source": [
    "# Remove distracting single quotes\n",
    "ctext = [re.sub(\"\\'\", \"\", sent) for sent in ctext]"
   ]
  },
  {
   "cell_type": "code",
   "execution_count": 18,
   "id": "a06b12d3-e30d-437a-82d6-8ff049bc9a56",
   "metadata": {},
   "outputs": [],
   "source": [
    "# remove punctuations\n",
    "ctext = [re.sub(r'[^\\w\\s]', '', sent) for sent in ctext]"
   ]
  },
  {
   "cell_type": "code",
   "execution_count": 19,
   "id": "e48ea990-81ac-4293-8fc2-cad5bc777db5",
   "metadata": {},
   "outputs": [
    {
     "data": {
      "text/plain": [
       "['business knows about the damage that It does but this business is too much easy and lucrative Exxons Plan for Surging Carbon Emissions Revealed in Leaked Documents',\n",
       " 'Your opinion piece concerning climate science alone motivating people to help create political change on Global Warming policy is Spot On Informing people about the injustices Exxon and Big Oil has perpetrated on us is crucial in inspiring citizens to fight back',\n",
       " 'Each year the government gives over 15 billion in taxpayerfunded subsidies to fossil fuel corporations who contribute to the climate crisis like Exxon Will you sign this petition to pressure the Senate to END fossil fuel subsidies ',\n",
       " 'Each year the government gives over 15 billion in taxpayerfunded subsidies to fossil fuel corporations who contribute to the climate crisis like Exxon Will you sign our petition to pressure the Senate to END fossil fuel subsidies ']"
      ]
     },
     "execution_count": 19,
     "metadata": {},
     "output_type": "execute_result"
    }
   ],
   "source": [
    "ctext[1:5]"
   ]
  },
  {
   "cell_type": "markdown",
   "id": "eee9d1b7-d916-49e8-9467-c99192da368b",
   "metadata": {
    "jp-MarkdownHeadingCollapsed": true,
    "tags": []
   },
   "source": [
    "### Tokenize words and further clean up text"
   ]
  },
  {
   "cell_type": "markdown",
   "id": "aa60cee8-1c55-469f-ae2f-ed218555bee5",
   "metadata": {},
   "source": [
    "Tokenize each sentence into a list of words, removing punctuations and unnecessary characters altoghter"
   ]
  },
  {
   "cell_type": "code",
   "execution_count": 20,
   "id": "6b44245f-17f9-45d5-8ebd-bc0c18503060",
   "metadata": {},
   "outputs": [
    {
     "name": "stdout",
     "output_type": "stream",
     "text": [
      "[['we', 'are', 'in', 'climate', 'wildfires', 'ravage', 'colorado', 'sen', 'manchin', 'your', 'exxon', 'highway', 'bill', 'isnt', 'going', 'save', 'our', 'homes', 'or', 'our', 'lives', 'your', 'greed', 'amp', 'corruption', 'is', 'not', 'only', 'torching', 'our', 'future', 'its', 'burning', 'our', 'communities', 'and', 'destroying', 'lives']]\n"
     ]
    }
   ],
   "source": [
    "def sent_to_words(sentences):\n",
    "    for sentence in sentences:\n",
    "        yield(gensim.utils.simple_preprocess(str(sentence), deacc=True))  # deacc=True removes punctuations\n",
    "\n",
    "tweet_words = list(sent_to_words(ctext))\n",
    "\n",
    "print(tweet_words[:1])"
   ]
  },
  {
   "cell_type": "code",
   "execution_count": 21,
   "id": "8bef03c9-848f-4004-824e-b2340c6086f1",
   "metadata": {},
   "outputs": [
    {
     "name": "stdout",
     "output_type": "stream",
     "text": [
      "['we', 'are', 'in', 'climate', 'wildfires', 'ravage', 'colorado', 'sen_manchin', 'your', 'exxon', 'highway', 'bill', 'isnt', 'going', 'save', 'our', 'homes', 'or', 'our', 'lives', 'your', 'greed', 'amp', 'corruption', 'is', 'not', 'only', 'torching', 'our', 'future', 'its', 'burning', 'our', 'communities', 'and', 'destroying', 'lives']\n"
     ]
    }
   ],
   "source": [
    "# Build the bigram and trigram models\n",
    "bigram = gensim.models.Phrases(tweet_words, min_count=5, threshold=100) # higher threshold fewer phrases.\n",
    "trigram = gensim.models.Phrases(bigram[tweet_words], threshold=100)  \n",
    "\n",
    "# Faster way to get a sentence clubbed as a trigram/bigram\n",
    "bigram_mod = gensim.models.phrases.Phraser(bigram)\n",
    "trigram_mod = gensim.models.phrases.Phraser(trigram)\n",
    "\n",
    "# See trigram example\n",
    "print(trigram_mod[bigram_mod[tweet_words[0]]])"
   ]
  },
  {
   "cell_type": "markdown",
   "id": "c24a6586-a208-47dc-b7df-e84b8c5a621a",
   "metadata": {
    "jp-MarkdownHeadingCollapsed": true,
    "tags": []
   },
   "source": [
    "### Remove Stopwords, Make Bigrams and Lemmatize"
   ]
  },
  {
   "cell_type": "code",
   "execution_count": 22,
   "id": "b527df8e-7e82-45eb-995f-64d60d7d5dcd",
   "metadata": {},
   "outputs": [],
   "source": [
    "stop_words = stopwords.words('english')\n",
    "stop_words.extend(['from', 'subject', 're', 'edu'])"
   ]
  },
  {
   "cell_type": "code",
   "execution_count": 23,
   "id": "3a9ae696-61af-40ea-8380-ea5b22393074",
   "metadata": {},
   "outputs": [],
   "source": [
    "# Define functions for stopwords, bigrams, trigrams and lemmatization\n",
    "def remove_stopwords(texts):\n",
    "    return [[word for word in simple_preprocess(str(doc)) if word not in stop_words] for doc in texts]\n",
    "\n",
    "def make_bigrams(texts):\n",
    "    return [bigram_mod[doc] for doc in texts]\n",
    "\n",
    "def make_trigrams(texts):\n",
    "    return [trigram_mod[bigram_mod[doc]] for doc in texts]"
   ]
  },
  {
   "cell_type": "code",
   "execution_count": 24,
   "id": "91edbe4c-1e69-4d5c-b09a-318a5c3047d2",
   "metadata": {},
   "outputs": [],
   "source": [
    "def lemmatization(texts, allowed_postags=['NOUN', 'ADJ', 'VERB', 'ADV']):\n",
    "    \"\"\"https://spacy.io/api/annotation\"\"\"\n",
    "    texts_out = []\n",
    "    for sent in texts:\n",
    "        doc = nlp(\" \".join(sent)) \n",
    "        texts_out.append([token.lemma_ for token in doc if token.pos_ in allowed_postags])\n",
    "    return texts_out"
   ]
  },
  {
   "cell_type": "code",
   "execution_count": 25,
   "id": "246f1398-6c05-4437-9052-fdc9f25af0b6",
   "metadata": {},
   "outputs": [],
   "source": [
    "# Remove Stop Words\n",
    "tweet_words_nostops = remove_stopwords(tweet_words)"
   ]
  },
  {
   "cell_type": "code",
   "execution_count": 26,
   "id": "29c6dc85-e89e-4ff4-a4d1-83fede7b1a5e",
   "metadata": {},
   "outputs": [],
   "source": [
    "# Form Bigrams\n",
    "tweet_words_bigrams = make_bigrams(tweet_words_nostops)"
   ]
  },
  {
   "cell_type": "code",
   "execution_count": 27,
   "id": "ccc2cc77-8a72-423b-ae6c-6546c8ade7a8",
   "metadata": {},
   "outputs": [
    {
     "name": "stdout",
     "output_type": "stream",
     "text": [
      "[['climate', 'wildfire', 'ravage', 'highway', 'bill', 'go', 'save', 'home', 'live', 'greed', 'amp', 'corruption', 'torch', 'future', 'burn', 'community', 'destroy', 'life']]\n"
     ]
    }
   ],
   "source": [
    "# Initialize spacy 'en_core_web_sm' model, keeping only tagger component (for efficiency)\n",
    "# python3 -m spacy download en_core_web_sm\n",
    "nlp = spacy.load(\"en_core_web_sm\", disable=['parser', 'ner'])# not \"en\" any more\n",
    "\n",
    "# Do lemmatization keeping only noun, adj, vb, adv\n",
    "tweet_lemmatized = lemmatization(tweet_words_bigrams, allowed_postags=['NOUN', 'ADJ', 'VERB', 'ADV'])\n",
    "\n",
    "print(tweet_lemmatized[:1])"
   ]
  },
  {
   "cell_type": "markdown",
   "id": "805b9a70-7bf6-4b5b-8391-76185dd7cea7",
   "metadata": {
    "jp-MarkdownHeadingCollapsed": true,
    "tags": []
   },
   "source": [
    "### Creat the dictionary and the corpus"
   ]
  },
  {
   "cell_type": "code",
   "execution_count": 28,
   "id": "045af5c1-03ce-4c46-a4ce-5d2510470d2b",
   "metadata": {},
   "outputs": [
    {
     "name": "stdout",
     "output_type": "stream",
     "text": [
      "[[(0, 1), (1, 1), (2, 1), (3, 1), (4, 1), (5, 1), (6, 1), (7, 1), (8, 1), (9, 1), (10, 1), (11, 1), (12, 1), (13, 1), (14, 1), (15, 1), (16, 1), (17, 1)]]\n"
     ]
    }
   ],
   "source": [
    "# Create Dictionary\n",
    "id2word = corpora.Dictionary(tweet_lemmatized)\n",
    "\n",
    "# Create Corpus\n",
    "texts = tweet_lemmatized\n",
    "\n",
    "# Term Document Frequency\n",
    "corpus = [id2word.doc2bow(text) for text in texts] \n",
    "\n",
    "#Gensim creates a unique id for each word in the document. \n",
    "#The produced corpus shown below is a mapping of (word_id, word_frequency(times of occurance)).\n",
    "\n",
    "# View\n",
    "print(corpus[:1])"
   ]
  },
  {
   "cell_type": "code",
   "execution_count": 29,
   "id": "494c70fb-e5f5-497a-89f3-9892a245c9d2",
   "metadata": {},
   "outputs": [
    {
     "data": {
      "text/plain": [
       "'inspire'"
      ]
     },
     "execution_count": 29,
     "metadata": {},
     "output_type": "execute_result"
    }
   ],
   "source": [
    "id2word[40]"
   ]
  },
  {
   "cell_type": "code",
   "execution_count": 30,
   "id": "7c2ed933-af4b-42eb-a1f3-d6e64196b7aa",
   "metadata": {},
   "outputs": [
    {
     "data": {
      "text/plain": [
       "'community'"
      ]
     },
     "execution_count": 30,
     "metadata": {},
     "output_type": "execute_result"
    }
   ],
   "source": [
    "#If you want to see what word a given id corresponds to, pass the id as a key to the dictionary.\n",
    "id2word[4]\n",
    "\n",
    "#input of LDA"
   ]
  },
  {
   "cell_type": "code",
   "execution_count": 31,
   "id": "5520aec4-4caa-4db2-bcad-f2eea66c6b10",
   "metadata": {},
   "outputs": [
    {
     "data": {
      "text/plain": [
       "[[('amp', 1),\n",
       "  ('bill', 1),\n",
       "  ('burn', 1),\n",
       "  ('climate', 1),\n",
       "  ('community', 1),\n",
       "  ('corruption', 1),\n",
       "  ('destroy', 1),\n",
       "  ('future', 1),\n",
       "  ('go', 1),\n",
       "  ('greed', 1),\n",
       "  ('highway', 1),\n",
       "  ('home', 1),\n",
       "  ('life', 1),\n",
       "  ('live', 1),\n",
       "  ('ravage', 1),\n",
       "  ('save', 1),\n",
       "  ('torch', 1),\n",
       "  ('wildfire', 1)]]"
      ]
     },
     "execution_count": 31,
     "metadata": {},
     "output_type": "execute_result"
    }
   ],
   "source": [
    "# Human readable format of corpus (term-frequency)\n",
    "[[(id2word[id], freq) for id, freq in cp] for cp in corpus[:1]]"
   ]
  },
  {
   "cell_type": "markdown",
   "id": "82855c8f-5efb-4c9d-872f-6a1ac7954577",
   "metadata": {
    "jp-MarkdownHeadingCollapsed": true,
    "tags": []
   },
   "source": [
    "### Building the Topic Model"
   ]
  },
  {
   "cell_type": "code",
   "execution_count": 32,
   "id": "fd2479a5-4314-45dd-98d5-a06ef929f664",
   "metadata": {},
   "outputs": [],
   "source": [
    "# Build LDA model\n",
    "lda_model = gensim.models.ldamodel.LdaModel(corpus=corpus,\n",
    "                                           id2word=id2word,\n",
    "                                           num_topics=10, \n",
    "                                           random_state=100,\n",
    "                                           update_every=1,\n",
    "                                           chunksize=200,\n",
    "                                           passes=10,\n",
    "                                           alpha='auto',\n",
    "                                           per_word_topics=True)"
   ]
  },
  {
   "cell_type": "code",
   "execution_count": 33,
   "id": "98c1416a-9b9f-49b1-95b7-4105946d733f",
   "metadata": {},
   "outputs": [
    {
     "name": "stdout",
     "output_type": "stream",
     "text": [
      "[(0,\n",
      "  '0.350*\"climate\" + 0.112*\"oil\" + 0.074*\"big\" + 0.073*\"activist\" + '\n",
      "  '0.064*\"company\" + 0.027*\"industry\" + 0.014*\"action\" + 0.013*\"historic\" + '\n",
      "  '0.012*\"large\" + 0.011*\"day\"'),\n",
      " (1,\n",
      "  '0.081*\"crisis\" + 0.072*\"back\" + 0.065*\"giant\" + 0.063*\"fuel\" + '\n",
      "  '0.053*\"fossil\" + 0.050*\"year\" + 0.043*\"director\" + 0.038*\"pressure\" + '\n",
      "  '0.024*\"role\" + 0.018*\"environmental\"'),\n",
      " (2,\n",
      "  '0.059*\"future\" + 0.055*\"make\" + 0.040*\"find\" + 0.038*\"engine\" + '\n",
      "  '0.036*\"keep\" + 0.029*\"support\" + 0.026*\"come\" + 0.023*\"datum\" + '\n",
      "  '0.021*\"move\" + 0.021*\"wind\"'),\n",
      " (3,\n",
      "  '0.069*\"use\" + 0.048*\"fight\" + 0.033*\"sue\" + 0.031*\"take\" + 0.027*\"time\" + '\n",
      "  '0.025*\"go\" + 0.024*\"public\" + 0.022*\"clean\" + 0.020*\"first\" + 0.019*\"look\"'),\n",
      " (4,\n",
      "  '0.113*\"exxon\" + 0.104*\"investor\" + 0.093*\"board\" + 0.080*\"emission\" + '\n",
      "  '0.045*\"seat\" + 0.037*\"least\" + 0.037*\"plan\" + 0.032*\"strategy\" + '\n",
      "  '0.021*\"investment\" + 0.020*\"member\"'),\n",
      " (5,\n",
      "  '0.207*\"change\" + 0.073*\"new\" + 0.042*\"know\" + 0.019*\"get\" + 0.017*\"risk\" + '\n",
      "  '0.015*\"much\" + 0.015*\"need\" + 0.013*\"good\" + 0.011*\"ad\" + 0.011*\"increase\"'),\n",
      " (6,\n",
      "  '0.085*\"say\" + 0.050*\"downplay\" + 0.033*\"push\" + 0.029*\"carbon\" + '\n",
      "  '0.029*\"address\" + 0.022*\"news\" + 0.017*\"work\" + 0.016*\"decade\" + '\n",
      "  '0.016*\"focus\" + 0.016*\"late\"'),\n",
      " (7,\n",
      "  '0.114*\"shareholder\" + 0.079*\"business\" + 0.072*\"vote\" + 0.063*\"face\" + '\n",
      "  '0.041*\"reveal\" + 0.037*\"cut\" + 0.034*\"damage\" + 0.033*\"put\" + '\n",
      "  '0.027*\"leaked_document\" + 0.024*\"goal\"'),\n",
      " (8,\n",
      "  '0.047*\"amp\" + 0.044*\"win\" + 0.043*\"energy\" + 0.039*\"shell\" + 0.037*\"hold\" + '\n",
      "  '0.034*\"technology\" + 0.029*\"chevron\" + 0.029*\"gas\" + 0.027*\"major\" + '\n",
      "  '0.027*\"study\"'),\n",
      " (9,\n",
      "  '0.066*\"project\" + 0.060*\"report\" + 0.047*\"fund\" + 0.039*\"xom\" + '\n",
      "  '0.030*\"call\" + 0.027*\"annual\" + 0.026*\"claim\" + 0.023*\"article\" + '\n",
      "  '0.022*\"set\" + 0.022*\"lead\"')]\n"
     ]
    }
   ],
   "source": [
    "# Print the Keyword in the topics\n",
    "pprint(lda_model.print_topics())\n",
    "doc_lda = lda_model[corpus]"
   ]
  },
  {
   "cell_type": "markdown",
   "id": "d2a08cd6-7d24-4d44-b4b9-398195a86847",
   "metadata": {
    "jp-MarkdownHeadingCollapsed": true,
    "tags": []
   },
   "source": [
    "### Compute model perplexity and coherence score"
   ]
  },
  {
   "cell_type": "code",
   "execution_count": 34,
   "id": "0d82ce0a-a3f3-410d-84e0-140df9173b4a",
   "metadata": {},
   "outputs": [
    {
     "name": "stdout",
     "output_type": "stream",
     "text": [
      "\n",
      "Perplexity:  -7.991438389050143\n",
      "\n",
      "Coherence Score:  0.3456947723596156\n"
     ]
    }
   ],
   "source": [
    "# Compute Perplexity\n",
    "print('\\nPerplexity: ', lda_model.log_perplexity(corpus))  # a measure of how good the model is. lower the better.\n",
    "\n",
    "# Compute Coherence Score\n",
    "coherence_model_lda = CoherenceModel(model=lda_model, texts=tweet_lemmatized, dictionary=id2word, coherence='c_v')\n",
    "coherence_lda = coherence_model_lda.get_coherence()\n",
    "print('\\nCoherence Score: ', coherence_lda)"
   ]
  },
  {
   "cell_type": "code",
   "execution_count": 35,
   "id": "77942d7d-c8f8-4bd2-9df3-2fd7cdbb7ece",
   "metadata": {},
   "outputs": [
    {
     "name": "stderr",
     "output_type": "stream",
     "text": [
      "/opt/anaconda3/lib/python3.9/site-packages/pyLDAvis/_prepare.py:246: FutureWarning: In a future version of pandas all arguments of DataFrame.drop except for the argument 'labels' will be keyword-only\n",
      "  default_term_info = default_term_info.sort_values(\n",
      "/opt/anaconda3/lib/python3.9/site-packages/past/builtins/misc.py:45: DeprecationWarning: the imp module is deprecated in favour of importlib; see the module's documentation for alternative uses\n",
      "  from imp import reload\n",
      "/opt/anaconda3/lib/python3.9/site-packages/past/builtins/misc.py:45: DeprecationWarning: the imp module is deprecated in favour of importlib; see the module's documentation for alternative uses\n",
      "  from imp import reload\n",
      "/opt/anaconda3/lib/python3.9/site-packages/past/builtins/misc.py:45: DeprecationWarning: the imp module is deprecated in favour of importlib; see the module's documentation for alternative uses\n",
      "  from imp import reload\n",
      "/opt/anaconda3/lib/python3.9/site-packages/past/builtins/misc.py:45: DeprecationWarning: the imp module is deprecated in favour of importlib; see the module's documentation for alternative uses\n",
      "  from imp import reload\n",
      "/opt/anaconda3/lib/python3.9/site-packages/past/builtins/misc.py:45: DeprecationWarning: the imp module is deprecated in favour of importlib; see the module's documentation for alternative uses\n",
      "  from imp import reload\n",
      "/opt/anaconda3/lib/python3.9/site-packages/past/builtins/misc.py:45: DeprecationWarning: the imp module is deprecated in favour of importlib; see the module's documentation for alternative uses\n",
      "  from imp import reload\n",
      "/opt/anaconda3/lib/python3.9/site-packages/past/builtins/misc.py:45: DeprecationWarning: the imp module is deprecated in favour of importlib; see the module's documentation for alternative uses\n",
      "  from imp import reload\n",
      "/opt/anaconda3/lib/python3.9/site-packages/past/builtins/misc.py:45: DeprecationWarning: the imp module is deprecated in favour of importlib; see the module's documentation for alternative uses\n",
      "  from imp import reload\n"
     ]
    },
    {
     "data": {
      "text/html": [
       "\n",
       "<link rel=\"stylesheet\" type=\"text/css\" href=\"https://cdn.jsdelivr.net/gh/bmabey/pyLDAvis@3.3.1/pyLDAvis/js/ldavis.v1.0.0.css\">\n",
       "\n",
       "\n",
       "<div id=\"ldavis_el487891404885483623841789193329\"></div>\n",
       "<script type=\"text/javascript\">\n",
       "\n",
       "var ldavis_el487891404885483623841789193329_data = {\"mdsDat\": {\"x\": [0.4424786470637176, 0.02739317789821877, -0.0606752534554108, -0.027123404644355396, -0.042364951245604895, -0.06558494255680528, -0.03018361974831812, -0.07664177955492009, -0.08218394252041492, -0.08511393123610733], \"y\": [-0.07214353835784369, 0.44130872637393226, -0.04890935039359854, -0.07218666091847833, -0.05725341572389139, -0.03992488240674079, -0.04618898736183412, -0.04007554966379276, -0.03502812044603045, -0.02959822110172219], \"topics\": [1, 2, 3, 4, 5, 6, 7, 8, 9, 10], \"cluster\": [1, 1, 1, 1, 1, 1, 1, 1, 1, 1], \"Freq\": [21.476677740057518, 14.130466791010546, 11.562707890865443, 10.49582707963655, 9.721831148330157, 9.34509133002771, 9.1196433641329, 5.640666644644502, 5.0210815159042514, 3.4860064953904217]}, \"tinfo\": {\"Term\": [\"climate\", \"change\", \"oil\", \"exxon\", \"big\", \"activist\", \"investor\", \"say\", \"company\", \"board\", \"new\", \"crisis\", \"emission\", \"shareholder\", \"back\", \"use\", \"giant\", \"fuel\", \"downplay\", \"business\", \"know\", \"fossil\", \"year\", \"amp\", \"fight\", \"vote\", \"win\", \"energy\", \"seat\", \"future\", \"climate\", \"oil\", \"big\", \"activist\", \"company\", \"industry\", \"action\", \"historic\", \"large\", \"day\", \"effort\", \"today\", \"almost\", \"solution\", \"denial\", \"worlds_bigg\", \"challenge\", \"suit\", \"valuable\", \"stand\", \"responsibility\", \"samp\", \"customer\", \"propaganda\", \"executive\", \"require\", \"investigation\", \"heat\", \"lobby\", \"shake\", \"change\", \"new\", \"know\", \"get\", \"risk\", \"much\", \"need\", \"good\", \"ad\", \"increase\", \"lawsuit\", \"hedge_fund\", \"s\", \"global\", \"show\", \"people\", \"think\", \"still\", \"earth\", \"spend\", \"issue\", \"way\", \"power\", \"blow\", \"carbon_capture\", \"defeat\", \"fail\", \"shift\", \"lie\", \"begin\", \"say\", \"downplay\", \"push\", \"carbon\", \"address\", \"news\", \"work\", \"decade\", \"focus\", \"late\", \"transition\", \"ceo\", \"want\", \"ambitious\", \"read\", \"question\", \"week\", \"pledge\", \"thank\", \"profit\", \"lobbyist\", \"economy\", \"scientist\", \"mean\", \"past\", \"reversing\", \"quietly_shelve\", \"re\", \"pay\", \"landmark\", \"amp\", \"win\", \"energy\", \"shell\", \"hold\", \"technology\", \"chevron\", \"gas\", \"major\", \"study\", \"case\", \"could_slow\", \"lose\", \"court\", \"product\", \"bloomberg_businessweek\", \"evil\", \"blame\", \"consumer\", \"renewable\", \"huge\", \"dutch\", \"loss\", \"setback\", \"fraud\", \"total\", \"continue\", \"problem\", \"mobil\", \"government\", \"use\", \"fight\", \"sue\", \"take\", \"time\", \"go\", \"public\", \"clean\", \"first\", \"look\", \"well\", \"help\", \"right\", \"enough\", \"impact\", \"concern\", \"solar\", \"planet\", \"also\", \"dark\", \"green\", \"great\", \"money\", \"policy\", \"stop\", \"political\", \"provider\", \"rule\", \"little\", \"job\", \"crisis\", \"back\", \"giant\", \"fuel\", \"fossil\", \"year\", \"director\", \"pressure\", \"role\", \"environmental\", \"even\", \"invest\", \"co\", \"try\", \"essential\", \"investor_oust\", \"corporation\", \"petition\", \"proclimate_campaign\", \"high\", \"subsidy\", \"protect\", \"grow\", \"cause\", \"onto_consumer\", \"texas_governor\", \"share\", \"end\", \"disclose\", \"divest\", \"exxon\", \"investor\", \"board\", \"emission\", \"seat\", \"least\", \"plan\", \"strategy\", \"investment\", \"member\", \"world\", \"group\", \"see\", \"force\", \"rise\", \"reduce\", \"demand\", \"target\", \"urge\", \"proxy\", \"full\", \"warm\", \"assessment\", \"committing_ecocide\", \"shows_yearly\", \"producer\", \"file\", \"follow\", \"sit\", \"meeting\", \"future\", \"make\", \"find\", \"engine\", \"keep\", \"support\", \"come\", \"datum\", \"move\", \"wind\", \"pension_fund\", \"exxonmobil\", \"campaign\", \"former\", \"victory\", \"battle\", \"launch\", \"toll\", \"order\", \"start\", \"elect\", \"break\", \"accountable\", \"earning\", \"rd\", \"hiding\", \"entire\", \"attack\", \"tobacco\", \"going\", \"shareholder\", \"business\", \"vote\", \"face\", \"reveal\", \"cut\", \"damage\", \"put\", \"leaked_document\", \"goal\", \"include\", \"state\", \"lucrative\", \"bad\", \"science\", \"add\", \"boardroom\", \"production\", \"next\", \"firm\", \"rebellion\", \"ahead\", \"unable\", \"scope\", \"projection\", \"nature\", \"dairys\", \"send\", \"polluter\", \"exactly\", \"project\", \"report\", \"fund\", \"xom\", \"call\", \"annual\", \"claim\", \"article\", \"set\", \"lead\", \"corporate\", \"let\", \"management\", \"sector\", \"stock\", \"denier\", \"feel\", \"destroy\", \"hope\", \"m\", \"phase\", \"misrepresent\", \"sink\", \"yesterday\", \"general\", \"person\", \"engagement\", \"american\", \"nominate\", \"critical\"], \"Freq\": [16458.0, 6402.0, 5259.0, 2250.0, 3481.0, 3425.0, 2080.0, 2140.0, 2995.0, 1850.0, 2243.0, 1654.0, 1601.0, 1251.0, 1474.0, 1470.0, 1328.0, 1281.0, 1277.0, 866.0, 1311.0, 1080.0, 1028.0, 1074.0, 1018.0, 791.0, 1017.0, 986.0, 898.0, 732.0, 16457.18511955428, 5258.213238702622, 3480.6825737115573, 3424.5393478086644, 2994.9984947682665, 1252.5250969458139, 672.6551057518677, 620.9130616666897, 578.1705946990007, 513.0536959123392, 439.0893198669941, 424.8462795215059, 283.4080038424081, 253.87424567174784, 250.30024904703038, 248.90168296902627, 227.83696833182523, 218.05486019450058, 214.40704525510964, 202.16552265747902, 179.8612444917372, 174.82129577562077, 161.41545007154838, 147.58320186485943, 143.04809034552207, 142.9425918531227, 141.35277420495913, 140.78348272393941, 136.50117814771164, 127.61745902825263, 6401.635765557648, 2242.8554559244276, 1310.4634269002015, 583.1762315693495, 512.4210116272251, 472.1102140796068, 465.26406031816913, 410.78431153463185, 345.4437307765308, 331.91129294068924, 322.2999665103275, 318.0896041151793, 306.65314913997554, 301.3694171172961, 293.50289572613536, 271.6758611567046, 268.24351396458206, 259.3801749894382, 257.86070761283645, 251.60177913618688, 237.0038456795498, 236.8554487226228, 231.1605409624651, 207.77833968059207, 195.87379155907416, 189.64782738850306, 189.1509444552208, 186.97170153067128, 182.72946884134942, 179.41566359706795, 2139.3203524047804, 1276.2923458795117, 843.4740682571238, 740.3620913777586, 724.3267067053685, 545.6626044674603, 432.2623519966841, 413.68951715289984, 412.98390293385245, 399.69869868118695, 359.5716016062733, 329.95945680598624, 329.0208523149577, 325.69389729170285, 311.8872094535394, 304.35787791999036, 298.2496456965239, 286.294582671017, 274.22509762821863, 248.6185244108112, 234.16928756675443, 225.92152617129062, 217.54174480775984, 215.4985214226036, 215.4892866211257, 279.941133486878, 270.82334542462604, 200.98504145704104, 195.57828899430726, 195.5584765758304, 1074.090043238088, 1016.8807537931368, 985.5059640705645, 887.4639589292661, 851.8866064770425, 785.8035294003163, 663.8616352967808, 663.0619842072824, 626.6062857944755, 620.3690329577591, 522.433736350894, 613.6176545529378, 412.3518008541495, 411.7328913544366, 320.77248369385507, 392.0386872553233, 274.4304213338522, 258.39277014281015, 238.37720014079838, 236.53097141929646, 229.8081626741951, 228.94076556524092, 199.14196894300156, 181.22616200803094, 169.9564577033296, 169.529570104407, 168.41815474166165, 162.37864415302232, 157.3285718769465, 150.9348809072349, 1469.575868796986, 1017.7979613536785, 702.543437487367, 668.6708419873255, 566.2531487592, 538.3993046999227, 512.6558326302486, 469.58902394701516, 427.83798893968424, 395.2228537883058, 379.02886250962433, 351.132788826137, 342.5750703635667, 306.98237036257603, 306.515408171792, 303.86779692447374, 295.05224402553284, 280.6986879077798, 275.3216801793893, 256.5928616497553, 252.4394434175894, 251.0136587975675, 239.11540275384232, 238.8482389774141, 210.6625794093345, 203.03333826141963, 197.03506779224693, 183.31067761417845, 176.5941668056624, 171.85971489780363, 1653.5877052563064, 1473.6056238561323, 1327.7586450202934, 1280.148751007192, 1079.6805358293673, 1028.065324641584, 869.324272416285, 767.2514781720562, 480.93950123440567, 371.2400700775376, 362.56882609585745, 347.8770780740231, 331.31290462962335, 311.41047818128885, 289.54105494643585, 288.62569096547907, 279.41538830527224, 275.73997610808544, 270.91361879722746, 268.7305948926473, 260.133054504658, 228.0267714002366, 213.63903404243285, 205.68885149104668, 197.16589053382137, 171.62440613058283, 153.31378500261437, 144.74316708465324, 135.54259383193184, 133.15578548837624, 2249.2891320561002, 2079.534367297816, 1849.6102597217018, 1600.8674204221018, 897.7117125224685, 741.3458327938799, 730.1141557398646, 643.6456791886858, 422.20551197529005, 389.9163635373775, 368.2006185603501, 316.3399638603927, 306.67171446096546, 277.35353007541624, 263.04104044576263, 244.89947878837222, 244.69473912701116, 229.8879311426202, 221.30150017530354, 183.0474022658953, 173.79437359543041, 170.3436955420669, 169.47416049602134, 168.64277142735796, 168.64277142735796, 150.88842953063232, 149.94482291184733, 127.5295275327495, 89.66873453139652, 89.57033165939649, 731.9502780292678, 682.2377829906303, 493.2268514645049, 474.1006673137328, 445.0967739546422, 352.3671665291473, 323.165580157173, 279.18105686236737, 262.84176727259245, 262.63821311352973, 242.73330099199845, 241.65565456611162, 221.18924464063474, 195.00187336185385, 188.2886429453367, 181.010524454045, 163.16793131646796, 199.07097984282748, 162.37634330144547, 160.3016699407414, 156.56771758921363, 150.48960556962737, 147.2179482498552, 157.50548948540577, 139.13147426849173, 132.72667805031043, 120.04259458928229, 110.33198550928194, 107.61914825412262, 99.58772307706752, 1250.8745615551265, 865.2083200645437, 790.8784095050547, 696.5702899773371, 447.3126888699052, 409.1331138242197, 374.5229379696413, 363.9356599933501, 299.6782700257742, 260.42347219445196, 248.8618809845631, 246.61639792966787, 234.0728004627493, 227.1738157178935, 214.1141514157999, 188.10283204219158, 154.79643951782197, 149.59019614028773, 137.95739331323094, 121.3686670426267, 108.0619768937074, 105.7657423903464, 98.50607556152426, 85.4788917772454, 79.56680838478127, 77.85554033469987, 76.26108961782356, 71.92868470043277, 68.7872508580692, 65.94486795649881, 501.1201547944369, 461.2558558641307, 358.92483103996625, 297.2288096601207, 226.63938718141932, 204.3124228751906, 197.6657356652006, 174.74212026596695, 170.81024311577795, 168.5929761167962, 164.96279819200373, 155.89917901235663, 148.90158658248947, 146.24716182365182, 136.10236023698894, 119.1095231814546, 112.318343080051, 97.91954548239093, 79.98307268397353, 77.18750740517075, 76.06313480582868, 74.15467661660767, 73.16262325473295, 69.84947881372094, 68.48355080556168, 67.77061077669778, 62.22805409268528, 58.297249417260495, 52.723754322168666, 50.704788617340874], \"Total\": [16458.0, 6402.0, 5259.0, 2250.0, 3481.0, 3425.0, 2080.0, 2140.0, 2995.0, 1850.0, 2243.0, 1654.0, 1601.0, 1251.0, 1474.0, 1470.0, 1328.0, 1281.0, 1277.0, 866.0, 1311.0, 1080.0, 1028.0, 1074.0, 1018.0, 791.0, 1017.0, 986.0, 898.0, 732.0, 16458.063512576562, 5259.091616342856, 3481.5609153595287, 3425.4176685855155, 2995.8768916839363, 1253.403550716659, 673.5334367680944, 621.7914016572229, 579.0491211590656, 513.9319942894956, 439.96770470040497, 425.7246383862277, 284.2865183780716, 254.75298214667768, 251.17872082491198, 249.78028446715183, 228.71531398994108, 218.9334919522778, 215.2900303980708, 203.04474864890895, 180.73980022070845, 175.70175616359174, 162.29452007412547, 148.4621180128251, 143.92662596028356, 143.82138729275604, 142.23140928155343, 141.66215099693338, 137.37960251638793, 128.49602523704036, 6402.533502266129, 2243.7531847649543, 1311.3612640095218, 584.0739456768116, 513.3187722824715, 473.00816885811776, 466.16178148430095, 411.68196907154095, 346.3420802474155, 332.80922762857205, 323.1977816263035, 318.9872589040371, 307.55087171615463, 302.2671770015547, 294.4005702147023, 272.5736709794013, 269.1412548284635, 260.27790306075946, 258.7587547856804, 252.49959135183263, 237.9016214642128, 237.75321951214852, 232.05840939373846, 208.6759323187665, 196.77198980557614, 190.54544887412263, 190.04876956819805, 187.8693539820798, 183.62718624325836, 180.31338028381631, 2140.1879621218004, 1277.1602390955545, 844.3416260581139, 741.2297808206564, 725.1944465716812, 546.5301776294255, 433.12998989326906, 414.5571258426038, 413.8516532436207, 400.56645063886566, 360.4392161297499, 330.8270409372138, 329.8884697620987, 326.56239123854203, 312.75481802719787, 305.22556722842876, 299.1171902180726, 287.16239950962785, 275.09292431667774, 249.48616975655924, 235.03675197332436, 226.7892261707643, 218.40939549189505, 216.36612249314015, 216.35785591527102, 281.07623365345296, 271.95664695141744, 201.85268513888138, 196.44589105549207, 196.42604228286203, 1074.9929528120108, 1017.7835697510261, 986.4088893666218, 888.3667412145878, 852.7896138436518, 786.7072509962072, 664.7644238959842, 663.9649340025558, 627.5091780491618, 621.272461078285, 523.3365864185128, 614.8817404330666, 413.25460405357586, 412.6356541705898, 321.6755378573836, 393.23962394851867, 275.33344414522907, 259.2958588812616, 239.28022917625356, 237.43388214133202, 230.71100505705124, 229.8441402538066, 200.04512905120606, 182.1290299610238, 170.8597963367931, 170.43260366017043, 169.32125026532333, 163.28168571967285, 158.23146393992428, 151.83777098772, 1470.4619076109846, 1018.6838151517305, 703.4300785742486, 669.5567725921064, 567.13904933294, 539.2852214484194, 513.5418119114865, 470.4748985758196, 428.72393728888574, 396.1088442385554, 379.9148851237967, 352.0188168850511, 343.46130495321887, 307.8683598793409, 307.4014274771952, 304.7537026314296, 295.9385763528472, 281.5846072619896, 276.20762417215707, 257.48129295769724, 253.3253992009067, 251.89961773719392, 240.00133687334673, 239.73416990059349, 211.54848692354386, 203.91934842001785, 197.93389201817288, 184.19662032940013, 177.4802423488114, 172.74580908208077, 1654.4600075143958, 1474.4779586720429, 1328.6308283189012, 1281.0208958246587, 1080.5526557452301, 1028.9376981714715, 870.1963822893194, 768.123807123694, 481.81185457931616, 372.112414832929, 363.44113414558484, 348.74934996269667, 332.1853404753579, 312.28269592279406, 290.4164670054677, 289.5003222937898, 280.28760691084204, 276.6126774313279, 271.78856440618694, 269.60321000271165, 261.00576712908077, 228.89893527254802, 214.51124223138018, 206.56115901473967, 198.03923904460117, 172.50613364439153, 154.18603323627184, 145.61533657957267, 136.41506952662698, 134.06402961337108, 2250.1919553709745, 2080.437147395523, 1850.5129207406494, 1601.7702719796732, 898.6143516670426, 742.2485039306424, 731.0170151380918, 644.5483663742467, 423.1083129366805, 390.8190208444005, 369.1034895965242, 317.24285047983244, 307.5744893626172, 278.2562312930999, 263.9438345829083, 245.80222108414532, 245.5976051688849, 230.79091904427344, 222.2048295144397, 183.95013691707007, 174.69786763048444, 171.24763637095512, 170.37680506583126, 169.54541435637623, 169.54541435637623, 151.79151703384045, 150.84805455227564, 128.43239936151778, 90.5720000206938, 90.47306205364303, 732.8541465176551, 683.1416091546832, 494.13087287064593, 475.00441628009685, 446.00071731228115, 353.27098717953106, 324.06943770859306, 280.0854978354055, 263.74565192643007, 263.54263303973704, 243.6373420921622, 242.55943514537435, 222.09318919137348, 195.9060133041716, 189.19235470393082, 181.9142716171586, 164.07218696969576, 200.17800169559322, 163.28016271089476, 161.20553340210094, 157.47145017677107, 151.3934988615192, 148.12193822650195, 158.49025900887537, 140.03589302716318, 133.63426523981462, 120.94695882490237, 111.23618054789137, 108.52324424510468, 100.4919083918495, 1251.7750757385943, 866.108869543749, 791.7788968653546, 697.4708552316054, 448.21322194566096, 410.0337295096, 375.42356836400864, 364.8362045710912, 300.57874601953534, 261.3242010687392, 249.7625756599793, 247.517176277017, 234.97325927866598, 228.07435576114628, 215.01483712199152, 189.00346716170986, 155.69722782609966, 150.49102647535406, 138.85819205593592, 122.26923745291076, 108.96253328842762, 106.66662855796591, 99.40948504860313, 86.37981606708091, 80.46852064240367, 78.75720330124926, 77.16323889254383, 72.82921643151228, 69.68793147928722, 66.84546554149952, 502.02466421824647, 462.16015377189694, 359.82906651497063, 298.1330449736974, 227.54358183447226, 205.21683042579838, 198.5700629894178, 175.64636368042312, 171.71455324823816, 169.4972231172677, 165.86699279932463, 156.80345605635657, 149.8057510680045, 147.1515921398048, 137.00673916455943, 120.01415135337186, 113.22263511582594, 98.82385357679807, 80.88725087400825, 78.09168546999602, 76.96770781104001, 75.06165015398479, 74.06721039807188, 70.75365270206794, 69.38898738528626, 68.67544652300997, 63.13259031582105, 59.201589153193396, 53.62795151495557, 51.60915061367356], \"Category\": [\"Default\", \"Default\", \"Default\", \"Default\", \"Default\", \"Default\", \"Default\", \"Default\", \"Default\", \"Default\", \"Default\", \"Default\", \"Default\", \"Default\", \"Default\", \"Default\", \"Default\", \"Default\", \"Default\", \"Default\", \"Default\", \"Default\", \"Default\", \"Default\", \"Default\", \"Default\", \"Default\", \"Default\", \"Default\", \"Default\", \"Topic1\", \"Topic1\", \"Topic1\", \"Topic1\", \"Topic1\", \"Topic1\", \"Topic1\", \"Topic1\", \"Topic1\", \"Topic1\", \"Topic1\", \"Topic1\", \"Topic1\", \"Topic1\", \"Topic1\", \"Topic1\", \"Topic1\", \"Topic1\", \"Topic1\", \"Topic1\", \"Topic1\", \"Topic1\", \"Topic1\", \"Topic1\", \"Topic1\", \"Topic1\", \"Topic1\", \"Topic1\", \"Topic1\", \"Topic1\", \"Topic2\", \"Topic2\", \"Topic2\", \"Topic2\", \"Topic2\", \"Topic2\", \"Topic2\", \"Topic2\", \"Topic2\", \"Topic2\", \"Topic2\", \"Topic2\", \"Topic2\", \"Topic2\", \"Topic2\", \"Topic2\", \"Topic2\", \"Topic2\", \"Topic2\", \"Topic2\", \"Topic2\", \"Topic2\", \"Topic2\", \"Topic2\", \"Topic2\", \"Topic2\", \"Topic2\", \"Topic2\", \"Topic2\", \"Topic2\", \"Topic3\", \"Topic3\", \"Topic3\", \"Topic3\", \"Topic3\", \"Topic3\", \"Topic3\", \"Topic3\", \"Topic3\", \"Topic3\", \"Topic3\", \"Topic3\", \"Topic3\", \"Topic3\", \"Topic3\", \"Topic3\", \"Topic3\", \"Topic3\", \"Topic3\", \"Topic3\", \"Topic3\", \"Topic3\", \"Topic3\", \"Topic3\", \"Topic3\", \"Topic3\", \"Topic3\", \"Topic3\", \"Topic3\", \"Topic3\", \"Topic4\", \"Topic4\", \"Topic4\", \"Topic4\", \"Topic4\", \"Topic4\", \"Topic4\", \"Topic4\", \"Topic4\", \"Topic4\", \"Topic4\", \"Topic4\", \"Topic4\", \"Topic4\", \"Topic4\", \"Topic4\", \"Topic4\", \"Topic4\", \"Topic4\", \"Topic4\", \"Topic4\", \"Topic4\", \"Topic4\", \"Topic4\", \"Topic4\", \"Topic4\", \"Topic4\", \"Topic4\", \"Topic4\", \"Topic4\", \"Topic5\", \"Topic5\", \"Topic5\", \"Topic5\", \"Topic5\", \"Topic5\", \"Topic5\", \"Topic5\", \"Topic5\", \"Topic5\", \"Topic5\", \"Topic5\", \"Topic5\", \"Topic5\", \"Topic5\", \"Topic5\", \"Topic5\", \"Topic5\", \"Topic5\", \"Topic5\", \"Topic5\", \"Topic5\", \"Topic5\", \"Topic5\", \"Topic5\", \"Topic5\", \"Topic5\", \"Topic5\", \"Topic5\", \"Topic5\", \"Topic6\", \"Topic6\", \"Topic6\", \"Topic6\", \"Topic6\", \"Topic6\", \"Topic6\", \"Topic6\", \"Topic6\", \"Topic6\", \"Topic6\", \"Topic6\", \"Topic6\", \"Topic6\", \"Topic6\", \"Topic6\", \"Topic6\", \"Topic6\", \"Topic6\", \"Topic6\", \"Topic6\", \"Topic6\", \"Topic6\", \"Topic6\", \"Topic6\", \"Topic6\", \"Topic6\", \"Topic6\", \"Topic6\", \"Topic6\", \"Topic7\", \"Topic7\", \"Topic7\", \"Topic7\", \"Topic7\", \"Topic7\", \"Topic7\", \"Topic7\", \"Topic7\", \"Topic7\", \"Topic7\", \"Topic7\", \"Topic7\", \"Topic7\", \"Topic7\", \"Topic7\", \"Topic7\", \"Topic7\", \"Topic7\", \"Topic7\", \"Topic7\", \"Topic7\", \"Topic7\", \"Topic7\", \"Topic7\", \"Topic7\", \"Topic7\", \"Topic7\", \"Topic7\", \"Topic7\", \"Topic8\", \"Topic8\", \"Topic8\", \"Topic8\", \"Topic8\", \"Topic8\", \"Topic8\", \"Topic8\", \"Topic8\", \"Topic8\", \"Topic8\", \"Topic8\", \"Topic8\", \"Topic8\", \"Topic8\", \"Topic8\", \"Topic8\", \"Topic8\", \"Topic8\", \"Topic8\", \"Topic8\", \"Topic8\", \"Topic8\", \"Topic8\", \"Topic8\", \"Topic8\", \"Topic8\", \"Topic8\", \"Topic8\", \"Topic8\", \"Topic9\", \"Topic9\", \"Topic9\", \"Topic9\", \"Topic9\", \"Topic9\", \"Topic9\", \"Topic9\", \"Topic9\", \"Topic9\", \"Topic9\", \"Topic9\", \"Topic9\", \"Topic9\", \"Topic9\", \"Topic9\", \"Topic9\", \"Topic9\", \"Topic9\", \"Topic9\", \"Topic9\", \"Topic9\", \"Topic9\", \"Topic9\", \"Topic9\", \"Topic9\", \"Topic9\", \"Topic9\", \"Topic9\", \"Topic9\", \"Topic10\", \"Topic10\", \"Topic10\", \"Topic10\", \"Topic10\", \"Topic10\", \"Topic10\", \"Topic10\", \"Topic10\", \"Topic10\", \"Topic10\", \"Topic10\", \"Topic10\", \"Topic10\", \"Topic10\", \"Topic10\", \"Topic10\", \"Topic10\", \"Topic10\", \"Topic10\", \"Topic10\", \"Topic10\", \"Topic10\", \"Topic10\", \"Topic10\", \"Topic10\", \"Topic10\", \"Topic10\", \"Topic10\", \"Topic10\"], \"logprob\": [30.0, 29.0, 28.0, 27.0, 26.0, 25.0, 24.0, 23.0, 22.0, 21.0, 20.0, 19.0, 18.0, 17.0, 16.0, 15.0, 14.0, 13.0, 12.0, 11.0, 10.0, 9.0, 8.0, 7.0, 6.0, 5.0, 4.0, 3.0, 2.0, 1.0, -1.049, -2.19, -2.6026, -2.6188, -2.7529, -3.6246, -4.2463, -4.3264, -4.3977, -4.5172, -4.6729, -4.7058, -5.1107, -5.2207, -5.2349, -5.2405, -5.3289, -5.3728, -5.3897, -5.4485, -5.5654, -5.5938, -5.6736, -5.7632, -5.7944, -5.7951, -5.8063, -5.8103, -5.8412, -5.9085, -1.5746, -2.6234, -3.1608, -3.9704, -4.0998, -4.1817, -4.1963, -4.3209, -4.4941, -4.5341, -4.5634, -4.5766, -4.6132, -4.6306, -4.657, -4.7343, -4.747, -4.7806, -4.7865, -4.8111, -4.8708, -4.8715, -4.8958, -5.0025, -5.0615, -5.0938, -5.0964, -5.108, -5.1309, -5.1492, -2.4701, -2.9867, -3.4008, -3.5312, -3.5531, -3.8364, -4.0693, -4.1133, -4.115, -4.1477, -4.2535, -4.3394, -4.3423, -4.3524, -4.3957, -4.4202, -4.4404, -4.4814, -4.5244, -4.6225, -4.6823, -4.7182, -4.756, -4.7654, -4.7655, -4.5038, -4.5369, -4.8351, -4.8624, -4.8625, -3.0623, -3.1171, -3.1484, -3.2532, -3.2941, -3.3749, -3.5435, -3.5447, -3.6013, -3.6113, -3.7831, -3.6222, -4.0197, -4.0212, -4.2708, -4.0702, -4.4269, -4.4871, -4.5677, -4.5755, -4.6043, -4.6081, -4.7476, -4.8418, -4.906, -4.9085, -4.9151, -4.9516, -4.9832, -5.0247, -2.6722, -3.0396, -3.4103, -3.4597, -3.6259, -3.6764, -3.7254, -3.8131, -3.9062, -3.9855, -4.0274, -4.1038, -4.1285, -4.2382, -4.2397, -4.2484, -4.2778, -4.3277, -4.347, -4.4175, -4.4338, -4.4395, -4.488, -4.4891, -4.6147, -4.6516, -4.6816, -4.7538, -4.7911, -4.8183, -2.5147, -2.63, -2.7342, -2.7707, -2.941, -2.99, -3.1577, -3.2826, -3.7497, -4.0086, -4.0322, -4.0736, -4.1224, -4.1843, -4.2571, -4.2603, -4.2927, -4.306, -4.3236, -4.3317, -4.3643, -4.496, -4.5612, -4.5991, -4.6414, -4.7801, -4.893, -4.9505, -5.0162, -5.0339, -2.1827, -2.2611, -2.3783, -2.5227, -3.1012, -3.2926, -3.3078, -3.4339, -3.8555, -3.9351, -3.9924, -4.1442, -4.1752, -4.2757, -4.3287, -4.4002, -4.401, -4.4634, -4.5015, -4.6913, -4.7432, -4.7632, -4.7683, -4.7732, -4.7732, -4.8845, -4.8908, -5.0527, -5.4049, -5.406, -2.8249, -2.8952, -3.2196, -3.2592, -3.3223, -3.5559, -3.6424, -3.7887, -3.849, -3.8498, -3.9286, -3.9331, -4.0216, -4.1476, -4.1826, -4.222, -4.3258, -4.1269, -4.3307, -4.3435, -4.3671, -4.4067, -4.4287, -4.3611, -4.4852, -4.5323, -4.6327, -4.7171, -4.742, -4.8196, -2.1726, -2.5413, -2.6311, -2.7581, -3.201, -3.2902, -3.3786, -3.4073, -3.6015, -3.7419, -3.7873, -3.7964, -3.8486, -3.8785, -3.9377, -4.0672, -4.2621, -4.2963, -4.3773, -4.5054, -4.6215, -4.643, -4.7141, -4.856, -4.9276, -4.9494, -4.9701, -5.0286, -5.0732, -5.1154, -2.7225, -2.8054, -3.0562, -3.2448, -3.516, -3.6197, -3.6528, -3.776, -3.7988, -3.8119, -3.8336, -3.8901, -3.9361, -3.9541, -4.0259, -4.1593, -4.218, -4.3552, -4.5575, -4.5931, -4.6078, -4.6332, -4.6467, -4.693, -4.7128, -4.7232, -4.8085, -4.8738, -4.9743, -5.0133], \"loglift\": [30.0, 29.0, 28.0, 27.0, 26.0, 25.0, 24.0, 23.0, 22.0, 21.0, 20.0, 19.0, 18.0, 17.0, 16.0, 15.0, 14.0, 13.0, 12.0, 11.0, 10.0, 9.0, 8.0, 7.0, 6.0, 5.0, 4.0, 3.0, 2.0, 1.0, 1.5381, 1.538, 1.538, 1.5379, 1.5379, 1.5375, 1.5369, 1.5368, 1.5367, 1.5365, 1.5362, 1.5361, 1.5351, 1.5347, 1.5347, 1.5347, 1.5344, 1.5342, 1.5341, 1.5339, 1.5333, 1.5332, 1.5328, 1.5323, 1.5321, 1.5321, 1.532, 1.532, 1.5318, 1.5313, 1.9567, 1.9564, 1.9562, 1.9553, 1.9551, 1.9549, 1.9549, 1.9547, 1.9542, 1.9541, 1.9541, 1.954, 1.9539, 1.9539, 1.9538, 1.9535, 1.9535, 1.9534, 1.9534, 1.9533, 1.9531, 1.9531, 1.953, 1.9525, 1.9523, 1.9521, 1.9521, 1.952, 1.9519, 1.9518, 2.157, 2.1567, 2.1564, 2.1562, 2.1562, 2.1558, 2.1554, 2.1553, 2.1553, 2.1552, 2.155, 2.1548, 2.1548, 2.1547, 2.1546, 2.1545, 2.1545, 2.1544, 2.1542, 2.1539, 2.1537, 2.1536, 2.1534, 2.1534, 2.1534, 2.1533, 2.1532, 2.1531, 2.153, 2.153, 2.2534, 2.2533, 2.2533, 2.2532, 2.2531, 2.253, 2.2528, 2.2528, 2.2528, 2.2527, 2.2525, 2.2521, 2.252, 2.252, 2.2514, 2.2511, 2.2509, 2.2507, 2.2504, 2.2504, 2.2503, 2.2503, 2.2497, 2.2492, 2.2489, 2.2489, 2.2488, 2.2486, 2.2485, 2.2482, 2.3302, 2.3299, 2.3295, 2.3295, 2.3292, 2.3292, 2.3291, 2.3289, 2.3287, 2.3286, 2.3285, 2.3283, 2.3282, 2.3279, 2.3279, 2.3279, 2.3278, 2.3276, 2.3276, 2.3273, 2.3273, 2.3273, 2.3271, 2.3271, 2.3266, 2.3264, 2.3262, 2.326, 2.3258, 2.3257, 2.3698, 2.3697, 2.3697, 2.3696, 2.3695, 2.3695, 2.3693, 2.3692, 2.3685, 2.368, 2.3679, 2.3678, 2.3677, 2.3675, 2.3673, 2.3673, 2.3672, 2.3672, 2.3671, 2.3671, 2.367, 2.3665, 2.3662, 2.3661, 2.3659, 2.3652, 2.3646, 2.3643, 2.3639, 2.3635, 2.3943, 2.3943, 2.3943, 2.3942, 2.3937, 2.3935, 2.3935, 2.3933, 2.3926, 2.3924, 2.3923, 2.3919, 2.3918, 2.3915, 2.3913, 2.3911, 2.3911, 2.3908, 2.3907, 2.3898, 2.3896, 2.3894, 2.3894, 2.3894, 2.3894, 2.3888, 2.3887, 2.3877, 2.3847, 2.3847, 2.8739, 2.8738, 2.8733, 2.8733, 2.8731, 2.8726, 2.8724, 2.8719, 2.8717, 2.8717, 2.8715, 2.8714, 2.8711, 2.8705, 2.8704, 2.8702, 2.8696, 2.8696, 2.8696, 2.8695, 2.8694, 2.8692, 2.869, 2.8689, 2.8687, 2.8684, 2.8677, 2.867, 2.8668, 2.8661, 2.9908, 2.9905, 2.9904, 2.9902, 2.9895, 2.9893, 2.9891, 2.9891, 2.9885, 2.9881, 2.9879, 2.9879, 2.9877, 2.9876, 2.9873, 2.9867, 2.9857, 2.9855, 2.985, 2.9841, 2.9832, 2.983, 2.9824, 2.981, 2.9803, 2.98, 2.9798, 2.9791, 2.9785, 2.978, 3.3546, 3.3545, 3.3539, 3.3534, 3.3524, 3.352, 3.3518, 3.3513, 3.3511, 3.3511, 3.3509, 3.3506, 3.3504, 3.3502, 3.3498, 3.3488, 3.3484, 3.3472, 3.3452, 3.3448, 3.3446, 3.3443, 3.3441, 3.3436, 3.3433, 3.3432, 3.342, 3.341, 3.3394, 3.3387]}, \"token.table\": {\"Topic\": [8, 1, 1, 2, 9, 3, 9, 1, 5, 3, 10, 4, 10, 10, 7, 8, 6, 9, 8, 2, 1, 4, 4, 2, 7, 9, 8, 9, 10, 8, 3, 2, 4, 6, 3, 1, 2, 4, 10, 5, 1, 6, 8, 7, 1, 5, 4, 4, 10, 6, 4, 4, 6, 10, 1, 9, 9, 9, 5, 8, 1, 3, 2, 7, 1, 10, 10, 6, 6, 6, 3, 4, 8, 2, 3, 1, 8, 7, 6, 4, 10, 8, 5, 8, 6, 6, 6, 4, 9, 1, 7, 8, 9, 2, 10, 5, 7, 8, 9, 5, 3, 7, 7, 8, 6, 4, 6, 7, 10, 8, 4, 10, 2, 6, 2, 5, 9, 8, 2, 4, 5, 5, 7, 6, 1, 2, 5, 8, 6, 1, 4, 10, 4, 5, 9, 2, 1, 6, 1, 7, 7, 6, 2, 5, 8, 2, 3, 1, 3, 8, 2, 10, 9, 7, 10, 2, 5, 1, 3, 5, 4, 4, 9, 10, 4, 8, 10, 3, 7, 7, 10, 4, 5, 8, 2, 9, 2, 2, 3, 9, 10, 1, 6, 8, 3, 3, 8, 2, 10, 6, 10, 7, 5, 3, 5, 5, 9, 2, 6, 4, 6, 7, 4, 9, 3, 10, 9, 1, 6, 5, 7, 5, 3, 9, 3, 3, 8, 3, 3, 9, 7, 4, 10, 1, 1, 9, 3, 5, 7, 2, 6, 5, 2, 1, 3, 9, 3, 9, 7, 10, 7, 9, 10, 4, 1, 6, 9, 4, 2, 2, 7, 10, 7, 5, 1, 2, 1, 8, 9, 2, 10, 5, 7, 4, 6, 5, 1, 8, 5, 7, 4, 6, 3, 2, 5, 8, 1, 8, 4, 3, 6, 9, 7, 5, 1, 8, 9, 3, 7, 2, 3, 5, 4, 8, 3, 7, 1, 10, 6, 10], \"Freq\": [0.9924255769271239, 0.9992080025445299, 0.9998780678369982, 0.9961249864687053, 0.9946907473350671, 0.998352929235286, 0.9937503550362647, 0.9954745712691142, 0.995627839109161, 0.9982778444376001, 0.9797034307629126, 0.9990763169103449, 0.9940705134989484, 0.9963200850454318, 0.9919190580824703, 0.9888868842691058, 0.9996758454955317, 0.9952894495413092, 0.9949741622302032, 0.9927161241071015, 0.9998388896896636, 0.9950023926843544, 0.9968476626641242, 0.9967608515689582, 0.9997228223943208, 0.9955218995493073, 0.9907955171655433, 0.9987197111324663, 0.9976110869395223, 0.9950777905646107, 0.998340891242531, 0.9960767291811252, 0.9974460290887366, 0.9972833275267418, 0.9975000806014199, 0.9968724700700516, 0.9999166732566194, 0.9988500830241424, 0.9971291594471208, 0.9989905974213349, 0.9999353804549515, 0.9964316893886356, 0.9966999735730874, 0.9967830781006569, 0.9997073004947665, 0.9975268466800513, 0.9946496658722667, 0.9921967841410753, 0.9947729636578534, 0.9954061225716211, 0.9985659999718879, 0.9984595267903654, 0.99972195912122, 0.988196848690004, 0.9920236365742096, 0.9974789159154386, 0.9849249602629597, 0.9988717587288022, 0.9981307653376733, 0.9961244054269337, 0.9981865416050151, 0.998656093918368, 0.9971374342586217, 0.9975667304716836, 0.9953072425042979, 0.9915497352442566, 0.991663413771273, 0.9986251582818904, 0.9969573044380851, 0.9920632729268273, 0.9990915477478565, 0.9963273361988936, 0.9969066931182949, 0.9970677135685365, 0.9965200014829186, 0.9978005096963561, 0.9970061228480347, 0.9995191120767142, 0.9957742323437448, 0.9995854768027442, 0.9820601323317282, 0.9978854590701225, 0.9971794442284317, 0.9921704618776459, 0.9970105409317546, 0.9985659662836547, 0.9987862294491736, 0.995156984472523, 0.9873519387642736, 0.9935618169737457, 0.9994702872489926, 0.9976936162263115, 0.9993249105276966, 0.994481576646979, 0.9892014956675828, 0.9993287267927893, 0.9943780875743297, 0.997711389972304, 0.9896193230664453, 0.9983114138821739, 0.9979421291737129, 0.9966332532626706, 0.9954853435365597, 0.9953752654709741, 0.9994885434390525, 0.9949678253443642, 0.999203060755694, 0.9960052882158782, 0.9976959434572633, 0.9988344931638665, 0.9985467093921077, 0.9799825961204215, 0.9981612847401246, 0.9995252042136495, 0.9958077585064812, 0.9976168057322847, 0.9949327269984042, 0.9951049950217743, 0.9983434565446746, 0.9944824599158021, 0.9964286657309163, 0.9947679971882505, 0.9960823373073574, 0.9976167112452375, 0.9953258439726239, 0.9969050208856959, 0.9971057885653205, 0.9952537229977926, 0.9977626008135972, 0.9987272232213028, 0.9990740813081753, 0.9890310170710308, 0.9969182005129082, 0.9986941261773256, 0.9969467977419586, 0.9975684940158115, 0.9996780360830888, 0.9978513222669037, 0.991342212751926, 0.9973805455889345, 0.9997898771438155, 0.9982717729299034, 0.9962101079485562, 0.9956826212685346, 0.9977562428188194, 0.9989619458444581, 0.9978310295421596, 0.998188200066748, 0.9985858759814702, 0.993465150983245, 0.9962939670554781, 0.9970664822224037, 0.9980745610686068, 0.9983179434865401, 0.9948760309462324, 0.9965844586736329, 0.9972941081077208, 0.9972368349490409, 0.9955889793208084, 0.9972006577114254, 0.9969640893500773, 0.9947755336200236, 0.9958579998351568, 0.986020464746974, 0.9991885727460675, 0.9983288835881394, 0.994621360913983, 0.9936860610274907, 0.9947712386106425, 0.9979043475350025, 0.9858562907715609, 0.9922173257501312, 0.9958277862682275, 0.9971728370838202, 0.99786860159191, 0.9903855994180883, 0.9975077719142875, 0.9996643192441715, 0.999029920668379, 0.993819651233899, 0.988290592923721, 0.9997924325297047, 0.9947523579184875, 0.9921597168349139, 0.9937240276784645, 0.997730209305492, 0.9973840541573421, 0.9978953543923006, 0.9901646577167335, 0.9977850710350035, 0.9874270932763674, 0.9986087668042861, 0.997923866408487, 0.9959521179945118, 0.9969375667185953, 0.9954916077010787, 0.9901283986382681, 0.9954390388329232, 0.9985369453292925, 0.9921504624721152, 0.9970986107972946, 0.9947854988914566, 0.9978999402258462, 0.996737171066911, 0.9980513158022603, 0.9979589364999784, 0.9941775909552787, 0.9968873001476027, 0.9960727852601077, 0.9952817983385729, 0.9948348126672044, 0.9989449507344498, 0.99841103882989, 0.9977080000268224, 0.9959847163540152, 0.996482354955684, 0.9926026606124314, 0.9957757057415674, 0.9975865502825532, 0.9911663829815726, 0.996736314746844, 0.9981726190996036, 0.9974897148479193, 0.9942888376463505, 0.9959068217415032, 0.9972932035775418, 0.9961710257766586, 0.9986568939599129, 0.996424108241059, 0.9974308902115393, 0.9983149966701732, 0.9935035706558556, 0.9982088435871415, 0.9960059809365915, 0.9994449262668393, 0.9952801530555971, 0.998125559154756, 0.9840261749803986, 0.9993163344588222, 0.992174110228378, 0.998132194370841, 0.9886142337904725, 0.9958387146882933, 0.9938009335399995, 0.9961397620189004, 0.9923077777449895, 0.9993808186841099, 0.9984615124011518, 0.9953725609650912, 0.998639370112598, 0.9967830781006569, 0.9855913245235484, 0.9936845822046204, 0.9968284758127371, 0.9970442656241639, 0.9980214171866262, 0.9948545891688366, 0.992521761650117, 0.9979105438871112, 0.9950902360679418, 0.9926519004050579, 0.9974072756013515, 0.9991492238552532, 0.9979518469624801, 0.9961465712419169, 0.9993885979753379, 0.9957361847931367, 0.9964022316418383, 0.9991684460304225, 0.9965730062190111, 0.9991009985031768, 0.9970659962419952, 0.9960270722360725, 0.9957596436518404, 0.9979915871878692, 0.9951785053170461, 0.9982978706870842, 0.9941152290180987, 0.997461731787933, 0.9987814418906299, 0.9958925168139602, 0.9958808251707276, 0.9945778428080412, 0.9996858758403779, 0.994007941771918, 0.9936976591586021, 0.9990162697333331, 0.9973067571511687, 0.992714431583438, 0.9968319271819155, 0.99626504174749, 0.9975918681798989, 0.9992301214380797, 0.9979410047115405, 0.9973911067817135, 0.9970103517641341, 0.9968761166686299, 0.9961995324141363, 0.9990886735191665, 0.9893482149219709], \"Term\": [\"accountable\", \"action\", \"activist\", \"ad\", \"add\", \"address\", \"ahead\", \"almost\", \"also\", \"ambitious\", \"american\", \"amp\", \"annual\", \"article\", \"assessment\", \"attack\", \"back\", \"bad\", \"battle\", \"begin\", \"big\", \"blame\", \"bloomberg_businessweek\", \"blow\", \"board\", \"boardroom\", \"break\", \"business\", \"call\", \"campaign\", \"carbon\", \"carbon_capture\", \"case\", \"cause\", \"ceo\", \"challenge\", \"change\", \"chevron\", \"claim\", \"clean\", \"climate\", \"co\", \"come\", \"committing_ecocide\", \"company\", \"concern\", \"consumer\", \"continue\", \"corporate\", \"corporation\", \"could_slow\", \"court\", \"crisis\", \"critical\", \"customer\", \"cut\", \"dairys\", \"damage\", \"dark\", \"datum\", \"day\", \"decade\", \"defeat\", \"demand\", \"denial\", \"denier\", \"destroy\", \"director\", \"disclose\", \"divest\", \"downplay\", \"dutch\", \"earning\", \"earth\", \"economy\", \"effort\", \"elect\", \"emission\", \"end\", \"energy\", \"engagement\", \"engine\", \"enough\", \"entire\", \"environmental\", \"essential\", \"even\", \"evil\", \"exactly\", \"executive\", \"exxon\", \"exxonmobil\", \"face\", \"fail\", \"feel\", \"fight\", \"file\", \"find\", \"firm\", \"first\", \"focus\", \"follow\", \"force\", \"former\", \"fossil\", \"fraud\", \"fuel\", \"full\", \"fund\", \"future\", \"gas\", \"general\", \"get\", \"giant\", \"global\", \"go\", \"goal\", \"going\", \"good\", \"government\", \"great\", \"green\", \"group\", \"grow\", \"heat\", \"hedge_fund\", \"help\", \"hiding\", \"high\", \"historic\", \"hold\", \"hope\", \"huge\", \"impact\", \"include\", \"increase\", \"industry\", \"invest\", \"investigation\", \"investment\", \"investor\", \"investor_oust\", \"issue\", \"job\", \"keep\", \"know\", \"landmark\", \"large\", \"late\", \"launch\", \"lawsuit\", \"lead\", \"leaked_document\", \"least\", \"let\", \"lie\", \"little\", \"lobby\", \"lobbyist\", \"look\", \"lose\", \"loss\", \"lucrative\", \"m\", \"major\", \"make\", \"management\", \"mean\", \"meeting\", \"member\", \"misrepresent\", \"mobil\", \"money\", \"move\", \"much\", \"nature\", \"need\", \"new\", \"news\", \"next\", \"nominate\", \"oil\", \"onto_consumer\", \"order\", \"past\", \"pay\", \"pension_fund\", \"people\", \"person\", \"petition\", \"phase\", \"plan\", \"planet\", \"pledge\", \"policy\", \"political\", \"polluter\", \"power\", \"pressure\", \"problem\", \"proclimate_campaign\", \"producer\", \"product\", \"production\", \"profit\", \"project\", \"projection\", \"propaganda\", \"protect\", \"provider\", \"proxy\", \"public\", \"push\", \"put\", \"question\", \"quietly_shelve\", \"rd\", \"re\", \"read\", \"rebellion\", \"reduce\", \"renewable\", \"report\", \"require\", \"responsibility\", \"reveal\", \"reversing\", \"right\", \"rise\", \"risk\", \"role\", \"rule\", \"s\", \"samp\", \"say\", \"science\", \"scientist\", \"scope\", \"seat\", \"sector\", \"see\", \"send\", \"set\", \"setback\", \"shake\", \"share\", \"shareholder\", \"shell\", \"shift\", \"show\", \"shows_yearly\", \"sink\", \"sit\", \"solar\", \"solution\", \"spend\", \"stand\", \"start\", \"state\", \"still\", \"stock\", \"stop\", \"strategy\", \"study\", \"subsidy\", \"sue\", \"suit\", \"support\", \"take\", \"target\", \"technology\", \"texas_governor\", \"thank\", \"think\", \"time\", \"tobacco\", \"today\", \"toll\", \"total\", \"transition\", \"try\", \"unable\", \"urge\", \"use\", \"valuable\", \"victory\", \"vote\", \"want\", \"warm\", \"way\", \"week\", \"well\", \"win\", \"wind\", \"work\", \"world\", \"worlds_bigg\", \"xom\", \"year\", \"yesterday\"]}, \"R\": 30, \"lambda.step\": 0.01, \"plot.opts\": {\"xlab\": \"PC1\", \"ylab\": \"PC2\"}, \"topic.order\": [1, 6, 7, 9, 4, 2, 5, 3, 8, 10]};\n",
       "\n",
       "function LDAvis_load_lib(url, callback){\n",
       "  var s = document.createElement('script');\n",
       "  s.src = url;\n",
       "  s.async = true;\n",
       "  s.onreadystatechange = s.onload = callback;\n",
       "  s.onerror = function(){console.warn(\"failed to load library \" + url);};\n",
       "  document.getElementsByTagName(\"head\")[0].appendChild(s);\n",
       "}\n",
       "\n",
       "if(typeof(LDAvis) !== \"undefined\"){\n",
       "   // already loaded: just create the visualization\n",
       "   !function(LDAvis){\n",
       "       new LDAvis(\"#\" + \"ldavis_el487891404885483623841789193329\", ldavis_el487891404885483623841789193329_data);\n",
       "   }(LDAvis);\n",
       "}else if(typeof define === \"function\" && define.amd){\n",
       "   // require.js is available: use it to load d3/LDAvis\n",
       "   require.config({paths: {d3: \"https://d3js.org/d3.v5\"}});\n",
       "   require([\"d3\"], function(d3){\n",
       "      window.d3 = d3;\n",
       "      LDAvis_load_lib(\"https://cdn.jsdelivr.net/gh/bmabey/pyLDAvis@3.3.1/pyLDAvis/js/ldavis.v3.0.0.js\", function(){\n",
       "        new LDAvis(\"#\" + \"ldavis_el487891404885483623841789193329\", ldavis_el487891404885483623841789193329_data);\n",
       "      });\n",
       "    });\n",
       "}else{\n",
       "    // require.js not available: dynamically load d3 & LDAvis\n",
       "    LDAvis_load_lib(\"https://d3js.org/d3.v5.js\", function(){\n",
       "         LDAvis_load_lib(\"https://cdn.jsdelivr.net/gh/bmabey/pyLDAvis@3.3.1/pyLDAvis/js/ldavis.v3.0.0.js\", function(){\n",
       "                 new LDAvis(\"#\" + \"ldavis_el487891404885483623841789193329\", ldavis_el487891404885483623841789193329_data);\n",
       "            })\n",
       "         });\n",
       "}\n",
       "</script>"
      ],
      "text/plain": [
       "PreparedData(topic_coordinates=              x         y  topics  cluster       Freq\n",
       "topic                                                \n",
       "0      0.442479 -0.072144       1        1  21.476678\n",
       "5      0.027393  0.441309       2        1  14.130467\n",
       "6     -0.060675 -0.048909       3        1  11.562708\n",
       "8     -0.027123 -0.072187       4        1  10.495827\n",
       "3     -0.042365 -0.057253       5        1   9.721831\n",
       "1     -0.065585 -0.039925       6        1   9.345091\n",
       "4     -0.030184 -0.046189       7        1   9.119643\n",
       "2     -0.076642 -0.040076       8        1   5.640667\n",
       "7     -0.082184 -0.035028       9        1   5.021082\n",
       "9     -0.085114 -0.029598      10        1   3.486006, topic_info=            Term          Freq         Total Category  logprob  loglift\n",
       "3        climate  16458.000000  16458.000000  Default  30.0000  30.0000\n",
       "30        change   6402.000000   6402.000000  Default  29.0000  29.0000\n",
       "42           oil   5259.000000   5259.000000  Default  28.0000  28.0000\n",
       "21         exxon   2250.000000   2250.000000  Default  27.0000  27.0000\n",
       "29           big   3481.000000   3481.000000  Default  26.0000  26.0000\n",
       "...          ...           ...           ...      ...      ...      ...\n",
       "3790      person     67.770611     68.675447  Topic10  -4.7232   3.3432\n",
       "617   engagement     62.228054     63.132590  Topic10  -4.8085   3.3420\n",
       "302     american     58.297249     59.201589  Topic10  -4.8738   3.3410\n",
       "7873    nominate     52.723754     53.627952  Topic10  -4.9743   3.3394\n",
       "908     critical     50.704789     51.609151  Topic10  -5.0133   3.3387\n",
       "\n",
       "[330 rows x 6 columns], token_table=      Topic      Freq         Term\n",
       "term                              \n",
       "1733      8  0.992426  accountable\n",
       "64        1  0.999208       action\n",
       "174       1  0.999878     activist\n",
       "159       2  0.996125           ad\n",
       "132       9  0.994691          add\n",
       "...     ...       ...          ...\n",
       "208       7  0.997010        world\n",
       "1687      1  0.996876  worlds_bigg\n",
       "780      10  0.996200          xom\n",
       "63        6  0.999089         year\n",
       "2450     10  0.989348    yesterday\n",
       "\n",
       "[300 rows x 3 columns], R=30, lambda_step=0.01, plot_opts={'xlab': 'PC1', 'ylab': 'PC2'}, topic_order=[1, 6, 7, 9, 4, 2, 5, 3, 8, 10])"
      ]
     },
     "execution_count": 35,
     "metadata": {},
     "output_type": "execute_result"
    }
   ],
   "source": [
    "# Visualize the topics\n",
    "pyLDAvis.enable_notebook()\n",
    "vis = pyLDAvis.gensim_models.prepare(lda_model, corpus, id2word)\n",
    "vis"
   ]
  },
  {
   "cell_type": "markdown",
   "id": "12e69ee4-15d9-47c5-844d-117d707ab222",
   "metadata": {
    "tags": []
   },
   "source": [
    "# The Following code is still being working on"
   ]
  },
  {
   "cell_type": "markdown",
   "id": "376f4e9e-9158-4afc-933d-8571b63db883",
   "metadata": {
    "tags": []
   },
   "source": [
    "### Find the optimal number of topics"
   ]
  },
  {
   "cell_type": "code",
   "execution_count": 36,
   "id": "7ad00526-2503-4f3f-9f45-cbf49d3eb72e",
   "metadata": {},
   "outputs": [],
   "source": [
    "def compute_coherence_values(dictionary, corpus, texts, limit, start=2, step=3):\n",
    "    \"\"\"\n",
    "    Compute c_v coherence for various number of topics\n",
    "\n",
    "    Parameters:\n",
    "    ----------\n",
    "    dictionary : Gensim dictionary\n",
    "    corpus : Gensim corpus\n",
    "    texts : List of input texts\n",
    "    limit : Max num of topics\n",
    "\n",
    "    Returns:\n",
    "    -------\n",
    "    model_list : List of LDA topic models\n",
    "    coherence_values : Coherence values corresponding to the LDA model with respective number of topics\n",
    "    \"\"\"\n",
    "    coherence_values = []\n",
    "    model_list = []\n",
    "    for num_topics in range(start, limit, step):\n",
    "        model = gensim.models.ldamodel.LdaModel(corpus=corpus, num_topics=num_topics, id2word=id2word, random_state=500)\n",
    "        model_list.append(model)\n",
    "        coherencemodel = CoherenceModel(model=model, texts=texts, dictionary=dictionary, coherence='c_v')\n",
    "        coherence_values.append(coherencemodel.get_coherence())\n",
    "\n",
    "    return model_list, coherence_values"
   ]
  },
  {
   "cell_type": "code",
   "execution_count": 37,
   "id": "3900923d-71e3-48cc-9874-a5c45678b06e",
   "metadata": {},
   "outputs": [],
   "source": [
    "# May take a long time to run.\n",
    "model_list, coherence_values = compute_coherence_values(dictionary=id2word, corpus=corpus, texts=tweet_lemmatized, start=2, limit=20, step=2)"
   ]
  },
  {
   "cell_type": "code",
   "execution_count": 38,
   "id": "3415d926-fdd9-4d0e-8d5e-7620b147d78b",
   "metadata": {},
   "outputs": [
    {
     "data": {
      "image/png": "[encoded data removed]",
      "text/plain": [
       "<Figure size 432x288 with 1 Axes>"
      ]
     },
     "metadata": {
      "needs_background": "light"
     },
     "output_type": "display_data"
    }
   ],
   "source": [
    "# Show graph\n",
    "limit=20; start=2; step=2;\n",
    "x = range(start, limit, step)\n",
    "plt.plot(x, coherence_values)\n",
    "plt.xlabel(\"Num Topics\")\n",
    "plt.ylabel(\"Coherence score\")\n",
    "plt.legend((\"coherence_values\"), loc='best')\n",
    "plt.show()"
   ]
  },
  {
   "cell_type": "code",
   "execution_count": 39,
   "id": "fa752331-e3ad-4d55-8b56-b4b5b2be33b2",
   "metadata": {},
   "outputs": [
    {
     "name": "stdout",
     "output_type": "stream",
     "text": [
      "Num Topics = 2  has Coherence Value of 0.2594\n",
      "Num Topics = 4  has Coherence Value of 0.2939\n",
      "Num Topics = 6  has Coherence Value of 0.3459\n",
      "Num Topics = 8  has Coherence Value of 0.3158\n",
      "Num Topics = 10  has Coherence Value of 0.3771\n",
      "Num Topics = 12  has Coherence Value of 0.3688\n",
      "Num Topics = 14  has Coherence Value of 0.3517\n",
      "Num Topics = 16  has Coherence Value of 0.3528\n",
      "Num Topics = 18  has Coherence Value of 0.3519\n"
     ]
    }
   ],
   "source": [
    "# Print the coherence scores\n",
    "for m, cv in zip(x, coherence_values):\n",
    "    print(\"Num Topics =\", m, \" has Coherence Value of\", round(cv, 4))"
   ]
  },
  {
   "cell_type": "code",
   "execution_count": 40,
   "id": "6457081c-f856-4de7-854e-8b8bfca718ad",
   "metadata": {},
   "outputs": [
    {
     "name": "stdout",
     "output_type": "stream",
     "text": [
      "[(0,\n",
      "  '0.056*\"business\" + 0.044*\"plan\" + 0.041*\"climate\" + 0.033*\"know\" + '\n",
      "  '0.030*\"exxon\" + 0.029*\"emission\" + 0.029*\"reveal\" + 0.029*\"damage\" + '\n",
      "  '0.021*\"evil\" + 0.020*\"add\"'),\n",
      " (1,\n",
      "  '0.028*\"climate\" + 0.028*\"oil\" + 0.019*\"amp\" + 0.018*\"industry\" + '\n",
      "  '0.017*\"company\" + 0.016*\"change\" + 0.013*\"gas\" + 0.013*\"project\" + '\n",
      "  '0.012*\"need\" + 0.010*\"get\"'),\n",
      " (2,\n",
      "  '0.051*\"climate\" + 0.051*\"concern\" + 0.024*\"science\" + 0.023*\"lie\" + '\n",
      "  '0.020*\"worlds_bigg\" + 0.018*\"lower\" + 0.017*\"document\" + 0.014*\"here\" + '\n",
      "  '0.013*\"fast\" + 0.013*\"part\"'),\n",
      " (3,\n",
      "  '0.069*\"climate\" + 0.052*\"change\" + 0.040*\"exxon\" + 0.021*\"company\" + '\n",
      "  '0.020*\"strategy\" + 0.019*\"emission\" + 0.015*\"back\" + 0.014*\"say\" + '\n",
      "  '0.012*\"hold\" + 0.011*\"technology\"'),\n",
      " (4,\n",
      "  '0.131*\"fuel\" + 0.119*\"fossil\" + 0.080*\"pressure\" + 0.040*\"sue\" + '\n",
      "  '0.037*\"climate\" + 0.034*\"corporation\" + 0.027*\"end\" + 0.027*\"crisis\" + '\n",
      "  '0.027*\"petition\" + 0.027*\"year\"'),\n",
      " (5,\n",
      "  '0.073*\"climate\" + 0.063*\"oil\" + 0.046*\"change\" + 0.037*\"shell\" + '\n",
      "  '0.036*\"big\" + 0.035*\"chevron\" + 0.026*\"engine\" + 0.021*\"investor\" + '\n",
      "  '0.018*\"company\" + 0.016*\"day\"'),\n",
      " (6,\n",
      "  '0.109*\"activist\" + 0.070*\"climate\" + 0.049*\"board\" + 0.045*\"investor\" + '\n",
      "  '0.042*\"new\" + 0.029*\"win\" + 0.028*\"shareholder\" + 0.024*\"least\" + '\n",
      "  '0.017*\"push\" + 0.016*\"director\"'),\n",
      " (7,\n",
      "  '0.106*\"climate\" + 0.056*\"video\" + 0.043*\"push\" + 0.043*\"catch\" + '\n",
      "  '0.040*\"lobbyist\" + 0.038*\"plan\" + 0.034*\"talk\" + 0.030*\"landmark\" + '\n",
      "  '0.021*\"exxon\" + 0.020*\"bid\"'),\n",
      " (8,\n",
      "  '0.098*\"climate\" + 0.047*\"big\" + 0.044*\"change\" + 0.025*\"oil\" + '\n",
      "  '0.023*\"crisis\" + 0.022*\"use\" + 0.021*\"downplay\" + 0.018*\"say\" + '\n",
      "  '0.016*\"company\" + 0.016*\"know\"'),\n",
      " (9,\n",
      "  '0.084*\"climate\" + 0.037*\"seat\" + 0.035*\"oil\" + 0.032*\"change\" + '\n",
      "  '0.029*\"vote\" + 0.029*\"board\" + 0.026*\"giant\" + 0.024*\"fight\" + '\n",
      "  '0.018*\"effort\" + 0.017*\"action\"')]\n"
     ]
    }
   ],
   "source": [
    "# Select the model and print the topics\n",
    "optimal_model = model_list[4]\n",
    "model_topics = optimal_model.show_topics(formatted=False)\n",
    "pprint(optimal_model.print_topics(num_words=10))"
   ]
  },
  {
   "cell_type": "code",
   "execution_count": 41,
   "id": "89277f1f-5465-446a-b195-baa74dab95e0",
   "metadata": {},
   "outputs": [
    {
     "name": "stderr",
     "output_type": "stream",
     "text": [
      "/opt/anaconda3/lib/python3.9/site-packages/pyLDAvis/_prepare.py:246: FutureWarning: In a future version of pandas all arguments of DataFrame.drop except for the argument 'labels' will be keyword-only\n",
      "  default_term_info = default_term_info.sort_values(\n"
     ]
    },
    {
     "data": {
      "text/html": [
       "\n",
       "<link rel=\"stylesheet\" type=\"text/css\" href=\"https://cdn.jsdelivr.net/gh/bmabey/pyLDAvis@3.3.1/pyLDAvis/js/ldavis.v1.0.0.css\">\n",
       "\n",
       "\n",
       "<div id=\"ldavis_el487891404885606352323859220536\"></div>\n",
       "<script type=\"text/javascript\">\n",
       "\n",
       "var ldavis_el487891404885606352323859220536_data = {\"mdsDat\": {\"x\": [0.09568172728469906, 0.0639883761238957, 0.1440297039645573, 0.049624423698462365, 0.13387880278457903, 0.15985361544949514, -0.2695520453533585, -0.14035670208832624, -0.11466420331862781, -0.12248369854537618], \"y\": [-0.0404355158877346, 0.046792812954040225, 0.03283418421588093, 0.07323935774469104, 0.047712131202844336, 0.00664427780144302, 0.2429175281609604, -0.12757884936845898, -0.2457993258131637, -0.03632660101050294], \"topics\": [1, 2, 3, 4, 5, 6, 7, 8, 9, 10], \"cluster\": [1, 1, 1, 1, 1, 1, 1, 1, 1, 1], \"Freq\": [14.365435218837089, 14.299710347962302, 13.876080719748277, 12.975537713574045, 10.494232130033623, 9.880707928593962, 7.523811381012431, 7.022121565587367, 5.6163041165540815, 3.946058878096826]}, \"tinfo\": {\"Term\": [\"fuel\", \"activist\", \"fossil\", \"pressure\", \"board\", \"video\", \"plan\", \"seat\", \"business\", \"big\", \"push\", \"exxon\", \"investor\", \"sue\", \"vote\", \"know\", \"catch\", \"new\", \"climate\", \"oil\", \"chevron\", \"win\", \"lobbyist\", \"change\", \"shell\", \"corporation\", \"concern\", \"shareholder\", \"emission\", \"engine\", \"could_slow\", \"annual\", \"shake\", \"rebellion\", \"result\", \"assessment\", \"committing_ecocide\", \"shows_yearly\", \"bloomberg_businessweek\", \"plastic\", \"naming_senator\", \"actively\", \"appoint\", \"defend\", \"climaterelate\", \"consequence\", \"massive\", \"view\", \"matter\", \"tricks_top\", \"broad\", \"tech\", \"notice\", \"comment\", \"car\", \"society\", \"succeed\", \"confront\", \"choose\", \"rise\", \"strategy\", \"announce\", \"playbook\", \"secret\", \"disclosure\", \"technology\", \"investment\", \"blame\", \"back\", \"hold\", \"accountable\", \"mobil\", \"enough\", \"increase\", \"exxon\", \"carbon\", \"denier\", \"lawsuit\", \"block\", \"reduce\", \"emission\", \"change\", \"climate\", \"company\", \"risk\", \"say\", \"use\", \"first\", \"energy\", \"support\", \"lobbyist\", \"action\", \"work\", \"see\", \"oil\", \"investor\", \"downplay\", \"consumer\", \"greenpeace\", \"electrification\", \"fall\", \"deploy\", \"gasoline\", \"almost\", \"blow\", \"gravity\", \"spending\", \"battle\", \"liability\", \"meat\", \"spotlight\", \"aim\", \"pause\", \"catastrophe\", \"supreme_court\", \"scientific\", \"combine\", \"responsibility\", \"denialism\", \"ccs\", \"activism\", \"half\", \"spent_million\", \"american\", \"sit\", \"wonder\", \"study\", \"term\", \"years_ago\", \"decade\", \"powerful_signal\", \"likely\", \"find\", \"late\", \"methane\", \"judge\", \"use\", \"kill\", \"big\", \"show\", \"crisis\", \"tobacco\", \"climate\", \"know\", \"make\", \"change\", \"say\", \"product\", \"oil\", \"company\", \"new\", \"industry\", \"science\", \"role\", \"denial\", \"planet\", \"come\", \"amp\", \"get\", \"seat\", \"hedge_fund\", \"earning\", \"undercut\", \"say_youre\", \"crucial\", \"reckon\", \"stance\", \"quit\", \"capital\", \"protect\", \"release\", \"language\", \"criticize\", \"conocophillip\", \"tiny\", \"detail\", \"vote\", \"secretly_recorde\", \"companys\", \"revolt\", \"race\", \"reuter\", \"watershed_moment\", \"number\", \"suffer\", \"knowingly\", \"shadow_group\", \"attention\", \"game\", \"describe\", \"exactly\", \"historic\", \"die\", \"lose\", \"effort\", \"giant\", \"fight\", \"proposal\", \"action\", \"take\", \"board\", \"undermine\", \"heat\", \"shareholder\", \"address\", \"climate\", \"win\", \"major\", \"oil\", \"change\", \"court\", \"lobbyist\", \"company\", \"director\", \"least\", \"big\", \"know\", \"activist\", \"say\", \"member\", \"climatechange\", \"advocate\", \"city\", \"remove\", \"present\", \"attempt\", \"subpoena\", \"bipartisan\", \"last_week\", \"interview\", \"lee_raymond\", \"project\", \"voting\", \"worlds_biggest\", \"vehicle\", \"shape\", \"choice\", \"urgent\", \"different\", \"ago\", \"old\", \"committee\", \"leadership\", \"paper\", \"field\", \"pursue\", \"corps\", \"amazing\", \"become\", \"travel\", \"senator\", \"divest\", \"job\", \"side\", \"morning\", \"update\", \"ground\", \"war\", \"develop\", \"read\", \"economy\", \"try\", \"demand\", \"need\", \"feel\", \"decision\", \"amp\", \"gas\", \"thank\", \"support\", \"industry\", \"power\", \"scientist\", \"lobby\", \"get\", \"state\", \"tell\", \"oil\", \"report\", \"company\", \"role\", \"climate\", \"energy\", \"week\", \"change\", \"go\", \"reveal\", \"public\", \"year\", \"major\", \"back\", \"fuel\", \"time\", \"engine\", \"victory\", \"setback\", \"loss\", \"giants_toward\", \"pension_fund\", \"power_shift\", \"manager\", \"bloomberg\", \"essential\", \"royal_dutch\", \"pandemic\", \"coalition\", \"exclusive\", \"chang_said\", \"score\", \"national\", \"surprise\", \"toll\", \"offshore_drille\", \"cite\", \"misrepresent\", \"slash\", \"death\", \"samp\", \"film\", \"natural\", \"discussion\", \"summary\", \"growth\", \"launch\", \"proxy\", \"chevron\", \"tipping_point\", \"approach\", \"shell\", \"day\", \"invest\", \"large\", \"oil\", \"future\", \"big\", \"change\", \"good\", \"climate\", \"investor\", \"begin\", \"company\", \"new\", \"green\", \"gas\", \"address\", \"well\", \"amp\", \"exxon\", \"energy\", \"emission\", \"elect\", \"unable\", \"proclimate_campaign\", \"dark\", \"investor_oust\", \"steer\", \"election\", \"dupe\", \"guyanese_citizen\", \"level\", \"signal\", \"set\", \"moment\", \"argue\", \"nominate\", \"urge\", \"ploy_ceo\", \"condemns_statement\", \"deep\", \"ambitious\", \"aggressive\", \"candidate\", \"era\", \"estimate\", \"referendum\", \"atmosphere\", \"criminal\", \"carbon_dioxide\", \"hour\", \"advocacy\", \"pull\", \"customer\", \"activist\", \"defeat\", \"challenge\", \"york_time\", \"least\", \"xom\", \"dutch\", \"investor\", \"pledge\", \"new\", \"win\", \"board\", \"member\", \"shareholder\", \"director\", \"management\", \"clean\", \"group\", \"push\", \"force\", \"climate\", \"cut\", \"put\", \"face\", \"energy\", \"news\", \"court\", \"change\", \"say\", \"shell\", \"petition\", \"subsidy\", \"sign\", \"willing\", \"contribute\", \"end\", \"government_give\", \"taxpayerfunded_subsidie\", \"corporation\", \"engage\", \"black\", \"evidence\", \"drama\", \"demonstrate\", \"double\", \"buck\", \"shock\", \"bank\", \"stick\", \"quickly\", \"pressure\", \"western\", \"guess\", \"related\", \"violation\", \"gt\", \"french\", \"stress\", \"brag\", \"announcement\", \"fuel\", \"fossil\", \"sue\", \"notch\", \"year\", \"crisis\", \"shift\", \"industry\", \"climate\", \"go\", \"oil\", \"lawsuit\", \"enough\", \"landmark\", \"send\", \"coup\", \"petroleum\", \"litigation\", \"speed\", \"sabotage\", \"harvard_researcher\", \"hurt\", \"div\", \"deliver\", \"held_accountable\", \"refuse\", \"tank\", \"organization\", \"tip\", \"end_week\", \"care_job\", \"back_better\", \"justice_urge\", \"negative\", \"bid\", \"uncertainty\", \"compensation\", \"embrace\", \"worried\", \"dominate\", \"circle\", \"sting\", \"pass\", \"ecosearch\", \"catch\", \"talk\", \"video\", \"affect\", \"push\", \"past\", \"plan\", \"lobbyist\", \"biden\", \"move\", \"climate\", \"time\", \"case\", \"legislation\", \"exxon\", \"engagement\", \"crisis\", \"oil\", \"leaked_document\", \"lucrative\", \"evil\", \"wind\", \"install\", \"stake\", \"base\", \"going\", \"stakeholder\", \"pick\", \"citizen\", \"politic\", \"nice\", \"reject\", \"wall_street\", \"kind\", \"trick\", \"leak\", \"climatefriendly\", \"backlash\", \"mess\", \"alternative\", \"office\", \"fascinating\", \"guide\", \"spill\", \"infrastructure\", \"area\", \"usual\", \"scramble\", \"damage\", \"add\", \"key\", \"rule\", \"total\", \"solar\", \"business\", \"build\", \"reveal\", \"initiative\", \"measure\", \"plan\", \"let\", \"employee\", \"know\", \"emission\", \"exxon\", \"look\", \"earth\", \"climate\", \"amp\", \"lobbyist\", \"say\", \"concern\", \"worlds_bigg\", \"lower\", \"here\", \"disclose\", \"longterm\", \"international\", \"lowcarbon\", \"return\", \"mainstream\", \"offer\", \"debate\", \"fault\", \"practice\", \"exploration\", \"facility\", \"pace\", \"fundamental\", \"align\", \"blackrock\", \"pollute\", \"exist\", \"liable\", \"hydrocarbon\", \"conversation\", \"trouble\", \"conservative\", \"agm\", \"insider\", \"rate\", \"fast\", \"explain\", \"behavior\", \"document\", \"attack\", \"worth\", \"ice\", \"forward\", \"lobbying\", \"lie\", \"science\", \"part\", \"capture\", \"ahead\", \"climate\", \"change\", \"emission\", \"sell\", \"company\"], \"Freq\": [2374.0, 2692.0, 2155.0, 1340.0, 2080.0, 1063.0, 1167.0, 1123.0, 900.0, 2889.0, 1079.0, 2421.0, 1837.0, 750.0, 910.0, 1174.0, 756.0, 1729.0, 14973.0, 4789.0, 925.0, 1077.0, 1432.0, 5821.0, 1223.0, 559.0, 439.0, 1335.0, 1398.0, 601.0, 211.80007753413412, 153.00830347110477, 112.40098632066852, 113.35428389547904, 97.60422131326143, 95.18556612831102, 92.36158587517018, 92.36144684971083, 87.13340908485205, 90.6418482600543, 64.37966093660997, 67.70431577167179, 63.01986755289863, 52.64572192151895, 50.50398715878396, 51.429047931086146, 100.12075773872857, 49.34833802787941, 51.7736371663612, 44.97497025011157, 59.28695713930573, 52.69646987274895, 44.4813493809706, 56.54556898471706, 39.10021897540679, 45.14835329075327, 38.299538427887704, 37.498718854909264, 47.228492457863695, 185.18697531701397, 642.4345988921681, 42.954860812925574, 85.08773725596798, 103.08194880312529, 63.10399259006846, 340.2425969711268, 286.9379236407737, 200.97422355104484, 486.7890995311332, 370.5509666294366, 123.83057665383888, 143.2963068341244, 223.5501727710283, 189.30354843709068, 1252.9950794999718, 335.07114256822626, 92.8399358951702, 193.2285005713969, 123.79605443714172, 187.44059264744882, 601.8144621309532, 1641.2493432442966, 2178.828774819148, 662.0150031250347, 238.53989779889335, 434.26285169910796, 325.845764307513, 166.30354229755082, 262.36843713916505, 192.9225274867406, 279.8321128991574, 234.00377511099518, 178.38456203049117, 165.62520049570114, 300.16053264039994, 180.12257051781833, 668.788776279686, 171.78637557751898, 158.07941647241324, 94.53966939722753, 93.93350930697464, 90.08653194247357, 83.97511814362832, 179.99783378411678, 337.90976996147253, 66.42759857147067, 110.97230220224742, 237.4477703724143, 65.85311508394915, 54.689924110830574, 51.09558021741193, 49.976858607473964, 50.01337155516133, 61.30528286899502, 64.01590126013804, 52.80204884524019, 47.87988790088319, 124.13066391918947, 59.843082437878756, 43.287625408471875, 124.20159212277605, 67.31307943388846, 40.70996280170652, 71.64629155776821, 39.61276438355314, 40.11614485983907, 470.61793930429076, 58.635176150510524, 48.56736268253479, 313.34839210244564, 111.46168349930831, 74.87289114323009, 371.9187437497809, 266.9071274510182, 69.02786235052287, 108.88226553240078, 683.84117159002, 66.53539662169469, 1479.7412715795017, 259.4853482315276, 713.9604129763399, 98.47029950543285, 3076.7677541101903, 487.1025919521958, 379.1085823536409, 1363.764204535087, 567.8549562786404, 166.9264461562102, 792.6774044415143, 499.03149505537687, 313.3404966236319, 273.16701849674297, 167.66024496484997, 151.44730167272579, 128.72297739716507, 140.5760868171954, 146.93049053181926, 171.36032563496468, 149.24329769937543, 1122.2253047597953, 402.1850428031012, 153.7369491505804, 127.19216495868285, 106.96200270674802, 122.75397861562107, 105.22819679685915, 104.3509040678856, 95.22095728458997, 77.76100563950648, 141.50862332645636, 70.82679977373343, 66.87606346160136, 65.62160779962358, 62.2392910771135, 63.13772381569326, 62.083069869381696, 893.7409145286665, 51.811336395399636, 47.1729808072502, 44.505968221214694, 56.88256036145844, 46.74102418502095, 39.95837473047683, 37.421054089031415, 61.997251749475815, 34.668795880842666, 32.09754591271234, 31.937313686775415, 58.926875623411625, 147.23772849082673, 64.14707976081255, 495.2635933435181, 146.02284585251496, 490.3553792776775, 541.7824141878489, 779.3997409127593, 739.3617642571103, 90.73157126597242, 527.1409467255479, 367.76455545368117, 869.9995882205135, 132.26636096554387, 89.14662183963961, 522.0343233151184, 273.48599308077377, 2546.276626658519, 426.4236081469665, 292.4327284572986, 1057.3773958674142, 961.842024230657, 201.0985432297634, 301.45000626930283, 372.9861590300329, 212.41803947340506, 218.77901252770997, 331.96444747066306, 239.0714710165786, 301.97647802976644, 226.79071570691167, 154.35808800855835, 188.43173054386887, 118.43993593978576, 92.4259616311856, 85.12566414885616, 84.67223502342935, 104.02696887125465, 72.47313701467573, 71.12094587893763, 76.14044978579021, 77.34594365207704, 59.479166632414945, 362.1778456836204, 55.717395518581164, 53.30851941772447, 53.18484851729322, 52.97928001304122, 48.732887767870764, 41.398206047646205, 58.99858040299754, 41.6855399721999, 151.8474830309391, 38.57890672928842, 68.43803021095657, 45.15385045537161, 61.105988856525194, 32.89590434393308, 33.86692117034979, 32.57895139734633, 179.8965085347342, 31.31915323684224, 121.13552800724455, 120.71835682109553, 128.78452561285064, 66.86730006315884, 53.03680958512351, 75.38070518247288, 135.97964466906512, 54.17081199512748, 55.84100032725289, 216.21029534931813, 162.8540742041534, 212.1970318721234, 238.1361440447047, 344.0770840076966, 120.78973592138718, 93.34881408784531, 542.3901670820894, 370.65448395710825, 152.59459749901035, 274.91332662205247, 500.8181330977052, 143.63567443788514, 155.76080254937358, 127.3657999027944, 289.43445285505334, 135.3670004949322, 122.01519610822781, 789.5030789629923, 227.1500545352964, 487.6607442308322, 162.8791758544226, 805.1063387931184, 268.16993152386897, 165.64793149968037, 447.9876586812442, 197.1190693467362, 190.5854494932987, 168.13006040221137, 212.26136559084924, 169.05325653602063, 168.75277696049656, 161.39589171365813, 154.38389970474748, 599.4650533135435, 294.70881513669815, 201.27170218020862, 187.5101677230036, 181.16366388336618, 141.63057848789663, 114.53009881815696, 108.1219101410142, 94.39975990241746, 92.66189383918267, 89.33314695203035, 66.06593627280324, 76.48402959516942, 74.6890489315235, 64.114498486646, 101.56318694100966, 51.57822588582267, 46.93150814560825, 55.586323817434575, 83.86169652000194, 48.630615391100314, 44.95038787221816, 44.03770885185349, 39.75172714164796, 63.11087442076005, 35.848632411765216, 33.409988642793536, 30.584398133179732, 32.18911261043034, 29.755239527548216, 138.34914825426225, 177.04104275907216, 799.7676727987466, 202.48416737272652, 92.30583227974554, 850.2821880278343, 357.0470415325985, 174.19599266098885, 206.02128499953503, 1441.71623897903, 273.3849120323765, 815.4744070693732, 1053.5573538627825, 228.47736679209987, 1667.620182770332, 479.3677322060287, 129.0915904713495, 421.86326651689274, 305.3607068219452, 125.40656821249833, 200.67328442211542, 176.61248815229993, 134.48014054420372, 206.07011972011117, 216.38369626364357, 168.00300602526414, 157.78377414221427, 208.9323458923669, 83.03234173558911, 166.41333599645105, 72.38985878406125, 178.81952985672353, 64.4207912162144, 61.396564234373216, 56.54694933158667, 60.060520872651885, 54.573783188752245, 65.93008382053046, 136.8312593323819, 59.915299315160865, 77.9584449583257, 51.032073240896786, 89.21079805766865, 44.712980245709325, 42.911845406917806, 39.13111753466922, 86.9345312979603, 33.77494588320727, 34.94181154071579, 33.7906784283023, 32.761711598562066, 37.87712397547003, 33.45620331170913, 33.3175319485371, 28.49934942271504, 33.14003250302083, 28.62173966516333, 58.60848647868326, 88.23510849036474, 2348.0244781871825, 209.57346471980293, 178.47709787711207, 48.57827432244661, 520.0564601086642, 150.0104616799625, 186.8046772331368, 975.3185892603917, 125.59392411997545, 915.0959768714648, 616.0761587387062, 1049.0768674338763, 281.6066990171612, 610.6939976877335, 340.7912050044052, 111.43713987081208, 235.9831033590036, 168.17362963132507, 374.7686306554509, 175.61423768777945, 1523.609321008612, 178.4180127589369, 161.4331550612268, 221.40121829282282, 269.39848559801095, 162.75196106947712, 167.9923882960845, 210.45531262496934, 157.74499555172065, 140.80332937736486, 441.6694665396473, 398.1324493406191, 341.98056341934165, 137.24341927247121, 204.6990050665344, 448.3029072598985, 143.15598845257622, 142.9615527230816, 554.201183769902, 110.17581657124803, 102.04274200025067, 93.8996651181925, 93.0923828080084, 81.7947762971332, 79.226543053209, 68.82282123771027, 62.87195968514565, 62.16325953960833, 61.94725560833202, 71.64667676223897, 1317.6829062777697, 52.27122300017378, 48.928768724809366, 45.18092959644767, 44.7433074098705, 40.12696492948702, 37.418519212466414, 34.92076968694464, 33.3782945199729, 36.914299262818496, 2159.4541047522694, 1962.3275466379257, 664.7126641040595, 50.74699726050914, 438.01976502877415, 442.3885292327357, 146.30367358807732, 259.8597041170201, 606.8586837598741, 135.536373513973, 199.4050002633268, 85.49245057806733, 70.67151658296306, 466.4741294053801, 209.6316093736636, 181.63507526114753, 125.51657707396001, 111.10623103002303, 103.85726768563327, 88.80351901501773, 83.78893872009513, 71.55052542508827, 69.07670663572696, 138.23866901965562, 58.46876123876235, 71.89193470841377, 50.508726468389284, 49.95614503479415, 46.29818842773522, 55.99604051596833, 56.461048458249074, 55.73679307993016, 54.49485833174123, 44.14102056085649, 301.0056128036047, 53.141628992973196, 37.36259125922456, 36.878655081523306, 38.142386629911144, 35.3528468767236, 30.18260580978654, 173.07984191337067, 161.37588301168853, 74.53911925190057, 659.0269622130867, 523.088638925745, 865.7365127250348, 77.61736824671183, 662.4244302469776, 75.86079080134223, 576.1574593094551, 618.0020506946465, 174.43034218115878, 207.7498594931511, 1623.6093814164888, 241.4185834341259, 184.91007489352708, 101.53029652163563, 320.7425402716652, 74.02456597382147, 87.80949336078778, 82.3049178498415, 225.45498637939252, 213.55709937225086, 259.33235359654395, 168.2304832658963, 84.19993556591733, 82.16373390461452, 57.138270123040805, 56.759227154777086, 49.38415522320094, 52.84419675119125, 46.270347276281775, 40.3561612977253, 37.670723397573795, 74.88859772438421, 102.43783543461872, 34.39335197327013, 33.15823259425326, 77.16919484881689, 37.64928243872748, 34.742546380546194, 31.17266821280883, 30.749006880952585, 29.5543034948084, 27.689057363946638, 26.55885135714188, 27.821977005285547, 230.0622264819724, 24.094877535715682, 28.912359184458612, 20.826234112137847, 351.7126714933581, 250.57913292499057, 80.94427400641483, 164.35382059280371, 167.79169740443095, 131.78310746006085, 689.1406009531555, 118.65018689495173, 355.8558142462975, 67.38022853885171, 82.21290936593114, 535.840085255959, 140.5576689659029, 48.15561545797281, 409.94156695521195, 360.80329475999747, 364.91771606839825, 123.03655794474892, 94.06171245420892, 500.3702226458035, 128.24473992096821, 89.66425332482689, 75.68926234422968, 437.7773060060404, 176.01592784833394, 159.0541266461443, 117.40913595589267, 105.94299153152649, 104.3589490000431, 76.30614066326784, 73.62998713373017, 67.22785040979723, 54.69269334643249, 64.1598367965925, 57.815313313520406, 52.282621175101696, 46.14023044323016, 42.58929791772455, 42.446860716815905, 42.10971552439621, 41.39353373689068, 78.24169953816714, 97.14287048270906, 48.48494704172285, 36.30332833266942, 32.82700117537039, 32.64700602655755, 31.835202821220793, 30.630635054182264, 32.226130287536485, 28.900666046527363, 31.552491126882096, 26.860030943407168, 116.3326462984737, 95.61808131225615, 33.34770114015737, 145.96140108334598, 89.51108582081022, 47.2324137995272, 36.97771519516585, 55.832383909015725, 77.5573513575816, 201.36633269305258, 209.62589746929402, 108.43786354349082, 74.36396502905673, 53.9093309504099, 444.04369062671697, 81.29365766127988, 66.92335888438232, 51.28182627943336, 58.68900693584667], \"Total\": [2374.0, 2692.0, 2155.0, 1340.0, 2080.0, 1063.0, 1167.0, 1123.0, 900.0, 2889.0, 1079.0, 2421.0, 1837.0, 750.0, 910.0, 1174.0, 756.0, 1729.0, 14973.0, 4789.0, 925.0, 1077.0, 1432.0, 5821.0, 1223.0, 559.0, 439.0, 1335.0, 1398.0, 601.0, 212.97449116369555, 154.1519472612499, 113.53510671700133, 114.53178636886226, 98.73790630441424, 96.3189985717517, 93.49501382025736, 93.49487664619076, 88.26978759401976, 91.98878048524688, 65.51338202599119, 68.89690245324327, 64.15365309005529, 53.78556939951141, 51.63831105145766, 52.599911495466, 102.41022167988831, 50.48193005762635, 52.9680902057933, 46.10863388050505, 60.78182476503909, 54.05604186002494, 45.63142891027303, 58.088431143294464, 40.234004846542554, 46.46747135336862, 39.44820413508817, 38.63238006204078, 48.65952940319504, 190.85923035157424, 662.4693529861282, 44.274098686616114, 88.69063236962008, 107.98695450256056, 65.53440836227878, 380.02479816071565, 328.14775807838396, 233.62478445352576, 660.9976861128899, 494.3297124575025, 144.24849107880664, 171.04475663089795, 297.40138002938926, 246.52952691183805, 2421.256759170378, 513.7854515373162, 106.47467921372079, 279.6526800869191, 156.12337569149236, 276.8496317748062, 1398.3840370304897, 5821.441593948318, 14973.090976608803, 2642.322569078528, 476.2030984160503, 1622.083934236094, 1081.9781607119332, 339.5579203101605, 1075.2184739430538, 520.6668318998736, 1432.4172692440989, 971.5485397276165, 437.5041623419109, 412.0472150131804, 4789.409169931022, 1837.2321487016027, 670.2254501089653, 172.9448724575912, 159.67128855872807, 95.71148422907962, 95.16689910508077, 91.27105597011256, 85.12800252388915, 182.84206393675603, 343.2497443830968, 67.5671364203126, 112.93087159638085, 241.68415122681384, 67.10739781239106, 55.81589855132286, 52.23767349275446, 51.10310649403812, 51.14063690986436, 62.70037796467057, 65.48722133266527, 54.03028008302767, 49.020434642643835, 127.16269423259112, 61.33632831874221, 44.415716680444, 127.46454557884678, 69.15443490007348, 41.83932544728668, 73.6571816210652, 40.73893130711713, 41.3199747224089, 489.9653351186349, 60.538830996443444, 50.10289421417893, 342.656067368406, 119.01814527869514, 78.69455404550123, 434.38369024832895, 304.67034442632234, 72.39970945257983, 120.49539463395864, 1081.9781607119332, 70.34312478276956, 2889.484720221199, 363.8455090618758, 1417.278131539126, 114.93542994282163, 14973.090976608803, 1174.145868477119, 832.2597833785753, 5821.441593948318, 1622.083934236094, 276.1751201548187, 4789.409169931022, 2642.322569078528, 1729.0931952746305, 1261.281166714697, 414.42145996992514, 326.1830455932153, 215.80371810684827, 318.85329459852386, 400.5040446765042, 1248.8207449961467, 652.9546172996797, 1123.3596595538693, 403.57995657779395, 154.8820048129117, 128.32695473046576, 108.09601788030582, 124.07565661740686, 106.40893652108642, 105.65919897438656, 96.41570275892175, 78.90109066373583, 143.6797873753215, 71.96150842555471, 68.01252936708428, 66.75825735952536, 63.40140811581621, 64.32574030514624, 63.275275932996045, 910.9360875044235, 52.97738130266848, 48.34200449667506, 45.6401601436096, 58.40858220039722, 48.0962139543981, 41.13683240320791, 38.55529141016792, 64.02490463907571, 35.803975478958975, 33.23157873379123, 33.071461326689786, 61.07088497678081, 152.89322660145936, 67.04439255903011, 542.6150854721269, 156.0457579360316, 546.984871338375, 637.503637432947, 1006.5508486353646, 1024.392537498687, 106.71819745014392, 971.5485397276165, 668.0430337703167, 2080.241713246559, 184.4447621813541, 106.0852528987933, 1335.8978202268122, 552.4960476273998, 14973.090976608803, 1077.877079324745, 638.0849276091842, 4789.409169931022, 5821.441593948318, 482.14391930232057, 1432.4172692440989, 2642.322569078528, 652.8997986725732, 794.8525370267214, 2889.484720221199, 1174.145868477119, 2692.0011756778786, 1622.083934236094, 468.20881474757834, 189.5361480986489, 119.54424155574829, 93.5747339301992, 86.23640524275419, 85.88972247950328, 105.59942239992965, 73.57733755876471, 72.30004463992665, 77.4635764884672, 78.75869954092671, 60.58677655389377, 369.065945882428, 56.83516103609246, 54.413316622249795, 54.29461578707594, 54.14295674683724, 49.95104970161044, 42.503785568661186, 60.65796723753097, 42.86052231578065, 156.1750172099332, 39.683121233103805, 70.42990428420693, 46.623547722146185, 63.11670949693873, 34.00056977278417, 35.013314800023934, 33.68949224155605, 186.11158202157995, 32.429953010269, 126.98490283205936, 126.863696266424, 135.7382664099808, 70.03064624332289, 55.64088873036043, 81.05191314670124, 155.65054981059237, 57.19320218218293, 59.19837654924051, 287.12217615291223, 210.82536452516763, 291.18008110749645, 335.5667348096254, 558.2646647236229, 154.89232237791217, 113.22435987663818, 1248.8207449961467, 758.5778237375894, 226.7442337388285, 520.6668318998736, 1261.281166714697, 211.98258203871978, 240.42263604695646, 177.3327376650752, 652.9546172996797, 207.17331906509108, 174.19989906041886, 4789.409169931022, 534.0821571055308, 2642.322569078528, 326.1830455932153, 14973.090976608803, 1075.2184739430538, 360.9035688679552, 5821.441593948318, 609.096502835645, 560.1229526288004, 378.9534319572537, 1046.9654467764824, 638.0849276091842, 660.9976861128899, 2374.6590792599745, 727.7560589624793, 601.6572108694887, 295.8427377220832, 202.42044455908095, 188.69986191083302, 182.583740841034, 142.82026640813118, 115.6638722702455, 109.33045988007687, 95.53473989458767, 93.79640843675298, 90.47971476967103, 67.20298538089814, 77.87921697837992, 76.07137798279285, 65.40548988309345, 103.72408758401265, 52.77384941571302, 48.06712307930932, 56.93816384909225, 85.93618699879765, 49.837246262793826, 46.08490538028301, 45.22916992167439, 40.893723001533495, 65.05011099041384, 37.0070379545748, 34.549004627983834, 31.718656078688387, 33.408672475529954, 30.889765033576925, 145.42122152749587, 187.93266816514597, 925.9504226725621, 225.66243999513281, 103.21703121415494, 1223.4693613675267, 561.9414093705792, 256.7303754984224, 320.53781441300936, 4789.409169931022, 533.8091492633839, 2889.484720221199, 5821.441593948318, 510.1067383012701, 14973.090976608803, 1837.2321487016027, 206.40049066179836, 2642.322569078528, 1729.0931952746305, 217.2576655681227, 758.5778237375894, 552.4960476273998, 261.1159749209574, 1248.8207449961467, 2421.256759170378, 1075.2184739430538, 1398.3840370304897, 210.09195984878244, 84.18333543147935, 169.01855726757856, 73.5655363525985, 181.8464951644067, 65.60770926512, 62.5550401064757, 57.697792209386414, 61.28814136085041, 55.72759297676739, 67.33682298503427, 140.01038803071802, 61.4017242960067, 79.90807345598715, 52.43758714615837, 91.91410414792372, 46.086834959331746, 44.237154391995155, 40.339836371477276, 89.70721634675994, 34.92719242843017, 36.13536435197073, 34.955371610961, 33.919462971691274, 39.27476397654664, 34.73262800938137, 34.593353644649845, 29.65623734390249, 34.525762944544105, 29.847412510404894, 61.14006635157808, 92.48277965514926, 2692.0011756778786, 231.4619418212674, 215.26485738892174, 52.274004273137585, 794.8525370267214, 192.48132749366854, 248.1968983636154, 1837.2321487016027, 161.45142217204457, 1729.0931952746305, 1077.877079324745, 2080.241713246559, 468.20881474757834, 1335.8978202268122, 652.8997986725732, 147.13731472653373, 421.0422124069085, 305.80179998937933, 1079.8509671211696, 344.79793417953056, 14973.090976608803, 373.1540009721225, 326.30160310460695, 615.9194179328316, 1075.2184739430538, 410.40981179577176, 482.14391930232057, 5821.441593948318, 1622.083934236094, 1223.4693613675267, 442.9656457474696, 399.70548725835795, 344.12117764811063, 138.2674460848417, 206.2854246421536, 452.1590984597814, 144.43028969458183, 144.2370512763856, 559.1977372372685, 111.19968290447045, 103.06665266633973, 94.92351710051506, 94.11972156123855, 82.8217071016215, 80.25052873166491, 69.84692742364908, 63.89579048421239, 63.18727576105163, 62.971292479121416, 72.88424641798889, 1340.7202125381104, 53.29546635043419, 49.952559169278025, 46.20489038404506, 45.76773673131647, 41.15074009403309, 38.44802705762732, 35.94663022069962, 34.402037566045806, 38.08190518455855, 2374.6590792599745, 2155.5534932281744, 750.7286604676976, 53.15141983346988, 1046.9654467764824, 1417.278131539126, 296.8696277294512, 1261.281166714697, 14973.090976608803, 609.096502835645, 4789.409169931022, 279.6526800869191, 297.40138002938926, 468.3973788555533, 210.65777948794633, 182.66273196062127, 126.54296821462172, 112.13253588863586, 104.88366622112093, 89.85491341464423, 84.82058052137937, 72.5768109899089, 70.10291225960667, 140.2961197816618, 59.49493064769538, 73.30706791843191, 51.53491287480731, 51.02852138793101, 47.32725096091325, 57.272916123103435, 57.75726463570816, 57.017431459368005, 55.761874232359126, 45.16777386661837, 308.12650663143233, 54.40983000395912, 38.39086293420416, 37.90580325150499, 39.21372007715486, 36.37953116451917, 31.20897239634524, 179.06516164316415, 167.03873952376705, 77.69685591089173, 756.7984095363411, 619.6370081815146, 1063.2679333338328, 83.42737595216117, 1079.8509671211696, 87.33798477882601, 1167.2279769667498, 1432.4172692440989, 266.92937922270136, 410.1185852254938, 14973.090976608803, 727.7560589624793, 600.8371933087966, 193.73967798010642, 2421.256759170378, 98.7478177011558, 1417.278131539126, 4789.409169931022, 226.77569868060533, 214.8781121086744, 260.97681281419926, 169.43264631276878, 85.31120602231995, 83.287270213065, 58.249255664397865, 57.93680971185713, 50.495629154425, 54.1235934859844, 47.44070345410193, 41.46719627515086, 38.80738800317534, 77.15946321055566, 105.72923979472111, 35.50429625967068, 34.272847595573474, 79.83782614136683, 38.95282421726119, 35.95950252592863, 32.28363812058346, 31.860059187385044, 30.665404078224103, 28.827904420391317, 27.670016530894184, 29.02921082050168, 240.1636667594197, 25.206794373790075, 30.315106631943703, 21.937144543821596, 373.5674317937632, 267.4958659027981, 85.58391688596103, 175.0964051235871, 180.1115307199661, 146.21297431756156, 900.0053698384161, 137.26217070130076, 560.1229526288004, 83.07664941341258, 106.8675051051779, 1167.2279769667498, 232.39329582078537, 54.92980321290388, 1174.145868477119, 1398.3840370304897, 2421.256759170378, 362.3966383417775, 213.94393809414356, 14973.090976608803, 1248.8207449961467, 1432.4172692440989, 1622.083934236094, 439.9411718491874, 177.1045814355888, 160.14398223791562, 118.49759007470605, 107.03165563980909, 105.68394201205068, 77.39456306941088, 74.71875181575604, 68.3163683683337, 55.78120157745371, 65.4377318664373, 59.00482890727397, 53.3712426432411, 47.2286499002189, 43.67877353720872, 43.53561516953087, 43.198333262502, 42.49647959449448, 80.43085083812863, 99.97304649385691, 49.96220232498818, 37.422101873093126, 33.92074425544098, 33.7854329267011, 32.957762110467854, 31.71903215498054, 33.40640976223761, 30.00474440368229, 32.7876692013633, 27.948469292414426, 121.07590028530142, 101.03089400711221, 34.71821138454525, 168.28007486445372, 100.04272046578885, 51.157748068932584, 38.975792691145045, 63.94110800716502, 94.7131385774936, 352.9292919383423, 414.42145996992514, 189.1115531164946, 113.79314392628655, 66.2731389934936, 14973.090976608803, 5821.441593948318, 1398.3840370304897, 126.35372140254282, 2642.322569078528], \"Category\": [\"Default\", \"Default\", \"Default\", \"Default\", \"Default\", \"Default\", \"Default\", \"Default\", \"Default\", \"Default\", \"Default\", \"Default\", \"Default\", \"Default\", \"Default\", \"Default\", \"Default\", \"Default\", \"Default\", \"Default\", \"Default\", \"Default\", \"Default\", \"Default\", \"Default\", \"Default\", \"Default\", \"Default\", \"Default\", \"Default\", \"Topic1\", \"Topic1\", \"Topic1\", \"Topic1\", \"Topic1\", \"Topic1\", \"Topic1\", \"Topic1\", \"Topic1\", \"Topic1\", \"Topic1\", \"Topic1\", \"Topic1\", \"Topic1\", \"Topic1\", \"Topic1\", \"Topic1\", \"Topic1\", \"Topic1\", \"Topic1\", \"Topic1\", \"Topic1\", \"Topic1\", \"Topic1\", \"Topic1\", \"Topic1\", \"Topic1\", \"Topic1\", \"Topic1\", \"Topic1\", \"Topic1\", \"Topic1\", \"Topic1\", \"Topic1\", \"Topic1\", \"Topic1\", \"Topic1\", \"Topic1\", \"Topic1\", \"Topic1\", \"Topic1\", \"Topic1\", \"Topic1\", \"Topic1\", \"Topic1\", \"Topic1\", \"Topic1\", \"Topic1\", \"Topic1\", \"Topic1\", \"Topic1\", \"Topic1\", \"Topic1\", \"Topic1\", \"Topic1\", \"Topic1\", \"Topic1\", \"Topic1\", \"Topic1\", \"Topic1\", \"Topic1\", \"Topic1\", \"Topic1\", \"Topic1\", \"Topic1\", \"Topic1\", \"Topic2\", \"Topic2\", \"Topic2\", \"Topic2\", \"Topic2\", \"Topic2\", \"Topic2\", \"Topic2\", \"Topic2\", \"Topic2\", \"Topic2\", \"Topic2\", \"Topic2\", \"Topic2\", \"Topic2\", \"Topic2\", \"Topic2\", \"Topic2\", \"Topic2\", \"Topic2\", \"Topic2\", \"Topic2\", \"Topic2\", \"Topic2\", \"Topic2\", \"Topic2\", \"Topic2\", \"Topic2\", \"Topic2\", \"Topic2\", \"Topic2\", \"Topic2\", \"Topic2\", \"Topic2\", \"Topic2\", \"Topic2\", \"Topic2\", \"Topic2\", \"Topic2\", \"Topic2\", \"Topic2\", \"Topic2\", \"Topic2\", \"Topic2\", \"Topic2\", \"Topic2\", \"Topic2\", \"Topic2\", \"Topic2\", \"Topic2\", \"Topic2\", \"Topic2\", \"Topic2\", \"Topic2\", \"Topic2\", \"Topic2\", \"Topic2\", \"Topic2\", \"Topic2\", \"Topic2\", \"Topic2\", \"Topic2\", \"Topic2\", \"Topic3\", \"Topic3\", \"Topic3\", \"Topic3\", \"Topic3\", \"Topic3\", \"Topic3\", \"Topic3\", \"Topic3\", \"Topic3\", \"Topic3\", \"Topic3\", \"Topic3\", \"Topic3\", \"Topic3\", \"Topic3\", \"Topic3\", \"Topic3\", \"Topic3\", \"Topic3\", \"Topic3\", \"Topic3\", \"Topic3\", \"Topic3\", \"Topic3\", \"Topic3\", \"Topic3\", \"Topic3\", \"Topic3\", \"Topic3\", \"Topic3\", \"Topic3\", \"Topic3\", \"Topic3\", \"Topic3\", \"Topic3\", \"Topic3\", \"Topic3\", \"Topic3\", \"Topic3\", \"Topic3\", \"Topic3\", \"Topic3\", \"Topic3\", \"Topic3\", \"Topic3\", \"Topic3\", \"Topic3\", \"Topic3\", \"Topic3\", \"Topic3\", \"Topic3\", \"Topic3\", \"Topic3\", \"Topic3\", \"Topic3\", \"Topic3\", \"Topic3\", \"Topic3\", \"Topic3\", \"Topic3\", \"Topic4\", \"Topic4\", \"Topic4\", \"Topic4\", \"Topic4\", \"Topic4\", \"Topic4\", \"Topic4\", \"Topic4\", \"Topic4\", \"Topic4\", \"Topic4\", \"Topic4\", \"Topic4\", \"Topic4\", \"Topic4\", \"Topic4\", \"Topic4\", \"Topic4\", \"Topic4\", \"Topic4\", \"Topic4\", \"Topic4\", \"Topic4\", \"Topic4\", \"Topic4\", \"Topic4\", \"Topic4\", \"Topic4\", \"Topic4\", \"Topic4\", \"Topic4\", \"Topic4\", \"Topic4\", \"Topic4\", \"Topic4\", \"Topic4\", \"Topic4\", \"Topic4\", \"Topic4\", \"Topic4\", \"Topic4\", \"Topic4\", \"Topic4\", \"Topic4\", \"Topic4\", \"Topic4\", \"Topic4\", \"Topic4\", \"Topic4\", \"Topic4\", \"Topic4\", \"Topic4\", \"Topic4\", \"Topic4\", \"Topic4\", \"Topic4\", \"Topic4\", \"Topic4\", \"Topic4\", \"Topic4\", \"Topic4\", \"Topic4\", \"Topic4\", \"Topic4\", \"Topic4\", \"Topic4\", \"Topic4\", \"Topic4\", \"Topic4\", \"Topic4\", \"Topic4\", \"Topic4\", \"Topic5\", \"Topic5\", \"Topic5\", \"Topic5\", \"Topic5\", \"Topic5\", \"Topic5\", \"Topic5\", \"Topic5\", \"Topic5\", \"Topic5\", \"Topic5\", \"Topic5\", \"Topic5\", \"Topic5\", \"Topic5\", \"Topic5\", \"Topic5\", \"Topic5\", \"Topic5\", \"Topic5\", \"Topic5\", \"Topic5\", \"Topic5\", \"Topic5\", \"Topic5\", \"Topic5\", \"Topic5\", \"Topic5\", \"Topic5\", \"Topic5\", \"Topic5\", \"Topic5\", \"Topic5\", \"Topic5\", \"Topic5\", \"Topic5\", \"Topic5\", \"Topic5\", \"Topic5\", \"Topic5\", \"Topic5\", \"Topic5\", \"Topic5\", \"Topic5\", \"Topic5\", \"Topic5\", \"Topic5\", \"Topic5\", \"Topic5\", \"Topic5\", \"Topic5\", \"Topic5\", \"Topic5\", \"Topic5\", \"Topic5\", \"Topic5\", \"Topic6\", \"Topic6\", \"Topic6\", \"Topic6\", \"Topic6\", \"Topic6\", \"Topic6\", \"Topic6\", \"Topic6\", \"Topic6\", \"Topic6\", \"Topic6\", \"Topic6\", \"Topic6\", \"Topic6\", \"Topic6\", \"Topic6\", \"Topic6\", \"Topic6\", \"Topic6\", \"Topic6\", \"Topic6\", \"Topic6\", \"Topic6\", \"Topic6\", \"Topic6\", \"Topic6\", \"Topic6\", \"Topic6\", \"Topic6\", \"Topic6\", \"Topic6\", \"Topic6\", \"Topic6\", \"Topic6\", \"Topic6\", \"Topic6\", \"Topic6\", \"Topic6\", \"Topic6\", \"Topic6\", \"Topic6\", \"Topic6\", \"Topic6\", \"Topic6\", \"Topic6\", \"Topic6\", \"Topic6\", \"Topic6\", \"Topic6\", \"Topic6\", \"Topic6\", \"Topic6\", \"Topic6\", \"Topic6\", \"Topic6\", \"Topic6\", \"Topic6\", \"Topic6\", \"Topic6\", \"Topic6\", \"Topic6\", \"Topic7\", \"Topic7\", \"Topic7\", \"Topic7\", \"Topic7\", \"Topic7\", \"Topic7\", \"Topic7\", \"Topic7\", \"Topic7\", \"Topic7\", \"Topic7\", \"Topic7\", \"Topic7\", \"Topic7\", \"Topic7\", \"Topic7\", \"Topic7\", \"Topic7\", \"Topic7\", \"Topic7\", \"Topic7\", \"Topic7\", \"Topic7\", \"Topic7\", \"Topic7\", \"Topic7\", \"Topic7\", \"Topic7\", \"Topic7\", \"Topic7\", \"Topic7\", \"Topic7\", \"Topic7\", \"Topic7\", \"Topic7\", \"Topic7\", \"Topic7\", \"Topic7\", \"Topic7\", \"Topic7\", \"Topic7\", \"Topic7\", \"Topic8\", \"Topic8\", \"Topic8\", \"Topic8\", \"Topic8\", \"Topic8\", \"Topic8\", \"Topic8\", \"Topic8\", \"Topic8\", \"Topic8\", \"Topic8\", \"Topic8\", \"Topic8\", \"Topic8\", \"Topic8\", \"Topic8\", \"Topic8\", \"Topic8\", \"Topic8\", \"Topic8\", \"Topic8\", \"Topic8\", \"Topic8\", \"Topic8\", \"Topic8\", \"Topic8\", \"Topic8\", \"Topic8\", \"Topic8\", \"Topic8\", \"Topic8\", \"Topic8\", \"Topic8\", \"Topic8\", \"Topic8\", \"Topic8\", \"Topic8\", \"Topic8\", \"Topic8\", \"Topic8\", \"Topic8\", \"Topic8\", \"Topic8\", \"Topic8\", \"Topic8\", \"Topic8\", \"Topic8\", \"Topic8\", \"Topic9\", \"Topic9\", \"Topic9\", \"Topic9\", \"Topic9\", \"Topic9\", \"Topic9\", \"Topic9\", \"Topic9\", \"Topic9\", \"Topic9\", \"Topic9\", \"Topic9\", \"Topic9\", \"Topic9\", \"Topic9\", \"Topic9\", \"Topic9\", \"Topic9\", \"Topic9\", \"Topic9\", \"Topic9\", \"Topic9\", \"Topic9\", \"Topic9\", \"Topic9\", \"Topic9\", \"Topic9\", \"Topic9\", \"Topic9\", \"Topic9\", \"Topic9\", \"Topic9\", \"Topic9\", \"Topic9\", \"Topic9\", \"Topic9\", \"Topic9\", \"Topic9\", \"Topic9\", \"Topic9\", \"Topic9\", \"Topic9\", \"Topic9\", \"Topic9\", \"Topic9\", \"Topic9\", \"Topic9\", \"Topic9\", \"Topic9\", \"Topic9\", \"Topic9\", \"Topic9\", \"Topic10\", \"Topic10\", \"Topic10\", \"Topic10\", \"Topic10\", \"Topic10\", \"Topic10\", \"Topic10\", \"Topic10\", \"Topic10\", \"Topic10\", \"Topic10\", \"Topic10\", \"Topic10\", \"Topic10\", \"Topic10\", \"Topic10\", \"Topic10\", \"Topic10\", \"Topic10\", \"Topic10\", \"Topic10\", \"Topic10\", \"Topic10\", \"Topic10\", \"Topic10\", \"Topic10\", \"Topic10\", \"Topic10\", \"Topic10\", \"Topic10\", \"Topic10\", \"Topic10\", \"Topic10\", \"Topic10\", \"Topic10\", \"Topic10\", \"Topic10\", \"Topic10\", \"Topic10\", \"Topic10\", \"Topic10\", \"Topic10\", \"Topic10\", \"Topic10\", \"Topic10\", \"Topic10\", \"Topic10\", \"Topic10\"], \"logprob\": [30.0, 29.0, 28.0, 27.0, 26.0, 25.0, 24.0, 23.0, 22.0, 21.0, 20.0, 19.0, 18.0, 17.0, 16.0, 15.0, 14.0, 13.0, 12.0, 11.0, 10.0, 9.0, 8.0, 7.0, 6.0, 5.0, 4.0, 3.0, 2.0, 1.0, -4.9998, -5.3249, -5.6333, -5.6249, -5.7745, -5.7996, -5.8297, -5.8297, -5.888, -5.8485, -6.1906, -6.1403, -6.212, -6.3918, -6.4334, -6.4152, -5.749, -6.4565, -6.4085, -6.5493, -6.273, -6.3909, -6.5603, -6.3204, -6.6893, -6.5455, -6.71, -6.7311, -6.5004, -5.1341, -3.8902, -6.5953, -5.9117, -5.7199, -6.2106, -4.5258, -4.6962, -5.0522, -4.1676, -4.4404, -5.5365, -5.3905, -4.9458, -5.1121, -3.2221, -4.5411, -5.8245, -5.0915, -5.5368, -5.122, -3.9555, -2.9522, -2.6689, -3.8601, -4.8809, -4.2818, -4.569, -5.2416, -4.7857, -5.0931, -4.7212, -4.9001, -5.1715, -5.2457, -4.6511, -5.1618, -3.8454, -5.2046, -5.2877, -5.8018, -5.8082, -5.8501, -5.9203, -5.1579, -4.5281, -6.1547, -5.6416, -4.8809, -6.1634, -6.3492, -6.4171, -6.4393, -6.4385, -6.235, -6.1917, -6.3843, -6.4821, -5.5295, -6.2591, -6.583, -5.5289, -6.1415, -6.6444, -6.0791, -6.6717, -6.6591, -4.1968, -6.2795, -6.4679, -4.6035, -5.6372, -6.035, -4.4322, -4.7639, -6.1163, -5.6606, -3.8231, -6.1531, -3.0512, -4.7921, -3.78, -5.7611, -2.3192, -4.1624, -4.413, -3.1328, -4.009, -5.2333, -3.6754, -4.1382, -4.6035, -4.7407, -5.2289, -5.3306, -5.4932, -5.4051, -5.3609, -5.2071, -5.3453, -3.2977, -4.3238, -5.2855, -5.4751, -5.6483, -5.5106, -5.6646, -5.673, -5.7646, -5.9671, -5.3684, -6.0605, -6.1179, -6.1369, -6.1898, -6.1754, -6.1923, -3.5253, -6.3731, -6.4669, -6.5251, -6.2798, -6.4761, -6.6329, -6.6985, -6.1937, -6.7749, -6.852, -6.857, -6.2445, -5.3287, -6.1596, -4.1157, -5.337, -4.1256, -4.0259, -3.6622, -3.715, -5.8129, -4.0533, -4.4133, -3.5523, -5.4359, -5.8305, -4.063, -4.7095, -2.4784, -4.2653, -4.6425, -3.3572, -3.4519, -5.017, -4.6122, -4.3992, -4.9622, -4.9327, -4.5157, -4.844, -4.6104, -4.8967, -5.2815, -5.0149, -5.4793, -5.7273, -5.8095, -5.8149, -5.609, -5.9704, -5.9893, -5.9211, -5.9054, -6.168, -4.3615, -6.2334, -6.2776, -6.2799, -6.2838, -6.3673, -6.5304, -6.1761, -6.5235, -5.2308, -6.601, -6.0277, -6.4436, -6.141, -6.7603, -6.7312, -6.77, -5.0613, -6.8094, -5.4567, -5.4602, -5.3955, -6.0509, -6.2827, -5.9311, -5.3412, -6.2615, -6.2311, -4.8774, -5.1608, -4.8961, -4.7808, -4.4128, -5.4596, -5.7173, -3.9577, -4.3384, -5.2259, -4.6372, -4.0374, -5.2864, -5.2053, -5.4066, -4.5857, -5.3457, -5.4495, -3.5823, -4.828, -4.064, -5.1606, -3.5627, -4.662, -5.1438, -4.1489, -4.9699, -5.0036, -5.1289, -4.8958, -5.1234, -5.1252, -5.1698, -5.2142, -3.6454, -4.3554, -4.7368, -4.8076, -4.842, -5.0882, -5.3006, -5.3582, -5.4939, -5.5125, -5.549, -5.8508, -5.7043, -5.7281, -5.8807, -5.4207, -6.0983, -6.1927, -6.0235, -5.6122, -6.1572, -6.2359, -6.2564, -6.3588, -5.8965, -6.4621, -6.5326, -6.6209, -6.5698, -6.6484, -5.1116, -4.865, -3.3571, -4.7308, -5.5163, -3.2958, -4.1636, -4.8812, -4.7134, -2.7678, -4.4305, -3.3376, -3.0815, -4.61, -2.6223, -3.869, -5.1809, -3.9967, -4.3199, -5.2099, -4.7397, -4.8675, -5.14, -4.7132, -4.6644, -4.9174, -4.9802, -4.6392, -5.5619, -4.8667, -5.6991, -4.7948, -5.8157, -5.8638, -5.9461, -5.8858, -5.9816, -5.7926, -5.0624, -5.8882, -5.625, -6.0487, -5.4902, -6.1809, -6.222, -6.3143, -5.516, -6.4615, -6.4275, -6.461, -6.4919, -6.3468, -6.4709, -6.4751, -6.6313, -6.4804, -6.627, -5.9103, -5.5012, -2.2198, -4.6361, -4.7967, -6.098, -3.7272, -4.9705, -4.7511, -3.0984, -5.1481, -3.1621, -3.5578, -3.0255, -4.3407, -3.5666, -4.1499, -5.2677, -4.5174, -4.8562, -4.0549, -4.8129, -2.6523, -4.797, -4.8971, -4.5812, -4.385, -4.8889, -4.8573, -4.6319, -4.9202, -5.0338, -3.6181, -3.7219, -3.8739, -4.7869, -4.3871, -3.6032, -4.7447, -4.7461, -3.3911, -5.0066, -5.0833, -5.1664, -5.1751, -5.3045, -5.3364, -5.4771, -5.5676, -5.5789, -5.5824, -5.4369, -2.525, -5.7522, -5.8183, -5.898, -5.9077, -6.0166, -6.0865, -6.1556, -6.2008, -6.1001, -2.0311, -2.1268, -3.2093, -5.7818, -3.6264, -3.6165, -4.723, -4.1485, -3.3004, -4.7994, -4.4133, -5.2602, -5.4506, -3.4945, -4.2943, -4.4377, -4.8072, -4.9292, -4.9966, -5.1532, -5.2114, -5.3693, -5.4044, -4.7107, -5.5712, -5.3645, -5.7175, -5.7285, -5.8046, -5.6144, -5.6061, -5.619, -5.6416, -5.8523, -3.9325, -5.6667, -6.019, -6.032, -5.9983, -6.0743, -6.2324, -4.4859, -4.5559, -5.3283, -3.1489, -3.3799, -2.8761, -5.2879, -3.1438, -5.3108, -3.2833, -3.2132, -4.4781, -4.3033, -2.2473, -4.1531, -4.4198, -5.0193, -3.869, -5.3353, -5.1645, -5.2292, -3.9981, -4.0524, -3.8582, -4.2909, -4.9831, -5.0076, -5.3708, -5.3774, -5.5166, -5.4489, -5.5818, -5.7185, -5.7874, -5.1003, -4.787, -5.8784, -5.915, -5.0703, -5.788, -5.8683, -5.9767, -5.9904, -6.03, -6.0952, -6.1369, -6.0904, -3.9779, -6.2343, -6.052, -6.3801, -3.5535, -3.8925, -5.0225, -4.3142, -4.2935, -4.5351, -2.8808, -4.6401, -3.5417, -5.2059, -5.007, -3.1324, -4.4706, -5.5418, -3.4003, -3.5279, -3.5166, -4.6038, -4.8723, -3.2009, -4.5623, -4.9202, -5.0896, -2.9816, -3.8927, -3.9941, -4.2976, -4.4004, -4.4155, -4.7286, -4.7643, -4.8552, -5.0616, -4.9019, -5.0061, -5.1066, -5.2316, -5.3117, -5.3151, -5.323, -5.3402, -4.7035, -4.4871, -5.1821, -5.4714, -5.5721, -5.5776, -5.6027, -5.6413, -5.5905, -5.6994, -5.6117, -5.7727, -4.3069, -4.5029, -5.5563, -4.08, -4.5689, -5.2082, -5.453, -5.041, -4.7123, -3.7582, -3.718, -4.3771, -4.7543, -5.076, -2.9674, -4.6652, -4.8598, -5.126, -4.9911], \"loglift\": [30.0, 29.0, 28.0, 27.0, 26.0, 25.0, 24.0, 23.0, 22.0, 21.0, 20.0, 19.0, 18.0, 17.0, 16.0, 15.0, 14.0, 13.0, 12.0, 11.0, 10.0, 9.0, 8.0, 7.0, 6.0, 5.0, 4.0, 3.0, 2.0, 1.0, 1.9348, 1.9329, 1.9303, 1.93, 1.9288, 1.9285, 1.9281, 1.9281, 1.9274, 1.9256, 1.9229, 1.9229, 1.9225, 1.9189, 1.9181, 1.9178, 1.9177, 1.9176, 1.9175, 1.9155, 1.9154, 1.9149, 1.9148, 1.9134, 1.9118, 1.9115, 1.9108, 1.9106, 1.9105, 1.9102, 1.9096, 1.9101, 1.8989, 1.8939, 1.9026, 1.8298, 1.8061, 1.7898, 1.6344, 1.6521, 1.7877, 1.7633, 1.6549, 1.6762, 1.2816, 1.5129, 1.8033, 1.5707, 1.7083, 1.5503, 1.0972, 0.6743, 0.0129, 0.5562, 1.249, 0.6225, 0.7402, 1.2265, 0.5298, 0.9475, 0.3074, 0.5168, 1.0432, 1.0289, -0.8295, -0.382, 1.9428, 1.9382, 1.9349, 1.9326, 1.9319, 1.9319, 1.9313, 1.9293, 1.9293, 1.9279, 1.9274, 1.9272, 1.9261, 1.9246, 1.9228, 1.9226, 1.9226, 1.9224, 1.9222, 1.9219, 1.9214, 1.9208, 1.9203, 1.9192, 1.919, 1.9179, 1.9176, 1.9173, 1.9169, 1.9154, 1.9046, 1.913, 1.9138, 1.8555, 1.8793, 1.8951, 1.7897, 1.8126, 1.8972, 1.8436, 1.4861, 1.8893, 1.2757, 1.6069, 1.2593, 1.7903, 0.3626, 1.0651, 1.1586, 0.4936, 0.8953, 1.4414, 0.1462, 0.2782, 0.2369, 0.4151, 1.04, 1.1777, 1.4282, 1.1259, 0.9422, -0.0413, 0.469, 1.974, 1.9715, 1.9676, 1.9661, 1.9645, 1.9643, 1.9638, 1.9625, 1.9625, 1.9604, 1.9598, 1.9591, 1.9582, 1.9578, 1.9565, 1.9564, 1.956, 1.9559, 1.9527, 1.9505, 1.9498, 1.9485, 1.9464, 1.9459, 1.9451, 1.9428, 1.9428, 1.9403, 1.9401, 1.9393, 1.9373, 1.9308, 1.8837, 1.9086, 1.8657, 1.8123, 1.7192, 1.6489, 1.8127, 1.3636, 1.3781, 1.1033, 1.6425, 1.801, 1.0354, 1.2718, 0.2034, 1.0477, 1.1948, 0.4644, 0.1746, 1.1006, 0.4165, 0.0171, 0.8521, 0.6849, -0.1888, 0.3835, -0.2127, 0.0076, 0.8654, 2.0363, 2.0328, 2.0298, 2.0291, 2.0278, 2.0271, 2.027, 2.0257, 2.0249, 2.024, 2.0237, 2.0233, 2.0222, 2.0216, 2.0215, 2.0204, 2.0174, 2.0157, 2.0144, 2.0143, 2.014, 2.0139, 2.0134, 2.0101, 2.0097, 2.0091, 2.0088, 2.0086, 2.0081, 2.0073, 1.9949, 1.9925, 1.9895, 1.9959, 1.9942, 1.9696, 1.907, 1.9878, 1.9837, 1.7584, 1.7839, 1.7257, 1.6991, 1.5581, 1.7934, 1.8491, 1.2081, 1.3259, 1.6461, 1.4034, 1.1185, 1.6529, 1.608, 1.7111, 1.2285, 1.6165, 1.686, 0.2393, 1.1872, 0.3523, 1.3477, -0.8809, 0.6534, 1.2634, -0.5224, 0.9139, 0.964, 1.2294, 0.4463, 0.7138, 0.6768, -0.6466, 0.4916, 2.2507, 2.2505, 2.2487, 2.248, 2.2465, 2.246, 2.2445, 2.2432, 2.2424, 2.2422, 2.2416, 2.2373, 2.2363, 2.236, 2.2344, 2.2333, 2.2314, 2.2304, 2.2303, 2.2299, 2.2298, 2.2294, 2.2276, 2.226, 2.2241, 2.2225, 2.2208, 2.2179, 2.2172, 2.2169, 2.2045, 2.1946, 2.1078, 2.146, 2.1426, 1.8905, 1.8008, 1.8665, 1.8123, 1.0538, 1.5852, 0.9893, 0.545, 1.4512, 0.0595, 0.9108, 1.785, 0.4196, 0.5205, 1.7048, 0.9246, 1.1139, 1.5908, 0.4526, -0.1606, 0.398, 0.0725, 2.3091, 2.3008, 2.2991, 2.2985, 2.2978, 2.2963, 2.2959, 2.2944, 2.2944, 2.2937, 2.2935, 2.2916, 2.2901, 2.2899, 2.2874, 2.2847, 2.2843, 2.2842, 2.2842, 2.2832, 2.281, 2.281, 2.2807, 2.2799, 2.2784, 2.2771, 2.277, 2.2748, 2.2736, 2.2727, 2.2723, 2.2676, 2.1779, 2.2152, 2.1272, 2.2413, 1.8904, 2.0653, 2.0304, 1.6813, 2.0634, 1.6783, 1.7552, 1.63, 1.8062, 1.5318, 1.6644, 2.0367, 1.7356, 1.7166, 1.2563, 1.6399, 0.0294, 1.5767, 1.6109, 1.2914, 0.9305, 1.3897, 1.2603, -1.0054, -0.0159, 0.1525, 2.5842, 2.5832, 2.5809, 2.5797, 2.5794, 2.5785, 2.5782, 2.5782, 2.5781, 2.5778, 2.5771, 2.5763, 2.5761, 2.5746, 2.5743, 2.5723, 2.5709, 2.5708, 2.5707, 2.57, 2.5698, 2.5677, 2.5664, 2.5647, 2.5645, 2.5619, 2.56, 2.5581, 2.5569, 2.556, 2.4921, 2.4932, 2.4654, 2.5408, 1.7157, 1.4228, 1.8795, 1.0074, -0.6186, 1.0844, -0.5917, 1.402, 1.1501, 2.652, 2.6512, 2.6505, 2.648, 2.6469, 2.6463, 2.6443, 2.6439, 2.6419, 2.6414, 2.6413, 2.6387, 2.6366, 2.636, 2.6349, 2.6341, 2.6336, 2.6334, 2.6334, 2.6331, 2.6331, 2.6327, 2.6325, 2.629, 2.6286, 2.6284, 2.6275, 2.6227, 2.6221, 2.6216, 2.6146, 2.5178, 2.4867, 2.4506, 2.5839, 2.1674, 2.5152, 1.9501, 1.8155, 2.2306, 1.976, 0.4345, 1.5527, 1.4777, 2.0099, 0.6347, 2.3679, -0.1252, -1.4076, 2.8737, 2.8733, 2.8732, 2.8724, 2.8664, 2.8659, 2.8602, 2.859, 2.8572, 2.8556, 2.8545, 2.8523, 2.8498, 2.8496, 2.8479, 2.8477, 2.8464, 2.8455, 2.8455, 2.8451, 2.8445, 2.844, 2.8426, 2.8392, 2.8385, 2.837, 2.8365, 2.8344, 2.8321, 2.8275, 2.8192, 2.8142, 2.8238, 2.8162, 2.8086, 2.7756, 2.6125, 2.7338, 2.4259, 2.6701, 2.6172, 2.1009, 2.3767, 2.7479, 1.8272, 1.5248, 0.9871, 1.7992, 2.0577, -0.5192, 0.6035, 0.1084, -0.1853, 3.2275, 3.2263, 3.2256, 3.2232, 3.2222, 3.2198, 3.2183, 3.2178, 3.2164, 3.2127, 3.2127, 3.2121, 3.2118, 3.2091, 3.2072, 3.2071, 3.2069, 3.2062, 3.2049, 3.2037, 3.2024, 3.2021, 3.1997, 3.1982, 3.1978, 3.1975, 3.1965, 3.195, 3.1941, 3.1927, 3.1925, 3.1774, 3.1922, 3.0902, 3.1212, 3.1526, 3.1798, 3.0968, 3.0326, 2.6713, 2.5509, 2.6763, 2.807, 3.026, -0.2856, -1.0388, 0.1929, 2.3307, -0.5747]}, \"token.table\": {\"Topic\": [1, 2, 3, 10, 1, 2, 3, 4, 5, 6, 8, 9, 10, 1, 2, 5, 1, 2, 3, 4, 5, 6, 7, 9, 10, 1, 2, 3, 9, 1, 2, 3, 4, 5, 6, 7, 8, 9, 6, 4, 4, 7, 8, 6, 10, 4, 1, 3, 7, 10, 2, 1, 10, 1, 2, 10, 9, 4, 2, 4, 6, 2, 1, 2, 3, 4, 5, 6, 7, 8, 9, 10, 1, 7, 1, 1, 4, 5, 10, 9, 3, 6, 1, 6, 8, 10, 4, 3, 1, 2, 4, 5, 10, 8, 9, 7, 9, 1, 2, 3, 4, 6, 3, 5, 9, 10, 4, 8, 1, 2, 3, 4, 5, 6, 7, 8, 10, 1, 2, 3, 4, 5, 6, 7, 8, 9, 10, 4, 7, 3, 10, 1, 5, 10, 1, 2, 3, 7, 8, 5, 1, 2, 4, 1, 3, 4, 5, 6, 7, 9, 7, 1, 7, 3, 6, 9, 1, 2, 3, 4, 5, 6, 8, 9, 6, 3, 1, 2, 6, 10, 1, 1, 2, 3, 4, 5, 6, 9, 10, 6, 8, 1, 2, 3, 4, 5, 7, 8, 10, 2, 1, 2, 3, 4, 6, 8, 9, 10, 2, 1, 6, 8, 10, 5, 1, 2, 3, 4, 5, 6, 7, 8, 9, 10, 1, 2, 3, 4, 5, 6, 7, 8, 9, 10, 4, 1, 8, 5, 9, 4, 1, 3, 4, 6, 8, 9, 10, 1, 2, 3, 4, 5, 6, 7, 8, 9, 10, 4, 9, 1, 5, 2, 1, 2, 3, 4, 5, 6, 7, 8, 9, 10, 1, 7, 4, 1, 1, 2, 3, 4, 5, 6, 7, 8, 9, 10, 3, 8, 9, 10, 6, 1, 3, 1, 10, 2, 7, 10, 3, 7, 8, 10, 4, 1, 8, 1, 3, 6, 8, 6, 1, 2, 3, 4, 5, 6, 7, 8, 9, 10, 3, 3, 3, 6, 7, 1, 2, 3, 4, 5, 6, 9, 3, 5, 8, 9, 6, 1, 2, 3, 4, 5, 5, 10, 1, 2, 3, 4, 5, 7, 8, 10, 1, 3, 4, 6, 3, 6, 1, 8, 1, 4, 5, 7, 9, 7, 1, 2, 3, 4, 5, 6, 7, 8, 10, 2, 1, 3, 5, 2, 1, 2, 3, 6, 3, 3, 4, 6, 3, 4, 9, 4, 8, 1, 3, 5, 6, 9, 10, 1, 2, 7, 5, 8, 3, 4, 10, 1, 2, 3, 7, 10, 8, 7, 2, 7, 6, 1, 6, 10, 3, 1, 2, 3, 5, 7, 9, 2, 3, 4, 5, 7, 7, 8, 1, 2, 3, 4, 5, 6, 7, 8, 9, 10, 6, 6, 2, 8, 1, 2, 4, 5, 6, 7, 8, 9, 10, 3, 7, 9, 2, 3, 7, 8, 1, 2, 3, 4, 5, 6, 7, 8, 9, 10, 7, 1, 2, 8, 1, 5, 1, 2, 7, 8, 6, 5, 6, 7, 3, 9, 1, 3, 5, 5, 10, 1, 5, 7, 10, 10, 1, 2, 3, 4, 5, 6, 7, 8, 9, 10, 1, 2, 4, 5, 6, 7, 8, 9, 10, 10, 2, 9, 5, 10, 10, 1, 2, 3, 4, 9, 4, 10, 1, 2, 3, 4, 5, 7, 8, 10, 5, 1, 2, 3, 4, 5, 6, 7, 1, 2, 3, 4, 5, 6, 7, 8, 9, 4, 5, 6, 1, 10, 1, 2, 3, 4, 5, 6, 7, 8, 10, 7, 1, 2, 3, 4, 5, 6, 7, 8, 10, 10, 1, 2, 3, 4, 5, 7, 8, 9, 10, 3, 5, 1, 2, 3, 4, 5, 6, 8, 9, 10, 2, 1, 2, 3, 4, 5, 6, 7, 8, 9, 10, 2, 3, 4, 5, 6, 7, 8, 9, 5, 1, 2, 3, 4, 5, 6, 7, 8, 9, 10, 9, 1, 2, 3, 4, 5, 6, 8, 9, 7, 2, 1, 2, 5, 7, 8, 2, 7, 1, 4, 5, 7, 9, 1, 2, 3, 4, 5, 6, 7, 8, 10, 5, 7, 7, 9, 6, 2, 8, 8, 2, 3, 3, 8, 10, 3, 5, 8, 1, 2, 3, 4, 5, 6, 7, 10, 6, 8, 10, 3, 10, 1, 2, 3, 4, 5, 8, 10, 1, 2, 3, 4, 5, 6, 7, 8, 10, 1, 2, 4, 8, 9, 4, 9, 10, 9, 10, 4, 7, 3, 4, 5, 8, 9, 1, 3, 5, 7, 10, 1, 3, 4, 5, 6, 7, 8, 9, 10, 3, 6, 3, 4, 8, 2, 4, 7, 8, 1, 3, 5, 9, 10, 1, 2, 3, 5, 9, 1, 2, 3, 4, 5, 7, 8, 9, 10, 3, 1, 8, 3, 1, 2, 3, 5, 7, 9, 4, 1, 2, 3, 4, 5, 7, 10, 1, 5, 1, 7, 4, 5, 3, 9, 9, 1, 3, 4, 5, 6, 7, 8, 10, 4, 1, 4, 5, 6, 8, 10, 1, 2, 3, 4, 5, 6, 7, 8, 9, 10, 6, 2, 10, 1, 2, 3, 4, 5, 6, 7, 8, 9, 10, 1, 2, 8, 1, 2, 3, 4, 5, 7, 10, 1, 5, 6, 8, 9, 10, 1, 2, 3, 4, 5, 6, 7, 8, 9, 10, 10, 1, 3, 4, 5, 6, 7, 8, 9, 10, 2, 3, 4, 5, 10, 5, 10, 10, 9, 10, 1, 2, 3, 4, 5, 6, 7, 8, 1, 2, 3, 4, 5, 6, 7, 8, 9, 1, 6, 8, 5, 1, 9, 1, 2, 4, 7, 9, 10, 2, 1, 2, 3, 4, 5, 6, 7, 8, 9, 2, 5, 5, 1, 2, 5, 10, 6, 3, 4, 1, 3, 4, 5, 6, 8, 9, 10, 1, 5, 5, 1, 2, 3, 4, 5, 7, 8, 9, 8, 1, 2, 3, 4, 5, 6, 7, 8, 10, 1, 2, 3, 4, 5, 6, 7, 8, 9, 10, 9, 6, 3, 7, 1, 3, 10, 9, 4, 5, 1, 2, 3, 4, 5, 6, 7, 8, 9, 10, 4, 6, 8, 10, 5, 4, 1, 2, 3, 5, 6, 7, 8, 10, 1, 2, 4, 6, 8, 10, 6, 8, 2, 5, 7, 8, 9, 1, 3, 4, 5, 6, 7, 8, 9, 1, 2, 3, 4, 5, 6, 7, 8, 9, 10, 1, 1, 7, 8, 1, 2, 5, 6, 9, 6, 9, 10, 1, 2, 3, 4, 5, 8, 9, 10, 5, 2, 5, 9, 10, 4, 1, 3, 5, 6, 7, 3, 6, 2, 3, 4, 6, 7, 8, 9, 4, 10, 3, 5, 3, 10, 2, 5, 1, 2, 3, 4, 5, 7, 8, 9, 1, 6, 8, 4, 2, 3, 4, 5, 6, 7, 8, 9, 1, 2, 3, 4, 5, 6, 7, 8, 9, 10, 7, 3, 3, 10, 1, 2, 3, 4, 6, 9, 10, 1, 3, 1, 2, 5, 6, 8, 9, 10, 6, 8, 8, 9, 7, 3, 4, 1, 2, 3, 4, 5, 6, 8, 9, 10, 2, 8, 10, 1, 10, 3, 1, 4, 5, 8, 9, 3, 1, 5, 9, 1, 2, 3, 4, 5, 6, 8, 10, 1, 2, 3, 4, 5, 7, 8, 5, 7, 8, 9, 8, 5, 1, 2, 3, 4, 5, 6, 7, 8, 9, 10, 3, 1, 2, 3, 4, 6, 7, 8, 9, 10, 2, 1, 2, 3, 4, 10, 5, 10, 9, 3, 1, 3, 7, 3, 1, 3, 4, 5, 6, 8, 9, 1, 2, 3, 6, 7, 9, 10, 4, 8, 8, 1, 3, 6, 5, 3, 1, 4, 1, 3, 4, 5, 6, 7, 9, 10, 1, 2, 3, 4, 5, 6, 8, 9, 10, 1, 2, 7, 7, 1, 2, 3, 5, 6, 8, 9, 1, 1, 4, 3, 7, 6, 2, 5, 1, 1, 9, 8, 2, 2, 9, 2, 9, 9, 3, 1, 3, 4, 7, 9, 10, 6, 7, 3, 8, 1, 2, 3, 4, 6, 7, 1, 2, 3, 4, 6, 9, 4, 7, 1, 1, 3, 4, 7, 8, 2, 3, 5, 1, 3, 4, 5, 8, 9, 10, 2, 5, 1, 2, 3, 4, 5, 6, 7, 8, 9, 1, 2, 3, 4, 5, 7, 8, 9, 10, 8, 7, 1, 1, 2, 6, 9, 1, 2, 3, 4, 5, 8, 9, 10, 1, 2, 1, 3, 4, 5, 7, 1, 2, 3, 4, 5, 6, 7, 8, 9, 10, 3, 8, 2, 3, 4, 5, 6, 9, 2, 7, 8, 10, 5, 4, 8, 9, 4, 9, 1, 10, 1, 2, 3, 4, 5, 6, 7, 8, 9, 10, 6, 8, 3, 1, 2, 3, 4, 8, 9, 10, 1, 2, 3, 4, 6, 9, 4, 1, 2, 3, 4, 5, 6, 8, 9, 9, 4, 5, 1, 2, 3, 4, 6, 8, 9, 1, 7, 1, 3, 4, 5, 8, 4, 3, 9, 4, 5, 3, 1, 4, 5, 6, 7, 8, 9, 10, 1, 2, 3, 4, 5, 6, 7, 8, 9, 10, 7, 7, 1, 2, 3, 6, 9, 9, 2, 1, 2, 3, 4, 5, 6, 7, 8, 9, 10, 10, 4, 8, 2, 8, 10, 1, 3, 5, 6, 1, 2, 3, 4, 5, 6, 7, 8, 10, 2, 6, 7], \"Freq\": [0.8596277096046407, 0.03466240764534841, 0.03466240764534841, 0.06932481529069683, 0.24085260841996045, 0.10395774978810259, 0.5424330112705947, 0.09469418792579642, 0.008234277210938818, 0.0020585693027347046, 0.0020585693027347046, 0.003087853954102057, 0.0010292846513673523, 0.9869819625947341, 0.9728195353216578, 0.015690637666478352, 0.004457650356329526, 0.0011144125890823816, 0.11218420063429309, 0.0029717669042196846, 0.004457650356329526, 0.8722135863884773, 0.0007429417260549212, 0.0003714708630274606, 0.0014858834521098423, 0.003738375531991875, 0.0149535021279675, 0.041122130851910625, 0.9383322585299606, 0.010859806193665961, 0.043439224774663845, 0.49412118181180126, 0.1085980619366596, 0.3203642827131459, 0.003619935397888654, 0.001809967698944327, 0.001809967698944327, 0.014479741591554615, 0.9716085101142525, 0.9870822589557512, 0.011986473128118267, 0.04794589251247307, 0.9349449039932248, 0.9734535654324323, 0.9665138156098079, 0.979922729138935, 0.03017813899227485, 0.13580162546523683, 0.015089069496137425, 0.8148097527914209, 0.978414101025995, 0.01243304017773669, 0.9697771338634618, 0.005469201005879555, 0.9844561810583199, 0.005469201005879555, 0.9730050976262598, 0.9795339081808552, 0.011147375213768053, 0.011147375213768053, 0.9698216435978206, 0.9775014250532867, 0.053650614204208094, 0.1369291795361132, 0.06085741312716142, 0.434009446248967, 0.1649556197920428, 0.01121057610237184, 0.006406043487069623, 0.01121057610237184, 0.10249669579311396, 0.017616619589441464, 0.9712224816673395, 0.9715900457365447, 0.9925271961741903, 0.9820173437600529, 0.07750658884386609, 0.8913257717044601, 0.009688323605483261, 0.9521242425397458, 0.012514380046351557, 0.9761216436154213, 0.9863059355754292, 0.9501152631205049, 0.0999572977767998, 0.8996156799911983, 0.9848538717013786, 0.9676016334414265, 0.7367650601984508, 0.004538593799990456, 0.2556741173994624, 0.0015128645999968188, 0.0015128645999968188, 0.9821557823050473, 0.9733171357074037, 0.9812102081194096, 0.9785532767732616, 0.012412895031683661, 0.9806187075030092, 0.005373120732937772, 0.9671617319287991, 0.02149248293175109, 0.05329444694985861, 0.6249985142301601, 0.3197666816991517, 0.9505097954063927, 0.019472521418538464, 0.9768714911633463, 0.0037463092407137837, 0.06368725709213433, 0.07867249405498947, 0.16858391583212026, 0.0074926184814275675, 0.0037463092407137837, 0.014985236962855135, 0.6518578078841984, 0.0037463092407137837, 0.036684741489785545, 0.5122020509894586, 0.1148993790057434, 0.021803195413740466, 0.28205721051108695, 0.010728556473427847, 0.011074638940312617, 0.007959896738349693, 0.0013843298675390771, 0.0013843298675390771, 0.9820187574378243, 0.9896508459453628, 0.02000539215460334, 0.970261519498262, 0.8603539237934933, 0.025682206680402785, 0.10700919450167827, 0.7942436515402423, 0.1281038147645552, 0.044836335167594325, 0.019215572214683282, 0.006405190738227761, 0.9839352690311284, 0.9856146975241414, 0.9847057587980673, 0.011653322589326241, 0.016824967876149715, 0.4182206300642929, 0.00048071336788999187, 0.05720489077890903, 0.5042683229166014, 0.00048071336788999187, 0.0024035668394499594, 0.9592455079628891, 0.9706849083270042, 0.9878745214014623, 0.10927992704298573, 0.014570656939064763, 0.8669540878743535, 0.15444352295915256, 0.05444411960430558, 0.0011111044817205219, 0.003333313445161566, 0.008888835853764175, 0.0011111044817205219, 0.009999940335484698, 0.7655509879054396, 0.9685802434171717, 0.9885794903954352, 0.0615151296332448, 0.01757575132378423, 0.2636362698567634, 0.6503027989800164, 0.9693293061118524, 0.6520231333869697, 0.08563885931052737, 0.04087309194366079, 0.08369252159892447, 0.0019463377116028945, 0.0681218199061013, 0.038926754232057895, 0.027248727962440523, 0.9441521415985356, 0.9695750024383645, 0.07655984102228934, 0.1314832052339317, 0.22967952306686804, 0.15311968204457868, 0.09653197346288657, 0.003328688740099537, 0.30790370845920717, 0.003328688740099537, 0.9728808976936523, 0.030391184376419533, 0.011892202582077209, 0.05021152201321488, 0.0026427116849060462, 0.0026427116849060462, 0.8707735001765423, 0.022463049321701394, 0.006606779212265116, 0.9681257719957644, 0.15329952320261214, 0.8268883372746958, 0.004645440097048852, 0.013936320291146557, 0.9785111328482419, 0.28188893996736175, 0.23430622432387654, 0.16525116407593052, 0.0769568830623876, 0.1810548097048137, 0.03607353893549419, 0.002576681352535299, 0.003607353893549419, 0.0042944689208921655, 0.013914079303690615, 0.0032399142832519345, 0.007559799994254514, 0.04643877139327773, 0.014039628560758383, 0.8639771422005159, 0.053998571387532245, 0.001079971427750645, 0.001079971427750645, 0.0032399142832519345, 0.00431988571100258, 0.9809603660525321, 0.965895079061614, 0.9612620248756791, 0.9832003907603765, 0.9696314904879987, 0.9831713768871215, 0.028500705265159545, 0.0023750587720966286, 0.2327557596654696, 0.5605138702148044, 0.0023750587720966286, 0.166254114046764, 0.004750117544193257, 0.14552773394645555, 0.2055019905246644, 0.17003837110035605, 0.05376311419316049, 0.11139984406731888, 0.10178259134208271, 0.04053939169596077, 0.10846123906794117, 0.03339323862929223, 0.0296531959028115, 0.9918952236074283, 0.9755390209462922, 0.9876388085036014, 0.9758701094940181, 0.9791834843961963, 0.1772766116690488, 0.3670374917654954, 0.07490561056438681, 0.1772766116690488, 0.0024968536854795605, 0.06741504950794813, 0.0024968536854795605, 0.012484268427397803, 0.062421342136989015, 0.05742763476602989, 0.9812625143789908, 0.017215131831210366, 0.9827855972041347, 0.9840096946439144, 0.2505371629289239, 0.18884900951893208, 0.1411636884780795, 0.18468600530107987, 0.1597079799939666, 0.029519484453861128, 0.01173210279576532, 0.01173210279576532, 0.00037845492889565545, 0.022328840804843673, 0.9722393700747894, 0.96377099059774, 0.002273031177774836, 0.9955876558653782, 0.9720335901122288, 0.9577458065120684, 0.9778962619685633, 0.9695833804662597, 0.9579000026567535, 0.9945365685367579, 0.9937687083593839, 0.9709397104312597, 0.005364828575347213, 0.990705010247452, 0.0017882761917824043, 0.0017882761917824043, 0.9710591583284414, 0.9954243761383303, 0.9963718271729115, 0.22399950652966824, 0.4168879704857715, 0.3484436768239284, 0.008296278019617343, 0.9539404689982617, 0.01128924495760365, 0.5037825562330629, 0.0225784899152073, 0.020461756485656613, 0.016933867436405476, 0.0014111556197004562, 0.3118653919538008, 0.06209084726682007, 0.04445140202056437, 0.005644622478801825, 0.9886417442648064, 0.9913306393314226, 0.010812823789778056, 0.951528493500469, 0.021625647579556113, 0.10451448972381139, 0.010719434843467834, 0.0026798587108669584, 0.04019788066300438, 0.24386714268889323, 0.47701485053431864, 0.11791378327814618, 0.048184071918607, 0.005353785768734111, 0.0026768928843670554, 0.9422662952972035, 0.9787191607617063, 0.15482041107710354, 0.026693174323638543, 0.09965451747491723, 0.08185906792582487, 0.6352975489025973, 0.9781452277773784, 0.9829703953747064, 0.011673512833786794, 0.9134523792438166, 0.005836756416893397, 0.032102160292913684, 0.0029183782084466984, 0.005836756416893397, 0.0029183782084466984, 0.02042864745912689, 0.008832021669979272, 0.1589763900596269, 0.8213780153080723, 0.9667862715371691, 0.0907276584425097, 0.907276584425097, 0.9853944206916113, 0.9836337613240113, 0.16092179110255198, 0.7092478941186551, 0.038740431191355104, 0.06854076287701288, 0.020860232179960442, 0.99007860221218, 0.1019444900810625, 0.5977654191116847, 0.06023992595699147, 0.15755057557982385, 0.004633840458230114, 0.02780304274938068, 0.004633840458230114, 0.009267680916460228, 0.032436883207610796, 0.9782131021635693, 0.8734471020412862, 0.018783808646049165, 0.09391904323024583, 0.9860738329736344, 0.00654051210919016, 0.01962153632757048, 0.9614552800509535, 0.01308102421838032, 0.979845588751814, 0.016892355133560324, 0.9459718874793782, 0.03378471026712065, 0.9356229988632584, 0.012816753409085732, 0.04485863693180006, 0.9726669502286728, 0.016485880512350386, 0.06279677231231824, 0.3247052617124748, 0.07964468683513533, 0.5222853502073298, 0.010721400150883603, 0.9903612101145021, 0.9613270581727328, 0.01525915965353544, 0.01525915965353544, 0.9773427954543368, 0.9842672404889209, 0.015764951352196445, 0.9537795568078848, 0.023647427028294667, 0.0475397934452064, 0.017827422541952402, 0.0415973192645556, 0.0237698967226032, 0.8676012303750169, 0.9620794683064904, 0.9844171901241133, 0.9981715852348398, 0.9881032206357516, 0.9879060847449047, 0.060435888195607426, 0.7534340728385726, 0.1813076645868223, 0.9943053112336897, 0.16826838058930474, 0.2804473009821746, 0.07011182524554364, 0.004674121683036243, 0.0327188517812537, 0.4393674382054068, 0.07589219653923555, 0.04268936055332, 0.7731517522434621, 0.08063545882293777, 0.023716311418511108, 0.02574106733860302, 0.9652900251976132, 0.045489936522990014, 0.0611761215309176, 0.8501912274296755, 0.006274474003171037, 0.007843092503963795, 0.0015686185007927592, 0.007843092503963795, 0.006274474003171037, 0.006274474003171037, 0.009411711004756554, 0.9948024672168874, 0.9751412499483839, 0.9925663651043513, 0.9761038370432362, 0.430496905040739, 0.06436000241472842, 0.002860444551765708, 0.11298755979474545, 0.07651689175973268, 0.001430222275882854, 0.005720889103531416, 0.2581551207968551, 0.04791244624207561, 0.09102526693242223, 0.018205053386484447, 0.8738425625512535, 0.0022116109205949064, 0.0022116109205949064, 0.990801692426518, 0.9777745536761668, 0.24367140850844063, 0.032551524037387106, 0.0018600870878506919, 0.2492516697719927, 0.15624731537945813, 0.25018171331591804, 0.0018600870878506919, 0.0065103048074774215, 0.055802612635520756, 0.0009300435439253459, 0.9892114539076422, 0.20253612146170913, 0.03038041821925637, 0.7493836494083237, 0.0016620759826926094, 0.995583513632873, 0.7531908560002791, 0.006724918357145349, 0.2387346016786599, 0.0033624591785726744, 0.9726688183551903, 0.9915091798286711, 0.9728927615257752, 0.9902709346564019, 0.0038317580371093865, 0.9924253316113312, 0.014915490495637453, 0.954591391720797, 0.014915490495637453, 0.9859161486067046, 0.961998343173887, 0.01979592499556826, 0.00989796249778413, 0.00989796249778413, 0.9502043997872764, 0.9844598764516478, 0.5174998460011855, 0.016520346241059393, 0.043365908882780906, 0.03923582232251606, 0.08920986970172072, 0.010325216400662121, 0.00041300865602648484, 0.13257577858450165, 0.15074815944966696, 0.00041300865602648484, 0.2094429827086048, 0.16560607935098987, 0.04708408138410496, 0.20457221566886982, 0.3588131719271447, 0.003247178026489997, 0.0016235890132449986, 0.004870767039734996, 0.003247178026489997, 0.9647273809373986, 0.9877383931172086, 0.9712811445355806, 0.03303712787247058, 0.9580767083016468, 0.9743074626834691, 0.019368293753647042, 0.18077074170070573, 0.0064560979178823474, 0.781187848063764, 0.0064560979178823474, 0.9664635638674828, 0.015843664981434143, 0.008785694614659896, 0.05954748572158374, 0.7214031466926292, 0.08004743982245682, 0.09078551101815226, 0.003904753162071065, 0.00780950632414213, 0.024404707262944154, 0.9727879341272622, 0.03222957103199815, 0.8563857445645223, 0.011510561082856483, 0.06906336649713889, 0.009208448866285185, 0.01841689773257037, 0.004604224433142593, 0.48887094092333805, 0.13252525506957957, 0.023560045345703037, 0.011780022672851519, 0.2032053911066887, 0.10896520972387655, 0.017670034009277278, 0.011780022672851519, 0.0029450056682128797, 0.1073092276148462, 0.3799326707444554, 0.5104438935192683, 0.10947573819358282, 0.8758059055486626, 0.0009278359392532559, 0.0023195898481331396, 0.01391753908879884, 0.06773202356548769, 0.0013917539088798838, 0.0013917539088798838, 0.910207056407444, 0.0009278359392532559, 0.00046391796962662796, 0.9623380659960272, 0.0008422261609962423, 0.0029477915634868483, 0.013475618575939877, 0.0677992059601975, 0.0016844523219924847, 0.0016844523219924847, 0.9091831407954436, 0.0008422261609962423, 0.0008422261609962423, 0.9647857985232181, 0.18171288396583804, 0.05619986102036228, 0.17234624046244432, 0.011239972204072456, 0.5114187352852968, 0.007493314802714971, 0.018733287006787426, 0.026226601809502398, 0.013113300904751199, 0.9660904704824866, 0.016374414753940452, 0.036911176577824514, 0.11468829865252617, 0.04613897072228064, 0.4890730896561748, 0.264969517576526, 0.03163815135242101, 0.002636512612701751, 0.01186430675715788, 0.0039547689190526265, 0.9867493364058131, 0.04441350016013467, 0.2281935008227609, 0.18071700065158247, 0.44260350159582484, 0.047476500171178444, 0.027567000099393935, 0.0030630000110437707, 0.015315000055218853, 0.004594500016565656, 0.004594500016565656, 0.0029804753570743716, 0.7739301010536451, 0.0675574414270191, 0.06457696606994472, 0.06954442499840201, 0.01788285214244623, 0.0009934917856914572, 0.0009934917856914572, 0.9913259481170732, 0.18387890831515974, 0.19537134008485724, 0.04268617514459066, 0.3234298655186292, 0.018059535638096046, 0.0016417759670996407, 0.2232815315255511, 0.0032835519341992813, 0.006567103868398563, 0.0032835519341992813, 0.9838304919356751, 0.005881122076509786, 0.03920748051006524, 0.10389982335167289, 0.2999372259019991, 0.44696527781474377, 0.05293009868858808, 0.01960374025503262, 0.029405610382548932, 0.990097023985714, 0.9768062329804247, 0.11046790886407011, 0.2669641130881694, 0.5753536920003651, 0.004602829536002921, 0.03682263628802337, 0.9895329424982166, 0.006262866724672257, 0.012849296083012586, 0.8737521336448559, 0.01927394412451888, 0.05782183237355664, 0.025698592166025172, 0.0915625741933908, 0.016350459677391214, 0.08829248225791256, 0.228906435483477, 0.009810275806434728, 0.5493754451603449, 0.0032700919354782428, 0.0032700919354782428, 0.009810275806434728, 0.9711954742093455, 0.972035980606824, 0.9809307233679456, 0.9757854669097832, 0.9789822087560768, 0.9688460341959761, 0.014460388570089196, 0.9903256908130623, 0.1508220941440768, 0.8389478986764273, 0.9960851460731812, 0.9748729743623411, 0.9873618520531776, 0.9122488726410966, 0.08108878867920857, 0.005528781046309676, 0.7505112289439709, 0.09305530062378076, 0.05664235690143177, 0.05664235690143177, 0.014160589225357942, 0.0040458826358165546, 0.0020229413179082773, 0.020229413179082775, 0.9558079875890125, 0.9920524065188108, 0.9767523201965437, 0.025656950916284792, 0.9493071839025373, 0.766642447935207, 0.17847760692671485, 0.004056309248334429, 0.004056309248334429, 0.02433785549000657, 0.004056309248334429, 0.02028154624167214, 0.012685514080635769, 0.2164465840008478, 0.04836352243242387, 0.3972151596499075, 0.02140680501107286, 0.030920940571549687, 0.20613960381033125, 0.0491563670624636, 0.017442581860874183, 0.004163827166253815, 0.01665530866501526, 0.004163827166253815, 0.00832765433250763, 0.9576802482383774, 0.1805561503251752, 0.8064841381191159, 0.9759766637718015, 0.9846303189996294, 0.9819811235556667, 0.9776697742449034, 0.012697010055128617, 0.011685411179630494, 0.042846507658645144, 0.6777538484185687, 0.0038951370598768317, 0.26097418301174774, 0.8746060057842752, 0.06094815371318991, 0.04875852297055192, 0.00609481537131899, 0.00609481537131899, 0.09797346520808951, 0.07946736622433927, 0.007075861376139797, 0.2607182768593049, 0.5306896032104849, 0.004354376231470645, 0.0010885940578676612, 0.0010885940578676612, 0.01687320789694875, 0.010998287309259428, 0.9843467141787188, 0.00736711928366333, 0.9503583875925695, 0.03683559641831665, 0.9045988880414941, 0.03319628946941263, 0.058093506571472095, 0.968403604494759, 0.011684438342924656, 0.011684438342924656, 0.011684438342924656, 0.9464395057768972, 0.011684438342924656, 0.014216030395126098, 0.9524740364734485, 0.014216030395126098, 0.014216030395126098, 0.9576305850799411, 0.008516829355257298, 0.4147695896010304, 0.2035522215906494, 0.012775244032885946, 0.0076651464197315675, 0.0008516829355257297, 0.0017033658710514593, 0.3491900035655492, 0.0008516829355257297, 0.9775450779360675, 0.0021349393594885697, 0.9948817415216735, 0.9851126053315948, 0.293257131524838, 0.024958053746794724, 0.006239513436698681, 0.6426698839799642, 0.0031197567183493405, 0.028077810465144064, 0.9811062623904914, 0.059080249618298164, 0.876357036004756, 0.00984670826971636, 0.032822360899054534, 0.006564472179810907, 0.0032822360899054533, 0.013128944359621813, 0.04125945262305155, 0.9489674103301856, 0.6901417856607471, 0.3039484548246814, 0.9654989693809395, 0.01419851425560205, 0.025050782275292043, 0.9644551175987437, 0.9921698017427067, 0.0050323799870635975, 0.275522804291732, 0.04151713489327468, 0.02138761494502029, 0.6542093983182677, 0.0012580949967658994, 0.0012580949967658994, 0.0012580949967658994, 0.9738098535002554, 0.020646261218678852, 0.3509864407175404, 0.005161565304669713, 0.010323130609339426, 0.5264796610763107, 0.08258504487471541, 0.017212200489142675, 0.15921285452456974, 0.004303050122285669, 0.008606100244571337, 0.12478845354628439, 0.004303050122285669, 0.004303050122285669, 0.03872745110057101, 0.6067300672422793, 0.03872745110057101, 0.9869437573399102, 0.9834981261605917, 0.9728560125772214, 0.014167143714649543, 0.22667429943439268, 0.014167143714649543, 0.05666857485859817, 0.002833428742929909, 0.002833428742929909, 0.005666857485859818, 0.07650257605910753, 0.028334287429299086, 0.5695191773289117, 0.03812207892131136, 0.9530519730327839, 0.9899000242912491, 0.033834700117989946, 0.15789526721728642, 0.039473816804321604, 0.7161678191641205, 0.005639116686331658, 0.005639116686331658, 0.039473816804321604, 0.031674591773193345, 0.010558197257731116, 0.08446557806184893, 0.010558197257731116, 0.021116394515462232, 0.823539386103027, 0.195473767324628, 0.011169929561407315, 0.2101342998739751, 0.043283477050453344, 0.0006981205975879572, 0.03350978868422194, 0.0006981205975879572, 0.4314385293093575, 0.06283085378291614, 0.010471808963819357, 0.9840662452592971, 0.20695556212435737, 0.13245155975958872, 0.09381985482970867, 0.01655644496994859, 0.1462485972345459, 0.0027594074949914317, 0.019315852464940022, 0.3394071218839461, 0.04415051991986291, 0.001828204128485633, 0.8958200229579601, 0.0822691857818535, 0.003656408256971266, 0.014625633027885065, 0.9962911371330853, 0.990380569826322, 0.992856539334609, 0.9959134408802406, 0.985995253681135, 0.0219406530294581, 0.0031343790042083, 0.4576193346144118, 0.26485502585560133, 0.13321110767885275, 0.11440483365360295, 0.0031343790042083, 0.00156718950210415, 0.14058110500670373, 0.45538665638923687, 0.11895324269798008, 0.1634105152214676, 0.030038697651005072, 0.0444572725234875, 0.013217026966442232, 0.015620122778522637, 0.018023218590603043, 0.21748392010194365, 0.7543973478536171, 0.013592745006371478, 0.9878308398086294, 0.9764650281939421, 0.009764650281939421, 0.981723143084222, 0.009357381357558692, 0.18714762715117383, 0.009357381357558692, 0.7673052713198127, 0.009357381357558692, 0.9853823270340683, 0.00427159834886544, 0.00213579917443272, 0.3289130728626388, 0.006407397523298159, 0.042715983488654394, 0.602295367190027, 0.00213579917443272, 0.010678995872163598, 0.9602387402625159, 0.953042498674576, 0.027624420251436986, 0.9764585525058455, 0.8360384896719373, 0.14616057511747155, 0.005846423004698862, 0.005846423004698862, 0.9771712551711214, 0.01797239445340402, 0.952536906030413, 0.004876638299384429, 0.024383191496922144, 0.273091744765528, 0.11216268088584186, 0.04632806384415207, 0.5071703831359806, 0.02194487234722993, 0.009753276598768857, 0.9768996504349174, 0.985336498582523, 0.955164999841148, 0.07165060324891347, 0.0931457842235875, 0.1576313271476096, 0.6161951879406558, 0.0017912650812228366, 0.00537379524366851, 0.01074759048733702, 0.04119909686812524, 0.9741458618246975, 0.045688688276546305, 0.18101973962732903, 0.010988418699422528, 0.0034700269577123775, 0.17639303701704587, 0.5291791110511376, 0.030651904793126003, 0.004048364783997773, 0.017928472614847285, 0.0584781340752713, 0.08040743435349804, 0.007309766759408912, 0.09502696787231586, 0.30213702605556836, 0.3971639939278842, 0.009746355679211883, 0.02680247811783268, 0.007309766759408912, 0.017056122438620796, 0.9791949923785317, 0.9725847960518967, 0.0188141728505678, 0.9595228153789579, 0.9642476917941585, 0.9596607533419459, 0.9780290082582354, 0.9783011475561604, 0.011636541425953552, 0.9774694797800985, 0.06263820637490462, 0.1655736588509979, 0.22069528046091397, 0.16494727678724885, 0.30108097864204153, 0.02192337223121662, 0.041550010228686735, 0.01712110974247393, 0.0010439701062484104, 0.003340704339994913, 0.9732670609901642, 0.0192092183090164, 0.979844185958046, 0.9722597338369487, 0.9820992270792768, 0.9651775164811193, 0.00528788423298491, 0.13748499005760764, 0.015863652698954726, 0.10046980042671327, 0.10046980042671327, 0.00528788423298491, 0.058166726562834004, 0.5710914971623702, 0.005986635213190862, 0.005986635213190862, 0.011973270426381724, 0.005986635213190862, 0.9638482693237288, 0.005986635213190862, 0.12594749040587905, 0.8701826609860734, 0.9776960753954875, 0.9942566525832746, 0.9978200437060076, 0.9957092185975848, 0.9792402275308021, 0.02998557324761333, 0.0017134613284350475, 0.003426922656870095, 0.0008567306642175237, 0.005997114649522666, 0.004283653321087618, 0.49347686258929363, 0.4592076360205927, 0.08781467989927938, 0.4422096380642283, 0.08781467989927938, 0.05958853278879672, 0.06899724849229094, 0.01881743140698844, 0.015681192839157032, 0.028226147110482658, 0.18503807550205298, 0.0031362385678314064, 0.9892510751851368, 0.9583875740761517, 0.022550295860615334, 0.011275147930307667, 0.012387627021759995, 0.17342677830463993, 0.012387627021759995, 0.7804205023708797, 0.018581440532639992, 0.97641766981198, 0.964617905068492, 0.9607262643823288, 0.03773894969605925, 0.11321684908817777, 0.11793421780018518, 0.6793010945290666, 0.023586843560037034, 0.009434737424014813, 0.004717368712007407, 0.01415210613602222, 0.9942603316211446, 0.9326309004402673, 0.042010400920732764, 0.016804160368293103, 0.9739850725605179, 0.989641106597875, 0.0014917355472800775, 0.013425619925520698, 0.0007458677736400387, 0.0014917355472800775, 0.9830537256575711, 0.005916510093130595, 0.9821406754596788, 0.6046887927717126, 0.007241781949361827, 0.33312196967064406, 0.04345069169617096, 0.0036208909746809135, 0.0036208909746809135, 0.0036208909746809135, 0.9808545167570702, 0.016257257183818846, 0.8527130533901018, 0.14055709671265415, 0.9883088122135542, 0.006959921212771508, 0.05321054661562349, 0.9418266750965357, 0.18471926652955095, 0.21374657984133752, 0.11610925324714631, 0.4433262396709223, 0.023749619982370837, 0.0026388466647078706, 0.007916539994123612, 0.005277693329415741, 0.016355886731454113, 0.9649973171557927, 0.016355886731454113, 0.9705719704266522, 0.011112644582790364, 0.0009260537152325304, 0.024077396596045787, 0.0009260537152325304, 0.34727014321219885, 0.0009260537152325304, 0.6130475594839351, 0.0009260537152325304, 0.05209903916576861, 0.11032737705692175, 0.10419807833153721, 0.10419807833153721, 0.0030646493626922708, 0.4934085473934556, 0.012258597450769083, 0.018387896176153624, 0.009193948088076812, 0.0950041302434604, 0.9878677977553919, 0.9853166785242277, 0.9758839857546201, 0.966063640820864, 0.034828379103236926, 0.006965675820647385, 0.1393135164129477, 0.7522929886299176, 0.04179405492388431, 0.017414189551618463, 0.0034828379103236926, 0.9866256659620328, 0.9867592274939501, 0.675456921510767, 0.036120690989880584, 0.0036120690989880585, 0.18060345494940291, 0.025284483692916408, 0.057793105583808936, 0.021672414593928352, 0.9675424153456943, 0.9821699604752127, 0.01296017310632608, 0.972012982974456, 0.9739228818847904, 0.9866385732234976, 0.9856626068854131, 0.1348107197405835, 0.2228121617934644, 0.020596082182589147, 0.4250282414043397, 0.007489484430032417, 0.1310659775255673, 0.0037447422150162085, 0.04868164879521071, 0.005617113322524313, 0.9751287572846932, 0.00786394159100559, 0.00786394159100559, 0.992526615845598, 0.9807312888583833, 0.9772078950863479, 0.001785322303445599, 0.3409965599581094, 0.001785322303445599, 0.01963854533790159, 0.6355747400266333, 0.9859737533436497, 0.9693007755465576, 0.005239463651603014, 0.010478927303206029, 0.5018866966530946, 0.24779343182035635, 0.1469961036222453, 0.029399220724449057, 0.002099944337460647, 0.0629983301238194, 0.002099944337460647, 0.008399777349842588, 0.00613152653707885, 0.46293025354945316, 0.01839457961123655, 0.4997194127719263, 0.003065763268539425, 0.003065763268539425, 0.009197289805618274, 0.9836458948457357, 0.01713341857522735, 0.03997797667553048, 0.9366268821124284, 0.9904856241895293, 0.9684841277101593, 0.26755705474907404, 0.35016683663012454, 0.1399434364701378, 0.08507574551929083, 0.00801438182428102, 0.09740556371049239, 0.0006164909095600784, 0.0024659636382403137, 0.04685330912656596, 0.0024659636382403137, 0.989860700682615, 0.041021041722196776, 0.405384412313474, 0.009652009816987477, 0.009652009816987477, 0.0024130024542468693, 0.007239007362740607, 0.019304019633974955, 0.0024130024542468693, 0.5067305153918426, 0.9809314317555924, 0.1996484224165366, 0.06654947413884553, 0.07070881627252337, 0.6488573728537439, 0.012478026401033538, 0.9833781368998189, 0.009640962126468812, 0.9572804682054422, 0.9987896489407415, 0.9538189170577793, 0.02778113350653726, 0.00926037783551242, 0.981550969892518, 0.40286645304638224, 0.12862603621360397, 0.2888018548946957, 0.06067265859132263, 0.046111220529405195, 0.06309956493497552, 0.00970762537461162, 0.11080006069151087, 0.2770001517287772, 0.0949714805927236, 0.0712286104445427, 0.007914290049393634, 0.03165716019757454, 0.4036287925190753, 0.9528691781575441, 0.03937475942799769, 0.9968774972870919, 0.007142327180613211, 0.007142327180613211, 0.97849882374401, 0.9929827021071167, 0.9629395057136148, 0.9864790128675551, 0.978890019764131, 0.09656427164324442, 0.3907484480447565, 0.0022456807358894053, 0.047907855698973975, 0.4573703098761422, 0.0007485602452964684, 0.0007485602452964684, 0.0029942409811858734, 0.05231025967700926, 0.015529608341612123, 0.08745621539749986, 0.013077564919252315, 0.6947456363352792, 0.11524604085091102, 0.0024520434223598087, 0.013077564919252315, 0.006538782459626157, 0.2896894527667045, 0.21558284857057078, 0.4917983733016146, 0.985980446013361, 0.07970415815979809, 0.7118405849444036, 0.13742096234447948, 0.04672312719712302, 0.019238934728227127, 0.0027484192468895893, 0.0027484192468895893, 0.984011138365926, 0.028558925374627554, 0.9567240000500231, 0.0029059530913920504, 0.9938359572560812, 0.980147222191766, 0.9818617896098802, 0.9728235135908307, 0.9684193843428874, 0.08891139832615098, 0.9027926599270716, 0.9915747966012368, 0.9829021810503521, 0.9799393169389371, 0.964545683764341, 0.9763068794990242, 0.9845442141425464, 0.9703810175361695, 0.9842966917174076, 0.19307505513020495, 0.09171065118684735, 0.6516283110644417, 0.004826876378255123, 0.004826876378255123, 0.05309564016080636, 0.9754951166085793, 0.9845756305630307, 0.027922796115772953, 0.9661287456057442, 0.9691014340605174, 0.003019007582743045, 0.003019007582743045, 0.010566526539600657, 0.01207603033097218, 0.9736656756172236, 0.002040960713593893, 0.9612924961027235, 0.004081921427187786, 0.02245056784953282, 0.002040960713593893, 0.0061228821407816785, 0.9785621821732143, 0.9957331402426918, 0.9632884647897056, 0.013320391942636216, 0.0026640783885272436, 0.09723886118124439, 0.8858060641853085, 0.0013320391942636218, 0.015618922130962136, 0.9683731721196525, 0.9578351256979237, 0.37067849952292464, 0.009603069935827064, 0.5281688464704886, 0.011523683922992477, 0.0019206139871654128, 0.0749039454994511, 0.0019206139871654128, 0.9772899001912081, 0.9777993145637488, 0.13172804078704867, 0.026944371979169043, 0.5508627160185671, 0.1886106038541833, 0.035925829305558724, 0.007484547771991401, 0.008981457326389681, 0.013472185989584521, 0.03442891975116044, 0.006455392346139939, 0.014524632778814862, 0.02743541747109474, 0.08553394858635419, 0.0032276961730699693, 0.0016138480865349847, 0.844042549257797, 0.016138480865349848, 0.0016138480865349847, 0.9896203787885164, 0.9914234847049446, 0.9804639440164802, 0.8946784568943081, 0.00263140722615973, 0.00263140722615973, 0.09473066014175027, 0.12629169200821178, 0.04592425163934974, 0.02296212581967487, 0.7003448375000836, 0.011481062909837435, 0.040183720184431025, 0.04592425163934974, 0.011481062909837435, 0.01651832358736409, 0.9745810916544813, 0.03528204386099037, 0.14553843092658528, 0.6747690888414408, 0.1323076644787139, 0.008820510965247592, 0.19374623991590773, 0.037100343813684454, 0.046718951469084134, 0.21160936841879283, 0.043970777853255656, 0.10855285782522489, 0.005496347231656957, 0.33115492070733166, 0.008244520847485434, 0.013740868079142392, 0.9793902052450972, 0.9719558830490831, 0.004431397622136712, 0.07090236195418739, 0.013294192866410136, 0.8951423196716158, 0.008862795244273424, 0.004431397622136712, 0.8526526593997455, 0.00870053734081373, 0.04350268670406865, 0.0870053734081373, 0.9835231102362426, 0.06107326919064713, 0.005552115380967921, 0.9327553840026107, 0.9559064112792206, 0.9628613411236401, 0.9759560458161006, 0.9773312076021955, 0.013737203399305667, 0.21292665268923783, 0.0034343008498264166, 0.7280717801632003, 0.01030290254947925, 0.01030290254947925, 0.0034343008498264166, 0.013737203399305667, 0.0034343008498264166, 0.0034343008498264166, 0.9859433529758094, 0.9740886894177663, 0.98965957905529, 0.05963845147949673, 0.1355419351806744, 0.7156614177539607, 0.005421677407226976, 0.054216774072269755, 0.016265032221680926, 0.005421677407226976, 0.024675543393776124, 0.012337771696888062, 0.012337771696888062, 0.9253328772666047, 0.9682953538530512, 0.010879723077000575, 0.9646199615271456, 0.3012999816793848, 0.6321754216831265, 0.018484661452722997, 0.036045089832809844, 0.0036969322905445992, 0.0009242330726361498, 0.0027726992179084495, 0.004621165363180749, 0.9566187693841741, 0.9761557243143048, 0.9971513996639834, 0.029155398209744533, 0.007523973731546976, 0.13731252060073232, 0.007523973731546976, 0.000940496716443372, 0.8144701564399602, 0.0028214901493301163, 0.9706443462852017, 0.983225372584545, 0.0010977718565740146, 0.981408039777169, 0.007684402996018102, 0.0010977718565740146, 0.008782174852592117, 0.9853055569674185, 0.018916243074130725, 0.964728396780667, 0.9441681518021788, 0.03496919080748811, 0.9723646100879838, 0.047103995267555356, 0.4599566596714229, 0.1911868043212541, 0.21889503683158076, 0.002770823251032668, 0.047103995267555356, 0.02770823251032668, 0.005541646502065336, 0.06893488613804188, 0.065105170241484, 0.05361602255181036, 0.03446744306902094, 0.5131819301387563, 0.08042403382771554, 0.0038297158965578827, 0.0038297158965578827, 0.16467778355198895, 0.007659431793115765, 0.9756927476360541, 0.9908333731421929, 0.010205245302081332, 0.0009277495729164847, 0.39522131806242244, 0.5714937369165546, 0.021338240177079148, 0.9915444494083853, 0.968054803245244, 0.40685327208588346, 0.1417129374681167, 0.2628546420779584, 0.050285235875783346, 0.002285692539808334, 0.020571232858275005, 0.002285692539808334, 0.004571385079616668, 0.10514185683118336, 0.002285692539808334, 0.9937631120175706, 0.9740262731628477, 0.9690485861895579, 0.019547381144544292, 0.039094762289088585, 0.9187269137935817, 0.17664051075873005, 0.03636716397973854, 0.005195309139962649, 0.7792963709943973, 0.09933470136976073, 0.10315526680705922, 0.058263622918801966, 0.20248996817681994, 0.093603853213813, 0.002865424077973867, 0.4183519153841846, 0.013371979030544713, 0.008596272233921601, 0.9779874150689918, 0.9373684048378895, 0.057389902337013646], \"Term\": [\"accountable\", \"accountable\", \"accountable\", \"accountable\", \"action\", \"action\", \"action\", \"action\", \"action\", \"action\", \"action\", \"action\", \"action\", \"actively\", \"activism\", \"activism\", \"activist\", \"activist\", \"activist\", \"activist\", \"activist\", \"activist\", \"activist\", \"activist\", \"activist\", \"add\", \"add\", \"add\", \"add\", \"address\", \"address\", \"address\", \"address\", \"address\", \"address\", \"address\", \"address\", \"address\", \"advocacy\", \"advocate\", \"affect\", \"affect\", \"affect\", \"aggressive\", \"agm\", \"ago\", \"ahead\", \"ahead\", \"ahead\", \"ahead\", \"aim\", \"align\", \"align\", \"almost\", \"almost\", \"almost\", \"alternative\", \"amazing\", \"ambitious\", \"ambitious\", \"ambitious\", \"american\", \"amp\", \"amp\", \"amp\", \"amp\", \"amp\", \"amp\", \"amp\", \"amp\", \"amp\", \"amp\", \"announce\", \"announcement\", \"annual\", \"appoint\", \"approach\", \"approach\", \"approach\", \"area\", \"argue\", \"argue\", \"assessment\", \"atmosphere\", \"attack\", \"attack\", \"attempt\", \"attention\", \"back\", \"back\", \"back\", \"back\", \"back\", \"back_better\", \"backlash\", \"bank\", \"base\", \"battle\", \"battle\", \"become\", \"become\", \"become\", \"begin\", \"begin\", \"begin\", \"behavior\", \"bid\", \"bid\", \"biden\", \"biden\", \"biden\", \"biden\", \"biden\", \"biden\", \"biden\", \"biden\", \"biden\", \"big\", \"big\", \"big\", \"big\", \"big\", \"big\", \"big\", \"big\", \"big\", \"big\", \"bipartisan\", \"black\", \"blackrock\", \"blackrock\", \"blame\", \"blame\", \"blame\", \"block\", \"block\", \"block\", \"block\", \"block\", \"bloomberg\", \"bloomberg_businessweek\", \"blow\", \"blow\", \"board\", \"board\", \"board\", \"board\", \"board\", \"board\", \"board\", \"brag\", \"broad\", \"buck\", \"build\", \"build\", \"build\", \"business\", \"business\", \"business\", \"business\", \"business\", \"business\", \"business\", \"business\", \"candidate\", \"capital\", \"capture\", \"capture\", \"capture\", \"capture\", \"car\", \"carbon\", \"carbon\", \"carbon\", \"carbon\", \"carbon\", \"carbon\", \"carbon\", \"carbon\", \"carbon_dioxide\", \"care_job\", \"case\", \"case\", \"case\", \"case\", \"case\", \"case\", \"case\", \"case\", \"catastrophe\", \"catch\", \"catch\", \"catch\", \"catch\", \"catch\", \"catch\", \"catch\", \"catch\", \"ccs\", \"challenge\", \"challenge\", \"challenge\", \"challenge\", \"chang_said\", \"change\", \"change\", \"change\", \"change\", \"change\", \"change\", \"change\", \"change\", \"change\", \"change\", \"chevron\", \"chevron\", \"chevron\", \"chevron\", \"chevron\", \"chevron\", \"chevron\", \"chevron\", \"chevron\", \"chevron\", \"choice\", \"choose\", \"circle\", \"cite\", \"citizen\", \"city\", \"clean\", \"clean\", \"clean\", \"clean\", \"clean\", \"clean\", \"clean\", \"climate\", \"climate\", \"climate\", \"climate\", \"climate\", \"climate\", \"climate\", \"climate\", \"climate\", \"climate\", \"climatechange\", \"climatefriendly\", \"climaterelate\", \"coalition\", \"combine\", \"come\", \"come\", \"come\", \"come\", \"come\", \"come\", \"come\", \"come\", \"come\", \"come\", \"comment\", \"comment\", \"committee\", \"committing_ecocide\", \"company\", \"company\", \"company\", \"company\", \"company\", \"company\", \"company\", \"company\", \"company\", \"company\", \"companys\", \"compensation\", \"concern\", \"concern\", \"condemns_statement\", \"confront\", \"conocophillip\", \"consequence\", \"conservative\", \"consumer\", \"contribute\", \"conversation\", \"corporation\", \"corporation\", \"corporation\", \"corporation\", \"corps\", \"could_slow\", \"coup\", \"court\", \"court\", \"court\", \"court\", \"criminal\", \"crisis\", \"crisis\", \"crisis\", \"crisis\", \"crisis\", \"crisis\", \"crisis\", \"crisis\", \"crisis\", \"crisis\", \"criticize\", \"crucial\", \"customer\", \"customer\", \"customer\", \"cut\", \"cut\", \"cut\", \"cut\", \"cut\", \"cut\", \"cut\", \"damage\", \"damage\", \"damage\", \"damage\", \"dark\", \"day\", \"day\", \"day\", \"day\", \"day\", \"death\", \"debate\", \"decade\", \"decade\", \"decade\", \"decade\", \"decade\", \"decade\", \"decade\", \"decade\", \"decision\", \"decision\", \"decision\", \"deep\", \"defeat\", \"defeat\", \"defend\", \"deliver\", \"demand\", \"demand\", \"demand\", \"demand\", \"demand\", \"demonstrate\", \"denial\", \"denial\", \"denial\", \"denial\", \"denial\", \"denial\", \"denial\", \"denial\", \"denial\", \"denialism\", \"denier\", \"denier\", \"denier\", \"deploy\", \"describe\", \"describe\", \"describe\", \"describe\", \"detail\", \"develop\", \"develop\", \"develop\", \"die\", \"die\", \"die\", \"different\", \"different\", \"director\", \"director\", \"director\", \"director\", \"director\", \"disclose\", \"disclosure\", \"disclosure\", \"disclosure\", \"discussion\", \"div\", \"divest\", \"divest\", \"divest\", \"document\", \"document\", \"document\", \"document\", \"document\", \"dominate\", \"double\", \"downplay\", \"drama\", \"dupe\", \"dutch\", \"dutch\", \"dutch\", \"earning\", \"earth\", \"earth\", \"earth\", \"earth\", \"earth\", \"earth\", \"economy\", \"economy\", \"economy\", \"economy\", \"economy\", \"ecosearch\", \"ecosearch\", \"effort\", \"effort\", \"effort\", \"effort\", \"effort\", \"effort\", \"effort\", \"effort\", \"effort\", \"effort\", \"elect\", \"election\", \"electrification\", \"embrace\", \"emission\", \"emission\", \"emission\", \"emission\", \"emission\", \"emission\", \"emission\", \"emission\", \"emission\", \"employee\", \"employee\", \"employee\", \"end\", \"end\", \"end\", \"end_week\", \"energy\", \"energy\", \"energy\", \"energy\", \"energy\", \"energy\", \"energy\", \"energy\", \"energy\", \"energy\", \"engage\", \"engagement\", \"engagement\", \"engagement\", \"engine\", \"engine\", \"enough\", \"enough\", \"enough\", \"enough\", \"era\", \"essential\", \"estimate\", \"evidence\", \"evil\", \"evil\", \"exactly\", \"exactly\", \"exactly\", \"exclusive\", \"exist\", \"explain\", \"explain\", \"explain\", \"explain\", \"exploration\", \"exxon\", \"exxon\", \"exxon\", \"exxon\", \"exxon\", \"exxon\", \"exxon\", \"exxon\", \"exxon\", \"exxon\", \"face\", \"face\", \"face\", \"face\", \"face\", \"face\", \"face\", \"face\", \"face\", \"facility\", \"fall\", \"fascinating\", \"fast\", \"fast\", \"fault\", \"feel\", \"feel\", \"feel\", \"feel\", \"feel\", \"field\", \"field\", \"fight\", \"fight\", \"fight\", \"fight\", \"fight\", \"fight\", \"fight\", \"fight\", \"film\", \"find\", \"find\", \"find\", \"find\", \"find\", \"find\", \"find\", \"first\", \"first\", \"first\", \"first\", \"first\", \"first\", \"first\", \"first\", \"first\", \"force\", \"force\", \"force\", \"forward\", \"forward\", \"fossil\", \"fossil\", \"fossil\", \"fossil\", \"fossil\", \"fossil\", \"fossil\", \"fossil\", \"fossil\", \"french\", \"fuel\", \"fuel\", \"fuel\", \"fuel\", \"fuel\", \"fuel\", \"fuel\", \"fuel\", \"fuel\", \"fundamental\", \"future\", \"future\", \"future\", \"future\", \"future\", \"future\", \"future\", \"future\", \"future\", \"game\", \"game\", \"gas\", \"gas\", \"gas\", \"gas\", \"gas\", \"gas\", \"gas\", \"gas\", \"gas\", \"gasoline\", \"get\", \"get\", \"get\", \"get\", \"get\", \"get\", \"get\", \"get\", \"get\", \"get\", \"giant\", \"giant\", \"giant\", \"giant\", \"giant\", \"giant\", \"giant\", \"giant\", \"giants_toward\", \"go\", \"go\", \"go\", \"go\", \"go\", \"go\", \"go\", \"go\", \"go\", \"go\", \"going\", \"good\", \"good\", \"good\", \"good\", \"good\", \"good\", \"good\", \"good\", \"government_give\", \"gravity\", \"green\", \"green\", \"green\", \"green\", \"green\", \"greenpeace\", \"greenpeace\", \"ground\", \"ground\", \"ground\", \"ground\", \"ground\", \"group\", \"group\", \"group\", \"group\", \"group\", \"group\", \"group\", \"group\", \"group\", \"growth\", \"gt\", \"guess\", \"guide\", \"guyanese_citizen\", \"half\", \"half\", \"harvard_researcher\", \"heat\", \"heat\", \"hedge_fund\", \"held_accountable\", \"here\", \"historic\", \"historic\", \"historic\", \"hold\", \"hold\", \"hold\", \"hold\", \"hold\", \"hold\", \"hold\", \"hold\", \"hour\", \"hurt\", \"hydrocarbon\", \"ice\", \"ice\", \"increase\", \"increase\", \"increase\", \"increase\", \"increase\", \"increase\", \"increase\", \"industry\", \"industry\", \"industry\", \"industry\", \"industry\", \"industry\", \"industry\", \"industry\", \"industry\", \"infrastructure\", \"infrastructure\", \"infrastructure\", \"infrastructure\", \"infrastructure\", \"initiative\", \"initiative\", \"insider\", \"install\", \"international\", \"interview\", \"interview\", \"invest\", \"invest\", \"invest\", \"invest\", \"invest\", \"investment\", \"investment\", \"investment\", \"investment\", \"investment\", \"investor\", \"investor\", \"investor\", \"investor\", \"investor\", \"investor\", \"investor\", \"investor\", \"investor\", \"investor_oust\", \"investor_oust\", \"job\", \"job\", \"job\", \"judge\", \"judge\", \"judge\", \"justice_urge\", \"key\", \"key\", \"key\", \"key\", \"key\", \"kill\", \"kill\", \"kill\", \"kill\", \"kind\", \"know\", \"know\", \"know\", \"know\", \"know\", \"know\", \"know\", \"know\", \"know\", \"knowingly\", \"landmark\", \"landmark\", \"language\", \"large\", \"large\", \"large\", \"large\", \"large\", \"large\", \"last_week\", \"late\", \"late\", \"late\", \"late\", \"late\", \"late\", \"late\", \"launch\", \"launch\", \"lawsuit\", \"lawsuit\", \"leadership\", \"leadership\", \"leak\", \"leak\", \"leaked_document\", \"least\", \"least\", \"least\", \"least\", \"least\", \"least\", \"least\", \"least\", \"lee_raymond\", \"legislation\", \"legislation\", \"legislation\", \"legislation\", \"legislation\", \"legislation\", \"let\", \"let\", \"let\", \"let\", \"let\", \"let\", \"let\", \"let\", \"let\", \"let\", \"level\", \"liability\", \"liable\", \"lie\", \"lie\", \"lie\", \"lie\", \"lie\", \"lie\", \"lie\", \"lie\", \"lie\", \"lie\", \"likely\", \"likely\", \"litigation\", \"lobby\", \"lobby\", \"lobby\", \"lobby\", \"lobby\", \"lobby\", \"lobby\", \"lobbying\", \"lobbying\", \"lobbying\", \"lobbying\", \"lobbying\", \"lobbying\", \"lobbyist\", \"lobbyist\", \"lobbyist\", \"lobbyist\", \"lobbyist\", \"lobbyist\", \"lobbyist\", \"lobbyist\", \"lobbyist\", \"lobbyist\", \"longterm\", \"look\", \"look\", \"look\", \"look\", \"look\", \"look\", \"look\", \"look\", \"look\", \"lose\", \"lose\", \"lose\", \"lose\", \"lose\", \"loss\", \"lowcarbon\", \"lower\", \"lucrative\", \"mainstream\", \"major\", \"major\", \"major\", \"major\", \"major\", \"major\", \"major\", \"major\", \"make\", \"make\", \"make\", \"make\", \"make\", \"make\", \"make\", \"make\", \"make\", \"management\", \"management\", \"management\", \"manager\", \"massive\", \"massive\", \"matter\", \"measure\", \"measure\", \"measure\", \"measure\", \"measure\", \"meat\", \"member\", \"member\", \"member\", \"member\", \"member\", \"member\", \"member\", \"member\", \"mess\", \"methane\", \"methane\", \"misrepresent\", \"mobil\", \"mobil\", \"mobil\", \"mobil\", \"moment\", \"morning\", \"morning\", \"move\", \"move\", \"move\", \"move\", \"move\", \"move\", \"move\", \"move\", \"naming_senator\", \"national\", \"natural\", \"need\", \"need\", \"need\", \"need\", \"need\", \"need\", \"need\", \"need\", \"negative\", \"new\", \"new\", \"new\", \"new\", \"new\", \"new\", \"new\", \"new\", \"new\", \"news\", \"news\", \"news\", \"news\", \"news\", \"news\", \"news\", \"news\", \"news\", \"news\", \"nice\", \"nominate\", \"notch\", \"notch\", \"notice\", \"number\", \"offer\", \"office\", \"offshore_drille\", \"offshore_drille\", \"oil\", \"oil\", \"oil\", \"oil\", \"oil\", \"oil\", \"oil\", \"oil\", \"oil\", \"oil\", \"old\", \"old\", \"organization\", \"pace\", \"pandemic\", \"paper\", \"part\", \"part\", \"part\", \"part\", \"part\", \"part\", \"part\", \"part\", \"pass\", \"pass\", \"pass\", \"pass\", \"pass\", \"pass\", \"past\", \"past\", \"pause\", \"pension_fund\", \"petition\", \"petroleum\", \"pick\", \"plan\", \"plan\", \"plan\", \"plan\", \"plan\", \"plan\", \"plan\", \"plan\", \"planet\", \"planet\", \"planet\", \"planet\", \"planet\", \"planet\", \"planet\", \"planet\", \"planet\", \"planet\", \"plastic\", \"playbook\", \"playbook\", \"playbook\", \"pledge\", \"pledge\", \"pledge\", \"pledge\", \"pledge\", \"ploy_ceo\", \"politic\", \"pollute\", \"power\", \"power\", \"power\", \"power\", \"power\", \"power\", \"power\", \"power\", \"power_shift\", \"powerful_signal\", \"powerful_signal\", \"powerful_signal\", \"practice\", \"present\", \"pressure\", \"pressure\", \"pressure\", \"pressure\", \"pressure\", \"proclimate_campaign\", \"proclimate_campaign\", \"product\", \"product\", \"product\", \"product\", \"product\", \"product\", \"product\", \"project\", \"project\", \"proposal\", \"proposal\", \"protect\", \"protect\", \"proxy\", \"proxy\", \"public\", \"public\", \"public\", \"public\", \"public\", \"public\", \"public\", \"public\", \"pull\", \"pull\", \"pull\", \"pursue\", \"push\", \"push\", \"push\", \"push\", \"push\", \"push\", \"push\", \"push\", \"put\", \"put\", \"put\", \"put\", \"put\", \"put\", \"put\", \"put\", \"put\", \"put\", \"quickly\", \"quit\", \"race\", \"rate\", \"read\", \"read\", \"read\", \"read\", \"read\", \"read\", \"read\", \"rebellion\", \"reckon\", \"reduce\", \"reduce\", \"reduce\", \"reduce\", \"reduce\", \"reduce\", \"reduce\", \"referendum\", \"refuse\", \"reject\", \"reject\", \"related\", \"release\", \"remove\", \"report\", \"report\", \"report\", \"report\", \"report\", \"report\", \"report\", \"report\", \"report\", \"responsibility\", \"responsibility\", \"responsibility\", \"result\", \"return\", \"reuter\", \"reveal\", \"reveal\", \"reveal\", \"reveal\", \"reveal\", \"revolt\", \"rise\", \"rise\", \"rise\", \"risk\", \"risk\", \"risk\", \"risk\", \"risk\", \"risk\", \"risk\", \"risk\", \"role\", \"role\", \"role\", \"role\", \"role\", \"role\", \"role\", \"royal_dutch\", \"rule\", \"rule\", \"rule\", \"sabotage\", \"samp\", \"say\", \"say\", \"say\", \"say\", \"say\", \"say\", \"say\", \"say\", \"say\", \"say\", \"say_youre\", \"science\", \"science\", \"science\", \"science\", \"science\", \"science\", \"science\", \"science\", \"science\", \"scientific\", \"scientist\", \"scientist\", \"scientist\", \"scientist\", \"scientist\", \"score\", \"score\", \"scramble\", \"seat\", \"secret\", \"secret\", \"secret\", \"secretly_recorde\", \"see\", \"see\", \"see\", \"see\", \"see\", \"see\", \"see\", \"sell\", \"sell\", \"sell\", \"sell\", \"sell\", \"sell\", \"sell\", \"senator\", \"senator\", \"send\", \"set\", \"set\", \"set\", \"setback\", \"shadow_group\", \"shake\", \"shape\", \"shareholder\", \"shareholder\", \"shareholder\", \"shareholder\", \"shareholder\", \"shareholder\", \"shareholder\", \"shareholder\", \"shell\", \"shell\", \"shell\", \"shell\", \"shell\", \"shell\", \"shell\", \"shell\", \"shell\", \"shift\", \"shift\", \"shift\", \"shock\", \"show\", \"show\", \"show\", \"show\", \"show\", \"show\", \"show\", \"shows_yearly\", \"side\", \"side\", \"sign\", \"sign\", \"signal\", \"sit\", \"slash\", \"society\", \"solar\", \"solar\", \"speed\", \"spending\", \"spent_million\", \"spill\", \"spotlight\", \"stake\", \"stakeholder\", \"stance\", \"state\", \"state\", \"state\", \"state\", \"state\", \"state\", \"steer\", \"stick\", \"sting\", \"sting\", \"strategy\", \"strategy\", \"strategy\", \"strategy\", \"strategy\", \"stress\", \"study\", \"study\", \"study\", \"study\", \"study\", \"study\", \"subpoena\", \"subsidy\", \"succeed\", \"sue\", \"sue\", \"sue\", \"sue\", \"sue\", \"suffer\", \"suffer\", \"summary\", \"support\", \"support\", \"support\", \"support\", \"support\", \"support\", \"support\", \"supreme_court\", \"surprise\", \"take\", \"take\", \"take\", \"take\", \"take\", \"take\", \"take\", \"take\", \"take\", \"talk\", \"talk\", \"talk\", \"talk\", \"talk\", \"talk\", \"talk\", \"talk\", \"talk\", \"tank\", \"taxpayerfunded_subsidie\", \"tech\", \"technology\", \"technology\", \"technology\", \"technology\", \"tell\", \"tell\", \"tell\", \"tell\", \"tell\", \"tell\", \"tell\", \"tell\", \"term\", \"term\", \"thank\", \"thank\", \"thank\", \"thank\", \"thank\", \"time\", \"time\", \"time\", \"time\", \"time\", \"time\", \"time\", \"time\", \"time\", \"time\", \"tiny\", \"tip\", \"tipping_point\", \"tipping_point\", \"tipping_point\", \"tipping_point\", \"tipping_point\", \"tipping_point\", \"tobacco\", \"tobacco\", \"tobacco\", \"tobacco\", \"toll\", \"total\", \"total\", \"total\", \"travel\", \"trick\", \"tricks_top\", \"trouble\", \"try\", \"try\", \"try\", \"try\", \"try\", \"try\", \"try\", \"try\", \"try\", \"try\", \"unable\", \"uncertainty\", \"undercut\", \"undermine\", \"undermine\", \"undermine\", \"undermine\", \"undermine\", \"undermine\", \"undermine\", \"update\", \"update\", \"update\", \"update\", \"urge\", \"urge\", \"urgent\", \"use\", \"use\", \"use\", \"use\", \"use\", \"use\", \"use\", \"use\", \"usual\", \"vehicle\", \"victory\", \"video\", \"video\", \"video\", \"video\", \"video\", \"video\", \"video\", \"view\", \"violation\", \"vote\", \"vote\", \"vote\", \"vote\", \"vote\", \"voting\", \"wall_street\", \"wall_street\", \"war\", \"war\", \"watershed_moment\", \"week\", \"week\", \"week\", \"week\", \"week\", \"week\", \"week\", \"week\", \"well\", \"well\", \"well\", \"well\", \"well\", \"well\", \"well\", \"well\", \"well\", \"well\", \"western\", \"willing\", \"win\", \"win\", \"win\", \"win\", \"win\", \"wind\", \"wonder\", \"work\", \"work\", \"work\", \"work\", \"work\", \"work\", \"work\", \"work\", \"work\", \"work\", \"worlds_bigg\", \"worlds_biggest\", \"worried\", \"worth\", \"worth\", \"worth\", \"xom\", \"xom\", \"xom\", \"xom\", \"year\", \"year\", \"year\", \"year\", \"year\", \"year\", \"year\", \"year\", \"year\", \"years_ago\", \"york_time\", \"york_time\"]}, \"R\": 30, \"lambda.step\": 0.01, \"plot.opts\": {\"xlab\": \"PC1\", \"ylab\": \"PC2\"}, \"topic.order\": [4, 9, 10, 2, 6, 7, 5, 8, 1, 3]};\n",
       "\n",
       "function LDAvis_load_lib(url, callback){\n",
       "  var s = document.createElement('script');\n",
       "  s.src = url;\n",
       "  s.async = true;\n",
       "  s.onreadystatechange = s.onload = callback;\n",
       "  s.onerror = function(){console.warn(\"failed to load library \" + url);};\n",
       "  document.getElementsByTagName(\"head\")[0].appendChild(s);\n",
       "}\n",
       "\n",
       "if(typeof(LDAvis) !== \"undefined\"){\n",
       "   // already loaded: just create the visualization\n",
       "   !function(LDAvis){\n",
       "       new LDAvis(\"#\" + \"ldavis_el487891404885606352323859220536\", ldavis_el487891404885606352323859220536_data);\n",
       "   }(LDAvis);\n",
       "}else if(typeof define === \"function\" && define.amd){\n",
       "   // require.js is available: use it to load d3/LDAvis\n",
       "   require.config({paths: {d3: \"https://d3js.org/d3.v5\"}});\n",
       "   require([\"d3\"], function(d3){\n",
       "      window.d3 = d3;\n",
       "      LDAvis_load_lib(\"https://cdn.jsdelivr.net/gh/bmabey/pyLDAvis@3.3.1/pyLDAvis/js/ldavis.v3.0.0.js\", function(){\n",
       "        new LDAvis(\"#\" + \"ldavis_el487891404885606352323859220536\", ldavis_el487891404885606352323859220536_data);\n",
       "      });\n",
       "    });\n",
       "}else{\n",
       "    // require.js not available: dynamically load d3 & LDAvis\n",
       "    LDAvis_load_lib(\"https://d3js.org/d3.v5.js\", function(){\n",
       "         LDAvis_load_lib(\"https://cdn.jsdelivr.net/gh/bmabey/pyLDAvis@3.3.1/pyLDAvis/js/ldavis.v3.0.0.js\", function(){\n",
       "                 new LDAvis(\"#\" + \"ldavis_el487891404885606352323859220536\", ldavis_el487891404885606352323859220536_data);\n",
       "            })\n",
       "         });\n",
       "}\n",
       "</script>"
      ],
      "text/plain": [
       "PreparedData(topic_coordinates=              x         y  topics  cluster       Freq\n",
       "topic                                                \n",
       "3      0.095682 -0.040436       1        1  14.365435\n",
       "8      0.063988  0.046793       2        1  14.299710\n",
       "9      0.144030  0.032834       3        1  13.876081\n",
       "1      0.049624  0.073239       4        1  12.975538\n",
       "5      0.133879  0.047712       5        1  10.494232\n",
       "6      0.159854  0.006644       6        1   9.880708\n",
       "4     -0.269552  0.242918       7        1   7.523811\n",
       "7     -0.140357 -0.127579       8        1   7.022122\n",
       "0     -0.114664 -0.245799       9        1   5.616304\n",
       "2     -0.122484 -0.036327      10        1   3.946059, topic_info=          Term         Freq         Total Category  logprob  loglift\n",
       "56        fuel  2374.000000   2374.000000  Default  30.0000  30.0000\n",
       "174   activist  2692.000000   2692.000000  Default  29.0000  29.0000\n",
       "55      fossil  2155.000000   2155.000000  Default  28.0000  28.0000\n",
       "59    pressure  1340.000000   1340.000000  Default  27.0000  27.0000\n",
       "1033     board  2080.000000   2080.000000  Default  26.0000  26.0000\n",
       "...        ...          ...           ...      ...      ...      ...\n",
       "3      climate   444.043691  14973.090977  Topic10  -2.9674  -0.2856\n",
       "30      change    81.293658   5821.441594  Topic10  -4.6652  -1.0388\n",
       "20    emission    66.923359   1398.384037  Topic10  -4.8598   0.1929\n",
       "795       sell    51.281826    126.353721  Topic10  -5.1260   2.3307\n",
       "67     company    58.689007   2642.322569  Topic10  -4.9911  -0.5747\n",
       "\n",
       "[606 rows x 6 columns], token_table=      Topic      Freq         Term\n",
       "term                              \n",
       "1733      1  0.859628  accountable\n",
       "1733      2  0.034662  accountable\n",
       "1733      3  0.034662  accountable\n",
       "1733     10  0.069325  accountable\n",
       "64        1  0.240853       action\n",
       "...     ...       ...          ...\n",
       "63        8  0.013372         year\n",
       "63       10  0.008596         year\n",
       "1488      2  0.977987    years_ago\n",
       "2197      6  0.937368    york_time\n",
       "2197      7  0.057390    york_time\n",
       "\n",
       "[1506 rows x 3 columns], R=30, lambda_step=0.01, plot_opts={'xlab': 'PC1', 'ylab': 'PC2'}, topic_order=[4, 9, 10, 2, 6, 7, 5, 8, 1, 3])"
      ]
     },
     "execution_count": 41,
     "metadata": {},
     "output_type": "execute_result"
    }
   ],
   "source": [
    "# Visualize the optimal topics\n",
    "pyLDAvis.enable_notebook()\n",
    "vis = pyLDAvis.gensim_models.prepare(optimal_model, corpus, id2word)\n",
    "vis"
   ]
  },
  {
   "cell_type": "code",
   "execution_count": 61,
   "id": "e90dd92a-f852-45a9-a4b5-8f19c9dc15e3",
   "metadata": {},
   "outputs": [
    {
     "data": {
      "text/plain": [
       "21029"
      ]
     },
     "execution_count": 61,
     "metadata": {},
     "output_type": "execute_result"
    }
   ],
   "source": [
    "len(nctext)"
   ]
  },
  {
   "cell_type": "code",
   "execution_count": 67,
   "id": "750c6e2a-7298-4329-99e3-d7ab061e7426",
   "metadata": {},
   "outputs": [
    {
     "data": {
      "text/plain": [
       "21029"
      ]
     },
     "execution_count": 67,
     "metadata": {},
     "output_type": "execute_result"
    }
   ],
   "source": [
    "len(authorid)"
   ]
  },
  {
   "cell_type": "code",
   "execution_count": 63,
   "id": "b32f3f32-a971-4192-885c-0e7913d57a04",
   "metadata": {},
   "outputs": [
    {
     "data": {
      "text/plain": [
       "22576"
      ]
     },
     "execution_count": 63,
     "metadata": {},
     "output_type": "execute_result"
    }
   ],
   "source": [
    "len(lst_author_id)\n",
    "\n",
    "\n",
    "nctext = tweets['text'].tolist()\n",
    "tweetid = tweets['id'].tolist()\n",
    "authorid = tweets['author_id'].tolist()"
   ]
  },
  {
   "cell_type": "markdown",
   "id": "45a55ce8-e7e1-49a3-b75a-d0274de33505",
   "metadata": {
    "tags": []
   },
   "source": [
    "### Finding the dominant topic in each sentence"
   ]
  },
  {
   "cell_type": "code",
   "execution_count": 73,
   "id": "3d78407f-fd9f-4051-afaf-9ae1e492d546",
   "metadata": {},
   "outputs": [
    {
     "data": {
      "text/html": [
       "<div>\n",
       "<style scoped>\n",
       "    .dataframe tbody tr th:only-of-type {\n",
       "        vertical-align: middle;\n",
       "    }\n",
       "\n",
       "    .dataframe tbody tr th {\n",
       "        vertical-align: top;\n",
       "    }\n",
       "\n",
       "    .dataframe thead th {\n",
       "        text-align: right;\n",
       "    }\n",
       "</style>\n",
       "<table border=\"1\" class=\"dataframe\">\n",
       "  <thead>\n",
       "    <tr style=\"text-align: right;\">\n",
       "      <th></th>\n",
       "      <th>Document_No</th>\n",
       "      <th>Dominant_Topic</th>\n",
       "      <th>Topic_Perc_Contrib</th>\n",
       "      <th>Keywords</th>\n",
       "      <th>Text</th>\n",
       "      <th>TweetId</th>\n",
       "      <th>AuthorId</th>\n",
       "      <th>AuthorName</th>\n",
       "      <th>AuthorUsername</th>\n",
       "    </tr>\n",
       "  </thead>\n",
       "  <tbody>\n",
       "    <tr>\n",
       "      <th>0</th>\n",
       "      <td>0</td>\n",
       "      <td>8.0</td>\n",
       "      <td>0.9526</td>\n",
       "      <td>climate, big, change, oil, crisis, use, downplay, say, company, know</td>\n",
       "      <td>'We are in a climate emergency'December wildfires ravage Colorado https://t.co/sWDkZM4Rvn Sen. Manchin, your Exxon highway bill isn't going 2save our homes or our lives,\" \"Your greed &amp;amp; corruption is not only torching our future It's burning our communities and destroying lives!</td>\n",
       "      <td>1477024401254092800</td>\n",
       "      <td>1009831809855688707</td>\n",
       "      <td>Vammek Opinion</td>\n",
       "      <td>Vammek</td>\n",
       "    </tr>\n",
       "    <tr>\n",
       "      <th>1</th>\n",
       "      <td>1</td>\n",
       "      <td>0.0</td>\n",
       "      <td>0.9182</td>\n",
       "      <td>business, plan, climate, know, exxon, emission, reveal, damage, evil, add</td>\n",
       "      <td>#Oil business knows about the damage that It does, but this business is too much easy and lucrative  https://t.co/W7MemjJAA9 #FossilFuels \\nExxon’s Plan for Surging Carbon Emissions Revealed in Leaked Documents https://t.co/RFX8meYv11</td>\n",
       "      <td>1476991564803104776</td>\n",
       "      <td>590788952</td>\n",
       "      <td>Robert Pujol i Vives</td>\n",
       "      <td>rpujolvives</td>\n",
       "    </tr>\n",
       "    <tr>\n",
       "      <th>2</th>\n",
       "      <td>2</td>\n",
       "      <td>0.0</td>\n",
       "      <td>0.2807</td>\n",
       "      <td>business, plan, climate, know, exxon, emission, reveal, damage, evil, add</td>\n",
       "      <td>@amywestervelt Your opinion piece concerning climate science alone motivating people to help create political change on Global Warming policy is Spot On. Informing people about the injustices Exxon and Big Oil has perpetrated on us is crucial in inspiring citizens to fight back.</td>\n",
       "      <td>1476962302159060992</td>\n",
       "      <td>1476958634705780736</td>\n",
       "      <td>Megan Robbins</td>\n",
       "      <td>MeganRo50852817</td>\n",
       "    </tr>\n",
       "    <tr>\n",
       "      <th>3</th>\n",
       "      <td>3</td>\n",
       "      <td>4.0</td>\n",
       "      <td>0.9471</td>\n",
       "      <td>fuel, fossil, pressure, sue, climate, corporation, end, crisis, petition, year</td>\n",
       "      <td>Each year, the government gives over $15 billion in taxpayer-funded subsidies to fossil fuel corporations who contribute to the climate crisis like Exxon. \\n\\nWill you sign this petition to pressure the Senate to END fossil fuel subsidies https://t.co/2A7wLyid3X?</td>\n",
       "      <td>1476954565450903553</td>\n",
       "      <td>47878087</td>\n",
       "      <td>Jennifer Hall</td>\n",
       "      <td>JDHall_35402</td>\n",
       "    </tr>\n",
       "    <tr>\n",
       "      <th>4</th>\n",
       "      <td>4</td>\n",
       "      <td>4.0</td>\n",
       "      <td>0.9471</td>\n",
       "      <td>fuel, fossil, pressure, sue, climate, corporation, end, crisis, petition, year</td>\n",
       "      <td>Each year, the government gives over $15 billion in taxpayer-funded subsidies to fossil fuel corporations who contribute to the climate crisis like Exxon. \\n\\nWill you sign our petition to pressure the Senate to END fossil fuel subsidies https://t.co/OD7YqPO5SP?</td>\n",
       "      <td>1476922966893948928</td>\n",
       "      <td>1450838788037496836</td>\n",
       "      <td>Dennis Landi</td>\n",
       "      <td>DennisLandi2</td>\n",
       "    </tr>\n",
       "  </tbody>\n",
       "</table>\n",
       "</div>"
      ],
      "text/plain": [
       "   Document_No  Dominant_Topic  Topic_Perc_Contrib  \\\n",
       "0            0             8.0              0.9526   \n",
       "1            1             0.0              0.9182   \n",
       "2            2             0.0              0.2807   \n",
       "3            3             4.0              0.9471   \n",
       "4            4             4.0              0.9471   \n",
       "\n",
       "                                                                         Keywords  \\\n",
       "0            climate, big, change, oil, crisis, use, downplay, say, company, know   \n",
       "1       business, plan, climate, know, exxon, emission, reveal, damage, evil, add   \n",
       "2       business, plan, climate, know, exxon, emission, reveal, damage, evil, add   \n",
       "3  fuel, fossil, pressure, sue, climate, corporation, end, crisis, petition, year   \n",
       "4  fuel, fossil, pressure, sue, climate, corporation, end, crisis, petition, year   \n",
       "\n",
       "                                                                                                                                                                                                                                                                                         Text  \\\n",
       "0  'We are in a climate emergency'December wildfires ravage Colorado https://t.co/sWDkZM4Rvn Sen. Manchin, your Exxon highway bill isn't going 2save our homes or our lives,\" \"Your greed &amp; corruption is not only torching our future It's burning our communities and destroying lives!   \n",
       "1                                                  #Oil business knows about the damage that It does, but this business is too much easy and lucrative  https://t.co/W7MemjJAA9 #FossilFuels \\nExxon’s Plan for Surging Carbon Emissions Revealed in Leaked Documents https://t.co/RFX8meYv11   \n",
       "2     @amywestervelt Your opinion piece concerning climate science alone motivating people to help create political change on Global Warming policy is Spot On. Informing people about the injustices Exxon and Big Oil has perpetrated on us is crucial in inspiring citizens to fight back.   \n",
       "3                     Each year, the government gives over $15 billion in taxpayer-funded subsidies to fossil fuel corporations who contribute to the climate crisis like Exxon. \\n\\nWill you sign this petition to pressure the Senate to END fossil fuel subsidies https://t.co/2A7wLyid3X?   \n",
       "4                      Each year, the government gives over $15 billion in taxpayer-funded subsidies to fossil fuel corporations who contribute to the climate crisis like Exxon. \\n\\nWill you sign our petition to pressure the Senate to END fossil fuel subsidies https://t.co/OD7YqPO5SP?   \n",
       "\n",
       "               TweetId             AuthorId            AuthorName  \\\n",
       "0  1477024401254092800  1009831809855688707        Vammek Opinion   \n",
       "1  1476991564803104776            590788952  Robert Pujol i Vives   \n",
       "2  1476962302159060992  1476958634705780736         Megan Robbins   \n",
       "3  1476954565450903553             47878087         Jennifer Hall   \n",
       "4  1476922966893948928  1450838788037496836          Dennis Landi   \n",
       "\n",
       "    AuthorUsername  \n",
       "0           Vammek  \n",
       "1      rpujolvives  \n",
       "2  MeganRo50852817  \n",
       "3     JDHall_35402  \n",
       "4     DennisLandi2  "
      ]
     },
     "execution_count": 73,
     "metadata": {},
     "output_type": "execute_result"
    }
   ],
   "source": [
    "def format_topics_sentences(ldamodel=lda_model,\n",
    "                            corpus=corpus,\n",
    "                            texts=nctext,\n",
    "                            tweet_id=tweetid,\n",
    "                            author_id=authorid,\n",
    "                            author_name=authorname,\n",
    "                            author_username=authorusername):\n",
    "    # Init output\n",
    "    sent_topics_df = pd.DataFrame()\n",
    "\n",
    "    # Get main topic in each document\n",
    "    for i, row in enumerate(ldamodel[corpus]):\n",
    "        row = sorted(row, key=lambda x: (x[1]), reverse=True)\n",
    "        # Get the Dominant topic, Perc Contribution and Keywords for each document\n",
    "        for j, (topic_num, prop_topic) in enumerate(row):\n",
    "            if j == 0:  # => dominant topic\n",
    "                wp = ldamodel.show_topic(topic_num)\n",
    "                topic_keywords = \", \".join([word for word, prop in wp])\n",
    "                sent_topics_df = sent_topics_df.append(pd.Series([int(topic_num), round(prop_topic,4), topic_keywords]), ignore_index=True)\n",
    "            else:\n",
    "                break\n",
    "    sent_topics_df.columns = ['Dominant_Topic', 'Perc_Contribution', 'Topic_Keywords']\n",
    "\n",
    "    # Add original text to the end of the output\n",
    "    contents = pd.Series(texts)\n",
    "    TweetId = pd.Series(tweet_id)\n",
    "    AuthorId = pd.Series(author_id)\n",
    "    AuthorName = pd.Series(author_name)\n",
    "    AuthorUseranme = pd.Series(author_username)\n",
    "    \n",
    "    sent_topics_df = pd.concat([sent_topics_df, contents, TweetId, AuthorId, AuthorName, AuthorUseranme], axis=1)\n",
    "    #sent_topics_df = pd.concat([sent_topics_df, TweetId], axis=1)\n",
    "    #sent_topics_df = pd.concat([sent_topics_df, AuthorId], axis=1)\n",
    "    return(sent_topics_df)\n",
    "\n",
    "\n",
    "df_topic_sents_keywords = format_topics_sentences(ldamodel=optimal_model,\n",
    "                                                  corpus=corpus,\n",
    "                                                  texts=nctext,\n",
    "                                                  tweet_id=tweetid,\n",
    "                                                  author_id=authorid,\n",
    "                                                  author_name=authorname,\n",
    "                                                  author_username=authorusername)\n",
    "\n",
    "# Format\n",
    "df_dominant_topic = df_topic_sents_keywords.reset_index()\n",
    "df_dominant_topic.columns = ['Document_No', 'Dominant_Topic', 'Topic_Perc_Contrib', \n",
    "                             'Keywords', 'Text', 'TweetId', 'AuthorId', 'AuthorName','AuthorUsername']\n",
    "\n",
    "# Show\n",
    "df_dominant_topic.head()"
   ]
  },
  {
   "cell_type": "code",
   "execution_count": 109,
   "id": "14f023ac-d51e-4dfd-8026-f1a708762dfa",
   "metadata": {},
   "outputs": [
    {
     "name": "stderr",
     "output_type": "stream",
     "text": [
      "<>:1: DeprecationWarning: invalid escape sequence \\(\n",
      "<>:1: DeprecationWarning: invalid escape sequence \\(\n",
      "/var/folders/kg/0ndh6pln2x7b6rpm16twhvpc0000gn/T/ipykernel_48789/3651259747.py:1: DeprecationWarning: invalid escape sequence \\(\n",
      "  url_regex = 'http[s]?://(?:[a-zA-Z]|[0-9]|[$-_@.&+]|[!*\\(\\),]|(?:%[0-9a-fA-F][0-9a-fA-F]))+'\n"
     ]
    },
    {
     "data": {
      "text/html": [
       "<div>\n",
       "<style scoped>\n",
       "    .dataframe tbody tr th:only-of-type {\n",
       "        vertical-align: middle;\n",
       "    }\n",
       "\n",
       "    .dataframe tbody tr th {\n",
       "        vertical-align: top;\n",
       "    }\n",
       "\n",
       "    .dataframe thead th {\n",
       "        text-align: right;\n",
       "    }\n",
       "</style>\n",
       "<table border=\"1\" class=\"dataframe\">\n",
       "  <thead>\n",
       "    <tr style=\"text-align: right;\">\n",
       "      <th></th>\n",
       "      <th>Dominant_Topic</th>\n",
       "      <th>TweetId</th>\n",
       "      <th>AuthorId</th>\n",
       "      <th>AuthorName</th>\n",
       "      <th>AuthorUsername</th>\n",
       "      <th>urls</th>\n",
       "    </tr>\n",
       "  </thead>\n",
       "  <tbody>\n",
       "    <tr>\n",
       "      <th>0</th>\n",
       "      <td>8.0</td>\n",
       "      <td>1477024401254092800</td>\n",
       "      <td>1009831809855688707</td>\n",
       "      <td>Vammek Opinion</td>\n",
       "      <td>Vammek</td>\n",
       "      <td>[https://t.co/sWDkZM4Rvn]</td>\n",
       "    </tr>\n",
       "    <tr>\n",
       "      <th>1</th>\n",
       "      <td>0.0</td>\n",
       "      <td>1476991564803104776</td>\n",
       "      <td>590788952</td>\n",
       "      <td>Robert Pujol i Vives</td>\n",
       "      <td>rpujolvives</td>\n",
       "      <td>[https://t.co/W7MemjJAA9, https://t.co/RFX8meYv11]</td>\n",
       "    </tr>\n",
       "    <tr>\n",
       "      <th>3</th>\n",
       "      <td>4.0</td>\n",
       "      <td>1476954565450903553</td>\n",
       "      <td>47878087</td>\n",
       "      <td>Jennifer Hall</td>\n",
       "      <td>JDHall_35402</td>\n",
       "      <td>[https://t.co/2A7wLyid3X?]</td>\n",
       "    </tr>\n",
       "    <tr>\n",
       "      <th>4</th>\n",
       "      <td>4.0</td>\n",
       "      <td>1476922966893948928</td>\n",
       "      <td>1450838788037496836</td>\n",
       "      <td>Dennis Landi</td>\n",
       "      <td>DennisLandi2</td>\n",
       "      <td>[https://t.co/OD7YqPO5SP?]</td>\n",
       "    </tr>\n",
       "    <tr>\n",
       "      <th>5</th>\n",
       "      <td>0.0</td>\n",
       "      <td>1476916783525371911</td>\n",
       "      <td>2843451077</td>\n",
       "      <td>Bob Hill</td>\n",
       "      <td>bobhillbrain</td>\n",
       "      <td>[https://t.co/o4xvt3yxVm, https://t.co/CGRbN8jm11]</td>\n",
       "    </tr>\n",
       "    <tr>\n",
       "      <th>6</th>\n",
       "      <td>4.0</td>\n",
       "      <td>1476798432949858306</td>\n",
       "      <td>1269149246</td>\n",
       "      <td>SAVE AMERICA</td>\n",
       "      <td>vietthanhsports</td>\n",
       "      <td>[https://t.co/SAKgz7OEZy?]</td>\n",
       "    </tr>\n",
       "    <tr>\n",
       "      <th>8</th>\n",
       "      <td>9.0</td>\n",
       "      <td>1476732535572889601</td>\n",
       "      <td>203414131</td>\n",
       "      <td>Jon</td>\n",
       "      <td>ObiWan0001</td>\n",
       "      <td>[https://t.co/ppdezrIN74]</td>\n",
       "    </tr>\n",
       "    <tr>\n",
       "      <th>10</th>\n",
       "      <td>3.0</td>\n",
       "      <td>1476719254833618945</td>\n",
       "      <td>1006146920119750657</td>\n",
       "      <td>Connor</td>\n",
       "      <td>connorfx76</td>\n",
       "      <td>[https://t.co/Z46zJmZspE]</td>\n",
       "    </tr>\n",
       "    <tr>\n",
       "      <th>12</th>\n",
       "      <td>4.0</td>\n",
       "      <td>1476687897466130434</td>\n",
       "      <td>1618504489</td>\n",
       "      <td>Nelson</td>\n",
       "      <td>NelsonAPike</td>\n",
       "      <td>[https://t.co/1Zk40ByoVK?]</td>\n",
       "    </tr>\n",
       "    <tr>\n",
       "      <th>13</th>\n",
       "      <td>0.0</td>\n",
       "      <td>1476675758357729292</td>\n",
       "      <td>2843451077</td>\n",
       "      <td>Bob Hill</td>\n",
       "      <td>bobhillbrain</td>\n",
       "      <td>[https://t.co/o4xvt3yxVm, https://t.co/CGRbN8jm11]</td>\n",
       "    </tr>\n",
       "  </tbody>\n",
       "</table>\n",
       "</div>"
      ],
      "text/plain": [
       "    Dominant_Topic              TweetId             AuthorId  \\\n",
       "0              8.0  1477024401254092800  1009831809855688707   \n",
       "1              0.0  1476991564803104776            590788952   \n",
       "3              4.0  1476954565450903553             47878087   \n",
       "4              4.0  1476922966893948928  1450838788037496836   \n",
       "5              0.0  1476916783525371911           2843451077   \n",
       "6              4.0  1476798432949858306           1269149246   \n",
       "8              9.0  1476732535572889601            203414131   \n",
       "10             3.0  1476719254833618945  1006146920119750657   \n",
       "12             4.0  1476687897466130434           1618504489   \n",
       "13             0.0  1476675758357729292           2843451077   \n",
       "\n",
       "              AuthorName   AuthorUsername  \\\n",
       "0         Vammek Opinion           Vammek   \n",
       "1   Robert Pujol i Vives      rpujolvives   \n",
       "3          Jennifer Hall     JDHall_35402   \n",
       "4           Dennis Landi     DennisLandi2   \n",
       "5               Bob Hill     bobhillbrain   \n",
       "6           SAVE AMERICA  vietthanhsports   \n",
       "8                    Jon       ObiWan0001   \n",
       "10                Connor       connorfx76   \n",
       "12                Nelson      NelsonAPike   \n",
       "13              Bob Hill     bobhillbrain   \n",
       "\n",
       "                                                  urls  \n",
       "0                            [https://t.co/sWDkZM4Rvn]  \n",
       "1   [https://t.co/W7MemjJAA9, https://t.co/RFX8meYv11]  \n",
       "3                           [https://t.co/2A7wLyid3X?]  \n",
       "4                           [https://t.co/OD7YqPO5SP?]  \n",
       "5   [https://t.co/o4xvt3yxVm, https://t.co/CGRbN8jm11]  \n",
       "6                           [https://t.co/SAKgz7OEZy?]  \n",
       "8                            [https://t.co/ppdezrIN74]  \n",
       "10                           [https://t.co/Z46zJmZspE]  \n",
       "12                          [https://t.co/1Zk40ByoVK?]  \n",
       "13  [https://t.co/o4xvt3yxVm, https://t.co/CGRbN8jm11]  "
      ]
     },
     "execution_count": 109,
     "metadata": {},
     "output_type": "execute_result"
    }
   ],
   "source": [
    "\n",
    "url_regex = 'http[s]?://(?:[a-zA-Z]|[0-9]|[$-_@.&+]|[!*\\(\\),]|(?:%[0-9a-fA-F][0-9a-fA-F]))+'\n",
    "\n",
    "df_dominant_topic['urls'] = df_dominant_topic['Text'].apply(lambda x: re.findall(url_regex, x))\n",
    "\n",
    "df_url_lst = df_dominant_topic.filter(['Dominant_Topic','TweetId','AuthorId','AuthorName','AuthorUsername','urls'], axis=1)\n",
    "\n",
    "\n",
    "#remove rows that don't contain urls\n",
    "df_url_lst = df_url_lst[df_url_lst['urls'].map(lambda d: len(d)) > 0]\n",
    "\n",
    "df_url_lst.head(10)\n",
    "#'([\\w\\d:#@%/;$()~_?\\+-=\\\\\\.&](#!)?)*)'\n",
    "#'https?://(?:[-\\w.]|(?:%[\\da-fA-F]{2}))+'\n",
    "#url_0 = [re.findall(url_regex, urls) for urls in topic_0]"
   ]
  },
  {
   "cell_type": "code",
   "execution_count": 111,
   "id": "226a5286-5248-4e70-9f05-23213c6e0b6e",
   "metadata": {},
   "outputs": [
    {
     "data": {
      "text/plain": [
       "(19517, 6)"
      ]
     },
     "execution_count": 111,
     "metadata": {},
     "output_type": "execute_result"
    }
   ],
   "source": [
    "df_url_lst.shape"
   ]
  },
  {
   "cell_type": "code",
   "execution_count": 112,
   "id": "4760ebaf-8dd6-4756-9642-987251c8e3df",
   "metadata": {},
   "outputs": [
    {
     "data": {
      "text/html": [
       "<div>\n",
       "<style scoped>\n",
       "    .dataframe tbody tr th:only-of-type {\n",
       "        vertical-align: middle;\n",
       "    }\n",
       "\n",
       "    .dataframe tbody tr th {\n",
       "        vertical-align: top;\n",
       "    }\n",
       "\n",
       "    .dataframe thead th {\n",
       "        text-align: right;\n",
       "    }\n",
       "</style>\n",
       "<table border=\"1\" class=\"dataframe\">\n",
       "  <thead>\n",
       "    <tr style=\"text-align: right;\">\n",
       "      <th></th>\n",
       "      <th>Topic</th>\n",
       "      <th>TweetId</th>\n",
       "      <th>AuthorId</th>\n",
       "      <th>AuthorName</th>\n",
       "      <th>AuthorUsername</th>\n",
       "      <th>#urls</th>\n",
       "      <th>urls</th>\n",
       "    </tr>\n",
       "  </thead>\n",
       "  <tbody>\n",
       "    <tr>\n",
       "      <th>0</th>\n",
       "      <td>8.0</td>\n",
       "      <td>1477024401254092800</td>\n",
       "      <td>1009831809855688707</td>\n",
       "      <td>Vammek Opinion</td>\n",
       "      <td>Vammek</td>\n",
       "      <td>0</td>\n",
       "      <td>https://t.co/sWDkZM4Rvn</td>\n",
       "    </tr>\n",
       "    <tr>\n",
       "      <th>1</th>\n",
       "      <td>0.0</td>\n",
       "      <td>1476991564803104776</td>\n",
       "      <td>590788952</td>\n",
       "      <td>Robert Pujol i Vives</td>\n",
       "      <td>rpujolvives</td>\n",
       "      <td>0</td>\n",
       "      <td>https://t.co/W7MemjJAA9</td>\n",
       "    </tr>\n",
       "    <tr>\n",
       "      <th>2</th>\n",
       "      <td>0.0</td>\n",
       "      <td>1476991564803104776</td>\n",
       "      <td>590788952</td>\n",
       "      <td>Robert Pujol i Vives</td>\n",
       "      <td>rpujolvives</td>\n",
       "      <td>1</td>\n",
       "      <td>https://t.co/RFX8meYv11</td>\n",
       "    </tr>\n",
       "    <tr>\n",
       "      <th>3</th>\n",
       "      <td>4.0</td>\n",
       "      <td>1476954565450903553</td>\n",
       "      <td>47878087</td>\n",
       "      <td>Jennifer Hall</td>\n",
       "      <td>JDHall_35402</td>\n",
       "      <td>0</td>\n",
       "      <td>https://t.co/2A7wLyid3X?</td>\n",
       "    </tr>\n",
       "    <tr>\n",
       "      <th>4</th>\n",
       "      <td>4.0</td>\n",
       "      <td>1476922966893948928</td>\n",
       "      <td>1450838788037496836</td>\n",
       "      <td>Dennis Landi</td>\n",
       "      <td>DennisLandi2</td>\n",
       "      <td>0</td>\n",
       "      <td>https://t.co/OD7YqPO5SP?</td>\n",
       "    </tr>\n",
       "  </tbody>\n",
       "</table>\n",
       "</div>"
      ],
      "text/plain": [
       "   Topic              TweetId             AuthorId            AuthorName  \\\n",
       "0    8.0  1477024401254092800  1009831809855688707        Vammek Opinion   \n",
       "1    0.0  1476991564803104776            590788952  Robert Pujol i Vives   \n",
       "2    0.0  1476991564803104776            590788952  Robert Pujol i Vives   \n",
       "3    4.0  1476954565450903553             47878087         Jennifer Hall   \n",
       "4    4.0  1476922966893948928  1450838788037496836          Dennis Landi   \n",
       "\n",
       "  AuthorUsername  #urls                      urls  \n",
       "0         Vammek      0   https://t.co/sWDkZM4Rvn  \n",
       "1    rpujolvives      0   https://t.co/W7MemjJAA9  \n",
       "2    rpujolvives      1   https://t.co/RFX8meYv11  \n",
       "3   JDHall_35402      0  https://t.co/2A7wLyid3X?  \n",
       "4   DennisLandi2      0  https://t.co/OD7YqPO5SP?  "
      ]
     },
     "execution_count": 112,
     "metadata": {},
     "output_type": "execute_result"
    }
   ],
   "source": [
    "#creat multiple rows for the tweet that has multiple urls\n",
    "df_url = df_url_lst.set_index(['Dominant_Topic','TweetId','AuthorId','AuthorName','AuthorUsername'])['urls'].apply(pd.Series).stack()\n",
    "df_url = df_url.reset_index()\n",
    "df_url.columns = ['Topic','TweetId','AuthorId','AuthorName','AuthorUsername','#urls','urls']\n",
    "df_url.head()"
   ]
  },
  {
   "cell_type": "code",
   "execution_count": 113,
   "id": "e90c45e1-397d-4f08-ba69-09f83165fbdf",
   "metadata": {},
   "outputs": [
    {
     "data": {
      "text/plain": [
       "(21423, 7)"
      ]
     },
     "execution_count": 113,
     "metadata": {},
     "output_type": "execute_result"
    }
   ],
   "source": [
    "df_url.shape"
   ]
  },
  {
   "cell_type": "code",
   "execution_count": 139,
   "id": "516bb6cf-553f-406f-a231-14692bd82442",
   "metadata": {},
   "outputs": [
    {
     "data": {
      "text/plain": [
       "urls\n",
       "https://t.co/rzE0zAQVa8    20\n",
       "https://t.co/VrYzunSb4c     7\n",
       "https://t.co/D7doHYJapU     7\n",
       "https://t.co/wQD8SQx7lz     5\n",
       "https://t.co/9XbgTbeJiI     3\n",
       "https://t.co/qcDVnBP5k0     3\n",
       "https://t.co/cpMj8PhDKT     2\n",
       "https://t.co/JfZO79eZzD     2\n",
       "https://t.co/XlfcRIIMAu     2\n",
       "https://t.co/P5nqzUFSy1     2\n",
       "dtype: int64"
      ]
     },
     "execution_count": 139,
     "metadata": {},
     "output_type": "execute_result"
    }
   ],
   "source": [
    "#for i in range(10):\n",
    "    lst = []\n",
    "    lst.append(\n",
    "\n",
    "\n",
    "\n",
    "\n",
    "topic_1 = df_url[df_url['Topic'] == 1].pivot_table(columns=['urls'], aggfunc='size').sort_values(ascending=False).head(10)\n",
    "topic_1"
   ]
  },
  {
   "cell_type": "markdown",
   "id": "589fe5a1-a03c-4fd0-b1f4-c09c34c79664",
   "metadata": {},
   "source": [
    "#export df_url_lst to csv\n",
    "os.makedirs('/Users/lavine/Desktop/Terriers!/misinformation project/github/Climate-Change-Misinformation-project', exist_ok=True)  \n",
    "df_url.to_csv('/Users/lavine/Desktop/Terriers!/misinformation project/github/Climate-Change-Misinformation-project/each_topic_urls.csv')  "
   ]
  },
  {
   "cell_type": "markdown",
   "id": "ac667693-c3cf-41c6-b3f7-f20dc92ffd93",
   "metadata": {
    "tags": []
   },
   "source": [
    "### Find the most representative document for each topic"
   ]
  },
  {
   "cell_type": "code",
   "execution_count": 46,
   "id": "b0af1d4e-6496-4096-817a-52ea6e513e2d",
   "metadata": {},
   "outputs": [
    {
     "data": {
      "text/html": [
       "<div>\n",
       "<style scoped>\n",
       "    .dataframe tbody tr th:only-of-type {\n",
       "        vertical-align: middle;\n",
       "    }\n",
       "\n",
       "    .dataframe tbody tr th {\n",
       "        vertical-align: top;\n",
       "    }\n",
       "\n",
       "    .dataframe thead th {\n",
       "        text-align: right;\n",
       "    }\n",
       "</style>\n",
       "<table border=\"1\" class=\"dataframe\">\n",
       "  <thead>\n",
       "    <tr style=\"text-align: right;\">\n",
       "      <th></th>\n",
       "      <th>Topic_Num</th>\n",
       "      <th>Topic_Perc_Contrib</th>\n",
       "      <th>Keywords</th>\n",
       "      <th>Text</th>\n",
       "    </tr>\n",
       "  </thead>\n",
       "  <tbody>\n",
       "    <tr>\n",
       "      <th>0</th>\n",
       "      <td>0.0</td>\n",
       "      <td>0.9357</td>\n",
       "      <td>business, plan, climate, know, exxon, emission, reveal, damage, evil, add</td>\n",
       "      <td>https://t.co/B4K7DImfmz Exxon-designed “bipartisan” infrastructure plan worsens emissions, but pairing it w/clean energy in Build Back Better neutralizes BIF’s harm &amp;amp; lets us tackle the climate crisis #Reconciliationplan #budget #Budget2021 #budgetBill #BuildBackBetter</td>\n",
       "    </tr>\n",
       "    <tr>\n",
       "      <th>1</th>\n",
       "      <td>1.0</td>\n",
       "      <td>0.9577</td>\n",
       "      <td>climate, oil, amp, industry, company, change, gas, project, need, get</td>\n",
       "      <td>Oil firms face workforce crunch as renewables beckon -survey. Climate hawks NEVER want to discourage small dollar donations from \"Eddie Exxon in the oil fields\" and \"Eliza Exxon at the gas station\" because they both want better lives and a just transition. https://t.co/iWq5sHkADs</td>\n",
       "    </tr>\n",
       "    <tr>\n",
       "      <th>2</th>\n",
       "      <td>2.0</td>\n",
       "      <td>0.9319</td>\n",
       "      <td>climate, concern, science, lie, worlds_bigg, lower, document, here, fast, part</td>\n",
       "      <td>Tobacco CEOs were dubbed the Seven Dwarfs when they came and lied to Congress about cigarettes not being addictive.\\n\\nThe #SlipperySix -- the executives of Exxon, Chevron, Shell, BP, API, and US Chamber -- now lie about their history of climate denial. https://t.co/xZOF3Vmiib</td>\n",
       "    </tr>\n",
       "    <tr>\n",
       "      <th>3</th>\n",
       "      <td>3.0</td>\n",
       "      <td>0.9639</td>\n",
       "      <td>climate, change, exxon, company, strategy, emission, back, say, hold, technology</td>\n",
       "      <td>Each day, three times a day, Exxon told more than 100,000 Punchbowl subscribers that the company is “working to reduce emissions and help advance climate solutions,” and “advancing climate solutions like carbon capture and storage to help create a lower-carbon energy future.”</td>\n",
       "    </tr>\n",
       "    <tr>\n",
       "      <th>4</th>\n",
       "      <td>4.0</td>\n",
       "      <td>0.9526</td>\n",
       "      <td>fuel, fossil, pressure, sue, climate, corporation, end, crisis, petition, year</td>\n",
       "      <td>Each year, the government gives over $15 billion in taxpayer-funded subsidies to fossil fuel corporations who contribute to the climate crisis like Exxon. \\n\\nWill you sign our petition to pressure the Senate to END fossil fuel subsidies https://t.co/QafFuRpbFg? SAVE THE PLANET!</td>\n",
       "    </tr>\n",
       "    <tr>\n",
       "      <th>5</th>\n",
       "      <td>5.0</td>\n",
       "      <td>0.9625</td>\n",
       "      <td>climate, oil, change, shell, big, chevron, engine, investor, company, day</td>\n",
       "      <td>Big Setbacks Propel Oil Giants Toward ‘Tipping Point’:\\n\\nA surprising mix of environmentalists, pension fund managers &amp;amp; big money investors have scored startling victories against oil &amp;amp; coal in recent weeks, opening new battle fronts in the climate fight.\\n\\nhttps://t.co/xpNUv0hr4T https://t.co/rZwJvD1ZDu</td>\n",
       "    </tr>\n",
       "    <tr>\n",
       "      <th>6</th>\n",
       "      <td>6.0</td>\n",
       "      <td>0.9526</td>\n",
       "      <td>activist, climate, board, investor, new, win, shareholder, least, push, director</td>\n",
       "      <td>Exxon's management was just dealt a stunning defeat by the election of at least two board candidates nominated by activist investors who pledged to steer the company away from oil and gas and toward cleaner energy: https://t.co/S6BphWPxjx\\n #ClimateAction</td>\n",
       "    </tr>\n",
       "    <tr>\n",
       "      <th>7</th>\n",
       "      <td>7.0</td>\n",
       "      <td>0.9500</td>\n",
       "      <td>climate, video, push, catch, lobbyist, plan, talk, landmark, exxon, bid</td>\n",
       "      <td>In Your Facebook Feed: Oil Industry Pushback Against Biden Climate Plans: The messages take aim at Democrats by name as part of a broad effort to undermine landmark climate legislation that now hangs in the balance… https://t.co/RNjsSY1PXo #GlobalWarming #GreenhouseGasEmissions</td>\n",
       "    </tr>\n",
       "    <tr>\n",
       "      <th>8</th>\n",
       "      <td>8.0</td>\n",
       "      <td>0.9571</td>\n",
       "      <td>climate, big, change, oil, crisis, use, downplay, say, company, know</td>\n",
       "      <td>They could have stopped climate change 40 years ago\\nExxon Knew about Climate Change almost 40 years ago\\n\\nA new investigation shows the oil company understood the science before it became a public issue and spent millions to promote misinformation https://t.co/FtMKjcDsPX</td>\n",
       "    </tr>\n",
       "    <tr>\n",
       "      <th>9</th>\n",
       "      <td>9.0</td>\n",
       "      <td>0.9537</td>\n",
       "      <td>climate, seat, oil, change, vote, board, giant, fight, effort, action</td>\n",
       "      <td>In 1982, Exxon predicted the future evolution of our climate. Blue lines are Exxon's 1982 predictions while orange dots are actual observations. They pretty much nailed the future evolution of our climate. Exxon most definitely knew.\\nhttps://t.co/Fp0JQGw5MT</td>\n",
       "    </tr>\n",
       "  </tbody>\n",
       "</table>\n",
       "</div>"
      ],
      "text/plain": [
       "   Topic_Num  Topic_Perc_Contrib  \\\n",
       "0        0.0              0.9357   \n",
       "1        1.0              0.9577   \n",
       "2        2.0              0.9319   \n",
       "3        3.0              0.9639   \n",
       "4        4.0              0.9526   \n",
       "5        5.0              0.9625   \n",
       "6        6.0              0.9526   \n",
       "7        7.0              0.9500   \n",
       "8        8.0              0.9571   \n",
       "9        9.0              0.9537   \n",
       "\n",
       "                                                                           Keywords  \\\n",
       "0         business, plan, climate, know, exxon, emission, reveal, damage, evil, add   \n",
       "1             climate, oil, amp, industry, company, change, gas, project, need, get   \n",
       "2    climate, concern, science, lie, worlds_bigg, lower, document, here, fast, part   \n",
       "3  climate, change, exxon, company, strategy, emission, back, say, hold, technology   \n",
       "4    fuel, fossil, pressure, sue, climate, corporation, end, crisis, petition, year   \n",
       "5         climate, oil, change, shell, big, chevron, engine, investor, company, day   \n",
       "6  activist, climate, board, investor, new, win, shareholder, least, push, director   \n",
       "7           climate, video, push, catch, lobbyist, plan, talk, landmark, exxon, bid   \n",
       "8              climate, big, change, oil, crisis, use, downplay, say, company, know   \n",
       "9             climate, seat, oil, change, vote, board, giant, fight, effort, action   \n",
       "\n",
       "                                                                                                                                                                                                                                                                                                                          Text  \n",
       "0                                            https://t.co/B4K7DImfmz Exxon-designed “bipartisan” infrastructure plan worsens emissions, but pairing it w/clean energy in Build Back Better neutralizes BIF’s harm &amp; lets us tackle the climate crisis #Reconciliationplan #budget #Budget2021 #budgetBill #BuildBackBetter  \n",
       "1                                     Oil firms face workforce crunch as renewables beckon -survey. Climate hawks NEVER want to discourage small dollar donations from \"Eddie Exxon in the oil fields\" and \"Eliza Exxon at the gas station\" because they both want better lives and a just transition. https://t.co/iWq5sHkADs  \n",
       "2                                        Tobacco CEOs were dubbed the Seven Dwarfs when they came and lied to Congress about cigarettes not being addictive.\\n\\nThe #SlipperySix -- the executives of Exxon, Chevron, Shell, BP, API, and US Chamber -- now lie about their history of climate denial. https://t.co/xZOF3Vmiib  \n",
       "3                                         Each day, three times a day, Exxon told more than 100,000 Punchbowl subscribers that the company is “working to reduce emissions and help advance climate solutions,” and “advancing climate solutions like carbon capture and storage to help create a lower-carbon energy future.”  \n",
       "4                                      Each year, the government gives over $15 billion in taxpayer-funded subsidies to fossil fuel corporations who contribute to the climate crisis like Exxon. \\n\\nWill you sign our petition to pressure the Senate to END fossil fuel subsidies https://t.co/QafFuRpbFg? SAVE THE PLANET!  \n",
       "5  Big Setbacks Propel Oil Giants Toward ‘Tipping Point’:\\n\\nA surprising mix of environmentalists, pension fund managers &amp; big money investors have scored startling victories against oil &amp; coal in recent weeks, opening new battle fronts in the climate fight.\\n\\nhttps://t.co/xpNUv0hr4T https://t.co/rZwJvD1ZDu  \n",
       "6                                                              Exxon's management was just dealt a stunning defeat by the election of at least two board candidates nominated by activist investors who pledged to steer the company away from oil and gas and toward cleaner energy: https://t.co/S6BphWPxjx\\n #ClimateAction  \n",
       "7                                       In Your Facebook Feed: Oil Industry Pushback Against Biden Climate Plans: The messages take aim at Democrats by name as part of a broad effort to undermine landmark climate legislation that now hangs in the balance… https://t.co/RNjsSY1PXo #GlobalWarming #GreenhouseGasEmissions  \n",
       "8                                            They could have stopped climate change 40 years ago\\nExxon Knew about Climate Change almost 40 years ago\\n\\nA new investigation shows the oil company understood the science before it became a public issue and spent millions to promote misinformation https://t.co/FtMKjcDsPX  \n",
       "9                                                           In 1982, Exxon predicted the future evolution of our climate. Blue lines are Exxon's 1982 predictions while orange dots are actual observations. They pretty much nailed the future evolution of our climate. Exxon most definitely knew.\\nhttps://t.co/Fp0JQGw5MT  "
      ]
     },
     "execution_count": 46,
     "metadata": {},
     "output_type": "execute_result"
    }
   ],
   "source": [
    "# Group top 5 sentences under each topic\n",
    "sent_topics_sorteddf_mallet = pd.DataFrame()\n",
    "\n",
    "sent_topics_outdf_grpd = df_topic_sents_keywords.groupby('Dominant_Topic')\n",
    "\n",
    "for i, grp in sent_topics_outdf_grpd:\n",
    "    sent_topics_sorteddf_mallet = pd.concat([sent_topics_sorteddf_mallet, \n",
    "                                             grp.sort_values(['Perc_Contribution'], ascending=[0]).head(1)], \n",
    "                                            axis=0)\n",
    "\n",
    "# Reset Index    \n",
    "sent_topics_sorteddf_mallet.reset_index(drop=True, inplace=True)\n",
    "\n",
    "# Format\n",
    "sent_topics_sorteddf_mallet.columns = ['Topic_Num', \"Topic_Perc_Contrib\", \"Keywords\", \"Text\"]\n",
    "\n",
    "# Show\n",
    "sent_topics_sorteddf_mallet.head(10)"
   ]
  },
  {
   "cell_type": "markdown",
   "id": "59576a82-5edc-41c6-ab6e-1cd2a5935440",
   "metadata": {
    "tags": []
   },
   "source": [
    "### Topic distribution across documents"
   ]
  },
  {
   "cell_type": "code",
   "execution_count": 47,
   "id": "e1695dc0-dc55-4ed8-8636-14b13e5cfb70",
   "metadata": {},
   "outputs": [
    {
     "data": {
      "text/html": [
       "<div>\n",
       "<style scoped>\n",
       "    .dataframe tbody tr th:only-of-type {\n",
       "        vertical-align: middle;\n",
       "    }\n",
       "\n",
       "    .dataframe tbody tr th {\n",
       "        vertical-align: top;\n",
       "    }\n",
       "\n",
       "    .dataframe thead th {\n",
       "        text-align: right;\n",
       "    }\n",
       "</style>\n",
       "<table border=\"1\" class=\"dataframe\">\n",
       "  <thead>\n",
       "    <tr style=\"text-align: right;\">\n",
       "      <th></th>\n",
       "      <th>Dominant_Topic</th>\n",
       "      <th>Topic_Keywords</th>\n",
       "      <th>Num_Documents</th>\n",
       "      <th>Perc_Documents</th>\n",
       "    </tr>\n",
       "  </thead>\n",
       "  <tbody>\n",
       "    <tr>\n",
       "      <th>0.0</th>\n",
       "      <td>8.0</td>\n",
       "      <td>climate, big, change, oil, crisis, use, downplay, say, company, know</td>\n",
       "      <td>995.0</td>\n",
       "      <td>0.0473</td>\n",
       "    </tr>\n",
       "    <tr>\n",
       "      <th>1.0</th>\n",
       "      <td>0.0</td>\n",
       "      <td>business, plan, climate, know, exxon, emission, reveal, damage, evil, add</td>\n",
       "      <td>2630.0</td>\n",
       "      <td>0.1251</td>\n",
       "    </tr>\n",
       "    <tr>\n",
       "      <th>2.0</th>\n",
       "      <td>0.0</td>\n",
       "      <td>business, plan, climate, know, exxon, emission, reveal, damage, evil, add</td>\n",
       "      <td>589.0</td>\n",
       "      <td>0.0280</td>\n",
       "    </tr>\n",
       "    <tr>\n",
       "      <th>3.0</th>\n",
       "      <td>4.0</td>\n",
       "      <td>fuel, fossil, pressure, sue, climate, corporation, end, crisis, petition, year</td>\n",
       "      <td>3163.0</td>\n",
       "      <td>0.1504</td>\n",
       "    </tr>\n",
       "    <tr>\n",
       "      <th>4.0</th>\n",
       "      <td>4.0</td>\n",
       "      <td>fuel, fossil, pressure, sue, climate, corporation, end, crisis, petition, year</td>\n",
       "      <td>984.0</td>\n",
       "      <td>0.0468</td>\n",
       "    </tr>\n",
       "    <tr>\n",
       "      <th>5.0</th>\n",
       "      <td>0.0</td>\n",
       "      <td>business, plan, climate, know, exxon, emission, reveal, damage, evil, add</td>\n",
       "      <td>2430.0</td>\n",
       "      <td>0.1156</td>\n",
       "    </tr>\n",
       "    <tr>\n",
       "      <th>6.0</th>\n",
       "      <td>4.0</td>\n",
       "      <td>fuel, fossil, pressure, sue, climate, corporation, end, crisis, petition, year</td>\n",
       "      <td>2373.0</td>\n",
       "      <td>0.1128</td>\n",
       "    </tr>\n",
       "    <tr>\n",
       "      <th>7.0</th>\n",
       "      <td>1.0</td>\n",
       "      <td>climate, oil, amp, industry, company, change, gas, project, need, get</td>\n",
       "      <td>1615.0</td>\n",
       "      <td>0.0768</td>\n",
       "    </tr>\n",
       "    <tr>\n",
       "      <th>8.0</th>\n",
       "      <td>9.0</td>\n",
       "      <td>climate, seat, oil, change, vote, board, giant, fight, effort, action</td>\n",
       "      <td>3142.0</td>\n",
       "      <td>0.1494</td>\n",
       "    </tr>\n",
       "    <tr>\n",
       "      <th>9.0</th>\n",
       "      <td>9.0</td>\n",
       "      <td>climate, seat, oil, change, vote, board, giant, fight, effort, action</td>\n",
       "      <td>3108.0</td>\n",
       "      <td>0.1478</td>\n",
       "    </tr>\n",
       "  </tbody>\n",
       "</table>\n",
       "</div>"
      ],
      "text/plain": [
       "     Dominant_Topic  \\\n",
       "0.0             8.0   \n",
       "1.0             0.0   \n",
       "2.0             0.0   \n",
       "3.0             4.0   \n",
       "4.0             4.0   \n",
       "5.0             0.0   \n",
       "6.0             4.0   \n",
       "7.0             1.0   \n",
       "8.0             9.0   \n",
       "9.0             9.0   \n",
       "\n",
       "                                                                     Topic_Keywords  \\\n",
       "0.0            climate, big, change, oil, crisis, use, downplay, say, company, know   \n",
       "1.0       business, plan, climate, know, exxon, emission, reveal, damage, evil, add   \n",
       "2.0       business, plan, climate, know, exxon, emission, reveal, damage, evil, add   \n",
       "3.0  fuel, fossil, pressure, sue, climate, corporation, end, crisis, petition, year   \n",
       "4.0  fuel, fossil, pressure, sue, climate, corporation, end, crisis, petition, year   \n",
       "5.0       business, plan, climate, know, exxon, emission, reveal, damage, evil, add   \n",
       "6.0  fuel, fossil, pressure, sue, climate, corporation, end, crisis, petition, year   \n",
       "7.0           climate, oil, amp, industry, company, change, gas, project, need, get   \n",
       "8.0           climate, seat, oil, change, vote, board, giant, fight, effort, action   \n",
       "9.0           climate, seat, oil, change, vote, board, giant, fight, effort, action   \n",
       "\n",
       "     Num_Documents  Perc_Documents  \n",
       "0.0          995.0          0.0473  \n",
       "1.0         2630.0          0.1251  \n",
       "2.0          589.0          0.0280  \n",
       "3.0         3163.0          0.1504  \n",
       "4.0          984.0          0.0468  \n",
       "5.0         2430.0          0.1156  \n",
       "6.0         2373.0          0.1128  \n",
       "7.0         1615.0          0.0768  \n",
       "8.0         3142.0          0.1494  \n",
       "9.0         3108.0          0.1478  "
      ]
     },
     "execution_count": 47,
     "metadata": {},
     "output_type": "execute_result"
    }
   ],
   "source": [
    "# Number of Documents for Each Topic\n",
    "topic_counts = df_topic_sents_keywords['Dominant_Topic'].value_counts()\n",
    "\n",
    "# Percentage of Documents for Each Topic\n",
    "topic_contribution = round(topic_counts/topic_counts.sum(), 4)\n",
    "\n",
    "# Topic Number and Keywords\n",
    "topic_num_keywords = df_topic_sents_keywords[['Dominant_Topic', 'Topic_Keywords']]\n",
    "\n",
    "# Concatenate Column wise\n",
    "df_dominant_topics = pd.concat([topic_num_keywords, topic_counts, topic_contribution], axis=1)\n",
    "\n",
    "# Change Column names\n",
    "df_dominant_topics.columns = ['Dominant_Topic', 'Topic_Keywords', 'Num_Documents', 'Perc_Documents']\n",
    "\n",
    "# Show\n",
    "df_dominant_topics.head(10)"
   ]
  },
  {
   "cell_type": "code",
   "execution_count": null,
   "id": "45614d3e-d5fc-4bc4-a25f-61ab57f845a3",
   "metadata": {},
   "outputs": [],
   "source": []
  },
  {
   "cell_type": "code",
   "execution_count": null,
   "id": "7703e154-4778-4825-b928-53d55e502849",
   "metadata": {},
   "outputs": [],
   "source": []
  }
 ],
 "metadata": {
  "kernelspec": {
   "display_name": "Python 3 (ipykernel)",
   "language": "python",
   "name": "python3"
  },
  "language_info": {
   "codemirror_mode": {
    "name": "ipython",
    "version": 3
   },
   "file_extension": ".py",
   "mimetype": "text/x-python",
   "name": "python",
   "nbconvert_exporter": "python",
   "pygments_lexer": "ipython3",
   "version": "3.9.7"
  }
 },
 "nbformat": 4,
 "nbformat_minor": 5
}
