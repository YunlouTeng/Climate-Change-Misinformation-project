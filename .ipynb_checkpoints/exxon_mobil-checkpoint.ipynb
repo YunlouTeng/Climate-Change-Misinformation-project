{
 "cells": [
  {
   "cell_type": "markdown",
   "id": "8297f9dd",
   "metadata": {
    "tags": []
   },
   "source": [
    "### Library"
   ]
  },
  {
   "cell_type": "code",
   "execution_count": 1,
   "id": "3911a094-8aa5-4ad9-b24a-00fa2046e847",
   "metadata": {},
   "outputs": [],
   "source": [
    "import re\n",
    "import json\n",
    "import numpy as np\n",
    "import pandas as pd\n",
    "from pprint import pprint\n",
    "import seaborn as sns\n",
    "\n",
    "# NLTK Stop words\n",
    "import nltk\n",
    "from nltk import word_tokenize, FreqDist\n",
    "from nltk.corpus import stopwords\n",
    "from nltk.stem import WordNetLemmatizer\n",
    "from nltk.tokenize import TweetTokenizer\n",
    "\n",
    "# spacy for lemmatization\n",
    "import spacy\n",
    "\n",
    "#remove urls, mentions, emojis \n",
    "import preprocessor as p\n",
    "\n",
    "# Gensim\n",
    "import gensim\n",
    "import gensim.corpora as corpora\n",
    "from gensim.utils import simple_preprocess\n",
    "from gensim.models import CoherenceModel\n",
    "\n",
    "# Plotting tools\n",
    "import pyLDAvis\n",
    "import pyLDAvis.gensim_models  \n",
    "import matplotlib.pyplot as plt"
   ]
  },
  {
   "cell_type": "code",
   "execution_count": 2,
   "id": "01936baf-d833-49d0-9aca-11cfeceac718",
   "metadata": {},
   "outputs": [],
   "source": [
    "filepath = '/Users/lavine/Desktop/Terriers!/misinformation project/data/data.txt'"
   ]
  },
  {
   "cell_type": "markdown",
   "id": "2c5aa15e-14fe-4d05-9462-3e5b84aed595",
   "metadata": {
    "tags": []
   },
   "source": [
    "### Create a dataframe by every columns"
   ]
  },
  {
   "cell_type": "code",
   "execution_count": 3,
   "id": "1d9ce5af-9975-4db1-bf43-64d4a2f34184",
   "metadata": {},
   "outputs": [],
   "source": [
    "#load all the JSON objects in one list as dictionaries\n",
    "data = []\n",
    "with open(filepath,'r') as f:\n",
    "    for line in f:\n",
    "        data.append(json.loads(line))"
   ]
  },
  {
   "cell_type": "markdown",
   "id": "461a17e1-b7bd-41f8-852d-3260c48784ee",
   "metadata": {},
   "source": [
    " #### Put the text data in one list"
   ]
  },
  {
   "cell_type": "markdown",
   "id": "e1ba2fbf-e5ec-464c-8b6c-8f755bd24224",
   "metadata": {},
   "source": [
    "not original:\n",
    "referenced_tweet in i:\n",
    " == retweet \n",
    " \n",
    "lst_\n",
    "\n",
    "\n",
    "original:\n",
    "if not 'referenced_tweets' in i\n",
    "\n",
    "lst_o_text.append(i['text'])\n",
    "\n"
   ]
  },
  {
   "cell_type": "markdown",
   "id": "fae72b75-2e31-4eeb-8207-5db49fa05477",
   "metadata": {},
   "source": [
    "#retrive text and avoid truncated text when retweet without quoting\n",
    "lst_o_text = []\n",
    "lst_ret_text = []\n",
    "lst_rep_text = []\n",
    "\n",
    "for i in data:    \n",
    "    if 'referenced_tweets' in i:\n",
    "        if i['referenced_tweets'][0]['type'] != 'retweeted':\n",
    "            lst_text.append(i['referenced_tweets'][0]['text'])\n",
    "        else:\n",
    "            lst_text.append(i['text'])\n",
    "    else:\n",
    "        lst_text.append(i['text'])"
   ]
  },
  {
   "cell_type": "code",
   "execution_count": 4,
   "id": "5f5f8967-f8d6-4a4f-a72b-a71ba0eaba60",
   "metadata": {},
   "outputs": [],
   "source": [
    "lst_o_text = []\n",
    "\n",
    "#create lists for id, author id and conversation\n",
    "lst_id = []\n",
    "lst_lang = []\n",
    "lst_author_id = []\n",
    "lst_conversation_id = []\n",
    "\n",
    "#lst verified or not, author name and author username\n",
    "lst_author_verified = []\n",
    "lst_author_name = []\n",
    "lst_author_username = []\n",
    "\n",
    "#list creation time\n",
    "lst_twt_creation_time = []\n",
    "\n",
    "for i in data:\n",
    "    if not 'referenced_tweets' in i:\n",
    "        lst_o_text.append(i['text'])\n",
    "        lst_id.append(i['id'])\n",
    "        lst_lang.append(i['lang'])\n",
    "        lst_author_id.append(i['author_id'])\n",
    "        lst_conversation_id.append(i['conversation_id'])\n",
    "        lst_author_verified.append(i['author']['verified'])\n",
    "        lst_author_name.append(i['author']['name'])\n",
    "        lst_author_username.append(i['author']['username'])\n",
    "        lst_twt_creation_time.append(i['created_at'])"
   ]
  },
  {
   "cell_type": "markdown",
   "id": "8768c389-a75e-45af-be8b-cf8940199c75",
   "metadata": {},
   "source": [
    " #### Put the author info in list"
   ]
  },
  {
   "cell_type": "code",
   "execution_count": 5,
   "id": "f3ad13fe-db12-4fe4-a859-87dd1586bebe",
   "metadata": {},
   "outputs": [
    {
     "data": {
      "text/plain": [
       "dict_keys(['lang', 'id', 'possibly_sensitive', 'author_id', 'text', 'referenced_tweets', 'created_at', 'source', 'entities', 'in_reply_to_user_id', 'reply_settings', 'conversation_id', 'public_metrics', 'author', 'in_reply_to_user', '__twarc'])"
      ]
     },
     "execution_count": 5,
     "metadata": {},
     "output_type": "execute_result"
    }
   ],
   "source": [
    "data[0].keys()"
   ]
  },
  {
   "cell_type": "markdown",
   "id": "78a61f6d-633b-4c1d-a9ea-0599dfeb3afd",
   "metadata": {},
   "source": [
    "##### Put what we have in one dataframe"
   ]
  },
  {
   "cell_type": "code",
   "execution_count": 6,
   "id": "3b0e8f52-6dfe-4a2b-bbb4-c5ec3fefb98a",
   "metadata": {},
   "outputs": [],
   "source": [
    "tweets = pd.DataFrame({'text': lst_o_text,\n",
    "                  'language': lst_lang,\n",
    "                  'id': lst_id,\n",
    "                  'author_id': lst_author_id,\n",
    "                  'conversation_id': lst_conversation_id,\n",
    "                  'author_verified': lst_author_verified,\n",
    "                  'author_name': lst_author_name,\n",
    "                  'author_username': lst_author_username,\n",
    "                  'twt_creation_time': lst_twt_creation_time\n",
    "                  })"
   ]
  },
  {
   "cell_type": "code",
   "execution_count": 7,
   "id": "188315ed-e472-403c-9860-0cd9bebccca0",
   "metadata": {},
   "outputs": [],
   "source": [
    "pd.set_option(\"display.max_colwidth\", 10000)"
   ]
  },
  {
   "cell_type": "code",
   "execution_count": 8,
   "id": "5e7c9a2a-cb70-427a-900a-44f7c76611c0",
   "metadata": {},
   "outputs": [],
   "source": [
    "tweets.drop(tweets[tweets['language'] != 'en'].index, inplace = True)"
   ]
  },
  {
   "cell_type": "code",
   "execution_count": 9,
   "id": "dbe06b4c-50a9-47c3-a3bc-b9802eaa7822",
   "metadata": {},
   "outputs": [
    {
     "data": {
      "text/html": [
       "<div>\n",
       "<style scoped>\n",
       "    .dataframe tbody tr th:only-of-type {\n",
       "        vertical-align: middle;\n",
       "    }\n",
       "\n",
       "    .dataframe tbody tr th {\n",
       "        vertical-align: top;\n",
       "    }\n",
       "\n",
       "    .dataframe thead th {\n",
       "        text-align: right;\n",
       "    }\n",
       "</style>\n",
       "<table border=\"1\" class=\"dataframe\">\n",
       "  <thead>\n",
       "    <tr style=\"text-align: right;\">\n",
       "      <th></th>\n",
       "      <th>text</th>\n",
       "      <th>language</th>\n",
       "      <th>id</th>\n",
       "      <th>author_id</th>\n",
       "      <th>conversation_id</th>\n",
       "      <th>author_verified</th>\n",
       "      <th>author_name</th>\n",
       "      <th>author_username</th>\n",
       "      <th>twt_creation_time</th>\n",
       "    </tr>\n",
       "  </thead>\n",
       "  <tbody>\n",
       "    <tr>\n",
       "      <th>0</th>\n",
       "      <td>'We are in a climate emergency'December wildfires ravage Colorado https://t.co/sWDkZM4Rvn Sen. Manchin, your Exxon highway bill isn't going 2save our homes or our lives,\" \"Your greed &amp;amp; corruption is not only torching our future It's burning our communities and destroying lives!</td>\n",
       "      <td>en</td>\n",
       "      <td>1477024401254092800</td>\n",
       "      <td>1009831809855688707</td>\n",
       "      <td>1477024401254092800</td>\n",
       "      <td>False</td>\n",
       "      <td>Vammek Opinion</td>\n",
       "      <td>Vammek</td>\n",
       "      <td>2021-12-31T21:10:33.000Z</td>\n",
       "    </tr>\n",
       "    <tr>\n",
       "      <th>1</th>\n",
       "      <td>#Oil business knows about the damage that It does, but this business is too much easy and lucrative  https://t.co/W7MemjJAA9 #FossilFuels \\nExxon’s Plan for Surging Carbon Emissions Revealed in Leaked Documents https://t.co/RFX8meYv11</td>\n",
       "      <td>en</td>\n",
       "      <td>1476991564803104776</td>\n",
       "      <td>590788952</td>\n",
       "      <td>1476991564803104776</td>\n",
       "      <td>False</td>\n",
       "      <td>Robert Pujol i Vives</td>\n",
       "      <td>rpujolvives</td>\n",
       "      <td>2021-12-31T19:00:04.000Z</td>\n",
       "    </tr>\n",
       "    <tr>\n",
       "      <th>2</th>\n",
       "      <td>@amywestervelt Your opinion piece concerning climate science alone motivating people to help create political change on Global Warming policy is Spot On. Informing people about the injustices Exxon and Big Oil has perpetrated on us is crucial in inspiring citizens to fight back.</td>\n",
       "      <td>en</td>\n",
       "      <td>1476962302159060992</td>\n",
       "      <td>1476958634705780736</td>\n",
       "      <td>1476962302159060992</td>\n",
       "      <td>False</td>\n",
       "      <td>Megan Robbins</td>\n",
       "      <td>MeganRo50852817</td>\n",
       "      <td>2021-12-31T17:03:48.000Z</td>\n",
       "    </tr>\n",
       "    <tr>\n",
       "      <th>3</th>\n",
       "      <td>Each year, the government gives over $15 billion in taxpayer-funded subsidies to fossil fuel corporations who contribute to the climate crisis like Exxon. \\n\\nWill you sign this petition to pressure the Senate to END fossil fuel subsidies https://t.co/2A7wLyid3X?</td>\n",
       "      <td>en</td>\n",
       "      <td>1476954565450903553</td>\n",
       "      <td>47878087</td>\n",
       "      <td>1476954565450903553</td>\n",
       "      <td>False</td>\n",
       "      <td>Jennifer Hall</td>\n",
       "      <td>JDHall_35402</td>\n",
       "      <td>2021-12-31T16:33:03.000Z</td>\n",
       "    </tr>\n",
       "    <tr>\n",
       "      <th>4</th>\n",
       "      <td>Each year, the government gives over $15 billion in taxpayer-funded subsidies to fossil fuel corporations who contribute to the climate crisis like Exxon. \\n\\nWill you sign our petition to pressure the Senate to END fossil fuel subsidies https://t.co/OD7YqPO5SP?</td>\n",
       "      <td>en</td>\n",
       "      <td>1476922966893948928</td>\n",
       "      <td>1450838788037496836</td>\n",
       "      <td>1476922966893948928</td>\n",
       "      <td>False</td>\n",
       "      <td>Dennis Landi</td>\n",
       "      <td>DennisLandi2</td>\n",
       "      <td>2021-12-31T14:27:29.000Z</td>\n",
       "    </tr>\n",
       "  </tbody>\n",
       "</table>\n",
       "</div>"
      ],
      "text/plain": [
       "                                                                                                                                                                                                                                                                                         text  \\\n",
       "0  'We are in a climate emergency'December wildfires ravage Colorado https://t.co/sWDkZM4Rvn Sen. Manchin, your Exxon highway bill isn't going 2save our homes or our lives,\" \"Your greed &amp; corruption is not only torching our future It's burning our communities and destroying lives!   \n",
       "1                                                  #Oil business knows about the damage that It does, but this business is too much easy and lucrative  https://t.co/W7MemjJAA9 #FossilFuels \\nExxon’s Plan for Surging Carbon Emissions Revealed in Leaked Documents https://t.co/RFX8meYv11   \n",
       "2     @amywestervelt Your opinion piece concerning climate science alone motivating people to help create political change on Global Warming policy is Spot On. Informing people about the injustices Exxon and Big Oil has perpetrated on us is crucial in inspiring citizens to fight back.   \n",
       "3                     Each year, the government gives over $15 billion in taxpayer-funded subsidies to fossil fuel corporations who contribute to the climate crisis like Exxon. \\n\\nWill you sign this petition to pressure the Senate to END fossil fuel subsidies https://t.co/2A7wLyid3X?   \n",
       "4                      Each year, the government gives over $15 billion in taxpayer-funded subsidies to fossil fuel corporations who contribute to the climate crisis like Exxon. \\n\\nWill you sign our petition to pressure the Senate to END fossil fuel subsidies https://t.co/OD7YqPO5SP?   \n",
       "\n",
       "  language                   id            author_id      conversation_id  \\\n",
       "0       en  1477024401254092800  1009831809855688707  1477024401254092800   \n",
       "1       en  1476991564803104776            590788952  1476991564803104776   \n",
       "2       en  1476962302159060992  1476958634705780736  1476962302159060992   \n",
       "3       en  1476954565450903553             47878087  1476954565450903553   \n",
       "4       en  1476922966893948928  1450838788037496836  1476922966893948928   \n",
       "\n",
       "   author_verified           author_name  author_username  \\\n",
       "0            False        Vammek Opinion           Vammek   \n",
       "1            False  Robert Pujol i Vives      rpujolvives   \n",
       "2            False         Megan Robbins  MeganRo50852817   \n",
       "3            False         Jennifer Hall     JDHall_35402   \n",
       "4            False          Dennis Landi     DennisLandi2   \n",
       "\n",
       "          twt_creation_time  \n",
       "0  2021-12-31T21:10:33.000Z  \n",
       "1  2021-12-31T19:00:04.000Z  \n",
       "2  2021-12-31T17:03:48.000Z  \n",
       "3  2021-12-31T16:33:03.000Z  \n",
       "4  2021-12-31T14:27:29.000Z  "
      ]
     },
     "execution_count": 9,
     "metadata": {},
     "output_type": "execute_result"
    }
   ],
   "source": [
    "tweets.head()"
   ]
  },
  {
   "cell_type": "markdown",
   "id": "87f8239d-0094-46e7-ab51-c559cb9963fa",
   "metadata": {
    "tags": []
   },
   "source": [
    "### Data preprocessing"
   ]
  },
  {
   "cell_type": "code",
   "execution_count": 10,
   "id": "7ae12cec-2bd4-43dc-bdd8-e442a6907d5d",
   "metadata": {},
   "outputs": [],
   "source": [
    "tweets['hashtag'] = tweets['text'].apply(lambda x: re.findall(r\"#(\\w+)\", x))"
   ]
  },
  {
   "cell_type": "code",
   "execution_count": 11,
   "id": "8d4bb11c-5b98-452c-8ea9-e1f0f4e36ca9",
   "metadata": {},
   "outputs": [],
   "source": [
    "#forming a separate column for cleaned tweets\n",
    "tweets['ctext'] = tweets['text'].apply(lambda x: p.clean(x))"
   ]
  },
  {
   "cell_type": "code",
   "execution_count": 12,
   "id": "9b9e878d-4990-4b58-85f2-2e42650a652f",
   "metadata": {},
   "outputs": [
    {
     "data": {
      "text/html": [
       "<div>\n",
       "<style scoped>\n",
       "    .dataframe tbody tr th:only-of-type {\n",
       "        vertical-align: middle;\n",
       "    }\n",
       "\n",
       "    .dataframe tbody tr th {\n",
       "        vertical-align: top;\n",
       "    }\n",
       "\n",
       "    .dataframe thead th {\n",
       "        text-align: right;\n",
       "    }\n",
       "</style>\n",
       "<table border=\"1\" class=\"dataframe\">\n",
       "  <thead>\n",
       "    <tr style=\"text-align: right;\">\n",
       "      <th></th>\n",
       "      <th>text</th>\n",
       "      <th>language</th>\n",
       "      <th>id</th>\n",
       "      <th>author_id</th>\n",
       "      <th>conversation_id</th>\n",
       "      <th>author_verified</th>\n",
       "      <th>author_name</th>\n",
       "      <th>author_username</th>\n",
       "      <th>twt_creation_time</th>\n",
       "      <th>hashtag</th>\n",
       "      <th>ctext</th>\n",
       "    </tr>\n",
       "  </thead>\n",
       "  <tbody>\n",
       "    <tr>\n",
       "      <th>0</th>\n",
       "      <td>'We are in a climate emergency'December wildfires ravage Colorado https://t.co/sWDkZM4Rvn Sen. Manchin, your Exxon highway bill isn't going 2save our homes or our lives,\" \"Your greed &amp;amp; corruption is not only torching our future It's burning our communities and destroying lives!</td>\n",
       "      <td>en</td>\n",
       "      <td>1477024401254092800</td>\n",
       "      <td>1009831809855688707</td>\n",
       "      <td>1477024401254092800</td>\n",
       "      <td>False</td>\n",
       "      <td>Vammek Opinion</td>\n",
       "      <td>Vammek</td>\n",
       "      <td>2021-12-31T21:10:33.000Z</td>\n",
       "      <td>[]</td>\n",
       "      <td>'We are in a climate emergency'December wildfires ravage Colorado Sen. Manchin, your Exxon highway bill isn't going save our homes or our lives,\" \"Your greed &amp;amp; corruption is not only torching our future It's burning our communities and destroying lives!</td>\n",
       "    </tr>\n",
       "    <tr>\n",
       "      <th>1</th>\n",
       "      <td>#Oil business knows about the damage that It does, but this business is too much easy and lucrative  https://t.co/W7MemjJAA9 #FossilFuels \\nExxon’s Plan for Surging Carbon Emissions Revealed in Leaked Documents https://t.co/RFX8meYv11</td>\n",
       "      <td>en</td>\n",
       "      <td>1476991564803104776</td>\n",
       "      <td>590788952</td>\n",
       "      <td>1476991564803104776</td>\n",
       "      <td>False</td>\n",
       "      <td>Robert Pujol i Vives</td>\n",
       "      <td>rpujolvives</td>\n",
       "      <td>2021-12-31T19:00:04.000Z</td>\n",
       "      <td>[Oil, FossilFuels]</td>\n",
       "      <td>business knows about the damage that It does, but this business is too much easy and lucrative Exxons Plan for Surging Carbon Emissions Revealed in Leaked Documents</td>\n",
       "    </tr>\n",
       "    <tr>\n",
       "      <th>2</th>\n",
       "      <td>@amywestervelt Your opinion piece concerning climate science alone motivating people to help create political change on Global Warming policy is Spot On. Informing people about the injustices Exxon and Big Oil has perpetrated on us is crucial in inspiring citizens to fight back.</td>\n",
       "      <td>en</td>\n",
       "      <td>1476962302159060992</td>\n",
       "      <td>1476958634705780736</td>\n",
       "      <td>1476962302159060992</td>\n",
       "      <td>False</td>\n",
       "      <td>Megan Robbins</td>\n",
       "      <td>MeganRo50852817</td>\n",
       "      <td>2021-12-31T17:03:48.000Z</td>\n",
       "      <td>[]</td>\n",
       "      <td>Your opinion piece concerning climate science alone motivating people to help create political change on Global Warming policy is Spot On. Informing people about the injustices Exxon and Big Oil has perpetrated on us is crucial in inspiring citizens to fight back.</td>\n",
       "    </tr>\n",
       "  </tbody>\n",
       "</table>\n",
       "</div>"
      ],
      "text/plain": [
       "                                                                                                                                                                                                                                                                                         text  \\\n",
       "0  'We are in a climate emergency'December wildfires ravage Colorado https://t.co/sWDkZM4Rvn Sen. Manchin, your Exxon highway bill isn't going 2save our homes or our lives,\" \"Your greed &amp; corruption is not only torching our future It's burning our communities and destroying lives!   \n",
       "1                                                  #Oil business knows about the damage that It does, but this business is too much easy and lucrative  https://t.co/W7MemjJAA9 #FossilFuels \\nExxon’s Plan for Surging Carbon Emissions Revealed in Leaked Documents https://t.co/RFX8meYv11   \n",
       "2     @amywestervelt Your opinion piece concerning climate science alone motivating people to help create political change on Global Warming policy is Spot On. Informing people about the injustices Exxon and Big Oil has perpetrated on us is crucial in inspiring citizens to fight back.   \n",
       "\n",
       "  language                   id            author_id      conversation_id  \\\n",
       "0       en  1477024401254092800  1009831809855688707  1477024401254092800   \n",
       "1       en  1476991564803104776            590788952  1476991564803104776   \n",
       "2       en  1476962302159060992  1476958634705780736  1476962302159060992   \n",
       "\n",
       "   author_verified           author_name  author_username  \\\n",
       "0            False        Vammek Opinion           Vammek   \n",
       "1            False  Robert Pujol i Vives      rpujolvives   \n",
       "2            False         Megan Robbins  MeganRo50852817   \n",
       "\n",
       "          twt_creation_time             hashtag  \\\n",
       "0  2021-12-31T21:10:33.000Z                  []   \n",
       "1  2021-12-31T19:00:04.000Z  [Oil, FossilFuels]   \n",
       "2  2021-12-31T17:03:48.000Z                  []   \n",
       "\n",
       "                                                                                                                                                                                                                                                                      ctext  \n",
       "0         'We are in a climate emergency'December wildfires ravage Colorado Sen. Manchin, your Exxon highway bill isn't going save our homes or our lives,\" \"Your greed &amp; corruption is not only torching our future It's burning our communities and destroying lives!  \n",
       "1                                                                                                      business knows about the damage that It does, but this business is too much easy and lucrative Exxons Plan for Surging Carbon Emissions Revealed in Leaked Documents  \n",
       "2  Your opinion piece concerning climate science alone motivating people to help create political change on Global Warming policy is Spot On. Informing people about the injustices Exxon and Big Oil has perpetrated on us is crucial in inspiring citizens to fight back.  "
      ]
     },
     "execution_count": 12,
     "metadata": {},
     "output_type": "execute_result"
    }
   ],
   "source": [
    "tweets.head(3)"
   ]
  },
  {
   "cell_type": "code",
   "execution_count": 13,
   "id": "bef3a4db-2aa1-412a-b4b6-6a07696d38d7",
   "metadata": {},
   "outputs": [],
   "source": [
    "#convert to list\n",
    "ctext = tweets['ctext'].tolist()"
   ]
  },
  {
   "cell_type": "code",
   "execution_count": 14,
   "id": "f210384d-bd53-4a61-b085-e7e1545ee33f",
   "metadata": {},
   "outputs": [],
   "source": [
    "nctext = tweets['text'].tolist()"
   ]
  },
  {
   "cell_type": "code",
   "execution_count": 15,
   "id": "25ad07de-a943-4a3d-a64e-0a555ecc16d5",
   "metadata": {},
   "outputs": [
    {
     "name": "stderr",
     "output_type": "stream",
     "text": [
      "<>:2: DeprecationWarning: invalid escape sequence \\s\n",
      "<>:2: DeprecationWarning: invalid escape sequence \\s\n",
      "/var/folders/kg/0ndh6pln2x7b6rpm16twhvpc0000gn/T/ipykernel_948/1351202947.py:2: DeprecationWarning: invalid escape sequence \\s\n",
      "  ctext = [re.sub('\\s+', ' ', sent) for sent in ctext]\n"
     ]
    }
   ],
   "source": [
    "# Remove new line characters\n",
    "ctext = [re.sub('\\s+', ' ', sent) for sent in ctext]"
   ]
  },
  {
   "cell_type": "code",
   "execution_count": 16,
   "id": "10de78ad-cd53-4a1e-b4d8-42cf0466e43f",
   "metadata": {},
   "outputs": [],
   "source": [
    "# Remove distracting single quotes\n",
    "ctext = [re.sub(\"\\'\", \"\", sent) for sent in ctext]"
   ]
  },
  {
   "cell_type": "code",
   "execution_count": 17,
   "id": "a06b12d3-e30d-437a-82d6-8ff049bc9a56",
   "metadata": {},
   "outputs": [],
   "source": [
    "# remove punctuations\n",
    "ctext = [re.sub(r'[^\\w\\s]', '', sent) for sent in ctext]"
   ]
  },
  {
   "cell_type": "code",
   "execution_count": 18,
   "id": "e48ea990-81ac-4293-8fc2-cad5bc777db5",
   "metadata": {},
   "outputs": [
    {
     "data": {
      "text/plain": [
       "['business knows about the damage that It does but this business is too much easy and lucrative Exxons Plan for Surging Carbon Emissions Revealed in Leaked Documents',\n",
       " 'Your opinion piece concerning climate science alone motivating people to help create political change on Global Warming policy is Spot On Informing people about the injustices Exxon and Big Oil has perpetrated on us is crucial in inspiring citizens to fight back',\n",
       " 'Each year the government gives over 15 billion in taxpayerfunded subsidies to fossil fuel corporations who contribute to the climate crisis like Exxon Will you sign this petition to pressure the Senate to END fossil fuel subsidies ',\n",
       " 'Each year the government gives over 15 billion in taxpayerfunded subsidies to fossil fuel corporations who contribute to the climate crisis like Exxon Will you sign our petition to pressure the Senate to END fossil fuel subsidies ']"
      ]
     },
     "execution_count": 18,
     "metadata": {},
     "output_type": "execute_result"
    }
   ],
   "source": [
    "ctext[1:5]"
   ]
  },
  {
   "cell_type": "markdown",
   "id": "eee9d1b7-d916-49e8-9467-c99192da368b",
   "metadata": {
    "tags": []
   },
   "source": [
    "### Tokenize words and further clean up text"
   ]
  },
  {
   "cell_type": "markdown",
   "id": "aa60cee8-1c55-469f-ae2f-ed218555bee5",
   "metadata": {},
   "source": [
    "Tokenize each sentence into a list of words, removing punctuations and unnecessary characters altoghter"
   ]
  },
  {
   "cell_type": "code",
   "execution_count": 19,
   "id": "6b44245f-17f9-45d5-8ebd-bc0c18503060",
   "metadata": {},
   "outputs": [
    {
     "name": "stdout",
     "output_type": "stream",
     "text": [
      "[['we', 'are', 'in', 'climate', 'wildfires', 'ravage', 'colorado', 'sen', 'manchin', 'your', 'exxon', 'highway', 'bill', 'isnt', 'going', 'save', 'our', 'homes', 'or', 'our', 'lives', 'your', 'greed', 'amp', 'corruption', 'is', 'not', 'only', 'torching', 'our', 'future', 'its', 'burning', 'our', 'communities', 'and', 'destroying', 'lives']]\n"
     ]
    }
   ],
   "source": [
    "def sent_to_words(sentences):\n",
    "    for sentence in sentences:\n",
    "        yield(gensim.utils.simple_preprocess(str(sentence), deacc=True))  # deacc=True removes punctuations\n",
    "\n",
    "tweet_words = list(sent_to_words(ctext))\n",
    "\n",
    "print(tweet_words[:1])"
   ]
  },
  {
   "cell_type": "code",
   "execution_count": 20,
   "id": "8bef03c9-848f-4004-824e-b2340c6086f1",
   "metadata": {},
   "outputs": [
    {
     "name": "stdout",
     "output_type": "stream",
     "text": [
      "['we', 'are', 'in', 'climate', 'wildfires', 'ravage', 'colorado', 'sen_manchin', 'your', 'exxon', 'highway', 'bill', 'isnt', 'going', 'save', 'our', 'homes', 'or', 'our', 'lives', 'your', 'greed', 'amp', 'corruption', 'is', 'not', 'only', 'torching', 'our', 'future', 'its', 'burning', 'our', 'communities', 'and', 'destroying', 'lives']\n"
     ]
    }
   ],
   "source": [
    "# Build the bigram and trigram models\n",
    "bigram = gensim.models.Phrases(tweet_words, min_count=5, threshold=100) # higher threshold fewer phrases.\n",
    "trigram = gensim.models.Phrases(bigram[tweet_words], threshold=100)  \n",
    "\n",
    "# Faster way to get a sentence clubbed as a trigram/bigram\n",
    "bigram_mod = gensim.models.phrases.Phraser(bigram)\n",
    "trigram_mod = gensim.models.phrases.Phraser(trigram)\n",
    "\n",
    "# See trigram example\n",
    "print(trigram_mod[bigram_mod[tweet_words[0]]])"
   ]
  },
  {
   "cell_type": "markdown",
   "id": "c24a6586-a208-47dc-b7df-e84b8c5a621a",
   "metadata": {
    "tags": []
   },
   "source": [
    "### Remove Stopwords, Make Bigrams and Lemmatize"
   ]
  },
  {
   "cell_type": "code",
   "execution_count": 21,
   "id": "b527df8e-7e82-45eb-995f-64d60d7d5dcd",
   "metadata": {},
   "outputs": [],
   "source": [
    "stop_words = stopwords.words('english')\n",
    "stop_words.extend(['from', 'subject', 're', 'edu', 'use', 'm'])"
   ]
  },
  {
   "cell_type": "code",
   "execution_count": 22,
   "id": "3a9ae696-61af-40ea-8380-ea5b22393074",
   "metadata": {},
   "outputs": [],
   "source": [
    "# Define functions for stopwords, bigrams, trigrams and lemmatization\n",
    "def remove_stopwords(texts):\n",
    "    return [[word for word in simple_preprocess(str(doc)) if word not in stop_words] for doc in texts]\n",
    "\n",
    "def make_bigrams(texts):\n",
    "    return [bigram_mod[doc] for doc in texts]\n",
    "\n",
    "def make_trigrams(texts):\n",
    "    return [trigram_mod[bigram_mod[doc]] for doc in texts]"
   ]
  },
  {
   "cell_type": "code",
   "execution_count": 23,
   "id": "91edbe4c-1e69-4d5c-b09a-318a5c3047d2",
   "metadata": {},
   "outputs": [],
   "source": [
    "def lemmatization(texts, allowed_postags=['NOUN', 'ADJ', 'VERB', 'ADV']):\n",
    "    \"\"\"https://spacy.io/api/annotation\"\"\"\n",
    "    texts_out = []\n",
    "    for sent in texts:\n",
    "        doc = nlp(\" \".join(sent)) \n",
    "        texts_out.append([token.lemma_ for token in doc if token.pos_ in allowed_postags])\n",
    "    return texts_out"
   ]
  },
  {
   "cell_type": "code",
   "execution_count": 24,
   "id": "246f1398-6c05-4437-9052-fdc9f25af0b6",
   "metadata": {},
   "outputs": [],
   "source": [
    "# Remove Stop Words\n",
    "tweet_words_nostops = remove_stopwords(tweet_words)"
   ]
  },
  {
   "cell_type": "code",
   "execution_count": 25,
   "id": "29c6dc85-e89e-4ff4-a4d1-83fede7b1a5e",
   "metadata": {},
   "outputs": [],
   "source": [
    "# Form Bigrams\n",
    "tweet_words_bigrams = make_bigrams(tweet_words_nostops)"
   ]
  },
  {
   "cell_type": "code",
   "execution_count": 26,
   "id": "ccc2cc77-8a72-423b-ae6c-6546c8ade7a8",
   "metadata": {},
   "outputs": [
    {
     "name": "stdout",
     "output_type": "stream",
     "text": [
      "[['climate', 'wildfire', 'ravage', 'highway', 'bill', 'go', 'save', 'home', 'live', 'greed', 'amp', 'corruption', 'torch', 'future', 'burn', 'community', 'destroy', 'life']]\n"
     ]
    }
   ],
   "source": [
    "# Initialize spacy 'en_core_web_sm' model, keeping only tagger component (for efficiency)\n",
    "# python3 -m spacy download en_core_web_sm\n",
    "nlp = spacy.load(\"en_core_web_sm\", disable=['parser', 'ner'])# not \"en\" any more\n",
    "\n",
    "# Do lemmatization keeping only noun, adj, vb, adv\n",
    "tweet_lemmatized = lemmatization(tweet_words_bigrams, allowed_postags=['NOUN', 'ADJ', 'VERB', 'ADV'])\n",
    "\n",
    "print(tweet_lemmatized[:1])"
   ]
  },
  {
   "cell_type": "markdown",
   "id": "805b9a70-7bf6-4b5b-8391-76185dd7cea7",
   "metadata": {
    "tags": []
   },
   "source": [
    "### Creat the dictionary and the corpus"
   ]
  },
  {
   "cell_type": "code",
   "execution_count": 27,
   "id": "045af5c1-03ce-4c46-a4ce-5d2510470d2b",
   "metadata": {},
   "outputs": [
    {
     "name": "stdout",
     "output_type": "stream",
     "text": [
      "[[(0, 1), (1, 1), (2, 1), (3, 1), (4, 1), (5, 1), (6, 1), (7, 1), (8, 1), (9, 1), (10, 1), (11, 1), (12, 1), (13, 1), (14, 1), (15, 1), (16, 1), (17, 1)]]\n"
     ]
    }
   ],
   "source": [
    "# Create Dictionary\n",
    "id2word = corpora.Dictionary(tweet_lemmatized)\n",
    "\n",
    "# Create Corpus\n",
    "texts = tweet_lemmatized\n",
    "\n",
    "# Term Document Frequency\n",
    "corpus = [id2word.doc2bow(text) for text in texts] \n",
    "\n",
    "#Gensim creates a unique id for each word in the document. \n",
    "#The produced corpus shown below is a mapping of (word_id, word_frequency(times of occurance)).\n",
    "\n",
    "# View\n",
    "print(corpus[:1])"
   ]
  },
  {
   "cell_type": "code",
   "execution_count": 28,
   "id": "494c70fb-e5f5-497a-89f3-9892a245c9d2",
   "metadata": {},
   "outputs": [
    {
     "data": {
      "text/plain": [
       "'inspire'"
      ]
     },
     "execution_count": 28,
     "metadata": {},
     "output_type": "execute_result"
    }
   ],
   "source": [
    "id2word[40]"
   ]
  },
  {
   "cell_type": "code",
   "execution_count": 29,
   "id": "7c2ed933-af4b-42eb-a1f3-d6e64196b7aa",
   "metadata": {},
   "outputs": [
    {
     "data": {
      "text/plain": [
       "'community'"
      ]
     },
     "execution_count": 29,
     "metadata": {},
     "output_type": "execute_result"
    }
   ],
   "source": [
    "#If you want to see what word a given id corresponds to, pass the id as a key to the dictionary.\n",
    "id2word[4]\n",
    "\n",
    "#input of LDA"
   ]
  },
  {
   "cell_type": "code",
   "execution_count": 30,
   "id": "5520aec4-4caa-4db2-bcad-f2eea66c6b10",
   "metadata": {},
   "outputs": [
    {
     "data": {
      "text/plain": [
       "[[('amp', 1),\n",
       "  ('bill', 1),\n",
       "  ('burn', 1),\n",
       "  ('climate', 1),\n",
       "  ('community', 1),\n",
       "  ('corruption', 1),\n",
       "  ('destroy', 1),\n",
       "  ('future', 1),\n",
       "  ('go', 1),\n",
       "  ('greed', 1),\n",
       "  ('highway', 1),\n",
       "  ('home', 1),\n",
       "  ('life', 1),\n",
       "  ('live', 1),\n",
       "  ('ravage', 1),\n",
       "  ('save', 1),\n",
       "  ('torch', 1),\n",
       "  ('wildfire', 1)]]"
      ]
     },
     "execution_count": 30,
     "metadata": {},
     "output_type": "execute_result"
    }
   ],
   "source": [
    "# Human readable format of corpus (term-frequency)\n",
    "[[(id2word[id], freq) for id, freq in cp] for cp in corpus[:1]]"
   ]
  },
  {
   "cell_type": "markdown",
   "id": "82855c8f-5efb-4c9d-872f-6a1ac7954577",
   "metadata": {
    "tags": []
   },
   "source": [
    "### Building the Topic Model"
   ]
  },
  {
   "cell_type": "code",
   "execution_count": 44,
   "id": "fd2479a5-4314-45dd-98d5-a06ef929f664",
   "metadata": {},
   "outputs": [],
   "source": [
    "# Build LDA model\n",
    "lda_model = gensim.models.ldamodel.LdaModel(corpus=corpus,\n",
    "                                           id2word=id2word,\n",
    "                                           num_topics=4, \n",
    "                                           random_state=100,\n",
    "                                           update_every=1,\n",
    "                                           chunksize=200,\n",
    "                                           passes=10,\n",
    "                                           alpha='auto',\n",
    "                                           per_word_topics=True)"
   ]
  },
  {
   "cell_type": "code",
   "execution_count": 45,
   "id": "98c1416a-9b9f-49b1-95b7-4105946d733f",
   "metadata": {},
   "outputs": [
    {
     "name": "stdout",
     "output_type": "stream",
     "text": [
      "[(0,\n",
      "  '0.062*\"oil\" + 0.047*\"climate\" + 0.041*\"big\" + 0.036*\"company\" + 0.016*\"amp\" '\n",
      "  '+ 0.015*\"giant\" + 0.015*\"industry\" + 0.015*\"use\" + 0.013*\"shell\" + '\n",
      "  '0.013*\"hold\"'),\n",
      " (1,\n",
      "  '0.054*\"crisis\" + 0.042*\"fuel\" + 0.040*\"downplay\" + 0.035*\"fossil\" + '\n",
      "  '0.034*\"year\" + 0.033*\"future\" + 0.029*\"business\" + 0.028*\"study\" + '\n",
      "  '0.025*\"pressure\" + 0.019*\"reveal\"'),\n",
      " (2,\n",
      "  '0.060*\"climate\" + 0.059*\"activist\" + 0.050*\"exxon\" + 0.041*\"board\" + '\n",
      "  '0.035*\"emission\" + 0.027*\"shareholder\" + 0.016*\"plan\" + 0.014*\"investor\" + '\n",
      "  '0.013*\"push\" + 0.012*\"carbon\"'),\n",
      " (3,\n",
      "  '0.098*\"climate\" + 0.084*\"change\" + 0.029*\"new\" + 0.021*\"say\" + '\n",
      "  '0.020*\"investor\" + 0.017*\"know\" + 0.015*\"back\" + 0.014*\"win\" + '\n",
      "  '0.013*\"energy\" + 0.012*\"seat\"')]\n"
     ]
    }
   ],
   "source": [
    "# Print the Keyword in the topics\n",
    "pprint(lda_model.print_topics())\n",
    "doc_lda = lda_model[corpus]"
   ]
  },
  {
   "cell_type": "markdown",
   "id": "d2a08cd6-7d24-4d44-b4b9-398195a86847",
   "metadata": {
    "tags": []
   },
   "source": [
    "### Compute model perplexity and coherence score"
   ]
  },
  {
   "cell_type": "code",
   "execution_count": 46,
   "id": "0d82ce0a-a3f3-410d-84e0-140df9173b4a",
   "metadata": {},
   "outputs": [
    {
     "name": "stdout",
     "output_type": "stream",
     "text": [
      "\n",
      "Perplexity:  -7.522450095741473\n",
      "\n",
      "Coherence Score:  0.30857421781907457\n"
     ]
    }
   ],
   "source": [
    "# Compute Perplexity\n",
    "print('\\nPerplexity: ', lda_model.log_perplexity(corpus))  # a measure of how good the model is. lower the better.\n",
    "\n",
    "# Compute Coherence Score\n",
    "coherence_model_lda = CoherenceModel(model=lda_model, texts=tweet_lemmatized, dictionary=id2word, coherence='c_v')\n",
    "coherence_lda = coherence_model_lda.get_coherence()\n",
    "print('\\nCoherence Score: ', coherence_lda)"
   ]
  },
  {
   "cell_type": "code",
   "execution_count": 47,
   "id": "77942d7d-c8f8-4bd2-9df3-2fd7cdbb7ece",
   "metadata": {},
   "outputs": [
    {
     "name": "stderr",
     "output_type": "stream",
     "text": [
      "/opt/anaconda3/lib/python3.9/site-packages/pyLDAvis/_prepare.py:246: FutureWarning: In a future version of pandas all arguments of DataFrame.drop except for the argument 'labels' will be keyword-only\n",
      "  default_term_info = default_term_info.sort_values(\n"
     ]
    },
    {
     "data": {
      "text/html": [
       "\n",
       "<link rel=\"stylesheet\" type=\"text/css\" href=\"https://cdn.jsdelivr.net/gh/bmabey/pyLDAvis@3.3.1/pyLDAvis/js/ldavis.v1.0.0.css\">\n",
       "\n",
       "\n",
       "<div id=\"ldavis_el9481403106000260324524843800\"></div>\n",
       "<script type=\"text/javascript\">\n",
       "\n",
       "var ldavis_el9481403106000260324524843800_data = {\"mdsDat\": {\"x\": [0.11222134116284513, 0.12353154838972365, 0.1207145845776494, -0.35646747413021823], \"y\": [0.10465965089357454, -0.3157972965776077, 0.21486471256490752, -0.0037270668808744977], \"topics\": [1, 2, 3, 4], \"cluster\": [1, 1, 1, 1], \"Freq\": [34.454853796698146, 31.248310110487775, 22.95255299844635, 11.344283094367725]}, \"tinfo\": {\"Term\": [\"change\", \"oil\", \"activist\", \"exxon\", \"big\", \"board\", \"crisis\", \"company\", \"emission\", \"new\", \"fuel\", \"downplay\", \"shareholder\", \"fossil\", \"year\", \"future\", \"say\", \"business\", \"climate\", \"study\", \"pressure\", \"amp\", \"investor\", \"plan\", \"giant\", \"industry\", \"know\", \"win\", \"shell\", \"reveal\", \"new\", \"change\", \"say\", \"win\", \"seat\", \"vote\", \"least\", \"strategy\", \"director\", \"get\", \"case\", \"historic\", \"risk\", \"need\", \"investment\", \"court\", \"much\", \"news\", \"clean\", \"put\", \"look\", \"see\", \"well\", \"lawsuit\", \"s\", \"late\", \"global\", \"right\", \"evil\", \"think\", \"rise\", \"know\", \"back\", \"energy\", \"fight\", \"climate\", \"investor\", \"could_slow\", \"oil\", \"big\", \"company\", \"amp\", \"giant\", \"industry\", \"shell\", \"hold\", \"make\", \"chevron\", \"gas\", \"face\", \"major\", \"take\", \"action\", \"address\", \"project\", \"find\", \"large\", \"technology\", \"sue\", \"public\", \"good\", \"lose\", \"world\", \"fund\", \"effort\", \"role\", \"today\", \"product\", \"report\", \"use\", \"climate\", \"activist\", \"exxon\", \"board\", \"emission\", \"shareholder\", \"plan\", \"push\", \"carbon\", \"engine\", \"time\", \"member\", \"day\", \"cut\", \"keep\", \"support\", \"come\", \"hedge_fund\", \"force\", \"focus\", \"move\", \"transition\", \"reduce\", \"ceo\", \"goal\", \"huge\", \"ambitious\", \"target\", \"week\", \"green\", \"annual\", \"go\", \"urge\", \"dark\", \"group\", \"climate\", \"investor\", \"crisis\", \"fuel\", \"downplay\", \"fossil\", \"future\", \"year\", \"study\", \"pressure\", \"reveal\", \"damage\", \"decade\", \"leaked_document\", \"invest\", \"lucrative\", \"try\", \"co\", \"almost\", \"great\", \"corporation\", \"protect\", \"former\", \"add\", \"high\", \"start\", \"petition\", \"let\", \"cause\", \"onto_consumer\", \"subsidy\", \"economy\", \"business\"], \"Freq\": [6336.0, 4261.0, 2976.0, 2497.0, 2820.0, 2053.0, 1347.0, 2427.0, 1777.0, 2220.0, 1043.0, 1001.0, 1355.0, 880.0, 838.0, 814.0, 1600.0, 917.0, 13623.0, 682.0, 625.0, 1113.0, 2216.0, 811.0, 1020.0, 1015.0, 1299.0, 1066.0, 920.0, 479.0, 2219.8382856998733, 6333.523886038558, 1599.6383719735854, 1065.6562893184666, 939.5920767769825, 812.7596937573262, 775.9695919830839, 673.7219587272486, 675.1831579049087, 577.2732099945182, 547.5179768698165, 508.86254352518637, 507.1914450413043, 460.5548613193004, 441.95176864194156, 431.5307534954997, 467.2825038345378, 408.1069512218443, 411.86617805181174, 371.72911285369463, 347.2138271781908, 321.05842498352354, 333.0017971452206, 319.01862710050057, 303.57243540960746, 298.92454489479053, 298.3255485610721, 300.9752775888907, 287.641326904407, 265.5691478890758, 275.3420651943661, 1269.3051593957973, 1112.572797194552, 1001.6545597039382, 863.9361516872885, 7362.637088161218, 1533.2757044955845, 327.71842587895657, 4260.255655692067, 2820.1052212096715, 2426.614100798161, 1112.9967365519685, 1019.6492875889861, 1014.8578997583232, 919.6480586248871, 882.7211879789412, 714.8782429124635, 687.9577887465183, 687.1347914418114, 703.4553251236819, 649.3582234395615, 580.8779946747021, 545.0671861855177, 535.6161943502896, 527.56371307479, 516.7777504454792, 468.50872966683306, 813.6813388469155, 610.0286660076277, 445.3519338454897, 402.11100956922553, 427.29929788780464, 381.13907261292314, 377.93360427558054, 355.84105979659, 369.3592323486836, 344.2956078424427, 332.434968136346, 482.88623066527117, 1003.7399982732635, 3197.907137016482, 2976.027569057252, 2496.7591207478104, 2052.9737623416554, 1777.0054846907376, 1354.9038217173386, 810.4705389032903, 669.0223562817391, 587.2159630720963, 532.8948907651733, 527.6081206823591, 432.92623366336255, 445.94045732535744, 443.22049303173503, 500.13433336213757, 396.09268732512504, 363.2327403255404, 334.0117786881607, 307.94438801273947, 327.5135855383664, 295.44464618056656, 285.23056155369017, 271.95220951355145, 261.78570675131374, 282.0961820994515, 255.46476655359822, 258.38017137170056, 255.21784515986988, 236.62535996264984, 235.24513567813418, 230.8053134469547, 500.7137674723446, 245.6353759324387, 239.08208307678217, 337.68583174452027, 3007.613335358773, 682.4036467130416, 1346.9132546398646, 1042.7512128511698, 1001.007284650422, 879.489433769353, 813.4408460727645, 837.329810121153, 681.9402578057611, 624.9231452836323, 479.19881214597774, 401.24848437326744, 324.5343959042561, 321.083675961573, 283.36933030693905, 250.82350625747773, 253.71800390507718, 269.8452655873211, 243.5963782667127, 231.32175392762818, 227.6448616895292, 185.84238255883537, 216.6542497818488, 201.48122747700918, 218.79732459613732, 178.1948625836674, 224.36480951466254, 174.12025328772123, 167.60031759922992, 160.8449319354495, 211.68999868552578, 177.1378186664743, 721.6858383824809], \"Total\": [6336.0, 4261.0, 2976.0, 2497.0, 2820.0, 2053.0, 1347.0, 2427.0, 1777.0, 2220.0, 1043.0, 1001.0, 1355.0, 880.0, 838.0, 814.0, 1600.0, 917.0, 13623.0, 682.0, 625.0, 1113.0, 2216.0, 811.0, 1020.0, 1015.0, 1299.0, 1066.0, 920.0, 479.0, 2220.61364562742, 6336.5600515278375, 1600.4533914288643, 1066.4037815475745, 940.3664392865564, 813.5069693710948, 776.7196191371114, 674.4669183167887, 675.9300518757518, 578.0234277166137, 548.2822935409265, 509.6001915611764, 507.989918473385, 461.3212724288164, 442.71411268017596, 432.28532718075, 468.0998976345562, 408.8520378133148, 412.621149424825, 372.4932053444993, 348.0012664936768, 321.8068735453034, 333.7823568523567, 319.8260157357072, 304.3413483138267, 299.70972707725286, 299.11206500852353, 301.7727192833817, 288.41311068288576, 266.329844163395, 276.13382617263244, 1299.173491042927, 1146.7394402718462, 1030.4211671422654, 894.5364026695544, 13623.267988680935, 2216.1926481229602, 667.5416105975797, 4261.0030801966295, 2820.8638019418827, 2427.36970310158, 1113.761353144572, 1020.4044385702124, 1015.6367594328998, 920.3912633916223, 883.5187611625485, 715.6364183139056, 688.7055126111733, 687.8872772821094, 704.2298779268863, 650.110259225212, 581.6387734203269, 545.805476124052, 536.3927495539149, 528.4171207599975, 517.6215642125198, 469.28328533213767, 815.0269537624514, 611.0456780090395, 446.1269099119564, 402.86028402758285, 428.1083583364911, 381.8982143221008, 378.71346263719045, 356.59685758944204, 370.15632003668503, 345.0571879590254, 333.2262434772425, 486.48508696626124, 1047.8887805422294, 13623.267988680935, 2976.760084753918, 2497.5123322856607, 2053.702120597092, 1777.773618410123, 1355.6363878698166, 811.2545166516468, 669.7419639406088, 587.9672128861312, 533.6174108885522, 528.3627657393237, 433.64308916267, 446.6817158773349, 443.9660793158362, 500.99022311854367, 396.819202870526, 363.99673915450035, 334.7374368025066, 308.6981346841313, 328.3374396479625, 296.2060825305703, 285.988865297201, 272.6787445342793, 262.50999312487096, 282.8974884209512, 256.2294723883685, 259.1730757612327, 256.00667673631705, 237.35814807904552, 236.00913590182446, 231.5569377421692, 502.3585334106608, 246.49839937685908, 240.05448527756275, 351.05904897684144, 13623.267988680935, 2216.1926481229602, 1347.6541921400303, 1043.4847875669752, 1001.7679712409162, 880.2120024686201, 814.2313789025616, 838.1576593457587, 682.6908737636766, 625.7355122867605, 479.93778852412424, 401.98551676706825, 325.27013653712874, 321.8122367595683, 284.1667470708546, 251.54659091774073, 254.47567985079363, 270.6785074653885, 244.38517489869895, 232.08918732748648, 228.41071007975606, 186.56960848083116, 217.52666419526568, 202.29845960311943, 219.70184172056403, 178.96969479179808, 225.3498998058542, 174.91159213595878, 168.37035240771718, 161.58665358230772, 212.6882567247958, 177.98196393723185, 917.9785786175777], \"Category\": [\"Default\", \"Default\", \"Default\", \"Default\", \"Default\", \"Default\", \"Default\", \"Default\", \"Default\", \"Default\", \"Default\", \"Default\", \"Default\", \"Default\", \"Default\", \"Default\", \"Default\", \"Default\", \"Default\", \"Default\", \"Default\", \"Default\", \"Default\", \"Default\", \"Default\", \"Default\", \"Default\", \"Default\", \"Default\", \"Default\", \"Topic1\", \"Topic1\", \"Topic1\", \"Topic1\", \"Topic1\", \"Topic1\", \"Topic1\", \"Topic1\", \"Topic1\", \"Topic1\", \"Topic1\", \"Topic1\", \"Topic1\", \"Topic1\", \"Topic1\", \"Topic1\", \"Topic1\", \"Topic1\", \"Topic1\", \"Topic1\", \"Topic1\", \"Topic1\", \"Topic1\", \"Topic1\", \"Topic1\", \"Topic1\", \"Topic1\", \"Topic1\", \"Topic1\", \"Topic1\", \"Topic1\", \"Topic1\", \"Topic1\", \"Topic1\", \"Topic1\", \"Topic1\", \"Topic1\", \"Topic1\", \"Topic2\", \"Topic2\", \"Topic2\", \"Topic2\", \"Topic2\", \"Topic2\", \"Topic2\", \"Topic2\", \"Topic2\", \"Topic2\", \"Topic2\", \"Topic2\", \"Topic2\", \"Topic2\", \"Topic2\", \"Topic2\", \"Topic2\", \"Topic2\", \"Topic2\", \"Topic2\", \"Topic2\", \"Topic2\", \"Topic2\", \"Topic2\", \"Topic2\", \"Topic2\", \"Topic2\", \"Topic2\", \"Topic2\", \"Topic2\", \"Topic2\", \"Topic2\", \"Topic2\", \"Topic3\", \"Topic3\", \"Topic3\", \"Topic3\", \"Topic3\", \"Topic3\", \"Topic3\", \"Topic3\", \"Topic3\", \"Topic3\", \"Topic3\", \"Topic3\", \"Topic3\", \"Topic3\", \"Topic3\", \"Topic3\", \"Topic3\", \"Topic3\", \"Topic3\", \"Topic3\", \"Topic3\", \"Topic3\", \"Topic3\", \"Topic3\", \"Topic3\", \"Topic3\", \"Topic3\", \"Topic3\", \"Topic3\", \"Topic3\", \"Topic3\", \"Topic3\", \"Topic3\", \"Topic3\", \"Topic3\", \"Topic3\", \"Topic4\", \"Topic4\", \"Topic4\", \"Topic4\", \"Topic4\", \"Topic4\", \"Topic4\", \"Topic4\", \"Topic4\", \"Topic4\", \"Topic4\", \"Topic4\", \"Topic4\", \"Topic4\", \"Topic4\", \"Topic4\", \"Topic4\", \"Topic4\", \"Topic4\", \"Topic4\", \"Topic4\", \"Topic4\", \"Topic4\", \"Topic4\", \"Topic4\", \"Topic4\", \"Topic4\", \"Topic4\", \"Topic4\", \"Topic4\", \"Topic4\"], \"logprob\": [30.0, 29.0, 28.0, 27.0, 26.0, 25.0, 24.0, 23.0, 22.0, 21.0, 20.0, 19.0, 18.0, 17.0, 16.0, 15.0, 14.0, 13.0, 12.0, 11.0, 10.0, 9.0, 8.0, 7.0, 6.0, 5.0, 4.0, 3.0, 2.0, 1.0, -3.5236, -2.4751, -3.8512, -4.2574, -4.3833, -4.5283, -4.5746, -4.7159, -4.7138, -4.8704, -4.9234, -4.9966, -4.9999, -5.0963, -5.1376, -5.1614, -5.0818, -5.2172, -5.2081, -5.3106, -5.3788, -5.4571, -5.4206, -5.4635, -5.5131, -5.5286, -5.5306, -5.5217, -5.567, -5.6469, -5.6107, -4.0825, -4.2143, -4.3193, -4.4673, -2.3246, -3.8936, -5.4366, -2.774, -3.1865, -3.3368, -4.1163, -4.2039, -4.2086, -4.3071, -4.3481, -4.559, -4.5973, -4.5985, -4.5751, -4.6551, -4.7665, -4.8302, -4.8477, -4.8628, -4.8835, -4.9815, -4.4295, -4.7176, -5.0322, -5.1343, -5.0736, -5.1879, -5.1964, -5.2566, -5.2193, -5.2896, -5.3246, -4.9513, -4.2196, -3.0608, -2.8242, -2.9998, -3.1955, -3.3398, -3.611, -4.1249, -4.3167, -4.4471, -4.5442, -4.5542, -4.752, -4.7223, -4.7285, -4.6077, -4.8409, -4.9275, -5.0114, -5.0926, -5.031, -5.1341, -5.1692, -5.2169, -5.255, -5.1803, -5.2795, -5.2681, -5.2804, -5.3561, -5.3619, -5.381, -4.6065, -5.3187, -5.3457, -5.0004, -2.8136, -4.2969, -2.9122, -3.1682, -3.2091, -3.3385, -3.4165, -3.3876, -3.5929, -3.6802, -3.9457, -4.1232, -4.3354, -4.3461, -4.4711, -4.5931, -4.5816, -4.52, -4.6223, -4.674, -4.69, -4.8929, -4.7395, -4.8121, -4.7297, -4.9349, -4.7045, -4.9581, -4.9962, -5.0374, -4.7627, -4.9409, -3.5362], \"loglift\": [30.0, 29.0, 28.0, 27.0, 26.0, 25.0, 24.0, 23.0, 22.0, 21.0, 20.0, 19.0, 18.0, 17.0, 16.0, 15.0, 14.0, 13.0, 12.0, 11.0, 10.0, 9.0, 8.0, 7.0, 6.0, 5.0, 4.0, 3.0, 2.0, 1.0, 1.0652, 1.065, 1.065, 1.0648, 1.0647, 1.0646, 1.0646, 1.0644, 1.0644, 1.0642, 1.0641, 1.0641, 1.0639, 1.0639, 1.0638, 1.0638, 1.0638, 1.0637, 1.0637, 1.0635, 1.0633, 1.0632, 1.0632, 1.063, 1.063, 1.0629, 1.0629, 1.0629, 1.0628, 1.0627, 1.0626, 1.0423, 1.0353, 1.0372, 1.0307, 0.4502, 0.6971, 0.3541, 1.163, 1.1629, 1.1629, 1.1625, 1.1625, 1.1624, 1.1624, 1.1623, 1.1621, 1.1621, 1.1621, 1.1621, 1.162, 1.1619, 1.1619, 1.1618, 1.1616, 1.1616, 1.1616, 1.1616, 1.1615, 1.1615, 1.1613, 1.1613, 1.1612, 1.1611, 1.1611, 1.161, 1.161, 1.1608, 1.1558, 1.1202, -0.2861, 1.4715, 1.4714, 1.4714, 1.4713, 1.4712, 1.4708, 1.4707, 1.4705, 1.4704, 1.4703, 1.4701, 1.4701, 1.4701, 1.47, 1.4699, 1.4696, 1.4696, 1.4693, 1.4692, 1.4692, 1.4691, 1.4691, 1.469, 1.4689, 1.4688, 1.4687, 1.4687, 1.4686, 1.4685, 1.4685, 1.4685, 1.4682, 1.4677, 1.4329, -0.0389, 0.2938, 2.1759, 2.1758, 2.1757, 2.1756, 2.1755, 2.1755, 2.1754, 2.1752, 2.1749, 2.1746, 2.1742, 2.1742, 2.1736, 2.1736, 2.1735, 2.1734, 2.1732, 2.1731, 2.1731, 2.1726, 2.1724, 2.1724, 2.1723, 2.1721, 2.1721, 2.1719, 2.1719, 2.1719, 2.1718, 2.1717, 1.9359]}, \"token.table\": {\"Topic\": [2, 3, 4, 2, 4, 3, 2, 3, 1, 4, 2, 3, 1, 4, 3, 1, 4, 3, 1, 2, 2, 1, 1, 2, 3, 4, 4, 3, 2, 4, 1, 2, 3, 4, 1, 4, 3, 4, 3, 3, 4, 1, 4, 4, 2, 3, 1, 2, 3, 1, 3, 2, 1, 2, 2, 3, 3, 4, 4, 4, 2, 4, 2, 1, 2, 1, 1, 3, 3, 2, 4, 3, 2, 3, 3, 4, 1, 2, 3, 2, 4, 1, 1, 3, 3, 1, 4, 2, 1, 1, 4, 1, 4, 1, 2, 4, 2, 2, 3, 3, 1, 1, 1, 1, 2, 4, 4, 3, 4, 2, 2, 4, 2, 3, 1, 3, 1, 2, 4, 1, 1, 1, 2, 1, 1, 1, 1, 3, 2, 4, 1, 4, 4, 2, 3, 2, 3, 1, 2, 1, 3, 2, 3, 4, 3, 1, 2, 4, 1, 3, 1, 1, 2, 4], \"Freq\": [0.9985242432344725, 0.9997446603917424, 0.9935814656934767, 0.9992677948122127, 0.9984239023547209, 0.9954737745894815, 0.9993164126745623, 0.9975948129751598, 0.9705779368120033, 0.02964928108859669, 0.9996937810534178, 0.9996581195539265, 0.21351260755470416, 0.7865107278290633, 0.9983549883991262, 0.9994851310278444, 0.9978003704190133, 0.9980572430070181, 0.9995959871748994, 0.00047344299992496024, 0.9989755961027545, 0.998494625334424, 0.5404723746253574, 0.2347454371929774, 0.2207987101552458, 0.004037210458290731, 0.9974933086792076, 0.9972616810886394, 0.9998476939457934, 0.9982018790641969, 0.4913551377065111, 0.4808689000115551, 0.02546657725917893, 0.0029960679128445797, 0.9993399563602798, 0.9995145697287585, 0.9978239794415713, 0.9975483774266442, 0.9956073085810353, 0.9984738218442724, 0.9991695009569441, 0.9986240412404052, 0.9992333841139233, 0.9944827896293011, 0.9983262399072254, 0.9995648386261831, 0.9724179121619875, 0.0271733548308739, 0.9988429708702269, 0.9985676424975701, 0.9997948629606198, 0.9982535845674331, 0.965863432076744, 0.033536924724886945, 0.9987991918121389, 0.998972277884836, 0.9977384551259254, 0.997578852242257, 0.9986230561896214, 0.999535414820847, 0.9981160885271355, 0.9984876793814784, 0.9987101414557119, 0.99822943557728, 0.9996036487544301, 0.9962821124968936, 0.0019906101588654302, 0.9972956895915804, 0.9968275136482804, 0.9978645598444648, 0.9953070311459637, 0.9957241659397277, 0.037030807318279894, 0.9628009902752772, 0.9977969694410319, 0.9968054809414993, 0.9988222305032153, 0.9994128464664792, 0.9952016745891551, 0.9993730441252882, 0.9958941463669438, 0.9983869665327524, 0.6917268682839458, 0.3077349798888787, 0.9980234681779222, 0.9767748562828934, 0.02232188402852948, 0.9993963447218513, 0.9976319518082577, 0.9974172966079476, 0.9974760538388876, 0.999073514921754, 0.9947882691774357, 0.9971228079030713, 0.9974110331767455, 0.9978270788097483, 0.9982921985779225, 0.9991106960215845, 0.9985170081600707, 0.9959282317220955, 0.9976502929393612, 0.9993035820196954, 0.9997236594359274, 0.9979160240514594, 0.999764590595747, 0.9963694180843414, 0.9940097607897, 0.9984536090389676, 0.9988245636178255, 0.9963200873243159, 0.9992106221702326, 0.9969469385422991, 0.9974740149340492, 0.9988921644744444, 0.9986759346548532, 0.9975108271257499, 0.006166684406932409, 0.9928361895161179, 0.9980460206582022, 0.9974393998065276, 0.9958939251002027, 0.9980513029149084, 0.9968761305046192, 0.9988784030966613, 0.9997167106325667, 0.9996103228792018, 0.9974926777156305, 0.9995305615314615, 0.9995748944963032, 0.9945817933425759, 0.9993077224336607, 0.9989880137698812, 0.9967640116318864, 0.9982887072985335, 0.9979355765431712, 0.9989017695354617, 0.9960677715552164, 0.001226953287107436, 0.9987399757054529, 0.9987615200826211, 0.9993134153978166, 0.9969361949383564, 0.9965422944135487, 0.998130745338523, 0.997978082705125, 0.04103488919668524, 0.9581169477551624, 0.0009542997487601219, 0.9993768100456635, 0.9984911068697492, 0.9976560868593101, 0.999621361481869, 0.9976480269128905, 0.9986188047882754], \"Term\": [\"action\", \"activist\", \"add\", \"address\", \"almost\", \"ambitious\", \"amp\", \"annual\", \"back\", \"back\", \"big\", \"board\", \"business\", \"business\", \"carbon\", \"case\", \"cause\", \"ceo\", \"change\", \"change\", \"chevron\", \"clean\", \"climate\", \"climate\", \"climate\", \"climate\", \"co\", \"come\", \"company\", \"corporation\", \"could_slow\", \"could_slow\", \"could_slow\", \"could_slow\", \"court\", \"crisis\", \"cut\", \"damage\", \"dark\", \"day\", \"decade\", \"director\", \"downplay\", \"economy\", \"effort\", \"emission\", \"energy\", \"energy\", \"engine\", \"evil\", \"exxon\", \"face\", \"fight\", \"fight\", \"find\", \"focus\", \"force\", \"former\", \"fossil\", \"fuel\", \"fund\", \"future\", \"gas\", \"get\", \"giant\", \"global\", \"go\", \"go\", \"goal\", \"good\", \"great\", \"green\", \"group\", \"group\", \"hedge_fund\", \"high\", \"historic\", \"hold\", \"huge\", \"industry\", \"invest\", \"investment\", \"investor\", \"investor\", \"keep\", \"know\", \"know\", \"large\", \"late\", \"lawsuit\", \"leaked_document\", \"least\", \"let\", \"look\", \"lose\", \"lucrative\", \"major\", \"make\", \"member\", \"move\", \"much\", \"need\", \"new\", \"news\", \"oil\", \"onto_consumer\", \"petition\", \"plan\", \"pressure\", \"product\", \"project\", \"protect\", \"public\", \"push\", \"put\", \"reduce\", \"report\", \"report\", \"reveal\", \"right\", \"rise\", \"risk\", \"role\", \"s\", \"say\", \"seat\", \"see\", \"shareholder\", \"shell\", \"start\", \"strategy\", \"study\", \"subsidy\", \"sue\", \"support\", \"take\", \"target\", \"technology\", \"technology\", \"think\", \"time\", \"today\", \"transition\", \"try\", \"urge\", \"use\", \"use\", \"use\", \"vote\", \"week\", \"well\", \"win\", \"world\", \"year\"]}, \"R\": 30, \"lambda.step\": 0.01, \"plot.opts\": {\"xlab\": \"PC1\", \"ylab\": \"PC2\"}, \"topic.order\": [4, 1, 3, 2]};\n",
       "\n",
       "function LDAvis_load_lib(url, callback){\n",
       "  var s = document.createElement('script');\n",
       "  s.src = url;\n",
       "  s.async = true;\n",
       "  s.onreadystatechange = s.onload = callback;\n",
       "  s.onerror = function(){console.warn(\"failed to load library \" + url);};\n",
       "  document.getElementsByTagName(\"head\")[0].appendChild(s);\n",
       "}\n",
       "\n",
       "if(typeof(LDAvis) !== \"undefined\"){\n",
       "   // already loaded: just create the visualization\n",
       "   !function(LDAvis){\n",
       "       new LDAvis(\"#\" + \"ldavis_el9481403106000260324524843800\", ldavis_el9481403106000260324524843800_data);\n",
       "   }(LDAvis);\n",
       "}else if(typeof define === \"function\" && define.amd){\n",
       "   // require.js is available: use it to load d3/LDAvis\n",
       "   require.config({paths: {d3: \"https://d3js.org/d3.v5\"}});\n",
       "   require([\"d3\"], function(d3){\n",
       "      window.d3 = d3;\n",
       "      LDAvis_load_lib(\"https://cdn.jsdelivr.net/gh/bmabey/pyLDAvis@3.3.1/pyLDAvis/js/ldavis.v3.0.0.js\", function(){\n",
       "        new LDAvis(\"#\" + \"ldavis_el9481403106000260324524843800\", ldavis_el9481403106000260324524843800_data);\n",
       "      });\n",
       "    });\n",
       "}else{\n",
       "    // require.js not available: dynamically load d3 & LDAvis\n",
       "    LDAvis_load_lib(\"https://d3js.org/d3.v5.js\", function(){\n",
       "         LDAvis_load_lib(\"https://cdn.jsdelivr.net/gh/bmabey/pyLDAvis@3.3.1/pyLDAvis/js/ldavis.v3.0.0.js\", function(){\n",
       "                 new LDAvis(\"#\" + \"ldavis_el9481403106000260324524843800\", ldavis_el9481403106000260324524843800_data);\n",
       "            })\n",
       "         });\n",
       "}\n",
       "</script>"
      ],
      "text/plain": [
       "PreparedData(topic_coordinates=              x         y  topics  cluster       Freq\n",
       "topic                                                \n",
       "3      0.112221  0.104660       1        1  34.454854\n",
       "0      0.123532 -0.315797       2        1  31.248310\n",
       "2      0.120715  0.214865       3        1  22.952553\n",
       "1     -0.356467 -0.003727       4        1  11.344283, topic_info=               Term         Freq        Total Category  logprob  loglift\n",
       "30           change  6336.000000  6336.000000  Default  30.0000  30.0000\n",
       "42              oil  4261.000000  4261.000000  Default  29.0000  29.0000\n",
       "174        activist  2976.000000  2976.000000  Default  28.0000  28.0000\n",
       "21            exxon  2497.000000  2497.000000  Default  27.0000  27.0000\n",
       "29              big  2820.000000  2820.000000  Default  26.0000  26.0000\n",
       "...             ...          ...          ...      ...      ...      ...\n",
       "333           cause   167.600318   168.370352   Topic4  -4.9962   2.1719\n",
       "9298  onto_consumer   160.844932   161.586654   Topic4  -5.0374   2.1719\n",
       "61          subsidy   211.689999   212.688257   Topic4  -4.7627   2.1718\n",
       "591         economy   177.137819   177.981964   Topic4  -4.9409   2.1717\n",
       "18         business   721.685838   917.978579   Topic4  -3.5362   1.9359\n",
       "\n",
       "[168 rows x 6 columns], token_table=      Topic      Freq      Term\n",
       "term                           \n",
       "64        2  0.998524    action\n",
       "174       3  0.999745  activist\n",
       "132       4  0.993581       add\n",
       "933       2  0.999268   address\n",
       "191       4  0.998424    almost\n",
       "...     ...       ...       ...\n",
       "828       3  0.998491      week\n",
       "219       1  0.997656      well\n",
       "386       1  0.999621       win\n",
       "208       2  0.997648     world\n",
       "63        4  0.998619      year\n",
       "\n",
       "[154 rows x 3 columns], R=30, lambda_step=0.01, plot_opts={'xlab': 'PC1', 'ylab': 'PC2'}, topic_order=[4, 1, 3, 2])"
      ]
     },
     "execution_count": 47,
     "metadata": {},
     "output_type": "execute_result"
    }
   ],
   "source": [
    "# Visualize the topics\n",
    "pyLDAvis.enable_notebook()\n",
    "vis = pyLDAvis.gensim_models.prepare(lda_model, corpus, id2word)\n",
    "vis"
   ]
  },
  {
   "cell_type": "markdown",
   "id": "12e69ee4-15d9-47c5-844d-117d707ab222",
   "metadata": {
    "tags": []
   },
   "source": [
    "# The Following code is still being working on"
   ]
  },
  {
   "cell_type": "markdown",
   "id": "376f4e9e-9158-4afc-933d-8571b63db883",
   "metadata": {
    "tags": []
   },
   "source": [
    "### Find the optimal number of topics"
   ]
  },
  {
   "cell_type": "code",
   "execution_count": 48,
   "id": "7ad00526-2503-4f3f-9f45-cbf49d3eb72e",
   "metadata": {},
   "outputs": [],
   "source": [
    "def compute_coherence_values(dictionary, corpus, texts, limit, start=2, step=3):\n",
    "    \"\"\"\n",
    "    Compute c_v coherence for various number of topics\n",
    "\n",
    "    Parameters:\n",
    "    ----------\n",
    "    dictionary : Gensim dictionary\n",
    "    corpus : Gensim corpus\n",
    "    texts : List of input texts\n",
    "    limit : Max num of topics\n",
    "\n",
    "    Returns:\n",
    "    -------\n",
    "    model_list : List of LDA topic models\n",
    "    coherence_values : Coherence values corresponding to the LDA model with respective number of topics\n",
    "    \"\"\"\n",
    "    coherence_values = []\n",
    "    model_list = []\n",
    "    for num_topics in range(start, limit, step):\n",
    "        model = gensim.models.ldamodel.LdaModel(corpus=corpus, num_topics=num_topics, id2word=id2word)\n",
    "        model_list.append(model)\n",
    "        coherencemodel = CoherenceModel(model=model, texts=texts, dictionary=dictionary, coherence='c_v')\n",
    "        coherence_values.append(coherencemodel.get_coherence())\n",
    "\n",
    "    return model_list, coherence_values"
   ]
  },
  {
   "cell_type": "code",
   "execution_count": 49,
   "id": "3900923d-71e3-48cc-9874-a5c45678b06e",
   "metadata": {},
   "outputs": [],
   "source": [
    "# May take a long time to run.\n",
    "model_list, coherence_values = compute_coherence_values(dictionary=id2word, corpus=corpus, texts=tweet_lemmatized, start=2, limit=20, step=2)"
   ]
  },
  {
   "cell_type": "code",
   "execution_count": 50,
   "id": "3415d926-fdd9-4d0e-8d5e-7620b147d78b",
   "metadata": {},
   "outputs": [
    {
     "data": {
      "image/png": "[encoded data removed]",
      "text/plain": [
       "<Figure size 432x288 with 1 Axes>"
      ]
     },
     "metadata": {
      "needs_background": "light"
     },
     "output_type": "display_data"
    }
   ],
   "source": [
    "# Show graph\n",
    "limit=20; start=2; step=2;\n",
    "x = range(start, limit, step)\n",
    "plt.plot(x, coherence_values)\n",
    "plt.xlabel(\"Num Topics\")\n",
    "plt.ylabel(\"Coherence score\")\n",
    "plt.legend((\"coherence_values\"), loc='best')\n",
    "plt.show()"
   ]
  },
  {
   "cell_type": "code",
   "execution_count": 51,
   "id": "fa752331-e3ad-4d55-8b56-b4b5b2be33b2",
   "metadata": {},
   "outputs": [
    {
     "name": "stdout",
     "output_type": "stream",
     "text": [
      "Num Topics = 2  has Coherence Value of 0.3481\n",
      "Num Topics = 4  has Coherence Value of 0.331\n",
      "Num Topics = 6  has Coherence Value of 0.3477\n",
      "Num Topics = 8  has Coherence Value of 0.3743\n",
      "Num Topics = 10  has Coherence Value of 0.3451\n",
      "Num Topics = 12  has Coherence Value of 0.3534\n",
      "Num Topics = 14  has Coherence Value of 0.3489\n",
      "Num Topics = 16  has Coherence Value of 0.345\n",
      "Num Topics = 18  has Coherence Value of 0.3523\n"
     ]
    }
   ],
   "source": [
    "# Print the coherence scores\n",
    "for m, cv in zip(x, coherence_values):\n",
    "    print(\"Num Topics =\", m, \" has Coherence Value of\", round(cv, 4))"
   ]
  },
  {
   "cell_type": "code",
   "execution_count": 52,
   "id": "6457081c-f856-4de7-854e-8b8bfca718ad",
   "metadata": {},
   "outputs": [
    {
     "name": "stdout",
     "output_type": "stream",
     "text": [
      "[(0,\n",
      "  '0.104*\"seat\" + 0.088*\"exxon\" + 0.067*\"climate\" + 0.042*\"strategy\" + '\n",
      "  '0.035*\"lose\" + 0.025*\"plan\" + 0.019*\"case\" + 0.018*\"investment\" + '\n",
      "  '0.016*\"emission\" + 0.015*\"rise\"'),\n",
      " (1,\n",
      "  '0.054*\"climate\" + 0.034*\"change\" + 0.019*\"shareholder\" + 0.017*\"investor\" + '\n",
      "  '0.014*\"say\" + 0.013*\"activist\" + 0.013*\"energy\" + 0.012*\"amp\" + '\n",
      "  '0.010*\"emission\" + 0.010*\"company\"'),\n",
      " (2,\n",
      "  '0.073*\"climate\" + 0.041*\"oil\" + 0.028*\"big\" + 0.028*\"study\" + '\n",
      "  '0.024*\"change\" + 0.015*\"tipping_point\" + 0.015*\"great\" + 0.014*\"landmark\" + '\n",
      "  '0.013*\"company\" + 0.013*\"crisis\"'),\n",
      " (3,\n",
      "  '0.094*\"climate\" + 0.054*\"activist\" + 0.050*\"board\" + 0.039*\"change\" + '\n",
      "  '0.032*\"oil\" + 0.025*\"new\" + 0.025*\"win\" + 0.021*\"shell\" + 0.020*\"investor\" '\n",
      "  '+ 0.019*\"big\"'),\n",
      " (4,\n",
      "  '0.068*\"climate\" + 0.056*\"push\" + 0.041*\"lobbyist\" + 0.040*\"video\" + '\n",
      "  '0.031*\"reveal\" + 0.031*\"business\" + 0.029*\"know\" + 0.027*\"catch\" + '\n",
      "  '0.023*\"emission\" + 0.022*\"plan\"'),\n",
      " (5,\n",
      "  '0.130*\"fuel\" + 0.119*\"fossil\" + 0.074*\"pressure\" + 0.040*\"climate\" + '\n",
      "  '0.031*\"corporation\" + 0.025*\"year\" + 0.025*\"end\" + 0.024*\"crisis\" + '\n",
      "  '0.024*\"petition\" + 0.022*\"subsidy\"'),\n",
      " (6,\n",
      "  '0.074*\"climate\" + 0.040*\"change\" + 0.025*\"big\" + 0.019*\"company\" + '\n",
      "  '0.019*\"downplay\" + 0.018*\"use\" + 0.017*\"crisis\" + 0.016*\"say\" + 0.016*\"oil\" '\n",
      "  '+ 0.010*\"blow\"'),\n",
      " (7,\n",
      "  '0.079*\"oil\" + 0.042*\"climate\" + 0.024*\"company\" + 0.023*\"industry\" + '\n",
      "  '0.020*\"gas\" + 0.018*\"big\" + 0.018*\"action\" + 0.017*\"giant\" + 0.017*\"sue\" + '\n",
      "  '0.014*\"new\"')]\n"
     ]
    }
   ],
   "source": [
    "# Select the model and print the topics\n",
    "optimal_model = model_list[3]\n",
    "model_topics = optimal_model.show_topics(formatted=False)\n",
    "pprint(optimal_model.print_topics(num_words=10))"
   ]
  },
  {
   "cell_type": "code",
   "execution_count": 53,
   "id": "89277f1f-5465-446a-b195-baa74dab95e0",
   "metadata": {},
   "outputs": [
    {
     "name": "stderr",
     "output_type": "stream",
     "text": [
      "/opt/anaconda3/lib/python3.9/site-packages/pyLDAvis/_prepare.py:246: FutureWarning: In a future version of pandas all arguments of DataFrame.drop except for the argument 'labels' will be keyword-only\n",
      "  default_term_info = default_term_info.sort_values(\n"
     ]
    },
    {
     "data": {
      "text/html": [
       "\n",
       "<link rel=\"stylesheet\" type=\"text/css\" href=\"https://cdn.jsdelivr.net/gh/bmabey/pyLDAvis@3.3.1/pyLDAvis/js/ldavis.v1.0.0.css\">\n",
       "\n",
       "\n",
       "<div id=\"ldavis_el9481403105981060165251115613\"></div>\n",
       "<script type=\"text/javascript\">\n",
       "\n",
       "var ldavis_el9481403105981060165251115613_data = {\"mdsDat\": {\"x\": [0.128318551593899, 0.14353310296563151, 0.10132804469423827, 0.1308102596180967, 0.060310621683499405, -0.13132899755119, -0.29381281281331156, -0.13915877019086317], \"y\": [-0.014439588908637656, 0.0046349527807036835, 0.036104697524554856, 0.06451990772333918, 0.06708760720878357, -0.1736914937203661, 0.23000395088230713, -0.21422003349068475], \"topics\": [1, 2, 3, 4, 5, 6, 7, 8], \"cluster\": [1, 1, 1, 1, 1, 1, 1, 1], \"Freq\": [22.699823224753565, 17.439157916778388, 14.529342535149354, 12.06528771619784, 9.629282175087079, 9.233287920196792, 7.817285549042972, 6.58653296279401]}, \"tinfo\": {\"Term\": [\"fuel\", \"fossil\", \"seat\", \"exxon\", \"oil\", \"pressure\", \"board\", \"push\", \"activist\", \"video\", \"lobbyist\", \"strategy\", \"reveal\", \"lose\", \"plan\", \"big\", \"win\", \"study\", \"corporation\", \"climate\", \"business\", \"crisis\", \"catch\", \"emission\", \"know\", \"least\", \"downplay\", \"end\", \"petition\", \"giant\", \"could_slow\", \"worlds_bigg\", \"court\", \"rebellion\", \"bloomberg_businessweek\", \"unable\", \"suit\", \"bloomberg\", \"steer\", \"challenge\", \"language\", \"proposal\", \"entire\", \"criticize\", \"boardroom\", \"jet\", \"dividend\", \"international\", \"litigation\", \"meat\", \"stunned\", \"expect\", \"deep\", \"aim\", \"term\", \"rebuke\", \"reflect\", \"propose\", \"open\", \"vehicle\", \"accountable\", \"technology\", \"seriously\", \"hold\", \"job\", \"pledge\", \"producer\", \"support\", \"exxonmobil\", \"old\", \"group\", \"economy\", \"goal\", \"large\", \"today\", \"see\", \"shareholder\", \"environmental\", \"carbon\", \"week\", \"energy\", \"much\", \"get\", \"amp\", \"say\", \"investor\", \"change\", \"s\", \"back\", \"think\", \"climate\", \"come\", \"emission\", \"activist\", \"need\", \"clean\", \"face\", \"company\", \"risk\", \"major\", \"exxon\", \"lobbyist\", \"new\", \"big\", \"shell\", \"victory\", \"engine\", \"investor_oust\", \"setback\", \"proclimate_campaign\", \"add\", \"power_shift\", \"lower\", \"royal_dutch\", \"hedge_fund\", \"powerful_signal\", \"referendum\", \"capital\", \"disclose\", \"historic\", \"breakthrough_victorie\", \"tiny\", \"secret\", \"attack\", \"defend\", \"expose\", \"be\", \"activists_hail\", \"respond\", \"companys\", \"esg\", \"combine\", \"dutch\", \"stakeholder\", \"candidate\", \"member\", \"defeat\", \"join\", \"board\", \"score\", \"least\", \"pension_fund\", \"director\", \"order\", \"win\", \"management\", \"evil\", \"activist\", \"chevron\", \"shell\", \"fight\", \"proxy\", \"vote\", \"new\", \"climate\", \"giant\", \"investor\", \"change\", \"oil\", \"effort\", \"big\", \"company\", \"day\", \"action\", \"exxon\", \"energy\", \"climatechange\", \"shake\", \"essential\", \"responsibility\", \"electrification\", \"here\", \"alter\", \"downplay\", \"fast\", \"grow\", \"valuable\", \"gasoline\", \"blow\", \"gravity\", \"adapt\", \"reality\", \"subpoena\", \"soul\", \"matter\", \"climaterelate\", \"protect\", \"slash\", \"samp\", \"remove\", \"demonstrate\", \"ecosearch\", \"quit\", \"sustainable\", \"stall\", \"hurt\", \"funding\", \"cite\", \"stance\", \"disclosure\", \"strong\", \"spending\", \"important\", \"use\", \"blame\", \"little\", \"clear\", \"scientist\", \"find\", \"issue\", \"measure\", \"report\", \"increase\", \"crisis\", \"decade\", \"climate\", \"change\", \"big\", \"say\", \"global\", \"company\", \"denial\", \"world\", \"public\", \"future\", \"stop\", \"oil\", \"address\", \"take\", \"work\", \"make\", \"exxon\", \"emission\", \"strategy\", \"year\", \"shareholder\", \"earning\", \"dark\", \"law\", \"install\", \"pandemic\", \"willing\", \"half\", \"engage\", \"pause\", \"moment\", \"leave\", \"citizen\", \"divest\", \"national\", \"wave\", \"div\", \"dow_lead\", \"access\", \"america\", \"appeal\", \"campaigner\", \"draw\", \"sue\", \"tomorrow\", \"vulnerable\", \"mess\", \"pursue\", \"county\", \"strike\", \"undercut\", \"ground\", \"adopt\", \"disaster\", \"remain\", \"attorney\", \"massive\", \"pick\", \"supreme_court\", \"field\", \"fraud\", \"city\", \"secretly_recorde\", \"gas\", \"enough\", \"oil\", \"industry\", \"concern\", \"action\", \"keep\", \"giant\", \"go\", \"make\", \"company\", \"want\", \"lawsuit\", \"project\", \"effort\", \"climate\", \"big\", \"new\", \"block\", \"bad\", \"day\", \"investor\", \"future\", \"major\", \"good\", \"change\", \"lobbyist\", \"landmark\", \"dupe\", \"stake\", \"legal\", \"exclusive\", \"leadership\", \"present\", \"revolt\", \"drama\", \"hour\", \"team\", \"spent_million\", \"icymi\", \"however\", \"excellent\", \"pushback\", \"shock\", \"scientist_dr\", \"industrial\", \"happy\", \"associate\", \"largely\", \"study\", \"choice\", \"detailed\", \"tap\", \"uncertainty\", \"number\", \"receipt\", \"held_accountable\", \"tipping_point\", \"official\", \"datum\", \"offer\", \"highlight\", \"great\", \"giants_toward\", \"allege\", \"scientific\", \"accuse\", \"role\", \"greenpeace\", \"biden\", \"covid\", \"lie\", \"science\", \"next\", \"tobacco\", \"force\", \"almost\", \"product\", \"oil\", \"big\", \"climate\", \"battle\", \"crisis\", \"change\", \"know\", \"fund\", \"company\", \"industry\", \"shareholder\", \"say\", \"new\", \"make\", \"activist\", \"leaked_document\", \"lucrative\", \"launch\", \"loss\", \"coup\", \"rating\", \"leak\", \"appoint\", \"sting\", \"reveal\", \"lowcarbon\", \"surprise\", \"base\", \"return\", \"misrepresent\", \"notice\", \"lee_raymond\", \"ccs\", \"harvard_researcher\", \"confront\", \"unveil\", \"practice\", \"email\", \"messaging\", \"wednesday\", \"kind\", \"walkback\", \"camera_telle\", \"mounts_feeble\", \"wall_street\", \"push\", \"video\", \"criminal\", \"catch\", \"describe\", \"fall\", \"damage\", \"talk\", \"let\", \"lobbyist\", \"business\", \"ambitious\", \"infrastructure\", \"know\", \"plan\", \"emission\", \"climate\", \"attempt\", \"truth\", \"exxon\", \"die\", \"change\", \"amp\", \"thank\", \"petition\", \"subsidy\", \"sign\", \"offshore_drille\", \"end\", \"pressure\", \"corporation\", \"petroleum\", \"contribute\", \"government_give\", \"taxpayerfunded_subsidie\", \"trajectory\", \"black\", \"worlds_biggest\", \"quickly\", \"weaken\", \"suspend\", \"persuade\", \"grade\", \"facility\", \"deceptive\", \"fake\", \"single\", \"electric_car\", \"weekly\", \"operate\", \"sea\", \"agency\", \"overhaul\", \"spends_million\", \"fossil\", \"fuel\", \"texas_governor\", \"speed\", \"argue\", \"social_media\", \"expand\", \"drive\", \"storage\", \"year\", \"shift\", \"crisis\", \"back\", \"climate\", \"denialism\", \"time\", \"business\", \"seat\", \"wind\", \"rule\", \"say_youre\", \"result\", \"reckon\", \"assessment\", \"committing_ecocide\", \"shows_yearly\", \"actively\", \"bipartisan\", \"carbon_dioxide\", \"shadow_group\", \"deliver\", \"nominee\", \"crucial\", \"care_job\", \"back_better\", \"penalty\", \"pass\", \"justice_urge\", \"end_week\", \"amazing\", \"travel\", \"fundamental\", \"behavior\", \"pricing\", \"opinion\", \"agm\", \"bid\", \"reuter\", \"solar\", \"rise\", \"lose\", \"strategy\", \"bask\", \"exxon\", \"investment\", \"case\", \"plan\", \"lobbying\", \"time\", \"climate\", \"emission\", \"election\", \"win\", \"change\", \"well\"], \"Freq\": [2300.0, 2092.0, 1504.0, 2527.0, 4864.0, 1278.0, 2050.0, 1162.0, 2896.0, 851.0, 1360.0, 815.0, 639.0, 654.0, 995.0, 2840.0, 1094.0, 603.0, 526.0, 14313.0, 977.0, 1348.0, 575.0, 1482.0, 1277.0, 789.0, 601.0, 426.0, 416.0, 1015.0, 221.56710286447972, 110.97929907980873, 484.3666149002493, 106.468883054491, 99.95656490041208, 96.04398447286698, 104.07414639572814, 88.94801391093218, 77.30183126699018, 237.30322796697695, 63.21901469427485, 99.2096066550533, 61.67769390742531, 62.14237376982574, 157.0683626692556, 53.43401061222783, 52.70023690320192, 48.12394726301448, 48.1891570330163, 47.45045355427573, 51.96012491882859, 98.3311032196975, 45.36412190344604, 43.39543222205397, 51.323064748209305, 43.722095850136384, 42.11714408955781, 42.26720189252309, 44.1512542395402, 38.10324650376131, 128.19139954389806, 337.7221752492901, 58.900201615524686, 429.9415416258905, 91.95208511509247, 167.2525395566517, 95.23055515225738, 382.8201011332731, 289.42650286407854, 106.54119019201526, 274.0027658387219, 143.39560595772286, 194.11923033534848, 249.6803903989356, 287.38728688117743, 292.2161752661641, 943.2051042683031, 179.22227441664307, 357.9278581686269, 240.72340290689974, 628.7987540072721, 185.71239128931387, 362.5641969065388, 570.9758571610645, 705.8990592900607, 824.2246157646939, 1698.031215911151, 207.9913021390445, 383.79227019320734, 191.5000910209798, 2696.213758564417, 237.01667788660777, 500.25437371570257, 665.0744702250947, 264.8920665106653, 252.87841398323943, 286.3504189231615, 487.7193201113374, 245.57233363433286, 279.9100615527627, 335.17229515861743, 277.44247513545315, 277.17564413394257, 257.2287568069327, 250.04953432599942, 254.8489189910075, 518.2782802075637, 198.33226144760164, 175.5882054876314, 182.60459052295428, 186.6734098234205, 100.19741153145615, 91.91393972012507, 77.28548151886369, 346.0892958945116, 139.83277958127553, 69.02626793830989, 67.62975662720031, 61.23531360296867, 463.2982197145349, 56.65795841160077, 55.17281364522337, 91.13945024609465, 55.44804921683783, 45.37348623604638, 68.4533568229177, 44.650994523599834, 45.365437115596514, 44.1500642754373, 40.91027333786787, 44.06846881143887, 38.88845401984257, 234.30770551580815, 34.16095057995057, 37.32920412800108, 445.94028924700297, 234.6872692188734, 97.83292142112178, 1916.7987936942968, 86.88955012678045, 720.1665055918273, 122.21282474313193, 578.8714203462774, 159.9057870285876, 937.3887710846885, 143.10792456194488, 170.09009300367794, 2073.5079224274614, 645.9621830334027, 801.5101806852081, 651.5045191146708, 146.31584719122077, 519.0792009531541, 957.9735163319738, 3575.868777361388, 508.65431718954335, 748.6057732695109, 1474.009928016222, 1232.937147414211, 321.271289811619, 723.4297919785116, 467.56376572748394, 223.20527650573402, 247.61379300964091, 286.4017195020137, 219.37652055964375, 138.37664954723377, 108.77552197736748, 89.92763985578534, 111.72783868276198, 84.86215718120408, 76.3029127811269, 76.31268186188974, 592.9248538462408, 79.07191512458208, 153.77756842173986, 81.35172446765903, 75.07747692555705, 305.1170935167608, 63.62683586683943, 69.75510141917596, 57.77365639655849, 53.233457637972506, 52.73714843125946, 50.12932114114643, 48.85267520260646, 136.1560532481452, 42.677614866661244, 113.66959497163494, 61.836252777441366, 36.285089029029756, 34.28161091937645, 91.43073338199284, 33.24941368857836, 32.736681046165295, 32.00998188825447, 95.73315626183002, 46.87094844637632, 98.13669005211743, 61.120264877144564, 61.20624313332887, 94.8717701519344, 134.24864392401182, 585.3477715439473, 189.34862410558762, 127.46525140115362, 104.79588519193395, 168.09599629565068, 293.8260461321998, 148.90180691168595, 76.67229783414665, 291.75683363682344, 160.92692460246408, 540.9603791084187, 190.49221250387365, 2359.631984716539, 1265.0653953097428, 788.3042226578509, 523.4115039226446, 169.8056297668819, 615.3119808189583, 141.36601781915238, 190.77977226847665, 175.5416319953653, 222.4254457742742, 142.6728429754196, 516.7293344469039, 194.77730671927145, 199.83408441871003, 169.14320923908878, 197.30198597856491, 210.09791517794505, 188.0426561455144, 171.80928153266072, 169.96138822703256, 151.6466673588838, 195.71569354423545, 112.69780168603722, 97.94545007981142, 85.2958601328317, 83.59109951965631, 79.04806169221426, 78.91458876242683, 63.450659714329326, 58.399484656557256, 92.90597714502701, 81.15163949323139, 46.94240056514199, 119.28753898310013, 64.87285731900295, 41.87717620974, 40.262498011592854, 58.05040302551417, 37.19025504262663, 37.063338860826775, 38.42744312605404, 35.99536519399417, 34.95798457076669, 455.07485876210563, 31.80506015814982, 32.585702830344616, 31.59779389853116, 31.557588177600294, 31.26563340232735, 31.93586988847389, 155.28668113393692, 143.22854851478408, 42.38823743671587, 50.08025396881408, 54.03119321418058, 49.86767358307727, 118.84268649024875, 52.15096212023318, 89.51343534935627, 57.61957221647338, 83.62415019318098, 80.83357738589183, 60.31111573127438, 518.4924371208888, 225.08681950802662, 2070.76428724558, 605.5922651151086, 212.6633499228573, 465.8513665261398, 216.8072146510086, 457.1562289159846, 275.74357331920226, 321.7526390641148, 640.3935320566242, 157.97321120643016, 147.44304325635332, 157.1170846250213, 231.77373290348106, 1119.2172081679419, 469.1573175208253, 359.23399285361546, 115.91281116909336, 148.68148009805446, 173.26476252151957, 264.1114544317198, 169.822877898925, 172.62479691775278, 154.3974056965347, 231.71732707521542, 158.95598089964784, 293.8572334435747, 94.63843265566508, 89.68538469455451, 98.2932150435521, 101.63083843441183, 72.70437072085784, 86.99157055989012, 60.837756164665514, 57.81690976957041, 55.651618869019494, 51.93787115802859, 51.0084229064253, 52.17436422176314, 44.5685476719129, 45.95245988719967, 40.921175129030566, 39.00832829365518, 37.883060317883604, 37.554262525976235, 39.111162543810835, 36.636962404269894, 35.025786373702836, 585.9056615238687, 49.78811497549142, 31.32779621479555, 30.939729457755014, 33.46557567825875, 50.70160732820164, 35.12948992160358, 36.36485996642501, 324.5155185736326, 99.82217019978944, 123.80990030722535, 57.535766635176536, 46.94146115615706, 311.016808520292, 233.1265355814882, 84.77156532464511, 62.84718565261, 66.6230379534913, 266.47722438001006, 170.5238552242239, 158.12968712943095, 58.287055374830196, 227.60806698225548, 244.45534133441384, 104.0307564694529, 92.88048243483539, 218.54499887214496, 131.54658167423997, 147.92203549252545, 868.0132805415627, 589.4251664902627, 1526.7903256972934, 127.20838923259797, 266.58293098581356, 496.0381601760798, 250.7918999197402, 140.19868499008632, 278.9586944556709, 189.49360695080574, 195.47555082555846, 172.51414057196797, 150.84143606513103, 132.9820052905572, 111.60582191766117, 266.08772248963237, 252.05819964754215, 212.3905385291497, 275.0687292037667, 123.09778819423823, 169.00648023566058, 93.3234634912001, 92.46502565336624, 124.21912027188401, 631.521197410528, 72.56087175378947, 69.1347420906969, 67.36581070697453, 66.25610135169549, 66.18146234187859, 65.28760220311047, 66.23883867395, 58.76679474252793, 56.507365690731646, 55.0373190697378, 50.34489028275257, 45.490809385856224, 42.22605006970833, 43.93142042424536, 61.42889594575058, 40.57335060570273, 40.44782990019145, 40.305746228301395, 39.823344549463954, 124.80746952216221, 1125.691965083682, 810.2711725159762, 59.68100755957379, 547.3189646697737, 204.49584075592935, 122.9061799849423, 358.1214817465253, 343.5787558373135, 208.80702076903853, 827.3784673775683, 620.5401056710318, 128.09002686569187, 182.84633903292342, 581.0469685340686, 442.1639361010956, 469.79188444658257, 1380.3456524731246, 89.84624550623778, 85.1006527435298, 352.5560620644883, 107.17822754938904, 171.57097405124986, 117.61678469695447, 99.70183507618451, 415.36344831779155, 374.5969688345356, 322.67034736404287, 174.78295218546222, 423.7287440046031, 1269.4663975521642, 521.9757547223886, 119.4811981258081, 192.3119938280034, 134.65760571700864, 134.47304579646536, 98.73789557667817, 95.95974793343262, 83.1547086965801, 67.60437046067696, 70.41929490842541, 63.14973727465069, 63.28521109482716, 60.019589889798546, 58.670223089426656, 55.401238297737564, 50.03496577820999, 48.281666412402615, 46.86594630496595, 43.709792749491804, 40.829469203660274, 39.68605648437547, 74.50395344115236, 42.36842142521238, 36.79526049496982, 2023.9501517461042, 2217.6371448132504, 148.9455334218678, 94.92148109218935, 185.54240591780123, 70.37160036282359, 71.80611043545817, 165.1959827393837, 116.3573723754597, 428.0050633630454, 164.11077676798246, 417.68688357429227, 202.71441436635735, 688.5651529342617, 72.23496375879898, 78.35157055934269, 74.48089339076135, 1503.4819947067901, 180.0461038611663, 181.5301810326448, 143.3144870360426, 129.94983310634393, 140.79094616089137, 126.67337983727631, 122.92998929951194, 122.92988210238882, 90.18613225395889, 71.6905952229539, 46.751194577403616, 43.02442294363388, 85.32212309049514, 40.73806240321927, 161.36378924275454, 35.18233700350376, 34.728722327265494, 36.70502523876824, 101.84211763958956, 33.948531615423654, 34.849131495816856, 32.943803129553864, 31.660305175084623, 36.53624671831634, 30.212698474839662, 27.45346127512507, 66.03813781925751, 25.873439328538627, 185.13982975966903, 60.79436274765907, 149.42188233046585, 211.92379475222032, 504.8473168960665, 610.1546083399871, 51.85307080717402, 1270.5472556301308, 254.94608715303207, 275.60361596216484, 354.4801167353134, 65.29741909809674, 200.07454635323373, 966.5917425543709, 233.6026843508579, 60.47276467846066, 106.16937070810047, 126.9583365898262, 76.41980400408661], \"Total\": [2300.0, 2092.0, 1504.0, 2527.0, 4864.0, 1278.0, 2050.0, 1162.0, 2896.0, 851.0, 1360.0, 815.0, 639.0, 654.0, 995.0, 2840.0, 1094.0, 603.0, 526.0, 14313.0, 977.0, 1348.0, 575.0, 1482.0, 1277.0, 789.0, 601.0, 426.0, 416.0, 1015.0, 222.67876605683665, 112.05475913716506, 489.1531853501919, 107.54234913046672, 101.03104354583468, 97.11698471536035, 105.2591797703312, 90.02512756944975, 78.39702142865106, 240.86549386031166, 64.30465647064914, 100.95364908148981, 62.77465986082132, 63.27325560591042, 160.46140814975436, 54.59840106434056, 53.85177275416423, 49.197823602147686, 49.26485118275194, 48.52561178115921, 53.14035673079523, 100.58190787602796, 46.43856315079799, 44.46939471469142, 52.600836619948716, 44.814224028282936, 43.22635876467476, 43.41898068233045, 45.39283157871754, 39.192557648946114, 132.3310696865838, 353.6141314056203, 60.68798242283125, 454.6556463797994, 95.61871644838246, 177.48015137425108, 99.32550616468275, 432.04716129704906, 324.1233146006607, 113.27997684692998, 309.48765221172425, 158.54929320062567, 220.98475053862154, 299.90124807768933, 359.10090554143005, 369.98672764443756, 1452.0733046022465, 215.10025818018784, 495.7725843890062, 309.130030044524, 1000.79839636261, 229.8970057347226, 570.7688822459514, 1082.5488842534462, 1543.5107443337386, 1935.8689325300509, 5522.766458248919, 283.6496695460808, 704.7215240642868, 255.20861807510275, 14313.224602469336, 353.984313208448, 1482.83739129706, 2896.565634469214, 468.38716617020793, 437.5287637258508, 613.1665463474915, 2563.298984857617, 442.32546344033227, 658.9848742614599, 2527.1303313904864, 1360.2536530413186, 1844.1873142417382, 2840.1231346891977, 1115.587187822113, 255.93208058845096, 520.8905790269421, 199.42696410742582, 176.7316201651668, 183.88659865959394, 188.1439938660218, 101.279224919866, 93.01560256656265, 78.37659210457821, 351.0314288591677, 141.9583376353309, 70.1290000597344, 68.77911196210917, 62.32869490346844, 472.2115544341092, 57.84355112680977, 56.36777301852023, 93.22003292506477, 56.753475995094774, 46.456598737027775, 70.12219720752282, 45.742943869784696, 46.48480108154858, 45.243061646938095, 42.02957197271056, 45.294073794028094, 39.986495833312084, 241.3947771596326, 35.262366543856785, 38.587984860350325, 463.77667935638925, 243.10710865883192, 101.25009399156184, 2050.4883650234997, 90.33282477736859, 789.7702796707155, 128.6636138524274, 649.3208524774975, 172.12824101630207, 1094.30845128385, 153.66080776996424, 187.80991521442294, 2896.565634469214, 823.8058505052367, 1115.587187822113, 897.2742715313544, 170.26927133208525, 820.3296868959034, 1844.1873142417382, 14313.224602469336, 1015.6919415587555, 1935.8689325300509, 5522.766458248919, 4864.755668046617, 630.9620016969737, 2840.1231346891977, 2563.298984857617, 550.4531812558704, 1017.1359225911257, 2527.1303313904864, 1000.79839636261, 139.44793527940138, 109.84704955438067, 91.00899920516811, 113.08508832084334, 85.95656700161, 77.3737163871089, 77.42030423459954, 601.5344005054435, 80.23857265316414, 156.0566262001275, 82.60901415927947, 76.2714864990524, 310.5321140449593, 64.7892386264686, 71.05536593259009, 58.916130448022464, 54.30360186592744, 53.83075212464692, 51.20015464766205, 49.92985121927186, 139.46366967098243, 43.7876154857249, 116.85066769938719, 63.6040516356162, 37.357738331597155, 35.352522223305996, 94.32247268182444, 34.32031607135611, 33.826585642309645, 33.08018537011462, 99.53340140588904, 48.447614742572384, 102.67872049714956, 63.69846945660722, 63.97630854671913, 101.41897072270503, 147.8100191837268, 746.5399277826442, 222.61014765406497, 144.3134455375393, 116.82518890888056, 203.54581638080438, 394.18120532681974, 180.9943002943402, 82.970207111014, 469.45608107338984, 231.7929631992481, 1348.597352093103, 311.1735860105342, 14313.224602469336, 5522.766458248919, 2840.1231346891977, 1543.5107443337386, 267.9206011163853, 2563.298984857617, 207.57679673754225, 379.804938513903, 334.3599239122428, 539.6131618338882, 238.15085419440996, 4864.755668046617, 527.9050213508187, 608.749008138227, 440.3811730319199, 852.5485268657656, 2527.1303313904864, 1482.83739129706, 815.1890934720134, 980.2638258474354, 1452.0733046022465, 196.78245471309305, 113.82642802088236, 99.01647278113597, 86.33466763575149, 84.6456895639121, 80.08454527835153, 79.95092522401302, 64.4874146939225, 59.43677159912014, 94.7061357493862, 82.89986467795137, 47.98526690209735, 122.13215422033767, 66.43109238064159, 42.91647159297976, 41.299123382775036, 59.64938198548758, 38.22764576995222, 38.10009080087563, 39.54138593024651, 37.05871001542017, 35.99656129042692, 469.1707962748309, 32.843658327617284, 33.65003953778761, 32.63453632370963, 32.59826142118952, 32.31281185745036, 33.01260171046254, 160.57555007426282, 148.76122444723626, 43.88362038053168, 52.01969993009398, 56.22709745927304, 51.87572821369509, 126.29249990034577, 54.410464243491525, 95.571199271038, 60.4466167720973, 90.4923316670824, 90.46425977870301, 65.32868741035435, 777.6612680773652, 301.43419831092694, 4864.755668046617, 1106.571560967241, 332.1459593574166, 1017.1359225911257, 367.6192941292215, 1015.6919415587555, 526.5721478499321, 852.5485268657656, 2563.298984857617, 282.6012512927629, 259.9566438425204, 303.8876264544035, 630.9620016969737, 14313.224602469336, 2840.1231346891977, 1844.1873142417382, 177.35033225626398, 312.9452818033699, 550.4531812558704, 1935.8689325300509, 539.6131618338882, 658.9848742614599, 481.5937454067069, 5522.766458248919, 1360.2536530413186, 294.8849493133437, 95.66323862839904, 90.71144988163465, 99.47679856755927, 103.06722682607884, 73.76732841109728, 88.26605008827482, 61.86328825164222, 58.85134274626, 56.729415931927875, 53.05064674152585, 52.10897967962348, 53.31180278306606, 45.60763486321582, 47.09635718454546, 41.94591302245403, 40.0334440392255, 38.9078690437023, 38.59547765441572, 40.2123703541584, 37.68148189903655, 36.052625469047165, 603.8279495778875, 51.41076868137842, 32.36685709869545, 31.967916876433293, 34.59358198267709, 52.41448715740075, 36.324382717674126, 37.62802789132116, 336.2105051674698, 103.80748305307006, 129.63052291494864, 59.91735979234992, 48.88412566537634, 346.19508640063503, 257.44595131757654, 90.02034001386808, 66.56631070919022, 71.0463515921519, 340.2647026848741, 214.31776994962607, 199.6243817568095, 63.15887157287664, 332.9842602748583, 381.8721110571937, 134.8674301851148, 122.28418450489475, 421.50697319545657, 222.58080116384903, 276.98145445066297, 4864.755668046617, 2840.1231346891977, 14313.224602469336, 250.35592610972432, 1348.597352093103, 5522.766458248919, 1277.760383331291, 373.78194478637704, 2563.298984857617, 1106.571560967241, 1452.0733046022465, 1543.5107443337386, 1844.1873142417382, 852.5485268657656, 2896.565634469214, 267.0997650924683, 253.07021267666548, 213.52355265508365, 276.9941112951274, 124.12566599727559, 170.656227484938, 94.33563717833715, 93.48025623493815, 125.65151494562626, 639.5266837980998, 73.576713057071, 70.14746601720715, 68.3804653029451, 67.27008063465381, 67.20002645997624, 66.30279822096382, 67.27208098064617, 59.78794364765853, 57.53818783952653, 56.05138845093392, 51.371201653361986, 46.50387714130383, 43.239089725938456, 45.020109538287855, 62.96128193333457, 41.58609896321731, 41.45973777596083, 41.31764996015177, 40.8352490330229, 128.03485893808687, 1162.9554683429876, 851.6485677624917, 61.26026952793455, 575.531416569424, 219.30107922909832, 130.3514437910523, 421.9983673808957, 428.3923478853081, 263.51117601782744, 1360.2536530413186, 977.5322006944024, 155.8170193468136, 261.1646625136255, 1277.760383331291, 995.3100776041069, 1482.83739129706, 14313.224602469336, 115.54949342517274, 105.86883000232092, 2527.1303313904864, 179.65834102238742, 5522.766458248919, 1082.5488842534462, 247.6439658354011, 416.6192373685232, 376.0460825777996, 324.2773095099845, 175.75031638700932, 426.6716795696899, 1278.6816606024263, 526.0684847435095, 120.42680813737603, 193.95607986979851, 135.8974157591032, 135.72002591239053, 99.69579459557127, 96.90673555556631, 84.11186689623173, 68.56467281190736, 71.45532234509055, 64.10546311637577, 64.25083539002298, 60.98841462222779, 59.62195760524957, 56.39068861079637, 50.98092475818931, 49.22739833382998, 47.819025572019406, 44.66032937682198, 41.774029553259986, 40.63167957759289, 76.38960382765022, 43.44367967197655, 37.74814660245296, 2092.382989424185, 2300.3334513663294, 153.31310991820084, 97.72152433733956, 196.4498724713014, 76.14869422650565, 78.77917038311719, 220.28585308460796, 145.09371387242362, 980.2638258474354, 278.68961934630374, 1348.597352093103, 704.7215240642868, 14313.224602469336, 90.79604686270001, 693.9055688560633, 977.5322006944024, 1504.5114669803356, 181.0755862789019, 182.82064504563178, 144.3428564399393, 130.98039019499473, 141.92127582863444, 127.7731041424767, 124.01863954047573, 124.01855544216114, 91.21818225997082, 72.90888460896028, 47.81411842982944, 44.05315380845009, 87.4529997185069, 41.76733913180698, 165.45734117052277, 36.251293720261174, 35.78489480746893, 37.829490371241086, 104.96333117792139, 35.004699121161195, 35.9444033550985, 33.99321640051574, 32.696292343005595, 37.77618536560897, 31.242387847832756, 28.48185890142178, 68.64540308967547, 26.902849667408027, 192.98707719339203, 63.621127510476605, 160.17552001563917, 247.751995524089, 654.9736384704986, 815.1890934720134, 56.37481612960698, 2527.1303313904864, 387.15143851333363, 544.890519574121, 995.3100776041069, 90.95630209675177, 693.9055688560633, 14313.224602469336, 1482.83739129706, 89.93807776789424, 1094.30845128385, 5522.766458248919, 276.18421441869316], \"Category\": [\"Default\", \"Default\", \"Default\", \"Default\", \"Default\", \"Default\", \"Default\", \"Default\", \"Default\", \"Default\", \"Default\", \"Default\", \"Default\", \"Default\", \"Default\", \"Default\", \"Default\", \"Default\", \"Default\", \"Default\", \"Default\", \"Default\", \"Default\", \"Default\", \"Default\", \"Default\", \"Default\", \"Default\", \"Default\", \"Default\", \"Topic1\", \"Topic1\", \"Topic1\", \"Topic1\", \"Topic1\", \"Topic1\", \"Topic1\", \"Topic1\", \"Topic1\", \"Topic1\", \"Topic1\", \"Topic1\", \"Topic1\", \"Topic1\", \"Topic1\", \"Topic1\", \"Topic1\", \"Topic1\", \"Topic1\", \"Topic1\", \"Topic1\", \"Topic1\", \"Topic1\", \"Topic1\", \"Topic1\", \"Topic1\", \"Topic1\", \"Topic1\", \"Topic1\", \"Topic1\", \"Topic1\", \"Topic1\", \"Topic1\", \"Topic1\", \"Topic1\", \"Topic1\", \"Topic1\", \"Topic1\", \"Topic1\", \"Topic1\", \"Topic1\", \"Topic1\", \"Topic1\", \"Topic1\", \"Topic1\", \"Topic1\", \"Topic1\", \"Topic1\", \"Topic1\", \"Topic1\", \"Topic1\", \"Topic1\", \"Topic1\", \"Topic1\", \"Topic1\", \"Topic1\", \"Topic1\", \"Topic1\", \"Topic1\", \"Topic1\", \"Topic1\", \"Topic1\", \"Topic1\", \"Topic1\", \"Topic1\", \"Topic1\", \"Topic1\", \"Topic1\", \"Topic1\", \"Topic1\", \"Topic1\", \"Topic1\", \"Topic1\", \"Topic1\", \"Topic1\", \"Topic2\", \"Topic2\", \"Topic2\", \"Topic2\", \"Topic2\", \"Topic2\", \"Topic2\", \"Topic2\", \"Topic2\", \"Topic2\", \"Topic2\", \"Topic2\", \"Topic2\", \"Topic2\", \"Topic2\", \"Topic2\", \"Topic2\", \"Topic2\", \"Topic2\", \"Topic2\", \"Topic2\", \"Topic2\", \"Topic2\", \"Topic2\", \"Topic2\", \"Topic2\", \"Topic2\", \"Topic2\", \"Topic2\", \"Topic2\", \"Topic2\", \"Topic2\", \"Topic2\", \"Topic2\", \"Topic2\", \"Topic2\", \"Topic2\", \"Topic2\", \"Topic2\", \"Topic2\", \"Topic2\", \"Topic2\", \"Topic2\", \"Topic2\", \"Topic2\", \"Topic2\", \"Topic2\", \"Topic2\", \"Topic2\", \"Topic2\", \"Topic2\", \"Topic2\", \"Topic2\", \"Topic2\", \"Topic2\", \"Topic2\", \"Topic2\", \"Topic2\", \"Topic2\", \"Topic2\", \"Topic2\", \"Topic3\", \"Topic3\", \"Topic3\", \"Topic3\", \"Topic3\", \"Topic3\", \"Topic3\", \"Topic3\", \"Topic3\", \"Topic3\", \"Topic3\", \"Topic3\", \"Topic3\", \"Topic3\", \"Topic3\", \"Topic3\", \"Topic3\", \"Topic3\", \"Topic3\", \"Topic3\", \"Topic3\", \"Topic3\", \"Topic3\", \"Topic3\", \"Topic3\", \"Topic3\", \"Topic3\", \"Topic3\", \"Topic3\", \"Topic3\", \"Topic3\", \"Topic3\", \"Topic3\", \"Topic3\", \"Topic3\", \"Topic3\", \"Topic3\", \"Topic3\", \"Topic3\", \"Topic3\", \"Topic3\", \"Topic3\", \"Topic3\", \"Topic3\", \"Topic3\", \"Topic3\", \"Topic3\", \"Topic3\", \"Topic3\", \"Topic3\", \"Topic3\", \"Topic3\", \"Topic3\", \"Topic3\", \"Topic3\", \"Topic3\", \"Topic3\", \"Topic3\", \"Topic3\", \"Topic3\", \"Topic3\", \"Topic3\", \"Topic3\", \"Topic3\", \"Topic3\", \"Topic3\", \"Topic3\", \"Topic3\", \"Topic3\", \"Topic3\", \"Topic4\", \"Topic4\", \"Topic4\", \"Topic4\", \"Topic4\", \"Topic4\", \"Topic4\", \"Topic4\", \"Topic4\", \"Topic4\", \"Topic4\", \"Topic4\", \"Topic4\", \"Topic4\", \"Topic4\", \"Topic4\", \"Topic4\", \"Topic4\", \"Topic4\", \"Topic4\", \"Topic4\", \"Topic4\", \"Topic4\", \"Topic4\", \"Topic4\", \"Topic4\", \"Topic4\", \"Topic4\", \"Topic4\", \"Topic4\", \"Topic4\", \"Topic4\", \"Topic4\", \"Topic4\", \"Topic4\", \"Topic4\", \"Topic4\", \"Topic4\", \"Topic4\", \"Topic4\", \"Topic4\", \"Topic4\", \"Topic4\", \"Topic4\", \"Topic4\", \"Topic4\", \"Topic4\", \"Topic4\", \"Topic4\", \"Topic4\", \"Topic4\", \"Topic4\", \"Topic4\", \"Topic4\", \"Topic4\", \"Topic4\", \"Topic4\", \"Topic4\", \"Topic4\", \"Topic4\", \"Topic4\", \"Topic4\", \"Topic4\", \"Topic4\", \"Topic4\", \"Topic4\", \"Topic4\", \"Topic4\", \"Topic4\", \"Topic5\", \"Topic5\", \"Topic5\", \"Topic5\", \"Topic5\", \"Topic5\", \"Topic5\", \"Topic5\", \"Topic5\", \"Topic5\", \"Topic5\", \"Topic5\", \"Topic5\", \"Topic5\", \"Topic5\", \"Topic5\", \"Topic5\", \"Topic5\", \"Topic5\", \"Topic5\", \"Topic5\", \"Topic5\", \"Topic5\", \"Topic5\", \"Topic5\", \"Topic5\", \"Topic5\", \"Topic5\", \"Topic5\", \"Topic5\", \"Topic5\", \"Topic5\", \"Topic5\", \"Topic5\", \"Topic5\", \"Topic5\", \"Topic5\", \"Topic5\", \"Topic5\", \"Topic5\", \"Topic5\", \"Topic5\", \"Topic5\", \"Topic5\", \"Topic5\", \"Topic5\", \"Topic5\", \"Topic5\", \"Topic5\", \"Topic5\", \"Topic5\", \"Topic5\", \"Topic5\", \"Topic5\", \"Topic5\", \"Topic5\", \"Topic5\", \"Topic5\", \"Topic5\", \"Topic5\", \"Topic5\", \"Topic5\", \"Topic5\", \"Topic5\", \"Topic5\", \"Topic5\", \"Topic6\", \"Topic6\", \"Topic6\", \"Topic6\", \"Topic6\", \"Topic6\", \"Topic6\", \"Topic6\", \"Topic6\", \"Topic6\", \"Topic6\", \"Topic6\", \"Topic6\", \"Topic6\", \"Topic6\", \"Topic6\", \"Topic6\", \"Topic6\", \"Topic6\", \"Topic6\", \"Topic6\", \"Topic6\", \"Topic6\", \"Topic6\", \"Topic6\", \"Topic6\", \"Topic6\", \"Topic6\", \"Topic6\", \"Topic6\", \"Topic6\", \"Topic6\", \"Topic6\", \"Topic6\", \"Topic6\", \"Topic6\", \"Topic6\", \"Topic6\", \"Topic6\", \"Topic6\", \"Topic6\", \"Topic6\", \"Topic6\", \"Topic6\", \"Topic6\", \"Topic6\", \"Topic6\", \"Topic6\", \"Topic6\", \"Topic6\", \"Topic6\", \"Topic6\", \"Topic6\", \"Topic6\", \"Topic7\", \"Topic7\", \"Topic7\", \"Topic7\", \"Topic7\", \"Topic7\", \"Topic7\", \"Topic7\", \"Topic7\", \"Topic7\", \"Topic7\", \"Topic7\", \"Topic7\", \"Topic7\", \"Topic7\", \"Topic7\", \"Topic7\", \"Topic7\", \"Topic7\", \"Topic7\", \"Topic7\", \"Topic7\", \"Topic7\", \"Topic7\", \"Topic7\", \"Topic7\", \"Topic7\", \"Topic7\", \"Topic7\", \"Topic7\", \"Topic7\", \"Topic7\", \"Topic7\", \"Topic7\", \"Topic7\", \"Topic7\", \"Topic7\", \"Topic7\", \"Topic7\", \"Topic7\", \"Topic7\", \"Topic7\", \"Topic7\", \"Topic7\", \"Topic7\", \"Topic7\", \"Topic7\", \"Topic8\", \"Topic8\", \"Topic8\", \"Topic8\", \"Topic8\", \"Topic8\", \"Topic8\", \"Topic8\", \"Topic8\", \"Topic8\", \"Topic8\", \"Topic8\", \"Topic8\", \"Topic8\", \"Topic8\", \"Topic8\", \"Topic8\", \"Topic8\", \"Topic8\", \"Topic8\", \"Topic8\", \"Topic8\", \"Topic8\", \"Topic8\", \"Topic8\", \"Topic8\", \"Topic8\", \"Topic8\", \"Topic8\", \"Topic8\", \"Topic8\", \"Topic8\", \"Topic8\", \"Topic8\", \"Topic8\", \"Topic8\", \"Topic8\", \"Topic8\", \"Topic8\", \"Topic8\", \"Topic8\", \"Topic8\", \"Topic8\", \"Topic8\", \"Topic8\", \"Topic8\", \"Topic8\", \"Topic8\"], \"logprob\": [30.0, 29.0, 28.0, 27.0, 26.0, 25.0, 24.0, 23.0, 22.0, 21.0, 20.0, 19.0, 18.0, 17.0, 16.0, 15.0, 14.0, 13.0, 12.0, 11.0, 10.0, 9.0, 8.0, 7.0, 6.0, 5.0, 4.0, 3.0, 2.0, 1.0, -5.4107, -6.1021, -4.6286, -6.1436, -6.2067, -6.2467, -6.1664, -6.3234, -6.4637, -5.3421, -6.6649, -6.2142, -6.6895, -6.682, -5.7548, -6.833, -6.8468, -6.9377, -6.9363, -6.9518, -6.861, -6.2231, -6.9967, -7.0411, -6.8733, -7.0336, -7.071, -7.0675, -7.0238, -7.1712, -5.9579, -4.9892, -6.7356, -4.7478, -6.2902, -5.692, -6.2552, -4.8639, -5.1436, -6.1429, -5.1983, -5.8459, -5.543, -5.2913, -5.1506, -5.134, -3.9622, -5.6228, -4.9311, -5.3278, -4.3677, -5.5873, -4.9183, -4.4641, -4.252, -4.097, -3.3742, -5.474, -4.8614, -5.5566, -2.9119, -5.3433, -4.5963, -4.3116, -5.2321, -5.2786, -5.1542, -4.6217, -5.3079, -5.177, -4.9968, -5.1858, -5.1868, -5.2615, -5.2898, -5.0072, -4.2973, -5.2579, -5.3797, -5.3405, -5.3185, -5.9407, -6.027, -6.2003, -4.7011, -5.6074, -6.3133, -6.3338, -6.4331, -4.4095, -6.5108, -6.5374, -6.0354, -6.5324, -6.7329, -6.3217, -6.7489, -6.7331, -6.7602, -6.8364, -6.7621, -6.8871, -5.0912, -7.0167, -6.928, -4.4476, -5.0896, -5.9646, -2.9894, -6.0832, -3.9683, -5.7421, -4.1867, -5.4732, -3.7047, -5.5842, -5.4115, -2.9108, -4.0771, -3.8613, -4.0685, -5.5621, -4.2958, -3.683, -2.3659, -4.3161, -3.9296, -3.2521, -3.4307, -4.7755, -3.9638, -4.4003, -5.1397, -5.036, -4.8904, -5.157, -5.4353, -5.676, -5.8663, -5.6492, -5.9242, -6.0306, -6.0304, -3.9802, -5.9949, -5.3298, -5.9665, -6.0468, -4.6446, -6.2122, -6.1203, -6.3087, -6.3906, -6.4, -6.4507, -6.4765, -5.4515, -6.6116, -5.632, -6.2408, -6.7739, -6.8307, -5.8497, -6.8612, -6.8768, -6.8992, -5.8037, -6.5179, -5.7789, -6.2524, -6.251, -5.8127, -5.4656, -3.9931, -5.1217, -5.5174, -5.7133, -5.2407, -4.6823, -5.362, -6.0257, -4.6894, -5.2843, -4.0719, -5.1157, -2.599, -3.2224, -3.6954, -4.1049, -5.2306, -3.9431, -5.4139, -5.1142, -5.1974, -4.9607, -5.4047, -4.1178, -5.0934, -5.0678, -5.2345, -5.0805, -5.0177, -5.1286, -5.2189, -5.2297, -5.3437, -4.9028, -5.4547, -5.595, -5.7333, -5.7535, -5.8094, -5.8111, -6.0292, -6.1121, -5.6479, -5.7831, -6.3305, -5.3979, -6.007, -6.4447, -6.484, -6.1181, -6.5634, -6.5668, -6.5307, -6.596, -6.6253, -4.059, -6.7198, -6.6956, -6.7264, -6.7276, -6.7369, -6.7157, -5.1342, -5.215, -6.4326, -6.2658, -6.1899, -6.2701, -5.4016, -6.2253, -5.685, -6.1256, -5.7531, -5.787, -6.0799, -3.9285, -4.763, -2.5438, -3.7732, -4.8197, -4.0356, -4.8004, -4.0544, -4.56, -4.4057, -3.7174, -5.117, -5.186, -5.1224, -4.7337, -3.1591, -4.0285, -4.2955, -5.4266, -5.1776, -5.0246, -4.6031, -5.0447, -5.0283, -5.1399, -4.7339, -5.1108, -4.2708, -5.4039, -5.4576, -5.366, -5.3326, -5.6675, -5.4881, -5.8457, -5.8966, -5.9348, -6.0039, -6.0219, -5.9993, -6.1569, -6.1263, -6.2423, -6.2901, -6.3194, -6.3281, -6.2875, -6.3529, -6.3978, -3.5808, -6.0461, -6.5094, -6.5219, -6.4434, -6.028, -6.3949, -6.3603, -4.1716, -5.3505, -5.1352, -5.9015, -6.105, -4.2141, -4.5023, -5.514, -5.8132, -5.7549, -4.3686, -4.815, -4.8905, -5.8885, -4.5263, -4.4549, -5.3092, -5.4226, -4.5669, -5.0746, -4.9572, -3.1877, -3.5748, -2.623, -5.1081, -4.3682, -3.7473, -4.4293, -5.0109, -4.3229, -4.7096, -4.6785, -4.8034, -4.9377, -5.0637, -5.2389, -4.3281, -4.3823, -4.5535, -4.2949, -5.0989, -4.782, -5.3758, -5.3851, -5.0899, -3.4638, -5.6275, -5.6759, -5.7018, -5.7184, -5.7195, -5.7331, -5.7187, -5.8383, -5.8775, -5.9039, -5.993, -6.0944, -6.1689, -6.1293, -5.794, -6.2088, -6.2119, -6.2154, -6.2275, -5.0851, -2.8858, -3.2146, -5.8229, -3.6069, -4.5914, -5.1005, -4.031, -4.0725, -4.5705, -3.1937, -3.4813, -5.0592, -4.7033, -3.5471, -3.8202, -3.7596, -2.6818, -5.4138, -5.4681, -4.0467, -5.2374, -4.7669, -5.1445, -5.3097, -3.7163, -3.8196, -3.9688, -4.5819, -3.6963, -2.5991, -3.4878, -4.9623, -4.4863, -4.8427, -4.8441, -5.153, -5.1815, -5.3247, -5.5318, -5.491, -5.5999, -5.5978, -5.6508, -5.6735, -5.7308, -5.8327, -5.8684, -5.8982, -5.9679, -6.036, -6.0644, -5.4346, -5.999, -6.1401, -2.1326, -2.0412, -4.7419, -5.1924, -4.5222, -5.4917, -5.4715, -4.6383, -4.9888, -3.6863, -4.6449, -3.7107, -4.4336, -3.2108, -5.4655, -5.3842, -5.4349, -2.2586, -4.3809, -4.3727, -4.6091, -4.707, -4.6269, -4.7325, -4.7625, -4.7625, -5.0723, -5.3018, -5.7293, -5.8124, -5.1277, -5.867, -4.4905, -6.0136, -6.0266, -5.9712, -4.9507, -6.0493, -6.0231, -6.0793, -6.1191, -5.9758, -6.1659, -6.2616, -5.3839, -6.3209, -4.353, -5.4666, -4.5674, -4.2179, -3.3499, -3.1604, -5.6257, -2.4269, -4.0331, -3.9552, -3.7035, -5.3952, -4.2754, -2.7004, -4.1205, -5.4719, -4.9091, -4.7303, -5.2379], \"loglift\": [30.0, 29.0, 28.0, 27.0, 26.0, 25.0, 24.0, 23.0, 22.0, 21.0, 20.0, 19.0, 18.0, 17.0, 16.0, 15.0, 14.0, 13.0, 12.0, 11.0, 10.0, 9.0, 8.0, 7.0, 6.0, 5.0, 4.0, 3.0, 2.0, 1.0, 1.4778, 1.4732, 1.473, 1.4728, 1.4721, 1.4717, 1.4715, 1.4708, 1.4687, 1.4679, 1.4658, 1.4654, 1.4652, 1.4648, 1.4614, 1.4613, 1.4612, 1.4607, 1.4607, 1.4604, 1.4604, 1.4602, 1.4594, 1.4584, 1.4582, 1.4581, 1.4568, 1.4559, 1.4551, 1.4546, 1.451, 1.4368, 1.4529, 1.4269, 1.4437, 1.4235, 1.4407, 1.3618, 1.3696, 1.4215, 1.361, 1.3824, 1.3532, 1.2995, 1.26, 1.2468, 1.0513, 1.3003, 1.157, 1.2327, 1.0181, 1.2694, 1.029, 0.8431, 0.7005, 0.6289, 0.3034, 1.1726, 0.8751, 1.1956, -0.1865, 1.0817, 0.3962, 0.0114, 0.9128, 0.9346, 0.7214, -0.1765, 0.8944, 0.6266, -0.5374, -0.107, -0.4123, -0.9188, -0.0127, 1.7422, 1.7414, 1.7409, 1.74, 1.7395, 1.7386, 1.7357, 1.7345, 1.7324, 1.7323, 1.7314, 1.7306, 1.7296, 1.7288, 1.7274, 1.7257, 1.725, 1.7239, 1.7232, 1.7229, 1.7224, 1.7223, 1.7221, 1.722, 1.7195, 1.719, 1.7186, 1.7167, 1.7147, 1.7133, 1.7072, 1.7112, 1.7121, 1.679, 1.7076, 1.6542, 1.695, 1.6316, 1.6728, 1.5917, 1.6753, 1.6473, 1.4122, 1.5033, 1.4158, 1.4264, 1.5948, 1.2888, 1.0915, 0.3595, 1.0549, 0.7964, 0.4256, 0.3738, 1.0715, 0.3789, 0.0449, 0.8438, 0.3336, -0.431, 0.2287, 1.9213, 1.9192, 1.917, 1.9169, 1.9162, 1.9151, 1.9146, 1.9146, 1.9144, 1.9143, 1.9137, 1.9132, 1.9114, 1.9109, 1.9105, 1.9094, 1.9091, 1.9085, 1.9079, 1.9072, 1.905, 1.9033, 1.9014, 1.9008, 1.8999, 1.8982, 1.8979, 1.8973, 1.8962, 1.8961, 1.8901, 1.8959, 1.8838, 1.8877, 1.8847, 1.8623, 1.8328, 1.6858, 1.7672, 1.8049, 1.8203, 1.7376, 1.6352, 1.7338, 1.8501, 1.4533, 1.5641, 1.0155, 1.4383, 0.1263, 0.4552, 0.6473, 0.8476, 1.473, 0.5021, 1.5449, 1.2405, 1.2847, 1.0427, 1.4166, -0.3133, 0.9319, 0.8151, 0.9721, 0.4655, -0.5583, -0.136, 0.372, 0.1767, -0.3302, 2.1094, 2.1049, 2.104, 2.1027, 2.1023, 2.1018, 2.1018, 2.0986, 2.0972, 2.0956, 2.0935, 2.0929, 2.0913, 2.0911, 2.0903, 2.0894, 2.0877, 2.0873, 2.0872, 2.0863, 2.0857, 2.0856, 2.0843, 2.0827, 2.0827, 2.0826, 2.0824, 2.0819, 2.0817, 2.0813, 2.0769, 2.0802, 2.0768, 2.075, 2.0754, 2.054, 2.0724, 2.0494, 2.0669, 2.0359, 2.0023, 2.0349, 1.7095, 1.8228, 1.2607, 1.512, 1.669, 1.334, 1.5868, 1.3165, 1.4679, 1.1404, 0.7279, 1.5332, 1.5478, 1.4552, 1.1134, -0.4337, 0.3142, 0.479, 1.6895, 1.3706, 0.9589, 0.1229, 0.9587, 0.7753, 0.9773, -1.0563, -0.032, 2.3369, 2.3296, 2.329, 2.3284, 2.3263, 2.3258, 2.3258, 2.3236, 2.3226, 2.3212, 2.3192, 2.319, 2.3188, 2.3173, 2.3158, 2.3156, 2.3144, 2.3137, 2.313, 2.3126, 2.3123, 2.3115, 2.3102, 2.3083, 2.3077, 2.3077, 2.3072, 2.3071, 2.3069, 2.3062, 2.305, 2.3012, 2.2944, 2.2998, 2.2998, 2.2332, 2.2411, 2.2803, 2.2829, 2.2761, 2.0959, 2.1118, 2.1073, 2.2601, 1.9599, 1.8943, 2.0808, 2.0653, 1.6835, 1.8144, 1.7131, 0.6168, 0.7679, 0.1023, 1.6633, 0.7192, -0.0696, 0.7121, 1.3597, 0.1224, 0.5757, 0.335, 0.149, -0.1632, 0.4823, -0.9159, 2.3786, 2.3783, 2.377, 2.3754, 2.374, 2.3726, 2.3716, 2.3714, 2.3709, 2.3698, 2.3685, 2.3678, 2.3674, 2.3672, 2.3671, 2.3669, 2.3669, 2.3651, 2.3643, 2.3641, 2.3622, 2.3603, 2.3586, 2.3579, 2.3577, 2.3577, 2.3576, 2.3576, 2.3573, 2.3568, 2.3498, 2.3325, 2.3562, 2.3321, 2.3125, 2.3235, 2.2182, 2.1617, 2.1497, 1.8852, 1.9279, 2.1864, 2.0259, 1.5943, 1.571, 1.2329, 0.0435, 2.1308, 2.164, 0.4127, 1.8658, -1.0893, 0.1627, 1.4725, 2.5458, 2.545, 2.5439, 2.5433, 2.5419, 2.5416, 2.541, 2.5409, 2.5403, 2.5397, 2.5396, 2.5392, 2.539, 2.5374, 2.5347, 2.5342, 2.5338, 2.5337, 2.5328, 2.5327, 2.5311, 2.5301, 2.5294, 2.5287, 2.5273, 2.526, 2.5253, 2.5238, 2.5238, 2.5233, 2.5156, 2.5122, 2.5199, 2.5198, 2.4917, 2.4699, 2.4562, 2.261, 2.3281, 1.7201, 2.0193, 1.3767, 1.3028, -0.4855, 2.3201, 0.3677, -0.0257, 2.7195, 2.7144, 2.7131, 2.713, 2.7122, 2.7121, 2.7115, 2.7113, 2.7113, 2.7088, 2.7033, 2.6977, 2.6965, 2.6955, 2.6952, 2.6951, 2.6902, 2.6902, 2.69, 2.69, 2.6895, 2.6892, 2.6888, 2.6879, 2.6868, 2.6866, 2.6834, 2.6814, 2.6811, 2.6786, 2.6747, 2.6506, 2.5639, 2.4598, 2.4304, 2.6365, 2.0325, 2.3024, 2.0385, 1.6877, 2.3887, 1.4765, 0.025, 0.8721, 2.3232, 0.3873, -1.0526, 1.4353]}, \"token.table\": {\"Topic\": [4, 1, 2, 3, 4, 1, 4, 5, 7, 8, 1, 2, 3, 4, 5, 6, 7, 8, 8, 1, 2, 3, 4, 5, 6, 8, 2, 3, 2, 1, 2, 3, 4, 5, 7, 4, 5, 5, 7, 8, 1, 3, 5, 7, 8, 1, 2, 5, 6, 3, 8, 4, 6, 4, 1, 2, 3, 4, 5, 6, 7, 8, 4, 6, 6, 7, 8, 5, 2, 5, 6, 4, 1, 2, 3, 4, 7, 8, 8, 1, 3, 4, 5, 6, 8, 6, 2, 8, 1, 2, 4, 5, 2, 8, 6, 8, 1, 2, 3, 4, 5, 6, 7, 8, 1, 2, 3, 4, 5, 6, 7, 8, 8, 7, 2, 3, 5, 8, 1, 2, 3, 4, 5, 8, 1, 1, 3, 6, 2, 3, 4, 5, 8, 1, 2, 2, 1, 2, 3, 4, 6, 7, 8, 6, 4, 2, 2, 1, 2, 3, 4, 5, 6, 7, 8, 8, 8, 1, 3, 4, 5, 6, 7, 8, 1, 4, 5, 6, 8, 6, 1, 5, 6, 1, 2, 3, 4, 5, 6, 7, 8, 1, 2, 3, 4, 5, 6, 7, 8, 5, 8, 3, 6, 4, 4, 5, 7, 1, 2, 3, 4, 5, 8, 2, 3, 5, 6, 1, 2, 3, 4, 5, 6, 7, 8, 3, 3, 2, 1, 2, 3, 6, 7, 8, 8, 1, 2, 3, 4, 5, 6, 7, 8, 2, 1, 4, 6, 7, 1, 2, 6, 7, 1, 4, 6, 1, 2, 7, 5, 8, 1, 6, 1, 2, 3, 4, 5, 6, 7, 8, 1, 4, 8, 2, 3, 5, 6, 4, 2, 4, 5, 6, 2, 3, 4, 6, 8, 1, 2, 3, 4, 5, 6, 7, 7, 1, 2, 3, 5, 2, 6, 8, 3, 1, 2, 3, 5, 6, 7, 2, 7, 1, 6, 8, 5, 2, 6, 7, 8, 2, 3, 4, 6, 8, 4, 8, 2, 3, 7, 4, 4, 5, 1, 3, 4, 3, 5, 5, 4, 1, 3, 4, 6, 7, 5, 2, 5, 4, 1, 2, 3, 6, 8, 3, 1, 2, 3, 4, 5, 7, 8, 1, 8, 7, 3, 6, 1, 2, 3, 4, 5, 6, 7, 8, 6, 7, 8, 1, 2, 3, 4, 5, 6, 7, 8, 4, 2, 5, 8, 1, 3, 4, 5, 8, 1, 1, 3, 5, 6, 7, 2, 3, 2, 5, 8, 5, 5, 3, 7, 1, 6, 8, 2, 3, 1, 2, 3, 4, 5, 6, 7, 8, 1, 2, 4, 5, 6, 8, 1, 2, 3, 4, 5, 6, 7, 7, 6, 7, 3, 4, 5, 1, 2, 3, 4, 6, 8, 1, 2, 3, 4, 6, 7, 1, 5, 1, 2, 3, 4, 5, 6, 7, 8, 2, 4, 5, 1, 2, 3, 4, 5, 6, 7, 8, 1, 2, 3, 4, 5, 6, 7, 8, 8, 1, 3, 5, 1, 2, 3, 4, 5, 6, 7, 8, 1, 2, 3, 4, 5, 8, 3, 1, 2, 3, 4, 5, 6, 7, 8, 1, 2, 3, 4, 5, 6, 7, 8, 2, 4, 5, 1, 2, 3, 5, 7, 8, 1, 2, 3, 4, 5, 6, 7, 8, 1, 3, 4, 8, 1, 2, 3, 4, 5, 6, 7, 7, 3, 5, 6, 7, 8, 5, 7, 4, 6, 7, 1, 2, 3, 4, 5, 6, 7, 3, 5, 4, 5, 6, 1, 2, 6, 5, 3, 5, 7, 2, 5, 1, 2, 3, 4, 5, 6, 7, 8, 5, 5, 3, 5, 2, 3, 5, 6, 1, 2, 3, 4, 6, 5, 1, 2, 3, 4, 5, 6, 7, 8, 1, 3, 5, 6, 8, 4, 1, 3, 4, 5, 6, 8, 1, 2, 3, 4, 5, 6, 7, 8, 2, 1, 2, 3, 5, 7, 1, 1, 2, 1, 2, 5, 6, 8, 8, 1, 2, 3, 4, 6, 7, 6, 1, 2, 3, 4, 5, 6, 7, 8, 5, 1, 1, 2, 3, 4, 6, 5, 6, 4, 1, 4, 8, 5, 6, 6, 1, 2, 3, 8, 2, 4, 6, 5, 1, 3, 4, 5, 6, 8, 1, 2, 3, 4, 5, 6, 7, 1, 3, 4, 8, 1, 4, 5, 8, 1, 2, 3, 4, 5, 6, 7, 8, 1, 2, 3, 4, 5, 7, 8, 5, 6, 6, 2, 6, 1, 3, 4, 5, 7, 8, 1, 2, 3, 4, 5, 6, 7, 8, 2, 7, 1, 4, 3, 1, 3, 4, 6, 1, 2, 4, 6, 8, 4, 6, 6, 4, 6, 7, 6, 1, 4, 5, 6, 7, 8, 4, 5, 1, 2, 3, 4, 5, 6, 8, 1, 2, 3, 4, 5, 6, 7, 8, 4, 5, 6, 8, 8, 6, 5, 7, 5, 6, 5, 7, 8, 7, 1, 2, 3, 4, 5, 6, 7, 8, 1, 3, 7, 1, 7, 4, 7, 8, 2, 6, 7, 4, 1, 2, 3, 8, 4, 8, 2, 8, 7, 7, 7, 1, 4, 1, 2, 3, 4, 5, 6, 8, 1, 2, 3, 5, 6, 2, 2, 5, 6, 5, 1, 2, 3, 4, 5, 7, 8, 2, 1, 3, 1, 2, 3, 4, 5, 6, 7, 1, 2, 3, 4, 1, 8, 1, 2, 3, 2, 5, 1, 2, 3, 4, 5, 6, 7, 8, 4, 1, 2, 3, 4, 5, 6, 7, 5, 7, 3, 4, 6, 8, 3, 1, 1, 5, 8, 2, 1, 1, 4, 2, 3, 1, 2, 3, 4, 5, 6, 8, 2, 3, 8, 6, 1, 2, 7, 8, 1, 2, 6, 7, 5, 1, 2, 3, 4, 5, 6, 7, 8, 1, 2, 3, 4, 5, 6, 8, 1, 2, 3, 5, 6, 7, 2, 8, 1, 2, 3, 4, 5, 6, 8, 3, 6, 1, 2, 3, 4, 5, 6, 7, 8, 8, 1, 2, 3, 4, 5, 6, 8, 3, 5, 8, 1, 3, 4, 5, 6, 7, 5, 2, 8, 7, 8, 2, 8, 2, 4, 1, 2, 3, 4, 5, 6, 7, 8, 1, 6, 2, 8, 3, 1, 2, 3, 4, 5, 6, 8, 1, 2, 3, 4, 5, 6, 7, 8, 2, 7, 5, 8, 6, 7, 7, 3, 2, 6, 7, 4, 6, 8, 3, 3, 7, 1, 3, 8, 7, 5, 5, 2, 3, 1, 3, 1, 5, 6, 1, 2, 3, 4, 6, 7, 8, 1, 2, 3, 4, 7, 8, 1, 3, 5, 6, 7, 8, 4, 3, 6, 8, 1, 2, 4, 5, 1, 3, 7, 1, 4, 5, 6, 7, 8, 1, 1, 4, 5, 6, 8, 3, 4, 5, 6, 7, 3, 1, 2, 3, 4, 5, 6, 7, 8, 1, 2, 3, 4, 5, 6, 5, 7, 5, 1, 2, 4, 5, 1, 7, 8, 1, 2, 3, 4, 5, 6, 1, 2, 3, 4, 5, 6, 7, 8, 1, 2, 4, 5, 6, 7, 8, 2, 1, 5, 1, 2, 5, 7, 1, 2, 3, 4, 5, 6, 7, 8, 4, 7, 8, 1, 2, 4, 6, 7, 1, 5, 2, 4, 6, 1, 2, 3, 5, 7, 3, 1, 2, 1, 2, 3, 5, 6, 8, 1, 2, 3, 5, 6, 8, 4, 6, 2, 4, 6, 1, 2, 3, 4, 5, 6, 7, 4, 7, 2, 6, 1, 2, 3, 5, 7, 8, 7, 1, 3, 4, 5, 6, 7, 8, 4, 2, 3, 4, 8, 8, 1, 2, 3, 4, 5, 6, 7, 8, 1, 2, 3, 4, 5, 6, 7, 8, 1, 7, 1, 2, 3, 4, 5, 6, 7], \"Freq\": [0.9678859175022184, 0.9672709538520198, 0.0075568043269689045, 0.0075568043269689045, 0.0075568043269689045, 0.014075318121056966, 0.014075318121056966, 0.9430463141108167, 0.014075318121056966, 0.014075318121056966, 0.1346919295220606, 0.24382188701803673, 0.06783754114614732, 0.4581491909290529, 0.03932611080936076, 0.04817448574146693, 0.0029494583107020573, 0.006882069391638134, 0.9866454008423561, 0.22958223079307474, 0.7160203709245669, 0.002071418623696915, 0.008976147369353298, 0.038666480975675745, 0.0013809457491312765, 0.0037976008101110108, 0.9680583535477804, 0.9851472732743181, 0.9939195833865606, 0.34665326639957744, 0.12691676966541907, 0.3693846281306973, 0.10418540793429924, 0.03977988302945971, 0.013259961009819902, 0.9570769147076269, 0.022787545588276833, 0.013090786571641269, 0.9818089928730952, 0.9664403704971893, 0.9669571685398728, 0.011108600565671548, 0.9442310480820816, 0.011108600565671548, 0.03332580169701464, 0.08985500948609375, 0.017971001897218748, 0.5930430626082187, 0.29652153130410935, 0.9816546286062668, 0.9707819234045569, 0.17328017255871184, 0.8214763736116709, 0.9711262945113416, 0.5274588596465798, 0.11084949764901851, 0.09884080207037484, 0.0748234109130875, 0.0572722404519929, 0.10900200602153487, 0.004618729068709105, 0.017551170461094598, 0.9610184141505406, 0.9841650387519487, 0.0509035708407541, 0.9468064176380263, 0.9939493984460561, 0.9819146736091084, 0.969103637013417, 0.21635750412172458, 0.7788870148382085, 0.9638418914146462, 0.5448960857409123, 0.028380004465672515, 0.06527401027104679, 0.07095001116418129, 0.28805704532657606, 0.0014190002232836259, 0.9780663094947786, 0.4761215735267734, 0.0031954468021931103, 0.4761215735267734, 0.00958634040657933, 0.0319544680219311, 0.0031954468021931103, 0.9798119931353313, 0.07095366822667606, 0.9223976869467889, 0.3914427012886015, 0.059914699176826756, 0.03994313278455117, 0.5072777863637998, 0.9837582847334965, 0.9602339022905723, 0.03627185872650588, 0.9586134092005125, 0.15529165188732033, 0.01502822437619229, 0.01001881625079486, 0.00500940812539743, 0.791486483812794, 0.00500940812539743, 0.01001881625079486, 0.00500940812539743, 0.09048903438763199, 0.25456642747960284, 0.2774527591340623, 0.16513368532217668, 0.20738537453040953, 0.002816779280548856, 0.000704194820137214, 0.000704194820137214, 0.9875339663494375, 0.9906432143197478, 0.049413740190738936, 0.8490178996408781, 0.08984316398316171, 0.004492158199158085, 0.1296868165251923, 0.03946990068158027, 0.09021691584361204, 0.6540726398661872, 0.08457835860338628, 0.005638557240225752, 0.9886128729041909, 0.9897947847547777, 0.9821850501292811, 0.012881115411531556, 0.9348992331288015, 0.0004876886975111119, 0.029261321850666717, 0.007315330462666679, 0.02779825575813338, 0.978428407243417, 0.012464056143228241, 0.9854166780846414, 0.11866616763887464, 0.03171251031728546, 0.12378108865779165, 0.0071608894264838146, 0.6352731905494927, 0.07570083107997175, 0.0071608894264838146, 0.9681092714270401, 0.9714315469971935, 0.9588476862397134, 0.9886722590640835, 0.7221052782521281, 0.014119376949063957, 0.0988356386434477, 0.04639223854692443, 0.04235813084719187, 0.07059688474531979, 0.0020170538498662798, 0.0040341076997325595, 0.9829732627816987, 0.9654827844237235, 0.341352975172655, 0.025693234690414894, 0.10277293876165958, 0.012846617345207447, 0.0018352310493153494, 0.009176155246576747, 0.5065237696110365, 0.008687623048978892, 0.024325344537140896, 0.008687623048978892, 0.9504259615582908, 0.0034750492195915568, 0.9868210277927933, 0.9839516495353484, 0.008303389447555683, 0.0041516947237778415, 0.30745460863437957, 0.2668952256343201, 0.22905187274587172, 0.042007932392918765, 0.08981006235727461, 0.031143811946474257, 0.0106830517723371, 0.022995721611640877, 0.17965398025424587, 0.784165346244884, 0.018208173674416808, 0.007283269469766724, 0.003641634734883362, 0.0024277564899222413, 0.0012138782449611207, 0.004855512979844483, 0.9725588876112367, 0.019451177752224734, 0.9701199997097004, 0.0206408510576532, 0.9794673039100198, 0.8953812278809905, 0.07737862463169054, 0.022108178466197295, 0.5782476970097585, 0.12342045706927653, 0.006856692059404251, 0.2834099384553757, 0.004571128039602834, 0.002285564019801417, 0.042798989213703044, 0.898778773487764, 0.042798989213703044, 0.00855979784274061, 0.18835727621677106, 0.2498388797296637, 0.16488248214821208, 0.07817944810332597, 0.1066845551865762, 0.09641433278158162, 0.048137300932253435, 0.06755989840564453, 0.9896166603220029, 0.9813768477861404, 0.975329275227707, 0.6695211938966337, 0.11582434156017712, 0.11864932550066926, 0.033899807285905505, 0.05367469486935038, 0.0056499678809842505, 0.9917863996553253, 0.1903796642072586, 0.18257721895286275, 0.23992519157267223, 0.24967824814066703, 0.10884411129882203, 0.005461711678077091, 0.01404440145791252, 0.008972812042555222, 0.9755036293641283, 0.3582762235922495, 0.6412843329844465, 0.9812424191444556, 0.98991483086732, 0.0038017863795340675, 0.0019008931897670338, 0.0019008931897670338, 0.9922662450583917, 0.9969518150793804, 0.9593717853078866, 0.9909312390130475, 0.9894650888422557, 0.004088698714224197, 0.004088698714224197, 0.9183191300857234, 0.0633323537990154, 0.016323793670937118, 0.9794276202562271, 0.008898134036356581, 0.008156622866660199, 0.40115754280574256, 0.006673600527267436, 0.19798348230893395, 0.05264729304844311, 0.30995166893308757, 0.015571734563624018, 0.9798768754078226, 0.0181315617595242, 0.9730604810944655, 0.007109032242516238, 0.0924174191527111, 0.04976322569761366, 0.8483445142736044, 0.9927395769572006, 0.0308569302202416, 0.0077142325550604, 0.9565648368274896, 0.0077142325550604, 0.40512073977158397, 0.25433589043955945, 0.314286493186027, 0.018166849317111388, 0.005450054795133417, 0.1928184225699954, 0.05463188639483203, 0.6105916714716522, 0.05784552677099862, 0.02892276338549931, 0.04499096526633226, 0.006427280752333181, 0.9753383289855746, 0.9690222295180279, 0.9666521118878134, 0.020567066210379008, 0.012340239726227406, 0.9686460314222959, 0.011434713540059151, 0.9719506509050279, 0.9636557673929426, 0.0048174941309282685, 0.014452482392784806, 0.6792666724608859, 0.26977967133198305, 0.019269976523713074, 0.014452482392784806, 0.19824651647245442, 0.7929860658898177, 0.04559941079703147, 0.930227980259442, 0.01823976431881259, 0.9577698540662282, 0.37293008283790763, 0.5955749084127778, 0.005566120639371756, 0.022264482557487024, 0.891700917644664, 0.030801413390143834, 0.06776310945831643, 0.006160282678028766, 0.003080141339014383, 0.9611743256341708, 0.019223486512683415, 0.9786824526724608, 0.9576368242498279, 0.031397928663928786, 0.9685435603382111, 0.9743543848846965, 0.01637570394764196, 0.9841830136576448, 0.016764633039170387, 0.9723487162718825, 0.9858122818939824, 0.011636907206168426, 0.9855340132181758, 0.9723150974787154, 0.009079112307914911, 0.18612180231225567, 0.022697780769787276, 0.02723733692374473, 0.7490267654029802, 0.9930669436043726, 0.9693664575238822, 0.024855550192920055, 0.9960237577367664, 0.9019277040803338, 0.006307186741820517, 0.0756862409018462, 0.006307186741820517, 0.006307186741820517, 0.9617418464582889, 0.028527866894660785, 0.5087469596214507, 0.050716207812730285, 0.3676925066422946, 0.01109417045903475, 0.0015848814941478214, 0.03169762988295643, 0.3224440717405716, 0.6671256656701482, 0.9828723910154571, 0.9888715076116048, 0.9713432976088962, 0.3371913892477735, 0.0445092633807061, 0.12678396235716283, 0.005395062227964376, 0.011464507234424298, 0.31695990589290707, 0.000674382778495547, 0.157805570167958, 0.0023437224636247886, 0.9937383245769104, 0.9737259971804612, 0.6284982093157754, 0.2188252906838709, 0.038968887382059204, 0.09092740389147148, 0.008992820165090586, 0.002997606721696862, 0.005995213443393724, 0.002997606721696862, 0.976934806566797, 0.9944506982016418, 0.0019197889926672622, 0.0019197889926672622, 0.22227073230387098, 0.019904841698854116, 0.7464315637070295, 0.006634947232951372, 0.006634947232951372, 0.9876596725089577, 0.8321700843801548, 0.009297989769610668, 0.1348208516593547, 0.004648994884805334, 0.013946984654416003, 0.9714295119508832, 0.9889131930470585, 0.9051705273702438, 0.010649065027885221, 0.07986798770913917, 0.9767209769483991, 0.9896453328672582, 0.07616226435009314, 0.9139471722011178, 0.9743302952732784, 0.009942145870135493, 0.009942145870135493, 0.9697357285990014, 0.01426081953822061, 0.1325614258350004, 0.11317184414570185, 0.08309820723985101, 0.024138050674432913, 0.0039570574876119525, 0.13968412931270194, 0.0007914114975223906, 0.5029420066754792, 0.8916359514466439, 0.040108191587565296, 0.009255736520207376, 0.04627868260103688, 0.006170491013471584, 0.006170491013471584, 0.46643118693223545, 0.280511063469736, 0.16145694932269689, 0.070127765867434, 0.01141614793190786, 0.009785269655921023, 0.9895683129130465, 0.9807589846037122, 0.9436028970815518, 0.05370097788268993, 0.9845638748022358, 0.9595243389498239, 0.03308704617068358, 0.026747674330436146, 0.7266451526435153, 0.15379912740000784, 0.07244161797826455, 0.0066869185826090366, 0.013373837165218073, 0.10908688547021986, 0.038053564698913904, 0.7458498680987125, 0.09893926821717615, 0.0025369043132609267, 0.0050738086265218535, 0.4792328783285177, 0.5195643581878484, 0.016727339199804837, 0.008124707611333779, 0.0014337719314118432, 0.0019116959085491243, 0.0033454678399609675, 0.0014337719314118432, 0.967318129725857, 0.0004779239771372811, 0.04420264044820767, 0.928255449412361, 0.022101320224103833, 0.017823502925476836, 0.008694391670964311, 0.001738878334192862, 0.0021735979177410778, 0.00391247625193394, 0.0013041587506446466, 0.964208036309942, 0.0004347195835482155, 0.1364431875625972, 0.1016635515172293, 0.3049906545516879, 0.05083177575861465, 0.37454992664242376, 0.008026069856623366, 0.018727496332121188, 0.0026753566188744554, 0.9794530506959128, 0.020093757188545825, 0.9645003450501997, 0.010046878594272913, 0.13157573799479763, 0.10377804686913615, 0.41140582865978975, 0.31504049942416334, 0.011119076450264588, 0.009265897041887157, 0.009265897041887157, 0.009265897041887157, 0.037291300454885136, 0.10673027371570573, 0.08229804238319478, 0.6660997805389828, 0.10544436680346832, 0.0012859069122374185, 0.9833294648181768, 0.6359842158381346, 0.049056633728561345, 0.08935315429130816, 0.12264158432140336, 0.04555258846223553, 0.04555258846223553, 0.0035040452663258103, 0.008760113165814525, 0.015752807859679602, 0.5011362000360574, 0.021660110807059454, 0.44993957449209865, 0.004922752456149876, 0.0019691009824599503, 0.0029536514736899257, 0.0019691009824599503, 0.04661172544600326, 0.04272741499216966, 0.9050443357432301, 0.23514429176960777, 0.03359204168137254, 0.6345163428703702, 0.08211387966557732, 0.0037324490757080597, 0.014929796302832239, 0.37221869937537616, 0.0018990749968131437, 0.05697224990439431, 0.5241446991204276, 0.03228427494582344, 0.007596299987252575, 0.0018990749968131437, 0.005697224990439431, 0.8778886304468986, 0.004525199126014941, 0.10860477902435858, 0.004525199126014941, 0.45266368610310453, 0.1598857973850415, 0.022840828197863074, 0.319771594770083, 0.014535072489549227, 0.024917267124941533, 0.993396373624249, 0.9837934035775451, 0.9878183685562533, 0.8983374178803178, 0.046216716032427926, 0.04910526078445467, 0.005777089504053491, 0.7978806425626414, 0.20063665280814957, 0.9612720017017627, 0.013444363660164514, 0.02016654549024677, 0.8853341903687753, 0.035542613481958134, 0.029080320121602107, 0.006462293360356024, 0.025849173441424095, 0.009693440040534036, 0.003231146680178012, 0.9868212824395545, 0.006407930405451652, 0.9881061385925348, 0.969850810994706, 0.9906464235365297, 0.008546243308611512, 0.985666728259861, 0.0028487477695371705, 0.9567336375952707, 0.9822456972308781, 0.9614573107377713, 0.02045653852633556, 0.9804927381644691, 0.016941559190746767, 0.9457707243358346, 0.0021994668007810107, 0.028593068410153143, 0.008797867203124043, 0.008797867203124043, 0.0021994668007810107, 0.0021994668007810107, 0.004398933601562021, 0.9871421921071225, 0.9866769047542542, 0.967346453533163, 0.9753937643338758, 0.047358088705063014, 0.9065691266397777, 0.03382720621790215, 0.013530882487160861, 0.2890510526085605, 0.0043141948150531425, 0.694585365223556, 0.0043141948150531425, 0.0043141948150531425, 0.9845713101481052, 0.09036921201245329, 0.04699199024647571, 0.1346501258985554, 0.547637424795467, 0.17079781070353672, 0.0036147684804981317, 0.0027110763603735988, 0.0027110763603735988, 0.003829001942205056, 0.12635706409276684, 0.015316007768820224, 0.7007073554235252, 0.1493310757459972, 0.9845407682417625, 0.9756529148152115, 0.32545404063030625, 0.002582968576431002, 0.007748905729293007, 0.007748905729293007, 0.6586569869899055, 0.4256486511837799, 0.38690635890370284, 0.030993833824061644, 0.13637286882587124, 0.0030993833824061643, 0.001033127794135388, 0.000516563897067694, 0.015496916912030822, 0.992844678181747, 0.005525035862310359, 0.07735050207234502, 0.8232303434842435, 0.0939256096592761, 0.005525035862310359, 0.9707243979094379, 0.962154726785776, 0.03137461065605791, 0.009876534041374221, 0.9679003360546736, 0.009876534041374221, 0.009876534041374221, 0.009876534041374221, 0.9712981643497736, 0.19041438008798953, 0.010880821719313687, 0.008160616289485266, 0.5902845782727676, 0.14417088778090636, 0.051683903166740014, 0.9859063730951125, 0.10095789608352065, 0.14634981835363073, 0.05478335446392594, 0.035217870726809535, 0.19643745672064872, 0.4547018420505853, 0.004695716096907937, 0.00626095479587725, 0.9969990014227434, 0.9797113219748771, 0.8336077345541342, 0.08336077345541341, 0.04001317125859844, 0.0366787403203819, 0.003334430938216537, 0.9708030842316632, 0.992864709133307, 0.9897343062968648, 0.38467953163981905, 0.565478911510534, 0.042314748480380096, 0.9895979910398673, 0.9858416477771578, 0.9958825681030173, 0.07723764944083887, 0.9116575015967867, 0.0063309548721999075, 0.005064763897759926, 0.012062745866773012, 0.977082415208614, 0.981090506461185, 0.9851543416271452, 0.0037949054575671833, 0.13282169101485142, 0.01138471637270155, 0.03794905457567183, 0.7931352406315413, 0.018974527287835916, 0.10511007328427363, 0.03303459446077171, 0.00900943485293774, 0.003003144950979247, 0.6847170488232682, 0.15616353745092082, 0.00900943485293774, 0.9743254845516559, 0.8800288810716831, 0.06929361268280969, 0.04157616760968582, 0.021988580822828153, 0.24187438905110967, 0.010994290411414077, 0.7146288767419149, 0.20363849005710846, 0.013967983072509243, 0.021319553110672004, 0.11688996360678788, 0.027935966145018486, 0.6079748421560602, 0.000735157003816276, 0.00735157003816276, 0.16947246954733686, 0.032062359103550216, 0.0030535580098619256, 0.01068745303451674, 0.012214232039447702, 0.0015267790049309628, 0.7710233974901362, 0.0036101850516761904, 0.9928008892109523, 0.9921617447544352, 0.9890813741077915, 0.9957710839796352, 0.4248959436493936, 0.14719609476425422, 0.26252499375480387, 0.15478352232942194, 0.009104913078201292, 0.003034971026067097, 0.20995872300437826, 0.004691815039203983, 0.23107189068079617, 0.37769111065592065, 0.15600285005353245, 0.005864768799004979, 0.005864768799004979, 0.009383630078407966, 0.9306211653792433, 0.05857056285603629, 0.04750875946500741, 0.942257062722647, 0.9765595503388415, 0.03615755708535239, 0.9280439651907114, 0.012052519028450798, 0.024105038056901597, 0.9685606893934812, 0.9616697429007016, 0.004312420371752025, 0.0021562101858760125, 0.030186942602264177, 0.9805562941843108, 0.9773410249608502, 0.9821424704246067, 0.9819849502264455, 0.010558977959424145, 0.010558977959424145, 0.9795458812471685, 0.8090579492567415, 0.07394615665249787, 0.004349773920735169, 0.08264570449396821, 0.013049321762205508, 0.013049321762205508, 0.9784574913740449, 0.015053192174985307, 0.5657712660378513, 0.014944901367037583, 0.17933881640445098, 0.14304405594164543, 0.023484845005344774, 0.05977960546815033, 0.010674929547883988, 0.1502016621960618, 0.5194700086058743, 0.005964686946414006, 0.1946656921602389, 0.08187888444622862, 0.03795709874990731, 0.0010844885357116374, 0.009218152553548917, 0.11863501794346419, 0.7711276166325173, 0.007414688621466512, 0.09639095207906466, 0.9816282495424127, 0.9803507807223754, 0.9730134313218969, 0.0190786947318019, 0.9679999285850589, 0.03337930788224341, 0.9633216899101239, 0.01926643379820248, 0.01926643379820248, 0.9957307821548549, 0.025900581364776694, 0.2534556890696005, 0.10627460766340913, 0.4257151111623217, 0.17842622717957277, 0.0014389211869320385, 0.0014389211869320385, 0.007400166104221913, 0.9445623399498411, 0.052966112520551833, 0.008827685420091972, 0.9693160455015419, 0.9814710344791341, 0.014567617859183405, 0.014567617859183405, 0.9614627787061046, 0.9295395052857514, 0.0639058409883954, 0.9667689366352686, 0.9923718553509501, 0.009527136655990068, 0.009527136655990068, 0.009527136655990068, 0.9717679389109869, 0.9758268903161387, 0.9780729171051248, 0.9482090262125675, 0.03886102566444949, 0.9805319980288192, 0.9961133879012627, 0.9881520721221109, 0.018378817639285592, 0.9556985172428507, 0.09745706607683176, 0.005023560107053184, 0.006028272128463821, 0.0020094240428212735, 0.08841465788413604, 0.4440827134635014, 0.3556680555793654, 0.9409502905361419, 0.016903298632385783, 0.016903298632385783, 0.005634432877461928, 0.016903298632385783, 0.9873693255366227, 0.9862048424350983, 0.007044320303107845, 0.9676612524858037, 0.9856564320369083, 0.0007820554801175996, 0.0007820554801175996, 0.0015641109602351991, 0.0015641109602351991, 0.0015641109602351991, 0.9924284042692338, 0.9479718333501116, 0.995178557512855, 0.9564512044115736, 0.03020372224457601, 0.2238417013260492, 0.08303805049192148, 0.1119208506630246, 0.032493150192491015, 0.5343318031654077, 0.00361035002138789, 0.010831050064163671, 0.15137174401176884, 0.055941731482610224, 0.2731272772386264, 0.5166383436923414, 0.9806480587946571, 0.009905535947420779, 0.967318885426808, 0.01434065233417654, 0.9751643587240046, 0.8574653480207148, 0.13508015756490713, 0.17645655409194716, 0.08972367157217652, 0.5263788732234356, 0.008972367157217652, 0.13757629641067065, 0.0029907890524058837, 0.005981578104811767, 0.05383420294330591, 0.9816474439093663, 0.01203829414031442, 0.00601914707015721, 0.001719756305759203, 0.004299390764398007, 0.004299390764398007, 0.9682228001424312, 0.0025796344586388044, 0.9774492208109126, 0.9917643767737881, 0.9647753861051539, 0.02120385463967371, 0.9902949484507726, 0.005859733422785637, 0.984450261056593, 0.9856582161080042, 0.9818311251407797, 0.9635401177229165, 0.9935085432169674, 0.9839010957125763, 0.9716293761556212, 0.01778501905997068, 0.9603910292384167, 0.015722268853703536, 0.9747806689296192, 0.18532085003793855, 0.08733511323626988, 0.621996416219288, 0.06177361667931285, 0.014910872991558273, 0.008520498852319014, 0.023431371843877287, 0.9725248115028435, 0.9904046737111374, 0.9925149849261009, 0.9811196802104094, 0.015718049005581176, 0.015718049005581176, 0.015718049005581176, 0.9588009893404518, 0.007818282061829515, 0.001563656412365903, 0.9882308526152507, 0.001563656412365903, 0.9860452252694586, 0.028254061022565558, 0.00807258886359016, 0.01210888329538524, 0.07668959420410651, 0.00403629443179508, 0.01210888329538524, 0.00403629443179508, 0.8556944195405569, 0.5561515678673659, 0.19668774961162938, 0.19668774961162938, 0.004521557462336308, 0.009043114924672616, 0.004521557462336308, 0.033911680967522305, 0.07934998777997034, 0.09404442996144632, 0.020572219054066383, 0.7817443240545225, 0.005877776872590395, 0.014694442181475987, 0.9824361832070803, 0.9955112014541523, 0.7332989329155872, 0.06698403714132768, 0.11281522044855188, 0.021152853834103476, 0.05288213458525869, 0.0035254756390172464, 0.007050951278034493, 0.9756041813409155, 0.017115862830542377, 0.45739882446023866, 0.0634916215256422, 0.3388379393664374, 0.012957473780743306, 0.11208214820342959, 0.011661726402668974, 0.002591494756148661, 0.0012957473780743304, 0.9906967585853612, 0.031424132982056756, 0.10998446543719864, 0.20687554213187362, 0.0026186777485047294, 0.638957370635154, 0.007856033245514189, 0.0026186777485047294, 0.030045228264751613, 0.9464246903396758, 0.015022614132375807, 0.05895478577437209, 0.8253670008412093, 0.014738696443593022, 0.01965159525812403, 0.01965159525812403, 0.0638676845889031, 0.9766661843473731, 0.9631050530570414, 0.02214034604728831, 0.9844535204018187, 0.9989953768957512, 0.9761850231607475, 0.010727307946821401, 0.06122884384427438, 0.9184326576641157, 0.7892174993926163, 0.005405599310908331, 0.037839195176358316, 0.013513998277270827, 0.12703158380634577, 0.018919597588179158, 0.0027027996554541654, 0.0027027996554541654, 0.9721858866378096, 0.016477726892166263, 0.9958602757985071, 0.97609356612629, 0.992288827439454, 0.6494162498623357, 0.08677247877269809, 0.1046779109003977, 0.007575375130949833, 0.13429074095774704, 0.008952716063849803, 0.007575375130949833, 0.22409723124201386, 0.7189039178243805, 0.01165305602458472, 0.0026891667749041662, 0.03854472377362638, 0.0026891667749041662, 0.0008963889249680554, 0.0008963889249680554, 0.40905721665341954, 0.5884682765891299, 0.9741854825627065, 0.9917870721963362, 0.003083780365364139, 0.9960610580126169, 0.9750667641319064, 0.9820128253848016, 0.013132201545380176, 0.052528806181520706, 0.9192541081766122, 0.006243151262454852, 0.05618836136209367, 0.9302295381057729, 0.9845673320201196, 0.020466320123045775, 0.9721502058446743, 0.03944035293886596, 0.9367083822980665, 0.00986008823471649, 0.9801805738879814, 0.9787180695833672, 0.9921570002181314, 0.9642007423895743, 0.9755640237814671, 0.038956465182199494, 0.9544333969638875, 0.9821801721137775, 0.007958519246128743, 0.9868563865199641, 0.2687372263118351, 0.025194114966734543, 0.6004597400405066, 0.050388229933469086, 0.04199019161122424, 0.012597057483367272, 0.004199019161122424, 0.11027355750276198, 0.027568389375690495, 0.027568389375690495, 0.020676292031767872, 0.7994832918950243, 0.006892097343922624, 0.0061335462410374575, 0.21099399069168853, 0.031894440453394776, 0.0012267092482074915, 0.0012267092482074915, 0.7482926414065698, 0.969326812853359, 0.9534779574763107, 0.015630786188136243, 0.015630786188136243, 0.0016561008822116646, 0.023185412350963306, 0.003312201764423329, 0.9704751169760355, 0.978540664742388, 0.975994191524423, 0.9972182064213282, 0.002131419960363901, 0.9697960819655751, 0.021314199603639013, 0.002131419960363901, 0.002131419960363901, 0.002131419960363901, 0.9880373400868347, 0.8864772976408304, 0.06712230191014121, 0.016201934943827188, 0.002314562134832455, 0.02777474561798946, 0.02092680656154623, 0.9417062952695803, 0.03139020984231934, 0.9836420888400206, 0.9827555552579202, 0.9615296062946794, 0.392608442568059, 0.15770046228675175, 0.3285426297640661, 0.09199193633393851, 0.009856278892921984, 0.003285426297640661, 0.016427131488203305, 0.003285426297640661, 0.15873299403145594, 0.002334308735756705, 0.023343087357567047, 0.002334308735756705, 0.00933723494302682, 0.8030022051003065, 0.9697222412028091, 0.9873266608901119, 0.9801954018271477, 0.9558441532199125, 0.0028279412817157176, 0.03676323666230433, 0.0028279412817157176, 0.9695663277845736, 0.9718673118006538, 0.026090397632232316, 0.020190275919435473, 0.020190275919435473, 0.020190275919435473, 0.49264273243422557, 0.040380551838870946, 0.4038055183887095, 0.7523256912252794, 0.003918362975131664, 0.07053053355236993, 0.14106106710473987, 0.007836725950263327, 0.019591814875658316, 0.003918362975131664, 0.003918362975131664, 0.20463879578613822, 0.09367268821196467, 0.1441118280184072, 0.05043913980644252, 0.10520163445343725, 0.11240722585435761, 0.2882236560368144, 0.9757348402238486, 0.029743270499590427, 0.9666562912366888, 0.008177672395239078, 0.21261948227621602, 0.7605235327572343, 0.008177672395239078, 0.7992182575181179, 0.10860457157911707, 0.036201523859705695, 0.013923663022963727, 0.033416791255112946, 0.008354197813778236, 0.0027847326045927455, 0.0027847326045927455, 0.9743129002499737, 0.9930208230107012, 0.9787042415787995, 0.14168476216910267, 0.03778260324509404, 0.00944565081127351, 0.8028803189582484, 0.00944565081127351, 0.9884985647090042, 0.9539341724290049, 0.024910392635429764, 0.9652777146229033, 0.9733079700448812, 0.11251909894423849, 0.018753183157373083, 0.7836151533616609, 0.08037078496017035, 0.0026790261653390117, 0.9805225352746965, 0.9695718340296124, 0.9963580939665404, 0.04227095701526466, 0.0011741932504240184, 0.0011741932504240184, 0.003522579751272055, 0.951096532843455, 0.0011741932504240184, 0.30353649755405854, 0.6326724587572546, 0.026818485727667825, 0.014628264942364268, 0.006095110392651778, 0.015847287020894624, 0.9806823544127594, 0.9647914373253171, 0.007810372958535961, 0.007810372958535961, 0.9762966198169951, 0.2866229347161929, 0.007077109499165256, 0.13092652573455724, 0.5590916504340552, 0.010615664248747884, 0.003538554749582628, 0.003538554749582628, 0.9786452250391974, 0.979633114828562, 0.01588277699076763, 0.9688493964368254, 0.7796072091905428, 0.04528838559613112, 0.15527446490102098, 0.003234884685437937, 0.003234884685437937, 0.012939538741751747, 0.9852144087149372, 0.4707003268583663, 0.07241543490128713, 0.06517389141115841, 0.043449260940772276, 0.0579323479210297, 0.014483086980257425, 0.2751786526248911, 0.9864574959552814, 0.8562485274610694, 0.042035680110148556, 0.0036552765313172656, 0.09686482807990754, 0.9940600149307526, 0.2770327331662681, 0.0681228032376069, 0.3837584582385189, 0.07493508356136759, 0.09310116442472943, 0.00454152021584046, 0.09083040431680921, 0.0068122803237606906, 0.23433081293844762, 0.007898791447363404, 0.5028897221488033, 0.2264320214910842, 0.0052658609649089356, 0.007898791447363404, 0.010531721929817871, 0.0026329304824544678, 0.9905871098622956, 0.9867810935928526, 0.12139589043503142, 0.08365094971153426, 0.17342270062147347, 0.05304694371950953, 0.10507375390595157, 0.025503338326687275, 0.43661715215288616], \"Term\": [\"access\", \"accountable\", \"accountable\", \"accountable\", \"accountable\", \"accuse\", \"accuse\", \"accuse\", \"accuse\", \"accuse\", \"action\", \"action\", \"action\", \"action\", \"action\", \"action\", \"action\", \"action\", \"actively\", \"activist\", \"activist\", \"activist\", \"activist\", \"activist\", \"activist\", \"activist\", \"activists_hail\", \"adapt\", \"add\", \"address\", \"address\", \"address\", \"address\", \"address\", \"address\", \"adopt\", \"adopt\", \"agency\", \"agency\", \"agm\", \"aim\", \"allege\", \"allege\", \"allege\", \"allege\", \"almost\", \"almost\", \"almost\", \"almost\", \"alter\", \"amazing\", \"ambitious\", \"ambitious\", \"america\", \"amp\", \"amp\", \"amp\", \"amp\", \"amp\", \"amp\", \"amp\", \"amp\", \"appeal\", \"appoint\", \"argue\", \"argue\", \"assessment\", \"associate\", \"attack\", \"attempt\", \"attempt\", \"attorney\", \"back\", \"back\", \"back\", \"back\", \"back\", \"back\", \"back_better\", \"bad\", \"bad\", \"bad\", \"bad\", \"bad\", \"bad\", \"base\", \"bask\", \"bask\", \"battle\", \"battle\", \"battle\", \"battle\", \"be\", \"behavior\", \"bid\", \"bid\", \"biden\", \"biden\", \"biden\", \"biden\", \"biden\", \"biden\", \"biden\", \"biden\", \"big\", \"big\", \"big\", \"big\", \"big\", \"big\", \"big\", \"big\", \"bipartisan\", \"black\", \"blame\", \"blame\", \"blame\", \"blame\", \"block\", \"block\", \"block\", \"block\", \"block\", \"block\", \"bloomberg\", \"bloomberg_businessweek\", \"blow\", \"blow\", \"board\", \"board\", \"board\", \"board\", \"board\", \"boardroom\", \"boardroom\", \"breakthrough_victorie\", \"business\", \"business\", \"business\", \"business\", \"business\", \"business\", \"business\", \"camera_telle\", \"campaigner\", \"candidate\", \"capital\", \"carbon\", \"carbon\", \"carbon\", \"carbon\", \"carbon\", \"carbon\", \"carbon\", \"carbon\", \"carbon_dioxide\", \"care_job\", \"case\", \"case\", \"case\", \"case\", \"case\", \"case\", \"case\", \"catch\", \"catch\", \"catch\", \"catch\", \"catch\", \"ccs\", \"challenge\", \"challenge\", \"challenge\", \"change\", \"change\", \"change\", \"change\", \"change\", \"change\", \"change\", \"change\", \"chevron\", \"chevron\", \"chevron\", \"chevron\", \"chevron\", \"chevron\", \"chevron\", \"chevron\", \"choice\", \"choice\", \"cite\", \"cite\", \"citizen\", \"city\", \"city\", \"city\", \"clean\", \"clean\", \"clean\", \"clean\", \"clean\", \"clean\", \"clear\", \"clear\", \"clear\", \"clear\", \"climate\", \"climate\", \"climate\", \"climate\", \"climate\", \"climate\", \"climate\", \"climate\", \"climatechange\", \"climaterelate\", \"combine\", \"come\", \"come\", \"come\", \"come\", \"come\", \"come\", \"committing_ecocide\", \"company\", \"company\", \"company\", \"company\", \"company\", \"company\", \"company\", \"company\", \"companys\", \"concern\", \"concern\", \"confront\", \"contribute\", \"corporation\", \"corporation\", \"corporation\", \"corporation\", \"could_slow\", \"county\", \"coup\", \"court\", \"court\", \"court\", \"covid\", \"covid\", \"criminal\", \"criminal\", \"crisis\", \"crisis\", \"crisis\", \"crisis\", \"crisis\", \"crisis\", \"crisis\", \"crisis\", \"criticize\", \"crucial\", \"crucial\", \"damage\", \"damage\", \"damage\", \"damage\", \"dark\", \"datum\", \"datum\", \"datum\", \"datum\", \"day\", \"day\", \"day\", \"day\", \"day\", \"decade\", \"decade\", \"decade\", \"decade\", \"decade\", \"decade\", \"decade\", \"deceptive\", \"deep\", \"defeat\", \"defeat\", \"defeat\", \"defend\", \"deliver\", \"deliver\", \"demonstrate\", \"denial\", \"denial\", \"denial\", \"denial\", \"denial\", \"denial\", \"denialism\", \"denialism\", \"describe\", \"describe\", \"describe\", \"detailed\", \"die\", \"die\", \"die\", \"die\", \"director\", \"director\", \"director\", \"director\", \"director\", \"disaster\", \"disaster\", \"disclose\", \"disclosure\", \"disclosure\", \"div\", \"divest\", \"divest\", \"dividend\", \"dow_lead\", \"dow_lead\", \"downplay\", \"downplay\", \"drama\", \"draw\", \"drive\", \"drive\", \"drive\", \"drive\", \"drive\", \"dupe\", \"dutch\", \"dutch\", \"earning\", \"economy\", \"economy\", \"economy\", \"economy\", \"economy\", \"ecosearch\", \"effort\", \"effort\", \"effort\", \"effort\", \"effort\", \"effort\", \"effort\", \"election\", \"election\", \"electric_car\", \"electrification\", \"email\", \"emission\", \"emission\", \"emission\", \"emission\", \"emission\", \"emission\", \"emission\", \"emission\", \"end\", \"end\", \"end_week\", \"energy\", \"energy\", \"energy\", \"energy\", \"energy\", \"energy\", \"energy\", \"energy\", \"engage\", \"engine\", \"engine\", \"engine\", \"enough\", \"enough\", \"enough\", \"enough\", \"enough\", \"entire\", \"environmental\", \"environmental\", \"environmental\", \"environmental\", \"environmental\", \"esg\", \"essential\", \"evil\", \"evil\", \"evil\", \"excellent\", \"exclusive\", \"expand\", \"expand\", \"expect\", \"expect\", \"expect\", \"expose\", \"expose\", \"exxon\", \"exxon\", \"exxon\", \"exxon\", \"exxon\", \"exxon\", \"exxon\", \"exxon\", \"exxonmobil\", \"exxonmobil\", \"exxonmobil\", \"exxonmobil\", \"exxonmobil\", \"exxonmobil\", \"face\", \"face\", \"face\", \"face\", \"face\", \"face\", \"facility\", \"fake\", \"fall\", \"fall\", \"fast\", \"field\", \"field\", \"fight\", \"fight\", \"fight\", \"fight\", \"fight\", \"fight\", \"find\", \"find\", \"find\", \"find\", \"find\", \"find\", \"force\", \"force\", \"fossil\", \"fossil\", \"fossil\", \"fossil\", \"fossil\", \"fossil\", \"fossil\", \"fossil\", \"fraud\", \"fraud\", \"fraud\", \"fuel\", \"fuel\", \"fuel\", \"fuel\", \"fuel\", \"fuel\", \"fuel\", \"fuel\", \"fund\", \"fund\", \"fund\", \"fund\", \"fund\", \"fund\", \"fund\", \"fund\", \"fundamental\", \"funding\", \"funding\", \"funding\", \"future\", \"future\", \"future\", \"future\", \"future\", \"future\", \"future\", \"future\", \"gas\", \"gas\", \"gas\", \"gas\", \"gas\", \"gas\", \"gasoline\", \"get\", \"get\", \"get\", \"get\", \"get\", \"get\", \"get\", \"get\", \"giant\", \"giant\", \"giant\", \"giant\", \"giant\", \"giant\", \"giant\", \"giant\", \"giants_toward\", \"giants_toward\", \"giants_toward\", \"global\", \"global\", \"global\", \"global\", \"global\", \"global\", \"go\", \"go\", \"go\", \"go\", \"go\", \"go\", \"go\", \"go\", \"goal\", \"goal\", \"goal\", \"goal\", \"good\", \"good\", \"good\", \"good\", \"good\", \"good\", \"government_give\", \"grade\", \"gravity\", \"great\", \"great\", \"great\", \"great\", \"greenpeace\", \"greenpeace\", \"ground\", \"ground\", \"ground\", \"group\", \"group\", \"group\", \"group\", \"group\", \"group\", \"group\", \"grow\", \"grow\", \"half\", \"happy\", \"harvard_researcher\", \"hedge_fund\", \"hedge_fund\", \"hedge_fund\", \"held_accountable\", \"here\", \"highlight\", \"highlight\", \"historic\", \"historic\", \"hold\", \"hold\", \"hold\", \"hold\", \"hold\", \"hold\", \"hold\", \"hold\", \"hour\", \"however\", \"hurt\", \"icymi\", \"important\", \"important\", \"important\", \"important\", \"increase\", \"increase\", \"increase\", \"increase\", \"increase\", \"industrial\", \"industry\", \"industry\", \"industry\", \"industry\", \"industry\", \"industry\", \"industry\", \"industry\", \"infrastructure\", \"infrastructure\", \"infrastructure\", \"infrastructure\", \"infrastructure\", \"install\", \"international\", \"investment\", \"investment\", \"investment\", \"investment\", \"investment\", \"investor\", \"investor\", \"investor\", \"investor\", \"investor\", \"investor\", \"investor\", \"investor\", \"investor_oust\", \"issue\", \"issue\", \"issue\", \"issue\", \"issue\", \"jet\", \"job\", \"job\", \"join\", \"join\", \"join\", \"join\", \"join\", \"justice_urge\", \"keep\", \"keep\", \"keep\", \"keep\", \"keep\", \"keep\", \"kind\", \"know\", \"know\", \"know\", \"know\", \"know\", \"know\", \"know\", \"know\", \"landmark\", \"language\", \"large\", \"large\", \"large\", \"large\", \"large\", \"largely\", \"launch\", \"law\", \"lawsuit\", \"lawsuit\", \"lawsuit\", \"leadership\", \"leak\", \"leaked_document\", \"least\", \"least\", \"least\", \"least\", \"leave\", \"leave\", \"lee_raymond\", \"legal\", \"let\", \"let\", \"let\", \"let\", \"let\", \"let\", \"lie\", \"lie\", \"lie\", \"lie\", \"lie\", \"lie\", \"lie\", \"litigation\", \"little\", \"little\", \"little\", \"lobbying\", \"lobbying\", \"lobbying\", \"lobbying\", \"lobbyist\", \"lobbyist\", \"lobbyist\", \"lobbyist\", \"lobbyist\", \"lobbyist\", \"lobbyist\", \"lobbyist\", \"lose\", \"lose\", \"lose\", \"lose\", \"lose\", \"lose\", \"lose\", \"loss\", \"loss\", \"lowcarbon\", \"lower\", \"lucrative\", \"major\", \"major\", \"major\", \"major\", \"major\", \"major\", \"make\", \"make\", \"make\", \"make\", \"make\", \"make\", \"make\", \"make\", \"management\", \"management\", \"massive\", \"massive\", \"matter\", \"measure\", \"measure\", \"measure\", \"measure\", \"meat\", \"member\", \"member\", \"member\", \"member\", \"mess\", \"messaging\", \"misrepresent\", \"moment\", \"moment\", \"moment\", \"mounts_feeble\", \"much\", \"much\", \"much\", \"much\", \"much\", \"much\", \"national\", \"national\", \"need\", \"need\", \"need\", \"need\", \"need\", \"need\", \"need\", \"new\", \"new\", \"new\", \"new\", \"new\", \"new\", \"new\", \"new\", \"next\", \"next\", \"next\", \"next\", \"nominee\", \"notice\", \"number\", \"number\", \"offer\", \"offer\", \"official\", \"official\", \"official\", \"offshore_drille\", \"oil\", \"oil\", \"oil\", \"oil\", \"oil\", \"oil\", \"oil\", \"oil\", \"old\", \"old\", \"old\", \"open\", \"operate\", \"opinion\", \"opinion\", \"opinion\", \"order\", \"order\", \"overhaul\", \"pandemic\", \"pass\", \"pass\", \"pass\", \"pass\", \"pause\", \"penalty\", \"pension_fund\", \"pension_fund\", \"persuade\", \"petition\", \"petroleum\", \"pick\", \"pick\", \"plan\", \"plan\", \"plan\", \"plan\", \"plan\", \"plan\", \"plan\", \"pledge\", \"pledge\", \"pledge\", \"pledge\", \"pledge\", \"power_shift\", \"powerful_signal\", \"powerful_signal\", \"practice\", \"present\", \"pressure\", \"pressure\", \"pressure\", \"pressure\", \"pressure\", \"pressure\", \"pricing\", \"proclimate_campaign\", \"producer\", \"producer\", \"product\", \"product\", \"product\", \"product\", \"product\", \"product\", \"product\", \"project\", \"project\", \"project\", \"project\", \"proposal\", \"proposal\", \"propose\", \"protect\", \"protect\", \"proxy\", \"proxy\", \"public\", \"public\", \"public\", \"public\", \"public\", \"public\", \"public\", \"public\", \"pursue\", \"push\", \"push\", \"push\", \"push\", \"push\", \"push\", \"push\", \"pushback\", \"quickly\", \"quit\", \"quit\", \"rating\", \"rating\", \"reality\", \"rebellion\", \"rebuke\", \"receipt\", \"reckon\", \"referendum\", \"reflect\", \"remain\", \"remain\", \"remove\", \"remove\", \"report\", \"report\", \"report\", \"report\", \"report\", \"report\", \"report\", \"respond\", \"responsibility\", \"result\", \"return\", \"reuter\", \"reuter\", \"reuter\", \"reuter\", \"reveal\", \"reveal\", \"reveal\", \"reveal\", \"revolt\", \"rise\", \"rise\", \"rise\", \"rise\", \"rise\", \"rise\", \"rise\", \"rise\", \"risk\", \"risk\", \"risk\", \"risk\", \"risk\", \"risk\", \"risk\", \"role\", \"role\", \"role\", \"role\", \"role\", \"role\", \"royal_dutch\", \"rule\", \"s\", \"s\", \"s\", \"s\", \"s\", \"s\", \"s\", \"samp\", \"samp\", \"say\", \"say\", \"say\", \"say\", \"say\", \"say\", \"say\", \"say\", \"say_youre\", \"science\", \"science\", \"science\", \"science\", \"science\", \"science\", \"science\", \"scientific\", \"scientific\", \"scientific\", \"scientist\", \"scientist\", \"scientist\", \"scientist\", \"scientist\", \"scientist\", \"scientist_dr\", \"score\", \"score\", \"sea\", \"seat\", \"secret\", \"secret\", \"secretly_recorde\", \"secretly_recorde\", \"see\", \"see\", \"see\", \"see\", \"see\", \"see\", \"see\", \"see\", \"seriously\", \"seriously\", \"setback\", \"shadow_group\", \"shake\", \"shareholder\", \"shareholder\", \"shareholder\", \"shareholder\", \"shareholder\", \"shareholder\", \"shareholder\", \"shell\", \"shell\", \"shell\", \"shell\", \"shell\", \"shell\", \"shell\", \"shell\", \"shift\", \"shift\", \"shock\", \"shows_yearly\", \"sign\", \"sign\", \"single\", \"slash\", \"social_media\", \"social_media\", \"social_media\", \"solar\", \"solar\", \"solar\", \"soul\", \"speed\", \"speed\", \"spending\", \"spending\", \"spending\", \"spends_million\", \"spent_million\", \"stake\", \"stakeholder\", \"stall\", \"stance\", \"stance\", \"steer\", \"sting\", \"sting\", \"stop\", \"stop\", \"stop\", \"stop\", \"stop\", \"stop\", \"stop\", \"storage\", \"storage\", \"storage\", \"storage\", \"storage\", \"storage\", \"strategy\", \"strategy\", \"strategy\", \"strategy\", \"strategy\", \"strategy\", \"strike\", \"strong\", \"strong\", \"strong\", \"study\", \"study\", \"study\", \"study\", \"stunned\", \"subpoena\", \"subsidy\", \"sue\", \"sue\", \"sue\", \"sue\", \"sue\", \"sue\", \"suit\", \"support\", \"support\", \"support\", \"support\", \"support\", \"supreme_court\", \"supreme_court\", \"supreme_court\", \"surprise\", \"suspend\", \"sustainable\", \"take\", \"take\", \"take\", \"take\", \"take\", \"take\", \"take\", \"take\", \"talk\", \"talk\", \"talk\", \"talk\", \"talk\", \"talk\", \"tap\", \"taxpayerfunded_subsidie\", \"team\", \"technology\", \"technology\", \"technology\", \"technology\", \"term\", \"texas_governor\", \"texas_governor\", \"thank\", \"thank\", \"thank\", \"thank\", \"thank\", \"thank\", \"think\", \"think\", \"think\", \"think\", \"think\", \"think\", \"think\", \"think\", \"time\", \"time\", \"time\", \"time\", \"time\", \"time\", \"time\", \"tiny\", \"tipping_point\", \"tipping_point\", \"tobacco\", \"tobacco\", \"tobacco\", \"tobacco\", \"today\", \"today\", \"today\", \"today\", \"today\", \"today\", \"today\", \"today\", \"tomorrow\", \"trajectory\", \"travel\", \"truth\", \"truth\", \"truth\", \"truth\", \"truth\", \"unable\", \"uncertainty\", \"undercut\", \"undercut\", \"unveil\", \"use\", \"use\", \"use\", \"use\", \"use\", \"valuable\", \"vehicle\", \"victory\", \"video\", \"video\", \"video\", \"video\", \"video\", \"video\", \"vote\", \"vote\", \"vote\", \"vote\", \"vote\", \"vote\", \"vulnerable\", \"walkback\", \"wall_street\", \"wall_street\", \"wall_street\", \"want\", \"want\", \"want\", \"want\", \"want\", \"want\", \"want\", \"wave\", \"weaken\", \"wednesday\", \"wednesday\", \"week\", \"week\", \"week\", \"week\", \"week\", \"week\", \"weekly\", \"well\", \"well\", \"well\", \"well\", \"well\", \"well\", \"well\", \"willing\", \"win\", \"win\", \"win\", \"win\", \"wind\", \"work\", \"work\", \"work\", \"work\", \"work\", \"work\", \"work\", \"work\", \"world\", \"world\", \"world\", \"world\", \"world\", \"world\", \"world\", \"world\", \"worlds_bigg\", \"worlds_biggest\", \"year\", \"year\", \"year\", \"year\", \"year\", \"year\", \"year\"]}, \"R\": 30, \"lambda.step\": 0.01, \"plot.opts\": {\"xlab\": \"PC1\", \"ylab\": \"PC2\"}, \"topic.order\": [2, 4, 7, 8, 3, 5, 6, 1]};\n",
       "\n",
       "function LDAvis_load_lib(url, callback){\n",
       "  var s = document.createElement('script');\n",
       "  s.src = url;\n",
       "  s.async = true;\n",
       "  s.onreadystatechange = s.onload = callback;\n",
       "  s.onerror = function(){console.warn(\"failed to load library \" + url);};\n",
       "  document.getElementsByTagName(\"head\")[0].appendChild(s);\n",
       "}\n",
       "\n",
       "if(typeof(LDAvis) !== \"undefined\"){\n",
       "   // already loaded: just create the visualization\n",
       "   !function(LDAvis){\n",
       "       new LDAvis(\"#\" + \"ldavis_el9481403105981060165251115613\", ldavis_el9481403105981060165251115613_data);\n",
       "   }(LDAvis);\n",
       "}else if(typeof define === \"function\" && define.amd){\n",
       "   // require.js is available: use it to load d3/LDAvis\n",
       "   require.config({paths: {d3: \"https://d3js.org/d3.v5\"}});\n",
       "   require([\"d3\"], function(d3){\n",
       "      window.d3 = d3;\n",
       "      LDAvis_load_lib(\"https://cdn.jsdelivr.net/gh/bmabey/pyLDAvis@3.3.1/pyLDAvis/js/ldavis.v3.0.0.js\", function(){\n",
       "        new LDAvis(\"#\" + \"ldavis_el9481403105981060165251115613\", ldavis_el9481403105981060165251115613_data);\n",
       "      });\n",
       "    });\n",
       "}else{\n",
       "    // require.js not available: dynamically load d3 & LDAvis\n",
       "    LDAvis_load_lib(\"https://d3js.org/d3.v5.js\", function(){\n",
       "         LDAvis_load_lib(\"https://cdn.jsdelivr.net/gh/bmabey/pyLDAvis@3.3.1/pyLDAvis/js/ldavis.v3.0.0.js\", function(){\n",
       "                 new LDAvis(\"#\" + \"ldavis_el9481403105981060165251115613\", ldavis_el9481403105981060165251115613_data);\n",
       "            })\n",
       "         });\n",
       "}\n",
       "</script>"
      ],
      "text/plain": [
       "PreparedData(topic_coordinates=              x         y  topics  cluster       Freq\n",
       "topic                                                \n",
       "1      0.128319 -0.014440       1        1  22.699823\n",
       "3      0.143533  0.004635       2        1  17.439158\n",
       "6      0.101328  0.036105       3        1  14.529343\n",
       "7      0.130810  0.064520       4        1  12.065288\n",
       "2      0.060311  0.067088       5        1   9.629282\n",
       "4     -0.131329 -0.173691       6        1   9.233288\n",
       "5     -0.293813  0.230004       7        1   7.817286\n",
       "0     -0.139159 -0.214220       8        1   6.586533, topic_info=          Term         Freq        Total Category  logprob  loglift\n",
       "56        fuel  2300.000000  2300.000000  Default  30.0000  30.0000\n",
       "55      fossil  2092.000000  2092.000000  Default  29.0000  29.0000\n",
       "2831      seat  1504.000000  1504.000000  Default  28.0000  28.0000\n",
       "21       exxon  2527.000000  2527.000000  Default  27.0000  27.0000\n",
       "42         oil  4864.000000  4864.000000  Default  26.0000  26.0000\n",
       "...        ...          ...          ...      ...      ...      ...\n",
       "20    emission   233.602684  1482.837391   Topic8  -4.1205   0.8721\n",
       "3251  election    60.472765    89.938078   Topic8  -5.4719   2.3232\n",
       "386        win   106.169371  1094.308451   Topic8  -4.9091   0.3873\n",
       "30      change   126.958337  5522.766458   Topic8  -4.7303  -1.0526\n",
       "219       well    76.419804   276.184214   Topic8  -5.2379   1.4353\n",
       "\n",
       "[520 rows x 6 columns], token_table=      Topic      Freq         Term\n",
       "term                              \n",
       "3090      4  0.967886       access\n",
       "1733      1  0.967271  accountable\n",
       "1733      2  0.007557  accountable\n",
       "1733      3  0.007557  accountable\n",
       "1733      4  0.007557  accountable\n",
       "...     ...       ...          ...\n",
       "63        3  0.173423         year\n",
       "63        4  0.053047         year\n",
       "63        5  0.105074         year\n",
       "63        6  0.025503         year\n",
       "63        7  0.436617         year\n",
       "\n",
       "[1241 rows x 3 columns], R=30, lambda_step=0.01, plot_opts={'xlab': 'PC1', 'ylab': 'PC2'}, topic_order=[2, 4, 7, 8, 3, 5, 6, 1])"
      ]
     },
     "execution_count": 53,
     "metadata": {},
     "output_type": "execute_result"
    }
   ],
   "source": [
    "# Visualize the optimal topics\n",
    "pyLDAvis.enable_notebook()\n",
    "vis = pyLDAvis.gensim_models.prepare(optimal_model, corpus, id2word)\n",
    "vis"
   ]
  },
  {
   "cell_type": "markdown",
   "id": "45a55ce8-e7e1-49a3-b75a-d0274de33505",
   "metadata": {
    "tags": []
   },
   "source": [
    "### Finding the dominant topic in each sentence"
   ]
  },
  {
   "cell_type": "code",
   "execution_count": 57,
   "id": "3d78407f-fd9f-4051-afaf-9ae1e492d546",
   "metadata": {},
   "outputs": [
    {
     "data": {
      "text/html": [
       "<div>\n",
       "<style scoped>\n",
       "    .dataframe tbody tr th:only-of-type {\n",
       "        vertical-align: middle;\n",
       "    }\n",
       "\n",
       "    .dataframe tbody tr th {\n",
       "        vertical-align: top;\n",
       "    }\n",
       "\n",
       "    .dataframe thead th {\n",
       "        text-align: right;\n",
       "    }\n",
       "</style>\n",
       "<table border=\"1\" class=\"dataframe\">\n",
       "  <thead>\n",
       "    <tr style=\"text-align: right;\">\n",
       "      <th></th>\n",
       "      <th>Document_No</th>\n",
       "      <th>Dominant_Topic</th>\n",
       "      <th>Topic_Perc_Contrib</th>\n",
       "      <th>Keywords</th>\n",
       "      <th>Text</th>\n",
       "    </tr>\n",
       "  </thead>\n",
       "  <tbody>\n",
       "    <tr>\n",
       "      <th>0</th>\n",
       "      <td>0</td>\n",
       "      <td>6.0</td>\n",
       "      <td>0.6040</td>\n",
       "      <td>climate, change, big, company, downplay, use, crisis, say, oil, blow</td>\n",
       "      <td>'We are in a climate emergency'December wildfires ravage Colorado https://t.co/sWDkZM4Rvn Sen. Manchin, your Exxon highway bill isn't going 2save our homes or our lives,\" \"Your greed &amp;amp; corruption is not only torching our future It's burning our communities and destroying lives!</td>\n",
       "    </tr>\n",
       "    <tr>\n",
       "      <th>1</th>\n",
       "      <td>1</td>\n",
       "      <td>4.0</td>\n",
       "      <td>0.9204</td>\n",
       "      <td>climate, push, lobbyist, video, reveal, business, know, catch, emission, plan</td>\n",
       "      <td>#Oil business knows about the damage that It does, but this business is too much easy and lucrative  https://t.co/W7MemjJAA9 #FossilFuels \\nExxon’s Plan for Surging Carbon Emissions Revealed in Leaked Documents https://t.co/RFX8meYv11</td>\n",
       "    </tr>\n",
       "    <tr>\n",
       "      <th>2</th>\n",
       "      <td>2</td>\n",
       "      <td>7.0</td>\n",
       "      <td>0.5558</td>\n",
       "      <td>oil, climate, company, industry, gas, big, action, giant, sue, new</td>\n",
       "      <td>@amywestervelt Your opinion piece concerning climate science alone motivating people to help create political change on Global Warming policy is Spot On. Informing people about the injustices Exxon and Big Oil has perpetrated on us is crucial in inspiring citizens to fight back.</td>\n",
       "    </tr>\n",
       "    <tr>\n",
       "      <th>3</th>\n",
       "      <td>3</td>\n",
       "      <td>5.0</td>\n",
       "      <td>0.9485</td>\n",
       "      <td>fuel, fossil, pressure, climate, corporation, year, end, crisis, petition, subsidy</td>\n",
       "      <td>Each year, the government gives over $15 billion in taxpayer-funded subsidies to fossil fuel corporations who contribute to the climate crisis like Exxon. \\n\\nWill you sign this petition to pressure the Senate to END fossil fuel subsidies https://t.co/2A7wLyid3X?</td>\n",
       "    </tr>\n",
       "    <tr>\n",
       "      <th>4</th>\n",
       "      <td>4</td>\n",
       "      <td>5.0</td>\n",
       "      <td>0.9485</td>\n",
       "      <td>fuel, fossil, pressure, climate, corporation, year, end, crisis, petition, subsidy</td>\n",
       "      <td>Each year, the government gives over $15 billion in taxpayer-funded subsidies to fossil fuel corporations who contribute to the climate crisis like Exxon. \\n\\nWill you sign our petition to pressure the Senate to END fossil fuel subsidies https://t.co/OD7YqPO5SP?</td>\n",
       "    </tr>\n",
       "  </tbody>\n",
       "</table>\n",
       "</div>"
      ],
      "text/plain": [
       "   Document_No  Dominant_Topic  Topic_Perc_Contrib  \\\n",
       "0            0             6.0              0.6040   \n",
       "1            1             4.0              0.9204   \n",
       "2            2             7.0              0.5558   \n",
       "3            3             5.0              0.9485   \n",
       "4            4             5.0              0.9485   \n",
       "\n",
       "                                                                             Keywords  \\\n",
       "0                climate, change, big, company, downplay, use, crisis, say, oil, blow   \n",
       "1       climate, push, lobbyist, video, reveal, business, know, catch, emission, plan   \n",
       "2                  oil, climate, company, industry, gas, big, action, giant, sue, new   \n",
       "3  fuel, fossil, pressure, climate, corporation, year, end, crisis, petition, subsidy   \n",
       "4  fuel, fossil, pressure, climate, corporation, year, end, crisis, petition, subsidy   \n",
       "\n",
       "                                                                                                                                                                                                                                                                                         Text  \n",
       "0  'We are in a climate emergency'December wildfires ravage Colorado https://t.co/sWDkZM4Rvn Sen. Manchin, your Exxon highway bill isn't going 2save our homes or our lives,\" \"Your greed &amp; corruption is not only torching our future It's burning our communities and destroying lives!  \n",
       "1                                                  #Oil business knows about the damage that It does, but this business is too much easy and lucrative  https://t.co/W7MemjJAA9 #FossilFuels \\nExxon’s Plan for Surging Carbon Emissions Revealed in Leaked Documents https://t.co/RFX8meYv11  \n",
       "2     @amywestervelt Your opinion piece concerning climate science alone motivating people to help create political change on Global Warming policy is Spot On. Informing people about the injustices Exxon and Big Oil has perpetrated on us is crucial in inspiring citizens to fight back.  \n",
       "3                     Each year, the government gives over $15 billion in taxpayer-funded subsidies to fossil fuel corporations who contribute to the climate crisis like Exxon. \\n\\nWill you sign this petition to pressure the Senate to END fossil fuel subsidies https://t.co/2A7wLyid3X?  \n",
       "4                      Each year, the government gives over $15 billion in taxpayer-funded subsidies to fossil fuel corporations who contribute to the climate crisis like Exxon. \\n\\nWill you sign our petition to pressure the Senate to END fossil fuel subsidies https://t.co/OD7YqPO5SP?  "
      ]
     },
     "execution_count": 57,
     "metadata": {},
     "output_type": "execute_result"
    }
   ],
   "source": [
    "def format_topics_sentences(ldamodel=lda_model, corpus=corpus, texts=ctext):\n",
    "    # Init output\n",
    "    sent_topics_df = pd.DataFrame()\n",
    "\n",
    "    # Get main topic in each document\n",
    "    for i, row in enumerate(ldamodel[corpus]):\n",
    "        row = sorted(row, key=lambda x: (x[1]), reverse=True)\n",
    "        # Get the Dominant topic, Perc Contribution and Keywords for each document\n",
    "        for j, (topic_num, prop_topic) in enumerate(row):\n",
    "            if j == 0:  # => dominant topic\n",
    "                wp = ldamodel.show_topic(topic_num)\n",
    "                topic_keywords = \", \".join([word for word, prop in wp])\n",
    "                sent_topics_df = sent_topics_df.append(pd.Series([int(topic_num), round(prop_topic,4), topic_keywords]), ignore_index=True)\n",
    "            else:\n",
    "                break\n",
    "    sent_topics_df.columns = ['Dominant_Topic', 'Perc_Contribution', 'Topic_Keywords']\n",
    "\n",
    "    # Add original text to the end of the output\n",
    "    contents = pd.Series(texts)\n",
    "    sent_topics_df = pd.concat([sent_topics_df, contents], axis=1)\n",
    "    return(sent_topics_df)\n",
    "\n",
    "\n",
    "df_topic_sents_keywords = format_topics_sentences(ldamodel=optimal_model, corpus=corpus, texts=nctext)\n",
    "\n",
    "# Format\n",
    "df_dominant_topic = df_topic_sents_keywords.reset_index()\n",
    "df_dominant_topic.columns = ['Document_No', 'Dominant_Topic', 'Topic_Perc_Contrib', 'Keywords', 'Text']\n",
    "\n",
    "# Show\n",
    "df_dominant_topic.head()"
   ]
  },
  {
   "cell_type": "markdown",
   "id": "ac667693-c3cf-41c6-b3f7-f20dc92ffd93",
   "metadata": {
    "tags": []
   },
   "source": [
    "### Find the most representative document for each topic"
   ]
  },
  {
   "cell_type": "code",
   "execution_count": 58,
   "id": "b0af1d4e-6496-4096-817a-52ea6e513e2d",
   "metadata": {},
   "outputs": [
    {
     "data": {
      "text/html": [
       "<div>\n",
       "<style scoped>\n",
       "    .dataframe tbody tr th:only-of-type {\n",
       "        vertical-align: middle;\n",
       "    }\n",
       "\n",
       "    .dataframe tbody tr th {\n",
       "        vertical-align: top;\n",
       "    }\n",
       "\n",
       "    .dataframe thead th {\n",
       "        text-align: right;\n",
       "    }\n",
       "</style>\n",
       "<table border=\"1\" class=\"dataframe\">\n",
       "  <thead>\n",
       "    <tr style=\"text-align: right;\">\n",
       "      <th></th>\n",
       "      <th>Topic_Num</th>\n",
       "      <th>Topic_Perc_Contrib</th>\n",
       "      <th>Keywords</th>\n",
       "      <th>Text</th>\n",
       "    </tr>\n",
       "  </thead>\n",
       "  <tbody>\n",
       "    <tr>\n",
       "      <th>0</th>\n",
       "      <td>0.0</td>\n",
       "      <td>0.9453</td>\n",
       "      <td>seat, exxon, climate, strategy, lose, plan, case, investment, emission, rise</td>\n",
       "      <td>.@SenatorLujan,@MartinHeinrich,@RepTeresaLF Time to deliver on climate, care, jobs, and justice. I urge you to end weeks of obstruction today by passing the full Build Back Better plan before Exxon’s bipartisan plan. #HoldTheLine. Fight like hell for both at the same time.</td>\n",
       "    </tr>\n",
       "    <tr>\n",
       "      <th>1</th>\n",
       "      <td>1.0</td>\n",
       "      <td>0.9637</td>\n",
       "      <td>climate, change, shareholder, investor, say, activist, energy, amp, emission, company</td>\n",
       "      <td>Dear #climate activist, #business in general is not the enemy of the good. A company is set of tools, a machine for large scale creation and distribution of stuff or ideas or services. We need to support the good ones while strongly criticizing the bad actors like #Exxon.</td>\n",
       "    </tr>\n",
       "    <tr>\n",
       "      <th>2</th>\n",
       "      <td>2.0</td>\n",
       "      <td>0.9602</td>\n",
       "      <td>climate, oil, big, study, change, tipping_point, great, landmark, company, crisis</td>\n",
       "      <td>\"Oil companies almost never advertise their products, opting instead to advertise ideas, particularly the idea that they’re working hard to address the climate crisis.\"\\n\\ni.e. don't believe #fossilfuel hype, regardless of where you hear it.\\nhttps://t.co/d62HZV3j1g</td>\n",
       "    </tr>\n",
       "    <tr>\n",
       "      <th>3</th>\n",
       "      <td>3.0</td>\n",
       "      <td>0.9553</td>\n",
       "      <td>climate, activist, board, change, oil, new, win, shell, investor, big</td>\n",
       "      <td>Exxon Mobil said for the first time that some of its oil and gas properties may face impairment due to #climate change. The company's board will test assets for climate impairments. \"Certain assets could be at risk for impairment,\" it said. @exxonmobil #OOTT</td>\n",
       "    </tr>\n",
       "    <tr>\n",
       "      <th>4</th>\n",
       "      <td>4.0</td>\n",
       "      <td>0.9374</td>\n",
       "      <td>climate, push, lobbyist, video, reveal, business, know, catch, emission, plan</td>\n",
       "      <td>https://t.co/B4K7DImfmz Exxon-designed “bipartisan” infrastructure plan worsens emissions, but pairing it w/clean energy in Build Back Better neutralizes BIF’s harm &amp;amp; lets us tackle the climate crisis #cnn #msnbc #cspan #cspan2 #inners #ac360 #NotMeUs #JusticeDems</td>\n",
       "    </tr>\n",
       "    <tr>\n",
       "      <th>5</th>\n",
       "      <td>5.0</td>\n",
       "      <td>0.9514</td>\n",
       "      <td>fuel, fossil, pressure, climate, corporation, year, end, crisis, petition, subsidy</td>\n",
       "      <td>Each year, the government gives over $15 billion in taxpayer-funded subsidies to fossil fuel corporations who contribute to the climate crisis like Exxon. \\n\\nWill you sign this petition to pressure the Senate to END fossil fuel subsidies https://t.co/QafFuRpbFg? Sign it!</td>\n",
       "    </tr>\n",
       "    <tr>\n",
       "      <th>6</th>\n",
       "      <td>6.0</td>\n",
       "      <td>0.9638</td>\n",
       "      <td>climate, change, big, company, downplay, use, crisis, say, oil, blow</td>\n",
       "      <td>Climate change denial goes back further than you think. The latest \"Reality Check with John Avlon,\" traces how climate change denial has grown over decades despite growing scientific evidence. From a 1965 memo on LBJ's desk to Exxon's Need younger politicianswho care about future</td>\n",
       "    </tr>\n",
       "    <tr>\n",
       "      <th>7</th>\n",
       "      <td>7.0</td>\n",
       "      <td>0.9564</td>\n",
       "      <td>oil, climate, company, industry, gas, big, action, giant, sue, new</td>\n",
       "      <td>New story on NPR: Guyana is a poor country that was a green champion. Then Exxon discovered oil Guyana, one of South America's poorest countries, is under severe threat by rising seas. That had made it a champion of climate action, but it all changed when ExxonMobil found oi…</td>\n",
       "    </tr>\n",
       "  </tbody>\n",
       "</table>\n",
       "</div>"
      ],
      "text/plain": [
       "   Topic_Num  Topic_Perc_Contrib  \\\n",
       "0        0.0              0.9453   \n",
       "1        1.0              0.9637   \n",
       "2        2.0              0.9602   \n",
       "3        3.0              0.9553   \n",
       "4        4.0              0.9374   \n",
       "5        5.0              0.9514   \n",
       "6        6.0              0.9638   \n",
       "7        7.0              0.9564   \n",
       "\n",
       "                                                                                Keywords  \\\n",
       "0           seat, exxon, climate, strategy, lose, plan, case, investment, emission, rise   \n",
       "1  climate, change, shareholder, investor, say, activist, energy, amp, emission, company   \n",
       "2      climate, oil, big, study, change, tipping_point, great, landmark, company, crisis   \n",
       "3                  climate, activist, board, change, oil, new, win, shell, investor, big   \n",
       "4          climate, push, lobbyist, video, reveal, business, know, catch, emission, plan   \n",
       "5     fuel, fossil, pressure, climate, corporation, year, end, crisis, petition, subsidy   \n",
       "6                   climate, change, big, company, downplay, use, crisis, say, oil, blow   \n",
       "7                     oil, climate, company, industry, gas, big, action, giant, sue, new   \n",
       "\n",
       "                                                                                                                                                                                                                                                                                       Text  \n",
       "0         .@SenatorLujan,@MartinHeinrich,@RepTeresaLF Time to deliver on climate, care, jobs, and justice. I urge you to end weeks of obstruction today by passing the full Build Back Better plan before Exxon’s bipartisan plan. #HoldTheLine. Fight like hell for both at the same time.  \n",
       "1          Dear #climate activist, #business in general is not the enemy of the good. A company is set of tools, a machine for large scale creation and distribution of stuff or ideas or services. We need to support the good ones while strongly criticizing the bad actors like #Exxon.  \n",
       "2                \"Oil companies almost never advertise their products, opting instead to advertise ideas, particularly the idea that they’re working hard to address the climate crisis.\"\\n\\ni.e. don't believe #fossilfuel hype, regardless of where you hear it.\\nhttps://t.co/d62HZV3j1g  \n",
       "3                        Exxon Mobil said for the first time that some of its oil and gas properties may face impairment due to #climate change. The company's board will test assets for climate impairments. \"Certain assets could be at risk for impairment,\" it said. @exxonmobil #OOTT  \n",
       "4              https://t.co/B4K7DImfmz Exxon-designed “bipartisan” infrastructure plan worsens emissions, but pairing it w/clean energy in Build Back Better neutralizes BIF’s harm &amp; lets us tackle the climate crisis #cnn #msnbc #cspan #cspan2 #inners #ac360 #NotMeUs #JusticeDems  \n",
       "5          Each year, the government gives over $15 billion in taxpayer-funded subsidies to fossil fuel corporations who contribute to the climate crisis like Exxon. \\n\\nWill you sign this petition to pressure the Senate to END fossil fuel subsidies https://t.co/QafFuRpbFg? Sign it!  \n",
       "6  Climate change denial goes back further than you think. The latest \"Reality Check with John Avlon,\" traces how climate change denial has grown over decades despite growing scientific evidence. From a 1965 memo on LBJ's desk to Exxon's Need younger politicianswho care about future  \n",
       "7      New story on NPR: Guyana is a poor country that was a green champion. Then Exxon discovered oil Guyana, one of South America's poorest countries, is under severe threat by rising seas. That had made it a champion of climate action, but it all changed when ExxonMobil found oi…  "
      ]
     },
     "execution_count": 58,
     "metadata": {},
     "output_type": "execute_result"
    }
   ],
   "source": [
    "# Group top 5 sentences under each topic\n",
    "sent_topics_sorteddf_mallet = pd.DataFrame()\n",
    "\n",
    "sent_topics_outdf_grpd = df_topic_sents_keywords.groupby('Dominant_Topic')\n",
    "\n",
    "for i, grp in sent_topics_outdf_grpd:\n",
    "    sent_topics_sorteddf_mallet = pd.concat([sent_topics_sorteddf_mallet, \n",
    "                                             grp.sort_values(['Perc_Contribution'], ascending=[0]).head(1)], \n",
    "                                            axis=0)\n",
    "\n",
    "# Reset Index    \n",
    "sent_topics_sorteddf_mallet.reset_index(drop=True, inplace=True)\n",
    "\n",
    "# Format\n",
    "sent_topics_sorteddf_mallet.columns = ['Topic_Num', \"Topic_Perc_Contrib\", \"Keywords\", \"Text\"]\n",
    "\n",
    "# Show\n",
    "sent_topics_sorteddf_mallet.head(8)"
   ]
  },
  {
   "cell_type": "markdown",
   "id": "59576a82-5edc-41c6-ab6e-1cd2a5935440",
   "metadata": {
    "tags": []
   },
   "source": [
    "### Topic distribution across documents"
   ]
  },
  {
   "cell_type": "code",
   "execution_count": 59,
   "id": "e1695dc0-dc55-4ed8-8636-14b13e5cfb70",
   "metadata": {},
   "outputs": [
    {
     "data": {
      "text/html": [
       "<div>\n",
       "<style scoped>\n",
       "    .dataframe tbody tr th:only-of-type {\n",
       "        vertical-align: middle;\n",
       "    }\n",
       "\n",
       "    .dataframe tbody tr th {\n",
       "        vertical-align: top;\n",
       "    }\n",
       "\n",
       "    .dataframe thead th {\n",
       "        text-align: right;\n",
       "    }\n",
       "</style>\n",
       "<table border=\"1\" class=\"dataframe\">\n",
       "  <thead>\n",
       "    <tr style=\"text-align: right;\">\n",
       "      <th></th>\n",
       "      <th>Dominant_Topic</th>\n",
       "      <th>Topic_Keywords</th>\n",
       "      <th>Num_Documents</th>\n",
       "      <th>Perc_Documents</th>\n",
       "    </tr>\n",
       "  </thead>\n",
       "  <tbody>\n",
       "    <tr>\n",
       "      <th>0.0</th>\n",
       "      <td>6.0</td>\n",
       "      <td>climate, change, big, company, downplay, use, crisis, say, oil, blow</td>\n",
       "      <td>1030.0</td>\n",
       "      <td>0.0490</td>\n",
       "    </tr>\n",
       "    <tr>\n",
       "      <th>1.0</th>\n",
       "      <td>4.0</td>\n",
       "      <td>climate, push, lobbyist, video, reveal, business, know, catch, emission, plan</td>\n",
       "      <td>4888.0</td>\n",
       "      <td>0.2324</td>\n",
       "    </tr>\n",
       "    <tr>\n",
       "      <th>2.0</th>\n",
       "      <td>7.0</td>\n",
       "      <td>oil, climate, company, industry, gas, big, action, giant, sue, new</td>\n",
       "      <td>1897.0</td>\n",
       "      <td>0.0902</td>\n",
       "    </tr>\n",
       "    <tr>\n",
       "      <th>3.0</th>\n",
       "      <td>5.0</td>\n",
       "      <td>fuel, fossil, pressure, climate, corporation, year, end, crisis, petition, subsidy</td>\n",
       "      <td>4635.0</td>\n",
       "      <td>0.2204</td>\n",
       "    </tr>\n",
       "    <tr>\n",
       "      <th>4.0</th>\n",
       "      <td>5.0</td>\n",
       "      <td>fuel, fossil, pressure, climate, corporation, year, end, crisis, petition, subsidy</td>\n",
       "      <td>2131.0</td>\n",
       "      <td>0.1013</td>\n",
       "    </tr>\n",
       "    <tr>\n",
       "      <th>5.0</th>\n",
       "      <td>4.0</td>\n",
       "      <td>climate, push, lobbyist, video, reveal, business, know, catch, emission, plan</td>\n",
       "      <td>868.0</td>\n",
       "      <td>0.0413</td>\n",
       "    </tr>\n",
       "    <tr>\n",
       "      <th>6.0</th>\n",
       "      <td>5.0</td>\n",
       "      <td>fuel, fossil, pressure, climate, corporation, year, end, crisis, petition, subsidy</td>\n",
       "      <td>2979.0</td>\n",
       "      <td>0.1417</td>\n",
       "    </tr>\n",
       "    <tr>\n",
       "      <th>7.0</th>\n",
       "      <td>1.0</td>\n",
       "      <td>climate, change, shareholder, investor, say, activist, energy, amp, emission, company</td>\n",
       "      <td>2601.0</td>\n",
       "      <td>0.1237</td>\n",
       "    </tr>\n",
       "  </tbody>\n",
       "</table>\n",
       "</div>"
      ],
      "text/plain": [
       "     Dominant_Topic  \\\n",
       "0.0             6.0   \n",
       "1.0             4.0   \n",
       "2.0             7.0   \n",
       "3.0             5.0   \n",
       "4.0             5.0   \n",
       "5.0             4.0   \n",
       "6.0             5.0   \n",
       "7.0             1.0   \n",
       "\n",
       "                                                                            Topic_Keywords  \\\n",
       "0.0                   climate, change, big, company, downplay, use, crisis, say, oil, blow   \n",
       "1.0          climate, push, lobbyist, video, reveal, business, know, catch, emission, plan   \n",
       "2.0                     oil, climate, company, industry, gas, big, action, giant, sue, new   \n",
       "3.0     fuel, fossil, pressure, climate, corporation, year, end, crisis, petition, subsidy   \n",
       "4.0     fuel, fossil, pressure, climate, corporation, year, end, crisis, petition, subsidy   \n",
       "5.0          climate, push, lobbyist, video, reveal, business, know, catch, emission, plan   \n",
       "6.0     fuel, fossil, pressure, climate, corporation, year, end, crisis, petition, subsidy   \n",
       "7.0  climate, change, shareholder, investor, say, activist, energy, amp, emission, company   \n",
       "\n",
       "     Num_Documents  Perc_Documents  \n",
       "0.0         1030.0          0.0490  \n",
       "1.0         4888.0          0.2324  \n",
       "2.0         1897.0          0.0902  \n",
       "3.0         4635.0          0.2204  \n",
       "4.0         2131.0          0.1013  \n",
       "5.0          868.0          0.0413  \n",
       "6.0         2979.0          0.1417  \n",
       "7.0         2601.0          0.1237  "
      ]
     },
     "execution_count": 59,
     "metadata": {},
     "output_type": "execute_result"
    }
   ],
   "source": [
    "# Number of Documents for Each Topic\n",
    "topic_counts = df_topic_sents_keywords['Dominant_Topic'].value_counts()\n",
    "\n",
    "# Percentage of Documents for Each Topic\n",
    "topic_contribution = round(topic_counts/topic_counts.sum(), 4)\n",
    "\n",
    "# Topic Number and Keywords\n",
    "topic_num_keywords = df_topic_sents_keywords[['Dominant_Topic', 'Topic_Keywords']]\n",
    "\n",
    "# Concatenate Column wise\n",
    "df_dominant_topics = pd.concat([topic_num_keywords, topic_counts, topic_contribution], axis=1)\n",
    "\n",
    "# Change Column names\n",
    "df_dominant_topics.columns = ['Dominant_Topic', 'Topic_Keywords', 'Num_Documents', 'Perc_Documents']\n",
    "\n",
    "# Show\n",
    "df_dominant_topics.head(8)"
   ]
  },
  {
   "cell_type": "code",
   "execution_count": null,
   "id": "45614d3e-d5fc-4bc4-a25f-61ab57f845a3",
   "metadata": {},
   "outputs": [],
   "source": []
  }
 ],
 "metadata": {
  "kernelspec": {
   "display_name": "Python 3 (ipykernel)",
   "language": "python",
   "name": "python3"
  },
  "language_info": {
   "codemirror_mode": {
    "name": "ipython",
    "version": 3
   },
   "file_extension": ".py",
   "mimetype": "text/x-python",
   "name": "python",
   "nbconvert_exporter": "python",
   "pygments_lexer": "ipython3",
   "version": "3.9.7"
  }
 },
 "nbformat": 4,
 "nbformat_minor": 5
}
