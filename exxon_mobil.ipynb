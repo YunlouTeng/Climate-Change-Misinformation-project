{
 "cells": [
  {
   "cell_type": "code",
   "execution_count": 1,
   "id": "3911a094-8aa5-4ad9-b24a-00fa2046e847",
   "metadata": {},
   "outputs": [],
   "source": [
    "import re\n",
    "import json\n",
    "import numpy as np\n",
    "import pandas as pd\n",
    "from pprint import pprint\n",
    "import seaborn as sns\n",
    "\n",
    "# NLTK Stop words\n",
    "import nltk\n",
    "from nltk import word_tokenize, FreqDist\n",
    "from nltk.corpus import stopwords\n",
    "from nltk.stem import WordNetLemmatizer\n",
    "from nltk.tokenize import TweetTokenizer\n",
    "\n",
    "# spacy for lemmatization\n",
    "import spacy\n",
    "\n",
    "#remove urls, mentions, emojis \n",
    "import preprocessor as p\n",
    "\n",
    "# Gensim\n",
    "import gensim\n",
    "import gensim.corpora as corpora\n",
    "from gensim.utils import simple_preprocess\n",
    "from gensim.models import CoherenceModel\n",
    "\n",
    "# Plotting tools\n",
    "import pyLDAvis\n",
    "import pyLDAvis.gensim_models  \n",
    "import matplotlib.pyplot as plt"
   ]
  },
  {
   "cell_type": "code",
   "execution_count": 2,
   "id": "01936baf-d833-49d0-9aca-11cfeceac718",
   "metadata": {},
   "outputs": [],
   "source": [
    "filepath = '/Users/lavine/Desktop/Terriers!/misinformation project/data/data.txt'"
   ]
  },
  {
   "cell_type": "markdown",
   "id": "2c5aa15e-14fe-4d05-9462-3e5b84aed595",
   "metadata": {
    "tags": []
   },
   "source": [
    "### Create a dataframe by every columns"
   ]
  },
  {
   "cell_type": "code",
   "execution_count": 3,
   "id": "1d9ce5af-9975-4db1-bf43-64d4a2f34184",
   "metadata": {},
   "outputs": [],
   "source": [
    "#load all the JSON objects in one list as dictionaries\n",
    "data = []\n",
    "with open(filepath,'r') as f:\n",
    "    for line in f:\n",
    "        data.append(json.loads(line))"
   ]
  },
  {
   "cell_type": "code",
   "execution_count": 4,
   "id": "7ffb3d4f-05dc-421e-865a-f671418b3e15",
   "metadata": {},
   "outputs": [
    {
     "data": {
      "text/plain": [
       "\"I'm thinking about writing a satire where the U.S. Congress is blocked from taking action on the climate by a Senator who owns a coal company, lives on a yacht and speaks daily with Exxon lobbyists -- but I'm worried people will think it's too on the nose. 😔\""
      ]
     },
     "execution_count": 4,
     "metadata": {},
     "output_type": "execute_result"
    }
   ],
   "source": [
    "data[2]['referenced_tweets'][0]['text']"
   ]
  },
  {
   "cell_type": "code",
   "execution_count": 5,
   "id": "047709f8-ac5a-4db6-8faa-aad6ecb46d71",
   "metadata": {},
   "outputs": [
    {
     "data": {
      "text/plain": [
       "[{'type': 'retweeted',\n",
       "  'id': '1476696095963058177',\n",
       "  'lang': 'en',\n",
       "  'possibly_sensitive': False,\n",
       "  'author_id': '2181341294',\n",
       "  'text': '@ScottGrimnes @MaMan564 @SoFarFletched ‘We’ started calling it ‘climate change’ when Exxon Mobile did a very successful PR campaign in the 90’s. Apparently ‘global warming’ is too specific and scary. But It’s global warming. https://t.co/WPetiWDQG3',\n",
       "  'entities': {'annotations': [{'start': 85,\n",
       "     'end': 96,\n",
       "     'probability': 0.581,\n",
       "     'type': 'Organization',\n",
       "     'normalized_text': 'Exxon Mobile'}],\n",
       "   'urls': [{'start': 225,\n",
       "     'end': 248,\n",
       "     'url': 'https://t.co/WPetiWDQG3',\n",
       "     'expanded_url': 'http://Exxonknew.org',\n",
       "     'display_url': 'Exxonknew.org'}],\n",
       "   'mentions': [{'start': 0,\n",
       "     'end': 13,\n",
       "     'username': 'ScottGrimnes',\n",
       "     'id': '847597746043342848',\n",
       "     'verified': False,\n",
       "     'created_at': '2017-03-30T23:53:45.000Z',\n",
       "     'location': 'Arizona, USA',\n",
       "     'public_metrics': {'followers_count': 357,\n",
       "      'following_count': 708,\n",
       "      'tweet_count': 19119,\n",
       "      'listed_count': 0},\n",
       "     'name': 'Scott Grimnes',\n",
       "     'description': 'PNW boy living in the Desert. Life is about Balance.',\n",
       "     'protected': False,\n",
       "     'url': '',\n",
       "     'profile_image_url': 'https://pbs.twimg.com/profile_images/1274786865522991105/PXfSI9wF_normal.jpg'},\n",
       "    {'start': 14,\n",
       "     'end': 23,\n",
       "     'username': 'MaMan564',\n",
       "     'id': '1269846144869298176',\n",
       "     'verified': False,\n",
       "     'created_at': '2020-06-08T04:18:20.000Z',\n",
       "     'public_metrics': {'followers_count': 141,\n",
       "      'following_count': 695,\n",
       "      'tweet_count': 5747,\n",
       "      'listed_count': 0},\n",
       "     'name': 'Ma Man',\n",
       "     'description': '',\n",
       "     'protected': False,\n",
       "     'url': '',\n",
       "     'profile_image_url': 'https://abs.twimg.com/sticky/default_profile_images/default_profile_normal.png'},\n",
       "    {'start': 24,\n",
       "     'end': 38,\n",
       "     'username': 'SoFarFletched',\n",
       "     'id': '2251014270',\n",
       "     'verified': False,\n",
       "     'created_at': '2013-12-17T21:48:49.000Z',\n",
       "     'location': 'Huntington Beach, CA',\n",
       "     'public_metrics': {'followers_count': 357,\n",
       "      'following_count': 874,\n",
       "      'tweet_count': 1304,\n",
       "      'listed_count': 4},\n",
       "     'name': 'Jason Fletcher',\n",
       "     'description': 'Director, Digital at Mastercard Luxury Card | Lifestyle Fintech | Performance Marketing | Nutella Hater | Denver Sports Fan | Club🏠: Jason.Fletcher',\n",
       "     'protected': False,\n",
       "     'url': '',\n",
       "     'profile_image_url': 'https://pbs.twimg.com/profile_images/1076940030742953984/TxivOKeT_normal.jpg',\n",
       "     'pinned_tweet_id': '1272228402662010881'}]},\n",
       "  'referenced_tweets': [{'type': 'replied_to', 'id': '1476684617755160580'}],\n",
       "  'created_at': '2021-12-30T23:25:59.000Z',\n",
       "  'source': 'Twitter for iPhone',\n",
       "  'in_reply_to_user_id': '847597746043342848',\n",
       "  'reply_settings': 'everyone',\n",
       "  'conversation_id': '1476664863980077057',\n",
       "  'context_annotations': [{'domain': {'id': '45',\n",
       "     'name': 'Brand Vertical',\n",
       "     'description': 'Top level entities that describe a Brands industry'},\n",
       "    'entity': {'id': '781974597474263040', 'name': 'Energy'}},\n",
       "   {'domain': {'id': '46',\n",
       "     'name': 'Brand Category',\n",
       "     'description': 'Categories within Brand Verticals that narrow down the scope of Brands'},\n",
       "    'entity': {'id': '781974596723412992', 'name': 'Gas/Oil'}},\n",
       "   {'domain': {'id': '47',\n",
       "     'name': 'Brand',\n",
       "     'description': 'Brands and Companies'},\n",
       "    'entity': {'id': '10026377931', 'name': 'ExxonMobil'}},\n",
       "   {'domain': {'id': '45',\n",
       "     'name': 'Brand Vertical',\n",
       "     'description': 'Top level entities that describe a Brands industry'},\n",
       "    'entity': {'id': '781974597474263040', 'name': 'Energy'}},\n",
       "   {'domain': {'id': '46',\n",
       "     'name': 'Brand Category',\n",
       "     'description': 'Categories within Brand Verticals that narrow down the scope of Brands'},\n",
       "    'entity': {'id': '781974596723412992', 'name': 'Gas/Oil'}},\n",
       "   {'domain': {'id': '47',\n",
       "     'name': 'Brand',\n",
       "     'description': 'Brands and Companies'},\n",
       "    'entity': {'id': '10039822051', 'name': 'Exxon'}}],\n",
       "  'public_metrics': {'retweet_count': 7,\n",
       "   'reply_count': 1,\n",
       "   'like_count': 31,\n",
       "   'quote_count': 0},\n",
       "  'author': {'verified': False,\n",
       "   'created_at': '2013-11-08T03:03:46.000Z',\n",
       "   'public_metrics': {'followers_count': 585,\n",
       "    'following_count': 4999,\n",
       "    'tweet_count': 9011,\n",
       "    'listed_count': 6},\n",
       "   'name': 'CARPE_DMT',\n",
       "   'description': 'play MAD DOG 2021 https://t.co/EP5AkVshrF',\n",
       "   'protected': False,\n",
       "   'entities': {'url': {'urls': [{'start': 0,\n",
       "       'end': 23,\n",
       "       'url': 'https://t.co/wL90PAKdfG',\n",
       "       'expanded_url': 'https://virtualreality.pizza',\n",
       "       'display_url': 'virtualreality.pizza'}]},\n",
       "    'description': {'urls': [{'start': 18,\n",
       "       'end': 41,\n",
       "       'url': 'https://t.co/EP5AkVshrF',\n",
       "       'expanded_url': 'https://www.oculus.com/experiences/quest/4280512035321327/',\n",
       "       'display_url': 'oculus.com/experiences/qu…'}]}},\n",
       "   'username': 'Carpe_DMT',\n",
       "   'url': 'https://t.co/wL90PAKdfG',\n",
       "   'profile_image_url': 'https://pbs.twimg.com/profile_images/1411076556986986498/ssRjQ9bA_normal.jpg',\n",
       "   'id': '2181341294',\n",
       "   'pinned_tweet_id': '1441988376643584002'},\n",
       "  'in_reply_to_user': {'verified': False,\n",
       "   'created_at': '2017-03-30T23:53:45.000Z',\n",
       "   'location': 'Arizona, USA',\n",
       "   'public_metrics': {'followers_count': 357,\n",
       "    'following_count': 708,\n",
       "    'tweet_count': 19119,\n",
       "    'listed_count': 0},\n",
       "   'name': 'Scott Grimnes',\n",
       "   'description': 'PNW boy living in the Desert. Life is about Balance.',\n",
       "   'protected': False,\n",
       "   'username': 'ScottGrimnes',\n",
       "   'url': '',\n",
       "   'profile_image_url': 'https://pbs.twimg.com/profile_images/1274786865522991105/PXfSI9wF_normal.jpg',\n",
       "   'id': '847597746043342848'}}]"
      ]
     },
     "execution_count": 5,
     "metadata": {},
     "output_type": "execute_result"
    }
   ],
   "source": [
    "data[4]['referenced_tweets']"
   ]
  },
  {
   "cell_type": "markdown",
   "id": "461a17e1-b7bd-41f8-852d-3260c48784ee",
   "metadata": {},
   "source": [
    " #### Put the text data in one list"
   ]
  },
  {
   "cell_type": "markdown",
   "id": "e1ba2fbf-e5ec-464c-8b6c-8f755bd24224",
   "metadata": {},
   "source": [
    "not original:\n",
    "referenced_tweet in i:\n",
    " == retweet \n",
    " \n",
    "lst_\n",
    "\n",
    "\n",
    "original:\n",
    "if not 'referenced_tweets' in i\n",
    "\n",
    "lst_o_text.append(i['text'])\n",
    "\n"
   ]
  },
  {
   "cell_type": "markdown",
   "id": "fae72b75-2e31-4eeb-8207-5db49fa05477",
   "metadata": {},
   "source": [
    "#retrive text and avoid truncated text when retweet without quoting\n",
    "lst_o_text = []\n",
    "lst_ret_text = []\n",
    "lst_rep_text = []\n",
    "\n",
    "for i in data:    \n",
    "    if 'referenced_tweets' in i:\n",
    "        if i['referenced_tweets'][0]['type'] != 'retweeted':\n",
    "            lst_text.append(i['referenced_tweets'][0]['text'])\n",
    "        else:\n",
    "            lst_text.append(i['text'])\n",
    "    else:\n",
    "        lst_text.append(i['text'])"
   ]
  },
  {
   "cell_type": "code",
   "execution_count": 6,
   "id": "5f5f8967-f8d6-4a4f-a72b-a71ba0eaba60",
   "metadata": {},
   "outputs": [],
   "source": [
    "lst_o_text = []\n",
    "\n",
    "#create lists for id, author id and conversation\n",
    "lst_id = []\n",
    "lst_lang = []\n",
    "lst_author_id = []\n",
    "lst_conversation_id = []\n",
    "\n",
    "#lst verified or not, author name and author username\n",
    "lst_author_verified = []\n",
    "lst_author_name = []\n",
    "lst_author_username = []\n",
    "\n",
    "#list creation time\n",
    "lst_twt_creation_time = []\n",
    "\n",
    "for i in data:\n",
    "    if not 'referenced_tweets' in i:\n",
    "        lst_o_text.append(i['text'])\n",
    "        lst_id.append(i['id'])\n",
    "        lst_lang.append(i['lang'])\n",
    "        lst_author_id.append(i['author_id'])\n",
    "        lst_conversation_id.append(i['conversation_id'])\n",
    "        lst_author_verified.append(i['author']['verified'])\n",
    "        lst_author_name.append(i['author']['name'])\n",
    "        lst_author_username.append(i['author']['username'])\n",
    "        lst_twt_creation_time.append(i['created_at'])"
   ]
  },
  {
   "cell_type": "markdown",
   "id": "8768c389-a75e-45af-be8b-cf8940199c75",
   "metadata": {},
   "source": [
    " #### Put the author info in list"
   ]
  },
  {
   "cell_type": "code",
   "execution_count": 7,
   "id": "f3ad13fe-db12-4fe4-a859-87dd1586bebe",
   "metadata": {},
   "outputs": [
    {
     "data": {
      "text/plain": [
       "dict_keys(['lang', 'id', 'possibly_sensitive', 'author_id', 'text', 'referenced_tweets', 'created_at', 'source', 'entities', 'in_reply_to_user_id', 'reply_settings', 'conversation_id', 'public_metrics', 'author', 'in_reply_to_user', '__twarc'])"
      ]
     },
     "execution_count": 7,
     "metadata": {},
     "output_type": "execute_result"
    }
   ],
   "source": [
    "data[0].keys()"
   ]
  },
  {
   "cell_type": "markdown",
   "id": "70882ac5-c59d-4020-b77f-dae8dc32b489",
   "metadata": {},
   "source": [
    " ##### 'id', 'author_id', 'conversation_id', 'author'"
   ]
  },
  {
   "cell_type": "markdown",
   "id": "f215aeb7-1bd4-49db-a770-1d6e522cda0e",
   "metadata": {},
   "source": [
    "#create lists for id, author id and conversation\n",
    "lst_id = []\n",
    "lst_lang = []\n",
    "lst_author_id = []\n",
    "lst_conversation_id = []\n",
    "for i in data:\n",
    "    lst_id.append(i['id'])\n",
    "    lst_lang.append(i['lang'])\n",
    "    lst_author_id.append(i['author_id'])\n",
    "    lst_conversation_id.append(i['conversation_id'])"
   ]
  },
  {
   "cell_type": "markdown",
   "id": "c6a95d19-4d5a-49ca-9f34-d4fd0a8c2fda",
   "metadata": {},
   "source": [
    "There are too much info in author dictionary"
   ]
  },
  {
   "cell_type": "markdown",
   "id": "708a2888-841e-4b39-a577-8747baa49831",
   "metadata": {},
   "source": [
    "#lst verified or not, author name and author username\n",
    "lst_author_verified = []\n",
    "lst_author_name = []\n",
    "lst_author_username = []\n",
    "for i in data:\n",
    "    lst_author_verified.append(i['author']['verified'])\n",
    "    lst_author_name.append(i['author']['name'])\n",
    "    lst_author_username.append(i['author']['username'])"
   ]
  },
  {
   "cell_type": "markdown",
   "id": "26dc9a84-57a0-4a0c-b312-945a46893063",
   "metadata": {},
   "source": [
    " ##### Make creation time"
   ]
  },
  {
   "cell_type": "markdown",
   "id": "55da8569-d0c0-49e9-ba50-f26adc9b846c",
   "metadata": {},
   "source": [
    "#list creation time\n",
    "lst_twt_creation_time = []\n",
    "for i in data:\n",
    "    lst_twt_creation_time.append(i['created_at'])"
   ]
  },
  {
   "cell_type": "markdown",
   "id": "78a61f6d-633b-4c1d-a9ea-0599dfeb3afd",
   "metadata": {},
   "source": [
    "##### Put what we have in one dataframe"
   ]
  },
  {
   "cell_type": "markdown",
   "id": "c27356dd-560c-4c38-833e-1ee09bc44f64",
   "metadata": {},
   "source": [
    "lst_text,lst_id, lst_author_id,lst_conversation_id,lst_author_verified, lst_author_name, lst_author_username,lst_twt_creation_time"
   ]
  },
  {
   "cell_type": "code",
   "execution_count": 8,
   "id": "3b0e8f52-6dfe-4a2b-bbb4-c5ec3fefb98a",
   "metadata": {},
   "outputs": [],
   "source": [
    "tweets = pd.DataFrame({'text': lst_o_text,\n",
    "                  'language': lst_lang,\n",
    "                  'id': lst_id,\n",
    "                  'author_id': lst_author_id,\n",
    "                  'conversation_id': lst_conversation_id,\n",
    "                  'author_verified': lst_author_verified,\n",
    "                  'author_name': lst_author_name,\n",
    "                  'author_username': lst_author_username,\n",
    "                  'twt_creation_time': lst_twt_creation_time\n",
    "                  })"
   ]
  },
  {
   "cell_type": "code",
   "execution_count": 9,
   "id": "188315ed-e472-403c-9860-0cd9bebccca0",
   "metadata": {},
   "outputs": [],
   "source": [
    "pd.set_option(\"display.max_colwidth\", 10000)"
   ]
  },
  {
   "cell_type": "code",
   "execution_count": 10,
   "id": "5e7c9a2a-cb70-427a-900a-44f7c76611c0",
   "metadata": {},
   "outputs": [],
   "source": [
    "tweets.drop(tweets[tweets['language'] != 'en'].index, inplace = True)"
   ]
  },
  {
   "cell_type": "code",
   "execution_count": 11,
   "id": "dbe06b4c-50a9-47c3-a3bc-b9802eaa7822",
   "metadata": {},
   "outputs": [
    {
     "data": {
      "text/html": [
       "<div>\n",
       "<style scoped>\n",
       "    .dataframe tbody tr th:only-of-type {\n",
       "        vertical-align: middle;\n",
       "    }\n",
       "\n",
       "    .dataframe tbody tr th {\n",
       "        vertical-align: top;\n",
       "    }\n",
       "\n",
       "    .dataframe thead th {\n",
       "        text-align: right;\n",
       "    }\n",
       "</style>\n",
       "<table border=\"1\" class=\"dataframe\">\n",
       "  <thead>\n",
       "    <tr style=\"text-align: right;\">\n",
       "      <th></th>\n",
       "      <th>text</th>\n",
       "      <th>language</th>\n",
       "      <th>id</th>\n",
       "      <th>author_id</th>\n",
       "      <th>conversation_id</th>\n",
       "      <th>author_verified</th>\n",
       "      <th>author_name</th>\n",
       "      <th>author_username</th>\n",
       "      <th>twt_creation_time</th>\n",
       "    </tr>\n",
       "  </thead>\n",
       "  <tbody>\n",
       "    <tr>\n",
       "      <th>0</th>\n",
       "      <td>'We are in a climate emergency'December wildfires ravage Colorado https://t.co/sWDkZM4Rvn Sen. Manchin, your Exxon highway bill isn't going 2save our homes or our lives,\" \"Your greed &amp;amp; corruption is not only torching our future It's burning our communities and destroying lives!</td>\n",
       "      <td>en</td>\n",
       "      <td>1477024401254092800</td>\n",
       "      <td>1009831809855688707</td>\n",
       "      <td>1477024401254092800</td>\n",
       "      <td>False</td>\n",
       "      <td>Vammek Opinion</td>\n",
       "      <td>Vammek</td>\n",
       "      <td>2021-12-31T21:10:33.000Z</td>\n",
       "    </tr>\n",
       "    <tr>\n",
       "      <th>1</th>\n",
       "      <td>#Oil business knows about the damage that It does, but this business is too much easy and lucrative  https://t.co/W7MemjJAA9 #FossilFuels \\nExxon’s Plan for Surging Carbon Emissions Revealed in Leaked Documents https://t.co/RFX8meYv11</td>\n",
       "      <td>en</td>\n",
       "      <td>1476991564803104776</td>\n",
       "      <td>590788952</td>\n",
       "      <td>1476991564803104776</td>\n",
       "      <td>False</td>\n",
       "      <td>Robert Pujol i Vives</td>\n",
       "      <td>rpujolvives</td>\n",
       "      <td>2021-12-31T19:00:04.000Z</td>\n",
       "    </tr>\n",
       "    <tr>\n",
       "      <th>2</th>\n",
       "      <td>@amywestervelt Your opinion piece concerning climate science alone motivating people to help create political change on Global Warming policy is Spot On. Informing people about the injustices Exxon and Big Oil has perpetrated on us is crucial in inspiring citizens to fight back.</td>\n",
       "      <td>en</td>\n",
       "      <td>1476962302159060992</td>\n",
       "      <td>1476958634705780736</td>\n",
       "      <td>1476962302159060992</td>\n",
       "      <td>False</td>\n",
       "      <td>Megan Robbins</td>\n",
       "      <td>MeganRo50852817</td>\n",
       "      <td>2021-12-31T17:03:48.000Z</td>\n",
       "    </tr>\n",
       "    <tr>\n",
       "      <th>3</th>\n",
       "      <td>Each year, the government gives over $15 billion in taxpayer-funded subsidies to fossil fuel corporations who contribute to the climate crisis like Exxon. \\n\\nWill you sign this petition to pressure the Senate to END fossil fuel subsidies https://t.co/2A7wLyid3X?</td>\n",
       "      <td>en</td>\n",
       "      <td>1476954565450903553</td>\n",
       "      <td>47878087</td>\n",
       "      <td>1476954565450903553</td>\n",
       "      <td>False</td>\n",
       "      <td>Jennifer Hall</td>\n",
       "      <td>JDHall_35402</td>\n",
       "      <td>2021-12-31T16:33:03.000Z</td>\n",
       "    </tr>\n",
       "    <tr>\n",
       "      <th>4</th>\n",
       "      <td>Each year, the government gives over $15 billion in taxpayer-funded subsidies to fossil fuel corporations who contribute to the climate crisis like Exxon. \\n\\nWill you sign our petition to pressure the Senate to END fossil fuel subsidies https://t.co/OD7YqPO5SP?</td>\n",
       "      <td>en</td>\n",
       "      <td>1476922966893948928</td>\n",
       "      <td>1450838788037496836</td>\n",
       "      <td>1476922966893948928</td>\n",
       "      <td>False</td>\n",
       "      <td>Dennis Landi</td>\n",
       "      <td>DennisLandi2</td>\n",
       "      <td>2021-12-31T14:27:29.000Z</td>\n",
       "    </tr>\n",
       "  </tbody>\n",
       "</table>\n",
       "</div>"
      ],
      "text/plain": [
       "                                                                                                                                                                                                                                                                                         text  \\\n",
       "0  'We are in a climate emergency'December wildfires ravage Colorado https://t.co/sWDkZM4Rvn Sen. Manchin, your Exxon highway bill isn't going 2save our homes or our lives,\" \"Your greed &amp; corruption is not only torching our future It's burning our communities and destroying lives!   \n",
       "1                                                  #Oil business knows about the damage that It does, but this business is too much easy and lucrative  https://t.co/W7MemjJAA9 #FossilFuels \\nExxon’s Plan for Surging Carbon Emissions Revealed in Leaked Documents https://t.co/RFX8meYv11   \n",
       "2     @amywestervelt Your opinion piece concerning climate science alone motivating people to help create political change on Global Warming policy is Spot On. Informing people about the injustices Exxon and Big Oil has perpetrated on us is crucial in inspiring citizens to fight back.   \n",
       "3                     Each year, the government gives over $15 billion in taxpayer-funded subsidies to fossil fuel corporations who contribute to the climate crisis like Exxon. \\n\\nWill you sign this petition to pressure the Senate to END fossil fuel subsidies https://t.co/2A7wLyid3X?   \n",
       "4                      Each year, the government gives over $15 billion in taxpayer-funded subsidies to fossil fuel corporations who contribute to the climate crisis like Exxon. \\n\\nWill you sign our petition to pressure the Senate to END fossil fuel subsidies https://t.co/OD7YqPO5SP?   \n",
       "\n",
       "  language                   id            author_id      conversation_id  \\\n",
       "0       en  1477024401254092800  1009831809855688707  1477024401254092800   \n",
       "1       en  1476991564803104776            590788952  1476991564803104776   \n",
       "2       en  1476962302159060992  1476958634705780736  1476962302159060992   \n",
       "3       en  1476954565450903553             47878087  1476954565450903553   \n",
       "4       en  1476922966893948928  1450838788037496836  1476922966893948928   \n",
       "\n",
       "   author_verified           author_name  author_username  \\\n",
       "0            False        Vammek Opinion           Vammek   \n",
       "1            False  Robert Pujol i Vives      rpujolvives   \n",
       "2            False         Megan Robbins  MeganRo50852817   \n",
       "3            False         Jennifer Hall     JDHall_35402   \n",
       "4            False          Dennis Landi     DennisLandi2   \n",
       "\n",
       "          twt_creation_time  \n",
       "0  2021-12-31T21:10:33.000Z  \n",
       "1  2021-12-31T19:00:04.000Z  \n",
       "2  2021-12-31T17:03:48.000Z  \n",
       "3  2021-12-31T16:33:03.000Z  \n",
       "4  2021-12-31T14:27:29.000Z  "
      ]
     },
     "execution_count": 11,
     "metadata": {},
     "output_type": "execute_result"
    }
   ],
   "source": [
    "tweets.head()"
   ]
  },
  {
   "cell_type": "markdown",
   "id": "87f8239d-0094-46e7-ab51-c559cb9963fa",
   "metadata": {
    "tags": []
   },
   "source": [
    "### Data preprocessing"
   ]
  },
  {
   "cell_type": "code",
   "execution_count": 12,
   "id": "7ae12cec-2bd4-43dc-bdd8-e442a6907d5d",
   "metadata": {},
   "outputs": [],
   "source": [
    "tweets['hashtag'] = tweets['text'].apply(lambda x: re.findall(r\"#(\\w+)\", x))"
   ]
  },
  {
   "cell_type": "code",
   "execution_count": 13,
   "id": "8d4bb11c-5b98-452c-8ea9-e1f0f4e36ca9",
   "metadata": {},
   "outputs": [],
   "source": [
    "#forming a separate feature for cleaned tweets\n",
    "tweets['ctext'] = tweets['text'].apply(lambda x: p.clean(x))"
   ]
  },
  {
   "cell_type": "code",
   "execution_count": 14,
   "id": "9b9e878d-4990-4b58-85f2-2e42650a652f",
   "metadata": {},
   "outputs": [
    {
     "data": {
      "text/html": [
       "<div>\n",
       "<style scoped>\n",
       "    .dataframe tbody tr th:only-of-type {\n",
       "        vertical-align: middle;\n",
       "    }\n",
       "\n",
       "    .dataframe tbody tr th {\n",
       "        vertical-align: top;\n",
       "    }\n",
       "\n",
       "    .dataframe thead th {\n",
       "        text-align: right;\n",
       "    }\n",
       "</style>\n",
       "<table border=\"1\" class=\"dataframe\">\n",
       "  <thead>\n",
       "    <tr style=\"text-align: right;\">\n",
       "      <th></th>\n",
       "      <th>text</th>\n",
       "      <th>language</th>\n",
       "      <th>id</th>\n",
       "      <th>author_id</th>\n",
       "      <th>conversation_id</th>\n",
       "      <th>author_verified</th>\n",
       "      <th>author_name</th>\n",
       "      <th>author_username</th>\n",
       "      <th>twt_creation_time</th>\n",
       "      <th>hashtag</th>\n",
       "      <th>ctext</th>\n",
       "    </tr>\n",
       "  </thead>\n",
       "  <tbody>\n",
       "    <tr>\n",
       "      <th>0</th>\n",
       "      <td>'We are in a climate emergency'December wildfires ravage Colorado https://t.co/sWDkZM4Rvn Sen. Manchin, your Exxon highway bill isn't going 2save our homes or our lives,\" \"Your greed &amp;amp; corruption is not only torching our future It's burning our communities and destroying lives!</td>\n",
       "      <td>en</td>\n",
       "      <td>1477024401254092800</td>\n",
       "      <td>1009831809855688707</td>\n",
       "      <td>1477024401254092800</td>\n",
       "      <td>False</td>\n",
       "      <td>Vammek Opinion</td>\n",
       "      <td>Vammek</td>\n",
       "      <td>2021-12-31T21:10:33.000Z</td>\n",
       "      <td>[]</td>\n",
       "      <td>'We are in a climate emergency'December wildfires ravage Colorado Sen. Manchin, your Exxon highway bill isn't going save our homes or our lives,\" \"Your greed &amp;amp; corruption is not only torching our future It's burning our communities and destroying lives!</td>\n",
       "    </tr>\n",
       "    <tr>\n",
       "      <th>1</th>\n",
       "      <td>#Oil business knows about the damage that It does, but this business is too much easy and lucrative  https://t.co/W7MemjJAA9 #FossilFuels \\nExxon’s Plan for Surging Carbon Emissions Revealed in Leaked Documents https://t.co/RFX8meYv11</td>\n",
       "      <td>en</td>\n",
       "      <td>1476991564803104776</td>\n",
       "      <td>590788952</td>\n",
       "      <td>1476991564803104776</td>\n",
       "      <td>False</td>\n",
       "      <td>Robert Pujol i Vives</td>\n",
       "      <td>rpujolvives</td>\n",
       "      <td>2021-12-31T19:00:04.000Z</td>\n",
       "      <td>[Oil, FossilFuels]</td>\n",
       "      <td>business knows about the damage that It does, but this business is too much easy and lucrative Exxons Plan for Surging Carbon Emissions Revealed in Leaked Documents</td>\n",
       "    </tr>\n",
       "    <tr>\n",
       "      <th>2</th>\n",
       "      <td>@amywestervelt Your opinion piece concerning climate science alone motivating people to help create political change on Global Warming policy is Spot On. Informing people about the injustices Exxon and Big Oil has perpetrated on us is crucial in inspiring citizens to fight back.</td>\n",
       "      <td>en</td>\n",
       "      <td>1476962302159060992</td>\n",
       "      <td>1476958634705780736</td>\n",
       "      <td>1476962302159060992</td>\n",
       "      <td>False</td>\n",
       "      <td>Megan Robbins</td>\n",
       "      <td>MeganRo50852817</td>\n",
       "      <td>2021-12-31T17:03:48.000Z</td>\n",
       "      <td>[]</td>\n",
       "      <td>Your opinion piece concerning climate science alone motivating people to help create political change on Global Warming policy is Spot On. Informing people about the injustices Exxon and Big Oil has perpetrated on us is crucial in inspiring citizens to fight back.</td>\n",
       "    </tr>\n",
       "  </tbody>\n",
       "</table>\n",
       "</div>"
      ],
      "text/plain": [
       "                                                                                                                                                                                                                                                                                         text  \\\n",
       "0  'We are in a climate emergency'December wildfires ravage Colorado https://t.co/sWDkZM4Rvn Sen. Manchin, your Exxon highway bill isn't going 2save our homes or our lives,\" \"Your greed &amp; corruption is not only torching our future It's burning our communities and destroying lives!   \n",
       "1                                                  #Oil business knows about the damage that It does, but this business is too much easy and lucrative  https://t.co/W7MemjJAA9 #FossilFuels \\nExxon’s Plan for Surging Carbon Emissions Revealed in Leaked Documents https://t.co/RFX8meYv11   \n",
       "2     @amywestervelt Your opinion piece concerning climate science alone motivating people to help create political change on Global Warming policy is Spot On. Informing people about the injustices Exxon and Big Oil has perpetrated on us is crucial in inspiring citizens to fight back.   \n",
       "\n",
       "  language                   id            author_id      conversation_id  \\\n",
       "0       en  1477024401254092800  1009831809855688707  1477024401254092800   \n",
       "1       en  1476991564803104776            590788952  1476991564803104776   \n",
       "2       en  1476962302159060992  1476958634705780736  1476962302159060992   \n",
       "\n",
       "   author_verified           author_name  author_username  \\\n",
       "0            False        Vammek Opinion           Vammek   \n",
       "1            False  Robert Pujol i Vives      rpujolvives   \n",
       "2            False         Megan Robbins  MeganRo50852817   \n",
       "\n",
       "          twt_creation_time             hashtag  \\\n",
       "0  2021-12-31T21:10:33.000Z                  []   \n",
       "1  2021-12-31T19:00:04.000Z  [Oil, FossilFuels]   \n",
       "2  2021-12-31T17:03:48.000Z                  []   \n",
       "\n",
       "                                                                                                                                                                                                                                                                      ctext  \n",
       "0         'We are in a climate emergency'December wildfires ravage Colorado Sen. Manchin, your Exxon highway bill isn't going save our homes or our lives,\" \"Your greed &amp; corruption is not only torching our future It's burning our communities and destroying lives!  \n",
       "1                                                                                                      business knows about the damage that It does, but this business is too much easy and lucrative Exxons Plan for Surging Carbon Emissions Revealed in Leaked Documents  \n",
       "2  Your opinion piece concerning climate science alone motivating people to help create political change on Global Warming policy is Spot On. Informing people about the injustices Exxon and Big Oil has perpetrated on us is crucial in inspiring citizens to fight back.  "
      ]
     },
     "execution_count": 14,
     "metadata": {},
     "output_type": "execute_result"
    }
   ],
   "source": [
    "tweets.head(3)"
   ]
  },
  {
   "cell_type": "code",
   "execution_count": null,
   "id": "e458abf3-644f-47bd-b8c6-43f7d4491501",
   "metadata": {},
   "outputs": [],
   "source": []
  },
  {
   "cell_type": "code",
   "execution_count": null,
   "id": "73fc558d-1a18-4d40-8840-b0638ed6d41a",
   "metadata": {},
   "outputs": [],
   "source": []
  },
  {
   "cell_type": "code",
   "execution_count": 15,
   "id": "bef3a4db-2aa1-412a-b4b6-6a07696d38d7",
   "metadata": {},
   "outputs": [],
   "source": [
    "#convert to list\n",
    "ctext = tweets['ctext'].tolist()"
   ]
  },
  {
   "cell_type": "code",
   "execution_count": 16,
   "id": "25ad07de-a943-4a3d-a64e-0a555ecc16d5",
   "metadata": {},
   "outputs": [
    {
     "name": "stderr",
     "output_type": "stream",
     "text": [
      "<>:2: DeprecationWarning: invalid escape sequence \\s\n",
      "<>:2: DeprecationWarning: invalid escape sequence \\s\n",
      "/var/folders/kg/0ndh6pln2x7b6rpm16twhvpc0000gn/T/ipykernel_22134/1351202947.py:2: DeprecationWarning: invalid escape sequence \\s\n",
      "  ctext = [re.sub('\\s+', ' ', sent) for sent in ctext]\n"
     ]
    }
   ],
   "source": [
    "# Remove new line characters\n",
    "ctext = [re.sub('\\s+', ' ', sent) for sent in ctext]"
   ]
  },
  {
   "cell_type": "code",
   "execution_count": 17,
   "id": "10de78ad-cd53-4a1e-b4d8-42cf0466e43f",
   "metadata": {},
   "outputs": [],
   "source": [
    "# Remove distracting single quotes\n",
    "ctext = [re.sub(\"\\'\", \"\", sent) for sent in ctext]"
   ]
  },
  {
   "cell_type": "code",
   "execution_count": 18,
   "id": "a06b12d3-e30d-437a-82d6-8ff049bc9a56",
   "metadata": {},
   "outputs": [],
   "source": [
    "# remove punctuations\n",
    "ctext = [re.sub(r'[^\\w\\s]', '', sent) for sent in ctext]"
   ]
  },
  {
   "cell_type": "code",
   "execution_count": 19,
   "id": "e48ea990-81ac-4293-8fc2-cad5bc777db5",
   "metadata": {},
   "outputs": [
    {
     "data": {
      "text/plain": [
       "['business knows about the damage that It does but this business is too much easy and lucrative Exxons Plan for Surging Carbon Emissions Revealed in Leaked Documents',\n",
       " 'Your opinion piece concerning climate science alone motivating people to help create political change on Global Warming policy is Spot On Informing people about the injustices Exxon and Big Oil has perpetrated on us is crucial in inspiring citizens to fight back',\n",
       " 'Each year the government gives over 15 billion in taxpayerfunded subsidies to fossil fuel corporations who contribute to the climate crisis like Exxon Will you sign this petition to pressure the Senate to END fossil fuel subsidies ',\n",
       " 'Each year the government gives over 15 billion in taxpayerfunded subsidies to fossil fuel corporations who contribute to the climate crisis like Exxon Will you sign our petition to pressure the Senate to END fossil fuel subsidies ']"
      ]
     },
     "execution_count": 19,
     "metadata": {},
     "output_type": "execute_result"
    }
   ],
   "source": [
    "ctext[1:5]"
   ]
  },
  {
   "cell_type": "markdown",
   "id": "eee9d1b7-d916-49e8-9467-c99192da368b",
   "metadata": {
    "tags": []
   },
   "source": [
    "### Tokenize words and further clean up text"
   ]
  },
  {
   "cell_type": "code",
   "execution_count": 20,
   "id": "f7a3bd80-1498-427b-94a2-0d0cd9273d37",
   "metadata": {},
   "outputs": [],
   "source": [
    "#tokenize each sentence into a list of words, removing punctuations and unnecessary characters altoghter"
   ]
  },
  {
   "cell_type": "code",
   "execution_count": 21,
   "id": "6b44245f-17f9-45d5-8ebd-bc0c18503060",
   "metadata": {},
   "outputs": [
    {
     "name": "stdout",
     "output_type": "stream",
     "text": [
      "[['we', 'are', 'in', 'climate', 'wildfires', 'ravage', 'colorado', 'sen', 'manchin', 'your', 'exxon', 'highway', 'bill', 'isnt', 'going', 'save', 'our', 'homes', 'or', 'our', 'lives', 'your', 'greed', 'amp', 'corruption', 'is', 'not', 'only', 'torching', 'our', 'future', 'its', 'burning', 'our', 'communities', 'and', 'destroying', 'lives']]\n"
     ]
    }
   ],
   "source": [
    "def sent_to_words(sentences):\n",
    "    for sentence in sentences:\n",
    "        yield(gensim.utils.simple_preprocess(str(sentence), deacc=True))  # deacc=True removes punctuations\n",
    "\n",
    "tweet_words = list(sent_to_words(ctext))\n",
    "\n",
    "print(tweet_words[:1])"
   ]
  },
  {
   "cell_type": "code",
   "execution_count": 22,
   "id": "8bef03c9-848f-4004-824e-b2340c6086f1",
   "metadata": {},
   "outputs": [
    {
     "name": "stdout",
     "output_type": "stream",
     "text": [
      "['we', 'are', 'in', 'climate', 'wildfires', 'ravage', 'colorado', 'sen_manchin', 'your', 'exxon', 'highway', 'bill', 'isnt', 'going', 'save', 'our', 'homes', 'or', 'our', 'lives', 'your', 'greed', 'amp', 'corruption', 'is', 'not', 'only', 'torching', 'our', 'future', 'its', 'burning', 'our', 'communities', 'and', 'destroying', 'lives']\n"
     ]
    }
   ],
   "source": [
    "# Build the bigram and trigram models\n",
    "bigram = gensim.models.Phrases(tweet_words, min_count=5, threshold=100) # higher threshold fewer phrases.\n",
    "trigram = gensim.models.Phrases(bigram[tweet_words], threshold=100)  \n",
    "\n",
    "# Faster way to get a sentence clubbed as a trigram/bigram\n",
    "bigram_mod = gensim.models.phrases.Phraser(bigram)\n",
    "trigram_mod = gensim.models.phrases.Phraser(trigram)\n",
    "\n",
    "# See trigram example\n",
    "print(trigram_mod[bigram_mod[tweet_words[0]]])"
   ]
  },
  {
   "cell_type": "markdown",
   "id": "c24a6586-a208-47dc-b7df-e84b8c5a621a",
   "metadata": {
    "tags": []
   },
   "source": [
    "### Remove Stopwords, Make Bigrams and Lemmatize"
   ]
  },
  {
   "cell_type": "code",
   "execution_count": 57,
   "id": "b527df8e-7e82-45eb-995f-64d60d7d5dcd",
   "metadata": {},
   "outputs": [],
   "source": [
    "stop_words = stopwords.words('english')\n",
    "stop_words.extend(['from', 'subject', 're', 'edu', 'use', 'm', 'climate'])"
   ]
  },
  {
   "cell_type": "code",
   "execution_count": 58,
   "id": "3a9ae696-61af-40ea-8380-ea5b22393074",
   "metadata": {},
   "outputs": [],
   "source": [
    "# Define functions for stopwords, bigrams, trigrams and lemmatization\n",
    "def remove_stopwords(texts):\n",
    "    return [[word for word in simple_preprocess(str(doc)) if word not in stop_words] for doc in texts]\n",
    "\n",
    "def make_bigrams(texts):\n",
    "    return [bigram_mod[doc] for doc in texts]\n",
    "\n",
    "def make_trigrams(texts):\n",
    "    return [trigram_mod[bigram_mod[doc]] for doc in texts]"
   ]
  },
  {
   "cell_type": "code",
   "execution_count": 59,
   "id": "91edbe4c-1e69-4d5c-b09a-318a5c3047d2",
   "metadata": {},
   "outputs": [],
   "source": [
    "def lemmatization(texts, allowed_postags=['NOUN', 'ADJ', 'VERB', 'ADV']):\n",
    "    \"\"\"https://spacy.io/api/annotation\"\"\"\n",
    "    texts_out = []\n",
    "    for sent in texts:\n",
    "        doc = nlp(\" \".join(sent)) \n",
    "        texts_out.append([token.lemma_ for token in doc if token.pos_ in allowed_postags])\n",
    "    return texts_out"
   ]
  },
  {
   "cell_type": "code",
   "execution_count": 60,
   "id": "246f1398-6c05-4437-9052-fdc9f25af0b6",
   "metadata": {},
   "outputs": [],
   "source": [
    "# Remove Stop Words\n",
    "tweet_words_nostops = remove_stopwords(tweet_words)"
   ]
  },
  {
   "cell_type": "code",
   "execution_count": 61,
   "id": "29c6dc85-e89e-4ff4-a4d1-83fede7b1a5e",
   "metadata": {},
   "outputs": [],
   "source": [
    "# Form Bigrams\n",
    "tweet_words_bigrams = make_bigrams(tweet_words_nostops)"
   ]
  },
  {
   "cell_type": "code",
   "execution_count": 62,
   "id": "ccc2cc77-8a72-423b-ae6c-6546c8ade7a8",
   "metadata": {},
   "outputs": [
    {
     "name": "stdout",
     "output_type": "stream",
     "text": [
      "[['wildfire', 'ravage', 'highway', 'bill', 'go', 'save', 'home', 'live', 'greed', 'amp', 'corruption', 'torch', 'future', 'burn', 'community', 'destroy', 'life']]\n"
     ]
    }
   ],
   "source": [
    "# Initialize spacy 'en_core_web_sm' model, keeping only tagger component (for efficiency)\n",
    "# python3 -m spacy download en_core_web_sm\n",
    "nlp = spacy.load(\"en_core_web_sm\", disable=['parser', 'ner'])# not \"en\" any more\n",
    "\n",
    "# Do lemmatization keeping only noun, adj, vb, adv\n",
    "tweet_lemmatized = lemmatization(tweet_words_bigrams, allowed_postags=['NOUN', 'ADJ', 'VERB', 'ADV'])\n",
    "\n",
    "print(tweet_lemmatized[:1])"
   ]
  },
  {
   "cell_type": "markdown",
   "id": "805b9a70-7bf6-4b5b-8391-76185dd7cea7",
   "metadata": {
    "tags": []
   },
   "source": [
    "### Creat the dictionary and the corpus"
   ]
  },
  {
   "cell_type": "code",
   "execution_count": 63,
   "id": "045af5c1-03ce-4c46-a4ce-5d2510470d2b",
   "metadata": {},
   "outputs": [
    {
     "name": "stdout",
     "output_type": "stream",
     "text": [
      "[[(0, 1), (1, 1), (2, 1), (3, 1), (4, 1), (5, 1), (6, 1), (7, 1), (8, 1), (9, 1), (10, 1), (11, 1), (12, 1), (13, 1), (14, 1), (15, 1), (16, 1)]]\n"
     ]
    }
   ],
   "source": [
    "# Create Dictionary\n",
    "id2word = corpora.Dictionary(tweet_lemmatized)\n",
    "\n",
    "# Create Corpus\n",
    "texts = tweet_lemmatized\n",
    "\n",
    "# Term Document Frequency\n",
    "corpus = [id2word.doc2bow(text) for text in texts] \n",
    "\n",
    "#Gensim creates a unique id for each word in the document. \n",
    "#The produced corpus shown below is a mapping of (word_id, word_frequency(times of occurance)).\n",
    "\n",
    "# View\n",
    "print(corpus[:1])"
   ]
  },
  {
   "cell_type": "code",
   "execution_count": 64,
   "id": "494c70fb-e5f5-497a-89f3-9892a245c9d2",
   "metadata": {},
   "outputs": [
    {
     "data": {
      "text/plain": [
       "'motivate'"
      ]
     },
     "execution_count": 64,
     "metadata": {},
     "output_type": "execute_result"
    }
   ],
   "source": [
    "id2word[40]"
   ]
  },
  {
   "cell_type": "code",
   "execution_count": 65,
   "id": "7c2ed933-af4b-42eb-a1f3-d6e64196b7aa",
   "metadata": {},
   "outputs": [
    {
     "data": {
      "text/plain": [
       "'corruption'"
      ]
     },
     "execution_count": 65,
     "metadata": {},
     "output_type": "execute_result"
    }
   ],
   "source": [
    "#If you want to see what word a given id corresponds to, pass the id as a key to the dictionary.\n",
    "id2word[4]\n",
    "\n",
    "#in put of LDA"
   ]
  },
  {
   "cell_type": "code",
   "execution_count": 66,
   "id": "5520aec4-4caa-4db2-bcad-f2eea66c6b10",
   "metadata": {},
   "outputs": [
    {
     "data": {
      "text/plain": [
       "[[('amp', 1),\n",
       "  ('bill', 1),\n",
       "  ('burn', 1),\n",
       "  ('community', 1),\n",
       "  ('corruption', 1),\n",
       "  ('destroy', 1),\n",
       "  ('future', 1),\n",
       "  ('go', 1),\n",
       "  ('greed', 1),\n",
       "  ('highway', 1),\n",
       "  ('home', 1),\n",
       "  ('life', 1),\n",
       "  ('live', 1),\n",
       "  ('ravage', 1),\n",
       "  ('save', 1),\n",
       "  ('torch', 1),\n",
       "  ('wildfire', 1)]]"
      ]
     },
     "execution_count": 66,
     "metadata": {},
     "output_type": "execute_result"
    }
   ],
   "source": [
    "# Human readable format of corpus (term-frequency)\n",
    "[[(id2word[id], freq) for id, freq in cp] for cp in corpus[:1]]"
   ]
  },
  {
   "cell_type": "markdown",
   "id": "82855c8f-5efb-4c9d-872f-6a1ac7954577",
   "metadata": {
    "tags": []
   },
   "source": [
    "### Building the Topic Model"
   ]
  },
  {
   "cell_type": "code",
   "execution_count": 67,
   "id": "fd2479a5-4314-45dd-98d5-a06ef929f664",
   "metadata": {},
   "outputs": [],
   "source": [
    "# Build LDA model\n",
    "lda_model = gensim.models.ldamodel.LdaModel(corpus=corpus,\n",
    "                                           id2word=id2word,\n",
    "                                           num_topics=4, \n",
    "                                           random_state=100,\n",
    "                                           update_every=1,\n",
    "                                           chunksize=200,\n",
    "                                           passes=10,\n",
    "                                           alpha='auto',\n",
    "                                           per_word_topics=True)"
   ]
  },
  {
   "cell_type": "code",
   "execution_count": 68,
   "id": "98c1416a-9b9f-49b1-95b7-4105946d733f",
   "metadata": {},
   "outputs": [
    {
     "name": "stdout",
     "output_type": "stream",
     "text": [
      "[(0,\n",
      "  '0.064*\"oil\" + 0.042*\"big\" + 0.041*\"activist\" + 0.033*\"new\" + '\n",
      "  '0.032*\"investor\" + 0.029*\"board\" + 0.028*\"company\" + 0.016*\"use\" + '\n",
      "  '0.015*\"giant\" + 0.015*\"energy\"'),\n",
      " (1,\n",
      "  '0.054*\"crisis\" + 0.043*\"fuel\" + 0.036*\"fossil\" + 0.035*\"vote\" + '\n",
      "  '0.031*\"face\" + 0.026*\"pressure\" + 0.020*\"keep\" + 0.017*\"world\" + '\n",
      "  '0.016*\"role\" + 0.012*\"evil\"'),\n",
      " (2,\n",
      "  '0.076*\"change\" + 0.016*\"know\" + 0.014*\"shareholder\" + 0.014*\"back\" + '\n",
      "  '0.014*\"amp\" + 0.013*\"win\" + 0.012*\"shell\" + 0.011*\"hold\" + 0.011*\"say\" + '\n",
      "  '0.010*\"technology\"'),\n",
      " (3,\n",
      "  '0.076*\"exxon\" + 0.055*\"emission\" + 0.025*\"plan\" + 0.023*\"business\" + '\n",
      "  '0.022*\"strategy\" + 0.016*\"time\" + 0.015*\"need\" + 0.015*\"reveal\" + '\n",
      "  '0.015*\"investment\" + 0.014*\"cut\"')]\n"
     ]
    }
   ],
   "source": [
    "# Print the Keyword in the topics\n",
    "pprint(lda_model.print_topics())\n",
    "doc_lda = lda_model[corpus]"
   ]
  },
  {
   "cell_type": "markdown",
   "id": "d2a08cd6-7d24-4d44-b4b9-398195a86847",
   "metadata": {
    "tags": []
   },
   "source": [
    "### Compute model perplexity and coherence score"
   ]
  },
  {
   "cell_type": "code",
   "execution_count": 69,
   "id": "0d82ce0a-a3f3-410d-84e0-140df9173b4a",
   "metadata": {},
   "outputs": [
    {
     "name": "stdout",
     "output_type": "stream",
     "text": [
      "\n",
      "Perplexity:  -7.789235030433813\n",
      "\n",
      "Coherence Score:  0.2835521626373156\n"
     ]
    }
   ],
   "source": [
    "# Compute Perplexity\n",
    "print('\\nPerplexity: ', lda_model.log_perplexity(corpus))  # a measure of how good the model is. lower the better.\n",
    "\n",
    "# Compute Coherence Score\n",
    "coherence_model_lda = CoherenceModel(model=lda_model, texts=tweet_lemmatized, dictionary=id2word, coherence='c_v')\n",
    "coherence_lda = coherence_model_lda.get_coherence()\n",
    "print('\\nCoherence Score: ', coherence_lda)"
   ]
  },
  {
   "cell_type": "code",
   "execution_count": 70,
   "id": "77942d7d-c8f8-4bd2-9df3-2fd7cdbb7ece",
   "metadata": {},
   "outputs": [
    {
     "name": "stderr",
     "output_type": "stream",
     "text": [
      "/opt/anaconda3/lib/python3.9/site-packages/pyLDAvis/_prepare.py:246: FutureWarning: In a future version of pandas all arguments of DataFrame.drop except for the argument 'labels' will be keyword-only\n",
      "  default_term_info = default_term_info.sort_values(\n",
      "/opt/anaconda3/lib/python3.9/site-packages/past/builtins/misc.py:45: DeprecationWarning: the imp module is deprecated in favour of importlib; see the module's documentation for alternative uses\n",
      "  from imp import reload\n",
      "/opt/anaconda3/lib/python3.9/site-packages/past/builtins/misc.py:45: DeprecationWarning: the imp module is deprecated in favour of importlib; see the module's documentation for alternative uses\n",
      "  from imp import reload\n",
      "/opt/anaconda3/lib/python3.9/site-packages/past/builtins/misc.py:45: DeprecationWarning: the imp module is deprecated in favour of importlib; see the module's documentation for alternative uses\n",
      "  from imp import reload\n",
      "/opt/anaconda3/lib/python3.9/site-packages/past/builtins/misc.py:45: DeprecationWarning: the imp module is deprecated in favour of importlib; see the module's documentation for alternative uses\n",
      "  from imp import reload\n",
      "/opt/anaconda3/lib/python3.9/site-packages/past/builtins/misc.py:45: DeprecationWarning: the imp module is deprecated in favour of importlib; see the module's documentation for alternative uses\n",
      "  from imp import reload\n",
      "/opt/anaconda3/lib/python3.9/site-packages/past/builtins/misc.py:45: DeprecationWarning: the imp module is deprecated in favour of importlib; see the module's documentation for alternative uses\n",
      "  from imp import reload\n",
      "/opt/anaconda3/lib/python3.9/site-packages/past/builtins/misc.py:45: DeprecationWarning: the imp module is deprecated in favour of importlib; see the module's documentation for alternative uses\n",
      "  from imp import reload\n",
      "/opt/anaconda3/lib/python3.9/site-packages/past/builtins/misc.py:45: DeprecationWarning: the imp module is deprecated in favour of importlib; see the module's documentation for alternative uses\n",
      "  from imp import reload\n"
     ]
    },
    {
     "data": {
      "text/html": [
       "\n",
       "<link rel=\"stylesheet\" type=\"text/css\" href=\"https://cdn.jsdelivr.net/gh/bmabey/pyLDAvis@3.3.1/pyLDAvis/js/ldavis.v1.0.0.css\">\n",
       "\n",
       "\n",
       "<div id=\"ldavis_el221341406162291679526095798397\"></div>\n",
       "<script type=\"text/javascript\">\n",
       "\n",
       "var ldavis_el221341406162291679526095798397_data = {\"mdsDat\": {\"x\": [0.0060244112085331815, -0.3461096707933576, 0.14130077130338473, 0.19878448828143985], \"y\": [-0.34597586005845077, 0.11592199846502198, 0.06132368892759026, 0.16873017266583878], \"topics\": [1, 2, 3, 4], \"cluster\": [1, 1, 1, 1], \"Freq\": [36.67079799957951, 35.28396921819299, 14.633584893196963, 13.411647889030535]}, \"tinfo\": {\"Term\": [\"change\", \"oil\", \"exxon\", \"big\", \"crisis\", \"emission\", \"activist\", \"new\", \"fuel\", \"investor\", \"board\", \"fossil\", \"vote\", \"face\", \"pressure\", \"plan\", \"company\", \"business\", \"strategy\", \"know\", \"use\", \"keep\", \"giant\", \"energy\", \"back\", \"amp\", \"seat\", \"downplay\", \"fight\", \"win\", \"change\", \"back\", \"amp\", \"win\", \"know\", \"shell\", \"hold\", \"chevron\", \"future\", \"technology\", \"director\", \"get\", \"case\", \"carbon\", \"address\", \"risk\", \"report\", \"project\", \"historic\", \"much\", \"court\", \"day\", \"public\", \"good\", \"news\", \"support\", \"fund\", \"today\", \"come\", \"group\", \"study\", \"find\", \"could_slow\", \"shareholder\", \"make\", \"bloomberg_businessweek\", \"say\", \"year\", \"industry\", \"company\", \"oil\", \"big\", \"activist\", \"new\", \"investor\", \"board\", \"giant\", \"energy\", \"seat\", \"fight\", \"use\", \"least\", \"gas\", \"major\", \"push\", \"take\", \"engine\", \"go\", \"sue\", \"lose\", \"large\", \"clean\", \"member\", \"see\", \"hedge_fund\", \"xom\", \"lawsuit\", \"decade\", \"environmental\", \"transition\", \"downplay\", \"ad\", \"company\", \"say\", \"industry\", \"crisis\", \"fuel\", \"fossil\", \"vote\", \"face\", \"pressure\", \"keep\", \"world\", \"role\", \"evil\", \"exxonmobil\", \"concern\", \"invest\", \"co\", \"question\", \"corporation\", \"former\", \"petition\", \"annual\", \"protect\", \"lie\", \"subsidy\", \"grow\", \"political\", \"high\", \"ask\", \"regulation\", \"research\", \"drive\", \"part\", \"onto_consumer\", \"action\", \"year\", \"exxon\", \"emission\", \"plan\", \"strategy\", \"time\", \"reveal\", \"need\", \"investment\", \"cut\", \"damage\", \"first\", \"well\", \"leaked_document\", \"force\", \"rise\", \"move\", \"focus\", \"wind\", \"reduce\", \"lucrative\", \"solar\", \"setback\", \"ambitious\", \"essential\", \"assessment\", \"break\", \"battle\", \"committing_ecocide\", \"shows_yearly\", \"urge\", \"dark\", \"help\", \"full\", \"target\", \"business\", \"reversing\", \"quietly_shelve\", \"put\"], \"Freq\": [5694.0, 4590.0, 2065.0, 3038.0, 1604.0, 1513.0, 2924.0, 2364.0, 1268.0, 2319.0, 2052.0, 1075.0, 1040.0, 912.0, 764.0, 690.0, 2542.0, 802.0, 608.0, 1189.0, 1128.0, 605.0, 1099.0, 1097.0, 1056.0, 1044.0, 1001.0, 1018.0, 954.0, 979.0, 5693.742315029541, 1055.9313053797266, 1043.796976192874, 978.9235973634975, 1188.2300174681516, 868.7375665906964, 822.6955666681873, 641.1991128208381, 714.6586414793593, 758.7728805747757, 622.1894920401329, 531.9902542524088, 504.5809504626778, 510.21024945598475, 502.86561535789076, 467.41415343925036, 454.9512081497165, 491.6515431353216, 468.84376709791053, 430.64319496975503, 390.8645784013185, 387.50439285797603, 414.98952579380045, 371.7601798641002, 370.45074759350484, 344.1549349490404, 352.2011534944683, 320.88600664925434, 315.63974028085954, 305.1945443657044, 597.9539416780401, 479.73574764775975, 603.844044347728, 1079.28675178533, 636.0205894699144, 386.6998751166773, 790.5972452967077, 536.855986713749, 518.0466104057939, 558.6903733279892, 4589.516403910201, 3038.0785309420403, 2923.7410170534936, 2364.208652141829, 2318.452329164724, 2051.513464434989, 1098.4675725255738, 1096.9726816514174, 1000.9378305215178, 953.3046795317063, 1127.3383203717447, 826.6126779469504, 740.21961917653, 699.5329290241249, 671.9587238616062, 625.7380524102333, 535.2328416256372, 503.8492492710475, 665.0678940150045, 459.5580649395231, 504.6349284923222, 439.22607312675007, 434.820806564385, 342.00390438578046, 327.8520281289206, 337.1580978103984, 333.9063562044248, 329.5033269027944, 307.1133557417116, 286.48130385488633, 1013.4884625394475, 363.89146024815534, 1983.1876551668097, 798.3481275840138, 494.7412272525125, 1603.5785168498855, 1268.2738566245698, 1074.649476680598, 1040.0978153644623, 912.089440328577, 763.6458587230167, 604.379587951068, 493.9498911896963, 478.7480709138735, 368.6441555375975, 340.0342791469421, 344.4206670768914, 355.3297733425399, 329.75643317271647, 291.74966666010147, 278.1959755747848, 264.8297431201711, 274.3476448788832, 278.7036760329385, 227.0533114144304, 224.21417733027394, 258.81890760864746, 212.73776496621275, 228.53670800947182, 267.20754284366154, 192.6394465947114, 189.1173265996229, 180.50467165344972, 160.5289159948414, 158.55988022996704, 195.99997769329855, 253.26633200329698, 276.9591031438349, 2064.301379570337, 1512.337893641499, 689.8019968746468, 608.0981134531512, 449.0305149458081, 412.4181155849882, 415.7084634702224, 398.92646570040404, 377.20742300506964, 346.0047873149928, 339.2788134122651, 300.49803067601357, 276.3437325094161, 262.08441601681943, 248.58596296266586, 251.4386487339242, 268.82742322843166, 251.2703464419655, 231.44464106876376, 215.87507981003608, 233.9652153942158, 182.5424554981607, 219.7480125520504, 203.1563385279274, 160.21506221055026, 169.73215066143737, 173.17421176656464, 159.43111115000508, 159.43111115000508, 208.97440660515758, 203.37940887341566, 277.0354726988391, 164.20037417526456, 214.17776515736122, 614.2920947265308, 195.01666345018822, 189.5332706998334, 237.09091642188676], \"Total\": [5694.0, 4590.0, 2065.0, 3038.0, 1604.0, 1513.0, 2924.0, 2364.0, 1268.0, 2319.0, 2052.0, 1075.0, 1040.0, 912.0, 764.0, 690.0, 2542.0, 802.0, 608.0, 1189.0, 1128.0, 605.0, 1099.0, 1097.0, 1056.0, 1044.0, 1001.0, 1018.0, 954.0, 979.0, 5694.539662504031, 1056.7348549056144, 1044.5931601339717, 979.7281077509248, 1189.2572728427485, 869.5206174960298, 823.5096297425416, 641.9785267022629, 715.5429095949288, 759.7142415173604, 622.9971280546271, 532.7722671834888, 505.36982327874824, 511.0313824233785, 503.68244620867193, 468.2413553422978, 455.7687577349182, 492.56704347670615, 469.72509931654076, 431.4833653205227, 391.63620890373227, 388.27024636896897, 415.85212366451924, 372.53608550008465, 371.2389186158079, 344.94007824063755, 353.0225288244517, 321.6699694586323, 316.4309402204789, 305.9874692751692, 600.3707456118069, 482.78882852265934, 621.181915140354, 1176.0455265662438, 671.749611402026, 400.251794024857, 1589.4855344071948, 814.3175393962645, 1013.3306070176087, 2542.410434041812, 4590.273397000866, 3038.8290609893415, 2924.482560686014, 2364.9739474762355, 2319.2265488156604, 2052.251975050029, 1099.2215073316243, 1097.7353955575873, 1001.6722044956316, 954.0418710728943, 1128.2794271078694, 827.3481519329847, 740.988564707117, 700.2957411200371, 672.6928267158897, 626.523711467967, 535.9695178399959, 504.6275114092531, 666.0995007792516, 460.30620046595226, 505.475091214854, 439.96345053923994, 435.55656657869093, 342.7571912160622, 328.5883594149841, 337.94358608368844, 334.74633814678816, 330.36537333532664, 307.94002676886964, 287.25356635027157, 1018.0250091671102, 365.00103262640636, 2542.410434041812, 1589.4855344071948, 1013.3306070176087, 1604.3042250963217, 1268.9676400375852, 1075.3367200777823, 1040.811530610176, 912.7942948642918, 764.3881933363305, 605.1666530621776, 494.67205235679313, 479.46955300016873, 369.36690189595095, 340.7288529394682, 345.1443058771382, 356.07789201873385, 330.5296047847244, 292.4784347584718, 278.90373930972265, 265.60118036669354, 275.1794984640462, 279.5551692159094, 227.758731831065, 224.9187723321108, 259.66299923797857, 213.44571447484634, 229.33456669663397, 268.1514028563142, 193.36842553962236, 189.8575926353404, 181.2492243462593, 161.22784476904098, 159.29605942022175, 197.09198179487245, 574.5288280525011, 814.3175393962645, 2065.095865274447, 1513.128690191666, 690.583571414736, 608.8911470025291, 449.8291935681531, 413.1894141711929, 416.5079246695093, 399.7183682983744, 378.0012744062328, 346.80352175008574, 340.09269215826754, 301.30662426928046, 277.1044419572781, 262.87995391968303, 249.36909779916886, 252.25570811671597, 269.70413321780444, 252.1005548781166, 232.22527864263904, 216.63317868705215, 234.82860799275994, 183.34097270966032, 220.71997141929594, 204.11519803366153, 160.97319780908336, 170.53673515552396, 173.9952747733978, 160.1884007707011, 160.1884007707011, 209.9825506152625, 204.56001816254178, 279.52724903730956, 165.09923763392595, 218.59638210978576, 802.2257312401449, 201.78214918652102, 195.67044104976821, 377.6656721954979], \"Category\": [\"Default\", \"Default\", \"Default\", \"Default\", \"Default\", \"Default\", \"Default\", \"Default\", \"Default\", \"Default\", \"Default\", \"Default\", \"Default\", \"Default\", \"Default\", \"Default\", \"Default\", \"Default\", \"Default\", \"Default\", \"Default\", \"Default\", \"Default\", \"Default\", \"Default\", \"Default\", \"Default\", \"Default\", \"Default\", \"Default\", \"Topic1\", \"Topic1\", \"Topic1\", \"Topic1\", \"Topic1\", \"Topic1\", \"Topic1\", \"Topic1\", \"Topic1\", \"Topic1\", \"Topic1\", \"Topic1\", \"Topic1\", \"Topic1\", \"Topic1\", \"Topic1\", \"Topic1\", \"Topic1\", \"Topic1\", \"Topic1\", \"Topic1\", \"Topic1\", \"Topic1\", \"Topic1\", \"Topic1\", \"Topic1\", \"Topic1\", \"Topic1\", \"Topic1\", \"Topic1\", \"Topic1\", \"Topic1\", \"Topic1\", \"Topic1\", \"Topic1\", \"Topic1\", \"Topic1\", \"Topic1\", \"Topic1\", \"Topic1\", \"Topic2\", \"Topic2\", \"Topic2\", \"Topic2\", \"Topic2\", \"Topic2\", \"Topic2\", \"Topic2\", \"Topic2\", \"Topic2\", \"Topic2\", \"Topic2\", \"Topic2\", \"Topic2\", \"Topic2\", \"Topic2\", \"Topic2\", \"Topic2\", \"Topic2\", \"Topic2\", \"Topic2\", \"Topic2\", \"Topic2\", \"Topic2\", \"Topic2\", \"Topic2\", \"Topic2\", \"Topic2\", \"Topic2\", \"Topic2\", \"Topic2\", \"Topic2\", \"Topic2\", \"Topic2\", \"Topic2\", \"Topic3\", \"Topic3\", \"Topic3\", \"Topic3\", \"Topic3\", \"Topic3\", \"Topic3\", \"Topic3\", \"Topic3\", \"Topic3\", \"Topic3\", \"Topic3\", \"Topic3\", \"Topic3\", \"Topic3\", \"Topic3\", \"Topic3\", \"Topic3\", \"Topic3\", \"Topic3\", \"Topic3\", \"Topic3\", \"Topic3\", \"Topic3\", \"Topic3\", \"Topic3\", \"Topic3\", \"Topic3\", \"Topic3\", \"Topic3\", \"Topic3\", \"Topic3\", \"Topic3\", \"Topic4\", \"Topic4\", \"Topic4\", \"Topic4\", \"Topic4\", \"Topic4\", \"Topic4\", \"Topic4\", \"Topic4\", \"Topic4\", \"Topic4\", \"Topic4\", \"Topic4\", \"Topic4\", \"Topic4\", \"Topic4\", \"Topic4\", \"Topic4\", \"Topic4\", \"Topic4\", \"Topic4\", \"Topic4\", \"Topic4\", \"Topic4\", \"Topic4\", \"Topic4\", \"Topic4\", \"Topic4\", \"Topic4\", \"Topic4\", \"Topic4\", \"Topic4\", \"Topic4\", \"Topic4\", \"Topic4\", \"Topic4\", \"Topic4\", \"Topic4\"], \"logprob\": [30.0, 29.0, 28.0, 27.0, 26.0, 25.0, 24.0, 23.0, 22.0, 21.0, 20.0, 19.0, 18.0, 17.0, 16.0, 15.0, 14.0, 13.0, 12.0, 11.0, 10.0, 9.0, 8.0, 7.0, 6.0, 5.0, 4.0, 3.0, 2.0, 1.0, -2.5718, -4.2567, -4.2683, -4.3325, -4.1387, -4.4519, -4.5063, -4.7556, -4.6471, -4.5872, -4.7857, -4.9423, -4.9952, -4.9841, -4.9986, -5.0717, -5.0987, -5.0211, -5.0686, -5.1536, -5.2506, -5.2592, -5.1907, -5.3007, -5.3042, -5.3778, -5.3547, -5.4478, -5.4643, -5.498, -4.8254, -5.0457, -4.8156, -4.2349, -4.7637, -5.2613, -4.5461, -4.9332, -4.9689, -4.8933, -2.7488, -3.1614, -3.1997, -3.4122, -3.4317, -3.554, -4.1787, -4.1801, -4.2717, -4.3204, -4.1528, -4.463, -4.5734, -4.63, -4.6702, -4.7414, -4.8977, -4.9581, -4.6805, -5.0501, -4.9565, -5.0954, -5.1054, -5.3455, -5.3878, -5.3598, -5.3695, -5.3828, -5.4532, -5.5227, -4.2592, -5.2835, -3.5879, -4.4978, -4.9763, -2.9203, -3.1548, -3.3205, -3.3532, -3.4845, -3.6622, -3.8961, -4.0978, -4.1291, -4.3904, -4.4712, -4.4584, -4.4272, -4.5019, -4.6244, -4.6719, -4.7212, -4.6859, -4.6701, -4.8751, -4.8877, -4.7441, -4.9402, -4.8686, -4.7122, -5.0394, -5.0579, -5.1045, -5.2218, -5.2341, -5.0221, -4.7658, -4.6764, -2.5805, -2.8916, -3.6767, -3.8027, -4.106, -4.191, -4.1831, -4.2243, -4.2803, -4.3666, -4.3862, -4.5076, -4.5914, -4.6444, -4.6973, -4.6859, -4.619, -4.6865, -4.7687, -4.8384, -4.7579, -5.0061, -4.8206, -4.8991, -5.1365, -5.0788, -5.0588, -5.1414, -5.1414, -4.8708, -4.898, -4.5889, -5.112, -4.8463, -3.7926, -4.94, -4.9685, -4.7446], \"loglift\": [30.0, 29.0, 28.0, 27.0, 26.0, 25.0, 24.0, 23.0, 22.0, 21.0, 20.0, 19.0, 18.0, 17.0, 16.0, 15.0, 14.0, 13.0, 12.0, 11.0, 10.0, 9.0, 8.0, 7.0, 6.0, 5.0, 4.0, 3.0, 2.0, 1.0, 1.003, 1.0024, 1.0024, 1.0024, 1.0023, 1.0023, 1.0022, 1.002, 1.002, 1.0019, 1.0019, 1.0017, 1.0016, 1.0016, 1.0016, 1.0014, 1.0014, 1.0013, 1.0013, 1.0012, 1.0012, 1.0012, 1.0011, 1.0011, 1.0011, 1.0009, 1.0009, 1.0007, 1.0007, 1.0006, 0.9992, 0.9968, 0.9749, 0.9173, 0.9485, 0.9687, 0.3048, 0.5866, 0.3323, -0.5121, 1.0416, 1.0415, 1.0415, 1.0414, 1.0414, 1.0414, 1.0411, 1.041, 1.041, 1.041, 1.0409, 1.0409, 1.0407, 1.0407, 1.0406, 1.0405, 1.0404, 1.0402, 1.0402, 1.0401, 1.0401, 1.0401, 1.0401, 1.0395, 1.0395, 1.0394, 1.0392, 1.0391, 1.0391, 1.039, 1.0373, 1.0387, 0.7933, 0.3531, 0.3248, 1.9214, 1.9213, 1.9212, 1.9212, 1.9211, 1.9209, 1.9205, 1.9204, 1.9203, 1.9199, 1.9198, 1.9198, 1.9197, 1.9195, 1.9194, 1.9193, 1.9189, 1.9188, 1.9188, 1.9187, 1.9187, 1.9186, 1.9185, 1.9184, 1.9183, 1.9181, 1.9179, 1.9177, 1.9175, 1.9172, 1.9163, 1.1027, 0.8434, 2.0087, 2.0085, 2.0079, 2.0077, 2.0073, 2.0072, 2.0071, 2.0071, 2.0069, 2.0067, 2.0067, 2.0064, 2.0063, 2.006, 2.0059, 2.0058, 2.0058, 2.0057, 2.0057, 2.0055, 2.0054, 2.0047, 2.0046, 2.0043, 2.0043, 2.0043, 2.0043, 2.0043, 2.0043, 2.0042, 2.0033, 2.0001, 2.0036, 1.9886, 1.7421, 1.9749, 1.9772, 1.5435]}, \"token.table\": {\"Topic\": [1, 3, 2, 2, 1, 4, 1, 3, 3, 4, 1, 4, 2, 1, 2, 3, 4, 2, 4, 1, 4, 1, 1, 1, 1, 2, 3, 1, 4, 1, 2, 3, 3, 1, 2, 3, 4, 1, 3, 4, 4, 3, 4, 1, 2, 1, 2, 3, 3, 4, 2, 2, 2, 4, 3, 4, 3, 3, 2, 1, 2, 4, 4, 4, 3, 3, 3, 4, 1, 1, 2, 1, 2, 2, 1, 1, 3, 2, 2, 4, 3, 1, 1, 1, 2, 3, 4, 2, 3, 1, 2, 2, 4, 2, 3, 2, 4, 2, 1, 2, 2, 4, 1, 4, 2, 1, 2, 2, 3, 3, 3, 4, 3, 3, 1, 3, 1, 2, 3, 4, 3, 1, 2, 3, 4, 4, 3, 1, 3, 4, 1, 2, 3, 4, 4, 1, 3, 1, 2, 2, 2, 4, 1, 4, 1, 4, 4, 4, 1, 3, 3, 2, 1, 2, 2, 4, 1, 4, 1, 2, 4, 2, 3, 4, 1, 4, 3, 2, 1, 3], \"Freq\": [0.5587187001357339, 0.4403608446552669, 0.999834992797529, 0.9972574526181384, 0.9986450863757337, 0.996738077598206, 0.9994321615758085, 0.9980140978345471, 0.9980946964914555, 0.9939542866618232, 0.9993045985923498, 0.9942798746995055, 0.9997271774842539, 0.9668913563344727, 0.022485845496150528, 0.007495281832050176, 0.004996854554700118, 0.9998772202180373, 0.9968526713318718, 0.23310147346049395, 0.7653706133943492, 0.9979817630406815, 0.9992682125807416, 0.9999052315839356, 0.9984757641236235, 0.9978101577800177, 0.9983977084743457, 0.998638122365093, 0.9925812308195635, 0.2198700856931768, 0.7799684793015556, 0.9966845581466857, 0.9967596730256849, 0.9723399623820796, 0.017708178122852445, 0.004829503124414302, 0.004829503124414302, 0.9983755105139202, 0.9998103694476629, 0.9973511348399403, 0.99768306346478, 0.004888540825242828, 0.9923737875242942, 0.9993039735300444, 0.9988940325929504, 0.9983994660493208, 0.9950639629460367, 0.0039291765565490095, 0.9985868150171742, 0.999254068606998, 0.9993300793974911, 0.9981910951878324, 0.996947370633389, 0.9945364282307013, 0.9990066735972616, 0.9994693392723919, 0.997860900439806, 0.9991298205206136, 0.9989079398876669, 0.9942235023722624, 0.004142597926551093, 0.996787075454832, 0.997389238313097, 0.9966526397065945, 0.9977365297629192, 0.999686870101713, 0.9992374588546982, 0.9933419581478427, 0.9971035026352095, 0.999241262001693, 0.9986658839903856, 0.9985504741311492, 0.9988887523365609, 0.998756485932563, 0.9985609836980892, 0.9967728440726402, 0.9979118134278641, 0.9982094331764169, 0.007154937512847102, 0.9909588455293236, 0.9957061464379839, 0.9984563326132757, 0.9993811490186205, 0.5111855858420732, 0.4884881563548769, 0.9969728757586637, 0.9982028138926101, 0.9994711388517492, 0.9980721788679626, 0.9989428083632877, 0.9990601095422681, 0.9977704367106149, 0.9960143476969295, 0.9995791953699645, 0.9959150927128744, 0.9993347896125616, 0.9970771850789909, 0.9995776911058118, 0.9467813441269999, 0.05210274692522798, 0.9987221715354615, 0.9950220824492306, 0.9988797590837282, 0.9987805161932697, 0.9995881783487405, 0.9966627458661196, 0.9999404399308668, 0.0050737731230526195, 0.9944595321183134, 0.9981414517013208, 0.9957137124290517, 0.9991549590246689, 0.9985411414360551, 0.999492151579898, 0.9988487993985473, 0.9966687036542345, 0.9979508974079289, 0.9989700697132863, 0.370698240023068, 0.6275391634676223, 0.9983642050092791, 0.015331901864712201, 0.010221267909808134, 0.005110633954904067, 0.9710204514317727, 0.9947237499302366, 0.9954829689798733, 0.9983132724174891, 0.9986249632396595, 0.9971213827595784, 0.019823359083674576, 0.009911679541837288, 0.004955839770918644, 0.9663887553291356, 0.9985198735431681, 0.9973488985367592, 0.9990206823410775, 0.49764529646695194, 0.5020492371436507, 0.9993289176912221, 0.9977908816052092, 0.9981402263519116, 0.9174814882808218, 0.08162949293323345, 0.9994012591702207, 0.9925812308195635, 0.99647143506133, 0.9985364428323255, 0.996051197315767, 0.003331274907410592, 0.9974466934452569, 0.9983493445379177, 0.9972746621806535, 0.9991640995250763, 0.01829856451142489, 0.9789732013612314, 0.99905985503716, 0.9981566479454663, 0.9979172147783648, 0.9956360285924423, 0.9953207987407355, 0.998866037014298, 0.9992202905268542, 0.9956634731398646, 0.9992568267204294, 0.9956344607069639, 0.9986414183829646, 0.997207859173706, 0.6594479106984876, 0.34016214387985305], \"Term\": [\"action\", \"action\", \"activist\", \"ad\", \"address\", \"ambitious\", \"amp\", \"annual\", \"ask\", \"assessment\", \"back\", \"battle\", \"big\", \"bloomberg_businessweek\", \"bloomberg_businessweek\", \"bloomberg_businessweek\", \"bloomberg_businessweek\", \"board\", \"break\", \"business\", \"business\", \"carbon\", \"case\", \"change\", \"chevron\", \"clean\", \"co\", \"come\", \"committing_ecocide\", \"company\", \"company\", \"concern\", \"corporation\", \"could_slow\", \"could_slow\", \"could_slow\", \"could_slow\", \"court\", \"crisis\", \"cut\", \"damage\", \"dark\", \"dark\", \"day\", \"decade\", \"director\", \"downplay\", \"downplay\", \"drive\", \"emission\", \"energy\", \"engine\", \"environmental\", \"essential\", \"evil\", \"exxon\", \"exxonmobil\", \"face\", \"fight\", \"find\", \"find\", \"first\", \"focus\", \"force\", \"former\", \"fossil\", \"fuel\", \"full\", \"fund\", \"future\", \"gas\", \"get\", \"giant\", \"go\", \"good\", \"group\", \"grow\", \"hedge_fund\", \"help\", \"help\", \"high\", \"historic\", \"hold\", \"industry\", \"industry\", \"invest\", \"investment\", \"investor\", \"keep\", \"know\", \"large\", \"lawsuit\", \"leaked_document\", \"least\", \"lie\", \"lose\", \"lucrative\", \"major\", \"make\", \"make\", \"member\", \"move\", \"much\", \"need\", \"new\", \"news\", \"oil\", \"onto_consumer\", \"onto_consumer\", \"part\", \"petition\", \"plan\", \"political\", \"pressure\", \"project\", \"protect\", \"public\", \"push\", \"put\", \"put\", \"question\", \"quietly_shelve\", \"quietly_shelve\", \"quietly_shelve\", \"quietly_shelve\", \"reduce\", \"regulation\", \"report\", \"research\", \"reveal\", \"reversing\", \"reversing\", \"reversing\", \"reversing\", \"rise\", \"risk\", \"role\", \"say\", \"say\", \"seat\", \"see\", \"setback\", \"shareholder\", \"shareholder\", \"shell\", \"shows_yearly\", \"solar\", \"strategy\", \"study\", \"study\", \"subsidy\", \"sue\", \"support\", \"take\", \"target\", \"target\", \"technology\", \"time\", \"today\", \"transition\", \"urge\", \"use\", \"vote\", \"well\", \"win\", \"wind\", \"world\", \"xom\", \"year\", \"year\"]}, \"R\": 30, \"lambda.step\": 0.01, \"plot.opts\": {\"xlab\": \"PC1\", \"ylab\": \"PC2\"}, \"topic.order\": [3, 1, 2, 4]};\n",
       "\n",
       "function LDAvis_load_lib(url, callback){\n",
       "  var s = document.createElement('script');\n",
       "  s.src = url;\n",
       "  s.async = true;\n",
       "  s.onreadystatechange = s.onload = callback;\n",
       "  s.onerror = function(){console.warn(\"failed to load library \" + url);};\n",
       "  document.getElementsByTagName(\"head\")[0].appendChild(s);\n",
       "}\n",
       "\n",
       "if(typeof(LDAvis) !== \"undefined\"){\n",
       "   // already loaded: just create the visualization\n",
       "   !function(LDAvis){\n",
       "       new LDAvis(\"#\" + \"ldavis_el221341406162291679526095798397\", ldavis_el221341406162291679526095798397_data);\n",
       "   }(LDAvis);\n",
       "}else if(typeof define === \"function\" && define.amd){\n",
       "   // require.js is available: use it to load d3/LDAvis\n",
       "   require.config({paths: {d3: \"https://d3js.org/d3.v5\"}});\n",
       "   require([\"d3\"], function(d3){\n",
       "      window.d3 = d3;\n",
       "      LDAvis_load_lib(\"https://cdn.jsdelivr.net/gh/bmabey/pyLDAvis@3.3.1/pyLDAvis/js/ldavis.v3.0.0.js\", function(){\n",
       "        new LDAvis(\"#\" + \"ldavis_el221341406162291679526095798397\", ldavis_el221341406162291679526095798397_data);\n",
       "      });\n",
       "    });\n",
       "}else{\n",
       "    // require.js not available: dynamically load d3 & LDAvis\n",
       "    LDAvis_load_lib(\"https://d3js.org/d3.v5.js\", function(){\n",
       "         LDAvis_load_lib(\"https://cdn.jsdelivr.net/gh/bmabey/pyLDAvis@3.3.1/pyLDAvis/js/ldavis.v3.0.0.js\", function(){\n",
       "                 new LDAvis(\"#\" + \"ldavis_el221341406162291679526095798397\", ldavis_el221341406162291679526095798397_data);\n",
       "            })\n",
       "         });\n",
       "}\n",
       "</script>"
      ],
      "text/plain": [
       "PreparedData(topic_coordinates=              x         y  topics  cluster       Freq\n",
       "topic                                                \n",
       "2      0.006024 -0.345976       1        1  36.670798\n",
       "0     -0.346110  0.115922       2        1  35.283969\n",
       "1      0.141301  0.061324       3        1  14.633585\n",
       "3      0.198784  0.168730       4        1  13.411648, topic_info=                 Term         Freq        Total Category  logprob  loglift\n",
       "29             change  5694.000000  5694.000000  Default  30.0000  30.0000\n",
       "41                oil  4590.000000  4590.000000  Default  29.0000  29.0000\n",
       "20              exxon  2065.000000  2065.000000  Default  28.0000  28.0000\n",
       "28                big  3038.000000  3038.000000  Default  27.0000  27.0000\n",
       "52             crisis  1604.000000  1604.000000  Default  26.0000  26.0000\n",
       "...               ...          ...          ...      ...      ...      ...\n",
       "175            target   214.177765   218.596382   Topic4  -4.8463   1.9886\n",
       "17           business   614.292095   802.225731   Topic4  -3.7926   1.7421\n",
       "11056       reversing   195.016663   201.782149   Topic4  -4.9400   1.9749\n",
       "11055  quietly_shelve   189.533271   195.670441   Topic4  -4.9685   1.9772\n",
       "92                put   237.090916   377.665672   Topic4  -4.7446   1.5435\n",
       "\n",
       "[176 rows x 6 columns], token_table=      Topic      Freq      Term\n",
       "term                           \n",
       "63        1  0.558719    action\n",
       "63        3  0.440361    action\n",
       "172       2  0.999835  activist\n",
       "157       2  0.997257        ad\n",
       "931       1  0.998645   address\n",
       "...     ...       ...       ...\n",
       "3040      4  0.995634      wind\n",
       "206       3  0.998641     world\n",
       "778       2  0.997208       xom\n",
       "62        1  0.659448      year\n",
       "62        3  0.340162      year\n",
       "\n",
       "[170 rows x 3 columns], R=30, lambda_step=0.01, plot_opts={'xlab': 'PC1', 'ylab': 'PC2'}, topic_order=[3, 1, 2, 4])"
      ]
     },
     "execution_count": 70,
     "metadata": {},
     "output_type": "execute_result"
    }
   ],
   "source": [
    "# Visualize the topics\n",
    "pyLDAvis.enable_notebook()\n",
    "vis = pyLDAvis.gensim_models.prepare(lda_model, corpus, id2word)\n",
    "vis"
   ]
  },
  {
   "cell_type": "markdown",
   "id": "12e69ee4-15d9-47c5-844d-117d707ab222",
   "metadata": {},
   "source": [
    "# The Following code is still being working on"
   ]
  },
  {
   "cell_type": "markdown",
   "id": "376f4e9e-9158-4afc-933d-8571b63db883",
   "metadata": {
    "tags": []
   },
   "source": [
    "### Find the optimal number of topics"
   ]
  },
  {
   "cell_type": "code",
   "execution_count": 71,
   "id": "7ad00526-2503-4f3f-9f45-cbf49d3eb72e",
   "metadata": {},
   "outputs": [],
   "source": [
    "def compute_coherence_values(dictionary, corpus, texts, limit, start=2, step=3):\n",
    "    \"\"\"\n",
    "    Compute c_v coherence for various number of topics\n",
    "\n",
    "    Parameters:\n",
    "    ----------\n",
    "    dictionary : Gensim dictionary\n",
    "    corpus : Gensim corpus\n",
    "    texts : List of input texts\n",
    "    limit : Max num of topics\n",
    "\n",
    "    Returns:\n",
    "    -------\n",
    "    model_list : List of LDA topic models\n",
    "    coherence_values : Coherence values corresponding to the LDA model with respective number of topics\n",
    "    \"\"\"\n",
    "    coherence_values = []\n",
    "    model_list = []\n",
    "    for num_topics in range(start, limit, step):\n",
    "        model = gensim.models.ldamodel.LdaModel(corpus=corpus, num_topics=num_topics, id2word=id2word)\n",
    "        model_list.append(model)\n",
    "        coherencemodel = CoherenceModel(model=model, texts=texts, dictionary=dictionary, coherence='c_v')\n",
    "        coherence_values.append(coherencemodel.get_coherence())\n",
    "\n",
    "    return model_list, coherence_values"
   ]
  },
  {
   "cell_type": "code",
   "execution_count": 72,
   "id": "3900923d-71e3-48cc-9874-a5c45678b06e",
   "metadata": {},
   "outputs": [],
   "source": [
    "# Can take a long time to run.\n",
    "model_list, coherence_values = compute_coherence_values(dictionary=id2word, corpus=corpus, texts=tweet_lemmatized, start=2, limit=20, step=2)"
   ]
  },
  {
   "cell_type": "code",
   "execution_count": 73,
   "id": "3415d926-fdd9-4d0e-8d5e-7620b147d78b",
   "metadata": {},
   "outputs": [
    {
     "data": {
      "image/png": "[encoded data removed]",
      "text/plain": [
       "<Figure size 432x288 with 1 Axes>"
      ]
     },
     "metadata": {
      "needs_background": "light"
     },
     "output_type": "display_data"
    }
   ],
   "source": [
    "# Show graph\n",
    "limit=20; start=2; step=2;\n",
    "x = range(start, limit, step)\n",
    "plt.plot(x, coherence_values)\n",
    "plt.xlabel(\"Num Topics\")\n",
    "plt.ylabel(\"Coherence score\")\n",
    "plt.legend((\"coherence_values\"), loc='best')\n",
    "plt.show()"
   ]
  },
  {
   "cell_type": "code",
   "execution_count": 74,
   "id": "fa752331-e3ad-4d55-8b56-b4b5b2be33b2",
   "metadata": {},
   "outputs": [
    {
     "name": "stdout",
     "output_type": "stream",
     "text": [
      "Num Topics = 2  has Coherence Value of 0.2677\n",
      "Num Topics = 4  has Coherence Value of 0.3348\n",
      "Num Topics = 6  has Coherence Value of 0.3729\n",
      "Num Topics = 8  has Coherence Value of 0.3762\n",
      "Num Topics = 10  has Coherence Value of 0.3424\n",
      "Num Topics = 12  has Coherence Value of 0.3685\n",
      "Num Topics = 14  has Coherence Value of 0.3615\n",
      "Num Topics = 16  has Coherence Value of 0.3761\n",
      "Num Topics = 18  has Coherence Value of 0.3749\n"
     ]
    }
   ],
   "source": [
    "# Print the coherence scores\n",
    "for m, cv in zip(x, coherence_values):\n",
    "    print(\"Num Topics =\", m, \" has Coherence Value of\", round(cv, 4))"
   ]
  },
  {
   "cell_type": "code",
   "execution_count": 75,
   "id": "6457081c-f856-4de7-854e-8b8bfca718ad",
   "metadata": {},
   "outputs": [
    {
     "name": "stdout",
     "output_type": "stream",
     "text": [
      "[(0,\n",
      "  '0.059*\"activist\" + 0.045*\"change\" + 0.042*\"board\" + 0.039*\"investor\" + '\n",
      "  '0.027*\"oil\" + 0.023*\"new\" + 0.021*\"win\" + 0.019*\"shareholder\" + '\n",
      "  '0.019*\"company\" + 0.017*\"emission\"'),\n",
      " (1,\n",
      "  '0.031*\"crisis\" + 0.028*\"downplay\" + 0.027*\"use\" + 0.026*\"say\" + '\n",
      "  '0.025*\"engine\" + 0.022*\"change\" + 0.019*\"study\" + 0.018*\"action\" + '\n",
      "  '0.016*\"find\" + 0.016*\"company\"'),\n",
      " (2,\n",
      "  '0.031*\"change\" + 0.015*\"amp\" + 0.015*\"back\" + 0.012*\"make\" + 0.012*\"get\" + '\n",
      "  '0.011*\"hold\" + 0.010*\"say\" + 0.009*\"blow\" + 0.008*\"need\" + 0.008*\"exxon\"'),\n",
      " (3,\n",
      "  '0.056*\"historic\" + 0.044*\"director\" + 0.028*\"investor_oust\" + '\n",
      "  '0.028*\"science\" + 0.026*\"proclimate_campaign\" + 0.020*\"evil\" + 0.016*\"lie\" '\n",
      "  '+ 0.013*\"proposal\" + 0.012*\"tobacco\" + 0.012*\"wall_street\"'),\n",
      " (4,\n",
      "  '0.061*\"seat\" + 0.041*\"lobbyist\" + 0.030*\"push\" + 0.029*\"exxon\" + '\n",
      "  '0.028*\"video\" + 0.027*\"effort\" + 0.017*\"action\" + 0.017*\"strategy\" + '\n",
      "  '0.017*\"hedge_fund\" + 0.016*\"catch\"'),\n",
      " (5,\n",
      "  '0.097*\"fuel\" + 0.090*\"fossil\" + 0.064*\"pressure\" + 0.030*\"chevron\" + '\n",
      "  '0.028*\"year\" + 0.026*\"corporation\" + 0.022*\"end\" + 0.022*\"petition\" + '\n",
      "  '0.020*\"subsidy\" + 0.018*\"crisis\"'),\n",
      " (6,\n",
      "  '0.085*\"oil\" + 0.050*\"big\" + 0.037*\"change\" + 0.026*\"company\" + '\n",
      "  '0.016*\"giant\" + 0.016*\"gas\" + 0.013*\"industry\" + 0.012*\"day\" + '\n",
      "  '0.011*\"shell\" + 0.010*\"chevron\"'),\n",
      " (7,\n",
      "  '0.070*\"plan\" + 0.054*\"business\" + 0.053*\"exxon\" + 0.041*\"sue\" + '\n",
      "  '0.033*\"emission\" + 0.031*\"dutch\" + 0.029*\"time\" + 0.025*\"know\" + '\n",
      "  '0.024*\"damage\" + 0.024*\"reveal\"')]\n"
     ]
    }
   ],
   "source": [
    "# Select the model and print the topics\n",
    "optimal_model = model_list[3]\n",
    "model_topics = optimal_model.show_topics(formatted=False)\n",
    "pprint(optimal_model.print_topics(num_words=10))"
   ]
  },
  {
   "cell_type": "code",
   "execution_count": 76,
   "id": "89277f1f-5465-446a-b195-baa74dab95e0",
   "metadata": {},
   "outputs": [
    {
     "name": "stderr",
     "output_type": "stream",
     "text": [
      "/opt/anaconda3/lib/python3.9/site-packages/pyLDAvis/_prepare.py:246: FutureWarning: In a future version of pandas all arguments of DataFrame.drop except for the argument 'labels' will be keyword-only\n",
      "  default_term_info = default_term_info.sort_values(\n"
     ]
    },
    {
     "data": {
      "text/html": [
       "\n",
       "<link rel=\"stylesheet\" type=\"text/css\" href=\"https://cdn.jsdelivr.net/gh/bmabey/pyLDAvis@3.3.1/pyLDAvis/js/ldavis.v1.0.0.css\">\n",
       "\n",
       "\n",
       "<div id=\"ldavis_el22134140616227857008339381432\"></div>\n",
       "<script type=\"text/javascript\">\n",
       "\n",
       "var ldavis_el22134140616227857008339381432_data = {\"mdsDat\": {\"x\": [-0.18527985024056853, -0.10256711051813079, -0.15275438511168107, -0.08611574453790104, -0.009828524164995847, 0.1070620953553844, 0.21468950147123775, 0.214794017746655], \"y\": [0.04131505577946016, 0.046606630265648416, -0.032758493384906044, -0.09459228967912768, 0.1700660112264293, -0.2695164878245795, 0.17928310589009627, -0.04040353227302089], \"topics\": [1, 2, 3, 4, 5, 6, 7, 8], \"cluster\": [1, 1, 1, 1, 1, 1, 1, 1], \"Freq\": [18.96565025842235, 18.170281656157734, 17.797061825299707, 12.126616940738598, 12.04728507480459, 8.860378867741742, 7.16123741479756, 4.871487962037718]}, \"tinfo\": {\"Term\": [\"fuel\", \"fossil\", \"oil\", \"seat\", \"activist\", \"pressure\", \"plan\", \"exxon\", \"business\", \"investor\", \"board\", \"big\", \"historic\", \"lobbyist\", \"director\", \"emission\", \"sue\", \"downplay\", \"crisis\", \"video\", \"push\", \"engine\", \"chevron\", \"effort\", \"dutch\", \"use\", \"time\", \"corporation\", \"year\", \"reveal\", \"concern\", \"shift\", \"earning\", \"pension_fund\", \"worlds_bigg\", \"activism\", \"rebellion\", \"blame\", \"lower\", \"customer\", \"fall\", \"steer\", \"coalition\", \"guyanese_citizen\", \"deploy\", \"longterm\", \"dupe\", \"replace\", \"methane\", \"willing\", \"ambitious\", \"signal\", \"ignore\", \"international\", \"meat\", \"engage\", \"challenge\", \"slash\", \"pause\", \"era\", \"battle\", \"investor\", \"activist\", \"board\", \"member\", \"advocate\", \"win\", \"tipping_point\", \"least\", \"elect\", \"vote\", \"reduce\", \"heat\", \"pledge\", \"shareholder\", \"cut\", \"new\", \"risk\", \"environmental\", \"emission\", \"change\", \"technology\", \"green\", \"company\", \"energy\", \"oil\", \"show\", \"big\", \"fight\", \"exxon\", \"major\", \"face\", \"giant\", \"strategy\", \"lose\", \"shell\", \"report\", \"blow\", \"boardroom\", \"could_slow\", \"samp\", \"shake\", \"reckon\", \"unable\", \"quit\", \"bloomberg_businessweek\", \"bloomberg\", \"language\", \"pandemic\", \"economy\", \"conocophillip\", \"dividend\", \"deni\", \"be\", \"weak\", \"gain\", \"senior\", \"vehicle\", \"reach\", \"auto\", \"alter\", \"sting\", \"car\", \"governance\", \"difficult\", \"net_zero\", \"voting\", \"race\", \"reject\", \"set\", \"become\", \"proxy\", \"suit\", \"accountable\", \"back\", \"planet\", \"lot\", \"hold\", \"hard\", \"get\", \"people\", \"think\", \"article\", \"corporate\", \"make\", \"need\", \"amp\", \"huge\", \"case\", \"work\", \"change\", \"go\", \"also\", \"great\", \"world\", \"say\", \"news\", \"take\", \"business\", \"know\", \"future\", \"energy\", \"time\", \"exxon\", \"year\", \"support\", \"face\", \"victory\", \"essential\", \"dark\", \"expose\", \"here\", \"capital\", \"lawsuit\", \"gasoline\", \"petroleum\", \"broad\", \"subpoena\", \"send\", \"defend\", \"esg\", \"climaterelate\", \"denier\", \"york_time\", \"drill\", \"supreme_court\", \"going\", \"confront\", \"demonstrate\", \"remove\", \"mainstream\", \"matter\", \"fault\", \"debate\", \"shadow_group\", \"expand\", \"globally\", \"begin\", \"responsibility\", \"powerful_signal\", \"moment\", \"value\", \"market\", \"record\", \"gas\", \"oil\", \"giants_toward\", \"big\", \"former\", \"price\", \"argue\", \"day\", \"approach\", \"giant\", \"company\", \"industry\", \"court\", \"bad\", \"change\", \"address\", \"add\", \"today\", \"shell\", \"chevron\", \"shareholder\", \"impact\", \"demand\", \"fight\", \"major\", \"new\", \"take\", \"say\", \"year\", \"fund\", \"amp\", \"know\", \"good\", \"downplay\", \"defeat\", \"loss\", \"little\", \"criticize\", \"naming_senator\", \"appoint\", \"last_week\", \"undercover\", \"front\", \"aim\", \"tiny\", \"base\", \"misrepresent\", \"tricks_top\", \"revolt\", \"protect\", \"team\", \"number\", \"jet\", \"rhetoric\", \"stand\", \"agency\", \"economic\", \"however\", \"stall\", \"quickly\", \"urgent\", \"morning\", \"avoid\", \"engine\", \"study\", \"block\", \"find\", \"actively\", \"present\", \"use\", \"onto_consumer\", \"yesterday\", \"message\", \"crisis\", \"scientist\", \"facebook\", \"campaign\", \"role\", \"say\", \"action\", \"accord\", \"clean\", \"focus\", \"director\", \"public\", \"report\", \"company\", \"change\", \"spend\", \"ad\", \"take\", \"fuel\", \"fossil\", \"energy\", \"shell\", \"lobbyist\", \"push\", \"seat\", \"setback\", \"greenpeace\", \"climatechange\", \"wind\", \"undercut\", \"crucial\", \"power_shift\", \"concerns_cause\", \"say_youre\", \"rating\", \"landmark\", \"assessment\", \"committing_ecocide\", \"shows_yearly\", \"significant\", \"stake\", \"detail\", \"describe\", \"secretly_recorde\", \"die\", \"spotlight\", \"fighting\", \"bask\", \"common\", \"adapt\", \"ccs\", \"term\", \"sabotage\", \"sit\", \"playbook\", \"video\", \"ploy_ceo\", \"talk\", \"condemns_statement\", \"effort\", \"hedge_fund\", \"lobbyist\", \"push\", \"catch\", \"legislation\", \"secret\", \"investment\", \"undermine\", \"rise\", \"strategy\", \"exxon\", \"action\", \"court\", \"call\", \"new\", \"lose\", \"change\", \"reveal\", \"know\", \"fight\", \"shell\", \"say\", \"petition\", \"subsidy\", \"offshore_drilling\", \"sign\", \"combine\", \"end\", \"stakeholder\", \"taxpayerfunded_subsidie\", \"government_give\", \"sustainable\", \"ecosearch\", \"unveil\", \"politic\", \"div\", \"discussion\", \"contribute\", \"nominee\", \"bank\", \"inaction\", \"criticism\", \"kick\", \"determine\", \"rd\", \"tomorrow\", \"mess\", \"outright\", \"tweet\", \"chair\", \"estimate\", \"foundation\", \"pressure\", \"corporation\", \"judge\", \"fossil\", \"fuel\", \"storage\", \"appeal\", \"year\", \"chevron\", \"texas_governor\", \"fraud\", \"crisis\", \"doubt\", \"shell\", \"executive\", \"change\", \"face\", \"amp\", \"lucrative\", \"leaked_document\", \"result\", \"law\", \"disclose\", \"release\", \"half\", \"leadership\", \"dutch\", \"view\", \"score\", \"lowcarbon\", \"bipartisan\", \"deliver\", \"grade\", \"handful\", \"fundamental\", \"care_job\", \"vulnerable\", \"end_week\", \"back_better\", \"justice_urge\", \"blog\", \"experience\", \"insider\", \"soon\", \"spends_million\", \"mine\", \"surprising\", \"compensation\", \"sue\", \"pass\", \"return\", \"tech\", \"plan\", \"deep\", \"business\", \"damage\", \"measure\", \"infrastructure\", \"own\", \"time\", \"reveal\", \"exxon\", \"emission\", \"know\", \"go\", \"industry\", \"crisis\", \"coup\", \"referendum\", \"wall_street\", \"install\", \"electrification\", \"angst\", \"stave\", \"soul\", \"response\", \"respond\", \"notice\", \"harvard_researcher\", \"legal\", \"advocacy\", \"wednesday\", \"buck\", \"institute\", \"walk\", \"icymi\", \"stay\", \"office\", \"exacerbate\", \"liable\", \"conversation\", \"plaintiff\", \"bold\", \"fortune\", \"journal\", \"footprint\", \"outcome\", \"investor_oust\", \"proclimate_campaign\", \"proposal\", \"justice\", \"manage\", \"fuck\", \"historic\", \"tobacco\", \"evil\", \"science\", \"director\", \"due\", \"lie\", \"worlds_larg\", \"surprise\", \"city\", \"ceo\", \"week\", \"fight\", \"serious\", \"industry\", \"company\"], \"Freq\": [2034.0, 1864.0, 4388.0, 1498.0, 2484.0, 1180.0, 1165.0, 2426.0, 1079.0, 1585.0, 1827.0, 2716.0, 691.0, 1347.0, 879.0, 1351.0, 616.0, 690.0, 1306.0, 766.0, 981.0, 659.0, 1215.0, 807.0, 455.0, 831.0, 754.0, 491.0, 1013.0, 633.0, 224.67655093293962, 160.68574491622041, 117.79010102891205, 110.86016718595785, 91.44144606121452, 92.19861937658679, 86.1412777252657, 169.65083276462133, 81.07790609789461, 84.11660573890556, 66.03249782259793, 62.5715469144267, 58.475810135483705, 56.72910011587785, 63.03235190932329, 53.44262815897503, 52.945450198874724, 64.0303693567391, 50.20805027344912, 47.60777364479883, 81.80021413573999, 62.29394392092881, 73.47215125379756, 38.94417397294286, 38.39860193071546, 38.21810120307109, 190.00314461158987, 33.627804725216585, 35.14139302495699, 32.133726621960975, 165.4062432377505, 1491.424465252395, 2268.4568273200252, 1635.873006194938, 385.1624733859905, 67.53670794601516, 827.9875388924385, 174.55255873463994, 599.332702742881, 181.96016931554107, 547.3303291345316, 184.35166709827485, 78.54915489058007, 125.61634622141531, 744.5734258676256, 246.16851312563267, 899.5468473035728, 268.6091518916507, 140.48971207642134, 637.272658005404, 1748.823510550181, 207.32538115003223, 133.70921880010235, 733.5128136863844, 405.57272351654035, 1038.6514251728872, 189.0786987330712, 628.5183054071668, 356.00889113617467, 563.3153005496066, 250.35371052723377, 253.13228917233303, 295.5323974021891, 257.4661194507425, 213.4104265624152, 250.33621058098475, 186.12765138693933, 333.7188640646696, 178.0666993450819, 246.98352015553996, 155.95005005659948, 117.83669335304788, 116.31937484690528, 107.19761442023167, 100.57284262236405, 111.81297998196781, 84.96405850681855, 70.62632548514986, 69.52624506397636, 173.674287794604, 66.58780216213647, 58.948499764236814, 68.14939592495926, 54.384145970222505, 47.638581264091926, 59.7645719751646, 48.18723075271188, 42.69183266653324, 46.91122722697803, 95.81603182368336, 81.63644559951875, 87.25934731108607, 40.94798769177722, 38.36811461314172, 35.01891219821517, 35.56180104561253, 42.2203112855062, 59.84157541216389, 62.270683052235015, 171.69078724803023, 144.20826402217173, 188.77643641158056, 113.57945051997346, 135.90696507111863, 549.1843168686268, 264.80486338901903, 138.00033910154838, 415.92534660809366, 114.43176748175772, 439.1372227625703, 224.0154824862465, 217.92388812643156, 167.94110849449794, 168.8925600731426, 448.1625827274712, 308.3251665420666, 558.0722812413828, 194.267273273627, 260.2016467616822, 250.96811269934634, 1131.1631560080987, 277.5136289394765, 170.23458312667893, 173.42549687756383, 198.26625882251787, 369.45189802113066, 199.59851457989174, 235.45152463727823, 273.5524916632153, 282.1673500541888, 213.05375605713334, 240.44324922623298, 226.91542366958672, 295.4053379755909, 211.99311023441868, 191.08021141418646, 193.54169041873973, 317.32009824302503, 100.11071153598971, 96.28141419212541, 86.34706254830921, 85.44446026529188, 84.73035347491101, 243.00741559673085, 83.61138096930026, 62.55584578814371, 64.22977806095506, 59.35609206219416, 103.91083725913772, 56.78518298056827, 55.34984492199882, 54.5071901511261, 64.36573684578593, 65.54463581011989, 52.47081901792569, 91.27022829808587, 49.200772128546895, 40.47269731827614, 40.40888860864354, 69.0378068596829, 39.59428962715197, 55.46417342166521, 37.85062842260538, 41.87795424832406, 37.57962457143315, 44.19743495001184, 41.08418552198311, 203.5743067532681, 122.70768559829207, 165.21352445492317, 78.4673395647468, 88.42923750514585, 144.08348542605384, 103.98879386796298, 575.915837597598, 3077.874930395215, 175.3501910571944, 1821.4365181493422, 129.77602656315554, 97.85834914178139, 103.12076130291342, 417.80407009801246, 96.12224190483944, 596.5415208629863, 935.185096970866, 465.424618732478, 315.0806205427243, 184.13293739220248, 1338.598631405066, 253.78826636617066, 153.2428353633808, 201.38210661610285, 403.19046922359587, 364.5291114383555, 359.38237519586056, 144.5765902411294, 157.90546081242982, 272.56434761043863, 208.4667513505121, 314.9525146840822, 194.04637035649813, 256.0881421218343, 205.5514251372307, 157.0398957083704, 188.59995129217586, 191.14731422728823, 161.86781577965363, 688.8867370390849, 310.39905613108823, 209.50147985638003, 160.10485553508695, 73.75100730008486, 71.7710087732441, 70.21418940624491, 63.34819533194065, 110.39049681504751, 58.568901206580186, 51.50434321668286, 71.05689250646692, 51.17698015505459, 50.29650836646032, 50.14476224613149, 49.90957727778976, 156.99050526700194, 42.68429865698715, 41.9777883453053, 60.82674805606954, 39.376462760943454, 67.7447931440816, 41.00071719718463, 52.12355575556749, 36.56795738654446, 37.66827599337122, 36.55154906621622, 35.019558795933335, 46.02264444608392, 67.56172230940696, 624.306296647208, 456.22257329726796, 159.7700098891929, 395.1078088669248, 72.95283820023614, 69.1589327121783, 670.5172221936976, 64.13538729704975, 100.6633208912216, 100.1619418399888, 772.2138971531097, 169.21259513108163, 66.13290448168456, 201.71679198903792, 187.01245808198885, 632.701159422899, 454.9727062923315, 80.02863154288839, 195.4637386249354, 145.1432102448734, 262.3262524543156, 155.23295869125923, 172.64336001694588, 393.680333772882, 549.9396918604527, 117.43714021286064, 108.6114894531437, 175.4179642350241, 256.3584094953869, 224.65105047995598, 182.38586835270291, 174.9479385890277, 155.735164040141, 143.8501577114214, 1497.7239139760902, 285.6365913607767, 194.15070444728318, 189.71466086276115, 179.22611185043442, 168.91200239687328, 163.92475260920872, 154.34621943099916, 152.89878153926549, 142.7878314646353, 152.91622549514204, 285.67195812622055, 126.27123276656613, 122.52747480349807, 122.52704155492074, 93.82023594876664, 87.56511270275264, 83.30152485456317, 200.97229450751212, 69.60020391515596, 201.69550039585314, 64.41034771056046, 60.718026614771546, 58.731148639153275, 55.778804712159285, 95.30582251786171, 53.058214570199794, 72.4006942157971, 54.338828957106145, 48.583862690419444, 111.65973067450571, 679.9219840002601, 73.25410270290304, 374.26303766391686, 70.3045463884658, 658.3090366819886, 420.4716207297842, 1012.1375403554047, 736.8557724131795, 401.5843542242558, 139.2930432169113, 126.240506321411, 313.90840969465603, 185.2547886064862, 182.22275544446003, 421.9281568416417, 718.818858852159, 423.1623680256607, 291.86973864276973, 180.31049883564702, 300.6808061700809, 204.7719301357769, 336.0150551680692, 207.97434400147577, 237.85326372911186, 208.85641530235534, 218.34994054918218, 221.4969442020967, 393.25877468690675, 353.88523874121506, 133.72879259596664, 304.4308733355909, 88.18142278115795, 398.2315035793136, 77.56516916541798, 126.9316570217827, 127.08675921917315, 67.14856864584856, 69.20514227849596, 66.67049968440502, 63.372332835868185, 62.39678303067807, 60.0316149736179, 180.25239980747682, 59.781704807649035, 55.51867517076667, 53.308240359554254, 52.357158749854506, 50.90458814101258, 50.99575271310691, 54.746845313979044, 49.313610392087035, 48.98490391596636, 47.39531392795708, 49.26477043162314, 46.255245275775536, 77.98934604584146, 42.71226650076887, 1150.4975706514847, 476.9937695660461, 193.7159111750096, 1618.533129678863, 1750.6431389960048, 131.84678754721787, 56.44221538633067, 497.82859734607774, 549.0865655976286, 81.64757605899663, 87.1083775308114, 321.85886965250046, 77.55651557468939, 228.04844542237174, 85.3615764519347, 154.8786295260965, 70.0121315402497, 68.30776827404493, 284.3252940651029, 299.5543335968171, 161.70120720409173, 128.73721903385066, 117.91432993378342, 118.10017522423874, 103.66708107551027, 88.82681075252188, 450.2320727052791, 81.77427950028255, 167.75013186902612, 81.90245731292865, 88.8434895235747, 106.32657584246073, 48.26240623883774, 47.493718888023665, 46.07810395914443, 43.25679597087856, 42.9120381149431, 43.44215330053916, 43.25053719596296, 42.2860318559515, 39.64438832140785, 53.534009357784825, 35.369299415159134, 54.276136731453015, 29.704803141047538, 28.551141832133254, 27.747058686310595, 28.73434061300055, 593.9072762112606, 124.80155768957844, 72.02562931255581, 84.85764276701227, 1023.2075929037443, 73.87892474259817, 786.637530826468, 356.1439060104992, 114.6677098950539, 217.6593583494075, 64.62165107515341, 418.5334075391438, 354.74047654702144, 764.4148203133775, 475.878451698783, 366.93052335815906, 127.87567003290829, 117.45147201105945, 111.4837386005797, 111.47980316547343, 110.09428910849107, 116.286678696061, 89.75827615880667, 115.54846444361117, 73.23881208440211, 80.4574238593023, 72.18693376610533, 64.07401795867742, 67.79694615982659, 58.965935301303375, 51.3917521415112, 95.5391533923655, 48.67855520577543, 57.27775266317401, 41.720672421114365, 41.89275060410186, 43.92076978885031, 50.44769872726564, 39.83424372949149, 31.52235805678898, 28.850796434397086, 29.62667656106012, 28.328858986242217, 27.193249014645538, 25.70746627978522, 24.453471589585877, 39.83397172379032, 25.11477507746266, 25.892600736428996, 282.0020674396021, 258.7447870235834, 129.5544990235936, 45.322714834289926, 57.602997717518335, 42.36660297660878, 557.2975623110959, 116.62997755253738, 202.71240554782833, 276.9606861124749, 438.6538020755935, 103.71141254531024, 159.6331937368089, 52.09924819079303, 54.09733291761414, 65.93299251554636, 98.77176135042153, 104.24568706560642, 99.33047028116201, 56.59398104335377, 68.39485157313266, 57.72490237430482], \"Total\": [2034.0, 1864.0, 4388.0, 1498.0, 2484.0, 1180.0, 1165.0, 2426.0, 1079.0, 1585.0, 1827.0, 2716.0, 691.0, 1347.0, 879.0, 1351.0, 616.0, 690.0, 1306.0, 766.0, 981.0, 659.0, 1215.0, 807.0, 455.0, 831.0, 754.0, 491.0, 1013.0, 633.0, 225.7784526261302, 161.88753431174274, 118.92637045863844, 112.00446736416404, 92.53958264567261, 93.31981116437635, 87.23931422426976, 171.92999276348752, 82.20525407521072, 85.31038636638348, 67.20010771278956, 63.71596671038739, 59.57256527827203, 57.8302867168314, 64.27738410182081, 54.540054266680556, 54.0420582053894, 65.37846972687998, 51.30477236830053, 48.70533194957954, 83.82095605187033, 63.92618837603563, 75.42598216957532, 40.04106026769357, 39.496707949386064, 39.3163890917243, 196.04077102901144, 34.72826377628228, 36.31220546548631, 33.23418432424275, 171.79796556568672, 1585.0188592274744, 2484.864220768877, 1827.2625324973474, 416.9356652873752, 70.636517470887, 968.7531841376946, 194.62189115005245, 739.1481825627203, 206.17206260368488, 756.4239639940646, 224.31290507568454, 84.28639228755303, 147.6451820087462, 1280.779166607562, 336.96864631454105, 1727.1851505482132, 403.93099896355733, 176.30080851675518, 1351.1453931590258, 5351.353843637552, 312.48005440077753, 171.02217192282063, 2421.9224423370492, 969.0645189735021, 4388.937460222064, 296.1278741577258, 2716.7474615665637, 977.5649739748125, 2426.88341907899, 580.9654483499763, 622.8207993211896, 966.7326510692811, 685.8555955681413, 525.3362216497258, 1394.0586761770953, 447.3592322554921, 334.84316119236615, 179.1877788796833, 249.17462532278887, 157.3685940484456, 118.92230415905544, 117.40221222478213, 108.27101569692265, 101.63887919128085, 113.18947252548446, 86.03099728773036, 71.69987025401164, 70.59199619713932, 176.41236550159306, 67.704115564826, 60.01566810879377, 69.46885891428782, 55.45775935454958, 48.77946070636886, 61.22571383956342, 49.373661693699965, 43.75640246939035, 48.16212400241486, 98.42863013459666, 83.86503336567223, 89.67937983247585, 42.11199278156017, 39.497685457874354, 36.08532177253437, 36.65814945374718, 43.529035546801396, 61.89412658377675, 64.44750004352211, 180.51156375517814, 151.5667747486338, 200.69430394037755, 119.49945156514515, 147.33782573461133, 646.2578058233167, 300.25441676212813, 150.3989707632779, 511.0668784490003, 125.7861069757261, 591.34296259079, 277.79789713584086, 275.7572123278282, 206.84154694683608, 213.51887498339582, 786.790954382063, 491.5394969675295, 1127.4074192135936, 270.57632880298013, 461.1065832054527, 448.4152344245576, 5351.353843637552, 559.4222447458662, 247.05369481663874, 269.31384023748876, 388.8553711396718, 1678.7514164711877, 419.71034821174493, 670.3118562249612, 1079.2971594045814, 1267.4845380272054, 523.5789002205036, 969.0645189735021, 754.0697346173743, 2426.88341907899, 1013.9223191161512, 476.85873059729005, 622.8207993211896, 318.38276899842464, 101.17458218344655, 97.34727495341424, 87.40635927966363, 86.5044239638857, 85.80180010652036, 246.08214540722634, 84.6966578348902, 63.61850727700922, 65.33605269123358, 60.41599619724301, 105.85066220866032, 57.84966976421799, 56.42158999918431, 55.57020374233494, 65.62762403431643, 66.94894935615012, 53.60586197210599, 93.34823317684993, 50.4127517041201, 41.53316702845225, 41.4745697869713, 70.86404128395534, 40.65760344663066, 56.968355374006755, 38.913946993859405, 43.05863684846733, 38.63914868931435, 45.46378254643978, 42.30171598343844, 212.91372905573536, 127.70955663343204, 173.8872173220975, 81.43938985751902, 93.76028168705483, 157.8983045377916, 112.10159621388365, 686.985618736325, 4388.937460222064, 200.7944522820886, 2716.7474615665637, 145.2227096057233, 106.58585390376912, 113.4296458562806, 603.2268106824736, 106.59243523778329, 966.7326510692811, 2421.9224423370492, 1043.8519454847456, 609.9843076754297, 283.3603299667499, 5351.353843637552, 534.4418454260938, 234.85120527719096, 399.4207527210204, 1394.0586761770953, 1215.1505353527868, 1280.779166607562, 227.1891279841866, 281.63170842544974, 977.5649739748125, 580.9654483499763, 1727.1851505482132, 670.3118562249612, 1678.7514164711877, 1013.9223191161512, 367.25683167825696, 1127.4074192135936, 1267.4845380272054, 483.3506554228272, 690.0521000296065, 312.01227417846474, 210.70174411755474, 161.72499835596332, 74.81450732446538, 72.82759206024151, 71.27285750004691, 64.40853663588729, 112.29643313448565, 59.625496934970236, 52.560398280351876, 72.52028803695816, 52.23229065472025, 51.353586685182364, 51.20109636225593, 50.965761404443235, 160.47673257190286, 43.74150668456994, 43.03363615045591, 62.40831947092517, 40.43271657961756, 69.59385364093606, 42.14939109251228, 53.59260050336207, 37.62640961463684, 38.76385799735096, 37.65296716553215, 36.0853880551261, 47.48378331441762, 69.82442680879278, 659.3728122483436, 490.456926972685, 170.46799508751963, 436.6949849652444, 77.05766838150701, 73.18463578813379, 831.2387582990756, 67.67599829321918, 110.23513077535482, 113.76635730145618, 1306.6257247545564, 221.01836688665824, 72.2627329007263, 304.1766445621541, 297.86218665955545, 1678.7514164711877, 1099.0055318855789, 97.68608415522056, 424.80877953618995, 274.569593676462, 879.7437647656973, 352.17845707810824, 447.3592322554921, 2421.9224423370492, 5351.353843637552, 218.736789236362, 184.84669075454758, 670.3118562249612, 2034.5149690553387, 1864.200661191712, 969.0645189735021, 1394.0586761770953, 1347.1593717818948, 981.5055683642303, 1498.7619356731775, 286.775868935023, 195.18131367198148, 190.7471250889248, 180.2635680949292, 169.94976924143037, 164.99223361604163, 155.37876350544275, 153.93128412547222, 143.81825953806506, 154.02683992006519, 287.8408570744282, 127.30171026270023, 123.55786161159652, 123.55746596824991, 94.91113465099997, 88.59949992275243, 84.35180973208296, 203.62119232073977, 70.63581864583561, 204.8165149206155, 65.44324213575696, 61.75111791246927, 59.792197195717506, 56.81240212676053, 97.07759564101721, 54.099253330155236, 73.8480562980211, 55.486276556720966, 49.61784190611774, 114.72883751651912, 766.7422992213421, 75.50142950065768, 416.6490300389575, 72.51298426719626, 807.6590449170427, 507.28630573817577, 1347.1593717818948, 981.5055683642303, 501.81542027999166, 154.23743796589827, 138.8148169226927, 417.6635959208291, 222.01070634143682, 226.70946764089652, 685.8555955681413, 2426.88341907899, 1099.0055318855789, 609.9843076754297, 315.16990943489526, 1727.1851505482132, 525.3362216497258, 5351.353843637552, 633.4231798806879, 1267.4845380272054, 977.5649739748125, 1394.0586761770953, 1678.7514164711877, 394.9616904619793, 356.16600839518094, 134.69536870863067, 307.003425710225, 89.20701971457314, 402.90622956388347, 78.5269654566931, 128.52906290744434, 128.69043528791863, 68.10847636080764, 70.20828066356684, 67.67479761938561, 64.33281501194668, 63.360249474933624, 60.99233639353069, 183.15658273457805, 60.745245177769505, 56.478090124903595, 54.267777802651125, 53.33635137480829, 51.86354941274719, 51.96015213203549, 55.80594840348548, 50.27445900275011, 49.94372864050037, 48.35430345170365, 50.276331046929265, 47.22223755072082, 79.71713870403654, 43.67160333060194, 1180.9420469266845, 491.58434209114176, 200.28793437821818, 1864.200661191712, 2034.5149690553387, 151.72153267588604, 58.64695468666584, 1013.9223191161512, 1215.1505353527868, 99.69815945451222, 115.02670828261965, 1306.6257247545564, 114.9820821745379, 1394.0586761770953, 181.72711151032772, 5351.353843637552, 622.8207993211896, 1127.4074192135936, 285.46104023934146, 301.0732004515424, 162.6953395830607, 129.7307068141246, 118.90834706919287, 119.11803872484472, 104.66064088524506, 89.84266130708926, 455.5056690504284, 82.76774545223137, 169.7990066326388, 82.91351950497598, 90.0680525461513, 108.15837157802203, 49.2729248013525, 48.51253271541232, 47.077429873687336, 44.25952754093824, 43.90855870910911, 44.456424472551106, 44.263374657435975, 43.293954315905985, 40.63955736341507, 54.885335370222194, 36.36207527038156, 56.02196281179462, 30.70529258364557, 29.546177351673094, 28.7406214021336, 29.774981818866966, 616.0315222457157, 129.97655536502313, 74.78688935060727, 88.99710823355298, 1165.501512331424, 79.80548638911768, 1079.2971594045814, 451.70340232581054, 131.87513369992365, 291.5281910246654, 71.1928332877321, 754.0697346173743, 633.4231798806879, 2426.88341907899, 1351.1453931590258, 1267.4845380272054, 559.4222447458662, 1043.8519454847456, 1306.6257247545564, 112.51271653510656, 111.13545671084272, 117.50890720011621, 90.79031666971632, 117.10404352911186, 74.27461554125091, 81.64618300163934, 73.35528267957737, 65.15366866556259, 68.98834369792564, 60.02931094526629, 52.43788357982306, 97.48804820317169, 49.729810240723744, 58.51746174705233, 42.75254134741181, 42.94659363367092, 45.12987095051091, 52.01062853573376, 41.125227227085155, 32.553430125902906, 29.90969300017121, 30.731985435752332, 29.44381875337573, 28.267365284648818, 26.76054097531513, 25.496491085307703, 41.55252428551178, 26.203735484873828, 27.026675770967437, 297.6171569749456, 273.9984749915564, 136.38816178652922, 47.545079691784125, 61.53991472002076, 44.838897277367465, 691.1156743866416, 132.87393425857027, 263.555715141033, 385.3495240454101, 879.7437647656973, 139.61815271539885, 301.57712985559124, 59.16135179861366, 63.03559509742918, 90.36793793105275, 334.1625474509641, 389.18543612470273, 977.5649739748125, 96.77028498697541, 1043.8519454847456, 2421.9224423370492], \"Category\": [\"Default\", \"Default\", \"Default\", \"Default\", \"Default\", \"Default\", \"Default\", \"Default\", \"Default\", \"Default\", \"Default\", \"Default\", \"Default\", \"Default\", \"Default\", \"Default\", \"Default\", \"Default\", \"Default\", \"Default\", \"Default\", \"Default\", \"Default\", \"Default\", \"Default\", \"Default\", \"Default\", \"Default\", \"Default\", \"Default\", \"Topic1\", \"Topic1\", \"Topic1\", \"Topic1\", \"Topic1\", \"Topic1\", \"Topic1\", \"Topic1\", \"Topic1\", \"Topic1\", \"Topic1\", \"Topic1\", \"Topic1\", \"Topic1\", \"Topic1\", \"Topic1\", \"Topic1\", \"Topic1\", \"Topic1\", \"Topic1\", \"Topic1\", \"Topic1\", \"Topic1\", \"Topic1\", \"Topic1\", \"Topic1\", \"Topic1\", \"Topic1\", \"Topic1\", \"Topic1\", \"Topic1\", \"Topic1\", \"Topic1\", \"Topic1\", \"Topic1\", \"Topic1\", \"Topic1\", \"Topic1\", \"Topic1\", \"Topic1\", \"Topic1\", \"Topic1\", \"Topic1\", \"Topic1\", \"Topic1\", \"Topic1\", \"Topic1\", \"Topic1\", \"Topic1\", \"Topic1\", \"Topic1\", \"Topic1\", \"Topic1\", \"Topic1\", \"Topic1\", \"Topic1\", \"Topic1\", \"Topic1\", \"Topic1\", \"Topic1\", \"Topic1\", \"Topic1\", \"Topic1\", \"Topic1\", \"Topic1\", \"Topic1\", \"Topic1\", \"Topic2\", \"Topic2\", \"Topic2\", \"Topic2\", \"Topic2\", \"Topic2\", \"Topic2\", \"Topic2\", \"Topic2\", \"Topic2\", \"Topic2\", \"Topic2\", \"Topic2\", \"Topic2\", \"Topic2\", \"Topic2\", \"Topic2\", \"Topic2\", \"Topic2\", \"Topic2\", \"Topic2\", \"Topic2\", \"Topic2\", \"Topic2\", \"Topic2\", \"Topic2\", \"Topic2\", \"Topic2\", \"Topic2\", \"Topic2\", \"Topic2\", \"Topic2\", \"Topic2\", \"Topic2\", \"Topic2\", \"Topic2\", \"Topic2\", \"Topic2\", \"Topic2\", \"Topic2\", \"Topic2\", \"Topic2\", \"Topic2\", \"Topic2\", \"Topic2\", \"Topic2\", \"Topic2\", \"Topic2\", \"Topic2\", \"Topic2\", \"Topic2\", \"Topic2\", \"Topic2\", \"Topic2\", \"Topic2\", \"Topic2\", \"Topic2\", \"Topic2\", \"Topic2\", \"Topic2\", \"Topic2\", \"Topic2\", \"Topic2\", \"Topic2\", \"Topic2\", \"Topic2\", \"Topic2\", \"Topic2\", \"Topic2\", \"Topic2\", \"Topic3\", \"Topic3\", \"Topic3\", \"Topic3\", \"Topic3\", \"Topic3\", \"Topic3\", \"Topic3\", \"Topic3\", \"Topic3\", \"Topic3\", \"Topic3\", \"Topic3\", \"Topic3\", \"Topic3\", \"Topic3\", \"Topic3\", \"Topic3\", \"Topic3\", \"Topic3\", \"Topic3\", \"Topic3\", \"Topic3\", \"Topic3\", \"Topic3\", \"Topic3\", \"Topic3\", \"Topic3\", \"Topic3\", \"Topic3\", \"Topic3\", \"Topic3\", \"Topic3\", \"Topic3\", \"Topic3\", \"Topic3\", \"Topic3\", \"Topic3\", \"Topic3\", \"Topic3\", \"Topic3\", \"Topic3\", \"Topic3\", \"Topic3\", \"Topic3\", \"Topic3\", \"Topic3\", \"Topic3\", \"Topic3\", \"Topic3\", \"Topic3\", \"Topic3\", \"Topic3\", \"Topic3\", \"Topic3\", \"Topic3\", \"Topic3\", \"Topic3\", \"Topic3\", \"Topic3\", \"Topic3\", \"Topic3\", \"Topic3\", \"Topic3\", \"Topic3\", \"Topic3\", \"Topic3\", \"Topic3\", \"Topic3\", \"Topic3\", \"Topic4\", \"Topic4\", \"Topic4\", \"Topic4\", \"Topic4\", \"Topic4\", \"Topic4\", \"Topic4\", \"Topic4\", \"Topic4\", \"Topic4\", \"Topic4\", \"Topic4\", \"Topic4\", \"Topic4\", \"Topic4\", \"Topic4\", \"Topic4\", \"Topic4\", \"Topic4\", \"Topic4\", \"Topic4\", \"Topic4\", \"Topic4\", \"Topic4\", \"Topic4\", \"Topic4\", \"Topic4\", \"Topic4\", \"Topic4\", \"Topic4\", \"Topic4\", \"Topic4\", \"Topic4\", \"Topic4\", \"Topic4\", \"Topic4\", \"Topic4\", \"Topic4\", \"Topic4\", \"Topic4\", \"Topic4\", \"Topic4\", \"Topic4\", \"Topic4\", \"Topic4\", \"Topic4\", \"Topic4\", \"Topic4\", \"Topic4\", \"Topic4\", \"Topic4\", \"Topic4\", \"Topic4\", \"Topic4\", \"Topic4\", \"Topic4\", \"Topic4\", \"Topic4\", \"Topic4\", \"Topic4\", \"Topic4\", \"Topic4\", \"Topic4\", \"Topic5\", \"Topic5\", \"Topic5\", \"Topic5\", \"Topic5\", \"Topic5\", \"Topic5\", \"Topic5\", \"Topic5\", \"Topic5\", \"Topic5\", \"Topic5\", \"Topic5\", \"Topic5\", \"Topic5\", \"Topic5\", \"Topic5\", \"Topic5\", \"Topic5\", \"Topic5\", \"Topic5\", \"Topic5\", \"Topic5\", \"Topic5\", \"Topic5\", \"Topic5\", \"Topic5\", \"Topic5\", \"Topic5\", \"Topic5\", \"Topic5\", \"Topic5\", \"Topic5\", \"Topic5\", \"Topic5\", \"Topic5\", \"Topic5\", \"Topic5\", \"Topic5\", \"Topic5\", \"Topic5\", \"Topic5\", \"Topic5\", \"Topic5\", \"Topic5\", \"Topic5\", \"Topic5\", \"Topic5\", \"Topic5\", \"Topic5\", \"Topic5\", \"Topic5\", \"Topic5\", \"Topic5\", \"Topic5\", \"Topic5\", \"Topic5\", \"Topic5\", \"Topic6\", \"Topic6\", \"Topic6\", \"Topic6\", \"Topic6\", \"Topic6\", \"Topic6\", \"Topic6\", \"Topic6\", \"Topic6\", \"Topic6\", \"Topic6\", \"Topic6\", \"Topic6\", \"Topic6\", \"Topic6\", \"Topic6\", \"Topic6\", \"Topic6\", \"Topic6\", \"Topic6\", \"Topic6\", \"Topic6\", \"Topic6\", \"Topic6\", \"Topic6\", \"Topic6\", \"Topic6\", \"Topic6\", \"Topic6\", \"Topic6\", \"Topic6\", \"Topic6\", \"Topic6\", \"Topic6\", \"Topic6\", \"Topic6\", \"Topic6\", \"Topic6\", \"Topic6\", \"Topic6\", \"Topic6\", \"Topic6\", \"Topic6\", \"Topic6\", \"Topic6\", \"Topic6\", \"Topic6\", \"Topic7\", \"Topic7\", \"Topic7\", \"Topic7\", \"Topic7\", \"Topic7\", \"Topic7\", \"Topic7\", \"Topic7\", \"Topic7\", \"Topic7\", \"Topic7\", \"Topic7\", \"Topic7\", \"Topic7\", \"Topic7\", \"Topic7\", \"Topic7\", \"Topic7\", \"Topic7\", \"Topic7\", \"Topic7\", \"Topic7\", \"Topic7\", \"Topic7\", \"Topic7\", \"Topic7\", \"Topic7\", \"Topic7\", \"Topic7\", \"Topic7\", \"Topic7\", \"Topic7\", \"Topic7\", \"Topic7\", \"Topic7\", \"Topic7\", \"Topic7\", \"Topic7\", \"Topic7\", \"Topic7\", \"Topic7\", \"Topic7\", \"Topic7\", \"Topic7\", \"Topic7\", \"Topic7\", \"Topic7\", \"Topic7\", \"Topic8\", \"Topic8\", \"Topic8\", \"Topic8\", \"Topic8\", \"Topic8\", \"Topic8\", \"Topic8\", \"Topic8\", \"Topic8\", \"Topic8\", \"Topic8\", \"Topic8\", \"Topic8\", \"Topic8\", \"Topic8\", \"Topic8\", \"Topic8\", \"Topic8\", \"Topic8\", \"Topic8\", \"Topic8\", \"Topic8\", \"Topic8\", \"Topic8\", \"Topic8\", \"Topic8\", \"Topic8\", \"Topic8\", \"Topic8\", \"Topic8\", \"Topic8\", \"Topic8\", \"Topic8\", \"Topic8\", \"Topic8\", \"Topic8\", \"Topic8\", \"Topic8\", \"Topic8\", \"Topic8\", \"Topic8\", \"Topic8\", \"Topic8\", \"Topic8\", \"Topic8\", \"Topic8\", \"Topic8\", \"Topic8\", \"Topic8\", \"Topic8\", \"Topic8\"], \"logprob\": [30.0, 29.0, 28.0, 27.0, 26.0, 25.0, 24.0, 23.0, 22.0, 21.0, 20.0, 19.0, 18.0, 17.0, 16.0, 15.0, 14.0, 13.0, 12.0, 11.0, 10.0, 9.0, 8.0, 7.0, 6.0, 5.0, 4.0, 3.0, 2.0, 1.0, -5.1449, -5.4801, -5.7907, -5.8513, -6.0439, -6.0356, -6.1036, -5.4258, -6.1642, -6.1274, -6.3694, -6.4233, -6.491, -6.5213, -6.4159, -6.581, -6.5903, -6.4002, -6.6434, -6.6966, -6.1553, -6.4277, -6.2627, -6.8974, -6.9115, -6.9163, -5.3125, -7.0442, -7.0002, -7.0897, -5.4512, -3.2521, -2.8327, -3.1596, -4.6059, -6.3469, -3.8406, -5.3973, -4.1638, -5.3558, -4.2545, -5.3427, -6.1958, -5.7263, -3.9468, -5.0536, -3.7577, -4.9663, -5.6144, -4.1024, -3.0929, -5.2253, -5.6639, -3.9617, -4.5543, -3.6139, -5.3174, -4.1162, -4.6846, -4.2257, -5.0367, -5.0257, -4.8708, -5.0087, -5.1964, -5.0368, -5.3331, -4.7064, -5.3346, -5.0074, -5.4672, -5.7474, -5.7604, -5.8421, -5.9058, -5.7999, -6.0745, -6.2593, -6.275, -5.3595, -6.3182, -6.4401, -6.295, -6.5207, -6.6531, -6.4263, -6.6416, -6.7627, -6.6685, -5.9543, -6.1144, -6.0478, -6.8044, -6.8695, -6.9608, -6.9455, -6.7738, -6.425, -6.3852, -5.371, -5.5455, -5.2762, -5.7842, -5.6048, -4.2083, -4.9377, -5.5895, -4.4862, -5.7767, -4.4319, -5.105, -5.1326, -5.3931, -5.3875, -4.4116, -4.7856, -4.1922, -5.2475, -4.9553, -4.9914, -3.4857, -4.8909, -5.3795, -5.361, -5.2271, -4.6047, -5.2204, -5.0552, -4.9052, -4.8742, -5.1552, -5.0342, -5.0921, -4.8284, -5.1602, -5.264, -5.2512, -4.7361, -5.8897, -5.9287, -6.0376, -6.0481, -6.0565, -5.0029, -6.0698, -6.3599, -6.3335, -6.4124, -5.8524, -6.4567, -6.4823, -6.4976, -6.3314, -6.3132, -6.5357, -5.9821, -6.6001, -6.7953, -6.7969, -6.2613, -6.8173, -6.4802, -6.8623, -6.7612, -6.8695, -6.7073, -6.7803, -5.1799, -5.6862, -5.3887, -6.1333, -6.0138, -5.5256, -5.8517, -4.14, -2.464, -5.3292, -2.9886, -5.6302, -5.9125, -5.8601, -4.461, -5.9304, -4.1048, -3.6552, -4.353, -4.7431, -5.2803, -3.2966, -4.9595, -5.4639, -5.1908, -4.4966, -4.5974, -4.6116, -5.5222, -5.434, -4.8881, -5.1562, -4.7435, -5.2279, -4.9504, -5.1703, -5.4395, -5.2563, -5.2429, -5.4092, -3.5773, -4.3745, -4.7676, -5.0365, -5.8116, -5.8389, -5.8608, -5.9637, -5.4083, -6.0421, -6.1707, -5.8489, -6.1771, -6.1944, -6.1974, -6.2021, -5.0562, -6.3585, -6.3752, -6.0043, -6.4392, -5.8966, -6.3988, -6.1587, -6.5132, -6.4835, -6.5136, -6.5564, -6.2832, -5.8993, -3.6757, -3.9894, -5.0386, -4.1332, -5.8225, -5.8759, -3.6043, -5.9513, -5.5006, -5.5056, -3.4631, -4.9812, -5.9207, -4.8055, -4.8812, -3.6623, -3.9921, -5.73, -4.837, -5.1346, -4.5428, -5.0674, -4.9611, -4.1368, -3.8025, -5.3464, -5.4246, -4.9452, -4.5658, -4.6978, -4.9062, -4.9479, -5.0642, -5.1436, -2.7941, -4.4511, -4.8371, -4.8603, -4.9171, -4.9764, -5.0064, -5.0666, -5.076, -5.1444, -5.0759, -4.4509, -5.2673, -5.2974, -5.2974, -5.5644, -5.6334, -5.6833, -4.8026, -5.863, -4.799, -5.9405, -5.9995, -6.0328, -6.0844, -5.5487, -6.1344, -5.8236, -6.1105, -6.2225, -5.3903, -3.5838, -5.8118, -4.1808, -5.8529, -3.6161, -4.0644, -3.186, -3.5034, -4.1104, -5.1692, -5.2676, -4.3567, -4.884, -4.9005, -4.0609, -3.5282, -4.058, -4.4295, -4.9111, -4.3997, -4.7839, -4.2886, -4.7684, -4.6341, -4.7641, -4.7197, -4.7054, -3.8241, -3.9296, -4.9027, -4.0801, -5.3191, -3.8115, -5.4474, -4.9549, -4.9537, -5.5916, -5.5615, -5.5988, -5.6495, -5.665, -5.7037, -4.6042, -5.7078, -5.7818, -5.8224, -5.8404, -5.8686, -5.8668, -5.7958, -5.9003, -5.907, -5.94, -5.9013, -5.9644, -5.442, -6.044, -2.7506, -3.631, -4.5321, -2.4093, -2.3308, -4.9169, -5.7653, -3.5883, -3.4903, -5.3961, -5.3314, -4.0244, -5.4475, -4.369, -5.3516, -4.7559, -5.5499, -5.5745, -3.9355, -3.8833, -4.4999, -4.7278, -4.8157, -4.8141, -4.9444, -5.0989, -3.4759, -5.1817, -4.4631, -5.1801, -5.0987, -4.9191, -5.709, -5.725, -5.7553, -5.8185, -5.8265, -5.8142, -5.8186, -5.8412, -5.9057, -5.6053, -6.0198, -5.5915, -6.1943, -6.2339, -6.2625, -6.2275, -3.1989, -4.7589, -5.3086, -5.1446, -2.6549, -5.2832, -2.9179, -3.7103, -4.8436, -4.2027, -5.4171, -3.5489, -3.7142, -2.9465, -3.4205, -3.6804, -4.7346, -4.8196, -4.8717, -4.4865, -4.499, -4.4443, -4.7032, -4.4506, -4.9066, -4.8126, -4.9211, -5.0403, -4.9838, -5.1234, -5.2609, -4.6408, -5.3151, -5.1524, -5.4693, -5.4652, -5.418, -5.2794, -5.5156, -5.7496, -5.8382, -5.8117, -5.8565, -5.8974, -5.9536, -6.0036, -5.5156, -5.9769, -5.9464, -3.5584, -3.6445, -4.3362, -5.3865, -5.1468, -5.454, -2.8772, -4.4413, -3.8885, -3.5765, -3.1166, -4.5587, -4.1275, -5.2472, -5.2096, -5.0117, -4.6075, -4.5536, -4.6019, -5.1644, -4.975, -5.1446], \"loglift\": [30.0, 29.0, 28.0, 27.0, 26.0, 25.0, 24.0, 23.0, 22.0, 21.0, 20.0, 19.0, 18.0, 17.0, 16.0, 15.0, 14.0, 13.0, 12.0, 11.0, 10.0, 9.0, 8.0, 7.0, 6.0, 5.0, 4.0, 3.0, 2.0, 1.0, 1.6576, 1.6551, 1.6529, 1.6523, 1.6506, 1.6505, 1.6499, 1.6492, 1.6487, 1.6484, 1.645, 1.6444, 1.644, 1.6433, 1.643, 1.6422, 1.642, 1.6417, 1.6409, 1.6397, 1.6381, 1.6367, 1.6363, 1.6348, 1.6343, 1.6342, 1.6313, 1.6303, 1.6298, 1.6289, 1.6246, 1.6017, 1.5714, 1.5519, 1.5833, 1.6177, 1.5055, 1.5537, 1.4529, 1.5376, 1.339, 1.4663, 1.592, 1.501, 1.1201, 1.3486, 1.0102, 1.2546, 1.4355, 0.911, 0.5441, 1.2523, 1.4164, 0.4681, 0.7915, 0.2214, 1.2139, 0.1987, 0.6524, 0.202, 0.8207, 0.7622, 0.4774, 0.6828, 0.7617, -0.0546, 0.7856, 1.702, 1.6991, 1.6966, 1.6963, 1.6962, 1.6961, 1.6954, 1.6948, 1.6931, 1.6929, 1.6903, 1.6902, 1.6897, 1.6888, 1.6874, 1.6862, 1.6858, 1.6817, 1.6812, 1.6811, 1.6808, 1.6791, 1.6785, 1.6784, 1.678, 1.6774, 1.6764, 1.6754, 1.675, 1.6749, 1.6717, 1.671, 1.6553, 1.6556, 1.6442, 1.6546, 1.6246, 1.5426, 1.5797, 1.6193, 1.4994, 1.6108, 1.4078, 1.4902, 1.47, 1.497, 1.4709, 1.1426, 1.239, 1.0022, 1.3741, 1.1332, 1.125, 0.1513, 1.0043, 1.333, 1.2653, 1.0318, 0.1916, 0.9621, 0.6591, 0.3328, 0.2031, 0.8062, 0.3115, 0.5045, -0.4006, 0.1404, 0.7909, 0.5366, 1.7228, 1.7156, 1.7151, 1.7139, 1.7138, 1.7136, 1.7136, 1.7132, 1.7093, 1.7091, 1.7084, 1.7076, 1.7076, 1.707, 1.7068, 1.7067, 1.7049, 1.7047, 1.7036, 1.7018, 1.7003, 1.7001, 1.7, 1.6996, 1.6994, 1.6984, 1.6983, 1.6983, 1.6979, 1.6969, 1.6813, 1.6862, 1.675, 1.689, 1.6676, 1.6346, 1.651, 1.5498, 1.3713, 1.5906, 1.3263, 1.6137, 1.6407, 1.6309, 1.3589, 1.6227, 1.2434, 0.7746, 0.9184, 1.0655, 1.2951, 0.3404, 0.9814, 1.2992, 1.0413, 0.4856, 0.5221, 0.4553, 1.2742, 1.1475, 0.4489, 0.7012, 0.0243, 0.4865, -0.1541, 0.1303, 0.8766, -0.0619, -0.1656, 0.6322, 2.1081, 2.1046, 2.1041, 2.0997, 2.0955, 2.0952, 2.0948, 2.0932, 2.0926, 2.0919, 2.0895, 2.0894, 2.0894, 2.089, 2.0889, 2.0888, 2.0878, 2.0853, 2.0849, 2.0841, 2.0833, 2.0828, 2.0821, 2.082, 2.0812, 2.0811, 2.0801, 2.0798, 2.0785, 2.0768, 2.0551, 2.0374, 2.045, 2.0097, 2.055, 2.0532, 1.8949, 2.056, 2.0189, 1.9824, 1.5838, 1.8427, 2.0211, 1.699, 1.6443, 1.134, 1.2278, 1.9104, 1.3335, 1.4723, 0.8997, 1.2906, 1.1576, 0.293, -0.1655, 1.4878, 1.578, 0.7692, 0.0383, -0.0063, 0.4396, 0.0343, -0.0478, 0.1895, 2.1156, 2.1124, 2.111, 2.1109, 2.1106, 2.1102, 2.1098, 2.1097, 2.1096, 2.1091, 2.1091, 2.1088, 2.1082, 2.108, 2.108, 2.1048, 2.1046, 2.1038, 2.1032, 2.1016, 2.101, 2.1004, 2.0995, 2.0984, 2.098, 2.0979, 2.0969, 2.0965, 2.0954, 2.0953, 2.0892, 1.9962, 2.0861, 2.009, 2.0854, 1.9119, 1.9286, 1.8304, 1.8296, 1.8935, 2.0144, 2.0214, 1.8308, 1.9353, 1.8979, 1.6305, 0.8996, 1.1619, 1.3792, 1.5579, 0.3681, 1.1742, -0.6516, 1.0026, 0.4432, 0.5729, 0.2625, 0.0909, 2.4193, 2.4172, 2.4164, 2.4152, 2.412, 2.4119, 2.4113, 2.4111, 2.411, 2.4094, 2.4092, 2.4086, 2.4085, 2.4083, 2.4077, 2.4076, 2.4076, 2.4064, 2.4057, 2.4051, 2.4049, 2.4048, 2.4044, 2.4043, 2.4042, 2.4035, 2.4033, 2.4029, 2.4017, 2.4014, 2.3975, 2.3935, 2.3902, 2.2823, 2.2733, 2.2832, 2.3853, 1.7123, 1.6292, 2.2238, 2.1456, 1.0225, 2.0298, 0.6132, 1.668, -1.1189, 0.238, -0.3801, 2.6325, 2.6314, 2.6304, 2.6288, 2.6281, 2.6279, 2.6269, 2.6251, 2.6248, 2.6244, 2.6243, 2.6242, 2.6228, 2.6194, 2.6158, 2.6153, 2.615, 2.6136, 2.6135, 2.6134, 2.6133, 2.6129, 2.6117, 2.6116, 2.6088, 2.6048, 2.6034, 2.6022, 2.6013, 2.6009, 2.5999, 2.5959, 2.5989, 2.5889, 2.5063, 2.5593, 2.3202, 2.3988, 2.4967, 2.3443, 2.5396, 2.0478, 2.0567, 1.4812, 1.5929, 1.3969, 1.1606, 0.4518, 0.1752, 3.0125, 3.0124, 3.0113, 3.0103, 3.0084, 3.0077, 3.0071, 3.0057, 3.0051, 3.0044, 3.0039, 3.0016, 3.0016, 3.0004, 3.0004, 2.9973, 2.9969, 2.9946, 2.9913, 2.9899, 2.9896, 2.9857, 2.9851, 2.9832, 2.983, 2.9816, 2.98, 2.9795, 2.9793, 2.9789, 2.9679, 2.9645, 2.9704, 2.9739, 2.9557, 2.9651, 2.8066, 2.8914, 2.7593, 2.6915, 2.3259, 2.7245, 2.3856, 2.8947, 2.8689, 2.7065, 1.803, 1.7045, 0.7352, 2.4853, 0.2964, -0.7149]}, \"token.table\": {\"Topic\": [1, 4, 7, 2, 3, 5, 1, 2, 3, 4, 5, 6, 7, 8, 4, 5, 1, 1, 2, 3, 4, 5, 6, 7, 1, 2, 3, 4, 5, 6, 7, 8, 5, 6, 2, 3, 4, 6, 1, 2, 3, 4, 5, 6, 8, 1, 6, 4, 4, 1, 2, 3, 4, 6, 2, 4, 1, 2, 1, 2, 3, 4, 5, 6, 7, 8, 8, 1, 6, 4, 1, 2, 3, 4, 7, 3, 5, 1, 2, 3, 4, 6, 5, 2, 8, 3, 4, 1, 2, 3, 4, 5, 6, 8, 7, 1, 3, 4, 6, 7, 8, 6, 4, 5, 1, 2, 6, 2, 2, 4, 7, 8, 3, 6, 1, 2, 3, 4, 5, 6, 7, 8, 7, 1, 3, 7, 2, 3, 4, 6, 7, 7, 2, 2, 2, 1, 2, 3, 4, 5, 6, 7, 8, 2, 8, 3, 8, 1, 2, 3, 5, 6, 7, 8, 1, 2, 3, 4, 5, 6, 7, 8, 1, 2, 3, 4, 5, 6, 7, 3, 2, 7, 1, 2, 3, 5, 6, 7, 8, 2, 3, 5, 6, 7, 5, 1, 3, 4, 5, 6, 7, 8, 6, 1, 2, 5, 1, 2, 3, 4, 5, 6, 7, 8, 1, 2, 3, 4, 5, 6, 7, 3, 6, 8, 1, 2, 4, 6, 8, 5, 3, 1, 6, 5, 5, 1, 2, 3, 4, 5, 6, 7, 8, 7, 1, 5, 1, 5, 3, 2, 4, 6, 8, 2, 3, 4, 5, 6, 7, 8, 2, 4, 6, 1, 2, 8, 3, 5, 7, 1, 2, 3, 4, 5, 6, 7, 8, 6, 4, 5, 1, 1, 2, 3, 4, 5, 6, 7, 8, 1, 2, 3, 4, 7, 3, 2, 3, 4, 5, 6, 8, 3, 5, 7, 3, 4, 3, 7, 8, 1, 2, 3, 4, 5, 6, 7, 3, 2, 3, 1, 3, 5, 6, 5, 6, 3, 5, 2, 2, 3, 4, 5, 8, 7, 6, 6, 2, 4, 5, 6, 7, 4, 3, 3, 4, 8, 1, 4, 7, 1, 4, 5, 2, 4, 6, 7, 6, 2, 3, 4, 5, 6, 7, 8, 1, 5, 6, 7, 3, 8, 1, 2, 3, 4, 5, 6, 7, 8, 2, 4, 6, 7, 1, 2, 3, 4, 5, 6, 7, 8, 1, 1, 2, 4, 1, 2, 4, 6, 7, 8, 1, 3, 3, 5, 6, 2, 8, 8, 1, 2, 3, 4, 5, 6, 8, 3, 6, 7, 3, 1, 2, 3, 4, 5, 6, 7, 8, 1, 2, 3, 5, 6, 4, 7, 1, 3, 1, 2, 3, 4, 5, 6, 7, 8, 5, 1, 2, 3, 4, 8, 1, 2, 3, 4, 6, 8, 8, 2, 3, 6, 8, 1, 2, 3, 4, 5, 6, 7, 8, 6, 3, 6, 8, 4, 7, 8, 1, 2, 3, 4, 5, 6, 7, 8, 1, 2, 3, 4, 5, 6, 7, 1, 2, 3, 4, 5, 6, 7, 8, 2, 1, 2, 3, 4, 5, 6, 7, 3, 1, 2, 3, 4, 5, 6, 7, 8, 1, 2, 3, 4, 5, 6, 7, 1, 3, 3, 1, 2, 3, 4, 5, 6, 7, 8, 3, 1, 2, 3, 4, 5, 6, 7, 2, 4, 6, 7, 1, 2, 4, 6, 7, 1, 3, 4, 5, 5, 1, 7, 7, 2, 3, 4, 5, 8, 1, 4, 6, 7, 1, 4, 5, 3, 3, 8, 1, 2, 3, 4, 5, 6, 8, 4, 2, 3, 7, 8, 2, 8, 1, 7, 1, 3, 4, 6, 8, 6, 1, 2, 3, 4, 5, 6, 7, 8, 3, 4, 5, 7, 8, 7, 8, 8, 1, 3, 5, 6, 8, 1, 2, 3, 4, 5, 6, 7, 8, 1, 4, 8, 4, 4, 8, 1, 6, 5, 8, 7, 6, 1, 2, 3, 4, 5, 6, 7, 8, 3, 5, 2, 4, 7, 3, 7, 7, 2, 7, 1, 2, 3, 4, 5, 7, 6, 8, 3, 4, 5, 7, 8, 8, 1, 2, 3, 4, 5, 6, 7, 8, 4, 6, 1, 2, 3, 4, 5, 6, 7, 8, 1, 1, 2, 5, 6, 7, 8, 4, 2, 3, 5, 8, 7, 1, 7, 3, 1, 3, 4, 6, 7, 1, 2, 3, 4, 5, 6, 7, 8, 2, 3, 5, 8, 2, 3, 6, 3, 4, 1, 4, 7, 8, 1, 1, 4, 5, 6, 7, 8, 6, 1, 4, 5, 8, 1, 7, 4, 3, 5, 4, 4, 1, 2, 3, 4, 5, 6, 7, 2, 1, 2, 3, 4, 5, 6, 7, 8, 1, 2, 3, 4, 6, 7, 8, 6, 8, 4, 8, 6, 1, 2, 3, 4, 5, 6, 7, 8, 1, 4, 8, 6, 5, 6, 7, 2, 3, 5, 7, 8, 1, 1, 1, 2, 3, 4, 5, 6, 7, 8, 4, 6, 3, 8, 1, 2, 3, 4, 5, 6, 7, 8, 1, 2, 3, 4, 5, 6, 7, 8, 1, 4, 5, 1, 2, 3, 4, 8, 1, 5, 6, 5, 1, 2, 3, 4, 5, 1, 3, 4, 6, 1, 3, 6, 7, 1, 3, 4, 8, 1, 7, 8, 2, 3, 4, 2, 7, 1, 2, 3, 4, 5, 7, 8, 1, 2, 3, 4, 5, 6, 8, 4, 2, 2, 6, 5, 6, 2, 1, 2, 3, 4, 6, 1, 2, 3, 4, 5, 6, 7, 8, 1, 2, 7, 3, 1, 1, 2, 3, 4, 5, 6, 7, 8, 8, 3, 6, 7, 2, 7, 2, 3, 5, 7, 4, 4, 1, 3, 5, 6, 1, 2, 3, 4, 5, 6, 7, 1, 2, 3, 4, 5, 6, 5, 2, 1, 2, 3, 4, 5, 6, 7, 8, 5, 1, 2, 3, 4, 5, 6, 8, 1, 2, 3, 4, 5, 6, 8, 1, 7, 5, 1, 3, 5, 5, 3, 7, 2, 3, 6, 8, 2, 3, 6, 5, 3, 2, 1, 2, 3, 4, 5, 7, 8, 1, 2, 3, 4, 5, 6, 7, 8, 1, 1, 2, 3, 4, 6, 8, 5, 4, 6, 1, 4, 5, 5, 1, 6, 7, 8, 1, 2, 3, 4, 6, 7, 7, 5, 5, 6, 4, 4, 6, 8, 8, 1, 2, 6, 1, 2, 3, 5, 6, 1, 3, 5, 6, 8, 1, 3, 4, 3, 4, 6, 3, 4, 6, 7, 8, 2, 5, 6, 1, 2, 3, 4, 5, 8, 2, 3, 4, 8, 7, 6, 1, 2, 3, 4, 5, 6, 7, 8, 1, 2, 3, 4, 5, 8, 4, 6, 4, 6, 7, 1, 2, 3, 5, 5, 7, 2, 6, 1, 2, 3, 4, 5, 6, 7, 1, 2, 3, 4, 5, 6, 7, 8, 4, 1, 3, 4, 8, 1, 2, 4, 5, 6, 8, 1, 2, 3, 5, 6, 6, 4, 6, 2, 4, 6, 5, 1, 3, 4, 5, 6, 7, 6, 4, 1, 2, 3, 4, 5, 6, 7, 8, 3, 6, 2, 3, 1, 2, 3, 4, 5, 6, 7, 7, 1, 2, 3, 4, 6, 2, 7, 8, 8, 2, 8, 1, 2, 4, 5, 6, 8, 1, 1, 2, 3, 4, 6, 8, 5, 1, 2, 3, 4, 5, 6, 7, 8, 1, 2, 3, 4, 5, 6, 7, 8, 1, 6, 7, 8, 1, 2, 3, 4, 6, 7, 8, 4, 5, 3], \"Freq\": [0.061421235705038206, 0.8189498094005094, 0.10236872617506368, 0.9230487780169003, 0.06108411030994194, 0.006787123367771326, 0.016378443490741263, 0.03548662756327274, 0.1337572885077203, 0.4140106549048486, 0.3848934220324197, 0.009099135272634036, 0.001819827054526807, 0.0027297405817902107, 0.9473424453823623, 0.03893188131708338, 0.9858571170696907, 0.9127259272533715, 0.03943877463440494, 0.027365680358566697, 0.0080487295172255, 0.007646293041364224, 0.0004024364758612749, 0.00402436475861275, 0.22721532005011955, 0.03245933143573136, 0.005409888572621893, 0.5896778544157865, 0.005409888572621893, 0.005409888572621893, 0.11360766002505977, 0.02704944286310947, 0.9785986083884901, 0.010301037983036738, 0.2767709874994322, 0.6514763244217404, 0.05535419749988644, 0.01277404557689687, 0.27692442361433023, 0.043035552318443214, 0.4752621864732425, 0.15904443248120317, 0.0037422219407341924, 0.04490666328881031, 0.9853244917446699, 0.9626748661275147, 0.028313966650809257, 0.9727305409943047, 0.9893380130538059, 0.17000352911609787, 0.688109522612777, 0.03238162459354245, 0.09714487378062735, 0.004047703074192806, 0.9777614902084373, 0.011923920612298015, 0.9782756468353394, 0.011930190815065115, 0.1250657017126537, 0.4949408620968848, 0.16764125974249325, 0.1179697753743471, 0.014191852676613183, 0.06031537387560603, 0.01951379743034313, 0.000886990792288324, 0.9828391499307996, 0.01705118373737764, 0.9548662892931479, 0.9821410626051289, 0.056289172741155365, 0.00938152879019256, 0.9006267638584858, 0.01876305758038512, 0.00938152879019256, 0.9080518520749388, 0.07934433658907232, 0.01450385594326986, 0.8122159328231121, 0.14020394078494197, 0.00966923729551324, 0.024173093238783097, 0.9897746050700025, 0.9753259785158483, 0.010159645609540087, 0.014321635646768718, 0.9738712239802728, 0.04177899246509318, 0.8495061801235613, 0.07272639429108813, 0.012378960730397978, 0.0015473700912997472, 0.006189480365198989, 0.01702107100429722, 0.9714577872289786, 0.25409343646814864, 0.6493498931963799, 0.0705815101300413, 0.010587226519506195, 0.007058151013004129, 0.007058151013004129, 0.991534945253172, 0.9764074935394608, 0.986750826481181, 0.9604304652659724, 0.023283162794326604, 0.005820790698581651, 0.9737140596461911, 0.9500762963308882, 0.026391008231413562, 0.013195504115706781, 0.006597752057853391, 0.9581345501050241, 0.04227064191639812, 0.23152685661747097, 0.037544895667697996, 0.6702868138321377, 0.03938533172984005, 0.003680872124284117, 0.013619226859851234, 0.0025766104869988818, 0.0014723488497136467, 0.9881417160029742, 0.9887745428679074, 0.005816320840399456, 0.005816320840399456, 0.011732407593420596, 0.035197222780261786, 0.9385926074736476, 0.011732407593420596, 0.005866203796710298, 0.9842626887469296, 0.9880159788886069, 0.9894913148816322, 0.9974819220157769, 0.8953283783278005, 0.012039868168222258, 0.025721536541202093, 0.013681668372979837, 0.04815947267288903, 0.001094533469838387, 0.002189066939676774, 0.0016418002047575806, 0.9933713175803087, 0.9715797608121345, 0.979551065052131, 0.9823977400244684, 0.006485702235945574, 0.25386891609272677, 0.006485702235945574, 0.0018530577816987354, 0.0018530577816987354, 0.7291782370984524, 0.0009265288908493677, 0.18402772048891006, 0.05393915945364605, 0.12056988583756176, 0.022210242127971902, 0.5711205118621346, 0.04124759252337639, 0.003172891732567415, 0.003172891732567415, 0.09862690162547945, 0.003287563387515982, 0.19067867647592693, 0.6640878042782283, 0.006575126775031964, 0.026300507100127855, 0.006575126775031964, 0.9906552064697367, 0.9735943918083334, 0.9715422280598629, 0.2515687353531332, 0.5638609585501261, 0.13879654364310795, 0.010843479972117808, 0.0281930479275063, 0.0021686959944235617, 0.0043373919888471234, 0.1634066963391589, 0.02789870425302713, 0.8010913649797791, 0.005978293768505814, 0.001992764589501938, 0.9796808040316796, 0.05685855624735477, 0.2633448920930116, 0.023940444735728324, 0.29925555919660407, 0.026933000327694367, 0.03291811151162645, 0.29626300360463803, 0.9741173308569288, 0.9691861494050261, 0.020403918934842655, 0.005100979733710664, 0.3268331811172343, 0.2113483864171481, 0.25021705518352017, 0.10277772991107997, 0.06278784954567794, 0.02896463297494072, 0.013641407788197887, 0.0035505033969282173, 0.12014972281406497, 0.023865355901423864, 0.30037430703516244, 0.004114716534728252, 0.09463848029874981, 0.45179587551316214, 0.005760603148619554, 0.22131743246436836, 0.03319761486965526, 0.7303475271324156, 0.3907640519606028, 0.049434006573329276, 0.45903006103805755, 0.08474401126856447, 0.014124001878094079, 0.9960831646161037, 0.9897390381187222, 0.9736025254086952, 0.9864694536547111, 0.9954850172678599, 0.9857002679635357, 0.3030650309725534, 0.05037320678290397, 0.3860569536230755, 0.16268068420052595, 0.04913452137020961, 0.0185802811904154, 0.0061934270634717995, 0.023947917978757626, 0.9739720472851507, 0.9965521394221829, 0.993950000932149, 0.013790633637628183, 0.9653443546339728, 0.9630857182790334, 0.9896001068922935, 0.010919618449631735, 0.9827656604668562, 0.9509636040939765, 0.7914991122594768, 0.014050280099280653, 0.09835196069496457, 0.03278398689832152, 0.009366853399520435, 0.004683426699760218, 0.05151769369736239, 0.004068477835344055, 0.02441086701206433, 0.9703319637295572, 0.0040132497388310215, 0.9912726854912622, 0.9865551505492753, 0.5164067272491382, 0.4787008392277725, 0.0032787728714230996, 0.013775941846990053, 0.018367922462653404, 0.028317213796590666, 0.5908348392153512, 0.01071462143654782, 0.24643629304059983, 0.084951641389772, 0.006887970923495026, 0.9749448295512867, 0.9891129761647307, 0.9939861798686193, 0.9846397792555323, 0.7300382474468352, 0.16025229822003698, 0.02077344606556035, 0.008902905456668721, 0.011870540608891629, 0.002967635152222907, 0.05341743274001233, 0.011870540608891629, 0.006641526241673338, 0.1062644198667734, 0.07748447281952227, 0.01992457872502001, 0.7881277806785694, 0.9861601164073778, 0.20887665761647298, 0.6929400228863946, 0.03481277626941216, 0.03315502501848778, 0.028181771265714608, 0.0033155025018487775, 0.9754140649600009, 0.06265233414681379, 0.927254545372844, 0.003205002119333357, 0.9935506569933408, 0.985312452643532, 0.9800443410294408, 0.009245701330466424, 0.12072504261003722, 0.15978314463093163, 0.5610163744819376, 0.056811784757664574, 0.003550736547354036, 0.08166694058914283, 0.014202946189416144, 0.964446411510831, 0.9788558652431569, 0.9751991016242589, 0.9801270054830276, 0.004911080170991344, 0.9871271143692602, 0.004911080170991344, 0.9839741466558151, 0.9815213756573373, 0.00976483757071629, 0.9862485946423454, 0.9699234558756119, 0.029554059990325246, 0.16936749763686393, 0.2978139891332775, 0.0045467784600500384, 0.4990089359904917, 0.9923609478091198, 0.9837301462411933, 0.9785315006458148, 0.9830766174767461, 0.2174251807516502, 0.08697007230066009, 0.6783665639451487, 0.00869700723006601, 0.9984753324719084, 0.9700431648139226, 0.028649569717153475, 0.22203416530793943, 0.7448888126459904, 0.9807176439981429, 0.008781449434731766, 0.9879130614073238, 0.9922105546897134, 0.9702832016285129, 0.018659292339009863, 0.9863254171852751, 0.005668536880375144, 0.005668536880375144, 0.005668536880375144, 0.982790054789166, 0.0037144386840961335, 0.13000535394336468, 0.03590624061292929, 0.8147002180450853, 0.012381462280320445, 0.0012381462280320445, 0.002476292456064089, 0.8827578174345099, 0.06305412981675071, 0.009700635356423185, 0.03880254142569274, 0.008539414779058434, 0.9905721143707783, 0.4714518535349267, 0.026644060796322387, 0.0037005639994892206, 0.029604511995913765, 0.11101691998467661, 0.0037005639994892206, 0.3522936927513738, 0.0007401127998978442, 0.0024819670847046143, 0.0049639341694092285, 0.9878228997124365, 0.9672392800403831, 0.4189607524069319, 0.24766152851641296, 0.1258946103291766, 0.18780999245827984, 0.00515961517742527, 0.008255384283880432, 0.004127692141940216, 0.001031923035485054, 0.9665180571732265, 0.040948003160662355, 0.010616148967579129, 0.9463538508241967, 0.7940973225128163, 0.11344247464468804, 0.06239336105457842, 0.005672123732234402, 0.005672123732234402, 0.011344247464468804, 0.9628640103755316, 0.9748041485678645, 0.9883905408048355, 0.01254435390252365, 0.9784596043968448, 0.22765584866142258, 0.7702356213044796, 0.9695853447855182, 0.0330165375443114, 0.14307166269201607, 0.22011025029540934, 0.07153583134600804, 0.04402205005908187, 0.46773428187774485, 0.0165082687721557, 0.9678033268581518, 0.018219803035813203, 0.9838693639339129, 0.9839101034380819, 0.23198477338217602, 0.12155507663897323, 0.01771819761178254, 0.007828971037764377, 0.29626474611329406, 0.0008241022145015134, 0.31480704593957815, 0.009065124359516648, 0.40621636315894377, 0.31148606503096876, 0.1589542290621954, 0.011239187913488562, 0.11239187913488563, 0.9133338492839737, 0.0691919582790889, 0.9821412828991469, 0.9765136393385224, 0.36417016717824074, 0.002045899815608094, 0.2792653248305048, 0.031711447141925454, 0.21379653073104582, 0.001022949907804047, 0.0061376994468242815, 0.10127204087260065, 0.9878363673750172, 0.038928773137509226, 0.03663884530589104, 0.016029494821327327, 0.904521493489185, 0.00228992783161819, 0.040062702693007615, 0.39698496304889364, 0.0036420638811825107, 0.528099262771464, 0.025494447168277572, 0.0036420638811825107, 0.9540624471053493, 0.08951767967485756, 0.8951767967485756, 0.013771950719208855, 0.9413059985273796, 0.005364229403076911, 0.0021456917612307645, 0.0010728458806153823, 0.12069516156923049, 0.0016092688209230733, 0.8684687403581519, 0.0005364229403076911, 0.0005364229403076911, 0.984621509645117, 0.23472809404978562, 0.756346080827087, 0.008693633112955023, 0.9895095727981533, 0.02230206496413444, 0.9366867284936464, 0.007372764628497556, 0.002457588209499185, 0.001474552925699511, 0.12582851632635828, 0.000983035283799674, 0.8606473909666147, 0.000491517641899837, 0.000491517641899837, 0.024506011117268033, 0.26684323216580746, 0.42749374949012015, 0.27228901241408926, 0.005445780248281786, 0.002722890124140893, 0.9771136640938519, 0.24829113615015982, 0.40681547692295417, 0.1508846135066356, 0.01718938634885722, 0.07639727266158765, 0.045838363596952585, 0.011459590899238146, 0.045838363596952585, 0.9799804075330948, 0.11645076376876115, 0.017467614565314173, 0.8384454991350803, 0.01601198001820466, 0.0029112690942190286, 0.005822538188438057, 0.0014556345471095143, 0.9917746714841065, 0.08455330182833352, 0.7423779900527683, 0.07271583957236682, 0.010146396219400023, 0.06764264146266681, 0.006764264146266682, 0.003382132073133341, 0.013528528292533364, 0.30618599637924826, 0.002068824299859786, 0.617544053508146, 0.03310118879775657, 0.028963540198037, 0.010344121499298928, 0.0031032364497896783, 0.11952521460245973, 0.8715380231429355, 0.9692278208300562, 0.0017875585202270228, 0.49694126862311233, 0.1716056179417942, 0.041113845965221524, 0.02681337780340534, 0.010725351121362137, 0.22880749058905892, 0.02502581928317832, 0.9719763024956117, 0.09310011167903505, 0.3806760121987211, 0.3351604020445262, 0.18206244061677965, 0.0062066741119356705, 0.0020688913706452235, 0.0020688913706452235, 0.9620816905974987, 0.007770585263486783, 0.9868643284628215, 0.9741658363800324, 0.014852560107838067, 0.6423732246639964, 0.3044774822106804, 0.022278840161757102, 0.011139420080878551, 0.7835241389664487, 0.005847195066913797, 0.15787426680667252, 0.05262475560222417, 0.9939476087656282, 0.9856427010141426, 0.9936877810067166, 0.9688218150908499, 0.9063004074209837, 0.0715500321648145, 0.007950003573868278, 0.007950003573868278, 0.9725792979872223, 0.9372805960241142, 0.02372862268415479, 0.02372862268415479, 0.011864311342077395, 0.007885093594591353, 0.16164441868912272, 0.827934827432092, 0.9826087049083897, 0.19244245924249398, 0.8059432315644296, 0.003913382150824672, 0.8139834873715318, 0.12718491990180184, 0.02543698398036037, 0.013696837527886353, 0.013696837527886353, 0.001956691075412336, 0.9833518631978863, 0.7169880708273668, 0.23283633227899025, 0.04434977757695052, 0.007391629596158421, 0.01922683936251516, 0.961341968125758, 0.9678362535058391, 0.013258030869943002, 0.17166314403352337, 0.6382347662784843, 0.15845828680017543, 0.013204857233347952, 0.013204857233347952, 0.9766384795179657, 0.11974878290038757, 0.07759721131945115, 0.4454654723894418, 0.13220265632202788, 0.011495883158437206, 0.03448764947531162, 0.11208486079476276, 0.06514333789781084, 0.0034301999970747007, 0.13377779988591335, 0.10633619990931573, 0.7477835993622848, 0.0034301999970747007, 0.9625413219610426, 0.9912951435934364, 0.9779588192315031, 0.9740001822945351, 0.20830161127208086, 0.7518012176946367, 0.03830834230291142, 0.0023942713939319638, 0.9406828135323901, 0.017665404948965072, 0.03028355134108298, 0.0031545365980294774, 0.0037854439176353725, 0.002523629278423582, 0.0006309073196058955, 0.001261814639211791, 0.04368027748176623, 0.006720042689502496, 0.9475260192198519, 0.977433786346686, 0.024065926612036718, 0.9626370644814688, 0.029956871933532282, 0.9686055258508771, 0.021032670604037327, 0.9464701771816797, 0.9701123554927716, 0.9833495890172348, 0.0654840335403117, 0.22248792118515542, 0.1506921735686691, 0.05917231946413708, 0.18777349376619498, 0.0007889642595218277, 0.28954988324451075, 0.02445789204517666, 0.0034741419622073525, 0.9936046011913028, 0.9902388909278049, 0.9781312119564214, 0.9943675107299651, 0.9874751359871076, 0.008127367374379486, 0.9906206996227663, 0.003321451389563149, 0.9964354168689448, 0.8103923058069238, 0.03246980857991014, 0.029763991198250957, 0.05411634763318356, 0.07035125192313862, 0.002705817381659178, 0.01025766766728094, 0.9847360960589703, 0.02593404074103199, 0.03890106111154799, 0.9012079157508617, 0.019450530555773993, 0.006483510185257998, 0.9761816418505532, 0.0033159013101518846, 0.3249583283948847, 0.10610884192486031, 0.0033159013101518846, 0.026527210481215077, 0.0033159013101518846, 0.006631802620303769, 0.5305442096243015, 0.9893337556129292, 0.006183335972580807, 0.0029692106841888934, 0.10095316326242239, 0.020784474789322254, 0.11579921668336685, 0.7512103030997901, 0.003711513355236117, 0.00222690801314167, 0.0014846053420944467, 0.9717628761579469, 0.40545462357632805, 0.18654719770178474, 0.3902262809067946, 0.003807085667383362, 0.009517714168458405, 0.001903542833691681, 0.9966694907035832, 0.9175594706509435, 0.03324490835691824, 0.03989389002830189, 0.006648981671383648, 0.9889822611507746, 0.9853384788019995, 0.9948818226188888, 0.9838258187673589, 0.4303181896789821, 0.3580247338129131, 0.13081672966241056, 0.07745727414221679, 0.0017212727587159284, 0.1410794053767156, 0.5694015640429602, 0.04956843972695412, 0.144892362278789, 0.04829745409292966, 0.019064784510366972, 0.005083942536097859, 0.0216067557784159, 0.0162496162783058, 0.0162496162783058, 0.0162496162783058, 0.9424777441417364, 0.0063331902323286735, 0.911979393455329, 0.07599828278794409, 0.9654482675323138, 0.017553604864223887, 0.007582930700760146, 0.11374396051140219, 0.8720370305874168, 0.007582930700760146, 0.9621055012659776, 0.9234038535289051, 0.026382967243683005, 0.021586064108467914, 0.011992257838037729, 0.009593806270430183, 0.007195354702822637, 0.9811041612993412, 0.01757988958634259, 0.8789944793171296, 0.08789944793171296, 0.008789944793171295, 0.9745682066585543, 0.9815144495623842, 0.9736418277173047, 0.9577674898653299, 0.02455814076577769, 0.9687517882770075, 0.988636284177061, 0.05492946175550891, 0.6266027489146943, 0.08341140488799502, 0.15665068722867356, 0.04068849018926586, 0.018309820585169636, 0.018309820585169636, 0.982046299020697, 0.5210790514927353, 0.03589655688061065, 0.18237766802245733, 0.049213021529869436, 0.1742719938881259, 0.027211906022398393, 0.008684650858212253, 0.0011579534477616337, 0.22396397992211706, 0.47651910621727034, 0.12627756314757663, 0.08815603465019502, 0.052417101683899736, 0.0023825955310863515, 0.033356337435208924, 0.987731629437192, 0.9828531940637334, 0.9759807387216346, 0.9829993299089382, 0.9948374712857807, 0.2367315573340228, 0.008202440870091261, 0.7013086943928029, 0.004784757174219903, 0.012759352464586407, 0.0077467497106417475, 0.017771955218531067, 0.010708742247063592, 0.014776287387255215, 0.9456823927843337, 0.962012502770677, 0.971992080228054, 0.056185430685609154, 0.028092715342804577, 0.9130132486411487, 0.9916138340175835, 0.007693695199042807, 0.007693695199042807, 0.9617118998803508, 0.015387390398085614, 0.9638632396830449, 0.9910318991036475, 0.0287979141760316, 0.8063415969288849, 0.0863937425280948, 0.01799869636001975, 0.0215984356320237, 0.01079921781601185, 0.00359973927200395, 0.0287979141760316, 0.0025318911280492007, 0.9950332133233359, 0.9902778719042228, 0.9551650720933271, 0.0017159994893522512, 0.06520798059538555, 0.045473986467834654, 0.0008579997446761256, 0.004289998723380628, 0.0034319989787045023, 0.8777337388036764, 0.0008579997446761256, 0.02664407100574935, 0.8825848520654472, 0.03330508875718669, 0.013322035502874675, 0.023313562130030684, 0.009991526627156007, 0.003330508875718669, 0.009991526627156007, 0.00871620441422163, 0.00871620441422163, 0.9762148943928225, 0.8533973021384201, 0.10836791138265651, 0.006772994461416032, 0.013545988922832064, 0.006772994461416032, 0.013244782338740874, 0.9668691107280838, 0.9792825012911502, 0.9911264353355828, 0.005750854004108101, 0.03450512402464861, 0.9488909106778366, 0.9428208428849996, 0.04099221056021737, 0.01778241367106114, 0.005080689620303182, 0.002540344810151591, 0.9737988438914433, 0.06567475648616504, 0.9194465908063105, 0.009382108069452147, 0.009382108069452147, 0.04379586419365945, 0.003649655349471621, 0.007299310698943242, 0.9452607355131498, 0.03666007323880392, 0.007332014647760785, 0.953161904208902, 0.006231432955876904, 0.012462865911753808, 0.9783349740726739, 0.9417307631020175, 0.05480972695302748, 0.0624683297852052, 0.12209719003471925, 0.3549336919613932, 0.44011777803212754, 0.014197347678455728, 0.0028394695356911454, 0.0028394695356911454, 0.06622478984844529, 0.016301486731924993, 0.017320329652670306, 0.14671338058732494, 0.750887232589295, 0.0030565287622359365, 0.001018842920745312, 0.9826582812806881, 0.9937142243562279, 0.9693973129871546, 0.016156621883119244, 0.9933333702061402, 0.9855580197713271, 0.9758705824029564, 0.985794085667801, 0.9880563389887628, 0.9277298764022391, 0.026761438742372284, 0.035681918323163045, 0.8202827204164526, 0.10699339831518946, 0.017832233052531576, 0.03566446610506315, 0.004458058263132894, 0.004458058263132894, 0.008916116526265788, 0.9897831282252522, 0.015516505672441738, 0.9620233516913878, 0.9906140267518396, 0.9736955266707688, 0.9789155400449326, 0.415773245725201, 0.16094448221620686, 0.015647380215464555, 0.3867138253250526, 0.011176700153903254, 0.006706020092341953, 0.0022353400307806508, 0.9856737581314717, 0.9822931127411345, 0.9631229114125734, 0.031321070289839784, 0.9957261247627458, 0.02674265526172416, 0.9627355894220697, 0.10735319161008369, 0.003157446812061285, 0.3283744684543736, 0.5604468091408781, 0.9810507804096293, 0.9645654138327227, 0.1587935447716869, 0.013232795397640574, 0.8027895874568615, 0.026465590795281147, 0.6659553257616387, 0.012378351779956111, 0.022281033203921, 0.23766435417515733, 0.03465938498387711, 0.024756703559912222, 0.004951340711982445, 0.0671451459626166, 0.006714514596261659, 0.2585088119560739, 0.6278071147504651, 0.0033572572981308297, 0.03692983027943913, 0.9732136187728939, 0.9913032580819507, 0.10662686461123957, 0.2198062181092034, 0.15249428681830912, 0.3770659513905847, 0.13164545854236842, 0.01012657373402834, 0.00119136161576804, 0.00119136161576804, 0.994310461406686, 0.14791766031423215, 0.005190093344359023, 0.036330653410513156, 0.018165326705256578, 0.0700662601488468, 0.0025950466721795114, 0.7188279281937247, 0.022622554271989892, 0.1040637496511535, 0.07239217367036765, 0.7646423343932583, 0.004524510854397978, 0.018098043417591914, 0.009049021708795957, 0.005889315961450271, 0.9894050815236455, 0.999491623282496, 0.014407683879407622, 0.07203841939703812, 0.9076840844026802, 0.9909986369801478, 0.9825162906868531, 0.009447272025835125, 0.9721782495650866, 0.39268252651229174, 0.020667501395383776, 0.5890237897684376, 0.9528475429600616, 0.038778679073956, 0.005539811296279428, 0.9972945110831525, 0.9834585204127154, 0.9922444812554095, 0.5816771691979529, 0.12336240635339135, 0.2802981258282753, 0.0039038736187782075, 0.0039038736187782075, 0.003123098895022566, 0.003123098895022566, 0.1793324802407679, 0.07460231178015944, 0.2890839581481178, 0.12553273616853752, 0.1563779227699496, 0.16355122197958033, 0.00932528897251993, 0.0014346598419261432, 0.9945175870673671, 0.6382377901356677, 0.04727687334338279, 0.10130758573582027, 0.18235365432447648, 0.003376919524527342, 0.023638436671691396, 0.9954882049103114, 0.006514585286379717, 0.9902169635297169, 0.9698685558302783, 0.015643041223069004, 0.990400128980121, 0.9875479891429627, 0.9790296520156112, 0.017850142155131064, 0.9639076763770774, 0.9815244024687715, 0.1325794353169519, 0.00457170466610179, 0.2880173939644128, 0.5348894459339094, 0.00457170466610179, 0.032001932662712534, 0.9770302601180479, 0.9779466589879049, 0.9932335969923632, 0.9932893694079683, 0.9802945827166336, 0.9770977815201983, 0.014369085022355857, 0.9798375999817862, 0.9726390027981638, 0.9887631507869649, 0.9701226766121597, 0.011150835363358157, 0.006591022265351368, 0.03295511132675684, 0.07250124491886505, 0.006591022265351368, 0.8700149390263806, 0.3747144466862726, 0.0029160657329671017, 0.6152898696560585, 0.0014580328664835509, 0.0029160657329671017, 0.053011790781472674, 0.01427240521039649, 0.9297452537058285, 0.9765625614676593, 0.0028076794989668375, 0.9939185426342604, 0.016232935554248006, 0.003246587110849601, 0.0016232935554248006, 0.9642363719223316, 0.014609641998823206, 0.9539792736023803, 0.008368239242126143, 0.03347295696850457, 0.1488910560808415, 0.4005379114287426, 0.016776457023193407, 0.10275579926705962, 0.32504385482437226, 0.004194114255798352, 0.010712575546078969, 0.9748443746931861, 0.12691242126984012, 0.8566588435714207, 0.974230849369227, 0.9837248398432019, 0.05370634528642167, 0.35058308728636367, 0.28941752737682785, 0.2610725118089942, 0.016410272170851066, 0.019393958020096712, 0.00745921462311412, 0.001491842924622824, 0.004800203182551502, 0.06720284455572102, 0.019200812730206008, 0.0072003047738272525, 0.8976379951371308, 0.002400101591275751, 0.0077803414837009635, 0.9881033684300223, 0.9830479848369852, 0.033708960431918435, 0.9550872122376891, 0.6624422809863826, 0.32322062985325917, 0.003200204255972863, 0.006400408511945726, 0.9749748823372806, 0.013541317810240008, 0.1705146824476367, 0.8224825859238947, 0.02538464883985771, 0.790550492441283, 0.058022054491103335, 0.010879135217081875, 0.09791221695373688, 0.010879135217081875, 0.007252756811387917, 0.02652274595021147, 0.3010331665349002, 0.07028527676806039, 0.021218196760169176, 0.005304549190042294, 0.015913647570126883, 0.5556515276569303, 0.005304549190042294, 0.9790363761905718, 0.8991794240919996, 0.07193435392735997, 0.020552672550674278, 0.010276336275337139, 0.01505186108291214, 0.02257779162436821, 0.01505186108291214, 0.03010372216582428, 0.03010372216582428, 0.8805338733503602, 0.05758338755138392, 0.38806195958541334, 0.5032287346881812, 0.04005800873139751, 0.007510876637137033, 0.9746499708195687, 0.976541588997275, 0.974613679631119, 0.9882607945557605, 0.979550257560403, 0.00890500234145821, 0.9944114708382973, 0.07657288371424394, 0.05855573460501007, 0.013512861831925401, 0.8332931463020664, 0.009008574554616934, 0.004504287277308467, 0.9900288195440082, 0.9699216742946479, 0.03729373743764527, 0.1022570220064467, 0.0024060475766222752, 0.8072289619567733, 0.03729373743764527, 0.0024060475766222752, 0.0024060475766222752, 0.009624190306489101, 0.9385637331350922, 0.042661987869776916, 0.9827133304681642, 0.9956568975049291, 0.0013042191633558505, 0.10433753306846803, 0.005216876653423402, 0.0013042191633558505, 0.8868690310819783, 0.0013042191633558505, 0.0013042191633558505, 0.990724098523688, 0.723139437719205, 0.1229469245116747, 0.10311677539688846, 0.03437225846562949, 0.015864119291828994, 0.9648732041132082, 0.9793079359509784, 0.9749640110482496, 0.9871592100031484, 0.9840207190673781, 0.9740682233687491, 0.10020929968074044, 0.15930709180015146, 0.06937566900974337, 0.35201728349388306, 0.04881991522907867, 0.26722479914864117, 0.9855183832786581, 0.8547068681245351, 0.05574175226899142, 0.007225782701535925, 0.0763868457019512, 0.0010322546716479892, 0.0051612733582399465, 0.9929904411175097, 0.03345113824968325, 0.5597490467113664, 0.26091887834752936, 0.07805265591592758, 0.04906166943286877, 0.011150379416561084, 0.004460151766624434, 0.004460151766624434, 0.11315260959632155, 0.5091867431834469, 0.14144076199540193, 0.14144076199540193, 0.010286600872392868, 0.028288152399080387, 0.028288152399080387, 0.030859802617178602, 0.9833629826107217, 0.06761170727836095, 0.033805853639180476, 0.8789521946186925, 0.015780301605301875, 0.20908899627024982, 0.2031713831682616, 0.07298389492452116, 0.4911618874650208, 0.0029588065509941015, 0.004931344251656836, 0.9162233426821542, 0.08164366419939988, 0.985825776725756], \"Term\": [\"accord\", \"accord\", \"accord\", \"accountable\", \"accountable\", \"accountable\", \"action\", \"action\", \"action\", \"action\", \"action\", \"action\", \"action\", \"action\", \"actively\", \"actively\", \"activism\", \"activist\", \"activist\", \"activist\", \"activist\", \"activist\", \"activist\", \"activist\", \"ad\", \"ad\", \"ad\", \"ad\", \"ad\", \"ad\", \"ad\", \"ad\", \"adapt\", \"adapt\", \"add\", \"add\", \"add\", \"add\", \"address\", \"address\", \"address\", \"address\", \"address\", \"address\", \"advocacy\", \"advocate\", \"advocate\", \"agency\", \"aim\", \"also\", \"also\", \"also\", \"also\", \"also\", \"alter\", \"alter\", \"ambitious\", \"ambitious\", \"amp\", \"amp\", \"amp\", \"amp\", \"amp\", \"amp\", \"amp\", \"amp\", \"angst\", \"appeal\", \"appeal\", \"appoint\", \"approach\", \"approach\", \"approach\", \"approach\", \"approach\", \"argue\", \"argue\", \"article\", \"article\", \"article\", \"article\", \"article\", \"assessment\", \"auto\", \"auto\", \"avoid\", \"avoid\", \"back\", \"back\", \"back\", \"back\", \"back\", \"back\", \"back\", \"back_better\", \"bad\", \"bad\", \"bad\", \"bad\", \"bad\", \"bad\", \"bank\", \"base\", \"bask\", \"battle\", \"battle\", \"battle\", \"be\", \"become\", \"become\", \"become\", \"become\", \"begin\", \"begin\", \"big\", \"big\", \"big\", \"big\", \"big\", \"big\", \"big\", \"big\", \"bipartisan\", \"blame\", \"blame\", \"blame\", \"block\", \"block\", \"block\", \"block\", \"block\", \"blog\", \"bloomberg\", \"bloomberg_businessweek\", \"blow\", \"board\", \"board\", \"board\", \"board\", \"board\", \"board\", \"board\", \"board\", \"boardroom\", \"bold\", \"broad\", \"buck\", \"business\", \"business\", \"business\", \"business\", \"business\", \"business\", \"business\", \"call\", \"call\", \"call\", \"call\", \"call\", \"call\", \"call\", \"call\", \"campaign\", \"campaign\", \"campaign\", \"campaign\", \"campaign\", \"campaign\", \"campaign\", \"capital\", \"car\", \"care_job\", \"case\", \"case\", \"case\", \"case\", \"case\", \"case\", \"case\", \"catch\", \"catch\", \"catch\", \"catch\", \"catch\", \"ccs\", \"ceo\", \"ceo\", \"ceo\", \"ceo\", \"ceo\", \"ceo\", \"ceo\", \"chair\", \"challenge\", \"challenge\", \"challenge\", \"change\", \"change\", \"change\", \"change\", \"change\", \"change\", \"change\", \"change\", \"chevron\", \"chevron\", \"chevron\", \"chevron\", \"chevron\", \"chevron\", \"chevron\", \"city\", \"city\", \"city\", \"clean\", \"clean\", \"clean\", \"clean\", \"clean\", \"climatechange\", \"climaterelate\", \"coalition\", \"combine\", \"committing_ecocide\", \"common\", \"company\", \"company\", \"company\", \"company\", \"company\", \"company\", \"company\", \"company\", \"compensation\", \"concern\", \"concerns_cause\", \"condemns_statement\", \"condemns_statement\", \"confront\", \"conocophillip\", \"contribute\", \"contribute\", \"conversation\", \"corporate\", \"corporate\", \"corporate\", \"corporate\", \"corporate\", \"corporate\", \"corporate\", \"corporation\", \"corporation\", \"corporation\", \"could_slow\", \"could_slow\", \"coup\", \"court\", \"court\", \"court\", \"crisis\", \"crisis\", \"crisis\", \"crisis\", \"crisis\", \"crisis\", \"crisis\", \"crisis\", \"criticism\", \"criticize\", \"crucial\", \"customer\", \"cut\", \"cut\", \"cut\", \"cut\", \"cut\", \"cut\", \"cut\", \"cut\", \"damage\", \"damage\", \"damage\", \"damage\", \"damage\", \"dark\", \"day\", \"day\", \"day\", \"day\", \"day\", \"day\", \"debate\", \"deep\", \"deep\", \"defeat\", \"defeat\", \"defend\", \"deliver\", \"deliver\", \"demand\", \"demand\", \"demand\", \"demand\", \"demand\", \"demand\", \"demand\", \"demonstrate\", \"deni\", \"denier\", \"deploy\", \"describe\", \"describe\", \"describe\", \"detail\", \"determine\", \"die\", \"die\", \"difficult\", \"director\", \"director\", \"director\", \"director\", \"director\", \"disclose\", \"discussion\", \"div\", \"dividend\", \"doubt\", \"doubt\", \"doubt\", \"doubt\", \"downplay\", \"drill\", \"due\", \"due\", \"due\", \"dupe\", \"dutch\", \"dutch\", \"earning\", \"economic\", \"economic\", \"economy\", \"economy\", \"economy\", \"economy\", \"ecosearch\", \"effort\", \"effort\", \"effort\", \"effort\", \"effort\", \"effort\", \"effort\", \"elect\", \"elect\", \"elect\", \"elect\", \"electrification\", \"electrification\", \"emission\", \"emission\", \"emission\", \"emission\", \"emission\", \"emission\", \"emission\", \"emission\", \"end\", \"end\", \"end\", \"end_week\", \"energy\", \"energy\", \"energy\", \"energy\", \"energy\", \"energy\", \"energy\", \"energy\", \"engage\", \"engine\", \"engine\", \"engine\", \"environmental\", \"environmental\", \"environmental\", \"environmental\", \"environmental\", \"environmental\", \"era\", \"esg\", \"essential\", \"estimate\", \"estimate\", \"evil\", \"evil\", \"exacerbate\", \"executive\", \"executive\", \"executive\", \"executive\", \"executive\", \"executive\", \"executive\", \"expand\", \"experience\", \"experience\", \"expose\", \"exxon\", \"exxon\", \"exxon\", \"exxon\", \"exxon\", \"exxon\", \"exxon\", \"exxon\", \"face\", \"face\", \"face\", \"face\", \"face\", \"facebook\", \"facebook\", \"fall\", \"fault\", \"fight\", \"fight\", \"fight\", \"fight\", \"fight\", \"fight\", \"fight\", \"fight\", \"fighting\", \"find\", \"find\", \"find\", \"find\", \"find\", \"focus\", \"focus\", \"focus\", \"focus\", \"focus\", \"focus\", \"footprint\", \"former\", \"former\", \"former\", \"fortune\", \"fossil\", \"fossil\", \"fossil\", \"fossil\", \"fossil\", \"fossil\", \"fossil\", \"fossil\", \"foundation\", \"fraud\", \"fraud\", \"fraud\", \"front\", \"fuck\", \"fuck\", \"fuel\", \"fuel\", \"fuel\", \"fuel\", \"fuel\", \"fuel\", \"fuel\", \"fuel\", \"fund\", \"fund\", \"fund\", \"fund\", \"fund\", \"fund\", \"fundamental\", \"future\", \"future\", \"future\", \"future\", \"future\", \"future\", \"future\", \"future\", \"gain\", \"gas\", \"gas\", \"gas\", \"gas\", \"gas\", \"gas\", \"gas\", \"gasoline\", \"get\", \"get\", \"get\", \"get\", \"get\", \"get\", \"get\", \"get\", \"giant\", \"giant\", \"giant\", \"giant\", \"giant\", \"giant\", \"giant\", \"giants_toward\", \"giants_toward\", \"globally\", \"go\", \"go\", \"go\", \"go\", \"go\", \"go\", \"go\", \"go\", \"going\", \"good\", \"good\", \"good\", \"good\", \"good\", \"good\", \"good\", \"governance\", \"government_give\", \"government_give\", \"grade\", \"great\", \"great\", \"great\", \"great\", \"great\", \"green\", \"green\", \"green\", \"green\", \"greenpeace\", \"guyanese_citizen\", \"half\", \"handful\", \"hard\", \"hard\", \"hard\", \"hard\", \"harvard_researcher\", \"heat\", \"heat\", \"heat\", \"heat\", \"hedge_fund\", \"hedge_fund\", \"hedge_fund\", \"here\", \"historic\", \"historic\", \"hold\", \"hold\", \"hold\", \"hold\", \"hold\", \"hold\", \"hold\", \"however\", \"huge\", \"huge\", \"huge\", \"huge\", \"icymi\", \"icymi\", \"ignore\", \"ignore\", \"impact\", \"impact\", \"impact\", \"impact\", \"impact\", \"inaction\", \"industry\", \"industry\", \"industry\", \"industry\", \"industry\", \"industry\", \"industry\", \"industry\", \"infrastructure\", \"infrastructure\", \"infrastructure\", \"infrastructure\", \"infrastructure\", \"insider\", \"install\", \"institute\", \"international\", \"investment\", \"investment\", \"investment\", \"investment\", \"investor\", \"investor\", \"investor\", \"investor\", \"investor\", \"investor\", \"investor\", \"investor\", \"investor_oust\", \"investor_oust\", \"investor_oust\", \"jet\", \"journal\", \"journal\", \"judge\", \"judge\", \"justice\", \"justice\", \"justice_urge\", \"kick\", \"know\", \"know\", \"know\", \"know\", \"know\", \"know\", \"know\", \"know\", \"landmark\", \"landmark\", \"language\", \"last_week\", \"law\", \"lawsuit\", \"lawsuit\", \"leadership\", \"leaked_document\", \"leaked_document\", \"least\", \"least\", \"least\", \"least\", \"least\", \"least\", \"legal\", \"legal\", \"legislation\", \"legislation\", \"legislation\", \"legislation\", \"legislation\", \"liable\", \"lie\", \"lie\", \"lie\", \"lie\", \"lie\", \"lie\", \"lie\", \"lie\", \"little\", \"little\", \"lobbyist\", \"lobbyist\", \"lobbyist\", \"lobbyist\", \"lobbyist\", \"lobbyist\", \"lobbyist\", \"lobbyist\", \"longterm\", \"lose\", \"lose\", \"lose\", \"lose\", \"lose\", \"lose\", \"loss\", \"lot\", \"lot\", \"lot\", \"lot\", \"lowcarbon\", \"lower\", \"lucrative\", \"mainstream\", \"major\", \"major\", \"major\", \"major\", \"major\", \"make\", \"make\", \"make\", \"make\", \"make\", \"make\", \"make\", \"make\", \"manage\", \"manage\", \"manage\", \"manage\", \"market\", \"market\", \"market\", \"matter\", \"matter\", \"measure\", \"measure\", \"measure\", \"measure\", \"meat\", \"member\", \"member\", \"member\", \"member\", \"member\", \"member\", \"mess\", \"message\", \"message\", \"message\", \"message\", \"methane\", \"mine\", \"misrepresent\", \"moment\", \"moment\", \"morning\", \"naming_senator\", \"need\", \"need\", \"need\", \"need\", \"need\", \"need\", \"need\", \"net_zero\", \"new\", \"new\", \"new\", \"new\", \"new\", \"new\", \"new\", \"new\", \"news\", \"news\", \"news\", \"news\", \"news\", \"news\", \"news\", \"nominee\", \"notice\", \"number\", \"office\", \"offshore_drilling\", \"oil\", \"oil\", \"oil\", \"oil\", \"oil\", \"oil\", \"oil\", \"oil\", \"onto_consumer\", \"onto_consumer\", \"outcome\", \"outright\", \"own\", \"own\", \"own\", \"pandemic\", \"pass\", \"pass\", \"pass\", \"pass\", \"pause\", \"pension_fund\", \"people\", \"people\", \"people\", \"people\", \"people\", \"people\", \"people\", \"people\", \"petition\", \"petition\", \"petroleum\", \"plaintiff\", \"plan\", \"plan\", \"plan\", \"plan\", \"plan\", \"plan\", \"plan\", \"plan\", \"planet\", \"planet\", \"planet\", \"planet\", \"planet\", \"planet\", \"planet\", \"planet\", \"playbook\", \"playbook\", \"playbook\", \"pledge\", \"pledge\", \"pledge\", \"pledge\", \"pledge\", \"ploy_ceo\", \"ploy_ceo\", \"politic\", \"power_shift\", \"powerful_signal\", \"powerful_signal\", \"powerful_signal\", \"present\", \"present\", \"pressure\", \"pressure\", \"pressure\", \"pressure\", \"price\", \"price\", \"price\", \"price\", \"proclimate_campaign\", \"proclimate_campaign\", \"proclimate_campaign\", \"proclimate_campaign\", \"proposal\", \"proposal\", \"proposal\", \"protect\", \"protect\", \"protect\", \"proxy\", \"proxy\", \"public\", \"public\", \"public\", \"public\", \"public\", \"public\", \"public\", \"push\", \"push\", \"push\", \"push\", \"push\", \"push\", \"push\", \"quickly\", \"quit\", \"race\", \"race\", \"rating\", \"rd\", \"reach\", \"rebellion\", \"reckon\", \"record\", \"record\", \"record\", \"reduce\", \"reduce\", \"reduce\", \"reduce\", \"reduce\", \"reduce\", \"reduce\", \"referendum\", \"reject\", \"reject\", \"release\", \"remove\", \"replace\", \"report\", \"report\", \"report\", \"report\", \"report\", \"report\", \"report\", \"respond\", \"response\", \"responsibility\", \"responsibility\", \"result\", \"return\", \"return\", \"reveal\", \"reveal\", \"reveal\", \"reveal\", \"revolt\", \"rhetoric\", \"rise\", \"rise\", \"rise\", \"rise\", \"risk\", \"risk\", \"risk\", \"risk\", \"risk\", \"risk\", \"risk\", \"role\", \"role\", \"role\", \"role\", \"role\", \"role\", \"sabotage\", \"samp\", \"say\", \"say\", \"say\", \"say\", \"say\", \"say\", \"say\", \"say\", \"say_youre\", \"science\", \"science\", \"science\", \"science\", \"science\", \"science\", \"science\", \"scientist\", \"scientist\", \"scientist\", \"scientist\", \"scientist\", \"scientist\", \"scientist\", \"score\", \"score\", \"seat\", \"secret\", \"secret\", \"secret\", \"secretly_recorde\", \"send\", \"send\", \"senior\", \"serious\", \"serious\", \"serious\", \"set\", \"set\", \"set\", \"setback\", \"shadow_group\", \"shake\", \"shareholder\", \"shareholder\", \"shareholder\", \"shareholder\", \"shareholder\", \"shareholder\", \"shareholder\", \"shell\", \"shell\", \"shell\", \"shell\", \"shell\", \"shell\", \"shell\", \"shell\", \"shift\", \"show\", \"show\", \"show\", \"show\", \"show\", \"show\", \"shows_yearly\", \"sign\", \"sign\", \"signal\", \"signal\", \"significant\", \"sit\", \"slash\", \"soon\", \"soon\", \"soul\", \"spend\", \"spend\", \"spend\", \"spend\", \"spend\", \"spend\", \"spends_million\", \"spotlight\", \"stake\", \"stakeholder\", \"stall\", \"stand\", \"stand\", \"stave\", \"stay\", \"steer\", \"sting\", \"sting\", \"storage\", \"storage\", \"storage\", \"storage\", \"storage\", \"strategy\", \"strategy\", \"strategy\", \"strategy\", \"strategy\", \"study\", \"study\", \"study\", \"subpoena\", \"subsidy\", \"subsidy\", \"sue\", \"sue\", \"sue\", \"sue\", \"sue\", \"suit\", \"suit\", \"suit\", \"support\", \"support\", \"support\", \"support\", \"support\", \"support\", \"supreme_court\", \"supreme_court\", \"surprise\", \"surprise\", \"surprising\", \"sustainable\", \"take\", \"take\", \"take\", \"take\", \"take\", \"take\", \"take\", \"take\", \"talk\", \"talk\", \"talk\", \"talk\", \"talk\", \"talk\", \"taxpayerfunded_subsidie\", \"taxpayerfunded_subsidie\", \"team\", \"tech\", \"tech\", \"technology\", \"technology\", \"technology\", \"technology\", \"term\", \"term\", \"texas_governor\", \"texas_governor\", \"think\", \"think\", \"think\", \"think\", \"think\", \"think\", \"think\", \"time\", \"time\", \"time\", \"time\", \"time\", \"time\", \"time\", \"time\", \"tiny\", \"tipping_point\", \"tipping_point\", \"tipping_point\", \"tipping_point\", \"tobacco\", \"tobacco\", \"tobacco\", \"tobacco\", \"tobacco\", \"tobacco\", \"today\", \"today\", \"today\", \"today\", \"today\", \"tomorrow\", \"tricks_top\", \"tweet\", \"unable\", \"undercover\", \"undercover\", \"undercut\", \"undermine\", \"undermine\", \"undermine\", \"undermine\", \"undermine\", \"undermine\", \"unveil\", \"urgent\", \"use\", \"use\", \"use\", \"use\", \"use\", \"use\", \"use\", \"use\", \"value\", \"value\", \"vehicle\", \"victory\", \"video\", \"video\", \"video\", \"video\", \"video\", \"video\", \"video\", \"view\", \"vote\", \"vote\", \"vote\", \"vote\", \"vote\", \"voting\", \"vulnerable\", \"walk\", \"wall_street\", \"weak\", \"wednesday\", \"week\", \"week\", \"week\", \"week\", \"week\", \"week\", \"willing\", \"win\", \"win\", \"win\", \"win\", \"win\", \"win\", \"wind\", \"work\", \"work\", \"work\", \"work\", \"work\", \"work\", \"work\", \"work\", \"world\", \"world\", \"world\", \"world\", \"world\", \"world\", \"world\", \"world\", \"worlds_bigg\", \"worlds_larg\", \"worlds_larg\", \"worlds_larg\", \"year\", \"year\", \"year\", \"year\", \"year\", \"year\", \"year\", \"yesterday\", \"yesterday\", \"york_time\"]}, \"R\": 30, \"lambda.step\": 0.01, \"plot.opts\": {\"xlab\": \"PC1\", \"ylab\": \"PC2\"}, \"topic.order\": [1, 3, 7, 2, 5, 6, 8, 4]};\n",
       "\n",
       "function LDAvis_load_lib(url, callback){\n",
       "  var s = document.createElement('script');\n",
       "  s.src = url;\n",
       "  s.async = true;\n",
       "  s.onreadystatechange = s.onload = callback;\n",
       "  s.onerror = function(){console.warn(\"failed to load library \" + url);};\n",
       "  document.getElementsByTagName(\"head\")[0].appendChild(s);\n",
       "}\n",
       "\n",
       "if(typeof(LDAvis) !== \"undefined\"){\n",
       "   // already loaded: just create the visualization\n",
       "   !function(LDAvis){\n",
       "       new LDAvis(\"#\" + \"ldavis_el22134140616227857008339381432\", ldavis_el22134140616227857008339381432_data);\n",
       "   }(LDAvis);\n",
       "}else if(typeof define === \"function\" && define.amd){\n",
       "   // require.js is available: use it to load d3/LDAvis\n",
       "   require.config({paths: {d3: \"https://d3js.org/d3.v5\"}});\n",
       "   require([\"d3\"], function(d3){\n",
       "      window.d3 = d3;\n",
       "      LDAvis_load_lib(\"https://cdn.jsdelivr.net/gh/bmabey/pyLDAvis@3.3.1/pyLDAvis/js/ldavis.v3.0.0.js\", function(){\n",
       "        new LDAvis(\"#\" + \"ldavis_el22134140616227857008339381432\", ldavis_el22134140616227857008339381432_data);\n",
       "      });\n",
       "    });\n",
       "}else{\n",
       "    // require.js not available: dynamically load d3 & LDAvis\n",
       "    LDAvis_load_lib(\"https://d3js.org/d3.v5.js\", function(){\n",
       "         LDAvis_load_lib(\"https://cdn.jsdelivr.net/gh/bmabey/pyLDAvis@3.3.1/pyLDAvis/js/ldavis.v3.0.0.js\", function(){\n",
       "                 new LDAvis(\"#\" + \"ldavis_el22134140616227857008339381432\", ldavis_el22134140616227857008339381432_data);\n",
       "            })\n",
       "         });\n",
       "}\n",
       "</script>"
      ],
      "text/plain": [
       "PreparedData(topic_coordinates=              x         y  topics  cluster       Freq\n",
       "topic                                                \n",
       "0     -0.185280  0.041315       1        1  18.965650\n",
       "2     -0.102567  0.046607       2        1  18.170282\n",
       "6     -0.152754 -0.032758       3        1  17.797062\n",
       "1     -0.086116 -0.094592       4        1  12.126617\n",
       "4     -0.009829  0.170066       5        1  12.047285\n",
       "5      0.107062 -0.269516       6        1   8.860379\n",
       "7      0.214690  0.179283       7        1   7.161237\n",
       "3      0.214794 -0.040404       8        1   4.871488, topic_info=          Term         Freq        Total Category  logprob  loglift\n",
       "55        fuel  2034.000000  2034.000000  Default  30.0000  30.0000\n",
       "54      fossil  1864.000000  1864.000000  Default  29.0000  29.0000\n",
       "41         oil  4388.000000  4388.000000  Default  28.0000  28.0000\n",
       "2827      seat  1498.000000  1498.000000  Default  27.0000  27.0000\n",
       "172   activist  2484.000000  2484.000000  Default  26.0000  26.0000\n",
       "...        ...          ...          ...      ...      ...      ...\n",
       "826       week   104.245687   389.185436   Topic8  -4.5536   1.7045\n",
       "34       fight    99.330470   977.564974   Topic8  -4.6019   0.7352\n",
       "969    serious    56.593981    96.770285   Topic8  -5.1644   2.4853\n",
       "86    industry    68.394852  1043.851945   Topic8  -4.9750   0.2964\n",
       "66     company    57.724902  2421.922442   Topic8  -5.1446  -0.7149\n",
       "\n",
       "[508 rows x 6 columns], token_table=      Topic      Freq         Term\n",
       "term                              \n",
       "1602      1  0.061421       accord\n",
       "1602      4  0.818950       accord\n",
       "1602      7  0.102369       accord\n",
       "1725      2  0.923049  accountable\n",
       "1725      3  0.061084  accountable\n",
       "...     ...       ...          ...\n",
       "62        7  0.002959         year\n",
       "62        8  0.004931         year\n",
       "2446      4  0.916223    yesterday\n",
       "2446      5  0.081644    yesterday\n",
       "2191      3  0.985826    york_time\n",
       "\n",
       "[1208 rows x 3 columns], R=30, lambda_step=0.01, plot_opts={'xlab': 'PC1', 'ylab': 'PC2'}, topic_order=[1, 3, 7, 2, 5, 6, 8, 4])"
      ]
     },
     "execution_count": 76,
     "metadata": {},
     "output_type": "execute_result"
    }
   ],
   "source": [
    "# Visualize the optimal topics\n",
    "pyLDAvis.enable_notebook()\n",
    "vis = pyLDAvis.gensim_models.prepare(optimal_model, corpus, id2word)\n",
    "vis"
   ]
  },
  {
   "cell_type": "markdown",
   "id": "45a55ce8-e7e1-49a3-b75a-d0274de33505",
   "metadata": {
    "tags": []
   },
   "source": [
    "### Finding the dominant topic in each sentence"
   ]
  },
  {
   "cell_type": "code",
   "execution_count": 77,
   "id": "3d78407f-fd9f-4051-afaf-9ae1e492d546",
   "metadata": {},
   "outputs": [
    {
     "data": {
      "text/html": [
       "<div>\n",
       "<style scoped>\n",
       "    .dataframe tbody tr th:only-of-type {\n",
       "        vertical-align: middle;\n",
       "    }\n",
       "\n",
       "    .dataframe tbody tr th {\n",
       "        vertical-align: top;\n",
       "    }\n",
       "\n",
       "    .dataframe thead th {\n",
       "        text-align: right;\n",
       "    }\n",
       "</style>\n",
       "<table border=\"1\" class=\"dataframe\">\n",
       "  <thead>\n",
       "    <tr style=\"text-align: right;\">\n",
       "      <th></th>\n",
       "      <th>Document_No</th>\n",
       "      <th>Dominant_Topic</th>\n",
       "      <th>Topic_Perc_Contrib</th>\n",
       "      <th>Keywords</th>\n",
       "      <th>Text</th>\n",
       "    </tr>\n",
       "  </thead>\n",
       "  <tbody>\n",
       "    <tr>\n",
       "      <th>0</th>\n",
       "      <td>0</td>\n",
       "      <td>7.0</td>\n",
       "      <td>0.3479</td>\n",
       "      <td>plan, business, exxon, sue, emission, dutch, time, know, damage, reveal</td>\n",
       "      <td>We are in a climate emergencyDecember wildfires ravage Colorado Sen Manchin your Exxon highway bill isnt going save our homes or our lives Your greed amp corruption is not only torching our future Its burning our communities and destroying lives</td>\n",
       "    </tr>\n",
       "    <tr>\n",
       "      <th>1</th>\n",
       "      <td>1</td>\n",
       "      <td>7.0</td>\n",
       "      <td>0.9204</td>\n",
       "      <td>plan, business, exxon, sue, emission, dutch, time, know, damage, reveal</td>\n",
       "      <td>business knows about the damage that It does but this business is too much easy and lucrative Exxons Plan for Surging Carbon Emissions Revealed in Leaked Documents</td>\n",
       "    </tr>\n",
       "    <tr>\n",
       "      <th>2</th>\n",
       "      <td>2</td>\n",
       "      <td>0.0</td>\n",
       "      <td>0.7950</td>\n",
       "      <td>activist, change, board, investor, oil, new, win, shareholder, company, emission</td>\n",
       "      <td>Your opinion piece concerning climate science alone motivating people to help create political change on Global Warming policy is Spot On Informing people about the injustices Exxon and Big Oil has perpetrated on us is crucial in inspiring citizens to fight back</td>\n",
       "    </tr>\n",
       "    <tr>\n",
       "      <th>3</th>\n",
       "      <td>3</td>\n",
       "      <td>5.0</td>\n",
       "      <td>0.9453</td>\n",
       "      <td>fuel, fossil, pressure, chevron, year, corporation, end, petition, subsidy, crisis</td>\n",
       "      <td>Each year the government gives over 15 billion in taxpayerfunded subsidies to fossil fuel corporations who contribute to the climate crisis like Exxon Will you sign this petition to pressure the Senate to END fossil fuel subsidies</td>\n",
       "    </tr>\n",
       "    <tr>\n",
       "      <th>4</th>\n",
       "      <td>4</td>\n",
       "      <td>5.0</td>\n",
       "      <td>0.9453</td>\n",
       "      <td>fuel, fossil, pressure, chevron, year, corporation, end, petition, subsidy, crisis</td>\n",
       "      <td>Each year the government gives over 15 billion in taxpayerfunded subsidies to fossil fuel corporations who contribute to the climate crisis like Exxon Will you sign our petition to pressure the Senate to END fossil fuel subsidies</td>\n",
       "    </tr>\n",
       "  </tbody>\n",
       "</table>\n",
       "</div>"
      ],
      "text/plain": [
       "   Document_No  Dominant_Topic  Topic_Perc_Contrib  \\\n",
       "0            0             7.0              0.3479   \n",
       "1            1             7.0              0.9204   \n",
       "2            2             0.0              0.7950   \n",
       "3            3             5.0              0.9453   \n",
       "4            4             5.0              0.9453   \n",
       "\n",
       "                                                                             Keywords  \\\n",
       "0             plan, business, exxon, sue, emission, dutch, time, know, damage, reveal   \n",
       "1             plan, business, exxon, sue, emission, dutch, time, know, damage, reveal   \n",
       "2    activist, change, board, investor, oil, new, win, shareholder, company, emission   \n",
       "3  fuel, fossil, pressure, chevron, year, corporation, end, petition, subsidy, crisis   \n",
       "4  fuel, fossil, pressure, chevron, year, corporation, end, petition, subsidy, crisis   \n",
       "\n",
       "                                                                                                                                                                                                                                                                     Text  \n",
       "0                   We are in a climate emergencyDecember wildfires ravage Colorado Sen Manchin your Exxon highway bill isnt going save our homes or our lives Your greed amp corruption is not only torching our future Its burning our communities and destroying lives  \n",
       "1                                                                                                     business knows about the damage that It does but this business is too much easy and lucrative Exxons Plan for Surging Carbon Emissions Revealed in Leaked Documents  \n",
       "2  Your opinion piece concerning climate science alone motivating people to help create political change on Global Warming policy is Spot On Informing people about the injustices Exxon and Big Oil has perpetrated on us is crucial in inspiring citizens to fight back  \n",
       "3                                 Each year the government gives over 15 billion in taxpayerfunded subsidies to fossil fuel corporations who contribute to the climate crisis like Exxon Will you sign this petition to pressure the Senate to END fossil fuel subsidies   \n",
       "4                                  Each year the government gives over 15 billion in taxpayerfunded subsidies to fossil fuel corporations who contribute to the climate crisis like Exxon Will you sign our petition to pressure the Senate to END fossil fuel subsidies   "
      ]
     },
     "execution_count": 77,
     "metadata": {},
     "output_type": "execute_result"
    }
   ],
   "source": [
    "def format_topics_sentences(ldamodel=lda_model, corpus=corpus, texts=ctext):\n",
    "    # Init output\n",
    "    sent_topics_df = pd.DataFrame()\n",
    "\n",
    "    # Get main topic in each document\n",
    "    for i, row in enumerate(ldamodel[corpus]):\n",
    "        row = sorted(row, key=lambda x: (x[1]), reverse=True)\n",
    "        # Get the Dominant topic, Perc Contribution and Keywords for each document\n",
    "        for j, (topic_num, prop_topic) in enumerate(row):\n",
    "            if j == 0:  # => dominant topic\n",
    "                wp = ldamodel.show_topic(topic_num)\n",
    "                topic_keywords = \", \".join([word for word, prop in wp])\n",
    "                sent_topics_df = sent_topics_df.append(pd.Series([int(topic_num), round(prop_topic,4), topic_keywords]), ignore_index=True)\n",
    "            else:\n",
    "                break\n",
    "    sent_topics_df.columns = ['Dominant_Topic', 'Perc_Contribution', 'Topic_Keywords']\n",
    "\n",
    "    # Add original text to the end of the output\n",
    "    contents = pd.Series(texts)\n",
    "    sent_topics_df = pd.concat([sent_topics_df, contents], axis=1)\n",
    "    return(sent_topics_df)\n",
    "\n",
    "\n",
    "df_topic_sents_keywords = format_topics_sentences(ldamodel=optimal_model, corpus=corpus, texts=ctext)\n",
    "\n",
    "# Format\n",
    "df_dominant_topic = df_topic_sents_keywords.reset_index()\n",
    "df_dominant_topic.columns = ['Document_No', 'Dominant_Topic', 'Topic_Perc_Contrib', 'Keywords', 'Text']\n",
    "\n",
    "# Show\n",
    "df_dominant_topic.head()"
   ]
  },
  {
   "cell_type": "markdown",
   "id": "ac667693-c3cf-41c6-b3f7-f20dc92ffd93",
   "metadata": {
    "tags": []
   },
   "source": [
    "### Find the most representative document for each topic"
   ]
  },
  {
   "cell_type": "code",
   "execution_count": 78,
   "id": "b0af1d4e-6496-4096-817a-52ea6e513e2d",
   "metadata": {},
   "outputs": [
    {
     "data": {
      "text/html": [
       "<div>\n",
       "<style scoped>\n",
       "    .dataframe tbody tr th:only-of-type {\n",
       "        vertical-align: middle;\n",
       "    }\n",
       "\n",
       "    .dataframe tbody tr th {\n",
       "        vertical-align: top;\n",
       "    }\n",
       "\n",
       "    .dataframe thead th {\n",
       "        text-align: right;\n",
       "    }\n",
       "</style>\n",
       "<table border=\"1\" class=\"dataframe\">\n",
       "  <thead>\n",
       "    <tr style=\"text-align: right;\">\n",
       "      <th></th>\n",
       "      <th>Topic_Num</th>\n",
       "      <th>Topic_Perc_Contrib</th>\n",
       "      <th>Keywords</th>\n",
       "      <th>Text</th>\n",
       "    </tr>\n",
       "  </thead>\n",
       "  <tbody>\n",
       "    <tr>\n",
       "      <th>0</th>\n",
       "      <td>0.0</td>\n",
       "      <td>0.9582</td>\n",
       "      <td>activist, change, board, investor, oil, new, win, shareholder, company, emission</td>\n",
       "      <td>The next year Exxon completed a comprehensive page internal report on climate change which predicted almost exactly the amount of global warming weve seen as well as sea level rise drought and more  Popular Science</td>\n",
       "    </tr>\n",
       "    <tr>\n",
       "      <th>1</th>\n",
       "      <td>1.0</td>\n",
       "      <td>0.9516</td>\n",
       "      <td>crisis, downplay, use, say, engine, change, study, action, find, company</td>\n",
       "      <td>Exxon buys more Facebook ads than any other fossil fuel company A report out this week found that in  Exxon has consistently been a top spender on climate issues across the social platform Yes climate issues how strange that sounds</td>\n",
       "    </tr>\n",
       "    <tr>\n",
       "      <th>2</th>\n",
       "      <td>2.0</td>\n",
       "      <td>0.9637</td>\n",
       "      <td>change, amp, back, make, get, hold, say, blow, need, exxon</td>\n",
       "      <td>amazing that Im getting an ad about tackling climate change from Exxon Were researching biofuels to make your package traveling across world produce slightly less carbon maybe we dont need to order packages from across the world supporting local economies or something</td>\n",
       "    </tr>\n",
       "    <tr>\n",
       "      <th>3</th>\n",
       "      <td>3.0</td>\n",
       "      <td>0.9416</td>\n",
       "      <td>historic, director, investor_oust, science, proclimate_campaign, evil, lie, proposal, tobacco, wall_street</td>\n",
       "      <td>Exxon CEO accused of lying about climate science to congressional panelCongresswoman Carolyn Maloney likens oil company bosses responses to those of tobacco industry at historic hearing  Environment  The Guardian</td>\n",
       "    </tr>\n",
       "    <tr>\n",
       "      <th>4</th>\n",
       "      <td>4.0</td>\n",
       "      <td>0.9532</td>\n",
       "      <td>seat, lobbyist, push, exxon, video, effort, action, strategy, hedge_fund, catch</td>\n",
       "      <td>Exxons ad in The Daily used a common climate misinformation technique called paltering No individual sentence was percent false but together they created a misleading impression of the company and its climate efforts</td>\n",
       "    </tr>\n",
       "    <tr>\n",
       "      <th>5</th>\n",
       "      <td>5.0</td>\n",
       "      <td>0.9513</td>\n",
       "      <td>fuel, fossil, pressure, chevron, year, corporation, end, petition, subsidy, crisis</td>\n",
       "      <td>Each year the government gives over 15 billion in taxpayerfunded subsidies to fossil fuel corporations who contribute to the climate crisis like Exxon Will you sign our petition to pressure the Senate to END fossil fuel subsidies  Make them pay</td>\n",
       "    </tr>\n",
       "    <tr>\n",
       "      <th>6</th>\n",
       "      <td>6.0</td>\n",
       "      <td>0.9539</td>\n",
       "      <td>oil, big, change, company, giant, gas, industry, day, shell, chevron</td>\n",
       "      <td>Why are gas prices soaring when oil company costs are low Biden wants answers  USA TODAY Unreal So the answer to addressing climate change is to increase oil productiondrilling in the US Thanks Exxon and Chevron</td>\n",
       "    </tr>\n",
       "    <tr>\n",
       "      <th>7</th>\n",
       "      <td>7.0</td>\n",
       "      <td>0.9375</td>\n",
       "      <td>plan, business, exxon, sue, emission, dutch, time, know, damage, reveal</td>\n",
       "      <td>Time to deliver on climate care jobs and justice I urge you to end weeks of obstruction today by passing the full Build Back Better plan before Exxons bipartisan plan  We have desperately needed to do this PLEASE</td>\n",
       "    </tr>\n",
       "  </tbody>\n",
       "</table>\n",
       "</div>"
      ],
      "text/plain": [
       "   Topic_Num  Topic_Perc_Contrib  \\\n",
       "0        0.0              0.9582   \n",
       "1        1.0              0.9516   \n",
       "2        2.0              0.9637   \n",
       "3        3.0              0.9416   \n",
       "4        4.0              0.9532   \n",
       "5        5.0              0.9513   \n",
       "6        6.0              0.9539   \n",
       "7        7.0              0.9375   \n",
       "\n",
       "                                                                                                     Keywords  \\\n",
       "0                            activist, change, board, investor, oil, new, win, shareholder, company, emission   \n",
       "1                                    crisis, downplay, use, say, engine, change, study, action, find, company   \n",
       "2                                                  change, amp, back, make, get, hold, say, blow, need, exxon   \n",
       "3  historic, director, investor_oust, science, proclimate_campaign, evil, lie, proposal, tobacco, wall_street   \n",
       "4                             seat, lobbyist, push, exxon, video, effort, action, strategy, hedge_fund, catch   \n",
       "5                          fuel, fossil, pressure, chevron, year, corporation, end, petition, subsidy, crisis   \n",
       "6                                        oil, big, change, company, giant, gas, industry, day, shell, chevron   \n",
       "7                                     plan, business, exxon, sue, emission, dutch, time, know, damage, reveal   \n",
       "\n",
       "                                                                                                                                                                                                                                                                           Text  \n",
       "0                                                        The next year Exxon completed a comprehensive page internal report on climate change which predicted almost exactly the amount of global warming weve seen as well as sea level rise drought and more  Popular Science  \n",
       "1                                       Exxon buys more Facebook ads than any other fossil fuel company A report out this week found that in  Exxon has consistently been a top spender on climate issues across the social platform Yes climate issues how strange that sounds  \n",
       "2  amazing that Im getting an ad about tackling climate change from Exxon Were researching biofuels to make your package traveling across world produce slightly less carbon maybe we dont need to order packages from across the world supporting local economies or something  \n",
       "3                                                          Exxon CEO accused of lying about climate science to congressional panelCongresswoman Carolyn Maloney likens oil company bosses responses to those of tobacco industry at historic hearing  Environment  The Guardian  \n",
       "4                                                      Exxons ad in The Daily used a common climate misinformation technique called paltering No individual sentence was percent false but together they created a misleading impression of the company and its climate efforts  \n",
       "5                          Each year the government gives over 15 billion in taxpayerfunded subsidies to fossil fuel corporations who contribute to the climate crisis like Exxon Will you sign our petition to pressure the Senate to END fossil fuel subsidies  Make them pay  \n",
       "6                                                           Why are gas prices soaring when oil company costs are low Biden wants answers  USA TODAY Unreal So the answer to addressing climate change is to increase oil productiondrilling in the US Thanks Exxon and Chevron  \n",
       "7                                                          Time to deliver on climate care jobs and justice I urge you to end weeks of obstruction today by passing the full Build Back Better plan before Exxons bipartisan plan  We have desperately needed to do this PLEASE  "
      ]
     },
     "execution_count": 78,
     "metadata": {},
     "output_type": "execute_result"
    }
   ],
   "source": [
    "# Group top 5 sentences under each topic\n",
    "sent_topics_sorteddf_mallet = pd.DataFrame()\n",
    "\n",
    "sent_topics_outdf_grpd = df_topic_sents_keywords.groupby('Dominant_Topic')\n",
    "\n",
    "for i, grp in sent_topics_outdf_grpd:\n",
    "    sent_topics_sorteddf_mallet = pd.concat([sent_topics_sorteddf_mallet, \n",
    "                                             grp.sort_values(['Perc_Contribution'], ascending=[0]).head(1)], \n",
    "                                            axis=0)\n",
    "\n",
    "# Reset Index    \n",
    "sent_topics_sorteddf_mallet.reset_index(drop=True, inplace=True)\n",
    "\n",
    "# Format\n",
    "sent_topics_sorteddf_mallet.columns = ['Topic_Num', \"Topic_Perc_Contrib\", \"Keywords\", \"Text\"]\n",
    "\n",
    "# Show\n",
    "sent_topics_sorteddf_mallet.head(8)"
   ]
  },
  {
   "cell_type": "markdown",
   "id": "59576a82-5edc-41c6-ab6e-1cd2a5935440",
   "metadata": {
    "tags": []
   },
   "source": [
    "### Topic distribution across documents"
   ]
  },
  {
   "cell_type": "code",
   "execution_count": 79,
   "id": "e1695dc0-dc55-4ed8-8636-14b13e5cfb70",
   "metadata": {},
   "outputs": [
    {
     "data": {
      "text/html": [
       "<div>\n",
       "<style scoped>\n",
       "    .dataframe tbody tr th:only-of-type {\n",
       "        vertical-align: middle;\n",
       "    }\n",
       "\n",
       "    .dataframe tbody tr th {\n",
       "        vertical-align: top;\n",
       "    }\n",
       "\n",
       "    .dataframe thead th {\n",
       "        text-align: right;\n",
       "    }\n",
       "</style>\n",
       "<table border=\"1\" class=\"dataframe\">\n",
       "  <thead>\n",
       "    <tr style=\"text-align: right;\">\n",
       "      <th></th>\n",
       "      <th>Dominant_Topic</th>\n",
       "      <th>Topic_Keywords</th>\n",
       "      <th>Num_Documents</th>\n",
       "      <th>Perc_Documents</th>\n",
       "    </tr>\n",
       "  </thead>\n",
       "  <tbody>\n",
       "    <tr>\n",
       "      <th>0.0</th>\n",
       "      <td>7.0</td>\n",
       "      <td>plan, business, exxon, sue, emission, dutch, time, know, damage, reveal</td>\n",
       "      <td>4423.0</td>\n",
       "      <td>0.2103</td>\n",
       "    </tr>\n",
       "    <tr>\n",
       "      <th>1.0</th>\n",
       "      <td>7.0</td>\n",
       "      <td>plan, business, exxon, sue, emission, dutch, time, know, damage, reveal</td>\n",
       "      <td>2372.0</td>\n",
       "      <td>0.1128</td>\n",
       "    </tr>\n",
       "    <tr>\n",
       "      <th>2.0</th>\n",
       "      <td>0.0</td>\n",
       "      <td>activist, change, board, investor, oil, new, win, shareholder, company, emission</td>\n",
       "      <td>3708.0</td>\n",
       "      <td>0.1763</td>\n",
       "    </tr>\n",
       "    <tr>\n",
       "      <th>3.0</th>\n",
       "      <td>5.0</td>\n",
       "      <td>fuel, fossil, pressure, chevron, year, corporation, end, petition, subsidy, crisis</td>\n",
       "      <td>941.0</td>\n",
       "      <td>0.0447</td>\n",
       "    </tr>\n",
       "    <tr>\n",
       "      <th>4.0</th>\n",
       "      <td>5.0</td>\n",
       "      <td>fuel, fossil, pressure, chevron, year, corporation, end, petition, subsidy, crisis</td>\n",
       "      <td>3082.0</td>\n",
       "      <td>0.1466</td>\n",
       "    </tr>\n",
       "    <tr>\n",
       "      <th>5.0</th>\n",
       "      <td>7.0</td>\n",
       "      <td>plan, business, exxon, sue, emission, dutch, time, know, damage, reveal</td>\n",
       "      <td>1090.0</td>\n",
       "      <td>0.0518</td>\n",
       "    </tr>\n",
       "    <tr>\n",
       "      <th>6.0</th>\n",
       "      <td>5.0</td>\n",
       "      <td>fuel, fossil, pressure, chevron, year, corporation, end, petition, subsidy, crisis</td>\n",
       "      <td>4052.0</td>\n",
       "      <td>0.1927</td>\n",
       "    </tr>\n",
       "    <tr>\n",
       "      <th>7.0</th>\n",
       "      <td>2.0</td>\n",
       "      <td>change, amp, back, make, get, hold, say, blow, need, exxon</td>\n",
       "      <td>1361.0</td>\n",
       "      <td>0.0647</td>\n",
       "    </tr>\n",
       "  </tbody>\n",
       "</table>\n",
       "</div>"
      ],
      "text/plain": [
       "     Dominant_Topic  \\\n",
       "0.0             7.0   \n",
       "1.0             7.0   \n",
       "2.0             0.0   \n",
       "3.0             5.0   \n",
       "4.0             5.0   \n",
       "5.0             7.0   \n",
       "6.0             5.0   \n",
       "7.0             2.0   \n",
       "\n",
       "                                                                         Topic_Keywords  \\\n",
       "0.0             plan, business, exxon, sue, emission, dutch, time, know, damage, reveal   \n",
       "1.0             plan, business, exxon, sue, emission, dutch, time, know, damage, reveal   \n",
       "2.0    activist, change, board, investor, oil, new, win, shareholder, company, emission   \n",
       "3.0  fuel, fossil, pressure, chevron, year, corporation, end, petition, subsidy, crisis   \n",
       "4.0  fuel, fossil, pressure, chevron, year, corporation, end, petition, subsidy, crisis   \n",
       "5.0             plan, business, exxon, sue, emission, dutch, time, know, damage, reveal   \n",
       "6.0  fuel, fossil, pressure, chevron, year, corporation, end, petition, subsidy, crisis   \n",
       "7.0                          change, amp, back, make, get, hold, say, blow, need, exxon   \n",
       "\n",
       "     Num_Documents  Perc_Documents  \n",
       "0.0         4423.0          0.2103  \n",
       "1.0         2372.0          0.1128  \n",
       "2.0         3708.0          0.1763  \n",
       "3.0          941.0          0.0447  \n",
       "4.0         3082.0          0.1466  \n",
       "5.0         1090.0          0.0518  \n",
       "6.0         4052.0          0.1927  \n",
       "7.0         1361.0          0.0647  "
      ]
     },
     "execution_count": 79,
     "metadata": {},
     "output_type": "execute_result"
    }
   ],
   "source": [
    "# Number of Documents for Each Topic\n",
    "topic_counts = df_topic_sents_keywords['Dominant_Topic'].value_counts()\n",
    "\n",
    "# Percentage of Documents for Each Topic\n",
    "topic_contribution = round(topic_counts/topic_counts.sum(), 4)\n",
    "\n",
    "# Topic Number and Keywords\n",
    "topic_num_keywords = df_topic_sents_keywords[['Dominant_Topic', 'Topic_Keywords']]\n",
    "\n",
    "# Concatenate Column wise\n",
    "df_dominant_topics = pd.concat([topic_num_keywords, topic_counts, topic_contribution], axis=1)\n",
    "\n",
    "# Change Column names\n",
    "df_dominant_topics.columns = ['Dominant_Topic', 'Topic_Keywords', 'Num_Documents', 'Perc_Documents']\n",
    "\n",
    "# Show\n",
    "df_dominant_topics.head(8)"
   ]
  },
  {
   "cell_type": "code",
   "execution_count": null,
   "id": "b446f62a-d44e-483e-a929-63ce48369ace",
   "metadata": {},
   "outputs": [],
   "source": []
  }
 ],
 "metadata": {
  "kernelspec": {
   "display_name": "Python 3 (ipykernel)",
   "language": "python",
   "name": "python3"
  },
  "language_info": {
   "codemirror_mode": {
    "name": "ipython",
    "version": 3
   },
   "file_extension": ".py",
   "mimetype": "text/x-python",
   "name": "python",
   "nbconvert_exporter": "python",
   "pygments_lexer": "ipython3",
   "version": "3.9.7"
  }
 },
 "nbformat": 4,
 "nbformat_minor": 5
}
