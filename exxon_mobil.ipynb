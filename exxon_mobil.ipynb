{
 "cells": [
  {
   "cell_type": "code",
   "execution_count": 2,
   "id": "3911a094-8aa5-4ad9-b24a-00fa2046e847",
   "metadata": {},
   "outputs": [],
   "source": [
    "import re\n",
    "import json\n",
    "import numpy as np\n",
    "import pandas as pd\n",
    "import seaborn as sns"
   ]
  },
  {
   "cell_type": "code",
   "execution_count": 3,
   "id": "01936baf-d833-49d0-9aca-11cfeceac718",
   "metadata": {},
   "outputs": [],
   "source": [
    "filepath = 'exxon_climate_change_2021-01-01_2022-01-01.txt'"
   ]
  },
  {
   "cell_type": "markdown",
   "id": "d6cdfa55-4950-4097-b99c-095be9c758aa",
   "metadata": {
    "jp-MarkdownHeadingCollapsed": true,
    "tags": []
   },
   "source": [
    "### Create a dataframe for the first dictionary (failed right now)"
   ]
  },
  {
   "cell_type": "markdown",
   "id": "e847093d-b512-4352-9f63-13591f6fd5d5",
   "metadata": {},
   "source": [
    "Take a look at our dirst dictionary"
   ]
  },
  {
   "cell_type": "code",
   "execution_count": 5,
   "id": "c9707b3c-2448-4c8d-90e1-10a6f7efc2c8",
   "metadata": {},
   "outputs": [],
   "source": [
    "df_0_json = pd.read_json(filepath, lines=True, nrows=1)"
   ]
  },
  {
   "cell_type": "code",
   "execution_count": 6,
   "id": "8144534b-f5eb-4593-86e2-07c61e4ba82a",
   "metadata": {},
   "outputs": [
    {
     "data": {
      "text/plain": [
       "0    und\n",
       "Name: lang, dtype: object"
      ]
     },
     "execution_count": 6,
     "metadata": {},
     "output_type": "execute_result"
    }
   ],
   "source": [
    "df_0_json['lang']"
   ]
  },
  {
   "cell_type": "code",
   "execution_count": 4,
   "id": "17684ebf-2151-4a6d-9025-5a2ef269d760",
   "metadata": {},
   "outputs": [
    {
     "data": {
      "text/html": [
       "<div>\n",
       "<style scoped>\n",
       "    .dataframe tbody tr th:only-of-type {\n",
       "        vertical-align: middle;\n",
       "    }\n",
       "\n",
       "    .dataframe tbody tr th {\n",
       "        vertical-align: top;\n",
       "    }\n",
       "\n",
       "    .dataframe thead th {\n",
       "        text-align: right;\n",
       "    }\n",
       "</style>\n",
       "<table border=\"1\" class=\"dataframe\">\n",
       "  <thead>\n",
       "    <tr style=\"text-align: right;\">\n",
       "      <th></th>\n",
       "      <th>lang</th>\n",
       "      <th>id</th>\n",
       "      <th>possibly_sensitive</th>\n",
       "      <th>author_id</th>\n",
       "      <th>text</th>\n",
       "      <th>referenced_tweets</th>\n",
       "      <th>created_at</th>\n",
       "      <th>source</th>\n",
       "      <th>entities</th>\n",
       "      <th>in_reply_to_user_id</th>\n",
       "      <th>reply_settings</th>\n",
       "      <th>conversation_id</th>\n",
       "      <th>public_metrics</th>\n",
       "      <th>author</th>\n",
       "      <th>in_reply_to_user</th>\n",
       "      <th>__twarc</th>\n",
       "    </tr>\n",
       "  </thead>\n",
       "  <tbody>\n",
       "    <tr>\n",
       "      <th>0</th>\n",
       "      <td>und</td>\n",
       "      <td>1477065589361315840</td>\n",
       "      <td>False</td>\n",
       "      <td>1460383957262880768</td>\n",
       "      <td>@tjbabel @Catherine_LCP @SamBoik @Cernovich ht...</td>\n",
       "      <td>[{'type': 'replied_to', 'id': '147706468563978...</td>\n",
       "      <td>2021-12-31 23:54:13+00:00</td>\n",
       "      <td>Twitter for iPhone</td>\n",
       "      <td>{'urls': [{'start': 44, 'end': 67, 'url': 'htt...</td>\n",
       "      <td>1733391854</td>\n",
       "      <td>everyone</td>\n",
       "      <td>1476711967607853056</td>\n",
       "      <td>{'retweet_count': 0, 'reply_count': 0, 'like_c...</td>\n",
       "      <td>{'verified': False, 'created_at': '2021-11-15T...</td>\n",
       "      <td>{'verified': False, 'created_at': '2013-09-05T...</td>\n",
       "      <td>{'url': 'https://api.twitter.com/2/tweets/sear...</td>\n",
       "    </tr>\n",
       "  </tbody>\n",
       "</table>\n",
       "</div>"
      ],
      "text/plain": [
       "  lang                   id  possibly_sensitive            author_id  \\\n",
       "0  und  1477065589361315840               False  1460383957262880768   \n",
       "\n",
       "                                                text  \\\n",
       "0  @tjbabel @Catherine_LCP @SamBoik @Cernovich ht...   \n",
       "\n",
       "                                   referenced_tweets  \\\n",
       "0  [{'type': 'replied_to', 'id': '147706468563978...   \n",
       "\n",
       "                 created_at              source  \\\n",
       "0 2021-12-31 23:54:13+00:00  Twitter for iPhone   \n",
       "\n",
       "                                            entities  in_reply_to_user_id  \\\n",
       "0  {'urls': [{'start': 44, 'end': 67, 'url': 'htt...           1733391854   \n",
       "\n",
       "  reply_settings      conversation_id  \\\n",
       "0       everyone  1476711967607853056   \n",
       "\n",
       "                                      public_metrics  \\\n",
       "0  {'retweet_count': 0, 'reply_count': 0, 'like_c...   \n",
       "\n",
       "                                              author  \\\n",
       "0  {'verified': False, 'created_at': '2021-11-15T...   \n",
       "\n",
       "                                    in_reply_to_user  \\\n",
       "0  {'verified': False, 'created_at': '2013-09-05T...   \n",
       "\n",
       "                                             __twarc  \n",
       "0  {'url': 'https://api.twitter.com/2/tweets/sear...  "
      ]
     },
     "execution_count": 4,
     "metadata": {},
     "output_type": "execute_result"
    }
   ],
   "source": [
    "df_0_json"
   ]
  },
  {
   "cell_type": "markdown",
   "id": "2c5aa15e-14fe-4d05-9462-3e5b84aed595",
   "metadata": {},
   "source": [
    " ### Try to Create a dataframe by every columns"
   ]
  },
  {
   "cell_type": "code",
   "execution_count": 7,
   "id": "1d9ce5af-9975-4db1-bf43-64d4a2f34184",
   "metadata": {},
   "outputs": [],
   "source": [
    "#load all the JSON objects in one list as dictionaries\n",
    "data = []\n",
    "with open(filepath,'r') as f:\n",
    "    for line in f:\n",
    "        data.append(json.loads(line))"
   ]
  },
  {
   "cell_type": "code",
   "execution_count": 84,
   "id": "b0c18866-f51d-498f-9f74-a645e6cdc529",
   "metadata": {},
   "outputs": [
    {
     "data": {
      "text/plain": [
       "[{'type': 'replied_to',\n",
       "  'id': '1477064685639782404',\n",
       "  'lang': 'en',\n",
       "  'possibly_sensitive': False,\n",
       "  'author_id': '1733391854',\n",
       "  'text': '@owen_lavine @Catherine_LCP @SamBoik @Cernovich Ever heard of the carbon cycle? Google it.',\n",
       "  'entities': {'annotations': [{'start': 80,\n",
       "     'end': 85,\n",
       "     'probability': 0.4095,\n",
       "     'type': 'Organization',\n",
       "     'normalized_text': 'Google'}],\n",
       "   'mentions': [{'start': 0,\n",
       "     'end': 12,\n",
       "     'username': 'owen_lavine',\n",
       "     'id': '1460383957262880776',\n",
       "     'verified': False,\n",
       "     'created_at': '2021-11-15T23:07:29.000Z',\n",
       "     'public_metrics': {'followers_count': 12,\n",
       "      'following_count': 245,\n",
       "      'tweet_count': 963,\n",
       "      'listed_count': 0},\n",
       "     'name': 'Owen Lavine',\n",
       "     'description': 'Journalist - Cal Poly SLO ‘24 - LA',\n",
       "     'protected': False,\n",
       "     'url': '',\n",
       "     'profile_image_url': 'https://pbs.twimg.com/profile_images/1460384644122099713/ToEk8Ndb_normal.jpg',\n",
       "     'pinned_tweet_id': '1482061096068341760'},\n",
       "    {'start': 13,\n",
       "     'end': 27,\n",
       "     'username': 'Catherine_LCP',\n",
       "     'id': '825445747',\n",
       "     'verified': False,\n",
       "     'created_at': '2012-09-15T15:18:21.000Z',\n",
       "     'location': 'U.S.',\n",
       "     'public_metrics': {'followers_count': 2186,\n",
       "      'following_count': 1882,\n",
       "      'tweet_count': 129708,\n",
       "      'listed_count': 50},\n",
       "     'name': 'Kate 🇮🇪🇬🇧🇮🇹🇪🇸🇫🇷🌲',\n",
       "     'description': 'Europa',\n",
       "     'protected': False,\n",
       "     'url': '',\n",
       "     'profile_image_url': 'https://pbs.twimg.com/profile_images/2618197959/rsa2briy8k244prjsjh2_normal.jpeg',\n",
       "     'pinned_tweet_id': '1474267145596985347'},\n",
       "    {'start': 28,\n",
       "     'end': 36,\n",
       "     'username': 'SamBoik',\n",
       "     'id': '347900663',\n",
       "     'verified': True,\n",
       "     'created_at': '2011-08-03T15:07:55.000Z',\n",
       "     'location': 'Denver, CO',\n",
       "     'public_metrics': {'followers_count': 7568,\n",
       "      'following_count': 693,\n",
       "      'tweet_count': 45370,\n",
       "      'listed_count': 102},\n",
       "     'name': 'Sam Boik',\n",
       "     'description': '💛🏠 PIVOT Lending Group - Boulder 🏈 In-game Host Denver Broncos 🧡💙 Former NFL Cheer 📺 Former TV news anchor 🩰 Former ballerina 🐶🐶 Dog mama',\n",
       "     'protected': False,\n",
       "     'url': '',\n",
       "     'profile_image_url': 'https://pbs.twimg.com/profile_images/1496579962060554240/OxYCYuKG_normal.jpg'},\n",
       "    {'start': 37,\n",
       "     'end': 47,\n",
       "     'username': 'Cernovich',\n",
       "     'id': '358545917',\n",
       "     'verified': True,\n",
       "     'created_at': '2011-08-20T03:02:29.000Z',\n",
       "     'location': 'Orange County, California',\n",
       "     'public_metrics': {'followers_count': 856845,\n",
       "      'following_count': 3213,\n",
       "      'tweet_count': 173927,\n",
       "      'listed_count': 5509},\n",
       "     'name': 'Cernovich',\n",
       "     'description': '“So what you’re saying is…”  No. Stop right there.   What I wrote is what I was “saying.”   The rest is you being drunk, or thinking you can read my mind.',\n",
       "     'protected': False,\n",
       "     'entities': {'url': {'urls': [{'start': 0,\n",
       "         'end': 23,\n",
       "         'url': 'https://t.co/eoO81wTCcf',\n",
       "         'expanded_url': 'http://Rokfin.com/Cernovich',\n",
       "         'display_url': 'Rokfin.com/Cernovich'}]}},\n",
       "     'url': 'https://t.co/eoO81wTCcf',\n",
       "     'profile_image_url': 'https://pbs.twimg.com/profile_images/1505784612466790400/axCC6S4v_normal.jpg',\n",
       "     'pinned_tweet_id': '1506332763003109376'}]},\n",
       "  'referenced_tweets': [{'type': 'replied_to', 'id': '1477006061253107714'}],\n",
       "  'created_at': '2021-12-31T23:50:38.000Z',\n",
       "  'source': 'Twitter for Android',\n",
       "  'in_reply_to_user_id': '1460383957262880776',\n",
       "  'reply_settings': 'everyone',\n",
       "  'conversation_id': '1476711967607853064',\n",
       "  'context_annotations': [{'domain': {'id': '46',\n",
       "     'name': 'Brand Category',\n",
       "     'description': 'Categories within Brand Verticals that narrow down the scope of Brands'},\n",
       "    'entity': {'id': '781974596752842752', 'name': 'Services'}},\n",
       "   {'domain': {'id': '47',\n",
       "     'name': 'Brand',\n",
       "     'description': 'Brands and Companies'},\n",
       "    'entity': {'id': '10026378521', 'name': 'Google '}},\n",
       "   {'domain': {'id': '48',\n",
       "     'name': 'Product',\n",
       "     'description': 'Products created by Brands.  Examples: Ford Explorer, Apple iPhone.'},\n",
       "    'entity': {'id': '1395474411180892160',\n",
       "     'name': 'Google brand conversation'}}],\n",
       "  'public_metrics': {'retweet_count': 0,\n",
       "   'reply_count': 4,\n",
       "   'like_count': 0,\n",
       "   'quote_count': 0},\n",
       "  'author': {'verified': False,\n",
       "   'created_at': '2013-09-05T23:29:42.000Z',\n",
       "   'public_metrics': {'followers_count': 962,\n",
       "    'following_count': 2446,\n",
       "    'tweet_count': 13001,\n",
       "    'listed_count': 3},\n",
       "   'name': 'KJB',\n",
       "   'description': '⚠️ Mean tweets, keep off.\\n💯 BS intolerant.\\n⚫ Black alpha-male.',\n",
       "   'protected': False,\n",
       "   'username': 'tjbabel',\n",
       "   'url': '',\n",
       "   'profile_image_url': 'https://pbs.twimg.com/profile_images/1432232252172345346/02pzg9gO_normal.jpg',\n",
       "   'id': '1733391854',\n",
       "   'pinned_tweet_id': '1431747058206085120'},\n",
       "  'in_reply_to_user': {'verified': False,\n",
       "   'created_at': '2021-11-15T23:07:29.000Z',\n",
       "   'public_metrics': {'followers_count': 12,\n",
       "    'following_count': 245,\n",
       "    'tweet_count': 963,\n",
       "    'listed_count': 0},\n",
       "   'name': 'Owen Lavine',\n",
       "   'description': 'Journalist - Cal Poly SLO ‘24 - LA',\n",
       "   'protected': False,\n",
       "   'username': 'owen_lavine',\n",
       "   'url': '',\n",
       "   'profile_image_url': 'https://pbs.twimg.com/profile_images/1460384644122099713/ToEk8Ndb_normal.jpg',\n",
       "   'id': '1460383957262880776',\n",
       "   'pinned_tweet_id': '1482061096068341760'}}]"
      ]
     },
     "execution_count": 84,
     "metadata": {},
     "output_type": "execute_result"
    }
   ],
   "source": [
    "data[0]['referenced_tweets']\n"
   ]
  },
  {
   "cell_type": "code",
   "execution_count": null,
   "id": "f8879671-1ea5-4086-9a11-6c25f4be6ea3",
   "metadata": {},
   "outputs": [],
   "source": []
  },
  {
   "cell_type": "code",
   "execution_count": null,
   "id": "047709f8-ac5a-4db6-8faa-aad6ecb46d71",
   "metadata": {},
   "outputs": [],
   "source": []
  },
  {
   "cell_type": "code",
   "execution_count": null,
   "id": "d8ec98fa-9030-4bff-935c-7f6550fdb0ed",
   "metadata": {},
   "outputs": [],
   "source": []
  },
  {
   "cell_type": "code",
   "execution_count": null,
   "id": "6742258c-f507-481d-98ca-74f04f66e85f",
   "metadata": {},
   "outputs": [],
   "source": []
  },
  {
   "cell_type": "code",
   "execution_count": null,
   "id": "91f072cd-10c3-43fc-996b-05c47d2e9c22",
   "metadata": {},
   "outputs": [],
   "source": []
  },
  {
   "cell_type": "code",
   "execution_count": null,
   "id": "d80c59e5-af8a-4b73-8fd2-164043ecd60b",
   "metadata": {},
   "outputs": [],
   "source": []
  },
  {
   "cell_type": "code",
   "execution_count": null,
   "id": "c04a5dca-a4b1-4300-8878-7cf6069a596a",
   "metadata": {},
   "outputs": [],
   "source": []
  },
  {
   "cell_type": "code",
   "execution_count": null,
   "id": "e0f1ede2-1d55-4b91-8f3a-5d5cf4b1c981",
   "metadata": {},
   "outputs": [],
   "source": []
  },
  {
   "cell_type": "code",
   "execution_count": null,
   "id": "daad3f4e-016a-4e0f-83ba-db4afbd0b9e5",
   "metadata": {},
   "outputs": [],
   "source": []
  },
  {
   "cell_type": "code",
   "execution_count": null,
   "id": "2913e8c6-272e-479b-9f39-ee4eabff8743",
   "metadata": {},
   "outputs": [],
   "source": []
  },
  {
   "cell_type": "code",
   "execution_count": null,
   "id": "7ef6277b-bf1a-4440-ad4b-254a5f7aca87",
   "metadata": {},
   "outputs": [],
   "source": []
  },
  {
   "cell_type": "code",
   "execution_count": null,
   "id": "74b5aeb4-49b0-4dca-863d-7a99020dc5ae",
   "metadata": {},
   "outputs": [],
   "source": []
  },
  {
   "cell_type": "code",
   "execution_count": null,
   "id": "3b2f45c1-7215-48b2-9546-440d312995f6",
   "metadata": {},
   "outputs": [],
   "source": []
  },
  {
   "cell_type": "code",
   "execution_count": null,
   "id": "176751d7-7eea-4e69-9f17-a8cb08797fd8",
   "metadata": {},
   "outputs": [],
   "source": []
  },
  {
   "cell_type": "code",
   "execution_count": null,
   "id": "4aa5b72f-1845-46fc-bf91-a662e2d9a0bc",
   "metadata": {},
   "outputs": [],
   "source": []
  },
  {
   "cell_type": "code",
   "execution_count": 54,
   "id": "e68736e5-f6cc-4b4a-84d8-f27d1f9e3d4a",
   "metadata": {},
   "outputs": [
    {
     "data": {
      "text/plain": [
       "'RT @ChristineArena: 7/ From 2008 to 2018, Edelman made nearly $500,000,000 in contracts with trade associations opposed to climate action.…'"
      ]
     },
     "execution_count": 54,
     "metadata": {},
     "output_type": "execute_result"
    }
   ],
   "source": [
    "data[5467]['text']"
   ]
  },
  {
   "cell_type": "code",
   "execution_count": 65,
   "id": "3a83d50f-5827-4ede-bfa7-2ebe12f7a2c9",
   "metadata": {},
   "outputs": [
    {
     "data": {
      "text/plain": [
       "'@tjbabel @Catherine_LCP @SamBoik @Cernovich https://t.co/a5p9XOE7b9'"
      ]
     },
     "execution_count": 65,
     "metadata": {},
     "output_type": "execute_result"
    }
   ],
   "source": [
    "data[0]['text']"
   ]
  },
  {
   "cell_type": "code",
   "execution_count": 66,
   "id": "8ed91f22-3106-42b1-972c-3a9542fce53b",
   "metadata": {},
   "outputs": [
    {
     "data": {
      "text/plain": [
       "[{'start': 44,\n",
       "  'end': 67,\n",
       "  'url': 'https://t.co/a5p9XOE7b9',\n",
       "  'expanded_url': 'https://unearthed.greenpeace.org/2021/06/30/exxon-climate-change-undercover/',\n",
       "  'display_url': 'unearthed.greenpeace.org/2021/06/30/exx…'}]"
      ]
     },
     "execution_count": 66,
     "metadata": {},
     "output_type": "execute_result"
    }
   ],
   "source": [
    "data[0]['entities']['urls']"
   ]
  },
  {
   "cell_type": "code",
   "execution_count": 22,
   "id": "ed55f29b-e3f1-43d8-a7a1-ef9f4da4a69d",
   "metadata": {},
   "outputs": [
    {
     "data": {
      "text/plain": [
       "True"
      ]
     },
     "execution_count": 22,
     "metadata": {},
     "output_type": "execute_result"
    }
   ],
   "source": [
    "data[99]['possibly_sensitive']"
   ]
  },
  {
   "cell_type": "code",
   "execution_count": 20,
   "id": "960cfc47-3680-4c90-8689-a8c4c92d98e3",
   "metadata": {},
   "outputs": [
    {
     "data": {
      "text/plain": [
       "{'lang': 'und',\n",
       " 'id': '1477065589361315842',\n",
       " 'possibly_sensitive': False,\n",
       " 'author_id': '1460383957262880776',\n",
       " 'text': '@tjbabel @Catherine_LCP @SamBoik @Cernovich https://t.co/a5p9XOE7b9',\n",
       " 'referenced_tweets': [{'type': 'replied_to',\n",
       "   'id': '1477064685639782404',\n",
       "   'lang': 'en',\n",
       "   'possibly_sensitive': False,\n",
       "   'author_id': '1733391854',\n",
       "   'text': '@owen_lavine @Catherine_LCP @SamBoik @Cernovich Ever heard of the carbon cycle? Google it.',\n",
       "   'entities': {'annotations': [{'start': 80,\n",
       "      'end': 85,\n",
       "      'probability': 0.4095,\n",
       "      'type': 'Organization',\n",
       "      'normalized_text': 'Google'}],\n",
       "    'mentions': [{'start': 0,\n",
       "      'end': 12,\n",
       "      'username': 'owen_lavine',\n",
       "      'id': '1460383957262880776',\n",
       "      'verified': False,\n",
       "      'created_at': '2021-11-15T23:07:29.000Z',\n",
       "      'public_metrics': {'followers_count': 12,\n",
       "       'following_count': 245,\n",
       "       'tweet_count': 963,\n",
       "       'listed_count': 0},\n",
       "      'name': 'Owen Lavine',\n",
       "      'description': 'Journalist - Cal Poly SLO ‘24 - LA',\n",
       "      'protected': False,\n",
       "      'url': '',\n",
       "      'profile_image_url': 'https://pbs.twimg.com/profile_images/1460384644122099713/ToEk8Ndb_normal.jpg',\n",
       "      'pinned_tweet_id': '1482061096068341760'},\n",
       "     {'start': 13,\n",
       "      'end': 27,\n",
       "      'username': 'Catherine_LCP',\n",
       "      'id': '825445747',\n",
       "      'verified': False,\n",
       "      'created_at': '2012-09-15T15:18:21.000Z',\n",
       "      'location': 'U.S.',\n",
       "      'public_metrics': {'followers_count': 2186,\n",
       "       'following_count': 1882,\n",
       "       'tweet_count': 129708,\n",
       "       'listed_count': 50},\n",
       "      'name': 'Kate 🇮🇪🇬🇧🇮🇹🇪🇸🇫🇷🌲',\n",
       "      'description': 'Europa',\n",
       "      'protected': False,\n",
       "      'url': '',\n",
       "      'profile_image_url': 'https://pbs.twimg.com/profile_images/2618197959/rsa2briy8k244prjsjh2_normal.jpeg',\n",
       "      'pinned_tweet_id': '1474267145596985347'},\n",
       "     {'start': 28,\n",
       "      'end': 36,\n",
       "      'username': 'SamBoik',\n",
       "      'id': '347900663',\n",
       "      'verified': True,\n",
       "      'created_at': '2011-08-03T15:07:55.000Z',\n",
       "      'location': 'Denver, CO',\n",
       "      'public_metrics': {'followers_count': 7568,\n",
       "       'following_count': 693,\n",
       "       'tweet_count': 45370,\n",
       "       'listed_count': 102},\n",
       "      'name': 'Sam Boik',\n",
       "      'description': '💛🏠 PIVOT Lending Group - Boulder 🏈 In-game Host Denver Broncos 🧡💙 Former NFL Cheer 📺 Former TV news anchor 🩰 Former ballerina 🐶🐶 Dog mama',\n",
       "      'protected': False,\n",
       "      'url': '',\n",
       "      'profile_image_url': 'https://pbs.twimg.com/profile_images/1496579962060554240/OxYCYuKG_normal.jpg'},\n",
       "     {'start': 37,\n",
       "      'end': 47,\n",
       "      'username': 'Cernovich',\n",
       "      'id': '358545917',\n",
       "      'verified': True,\n",
       "      'created_at': '2011-08-20T03:02:29.000Z',\n",
       "      'location': 'Orange County, California',\n",
       "      'public_metrics': {'followers_count': 856845,\n",
       "       'following_count': 3213,\n",
       "       'tweet_count': 173927,\n",
       "       'listed_count': 5509},\n",
       "      'name': 'Cernovich',\n",
       "      'description': '“So what you’re saying is…”  No. Stop right there.   What I wrote is what I was “saying.”   The rest is you being drunk, or thinking you can read my mind.',\n",
       "      'protected': False,\n",
       "      'entities': {'url': {'urls': [{'start': 0,\n",
       "          'end': 23,\n",
       "          'url': 'https://t.co/eoO81wTCcf',\n",
       "          'expanded_url': 'http://Rokfin.com/Cernovich',\n",
       "          'display_url': 'Rokfin.com/Cernovich'}]}},\n",
       "      'url': 'https://t.co/eoO81wTCcf',\n",
       "      'profile_image_url': 'https://pbs.twimg.com/profile_images/1505784612466790400/axCC6S4v_normal.jpg',\n",
       "      'pinned_tweet_id': '1506332763003109376'}]},\n",
       "   'referenced_tweets': [{'type': 'replied_to', 'id': '1477006061253107714'}],\n",
       "   'created_at': '2021-12-31T23:50:38.000Z',\n",
       "   'source': 'Twitter for Android',\n",
       "   'in_reply_to_user_id': '1460383957262880776',\n",
       "   'reply_settings': 'everyone',\n",
       "   'conversation_id': '1476711967607853064',\n",
       "   'context_annotations': [{'domain': {'id': '46',\n",
       "      'name': 'Brand Category',\n",
       "      'description': 'Categories within Brand Verticals that narrow down the scope of Brands'},\n",
       "     'entity': {'id': '781974596752842752', 'name': 'Services'}},\n",
       "    {'domain': {'id': '47',\n",
       "      'name': 'Brand',\n",
       "      'description': 'Brands and Companies'},\n",
       "     'entity': {'id': '10026378521', 'name': 'Google '}},\n",
       "    {'domain': {'id': '48',\n",
       "      'name': 'Product',\n",
       "      'description': 'Products created by Brands.  Examples: Ford Explorer, Apple iPhone.'},\n",
       "     'entity': {'id': '1395474411180892160',\n",
       "      'name': 'Google brand conversation'}}],\n",
       "   'public_metrics': {'retweet_count': 0,\n",
       "    'reply_count': 4,\n",
       "    'like_count': 0,\n",
       "    'quote_count': 0},\n",
       "   'author': {'verified': False,\n",
       "    'created_at': '2013-09-05T23:29:42.000Z',\n",
       "    'public_metrics': {'followers_count': 962,\n",
       "     'following_count': 2446,\n",
       "     'tweet_count': 13001,\n",
       "     'listed_count': 3},\n",
       "    'name': 'KJB',\n",
       "    'description': '⚠️ Mean tweets, keep off.\\n💯 BS intolerant.\\n⚫ Black alpha-male.',\n",
       "    'protected': False,\n",
       "    'username': 'tjbabel',\n",
       "    'url': '',\n",
       "    'profile_image_url': 'https://pbs.twimg.com/profile_images/1432232252172345346/02pzg9gO_normal.jpg',\n",
       "    'id': '1733391854',\n",
       "    'pinned_tweet_id': '1431747058206085120'},\n",
       "   'in_reply_to_user': {'verified': False,\n",
       "    'created_at': '2021-11-15T23:07:29.000Z',\n",
       "    'public_metrics': {'followers_count': 12,\n",
       "     'following_count': 245,\n",
       "     'tweet_count': 963,\n",
       "     'listed_count': 0},\n",
       "    'name': 'Owen Lavine',\n",
       "    'description': 'Journalist - Cal Poly SLO ‘24 - LA',\n",
       "    'protected': False,\n",
       "    'username': 'owen_lavine',\n",
       "    'url': '',\n",
       "    'profile_image_url': 'https://pbs.twimg.com/profile_images/1460384644122099713/ToEk8Ndb_normal.jpg',\n",
       "    'id': '1460383957262880776',\n",
       "    'pinned_tweet_id': '1482061096068341760'}}],\n",
       " 'created_at': '2021-12-31T23:54:13.000Z',\n",
       " 'source': 'Twitter for iPhone',\n",
       " 'entities': {'urls': [{'start': 44,\n",
       "    'end': 67,\n",
       "    'url': 'https://t.co/a5p9XOE7b9',\n",
       "    'expanded_url': 'https://unearthed.greenpeace.org/2021/06/30/exxon-climate-change-undercover/',\n",
       "    'display_url': 'unearthed.greenpeace.org/2021/06/30/exx…'}],\n",
       "  'mentions': [{'start': 0,\n",
       "    'end': 8,\n",
       "    'username': 'tjbabel',\n",
       "    'id': '1733391854',\n",
       "    'verified': False,\n",
       "    'created_at': '2013-09-05T23:29:42.000Z',\n",
       "    'public_metrics': {'followers_count': 962,\n",
       "     'following_count': 2446,\n",
       "     'tweet_count': 13001,\n",
       "     'listed_count': 3},\n",
       "    'name': 'KJB',\n",
       "    'description': '⚠️ Mean tweets, keep off.\\n💯 BS intolerant.\\n⚫ Black alpha-male.',\n",
       "    'protected': False,\n",
       "    'url': '',\n",
       "    'profile_image_url': 'https://pbs.twimg.com/profile_images/1432232252172345346/02pzg9gO_normal.jpg',\n",
       "    'pinned_tweet_id': '1431747058206085120'},\n",
       "   {'start': 9,\n",
       "    'end': 23,\n",
       "    'username': 'Catherine_LCP',\n",
       "    'id': '825445747',\n",
       "    'verified': False,\n",
       "    'created_at': '2012-09-15T15:18:21.000Z',\n",
       "    'location': 'U.S.',\n",
       "    'public_metrics': {'followers_count': 2186,\n",
       "     'following_count': 1882,\n",
       "     'tweet_count': 129708,\n",
       "     'listed_count': 50},\n",
       "    'name': 'Kate 🇮🇪🇬🇧🇮🇹🇪🇸🇫🇷🌲',\n",
       "    'description': 'Europa',\n",
       "    'protected': False,\n",
       "    'url': '',\n",
       "    'profile_image_url': 'https://pbs.twimg.com/profile_images/2618197959/rsa2briy8k244prjsjh2_normal.jpeg',\n",
       "    'pinned_tweet_id': '1474267145596985347'},\n",
       "   {'start': 24,\n",
       "    'end': 32,\n",
       "    'username': 'SamBoik',\n",
       "    'id': '347900663',\n",
       "    'verified': True,\n",
       "    'created_at': '2011-08-03T15:07:55.000Z',\n",
       "    'location': 'Denver, CO',\n",
       "    'public_metrics': {'followers_count': 7568,\n",
       "     'following_count': 693,\n",
       "     'tweet_count': 45370,\n",
       "     'listed_count': 102},\n",
       "    'name': 'Sam Boik',\n",
       "    'description': '💛🏠 PIVOT Lending Group - Boulder 🏈 In-game Host Denver Broncos 🧡💙 Former NFL Cheer 📺 Former TV news anchor 🩰 Former ballerina 🐶🐶 Dog mama',\n",
       "    'protected': False,\n",
       "    'url': '',\n",
       "    'profile_image_url': 'https://pbs.twimg.com/profile_images/1496579962060554240/OxYCYuKG_normal.jpg'},\n",
       "   {'start': 33,\n",
       "    'end': 43,\n",
       "    'username': 'Cernovich',\n",
       "    'id': '358545917',\n",
       "    'verified': True,\n",
       "    'created_at': '2011-08-20T03:02:29.000Z',\n",
       "    'location': 'Orange County, California',\n",
       "    'public_metrics': {'followers_count': 856845,\n",
       "     'following_count': 3213,\n",
       "     'tweet_count': 173927,\n",
       "     'listed_count': 5509},\n",
       "    'name': 'Cernovich',\n",
       "    'description': '“So what you’re saying is…”  No. Stop right there.   What I wrote is what I was “saying.”   The rest is you being drunk, or thinking you can read my mind.',\n",
       "    'protected': False,\n",
       "    'entities': {'url': {'urls': [{'start': 0,\n",
       "        'end': 23,\n",
       "        'url': 'https://t.co/eoO81wTCcf',\n",
       "        'expanded_url': 'http://Rokfin.com/Cernovich',\n",
       "        'display_url': 'Rokfin.com/Cernovich'}]}},\n",
       "    'url': 'https://t.co/eoO81wTCcf',\n",
       "    'profile_image_url': 'https://pbs.twimg.com/profile_images/1505784612466790400/axCC6S4v_normal.jpg',\n",
       "    'pinned_tweet_id': '1506332763003109376'}]},\n",
       " 'in_reply_to_user_id': '1733391854',\n",
       " 'reply_settings': 'everyone',\n",
       " 'conversation_id': '1476711967607853064',\n",
       " 'public_metrics': {'retweet_count': 0,\n",
       "  'reply_count': 0,\n",
       "  'like_count': 0,\n",
       "  'quote_count': 0},\n",
       " 'author': {'verified': False,\n",
       "  'created_at': '2021-11-15T23:07:29.000Z',\n",
       "  'public_metrics': {'followers_count': 12,\n",
       "   'following_count': 245,\n",
       "   'tweet_count': 963,\n",
       "   'listed_count': 0},\n",
       "  'name': 'Owen Lavine',\n",
       "  'description': 'Journalist - Cal Poly SLO ‘24 - LA',\n",
       "  'protected': False,\n",
       "  'username': 'owen_lavine',\n",
       "  'url': '',\n",
       "  'profile_image_url': 'https://pbs.twimg.com/profile_images/1460384644122099713/ToEk8Ndb_normal.jpg',\n",
       "  'id': '1460383957262880776',\n",
       "  'pinned_tweet_id': '1482061096068341760'},\n",
       " 'in_reply_to_user': {'verified': False,\n",
       "  'created_at': '2013-09-05T23:29:42.000Z',\n",
       "  'public_metrics': {'followers_count': 962,\n",
       "   'following_count': 2446,\n",
       "   'tweet_count': 13001,\n",
       "   'listed_count': 3},\n",
       "  'name': 'KJB',\n",
       "  'description': '⚠️ Mean tweets, keep off.\\n💯 BS intolerant.\\n⚫ Black alpha-male.',\n",
       "  'protected': False,\n",
       "  'username': 'tjbabel',\n",
       "  'url': '',\n",
       "  'profile_image_url': 'https://pbs.twimg.com/profile_images/1432232252172345346/02pzg9gO_normal.jpg',\n",
       "  'id': '1733391854',\n",
       "  'pinned_tweet_id': '1431747058206085120'},\n",
       " '__twarc': {'url': 'https://api.twitter.com/2/tweets/search/all?expansions=author_id%2Cin_reply_to_user_id%2Creferenced_tweets.id%2Creferenced_tweets.id.author_id%2Centities.mentions.username%2Cattachments.poll_ids%2Cattachments.media_keys%2Cgeo.place_id&tweet.fields=attachments%2Cauthor_id%2Ccontext_annotations%2Cconversation_id%2Ccreated_at%2Centities%2Cgeo%2Cid%2Cin_reply_to_user_id%2Clang%2Cpublic_metrics%2Ctext%2Cpossibly_sensitive%2Creferenced_tweets%2Creply_settings%2Csource%2Cwithheld&user.fields=created_at%2Cdescription%2Centities%2Cid%2Clocation%2Cname%2Cpinned_tweet_id%2Cprofile_image_url%2Cprotected%2Cpublic_metrics%2Curl%2Cusername%2Cverified%2Cwithheld&media.fields=alt_text%2Cduration_ms%2Cheight%2Cmedia_key%2Cpreview_image_url%2Ctype%2Curl%2Cwidth%2Cpublic_metrics&poll.fields=duration_minutes%2Cend_datetime%2Cid%2Coptions%2Cvoting_status&place.fields=contained_within%2Ccountry%2Ccountry_code%2Cfull_name%2Cgeo%2Cid%2Cname%2Cplace_type&start_time=2021-01-01T00%3A00%3A00%2B00%3A00&end_time=2022-01-01T00%3A00%3A00%2B00%3A00&query=exxon+climate&max_results=100',\n",
       "  'version': '2.9.5',\n",
       "  'retrieved_at': '2022-03-27T13:14:12+00:00'}}"
      ]
     },
     "execution_count": 20,
     "metadata": {},
     "output_type": "execute_result"
    }
   ],
   "source": [
    "#look at the first dictionary \n",
    "data[0]"
   ]
  },
  {
   "cell_type": "markdown",
   "id": "461a17e1-b7bd-41f8-852d-3260c48784ee",
   "metadata": {},
   "source": [
    " #### Put the text data in one list"
   ]
  },
  {
   "cell_type": "code",
   "execution_count": 7,
   "id": "b7edffb1-c0bd-44d0-bdb6-93bb3318a2fb",
   "metadata": {},
   "outputs": [],
   "source": [
    "lst_text = []\n",
    "for i in data:\n",
    "    lst_text.append(i['text'])"
   ]
  },
  {
   "cell_type": "markdown",
   "id": "8768c389-a75e-45af-be8b-cf8940199c75",
   "metadata": {},
   "source": [
    " #### Put the author info in list"
   ]
  },
  {
   "cell_type": "code",
   "execution_count": 8,
   "id": "f3ad13fe-db12-4fe4-a859-87dd1586bebe",
   "metadata": {},
   "outputs": [
    {
     "data": {
      "text/plain": [
       "dict_keys(['lang', 'id', 'possibly_sensitive', 'author_id', 'text', 'referenced_tweets', 'created_at', 'source', 'entities', 'in_reply_to_user_id', 'reply_settings', 'conversation_id', 'public_metrics', 'author', 'in_reply_to_user', '__twarc'])"
      ]
     },
     "execution_count": 8,
     "metadata": {},
     "output_type": "execute_result"
    }
   ],
   "source": [
    "data[0].keys()"
   ]
  },
  {
   "cell_type": "markdown",
   "id": "70882ac5-c59d-4020-b77f-dae8dc32b489",
   "metadata": {},
   "source": [
    " ##### 'id', 'author_id', 'conversation_id', 'author'"
   ]
  },
  {
   "cell_type": "code",
   "execution_count": 9,
   "id": "98da3718-a811-41dc-b879-4b862fd2cc95",
   "metadata": {},
   "outputs": [],
   "source": [
    "#create lists for id, author id and conversation\n",
    "lst_id = []\n",
    "lst_author_id = []\n",
    "lst_conversation_id = []\n",
    "for i in data:\n",
    "    lst_id.append(i['id'])\n",
    "    lst_author_id.append(i['author_id'])\n",
    "    lst_conversation_id.append(i['conversation_id'])"
   ]
  },
  {
   "cell_type": "markdown",
   "id": "c6a95d19-4d5a-49ca-9f34-d4fd0a8c2fda",
   "metadata": {},
   "source": [
    "There are too much info in author dictionary"
   ]
  },
  {
   "cell_type": "code",
   "execution_count": 10,
   "id": "5f03dbf4-4956-44a2-911a-361deabe3cb7",
   "metadata": {},
   "outputs": [
    {
     "data": {
      "text/plain": [
       "{'verified': False,\n",
       " 'created_at': '2021-11-15T23:07:29.000Z',\n",
       " 'public_metrics': {'followers_count': 12,\n",
       "  'following_count': 245,\n",
       "  'tweet_count': 963,\n",
       "  'listed_count': 0},\n",
       " 'name': 'Owen Lavine',\n",
       " 'description': 'Journalist - Cal Poly SLO ‘24 - LA',\n",
       " 'protected': False,\n",
       " 'username': 'owen_lavine',\n",
       " 'url': '',\n",
       " 'profile_image_url': 'https://pbs.twimg.com/profile_images/1460384644122099713/ToEk8Ndb_normal.jpg',\n",
       " 'id': '1460383957262880776',\n",
       " 'pinned_tweet_id': '1482061096068341760'}"
      ]
     },
     "execution_count": 10,
     "metadata": {},
     "output_type": "execute_result"
    }
   ],
   "source": [
    "data[0]['author']"
   ]
  },
  {
   "cell_type": "code",
   "execution_count": 11,
   "id": "d8402d33-10ed-4271-a81e-c53ead6b3117",
   "metadata": {},
   "outputs": [],
   "source": [
    "#lst verified or not, author name and author username\n",
    "lst_author_verified = []\n",
    "lst_author_name = []\n",
    "lst_author_username = []\n",
    "for i in data:\n",
    "    lst_author_verified.append(i['author']['verified'])\n",
    "    lst_author_name.append(i['author']['name'])\n",
    "    lst_author_username.append(i['author']['username'])"
   ]
  },
  {
   "cell_type": "markdown",
   "id": "26dc9a84-57a0-4a0c-b312-945a46893063",
   "metadata": {},
   "source": [
    " ##### Make creation time"
   ]
  },
  {
   "cell_type": "code",
   "execution_count": 12,
   "id": "abaac408-58a0-4fab-a4e7-1e1cd6713fe9",
   "metadata": {},
   "outputs": [],
   "source": [
    "#list creation time\n",
    "lst_twt_creation_time = []\n",
    "for i in data:\n",
    "    lst_twt_creation_time.append(i['created_at'])"
   ]
  },
  {
   "cell_type": "markdown",
   "id": "78a61f6d-633b-4c1d-a9ea-0599dfeb3afd",
   "metadata": {},
   "source": [
    "##### Put what we have in one dataframe"
   ]
  },
  {
   "cell_type": "markdown",
   "id": "c27356dd-560c-4c38-833e-1ee09bc44f64",
   "metadata": {},
   "source": [
    "lst_text,lst_id, lst_author_id,lst_conversation_id,lst_author_verified, lst_author_name, lst_author_username,lst_twt_creation_time"
   ]
  },
  {
   "cell_type": "code",
   "execution_count": 13,
   "id": "3b0e8f52-6dfe-4a2b-bbb4-c5ec3fefb98a",
   "metadata": {},
   "outputs": [],
   "source": [
    "df = pd.DataFrame({'text': lst_text,\n",
    "                  'id': lst_id,\n",
    "                  'author_id': lst_author_id,\n",
    "                  'conversation_id': lst_conversation_id,\n",
    "                  'author_verified': lst_author_verified,\n",
    "                  'author_name': lst_author_name,\n",
    "                  'author_username': lst_author_username,\n",
    "                  'twt_creation_time': lst_twt_creation_time\n",
    "                  })"
   ]
  },
  {
   "cell_type": "code",
   "execution_count": 14,
   "id": "188315ed-e472-403c-9860-0cd9bebccca0",
   "metadata": {},
   "outputs": [
    {
     "data": {
      "text/html": [
       "<div>\n",
       "<style scoped>\n",
       "    .dataframe tbody tr th:only-of-type {\n",
       "        vertical-align: middle;\n",
       "    }\n",
       "\n",
       "    .dataframe tbody tr th {\n",
       "        vertical-align: top;\n",
       "    }\n",
       "\n",
       "    .dataframe thead th {\n",
       "        text-align: right;\n",
       "    }\n",
       "</style>\n",
       "<table border=\"1\" class=\"dataframe\">\n",
       "  <thead>\n",
       "    <tr style=\"text-align: right;\">\n",
       "      <th></th>\n",
       "      <th>text</th>\n",
       "      <th>id</th>\n",
       "      <th>author_id</th>\n",
       "      <th>conversation_id</th>\n",
       "      <th>author_verified</th>\n",
       "      <th>author_name</th>\n",
       "      <th>author_username</th>\n",
       "      <th>twt_creation_time</th>\n",
       "    </tr>\n",
       "  </thead>\n",
       "  <tbody>\n",
       "    <tr>\n",
       "      <th>0</th>\n",
       "      <td>@tjbabel @Catherine_LCP @SamBoik @Cernovich ht...</td>\n",
       "      <td>1477065589361315842</td>\n",
       "      <td>1460383957262880776</td>\n",
       "      <td>1476711967607853064</td>\n",
       "      <td>False</td>\n",
       "      <td>Owen Lavine</td>\n",
       "      <td>owen_lavine</td>\n",
       "      <td>2021-12-31T23:54:13.000Z</td>\n",
       "    </tr>\n",
       "    <tr>\n",
       "      <th>1</th>\n",
       "      <td>@tjbabel @Catherine_LCP @SamBoik @Cernovich ht...</td>\n",
       "      <td>1477064791499759617</td>\n",
       "      <td>1460383957262880776</td>\n",
       "      <td>1476711967607853064</td>\n",
       "      <td>False</td>\n",
       "      <td>Owen Lavine</td>\n",
       "      <td>owen_lavine</td>\n",
       "      <td>2021-12-31T23:51:03.000Z</td>\n",
       "    </tr>\n",
       "    <tr>\n",
       "      <th>2</th>\n",
       "      <td>RT @maxberger: I'm thinking about writing a sa...</td>\n",
       "      <td>1477059914015125507</td>\n",
       "      <td>2732778706</td>\n",
       "      <td>1477059914015125507</td>\n",
       "      <td>False</td>\n",
       "      <td>Tai Chi</td>\n",
       "      <td>TaiWendysb</td>\n",
       "      <td>2021-12-31T23:31:40.000Z</td>\n",
       "    </tr>\n",
       "    <tr>\n",
       "      <th>3</th>\n",
       "      <td>RT @zia_kat: @Mum2Mrs @oshima9 no, capitalists...</td>\n",
       "      <td>1477056800889323523</td>\n",
       "      <td>414239235</td>\n",
       "      <td>1477056800889323523</td>\n",
       "      <td>False</td>\n",
       "      <td>Richard Estes</td>\n",
       "      <td>oshima9</td>\n",
       "      <td>2021-12-31T23:19:18.000Z</td>\n",
       "    </tr>\n",
       "    <tr>\n",
       "      <th>4</th>\n",
       "      <td>RT @Carpe_DMT: @ScottGrimnes @MaMan564 @SoFarF...</td>\n",
       "      <td>1477046502400868359</td>\n",
       "      <td>824946672673361920</td>\n",
       "      <td>1477046502400868359</td>\n",
       "      <td>False</td>\n",
       "      <td>Kris</td>\n",
       "      <td>writing_callous</td>\n",
       "      <td>2021-12-31T22:38:23.000Z</td>\n",
       "    </tr>\n",
       "  </tbody>\n",
       "</table>\n",
       "</div>"
      ],
      "text/plain": [
       "                                                text                   id  \\\n",
       "0  @tjbabel @Catherine_LCP @SamBoik @Cernovich ht...  1477065589361315842   \n",
       "1  @tjbabel @Catherine_LCP @SamBoik @Cernovich ht...  1477064791499759617   \n",
       "2  RT @maxberger: I'm thinking about writing a sa...  1477059914015125507   \n",
       "3  RT @zia_kat: @Mum2Mrs @oshima9 no, capitalists...  1477056800889323523   \n",
       "4  RT @Carpe_DMT: @ScottGrimnes @MaMan564 @SoFarF...  1477046502400868359   \n",
       "\n",
       "             author_id      conversation_id  author_verified    author_name  \\\n",
       "0  1460383957262880776  1476711967607853064            False    Owen Lavine   \n",
       "1  1460383957262880776  1476711967607853064            False    Owen Lavine   \n",
       "2           2732778706  1477059914015125507            False        Tai Chi   \n",
       "3            414239235  1477056800889323523            False  Richard Estes   \n",
       "4   824946672673361920  1477046502400868359            False           Kris   \n",
       "\n",
       "   author_username         twt_creation_time  \n",
       "0      owen_lavine  2021-12-31T23:54:13.000Z  \n",
       "1      owen_lavine  2021-12-31T23:51:03.000Z  \n",
       "2       TaiWendysb  2021-12-31T23:31:40.000Z  \n",
       "3          oshima9  2021-12-31T23:19:18.000Z  \n",
       "4  writing_callous  2021-12-31T22:38:23.000Z  "
      ]
     },
     "execution_count": 14,
     "metadata": {},
     "output_type": "execute_result"
    }
   ],
   "source": [
    "df.head()"
   ]
  },
  {
   "cell_type": "code",
   "execution_count": 16,
   "id": "5e7c9a2a-cb70-427a-900a-44f7c76611c0",
   "metadata": {},
   "outputs": [
    {
     "data": {
      "text/plain": [
       "0    @tjbabel @Catherine_LCP @SamBoik @Cernovich ht...\n",
       "1    @tjbabel @Catherine_LCP @SamBoik @Cernovich ht...\n",
       "2    RT @maxberger: I'm thinking about writing a sa...\n",
       "3    RT @zia_kat: @Mum2Mrs @oshima9 no, capitalists...\n",
       "4    RT @Carpe_DMT: @ScottGrimnes @MaMan564 @SoFarF...\n",
       "Name: text, dtype: object"
      ]
     },
     "execution_count": 16,
     "metadata": {},
     "output_type": "execute_result"
    }
   ],
   "source": [
    "df[0:5]['text']"
   ]
  }
 ],
 "metadata": {
  "kernelspec": {
   "display_name": "Python 3 (ipykernel)",
   "language": "python",
   "name": "python3"
  },
  "language_info": {
   "codemirror_mode": {
    "name": "ipython",
    "version": 3
   },
   "file_extension": ".py",
   "mimetype": "text/x-python",
   "name": "python",
   "nbconvert_exporter": "python",
   "pygments_lexer": "ipython3",
   "version": "3.8.8"
  }
 },
 "nbformat": 4,
 "nbformat_minor": 5
}
