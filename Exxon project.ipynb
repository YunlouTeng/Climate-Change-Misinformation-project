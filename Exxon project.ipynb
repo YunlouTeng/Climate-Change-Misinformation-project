{
 "cells": [
  {
   "cell_type": "code",
   "execution_count": 1,
   "id": "f5620c67-1877-4591-96f9-86930a2cfb7c",
   "metadata": {},
   "outputs": [],
   "source": [
    "import re\n",
    "import json\n",
    "import numpy as np\n",
    "import pandas as pd\n",
    "from pprint import pprint\n",
    "import seaborn as sns"
   ]
  },
  {
   "cell_type": "code",
   "execution_count": 2,
   "id": "6f42646b-e44b-4acb-ac35-25efd80ccf99",
   "metadata": {},
   "outputs": [],
   "source": [
    "filepath = r\"/Users/lavine/Desktop/Terriers!/misinformation project/data/data.txt\""
   ]
  },
  {
   "cell_type": "code",
   "execution_count": 3,
   "id": "3b6d6060-d5d0-4503-a7f1-5889b1f417e5",
   "metadata": {},
   "outputs": [],
   "source": [
    "data = []\n",
    "with open(filepath,'r') as f:\n",
    "    for line in f:\n",
    "        data.append(json.loads(line))"
   ]
  },
  {
   "cell_type": "code",
   "execution_count": 29,
   "id": "95ea0a97-4a5d-4352-81d6-3c79120c6f3e",
   "metadata": {},
   "outputs": [
    {
     "data": {
      "text/plain": [
       "'The evidence just keeps accumulating: in capitalism, profit (not environmental impacts) govern investment decisions. Glaring example: Exxon.\\n\\nThe system (profit-driven capitalism) is the problem standing in the way of a sane human relationship to nature.\\n\\nhttps://t.co/t5x2PI7P2X'"
      ]
     },
     "execution_count": 29,
     "metadata": {},
     "output_type": "execute_result"
    }
   ],
   "source": [
    "#take a look at of text data \n",
    "data[-8]['text']"
   ]
  },
  {
   "cell_type": "code",
   "execution_count": null,
   "id": "73f452c9-481e-4a88-b4d2-5e78e6b39df1",
   "metadata": {},
   "outputs": [],
   "source": [
    "len(data)"
   ]
  },
  {
   "cell_type": "code",
   "execution_count": null,
   "id": "7718e512-6f69-4e50-a373-d690787a8a39",
   "metadata": {},
   "outputs": [],
   "source": [
    "data[1].keys()"
   ]
  },
  {
   "cell_type": "code",
   "execution_count": 23,
   "id": "d118e385-df30-4331-802f-5f7440a14318",
   "metadata": {},
   "outputs": [],
   "source": [
    "textdata = []\n",
    "\n",
    "for i in range(len(data)):\n",
    "    textdata.append(data[i]['text'])"
   ]
  },
  {
   "cell_type": "code",
   "execution_count": 32,
   "id": "fbe603db-421f-4b76-b1e1-0b5fe7f80b0b",
   "metadata": {},
   "outputs": [
    {
     "data": {
      "text/plain": [
       "247119"
      ]
     },
     "execution_count": 32,
     "metadata": {},
     "output_type": "execute_result"
    }
   ],
   "source": [
    "len(textdata)"
   ]
  },
  {
   "cell_type": "code",
   "execution_count": null,
   "id": "af08c042-1648-48c8-a68b-312e215d29fa",
   "metadata": {},
   "outputs": [],
   "source": []
  }
 ],
 "metadata": {
  "kernelspec": {
   "display_name": "Python 3 (ipykernel)",
   "language": "python",
   "name": "python3"
  },
  "language_info": {
   "codemirror_mode": {
    "name": "ipython",
    "version": 3
   },
   "file_extension": ".py",
   "mimetype": "text/x-python",
   "name": "python",
   "nbconvert_exporter": "python",
   "pygments_lexer": "ipython3",
   "version": "3.9.7"
  }
 },
 "nbformat": 4,
 "nbformat_minor": 5
}
