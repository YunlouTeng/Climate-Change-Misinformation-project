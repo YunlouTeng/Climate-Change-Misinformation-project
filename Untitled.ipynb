{
 "cells": [
  {
   "cell_type": "code",
   "execution_count": 1,
   "id": "a14191db-c9c5-4c0d-b043-5d950bce9d56",
   "metadata": {},
   "outputs": [],
   "source": [
    "from fake_http_header import FakeHttpHeader"
   ]
  },
  {
   "cell_type": "code",
   "execution_count": 59,
   "id": "ed8b5fa4-7d27-42e8-992c-51b5d9ecef7a",
   "metadata": {},
   "outputs": [
    {
     "data": {
      "text/plain": [
       "{'User-Agent': 'Mozilla/5.0 (Macintosh; Intel Mac OS X 10_15_7) AppleWebKit/605.1.15 (KHTML, like Gecko) Version/15.0 Safari/605.1.15',\n",
       " 'Accept-language': 'http://www.walla.co.il',\n",
       " 'Accept-encoding': 'identit',\n",
       " 'Accept': 'text/html,application/xhtml+xml,application/xml;q=0.9,*/*;q=0.8',\n",
       " 'Referer': 'http://www.polymeta.com'}"
      ]
     },
     "execution_count": 59,
     "metadata": {},
     "output_type": "execute_result"
    }
   ],
   "source": [
    "fake_header = FakeHttpHeader(domain_name = 'en-USA')\n",
    "fake_header_dict = fake_header.as_header_dict()\n",
    "fake_header_dict"
   ]
  },
  {
   "cell_type": "code",
   "execution_count": 61,
   "id": "383e43d6-edc0-4931-98e3-86efc651b964",
   "metadata": {},
   "outputs": [
    {
     "ename": "ImportError",
     "evalue": "cannot import name 'AnonymousSession' from 'python_requests_anonymous_session' (/opt/anaconda3/lib/python3.9/site-packages/python_requests_anonymous_session/__init__.py)",
     "output_type": "error",
     "traceback": [
      "\u001b[0;31m---------------------------------------------------------------------------\u001b[0m",
      "\u001b[0;31mImportError\u001b[0m                               Traceback (most recent call last)",
      "\u001b[0;32m/var/folders/kg/0ndh6pln2x7b6rpm16twhvpc0000gn/T/ipykernel_11459/1608353153.py\u001b[0m in \u001b[0;36m<module>\u001b[0;34m\u001b[0m\n\u001b[0;32m----> 1\u001b[0;31m \u001b[0;32mfrom\u001b[0m \u001b[0mpython_requests_anonymous_session\u001b[0m \u001b[0;32mimport\u001b[0m \u001b[0mAnonymousSession\u001b[0m\u001b[0;34m\u001b[0m\u001b[0;34m\u001b[0m\u001b[0m\n\u001b[0m",
      "\u001b[0;31mImportError\u001b[0m: cannot import name 'AnonymousSession' from 'python_requests_anonymous_session' (/opt/anaconda3/lib/python3.9/site-packages/python_requests_anonymous_session/__init__.py)"
     ]
    }
   ],
   "source": [
    "from python_requests_anonymous_session import AnonymousSession"
   ]
  },
  {
   "cell_type": "code",
   "execution_count": 78,
   "id": "39109587-6c87-47cc-a9c0-56f1aba33324",
   "metadata": {},
   "outputs": [
    {
     "data": {
      "text/plain": [
       "{'User-Agent': 'Mozilla/5.0 (Macintosh; Intel Mac OS X 10_15_7) AppleWebKit/605.1.15 (KHTML, like Gecko) Version/15.0 Safari/605.1.15',\n",
       " 'Accept-language': 'http://www.seek.se',\n",
       " 'Accept-encoding': 'compres,deflat,*,identit',\n",
       " 'Accept': 'text/html,application/xhtml+xml,application/xml;q=0.9,*/*;q=0.8',\n",
       " 'Referer': 'http://goonux.cristalys.com/fr/index_en.php3'}"
      ]
     },
     "execution_count": 78,
     "metadata": {},
     "output_type": "execute_result"
    }
   ],
   "source": [
    "fake_header = FakeHttpHeader(domain_name = 'en-USA')\n",
    "fake_header_dict = fake_header.as_header_dict()\n",
    "fake_header_dict"
   ]
  },
  {
   "cell_type": "code",
   "execution_count": null,
   "id": "3d475696-dec8-47ce-bde1-ca5541ed3ab0",
   "metadata": {},
   "outputs": [],
   "source": []
  },
  {
   "cell_type": "code",
   "execution_count": null,
   "id": "d1caed6f-6f50-4c5f-b9f2-139ea7b90f37",
   "metadata": {},
   "outputs": [],
   "source": []
  }
 ],
 "metadata": {
  "kernelspec": {
   "display_name": "Python 3 (ipykernel)",
   "language": "python",
   "name": "python3"
  },
  "language_info": {
   "codemirror_mode": {
    "name": "ipython",
    "version": 3
   },
   "file_extension": ".py",
   "mimetype": "text/x-python",
   "name": "python",
   "nbconvert_exporter": "python",
   "pygments_lexer": "ipython3",
   "version": "3.9.7"
  }
 },
 "nbformat": 4,
 "nbformat_minor": 5
}
