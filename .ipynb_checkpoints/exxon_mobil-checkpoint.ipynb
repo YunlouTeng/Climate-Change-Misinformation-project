{
 "cells": [
  {
   "cell_type": "markdown",
   "id": "8297f9dd",
   "metadata": {
    "tags": []
   },
   "source": [
    "### Library"
   ]
  },
  {
   "cell_type": "code",
   "execution_count": 1,
   "id": "3911a094-8aa5-4ad9-b24a-00fa2046e847",
   "metadata": {},
   "outputs": [],
   "source": [
    "import re\n",
    "import json\n",
    "import numpy as np\n",
    "import pandas as pd\n",
    "from pprint import pprint\n",
    "import seaborn as sns\n",
    "\n",
    "# NLTK Stop words\n",
    "import nltk\n",
    "from nltk import word_tokenize, FreqDist\n",
    "from nltk.corpus import stopwords\n",
    "from nltk.stem import WordNetLemmatizer\n",
    "from nltk.tokenize import TweetTokenizer\n",
    "\n",
    "# spacy for lemmatization\n",
    "import spacy\n",
    "\n",
    "#remove urls, mentions, emojis \n",
    "import preprocessor as p\n",
    "\n",
    "# Gensim\n",
    "import gensim\n",
    "import gensim.corpora as corpora\n",
    "from gensim.utils import simple_preprocess\n",
    "from gensim.models import CoherenceModel\n",
    "\n",
    "# Plotting tools\n",
    "import pyLDAvis\n",
    "import pyLDAvis.gensim_models  \n",
    "import matplotlib.pyplot as plt"
   ]
  },
  {
   "cell_type": "code",
   "execution_count": 2,
   "id": "01936baf-d833-49d0-9aca-11cfeceac718",
   "metadata": {},
   "outputs": [],
   "source": [
    "filepath = '/Users/lavine/Desktop/Terriers!/misinformation project/data/data.txt'"
   ]
  },
  {
   "cell_type": "markdown",
   "id": "2c5aa15e-14fe-4d05-9462-3e5b84aed595",
   "metadata": {
    "tags": []
   },
   "source": [
    "### Create a dataframe by every columns"
   ]
  },
  {
   "cell_type": "code",
   "execution_count": 3,
   "id": "1d9ce5af-9975-4db1-bf43-64d4a2f34184",
   "metadata": {},
   "outputs": [],
   "source": [
    "#load all the JSON objects in one list as dictionaries\n",
    "data = []\n",
    "with open(filepath,'r') as f:\n",
    "    for line in f:\n",
    "        data.append(json.loads(line))"
   ]
  },
  {
   "cell_type": "markdown",
   "id": "461a17e1-b7bd-41f8-852d-3260c48784ee",
   "metadata": {},
   "source": [
    " #### Put the text data in one list"
   ]
  },
  {
   "cell_type": "markdown",
   "id": "e1ba2fbf-e5ec-464c-8b6c-8f755bd24224",
   "metadata": {},
   "source": [
    "not original:\n",
    "referenced_tweet in i:\n",
    " == retweet \n",
    " \n",
    "lst_\n",
    "\n",
    "\n",
    "original:\n",
    "if not 'referenced_tweets' in i\n",
    "\n",
    "lst_o_text.append(i['text'])\n",
    "\n"
   ]
  },
  {
   "cell_type": "markdown",
   "id": "fae72b75-2e31-4eeb-8207-5db49fa05477",
   "metadata": {},
   "source": [
    "#retrive text and avoid truncated text when retweet without quoting\n",
    "lst_o_text = []\n",
    "lst_ret_text = []\n",
    "lst_rep_text = []\n",
    "\n",
    "for i in data:    \n",
    "    if 'referenced_tweets' in i:\n",
    "        if i['referenced_tweets'][0]['type'] != 'retweeted':\n",
    "            lst_text.append(i['referenced_tweets'][0]['text'])\n",
    "        else:\n",
    "            lst_text.append(i['text'])\n",
    "    else:\n",
    "        lst_text.append(i['text'])"
   ]
  },
  {
   "cell_type": "code",
   "execution_count": 4,
   "id": "5f5f8967-f8d6-4a4f-a72b-a71ba0eaba60",
   "metadata": {},
   "outputs": [],
   "source": [
    "lst_o_text = []\n",
    "\n",
    "#create lists for id, author id and conversation\n",
    "lst_id = []\n",
    "lst_lang = []\n",
    "lst_author_id = []\n",
    "lst_conversation_id = []\n",
    "\n",
    "#lst verified or not, author name and author username\n",
    "lst_author_verified = []\n",
    "lst_author_name = []\n",
    "lst_author_username = []\n",
    "\n",
    "#list creation time\n",
    "lst_twt_creation_time = []\n",
    "\n",
    "for i in data:\n",
    "    if not 'referenced_tweets' in i:\n",
    "        lst_o_text.append(i['text'])\n",
    "        lst_id.append(i['id'])\n",
    "        lst_lang.append(i['lang'])\n",
    "        lst_author_id.append(i['author_id'])\n",
    "        lst_conversation_id.append(i['conversation_id'])\n",
    "        lst_author_verified.append(i['author']['verified'])\n",
    "        lst_author_name.append(i['author']['name'])\n",
    "        lst_author_username.append(i['author']['username'])\n",
    "        lst_twt_creation_time.append(i['created_at'])"
   ]
  },
  {
   "cell_type": "markdown",
   "id": "8768c389-a75e-45af-be8b-cf8940199c75",
   "metadata": {},
   "source": [
    " #### Put the author info in list"
   ]
  },
  {
   "cell_type": "code",
   "execution_count": 5,
   "id": "f3ad13fe-db12-4fe4-a859-87dd1586bebe",
   "metadata": {},
   "outputs": [
    {
     "data": {
      "text/plain": [
       "dict_keys(['lang', 'id', 'possibly_sensitive', 'author_id', 'text', 'referenced_tweets', 'created_at', 'source', 'entities', 'in_reply_to_user_id', 'reply_settings', 'conversation_id', 'public_metrics', 'author', 'in_reply_to_user', '__twarc'])"
      ]
     },
     "execution_count": 5,
     "metadata": {},
     "output_type": "execute_result"
    }
   ],
   "source": [
    "data[0].keys()"
   ]
  },
  {
   "cell_type": "markdown",
   "id": "78a61f6d-633b-4c1d-a9ea-0599dfeb3afd",
   "metadata": {},
   "source": [
    "##### Put what we have in one dataframe"
   ]
  },
  {
   "cell_type": "code",
   "execution_count": 6,
   "id": "3b0e8f52-6dfe-4a2b-bbb4-c5ec3fefb98a",
   "metadata": {},
   "outputs": [],
   "source": [
    "tweets = pd.DataFrame({'text': lst_o_text,\n",
    "                  'language': lst_lang,\n",
    "                  'id': lst_id,\n",
    "                  'author_id': lst_author_id,\n",
    "                  'conversation_id': lst_conversation_id,\n",
    "                  'author_verified': lst_author_verified,\n",
    "                  'author_name': lst_author_name,\n",
    "                  'author_username': lst_author_username,\n",
    "                  'twt_creation_time': lst_twt_creation_time\n",
    "                  })"
   ]
  },
  {
   "cell_type": "code",
   "execution_count": 7,
   "id": "188315ed-e472-403c-9860-0cd9bebccca0",
   "metadata": {},
   "outputs": [],
   "source": [
    "pd.set_option(\"display.max_colwidth\", 10000)"
   ]
  },
  {
   "cell_type": "code",
   "execution_count": 8,
   "id": "5e7c9a2a-cb70-427a-900a-44f7c76611c0",
   "metadata": {},
   "outputs": [],
   "source": [
    "tweets.drop(tweets[tweets['language'] != 'en'].index, inplace = True)"
   ]
  },
  {
   "cell_type": "code",
   "execution_count": 9,
   "id": "dbe06b4c-50a9-47c3-a3bc-b9802eaa7822",
   "metadata": {},
   "outputs": [
    {
     "data": {
      "text/html": [
       "<div>\n",
       "<style scoped>\n",
       "    .dataframe tbody tr th:only-of-type {\n",
       "        vertical-align: middle;\n",
       "    }\n",
       "\n",
       "    .dataframe tbody tr th {\n",
       "        vertical-align: top;\n",
       "    }\n",
       "\n",
       "    .dataframe thead th {\n",
       "        text-align: right;\n",
       "    }\n",
       "</style>\n",
       "<table border=\"1\" class=\"dataframe\">\n",
       "  <thead>\n",
       "    <tr style=\"text-align: right;\">\n",
       "      <th></th>\n",
       "      <th>text</th>\n",
       "      <th>language</th>\n",
       "      <th>id</th>\n",
       "      <th>author_id</th>\n",
       "      <th>conversation_id</th>\n",
       "      <th>author_verified</th>\n",
       "      <th>author_name</th>\n",
       "      <th>author_username</th>\n",
       "      <th>twt_creation_time</th>\n",
       "    </tr>\n",
       "  </thead>\n",
       "  <tbody>\n",
       "    <tr>\n",
       "      <th>0</th>\n",
       "      <td>'We are in a climate emergency'December wildfires ravage Colorado https://t.co/sWDkZM4Rvn Sen. Manchin, your Exxon highway bill isn't going 2save our homes or our lives,\" \"Your greed &amp;amp; corruption is not only torching our future It's burning our communities and destroying lives!</td>\n",
       "      <td>en</td>\n",
       "      <td>1477024401254092800</td>\n",
       "      <td>1009831809855688707</td>\n",
       "      <td>1477024401254092800</td>\n",
       "      <td>False</td>\n",
       "      <td>Vammek Opinion</td>\n",
       "      <td>Vammek</td>\n",
       "      <td>2021-12-31T21:10:33.000Z</td>\n",
       "    </tr>\n",
       "    <tr>\n",
       "      <th>1</th>\n",
       "      <td>#Oil business knows about the damage that It does, but this business is too much easy and lucrative  https://t.co/W7MemjJAA9 #FossilFuels \\nExxon’s Plan for Surging Carbon Emissions Revealed in Leaked Documents https://t.co/RFX8meYv11</td>\n",
       "      <td>en</td>\n",
       "      <td>1476991564803104776</td>\n",
       "      <td>590788952</td>\n",
       "      <td>1476991564803104776</td>\n",
       "      <td>False</td>\n",
       "      <td>Robert Pujol i Vives</td>\n",
       "      <td>rpujolvives</td>\n",
       "      <td>2021-12-31T19:00:04.000Z</td>\n",
       "    </tr>\n",
       "    <tr>\n",
       "      <th>2</th>\n",
       "      <td>@amywestervelt Your opinion piece concerning climate science alone motivating people to help create political change on Global Warming policy is Spot On. Informing people about the injustices Exxon and Big Oil has perpetrated on us is crucial in inspiring citizens to fight back.</td>\n",
       "      <td>en</td>\n",
       "      <td>1476962302159060992</td>\n",
       "      <td>1476958634705780736</td>\n",
       "      <td>1476962302159060992</td>\n",
       "      <td>False</td>\n",
       "      <td>Megan Robbins</td>\n",
       "      <td>MeganRo50852817</td>\n",
       "      <td>2021-12-31T17:03:48.000Z</td>\n",
       "    </tr>\n",
       "    <tr>\n",
       "      <th>3</th>\n",
       "      <td>Each year, the government gives over $15 billion in taxpayer-funded subsidies to fossil fuel corporations who contribute to the climate crisis like Exxon. \\n\\nWill you sign this petition to pressure the Senate to END fossil fuel subsidies https://t.co/2A7wLyid3X?</td>\n",
       "      <td>en</td>\n",
       "      <td>1476954565450903553</td>\n",
       "      <td>47878087</td>\n",
       "      <td>1476954565450903553</td>\n",
       "      <td>False</td>\n",
       "      <td>Jennifer Hall</td>\n",
       "      <td>JDHall_35402</td>\n",
       "      <td>2021-12-31T16:33:03.000Z</td>\n",
       "    </tr>\n",
       "    <tr>\n",
       "      <th>4</th>\n",
       "      <td>Each year, the government gives over $15 billion in taxpayer-funded subsidies to fossil fuel corporations who contribute to the climate crisis like Exxon. \\n\\nWill you sign our petition to pressure the Senate to END fossil fuel subsidies https://t.co/OD7YqPO5SP?</td>\n",
       "      <td>en</td>\n",
       "      <td>1476922966893948928</td>\n",
       "      <td>1450838788037496836</td>\n",
       "      <td>1476922966893948928</td>\n",
       "      <td>False</td>\n",
       "      <td>Dennis Landi</td>\n",
       "      <td>DennisLandi2</td>\n",
       "      <td>2021-12-31T14:27:29.000Z</td>\n",
       "    </tr>\n",
       "  </tbody>\n",
       "</table>\n",
       "</div>"
      ],
      "text/plain": [
       "                                                                                                                                                                                                                                                                                         text  \\\n",
       "0  'We are in a climate emergency'December wildfires ravage Colorado https://t.co/sWDkZM4Rvn Sen. Manchin, your Exxon highway bill isn't going 2save our homes or our lives,\" \"Your greed &amp; corruption is not only torching our future It's burning our communities and destroying lives!   \n",
       "1                                                  #Oil business knows about the damage that It does, but this business is too much easy and lucrative  https://t.co/W7MemjJAA9 #FossilFuels \\nExxon’s Plan for Surging Carbon Emissions Revealed in Leaked Documents https://t.co/RFX8meYv11   \n",
       "2     @amywestervelt Your opinion piece concerning climate science alone motivating people to help create political change on Global Warming policy is Spot On. Informing people about the injustices Exxon and Big Oil has perpetrated on us is crucial in inspiring citizens to fight back.   \n",
       "3                     Each year, the government gives over $15 billion in taxpayer-funded subsidies to fossil fuel corporations who contribute to the climate crisis like Exxon. \\n\\nWill you sign this petition to pressure the Senate to END fossil fuel subsidies https://t.co/2A7wLyid3X?   \n",
       "4                      Each year, the government gives over $15 billion in taxpayer-funded subsidies to fossil fuel corporations who contribute to the climate crisis like Exxon. \\n\\nWill you sign our petition to pressure the Senate to END fossil fuel subsidies https://t.co/OD7YqPO5SP?   \n",
       "\n",
       "  language                   id            author_id      conversation_id  \\\n",
       "0       en  1477024401254092800  1009831809855688707  1477024401254092800   \n",
       "1       en  1476991564803104776            590788952  1476991564803104776   \n",
       "2       en  1476962302159060992  1476958634705780736  1476962302159060992   \n",
       "3       en  1476954565450903553             47878087  1476954565450903553   \n",
       "4       en  1476922966893948928  1450838788037496836  1476922966893948928   \n",
       "\n",
       "   author_verified           author_name  author_username  \\\n",
       "0            False        Vammek Opinion           Vammek   \n",
       "1            False  Robert Pujol i Vives      rpujolvives   \n",
       "2            False         Megan Robbins  MeganRo50852817   \n",
       "3            False         Jennifer Hall     JDHall_35402   \n",
       "4            False          Dennis Landi     DennisLandi2   \n",
       "\n",
       "          twt_creation_time  \n",
       "0  2021-12-31T21:10:33.000Z  \n",
       "1  2021-12-31T19:00:04.000Z  \n",
       "2  2021-12-31T17:03:48.000Z  \n",
       "3  2021-12-31T16:33:03.000Z  \n",
       "4  2021-12-31T14:27:29.000Z  "
      ]
     },
     "execution_count": 9,
     "metadata": {},
     "output_type": "execute_result"
    }
   ],
   "source": [
    "tweets.head()"
   ]
  },
  {
   "cell_type": "markdown",
   "id": "87f8239d-0094-46e7-ab51-c559cb9963fa",
   "metadata": {
    "tags": []
   },
   "source": [
    "### Data preprocessing"
   ]
  },
  {
   "cell_type": "code",
   "execution_count": 10,
   "id": "7ae12cec-2bd4-43dc-bdd8-e442a6907d5d",
   "metadata": {},
   "outputs": [],
   "source": [
    "tweets['hashtag'] = tweets['text'].apply(lambda x: re.findall(r\"#(\\w+)\", x))"
   ]
  },
  {
   "cell_type": "code",
   "execution_count": 11,
   "id": "8d4bb11c-5b98-452c-8ea9-e1f0f4e36ca9",
   "metadata": {},
   "outputs": [],
   "source": [
    "#forming a separate column for cleaned tweets\n",
    "tweets['ctext'] = tweets['text'].apply(lambda x: p.clean(x))"
   ]
  },
  {
   "cell_type": "code",
   "execution_count": 12,
   "id": "9b9e878d-4990-4b58-85f2-2e42650a652f",
   "metadata": {},
   "outputs": [
    {
     "data": {
      "text/html": [
       "<div>\n",
       "<style scoped>\n",
       "    .dataframe tbody tr th:only-of-type {\n",
       "        vertical-align: middle;\n",
       "    }\n",
       "\n",
       "    .dataframe tbody tr th {\n",
       "        vertical-align: top;\n",
       "    }\n",
       "\n",
       "    .dataframe thead th {\n",
       "        text-align: right;\n",
       "    }\n",
       "</style>\n",
       "<table border=\"1\" class=\"dataframe\">\n",
       "  <thead>\n",
       "    <tr style=\"text-align: right;\">\n",
       "      <th></th>\n",
       "      <th>text</th>\n",
       "      <th>language</th>\n",
       "      <th>id</th>\n",
       "      <th>author_id</th>\n",
       "      <th>conversation_id</th>\n",
       "      <th>author_verified</th>\n",
       "      <th>author_name</th>\n",
       "      <th>author_username</th>\n",
       "      <th>twt_creation_time</th>\n",
       "      <th>hashtag</th>\n",
       "      <th>ctext</th>\n",
       "    </tr>\n",
       "  </thead>\n",
       "  <tbody>\n",
       "    <tr>\n",
       "      <th>0</th>\n",
       "      <td>'We are in a climate emergency'December wildfires ravage Colorado https://t.co/sWDkZM4Rvn Sen. Manchin, your Exxon highway bill isn't going 2save our homes or our lives,\" \"Your greed &amp;amp; corruption is not only torching our future It's burning our communities and destroying lives!</td>\n",
       "      <td>en</td>\n",
       "      <td>1477024401254092800</td>\n",
       "      <td>1009831809855688707</td>\n",
       "      <td>1477024401254092800</td>\n",
       "      <td>False</td>\n",
       "      <td>Vammek Opinion</td>\n",
       "      <td>Vammek</td>\n",
       "      <td>2021-12-31T21:10:33.000Z</td>\n",
       "      <td>[]</td>\n",
       "      <td>'We are in a climate emergency'December wildfires ravage Colorado Sen. Manchin, your Exxon highway bill isn't going save our homes or our lives,\" \"Your greed &amp;amp; corruption is not only torching our future It's burning our communities and destroying lives!</td>\n",
       "    </tr>\n",
       "    <tr>\n",
       "      <th>1</th>\n",
       "      <td>#Oil business knows about the damage that It does, but this business is too much easy and lucrative  https://t.co/W7MemjJAA9 #FossilFuels \\nExxon’s Plan for Surging Carbon Emissions Revealed in Leaked Documents https://t.co/RFX8meYv11</td>\n",
       "      <td>en</td>\n",
       "      <td>1476991564803104776</td>\n",
       "      <td>590788952</td>\n",
       "      <td>1476991564803104776</td>\n",
       "      <td>False</td>\n",
       "      <td>Robert Pujol i Vives</td>\n",
       "      <td>rpujolvives</td>\n",
       "      <td>2021-12-31T19:00:04.000Z</td>\n",
       "      <td>[Oil, FossilFuels]</td>\n",
       "      <td>business knows about the damage that It does, but this business is too much easy and lucrative Exxons Plan for Surging Carbon Emissions Revealed in Leaked Documents</td>\n",
       "    </tr>\n",
       "    <tr>\n",
       "      <th>2</th>\n",
       "      <td>@amywestervelt Your opinion piece concerning climate science alone motivating people to help create political change on Global Warming policy is Spot On. Informing people about the injustices Exxon and Big Oil has perpetrated on us is crucial in inspiring citizens to fight back.</td>\n",
       "      <td>en</td>\n",
       "      <td>1476962302159060992</td>\n",
       "      <td>1476958634705780736</td>\n",
       "      <td>1476962302159060992</td>\n",
       "      <td>False</td>\n",
       "      <td>Megan Robbins</td>\n",
       "      <td>MeganRo50852817</td>\n",
       "      <td>2021-12-31T17:03:48.000Z</td>\n",
       "      <td>[]</td>\n",
       "      <td>Your opinion piece concerning climate science alone motivating people to help create political change on Global Warming policy is Spot On. Informing people about the injustices Exxon and Big Oil has perpetrated on us is crucial in inspiring citizens to fight back.</td>\n",
       "    </tr>\n",
       "  </tbody>\n",
       "</table>\n",
       "</div>"
      ],
      "text/plain": [
       "                                                                                                                                                                                                                                                                                         text  \\\n",
       "0  'We are in a climate emergency'December wildfires ravage Colorado https://t.co/sWDkZM4Rvn Sen. Manchin, your Exxon highway bill isn't going 2save our homes or our lives,\" \"Your greed &amp; corruption is not only torching our future It's burning our communities and destroying lives!   \n",
       "1                                                  #Oil business knows about the damage that It does, but this business is too much easy and lucrative  https://t.co/W7MemjJAA9 #FossilFuels \\nExxon’s Plan for Surging Carbon Emissions Revealed in Leaked Documents https://t.co/RFX8meYv11   \n",
       "2     @amywestervelt Your opinion piece concerning climate science alone motivating people to help create political change on Global Warming policy is Spot On. Informing people about the injustices Exxon and Big Oil has perpetrated on us is crucial in inspiring citizens to fight back.   \n",
       "\n",
       "  language                   id            author_id      conversation_id  \\\n",
       "0       en  1477024401254092800  1009831809855688707  1477024401254092800   \n",
       "1       en  1476991564803104776            590788952  1476991564803104776   \n",
       "2       en  1476962302159060992  1476958634705780736  1476962302159060992   \n",
       "\n",
       "   author_verified           author_name  author_username  \\\n",
       "0            False        Vammek Opinion           Vammek   \n",
       "1            False  Robert Pujol i Vives      rpujolvives   \n",
       "2            False         Megan Robbins  MeganRo50852817   \n",
       "\n",
       "          twt_creation_time             hashtag  \\\n",
       "0  2021-12-31T21:10:33.000Z                  []   \n",
       "1  2021-12-31T19:00:04.000Z  [Oil, FossilFuels]   \n",
       "2  2021-12-31T17:03:48.000Z                  []   \n",
       "\n",
       "                                                                                                                                                                                                                                                                      ctext  \n",
       "0         'We are in a climate emergency'December wildfires ravage Colorado Sen. Manchin, your Exxon highway bill isn't going save our homes or our lives,\" \"Your greed &amp; corruption is not only torching our future It's burning our communities and destroying lives!  \n",
       "1                                                                                                      business knows about the damage that It does, but this business is too much easy and lucrative Exxons Plan for Surging Carbon Emissions Revealed in Leaked Documents  \n",
       "2  Your opinion piece concerning climate science alone motivating people to help create political change on Global Warming policy is Spot On. Informing people about the injustices Exxon and Big Oil has perpetrated on us is crucial in inspiring citizens to fight back.  "
      ]
     },
     "execution_count": 12,
     "metadata": {},
     "output_type": "execute_result"
    }
   ],
   "source": [
    "tweets.head(3)"
   ]
  },
  {
   "cell_type": "code",
   "execution_count": 13,
   "id": "bef3a4db-2aa1-412a-b4b6-6a07696d38d7",
   "metadata": {},
   "outputs": [],
   "source": [
    "#convert to list\n",
    "ctext = tweets['ctext'].tolist()"
   ]
  },
  {
   "cell_type": "code",
   "execution_count": 41,
   "id": "f210384d-bd53-4a61-b085-e7e1545ee33f",
   "metadata": {},
   "outputs": [],
   "source": [
    "nctext = tweets['text'].tolist()"
   ]
  },
  {
   "cell_type": "code",
   "execution_count": 14,
   "id": "25ad07de-a943-4a3d-a64e-0a555ecc16d5",
   "metadata": {},
   "outputs": [
    {
     "name": "stderr",
     "output_type": "stream",
     "text": [
      "<>:2: DeprecationWarning: invalid escape sequence \\s\n",
      "<>:2: DeprecationWarning: invalid escape sequence \\s\n",
      "/var/folders/kg/0ndh6pln2x7b6rpm16twhvpc0000gn/T/ipykernel_96913/1351202947.py:2: DeprecationWarning: invalid escape sequence \\s\n",
      "  ctext = [re.sub('\\s+', ' ', sent) for sent in ctext]\n"
     ]
    }
   ],
   "source": [
    "# Remove new line characters\n",
    "ctext = [re.sub('\\s+', ' ', sent) for sent in ctext]"
   ]
  },
  {
   "cell_type": "code",
   "execution_count": 15,
   "id": "10de78ad-cd53-4a1e-b4d8-42cf0466e43f",
   "metadata": {},
   "outputs": [],
   "source": [
    "# Remove distracting single quotes\n",
    "ctext = [re.sub(\"\\'\", \"\", sent) for sent in ctext]"
   ]
  },
  {
   "cell_type": "code",
   "execution_count": 16,
   "id": "a06b12d3-e30d-437a-82d6-8ff049bc9a56",
   "metadata": {},
   "outputs": [],
   "source": [
    "# remove punctuations\n",
    "ctext = [re.sub(r'[^\\w\\s]', '', sent) for sent in ctext]"
   ]
  },
  {
   "cell_type": "code",
   "execution_count": 17,
   "id": "e48ea990-81ac-4293-8fc2-cad5bc777db5",
   "metadata": {},
   "outputs": [
    {
     "data": {
      "text/plain": [
       "['business knows about the damage that It does but this business is too much easy and lucrative Exxons Plan for Surging Carbon Emissions Revealed in Leaked Documents',\n",
       " 'Your opinion piece concerning climate science alone motivating people to help create political change on Global Warming policy is Spot On Informing people about the injustices Exxon and Big Oil has perpetrated on us is crucial in inspiring citizens to fight back',\n",
       " 'Each year the government gives over 15 billion in taxpayerfunded subsidies to fossil fuel corporations who contribute to the climate crisis like Exxon Will you sign this petition to pressure the Senate to END fossil fuel subsidies ',\n",
       " 'Each year the government gives over 15 billion in taxpayerfunded subsidies to fossil fuel corporations who contribute to the climate crisis like Exxon Will you sign our petition to pressure the Senate to END fossil fuel subsidies ']"
      ]
     },
     "execution_count": 17,
     "metadata": {},
     "output_type": "execute_result"
    }
   ],
   "source": [
    "ctext[1:5]"
   ]
  },
  {
   "cell_type": "markdown",
   "id": "eee9d1b7-d916-49e8-9467-c99192da368b",
   "metadata": {
    "tags": []
   },
   "source": [
    "### Tokenize words and further clean up text"
   ]
  },
  {
   "cell_type": "markdown",
   "id": "aa60cee8-1c55-469f-ae2f-ed218555bee5",
   "metadata": {},
   "source": [
    "Tokenize each sentence into a list of words, removing punctuations and unnecessary characters altoghter"
   ]
  },
  {
   "cell_type": "code",
   "execution_count": 18,
   "id": "6b44245f-17f9-45d5-8ebd-bc0c18503060",
   "metadata": {},
   "outputs": [
    {
     "name": "stdout",
     "output_type": "stream",
     "text": [
      "[['we', 'are', 'in', 'climate', 'wildfires', 'ravage', 'colorado', 'sen', 'manchin', 'your', 'exxon', 'highway', 'bill', 'isnt', 'going', 'save', 'our', 'homes', 'or', 'our', 'lives', 'your', 'greed', 'amp', 'corruption', 'is', 'not', 'only', 'torching', 'our', 'future', 'its', 'burning', 'our', 'communities', 'and', 'destroying', 'lives']]\n"
     ]
    }
   ],
   "source": [
    "def sent_to_words(sentences):\n",
    "    for sentence in sentences:\n",
    "        yield(gensim.utils.simple_preprocess(str(sentence), deacc=True))  # deacc=True removes punctuations\n",
    "\n",
    "tweet_words = list(sent_to_words(ctext))\n",
    "\n",
    "print(tweet_words[:1])"
   ]
  },
  {
   "cell_type": "code",
   "execution_count": 19,
   "id": "8bef03c9-848f-4004-824e-b2340c6086f1",
   "metadata": {},
   "outputs": [
    {
     "name": "stdout",
     "output_type": "stream",
     "text": [
      "['we', 'are', 'in', 'climate', 'wildfires', 'ravage', 'colorado', 'sen_manchin', 'your', 'exxon', 'highway', 'bill', 'isnt', 'going', 'save', 'our', 'homes', 'or', 'our', 'lives', 'your', 'greed', 'amp', 'corruption', 'is', 'not', 'only', 'torching', 'our', 'future', 'its', 'burning', 'our', 'communities', 'and', 'destroying', 'lives']\n"
     ]
    }
   ],
   "source": [
    "# Build the bigram and trigram models\n",
    "bigram = gensim.models.Phrases(tweet_words, min_count=5, threshold=100) # higher threshold fewer phrases.\n",
    "trigram = gensim.models.Phrases(bigram[tweet_words], threshold=100)  \n",
    "\n",
    "# Faster way to get a sentence clubbed as a trigram/bigram\n",
    "bigram_mod = gensim.models.phrases.Phraser(bigram)\n",
    "trigram_mod = gensim.models.phrases.Phraser(trigram)\n",
    "\n",
    "# See trigram example\n",
    "print(trigram_mod[bigram_mod[tweet_words[0]]])"
   ]
  },
  {
   "cell_type": "markdown",
   "id": "c24a6586-a208-47dc-b7df-e84b8c5a621a",
   "metadata": {
    "tags": []
   },
   "source": [
    "### Remove Stopwords, Make Bigrams and Lemmatize"
   ]
  },
  {
   "cell_type": "code",
   "execution_count": 20,
   "id": "b527df8e-7e82-45eb-995f-64d60d7d5dcd",
   "metadata": {},
   "outputs": [],
   "source": [
    "stop_words = stopwords.words('english')\n",
    "stop_words.extend(['from', 'subject', 're', 'edu', 'use', 'm'])"
   ]
  },
  {
   "cell_type": "code",
   "execution_count": 21,
   "id": "3a9ae696-61af-40ea-8380-ea5b22393074",
   "metadata": {},
   "outputs": [],
   "source": [
    "# Define functions for stopwords, bigrams, trigrams and lemmatization\n",
    "def remove_stopwords(texts):\n",
    "    return [[word for word in simple_preprocess(str(doc)) if word not in stop_words] for doc in texts]\n",
    "\n",
    "def make_bigrams(texts):\n",
    "    return [bigram_mod[doc] for doc in texts]\n",
    "\n",
    "def make_trigrams(texts):\n",
    "    return [trigram_mod[bigram_mod[doc]] for doc in texts]"
   ]
  },
  {
   "cell_type": "code",
   "execution_count": 22,
   "id": "91edbe4c-1e69-4d5c-b09a-318a5c3047d2",
   "metadata": {},
   "outputs": [],
   "source": [
    "def lemmatization(texts, allowed_postags=['NOUN', 'ADJ', 'VERB', 'ADV']):\n",
    "    \"\"\"https://spacy.io/api/annotation\"\"\"\n",
    "    texts_out = []\n",
    "    for sent in texts:\n",
    "        doc = nlp(\" \".join(sent)) \n",
    "        texts_out.append([token.lemma_ for token in doc if token.pos_ in allowed_postags])\n",
    "    return texts_out"
   ]
  },
  {
   "cell_type": "code",
   "execution_count": 23,
   "id": "246f1398-6c05-4437-9052-fdc9f25af0b6",
   "metadata": {},
   "outputs": [],
   "source": [
    "# Remove Stop Words\n",
    "tweet_words_nostops = remove_stopwords(tweet_words)"
   ]
  },
  {
   "cell_type": "code",
   "execution_count": 24,
   "id": "29c6dc85-e89e-4ff4-a4d1-83fede7b1a5e",
   "metadata": {},
   "outputs": [],
   "source": [
    "# Form Bigrams\n",
    "tweet_words_bigrams = make_bigrams(tweet_words_nostops)"
   ]
  },
  {
   "cell_type": "code",
   "execution_count": 25,
   "id": "ccc2cc77-8a72-423b-ae6c-6546c8ade7a8",
   "metadata": {},
   "outputs": [
    {
     "name": "stdout",
     "output_type": "stream",
     "text": [
      "[['wildfire', 'ravage', 'highway', 'bill', 'go', 'save', 'home', 'live', 'greed', 'amp', 'corruption', 'torch', 'future', 'burn', 'community', 'destroy', 'life']]\n"
     ]
    }
   ],
   "source": [
    "# Initialize spacy 'en_core_web_sm' model, keeping only tagger component (for efficiency)\n",
    "# python3 -m spacy download en_core_web_sm\n",
    "nlp = spacy.load(\"en_core_web_sm\", disable=['parser', 'ner'])# not \"en\" any more\n",
    "\n",
    "# Do lemmatization keeping only noun, adj, vb, adv\n",
    "tweet_lemmatized = lemmatization(tweet_words_bigrams, allowed_postags=['NOUN', 'ADJ', 'VERB', 'ADV'])\n",
    "\n",
    "print(tweet_lemmatized[:1])"
   ]
  },
  {
   "cell_type": "markdown",
   "id": "805b9a70-7bf6-4b5b-8391-76185dd7cea7",
   "metadata": {
    "tags": []
   },
   "source": [
    "### Creat the dictionary and the corpus"
   ]
  },
  {
   "cell_type": "code",
   "execution_count": 26,
   "id": "045af5c1-03ce-4c46-a4ce-5d2510470d2b",
   "metadata": {},
   "outputs": [
    {
     "name": "stdout",
     "output_type": "stream",
     "text": [
      "[[(0, 1), (1, 1), (2, 1), (3, 1), (4, 1), (5, 1), (6, 1), (7, 1), (8, 1), (9, 1), (10, 1), (11, 1), (12, 1), (13, 1), (14, 1), (15, 1), (16, 1)]]\n"
     ]
    }
   ],
   "source": [
    "# Create Dictionary\n",
    "id2word = corpora.Dictionary(tweet_lemmatized)\n",
    "\n",
    "# Create Corpus\n",
    "texts = tweet_lemmatized\n",
    "\n",
    "# Term Document Frequency\n",
    "corpus = [id2word.doc2bow(text) for text in texts] \n",
    "\n",
    "#Gensim creates a unique id for each word in the document. \n",
    "#The produced corpus shown below is a mapping of (word_id, word_frequency(times of occurance)).\n",
    "\n",
    "# View\n",
    "print(corpus[:1])"
   ]
  },
  {
   "cell_type": "code",
   "execution_count": 27,
   "id": "494c70fb-e5f5-497a-89f3-9892a245c9d2",
   "metadata": {},
   "outputs": [
    {
     "data": {
      "text/plain": [
       "'motivate'"
      ]
     },
     "execution_count": 27,
     "metadata": {},
     "output_type": "execute_result"
    }
   ],
   "source": [
    "id2word[40]"
   ]
  },
  {
   "cell_type": "code",
   "execution_count": 28,
   "id": "7c2ed933-af4b-42eb-a1f3-d6e64196b7aa",
   "metadata": {},
   "outputs": [
    {
     "data": {
      "text/plain": [
       "'corruption'"
      ]
     },
     "execution_count": 28,
     "metadata": {},
     "output_type": "execute_result"
    }
   ],
   "source": [
    "#If you want to see what word a given id corresponds to, pass the id as a key to the dictionary.\n",
    "id2word[4]\n",
    "\n",
    "#input of LDA"
   ]
  },
  {
   "cell_type": "code",
   "execution_count": 29,
   "id": "5520aec4-4caa-4db2-bcad-f2eea66c6b10",
   "metadata": {},
   "outputs": [
    {
     "data": {
      "text/plain": [
       "[[('amp', 1),\n",
       "  ('bill', 1),\n",
       "  ('burn', 1),\n",
       "  ('community', 1),\n",
       "  ('corruption', 1),\n",
       "  ('destroy', 1),\n",
       "  ('future', 1),\n",
       "  ('go', 1),\n",
       "  ('greed', 1),\n",
       "  ('highway', 1),\n",
       "  ('home', 1),\n",
       "  ('life', 1),\n",
       "  ('live', 1),\n",
       "  ('ravage', 1),\n",
       "  ('save', 1),\n",
       "  ('torch', 1),\n",
       "  ('wildfire', 1)]]"
      ]
     },
     "execution_count": 29,
     "metadata": {},
     "output_type": "execute_result"
    }
   ],
   "source": [
    "# Human readable format of corpus (term-frequency)\n",
    "[[(id2word[id], freq) for id, freq in cp] for cp in corpus[:1]]"
   ]
  },
  {
   "cell_type": "markdown",
   "id": "82855c8f-5efb-4c9d-872f-6a1ac7954577",
   "metadata": {
    "tags": []
   },
   "source": [
    "### Building the Topic Model"
   ]
  },
  {
   "cell_type": "code",
   "execution_count": 45,
   "id": "fd2479a5-4314-45dd-98d5-a06ef929f664",
   "metadata": {},
   "outputs": [],
   "source": [
    "# Build LDA model\n",
    "lda_model = gensim.models.ldamodel.LdaModel(corpus=corpus,\n",
    "                                           id2word=id2word,\n",
    "                                           num_topics=4, \n",
    "                                           random_state=100,\n",
    "                                           update_every=1,\n",
    "                                           chunksize=200,\n",
    "                                           passes=10,\n",
    "                                           alpha='auto',\n",
    "                                           per_word_topics=True)"
   ]
  },
  {
   "cell_type": "code",
   "execution_count": 46,
   "id": "98c1416a-9b9f-49b1-95b7-4105946d733f",
   "metadata": {},
   "outputs": [
    {
     "name": "stdout",
     "output_type": "stream",
     "text": [
      "[(0,\n",
      "  '0.064*\"oil\" + 0.042*\"big\" + 0.041*\"activist\" + 0.033*\"new\" + '\n",
      "  '0.032*\"investor\" + 0.029*\"board\" + 0.028*\"company\" + 0.016*\"use\" + '\n",
      "  '0.015*\"giant\" + 0.015*\"energy\"'),\n",
      " (1,\n",
      "  '0.054*\"crisis\" + 0.043*\"fuel\" + 0.036*\"fossil\" + 0.035*\"vote\" + '\n",
      "  '0.031*\"face\" + 0.026*\"pressure\" + 0.020*\"keep\" + 0.017*\"world\" + '\n",
      "  '0.016*\"role\" + 0.012*\"evil\"'),\n",
      " (2,\n",
      "  '0.076*\"change\" + 0.016*\"know\" + 0.014*\"shareholder\" + 0.014*\"back\" + '\n",
      "  '0.014*\"amp\" + 0.013*\"win\" + 0.012*\"shell\" + 0.011*\"hold\" + 0.011*\"say\" + '\n",
      "  '0.010*\"technology\"'),\n",
      " (3,\n",
      "  '0.076*\"exxon\" + 0.055*\"emission\" + 0.025*\"plan\" + 0.023*\"business\" + '\n",
      "  '0.022*\"strategy\" + 0.016*\"time\" + 0.015*\"need\" + 0.015*\"reveal\" + '\n",
      "  '0.015*\"investment\" + 0.014*\"cut\"')]\n"
     ]
    }
   ],
   "source": [
    "# Print the Keyword in the topics\n",
    "pprint(lda_model.print_topics())\n",
    "doc_lda = lda_model[corpus]"
   ]
  },
  {
   "cell_type": "markdown",
   "id": "d2a08cd6-7d24-4d44-b4b9-398195a86847",
   "metadata": {
    "tags": []
   },
   "source": [
    "### Compute model perplexity and coherence score"
   ]
  },
  {
   "cell_type": "code",
   "execution_count": 47,
   "id": "0d82ce0a-a3f3-410d-84e0-140df9173b4a",
   "metadata": {},
   "outputs": [
    {
     "name": "stdout",
     "output_type": "stream",
     "text": [
      "\n",
      "Perplexity:  -7.789235030433813\n",
      "\n",
      "Coherence Score:  0.2835521626373156\n"
     ]
    }
   ],
   "source": [
    "# Compute Perplexity\n",
    "print('\\nPerplexity: ', lda_model.log_perplexity(corpus))  # a measure of how good the model is. lower the better.\n",
    "\n",
    "# Compute Coherence Score\n",
    "coherence_model_lda = CoherenceModel(model=lda_model, texts=tweet_lemmatized, dictionary=id2word, coherence='c_v')\n",
    "coherence_lda = coherence_model_lda.get_coherence()\n",
    "print('\\nCoherence Score: ', coherence_lda)"
   ]
  },
  {
   "cell_type": "code",
   "execution_count": 48,
   "id": "77942d7d-c8f8-4bd2-9df3-2fd7cdbb7ece",
   "metadata": {},
   "outputs": [
    {
     "name": "stderr",
     "output_type": "stream",
     "text": [
      "/opt/anaconda3/lib/python3.9/site-packages/pyLDAvis/_prepare.py:246: FutureWarning: In a future version of pandas all arguments of DataFrame.drop except for the argument 'labels' will be keyword-only\n",
      "  default_term_info = default_term_info.sort_values(\n",
      "/opt/anaconda3/lib/python3.9/site-packages/past/builtins/misc.py:45: DeprecationWarning: the imp module is deprecated in favour of importlib; see the module's documentation for alternative uses\n",
      "  from imp import reload\n",
      "/opt/anaconda3/lib/python3.9/site-packages/past/builtins/misc.py:45: DeprecationWarning: the imp module is deprecated in favour of importlib; see the module's documentation for alternative uses\n",
      "  from imp import reload\n",
      "/opt/anaconda3/lib/python3.9/site-packages/past/builtins/misc.py:45: DeprecationWarning: the imp module is deprecated in favour of importlib; see the module's documentation for alternative uses\n",
      "  from imp import reload\n",
      "/opt/anaconda3/lib/python3.9/site-packages/past/builtins/misc.py:45: DeprecationWarning: the imp module is deprecated in favour of importlib; see the module's documentation for alternative uses\n",
      "  from imp import reload\n",
      "/opt/anaconda3/lib/python3.9/site-packages/past/builtins/misc.py:45: DeprecationWarning: the imp module is deprecated in favour of importlib; see the module's documentation for alternative uses\n",
      "  from imp import reload\n",
      "/opt/anaconda3/lib/python3.9/site-packages/past/builtins/misc.py:45: DeprecationWarning: the imp module is deprecated in favour of importlib; see the module's documentation for alternative uses\n",
      "  from imp import reload\n",
      "/opt/anaconda3/lib/python3.9/site-packages/past/builtins/misc.py:45: DeprecationWarning: the imp module is deprecated in favour of importlib; see the module's documentation for alternative uses\n",
      "  from imp import reload\n",
      "/opt/anaconda3/lib/python3.9/site-packages/past/builtins/misc.py:45: DeprecationWarning: the imp module is deprecated in favour of importlib; see the module's documentation for alternative uses\n",
      "  from imp import reload\n"
     ]
    },
    {
     "data": {
      "text/html": [
       "\n",
       "<link rel=\"stylesheet\" type=\"text/css\" href=\"https://cdn.jsdelivr.net/gh/bmabey/pyLDAvis@3.3.1/pyLDAvis/js/ldavis.v1.0.0.css\">\n",
       "\n",
       "\n",
       "<div id=\"ldavis_el969131404270288783841708543938\"></div>\n",
       "<script type=\"text/javascript\">\n",
       "\n",
       "var ldavis_el969131404270288783841708543938_data = {\"mdsDat\": {\"x\": [0.0060244112085331815, -0.3461096707933576, 0.14130077130338473, 0.19878448828143985], \"y\": [-0.34597586005845077, 0.11592199846502198, 0.06132368892759026, 0.16873017266583878], \"topics\": [1, 2, 3, 4], \"cluster\": [1, 1, 1, 1], \"Freq\": [36.67079799957951, 35.28396921819299, 14.633584893196963, 13.411647889030535]}, \"tinfo\": {\"Term\": [\"change\", \"oil\", \"exxon\", \"big\", \"crisis\", \"emission\", \"activist\", \"new\", \"fuel\", \"investor\", \"board\", \"fossil\", \"vote\", \"face\", \"pressure\", \"plan\", \"company\", \"business\", \"strategy\", \"know\", \"use\", \"keep\", \"giant\", \"energy\", \"back\", \"amp\", \"seat\", \"downplay\", \"fight\", \"win\", \"change\", \"back\", \"amp\", \"win\", \"know\", \"shell\", \"hold\", \"chevron\", \"future\", \"technology\", \"director\", \"get\", \"case\", \"carbon\", \"address\", \"risk\", \"report\", \"project\", \"historic\", \"much\", \"court\", \"day\", \"public\", \"good\", \"news\", \"support\", \"fund\", \"today\", \"come\", \"group\", \"study\", \"find\", \"could_slow\", \"shareholder\", \"make\", \"bloomberg_businessweek\", \"say\", \"year\", \"industry\", \"company\", \"oil\", \"big\", \"activist\", \"new\", \"investor\", \"board\", \"giant\", \"energy\", \"seat\", \"fight\", \"use\", \"least\", \"gas\", \"major\", \"push\", \"take\", \"engine\", \"go\", \"sue\", \"lose\", \"large\", \"clean\", \"member\", \"see\", \"hedge_fund\", \"xom\", \"lawsuit\", \"decade\", \"environmental\", \"transition\", \"downplay\", \"ad\", \"company\", \"say\", \"industry\", \"crisis\", \"fuel\", \"fossil\", \"vote\", \"face\", \"pressure\", \"keep\", \"world\", \"role\", \"evil\", \"exxonmobil\", \"concern\", \"invest\", \"co\", \"question\", \"corporation\", \"former\", \"petition\", \"annual\", \"protect\", \"lie\", \"subsidy\", \"grow\", \"political\", \"high\", \"ask\", \"regulation\", \"research\", \"drive\", \"part\", \"onto_consumer\", \"action\", \"year\", \"exxon\", \"emission\", \"plan\", \"strategy\", \"time\", \"reveal\", \"need\", \"investment\", \"cut\", \"damage\", \"first\", \"well\", \"leaked_document\", \"force\", \"rise\", \"move\", \"focus\", \"wind\", \"reduce\", \"lucrative\", \"solar\", \"setback\", \"ambitious\", \"essential\", \"assessment\", \"break\", \"battle\", \"committing_ecocide\", \"shows_yearly\", \"urge\", \"dark\", \"help\", \"full\", \"target\", \"business\", \"reversing\", \"quietly_shelve\", \"put\"], \"Freq\": [5694.0, 4590.0, 2065.0, 3038.0, 1604.0, 1513.0, 2924.0, 2364.0, 1268.0, 2319.0, 2052.0, 1075.0, 1040.0, 912.0, 764.0, 690.0, 2542.0, 802.0, 608.0, 1189.0, 1128.0, 605.0, 1099.0, 1097.0, 1056.0, 1044.0, 1001.0, 1018.0, 954.0, 979.0, 5693.742315029541, 1055.9313053797266, 1043.796976192874, 978.9235973634975, 1188.2300174681516, 868.7375665906964, 822.6955666681873, 641.1991128208381, 714.6586414793593, 758.7728805747757, 622.1894920401329, 531.9902542524088, 504.5809504626778, 510.21024945598475, 502.86561535789076, 467.41415343925036, 454.9512081497165, 491.6515431353216, 468.84376709791053, 430.64319496975503, 390.8645784013185, 387.50439285797603, 414.98952579380045, 371.7601798641002, 370.45074759350484, 344.1549349490404, 352.2011534944683, 320.88600664925434, 315.63974028085954, 305.1945443657044, 597.9539416780401, 479.73574764775975, 603.844044347728, 1079.28675178533, 636.0205894699144, 386.6998751166773, 790.5972452967077, 536.855986713749, 518.0466104057939, 558.6903733279892, 4589.516403910201, 3038.0785309420403, 2923.7410170534936, 2364.208652141829, 2318.452329164724, 2051.513464434989, 1098.4675725255738, 1096.9726816514174, 1000.9378305215178, 953.3046795317063, 1127.3383203717447, 826.6126779469504, 740.21961917653, 699.5329290241249, 671.9587238616062, 625.7380524102333, 535.2328416256372, 503.8492492710475, 665.0678940150045, 459.5580649395231, 504.6349284923222, 439.22607312675007, 434.820806564385, 342.00390438578046, 327.8520281289206, 337.1580978103984, 333.9063562044248, 329.5033269027944, 307.1133557417116, 286.48130385488633, 1013.4884625394475, 363.89146024815534, 1983.1876551668097, 798.3481275840138, 494.7412272525125, 1603.5785168498855, 1268.2738566245698, 1074.649476680598, 1040.0978153644623, 912.089440328577, 763.6458587230167, 604.379587951068, 493.9498911896963, 478.7480709138735, 368.6441555375975, 340.0342791469421, 344.4206670768914, 355.3297733425399, 329.75643317271647, 291.74966666010147, 278.1959755747848, 264.8297431201711, 274.3476448788832, 278.7036760329385, 227.0533114144304, 224.21417733027394, 258.81890760864746, 212.73776496621275, 228.53670800947182, 267.20754284366154, 192.6394465947114, 189.1173265996229, 180.50467165344972, 160.5289159948414, 158.55988022996704, 195.99997769329855, 253.26633200329698, 276.9591031438349, 2064.301379570337, 1512.337893641499, 689.8019968746468, 608.0981134531512, 449.0305149458081, 412.4181155849882, 415.7084634702224, 398.92646570040404, 377.20742300506964, 346.0047873149928, 339.2788134122651, 300.49803067601357, 276.3437325094161, 262.08441601681943, 248.58596296266586, 251.4386487339242, 268.82742322843166, 251.2703464419655, 231.44464106876376, 215.87507981003608, 233.9652153942158, 182.5424554981607, 219.7480125520504, 203.1563385279274, 160.21506221055026, 169.73215066143737, 173.17421176656464, 159.43111115000508, 159.43111115000508, 208.97440660515758, 203.37940887341566, 277.0354726988391, 164.20037417526456, 214.17776515736122, 614.2920947265308, 195.01666345018822, 189.5332706998334, 237.09091642188676], \"Total\": [5694.0, 4590.0, 2065.0, 3038.0, 1604.0, 1513.0, 2924.0, 2364.0, 1268.0, 2319.0, 2052.0, 1075.0, 1040.0, 912.0, 764.0, 690.0, 2542.0, 802.0, 608.0, 1189.0, 1128.0, 605.0, 1099.0, 1097.0, 1056.0, 1044.0, 1001.0, 1018.0, 954.0, 979.0, 5694.539662504031, 1056.7348549056144, 1044.5931601339717, 979.7281077509248, 1189.2572728427485, 869.5206174960298, 823.5096297425416, 641.9785267022629, 715.5429095949288, 759.7142415173604, 622.9971280546271, 532.7722671834888, 505.36982327874824, 511.0313824233785, 503.68244620867193, 468.2413553422978, 455.7687577349182, 492.56704347670615, 469.72509931654076, 431.4833653205227, 391.63620890373227, 388.27024636896897, 415.85212366451924, 372.53608550008465, 371.2389186158079, 344.94007824063755, 353.0225288244517, 321.6699694586323, 316.4309402204789, 305.9874692751692, 600.3707456118069, 482.78882852265934, 621.181915140354, 1176.0455265662438, 671.749611402026, 400.251794024857, 1589.4855344071948, 814.3175393962645, 1013.3306070176087, 2542.410434041812, 4590.273397000866, 3038.8290609893415, 2924.482560686014, 2364.9739474762355, 2319.2265488156604, 2052.251975050029, 1099.2215073316243, 1097.7353955575873, 1001.6722044956316, 954.0418710728943, 1128.2794271078694, 827.3481519329847, 740.988564707117, 700.2957411200371, 672.6928267158897, 626.523711467967, 535.9695178399959, 504.6275114092531, 666.0995007792516, 460.30620046595226, 505.475091214854, 439.96345053923994, 435.55656657869093, 342.7571912160622, 328.5883594149841, 337.94358608368844, 334.74633814678816, 330.36537333532664, 307.94002676886964, 287.25356635027157, 1018.0250091671102, 365.00103262640636, 2542.410434041812, 1589.4855344071948, 1013.3306070176087, 1604.3042250963217, 1268.9676400375852, 1075.3367200777823, 1040.811530610176, 912.7942948642918, 764.3881933363305, 605.1666530621776, 494.67205235679313, 479.46955300016873, 369.36690189595095, 340.7288529394682, 345.1443058771382, 356.07789201873385, 330.5296047847244, 292.4784347584718, 278.90373930972265, 265.60118036669354, 275.1794984640462, 279.5551692159094, 227.758731831065, 224.9187723321108, 259.66299923797857, 213.44571447484634, 229.33456669663397, 268.1514028563142, 193.36842553962236, 189.8575926353404, 181.2492243462593, 161.22784476904098, 159.29605942022175, 197.09198179487245, 574.5288280525011, 814.3175393962645, 2065.095865274447, 1513.128690191666, 690.583571414736, 608.8911470025291, 449.8291935681531, 413.1894141711929, 416.5079246695093, 399.7183682983744, 378.0012744062328, 346.80352175008574, 340.09269215826754, 301.30662426928046, 277.1044419572781, 262.87995391968303, 249.36909779916886, 252.25570811671597, 269.70413321780444, 252.1005548781166, 232.22527864263904, 216.63317868705215, 234.82860799275994, 183.34097270966032, 220.71997141929594, 204.11519803366153, 160.97319780908336, 170.53673515552396, 173.9952747733978, 160.1884007707011, 160.1884007707011, 209.9825506152625, 204.56001816254178, 279.52724903730956, 165.09923763392595, 218.59638210978576, 802.2257312401449, 201.78214918652102, 195.67044104976821, 377.6656721954979], \"Category\": [\"Default\", \"Default\", \"Default\", \"Default\", \"Default\", \"Default\", \"Default\", \"Default\", \"Default\", \"Default\", \"Default\", \"Default\", \"Default\", \"Default\", \"Default\", \"Default\", \"Default\", \"Default\", \"Default\", \"Default\", \"Default\", \"Default\", \"Default\", \"Default\", \"Default\", \"Default\", \"Default\", \"Default\", \"Default\", \"Default\", \"Topic1\", \"Topic1\", \"Topic1\", \"Topic1\", \"Topic1\", \"Topic1\", \"Topic1\", \"Topic1\", \"Topic1\", \"Topic1\", \"Topic1\", \"Topic1\", \"Topic1\", \"Topic1\", \"Topic1\", \"Topic1\", \"Topic1\", \"Topic1\", \"Topic1\", \"Topic1\", \"Topic1\", \"Topic1\", \"Topic1\", \"Topic1\", \"Topic1\", \"Topic1\", \"Topic1\", \"Topic1\", \"Topic1\", \"Topic1\", \"Topic1\", \"Topic1\", \"Topic1\", \"Topic1\", \"Topic1\", \"Topic1\", \"Topic1\", \"Topic1\", \"Topic1\", \"Topic1\", \"Topic2\", \"Topic2\", \"Topic2\", \"Topic2\", \"Topic2\", \"Topic2\", \"Topic2\", \"Topic2\", \"Topic2\", \"Topic2\", \"Topic2\", \"Topic2\", \"Topic2\", \"Topic2\", \"Topic2\", \"Topic2\", \"Topic2\", \"Topic2\", \"Topic2\", \"Topic2\", \"Topic2\", \"Topic2\", \"Topic2\", \"Topic2\", \"Topic2\", \"Topic2\", \"Topic2\", \"Topic2\", \"Topic2\", \"Topic2\", \"Topic2\", \"Topic2\", \"Topic2\", \"Topic2\", \"Topic2\", \"Topic3\", \"Topic3\", \"Topic3\", \"Topic3\", \"Topic3\", \"Topic3\", \"Topic3\", \"Topic3\", \"Topic3\", \"Topic3\", \"Topic3\", \"Topic3\", \"Topic3\", \"Topic3\", \"Topic3\", \"Topic3\", \"Topic3\", \"Topic3\", \"Topic3\", \"Topic3\", \"Topic3\", \"Topic3\", \"Topic3\", \"Topic3\", \"Topic3\", \"Topic3\", \"Topic3\", \"Topic3\", \"Topic3\", \"Topic3\", \"Topic3\", \"Topic3\", \"Topic3\", \"Topic4\", \"Topic4\", \"Topic4\", \"Topic4\", \"Topic4\", \"Topic4\", \"Topic4\", \"Topic4\", \"Topic4\", \"Topic4\", \"Topic4\", \"Topic4\", \"Topic4\", \"Topic4\", \"Topic4\", \"Topic4\", \"Topic4\", \"Topic4\", \"Topic4\", \"Topic4\", \"Topic4\", \"Topic4\", \"Topic4\", \"Topic4\", \"Topic4\", \"Topic4\", \"Topic4\", \"Topic4\", \"Topic4\", \"Topic4\", \"Topic4\", \"Topic4\", \"Topic4\", \"Topic4\", \"Topic4\", \"Topic4\", \"Topic4\", \"Topic4\"], \"logprob\": [30.0, 29.0, 28.0, 27.0, 26.0, 25.0, 24.0, 23.0, 22.0, 21.0, 20.0, 19.0, 18.0, 17.0, 16.0, 15.0, 14.0, 13.0, 12.0, 11.0, 10.0, 9.0, 8.0, 7.0, 6.0, 5.0, 4.0, 3.0, 2.0, 1.0, -2.5718, -4.2567, -4.2683, -4.3325, -4.1387, -4.4519, -4.5063, -4.7556, -4.6471, -4.5872, -4.7857, -4.9423, -4.9952, -4.9841, -4.9986, -5.0717, -5.0987, -5.0211, -5.0686, -5.1536, -5.2506, -5.2592, -5.1907, -5.3007, -5.3042, -5.3778, -5.3547, -5.4478, -5.4643, -5.498, -4.8254, -5.0457, -4.8156, -4.2349, -4.7637, -5.2613, -4.5461, -4.9332, -4.9689, -4.8933, -2.7488, -3.1614, -3.1997, -3.4122, -3.4317, -3.554, -4.1787, -4.1801, -4.2717, -4.3204, -4.1528, -4.463, -4.5734, -4.63, -4.6702, -4.7414, -4.8977, -4.9581, -4.6805, -5.0501, -4.9565, -5.0954, -5.1054, -5.3455, -5.3878, -5.3598, -5.3695, -5.3828, -5.4532, -5.5227, -4.2592, -5.2835, -3.5879, -4.4978, -4.9763, -2.9203, -3.1548, -3.3205, -3.3532, -3.4845, -3.6622, -3.8961, -4.0978, -4.1291, -4.3904, -4.4712, -4.4584, -4.4272, -4.5019, -4.6244, -4.6719, -4.7212, -4.6859, -4.6701, -4.8751, -4.8877, -4.7441, -4.9402, -4.8686, -4.7122, -5.0394, -5.0579, -5.1045, -5.2218, -5.2341, -5.0221, -4.7658, -4.6764, -2.5805, -2.8916, -3.6767, -3.8027, -4.106, -4.191, -4.1831, -4.2243, -4.2803, -4.3666, -4.3862, -4.5076, -4.5914, -4.6444, -4.6973, -4.6859, -4.619, -4.6865, -4.7687, -4.8384, -4.7579, -5.0061, -4.8206, -4.8991, -5.1365, -5.0788, -5.0588, -5.1414, -5.1414, -4.8708, -4.898, -4.5889, -5.112, -4.8463, -3.7926, -4.94, -4.9685, -4.7446], \"loglift\": [30.0, 29.0, 28.0, 27.0, 26.0, 25.0, 24.0, 23.0, 22.0, 21.0, 20.0, 19.0, 18.0, 17.0, 16.0, 15.0, 14.0, 13.0, 12.0, 11.0, 10.0, 9.0, 8.0, 7.0, 6.0, 5.0, 4.0, 3.0, 2.0, 1.0, 1.003, 1.0024, 1.0024, 1.0024, 1.0023, 1.0023, 1.0022, 1.002, 1.002, 1.0019, 1.0019, 1.0017, 1.0016, 1.0016, 1.0016, 1.0014, 1.0014, 1.0013, 1.0013, 1.0012, 1.0012, 1.0012, 1.0011, 1.0011, 1.0011, 1.0009, 1.0009, 1.0007, 1.0007, 1.0006, 0.9992, 0.9968, 0.9749, 0.9173, 0.9485, 0.9687, 0.3048, 0.5866, 0.3323, -0.5121, 1.0416, 1.0415, 1.0415, 1.0414, 1.0414, 1.0414, 1.0411, 1.041, 1.041, 1.041, 1.0409, 1.0409, 1.0407, 1.0407, 1.0406, 1.0405, 1.0404, 1.0402, 1.0402, 1.0401, 1.0401, 1.0401, 1.0401, 1.0395, 1.0395, 1.0394, 1.0392, 1.0391, 1.0391, 1.039, 1.0373, 1.0387, 0.7933, 0.3531, 0.3248, 1.9214, 1.9213, 1.9212, 1.9212, 1.9211, 1.9209, 1.9205, 1.9204, 1.9203, 1.9199, 1.9198, 1.9198, 1.9197, 1.9195, 1.9194, 1.9193, 1.9189, 1.9188, 1.9188, 1.9187, 1.9187, 1.9186, 1.9185, 1.9184, 1.9183, 1.9181, 1.9179, 1.9177, 1.9175, 1.9172, 1.9163, 1.1027, 0.8434, 2.0087, 2.0085, 2.0079, 2.0077, 2.0073, 2.0072, 2.0071, 2.0071, 2.0069, 2.0067, 2.0067, 2.0064, 2.0063, 2.006, 2.0059, 2.0058, 2.0058, 2.0057, 2.0057, 2.0055, 2.0054, 2.0047, 2.0046, 2.0043, 2.0043, 2.0043, 2.0043, 2.0043, 2.0043, 2.0042, 2.0033, 2.0001, 2.0036, 1.9886, 1.7421, 1.9749, 1.9772, 1.5435]}, \"token.table\": {\"Topic\": [1, 3, 2, 2, 1, 4, 1, 3, 3, 4, 1, 4, 2, 1, 2, 3, 4, 2, 4, 1, 4, 1, 1, 1, 1, 2, 3, 1, 4, 1, 2, 3, 3, 1, 2, 3, 4, 1, 3, 4, 4, 3, 4, 1, 2, 1, 2, 3, 3, 4, 2, 2, 2, 4, 3, 4, 3, 3, 2, 1, 2, 4, 4, 4, 3, 3, 3, 4, 1, 1, 2, 1, 2, 2, 1, 1, 3, 2, 2, 4, 3, 1, 1, 1, 2, 3, 4, 2, 3, 1, 2, 2, 4, 2, 3, 2, 4, 2, 1, 2, 2, 4, 1, 4, 2, 1, 2, 2, 3, 3, 3, 4, 3, 3, 1, 3, 1, 2, 3, 4, 3, 1, 2, 3, 4, 4, 3, 1, 3, 4, 1, 2, 3, 4, 4, 1, 3, 1, 2, 2, 2, 4, 1, 4, 1, 4, 4, 4, 1, 3, 3, 2, 1, 2, 2, 4, 1, 4, 1, 2, 4, 2, 3, 4, 1, 4, 3, 2, 1, 3], \"Freq\": [0.5587187001357339, 0.4403608446552669, 0.999834992797529, 0.9972574526181384, 0.9986450863757337, 0.996738077598206, 0.9994321615758085, 0.9980140978345471, 0.9980946964914555, 0.9939542866618232, 0.9993045985923498, 0.9942798746995055, 0.9997271774842539, 0.9668913563344727, 0.022485845496150528, 0.007495281832050176, 0.004996854554700118, 0.9998772202180373, 0.9968526713318718, 0.23310147346049395, 0.7653706133943492, 0.9979817630406815, 0.9992682125807416, 0.9999052315839356, 0.9984757641236235, 0.9978101577800177, 0.9983977084743457, 0.998638122365093, 0.9925812308195635, 0.2198700856931768, 0.7799684793015556, 0.9966845581466857, 0.9967596730256849, 0.9723399623820796, 0.017708178122852445, 0.004829503124414302, 0.004829503124414302, 0.9983755105139202, 0.9998103694476629, 0.9973511348399403, 0.99768306346478, 0.004888540825242828, 0.9923737875242942, 0.9993039735300444, 0.9988940325929504, 0.9983994660493208, 0.9950639629460367, 0.0039291765565490095, 0.9985868150171742, 0.999254068606998, 0.9993300793974911, 0.9981910951878324, 0.996947370633389, 0.9945364282307013, 0.9990066735972616, 0.9994693392723919, 0.997860900439806, 0.9991298205206136, 0.9989079398876669, 0.9942235023722624, 0.004142597926551093, 0.996787075454832, 0.997389238313097, 0.9966526397065945, 0.9977365297629192, 0.999686870101713, 0.9992374588546982, 0.9933419581478427, 0.9971035026352095, 0.999241262001693, 0.9986658839903856, 0.9985504741311492, 0.9988887523365609, 0.998756485932563, 0.9985609836980892, 0.9967728440726402, 0.9979118134278641, 0.9982094331764169, 0.007154937512847102, 0.9909588455293236, 0.9957061464379839, 0.9984563326132757, 0.9993811490186205, 0.5111855858420732, 0.4884881563548769, 0.9969728757586637, 0.9982028138926101, 0.9994711388517492, 0.9980721788679626, 0.9989428083632877, 0.9990601095422681, 0.9977704367106149, 0.9960143476969295, 0.9995791953699645, 0.9959150927128744, 0.9993347896125616, 0.9970771850789909, 0.9995776911058118, 0.9467813441269999, 0.05210274692522798, 0.9987221715354615, 0.9950220824492306, 0.9988797590837282, 0.9987805161932697, 0.9995881783487405, 0.9966627458661196, 0.9999404399308668, 0.0050737731230526195, 0.9944595321183134, 0.9981414517013208, 0.9957137124290517, 0.9991549590246689, 0.9985411414360551, 0.999492151579898, 0.9988487993985473, 0.9966687036542345, 0.9979508974079289, 0.9989700697132863, 0.370698240023068, 0.6275391634676223, 0.9983642050092791, 0.015331901864712201, 0.010221267909808134, 0.005110633954904067, 0.9710204514317727, 0.9947237499302366, 0.9954829689798733, 0.9983132724174891, 0.9986249632396595, 0.9971213827595784, 0.019823359083674576, 0.009911679541837288, 0.004955839770918644, 0.9663887553291356, 0.9985198735431681, 0.9973488985367592, 0.9990206823410775, 0.49764529646695194, 0.5020492371436507, 0.9993289176912221, 0.9977908816052092, 0.9981402263519116, 0.9174814882808218, 0.08162949293323345, 0.9994012591702207, 0.9925812308195635, 0.99647143506133, 0.9985364428323255, 0.996051197315767, 0.003331274907410592, 0.9974466934452569, 0.9983493445379177, 0.9972746621806535, 0.9991640995250763, 0.01829856451142489, 0.9789732013612314, 0.99905985503716, 0.9981566479454663, 0.9979172147783648, 0.9956360285924423, 0.9953207987407355, 0.998866037014298, 0.9992202905268542, 0.9956634731398646, 0.9992568267204294, 0.9956344607069639, 0.9986414183829646, 0.997207859173706, 0.6594479106984876, 0.34016214387985305], \"Term\": [\"action\", \"action\", \"activist\", \"ad\", \"address\", \"ambitious\", \"amp\", \"annual\", \"ask\", \"assessment\", \"back\", \"battle\", \"big\", \"bloomberg_businessweek\", \"bloomberg_businessweek\", \"bloomberg_businessweek\", \"bloomberg_businessweek\", \"board\", \"break\", \"business\", \"business\", \"carbon\", \"case\", \"change\", \"chevron\", \"clean\", \"co\", \"come\", \"committing_ecocide\", \"company\", \"company\", \"concern\", \"corporation\", \"could_slow\", \"could_slow\", \"could_slow\", \"could_slow\", \"court\", \"crisis\", \"cut\", \"damage\", \"dark\", \"dark\", \"day\", \"decade\", \"director\", \"downplay\", \"downplay\", \"drive\", \"emission\", \"energy\", \"engine\", \"environmental\", \"essential\", \"evil\", \"exxon\", \"exxonmobil\", \"face\", \"fight\", \"find\", \"find\", \"first\", \"focus\", \"force\", \"former\", \"fossil\", \"fuel\", \"full\", \"fund\", \"future\", \"gas\", \"get\", \"giant\", \"go\", \"good\", \"group\", \"grow\", \"hedge_fund\", \"help\", \"help\", \"high\", \"historic\", \"hold\", \"industry\", \"industry\", \"invest\", \"investment\", \"investor\", \"keep\", \"know\", \"large\", \"lawsuit\", \"leaked_document\", \"least\", \"lie\", \"lose\", \"lucrative\", \"major\", \"make\", \"make\", \"member\", \"move\", \"much\", \"need\", \"new\", \"news\", \"oil\", \"onto_consumer\", \"onto_consumer\", \"part\", \"petition\", \"plan\", \"political\", \"pressure\", \"project\", \"protect\", \"public\", \"push\", \"put\", \"put\", \"question\", \"quietly_shelve\", \"quietly_shelve\", \"quietly_shelve\", \"quietly_shelve\", \"reduce\", \"regulation\", \"report\", \"research\", \"reveal\", \"reversing\", \"reversing\", \"reversing\", \"reversing\", \"rise\", \"risk\", \"role\", \"say\", \"say\", \"seat\", \"see\", \"setback\", \"shareholder\", \"shareholder\", \"shell\", \"shows_yearly\", \"solar\", \"strategy\", \"study\", \"study\", \"subsidy\", \"sue\", \"support\", \"take\", \"target\", \"target\", \"technology\", \"time\", \"today\", \"transition\", \"urge\", \"use\", \"vote\", \"well\", \"win\", \"wind\", \"world\", \"xom\", \"year\", \"year\"]}, \"R\": 30, \"lambda.step\": 0.01, \"plot.opts\": {\"xlab\": \"PC1\", \"ylab\": \"PC2\"}, \"topic.order\": [3, 1, 2, 4]};\n",
       "\n",
       "function LDAvis_load_lib(url, callback){\n",
       "  var s = document.createElement('script');\n",
       "  s.src = url;\n",
       "  s.async = true;\n",
       "  s.onreadystatechange = s.onload = callback;\n",
       "  s.onerror = function(){console.warn(\"failed to load library \" + url);};\n",
       "  document.getElementsByTagName(\"head\")[0].appendChild(s);\n",
       "}\n",
       "\n",
       "if(typeof(LDAvis) !== \"undefined\"){\n",
       "   // already loaded: just create the visualization\n",
       "   !function(LDAvis){\n",
       "       new LDAvis(\"#\" + \"ldavis_el969131404270288783841708543938\", ldavis_el969131404270288783841708543938_data);\n",
       "   }(LDAvis);\n",
       "}else if(typeof define === \"function\" && define.amd){\n",
       "   // require.js is available: use it to load d3/LDAvis\n",
       "   require.config({paths: {d3: \"https://d3js.org/d3.v5\"}});\n",
       "   require([\"d3\"], function(d3){\n",
       "      window.d3 = d3;\n",
       "      LDAvis_load_lib(\"https://cdn.jsdelivr.net/gh/bmabey/pyLDAvis@3.3.1/pyLDAvis/js/ldavis.v3.0.0.js\", function(){\n",
       "        new LDAvis(\"#\" + \"ldavis_el969131404270288783841708543938\", ldavis_el969131404270288783841708543938_data);\n",
       "      });\n",
       "    });\n",
       "}else{\n",
       "    // require.js not available: dynamically load d3 & LDAvis\n",
       "    LDAvis_load_lib(\"https://d3js.org/d3.v5.js\", function(){\n",
       "         LDAvis_load_lib(\"https://cdn.jsdelivr.net/gh/bmabey/pyLDAvis@3.3.1/pyLDAvis/js/ldavis.v3.0.0.js\", function(){\n",
       "                 new LDAvis(\"#\" + \"ldavis_el969131404270288783841708543938\", ldavis_el969131404270288783841708543938_data);\n",
       "            })\n",
       "         });\n",
       "}\n",
       "</script>"
      ],
      "text/plain": [
       "PreparedData(topic_coordinates=              x         y  topics  cluster       Freq\n",
       "topic                                                \n",
       "2      0.006024 -0.345976       1        1  36.670798\n",
       "0     -0.346110  0.115922       2        1  35.283969\n",
       "1      0.141301  0.061324       3        1  14.633585\n",
       "3      0.198784  0.168730       4        1  13.411648, topic_info=                 Term         Freq        Total Category  logprob  loglift\n",
       "29             change  5694.000000  5694.000000  Default  30.0000  30.0000\n",
       "41                oil  4590.000000  4590.000000  Default  29.0000  29.0000\n",
       "20              exxon  2065.000000  2065.000000  Default  28.0000  28.0000\n",
       "28                big  3038.000000  3038.000000  Default  27.0000  27.0000\n",
       "52             crisis  1604.000000  1604.000000  Default  26.0000  26.0000\n",
       "...               ...          ...          ...      ...      ...      ...\n",
       "175            target   214.177765   218.596382   Topic4  -4.8463   1.9886\n",
       "17           business   614.292095   802.225731   Topic4  -3.7926   1.7421\n",
       "11056       reversing   195.016663   201.782149   Topic4  -4.9400   1.9749\n",
       "11055  quietly_shelve   189.533271   195.670441   Topic4  -4.9685   1.9772\n",
       "92                put   237.090916   377.665672   Topic4  -4.7446   1.5435\n",
       "\n",
       "[176 rows x 6 columns], token_table=      Topic      Freq      Term\n",
       "term                           \n",
       "63        1  0.558719    action\n",
       "63        3  0.440361    action\n",
       "172       2  0.999835  activist\n",
       "157       2  0.997257        ad\n",
       "931       1  0.998645   address\n",
       "...     ...       ...       ...\n",
       "3040      4  0.995634      wind\n",
       "206       3  0.998641     world\n",
       "778       2  0.997208       xom\n",
       "62        1  0.659448      year\n",
       "62        3  0.340162      year\n",
       "\n",
       "[170 rows x 3 columns], R=30, lambda_step=0.01, plot_opts={'xlab': 'PC1', 'ylab': 'PC2'}, topic_order=[3, 1, 2, 4])"
      ]
     },
     "execution_count": 48,
     "metadata": {},
     "output_type": "execute_result"
    }
   ],
   "source": [
    "# Visualize the topics\n",
    "pyLDAvis.enable_notebook()\n",
    "vis = pyLDAvis.gensim_models.prepare(lda_model, corpus, id2word)\n",
    "vis"
   ]
  },
  {
   "cell_type": "markdown",
   "id": "12e69ee4-15d9-47c5-844d-117d707ab222",
   "metadata": {
    "tags": []
   },
   "source": [
    "# The Following code is still being working on"
   ]
  },
  {
   "cell_type": "markdown",
   "id": "376f4e9e-9158-4afc-933d-8571b63db883",
   "metadata": {
    "tags": []
   },
   "source": [
    "### Find the optimal number of topics"
   ]
  },
  {
   "cell_type": "code",
   "execution_count": 49,
   "id": "7ad00526-2503-4f3f-9f45-cbf49d3eb72e",
   "metadata": {},
   "outputs": [],
   "source": [
    "def compute_coherence_values(dictionary, corpus, texts, limit, start=2, step=3):\n",
    "    \"\"\"\n",
    "    Compute c_v coherence for various number of topics\n",
    "\n",
    "    Parameters:\n",
    "    ----------\n",
    "    dictionary : Gensim dictionary\n",
    "    corpus : Gensim corpus\n",
    "    texts : List of input texts\n",
    "    limit : Max num of topics\n",
    "\n",
    "    Returns:\n",
    "    -------\n",
    "    model_list : List of LDA topic models\n",
    "    coherence_values : Coherence values corresponding to the LDA model with respective number of topics\n",
    "    \"\"\"\n",
    "    coherence_values = []\n",
    "    model_list = []\n",
    "    for num_topics in range(start, limit, step):\n",
    "        model = gensim.models.ldamodel.LdaModel(corpus=corpus, num_topics=num_topics, id2word=id2word)\n",
    "        model_list.append(model)\n",
    "        coherencemodel = CoherenceModel(model=model, texts=texts, dictionary=dictionary, coherence='c_v')\n",
    "        coherence_values.append(coherencemodel.get_coherence())\n",
    "\n",
    "    return model_list, coherence_values"
   ]
  },
  {
   "cell_type": "code",
   "execution_count": null,
   "id": "3900923d-71e3-48cc-9874-a5c45678b06e",
   "metadata": {},
   "outputs": [],
   "source": [
    "# May take a long time to run.\n",
    "model_list, coherence_values = compute_coherence_values(dictionary=id2word, corpus=corpus, texts=tweet_lemmatized, start=2, limit=20, step=2)"
   ]
  },
  {
   "cell_type": "code",
   "execution_count": null,
   "id": "3415d926-fdd9-4d0e-8d5e-7620b147d78b",
   "metadata": {},
   "outputs": [],
   "source": [
    "# Show graph\n",
    "limit=20; start=2; step=2;\n",
    "x = range(start, limit, step)\n",
    "plt.plot(x, coherence_values)\n",
    "plt.xlabel(\"Num Topics\")\n",
    "plt.ylabel(\"Coherence score\")\n",
    "plt.legend((\"coherence_values\"), loc='best')\n",
    "plt.show()"
   ]
  },
  {
   "cell_type": "code",
   "execution_count": null,
   "id": "fa752331-e3ad-4d55-8b56-b4b5b2be33b2",
   "metadata": {},
   "outputs": [],
   "source": [
    "# Print the coherence scores\n",
    "for m, cv in zip(x, coherence_values):\n",
    "    print(\"Num Topics =\", m, \" has Coherence Value of\", round(cv, 4))"
   ]
  },
  {
   "cell_type": "code",
   "execution_count": null,
   "id": "6457081c-f856-4de7-854e-8b8bfca718ad",
   "metadata": {},
   "outputs": [],
   "source": [
    "# Select the model and print the topics\n",
    "optimal_model = model_list[3]\n",
    "model_topics = optimal_model.show_topics(formatted=False)\n",
    "pprint(optimal_model.print_topics(num_words=10))"
   ]
  },
  {
   "cell_type": "code",
   "execution_count": 39,
   "id": "89277f1f-5465-446a-b195-baa74dab95e0",
   "metadata": {},
   "outputs": [
    {
     "name": "stderr",
     "output_type": "stream",
     "text": [
      "/opt/anaconda3/lib/python3.9/site-packages/pyLDAvis/_prepare.py:246: FutureWarning: In a future version of pandas all arguments of DataFrame.drop except for the argument 'labels' will be keyword-only\n",
      "  default_term_info = default_term_info.sort_values(\n"
     ]
    },
    {
     "data": {
      "text/html": [
       "\n",
       "<link rel=\"stylesheet\" type=\"text/css\" href=\"https://cdn.jsdelivr.net/gh/bmabey/pyLDAvis@3.3.1/pyLDAvis/js/ldavis.v1.0.0.css\">\n",
       "\n",
       "\n",
       "<div id=\"ldavis_el969131404270295742569822424157\"></div>\n",
       "<script type=\"text/javascript\">\n",
       "\n",
       "var ldavis_el969131404270295742569822424157_data = {\"mdsDat\": {\"x\": [0.08782276168785927, 0.08521012517623082, 0.08568788064690001, 0.13629581292051232, 0.11306058739282226, -0.29617302574315657, -0.012397417651746324, -0.1995067244294216], \"y\": [-0.007068404621347052, -0.018825341548699998, -0.06731375611492242, 0.04170233279973862, -0.004058362993353074, -0.2017391366480535, -0.03018685027581813, 0.2874895194024551], \"topics\": [1, 2, 3, 4, 5, 6, 7, 8], \"cluster\": [1, 1, 1, 1, 1, 1, 1, 1], \"Freq\": [18.291799319540452, 16.248368935744082, 15.766580208517134, 14.90433172386561, 11.695636111006733, 8.979978553920853, 8.560401030092248, 5.552904117312889]}, \"tinfo\": {\"Term\": [\"fuel\", \"exxon\", \"fossil\", \"oil\", \"big\", \"pressure\", \"plan\", \"activist\", \"chevron\", \"shell\", \"fight\", \"seat\", \"new\", \"win\", \"change\", \"board\", \"shareholder\", \"investor\", \"push\", \"corporation\", \"back\", \"vote\", \"video\", \"crisis\", \"historic\", \"business\", \"director\", \"downplay\", \"year\", \"end\", \"seat\", \"historic\", \"landmark\", \"lucrative\", \"leaked_document\", \"greenpeace\", \"activism\", \"launch\", \"quit\", \"capital\", \"entire\", \"appoint\", \"significant\", \"leadership\", \"video\", \"esg\", \"dismiss\", \"gain\", \"vehicle\", \"voting\", \"expand\", \"sit\", \"deni\", \"weaken\", \"death\", \"ecosearch\", \"pivot\", \"several\", \"attention\", \"jet\", \"catch\", \"describe\", \"present\", \"downplay\", \"push\", \"damage\", \"sting\", \"fraud\", \"biden\", \"reveal\", \"talk\", \"attempt\", \"mobil\", \"business\", \"lobbyist\", \"study\", \"giant\", \"elect\", \"undercover\", \"crisis\", \"use\", \"activist\", \"oil\", \"say\", \"board\", \"energy\", \"know\", \"action\", \"effort\", \"change\", \"company\", \"emission\", \"investor\", \"new\", \"big\", \"victory\", \"defeat\", \"giants_toward\", \"rating\", \"argue\", \"score\", \"sue\", \"supreme_court\", \"stake\", \"release\", \"tiny\", \"attack\", \"side\", \"litigation\", \"meat\", \"undercut\", \"interview\", \"engage\", \"base\", \"aim\", \"worlds_biggest\", \"hour\", \"dow_lead\", \"past\", \"dairy\", \"denialism\", \"wave\", \"development\", \"simple\", \"last_week\", \"black\", \"powerful_signal\", \"tipping_point\", \"lawsuit\", \"evil\", \"big\", \"secretly_recorde\", \"oil\", \"gas\", \"clean\", \"court\", \"industry\", \"coalition\", \"begin\", \"company\", \"major\", \"loss\", \"go\", \"grow\", \"address\", \"new\", \"global\", \"take\", \"giant\", \"change\", \"future\", \"say\", \"amp\", \"fight\", \"make\", \"shell\", \"blow\", \"climatechange\", \"boardroom\", \"worlds_bigg\", \"result\", \"advocate\", \"proxy\", \"coup\", \"reckon\", \"electrification\", \"dupe\", \"language\", \"rebellion\", \"disclosure\", \"technology\", \"old\", \"soul\", \"ploy_ceo\", \"international\", \"condemns_statement\", \"headline\", \"consequence\", \"offer\", \"ccs\", \"customer\", \"surprise\", \"lee_raymond\", \"remove\", \"atmosphere\", \"provide\", \"rather\", \"deploy\", \"suit\", \"datum\", \"infrastructure\", \"heat\", \"stop\", \"political\", \"solution\", \"carbon_capture\", \"measure\", \"adapt\", \"good\", \"invest\", \"bad\", \"support\", \"day\", \"carbon\", \"let\", \"project\", \"find\", \"say\", \"look\", \"change\", \"get\", \"make\", \"engine\", \"amp\", \"help\", \"use\", \"report\", \"company\", \"policy\", \"exxon\", \"work\", \"take\", \"emission\", \"crisis\", \"samp\", \"crucial\", \"say_youre\", \"wind\", \"pledge\", \"dark\", \"ambitious\", \"alter\", \"disclose\", \"wall_street\", \"urge\", \"defend\", \"solar\", \"notice\", \"employee\", \"era\", \"broad\", \"demonstrate\", \"rebuke\", \"however\", \"failure\", \"fault\", \"mount\", \"sake\", \"lend\", \"brilliant\", \"journal\", \"largely\", \"amazing\", \"form\", \"director\", \"proposal\", \"dissident\", \"investor_oust\", \"recent\", \"manager\", \"shareholder\", \"proclimate_campaign\", \"vote\", \"set\", \"fund\", \"xom\", \"bid\", \"die\", \"face\", \"investor\", \"challenge\", \"least\", \"group\", \"activist\", \"board\", \"hedge_fund\", \"management\", \"green\", \"cut\", \"also\", \"lose\", \"transition\", \"member\", \"energy\", \"goal\", \"change\", \"new\", \"company\", \"put\", \"risk\", \"know\", \"emission\", \"effort\", \"exxon\", \"action\", \"pension_fund\", \"bloomberg\", \"here\", \"committing_ecocide\", \"shows_yearly\", \"assessment\", \"spending\", \"offshore_drilling\", \"gasoline\", \"half\", \"petroleum\", \"add\", \"be\", \"deep\", \"force\", \"trajectory\", \"reiterate\", \"weak\", \"affect\", \"dividend\", \"sustainable\", \"suspend\", \"system\", \"email\", \"lack\", \"bring\", \"determine\", \"happy\", \"researcher\", \"percent\", \"increase\", \"word\", \"blame\", \"dutch\", \"win\", \"rise\", \"allege\", \"case\", \"social\", \"investment\", \"total\", \"strategy\", \"emission\", \"change\", \"ground\", \"market\", \"reduce\", \"first\", \"shift\", \"engine\", \"product\", \"demand\", \"activist\", \"show\", \"well\", \"know\", \"board\", \"exxon\", \"amp\", \"big\", \"action\", \"lose\", \"least\", \"investor\", \"petition\", \"lower\", \"essential\", \"subsidy\", \"install\", \"pandemic\", \"sign\", \"subpoena\", \"end\", \"deliver\", \"view\", \"misrepresent\", \"corporation\", \"government_give\", \"taxpayerfunded_subsidie\", \"contribute\", \"stakeholder\", \"bipartisan\", \"shake\", \"hurt\", \"experience\", \"politic\", \"quickly\", \"buck\", \"discussion\", \"pressure\", \"growth\", \"shock\", \"uncertainty\", \"fascinating\", \"fossil\", \"fuel\", \"auto\", \"powerful\", \"texas_governor\", \"year\", \"crisis\", \"pass\", \"role\", \"time\", \"company\", \"setback\", \"power_shift\", \"concerns_cause\", \"referendum\", \"activists_hail\", \"initiative\", \"angst\", \"lowcarbon\", \"pause\", \"return\", \"revolt\", \"matter\", \"breakthrough_victorie\", \"bloomberg_businessweek\", \"number\", \"spent_million\", \"mainstream\", \"natural\", \"div\", \"urgent\", \"could_slow\", \"pack\", \"increasingly\", \"walk\", \"rd\", \"rage_hit\", \"weather\", \"associate\", \"war\", \"decide\", \"liability\", \"handful\", \"election\", \"fire\", \"chevron\", \"expose\", \"lobbying\", \"icymi\", \"sabotage\", \"shell\", \"back\", \"hold\", \"protect\", \"consumer\", \"serious\", \"misinformation\", \"legal\", \"science\", \"change\", \"part\", \"lie\", \"ceo\", \"day\", \"business\", \"study\", \"news\", \"judge\", \"company\", \"risk\", \"work\", \"year\", \"new\", \"week\", \"earning\", \"send\", \"secret\", \"climaterelate\", \"bask\", \"common\", \"aggressive\", \"cite\", \"speed\", \"estimate\", \"respond\", \"confront\", \"rhetoric\", \"shadow_group\", \"scientist_dr\", \"inaction\", \"involve\", \"wednesday\", \"defense\", \"surely\", \"intensify\", \"compensation\", \"worker\", \"overnight\", \"yes_that\", \"australian\", \"perhaps\", \"lawmaker_threaten\", \"troubling\", \"trial\", \"place\", \"eye\", \"document\", \"yesterday\", \"chang_said\", \"plan\", \"join\", \"exxon\", \"engagement\", \"record\", \"fight\", \"amount\", \"new\", \"call\", \"sector\", \"time\", \"member\", \"future\", \"early\", \"effort\", \"global\", \"science\"], \"Freq\": [2133.0, 2616.0, 1955.0, 4611.0, 2799.0, 1174.0, 1013.0, 2898.0, 1195.0, 1546.0, 1179.0, 1258.0, 2028.0, 1212.0, 5777.0, 2110.0, 1238.0, 1821.0, 875.0, 486.0, 752.0, 764.0, 661.0, 1308.0, 606.0, 882.0, 605.0, 681.0, 1008.0, 393.0, 1257.53743755747, 605.0662951353842, 241.02534990394287, 191.1954641858133, 201.7662199859031, 163.00410462599308, 135.11593762227906, 161.09486312863342, 106.65190470338456, 87.40369987517165, 73.18078464535544, 70.20394684081941, 78.66200992805513, 59.78652274107565, 649.7185635896138, 57.11333190496687, 53.84231189149148, 63.48203310623436, 45.132742403871646, 44.977078053610676, 45.588072205079825, 40.77589765753944, 71.5483062179599, 38.16985165154267, 44.324113514618084, 39.40293627058842, 38.95736551494277, 52.862659515523994, 35.80285682059567, 58.981070410333345, 426.0789771578604, 166.26567719092614, 70.60612338366886, 644.2990604833277, 810.1895056181771, 319.90942464171167, 90.35851382921204, 75.00875990875808, 164.824021644235, 440.3093014723786, 312.9273317230142, 84.12917006748286, 162.4144765090881, 636.1753799483707, 803.3047348354486, 376.8566190743505, 596.7035850640593, 205.47798100121136, 101.44979245150951, 574.0717049163675, 417.3485826027253, 752.1485364009305, 988.4155228316232, 528.6201554834896, 569.7830220181993, 369.1572990589851, 337.95168841352546, 319.418659334931, 270.4248576657218, 461.8448448155191, 331.37387531756366, 277.3610419567797, 299.62570501619155, 296.078761513612, 271.4975477186308, 299.4733334697216, 284.0524502972548, 199.71603560275202, 117.72714116874725, 104.4341088486924, 104.30458762617245, 378.77018395920135, 87.21192269053975, 67.23550763904687, 72.52023646608657, 65.19564449116528, 65.55920501164958, 53.7863632649343, 52.27242732263593, 51.47522904180873, 128.49690078703713, 59.82257813081542, 51.197057497776214, 46.76107479890937, 47.029047488515154, 41.216346303025674, 41.746279240351306, 47.27826012926966, 51.158626307537226, 38.04175007734145, 56.183616876249715, 33.79940337450719, 45.78777424803538, 33.043050486926894, 57.15745562524648, 47.090186795263264, 157.44875366964098, 234.84690269030045, 215.98405799756793, 199.57459713608475, 2182.8191487300446, 52.66670742311419, 3348.210605711551, 553.9968517914912, 344.8913194761376, 397.7306885455851, 713.8616229655711, 74.36776298197486, 155.20312969087496, 1143.9394333826021, 365.30711178652564, 145.1816961195913, 308.40416236499846, 135.0731052065953, 257.4113510548183, 594.9195917971773, 176.43652183521596, 271.21596375621186, 358.08981345165336, 833.5325281631048, 220.53756778936128, 303.7163336988478, 250.25949761167638, 249.02845397980178, 189.26384363108235, 173.62002341906978, 362.29163981566865, 162.74237518326765, 193.19817293701777, 136.94682099869874, 111.04722919854953, 102.30046717139116, 210.95742748912863, 95.29138325343929, 125.86974321219142, 99.3202389842153, 79.27729722043401, 76.74746350099443, 128.39380245228648, 72.73614010414553, 417.0641431175189, 134.5267322290753, 61.93671107221897, 64.52490508193297, 58.328661197964365, 61.95132632420332, 58.40807147980278, 58.530286768410065, 49.245244786850954, 45.65170198635008, 123.61875566843698, 54.31976621587857, 48.47409440477609, 72.81745283072924, 47.01294969528987, 56.09529551494858, 83.86133855185707, 93.16013035955564, 121.55575950778703, 106.4140152658866, 201.7121130301916, 113.7528786547238, 241.08661651323555, 139.99082211796355, 126.96608854634385, 108.93147936419803, 88.60284262364858, 78.22259677478421, 349.39622772332245, 206.53099810942655, 229.64802946171864, 295.39884755580925, 382.84944281206464, 323.6592986791788, 161.8254714217174, 216.3632801871083, 262.3972355467592, 619.2909756295402, 230.5215724042117, 1092.1238465654865, 288.1012784087962, 330.62546941213117, 284.83059540270517, 356.2537129070619, 171.92220077956117, 276.3587030686859, 206.29981003975269, 344.0121151194124, 170.81450046147805, 280.1131889643539, 184.92605968295612, 182.97756831426935, 181.05145864846827, 173.45903294763914, 122.1608151196878, 100.69788199658241, 87.68564529270319, 109.94199862441313, 150.08359826575307, 72.82385320738584, 88.13301747172933, 64.33070742117103, 57.9099920613479, 71.10018604670657, 89.91196966112169, 42.89045533548639, 95.83689700799657, 36.24779939509348, 35.94627418555153, 34.24739325186705, 48.1147741816103, 30.524860932624424, 36.52642493781168, 26.724651702264822, 29.187226298307436, 28.41045718713771, 24.44000088803506, 25.57392052354675, 22.69085811248542, 22.977213262483822, 24.835263454112642, 21.018478941353127, 20.168959133195283, 23.238337874120056, 569.8635476980512, 83.16634985075854, 61.403231504774745, 176.62359980578213, 77.94807504974334, 87.3913207483374, 1085.6637395767252, 159.92341654370236, 656.6720024579945, 127.77552850139188, 249.7293932597381, 163.39669018584246, 109.04111853795409, 113.56367226325955, 428.2023298175553, 1186.0673887122398, 176.10880513989576, 541.0736380243254, 215.11308052171444, 1563.1457292453126, 1159.8465296800975, 249.17339753022858, 122.72478024356467, 137.8103077863248, 223.33707235515385, 156.78643723874237, 260.7753123758552, 168.71897616219388, 255.18528295900578, 354.3915200119815, 142.5773173944282, 717.7123726268441, 413.2670077272166, 399.104307841952, 163.2716905878184, 185.7291336023573, 217.50576070813068, 214.17854561231638, 171.34182374203792, 185.20511418617667, 162.87598547351377, 142.95442997823088, 79.38428109797019, 77.59617829388947, 90.39236611910222, 90.39174074965747, 93.09994463698615, 100.81067241140252, 67.09701671320107, 75.9929524072552, 61.29174536300709, 56.8252184325023, 209.91746267145413, 50.812540262122084, 47.34648822412331, 362.1909378141796, 46.44857945479982, 52.818338043891686, 44.81482945159441, 37.517968962019076, 54.836289023012434, 33.66133496607132, 30.09354140707824, 42.75713430727454, 28.189753557082337, 29.757452371587405, 79.02365322957635, 25.577408290572986, 28.197695195606425, 25.387276609517716, 26.785353647058294, 227.6538256035369, 40.667929951151955, 204.76811532092108, 245.11642060913215, 1026.5390955669047, 171.75142003329077, 62.41893781459746, 400.0655029486589, 57.15303930913949, 224.160035940254, 109.90762840936638, 342.2306947256372, 571.7699926023787, 1699.7680528594237, 90.16479805212626, 103.98933121695815, 157.84635810040035, 181.00907937582778, 130.5547374494779, 258.81207786015887, 142.46138428059254, 140.82551742948786, 494.75892213633546, 165.95822993529057, 135.07096741523344, 235.76239902967427, 303.3589475731619, 309.3887486909941, 219.11313849380312, 281.98729545599565, 185.8185799399586, 138.6201216442271, 138.2156127640859, 148.49336589011702, 383.84709125153574, 203.5731002586947, 177.2399597877505, 344.9424164345534, 128.9432157840872, 126.28712759390602, 297.31469581555257, 104.85270547089131, 389.5586607315716, 123.09974188026993, 94.07016258425543, 85.98099058267407, 480.8890763956862, 124.20965629008262, 124.03904993047871, 177.07323721924692, 75.59979543893505, 101.87528243323898, 210.39324139363328, 62.99507889956823, 61.90541629323927, 61.81202259018237, 62.53832127051359, 59.9336911877995, 58.5518604102714, 1156.5617833722495, 56.933611285653825, 54.731161793818714, 47.133778027234065, 42.504401017034446, 1892.501206000404, 2048.0418555145798, 161.7998760316011, 64.09560677268442, 92.73322061327417, 518.2683816349555, 432.51923723391803, 95.80557982244008, 149.08781133625237, 178.75978837684767, 100.87021338623741, 297.07643176652454, 160.45562296318616, 158.95513579978498, 113.34151369324698, 83.97644505303121, 81.74673736336275, 71.59952826051477, 67.97759201621407, 63.64996162444314, 62.08299056724099, 61.575698973744515, 70.95887191228103, 67.21552448483914, 147.622744858185, 51.79888856297319, 51.73093427049741, 50.49227123696967, 46.06928771901372, 43.885360871832226, 43.36907675751456, 321.7042080326586, 41.017232812080145, 40.806463516634736, 45.3976233766871, 38.824807627654124, 42.05398944906191, 34.536541793243686, 34.2488702420369, 58.40516702124212, 52.6910114393958, 82.1519597948537, 39.14661430181592, 97.05790559846237, 93.03401987619482, 979.4823483154281, 101.33099756665831, 82.1661776993953, 51.51759279004233, 54.10950868660706, 1022.063473664069, 491.7558876874252, 379.79696191838053, 130.61798520176185, 136.70081793453662, 84.54162903732787, 70.34422906346785, 76.46644255634332, 216.58126696995848, 872.6815973003771, 108.60757528639049, 139.96873240643637, 143.96552714705882, 194.4898028466448, 219.48855705281832, 132.88718707071254, 121.43649182140825, 85.16516719052092, 161.1723673794853, 105.45354987548554, 98.2135336390561, 100.43001179133626, 86.66947820061364, 85.42272594903189, 225.2554189663628, 140.1553991706278, 153.79757168878396, 73.08971631889835, 65.32753379865046, 60.85101381758133, 60.35768201457836, 70.38653908348896, 69.31234581589945, 59.01613334754941, 73.79819367576965, 54.29101882750275, 51.14206357797542, 50.41434188748748, 40.33623361850718, 39.47479744229861, 44.31420869473069, 62.4498647955165, 32.09004717405738, 26.669067640307084, 27.754806457037986, 25.124825480716392, 24.683314642703532, 23.208301109245824, 21.667469537453385, 22.03274138858924, 19.73232619438156, 60.30932418881636, 22.320668045249427, 16.93187626229159, 92.99682856901173, 37.53032096528271, 153.2568490063285, 122.18537466649126, 95.11207617251772, 765.5612424595565, 127.96015670180932, 1552.7329781963065, 69.28613316268266, 106.15754590731447, 655.4927350593827, 74.06884930500462, 572.6905580653633, 146.56569615759224, 89.24306942345126, 144.0087748066408, 121.07209364536797, 120.86636530773151, 64.86883864307167, 83.48319097364298, 72.45476892269451, 63.257538231401426], \"Total\": [2133.0, 2616.0, 1955.0, 4611.0, 2799.0, 1174.0, 1013.0, 2898.0, 1195.0, 1546.0, 1179.0, 1258.0, 2028.0, 1212.0, 5777.0, 2110.0, 1238.0, 1821.0, 875.0, 486.0, 752.0, 764.0, 661.0, 1308.0, 606.0, 882.0, 605.0, 681.0, 1008.0, 393.0, 1258.5417640578435, 606.0725547864007, 242.02767250968722, 192.3048944444557, 202.97633188481282, 164.00510277759489, 136.15139557604627, 162.37727478722076, 107.68119492210705, 88.42226655240259, 74.19212077041468, 71.20710600933091, 79.82375907719087, 60.78987112138306, 661.2830700904092, 58.15608753078244, 54.9274370369718, 64.93141872487672, 46.164974635332776, 46.034688345826574, 46.698851911280016, 41.781854065503914, 73.42096073100534, 39.170558338049986, 45.51011688173537, 40.46732060272879, 40.02385838278302, 54.311366942290924, 36.804735208983715, 60.64298241572078, 441.05657287216644, 171.10701739891638, 72.6402656173123, 681.514056992792, 875.420730370594, 339.35351503226866, 94.11187582063067, 77.69035360512194, 175.80430448583482, 496.0945907328372, 363.9818082642304, 89.08377488553715, 187.3591303589779, 882.6360085526416, 1190.8630656009254, 527.3231694670455, 1064.1065717415277, 276.01417943330625, 113.75928560528872, 1308.5961277992435, 853.4304700836886, 2898.90508954265, 4611.601426058474, 1719.2046290438063, 2110.362379999007, 1032.3588086176067, 1066.9037550610158, 962.8319050055644, 657.2447709123533, 5777.339185273459, 2566.942437655246, 1316.222767883954, 1821.8247241960144, 2028.3483001810657, 2799.6767154466547, 300.50117561189006, 285.19977868347945, 201.30142308510543, 118.79738212019683, 105.44722908474697, 105.45433970852383, 383.78708396490526, 88.45843488740394, 68.2517018661792, 73.64303589341671, 66.27177176079958, 66.72410767078657, 54.7989791752591, 53.285574803147576, 52.48785573695403, 131.03046435922946, 61.02537281373096, 52.23062652133394, 47.77303333564698, 48.08313833313522, 42.23104487076004, 42.808285393446916, 48.504154752211, 52.51721510247355, 39.05455269721451, 57.85743307692913, 34.816555191439406, 47.29083267839813, 34.15184314777457, 59.09378244889325, 48.715292516882116, 166.58133917011335, 253.04997422173903, 232.96136757943503, 215.99033515749414, 2799.6767154466547, 54.68876341558739, 4611.601426058474, 694.3927531531878, 439.73984253649354, 518.9274385284469, 1012.5837455280962, 80.12280008854177, 201.31452031637565, 2566.942437655246, 611.1743342227853, 192.454151097679, 506.7038722448967, 181.45169453825974, 542.0816379560997, 2028.3483001810657, 311.17426953766153, 640.4513694241302, 1064.1065717415277, 5777.339185273459, 573.4444523032616, 1719.2046290438063, 1153.3001926369702, 1179.7577122725347, 811.3276173541311, 1546.0500681531485, 363.32502066780995, 163.7414405525667, 194.47476190816687, 137.946190075454, 112.0472914507356, 103.29906635749924, 213.13745721139853, 96.32400467379789, 127.26760642461095, 100.45508305854669, 80.2885984444029, 77.74938940116236, 130.1227541115445, 73.81102855810863, 423.31829030898314, 136.6494734892482, 62.99273919676455, 65.62821626055438, 59.32695042510927, 63.04072784912222, 59.54366351817867, 59.730182838051036, 50.28556829303531, 46.652614948337764, 126.41030274048899, 55.56109900047887, 49.59703419392164, 74.50490620788364, 48.10825714714102, 57.43819903541118, 86.33867359544377, 96.52507812353734, 127.01615332017741, 111.36184933510772, 217.5021171921903, 120.18652237870347, 272.88962256537064, 155.2277460350676, 143.7182837241753, 120.66596318906703, 95.78568847191987, 82.81689791866407, 521.3493455303627, 273.41534522726676, 314.4973269644399, 463.25573374025885, 657.1669155738259, 526.8101030485801, 215.6683456280185, 328.85587507611916, 439.2970081003293, 1719.2046290438063, 387.7648607458499, 5777.339185273459, 604.0041819783112, 811.3276173541311, 636.6120333278446, 1153.3001926369702, 275.7390984927211, 853.4304700836886, 503.11066402888565, 2566.942437655246, 331.43926298926976, 2616.2601319864216, 489.3149302309641, 640.4513694241302, 1316.222767883954, 1308.5961277992435, 123.3764750331268, 101.74155969576313, 88.72053993250717, 111.2559300418613, 151.95000706384715, 73.8689488681108, 89.60382973813249, 65.47227318000627, 58.951151194977804, 72.46265427945774, 92.00759126425234, 43.92713103455529, 98.33526897002858, 37.28542431023736, 37.02546629065952, 35.33241624349511, 49.74475178591841, 31.576862511204112, 37.832906935494485, 27.765051451321845, 30.381534143504037, 29.604955943827882, 25.489633716812055, 26.689740090116427, 23.743272682069886, 24.04644374564888, 26.027059482079952, 22.0553652438996, 21.204507068722855, 24.453429627522908, 605.739566339348, 87.71346955299597, 64.95751143082163, 190.91971065086554, 83.05392398999828, 93.95352215753596, 1238.7586145541607, 176.55439190496296, 764.5884687822404, 144.62231094690978, 299.3711663598548, 191.49881062874198, 124.7944955161521, 130.91487161820586, 569.3603906661489, 1821.8247241960144, 216.68603155960014, 803.4180160531657, 279.1979551469527, 2898.90508954265, 2110.362379999007, 350.68271245142256, 148.391777814578, 180.3222503321847, 356.38642413382604, 221.89751133264554, 481.5384348575938, 256.01919620842494, 514.7745375377692, 1032.3588086176067, 212.40401296768357, 5777.339185273459, 2028.3483001810657, 2566.942437655246, 322.035006346835, 480.3026099762705, 1066.9037550610158, 1316.222767883954, 657.2447709123533, 2616.2601319864216, 962.8319050055644, 144.03574618496333, 80.40437723634243, 78.61308533906147, 91.59368554398087, 91.5941103711416, 94.41530758368846, 102.3195426938096, 68.11527802428671, 77.15846825863889, 62.309535539161196, 57.8429969181942, 213.87107867751195, 51.84351643878421, 48.36461105521858, 370.2441596563965, 47.50359294926564, 54.02005460283922, 45.917980022323604, 38.53494625716961, 56.3251945374353, 34.67922294655613, 31.110917345490122, 44.206662708304115, 29.20662751457545, 30.879284128586345, 82.07644740887658, 26.596572700234816, 29.3417392704607, 26.467846182770664, 27.926385840090916, 237.9196742744578, 42.57566685980053, 219.61695032948026, 270.18023624611345, 1212.724205045911, 192.38213462967954, 66.91791037745901, 476.65036236880377, 62.18897106817412, 313.5049238785595, 142.50248534007952, 649.0431214072229, 1316.222767883954, 5777.339185273459, 115.1721810541235, 140.39485812263433, 267.11605758127536, 345.8356709819417, 211.27459389746508, 636.6120333278446, 247.94246467272853, 265.9279535777524, 2898.90508954265, 378.9405325641437, 257.6445451065552, 1066.9037550610158, 2110.362379999007, 2616.2601319864216, 1153.3001926369702, 2799.6767154466547, 962.8319050055644, 481.5384348575938, 803.4180160531657, 1821.8247241960144, 385.27513483047716, 204.49316307756357, 178.16622092954674, 347.26296067603005, 129.8564505220275, 127.20236871696872, 299.49041906430466, 105.76342739634025, 393.23180931536547, 124.2661525480808, 94.98032867344264, 86.89546003249578, 486.006318250689, 125.58690195560052, 125.41940139332478, 179.128340870055, 76.5136066556105, 103.17519463459767, 213.36048684697738, 63.90738369336349, 62.817041501285324, 62.7230532894124, 63.46728482758095, 60.84509278859533, 59.46320384249301, 1174.7951449364273, 57.846027924985556, 55.64149582065131, 48.08188828936739, 43.415916761054596, 1955.1697947235264, 2133.8741370804405, 170.59964216225637, 66.20769655156704, 106.36574519250738, 1008.2415111248915, 1308.5961277992435, 126.55244115860408, 350.78130080781557, 723.3050965451955, 2566.942437655246, 298.074165116394, 161.4259055114589, 159.92542906951897, 114.37537842668853, 85.03257980812762, 82.80986126785335, 72.60898298565442, 68.95167007075273, 64.62295462208493, 63.05502613518305, 62.54766118929202, 72.1949116483869, 68.39369553698582, 150.28346192586503, 52.77001781731417, 52.71720519358179, 51.46539362281764, 47.08374286146699, 44.85693647681347, 44.34272241200593, 329.0726955940288, 41.9906824710909, 41.82116001209222, 46.569193870476504, 39.82929741014348, 43.151041791086264, 35.52253089797594, 35.229511497658606, 60.08808766071581, 54.256389994831544, 84.73399047501157, 40.31475833993998, 102.20520744497436, 98.45453506653476, 1195.0566671636882, 109.85309889497042, 88.0959738443462, 53.52848615305921, 56.6747354226182, 1546.0500681531485, 752.2029178138716, 601.3276013578826, 171.21032182960687, 190.96211509690912, 104.03443613832471, 80.6583399336394, 91.19140257963483, 409.9075742221464, 5777.339185273459, 181.90781534030575, 301.036838491612, 325.09910198669115, 657.1669155738259, 882.6360085526416, 527.3231694670455, 437.55728304584704, 135.74310253670768, 2566.942437655246, 480.3026099762705, 489.3149302309641, 1008.2415111248915, 2028.3483001810657, 380.6171010712642, 226.2333678930207, 141.12159004595446, 155.05557395631556, 74.08382032620804, 66.33372829297153, 61.83623357886591, 61.3435761822193, 71.59118167225347, 70.49863570940425, 60.0285999222057, 75.0948948575508, 55.25437100440746, 52.10523930136243, 51.37647231873808, 41.30062310934792, 40.438627117038074, 45.452952171623906, 64.0635984570589, 33.05750297861314, 27.63708117153108, 28.800033400169756, 26.09380469935545, 25.78349105165363, 24.24284998168728, 22.63402873536932, 23.089479681085823, 20.69497684507408, 63.25328951334299, 23.4143877137565, 17.894734228624724, 98.96106980527966, 39.673330283041615, 167.7100690463499, 137.1450660913577, 106.67541477854788, 1013.783832972679, 157.05382378778236, 2616.2601319864216, 82.10377077765438, 134.88863513475076, 1179.7577122725347, 91.31854437184441, 2028.3483001810657, 339.8880500045409, 173.90101469092724, 723.3050965451955, 514.7745375377692, 573.4444523032616, 109.95351863222291, 657.2447709123533, 311.17426953766153, 409.9075742221464], \"Category\": [\"Default\", \"Default\", \"Default\", \"Default\", \"Default\", \"Default\", \"Default\", \"Default\", \"Default\", \"Default\", \"Default\", \"Default\", \"Default\", \"Default\", \"Default\", \"Default\", \"Default\", \"Default\", \"Default\", \"Default\", \"Default\", \"Default\", \"Default\", \"Default\", \"Default\", \"Default\", \"Default\", \"Default\", \"Default\", \"Default\", \"Topic1\", \"Topic1\", \"Topic1\", \"Topic1\", \"Topic1\", \"Topic1\", \"Topic1\", \"Topic1\", \"Topic1\", \"Topic1\", \"Topic1\", \"Topic1\", \"Topic1\", \"Topic1\", \"Topic1\", \"Topic1\", \"Topic1\", \"Topic1\", \"Topic1\", \"Topic1\", \"Topic1\", \"Topic1\", \"Topic1\", \"Topic1\", \"Topic1\", \"Topic1\", \"Topic1\", \"Topic1\", \"Topic1\", \"Topic1\", \"Topic1\", \"Topic1\", \"Topic1\", \"Topic1\", \"Topic1\", \"Topic1\", \"Topic1\", \"Topic1\", \"Topic1\", \"Topic1\", \"Topic1\", \"Topic1\", \"Topic1\", \"Topic1\", \"Topic1\", \"Topic1\", \"Topic1\", \"Topic1\", \"Topic1\", \"Topic1\", \"Topic1\", \"Topic1\", \"Topic1\", \"Topic1\", \"Topic1\", \"Topic1\", \"Topic1\", \"Topic1\", \"Topic1\", \"Topic1\", \"Topic1\", \"Topic1\", \"Topic1\", \"Topic1\", \"Topic1\", \"Topic2\", \"Topic2\", \"Topic2\", \"Topic2\", \"Topic2\", \"Topic2\", \"Topic2\", \"Topic2\", \"Topic2\", \"Topic2\", \"Topic2\", \"Topic2\", \"Topic2\", \"Topic2\", \"Topic2\", \"Topic2\", \"Topic2\", \"Topic2\", \"Topic2\", \"Topic2\", \"Topic2\", \"Topic2\", \"Topic2\", \"Topic2\", \"Topic2\", \"Topic2\", \"Topic2\", \"Topic2\", \"Topic2\", \"Topic2\", \"Topic2\", \"Topic2\", \"Topic2\", \"Topic2\", \"Topic2\", \"Topic2\", \"Topic2\", \"Topic2\", \"Topic2\", \"Topic2\", \"Topic2\", \"Topic2\", \"Topic2\", \"Topic2\", \"Topic2\", \"Topic2\", \"Topic2\", \"Topic2\", \"Topic2\", \"Topic2\", \"Topic2\", \"Topic2\", \"Topic2\", \"Topic2\", \"Topic2\", \"Topic2\", \"Topic2\", \"Topic2\", \"Topic2\", \"Topic2\", \"Topic2\", \"Topic3\", \"Topic3\", \"Topic3\", \"Topic3\", \"Topic3\", \"Topic3\", \"Topic3\", \"Topic3\", \"Topic3\", \"Topic3\", \"Topic3\", \"Topic3\", \"Topic3\", \"Topic3\", \"Topic3\", \"Topic3\", \"Topic3\", \"Topic3\", \"Topic3\", \"Topic3\", \"Topic3\", \"Topic3\", \"Topic3\", \"Topic3\", \"Topic3\", \"Topic3\", \"Topic3\", \"Topic3\", \"Topic3\", \"Topic3\", \"Topic3\", \"Topic3\", \"Topic3\", \"Topic3\", \"Topic3\", \"Topic3\", \"Topic3\", \"Topic3\", \"Topic3\", \"Topic3\", \"Topic3\", \"Topic3\", \"Topic3\", \"Topic3\", \"Topic3\", \"Topic3\", \"Topic3\", \"Topic3\", \"Topic3\", \"Topic3\", \"Topic3\", \"Topic3\", \"Topic3\", \"Topic3\", \"Topic3\", \"Topic3\", \"Topic3\", \"Topic3\", \"Topic3\", \"Topic3\", \"Topic3\", \"Topic3\", \"Topic3\", \"Topic3\", \"Topic3\", \"Topic3\", \"Topic3\", \"Topic3\", \"Topic4\", \"Topic4\", \"Topic4\", \"Topic4\", \"Topic4\", \"Topic4\", \"Topic4\", \"Topic4\", \"Topic4\", \"Topic4\", \"Topic4\", \"Topic4\", \"Topic4\", \"Topic4\", \"Topic4\", \"Topic4\", \"Topic4\", \"Topic4\", \"Topic4\", \"Topic4\", \"Topic4\", \"Topic4\", \"Topic4\", \"Topic4\", \"Topic4\", \"Topic4\", \"Topic4\", \"Topic4\", \"Topic4\", \"Topic4\", \"Topic4\", \"Topic4\", \"Topic4\", \"Topic4\", \"Topic4\", \"Topic4\", \"Topic4\", \"Topic4\", \"Topic4\", \"Topic4\", \"Topic4\", \"Topic4\", \"Topic4\", \"Topic4\", \"Topic4\", \"Topic4\", \"Topic4\", \"Topic4\", \"Topic4\", \"Topic4\", \"Topic4\", \"Topic4\", \"Topic4\", \"Topic4\", \"Topic4\", \"Topic4\", \"Topic4\", \"Topic4\", \"Topic4\", \"Topic4\", \"Topic4\", \"Topic4\", \"Topic4\", \"Topic4\", \"Topic4\", \"Topic4\", \"Topic4\", \"Topic4\", \"Topic4\", \"Topic4\", \"Topic4\", \"Topic5\", \"Topic5\", \"Topic5\", \"Topic5\", \"Topic5\", \"Topic5\", \"Topic5\", \"Topic5\", \"Topic5\", \"Topic5\", \"Topic5\", \"Topic5\", \"Topic5\", \"Topic5\", \"Topic5\", \"Topic5\", \"Topic5\", \"Topic5\", \"Topic5\", \"Topic5\", \"Topic5\", \"Topic5\", \"Topic5\", \"Topic5\", \"Topic5\", \"Topic5\", \"Topic5\", \"Topic5\", \"Topic5\", \"Topic5\", \"Topic5\", \"Topic5\", \"Topic5\", \"Topic5\", \"Topic5\", \"Topic5\", \"Topic5\", \"Topic5\", \"Topic5\", \"Topic5\", \"Topic5\", \"Topic5\", \"Topic5\", \"Topic5\", \"Topic5\", \"Topic5\", \"Topic5\", \"Topic5\", \"Topic5\", \"Topic5\", \"Topic5\", \"Topic5\", \"Topic5\", \"Topic5\", \"Topic5\", \"Topic5\", \"Topic5\", \"Topic5\", \"Topic5\", \"Topic5\", \"Topic5\", \"Topic5\", \"Topic5\", \"Topic5\", \"Topic6\", \"Topic6\", \"Topic6\", \"Topic6\", \"Topic6\", \"Topic6\", \"Topic6\", \"Topic6\", \"Topic6\", \"Topic6\", \"Topic6\", \"Topic6\", \"Topic6\", \"Topic6\", \"Topic6\", \"Topic6\", \"Topic6\", \"Topic6\", \"Topic6\", \"Topic6\", \"Topic6\", \"Topic6\", \"Topic6\", \"Topic6\", \"Topic6\", \"Topic6\", \"Topic6\", \"Topic6\", \"Topic6\", \"Topic6\", \"Topic6\", \"Topic6\", \"Topic6\", \"Topic6\", \"Topic6\", \"Topic6\", \"Topic6\", \"Topic6\", \"Topic6\", \"Topic6\", \"Topic6\", \"Topic7\", \"Topic7\", \"Topic7\", \"Topic7\", \"Topic7\", \"Topic7\", \"Topic7\", \"Topic7\", \"Topic7\", \"Topic7\", \"Topic7\", \"Topic7\", \"Topic7\", \"Topic7\", \"Topic7\", \"Topic7\", \"Topic7\", \"Topic7\", \"Topic7\", \"Topic7\", \"Topic7\", \"Topic7\", \"Topic7\", \"Topic7\", \"Topic7\", \"Topic7\", \"Topic7\", \"Topic7\", \"Topic7\", \"Topic7\", \"Topic7\", \"Topic7\", \"Topic7\", \"Topic7\", \"Topic7\", \"Topic7\", \"Topic7\", \"Topic7\", \"Topic7\", \"Topic7\", \"Topic7\", \"Topic7\", \"Topic7\", \"Topic7\", \"Topic7\", \"Topic7\", \"Topic7\", \"Topic7\", \"Topic7\", \"Topic7\", \"Topic7\", \"Topic7\", \"Topic7\", \"Topic7\", \"Topic7\", \"Topic7\", \"Topic7\", \"Topic7\", \"Topic7\", \"Topic7\", \"Topic7\", \"Topic7\", \"Topic7\", \"Topic8\", \"Topic8\", \"Topic8\", \"Topic8\", \"Topic8\", \"Topic8\", \"Topic8\", \"Topic8\", \"Topic8\", \"Topic8\", \"Topic8\", \"Topic8\", \"Topic8\", \"Topic8\", \"Topic8\", \"Topic8\", \"Topic8\", \"Topic8\", \"Topic8\", \"Topic8\", \"Topic8\", \"Topic8\", \"Topic8\", \"Topic8\", \"Topic8\", \"Topic8\", \"Topic8\", \"Topic8\", \"Topic8\", \"Topic8\", \"Topic8\", \"Topic8\", \"Topic8\", \"Topic8\", \"Topic8\", \"Topic8\", \"Topic8\", \"Topic8\", \"Topic8\", \"Topic8\", \"Topic8\", \"Topic8\", \"Topic8\", \"Topic8\", \"Topic8\", \"Topic8\", \"Topic8\", \"Topic8\", \"Topic8\", \"Topic8\", \"Topic8\", \"Topic8\"], \"logprob\": [30.0, 29.0, 28.0, 27.0, 26.0, 25.0, 24.0, 23.0, 22.0, 21.0, 20.0, 19.0, 18.0, 17.0, 16.0, 15.0, 14.0, 13.0, 12.0, 11.0, 10.0, 9.0, 8.0, 7.0, 6.0, 5.0, 4.0, 3.0, 2.0, 1.0, -3.3865, -4.1181, -5.0385, -5.2701, -5.2163, -5.4296, -5.6173, -5.4414, -5.8538, -6.0529, -6.2305, -6.272, -6.1582, -6.4326, -4.0469, -6.4784, -6.5373, -6.3726, -6.7138, -6.7172, -6.7037, -6.8153, -6.253, -6.8813, -6.7319, -6.8496, -6.8609, -6.5557, -6.9454, -6.4462, -4.4688, -5.4098, -6.2663, -4.0552, -3.8261, -4.7554, -6.0196, -6.2058, -5.4185, -4.4359, -4.7774, -6.091, -5.4332, -4.0679, -3.8347, -4.5915, -4.132, -5.1981, -5.9038, -4.1706, -4.4895, -3.9005, -3.6273, -4.2531, -4.1781, -4.6122, -4.7005, -4.7569, -4.9234, -4.3882, -4.7201, -4.8981, -4.8209, -4.8328, -4.9194, -4.7029, -4.7558, -5.108, -5.6366, -5.7564, -5.7576, -4.468, -5.9366, -6.1967, -6.1211, -6.2275, -6.222, -6.4199, -6.4485, -6.4638, -5.549, -6.3135, -6.4692, -6.5599, -6.5542, -6.6861, -6.6733, -6.5489, -6.47, -6.7662, -6.3763, -6.8845, -6.5809, -6.9071, -6.3591, -6.5529, -5.3458, -4.946, -5.0297, -5.1087, -2.7166, -6.4409, -2.2887, -4.0878, -4.5617, -4.4192, -3.8342, -6.0959, -5.3602, -3.3627, -4.5042, -5.4269, -4.6735, -5.4991, -4.8543, -4.0165, -5.232, -4.802, -4.5241, -3.6793, -5.0089, -4.6888, -4.8824, -4.8874, -5.1618, -5.2481, -4.4824, -5.2827, -5.1111, -5.4552, -5.6649, -5.7469, -5.0232, -5.8179, -5.5396, -5.7765, -6.0019, -6.0343, -5.5197, -6.088, -4.3416, -5.4731, -6.2487, -6.2078, -6.3087, -6.2485, -6.3074, -6.3053, -6.478, -6.5538, -5.5576, -6.3799, -6.4938, -6.0869, -6.5244, -6.3478, -5.9457, -5.8405, -5.5745, -5.7075, -5.068, -5.6408, -4.8897, -5.4333, -5.5309, -5.6841, -5.8907, -6.0153, -4.5186, -5.0444, -4.9383, -4.6865, -4.4272, -4.5951, -5.2883, -4.9979, -4.805, -3.9463, -4.9345, -3.379, -4.7115, -4.5738, -4.7229, -4.4992, -5.2278, -4.7531, -5.0455, -4.5342, -5.2343, -4.7396, -5.1549, -5.1655, -5.176, -5.2189, -5.5133, -5.7065, -5.8448, -5.6186, -5.3074, -6.0305, -5.8397, -6.1546, -6.2597, -6.0545, -5.8198, -6.5599, -5.7559, -6.7282, -6.7366, -6.785, -6.445, -6.9, -6.7206, -7.033, -6.9449, -6.9718, -7.1224, -7.077, -7.1966, -7.1841, -7.1063, -7.2732, -7.3144, -7.1728, -3.9732, -5.8977, -6.2011, -5.1446, -5.9625, -5.8482, -3.3286, -5.2439, -3.8314, -5.4683, -4.7982, -5.2224, -5.6269, -5.5862, -4.259, -3.2402, -5.1475, -4.025, -4.9474, -2.9641, -3.2625, -4.8004, -5.5086, -5.3927, -4.9099, -5.2637, -4.7549, -5.1904, -4.7766, -4.4482, -5.3587, -3.7425, -4.2945, -4.3294, -5.2232, -5.0943, -4.9364, -4.9518, -5.1749, -5.0971, -5.2256, -5.1136, -5.7019, -5.7246, -5.572, -5.572, -5.5425, -5.4629, -5.87, -5.7455, -5.9605, -6.0362, -4.7294, -6.148, -6.2187, -4.184, -6.2378, -6.1093, -6.2736, -6.4513, -6.0718, -6.5598, -6.6718, -6.3206, -6.7372, -6.6831, -5.7064, -6.8344, -6.7369, -6.8419, -6.7883, -4.6483, -6.3707, -4.7543, -4.5744, -3.1422, -4.9301, -5.9423, -4.0845, -6.0304, -4.6638, -5.3765, -4.2407, -3.7274, -2.6379, -5.5745, -5.4319, -5.0145, -4.8776, -5.2044, -4.5201, -5.1171, -5.1286, -3.8721, -4.9644, -5.1704, -4.6133, -4.3612, -4.3416, -4.6866, -4.4343, -4.8514, -5.1444, -5.1473, -5.0756, -3.8617, -4.4959, -4.6344, -3.9686, -4.9526, -4.9734, -4.1171, -5.1594, -3.8469, -4.9989, -5.2679, -5.3578, -3.6363, -4.99, -4.9913, -4.6354, -5.4865, -5.1882, -4.463, -5.6689, -5.6863, -5.6878, -5.6762, -5.7187, -5.742, -2.7587, -5.77, -5.8095, -5.9589, -6.0623, -2.2663, -2.1873, -4.7256, -5.6516, -5.2822, -3.5614, -3.7423, -5.2496, -4.8074, -4.6259, -5.1981, -4.0701, -4.6861, -4.6955, -5.0337, -5.3335, -5.3605, -5.493, -5.5449, -5.6107, -5.6356, -5.6438, -5.502, -5.5562, -4.7694, -5.8167, -5.818, -5.8423, -5.9339, -5.9825, -5.9943, -3.9905, -6.0501, -6.0552, -5.9486, -6.105, -6.0251, -6.2221, -6.2304, -5.6967, -5.7996, -5.3555, -6.0968, -5.1888, -5.2311, -2.8771, -5.1457, -5.3553, -5.8222, -5.7731, -2.8345, -3.5661, -3.8244, -4.8918, -4.8463, -5.3268, -5.5107, -5.4272, -4.3861, -2.9925, -5.0763, -4.8227, -4.7945, -4.4937, -4.3728, -4.8746, -4.9647, -5.3195, -4.6816, -5.1058, -5.1769, -5.1546, -5.302, -5.3165, -3.914, -4.3885, -4.2956, -5.0396, -5.1518, -5.2228, -5.231, -5.0773, -5.0926, -5.2534, -5.0299, -5.3369, -5.3967, -5.411, -5.634, -5.6556, -5.54, -5.1969, -5.8627, -6.0478, -6.0079, -6.1074, -6.1251, -6.1867, -6.2554, -6.2387, -6.349, -5.2318, -6.2257, -6.5021, -4.7987, -5.7061, -4.2991, -4.5257, -4.7762, -2.6907, -4.4795, -1.9835, -5.093, -4.6663, -2.8459, -5.0263, -2.9809, -4.3438, -4.8399, -4.3614, -4.5349, -4.5366, -5.1589, -4.9066, -5.0483, -5.184], \"loglift\": [30.0, 29.0, 28.0, 27.0, 26.0, 25.0, 24.0, 23.0, 22.0, 21.0, 20.0, 19.0, 18.0, 17.0, 16.0, 15.0, 14.0, 13.0, 12.0, 11.0, 10.0, 9.0, 8.0, 7.0, 6.0, 5.0, 4.0, 3.0, 2.0, 1.0, 1.6979, 1.6971, 1.6946, 1.6929, 1.6927, 1.6926, 1.6911, 1.6908, 1.6891, 1.6871, 1.685, 1.6845, 1.6841, 1.6821, 1.6811, 1.6806, 1.6788, 1.6761, 1.6761, 1.6755, 1.6746, 1.6743, 1.6729, 1.6728, 1.6723, 1.6721, 1.6717, 1.6717, 1.6711, 1.6709, 1.6642, 1.67, 1.6703, 1.6426, 1.6213, 1.6397, 1.658, 1.6636, 1.6342, 1.5794, 1.5476, 1.6415, 1.5558, 1.3713, 1.305, 1.3628, 1.1202, 1.4036, 1.5842, 0.8748, 0.9834, 0.3496, 0.1585, 0.5194, 0.3894, 0.6703, 0.5491, 0.5953, 0.8107, -0.8278, -0.3485, 0.1415, -0.1063, -0.2256, -0.6346, 1.8138, 1.8131, 1.8093, 1.8081, 1.8075, 1.8062, 1.804, 1.803, 1.8022, 1.8018, 1.8008, 1.7996, 1.7985, 1.798, 1.7977, 1.7977, 1.7973, 1.7972, 1.7958, 1.795, 1.7929, 1.7921, 1.7916, 1.791, 1.7909, 1.7878, 1.7875, 1.7849, 1.7842, 1.7839, 1.7832, 1.7608, 1.7425, 1.7415, 1.7381, 1.5683, 1.7795, 1.497, 1.5913, 1.5742, 1.5512, 1.4676, 1.7426, 1.557, 1.0089, 1.3025, 1.5353, 1.3207, 1.522, 1.0724, 0.5906, 1.2498, 0.9579, 0.7281, -0.1188, 0.8616, 0.0837, 0.2893, 0.2617, 0.3616, -0.3694, 1.8444, 1.8412, 1.8407, 1.84, 1.8383, 1.8376, 1.837, 1.8365, 1.8362, 1.8359, 1.8346, 1.8343, 1.8339, 1.8326, 1.8324, 1.8316, 1.8304, 1.8303, 1.8303, 1.8298, 1.828, 1.827, 1.8264, 1.8256, 1.8249, 1.8247, 1.8244, 1.8244, 1.8242, 1.8236, 1.8182, 1.8118, 1.8033, 1.8018, 1.7719, 1.7923, 1.7234, 1.744, 1.7233, 1.745, 1.7693, 1.7902, 1.4471, 1.5667, 1.5328, 1.3973, 1.307, 1.3601, 1.5601, 1.4286, 1.332, 0.8262, 1.3272, 0.1815, 1.107, 0.9496, 1.043, 0.6725, 1.3749, 0.7197, 0.9558, -0.1625, 1.1844, -0.387, 0.8742, 0.5945, -0.1365, -0.1735, 1.8936, 1.8932, 1.8918, 1.8916, 1.8912, 1.8893, 1.887, 1.8859, 1.8857, 1.8845, 1.8805, 1.8796, 1.8778, 1.8753, 1.8739, 1.8723, 1.8702, 1.8696, 1.8684, 1.8653, 1.8634, 1.8623, 1.8615, 1.8608, 1.8582, 1.858, 1.8566, 1.8554, 1.8534, 1.8526, 1.8425, 1.8503, 1.8472, 1.8257, 1.8401, 1.8311, 1.7716, 1.8046, 1.7514, 1.7797, 1.7222, 1.7448, 1.7686, 1.7613, 1.6186, 1.4743, 1.6962, 1.5082, 1.6428, 1.2859, 1.3049, 1.5618, 1.7136, 1.6347, 1.4362, 1.5562, 1.2902, 1.4865, 1.2018, 0.8343, 1.5049, -0.1821, 0.3126, 0.0423, 1.2243, 0.9534, 0.3132, 0.0878, 0.5591, -0.7445, 0.1266, 2.1384, 2.1332, 2.1329, 2.1328, 2.1327, 2.1319, 2.1311, 2.1309, 2.1307, 2.1295, 2.1282, 2.1273, 2.1259, 2.1247, 2.124, 2.1235, 2.1235, 2.1216, 2.1192, 2.1192, 2.1162, 2.1127, 2.1126, 2.1105, 2.1089, 2.1081, 2.1069, 2.1062, 2.1043, 2.1042, 2.1018, 2.1001, 2.0759, 2.0486, 1.9793, 2.0325, 2.0764, 1.9708, 2.0615, 1.8105, 1.8862, 1.5059, 1.3122, 0.9225, 1.9012, 1.8458, 1.6199, 1.4985, 1.6646, 1.2459, 1.5918, 1.5103, 0.3779, 1.3203, 1.5002, 0.6363, 0.2063, 0.0111, 0.4852, -0.1494, 0.5008, 0.9007, 0.3859, -0.3611, 2.4065, 2.4057, 2.405, 2.4035, 2.4031, 2.403, 2.4029, 2.4015, 2.4008, 2.4007, 2.4005, 2.3996, 2.3996, 2.3991, 2.3991, 2.3986, 2.3982, 2.3975, 2.3962, 2.3958, 2.3956, 2.3955, 2.3954, 2.3951, 2.3947, 2.3945, 2.3943, 2.3937, 2.3903, 2.389, 2.3776, 2.3691, 2.3572, 2.3778, 2.273, 1.7447, 1.3031, 2.1318, 1.5545, 1.0124, -0.8265, 2.4547, 2.452, 2.4519, 2.4489, 2.4455, 2.4451, 2.444, 2.4438, 2.4429, 2.4425, 2.4424, 2.4408, 2.4406, 2.4402, 2.4394, 2.4391, 2.4389, 2.4362, 2.4361, 2.4358, 2.4354, 2.4346, 2.4335, 2.4325, 2.4325, 2.4323, 2.4299, 2.4298, 2.4296, 2.4287, 2.4271, 2.4286, 2.4063, 2.4014, 2.2591, 2.3773, 2.3883, 2.4197, 2.4117, 2.0441, 2.033, 1.9985, 2.1874, 2.1237, 2.2505, 2.3212, 2.2819, 1.8201, 0.5679, 1.9423, 1.6922, 1.6435, 1.2405, 1.0664, 1.0797, 1.1762, 1.9919, -0.31, 0.9419, 0.8522, 0.1515, -0.6949, 0.9638, 2.8865, 2.884, 2.8827, 2.8773, 2.8756, 2.8748, 2.8746, 2.8739, 2.8739, 2.8738, 2.8734, 2.8733, 2.8722, 2.8719, 2.8672, 2.8667, 2.8655, 2.8653, 2.8611, 2.8552, 2.8539, 2.853, 2.8472, 2.8472, 2.8472, 2.844, 2.8432, 2.8432, 2.843, 2.8355, 2.8287, 2.8353, 2.8007, 2.7753, 2.7761, 2.61, 2.686, 2.3691, 2.7211, 2.6513, 2.3032, 2.6815, 1.6262, 2.0497, 2.2237, 1.2769, 1.4435, 1.3339, 2.3632, 0.8274, 1.4335, 1.0221]}, \"token.table\": {\"Topic\": [1, 2, 3, 4, 5, 6, 7, 8, 1, 1, 2, 3, 4, 5, 6, 7, 8, 7, 2, 3, 2, 5, 6, 1, 2, 3, 4, 5, 6, 7, 3, 5, 8, 2, 5, 6, 1, 3, 4, 5, 6, 7, 4, 4, 4, 1, 3, 6, 7, 8, 1, 2, 3, 4, 5, 6, 7, 8, 7, 1, 2, 5, 7, 3, 2, 1, 5, 6, 1, 8, 2, 3, 6, 1, 2, 3, 4, 6, 7, 1, 3, 4, 5, 7, 2, 8, 5, 1, 2, 4, 8, 1, 5, 6, 7, 1, 2, 3, 4, 5, 6, 7, 8, 2, 6, 2, 6, 4, 5, 8, 5, 3, 7, 3, 1, 3, 4, 5, 6, 3, 7, 4, 1, 5, 6, 1, 4, 6, 1, 3, 4, 5, 6, 7, 8, 1, 2, 3, 4, 5, 6, 7, 8, 1, 1, 2, 3, 4, 5, 6, 7, 8, 2, 3, 4, 5, 7, 1, 3, 4, 5, 6, 7, 1, 2, 3, 5, 7, 3, 1, 2, 3, 4, 5, 6, 7, 8, 1, 2, 3, 4, 5, 2, 8, 1, 2, 3, 4, 5, 6, 7, 8, 1, 2, 3, 4, 5, 6, 7, 8, 8, 1, 2, 3, 4, 5, 3, 8, 1, 2, 7, 5, 8, 1, 2, 3, 4, 5, 6, 7, 8, 8, 7, 3, 8, 3, 1, 4, 7, 1, 6, 1, 2, 4, 5, 6, 3, 7, 3, 2, 5, 1, 2, 3, 4, 5, 6, 7, 8, 4, 3, 4, 1, 2, 3, 4, 5, 6, 7, 2, 1, 2, 4, 7, 4, 1, 3, 6, 1, 2, 3, 7, 8, 1, 1, 7, 5, 2, 4, 8, 6, 1, 2, 3, 5, 6, 4, 1, 5, 2, 8, 3, 6, 1, 3, 5, 5, 2, 1, 4, 5, 7, 1, 2, 4, 5, 6, 4, 3, 6, 1, 2, 4, 8, 7, 5, 6, 1, 2, 3, 5, 6, 8, 2, 1, 4, 6, 7, 3, 2, 4, 5, 8, 1, 2, 3, 4, 5, 7, 8, 8, 1, 1, 2, 3, 4, 5, 6, 7, 8, 1, 5, 4, 7, 3, 5, 1, 2, 3, 4, 5, 6, 7, 8, 4, 1, 2, 4, 6, 1, 2, 3, 4, 5, 6, 7, 8, 2, 1, 7, 8, 1, 3, 4, 5, 1, 4, 1, 6, 8, 1, 2, 1, 6, 1, 7, 8, 1, 2, 3, 4, 5, 6, 7, 8, 6, 8, 1, 2, 3, 4, 5, 6, 7, 4, 6, 4, 1, 2, 3, 4, 5, 6, 8, 1, 2, 3, 4, 5, 6, 7, 8, 1, 3, 7, 1, 2, 3, 4, 5, 6, 8, 3, 5, 4, 1, 2, 3, 4, 5, 6, 7, 1, 4, 1, 2, 3, 4, 5, 6, 7, 1, 2, 3, 4, 5, 6, 7, 8, 1, 2, 3, 4, 5, 6, 7, 8, 1, 6, 1, 2, 3, 4, 5, 6, 7, 5, 1, 2, 3, 4, 5, 6, 7, 8, 1, 2, 3, 4, 5, 6, 7, 2, 1, 2, 3, 5, 6, 7, 8, 1, 2, 3, 4, 5, 6, 7, 1, 2, 3, 4, 5, 6, 8, 1, 2, 3, 4, 5, 6, 7, 6, 1, 2, 3, 4, 6, 8, 1, 2, 3, 4, 5, 1, 2, 3, 4, 5, 6, 7, 2, 6, 7, 6, 5, 7, 5, 3, 3, 4, 1, 2, 3, 4, 1, 2, 3, 4, 5, 6, 7, 5, 1, 1, 2, 3, 5, 6, 7, 8, 2, 4, 6, 5, 7, 8, 1, 5, 6, 7, 1, 2, 3, 4, 5, 6, 7, 8, 2, 3, 5, 7, 6, 8, 3, 2, 1, 2, 3, 4, 5, 3, 4, 5, 6, 8, 1, 2, 3, 4, 5, 6, 7, 8, 1, 4, 5, 8, 1, 6, 1, 5, 6, 7, 8, 4, 1, 7, 1, 2, 3, 4, 5, 7, 8, 5, 1, 3, 4, 1, 2, 8, 1, 1, 6, 8, 1, 2, 1, 1, 1, 2, 4, 5, 8, 3, 4, 7, 4, 1, 2, 3, 4, 5, 6, 7, 7, 8, 1, 3, 4, 5, 7, 8, 2, 2, 3, 6, 7, 1, 2, 3, 4, 5, 6, 7, 8, 1, 2, 3, 4, 5, 6, 7, 8, 1, 2, 3, 4, 5, 6, 2, 5, 7, 7, 6, 1, 7, 1, 2, 3, 4, 5, 6, 7, 1, 2, 3, 4, 5, 6, 7, 8, 1, 4, 8, 2, 3, 4, 1, 2, 5, 7, 7, 3, 5, 8, 2, 1, 2, 3, 4, 5, 7, 8, 2, 3, 4, 5, 7, 8, 6, 1, 3, 5, 6, 7, 4, 7, 1, 2, 3, 4, 5, 6, 7, 8, 1, 2, 3, 4, 5, 6, 7, 8, 4, 7, 3, 5, 1, 2, 3, 4, 5, 6, 7, 8, 1, 3, 8, 7, 6, 1, 2, 4, 5, 6, 7, 1, 2, 3, 5, 6, 2, 7, 5, 5, 8, 6, 5, 1, 2, 5, 8, 1, 2, 3, 4, 5, 6, 7, 8, 4, 7, 3, 1, 2, 3, 4, 5, 6, 7, 8, 6, 1, 3, 4, 7, 2, 6, 2, 3, 4, 8, 1, 3, 1, 2, 4, 5, 6, 1, 4, 5, 1, 2, 3, 4, 5, 7, 8, 1, 3, 5, 6, 4, 7, 1, 4, 7, 3, 3, 5, 1, 3, 4, 6, 1, 2, 3, 4, 5, 6, 7, 8, 6, 1, 7, 1, 3, 6, 2, 7, 3, 7, 4, 1, 2, 3, 4, 5, 6, 3, 6, 5, 6, 8, 1, 2, 3, 4, 5, 6, 7, 5, 2, 2, 3, 1, 2, 3, 4, 5, 6, 7, 8, 5, 8, 3, 7, 1, 4, 5, 7, 8, 7, 8, 1, 5, 6, 7, 8, 1, 2, 3, 4, 5, 6, 7, 8, 1, 2, 4, 5, 6, 8, 4, 6, 7, 4, 4, 1, 2, 3, 4, 5, 6, 7, 8, 4, 1, 2, 3, 4, 5, 6, 7, 8, 8, 2, 1, 8, 2, 7, 1, 3, 5, 8, 8, 1, 3, 4, 5, 7, 1, 4, 6, 7, 1, 4, 8, 2, 6, 1, 2, 3, 4, 5, 6, 7, 8, 1, 2, 3, 4, 5, 6, 7, 8, 2, 5, 6, 1, 2, 3, 5, 6, 7, 8, 5, 2, 1, 6, 1, 2, 1, 5, 6, 7, 1, 2, 4, 1, 2, 3, 4, 5, 6, 7, 3, 8, 2, 5, 7, 2, 6, 1, 5, 2, 3, 4, 5, 6, 7, 8, 1, 2, 3, 4, 5, 6, 7, 8, 1, 2, 3, 5, 6, 7, 6, 1, 6, 2, 3, 4, 5, 1, 3, 5, 1, 3, 4, 6, 7, 2, 8, 3, 5, 5, 5, 6, 1, 2, 3, 4, 5, 6, 7, 1, 3, 5, 6, 7, 8, 6, 2, 3, 5, 5, 6, 7, 1, 2, 3, 4, 5, 6, 7, 8, 2, 1, 2, 4, 2, 4, 5, 8, 5, 1, 2, 4, 5, 6, 8, 8, 8, 6, 1, 2, 5, 8, 2, 7, 4, 8, 7, 1, 2, 3, 4, 5, 6, 7, 8, 1, 2, 1, 3, 4, 5, 6, 7, 6, 1, 3, 4, 5, 6, 7, 1, 7, 4, 7, 8, 2, 5, 1, 7, 4, 8, 1, 2, 3, 4, 6, 7, 8, 1, 2, 3, 4, 5, 6, 1, 2, 5, 4, 5, 1, 2, 3, 4, 6, 7, 8, 8, 3, 2, 1, 2, 4, 6, 8, 1, 2, 3, 4, 5, 6, 7, 8, 8, 1, 6, 8], \"Freq\": [0.3313143222005677, 0.09139705440015662, 0.16098344809118495, 0.16929227121847193, 0.19318013770942194, 0.006231617345465224, 0.03323529250914786, 0.01454044047275219, 0.9915432701135761, 0.2594082858085707, 0.018627722651147365, 0.010003776979319881, 0.5391690834026543, 0.17075412430218417, 0.001034873480619298, 0.00034495782687309935, 0.0006899156537461987, 0.9878566567019653, 0.048299321763155996, 0.9418367743815419, 0.014027142045342118, 0.9818999431739482, 0.0046757140151140394, 0.07747910473108731, 0.4740983313307009, 0.016602665299518708, 0.13466606298498507, 0.22505835183792025, 0.001844740588835412, 0.06825540178691024, 0.9874242197600953, 0.9861178927407981, 0.9780975243727518, 0.977473634819115, 0.9265083092146944, 0.05977472962675448, 0.04506585017534986, 0.02253292508767493, 0.7075338477529927, 0.13970413554358455, 0.0630921902454898, 0.01802634007013994, 0.9775130279048282, 0.9431957052894886, 0.9821008795849498, 0.03285203482640015, 0.1314081393056006, 0.021901356550933435, 0.010950678275466717, 0.810350192384537, 0.05636000099105191, 0.2167692345809689, 0.3086793900432997, 0.09451138627730243, 0.18988984949292875, 0.059828308744347414, 0.07196738588088167, 0.0017341538766477511, 0.9916128423700035, 0.9830479557872674, 0.9862753237111253, 0.9850097656840873, 0.9650999561052579, 0.9769632655003201, 0.9891477354128244, 0.9429326508438911, 0.04490155480209005, 0.011225388700522513, 0.9781350088673567, 0.9528148881597236, 0.04103173905454233, 0.00586167700779176, 0.9495916752622652, 0.06248313970463736, 0.09704828081784102, 0.0691302822264073, 0.10768370885267291, 0.009305999530477905, 0.6540788241421613, 0.05087483621699944, 0.7313257706193669, 0.03497644989918711, 0.16852289496881065, 0.009539031790687394, 0.9838186256623952, 0.9798936630384931, 0.9837295674227613, 0.22353082097247776, 0.7699394944607567, 0.8734359600491528, 0.12019760918107607, 0.938543572539742, 0.051193285774895014, 0.005688142863877224, 0.005688142863877224, 0.09679689033552047, 0.7797328841418494, 0.0028574727774323388, 0.014644547984340736, 0.10072591540448994, 0.0014287363887161694, 0.002500288680253296, 0.0007143681943580847, 0.009692252130384358, 0.9886097172992044, 0.964789444376472, 0.020527434986733446, 0.05008720858520826, 0.9334434327243358, 0.01366014779596589, 0.9825335723674052, 0.013308184243097898, 0.9848056339892446, 0.9963530706875775, 0.27009579274260387, 0.035538920097711035, 0.5496686308445974, 0.1435772371947526, 0.00047385226796948046, 0.9924166925636178, 0.9796224560459358, 0.9564823906304969, 0.01218376320576285, 0.9625172932552651, 0.01218376320576285, 0.02010262317326663, 0.9649259123167983, 0.9861107486263259, 0.7205688345334125, 0.0067978191937114385, 0.009063758924948585, 0.001132969865618573, 0.002265939731237146, 0.2481204005704675, 0.01132969865618573, 0.1206279538202424, 0.14416511554126532, 0.00882643564538359, 0.07061148516306873, 0.06178504951768513, 0.029421452151278636, 0.13239653468075385, 0.4324953466237959, 0.9839150633900603, 0.02088038922629703, 0.03986256125020342, 0.615022373574567, 0.10819838053626642, 0.20690567506057966, 0.005694651607171917, 0.001898217202390639, 0.001898217202390639, 0.016574682264511278, 0.9033201834158646, 0.008287341132255639, 0.02486202339676692, 0.041436705661278196, 0.10489869293608753, 0.0041959477174435015, 0.008391895434887003, 0.8391895434887002, 0.025175686304661007, 0.016783790869774006, 0.9658624906684469, 0.022672828419447108, 0.002267282841944711, 0.002267282841944711, 0.004534565683889422, 0.9860111818156291, 0.27376267561527584, 0.11996341965163772, 0.009227955357818287, 0.006151970238545524, 0.13534334524800154, 0.006151970238545524, 0.44294185717527773, 0.009227955357818287, 0.0507646936022012, 0.027689832873927928, 0.013844916436963964, 0.8122350976352192, 0.09229944291309308, 0.09374231186032353, 0.8905519626730735, 0.07996760882200689, 0.14435711202933713, 0.18901434812474358, 0.12427866479264274, 0.2942531060550037, 0.007269782620182444, 0.15110762446236367, 0.009866133555961889, 0.014225266857300828, 0.0451861417820144, 0.0033471216134825475, 0.05690106742920331, 0.04602292218538503, 0.012551706050559554, 0.8192080148998535, 0.0025103412101119106, 0.9777740549172949, 0.07049622754487465, 0.7845547904187663, 0.031837005988007906, 0.08641473053887862, 0.02501479041914907, 0.9954718820717308, 0.9853703504836044, 0.03744252568163834, 0.9235823001470791, 0.024961683787758895, 0.9826004867637341, 0.9864766411136704, 0.12894718445745493, 0.44566640187108286, 0.13401157538780814, 0.15543784470853328, 0.029217639982807006, 0.03934642184351344, 0.06272053382975905, 0.004674822397249121, 0.9580818239441155, 0.9942133713512397, 0.9834911828490775, 0.9772982484171723, 0.9877753121896377, 0.08902289331772886, 0.18851906820224934, 0.7174197873252267, 0.005582589528506991, 0.9881183465457374, 0.004115172838078972, 0.002057586419039486, 0.002057586419039486, 0.002057586419039486, 0.9896990675579929, 0.021271895522549756, 0.9785071940372888, 0.9862546757863563, 0.7669665746113407, 0.23124620340040422, 0.4386380089365964, 0.05196408468238424, 0.13220274485371286, 0.012226843454678645, 0.022161153761605042, 0.3308889509922408, 0.0099343103069264, 0.0015283554318348306, 0.9927113394174356, 0.9809327033617097, 0.015821495215511447, 0.07014857555464092, 0.011223772088742548, 0.014029715110928183, 0.625725293947397, 0.2441170429301504, 0.005611886044371274, 0.028059430221856366, 0.9729979573600461, 0.942969457586351, 0.026521015994616124, 0.011787118219829388, 0.01768067732974408, 0.9882366152297325, 0.01795947186528523, 0.9518520088601173, 0.01795947186528523, 0.09282268865701485, 0.027390301570922412, 0.5828047500924046, 0.29520658359771934, 0.0015216834206068007, 0.966817995970882, 0.01843100877325712, 0.9768434649826273, 0.9717849265104068, 0.9957931991075947, 0.9788938860171414, 0.9680101978876838, 0.989810962018874, 0.06016667215589239, 0.3948437860230438, 0.003760417009743274, 0.5302187983738017, 0.007520834019486548, 0.9817314810488398, 0.9806463887579548, 0.013620088732749374, 0.9678963794598453, 0.01728386391892581, 0.9634801836780098, 0.03108000592509709, 0.970153080355495, 0.011688591329584276, 0.011688591329584276, 0.9775695648097715, 0.9727043783056971, 0.053469861089689485, 0.8707948806035145, 0.03819275792120677, 0.03055420633696542, 0.04787536032234947, 0.00495262348162236, 0.9409984615082483, 0.00495262348162236, 0.0016508744938741199, 0.9838654347591632, 0.989012095157702, 0.9922102441079369, 0.9831152318949901, 0.030789356857212083, 0.9390753841449685, 0.015394678428606041, 0.9808962326873031, 0.9764724374532867, 0.017754044317332487, 0.03577602724820168, 0.011925342416067228, 0.005962671208033614, 0.011925342416067228, 0.01788801362410084, 0.912288694829143, 0.9689891564981361, 0.9449548301933429, 0.04255231378199836, 0.008803926989378971, 0.0029346423297929906, 0.9839504179999455, 0.018506164882635547, 0.04811602869485242, 0.9068020792491417, 0.022207397859162654, 0.036379008600710326, 0.009094752150177582, 0.12732653010248612, 0.018189504300355163, 0.21827405160426194, 0.009094752150177582, 0.5911588897615427, 0.9945482494270963, 0.9637406040015941, 0.4108058549103402, 0.12019875014043288, 0.003043006332669187, 0.26017704144321546, 0.012172025330676748, 0.0015215031663345935, 0.06238162981971833, 0.12628476280577125, 0.7427154663607942, 0.24998715697021856, 0.039136949085040854, 0.9490710153122407, 0.9855150877960188, 0.9586865168197427, 0.21045069782930692, 0.03950699020622368, 0.13751471591012474, 0.16258645969484362, 0.4345768922684605, 0.00683774830492333, 0.0037987490582907387, 0.004558498869948887, 0.9723037575648785, 0.0025430292674975753, 0.0025430292674975753, 0.0025430292674975753, 0.9917814143240543, 0.35743386593864024, 0.06780588242738433, 0.15014159680349387, 0.34290403398991504, 0.0629626051111426, 0.0009686554632483476, 0.010655210095731824, 0.005811932779490086, 0.9764386031090153, 0.07307825137835179, 0.07307825137835179, 0.8403998908510455, 0.1193819720980066, 0.44768239536752474, 0.026703862179817267, 0.40684119438662775, 0.9839319760907812, 0.9622891275164229, 0.9801209541448173, 0.9934543095573212, 0.9828648357026698, 0.0740773886402521, 0.9259673580031512, 0.9850349230724619, 0.9869933145248713, 0.04551532956553603, 0.9194096572238277, 0.01820613182621441, 0.07644499778703122, 0.008408949756573435, 0.1070229969018437, 0.07071162295300387, 0.11810752158096323, 0.02255127434717421, 0.0026755749225460925, 0.5935954078162974, 0.02520584969463606, 0.9578222883961702, 0.0684979156248825, 0.09659962459919326, 0.007025427243577692, 0.751720715062813, 0.01229449767626096, 0.008781784054472115, 0.05444706113772711, 0.9545271763769893, 0.9904201778498966, 0.945787592223643, 0.04492447851678593, 0.21106028586188105, 0.02373368676358502, 0.09239185204395596, 0.06865816528037094, 0.0042381583506401815, 0.5551987439338638, 0.05918547024126775, 0.236741880965071, 0.596407430892775, 0.040974556320877674, 0.01821091392039008, 0.01821091392039008, 0.013658185440292559, 0.015934549680341317, 0.03047091734243247, 0.010156972447477491, 0.9445984376154066, 0.3325278727711257, 0.049156294235731625, 0.014457733598744596, 0.060722481114727306, 0.5233699562745544, 0.014457733598744596, 0.005783093439497839, 0.01890644272821567, 0.9777331810877248, 0.9405633626995602, 0.010229290598685895, 0.014321006838160254, 0.0015343935898028843, 0.002045858119737179, 0.0015343935898028843, 0.96820235516562, 0.002045858119737179, 0.9653708152907085, 0.025743221741085558, 0.012653042431519091, 0.0196825104490297, 0.0014058936035021212, 0.0023431560058368686, 0.0023431560058368686, 0.9597566999907815, 0.0018745248046694951, 0.03674368555179295, 0.020042010300977974, 0.01670167525081498, 0.8350837625407489, 0.006680670100325991, 0.0768277061537489, 0.0033403350501629956, 0.006680670100325991, 0.024413872945790064, 0.3853904229299717, 0.221468704579667, 0.0993993398507167, 0.0017438480675564332, 0.006975392270225733, 0.05231544202669299, 0.21100561617432842, 0.9702544813773374, 0.015400864783767261, 0.1137684684082123, 0.7978193860525268, 0.01440107195040662, 0.011520857560325296, 0.01440107195040662, 0.02304171512065059, 0.02160160792560993, 0.9849858572262522, 0.23840894532940635, 0.029801118166175793, 0.4768178906588127, 0.1821179443488521, 0.016556176758986553, 0.013244941407189242, 0.039734824221567724, 0.0016556176758986553, 0.5610340316035675, 0.33643246786277575, 0.007518043974587168, 0.046987774841169797, 0.026313153911055088, 0.002819266490470188, 0.01879510993646792, 0.9935349533790667, 0.03856359980479567, 0.5655994638036699, 0.022495433219464143, 0.03534996648772937, 0.051418133073060895, 0.051418133073060895, 0.23138159882877404, 0.13814775026263876, 0.6078501011556106, 0.20524808610449186, 0.007894157157865072, 0.007894157157865072, 0.015788314315730145, 0.013814775026263876, 0.12240823342615376, 0.023540044889644954, 0.03295606284550293, 0.6732452838438456, 0.014124026933786973, 0.12711624240408276, 0.004708008977928991, 0.0383619931078157, 0.21866336071454948, 0.6694167797313839, 0.00767239862156314, 0.001918099655390785, 0.00383619931078157, 0.06137918897250512, 0.9873641125715359, 0.05545627331945045, 0.13864068329862614, 0.01109125466389009, 0.7652965718084163, 0.005545627331945045, 0.027728136659725226, 0.9938715152115852, 0.1823356978030255, 0.008682652276334546, 0.02604795682900364, 0.7814387048701092, 0.0035816881233018388, 0.07879713871264045, 0.02507181686311287, 0.7700629465098953, 0.10745064369905516, 0.014326752493207355, 0.0035816881233018388, 0.7439996652747422, 0.15431104168661317, 0.09368884673830086, 0.985374485416999, 0.9789833846805333, 0.9673876665995678, 0.9542719926009474, 0.9740751000699279, 0.9485256561529424, 0.04160200246284835, 0.1853527353704496, 0.005703161088321526, 0.09695373850146595, 0.71004355549603, 0.05439924944266098, 0.09791864899678977, 0.6237780602758459, 0.17407759821651514, 0.03263954966559659, 0.007253233259021464, 0.010879849888532196, 0.9922012304132676, 0.9982303194923936, 0.20288441728686124, 0.11308311783202102, 0.0016629870269414856, 0.03658571459271268, 0.011640909188590398, 0.6319350702377645, 0.0016629870269414856, 0.98111848241484, 0.972445523731042, 0.9858015828387335, 0.0186816417176567, 0.9714453693181484, 0.9644244322915717, 0.03362479384858023, 0.9583066246845364, 0.008406198462145057, 0.9803649632899999, 0.20047724536021339, 0.7051268629910953, 0.004937863186212152, 0.0009875726372424304, 0.018763880107606178, 0.06122950350903068, 0.007900581097939443, 0.0009875726372424304, 0.004597656394840401, 0.928726591757761, 0.05976953313292521, 0.9902202315587294, 0.993404636284262, 0.9722210947100832, 0.9776332608434959, 0.9831975985323231, 0.1389826893893386, 0.0036574391944562794, 0.7570899132524498, 0.0036574391944562794, 0.09143597986140697, 0.025517940519169998, 0.21052300928315248, 0.7145023345367599, 0.022328197954273748, 0.025517940519169998, 0.1646700673317475, 0.07574823097260384, 0.002195600897756633, 0.6509956661848417, 0.08123723321699543, 0.0027445011221957916, 0.010978004488783166, 0.011526904713222324, 0.02618901936816513, 0.9270912856330455, 0.047140234862697236, 0.9680339317424803, 0.9729072952834381, 0.016489954157346408, 0.019101731671644775, 0.03820346334328955, 0.006367243890548258, 0.11461039002986866, 0.8150072179901771, 0.9605387814636879, 0.3683428407456577, 0.626182829267618, 0.31680458372805137, 0.03749166671337886, 0.15559041686052227, 0.2043295835879148, 0.22120083360893528, 0.06279854174490959, 0.0028118750035034147, 0.9715251129227975, 0.9957539049190911, 0.9903614754156365, 0.9521492737830987, 0.01692225406056621, 0.9645684814522739, 0.01692225406056621, 0.9915180570124389, 0.015809454459898953, 0.015809454459898953, 0.9485672675939372, 0.06868091549361433, 0.9271923591637933, 0.9870065340358122, 0.9951899225109315, 0.09957456567006588, 0.0024893641417516473, 0.6733730003438205, 0.17176612578086364, 0.052276646976784594, 0.9677998045673997, 0.1535232445599705, 0.8334118990398397, 0.9686954409350998, 0.018546996261097768, 0.06955123597911662, 0.7511533485744596, 0.037093992522195536, 0.06491448691384219, 0.013910247195823325, 0.04636749065274442, 0.9677344303073059, 0.02360327878798307, 0.31225414295140885, 0.1295522507989888, 0.05979334652261021, 0.03321852584589456, 0.46505936184252383, 0.003321852584589456, 0.975873868154808, 0.04540502619413079, 0.011351256548532697, 0.011351256548532697, 0.9308030369796811, 0.6743008690044439, 0.10244670737053817, 0.08985080072661954, 0.002519181328783725, 0.05794117056202568, 0.0016794542191891503, 0.0436658096989179, 0.02603154039743183, 0.08510312135175387, 0.04384100190847926, 0.595721849462277, 0.0025788824652046623, 0.10057641614298184, 0.028367707117251287, 0.10831306353859582, 0.03868323697806993, 0.06230032294072632, 0.008306709725430177, 0.09552716184244703, 0.542012809584319, 0.2886581629586986, 0.002076677431357544, 0.7534262013730537, 0.21303775349169105, 0.031176256608540155, 0.9861980127562364, 0.9975883639817508, 0.9932144501666202, 0.9715266216837415, 0.09162688428533858, 0.5972109422169389, 0.024542915433572836, 0.18652615729515354, 0.06708396885176575, 0.03108769288252559, 0.001636194362238189, 0.10723165110996824, 0.23295151792855168, 0.4079732933034424, 0.08627833997353766, 0.1294175099603065, 0.02958114513378434, 0.0012325477139076809, 0.006162738569538404, 0.10108376771887695, 0.828886895294791, 0.0673891784792513, 0.05321780264518751, 0.010643560529037501, 0.9259897660262626, 0.03561383990026558, 0.2136830394015935, 0.7407678699255241, 0.007122767980053116, 0.9834488107111132, 0.9291575956682805, 0.052199864925184296, 0.01043997298503686, 0.9716533335937648, 0.019425980251143046, 0.04467975457762901, 0.06604833285388637, 0.4953624964041477, 0.13598186175800134, 0.0038851960502286095, 0.23505436103883087, 0.06198986991442776, 0.03719392194865666, 0.012397973982885552, 0.012397973982885552, 0.8678581788019887, 0.012397973982885552, 0.9896949733373768, 0.8646496153649406, 0.04269874643777485, 0.06404811965666227, 0.005337343304721856, 0.016012029914165567, 0.9415592341042726, 0.9769826527033832, 0.14593154438691658, 0.29334212469667353, 0.021199514894045316, 0.20361394537769104, 0.007888191588481978, 0.0029580718456807416, 0.042892041762370756, 0.2824958612625108, 0.18283320401643877, 0.11198533746006875, 0.02056873545184936, 0.3313851822797953, 0.009141660200821938, 0.009141660200821938, 0.27653522107486367, 0.0594207913053426, 0.9655247503812254, 0.9854080432570648, 0.9744346472223648, 0.9836266098203541, 0.21424227913912358, 0.7259950916576778, 0.01778124179089892, 0.005204265890019196, 0.015829642082141722, 0.006071643538355729, 0.011275909428374925, 0.0034695105933461308, 0.007317993801700828, 0.9879291632296118, 0.948733338587414, 0.9764070881254919, 0.9905475917697409, 0.12094037828360092, 0.04947560929783674, 0.010994579843963721, 0.19790243719134695, 0.01649186976594558, 0.5992046014960227, 0.07111676327697694, 0.039509312931653856, 0.039509312931653856, 0.08692048844963848, 0.758578808287754, 0.9711101378945342, 0.9903601649641683, 0.992809103209468, 0.9668275785704785, 0.9664180902314224, 0.9966903266907213, 0.9854261196150257, 0.9744187985828111, 0.040419934908450195, 0.010104983727112549, 0.939763486621467, 0.2041855406127576, 0.003945614311357635, 0.013809650089751721, 0.006904825044875861, 0.002959210733518226, 0.012823246511912313, 0.0009864035778394088, 0.755585140624987, 0.9871667853030912, 0.006581111902020608, 0.9904276499294105, 0.17499435485372092, 0.0784457452792542, 0.5159316324135564, 0.09353146552526462, 0.08749717742686046, 0.015085720246010422, 0.027154296442818762, 0.012068576196808338, 0.988472288074432, 0.07730576721309264, 0.9019006174860807, 0.012884294535515439, 0.9911668111326922, 0.015103984160227237, 0.9666549862545432, 0.9424825180428592, 0.030015366816651567, 0.01800922008999094, 0.006003073363330313, 0.9774193334320439, 0.013766469484958365, 0.006809697873268714, 0.005107273404951536, 0.002553636702475768, 0.0017024244683171786, 0.9848525549214878, 0.028319884575238652, 0.9062363064076369, 0.06230374606552503, 0.12099581263580031, 0.2298920440080206, 0.03226555003621342, 0.004033193754526677, 0.5727135131427882, 0.03629874379074009, 0.004033193754526677, 0.22198174195033898, 0.6568226885105921, 0.01824507468084978, 0.1003479107446738, 0.9462628764200449, 0.04560303018891783, 0.011681538698294452, 0.22194923526759458, 0.7651407847382866, 0.9749609308863512, 0.9899714614251097, 0.004691807874052653, 0.9252693840790138, 0.010280770934211265, 0.06054231772368856, 0.002284615763158059, 0.06210504946924868, 0.164578381093509, 0.11799959399157248, 0.5061561531743767, 0.0093157574203873, 0.006210504946924868, 0.0093157574203873, 0.12421009893849735, 0.9926373906044602, 0.9936739657969081, 0.973325283856205, 0.011582295144881304, 0.9729127921700296, 0.011582295144881304, 0.993287881382857, 0.9791787085369906, 0.9836865264185476, 0.007685050987644903, 0.9779845905863221, 0.012040370303520209, 0.012040370303520209, 0.012040370303520209, 0.9391488836745763, 0.012040370303520209, 0.012040370303520209, 0.9900398344855976, 0.007857459003853949, 0.2001651211981469, 0.007413523007338774, 0.78583343877791, 0.007487382144337992, 0.003743691072168996, 0.16097871610326683, 0.23585253754664676, 0.5915031894027014, 0.003743691072168996, 0.9879748732147793, 0.9811171127030737, 0.9912682049888957, 0.013421934888553505, 0.9798012468644058, 0.08745590810508795, 0.29019460416688275, 0.40945266067382086, 0.1530478391839039, 0.01987634275115635, 0.017888708476040717, 0.01590107420092508, 0.00397526855023127, 0.9445422883057948, 0.9854198496498633, 0.9906531301455327, 0.9832681675062478, 0.886927630777079, 0.006047233846207358, 0.012094467692414715, 0.02418893538482943, 0.06853531692368338, 0.9912440980385405, 0.9787883269286984, 0.005197987858513584, 0.8940539116643365, 0.015593963575540753, 0.07796981787770377, 0.005197987858513584, 0.04996849798752026, 0.09160891297712047, 0.14574145246360076, 0.387255859403282, 0.02706626974324014, 0.016656165995840085, 0.21861217869540112, 0.062460622484400326, 0.17959908311793435, 0.22521154867169546, 0.011403116388440276, 0.1567928503410538, 0.4247660854694003, 0.002850779097110069, 0.0176445464199011, 0.0176445464199011, 0.9528055066746595, 0.9741571072709004, 0.9888432942118244, 0.3077004278974174, 0.17682595478414914, 0.3600502171427247, 0.029083216247392952, 0.07212637629353452, 0.006979971899374308, 0.04187983139624585, 0.005234978924530731, 0.9918785443251888, 0.08294552757294, 0.20980339327273062, 0.004879148680761177, 0.009758297361522355, 0.004879148680761177, 0.004879148680761177, 0.5293876318625877, 0.1536931834439771, 0.9685083901542024, 0.9862088206844438, 0.9995695303300093, 0.9931922862920559, 0.9691204680794436, 0.018285291850555538, 0.12650875004438822, 0.005750397729290374, 0.3507742614867128, 0.5117853979068433, 0.9920523142802655, 0.13457082596560171, 0.02883660556405751, 0.009612201854685837, 0.019224403709371674, 0.8170371576482961, 0.09680387423168296, 0.8850639929753871, 0.013829124890240423, 0.9963963159438036, 0.9758546503960335, 0.018412351894264784, 0.9732081192690988, 0.00937380688221997, 0.9842497226330968, 0.0008072597746251865, 0.008072597746251865, 0.012108896619377798, 0.8766841152429525, 0.08072597746251865, 0.0008072597746251865, 0.020181494365629663, 0.0008072597746251865, 0.04462986123238863, 0.11254486745558873, 0.07761714996937152, 0.03492771748621719, 0.05950648164318484, 0.007114905413859057, 0.6610393939058142, 0.0032340479153904803, 0.3786541416277684, 0.6200461569154708, 0.9884709098634042, 0.07389022179953897, 0.036945110899769484, 0.24014322084850165, 0.4380634578115525, 0.015833618957044066, 0.19264236397736947, 0.0026389364928406777, 0.9825959293159547, 0.9854198164403065, 0.003339004977602594, 0.9916844783479704, 0.9896802770664523, 0.9662728848106218, 0.9812872338245652, 0.9165612329799483, 0.06432008652490864, 0.01608002163122716, 0.010169291348608485, 0.010169291348608485, 0.9762519694664146, 0.013916113859517052, 0.006958056929758526, 0.8836732300793328, 0.027832227719034104, 0.03479028464879263, 0.027832227719034104, 0.013916113859517052, 0.9842404186669256, 0.9787423445244864, 0.00977330404019193, 0.987103708059385, 0.9863952348963084, 0.9816605032262286, 0.9932873814467764, 0.9563086402775823, 0.03187695467591941, 0.02565139683288305, 0.883140948103545, 0.029315882094723487, 0.010993455785521309, 0.014657941047361744, 0.01832242630920218, 0.01832242630920218, 0.2218650737531682, 0.012325837430731566, 0.041599701328719034, 0.1818061021032906, 0.5269295501637744, 0.0030814593576828915, 0.01078510775189012, 0.0015407296788414457, 0.7149316051881922, 0.0132745921387728, 0.005689110916616914, 0.009481851527694858, 0.0037927406110779428, 0.2522172506366832, 0.9927817449270119, 0.002879662138608914, 0.9934834378200754, 0.9875267194626512, 0.0026056113969990797, 0.0026056113969990797, 0.0052112227939981595, 0.023619043102633692, 0.9605077528404369, 0.007873014367544565, 0.0604417775338302, 0.6367972990171396, 0.25903618943070084, 0.008634539647690028, 0.034538158590760114, 0.9835127663149327, 0.9769483192679791, 0.9719030215643248, 0.96429172006877, 0.980414124399417, 0.972704053317342, 0.02262102449575214, 0.053087559217137, 0.423139074936592, 0.2857359804922374, 0.17019246925493922, 0.02810517840907253, 0.009368392803024176, 0.02966657720957656, 0.8599330870206007, 0.08516909168574639, 0.0027473900543789156, 0.0027473900543789156, 0.008242170163136747, 0.0357160707069259, 0.9886827605812483, 0.004724577335272202, 0.9850743744042542, 0.007086866002908303, 0.018803046003017937, 0.874341639140334, 0.10341675301659864, 0.28342120217203615, 0.019355594294675642, 0.09539542902375851, 0.04009373103897097, 0.10369068372147665, 0.24747509848192425, 0.009677797147337821, 0.19908611274523516, 0.9808097516180811, 0.01185536576016879, 0.9286703178798886, 0.05532504021412102, 0.19648780112977346, 0.01403484293784096, 0.7719163615812529, 0.01403484293784096, 0.9683478057992058, 0.04687148533280611, 0.18357998422015728, 0.6601067517703527, 0.07811914222134352, 0.003905957111067176, 0.023435742666403057, 0.95000013874509, 0.9395932222935937, 0.9774990473989634, 0.8878396120598041, 0.008790491208512913, 0.008790491208512913, 0.07911442087661621, 0.9768720627370958, 0.015263625980267122, 0.9781801562602982, 0.010868668402892202, 0.9697194412302845, 0.4886162547712977, 0.11131545372487599, 0.3234006866112186, 0.004686966472626357, 0.011717416181565892, 0.03046528207207132, 0.003515224854469768, 0.025778315599444965, 0.9747649674989499, 0.9950044268251752, 0.9829376093223336, 0.003024423413299488, 0.00756105853324872, 0.004536635119949233, 0.001512211706649744, 0.001512211706649744, 0.9896786135915241, 0.01831050371750674, 0.011771038104111477, 0.8592857816001378, 0.10332355669164518, 0.003923679368037159, 0.003923679368037159, 0.9775237243260195, 0.9663040362081224, 0.9798150606819217, 0.9652495570751713, 0.01664223374267537, 0.9765469275478414, 0.9800082664377371, 0.9701163734264948, 0.9852901557190084, 0.015609488447176263, 0.9677882837249283, 0.26535854462590064, 0.23645810907258474, 0.10246518059812006, 0.04203699716845951, 0.03415506019937335, 0.22332154745744115, 0.0945832436290339, 0.031050531253015292, 0.034931847659642204, 0.3337932109699144, 0.0659823789126575, 0.5239777148946331, 0.007762632813253823, 0.11874093004892937, 0.03380818147226461, 0.8468537163906282, 0.9887113429244738, 0.9629913756843993, 0.07765959641179031, 0.1737122551316362, 0.3780796141100317, 0.047004492565030975, 0.008174694359135821, 0.20028001179882762, 0.1144457210279015, 0.9696126854938295, 0.9931408756201496, 0.9708497652727416, 0.010443929095086613, 0.12010518459349606, 0.851180221249559, 0.005221964547543307, 0.010443929095086613, 0.07835424263761961, 0.013885561986413601, 0.09025615291168841, 0.10711719246661922, 0.094223456336378, 0.5137657934973032, 0.09918258561724001, 0.0029754775685172, 0.9719878090293953, 0.09479013988983162, 0.00729154922229474, 0.8895690051199583], \"Term\": [\"action\", \"action\", \"action\", \"action\", \"action\", \"action\", \"action\", \"action\", \"activism\", \"activist\", \"activist\", \"activist\", \"activist\", \"activist\", \"activist\", \"activist\", \"activist\", \"activists_hail\", \"adapt\", \"adapt\", \"add\", \"add\", \"add\", \"address\", \"address\", \"address\", \"address\", \"address\", \"address\", \"address\", \"advocate\", \"affect\", \"aggressive\", \"aim\", \"allege\", \"allege\", \"also\", \"also\", \"also\", \"also\", \"also\", \"also\", \"alter\", \"amazing\", \"ambitious\", \"amount\", \"amount\", \"amount\", \"amount\", \"amount\", \"amp\", \"amp\", \"amp\", \"amp\", \"amp\", \"amp\", \"amp\", \"amp\", \"angst\", \"appoint\", \"argue\", \"assessment\", \"associate\", \"atmosphere\", \"attack\", \"attempt\", \"attempt\", \"attempt\", \"attention\", \"australian\", \"auto\", \"auto\", \"auto\", \"back\", \"back\", \"back\", \"back\", \"back\", \"back\", \"bad\", \"bad\", \"bad\", \"bad\", \"bad\", \"base\", \"bask\", \"be\", \"begin\", \"begin\", \"bid\", \"bid\", \"biden\", \"biden\", \"biden\", \"biden\", \"big\", \"big\", \"big\", \"big\", \"big\", \"big\", \"big\", \"big\", \"bipartisan\", \"bipartisan\", \"black\", \"black\", \"blame\", \"blame\", \"blame\", \"bloomberg\", \"bloomberg_businessweek\", \"bloomberg_businessweek\", \"blow\", \"board\", \"board\", \"board\", \"board\", \"board\", \"boardroom\", \"breakthrough_victorie\", \"brilliant\", \"bring\", \"bring\", \"bring\", \"broad\", \"broad\", \"buck\", \"business\", \"business\", \"business\", \"business\", \"business\", \"business\", \"business\", \"call\", \"call\", \"call\", \"call\", \"call\", \"call\", \"call\", \"call\", \"capital\", \"carbon\", \"carbon\", \"carbon\", \"carbon\", \"carbon\", \"carbon\", \"carbon\", \"carbon\", \"carbon_capture\", \"carbon_capture\", \"carbon_capture\", \"carbon_capture\", \"carbon_capture\", \"case\", \"case\", \"case\", \"case\", \"case\", \"case\", \"catch\", \"catch\", \"catch\", \"catch\", \"catch\", \"ccs\", \"ceo\", \"ceo\", \"ceo\", \"ceo\", \"ceo\", \"ceo\", \"ceo\", \"ceo\", \"challenge\", \"challenge\", \"challenge\", \"challenge\", \"challenge\", \"chang_said\", \"chang_said\", \"change\", \"change\", \"change\", \"change\", \"change\", \"change\", \"change\", \"change\", \"chevron\", \"chevron\", \"chevron\", \"chevron\", \"chevron\", \"chevron\", \"chevron\", \"chevron\", \"cite\", \"clean\", \"clean\", \"clean\", \"clean\", \"clean\", \"climatechange\", \"climaterelate\", \"coalition\", \"coalition\", \"coalition\", \"committing_ecocide\", \"common\", \"company\", \"company\", \"company\", \"company\", \"company\", \"company\", \"company\", \"company\", \"compensation\", \"concerns_cause\", \"condemns_statement\", \"confront\", \"consequence\", \"consumer\", \"consumer\", \"consumer\", \"contribute\", \"contribute\", \"corporation\", \"corporation\", \"corporation\", \"corporation\", \"corporation\", \"could_slow\", \"could_slow\", \"coup\", \"court\", \"court\", \"crisis\", \"crisis\", \"crisis\", \"crisis\", \"crisis\", \"crisis\", \"crisis\", \"crisis\", \"crucial\", \"customer\", \"customer\", \"cut\", \"cut\", \"cut\", \"cut\", \"cut\", \"cut\", \"cut\", \"dairy\", \"damage\", \"damage\", \"damage\", \"damage\", \"dark\", \"datum\", \"datum\", \"datum\", \"day\", \"day\", \"day\", \"day\", \"day\", \"death\", \"decide\", \"decide\", \"deep\", \"defeat\", \"defend\", \"defense\", \"deliver\", \"demand\", \"demand\", \"demand\", \"demand\", \"demand\", \"demonstrate\", \"deni\", \"deni\", \"denialism\", \"denialism\", \"deploy\", \"deploy\", \"describe\", \"describe\", \"describe\", \"determine\", \"development\", \"die\", \"die\", \"die\", \"die\", \"director\", \"director\", \"director\", \"director\", \"director\", \"disclose\", \"disclosure\", \"discussion\", \"dismiss\", \"dissident\", \"dissident\", \"dissident\", \"div\", \"dividend\", \"dividend\", \"document\", \"document\", \"document\", \"document\", \"document\", \"document\", \"dow_lead\", \"downplay\", \"downplay\", \"downplay\", \"downplay\", \"dupe\", \"dutch\", \"dutch\", \"dutch\", \"dutch\", \"early\", \"early\", \"early\", \"early\", \"early\", \"early\", \"early\", \"earning\", \"ecosearch\", \"effort\", \"effort\", \"effort\", \"effort\", \"effort\", \"effort\", \"effort\", \"effort\", \"elect\", \"elect\", \"election\", \"election\", \"electrification\", \"email\", \"emission\", \"emission\", \"emission\", \"emission\", \"emission\", \"emission\", \"emission\", \"emission\", \"employee\", \"end\", \"end\", \"end\", \"end\", \"energy\", \"energy\", \"energy\", \"energy\", \"energy\", \"energy\", \"energy\", \"energy\", \"engage\", \"engagement\", \"engagement\", \"engagement\", \"engine\", \"engine\", \"engine\", \"engine\", \"entire\", \"era\", \"esg\", \"essential\", \"estimate\", \"evil\", \"evil\", \"expand\", \"experience\", \"expose\", \"expose\", \"expose\", \"exxon\", \"exxon\", \"exxon\", \"exxon\", \"exxon\", \"exxon\", \"exxon\", \"exxon\", \"eye\", \"eye\", \"face\", \"face\", \"face\", \"face\", \"face\", \"face\", \"face\", \"failure\", \"fascinating\", \"fault\", \"fight\", \"fight\", \"fight\", \"fight\", \"fight\", \"fight\", \"fight\", \"find\", \"find\", \"find\", \"find\", \"find\", \"find\", \"find\", \"find\", \"fire\", \"fire\", \"fire\", \"first\", \"first\", \"first\", \"first\", \"first\", \"first\", \"first\", \"force\", \"force\", \"form\", \"fossil\", \"fossil\", \"fossil\", \"fossil\", \"fossil\", \"fossil\", \"fossil\", \"fraud\", \"fraud\", \"fuel\", \"fuel\", \"fuel\", \"fuel\", \"fuel\", \"fuel\", \"fuel\", \"fund\", \"fund\", \"fund\", \"fund\", \"fund\", \"fund\", \"fund\", \"fund\", \"future\", \"future\", \"future\", \"future\", \"future\", \"future\", \"future\", \"future\", \"gain\", \"gain\", \"gas\", \"gas\", \"gas\", \"gas\", \"gas\", \"gas\", \"gas\", \"gasoline\", \"get\", \"get\", \"get\", \"get\", \"get\", \"get\", \"get\", \"get\", \"giant\", \"giant\", \"giant\", \"giant\", \"giant\", \"giant\", \"giant\", \"giants_toward\", \"global\", \"global\", \"global\", \"global\", \"global\", \"global\", \"global\", \"go\", \"go\", \"go\", \"go\", \"go\", \"go\", \"go\", \"goal\", \"goal\", \"goal\", \"goal\", \"goal\", \"goal\", \"goal\", \"good\", \"good\", \"good\", \"good\", \"good\", \"good\", \"good\", \"government_give\", \"green\", \"green\", \"green\", \"green\", \"green\", \"green\", \"greenpeace\", \"ground\", \"ground\", \"ground\", \"ground\", \"group\", \"group\", \"group\", \"group\", \"group\", \"group\", \"group\", \"grow\", \"grow\", \"grow\", \"growth\", \"half\", \"handful\", \"happy\", \"headline\", \"heat\", \"heat\", \"hedge_fund\", \"hedge_fund\", \"hedge_fund\", \"hedge_fund\", \"help\", \"help\", \"help\", \"help\", \"help\", \"help\", \"help\", \"here\", \"historic\", \"hold\", \"hold\", \"hold\", \"hold\", \"hold\", \"hold\", \"hold\", \"hour\", \"however\", \"hurt\", \"icymi\", \"icymi\", \"inaction\", \"increase\", \"increase\", \"increase\", \"increasingly\", \"industry\", \"industry\", \"industry\", \"industry\", \"industry\", \"industry\", \"industry\", \"industry\", \"infrastructure\", \"infrastructure\", \"infrastructure\", \"initiative\", \"install\", \"intensify\", \"international\", \"interview\", \"invest\", \"invest\", \"invest\", \"invest\", \"invest\", \"investment\", \"investment\", \"investment\", \"investment\", \"investment\", \"investor\", \"investor\", \"investor\", \"investor\", \"investor\", \"investor\", \"investor\", \"investor\", \"investor_oust\", \"investor_oust\", \"investor_oust\", \"involve\", \"jet\", \"jet\", \"join\", \"join\", \"join\", \"join\", \"join\", \"journal\", \"judge\", \"judge\", \"know\", \"know\", \"know\", \"know\", \"know\", \"know\", \"know\", \"lack\", \"landmark\", \"language\", \"largely\", \"last_week\", \"last_week\", \"last_week\", \"launch\", \"lawmaker_threaten\", \"lawmaker_threaten\", \"lawmaker_threaten\", \"lawsuit\", \"lawsuit\", \"leadership\", \"leaked_document\", \"least\", \"least\", \"least\", \"least\", \"least\", \"lee_raymond\", \"legal\", \"legal\", \"lend\", \"let\", \"let\", \"let\", \"let\", \"let\", \"let\", \"let\", \"liability\", \"liability\", \"lie\", \"lie\", \"lie\", \"lie\", \"lie\", \"lie\", \"litigation\", \"lobbying\", \"lobbying\", \"lobbying\", \"lobbying\", \"lobbyist\", \"lobbyist\", \"lobbyist\", \"lobbyist\", \"lobbyist\", \"lobbyist\", \"lobbyist\", \"lobbyist\", \"look\", \"look\", \"look\", \"look\", \"look\", \"look\", \"look\", \"look\", \"lose\", \"lose\", \"lose\", \"lose\", \"lose\", \"lose\", \"loss\", \"loss\", \"loss\", \"lowcarbon\", \"lower\", \"lucrative\", \"mainstream\", \"major\", \"major\", \"major\", \"major\", \"major\", \"major\", \"major\", \"make\", \"make\", \"make\", \"make\", \"make\", \"make\", \"make\", \"make\", \"management\", \"management\", \"management\", \"manager\", \"manager\", \"manager\", \"market\", \"market\", \"market\", \"market\", \"matter\", \"measure\", \"measure\", \"measure\", \"meat\", \"member\", \"member\", \"member\", \"member\", \"member\", \"member\", \"member\", \"misinformation\", \"misinformation\", \"misinformation\", \"misinformation\", \"misinformation\", \"misinformation\", \"misrepresent\", \"mobil\", \"mobil\", \"mobil\", \"mobil\", \"mobil\", \"mount\", \"natural\", \"new\", \"new\", \"new\", \"new\", \"new\", \"new\", \"new\", \"new\", \"news\", \"news\", \"news\", \"news\", \"news\", \"news\", \"news\", \"news\", \"notice\", \"number\", \"offer\", \"offshore_drilling\", \"oil\", \"oil\", \"oil\", \"oil\", \"oil\", \"oil\", \"oil\", \"oil\", \"old\", \"old\", \"overnight\", \"pack\", \"pandemic\", \"part\", \"part\", \"part\", \"part\", \"part\", \"part\", \"pass\", \"pass\", \"pass\", \"pass\", \"pass\", \"past\", \"pause\", \"pension_fund\", \"percent\", \"perhaps\", \"petition\", \"petroleum\", \"pivot\", \"place\", \"place\", \"place\", \"plan\", \"plan\", \"plan\", \"plan\", \"plan\", \"plan\", \"plan\", \"plan\", \"pledge\", \"pledge\", \"ploy_ceo\", \"policy\", \"policy\", \"policy\", \"policy\", \"policy\", \"policy\", \"policy\", \"policy\", \"politic\", \"political\", \"political\", \"political\", \"power_shift\", \"powerful\", \"powerful\", \"powerful_signal\", \"powerful_signal\", \"powerful_signal\", \"powerful_signal\", \"present\", \"present\", \"pressure\", \"pressure\", \"pressure\", \"pressure\", \"pressure\", \"proclimate_campaign\", \"proclimate_campaign\", \"proclimate_campaign\", \"product\", \"product\", \"product\", \"product\", \"product\", \"product\", \"product\", \"project\", \"project\", \"project\", \"project\", \"proposal\", \"proposal\", \"protect\", \"protect\", \"protect\", \"provide\", \"proxy\", \"proxy\", \"push\", \"push\", \"push\", \"push\", \"put\", \"put\", \"put\", \"put\", \"put\", \"put\", \"put\", \"put\", \"quickly\", \"quit\", \"rage_hit\", \"rather\", \"rather\", \"rather\", \"rating\", \"rd\", \"rebellion\", \"rebellion\", \"rebuke\", \"recent\", \"recent\", \"recent\", \"recent\", \"recent\", \"recent\", \"reckon\", \"reckon\", \"record\", \"record\", \"record\", \"reduce\", \"reduce\", \"reduce\", \"reduce\", \"reduce\", \"reduce\", \"referendum\", \"reiterate\", \"release\", \"remove\", \"remove\", \"report\", \"report\", \"report\", \"report\", \"report\", \"report\", \"report\", \"report\", \"researcher\", \"respond\", \"result\", \"return\", \"reveal\", \"reveal\", \"reveal\", \"reveal\", \"reveal\", \"revolt\", \"rhetoric\", \"rise\", \"rise\", \"rise\", \"rise\", \"rise\", \"risk\", \"risk\", \"risk\", \"risk\", \"risk\", \"risk\", \"risk\", \"risk\", \"role\", \"role\", \"role\", \"role\", \"role\", \"role\", \"sabotage\", \"sabotage\", \"sabotage\", \"sake\", \"samp\", \"say\", \"say\", \"say\", \"say\", \"say\", \"say\", \"say\", \"say\", \"say_youre\", \"science\", \"science\", \"science\", \"science\", \"science\", \"science\", \"science\", \"science\", \"scientist_dr\", \"score\", \"seat\", \"secret\", \"secretly_recorde\", \"secretly_recorde\", \"sector\", \"sector\", \"sector\", \"sector\", \"send\", \"serious\", \"serious\", \"serious\", \"serious\", \"serious\", \"set\", \"set\", \"set\", \"setback\", \"several\", \"several\", \"shadow_group\", \"shake\", \"shake\", \"shareholder\", \"shareholder\", \"shareholder\", \"shareholder\", \"shareholder\", \"shareholder\", \"shareholder\", \"shareholder\", \"shell\", \"shell\", \"shell\", \"shell\", \"shell\", \"shell\", \"shell\", \"shell\", \"shift\", \"shift\", \"shock\", \"show\", \"show\", \"show\", \"show\", \"show\", \"show\", \"show\", \"shows_yearly\", \"side\", \"sign\", \"sign\", \"significant\", \"simple\", \"sit\", \"social\", \"social\", \"social\", \"solar\", \"solar\", \"solar\", \"solution\", \"solution\", \"solution\", \"solution\", \"solution\", \"solution\", \"solution\", \"soul\", \"speed\", \"spending\", \"spending\", \"spent_million\", \"stake\", \"stakeholder\", \"sting\", \"sting\", \"stop\", \"stop\", \"stop\", \"stop\", \"stop\", \"stop\", \"stop\", \"strategy\", \"strategy\", \"strategy\", \"strategy\", \"strategy\", \"strategy\", \"strategy\", \"strategy\", \"study\", \"study\", \"study\", \"study\", \"study\", \"study\", \"subpoena\", \"subsidy\", \"subsidy\", \"sue\", \"sue\", \"sue\", \"sue\", \"suit\", \"suit\", \"suit\", \"support\", \"support\", \"support\", \"support\", \"support\", \"supreme_court\", \"surely\", \"surprise\", \"suspend\", \"sustainable\", \"system\", \"system\", \"take\", \"take\", \"take\", \"take\", \"take\", \"take\", \"take\", \"talk\", \"talk\", \"talk\", \"talk\", \"talk\", \"talk\", \"taxpayerfunded_subsidie\", \"technology\", \"technology\", \"technology\", \"texas_governor\", \"texas_governor\", \"texas_governor\", \"time\", \"time\", \"time\", \"time\", \"time\", \"time\", \"time\", \"time\", \"tiny\", \"tipping_point\", \"tipping_point\", \"tipping_point\", \"total\", \"total\", \"total\", \"total\", \"trajectory\", \"transition\", \"transition\", \"transition\", \"transition\", \"transition\", \"transition\", \"trial\", \"troubling\", \"uncertainty\", \"undercover\", \"undercover\", \"undercover\", \"undercover\", \"undercut\", \"undercut\", \"urge\", \"urge\", \"urgent\", \"use\", \"use\", \"use\", \"use\", \"use\", \"use\", \"use\", \"use\", \"vehicle\", \"victory\", \"video\", \"video\", \"video\", \"video\", \"video\", \"video\", \"view\", \"vote\", \"vote\", \"vote\", \"vote\", \"vote\", \"vote\", \"voting\", \"walk\", \"wall_street\", \"war\", \"war\", \"wave\", \"weak\", \"weaken\", \"weather\", \"wednesday\", \"wednesday\", \"week\", \"week\", \"week\", \"week\", \"week\", \"week\", \"week\", \"well\", \"well\", \"well\", \"well\", \"well\", \"well\", \"win\", \"win\", \"win\", \"wind\", \"word\", \"work\", \"work\", \"work\", \"work\", \"work\", \"work\", \"work\", \"worker\", \"worlds_bigg\", \"worlds_biggest\", \"xom\", \"xom\", \"xom\", \"xom\", \"xom\", \"year\", \"year\", \"year\", \"year\", \"year\", \"year\", \"year\", \"year\", \"yes_that\", \"yesterday\", \"yesterday\", \"yesterday\"]}, \"R\": 30, \"lambda.step\": 0.01, \"plot.opts\": {\"xlab\": \"PC1\", \"ylab\": \"PC2\"}, \"topic.order\": [1, 4, 2, 7, 6, 8, 3, 5]};\n",
       "\n",
       "function LDAvis_load_lib(url, callback){\n",
       "  var s = document.createElement('script');\n",
       "  s.src = url;\n",
       "  s.async = true;\n",
       "  s.onreadystatechange = s.onload = callback;\n",
       "  s.onerror = function(){console.warn(\"failed to load library \" + url);};\n",
       "  document.getElementsByTagName(\"head\")[0].appendChild(s);\n",
       "}\n",
       "\n",
       "if(typeof(LDAvis) !== \"undefined\"){\n",
       "   // already loaded: just create the visualization\n",
       "   !function(LDAvis){\n",
       "       new LDAvis(\"#\" + \"ldavis_el969131404270295742569822424157\", ldavis_el969131404270295742569822424157_data);\n",
       "   }(LDAvis);\n",
       "}else if(typeof define === \"function\" && define.amd){\n",
       "   // require.js is available: use it to load d3/LDAvis\n",
       "   require.config({paths: {d3: \"https://d3js.org/d3.v5\"}});\n",
       "   require([\"d3\"], function(d3){\n",
       "      window.d3 = d3;\n",
       "      LDAvis_load_lib(\"https://cdn.jsdelivr.net/gh/bmabey/pyLDAvis@3.3.1/pyLDAvis/js/ldavis.v3.0.0.js\", function(){\n",
       "        new LDAvis(\"#\" + \"ldavis_el969131404270295742569822424157\", ldavis_el969131404270295742569822424157_data);\n",
       "      });\n",
       "    });\n",
       "}else{\n",
       "    // require.js not available: dynamically load d3 & LDAvis\n",
       "    LDAvis_load_lib(\"https://d3js.org/d3.v5.js\", function(){\n",
       "         LDAvis_load_lib(\"https://cdn.jsdelivr.net/gh/bmabey/pyLDAvis@3.3.1/pyLDAvis/js/ldavis.v3.0.0.js\", function(){\n",
       "                 new LDAvis(\"#\" + \"ldavis_el969131404270295742569822424157\", ldavis_el969131404270295742569822424157_data);\n",
       "            })\n",
       "         });\n",
       "}\n",
       "</script>"
      ],
      "text/plain": [
       "PreparedData(topic_coordinates=              x         y  topics  cluster       Freq\n",
       "topic                                                \n",
       "0      0.087823 -0.007068       1        1  18.291799\n",
       "3      0.085210 -0.018825       2        1  16.248369\n",
       "1      0.085688 -0.067314       3        1  15.766580\n",
       "6      0.136296  0.041702       4        1  14.904332\n",
       "5      0.113061 -0.004058       5        1  11.695636\n",
       "7     -0.296173 -0.201739       6        1   8.979979\n",
       "2     -0.012397 -0.030187       7        1   8.560401\n",
       "4     -0.199507  0.287490       8        1   5.552904, topic_info=         Term         Freq        Total Category  logprob  loglift\n",
       "55       fuel  2133.000000  2133.000000  Default  30.0000  30.0000\n",
       "20      exxon  2616.000000  2616.000000  Default  29.0000  29.0000\n",
       "54     fossil  1955.000000  1955.000000  Default  28.0000  28.0000\n",
       "41        oil  4611.000000  4611.000000  Default  27.0000  27.0000\n",
       "28        big  2799.000000  2799.000000  Default  26.0000  26.0000\n",
       "...       ...          ...          ...      ...      ...      ...\n",
       "6      future   120.866365   573.444452   Topic8  -4.5366   1.3339\n",
       "1209    early    64.868839   109.953519   Topic8  -5.1589   2.3632\n",
       "272    effort    83.483191   657.244771   Topic8  -4.9066   0.8274\n",
       "1394   global    72.454769   311.174270   Topic8  -5.0483   1.4335\n",
       "48    science    63.257538   409.907574   Topic8  -5.1840   1.0221\n",
       "\n",
       "[515 rows x 6 columns], token_table=      Topic      Freq       Term\n",
       "term                            \n",
       "63        1  0.331314     action\n",
       "63        2  0.091397     action\n",
       "63        3  0.160983     action\n",
       "63        4  0.169292     action\n",
       "63        5  0.193180     action\n",
       "...     ...       ...        ...\n",
       "62        8  0.002975       year\n",
       "4362      8  0.971988   yes_that\n",
       "2446      1  0.094790  yesterday\n",
       "2446      6  0.007292  yesterday\n",
       "2446      8  0.889569  yesterday\n",
       "\n",
       "[1245 rows x 3 columns], R=30, lambda_step=0.01, plot_opts={'xlab': 'PC1', 'ylab': 'PC2'}, topic_order=[1, 4, 2, 7, 6, 8, 3, 5])"
      ]
     },
     "execution_count": 39,
     "metadata": {},
     "output_type": "execute_result"
    }
   ],
   "source": [
    "# Visualize the optimal topics\n",
    "pyLDAvis.enable_notebook()\n",
    "vis = pyLDAvis.gensim_models.prepare(optimal_model, corpus, id2word)\n",
    "vis"
   ]
  },
  {
   "cell_type": "markdown",
   "id": "45a55ce8-e7e1-49a3-b75a-d0274de33505",
   "metadata": {
    "tags": []
   },
   "source": [
    "### Finding the dominant topic in each sentence"
   ]
  },
  {
   "cell_type": "code",
   "execution_count": 42,
   "id": "3d78407f-fd9f-4051-afaf-9ae1e492d546",
   "metadata": {},
   "outputs": [
    {
     "data": {
      "text/html": [
       "<div>\n",
       "<style scoped>\n",
       "    .dataframe tbody tr th:only-of-type {\n",
       "        vertical-align: middle;\n",
       "    }\n",
       "\n",
       "    .dataframe tbody tr th {\n",
       "        vertical-align: top;\n",
       "    }\n",
       "\n",
       "    .dataframe thead th {\n",
       "        text-align: right;\n",
       "    }\n",
       "</style>\n",
       "<table border=\"1\" class=\"dataframe\">\n",
       "  <thead>\n",
       "    <tr style=\"text-align: right;\">\n",
       "      <th></th>\n",
       "      <th>Document_No</th>\n",
       "      <th>Dominant_Topic</th>\n",
       "      <th>Topic_Perc_Contrib</th>\n",
       "      <th>Keywords</th>\n",
       "      <th>Text</th>\n",
       "    </tr>\n",
       "  </thead>\n",
       "  <tbody>\n",
       "    <tr>\n",
       "      <th>0</th>\n",
       "      <td>0</td>\n",
       "      <td>1.0</td>\n",
       "      <td>0.5770</td>\n",
       "      <td>change, say, technology, day, blow, amp, good, company, make, carbon</td>\n",
       "      <td>'We are in a climate emergency'December wildfires ravage Colorado https://t.co/sWDkZM4Rvn Sen. Manchin, your Exxon highway bill isn't going 2save our homes or our lives,\" \"Your greed &amp;amp; corruption is not only torching our future It's burning our communities and destroying lives!</td>\n",
       "    </tr>\n",
       "    <tr>\n",
       "      <th>1</th>\n",
       "      <td>1</td>\n",
       "      <td>0.0</td>\n",
       "      <td>0.7873</td>\n",
       "      <td>seat, oil, push, lobbyist, activist, video, downplay, business, historic, giant</td>\n",
       "      <td>#Oil business knows about the damage that It does, but this business is too much easy and lucrative  https://t.co/W7MemjJAA9 #FossilFuels \\nExxon’s Plan for Surging Carbon Emissions Revealed in Leaked Documents https://t.co/RFX8meYv11</td>\n",
       "    </tr>\n",
       "    <tr>\n",
       "      <th>2</th>\n",
       "      <td>2</td>\n",
       "      <td>6.0</td>\n",
       "      <td>0.6394</td>\n",
       "      <td>activist, investor, board, shareholder, change, vote, director, least, face, new</td>\n",
       "      <td>@amywestervelt Your opinion piece concerning climate science alone motivating people to help create political change on Global Warming policy is Spot On. Informing people about the injustices Exxon and Big Oil has perpetrated on us is crucial in inspiring citizens to fight back.</td>\n",
       "    </tr>\n",
       "    <tr>\n",
       "      <th>3</th>\n",
       "      <td>3</td>\n",
       "      <td>7.0</td>\n",
       "      <td>0.9453</td>\n",
       "      <td>fuel, fossil, pressure, year, corporation, crisis, end, petition, subsidy, sign</td>\n",
       "      <td>Each year, the government gives over $15 billion in taxpayer-funded subsidies to fossil fuel corporations who contribute to the climate crisis like Exxon. \\n\\nWill you sign this petition to pressure the Senate to END fossil fuel subsidies https://t.co/2A7wLyid3X?</td>\n",
       "    </tr>\n",
       "    <tr>\n",
       "      <th>4</th>\n",
       "      <td>4</td>\n",
       "      <td>7.0</td>\n",
       "      <td>0.9453</td>\n",
       "      <td>fuel, fossil, pressure, year, corporation, crisis, end, petition, subsidy, sign</td>\n",
       "      <td>Each year, the government gives over $15 billion in taxpayer-funded subsidies to fossil fuel corporations who contribute to the climate crisis like Exxon. \\n\\nWill you sign our petition to pressure the Senate to END fossil fuel subsidies https://t.co/OD7YqPO5SP?</td>\n",
       "    </tr>\n",
       "  </tbody>\n",
       "</table>\n",
       "</div>"
      ],
      "text/plain": [
       "   Document_No  Dominant_Topic  Topic_Perc_Contrib  \\\n",
       "0            0             1.0              0.5770   \n",
       "1            1             0.0              0.7873   \n",
       "2            2             6.0              0.6394   \n",
       "3            3             7.0              0.9453   \n",
       "4            4             7.0              0.9453   \n",
       "\n",
       "                                                                           Keywords  \\\n",
       "0              change, say, technology, day, blow, amp, good, company, make, carbon   \n",
       "1   seat, oil, push, lobbyist, activist, video, downplay, business, historic, giant   \n",
       "2  activist, investor, board, shareholder, change, vote, director, least, face, new   \n",
       "3   fuel, fossil, pressure, year, corporation, crisis, end, petition, subsidy, sign   \n",
       "4   fuel, fossil, pressure, year, corporation, crisis, end, petition, subsidy, sign   \n",
       "\n",
       "                                                                                                                                                                                                                                                                                         Text  \n",
       "0  'We are in a climate emergency'December wildfires ravage Colorado https://t.co/sWDkZM4Rvn Sen. Manchin, your Exxon highway bill isn't going 2save our homes or our lives,\" \"Your greed &amp; corruption is not only torching our future It's burning our communities and destroying lives!  \n",
       "1                                                  #Oil business knows about the damage that It does, but this business is too much easy and lucrative  https://t.co/W7MemjJAA9 #FossilFuels \\nExxon’s Plan for Surging Carbon Emissions Revealed in Leaked Documents https://t.co/RFX8meYv11  \n",
       "2     @amywestervelt Your opinion piece concerning climate science alone motivating people to help create political change on Global Warming policy is Spot On. Informing people about the injustices Exxon and Big Oil has perpetrated on us is crucial in inspiring citizens to fight back.  \n",
       "3                     Each year, the government gives over $15 billion in taxpayer-funded subsidies to fossil fuel corporations who contribute to the climate crisis like Exxon. \\n\\nWill you sign this petition to pressure the Senate to END fossil fuel subsidies https://t.co/2A7wLyid3X?  \n",
       "4                      Each year, the government gives over $15 billion in taxpayer-funded subsidies to fossil fuel corporations who contribute to the climate crisis like Exxon. \\n\\nWill you sign our petition to pressure the Senate to END fossil fuel subsidies https://t.co/OD7YqPO5SP?  "
      ]
     },
     "execution_count": 42,
     "metadata": {},
     "output_type": "execute_result"
    }
   ],
   "source": [
    "def format_topics_sentences(ldamodel=lda_model, corpus=corpus, texts=ctext):\n",
    "    # Init output\n",
    "    sent_topics_df = pd.DataFrame()\n",
    "\n",
    "    # Get main topic in each document\n",
    "    for i, row in enumerate(ldamodel[corpus]):\n",
    "        row = sorted(row, key=lambda x: (x[1]), reverse=True)\n",
    "        # Get the Dominant topic, Perc Contribution and Keywords for each document\n",
    "        for j, (topic_num, prop_topic) in enumerate(row):\n",
    "            if j == 0:  # => dominant topic\n",
    "                wp = ldamodel.show_topic(topic_num)\n",
    "                topic_keywords = \", \".join([word for word, prop in wp])\n",
    "                sent_topics_df = sent_topics_df.append(pd.Series([int(topic_num), round(prop_topic,4), topic_keywords]), ignore_index=True)\n",
    "            else:\n",
    "                break\n",
    "    sent_topics_df.columns = ['Dominant_Topic', 'Perc_Contribution', 'Topic_Keywords']\n",
    "\n",
    "    # Add original text to the end of the output\n",
    "    contents = pd.Series(texts)\n",
    "    sent_topics_df = pd.concat([sent_topics_df, contents], axis=1)\n",
    "    return(sent_topics_df)\n",
    "\n",
    "\n",
    "df_topic_sents_keywords = format_topics_sentences(ldamodel=optimal_model, corpus=corpus, texts=nctext)\n",
    "\n",
    "# Format\n",
    "df_dominant_topic = df_topic_sents_keywords.reset_index()\n",
    "df_dominant_topic.columns = ['Document_No', 'Dominant_Topic', 'Topic_Perc_Contrib', 'Keywords', 'Text']\n",
    "\n",
    "# Show\n",
    "df_dominant_topic.head()"
   ]
  },
  {
   "cell_type": "markdown",
   "id": "ac667693-c3cf-41c6-b3f7-f20dc92ffd93",
   "metadata": {
    "tags": []
   },
   "source": [
    "### Find the most representative document for each topic"
   ]
  },
  {
   "cell_type": "code",
   "execution_count": 43,
   "id": "b0af1d4e-6496-4096-817a-52ea6e513e2d",
   "metadata": {},
   "outputs": [
    {
     "data": {
      "text/html": [
       "<div>\n",
       "<style scoped>\n",
       "    .dataframe tbody tr th:only-of-type {\n",
       "        vertical-align: middle;\n",
       "    }\n",
       "\n",
       "    .dataframe tbody tr th {\n",
       "        vertical-align: top;\n",
       "    }\n",
       "\n",
       "    .dataframe thead th {\n",
       "        text-align: right;\n",
       "    }\n",
       "</style>\n",
       "<table border=\"1\" class=\"dataframe\">\n",
       "  <thead>\n",
       "    <tr style=\"text-align: right;\">\n",
       "      <th></th>\n",
       "      <th>Topic_Num</th>\n",
       "      <th>Topic_Perc_Contrib</th>\n",
       "      <th>Keywords</th>\n",
       "      <th>Text</th>\n",
       "    </tr>\n",
       "  </thead>\n",
       "  <tbody>\n",
       "    <tr>\n",
       "      <th>0</th>\n",
       "      <td>0.0</td>\n",
       "      <td>0.9527</td>\n",
       "      <td>seat, oil, push, lobbyist, activist, video, downplay, business, historic, giant</td>\n",
       "      <td>Exxon Mobil said for the first time that some of its oil and gas properties may face impairment due to #climate change. The company's board will test assets for climate impairments. \"Certain assets could be at risk for impairment,\" it said. @exxonmobil #OOTT</td>\n",
       "    </tr>\n",
       "    <tr>\n",
       "      <th>1</th>\n",
       "      <td>1.0</td>\n",
       "      <td>0.9619</td>\n",
       "      <td>change, say, technology, day, blow, amp, good, company, make, carbon</td>\n",
       "      <td>Each day, three times a day, Exxon told more than 100,000 Punchbowl subscribers that the company is “working to reduce emissions and help advance climate solutions,” and “advancing climate solutions like carbon capture and storage to help create a lower-carbon energy future.”</td>\n",
       "    </tr>\n",
       "    <tr>\n",
       "      <th>2</th>\n",
       "      <td>2.0</td>\n",
       "      <td>0.9538</td>\n",
       "      <td>shell, chevron, change, back, hold, could_slow, setback, business, science, day</td>\n",
       "      <td>They could have stopped climate change 40 years ago\\nExxon Knew about Climate Change almost 40 years ago\\n\\nA new investigation shows the oil company understood the science before it became a public issue and spent millions to promote misinformation https://t.co/XCacPAGmrA</td>\n",
       "    </tr>\n",
       "    <tr>\n",
       "      <th>3</th>\n",
       "      <td>3.0</td>\n",
       "      <td>0.9543</td>\n",
       "      <td>oil, big, company, change, industry, new, gas, court, sue, major</td>\n",
       "      <td>The oil industry continues to advertise bullshit.  Our govts continue to refuse to hold them to account for false advertising violations.  \\n\\nWe are swimming in bullshit.\\n\\nWhy some of your favorite podcasts are filled with oil company ads https://t.co/86U4twAlCx</td>\n",
       "    </tr>\n",
       "    <tr>\n",
       "      <th>4</th>\n",
       "      <td>4.0</td>\n",
       "      <td>0.9266</td>\n",
       "      <td>exxon, plan, fight, new, earning, secret, document, call, time, send</td>\n",
       "      <td>\"Did we aggressively fight against some of the science; Yes.  \\n\\n...join shadow groups to work against early efforts;- \\n\\nYes, that's true.\"\\n\\n\"uhhhhhhhh.  There's nothing illegal about that\"...\\n\\nhttps://t.co/00tl4p0rLj</td>\n",
       "    </tr>\n",
       "    <tr>\n",
       "      <th>5</th>\n",
       "      <td>5.0</td>\n",
       "      <td>0.9541</td>\n",
       "      <td>change, win, emission, activist, case, force, strategy, exxon, board, big</td>\n",
       "      <td>Impacts of #Gas #Pollution from #Mossmorran🏭 on communities is ignored, yet\\nour Government's want to stand on the world stage at #COP26 &amp;amp; say they are leading the way on climate &amp;amp; social issues. Demand action on #Scotlands big #Polluters #Exxon #Shell @ #Mossmorran 23/10 at 11⤵️ https://t.co/lOWwL2T75w</td>\n",
       "    </tr>\n",
       "    <tr>\n",
       "      <th>6</th>\n",
       "      <td>6.0</td>\n",
       "      <td>0.9542</td>\n",
       "      <td>activist, investor, board, shareholder, change, vote, director, least, face, new</td>\n",
       "      <td>\"Exxon funded internal and university collaborations, broadly in line with the developing public scientific approach. From the 1980s to mid 2000s, the company was a leader in climate change denial, opposing regulations to curtail global warming.</td>\n",
       "    </tr>\n",
       "    <tr>\n",
       "      <th>7</th>\n",
       "      <td>7.0</td>\n",
       "      <td>0.9514</td>\n",
       "      <td>fuel, fossil, pressure, year, corporation, crisis, end, petition, subsidy, sign</td>\n",
       "      <td>Each year, the government gives over $15 billion in taxpayer-funded subsidies to fossil fuel corporations who contribute to the climate crisis like Exxon. \\n\\nWill you sign our petition to pressure the Senate to END fossil fuel subsidies https://t.co/BXVgO8oZDg? Make them pay</td>\n",
       "    </tr>\n",
       "  </tbody>\n",
       "</table>\n",
       "</div>"
      ],
      "text/plain": [
       "   Topic_Num  Topic_Perc_Contrib  \\\n",
       "0        0.0              0.9527   \n",
       "1        1.0              0.9619   \n",
       "2        2.0              0.9538   \n",
       "3        3.0              0.9543   \n",
       "4        4.0              0.9266   \n",
       "5        5.0              0.9541   \n",
       "6        6.0              0.9542   \n",
       "7        7.0              0.9514   \n",
       "\n",
       "                                                                           Keywords  \\\n",
       "0   seat, oil, push, lobbyist, activist, video, downplay, business, historic, giant   \n",
       "1              change, say, technology, day, blow, amp, good, company, make, carbon   \n",
       "2   shell, chevron, change, back, hold, could_slow, setback, business, science, day   \n",
       "3                  oil, big, company, change, industry, new, gas, court, sue, major   \n",
       "4              exxon, plan, fight, new, earning, secret, document, call, time, send   \n",
       "5         change, win, emission, activist, case, force, strategy, exxon, board, big   \n",
       "6  activist, investor, board, shareholder, change, vote, director, least, face, new   \n",
       "7   fuel, fossil, pressure, year, corporation, crisis, end, petition, subsidy, sign   \n",
       "\n",
       "                                                                                                                                                                                                                                                                                                                       Text  \n",
       "0                                                        Exxon Mobil said for the first time that some of its oil and gas properties may face impairment due to #climate change. The company's board will test assets for climate impairments. \"Certain assets could be at risk for impairment,\" it said. @exxonmobil #OOTT  \n",
       "1                                      Each day, three times a day, Exxon told more than 100,000 Punchbowl subscribers that the company is “working to reduce emissions and help advance climate solutions,” and “advancing climate solutions like carbon capture and storage to help create a lower-carbon energy future.”  \n",
       "2                                         They could have stopped climate change 40 years ago\\nExxon Knew about Climate Change almost 40 years ago\\n\\nA new investigation shows the oil company understood the science before it became a public issue and spent millions to promote misinformation https://t.co/XCacPAGmrA  \n",
       "3                                                 The oil industry continues to advertise bullshit.  Our govts continue to refuse to hold them to account for false advertising violations.  \\n\\nWe are swimming in bullshit.\\n\\nWhy some of your favorite podcasts are filled with oil company ads https://t.co/86U4twAlCx  \n",
       "4                                                                                          \"Did we aggressively fight against some of the science; Yes.  \\n\\n...join shadow groups to work against early efforts;- \\n\\nYes, that's true.\"\\n\\n\"uhhhhhhhh.  There's nothing illegal about that\"...\\n\\nhttps://t.co/00tl4p0rLj  \n",
       "5  Impacts of #Gas #Pollution from #Mossmorran🏭 on communities is ignored, yet\\nour Government's want to stand on the world stage at #COP26 &amp; say they are leading the way on climate &amp; social issues. Demand action on #Scotlands big #Polluters #Exxon #Shell @ #Mossmorran 23/10 at 11⤵️ https://t.co/lOWwL2T75w  \n",
       "6                                                                     \"Exxon funded internal and university collaborations, broadly in line with the developing public scientific approach. From the 1980s to mid 2000s, the company was a leader in climate change denial, opposing regulations to curtail global warming.  \n",
       "7                                      Each year, the government gives over $15 billion in taxpayer-funded subsidies to fossil fuel corporations who contribute to the climate crisis like Exxon. \\n\\nWill you sign our petition to pressure the Senate to END fossil fuel subsidies https://t.co/BXVgO8oZDg? Make them pay  "
      ]
     },
     "execution_count": 43,
     "metadata": {},
     "output_type": "execute_result"
    }
   ],
   "source": [
    "# Group top 5 sentences under each topic\n",
    "sent_topics_sorteddf_mallet = pd.DataFrame()\n",
    "\n",
    "sent_topics_outdf_grpd = df_topic_sents_keywords.groupby('Dominant_Topic')\n",
    "\n",
    "for i, grp in sent_topics_outdf_grpd:\n",
    "    sent_topics_sorteddf_mallet = pd.concat([sent_topics_sorteddf_mallet, \n",
    "                                             grp.sort_values(['Perc_Contribution'], ascending=[0]).head(1)], \n",
    "                                            axis=0)\n",
    "\n",
    "# Reset Index    \n",
    "sent_topics_sorteddf_mallet.reset_index(drop=True, inplace=True)\n",
    "\n",
    "# Format\n",
    "sent_topics_sorteddf_mallet.columns = ['Topic_Num', \"Topic_Perc_Contrib\", \"Keywords\", \"Text\"]\n",
    "\n",
    "# Show\n",
    "sent_topics_sorteddf_mallet.head(8)"
   ]
  },
  {
   "cell_type": "markdown",
   "id": "59576a82-5edc-41c6-ab6e-1cd2a5935440",
   "metadata": {
    "tags": []
   },
   "source": [
    "### Topic distribution across documents"
   ]
  },
  {
   "cell_type": "code",
   "execution_count": 44,
   "id": "e1695dc0-dc55-4ed8-8636-14b13e5cfb70",
   "metadata": {},
   "outputs": [
    {
     "data": {
      "text/html": [
       "<div>\n",
       "<style scoped>\n",
       "    .dataframe tbody tr th:only-of-type {\n",
       "        vertical-align: middle;\n",
       "    }\n",
       "\n",
       "    .dataframe tbody tr th {\n",
       "        vertical-align: top;\n",
       "    }\n",
       "\n",
       "    .dataframe thead th {\n",
       "        text-align: right;\n",
       "    }\n",
       "</style>\n",
       "<table border=\"1\" class=\"dataframe\">\n",
       "  <thead>\n",
       "    <tr style=\"text-align: right;\">\n",
       "      <th></th>\n",
       "      <th>Dominant_Topic</th>\n",
       "      <th>Topic_Keywords</th>\n",
       "      <th>Num_Documents</th>\n",
       "      <th>Perc_Documents</th>\n",
       "    </tr>\n",
       "  </thead>\n",
       "  <tbody>\n",
       "    <tr>\n",
       "      <th>0.0</th>\n",
       "      <td>1.0</td>\n",
       "      <td>change, say, technology, day, blow, amp, good, company, make, carbon</td>\n",
       "      <td>4295.0</td>\n",
       "      <td>0.2042</td>\n",
       "    </tr>\n",
       "    <tr>\n",
       "      <th>1.0</th>\n",
       "      <td>0.0</td>\n",
       "      <td>seat, oil, push, lobbyist, activist, video, downplay, business, historic, giant</td>\n",
       "      <td>3449.0</td>\n",
       "      <td>0.1640</td>\n",
       "    </tr>\n",
       "    <tr>\n",
       "      <th>2.0</th>\n",
       "      <td>6.0</td>\n",
       "      <td>activist, investor, board, shareholder, change, vote, director, least, face, new</td>\n",
       "      <td>1799.0</td>\n",
       "      <td>0.0855</td>\n",
       "    </tr>\n",
       "    <tr>\n",
       "      <th>3.0</th>\n",
       "      <td>7.0</td>\n",
       "      <td>fuel, fossil, pressure, year, corporation, crisis, end, petition, subsidy, sign</td>\n",
       "      <td>3651.0</td>\n",
       "      <td>0.1736</td>\n",
       "    </tr>\n",
       "    <tr>\n",
       "      <th>4.0</th>\n",
       "      <td>7.0</td>\n",
       "      <td>fuel, fossil, pressure, year, corporation, crisis, end, petition, subsidy, sign</td>\n",
       "      <td>1111.0</td>\n",
       "      <td>0.0528</td>\n",
       "    </tr>\n",
       "    <tr>\n",
       "      <th>5.0</th>\n",
       "      <td>0.0</td>\n",
       "      <td>seat, oil, push, lobbyist, activist, video, downplay, business, historic, giant</td>\n",
       "      <td>2298.0</td>\n",
       "      <td>0.1093</td>\n",
       "    </tr>\n",
       "    <tr>\n",
       "      <th>6.0</th>\n",
       "      <td>7.0</td>\n",
       "      <td>fuel, fossil, pressure, year, corporation, crisis, end, petition, subsidy, sign</td>\n",
       "      <td>3522.0</td>\n",
       "      <td>0.1675</td>\n",
       "    </tr>\n",
       "    <tr>\n",
       "      <th>7.0</th>\n",
       "      <td>0.0</td>\n",
       "      <td>seat, oil, push, lobbyist, activist, video, downplay, business, historic, giant</td>\n",
       "      <td>904.0</td>\n",
       "      <td>0.0430</td>\n",
       "    </tr>\n",
       "  </tbody>\n",
       "</table>\n",
       "</div>"
      ],
      "text/plain": [
       "     Dominant_Topic  \\\n",
       "0.0             1.0   \n",
       "1.0             0.0   \n",
       "2.0             6.0   \n",
       "3.0             7.0   \n",
       "4.0             7.0   \n",
       "5.0             0.0   \n",
       "6.0             7.0   \n",
       "7.0             0.0   \n",
       "\n",
       "                                                                       Topic_Keywords  \\\n",
       "0.0              change, say, technology, day, blow, amp, good, company, make, carbon   \n",
       "1.0   seat, oil, push, lobbyist, activist, video, downplay, business, historic, giant   \n",
       "2.0  activist, investor, board, shareholder, change, vote, director, least, face, new   \n",
       "3.0   fuel, fossil, pressure, year, corporation, crisis, end, petition, subsidy, sign   \n",
       "4.0   fuel, fossil, pressure, year, corporation, crisis, end, petition, subsidy, sign   \n",
       "5.0   seat, oil, push, lobbyist, activist, video, downplay, business, historic, giant   \n",
       "6.0   fuel, fossil, pressure, year, corporation, crisis, end, petition, subsidy, sign   \n",
       "7.0   seat, oil, push, lobbyist, activist, video, downplay, business, historic, giant   \n",
       "\n",
       "     Num_Documents  Perc_Documents  \n",
       "0.0         4295.0          0.2042  \n",
       "1.0         3449.0          0.1640  \n",
       "2.0         1799.0          0.0855  \n",
       "3.0         3651.0          0.1736  \n",
       "4.0         1111.0          0.0528  \n",
       "5.0         2298.0          0.1093  \n",
       "6.0         3522.0          0.1675  \n",
       "7.0          904.0          0.0430  "
      ]
     },
     "execution_count": 44,
     "metadata": {},
     "output_type": "execute_result"
    }
   ],
   "source": [
    "# Number of Documents for Each Topic\n",
    "topic_counts = df_topic_sents_keywords['Dominant_Topic'].value_counts()\n",
    "\n",
    "# Percentage of Documents for Each Topic\n",
    "topic_contribution = round(topic_counts/topic_counts.sum(), 4)\n",
    "\n",
    "# Topic Number and Keywords\n",
    "topic_num_keywords = df_topic_sents_keywords[['Dominant_Topic', 'Topic_Keywords']]\n",
    "\n",
    "# Concatenate Column wise\n",
    "df_dominant_topics = pd.concat([topic_num_keywords, topic_counts, topic_contribution], axis=1)\n",
    "\n",
    "# Change Column names\n",
    "df_dominant_topics.columns = ['Dominant_Topic', 'Topic_Keywords', 'Num_Documents', 'Perc_Documents']\n",
    "\n",
    "# Show\n",
    "df_dominant_topics.head(8)"
   ]
  },
  {
   "cell_type": "code",
   "execution_count": null,
   "id": "45614d3e-d5fc-4bc4-a25f-61ab57f845a3",
   "metadata": {},
   "outputs": [],
   "source": []
  }
 ],
 "metadata": {
  "kernelspec": {
   "display_name": "Python 3 (ipykernel)",
   "language": "python",
   "name": "python3"
  },
  "language_info": {
   "codemirror_mode": {
    "name": "ipython",
    "version": 3
   },
   "file_extension": ".py",
   "mimetype": "text/x-python",
   "name": "python",
   "nbconvert_exporter": "python",
   "pygments_lexer": "ipython3",
   "version": "3.9.7"
  }
 },
 "nbformat": 4,
 "nbformat_minor": 5
}
