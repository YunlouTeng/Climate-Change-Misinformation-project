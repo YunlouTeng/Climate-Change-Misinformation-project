{
 "cells": [
  {
   "cell_type": "code",
   "execution_count": 1,
   "id": "db116a99-ebd1-47c9-8981-4f4030e438f6",
   "metadata": {
    "jp-MarkdownHeadingCollapsed": true,
    "tags": []
   },
   "outputs": [],
   "source": [
    "### Library"
   ]
  },
  {
   "cell_type": "code",
   "execution_count": 203,
   "id": "3911a094-8aa5-4ad9-b24a-00fa2046e847",
   "metadata": {},
   "outputs": [],
   "source": [
    "import re\n",
    "import os\n",
    "import json\n",
    "import csv\n",
    "import numpy as np\n",
    "import pandas as pd\n",
    "from pprint import pprint\n",
    "import seaborn as sns\n",
    "\n",
    "# NLTK Stop words\n",
    "import nltk\n",
    "from nltk import word_tokenize, FreqDist\n",
    "from nltk.corpus import stopwords\n",
    "from nltk.stem import WordNetLemmatizer\n",
    "from nltk.tokenize import TweetTokenizer\n",
    "\n",
    "# spacy for lemmatization\n",
    "import spacy\n",
    "\n",
    "#remove urls, mentions, emojis \n",
    "import preprocessor as p\n",
    "\n",
    "# Gensim\n",
    "import gensim\n",
    "import gensim.corpora as corpora\n",
    "from gensim.utils import simple_preprocess\n",
    "from gensim.models import CoherenceModel\n",
    "\n",
    "# Plotting tools\n",
    "import pyLDAvis\n",
    "import pyLDAvis.gensim_models  \n",
    "import matplotlib.pyplot as plt\n",
    "\n",
    "#fetch the canonical URL from tweets\n",
    "import requests\n",
    "import time\n",
    "from fake_http_header import FakeHttpHeader\n",
    "from requests.adapters import HTTPAdapter\n",
    "from requests.packages.urllib3.util.retry import Retry"
   ]
  },
  {
   "cell_type": "code",
   "execution_count": 3,
   "id": "68a77cc9-561c-4126-8556-360a99beccbd",
   "metadata": {},
   "outputs": [],
   "source": [
    "filepath = '/Users/lavine/Desktop/Terriers!/misinformation project/data/data.txt'"
   ]
  },
  {
   "cell_type": "code",
   "execution_count": 4,
   "id": "9dcd9f28-0004-4c42-9f2a-4192ce105bb2",
   "metadata": {},
   "outputs": [],
   "source": [
    "pd.set_option('display.max_columns', None)"
   ]
  },
  {
   "cell_type": "markdown",
   "id": "75157cfe-5e3e-4a99-b630-01b6c43705ff",
   "metadata": {
    "tags": []
   },
   "source": [
    "### Create a dataframe by every columns"
   ]
  },
  {
   "cell_type": "code",
   "execution_count": 5,
   "id": "b2de5860-baf2-4f87-84a5-a6911f37a5f6",
   "metadata": {},
   "outputs": [],
   "source": [
    "#load all the JSON objects in one list as dictionaries\n",
    "data = []\n",
    "with open(filepath,'r') as f:\n",
    "    for line in f:\n",
    "        data.append(json.loads(line))"
   ]
  },
  {
   "cell_type": "markdown",
   "id": "9a2eb8e5-4d4f-455f-bd2d-0008c2b8a2de",
   "metadata": {},
   "source": [
    "### Search bar"
   ]
  },
  {
   "cell_type": "code",
   "execution_count": 6,
   "id": "a40af79e-ad13-49d4-aa1d-f7dc623462c9",
   "metadata": {},
   "outputs": [],
   "source": [
    "#find a twitter's whole dictionary by its id or any other info\n",
    "#new_result = next((m for m in data if m.get('conversation_id') == '1476916783525370000'), None)\n",
    "#new_result"
   ]
  },
  {
   "cell_type": "markdown",
   "id": "48543e25-3eb2-4919-9609-8acf010ad04e",
   "metadata": {},
   "source": [
    " #### Put the original related text data in one list"
   ]
  },
  {
   "cell_type": "code",
   "execution_count": 7,
   "id": "74039174-65dc-4161-918a-79f62b1f7517",
   "metadata": {},
   "outputs": [],
   "source": [
    "#Original tweets\n",
    "lst_text = []\n",
    "\n",
    "#create lists for id, author id and conversation\n",
    "lst_id = []\n",
    "lst_lang = []\n",
    "lst_author_id = []\n",
    "lst_conversation_id = []\n",
    "\n",
    "#lst verified or not, author name and author username\n",
    "lst_author_verified = []\n",
    "lst_author_name = []\n",
    "lst_author_username = []\n",
    "\n",
    "#list creation time and link\n",
    "lst_twt_creation_time = []\n",
    "lst_link = []\n",
    "\n",
    "for i in data:\n",
    "    if not 'referenced_tweets' in i:\n",
    "        lst_text.append(i['text'])\n",
    "        lst_id.append(i['id'])\n",
    "        lst_lang.append(i['lang'])\n",
    "        lst_author_id.append(i['author_id'])\n",
    "        lst_conversation_id.append(i['conversation_id'])\n",
    "        lst_author_verified.append(i['author']['verified'])\n",
    "        lst_author_name.append(i['author']['name'])\n",
    "        lst_author_username.append(i['author']['username'])\n",
    "        lst_twt_creation_time.append(i['created_at'])\n",
    "        #loop the link if this twitter has\n",
    "        if 'entities' in i and 'urls' in i['entities']:\n",
    "            lst_link.append(i['entities']['urls'][0]['url'])\n",
    "        else:\n",
    "            lst_link.append(None)"
   ]
  },
  {
   "cell_type": "markdown",
   "id": "dbbffae6-f2b2-4ea6-bee4-2b4d04f1f360",
   "metadata": {},
   "source": [
    "#### Put the original tweets in one dataframe"
   ]
  },
  {
   "cell_type": "code",
   "execution_count": 8,
   "id": "f36c69b3-6302-413d-b0cd-8583e3aedb02",
   "metadata": {},
   "outputs": [],
   "source": [
    "#original tweets\n",
    "tweets = pd.DataFrame({'text': lst_text,\n",
    "                       'language': lst_lang,\n",
    "                       'id': lst_id,\n",
    "                       'author_id': lst_author_id,\n",
    "                       'conversation_id': lst_conversation_id,\n",
    "                       'author_verified': lst_author_verified,\n",
    "                       'author_name': lst_author_name,\n",
    "                       'author_username': lst_author_username,\n",
    "                       'twt_creation_time': lst_twt_creation_time,\n",
    "                       'urls': lst_link\n",
    "                      })"
   ]
  },
  {
   "cell_type": "markdown",
   "id": "415b249b-dcfc-4201-9549-d3c09480fd0a",
   "metadata": {},
   "source": [
    " #### Put the reply related text data in one list"
   ]
  },
  {
   "cell_type": "code",
   "execution_count": 9,
   "id": "2907b6bf-2331-4dc0-aa59-11f2fd27990e",
   "metadata": {},
   "outputs": [],
   "source": [
    "#reply tweets\n",
    "lst_text = []\n",
    "\n",
    "#create lists for id, author id and conversation\n",
    "lst_id = []\n",
    "lst_lang = []\n",
    "lst_author_id = []\n",
    "lst_conversation_id = []\n",
    "\n",
    "#lst verified or not, author name and author username\n",
    "lst_author_verified = []\n",
    "lst_author_name = []\n",
    "lst_author_username = []\n",
    "\n",
    "#list creation time and link\n",
    "lst_twt_creation_time = []\n",
    "lst_link = []\n",
    "\n",
    "for i in data:\n",
    "    if 'referenced_tweets' in i and i['referenced_tweets'][0]['type'] == 'replied_to':\n",
    "        lst_text.append(i['text'])\n",
    "        lst_id.append(i['id'])\n",
    "        lst_lang.append(i['lang'])\n",
    "        lst_author_id.append(i['author_id'])\n",
    "        lst_conversation_id.append(i['conversation_id'])\n",
    "        lst_author_verified.append(i['author']['verified'])\n",
    "        lst_author_name.append(i['author']['name'])\n",
    "        lst_author_username.append(i['author']['username'])\n",
    "        lst_twt_creation_time.append(i['created_at'])\n",
    "        #loop the link if this twitter has\n",
    "        if 'entities' in i and 'urls' in i['entities']:\n",
    "            lst_link.append(i['entities']['urls'][0]['url'])\n",
    "        else:\n",
    "            lst_link.append(None)"
   ]
  },
  {
   "cell_type": "markdown",
   "id": "5c2dc571-25a8-457e-9a35-f0b64b7eba43",
   "metadata": {},
   "source": [
    "#### Put the reply tweets in one dataframe"
   ]
  },
  {
   "cell_type": "code",
   "execution_count": 10,
   "id": "8f4d1273-3af3-4f59-bbc2-46d74a502814",
   "metadata": {},
   "outputs": [],
   "source": [
    "#reply tweets\n",
    "tweets_rly = pd.DataFrame({'rly_text': lst_text,\n",
    "                       'rly_language': lst_lang,\n",
    "                       'rly_id': lst_id,\n",
    "                       'rly_author_id': lst_author_id,\n",
    "                       'conversation_id': lst_conversation_id,\n",
    "                       'rly_author_verified': lst_author_verified,\n",
    "                       'rly_author_name': lst_author_name,\n",
    "                       'rly_author_username': lst_author_username,\n",
    "                       'rly_twt_creation_time': lst_twt_creation_time,\n",
    "                       'rly_urls': lst_link\n",
    "                      })"
   ]
  },
  {
   "cell_type": "markdown",
   "id": "1d3752dd-9188-4c76-9836-45e67b3d3f55",
   "metadata": {},
   "source": [
    " #### Put the retweet related text data in one list"
   ]
  },
  {
   "cell_type": "code",
   "execution_count": 11,
   "id": "20b7ac70-fa40-4de7-97c4-fa1960b3712b",
   "metadata": {},
   "outputs": [],
   "source": [
    "#retweets\n",
    "lst_text = []\n",
    "\n",
    "#referenced id\n",
    "lst_ref_id = []\n",
    "\n",
    "#create lists for id, author id and conversation\n",
    "lst_id = []\n",
    "lst_lang = []\n",
    "lst_author_id = []\n",
    "lst_conversation_id = []\n",
    "\n",
    "#lst verified or not, author name and author username\n",
    "lst_author_verified = []\n",
    "lst_author_name = []\n",
    "lst_author_username = []\n",
    "\n",
    "#list creation time and link\n",
    "lst_twt_creation_time = []\n",
    "lst_link = []\n",
    "\n",
    "for i in data:\n",
    "    if 'referenced_tweets' in i and i['referenced_tweets'][0]['type'] == 'retweeted':\n",
    "        lst_ref_id.append(i['referenced_tweets'][0]['id'])\n",
    "        lst_text.append(i['text'])\n",
    "        lst_id.append(i['id'])\n",
    "        lst_lang.append(i['lang'])\n",
    "        lst_author_id.append(i['author_id'])\n",
    "        lst_conversation_id.append(i['conversation_id'])\n",
    "        lst_author_verified.append(i['author']['verified'])\n",
    "        lst_author_name.append(i['author']['name'])\n",
    "        lst_author_username.append(i['author']['username'])\n",
    "        lst_twt_creation_time.append(i['created_at'])\n",
    "        #loop the link if this twitter has\n",
    "        if 'entities' in i and 'urls' in i['entities']:\n",
    "            lst_link.append(i['entities']['urls'][0]['url'])\n",
    "        else:\n",
    "            lst_link.append(None)"
   ]
  },
  {
   "cell_type": "markdown",
   "id": "80524611-d788-4c3b-834c-af8ebd0156e7",
   "metadata": {},
   "source": [
    "#### Put the retweets in one dataframe"
   ]
  },
  {
   "cell_type": "code",
   "execution_count": 12,
   "id": "cc385586-e869-4747-ba6c-e6a71364adc3",
   "metadata": {},
   "outputs": [],
   "source": [
    "#retweets\n",
    "tweets_rt = pd.DataFrame({'ref_id': lst_ref_id,\n",
    "                          'rt_text': lst_text,\n",
    "                       'rt_language': lst_lang,\n",
    "                       'rt_id': lst_id,\n",
    "                       'rt_author_id': lst_author_id,\n",
    "                       'rt_conversation_id': lst_conversation_id,\n",
    "                       'rt_author_verified': lst_author_verified,\n",
    "                       'rt_author_name': lst_author_name,\n",
    "                       'rt_author_username': lst_author_username,\n",
    "                       'rt_twt_creation_time': lst_twt_creation_time,\n",
    "                       'rt_urls': lst_link\n",
    "                      })"
   ]
  },
  {
   "cell_type": "code",
   "execution_count": 13,
   "id": "8b723c8f-23c3-4ada-8da4-0021eab44da4",
   "metadata": {},
   "outputs": [
    {
     "data": {
      "text/html": [
       "<div>\n",
       "<style scoped>\n",
       "    .dataframe tbody tr th:only-of-type {\n",
       "        vertical-align: middle;\n",
       "    }\n",
       "\n",
       "    .dataframe tbody tr th {\n",
       "        vertical-align: top;\n",
       "    }\n",
       "\n",
       "    .dataframe thead th {\n",
       "        text-align: right;\n",
       "    }\n",
       "</style>\n",
       "<table border=\"1\" class=\"dataframe\">\n",
       "  <thead>\n",
       "    <tr style=\"text-align: right;\">\n",
       "      <th></th>\n",
       "      <th>text</th>\n",
       "      <th>language</th>\n",
       "      <th>id</th>\n",
       "      <th>author_id</th>\n",
       "      <th>conversation_id</th>\n",
       "      <th>author_verified</th>\n",
       "      <th>author_name</th>\n",
       "      <th>author_username</th>\n",
       "      <th>twt_creation_time</th>\n",
       "      <th>urls</th>\n",
       "      <th>rly_text</th>\n",
       "      <th>rly_language</th>\n",
       "      <th>rly_id</th>\n",
       "      <th>rly_author_id</th>\n",
       "      <th>rly_author_verified</th>\n",
       "      <th>rly_author_name</th>\n",
       "      <th>rly_author_username</th>\n",
       "      <th>rly_twt_creation_time</th>\n",
       "      <th>rly_urls</th>\n",
       "      <th>ref_id</th>\n",
       "      <th>rt_text</th>\n",
       "      <th>rt_language</th>\n",
       "      <th>rt_id</th>\n",
       "      <th>rt_author_id</th>\n",
       "      <th>rt_conversation_id</th>\n",
       "      <th>rt_author_verified</th>\n",
       "      <th>rt_author_name</th>\n",
       "      <th>rt_author_username</th>\n",
       "      <th>rt_twt_creation_time</th>\n",
       "      <th>rt_urls</th>\n",
       "    </tr>\n",
       "  </thead>\n",
       "  <tbody>\n",
       "    <tr>\n",
       "      <th>count</th>\n",
       "      <td>782802</td>\n",
       "      <td>782802</td>\n",
       "      <td>782802</td>\n",
       "      <td>782802</td>\n",
       "      <td>782802</td>\n",
       "      <td>782802</td>\n",
       "      <td>782802</td>\n",
       "      <td>782802</td>\n",
       "      <td>782802</td>\n",
       "      <td>678876</td>\n",
       "      <td>691615</td>\n",
       "      <td>691615</td>\n",
       "      <td>691615</td>\n",
       "      <td>691615</td>\n",
       "      <td>691615</td>\n",
       "      <td>691615</td>\n",
       "      <td>691615</td>\n",
       "      <td>691615</td>\n",
       "      <td>285932</td>\n",
       "      <td>767004</td>\n",
       "      <td>767004</td>\n",
       "      <td>767004</td>\n",
       "      <td>767004</td>\n",
       "      <td>767004</td>\n",
       "      <td>767004</td>\n",
       "      <td>767004</td>\n",
       "      <td>767004</td>\n",
       "      <td>767004</td>\n",
       "      <td>767004</td>\n",
       "      <td>13260</td>\n",
       "    </tr>\n",
       "    <tr>\n",
       "      <th>unique</th>\n",
       "      <td>21818</td>\n",
       "      <td>31</td>\n",
       "      <td>22576</td>\n",
       "      <td>13517</td>\n",
       "      <td>22576</td>\n",
       "      <td>2</td>\n",
       "      <td>13398</td>\n",
       "      <td>13517</td>\n",
       "      <td>22243</td>\n",
       "      <td>19747</td>\n",
       "      <td>521</td>\n",
       "      <td>5</td>\n",
       "      <td>521</td>\n",
       "      <td>408</td>\n",
       "      <td>2</td>\n",
       "      <td>408</td>\n",
       "      <td>408</td>\n",
       "      <td>515</td>\n",
       "      <td>240</td>\n",
       "      <td>6779</td>\n",
       "      <td>6361</td>\n",
       "      <td>23</td>\n",
       "      <td>173036</td>\n",
       "      <td>106224</td>\n",
       "      <td>173036</td>\n",
       "      <td>2</td>\n",
       "      <td>99493</td>\n",
       "      <td>106225</td>\n",
       "      <td>160035</td>\n",
       "      <td>1801</td>\n",
       "    </tr>\n",
       "    <tr>\n",
       "      <th>top</th>\n",
       "      <td>I am near speechless. An Exxon official admitt...</td>\n",
       "      <td>en</td>\n",
       "      <td>1410324793405083661</td>\n",
       "      <td>19055698</td>\n",
       "      <td>1410324793405083661</td>\n",
       "      <td>True</td>\n",
       "      <td>Emily Atkin</td>\n",
       "      <td>emorwee</td>\n",
       "      <td>2021-06-30T19:50:07.000Z</td>\n",
       "      <td>https://t.co/Ag0dKyuz6M</td>\n",
       "      <td>@emorwee @Marina_Sirtis Exxon knew....Climate ...</td>\n",
       "      <td>en</td>\n",
       "      <td>1412875731122544641</td>\n",
       "      <td>19055698</td>\n",
       "      <td>False</td>\n",
       "      <td>Emily Atkin</td>\n",
       "      <td>emorwee</td>\n",
       "      <td>2021-07-01T18:43:15.000Z</td>\n",
       "      <td>https://t.co/Ag0dKyuz6M</td>\n",
       "      <td>1410324793405083661</td>\n",
       "      <td>RT @emorwee: I am near speechless. An Exxon of...</td>\n",
       "      <td>en</td>\n",
       "      <td>1411350380760518659</td>\n",
       "      <td>1279946247399288833</td>\n",
       "      <td>1411350380760518659</td>\n",
       "      <td>False</td>\n",
       "      <td>.</td>\n",
       "      <td>seekhopeact</td>\n",
       "      <td>2021-07-01T02:40:38.000Z</td>\n",
       "      <td>https://t.co/2ZSYWK3UMC</td>\n",
       "    </tr>\n",
       "    <tr>\n",
       "      <th>freq</th>\n",
       "      <td>315744</td>\n",
       "      <td>780233</td>\n",
       "      <td>315744</td>\n",
       "      <td>317576</td>\n",
       "      <td>315744</td>\n",
       "      <td>641070</td>\n",
       "      <td>317576</td>\n",
       "      <td>317576</td>\n",
       "      <td>315744</td>\n",
       "      <td>315788</td>\n",
       "      <td>13728</td>\n",
       "      <td>660011</td>\n",
       "      <td>13728</td>\n",
       "      <td>55067</td>\n",
       "      <td>608784</td>\n",
       "      <td>55067</td>\n",
       "      <td>55067</td>\n",
       "      <td>13728</td>\n",
       "      <td>41184</td>\n",
       "      <td>315744</td>\n",
       "      <td>315744</td>\n",
       "      <td>765724</td>\n",
       "      <td>23</td>\n",
       "      <td>302</td>\n",
       "      <td>23</td>\n",
       "      <td>758827</td>\n",
       "      <td>534</td>\n",
       "      <td>302</td>\n",
       "      <td>138</td>\n",
       "      <td>1332</td>\n",
       "    </tr>\n",
       "  </tbody>\n",
       "</table>\n",
       "</div>"
      ],
      "text/plain": [
       "                                                     text language  \\\n",
       "count                                              782802   782802   \n",
       "unique                                              21818       31   \n",
       "top     I am near speechless. An Exxon official admitt...       en   \n",
       "freq                                               315744   780233   \n",
       "\n",
       "                         id author_id      conversation_id author_verified  \\\n",
       "count                782802    782802               782802          782802   \n",
       "unique                22576     13517                22576               2   \n",
       "top     1410324793405083661  19055698  1410324793405083661            True   \n",
       "freq                 315744    317576               315744          641070   \n",
       "\n",
       "        author_name author_username         twt_creation_time  \\\n",
       "count        782802          782802                    782802   \n",
       "unique        13398           13517                     22243   \n",
       "top     Emily Atkin         emorwee  2021-06-30T19:50:07.000Z   \n",
       "freq         317576          317576                    315744   \n",
       "\n",
       "                           urls  \\\n",
       "count                    678876   \n",
       "unique                    19747   \n",
       "top     https://t.co/Ag0dKyuz6M   \n",
       "freq                     315788   \n",
       "\n",
       "                                                 rly_text rly_language  \\\n",
       "count                                              691615       691615   \n",
       "unique                                                521            5   \n",
       "top     @emorwee @Marina_Sirtis Exxon knew....Climate ...           en   \n",
       "freq                                                13728       660011   \n",
       "\n",
       "                     rly_id rly_author_id rly_author_verified rly_author_name  \\\n",
       "count                691615        691615              691615          691615   \n",
       "unique                  521           408                   2             408   \n",
       "top     1412875731122544641      19055698               False     Emily Atkin   \n",
       "freq                  13728         55067              608784           55067   \n",
       "\n",
       "       rly_author_username     rly_twt_creation_time                 rly_urls  \\\n",
       "count               691615                    691615                   285932   \n",
       "unique                 408                       515                      240   \n",
       "top                emorwee  2021-07-01T18:43:15.000Z  https://t.co/Ag0dKyuz6M   \n",
       "freq                 55067                     13728                    41184   \n",
       "\n",
       "                     ref_id  \\\n",
       "count                767004   \n",
       "unique                 6779   \n",
       "top     1410324793405083661   \n",
       "freq                 315744   \n",
       "\n",
       "                                                  rt_text rt_language  \\\n",
       "count                                              767004      767004   \n",
       "unique                                               6361          23   \n",
       "top     RT @emorwee: I am near speechless. An Exxon of...          en   \n",
       "freq                                               315744      765724   \n",
       "\n",
       "                      rt_id         rt_author_id   rt_conversation_id  \\\n",
       "count                767004               767004               767004   \n",
       "unique               173036               106224               173036   \n",
       "top     1411350380760518659  1279946247399288833  1411350380760518659   \n",
       "freq                     23                  302                   23   \n",
       "\n",
       "       rt_author_verified rt_author_name rt_author_username  \\\n",
       "count              767004         767004             767004   \n",
       "unique                  2          99493             106225   \n",
       "top                 False              .        seekhopeact   \n",
       "freq               758827            534                302   \n",
       "\n",
       "            rt_twt_creation_time                  rt_urls  \n",
       "count                     767004                    13260  \n",
       "unique                    160035                     1801  \n",
       "top     2021-07-01T02:40:38.000Z  https://t.co/2ZSYWK3UMC  \n",
       "freq                         138                     1332  "
      ]
     },
     "execution_count": 13,
     "metadata": {},
     "output_type": "execute_result"
    }
   ],
   "source": [
    "df = tweets.merge(tweets_rly,how ='left')\n",
    "df_1 = df.merge(tweets_rt, left_on = 'id', right_on = 'ref_id', how = 'left')\n",
    "df_1.describe()"
   ]
  },
  {
   "cell_type": "markdown",
   "id": "87f8239d-0094-46e7-ab51-c559cb9963fa",
   "metadata": {
    "tags": []
   },
   "source": [
    "### Data preprocessing"
   ]
  },
  {
   "cell_type": "code",
   "execution_count": 14,
   "id": "ef972d40-2389-4706-9b38-568462157d75",
   "metadata": {},
   "outputs": [],
   "source": [
    "tweets.drop(tweets[tweets['language'] != 'en'].index, inplace = True)"
   ]
  },
  {
   "cell_type": "code",
   "execution_count": 15,
   "id": "7ae12cec-2bd4-43dc-bdd8-e442a6907d5d",
   "metadata": {},
   "outputs": [],
   "source": [
    "tweets['hashtag'] = tweets['text'].apply(lambda x: re.findall(r\"#(\\w+)\", x))"
   ]
  },
  {
   "cell_type": "code",
   "execution_count": 16,
   "id": "8d4bb11c-5b98-452c-8ea9-e1f0f4e36ca9",
   "metadata": {},
   "outputs": [],
   "source": [
    "#forming a separate column for cleaned tweets\n",
    "tweets['ctext'] = tweets['text'].apply(lambda x: p.clean(x))"
   ]
  },
  {
   "cell_type": "code",
   "execution_count": 17,
   "id": "9b9e878d-4990-4b58-85f2-2e42650a652f",
   "metadata": {},
   "outputs": [
    {
     "data": {
      "text/html": [
       "<div>\n",
       "<style scoped>\n",
       "    .dataframe tbody tr th:only-of-type {\n",
       "        vertical-align: middle;\n",
       "    }\n",
       "\n",
       "    .dataframe tbody tr th {\n",
       "        vertical-align: top;\n",
       "    }\n",
       "\n",
       "    .dataframe thead th {\n",
       "        text-align: right;\n",
       "    }\n",
       "</style>\n",
       "<table border=\"1\" class=\"dataframe\">\n",
       "  <thead>\n",
       "    <tr style=\"text-align: right;\">\n",
       "      <th></th>\n",
       "      <th>text</th>\n",
       "      <th>language</th>\n",
       "      <th>id</th>\n",
       "      <th>author_id</th>\n",
       "      <th>conversation_id</th>\n",
       "      <th>author_verified</th>\n",
       "      <th>author_name</th>\n",
       "      <th>author_username</th>\n",
       "      <th>twt_creation_time</th>\n",
       "      <th>urls</th>\n",
       "      <th>hashtag</th>\n",
       "      <th>ctext</th>\n",
       "    </tr>\n",
       "  </thead>\n",
       "  <tbody>\n",
       "    <tr>\n",
       "      <th>0</th>\n",
       "      <td>'We are in a climate emergency'December wildfi...</td>\n",
       "      <td>en</td>\n",
       "      <td>1477024401254092800</td>\n",
       "      <td>1009831809855688707</td>\n",
       "      <td>1477024401254092800</td>\n",
       "      <td>False</td>\n",
       "      <td>Vammek Opinion</td>\n",
       "      <td>Vammek</td>\n",
       "      <td>2021-12-31T21:10:33.000Z</td>\n",
       "      <td>https://t.co/sWDkZM4Rvn</td>\n",
       "      <td>[]</td>\n",
       "      <td>'We are in a climate emergency'December wildfi...</td>\n",
       "    </tr>\n",
       "    <tr>\n",
       "      <th>1</th>\n",
       "      <td>#Oil business knows about the damage that It d...</td>\n",
       "      <td>en</td>\n",
       "      <td>1476991564803104776</td>\n",
       "      <td>590788952</td>\n",
       "      <td>1476991564803104776</td>\n",
       "      <td>False</td>\n",
       "      <td>Robert Pujol i Vives</td>\n",
       "      <td>rpujolvives</td>\n",
       "      <td>2021-12-31T19:00:04.000Z</td>\n",
       "      <td>https://t.co/W7MemjJAA9</td>\n",
       "      <td>[Oil, FossilFuels]</td>\n",
       "      <td>business knows about the damage that It does, ...</td>\n",
       "    </tr>\n",
       "    <tr>\n",
       "      <th>2</th>\n",
       "      <td>@amywestervelt Your opinion piece concerning c...</td>\n",
       "      <td>en</td>\n",
       "      <td>1476962302159060992</td>\n",
       "      <td>1476958634705780736</td>\n",
       "      <td>1476962302159060992</td>\n",
       "      <td>False</td>\n",
       "      <td>Megan Robbins</td>\n",
       "      <td>MeganRo50852817</td>\n",
       "      <td>2021-12-31T17:03:48.000Z</td>\n",
       "      <td>None</td>\n",
       "      <td>[]</td>\n",
       "      <td>Your opinion piece concerning climate science ...</td>\n",
       "    </tr>\n",
       "  </tbody>\n",
       "</table>\n",
       "</div>"
      ],
      "text/plain": [
       "                                                text language  \\\n",
       "0  'We are in a climate emergency'December wildfi...       en   \n",
       "1  #Oil business knows about the damage that It d...       en   \n",
       "2  @amywestervelt Your opinion piece concerning c...       en   \n",
       "\n",
       "                    id            author_id      conversation_id  \\\n",
       "0  1477024401254092800  1009831809855688707  1477024401254092800   \n",
       "1  1476991564803104776            590788952  1476991564803104776   \n",
       "2  1476962302159060992  1476958634705780736  1476962302159060992   \n",
       "\n",
       "   author_verified           author_name  author_username  \\\n",
       "0            False        Vammek Opinion           Vammek   \n",
       "1            False  Robert Pujol i Vives      rpujolvives   \n",
       "2            False         Megan Robbins  MeganRo50852817   \n",
       "\n",
       "          twt_creation_time                     urls             hashtag  \\\n",
       "0  2021-12-31T21:10:33.000Z  https://t.co/sWDkZM4Rvn                  []   \n",
       "1  2021-12-31T19:00:04.000Z  https://t.co/W7MemjJAA9  [Oil, FossilFuels]   \n",
       "2  2021-12-31T17:03:48.000Z                     None                  []   \n",
       "\n",
       "                                               ctext  \n",
       "0  'We are in a climate emergency'December wildfi...  \n",
       "1  business knows about the damage that It does, ...  \n",
       "2  Your opinion piece concerning climate science ...  "
      ]
     },
     "execution_count": 17,
     "metadata": {},
     "output_type": "execute_result"
    }
   ],
   "source": [
    "tweets.head(3)"
   ]
  },
  {
   "cell_type": "code",
   "execution_count": 18,
   "id": "bef3a4db-2aa1-412a-b4b6-6a07696d38d7",
   "metadata": {},
   "outputs": [],
   "source": [
    "#convert to list\n",
    "ctext = tweets['ctext'].tolist()"
   ]
  },
  {
   "cell_type": "code",
   "execution_count": 19,
   "id": "f210384d-bd53-4a61-b085-e7e1545ee33f",
   "metadata": {},
   "outputs": [],
   "source": [
    "nctext = tweets['text'].tolist()\n",
    "tweetid = tweets['id'].tolist()\n",
    "authorid = tweets['author_id'].tolist()\n",
    "authorname = tweets['author_name'].tolist()\n",
    "authorusername = tweets['author_username'].tolist()"
   ]
  },
  {
   "cell_type": "code",
   "execution_count": 20,
   "id": "25ad07de-a943-4a3d-a64e-0a555ecc16d5",
   "metadata": {},
   "outputs": [
    {
     "name": "stderr",
     "output_type": "stream",
     "text": [
      "<>:2: DeprecationWarning: invalid escape sequence \\s\n",
      "<>:2: DeprecationWarning: invalid escape sequence \\s\n",
      "/var/folders/kg/0ndh6pln2x7b6rpm16twhvpc0000gn/T/ipykernel_3059/1351202947.py:2: DeprecationWarning: invalid escape sequence \\s\n",
      "  ctext = [re.sub('\\s+', ' ', sent) for sent in ctext]\n"
     ]
    }
   ],
   "source": [
    "# Remove new line characters\n",
    "ctext = [re.sub('\\s+', ' ', sent) for sent in ctext]"
   ]
  },
  {
   "cell_type": "code",
   "execution_count": 21,
   "id": "10de78ad-cd53-4a1e-b4d8-42cf0466e43f",
   "metadata": {},
   "outputs": [],
   "source": [
    "# Remove distracting single quotes\n",
    "ctext = [re.sub(\"\\'\", \"\", sent) for sent in ctext]"
   ]
  },
  {
   "cell_type": "code",
   "execution_count": 22,
   "id": "a06b12d3-e30d-437a-82d6-8ff049bc9a56",
   "metadata": {},
   "outputs": [],
   "source": [
    "# remove punctuations\n",
    "ctext = [re.sub(r'[^\\w\\s]', '', sent) for sent in ctext]"
   ]
  },
  {
   "cell_type": "code",
   "execution_count": 23,
   "id": "e48ea990-81ac-4293-8fc2-cad5bc777db5",
   "metadata": {},
   "outputs": [
    {
     "data": {
      "text/plain": [
       "['business knows about the damage that It does but this business is too much easy and lucrative Exxons Plan for Surging Carbon Emissions Revealed in Leaked Documents',\n",
       " 'Your opinion piece concerning climate science alone motivating people to help create political change on Global Warming policy is Spot On Informing people about the injustices Exxon and Big Oil has perpetrated on us is crucial in inspiring citizens to fight back',\n",
       " 'Each year the government gives over 15 billion in taxpayerfunded subsidies to fossil fuel corporations who contribute to the climate crisis like Exxon Will you sign this petition to pressure the Senate to END fossil fuel subsidies ',\n",
       " 'Each year the government gives over 15 billion in taxpayerfunded subsidies to fossil fuel corporations who contribute to the climate crisis like Exxon Will you sign our petition to pressure the Senate to END fossil fuel subsidies ']"
      ]
     },
     "execution_count": 23,
     "metadata": {},
     "output_type": "execute_result"
    }
   ],
   "source": [
    "ctext[1:5]"
   ]
  },
  {
   "cell_type": "markdown",
   "id": "eee9d1b7-d916-49e8-9467-c99192da368b",
   "metadata": {
    "tags": []
   },
   "source": [
    "### Tokenize words and further clean up text"
   ]
  },
  {
   "cell_type": "markdown",
   "id": "aa60cee8-1c55-469f-ae2f-ed218555bee5",
   "metadata": {},
   "source": [
    "Tokenize each sentence into a list of words, removing punctuations and unnecessary characters altoghter"
   ]
  },
  {
   "cell_type": "code",
   "execution_count": 24,
   "id": "6b44245f-17f9-45d5-8ebd-bc0c18503060",
   "metadata": {},
   "outputs": [
    {
     "name": "stdout",
     "output_type": "stream",
     "text": [
      "[['we', 'are', 'in', 'climate', 'wildfires', 'ravage', 'colorado', 'sen', 'manchin', 'your', 'exxon', 'highway', 'bill', 'isnt', 'going', 'save', 'our', 'homes', 'or', 'our', 'lives', 'your', 'greed', 'amp', 'corruption', 'is', 'not', 'only', 'torching', 'our', 'future', 'its', 'burning', 'our', 'communities', 'and', 'destroying', 'lives']]\n"
     ]
    }
   ],
   "source": [
    "def sent_to_words(sentences):\n",
    "    for sentence in sentences:\n",
    "        yield(gensim.utils.simple_preprocess(str(sentence), deacc=True))  # deacc=True removes punctuations\n",
    "\n",
    "tweet_words = list(sent_to_words(ctext))\n",
    "\n",
    "print(tweet_words[:1])"
   ]
  },
  {
   "cell_type": "code",
   "execution_count": 25,
   "id": "8bef03c9-848f-4004-824e-b2340c6086f1",
   "metadata": {},
   "outputs": [
    {
     "name": "stdout",
     "output_type": "stream",
     "text": [
      "['we', 'are', 'in', 'climate', 'wildfires', 'ravage', 'colorado', 'sen_manchin', 'your', 'exxon', 'highway', 'bill', 'isnt', 'going', 'save', 'our', 'homes', 'or', 'our', 'lives', 'your', 'greed', 'amp', 'corruption', 'is', 'not', 'only', 'torching', 'our', 'future', 'its', 'burning', 'our', 'communities', 'and', 'destroying', 'lives']\n"
     ]
    }
   ],
   "source": [
    "# Build the bigram and trigram models\n",
    "bigram = gensim.models.Phrases(tweet_words, min_count=5, threshold=100) # higher threshold fewer phrases.\n",
    "trigram = gensim.models.Phrases(bigram[tweet_words], threshold=100)  \n",
    "\n",
    "# Faster way to get a sentence clubbed as a trigram/bigram\n",
    "bigram_mod = gensim.models.phrases.Phraser(bigram)\n",
    "trigram_mod = gensim.models.phrases.Phraser(trigram)\n",
    "\n",
    "# See trigram example\n",
    "print(trigram_mod[bigram_mod[tweet_words[0]]])"
   ]
  },
  {
   "cell_type": "markdown",
   "id": "c24a6586-a208-47dc-b7df-e84b8c5a621a",
   "metadata": {
    "tags": []
   },
   "source": [
    "### Remove Stopwords, Make Bigrams and Lemmatize"
   ]
  },
  {
   "cell_type": "code",
   "execution_count": 26,
   "id": "b527df8e-7e82-45eb-995f-64d60d7d5dcd",
   "metadata": {},
   "outputs": [],
   "source": [
    "stop_words = stopwords.words('english')\n",
    "stop_words.extend(['from', 'subject', 're', 'edu'])"
   ]
  },
  {
   "cell_type": "code",
   "execution_count": 27,
   "id": "3a9ae696-61af-40ea-8380-ea5b22393074",
   "metadata": {},
   "outputs": [],
   "source": [
    "# Define functions for stopwords, bigrams, trigrams and lemmatization\n",
    "def remove_stopwords(texts):\n",
    "    return [[word for word in simple_preprocess(str(doc)) if word not in stop_words] for doc in texts]\n",
    "\n",
    "def make_bigrams(texts):\n",
    "    return [bigram_mod[doc] for doc in texts]\n",
    "\n",
    "def make_trigrams(texts):\n",
    "    return [trigram_mod[bigram_mod[doc]] for doc in texts]"
   ]
  },
  {
   "cell_type": "code",
   "execution_count": 28,
   "id": "91edbe4c-1e69-4d5c-b09a-318a5c3047d2",
   "metadata": {},
   "outputs": [],
   "source": [
    "def lemmatization(texts, allowed_postags=['NOUN', 'ADJ', 'VERB', 'ADV']):\n",
    "    \"\"\"https://spacy.io/api/annotation\"\"\"\n",
    "    texts_out = []\n",
    "    for sent in texts:\n",
    "        doc = nlp(\" \".join(sent)) \n",
    "        texts_out.append([token.lemma_ for token in doc if token.pos_ in allowed_postags])\n",
    "    return texts_out"
   ]
  },
  {
   "cell_type": "code",
   "execution_count": 29,
   "id": "246f1398-6c05-4437-9052-fdc9f25af0b6",
   "metadata": {},
   "outputs": [],
   "source": [
    "# Remove Stop Words\n",
    "tweet_words_nostops = remove_stopwords(tweet_words)"
   ]
  },
  {
   "cell_type": "code",
   "execution_count": 30,
   "id": "29c6dc85-e89e-4ff4-a4d1-83fede7b1a5e",
   "metadata": {},
   "outputs": [],
   "source": [
    "# Form Bigrams\n",
    "tweet_words_bigrams = make_bigrams(tweet_words_nostops)"
   ]
  },
  {
   "cell_type": "code",
   "execution_count": 31,
   "id": "ccc2cc77-8a72-423b-ae6c-6546c8ade7a8",
   "metadata": {},
   "outputs": [
    {
     "name": "stdout",
     "output_type": "stream",
     "text": [
      "[['climate', 'wildfire', 'ravage', 'highway', 'bill', 'go', 'save', 'home', 'live', 'greed', 'amp', 'corruption', 'torch', 'future', 'burn', 'community', 'destroy', 'life']]\n"
     ]
    }
   ],
   "source": [
    "# Initialize spacy 'en_core_web_sm' model, keeping only tagger component (for efficiency)\n",
    "# python3 -m spacy download en_core_web_sm\n",
    "nlp = spacy.load(\"en_core_web_sm\", disable=['parser', 'ner'])# not \"en\" any more\n",
    "\n",
    "# Do lemmatization keeping only noun, adj, vb, adv\n",
    "tweet_lemmatized = lemmatization(tweet_words_bigrams, allowed_postags=['NOUN', 'ADJ', 'VERB', 'ADV'])\n",
    "\n",
    "print(tweet_lemmatized[:1])"
   ]
  },
  {
   "cell_type": "markdown",
   "id": "805b9a70-7bf6-4b5b-8391-76185dd7cea7",
   "metadata": {
    "tags": []
   },
   "source": [
    "### Creat the dictionary and the corpus"
   ]
  },
  {
   "cell_type": "code",
   "execution_count": 32,
   "id": "045af5c1-03ce-4c46-a4ce-5d2510470d2b",
   "metadata": {},
   "outputs": [
    {
     "name": "stdout",
     "output_type": "stream",
     "text": [
      "[[(0, 1), (1, 1), (2, 1), (3, 1), (4, 1), (5, 1), (6, 1), (7, 1), (8, 1), (9, 1), (10, 1), (11, 1), (12, 1), (13, 1), (14, 1), (15, 1), (16, 1), (17, 1)]]\n"
     ]
    }
   ],
   "source": [
    "# Create Dictionary\n",
    "id2word = corpora.Dictionary(tweet_lemmatized)\n",
    "\n",
    "# Create Corpus\n",
    "texts = tweet_lemmatized\n",
    "\n",
    "# Term Document Frequency\n",
    "corpus = [id2word.doc2bow(text) for text in texts] \n",
    "\n",
    "#Gensim creates a unique id for each word in the document. \n",
    "#The produced corpus shown below is a mapping of (word_id, word_frequency(times of occurance)).\n",
    "\n",
    "# View\n",
    "print(corpus[:1])"
   ]
  },
  {
   "cell_type": "code",
   "execution_count": 33,
   "id": "494c70fb-e5f5-497a-89f3-9892a245c9d2",
   "metadata": {},
   "outputs": [
    {
     "data": {
      "text/plain": [
       "'inspire'"
      ]
     },
     "execution_count": 33,
     "metadata": {},
     "output_type": "execute_result"
    }
   ],
   "source": [
    "id2word[40]"
   ]
  },
  {
   "cell_type": "code",
   "execution_count": 34,
   "id": "7c2ed933-af4b-42eb-a1f3-d6e64196b7aa",
   "metadata": {},
   "outputs": [
    {
     "data": {
      "text/plain": [
       "'community'"
      ]
     },
     "execution_count": 34,
     "metadata": {},
     "output_type": "execute_result"
    }
   ],
   "source": [
    "#If you want to see what word a given id corresponds to, pass the id as a key to the dictionary.\n",
    "id2word[4]\n",
    "\n",
    "#input of LDA"
   ]
  },
  {
   "cell_type": "code",
   "execution_count": 35,
   "id": "5520aec4-4caa-4db2-bcad-f2eea66c6b10",
   "metadata": {},
   "outputs": [
    {
     "data": {
      "text/plain": [
       "[[('amp', 1),\n",
       "  ('bill', 1),\n",
       "  ('burn', 1),\n",
       "  ('climate', 1),\n",
       "  ('community', 1),\n",
       "  ('corruption', 1),\n",
       "  ('destroy', 1),\n",
       "  ('future', 1),\n",
       "  ('go', 1),\n",
       "  ('greed', 1),\n",
       "  ('highway', 1),\n",
       "  ('home', 1),\n",
       "  ('life', 1),\n",
       "  ('live', 1),\n",
       "  ('ravage', 1),\n",
       "  ('save', 1),\n",
       "  ('torch', 1),\n",
       "  ('wildfire', 1)]]"
      ]
     },
     "execution_count": 35,
     "metadata": {},
     "output_type": "execute_result"
    }
   ],
   "source": [
    "# Human readable format of corpus (term-frequency)\n",
    "[[(id2word[id], freq) for id, freq in cp] for cp in corpus[:1]]"
   ]
  },
  {
   "cell_type": "markdown",
   "id": "82855c8f-5efb-4c9d-872f-6a1ac7954577",
   "metadata": {
    "tags": []
   },
   "source": [
    "### Building the Topic Model"
   ]
  },
  {
   "cell_type": "code",
   "execution_count": 36,
   "id": "fd2479a5-4314-45dd-98d5-a06ef929f664",
   "metadata": {},
   "outputs": [],
   "source": [
    "# Build LDA model\n",
    "lda_model = gensim.models.ldamodel.LdaModel(corpus=corpus,\n",
    "                                           id2word=id2word,\n",
    "                                           num_topics=10, \n",
    "                                           random_state=500,\n",
    "                                           update_every=1,\n",
    "                                           chunksize=200,\n",
    "                                           passes=10,\n",
    "                                           alpha='auto',\n",
    "                                           per_word_topics=True)"
   ]
  },
  {
   "cell_type": "code",
   "execution_count": 37,
   "id": "98c1416a-9b9f-49b1-95b7-4105946d733f",
   "metadata": {},
   "outputs": [
    {
     "name": "stdout",
     "output_type": "stream",
     "text": [
      "[(0,\n",
      "  '0.086*\"know\" + 0.062*\"seat\" + 0.059*\"fight\" + 0.033*\"report\" + '\n",
      "  '0.030*\"reveal\" + 0.027*\"clean\" + 0.025*\"damage\" + 0.023*\"look\" + '\n",
      "  '0.020*\"help\" + 0.020*\"leaked_document\"'),\n",
      " (1,\n",
      "  '0.088*\"giant\" + 0.076*\"hold\" + 0.055*\"could_slow\" + '\n",
      "  '0.035*\"bloomberg_businessweek\" + 0.029*\"ad\" + 0.024*\"wind\" + 0.023*\"invest\" '\n",
      "  '+ 0.022*\"co\" + 0.022*\"demand\" + 0.022*\"exxonmobil\"'),\n",
      " (2,\n",
      "  '0.145*\"activist\" + 0.113*\"investor\" + 0.066*\"shareholder\" + 0.048*\"shell\" + '\n",
      "  '0.034*\"major\" + 0.026*\"historic\" + 0.019*\"put\" + 0.017*\"group\" + '\n",
      "  '0.014*\"move\" + 0.014*\"goal\"'),\n",
      " (3,\n",
      "  '0.109*\"exxon\" + 0.089*\"board\" + 0.077*\"emission\" + 0.053*\"back\" + '\n",
      "  '0.041*\"business\" + 0.035*\"plan\" + 0.031*\"strategy\" + 0.023*\"time\" + '\n",
      "  '0.022*\"keep\" + 0.021*\"public\"'),\n",
      " (4,\n",
      "  '0.129*\"fuel\" + 0.109*\"fossil\" + 0.078*\"pressure\" + 0.050*\"world\" + '\n",
      "  '0.035*\"enough\" + 0.035*\"concern\" + 0.028*\"corporation\" + 0.028*\"petition\" + '\n",
      "  '0.026*\"subsidy\" + 0.023*\"warm\"'),\n",
      " (5,\n",
      "  '0.084*\"crisis\" + 0.075*\"amp\" + 0.051*\"least\" + 0.046*\"chevron\" + '\n",
      "  '0.036*\"address\" + 0.029*\"lose\" + 0.029*\"court\" + 0.022*\"well\" + '\n",
      "  '0.020*\"datum\" + 0.019*\"even\"'),\n",
      " (6,\n",
      "  '0.108*\"energy\" + 0.071*\"director\" + 0.043*\"news\" + 0.035*\"product\" + '\n",
      "  '0.033*\"xom\" + 0.031*\"late\" + 0.027*\"include\" + 0.025*\"way\" + '\n",
      "  '0.020*\"challenge\" + 0.019*\"begin\"'),\n",
      " (7,\n",
      "  '0.114*\"use\" + 0.052*\"take\" + 0.046*\"find\" + 0.044*\"engine\" + 0.037*\"day\" + '\n",
      "  '0.034*\"fund\" + 0.021*\"campaign\" + 0.020*\"green\" + 0.018*\"solution\" + '\n",
      "  '0.018*\"victory\"'),\n",
      " (8,\n",
      "  '0.191*\"climate\" + 0.090*\"change\" + 0.061*\"oil\" + 0.035*\"company\" + '\n",
      "  '0.031*\"new\" + 0.023*\"say\" + 0.015*\"win\" + 0.015*\"industry\" + '\n",
      "  '0.012*\"technology\" + 0.010*\"make\"'),\n",
      " (9,\n",
      "  '0.161*\"big\" + 0.054*\"downplay\" + 0.046*\"vote\" + 0.044*\"future\" + '\n",
      "  '0.031*\"carbon\" + 0.029*\"risk\" + 0.021*\"role\" + 0.018*\"hedge_fund\" + '\n",
      "  '0.017*\"focus\" + 0.015*\"think\"')]\n"
     ]
    }
   ],
   "source": [
    "# Print the Keyword in the topics\n",
    "pprint(lda_model.print_topics())\n",
    "doc_lda = lda_model[corpus]"
   ]
  },
  {
   "cell_type": "markdown",
   "id": "d2a08cd6-7d24-4d44-b4b9-398195a86847",
   "metadata": {
    "tags": []
   },
   "source": [
    "### Compute model perplexity and coherence score"
   ]
  },
  {
   "cell_type": "code",
   "execution_count": 38,
   "id": "0d82ce0a-a3f3-410d-84e0-140df9173b4a",
   "metadata": {},
   "outputs": [
    {
     "name": "stdout",
     "output_type": "stream",
     "text": [
      "\n",
      "Perplexity:  -7.993718620574877\n",
      "\n",
      "Coherence Score:  0.35096029508728704\n"
     ]
    }
   ],
   "source": [
    "# Compute Perplexity\n",
    "print('\\nPerplexity: ', lda_model.log_perplexity(corpus))  # a measure of how good the model is. lower the better.\n",
    "\n",
    "# Compute Coherence Score\n",
    "coherence_model_lda = CoherenceModel(model=lda_model, texts=tweet_lemmatized, dictionary=id2word, coherence='c_v')\n",
    "coherence_lda = coherence_model_lda.get_coherence()\n",
    "print('\\nCoherence Score: ', coherence_lda)"
   ]
  },
  {
   "cell_type": "code",
   "execution_count": 39,
   "id": "77942d7d-c8f8-4bd2-9df3-2fd7cdbb7ece",
   "metadata": {},
   "outputs": [
    {
     "name": "stderr",
     "output_type": "stream",
     "text": [
      "/opt/anaconda3/lib/python3.9/site-packages/pyLDAvis/_prepare.py:246: FutureWarning: In a future version of pandas all arguments of DataFrame.drop except for the argument 'labels' will be keyword-only\n",
      "  default_term_info = default_term_info.sort_values(\n",
      "/opt/anaconda3/lib/python3.9/site-packages/past/builtins/misc.py:45: DeprecationWarning: the imp module is deprecated in favour of importlib; see the module's documentation for alternative uses\n",
      "  from imp import reload\n",
      "/opt/anaconda3/lib/python3.9/site-packages/past/builtins/misc.py:45: DeprecationWarning: the imp module is deprecated in favour of importlib; see the module's documentation for alternative uses\n",
      "  from imp import reload\n",
      "/opt/anaconda3/lib/python3.9/site-packages/past/builtins/misc.py:45: DeprecationWarning: the imp module is deprecated in favour of importlib; see the module's documentation for alternative uses\n",
      "  from imp import reload\n",
      "/opt/anaconda3/lib/python3.9/site-packages/past/builtins/misc.py:45: DeprecationWarning: the imp module is deprecated in favour of importlib; see the module's documentation for alternative uses\n",
      "  from imp import reload\n",
      "/opt/anaconda3/lib/python3.9/site-packages/past/builtins/misc.py:45: DeprecationWarning: the imp module is deprecated in favour of importlib; see the module's documentation for alternative uses\n",
      "  from imp import reload\n",
      "/opt/anaconda3/lib/python3.9/site-packages/past/builtins/misc.py:45: DeprecationWarning: the imp module is deprecated in favour of importlib; see the module's documentation for alternative uses\n",
      "  from imp import reload\n",
      "/opt/anaconda3/lib/python3.9/site-packages/past/builtins/misc.py:45: DeprecationWarning: the imp module is deprecated in favour of importlib; see the module's documentation for alternative uses\n",
      "  from imp import reload\n",
      "/opt/anaconda3/lib/python3.9/site-packages/past/builtins/misc.py:45: DeprecationWarning: the imp module is deprecated in favour of importlib; see the module's documentation for alternative uses\n",
      "  from imp import reload\n"
     ]
    },
    {
     "data": {
      "text/html": [
       "\n",
       "<link rel=\"stylesheet\" type=\"text/css\" href=\"https://cdn.jsdelivr.net/gh/bmabey/pyLDAvis@3.3.1/pyLDAvis/js/ldavis.v1.0.0.css\">\n",
       "\n",
       "\n",
       "<div id=\"ldavis_el30591405806261991521096431602\"></div>\n",
       "<script type=\"text/javascript\">\n",
       "\n",
       "var ldavis_el30591405806261991521096431602_data = {\"mdsDat\": {\"x\": [0.45474258858805533, -0.008196128619062932, -0.028381665759832378, -0.06285811815907968, -0.042888931098752255, -0.058610832390627206, -0.07477211788138756, -0.036630436183843595, -0.06722279709139828, -0.07518156140407198], \"y\": [0.0426985725506851, -0.4373917700257478, 0.01756920231835304, 0.058616531635387215, 0.042458081116480716, 0.052856090504839096, 0.053980250541934886, 0.06314241123616397, 0.05327686042667706, 0.0527937696952273], \"topics\": [1, 2, 3, 4, 5, 6, 7, 8, 9, 10], \"cluster\": [1, 1, 1, 1, 1, 1, 1, 1, 1, 1], \"Freq\": [37.248651597398904, 9.958669024312668, 8.910754794471535, 8.490864623819459, 7.821907759897012, 7.310588959072708, 6.3322620711842355, 5.3100255818851165, 4.666070328725832, 3.9502052592325296]}, \"tinfo\": {\"Term\": [\"climate\", \"change\", \"big\", \"activist\", \"exxon\", \"investor\", \"oil\", \"board\", \"fuel\", \"use\", \"emission\", \"fossil\", \"crisis\", \"know\", \"amp\", \"shareholder\", \"energy\", \"company\", \"giant\", \"back\", \"pressure\", \"seat\", \"new\", \"fight\", \"hold\", \"downplay\", \"least\", \"shell\", \"chevron\", \"business\", \"climate\", \"change\", \"oil\", \"company\", \"new\", \"say\", \"win\", \"industry\", \"technology\", \"make\", \"face\", \"gas\", \"study\", \"push\", \"sue\", \"get\", \"action\", \"case\", \"project\", \"large\", \"go\", \"much\", \"need\", \"cut\", \"good\", \"first\", \"support\", \"effort\", \"today\", \"increase\", \"year\", \"exxon\", \"board\", \"emission\", \"back\", \"business\", \"plan\", \"strategy\", \"time\", \"keep\", \"public\", \"investment\", \"member\", \"come\", \"work\", \"see\", \"environmental\", \"rise\", \"transition\", \"reduce\", \"state\", \"proxy\", \"stop\", \"full\", \"assessment\", \"committing_ecocide\", \"shows_yearly\", \"toll\", \"file\", \"earning\", \"become\", \"activist\", \"investor\", \"shareholder\", \"shell\", \"major\", \"historic\", \"put\", \"group\", \"move\", \"goal\", \"target\", \"dutch\", \"issue\", \"urge\", \"investor_oust\", \"science\", \"annual\", \"proclimate_campaign\", \"loss\", \"battle\", \"setback\", \"protect\", \"last\", \"break\", \"sector\", \"production\", \"capitalism\", \"next\", \"follow\", \"firm\", \"amp\", \"least\", \"chevron\", \"address\", \"lose\", \"court\", \"well\", \"datum\", \"even\", \"spend\", \"renewable\", \"call\", \"question\", \"money\", \"lie\", \"fraud\", \"continue\", \"corporate\", \"start\", \"let\", \"cause\", \"give\", \"regulation\", \"responsibility\", \"away\", \"interest\", \"denier\", \"drive\", \"part\", \"billion\", \"crisis\", \"big\", \"downplay\", \"vote\", \"future\", \"carbon\", \"risk\", \"role\", \"hedge_fund\", \"focus\", \"think\", \"solar\", \"pension_fund\", \"still\", \"earth\", \"bad\", \"high\", \"former\", \"thank\", \"defeat\", \"fail\", \"total\", \"order\", \"grow\", \"boardroom\", \"onto_consumer\", \"landmark\", \"deploy\", \"meat\", \"here\", \"human\", \"know\", \"seat\", \"fight\", \"report\", \"reveal\", \"clean\", \"damage\", \"look\", \"help\", \"leaked_document\", \"right\", \"blame\", \"consumer\", \"also\", \"lucrative\", \"claim\", \"policy\", \"blow\", \"article\", \"political\", \"past\", \"accountable\", \"judge\", \"re\", \"pay\", \"ve\", \"hiding\", \"create\", \"global_warme\", \"gasoline\", \"use\", \"take\", \"find\", \"engine\", \"day\", \"fund\", \"campaign\", \"green\", \"solution\", \"victory\", \"management\", \"little\", \"disclosure\", \"entire\", \"going\", \"write\", \"warn\", \"notice\", \"offer\", \"join\", \"expect\", \"m\", \"misrepresent\", \"figure\", \"interesting\", \"effect\", \"block\", \"leave\", \"already\", \"pull\", \"fuel\", \"fossil\", \"pressure\", \"world\", \"enough\", \"concern\", \"corporation\", \"petition\", \"subsidy\", \"warm\", \"texas_governor\", \"quit\", \"end\", \"shake\", \"price\", \"stance\", \"evidence\", \"chang_said\", \"hope\", \"sign\", \"turn\", \"phase\", \"score\", \"item\", \"rid\", \"trade\", \"do\", \"month\", \"however\", \"systematically\", \"year\", \"giant\", \"hold\", \"could_slow\", \"ad\", \"bloomberg_businessweek\", \"wind\", \"invest\", \"co\", \"demand\", \"exxonmobil\", \"planet\", \"try\", \"read\", \"power\", \"great\", \"denial\", \"set\", \"valuable\", \"provider\", \"mean\", \"producer\", \"ask\", \"rd\", \"propaganda\", \"heat\", \"funding\", \"point\", \"capture\", \"choice\", \"reckon\", \"divest\", \"nextera\", \"giant_exxononce\", \"energy\", \"director\", \"news\", \"product\", \"xom\", \"late\", \"include\", \"way\", \"challenge\", \"begin\", \"launch\", \"elect\", \"stand\", \"stock\", \"old\", \"decision\", \"sell\", \"share\", \"tech\", \"ignore\", \"drill\", \"trump\", \"auto\", \"asset\", \"double\", \"electrification\", \"law\", \"mislead\", \"early\", \"dissident\", \"nyc_sue\"], \"Freq\": [15544.0, 7304.0, 2762.0, 2829.0, 2367.0, 2195.0, 4967.0, 1946.0, 1503.0, 1582.0, 1685.0, 1268.0, 1585.0, 1379.0, 1385.0, 1288.0, 935.0, 2829.0, 896.0, 1151.0, 901.0, 999.0, 2559.0, 951.0, 776.0, 925.0, 955.0, 938.0, 856.0, 889.0, 15543.68196070023, 7303.407760469157, 4966.340651666647, 2828.7540572133153, 2558.79715683053, 1843.920617210437, 1228.2941522874055, 1183.0020958125704, 949.1288185131093, 833.2715071888778, 819.9770814471444, 800.919463672055, 749.3669747872171, 727.0075503780056, 711.3788573125698, 665.3228022309426, 635.3180034652348, 631.0446352771093, 615.0065461170733, 546.0743601084691, 545.1506101291433, 538.6072546232706, 530.8023186227115, 481.6168062499666, 468.64806840145354, 433.1979866283013, 430.3744095780375, 414.71767464459634, 401.2647876839317, 378.66569827022533, 764.5521585789772, 2366.2983753479566, 1945.8221928431842, 1684.1460507407767, 1150.2904162608593, 888.1509304446583, 768.1002704494778, 677.1284256358153, 499.97680080251206, 474.055321200928, 452.6320252254471, 444.1726545895156, 410.1991475118405, 344.19385111452976, 324.88910073321154, 322.6282609778633, 289.79294486922606, 276.73028811825077, 270.2593632388204, 257.6398615961373, 253.15764624393304, 192.56957154928295, 186.0003413495982, 182.8550783528532, 178.2931839516007, 177.41841877675526, 177.41841877675526, 208.7385140998497, 157.76535915288875, 166.46345244010038, 139.31615926359228, 2828.990551943164, 2194.2823361235987, 1287.9057818590845, 937.589151670634, 661.9974434632963, 512.9357898735738, 374.7014560263499, 333.7992768940078, 280.77574354246235, 268.1266050973196, 242.5748479909231, 241.8872996981038, 236.48130124006164, 233.53080386993366, 225.96820836910362, 220.44238686090154, 219.3165403746032, 212.1005965888874, 210.39711222578012, 193.36488291580164, 191.46223811932245, 178.49391648556426, 163.5093541727737, 160.75315169398087, 156.95768396013403, 154.01070866148046, 146.85825293734186, 142.04526057004207, 134.5692826104716, 124.96141657345682, 1384.2918855394591, 954.2643465778673, 855.5845379660234, 666.1203489378623, 531.443784422068, 530.6391149089989, 409.4930871119316, 363.7609960869698, 346.2843714246314, 306.2682468431538, 304.8422826469276, 296.7799141581317, 279.9114884481727, 258.3311945850843, 222.43226742294078, 219.03189259344063, 217.075213960229, 216.01300660820678, 208.8984956954219, 204.14678676556727, 196.46651260396663, 185.09547400013898, 181.41605803795176, 181.26577717498506, 161.71250176194064, 156.74991177768706, 155.9962585262604, 153.9250744214272, 152.10407586283833, 137.69910069811417, 1554.8463929090306, 2761.886487225317, 924.1894607165002, 782.1515385084388, 751.0542066578907, 536.1053028509741, 491.13289905339093, 361.6803347157389, 304.8817908538263, 299.04202900612773, 257.0928387993675, 250.9667128719575, 249.07373618342265, 248.59924099118447, 247.1673249732563, 224.66896347778044, 202.09104666559693, 200.08960573717584, 198.56659633176756, 181.771659397445, 181.2774347416483, 172.01982222227127, 166.60935947743135, 160.66470317969882, 153.09789612534843, 148.3049592152649, 141.61649576675205, 122.04122641233631, 119.4420608272456, 114.99630191685674, 113.63112821991646, 1378.4168884596343, 998.5017428366222, 950.1590421591893, 521.9265169973006, 485.47369950903715, 438.3801054913687, 406.48318641043414, 368.9483519873025, 327.7904201116772, 325.23965798225083, 319.830079730681, 287.77059894021573, 265.4655058818149, 257.01944648416145, 254.03971447801842, 223.66121470757435, 222.97593532951953, 218.5516919478954, 197.7213317885819, 189.54500209570142, 171.32891543922815, 165.7703595242236, 162.14184036912147, 159.71845846142014, 155.41745455062772, 151.2661581478519, 149.48517352532116, 129.20009663742155, 122.66475546043087, 116.30175442088982, 1581.2535348838792, 719.4842863352585, 640.1799951169919, 615.3396182108281, 514.9363903927405, 468.1048078812842, 287.0905972686989, 271.6204382839595, 254.82400321821308, 244.38019835316098, 194.1931244552387, 190.0183608538299, 165.26781721957317, 155.8207707566857, 129.25509961160247, 127.7692188477342, 127.69555117825412, 127.66062676822216, 124.60532790950774, 115.96839358357157, 114.87190644496546, 100.66418682869592, 96.57475386930835, 96.133051038108, 91.7246602926047, 85.33135160471761, 83.65159327463012, 82.40458412204437, 81.79706452692238, 81.10711068063702, 1502.8894072505445, 1267.5404657051322, 900.7568550535245, 582.5827018383632, 407.6581982275864, 403.5235609052712, 328.02829355016314, 323.7518002976118, 305.42051315175354, 269.62378799126463, 201.1441142866014, 173.66039330628396, 169.9316119454451, 158.08973594370434, 146.42135000429326, 136.9289790752681, 134.7658167833935, 135.5176791787328, 128.73796753308798, 125.2282449638462, 124.813019933152, 122.37883621751708, 115.34569449516536, 105.83738749344057, 92.61605128420392, 89.63608142087593, 70.4332598714182, 68.12631049589476, 56.40238631534066, 61.38161926255733, 204.38022974207936, 895.5624047073577, 775.3401824398378, 558.6813090681588, 296.9685353220355, 357.0191453387178, 241.7519113219176, 234.64337230919782, 223.47620084789295, 222.4400384103492, 222.39558472973084, 214.15482682331506, 210.04742461819188, 202.55692239334982, 198.71983583294477, 191.51387138845064, 178.13646977167977, 157.95738883059778, 152.786482702589, 147.09325533408983, 139.95380979534562, 137.17620579193618, 130.50615727640215, 127.92915573550933, 105.04049176724209, 100.20755149594464, 99.84513421353819, 93.19254964396137, 92.41218600547616, 90.40928910933553, 88.39119087972425, 89.865549104424, 114.70230341007124, 100.8806121632709, 934.5677415231787, 610.9437009171364, 369.24185894741044, 304.19336941765056, 286.3880267693543, 270.4720919293691, 229.99578716199238, 212.14896381918246, 168.94418870452856, 160.69667734471744, 156.47124808821283, 150.13332955453205, 149.95749132912746, 131.13391593983496, 129.2272768224525, 121.88857415967023, 109.76585326042154, 107.74929110740305, 104.73043175377191, 101.31034285734073, 96.6248271859021, 94.36609310856907, 94.84213116039216, 90.67918853799782, 87.0610321421522, 82.34420876763667, 78.97034903482341, 73.32872508512641, 68.19621750592755, 68.17995198718246, 87.69718213356694], \"Total\": [15544.0, 7304.0, 2762.0, 2829.0, 2367.0, 2195.0, 4967.0, 1946.0, 1503.0, 1582.0, 1685.0, 1268.0, 1585.0, 1379.0, 1385.0, 1288.0, 935.0, 2829.0, 896.0, 1151.0, 901.0, 999.0, 2559.0, 951.0, 776.0, 925.0, 955.0, 938.0, 856.0, 889.0, 15544.582289359834, 7304.308102541254, 4967.240991001505, 2829.6544022342996, 2559.6975015948033, 1844.8209841247597, 1229.1944315476264, 1183.9024975777836, 950.0301809882232, 834.1718520757424, 820.8774283437538, 801.8198316698848, 750.2675722989204, 727.9078322398651, 712.2796123865962, 666.223168794928, 636.218295767003, 631.9450019596496, 615.9072777493114, 546.9748602151792, 546.0509911762872, 539.5078987977157, 531.7026688455792, 482.5171959944398, 469.54838071933665, 434.09843120955037, 431.2747381934476, 415.6180080580443, 402.16510121757756, 379.5662604401151, 969.6937612521343, 2367.2122850193423, 1946.736025808721, 1685.0600045303943, 1151.2045711314358, 889.0648375964981, 769.0141963601852, 678.0422593715724, 500.890757570425, 474.96937581447054, 453.5462493507888, 445.08656817787266, 411.11296337305606, 345.10779972204057, 325.80310555113397, 323.54215113178793, 290.7069705061192, 277.6441944983712, 271.1732724565866, 258.5537500838649, 254.07174299914166, 193.48345902148762, 186.91431141690805, 183.76942486536916, 179.20696735570124, 178.33220371069794, 178.33220371069794, 209.8650039707739, 158.67952486145492, 167.47482070975084, 140.2301175275158, 2829.9041246914135, 2195.1959984656955, 1288.819364537627, 938.5027253597149, 662.9111149519664, 513.8493500301367, 375.6151169310801, 334.712997897637, 281.6895096374888, 269.0404396463523, 243.4886921048377, 242.80122688429861, 237.3951203908707, 234.44477923432265, 226.88437277750148, 221.35620189284478, 220.23032629178036, 213.01706809372632, 211.3109524406144, 194.2784679217945, 192.3758484230593, 179.40788716492958, 164.42316886595728, 161.66692580064623, 157.87186960910827, 154.9246553824451, 147.77323056699643, 142.9590780612401, 135.48300533019213, 125.87505329313683, 1385.1851319763946, 955.1575235102453, 856.4777085187596, 667.0137869868261, 532.336930770868, 531.5322774992125, 410.3863758668849, 364.6553261067906, 347.17778608751837, 307.1615785530571, 305.73555783224384, 297.6731402630248, 280.80472417981025, 259.2244203484385, 223.32550256054907, 219.92553387478748, 217.96852311545376, 216.9062396586858, 209.79176161139821, 205.04005057090092, 197.35979212496756, 185.98868582826648, 182.30949224945005, 182.1591115970866, 162.60569831818486, 157.6432171127239, 156.88963060388625, 154.8184045053084, 152.997336130402, 138.59239243223382, 1585.8728935204786, 2762.803732845968, 925.1070181769562, 783.0687741349035, 751.971629091939, 537.0227160247591, 492.0503058237955, 362.59787541877677, 305.7990097219892, 299.95954656166316, 258.01026095520297, 251.88469473097356, 249.99117236114557, 249.51662989368464, 248.08483068190216, 225.58621981474926, 203.00879374647803, 201.00723889942714, 199.48413860900254, 182.68887495217007, 182.1950446141363, 172.93746804873481, 167.52669284275777, 161.58204359904653, 154.01530541571896, 149.22315802250182, 142.53366405500296, 122.95849100178768, 120.35978489576586, 115.9140671827135, 114.54881455004771, 1379.3255215216273, 999.4102879337219, 951.0676002652, 522.8352240286378, 486.38230743152553, 439.2886977233527, 407.39179458094077, 369.8570993197716, 328.6992194947815, 326.1482351665394, 320.7388448192184, 288.6793284105986, 266.3743539841633, 257.9281379450748, 254.9482536002424, 224.56995311565578, 223.88454971073892, 219.46020148915503, 198.63000022921838, 190.4536577390744, 172.23773549043563, 166.67921798133042, 163.05060327995415, 160.62707874108648, 156.32606339672094, 152.17476661677074, 150.3977912864414, 130.10879868603735, 123.57345297893775, 117.21120422366643, 1582.1473030493526, 720.377993106482, 641.0737271799904, 616.2332321235666, 515.8300081033743, 468.99854419397934, 287.98433009854296, 272.51418556497083, 255.71789286664568, 245.27379146863768, 195.08676429820798, 190.91215064728908, 166.16174121205987, 156.71478408034022, 130.14911938447796, 128.662928350283, 128.58928467649852, 128.55456589553168, 125.499504216206, 116.86206450271315, 115.76563012209911, 101.55783029891286, 97.47180850640034, 97.02797013715549, 92.61831155547658, 86.22512382580858, 84.54525926641416, 83.29827863620308, 82.6908172775174, 82.0010022579887, 1503.7566239462033, 1268.407667076122, 901.6242207574902, 583.449988424632, 408.5255470681332, 404.3908306097921, 328.89565745909243, 324.61943653423106, 306.2881428790541, 270.49157803194896, 202.02252155182526, 174.52828822938102, 170.798881363348, 158.95720183886377, 147.28876041425787, 137.79625104384863, 135.63373933160577, 136.42412504858498, 129.60521178643003, 126.09550097019775, 125.68024908758979, 123.24674584518564, 116.21291139635152, 106.70631961544497, 93.4996701412201, 90.50360188457397, 71.30070074119138, 68.99367127851644, 57.270043474562684, 62.37008014642348, 969.6937612521343, 896.4888623434865, 776.2667228875831, 559.8920732806719, 297.89551839527536, 358.1687875490744, 242.6784753877223, 235.56991992995103, 224.40283810563568, 223.36652485845042, 223.32200363815645, 215.08133502701403, 210.97389248239026, 203.4833598423298, 199.64639914532117, 192.44033869175408, 179.0629802809883, 158.8839193074866, 153.7155035183732, 148.0647720791103, 140.88028223298235, 138.10284079511797, 131.4326457002784, 128.85775319694633, 105.96741675312089, 101.13413270103626, 100.77198110312051, 94.1189999201135, 93.33874980769251, 91.33602832721829, 89.31772886799615, 90.84181854586802, 117.14461930153881, 103.35109610124778, 935.4908870900796, 611.8667487343571, 370.16493638303257, 305.1166884891807, 287.31117495157014, 271.3953319784225, 230.9189950041342, 213.07214441436508, 169.8672796599223, 161.61986525483397, 157.39468141127418, 151.0563431386389, 150.88099704073755, 132.057206728188, 130.1505983113454, 122.81173990799205, 110.68911738809466, 108.67245419952832, 105.65403549141338, 102.23359173943933, 97.54826822216666, 95.29017338231642, 95.77202094678753, 91.60251050462514, 87.98446767672547, 83.28841141273931, 79.8934478855245, 74.25212396288082, 69.11938948434279, 69.1043234045714, 89.20342345324157], \"Category\": [\"Default\", \"Default\", \"Default\", \"Default\", \"Default\", \"Default\", \"Default\", \"Default\", \"Default\", \"Default\", \"Default\", \"Default\", \"Default\", \"Default\", \"Default\", \"Default\", \"Default\", \"Default\", \"Default\", \"Default\", \"Default\", \"Default\", \"Default\", \"Default\", \"Default\", \"Default\", \"Default\", \"Default\", \"Default\", \"Default\", \"Topic1\", \"Topic1\", \"Topic1\", \"Topic1\", \"Topic1\", \"Topic1\", \"Topic1\", \"Topic1\", \"Topic1\", \"Topic1\", \"Topic1\", \"Topic1\", \"Topic1\", \"Topic1\", \"Topic1\", \"Topic1\", \"Topic1\", \"Topic1\", \"Topic1\", \"Topic1\", \"Topic1\", \"Topic1\", \"Topic1\", \"Topic1\", \"Topic1\", \"Topic1\", \"Topic1\", \"Topic1\", \"Topic1\", \"Topic1\", \"Topic1\", \"Topic2\", \"Topic2\", \"Topic2\", \"Topic2\", \"Topic2\", \"Topic2\", \"Topic2\", \"Topic2\", \"Topic2\", \"Topic2\", \"Topic2\", \"Topic2\", \"Topic2\", \"Topic2\", \"Topic2\", \"Topic2\", \"Topic2\", \"Topic2\", \"Topic2\", \"Topic2\", \"Topic2\", \"Topic2\", \"Topic2\", \"Topic2\", \"Topic2\", \"Topic2\", \"Topic2\", \"Topic2\", \"Topic2\", \"Topic2\", \"Topic3\", \"Topic3\", \"Topic3\", \"Topic3\", \"Topic3\", \"Topic3\", \"Topic3\", \"Topic3\", \"Topic3\", \"Topic3\", \"Topic3\", \"Topic3\", \"Topic3\", \"Topic3\", \"Topic3\", \"Topic3\", \"Topic3\", \"Topic3\", \"Topic3\", \"Topic3\", \"Topic3\", \"Topic3\", \"Topic3\", \"Topic3\", \"Topic3\", \"Topic3\", \"Topic3\", \"Topic3\", \"Topic3\", \"Topic3\", \"Topic4\", \"Topic4\", \"Topic4\", \"Topic4\", \"Topic4\", \"Topic4\", \"Topic4\", \"Topic4\", \"Topic4\", \"Topic4\", \"Topic4\", \"Topic4\", \"Topic4\", \"Topic4\", \"Topic4\", \"Topic4\", \"Topic4\", \"Topic4\", \"Topic4\", \"Topic4\", \"Topic4\", \"Topic4\", \"Topic4\", \"Topic4\", \"Topic4\", \"Topic4\", \"Topic4\", \"Topic4\", \"Topic4\", \"Topic4\", \"Topic4\", \"Topic5\", \"Topic5\", \"Topic5\", \"Topic5\", \"Topic5\", \"Topic5\", \"Topic5\", \"Topic5\", \"Topic5\", \"Topic5\", \"Topic5\", \"Topic5\", \"Topic5\", \"Topic5\", \"Topic5\", \"Topic5\", \"Topic5\", \"Topic5\", \"Topic5\", \"Topic5\", \"Topic5\", \"Topic5\", \"Topic5\", \"Topic5\", \"Topic5\", \"Topic5\", \"Topic5\", \"Topic5\", \"Topic5\", \"Topic5\", \"Topic6\", \"Topic6\", \"Topic6\", \"Topic6\", \"Topic6\", \"Topic6\", \"Topic6\", \"Topic6\", \"Topic6\", \"Topic6\", \"Topic6\", \"Topic6\", \"Topic6\", \"Topic6\", \"Topic6\", \"Topic6\", \"Topic6\", \"Topic6\", \"Topic6\", \"Topic6\", \"Topic6\", \"Topic6\", \"Topic6\", \"Topic6\", \"Topic6\", \"Topic6\", \"Topic6\", \"Topic6\", \"Topic6\", \"Topic6\", \"Topic7\", \"Topic7\", \"Topic7\", \"Topic7\", \"Topic7\", \"Topic7\", \"Topic7\", \"Topic7\", \"Topic7\", \"Topic7\", \"Topic7\", \"Topic7\", \"Topic7\", \"Topic7\", \"Topic7\", \"Topic7\", \"Topic7\", \"Topic7\", \"Topic7\", \"Topic7\", \"Topic7\", \"Topic7\", \"Topic7\", \"Topic7\", \"Topic7\", \"Topic7\", \"Topic7\", \"Topic7\", \"Topic7\", \"Topic7\", \"Topic8\", \"Topic8\", \"Topic8\", \"Topic8\", \"Topic8\", \"Topic8\", \"Topic8\", \"Topic8\", \"Topic8\", \"Topic8\", \"Topic8\", \"Topic8\", \"Topic8\", \"Topic8\", \"Topic8\", \"Topic8\", \"Topic8\", \"Topic8\", \"Topic8\", \"Topic8\", \"Topic8\", \"Topic8\", \"Topic8\", \"Topic8\", \"Topic8\", \"Topic8\", \"Topic8\", \"Topic8\", \"Topic8\", \"Topic8\", \"Topic8\", \"Topic9\", \"Topic9\", \"Topic9\", \"Topic9\", \"Topic9\", \"Topic9\", \"Topic9\", \"Topic9\", \"Topic9\", \"Topic9\", \"Topic9\", \"Topic9\", \"Topic9\", \"Topic9\", \"Topic9\", \"Topic9\", \"Topic9\", \"Topic9\", \"Topic9\", \"Topic9\", \"Topic9\", \"Topic9\", \"Topic9\", \"Topic9\", \"Topic9\", \"Topic9\", \"Topic9\", \"Topic9\", \"Topic9\", \"Topic9\", \"Topic9\", \"Topic9\", \"Topic9\", \"Topic10\", \"Topic10\", \"Topic10\", \"Topic10\", \"Topic10\", \"Topic10\", \"Topic10\", \"Topic10\", \"Topic10\", \"Topic10\", \"Topic10\", \"Topic10\", \"Topic10\", \"Topic10\", \"Topic10\", \"Topic10\", \"Topic10\", \"Topic10\", \"Topic10\", \"Topic10\", \"Topic10\", \"Topic10\", \"Topic10\", \"Topic10\", \"Topic10\", \"Topic10\", \"Topic10\", \"Topic10\", \"Topic10\", \"Topic10\", \"Topic10\"], \"logprob\": [30.0, 29.0, 28.0, 27.0, 26.0, 25.0, 24.0, 23.0, 22.0, 21.0, 20.0, 19.0, 18.0, 17.0, 16.0, 15.0, 14.0, 13.0, 12.0, 11.0, 10.0, 9.0, 8.0, 7.0, 6.0, 5.0, 4.0, 3.0, 2.0, 1.0, -1.6568, -2.4121, -2.7978, -3.3606, -3.4609, -3.7886, -4.1948, -4.2324, -4.4527, -4.5828, -4.5989, -4.6224, -4.689, -4.7193, -4.741, -4.8079, -4.8541, -4.8608, -4.8866, -5.0055, -5.0071, -5.0192, -5.0338, -5.1311, -5.1584, -5.237, -5.2436, -5.2806, -5.3136, -5.3716, -4.6689, -2.22, -2.4156, -2.56, -2.9413, -3.1999, -3.3451, -3.4712, -3.7745, -3.8277, -3.874, -3.8928, -3.9724, -4.1478, -4.2056, -4.2125, -4.3199, -4.366, -4.3897, -4.4375, -4.455, -4.7286, -4.7633, -4.7803, -4.8056, -4.8105, -4.8105, -4.648, -4.9279, -4.8743, -5.0523, -1.9302, -2.1842, -2.7171, -3.0345, -3.3826, -3.6377, -3.9517, -4.0673, -4.2403, -4.2864, -4.3865, -4.3894, -4.412, -4.4245, -4.4575, -4.4822, -4.4873, -4.5208, -4.5289, -4.6133, -4.6232, -4.6933, -4.781, -4.798, -4.8219, -4.8408, -4.8884, -4.9217, -4.9758, -5.0498, -2.5966, -2.9686, -3.0778, -3.3281, -3.554, -3.5555, -3.8147, -3.9331, -3.9823, -4.1051, -4.1098, -4.1366, -4.1951, -4.2753, -4.425, -4.4404, -4.4493, -4.4542, -4.4877, -4.5107, -4.5491, -4.6087, -4.6288, -4.6296, -4.7438, -4.7749, -4.7798, -4.7931, -4.805, -4.9045, -2.4805, -1.8239, -2.9186, -3.0855, -3.126, -3.4632, -3.5508, -3.8568, -4.0276, -4.0469, -4.1981, -4.2222, -4.2298, -4.2317, -4.2375, -4.3329, -4.4388, -4.4488, -4.4564, -4.5448, -4.5475, -4.5999, -4.6319, -4.6682, -4.7164, -4.7483, -4.7944, -4.9432, -4.9647, -5.0026, -5.0146, -2.4512, -2.7737, -2.8233, -3.4224, -3.4948, -3.5968, -3.6724, -3.7693, -3.8875, -3.8954, -3.9121, -4.0178, -4.0984, -4.1308, -4.1424, -4.2698, -4.2729, -4.2929, -4.3931, -4.4353, -4.5363, -4.5693, -4.5914, -4.6065, -4.6338, -4.6609, -4.6727, -4.8186, -4.8705, -4.9237, -2.1703, -2.9577, -3.0745, -3.1141, -3.2922, -3.3876, -3.8765, -3.9318, -3.9957, -4.0375, -4.2674, -4.2891, -4.4287, -4.4875, -4.6745, -4.686, -4.6866, -4.6869, -4.7111, -4.7829, -4.7924, -4.9245, -4.9659, -4.9705, -5.0175, -5.0897, -5.1096, -5.1246, -5.132, -5.1405, -2.045, -2.2154, -2.557, -2.9927, -3.3498, -3.36, -3.5671, -3.5802, -3.6385, -3.7632, -4.0562, -4.2031, -4.2248, -4.297, -4.3737, -4.4407, -4.4567, -4.4511, -4.5024, -4.5301, -4.5334, -4.5531, -4.6123, -4.6983, -4.8317, -4.8644, -5.1055, -5.1388, -5.3277, -5.2431, -4.0402, -2.4335, -2.5776, -2.9053, -3.5373, -3.3531, -3.743, -3.7728, -3.8216, -3.8263, -3.8265, -3.8642, -3.8836, -3.9199, -3.939, -3.9759, -4.0484, -4.1686, -4.2019, -4.2398, -4.2896, -4.3096, -4.3595, -4.3794, -4.5766, -4.6237, -4.6273, -4.6962, -4.7047, -4.7266, -4.7491, -4.7326, -4.4886, -4.617, -2.2243, -2.6494, -3.1529, -3.3467, -3.407, -3.4642, -3.6263, -3.7071, -3.9348, -3.9848, -4.0115, -4.0528, -4.054, -4.1881, -4.2028, -4.2613, -4.366, -4.3846, -4.413, -4.4462, -4.4935, -4.5172, -4.5121, -4.557, -4.5978, -4.6535, -4.6953, -4.7694, -4.842, -4.8422, -4.5905], \"loglift\": [30.0, 29.0, 28.0, 27.0, 26.0, 25.0, 24.0, 23.0, 22.0, 21.0, 20.0, 19.0, 18.0, 17.0, 16.0, 15.0, 14.0, 13.0, 12.0, 11.0, 10.0, 9.0, 8.0, 7.0, 6.0, 5.0, 4.0, 3.0, 2.0, 1.0, 0.9875, 0.9874, 0.9874, 0.9872, 0.9872, 0.9871, 0.9868, 0.9868, 0.9866, 0.9865, 0.9865, 0.9864, 0.9864, 0.9863, 0.9863, 0.9862, 0.9861, 0.9861, 0.9861, 0.9859, 0.9859, 0.9859, 0.9859, 0.9857, 0.9856, 0.9855, 0.9855, 0.9854, 0.9853, 0.9852, 0.7499, 2.3063, 2.3063, 2.3062, 2.3059, 2.3057, 2.3055, 2.3054, 2.3049, 2.3048, 2.3047, 2.3047, 2.3045, 2.3041, 2.3039, 2.3039, 2.3036, 2.3034, 2.3034, 2.3032, 2.3031, 2.302, 2.3018, 2.3017, 2.3016, 2.3016, 2.3016, 2.3013, 2.3009, 2.3007, 2.3002, 2.4176, 2.4175, 2.4172, 2.4169, 2.4165, 2.4161, 2.4155, 2.4152, 2.4147, 2.4145, 2.4142, 2.4141, 2.4141, 2.414, 2.4139, 2.4138, 2.4138, 2.4136, 2.4136, 2.4132, 2.4132, 2.4128, 2.4123, 2.4122, 2.4121, 2.412, 2.4117, 2.4115, 2.4111, 2.4106, 2.4655, 2.4652, 2.4651, 2.4648, 2.4645, 2.4645, 2.464, 2.4637, 2.4636, 2.4633, 2.4633, 2.4632, 2.463, 2.4627, 2.4622, 2.4621, 2.4621, 2.4621, 2.4619, 2.4618, 2.4616, 2.4614, 2.4613, 2.4613, 2.4607, 2.4605, 2.4605, 2.4604, 2.4603, 2.4597, 2.4464, 2.5479, 2.5472, 2.5471, 2.547, 2.5465, 2.5464, 2.5457, 2.5452, 2.5452, 2.5447, 2.5446, 2.5446, 2.5446, 2.5445, 2.5442, 2.5437, 2.5437, 2.5436, 2.5432, 2.5432, 2.5429, 2.5428, 2.5425, 2.5423, 2.5421, 2.5418, 2.5408, 2.5406, 2.5403, 2.5402, 2.6152, 2.6149, 2.6149, 2.6141, 2.614, 2.6138, 2.6136, 2.6134, 2.6131, 2.6131, 2.613, 2.6127, 2.6124, 2.6123, 2.6123, 2.6118, 2.6118, 2.6117, 2.6113, 2.6111, 2.6106, 2.6104, 2.6103, 2.6102, 2.61, 2.6099, 2.6098, 2.6088, 2.6085, 2.6081, 2.7589, 2.7583, 2.7581, 2.7581, 2.7578, 2.7576, 2.7564, 2.7562, 2.756, 2.7559, 2.7549, 2.7548, 2.7541, 2.7538, 2.7526, 2.7525, 2.7525, 2.7525, 2.7524, 2.7518, 2.7518, 2.7507, 2.7503, 2.7502, 2.7498, 2.7491, 2.7489, 2.7487, 2.7486, 2.7486, 2.935, 2.9349, 2.9346, 2.9341, 2.9334, 2.9334, 2.9329, 2.9329, 2.9327, 2.9324, 2.9312, 2.9306, 2.9305, 2.9301, 2.9297, 2.9293, 2.9292, 2.9289, 2.9289, 2.9287, 2.9286, 2.9285, 2.9281, 2.9274, 2.9261, 2.9259, 2.9233, 2.9229, 2.9203, 2.9196, 1.3786, 3.0638, 3.0637, 3.0627, 3.0617, 3.0616, 3.061, 3.0609, 3.0607, 3.0607, 3.0607, 3.0605, 3.0605, 3.0603, 3.0602, 3.06, 3.0597, 3.059, 3.0588, 3.0583, 3.0583, 3.0581, 3.0578, 3.0576, 3.0561, 3.0556, 3.0556, 3.055, 3.0549, 3.0547, 3.0544, 3.054, 3.0438, 3.0407, 3.2304, 3.2299, 3.2289, 3.2284, 3.2282, 3.228, 3.2274, 3.2271, 3.226, 3.2257, 3.2255, 3.2253, 3.2253, 3.2244, 3.2243, 3.2239, 3.223, 3.2229, 3.2226, 3.2223, 3.2219, 3.2217, 3.2216, 3.2213, 3.2209, 3.22, 3.2198, 3.2189, 3.218, 3.2179, 3.2144]}, \"token.table\": {\"Topic\": [6, 1, 3, 9, 4, 7, 6, 4, 3, 6, 9, 2, 10, 10, 4, 2, 5, 3, 2, 10, 5, 4, 6, 7, 9, 6, 2, 5, 3, 2, 4, 7, 3, 9, 5, 1, 4, 10, 8, 1, 4, 9, 6, 6, 1, 9, 2, 2, 1, 8, 6, 4, 4, 8, 9, 4, 6, 4, 8, 1, 6, 4, 7, 10, 5, 9, 9, 4, 5, 10, 7, 10, 9, 8, 10, 5, 10, 4, 3, 10, 2, 5, 7, 1, 10, 10, 2, 8, 10, 7, 8, 7, 2, 4, 8, 7, 2, 9, 1, 5, 6, 7, 2, 7, 3, 1, 5, 3, 5, 8, 4, 8, 2, 7, 9, 5, 1, 6, 1, 9, 5, 9, 4, 6, 1, 3, 7, 1, 9, 7, 3, 5, 9, 5, 6, 5, 6, 5, 3, 9, 8, 8, 5, 10, 10, 1, 1, 4, 7, 9, 2, 3, 3, 3, 8, 7, 6, 2, 6, 5, 1, 3, 10, 10, 10, 6, 4, 7, 4, 4, 7, 6, 4, 3, 6, 7, 3, 1, 7, 9, 5, 2, 10, 7, 4, 8, 3, 1, 1, 1, 10, 3, 5, 9, 7, 10, 7, 1, 10, 5, 5, 4, 6, 6, 5, 8, 8, 2, 9, 9, 6, 6, 9, 8, 8, 3, 9, 10, 3, 1, 9, 3, 9, 2, 2, 7, 1, 3, 4, 8, 9, 6, 9, 9, 2, 4, 4, 6, 4, 6, 8, 6, 2, 5, 5, 1, 3, 8, 6, 3, 2, 10, 9, 3, 8, 10, 3, 3, 2, 8, 5, 7, 4, 8, 10, 4, 2, 5, 10, 2, 2, 1, 8, 1, 1, 8, 7, 3, 10, 1, 8, 5, 5, 2, 1, 2, 5, 8, 2, 10, 9, 8, 3, 7, 9, 6, 7, 5, 8, 7, 10, 4, 1, 9, 2, 8, 7, 10, 1, 8], \"Freq\": [0.9959249989917369, 0.9980850978742535, 0.9996805104867247, 0.9969938507296136, 0.9984801108963494, 0.9916457800241718, 0.9964015638135904, 0.9991444234066362, 0.9944134565275524, 0.9968282725243349, 0.9967082325857989, 0.99326495295629, 0.9934225546733818, 0.9919389719549044, 0.9962750486332917, 0.9989536428523282, 0.997401349181565, 0.9934194049630393, 0.991227864960789, 0.9961646716271134, 0.9997090879687135, 0.9957256497139735, 0.9976467715428783, 0.9935506819525389, 0.9967367688371945, 0.9979030298613037, 0.9996219180212607, 0.993407762865006, 0.9958746923816154, 0.9988022947804608, 0.9977386597177361, 0.9965820011866405, 0.9947674516958884, 0.9856570844322347, 0.9980955814451767, 0.9985046136028939, 0.99311008534045, 0.9948943689352145, 0.9968911286883171, 0.9998209135591092, 0.9994422405697099, 0.985372384242154, 0.9974620241588498, 0.9970663990900939, 0.9999625406878747, 0.9937485723555096, 0.9967899893223717, 0.9925296514988446, 0.999768734219351, 0.999033532463625, 0.9948405168755661, 0.9955565918344056, 0.9958219751533575, 0.9972767732295041, 0.9984067049289611, 0.9989985979746766, 0.9914779115844966, 0.9805325548808997, 0.018917026782268163, 0.9989281294040228, 0.9965836460148334, 0.9982028889752218, 0.9983909270683454, 0.9933903720556342, 0.9962292451997944, 0.9938821412057317, 0.9940636513514951, 0.9943295767829782, 0.9922047595576483, 0.9985834354683435, 0.9930083712195985, 0.9840194744675216, 0.9907331385550922, 0.981757532146666, 0.9888108923913409, 0.9988033620378994, 0.9943795186510337, 0.9947137776808679, 0.9967000706932984, 0.9838049859425283, 0.9911937764524803, 0.9956271784980955, 0.9857915678000815, 0.9985130383042545, 0.9930069594120294, 0.9845307241321422, 0.9993709395941127, 0.9953226780118747, 0.9994752625633729, 0.9979987575169926, 0.9987135515222857, 0.9954389492699439, 0.9975680992275886, 0.9966075419145006, 0.9953275686807074, 0.9933863779664863, 0.9994878849577564, 0.994080280417426, 0.998931109184566, 0.9934408500699499, 0.9988774717329217, 0.9894054246862798, 0.9957176273243304, 0.9983251112399916, 0.9930482389461317, 0.9974696264013446, 0.9968010801034268, 0.9964349378801055, 0.9949890416636632, 0.9996785993283519, 0.9957916033737382, 0.9994968441474141, 0.9958130964063644, 0.9978709012931044, 0.992339327909704, 0.9987078912895792, 0.9989775363024167, 0.9896664808480666, 0.9981640254313874, 0.9994546922287372, 0.00967575611409434, 0.9772513675235285, 0.9946841614377587, 0.9953594160791518, 0.9980752874854724, 0.9961327759956089, 0.9911707479089175, 0.9988321102960752, 0.9977118171026533, 0.9981131787180002, 0.9978698230958599, 0.9963978447970938, 0.9887858562609234, 0.9973871409109022, 0.9978727680100481, 0.9921142687429588, 0.9907060384698123, 0.9950307879384879, 0.9983470835759801, 0.998368186023908, 0.995330343756335, 0.9778235985602701, 0.9952089024037178, 0.9879335967909318, 0.9960202710733358, 0.9985081381062202, 0.9992376926481445, 0.9959197920183019, 0.9933240895337827, 0.9975806761316534, 0.9975587486669819, 0.9994551746329113, 0.9961020992028888, 0.9941232137013869, 0.9933807143007982, 0.9926232305891435, 0.9935565814610923, 0.9979590772293303, 0.9990390074707202, 0.9962558735963104, 0.9982177239100245, 0.9974263428391758, 0.9948586736247421, 0.9911389546408506, 0.9888170067862803, 0.9964794070832452, 0.9987881333897771, 0.9844141000575393, 0.9949275735740161, 0.9940647057978088, 0.9952221446136539, 0.9976826203381037, 0.9974885628000072, 0.9937960979993083, 0.9962806036642665, 0.9945072645085956, 0.9986255850423742, 0.9985951910594605, 0.9944293283959195, 0.9937515582803378, 0.9887023319546188, 0.9972928039925462, 0.9831368599838738, 0.9951595388078867, 0.9952766010748806, 0.9855976459854535, 0.9975522353019957, 0.9990585887642284, 0.9986784552970087, 0.9997275062407301, 0.9968529261728152, 0.9932912405826425, 0.008536456953485221, 0.9816925496508004, 0.9956861439213108, 0.9865092234506854, 0.9960198710000839, 0.9997501649298367, 0.991159485040607, 0.9918031621987428, 0.9968560661359672, 0.9934813497043375, 0.9928137960771996, 0.9915173236765025, 0.9960351705550878, 0.998091807006862, 0.9898841479615882, 0.9986811734230844, 0.9949724366975953, 0.9881107967459994, 0.9960490810469871, 0.9976180150885003, 0.996762279970546, 0.9993076708199279, 0.9912501102553029, 0.9952254150203644, 0.99201435112581, 0.9963401264784626, 0.994031580188689, 0.9985269247789588, 0.9908706205854321, 0.9921525904620051, 0.9928087413085579, 0.9975012901674767, 0.9987956038627357, 0.9877928045947612, 0.9987528197944078, 0.998362374400408, 0.9971342213626899, 0.9969730509893806, 0.9933434102670148, 0.9960960583607621, 0.9976245731213386, 0.9852467266611353, 0.9978582786608771, 0.9928172020376301, 0.9975941371116295, 0.9984025100256214, 0.9936368179064773, 0.9971579816732538, 0.9946559154650985, 0.9976964286329745, 0.9976797840144468, 0.9978654503180583, 0.9983511336957331, 0.9995549789752911, 0.993873214839938, 0.989563023748585, 0.9995894699717669, 0.9944773593214102, 0.9983243261198227, 0.9937742986451098, 0.9944366974874533, 0.9928481229097239, 0.9939782417670255, 0.9938121007344358, 0.9993642518415131, 0.9994643325521274, 0.9925296514988446, 0.9913121327742164, 0.9964876995328419, 0.9971926373293711, 0.9962183468436093, 0.9942215333304296, 0.9941609807860715, 0.9962259642355985, 0.9957817308351945, 0.9979294771097832, 0.9919943276525299, 0.9951083926641192, 0.9984628401000575, 0.9983105063503726, 0.9957943429773488, 0.9982034971037446, 0.9970442549016728, 0.9780330545799042, 0.9980871249265407, 0.9979929576991309, 0.9938096496894666, 0.9989156334095075, 0.9949385764321185, 0.997573047098489, 0.9960844155908265, 0.9982216530112361, 0.9971029280908509, 0.9958782838757892, 0.9945791501441976, 0.9944355597557736, 0.9956733477235504, 0.9864605831165814, 0.9953838246480117, 0.994587462289992, 0.9981028400983154, 0.9992748443541627, 0.9953452742111489, 0.9922801483919524, 0.9948066547958078, 0.9986351465283695, 0.9981826493988256, 0.9954173111859124, 0.9949681624629446, 0.996621779015065, 0.9990282810294523, 0.9972042209897753, 0.9975349972500249, 0.9992287455076535, 0.9948475574216825, 0.995436394175092, 0.7889088602696382, 0.21037569607190354], \"Term\": [\"accountable\", \"action\", \"activist\", \"ad\", \"address\", \"already\", \"also\", \"amp\", \"annual\", \"article\", \"ask\", \"assessment\", \"asset\", \"auto\", \"away\", \"back\", \"bad\", \"battle\", \"become\", \"begin\", \"big\", \"billion\", \"blame\", \"block\", \"bloomberg_businessweek\", \"blow\", \"board\", \"boardroom\", \"break\", \"business\", \"call\", \"campaign\", \"capitalism\", \"capture\", \"carbon\", \"case\", \"cause\", \"challenge\", \"chang_said\", \"change\", \"chevron\", \"choice\", \"claim\", \"clean\", \"climate\", \"co\", \"come\", \"committing_ecocide\", \"company\", \"concern\", \"consumer\", \"continue\", \"corporate\", \"corporation\", \"could_slow\", \"court\", \"create\", \"crisis\", \"crisis\", \"cut\", \"damage\", \"datum\", \"day\", \"decision\", \"defeat\", \"demand\", \"denial\", \"denier\", \"deploy\", \"director\", \"disclosure\", \"dissident\", \"divest\", \"do\", \"double\", \"downplay\", \"drill\", \"drive\", \"dutch\", \"early\", \"earning\", \"earth\", \"effect\", \"effort\", \"elect\", \"electrification\", \"emission\", \"end\", \"energy\", \"engine\", \"enough\", \"entire\", \"environmental\", \"even\", \"evidence\", \"expect\", \"exxon\", \"exxonmobil\", \"face\", \"fail\", \"fight\", \"figure\", \"file\", \"find\", \"firm\", \"first\", \"focus\", \"follow\", \"former\", \"fossil\", \"fraud\", \"fuel\", \"full\", \"fund\", \"funding\", \"future\", \"gas\", \"gasoline\", \"get\", \"giant\", \"giant_exxononce\", \"giant_exxononce\", \"give\", \"global_warme\", \"go\", \"goal\", \"going\", \"good\", \"great\", \"green\", \"group\", \"grow\", \"heat\", \"hedge_fund\", \"help\", \"here\", \"hiding\", \"high\", \"historic\", \"hold\", \"hope\", \"however\", \"human\", \"ignore\", \"include\", \"increase\", \"industry\", \"interest\", \"interesting\", \"invest\", \"investment\", \"investor\", \"investor_oust\", \"issue\", \"item\", \"join\", \"judge\", \"keep\", \"know\", \"landmark\", \"large\", \"last\", \"late\", \"launch\", \"law\", \"leaked_document\", \"least\", \"leave\", \"let\", \"lie\", \"little\", \"look\", \"lose\", \"loss\", \"lucrative\", \"m\", \"major\", \"make\", \"management\", \"mean\", \"meat\", \"member\", \"mislead\", \"misrepresent\", \"money\", \"month\", \"move\", \"much\", \"need\", \"new\", \"news\", \"next\", \"nextera\", \"nextera\", \"notice\", \"nyc_sue\", \"offer\", \"oil\", \"old\", \"onto_consumer\", \"order\", \"part\", \"past\", \"pay\", \"pension_fund\", \"petition\", \"phase\", \"plan\", \"planet\", \"point\", \"policy\", \"political\", \"power\", \"pressure\", \"price\", \"proclimate_campaign\", \"producer\", \"product\", \"production\", \"project\", \"propaganda\", \"protect\", \"provider\", \"proxy\", \"public\", \"pull\", \"push\", \"put\", \"question\", \"quit\", \"rd\", \"re\", \"read\", \"reckon\", \"reduce\", \"regulation\", \"renewable\", \"report\", \"responsibility\", \"reveal\", \"rid\", \"right\", \"rise\", \"risk\", \"role\", \"say\", \"science\", \"score\", \"seat\", \"sector\", \"see\", \"sell\", \"set\", \"setback\", \"shake\", \"share\", \"shareholder\", \"shell\", \"shows_yearly\", \"sign\", \"solar\", \"solution\", \"spend\", \"stance\", \"stand\", \"start\", \"state\", \"still\", \"stock\", \"stop\", \"strategy\", \"study\", \"subsidy\", \"sue\", \"support\", \"systematically\", \"take\", \"target\", \"tech\", \"technology\", \"texas_governor\", \"thank\", \"think\", \"time\", \"today\", \"toll\", \"total\", \"trade\", \"transition\", \"trump\", \"try\", \"turn\", \"urge\", \"use\", \"valuable\", \"ve\", \"victory\", \"vote\", \"warm\", \"warn\", \"way\", \"well\", \"win\", \"wind\", \"work\", \"world\", \"write\", \"xom\", \"year\", \"year\"]}, \"R\": 30, \"lambda.step\": 0.01, \"plot.opts\": {\"xlab\": \"PC1\", \"ylab\": \"PC2\"}, \"topic.order\": [9, 4, 3, 6, 10, 1, 8, 5, 2, 7]};\n",
       "\n",
       "function LDAvis_load_lib(url, callback){\n",
       "  var s = document.createElement('script');\n",
       "  s.src = url;\n",
       "  s.async = true;\n",
       "  s.onreadystatechange = s.onload = callback;\n",
       "  s.onerror = function(){console.warn(\"failed to load library \" + url);};\n",
       "  document.getElementsByTagName(\"head\")[0].appendChild(s);\n",
       "}\n",
       "\n",
       "if(typeof(LDAvis) !== \"undefined\"){\n",
       "   // already loaded: just create the visualization\n",
       "   !function(LDAvis){\n",
       "       new LDAvis(\"#\" + \"ldavis_el30591405806261991521096431602\", ldavis_el30591405806261991521096431602_data);\n",
       "   }(LDAvis);\n",
       "}else if(typeof define === \"function\" && define.amd){\n",
       "   // require.js is available: use it to load d3/LDAvis\n",
       "   require.config({paths: {d3: \"https://d3js.org/d3.v5\"}});\n",
       "   require([\"d3\"], function(d3){\n",
       "      window.d3 = d3;\n",
       "      LDAvis_load_lib(\"https://cdn.jsdelivr.net/gh/bmabey/pyLDAvis@3.3.1/pyLDAvis/js/ldavis.v3.0.0.js\", function(){\n",
       "        new LDAvis(\"#\" + \"ldavis_el30591405806261991521096431602\", ldavis_el30591405806261991521096431602_data);\n",
       "      });\n",
       "    });\n",
       "}else{\n",
       "    // require.js not available: dynamically load d3 & LDAvis\n",
       "    LDAvis_load_lib(\"https://d3js.org/d3.v5.js\", function(){\n",
       "         LDAvis_load_lib(\"https://cdn.jsdelivr.net/gh/bmabey/pyLDAvis@3.3.1/pyLDAvis/js/ldavis.v3.0.0.js\", function(){\n",
       "                 new LDAvis(\"#\" + \"ldavis_el30591405806261991521096431602\", ldavis_el30591405806261991521096431602_data);\n",
       "            })\n",
       "         });\n",
       "}\n",
       "</script>"
      ],
      "text/plain": [
       "PreparedData(topic_coordinates=              x         y  topics  cluster       Freq\n",
       "topic                                                \n",
       "8      0.454743  0.042699       1        1  37.248652\n",
       "3     -0.008196 -0.437392       2        1   9.958669\n",
       "2     -0.028382  0.017569       3        1   8.910755\n",
       "5     -0.062858  0.058617       4        1   8.490865\n",
       "9     -0.042889  0.042458       5        1   7.821908\n",
       "0     -0.058611  0.052856       6        1   7.310589\n",
       "7     -0.074772  0.053980       7        1   6.332262\n",
       "4     -0.036630  0.063142       8        1   5.310026\n",
       "1     -0.067223  0.053277       9        1   4.666070\n",
       "6     -0.075182  0.052794      10        1   3.950205, topic_info=            Term          Freq         Total Category  logprob  loglift\n",
       "3        climate  15544.000000  15544.000000  Default  30.0000  30.0000\n",
       "30        change   7304.000000   7304.000000  Default  29.0000  29.0000\n",
       "29           big   2762.000000   2762.000000  Default  28.0000  28.0000\n",
       "174     activist   2829.000000   2829.000000  Default  27.0000  27.0000\n",
       "21         exxon   2367.000000   2367.000000  Default  26.0000  26.0000\n",
       "...          ...           ...           ...      ...      ...      ...\n",
       "1851         law     78.970349     79.893448  Topic10  -4.6953   3.2198\n",
       "662      mislead     73.328725     74.252124  Topic10  -4.7694   3.2189\n",
       "1214       early     68.196218     69.119389  Topic10  -4.8420   3.2180\n",
       "8750   dissident     68.179952     69.104323  Topic10  -4.8422   3.2179\n",
       "10617    nyc_sue     87.697182     89.203423  Topic10  -4.5905   3.2144\n",
       "\n",
       "[337 rows x 6 columns], token_table=      Topic      Freq         Term\n",
       "term                              \n",
       "1733      6  0.995925  accountable\n",
       "64        1  0.998085       action\n",
       "174       3  0.999681     activist\n",
       "159       9  0.996994           ad\n",
       "933       4  0.998480      address\n",
       "...     ...       ...          ...\n",
       "208       8  0.999229        world\n",
       "79        7  0.994848        write\n",
       "780      10  0.995436          xom\n",
       "63        1  0.788909         year\n",
       "63        8  0.210376         year\n",
       "\n",
       "[310 rows x 3 columns], R=30, lambda_step=0.01, plot_opts={'xlab': 'PC1', 'ylab': 'PC2'}, topic_order=[9, 4, 3, 6, 10, 1, 8, 5, 2, 7])"
      ]
     },
     "execution_count": 39,
     "metadata": {},
     "output_type": "execute_result"
    }
   ],
   "source": [
    "# Visualize the topics\n",
    "pyLDAvis.enable_notebook()\n",
    "vis = pyLDAvis.gensim_models.prepare(lda_model, corpus, id2word)\n",
    "vis"
   ]
  },
  {
   "cell_type": "markdown",
   "id": "12e69ee4-15d9-47c5-844d-117d707ab222",
   "metadata": {
    "tags": []
   },
   "source": [
    "# The Following code is still being working on"
   ]
  },
  {
   "cell_type": "markdown",
   "id": "376f4e9e-9158-4afc-933d-8571b63db883",
   "metadata": {
    "tags": []
   },
   "source": [
    "### Find the optimal number of topics"
   ]
  },
  {
   "cell_type": "code",
   "execution_count": 40,
   "id": "7ad00526-2503-4f3f-9f45-cbf49d3eb72e",
   "metadata": {},
   "outputs": [],
   "source": [
    "def compute_coherence_values(dictionary, corpus, texts, limit, start=2, step=3):\n",
    "    \"\"\"\n",
    "    Compute c_v coherence for various number of topics\n",
    "\n",
    "    Parameters:\n",
    "    ----------\n",
    "    dictionary : Gensim dictionary\n",
    "    corpus : Gensim corpus\n",
    "    texts : List of input texts\n",
    "    limit : Max num of topics\n",
    "\n",
    "    Returns:\n",
    "    -------\n",
    "    model_list : List of LDA topic models\n",
    "    coherence_values : Coherence values corresponding to the LDA model with respective number of topics\n",
    "    \"\"\"\n",
    "    coherence_values = []\n",
    "    model_list = []\n",
    "    for num_topics in range(start, limit, step):\n",
    "        model = gensim.models.ldamodel.LdaModel(corpus=corpus, num_topics=num_topics, id2word=id2word, random_state=500)\n",
    "        model_list.append(model)\n",
    "        coherencemodel = CoherenceModel(model=model, texts=texts, dictionary=dictionary, coherence='c_v')\n",
    "        coherence_values.append(coherencemodel.get_coherence())\n",
    "\n",
    "    return model_list, coherence_values"
   ]
  },
  {
   "cell_type": "code",
   "execution_count": 41,
   "id": "3900923d-71e3-48cc-9874-a5c45678b06e",
   "metadata": {},
   "outputs": [],
   "source": [
    "# May take a long time to run.\n",
    "model_list, coherence_values = compute_coherence_values(dictionary=id2word, corpus=corpus, texts=tweet_lemmatized, start=2, limit=20, step=2)"
   ]
  },
  {
   "cell_type": "code",
   "execution_count": 42,
   "id": "3415d926-fdd9-4d0e-8d5e-7620b147d78b",
   "metadata": {},
   "outputs": [
    {
     "data": {
      "image/png": "[encoded data removed]",
      "text/plain": [
       "<Figure size 432x288 with 1 Axes>"
      ]
     },
     "metadata": {
      "needs_background": "light"
     },
     "output_type": "display_data"
    }
   ],
   "source": [
    "# Show graph\n",
    "limit=20; start=2; step=2;\n",
    "x = range(start, limit, step)\n",
    "plt.plot(x, coherence_values)\n",
    "plt.xlabel(\"Num Topics\")\n",
    "plt.ylabel(\"Coherence score\")\n",
    "plt.legend((\"coherence_values\"), loc='best')\n",
    "plt.show()"
   ]
  },
  {
   "cell_type": "code",
   "execution_count": 43,
   "id": "fa752331-e3ad-4d55-8b56-b4b5b2be33b2",
   "metadata": {},
   "outputs": [
    {
     "name": "stdout",
     "output_type": "stream",
     "text": [
      "Num Topics = 2  has Coherence Value of 0.2594\n",
      "Num Topics = 4  has Coherence Value of 0.2939\n",
      "Num Topics = 6  has Coherence Value of 0.3459\n",
      "Num Topics = 8  has Coherence Value of 0.3158\n",
      "Num Topics = 10  has Coherence Value of 0.3771\n",
      "Num Topics = 12  has Coherence Value of 0.3688\n",
      "Num Topics = 14  has Coherence Value of 0.3517\n",
      "Num Topics = 16  has Coherence Value of 0.3528\n",
      "Num Topics = 18  has Coherence Value of 0.3519\n"
     ]
    }
   ],
   "source": [
    "# Print the coherence scores\n",
    "for m, cv in zip(x, coherence_values):\n",
    "    print(\"Num Topics =\", m, \" has Coherence Value of\", round(cv, 4))"
   ]
  },
  {
   "cell_type": "code",
   "execution_count": 44,
   "id": "6457081c-f856-4de7-854e-8b8bfca718ad",
   "metadata": {},
   "outputs": [
    {
     "name": "stdout",
     "output_type": "stream",
     "text": [
      "[(0,\n",
      "  '0.056*\"business\" + 0.044*\"plan\" + 0.041*\"climate\" + 0.033*\"know\" + '\n",
      "  '0.030*\"exxon\" + 0.029*\"emission\" + 0.029*\"reveal\" + 0.029*\"damage\" + '\n",
      "  '0.021*\"evil\" + 0.020*\"add\"'),\n",
      " (1,\n",
      "  '0.028*\"climate\" + 0.028*\"oil\" + 0.019*\"amp\" + 0.018*\"industry\" + '\n",
      "  '0.017*\"company\" + 0.016*\"change\" + 0.013*\"gas\" + 0.013*\"project\" + '\n",
      "  '0.012*\"need\" + 0.010*\"get\"'),\n",
      " (2,\n",
      "  '0.051*\"climate\" + 0.051*\"concern\" + 0.024*\"science\" + 0.023*\"lie\" + '\n",
      "  '0.020*\"worlds_bigg\" + 0.018*\"lower\" + 0.017*\"document\" + 0.014*\"here\" + '\n",
      "  '0.013*\"fast\" + 0.013*\"part\"'),\n",
      " (3,\n",
      "  '0.069*\"climate\" + 0.052*\"change\" + 0.040*\"exxon\" + 0.021*\"company\" + '\n",
      "  '0.020*\"strategy\" + 0.019*\"emission\" + 0.015*\"back\" + 0.014*\"say\" + '\n",
      "  '0.012*\"hold\" + 0.011*\"technology\"'),\n",
      " (4,\n",
      "  '0.131*\"fuel\" + 0.119*\"fossil\" + 0.080*\"pressure\" + 0.040*\"sue\" + '\n",
      "  '0.037*\"climate\" + 0.034*\"corporation\" + 0.027*\"end\" + 0.027*\"crisis\" + '\n",
      "  '0.027*\"petition\" + 0.027*\"year\"'),\n",
      " (5,\n",
      "  '0.073*\"climate\" + 0.063*\"oil\" + 0.046*\"change\" + 0.037*\"shell\" + '\n",
      "  '0.036*\"big\" + 0.035*\"chevron\" + 0.026*\"engine\" + 0.021*\"investor\" + '\n",
      "  '0.018*\"company\" + 0.016*\"day\"'),\n",
      " (6,\n",
      "  '0.109*\"activist\" + 0.070*\"climate\" + 0.049*\"board\" + 0.045*\"investor\" + '\n",
      "  '0.042*\"new\" + 0.029*\"win\" + 0.028*\"shareholder\" + 0.024*\"least\" + '\n",
      "  '0.017*\"push\" + 0.016*\"director\"'),\n",
      " (7,\n",
      "  '0.106*\"climate\" + 0.056*\"video\" + 0.043*\"push\" + 0.043*\"catch\" + '\n",
      "  '0.040*\"lobbyist\" + 0.038*\"plan\" + 0.034*\"talk\" + 0.030*\"landmark\" + '\n",
      "  '0.021*\"exxon\" + 0.020*\"bid\"'),\n",
      " (8,\n",
      "  '0.098*\"climate\" + 0.047*\"big\" + 0.044*\"change\" + 0.025*\"oil\" + '\n",
      "  '0.023*\"crisis\" + 0.022*\"use\" + 0.021*\"downplay\" + 0.018*\"say\" + '\n",
      "  '0.016*\"company\" + 0.016*\"know\"'),\n",
      " (9,\n",
      "  '0.084*\"climate\" + 0.037*\"seat\" + 0.035*\"oil\" + 0.032*\"change\" + '\n",
      "  '0.029*\"vote\" + 0.029*\"board\" + 0.026*\"giant\" + 0.024*\"fight\" + '\n",
      "  '0.018*\"effort\" + 0.017*\"action\"')]\n"
     ]
    }
   ],
   "source": [
    "# Select the model and print the topics\n",
    "optimal_model = model_list[4]\n",
    "model_topics = optimal_model.show_topics(formatted=False)\n",
    "pprint(optimal_model.print_topics(num_words=10))"
   ]
  },
  {
   "cell_type": "code",
   "execution_count": 45,
   "id": "89277f1f-5465-446a-b195-baa74dab95e0",
   "metadata": {},
   "outputs": [
    {
     "name": "stderr",
     "output_type": "stream",
     "text": [
      "/opt/anaconda3/lib/python3.9/site-packages/pyLDAvis/_prepare.py:246: FutureWarning: In a future version of pandas all arguments of DataFrame.drop except for the argument 'labels' will be keyword-only\n",
      "  default_term_info = default_term_info.sort_values(\n"
     ]
    },
    {
     "data": {
      "text/html": [
       "\n",
       "<link rel=\"stylesheet\" type=\"text/css\" href=\"https://cdn.jsdelivr.net/gh/bmabey/pyLDAvis@3.3.1/pyLDAvis/js/ldavis.v1.0.0.css\">\n",
       "\n",
       "\n",
       "<div id=\"ldavis_el30591405806245550249066573876\"></div>\n",
       "<script type=\"text/javascript\">\n",
       "\n",
       "var ldavis_el30591405806245550249066573876_data = {\"mdsDat\": {\"x\": [0.09568172728469906, 0.0639883761238957, 0.1440297039645573, 0.049624423698462365, 0.13387880278457903, 0.15985361544949514, -0.2695520453533585, -0.14035670208832624, -0.11466420331862781, -0.12248369854537618], \"y\": [-0.0404355158877346, 0.046792812954040225, 0.03283418421588093, 0.07323935774469104, 0.047712131202844336, 0.00664427780144302, 0.2429175281609604, -0.12757884936845898, -0.2457993258131637, -0.03632660101050294], \"topics\": [1, 2, 3, 4, 5, 6, 7, 8, 9, 10], \"cluster\": [1, 1, 1, 1, 1, 1, 1, 1, 1, 1], \"Freq\": [14.365435218837089, 14.299710347962302, 13.876080719748277, 12.975537713574045, 10.494232130033623, 9.880707928593962, 7.523811381012431, 7.022121565587367, 5.6163041165540815, 3.946058878096826]}, \"tinfo\": {\"Term\": [\"fuel\", \"activist\", \"fossil\", \"pressure\", \"board\", \"video\", \"plan\", \"seat\", \"business\", \"big\", \"push\", \"exxon\", \"investor\", \"sue\", \"vote\", \"know\", \"catch\", \"new\", \"climate\", \"oil\", \"chevron\", \"win\", \"lobbyist\", \"change\", \"shell\", \"corporation\", \"concern\", \"shareholder\", \"emission\", \"engine\", \"could_slow\", \"annual\", \"shake\", \"rebellion\", \"result\", \"assessment\", \"committing_ecocide\", \"shows_yearly\", \"bloomberg_businessweek\", \"plastic\", \"naming_senator\", \"actively\", \"appoint\", \"defend\", \"climaterelate\", \"consequence\", \"massive\", \"view\", \"matter\", \"tricks_top\", \"broad\", \"tech\", \"notice\", \"comment\", \"car\", \"society\", \"succeed\", \"confront\", \"choose\", \"rise\", \"strategy\", \"announce\", \"playbook\", \"secret\", \"disclosure\", \"technology\", \"investment\", \"blame\", \"back\", \"hold\", \"accountable\", \"mobil\", \"enough\", \"increase\", \"exxon\", \"carbon\", \"denier\", \"lawsuit\", \"block\", \"reduce\", \"emission\", \"change\", \"climate\", \"company\", \"risk\", \"say\", \"use\", \"first\", \"energy\", \"support\", \"lobbyist\", \"action\", \"work\", \"see\", \"oil\", \"investor\", \"downplay\", \"consumer\", \"greenpeace\", \"electrification\", \"fall\", \"deploy\", \"gasoline\", \"almost\", \"blow\", \"gravity\", \"spending\", \"battle\", \"liability\", \"meat\", \"spotlight\", \"aim\", \"pause\", \"catastrophe\", \"supreme_court\", \"scientific\", \"combine\", \"responsibility\", \"denialism\", \"ccs\", \"activism\", \"half\", \"spent_million\", \"american\", \"sit\", \"wonder\", \"study\", \"term\", \"years_ago\", \"decade\", \"powerful_signal\", \"likely\", \"find\", \"late\", \"methane\", \"judge\", \"use\", \"kill\", \"big\", \"show\", \"crisis\", \"tobacco\", \"climate\", \"know\", \"make\", \"change\", \"say\", \"product\", \"oil\", \"company\", \"new\", \"industry\", \"science\", \"role\", \"denial\", \"planet\", \"come\", \"amp\", \"get\", \"seat\", \"hedge_fund\", \"earning\", \"undercut\", \"say_youre\", \"crucial\", \"reckon\", \"stance\", \"quit\", \"capital\", \"protect\", \"release\", \"language\", \"criticize\", \"conocophillip\", \"tiny\", \"detail\", \"vote\", \"secretly_recorde\", \"companys\", \"revolt\", \"race\", \"reuter\", \"watershed_moment\", \"number\", \"suffer\", \"knowingly\", \"shadow_group\", \"attention\", \"game\", \"describe\", \"exactly\", \"historic\", \"die\", \"lose\", \"effort\", \"giant\", \"fight\", \"proposal\", \"action\", \"take\", \"board\", \"undermine\", \"heat\", \"shareholder\", \"address\", \"climate\", \"win\", \"major\", \"oil\", \"change\", \"court\", \"lobbyist\", \"company\", \"director\", \"least\", \"big\", \"know\", \"activist\", \"say\", \"member\", \"climatechange\", \"advocate\", \"city\", \"remove\", \"present\", \"attempt\", \"subpoena\", \"bipartisan\", \"last_week\", \"interview\", \"lee_raymond\", \"project\", \"voting\", \"worlds_biggest\", \"vehicle\", \"shape\", \"choice\", \"urgent\", \"different\", \"ago\", \"old\", \"committee\", \"leadership\", \"paper\", \"field\", \"pursue\", \"corps\", \"amazing\", \"become\", \"travel\", \"senator\", \"divest\", \"job\", \"side\", \"morning\", \"update\", \"ground\", \"war\", \"develop\", \"read\", \"economy\", \"try\", \"demand\", \"need\", \"feel\", \"decision\", \"amp\", \"gas\", \"thank\", \"support\", \"industry\", \"power\", \"scientist\", \"lobby\", \"get\", \"state\", \"tell\", \"oil\", \"report\", \"company\", \"role\", \"climate\", \"energy\", \"week\", \"change\", \"go\", \"reveal\", \"public\", \"year\", \"major\", \"back\", \"fuel\", \"time\", \"engine\", \"victory\", \"setback\", \"loss\", \"giants_toward\", \"pension_fund\", \"power_shift\", \"manager\", \"bloomberg\", \"essential\", \"royal_dutch\", \"pandemic\", \"coalition\", \"exclusive\", \"chang_said\", \"score\", \"national\", \"surprise\", \"toll\", \"offshore_drille\", \"cite\", \"misrepresent\", \"slash\", \"death\", \"samp\", \"film\", \"natural\", \"discussion\", \"summary\", \"growth\", \"launch\", \"proxy\", \"chevron\", \"tipping_point\", \"approach\", \"shell\", \"day\", \"invest\", \"large\", \"oil\", \"future\", \"big\", \"change\", \"good\", \"climate\", \"investor\", \"begin\", \"company\", \"new\", \"green\", \"gas\", \"address\", \"well\", \"amp\", \"exxon\", \"energy\", \"emission\", \"elect\", \"unable\", \"proclimate_campaign\", \"dark\", \"investor_oust\", \"steer\", \"election\", \"dupe\", \"guyanese_citizen\", \"level\", \"signal\", \"set\", \"moment\", \"argue\", \"nominate\", \"urge\", \"ploy_ceo\", \"condemns_statement\", \"deep\", \"ambitious\", \"aggressive\", \"candidate\", \"era\", \"estimate\", \"referendum\", \"atmosphere\", \"criminal\", \"carbon_dioxide\", \"hour\", \"advocacy\", \"pull\", \"customer\", \"activist\", \"defeat\", \"challenge\", \"york_time\", \"least\", \"xom\", \"dutch\", \"investor\", \"pledge\", \"new\", \"win\", \"board\", \"member\", \"shareholder\", \"director\", \"management\", \"clean\", \"group\", \"push\", \"force\", \"climate\", \"cut\", \"put\", \"face\", \"energy\", \"news\", \"court\", \"change\", \"say\", \"shell\", \"petition\", \"subsidy\", \"sign\", \"willing\", \"contribute\", \"end\", \"government_give\", \"taxpayerfunded_subsidie\", \"corporation\", \"engage\", \"black\", \"evidence\", \"drama\", \"demonstrate\", \"double\", \"buck\", \"shock\", \"bank\", \"stick\", \"quickly\", \"pressure\", \"western\", \"guess\", \"related\", \"violation\", \"gt\", \"french\", \"stress\", \"brag\", \"announcement\", \"fuel\", \"fossil\", \"sue\", \"notch\", \"year\", \"crisis\", \"shift\", \"industry\", \"climate\", \"go\", \"oil\", \"lawsuit\", \"enough\", \"landmark\", \"send\", \"coup\", \"petroleum\", \"litigation\", \"speed\", \"sabotage\", \"harvard_researcher\", \"hurt\", \"div\", \"deliver\", \"held_accountable\", \"refuse\", \"tank\", \"organization\", \"tip\", \"end_week\", \"care_job\", \"back_better\", \"justice_urge\", \"negative\", \"bid\", \"uncertainty\", \"compensation\", \"embrace\", \"worried\", \"dominate\", \"circle\", \"sting\", \"pass\", \"ecosearch\", \"catch\", \"talk\", \"video\", \"affect\", \"push\", \"past\", \"plan\", \"lobbyist\", \"biden\", \"move\", \"climate\", \"time\", \"case\", \"legislation\", \"exxon\", \"engagement\", \"crisis\", \"oil\", \"leaked_document\", \"lucrative\", \"evil\", \"wind\", \"install\", \"stake\", \"base\", \"going\", \"stakeholder\", \"pick\", \"citizen\", \"politic\", \"nice\", \"reject\", \"wall_street\", \"kind\", \"trick\", \"leak\", \"climatefriendly\", \"backlash\", \"mess\", \"alternative\", \"office\", \"fascinating\", \"guide\", \"spill\", \"infrastructure\", \"area\", \"usual\", \"scramble\", \"damage\", \"add\", \"key\", \"rule\", \"total\", \"solar\", \"business\", \"build\", \"reveal\", \"initiative\", \"measure\", \"plan\", \"let\", \"employee\", \"know\", \"emission\", \"exxon\", \"look\", \"earth\", \"climate\", \"amp\", \"lobbyist\", \"say\", \"concern\", \"worlds_bigg\", \"lower\", \"here\", \"disclose\", \"longterm\", \"international\", \"lowcarbon\", \"return\", \"mainstream\", \"offer\", \"debate\", \"fault\", \"practice\", \"exploration\", \"facility\", \"pace\", \"fundamental\", \"align\", \"blackrock\", \"pollute\", \"exist\", \"liable\", \"hydrocarbon\", \"conversation\", \"trouble\", \"conservative\", \"agm\", \"insider\", \"rate\", \"fast\", \"explain\", \"behavior\", \"document\", \"attack\", \"worth\", \"ice\", \"forward\", \"lobbying\", \"lie\", \"science\", \"part\", \"capture\", \"ahead\", \"climate\", \"change\", \"emission\", \"sell\", \"company\"], \"Freq\": [2374.0, 2692.0, 2155.0, 1340.0, 2080.0, 1063.0, 1167.0, 1123.0, 900.0, 2889.0, 1079.0, 2421.0, 1837.0, 750.0, 910.0, 1174.0, 756.0, 1729.0, 14973.0, 4789.0, 925.0, 1077.0, 1432.0, 5821.0, 1223.0, 559.0, 439.0, 1335.0, 1398.0, 601.0, 211.80007753413412, 153.00830347110477, 112.40098632066852, 113.35428389547904, 97.60422131326143, 95.18556612831102, 92.36158587517018, 92.36144684971083, 87.13340908485205, 90.6418482600543, 64.37966093660997, 67.70431577167179, 63.01986755289863, 52.64572192151895, 50.50398715878396, 51.429047931086146, 100.12075773872857, 49.34833802787941, 51.7736371663612, 44.97497025011157, 59.28695713930573, 52.69646987274895, 44.4813493809706, 56.54556898471706, 39.10021897540679, 45.14835329075327, 38.299538427887704, 37.498718854909264, 47.228492457863695, 185.18697531701397, 642.4345988921681, 42.954860812925574, 85.08773725596798, 103.08194880312529, 63.10399259006846, 340.2425969711268, 286.9379236407737, 200.97422355104484, 486.7890995311332, 370.5509666294366, 123.83057665383888, 143.2963068341244, 223.5501727710283, 189.30354843709068, 1252.9950794999718, 335.07114256822626, 92.8399358951702, 193.2285005713969, 123.79605443714172, 187.44059264744882, 601.8144621309532, 1641.2493432442966, 2178.828774819148, 662.0150031250347, 238.53989779889335, 434.26285169910796, 325.845764307513, 166.30354229755082, 262.36843713916505, 192.9225274867406, 279.8321128991574, 234.00377511099518, 178.38456203049117, 165.62520049570114, 300.16053264039994, 180.12257051781833, 668.788776279686, 171.78637557751898, 158.07941647241324, 94.53966939722753, 93.93350930697464, 90.08653194247357, 83.97511814362832, 179.99783378411678, 337.90976996147253, 66.42759857147067, 110.97230220224742, 237.4477703724143, 65.85311508394915, 54.689924110830574, 51.09558021741193, 49.976858607473964, 50.01337155516133, 61.30528286899502, 64.01590126013804, 52.80204884524019, 47.87988790088319, 124.13066391918947, 59.843082437878756, 43.287625408471875, 124.20159212277605, 67.31307943388846, 40.70996280170652, 71.64629155776821, 39.61276438355314, 40.11614485983907, 470.61793930429076, 58.635176150510524, 48.56736268253479, 313.34839210244564, 111.46168349930831, 74.87289114323009, 371.9187437497809, 266.9071274510182, 69.02786235052287, 108.88226553240078, 683.84117159002, 66.53539662169469, 1479.7412715795017, 259.4853482315276, 713.9604129763399, 98.47029950543285, 3076.7677541101903, 487.1025919521958, 379.1085823536409, 1363.764204535087, 567.8549562786404, 166.9264461562102, 792.6774044415143, 499.03149505537687, 313.3404966236319, 273.16701849674297, 167.66024496484997, 151.44730167272579, 128.72297739716507, 140.5760868171954, 146.93049053181926, 171.36032563496468, 149.24329769937543, 1122.2253047597953, 402.1850428031012, 153.7369491505804, 127.19216495868285, 106.96200270674802, 122.75397861562107, 105.22819679685915, 104.3509040678856, 95.22095728458997, 77.76100563950648, 141.50862332645636, 70.82679977373343, 66.87606346160136, 65.62160779962358, 62.2392910771135, 63.13772381569326, 62.083069869381696, 893.7409145286665, 51.811336395399636, 47.1729808072502, 44.505968221214694, 56.88256036145844, 46.74102418502095, 39.95837473047683, 37.421054089031415, 61.997251749475815, 34.668795880842666, 32.09754591271234, 31.937313686775415, 58.926875623411625, 147.23772849082673, 64.14707976081255, 495.2635933435181, 146.02284585251496, 490.3553792776775, 541.7824141878489, 779.3997409127593, 739.3617642571103, 90.73157126597242, 527.1409467255479, 367.76455545368117, 869.9995882205135, 132.26636096554387, 89.14662183963961, 522.0343233151184, 273.48599308077377, 2546.276626658519, 426.4236081469665, 292.4327284572986, 1057.3773958674142, 961.842024230657, 201.0985432297634, 301.45000626930283, 372.9861590300329, 212.41803947340506, 218.77901252770997, 331.96444747066306, 239.0714710165786, 301.97647802976644, 226.79071570691167, 154.35808800855835, 188.43173054386887, 118.43993593978576, 92.4259616311856, 85.12566414885616, 84.67223502342935, 104.02696887125465, 72.47313701467573, 71.12094587893763, 76.14044978579021, 77.34594365207704, 59.479166632414945, 362.1778456836204, 55.717395518581164, 53.30851941772447, 53.18484851729322, 52.97928001304122, 48.732887767870764, 41.398206047646205, 58.99858040299754, 41.6855399721999, 151.8474830309391, 38.57890672928842, 68.43803021095657, 45.15385045537161, 61.105988856525194, 32.89590434393308, 33.86692117034979, 32.57895139734633, 179.8965085347342, 31.31915323684224, 121.13552800724455, 120.71835682109553, 128.78452561285064, 66.86730006315884, 53.03680958512351, 75.38070518247288, 135.97964466906512, 54.17081199512748, 55.84100032725289, 216.21029534931813, 162.8540742041534, 212.1970318721234, 238.1361440447047, 344.0770840076966, 120.78973592138718, 93.34881408784531, 542.3901670820894, 370.65448395710825, 152.59459749901035, 274.91332662205247, 500.8181330977052, 143.63567443788514, 155.76080254937358, 127.3657999027944, 289.43445285505334, 135.3670004949322, 122.01519610822781, 789.5030789629923, 227.1500545352964, 487.6607442308322, 162.8791758544226, 805.1063387931184, 268.16993152386897, 165.64793149968037, 447.9876586812442, 197.1190693467362, 190.5854494932987, 168.13006040221137, 212.26136559084924, 169.05325653602063, 168.75277696049656, 161.39589171365813, 154.38389970474748, 599.4650533135435, 294.70881513669815, 201.27170218020862, 187.5101677230036, 181.16366388336618, 141.63057848789663, 114.53009881815696, 108.1219101410142, 94.39975990241746, 92.66189383918267, 89.33314695203035, 66.06593627280324, 76.48402959516942, 74.6890489315235, 64.114498486646, 101.56318694100966, 51.57822588582267, 46.93150814560825, 55.586323817434575, 83.86169652000194, 48.630615391100314, 44.95038787221816, 44.03770885185349, 39.75172714164796, 63.11087442076005, 35.848632411765216, 33.409988642793536, 30.584398133179732, 32.18911261043034, 29.755239527548216, 138.34914825426225, 177.04104275907216, 799.7676727987466, 202.48416737272652, 92.30583227974554, 850.2821880278343, 357.0470415325985, 174.19599266098885, 206.02128499953503, 1441.71623897903, 273.3849120323765, 815.4744070693732, 1053.5573538627825, 228.47736679209987, 1667.620182770332, 479.3677322060287, 129.0915904713495, 421.86326651689274, 305.3607068219452, 125.40656821249833, 200.67328442211542, 176.61248815229993, 134.48014054420372, 206.07011972011117, 216.38369626364357, 168.00300602526414, 157.78377414221427, 208.9323458923669, 83.03234173558911, 166.41333599645105, 72.38985878406125, 178.81952985672353, 64.4207912162144, 61.396564234373216, 56.54694933158667, 60.060520872651885, 54.573783188752245, 65.93008382053046, 136.8312593323819, 59.915299315160865, 77.9584449583257, 51.032073240896786, 89.21079805766865, 44.712980245709325, 42.911845406917806, 39.13111753466922, 86.9345312979603, 33.77494588320727, 34.94181154071579, 33.7906784283023, 32.761711598562066, 37.87712397547003, 33.45620331170913, 33.3175319485371, 28.49934942271504, 33.14003250302083, 28.62173966516333, 58.60848647868326, 88.23510849036474, 2348.0244781871825, 209.57346471980293, 178.47709787711207, 48.57827432244661, 520.0564601086642, 150.0104616799625, 186.8046772331368, 975.3185892603917, 125.59392411997545, 915.0959768714648, 616.0761587387062, 1049.0768674338763, 281.6066990171612, 610.6939976877335, 340.7912050044052, 111.43713987081208, 235.9831033590036, 168.17362963132507, 374.7686306554509, 175.61423768777945, 1523.609321008612, 178.4180127589369, 161.4331550612268, 221.40121829282282, 269.39848559801095, 162.75196106947712, 167.9923882960845, 210.45531262496934, 157.74499555172065, 140.80332937736486, 441.6694665396473, 398.1324493406191, 341.98056341934165, 137.24341927247121, 204.6990050665344, 448.3029072598985, 143.15598845257622, 142.9615527230816, 554.201183769902, 110.17581657124803, 102.04274200025067, 93.8996651181925, 93.0923828080084, 81.7947762971332, 79.226543053209, 68.82282123771027, 62.87195968514565, 62.16325953960833, 61.94725560833202, 71.64667676223897, 1317.6829062777697, 52.27122300017378, 48.928768724809366, 45.18092959644767, 44.7433074098705, 40.12696492948702, 37.418519212466414, 34.92076968694464, 33.3782945199729, 36.914299262818496, 2159.4541047522694, 1962.3275466379257, 664.7126641040595, 50.74699726050914, 438.01976502877415, 442.3885292327357, 146.30367358807732, 259.8597041170201, 606.8586837598741, 135.536373513973, 199.4050002633268, 85.49245057806733, 70.67151658296306, 466.4741294053801, 209.6316093736636, 181.63507526114753, 125.51657707396001, 111.10623103002303, 103.85726768563327, 88.80351901501773, 83.78893872009513, 71.55052542508827, 69.07670663572696, 138.23866901965562, 58.46876123876235, 71.89193470841377, 50.508726468389284, 49.95614503479415, 46.29818842773522, 55.99604051596833, 56.461048458249074, 55.73679307993016, 54.49485833174123, 44.14102056085649, 301.0056128036047, 53.141628992973196, 37.36259125922456, 36.878655081523306, 38.142386629911144, 35.3528468767236, 30.18260580978654, 173.07984191337067, 161.37588301168853, 74.53911925190057, 659.0269622130867, 523.088638925745, 865.7365127250348, 77.61736824671183, 662.4244302469776, 75.86079080134223, 576.1574593094551, 618.0020506946465, 174.43034218115878, 207.7498594931511, 1623.6093814164888, 241.4185834341259, 184.91007489352708, 101.53029652163563, 320.7425402716652, 74.02456597382147, 87.80949336078778, 82.3049178498415, 225.45498637939252, 213.55709937225086, 259.33235359654395, 168.2304832658963, 84.19993556591733, 82.16373390461452, 57.138270123040805, 56.759227154777086, 49.38415522320094, 52.84419675119125, 46.270347276281775, 40.3561612977253, 37.670723397573795, 74.88859772438421, 102.43783543461872, 34.39335197327013, 33.15823259425326, 77.16919484881689, 37.64928243872748, 34.742546380546194, 31.17266821280883, 30.749006880952585, 29.5543034948084, 27.689057363946638, 26.55885135714188, 27.821977005285547, 230.0622264819724, 24.094877535715682, 28.912359184458612, 20.826234112137847, 351.7126714933581, 250.57913292499057, 80.94427400641483, 164.35382059280371, 167.79169740443095, 131.78310746006085, 689.1406009531555, 118.65018689495173, 355.8558142462975, 67.38022853885171, 82.21290936593114, 535.840085255959, 140.5576689659029, 48.15561545797281, 409.94156695521195, 360.80329475999747, 364.91771606839825, 123.03655794474892, 94.06171245420892, 500.3702226458035, 128.24473992096821, 89.66425332482689, 75.68926234422968, 437.7773060060404, 176.01592784833394, 159.0541266461443, 117.40913595589267, 105.94299153152649, 104.3589490000431, 76.30614066326784, 73.62998713373017, 67.22785040979723, 54.69269334643249, 64.1598367965925, 57.815313313520406, 52.282621175101696, 46.14023044323016, 42.58929791772455, 42.446860716815905, 42.10971552439621, 41.39353373689068, 78.24169953816714, 97.14287048270906, 48.48494704172285, 36.30332833266942, 32.82700117537039, 32.64700602655755, 31.835202821220793, 30.630635054182264, 32.226130287536485, 28.900666046527363, 31.552491126882096, 26.860030943407168, 116.3326462984737, 95.61808131225615, 33.34770114015737, 145.96140108334598, 89.51108582081022, 47.2324137995272, 36.97771519516585, 55.832383909015725, 77.5573513575816, 201.36633269305258, 209.62589746929402, 108.43786354349082, 74.36396502905673, 53.9093309504099, 444.04369062671697, 81.29365766127988, 66.92335888438232, 51.28182627943336, 58.68900693584667], \"Total\": [2374.0, 2692.0, 2155.0, 1340.0, 2080.0, 1063.0, 1167.0, 1123.0, 900.0, 2889.0, 1079.0, 2421.0, 1837.0, 750.0, 910.0, 1174.0, 756.0, 1729.0, 14973.0, 4789.0, 925.0, 1077.0, 1432.0, 5821.0, 1223.0, 559.0, 439.0, 1335.0, 1398.0, 601.0, 212.97449116369555, 154.1519472612499, 113.53510671700133, 114.53178636886226, 98.73790630441424, 96.3189985717517, 93.49501382025736, 93.49487664619076, 88.26978759401976, 91.98878048524688, 65.51338202599119, 68.89690245324327, 64.15365309005529, 53.78556939951141, 51.63831105145766, 52.599911495466, 102.41022167988831, 50.48193005762635, 52.9680902057933, 46.10863388050505, 60.78182476503909, 54.05604186002494, 45.63142891027303, 58.088431143294464, 40.234004846542554, 46.46747135336862, 39.44820413508817, 38.63238006204078, 48.65952940319504, 190.85923035157424, 662.4693529861282, 44.274098686616114, 88.69063236962008, 107.98695450256056, 65.53440836227878, 380.02479816071565, 328.14775807838396, 233.62478445352576, 660.9976861128899, 494.3297124575025, 144.24849107880664, 171.04475663089795, 297.40138002938926, 246.52952691183805, 2421.256759170378, 513.7854515373162, 106.47467921372079, 279.6526800869191, 156.12337569149236, 276.8496317748062, 1398.3840370304897, 5821.441593948318, 14973.090976608803, 2642.322569078528, 476.2030984160503, 1622.083934236094, 1081.9781607119332, 339.5579203101605, 1075.2184739430538, 520.6668318998736, 1432.4172692440989, 971.5485397276165, 437.5041623419109, 412.0472150131804, 4789.409169931022, 1837.2321487016027, 670.2254501089653, 172.9448724575912, 159.67128855872807, 95.71148422907962, 95.16689910508077, 91.27105597011256, 85.12800252388915, 182.84206393675603, 343.2497443830968, 67.5671364203126, 112.93087159638085, 241.68415122681384, 67.10739781239106, 55.81589855132286, 52.23767349275446, 51.10310649403812, 51.14063690986436, 62.70037796467057, 65.48722133266527, 54.03028008302767, 49.020434642643835, 127.16269423259112, 61.33632831874221, 44.415716680444, 127.46454557884678, 69.15443490007348, 41.83932544728668, 73.6571816210652, 40.73893130711713, 41.3199747224089, 489.9653351186349, 60.538830996443444, 50.10289421417893, 342.656067368406, 119.01814527869514, 78.69455404550123, 434.38369024832895, 304.67034442632234, 72.39970945257983, 120.49539463395864, 1081.9781607119332, 70.34312478276956, 2889.484720221199, 363.8455090618758, 1417.278131539126, 114.93542994282163, 14973.090976608803, 1174.145868477119, 832.2597833785753, 5821.441593948318, 1622.083934236094, 276.1751201548187, 4789.409169931022, 2642.322569078528, 1729.0931952746305, 1261.281166714697, 414.42145996992514, 326.1830455932153, 215.80371810684827, 318.85329459852386, 400.5040446765042, 1248.8207449961467, 652.9546172996797, 1123.3596595538693, 403.57995657779395, 154.8820048129117, 128.32695473046576, 108.09601788030582, 124.07565661740686, 106.40893652108642, 105.65919897438656, 96.41570275892175, 78.90109066373583, 143.6797873753215, 71.96150842555471, 68.01252936708428, 66.75825735952536, 63.40140811581621, 64.32574030514624, 63.275275932996045, 910.9360875044235, 52.97738130266848, 48.34200449667506, 45.6401601436096, 58.40858220039722, 48.0962139543981, 41.13683240320791, 38.55529141016792, 64.02490463907571, 35.803975478958975, 33.23157873379123, 33.071461326689786, 61.07088497678081, 152.89322660145936, 67.04439255903011, 542.6150854721269, 156.0457579360316, 546.984871338375, 637.503637432947, 1006.5508486353646, 1024.392537498687, 106.71819745014392, 971.5485397276165, 668.0430337703167, 2080.241713246559, 184.4447621813541, 106.0852528987933, 1335.8978202268122, 552.4960476273998, 14973.090976608803, 1077.877079324745, 638.0849276091842, 4789.409169931022, 5821.441593948318, 482.14391930232057, 1432.4172692440989, 2642.322569078528, 652.8997986725732, 794.8525370267214, 2889.484720221199, 1174.145868477119, 2692.0011756778786, 1622.083934236094, 468.20881474757834, 189.5361480986489, 119.54424155574829, 93.5747339301992, 86.23640524275419, 85.88972247950328, 105.59942239992965, 73.57733755876471, 72.30004463992665, 77.4635764884672, 78.75869954092671, 60.58677655389377, 369.065945882428, 56.83516103609246, 54.413316622249795, 54.29461578707594, 54.14295674683724, 49.95104970161044, 42.503785568661186, 60.65796723753097, 42.86052231578065, 156.1750172099332, 39.683121233103805, 70.42990428420693, 46.623547722146185, 63.11670949693873, 34.00056977278417, 35.013314800023934, 33.68949224155605, 186.11158202157995, 32.429953010269, 126.98490283205936, 126.863696266424, 135.7382664099808, 70.03064624332289, 55.64088873036043, 81.05191314670124, 155.65054981059237, 57.19320218218293, 59.19837654924051, 287.12217615291223, 210.82536452516763, 291.18008110749645, 335.5667348096254, 558.2646647236229, 154.89232237791217, 113.22435987663818, 1248.8207449961467, 758.5778237375894, 226.7442337388285, 520.6668318998736, 1261.281166714697, 211.98258203871978, 240.42263604695646, 177.3327376650752, 652.9546172996797, 207.17331906509108, 174.19989906041886, 4789.409169931022, 534.0821571055308, 2642.322569078528, 326.1830455932153, 14973.090976608803, 1075.2184739430538, 360.9035688679552, 5821.441593948318, 609.096502835645, 560.1229526288004, 378.9534319572537, 1046.9654467764824, 638.0849276091842, 660.9976861128899, 2374.6590792599745, 727.7560589624793, 601.6572108694887, 295.8427377220832, 202.42044455908095, 188.69986191083302, 182.583740841034, 142.82026640813118, 115.6638722702455, 109.33045988007687, 95.53473989458767, 93.79640843675298, 90.47971476967103, 67.20298538089814, 77.87921697837992, 76.07137798279285, 65.40548988309345, 103.72408758401265, 52.77384941571302, 48.06712307930932, 56.93816384909225, 85.93618699879765, 49.837246262793826, 46.08490538028301, 45.22916992167439, 40.893723001533495, 65.05011099041384, 37.0070379545748, 34.549004627983834, 31.718656078688387, 33.408672475529954, 30.889765033576925, 145.42122152749587, 187.93266816514597, 925.9504226725621, 225.66243999513281, 103.21703121415494, 1223.4693613675267, 561.9414093705792, 256.7303754984224, 320.53781441300936, 4789.409169931022, 533.8091492633839, 2889.484720221199, 5821.441593948318, 510.1067383012701, 14973.090976608803, 1837.2321487016027, 206.40049066179836, 2642.322569078528, 1729.0931952746305, 217.2576655681227, 758.5778237375894, 552.4960476273998, 261.1159749209574, 1248.8207449961467, 2421.256759170378, 1075.2184739430538, 1398.3840370304897, 210.09195984878244, 84.18333543147935, 169.01855726757856, 73.5655363525985, 181.8464951644067, 65.60770926512, 62.5550401064757, 57.697792209386414, 61.28814136085041, 55.72759297676739, 67.33682298503427, 140.01038803071802, 61.4017242960067, 79.90807345598715, 52.43758714615837, 91.91410414792372, 46.086834959331746, 44.237154391995155, 40.339836371477276, 89.70721634675994, 34.92719242843017, 36.13536435197073, 34.955371610961, 33.919462971691274, 39.27476397654664, 34.73262800938137, 34.593353644649845, 29.65623734390249, 34.525762944544105, 29.847412510404894, 61.14006635157808, 92.48277965514926, 2692.0011756778786, 231.4619418212674, 215.26485738892174, 52.274004273137585, 794.8525370267214, 192.48132749366854, 248.1968983636154, 1837.2321487016027, 161.45142217204457, 1729.0931952746305, 1077.877079324745, 2080.241713246559, 468.20881474757834, 1335.8978202268122, 652.8997986725732, 147.13731472653373, 421.0422124069085, 305.80179998937933, 1079.8509671211696, 344.79793417953056, 14973.090976608803, 373.1540009721225, 326.30160310460695, 615.9194179328316, 1075.2184739430538, 410.40981179577176, 482.14391930232057, 5821.441593948318, 1622.083934236094, 1223.4693613675267, 442.9656457474696, 399.70548725835795, 344.12117764811063, 138.2674460848417, 206.2854246421536, 452.1590984597814, 144.43028969458183, 144.2370512763856, 559.1977372372685, 111.19968290447045, 103.06665266633973, 94.92351710051506, 94.11972156123855, 82.8217071016215, 80.25052873166491, 69.84692742364908, 63.89579048421239, 63.18727576105163, 62.971292479121416, 72.88424641798889, 1340.7202125381104, 53.29546635043419, 49.952559169278025, 46.20489038404506, 45.76773673131647, 41.15074009403309, 38.44802705762732, 35.94663022069962, 34.402037566045806, 38.08190518455855, 2374.6590792599745, 2155.5534932281744, 750.7286604676976, 53.15141983346988, 1046.9654467764824, 1417.278131539126, 296.8696277294512, 1261.281166714697, 14973.090976608803, 609.096502835645, 4789.409169931022, 279.6526800869191, 297.40138002938926, 468.3973788555533, 210.65777948794633, 182.66273196062127, 126.54296821462172, 112.13253588863586, 104.88366622112093, 89.85491341464423, 84.82058052137937, 72.5768109899089, 70.10291225960667, 140.2961197816618, 59.49493064769538, 73.30706791843191, 51.53491287480731, 51.02852138793101, 47.32725096091325, 57.272916123103435, 57.75726463570816, 57.017431459368005, 55.761874232359126, 45.16777386661837, 308.12650663143233, 54.40983000395912, 38.39086293420416, 37.90580325150499, 39.21372007715486, 36.37953116451917, 31.20897239634524, 179.06516164316415, 167.03873952376705, 77.69685591089173, 756.7984095363411, 619.6370081815146, 1063.2679333338328, 83.42737595216117, 1079.8509671211696, 87.33798477882601, 1167.2279769667498, 1432.4172692440989, 266.92937922270136, 410.1185852254938, 14973.090976608803, 727.7560589624793, 600.8371933087966, 193.73967798010642, 2421.256759170378, 98.7478177011558, 1417.278131539126, 4789.409169931022, 226.77569868060533, 214.8781121086744, 260.97681281419926, 169.43264631276878, 85.31120602231995, 83.287270213065, 58.249255664397865, 57.93680971185713, 50.495629154425, 54.1235934859844, 47.44070345410193, 41.46719627515086, 38.80738800317534, 77.15946321055566, 105.72923979472111, 35.50429625967068, 34.272847595573474, 79.83782614136683, 38.95282421726119, 35.95950252592863, 32.28363812058346, 31.860059187385044, 30.665404078224103, 28.827904420391317, 27.670016530894184, 29.02921082050168, 240.1636667594197, 25.206794373790075, 30.315106631943703, 21.937144543821596, 373.5674317937632, 267.4958659027981, 85.58391688596103, 175.0964051235871, 180.1115307199661, 146.21297431756156, 900.0053698384161, 137.26217070130076, 560.1229526288004, 83.07664941341258, 106.8675051051779, 1167.2279769667498, 232.39329582078537, 54.92980321290388, 1174.145868477119, 1398.3840370304897, 2421.256759170378, 362.3966383417775, 213.94393809414356, 14973.090976608803, 1248.8207449961467, 1432.4172692440989, 1622.083934236094, 439.9411718491874, 177.1045814355888, 160.14398223791562, 118.49759007470605, 107.03165563980909, 105.68394201205068, 77.39456306941088, 74.71875181575604, 68.3163683683337, 55.78120157745371, 65.4377318664373, 59.00482890727397, 53.3712426432411, 47.2286499002189, 43.67877353720872, 43.53561516953087, 43.198333262502, 42.49647959449448, 80.43085083812863, 99.97304649385691, 49.96220232498818, 37.422101873093126, 33.92074425544098, 33.7854329267011, 32.957762110467854, 31.71903215498054, 33.40640976223761, 30.00474440368229, 32.7876692013633, 27.948469292414426, 121.07590028530142, 101.03089400711221, 34.71821138454525, 168.28007486445372, 100.04272046578885, 51.157748068932584, 38.975792691145045, 63.94110800716502, 94.7131385774936, 352.9292919383423, 414.42145996992514, 189.1115531164946, 113.79314392628655, 66.2731389934936, 14973.090976608803, 5821.441593948318, 1398.3840370304897, 126.35372140254282, 2642.322569078528], \"Category\": [\"Default\", \"Default\", \"Default\", \"Default\", \"Default\", \"Default\", \"Default\", \"Default\", \"Default\", \"Default\", \"Default\", \"Default\", \"Default\", \"Default\", \"Default\", \"Default\", \"Default\", \"Default\", \"Default\", \"Default\", \"Default\", \"Default\", \"Default\", \"Default\", \"Default\", \"Default\", \"Default\", \"Default\", \"Default\", \"Default\", \"Topic1\", \"Topic1\", \"Topic1\", \"Topic1\", \"Topic1\", \"Topic1\", \"Topic1\", \"Topic1\", \"Topic1\", \"Topic1\", \"Topic1\", \"Topic1\", \"Topic1\", \"Topic1\", \"Topic1\", \"Topic1\", \"Topic1\", \"Topic1\", \"Topic1\", \"Topic1\", \"Topic1\", \"Topic1\", \"Topic1\", \"Topic1\", \"Topic1\", \"Topic1\", \"Topic1\", \"Topic1\", \"Topic1\", \"Topic1\", \"Topic1\", \"Topic1\", \"Topic1\", \"Topic1\", \"Topic1\", \"Topic1\", \"Topic1\", \"Topic1\", \"Topic1\", \"Topic1\", \"Topic1\", \"Topic1\", \"Topic1\", \"Topic1\", \"Topic1\", \"Topic1\", \"Topic1\", \"Topic1\", \"Topic1\", \"Topic1\", \"Topic1\", \"Topic1\", \"Topic1\", \"Topic1\", \"Topic1\", \"Topic1\", \"Topic1\", \"Topic1\", \"Topic1\", \"Topic1\", \"Topic1\", \"Topic1\", \"Topic1\", \"Topic1\", \"Topic1\", \"Topic1\", \"Topic2\", \"Topic2\", \"Topic2\", \"Topic2\", \"Topic2\", \"Topic2\", \"Topic2\", \"Topic2\", \"Topic2\", \"Topic2\", \"Topic2\", \"Topic2\", \"Topic2\", \"Topic2\", \"Topic2\", \"Topic2\", \"Topic2\", \"Topic2\", \"Topic2\", \"Topic2\", \"Topic2\", \"Topic2\", \"Topic2\", \"Topic2\", \"Topic2\", \"Topic2\", \"Topic2\", \"Topic2\", \"Topic2\", \"Topic2\", \"Topic2\", \"Topic2\", \"Topic2\", \"Topic2\", \"Topic2\", \"Topic2\", \"Topic2\", \"Topic2\", \"Topic2\", \"Topic2\", \"Topic2\", \"Topic2\", \"Topic2\", \"Topic2\", \"Topic2\", \"Topic2\", \"Topic2\", \"Topic2\", \"Topic2\", \"Topic2\", \"Topic2\", \"Topic2\", \"Topic2\", \"Topic2\", \"Topic2\", \"Topic2\", \"Topic2\", \"Topic2\", \"Topic2\", \"Topic2\", \"Topic2\", \"Topic2\", \"Topic2\", \"Topic3\", \"Topic3\", \"Topic3\", \"Topic3\", \"Topic3\", \"Topic3\", \"Topic3\", \"Topic3\", \"Topic3\", \"Topic3\", \"Topic3\", \"Topic3\", \"Topic3\", \"Topic3\", \"Topic3\", \"Topic3\", \"Topic3\", \"Topic3\", \"Topic3\", \"Topic3\", \"Topic3\", \"Topic3\", \"Topic3\", \"Topic3\", \"Topic3\", \"Topic3\", \"Topic3\", \"Topic3\", \"Topic3\", \"Topic3\", \"Topic3\", \"Topic3\", \"Topic3\", \"Topic3\", \"Topic3\", \"Topic3\", \"Topic3\", \"Topic3\", \"Topic3\", \"Topic3\", \"Topic3\", \"Topic3\", \"Topic3\", \"Topic3\", \"Topic3\", \"Topic3\", \"Topic3\", \"Topic3\", \"Topic3\", \"Topic3\", \"Topic3\", \"Topic3\", \"Topic3\", \"Topic3\", \"Topic3\", \"Topic3\", \"Topic3\", \"Topic3\", \"Topic3\", \"Topic3\", \"Topic3\", \"Topic4\", \"Topic4\", \"Topic4\", \"Topic4\", \"Topic4\", \"Topic4\", \"Topic4\", \"Topic4\", \"Topic4\", \"Topic4\", \"Topic4\", \"Topic4\", \"Topic4\", \"Topic4\", \"Topic4\", \"Topic4\", \"Topic4\", \"Topic4\", \"Topic4\", \"Topic4\", \"Topic4\", \"Topic4\", \"Topic4\", \"Topic4\", \"Topic4\", \"Topic4\", \"Topic4\", \"Topic4\", \"Topic4\", \"Topic4\", \"Topic4\", \"Topic4\", \"Topic4\", \"Topic4\", \"Topic4\", \"Topic4\", \"Topic4\", \"Topic4\", \"Topic4\", \"Topic4\", \"Topic4\", \"Topic4\", \"Topic4\", \"Topic4\", \"Topic4\", \"Topic4\", \"Topic4\", \"Topic4\", \"Topic4\", \"Topic4\", \"Topic4\", \"Topic4\", \"Topic4\", \"Topic4\", \"Topic4\", \"Topic4\", \"Topic4\", \"Topic4\", \"Topic4\", \"Topic4\", \"Topic4\", \"Topic4\", \"Topic4\", \"Topic4\", \"Topic4\", \"Topic4\", \"Topic4\", \"Topic4\", \"Topic4\", \"Topic4\", \"Topic4\", \"Topic4\", \"Topic4\", \"Topic5\", \"Topic5\", \"Topic5\", \"Topic5\", \"Topic5\", \"Topic5\", \"Topic5\", \"Topic5\", \"Topic5\", \"Topic5\", \"Topic5\", \"Topic5\", \"Topic5\", \"Topic5\", \"Topic5\", \"Topic5\", \"Topic5\", \"Topic5\", \"Topic5\", \"Topic5\", \"Topic5\", \"Topic5\", \"Topic5\", \"Topic5\", \"Topic5\", \"Topic5\", \"Topic5\", \"Topic5\", \"Topic5\", \"Topic5\", \"Topic5\", \"Topic5\", \"Topic5\", \"Topic5\", \"Topic5\", \"Topic5\", \"Topic5\", \"Topic5\", \"Topic5\", \"Topic5\", \"Topic5\", \"Topic5\", \"Topic5\", \"Topic5\", \"Topic5\", \"Topic5\", \"Topic5\", \"Topic5\", \"Topic5\", \"Topic5\", \"Topic5\", \"Topic5\", \"Topic5\", \"Topic5\", \"Topic5\", \"Topic5\", \"Topic5\", \"Topic6\", \"Topic6\", \"Topic6\", \"Topic6\", \"Topic6\", \"Topic6\", \"Topic6\", \"Topic6\", \"Topic6\", \"Topic6\", \"Topic6\", \"Topic6\", \"Topic6\", \"Topic6\", \"Topic6\", \"Topic6\", \"Topic6\", \"Topic6\", \"Topic6\", \"Topic6\", \"Topic6\", \"Topic6\", \"Topic6\", \"Topic6\", \"Topic6\", \"Topic6\", \"Topic6\", \"Topic6\", \"Topic6\", \"Topic6\", \"Topic6\", \"Topic6\", \"Topic6\", \"Topic6\", \"Topic6\", \"Topic6\", \"Topic6\", \"Topic6\", \"Topic6\", \"Topic6\", \"Topic6\", \"Topic6\", \"Topic6\", \"Topic6\", \"Topic6\", \"Topic6\", \"Topic6\", \"Topic6\", \"Topic6\", \"Topic6\", \"Topic6\", \"Topic6\", \"Topic6\", \"Topic6\", \"Topic6\", \"Topic6\", \"Topic6\", \"Topic6\", \"Topic6\", \"Topic6\", \"Topic6\", \"Topic6\", \"Topic7\", \"Topic7\", \"Topic7\", \"Topic7\", \"Topic7\", \"Topic7\", \"Topic7\", \"Topic7\", \"Topic7\", \"Topic7\", \"Topic7\", \"Topic7\", \"Topic7\", \"Topic7\", \"Topic7\", \"Topic7\", \"Topic7\", \"Topic7\", \"Topic7\", \"Topic7\", \"Topic7\", \"Topic7\", \"Topic7\", \"Topic7\", \"Topic7\", \"Topic7\", \"Topic7\", \"Topic7\", \"Topic7\", \"Topic7\", \"Topic7\", \"Topic7\", \"Topic7\", \"Topic7\", \"Topic7\", \"Topic7\", \"Topic7\", \"Topic7\", \"Topic7\", \"Topic7\", \"Topic7\", \"Topic7\", \"Topic7\", \"Topic8\", \"Topic8\", \"Topic8\", \"Topic8\", \"Topic8\", \"Topic8\", \"Topic8\", \"Topic8\", \"Topic8\", \"Topic8\", \"Topic8\", \"Topic8\", \"Topic8\", \"Topic8\", \"Topic8\", \"Topic8\", \"Topic8\", \"Topic8\", \"Topic8\", \"Topic8\", \"Topic8\", \"Topic8\", \"Topic8\", \"Topic8\", \"Topic8\", \"Topic8\", \"Topic8\", \"Topic8\", \"Topic8\", \"Topic8\", \"Topic8\", \"Topic8\", \"Topic8\", \"Topic8\", \"Topic8\", \"Topic8\", \"Topic8\", \"Topic8\", \"Topic8\", \"Topic8\", \"Topic8\", \"Topic8\", \"Topic8\", \"Topic8\", \"Topic8\", \"Topic8\", \"Topic8\", \"Topic8\", \"Topic8\", \"Topic9\", \"Topic9\", \"Topic9\", \"Topic9\", \"Topic9\", \"Topic9\", \"Topic9\", \"Topic9\", \"Topic9\", \"Topic9\", \"Topic9\", \"Topic9\", \"Topic9\", \"Topic9\", \"Topic9\", \"Topic9\", \"Topic9\", \"Topic9\", \"Topic9\", \"Topic9\", \"Topic9\", \"Topic9\", \"Topic9\", \"Topic9\", \"Topic9\", \"Topic9\", \"Topic9\", \"Topic9\", \"Topic9\", \"Topic9\", \"Topic9\", \"Topic9\", \"Topic9\", \"Topic9\", \"Topic9\", \"Topic9\", \"Topic9\", \"Topic9\", \"Topic9\", \"Topic9\", \"Topic9\", \"Topic9\", \"Topic9\", \"Topic9\", \"Topic9\", \"Topic9\", \"Topic9\", \"Topic9\", \"Topic9\", \"Topic9\", \"Topic9\", \"Topic9\", \"Topic9\", \"Topic10\", \"Topic10\", \"Topic10\", \"Topic10\", \"Topic10\", \"Topic10\", \"Topic10\", \"Topic10\", \"Topic10\", \"Topic10\", \"Topic10\", \"Topic10\", \"Topic10\", \"Topic10\", \"Topic10\", \"Topic10\", \"Topic10\", \"Topic10\", \"Topic10\", \"Topic10\", \"Topic10\", \"Topic10\", \"Topic10\", \"Topic10\", \"Topic10\", \"Topic10\", \"Topic10\", \"Topic10\", \"Topic10\", \"Topic10\", \"Topic10\", \"Topic10\", \"Topic10\", \"Topic10\", \"Topic10\", \"Topic10\", \"Topic10\", \"Topic10\", \"Topic10\", \"Topic10\", \"Topic10\", \"Topic10\", \"Topic10\", \"Topic10\", \"Topic10\", \"Topic10\", \"Topic10\", \"Topic10\", \"Topic10\"], \"logprob\": [30.0, 29.0, 28.0, 27.0, 26.0, 25.0, 24.0, 23.0, 22.0, 21.0, 20.0, 19.0, 18.0, 17.0, 16.0, 15.0, 14.0, 13.0, 12.0, 11.0, 10.0, 9.0, 8.0, 7.0, 6.0, 5.0, 4.0, 3.0, 2.0, 1.0, -4.9998, -5.3249, -5.6333, -5.6249, -5.7745, -5.7996, -5.8297, -5.8297, -5.888, -5.8485, -6.1906, -6.1403, -6.212, -6.3918, -6.4334, -6.4152, -5.749, -6.4565, -6.4085, -6.5493, -6.273, -6.3909, -6.5603, -6.3204, -6.6893, -6.5455, -6.71, -6.7311, -6.5004, -5.1341, -3.8902, -6.5953, -5.9117, -5.7199, -6.2106, -4.5258, -4.6962, -5.0522, -4.1676, -4.4404, -5.5365, -5.3905, -4.9458, -5.1121, -3.2221, -4.5411, -5.8245, -5.0915, -5.5368, -5.122, -3.9555, -2.9522, -2.6689, -3.8601, -4.8809, -4.2818, -4.569, -5.2416, -4.7857, -5.0931, -4.7212, -4.9001, -5.1715, -5.2457, -4.6511, -5.1618, -3.8454, -5.2046, -5.2877, -5.8018, -5.8082, -5.8501, -5.9203, -5.1579, -4.5281, -6.1547, -5.6416, -4.8809, -6.1634, -6.3492, -6.4171, -6.4393, -6.4385, -6.235, -6.1917, -6.3843, -6.4821, -5.5295, -6.2591, -6.583, -5.5289, -6.1415, -6.6444, -6.0791, -6.6717, -6.6591, -4.1968, -6.2795, -6.4679, -4.6035, -5.6372, -6.035, -4.4322, -4.7639, -6.1163, -5.6606, -3.8231, -6.1531, -3.0512, -4.7921, -3.78, -5.7611, -2.3192, -4.1624, -4.413, -3.1328, -4.009, -5.2333, -3.6754, -4.1382, -4.6035, -4.7407, -5.2289, -5.3306, -5.4932, -5.4051, -5.3609, -5.2071, -5.3453, -3.2977, -4.3238, -5.2855, -5.4751, -5.6483, -5.5106, -5.6646, -5.673, -5.7646, -5.9671, -5.3684, -6.0605, -6.1179, -6.1369, -6.1898, -6.1754, -6.1923, -3.5253, -6.3731, -6.4669, -6.5251, -6.2798, -6.4761, -6.6329, -6.6985, -6.1937, -6.7749, -6.852, -6.857, -6.2445, -5.3287, -6.1596, -4.1157, -5.337, -4.1256, -4.0259, -3.6622, -3.715, -5.8129, -4.0533, -4.4133, -3.5523, -5.4359, -5.8305, -4.063, -4.7095, -2.4784, -4.2653, -4.6425, -3.3572, -3.4519, -5.017, -4.6122, -4.3992, -4.9622, -4.9327, -4.5157, -4.844, -4.6104, -4.8967, -5.2815, -5.0149, -5.4793, -5.7273, -5.8095, -5.8149, -5.609, -5.9704, -5.9893, -5.9211, -5.9054, -6.168, -4.3615, -6.2334, -6.2776, -6.2799, -6.2838, -6.3673, -6.5304, -6.1761, -6.5235, -5.2308, -6.601, -6.0277, -6.4436, -6.141, -6.7603, -6.7312, -6.77, -5.0613, -6.8094, -5.4567, -5.4602, -5.3955, -6.0509, -6.2827, -5.9311, -5.3412, -6.2615, -6.2311, -4.8774, -5.1608, -4.8961, -4.7808, -4.4128, -5.4596, -5.7173, -3.9577, -4.3384, -5.2259, -4.6372, -4.0374, -5.2864, -5.2053, -5.4066, -4.5857, -5.3457, -5.4495, -3.5823, -4.828, -4.064, -5.1606, -3.5627, -4.662, -5.1438, -4.1489, -4.9699, -5.0036, -5.1289, -4.8958, -5.1234, -5.1252, -5.1698, -5.2142, -3.6454, -4.3554, -4.7368, -4.8076, -4.842, -5.0882, -5.3006, -5.3582, -5.4939, -5.5125, -5.549, -5.8508, -5.7043, -5.7281, -5.8807, -5.4207, -6.0983, -6.1927, -6.0235, -5.6122, -6.1572, -6.2359, -6.2564, -6.3588, -5.8965, -6.4621, -6.5326, -6.6209, -6.5698, -6.6484, -5.1116, -4.865, -3.3571, -4.7308, -5.5163, -3.2958, -4.1636, -4.8812, -4.7134, -2.7678, -4.4305, -3.3376, -3.0815, -4.61, -2.6223, -3.869, -5.1809, -3.9967, -4.3199, -5.2099, -4.7397, -4.8675, -5.14, -4.7132, -4.6644, -4.9174, -4.9802, -4.6392, -5.5619, -4.8667, -5.6991, -4.7948, -5.8157, -5.8638, -5.9461, -5.8858, -5.9816, -5.7926, -5.0624, -5.8882, -5.625, -6.0487, -5.4902, -6.1809, -6.222, -6.3143, -5.516, -6.4615, -6.4275, -6.461, -6.4919, -6.3468, -6.4709, -6.4751, -6.6313, -6.4804, -6.627, -5.9103, -5.5012, -2.2198, -4.6361, -4.7967, -6.098, -3.7272, -4.9705, -4.7511, -3.0984, -5.1481, -3.1621, -3.5578, -3.0255, -4.3407, -3.5666, -4.1499, -5.2677, -4.5174, -4.8562, -4.0549, -4.8129, -2.6523, -4.797, -4.8971, -4.5812, -4.385, -4.8889, -4.8573, -4.6319, -4.9202, -5.0338, -3.6181, -3.7219, -3.8739, -4.7869, -4.3871, -3.6032, -4.7447, -4.7461, -3.3911, -5.0066, -5.0833, -5.1664, -5.1751, -5.3045, -5.3364, -5.4771, -5.5676, -5.5789, -5.5824, -5.4369, -2.525, -5.7522, -5.8183, -5.898, -5.9077, -6.0166, -6.0865, -6.1556, -6.2008, -6.1001, -2.0311, -2.1268, -3.2093, -5.7818, -3.6264, -3.6165, -4.723, -4.1485, -3.3004, -4.7994, -4.4133, -5.2602, -5.4506, -3.4945, -4.2943, -4.4377, -4.8072, -4.9292, -4.9966, -5.1532, -5.2114, -5.3693, -5.4044, -4.7107, -5.5712, -5.3645, -5.7175, -5.7285, -5.8046, -5.6144, -5.6061, -5.619, -5.6416, -5.8523, -3.9325, -5.6667, -6.019, -6.032, -5.9983, -6.0743, -6.2324, -4.4859, -4.5559, -5.3283, -3.1489, -3.3799, -2.8761, -5.2879, -3.1438, -5.3108, -3.2833, -3.2132, -4.4781, -4.3033, -2.2473, -4.1531, -4.4198, -5.0193, -3.869, -5.3353, -5.1645, -5.2292, -3.9981, -4.0524, -3.8582, -4.2909, -4.9831, -5.0076, -5.3708, -5.3774, -5.5166, -5.4489, -5.5818, -5.7185, -5.7874, -5.1003, -4.787, -5.8784, -5.915, -5.0703, -5.788, -5.8683, -5.9767, -5.9904, -6.03, -6.0952, -6.1369, -6.0904, -3.9779, -6.2343, -6.052, -6.3801, -3.5535, -3.8925, -5.0225, -4.3142, -4.2935, -4.5351, -2.8808, -4.6401, -3.5417, -5.2059, -5.007, -3.1324, -4.4706, -5.5418, -3.4003, -3.5279, -3.5166, -4.6038, -4.8723, -3.2009, -4.5623, -4.9202, -5.0896, -2.9816, -3.8927, -3.9941, -4.2976, -4.4004, -4.4155, -4.7286, -4.7643, -4.8552, -5.0616, -4.9019, -5.0061, -5.1066, -5.2316, -5.3117, -5.3151, -5.323, -5.3402, -4.7035, -4.4871, -5.1821, -5.4714, -5.5721, -5.5776, -5.6027, -5.6413, -5.5905, -5.6994, -5.6117, -5.7727, -4.3069, -4.5029, -5.5563, -4.08, -4.5689, -5.2082, -5.453, -5.041, -4.7123, -3.7582, -3.718, -4.3771, -4.7543, -5.076, -2.9674, -4.6652, -4.8598, -5.126, -4.9911], \"loglift\": [30.0, 29.0, 28.0, 27.0, 26.0, 25.0, 24.0, 23.0, 22.0, 21.0, 20.0, 19.0, 18.0, 17.0, 16.0, 15.0, 14.0, 13.0, 12.0, 11.0, 10.0, 9.0, 8.0, 7.0, 6.0, 5.0, 4.0, 3.0, 2.0, 1.0, 1.9348, 1.9329, 1.9303, 1.93, 1.9288, 1.9285, 1.9281, 1.9281, 1.9274, 1.9256, 1.9229, 1.9229, 1.9225, 1.9189, 1.9181, 1.9178, 1.9177, 1.9176, 1.9175, 1.9155, 1.9154, 1.9149, 1.9148, 1.9134, 1.9118, 1.9115, 1.9108, 1.9106, 1.9105, 1.9102, 1.9096, 1.9101, 1.8989, 1.8939, 1.9026, 1.8298, 1.8061, 1.7898, 1.6344, 1.6521, 1.7877, 1.7633, 1.6549, 1.6762, 1.2816, 1.5129, 1.8033, 1.5707, 1.7083, 1.5503, 1.0972, 0.6743, 0.0129, 0.5562, 1.249, 0.6225, 0.7402, 1.2265, 0.5298, 0.9475, 0.3074, 0.5168, 1.0432, 1.0289, -0.8295, -0.382, 1.9428, 1.9382, 1.9349, 1.9326, 1.9319, 1.9319, 1.9313, 1.9293, 1.9293, 1.9279, 1.9274, 1.9272, 1.9261, 1.9246, 1.9228, 1.9226, 1.9226, 1.9224, 1.9222, 1.9219, 1.9214, 1.9208, 1.9203, 1.9192, 1.919, 1.9179, 1.9176, 1.9173, 1.9169, 1.9154, 1.9046, 1.913, 1.9138, 1.8555, 1.8793, 1.8951, 1.7897, 1.8126, 1.8972, 1.8436, 1.4861, 1.8893, 1.2757, 1.6069, 1.2593, 1.7903, 0.3626, 1.0651, 1.1586, 0.4936, 0.8953, 1.4414, 0.1462, 0.2782, 0.2369, 0.4151, 1.04, 1.1777, 1.4282, 1.1259, 0.9422, -0.0413, 0.469, 1.974, 1.9715, 1.9676, 1.9661, 1.9645, 1.9643, 1.9638, 1.9625, 1.9625, 1.9604, 1.9598, 1.9591, 1.9582, 1.9578, 1.9565, 1.9564, 1.956, 1.9559, 1.9527, 1.9505, 1.9498, 1.9485, 1.9464, 1.9459, 1.9451, 1.9428, 1.9428, 1.9403, 1.9401, 1.9393, 1.9373, 1.9308, 1.8837, 1.9086, 1.8657, 1.8123, 1.7192, 1.6489, 1.8127, 1.3636, 1.3781, 1.1033, 1.6425, 1.801, 1.0354, 1.2718, 0.2034, 1.0477, 1.1948, 0.4644, 0.1746, 1.1006, 0.4165, 0.0171, 0.8521, 0.6849, -0.1888, 0.3835, -0.2127, 0.0076, 0.8654, 2.0363, 2.0328, 2.0298, 2.0291, 2.0278, 2.0271, 2.027, 2.0257, 2.0249, 2.024, 2.0237, 2.0233, 2.0222, 2.0216, 2.0215, 2.0204, 2.0174, 2.0157, 2.0144, 2.0143, 2.014, 2.0139, 2.0134, 2.0101, 2.0097, 2.0091, 2.0088, 2.0086, 2.0081, 2.0073, 1.9949, 1.9925, 1.9895, 1.9959, 1.9942, 1.9696, 1.907, 1.9878, 1.9837, 1.7584, 1.7839, 1.7257, 1.6991, 1.5581, 1.7934, 1.8491, 1.2081, 1.3259, 1.6461, 1.4034, 1.1185, 1.6529, 1.608, 1.7111, 1.2285, 1.6165, 1.686, 0.2393, 1.1872, 0.3523, 1.3477, -0.8809, 0.6534, 1.2634, -0.5224, 0.9139, 0.964, 1.2294, 0.4463, 0.7138, 0.6768, -0.6466, 0.4916, 2.2507, 2.2505, 2.2487, 2.248, 2.2465, 2.246, 2.2445, 2.2432, 2.2424, 2.2422, 2.2416, 2.2373, 2.2363, 2.236, 2.2344, 2.2333, 2.2314, 2.2304, 2.2303, 2.2299, 2.2298, 2.2294, 2.2276, 2.226, 2.2241, 2.2225, 2.2208, 2.2179, 2.2172, 2.2169, 2.2045, 2.1946, 2.1078, 2.146, 2.1426, 1.8905, 1.8008, 1.8665, 1.8123, 1.0538, 1.5852, 0.9893, 0.545, 1.4512, 0.0595, 0.9108, 1.785, 0.4196, 0.5205, 1.7048, 0.9246, 1.1139, 1.5908, 0.4526, -0.1606, 0.398, 0.0725, 2.3091, 2.3008, 2.2991, 2.2985, 2.2978, 2.2963, 2.2959, 2.2944, 2.2944, 2.2937, 2.2935, 2.2916, 2.2901, 2.2899, 2.2874, 2.2847, 2.2843, 2.2842, 2.2842, 2.2832, 2.281, 2.281, 2.2807, 2.2799, 2.2784, 2.2771, 2.277, 2.2748, 2.2736, 2.2727, 2.2723, 2.2676, 2.1779, 2.2152, 2.1272, 2.2413, 1.8904, 2.0653, 2.0304, 1.6813, 2.0634, 1.6783, 1.7552, 1.63, 1.8062, 1.5318, 1.6644, 2.0367, 1.7356, 1.7166, 1.2563, 1.6399, 0.0294, 1.5767, 1.6109, 1.2914, 0.9305, 1.3897, 1.2603, -1.0054, -0.0159, 0.1525, 2.5842, 2.5832, 2.5809, 2.5797, 2.5794, 2.5785, 2.5782, 2.5782, 2.5781, 2.5778, 2.5771, 2.5763, 2.5761, 2.5746, 2.5743, 2.5723, 2.5709, 2.5708, 2.5707, 2.57, 2.5698, 2.5677, 2.5664, 2.5647, 2.5645, 2.5619, 2.56, 2.5581, 2.5569, 2.556, 2.4921, 2.4932, 2.4654, 2.5408, 1.7157, 1.4228, 1.8795, 1.0074, -0.6186, 1.0844, -0.5917, 1.402, 1.1501, 2.652, 2.6512, 2.6505, 2.648, 2.6469, 2.6463, 2.6443, 2.6439, 2.6419, 2.6414, 2.6413, 2.6387, 2.6366, 2.636, 2.6349, 2.6341, 2.6336, 2.6334, 2.6334, 2.6331, 2.6331, 2.6327, 2.6325, 2.629, 2.6286, 2.6284, 2.6275, 2.6227, 2.6221, 2.6216, 2.6146, 2.5178, 2.4867, 2.4506, 2.5839, 2.1674, 2.5152, 1.9501, 1.8155, 2.2306, 1.976, 0.4345, 1.5527, 1.4777, 2.0099, 0.6347, 2.3679, -0.1252, -1.4076, 2.8737, 2.8733, 2.8732, 2.8724, 2.8664, 2.8659, 2.8602, 2.859, 2.8572, 2.8556, 2.8545, 2.8523, 2.8498, 2.8496, 2.8479, 2.8477, 2.8464, 2.8455, 2.8455, 2.8451, 2.8445, 2.844, 2.8426, 2.8392, 2.8385, 2.837, 2.8365, 2.8344, 2.8321, 2.8275, 2.8192, 2.8142, 2.8238, 2.8162, 2.8086, 2.7756, 2.6125, 2.7338, 2.4259, 2.6701, 2.6172, 2.1009, 2.3767, 2.7479, 1.8272, 1.5248, 0.9871, 1.7992, 2.0577, -0.5192, 0.6035, 0.1084, -0.1853, 3.2275, 3.2263, 3.2256, 3.2232, 3.2222, 3.2198, 3.2183, 3.2178, 3.2164, 3.2127, 3.2127, 3.2121, 3.2118, 3.2091, 3.2072, 3.2071, 3.2069, 3.2062, 3.2049, 3.2037, 3.2024, 3.2021, 3.1997, 3.1982, 3.1978, 3.1975, 3.1965, 3.195, 3.1941, 3.1927, 3.1925, 3.1774, 3.1922, 3.0902, 3.1212, 3.1526, 3.1798, 3.0968, 3.0326, 2.6713, 2.5509, 2.6763, 2.807, 3.026, -0.2856, -1.0388, 0.1929, 2.3307, -0.5747]}, \"token.table\": {\"Topic\": [1, 2, 3, 10, 1, 2, 3, 4, 5, 6, 8, 9, 10, 1, 2, 5, 1, 2, 3, 4, 5, 6, 7, 9, 10, 1, 2, 3, 9, 1, 2, 3, 4, 5, 6, 7, 8, 9, 6, 4, 4, 7, 8, 6, 10, 4, 1, 3, 7, 10, 2, 1, 10, 1, 2, 10, 9, 4, 2, 4, 6, 2, 1, 2, 3, 4, 5, 6, 7, 8, 9, 10, 1, 7, 1, 1, 4, 5, 10, 9, 3, 6, 1, 6, 8, 10, 4, 3, 1, 2, 4, 5, 10, 8, 9, 7, 9, 1, 2, 3, 4, 6, 3, 5, 9, 10, 4, 8, 1, 2, 3, 4, 5, 6, 7, 8, 10, 1, 2, 3, 4, 5, 6, 7, 8, 9, 10, 4, 7, 3, 10, 1, 5, 10, 1, 2, 3, 7, 8, 5, 1, 2, 4, 1, 3, 4, 5, 6, 7, 9, 7, 1, 7, 3, 6, 9, 1, 2, 3, 4, 5, 6, 8, 9, 6, 3, 1, 2, 6, 10, 1, 1, 2, 3, 4, 5, 6, 9, 10, 6, 8, 1, 2, 3, 4, 5, 7, 8, 10, 2, 1, 2, 3, 4, 6, 8, 9, 10, 2, 1, 6, 8, 10, 5, 1, 2, 3, 4, 5, 6, 7, 8, 9, 10, 1, 2, 3, 4, 5, 6, 7, 8, 9, 10, 4, 1, 8, 5, 9, 4, 1, 3, 4, 6, 8, 9, 10, 1, 2, 3, 4, 5, 6, 7, 8, 9, 10, 4, 9, 1, 5, 2, 1, 2, 3, 4, 5, 6, 7, 8, 9, 10, 1, 7, 4, 1, 1, 2, 3, 4, 5, 6, 7, 8, 9, 10, 3, 8, 9, 10, 6, 1, 3, 1, 10, 2, 7, 10, 3, 7, 8, 10, 4, 1, 8, 1, 3, 6, 8, 6, 1, 2, 3, 4, 5, 6, 7, 8, 9, 10, 3, 3, 3, 6, 7, 1, 2, 3, 4, 5, 6, 9, 3, 5, 8, 9, 6, 1, 2, 3, 4, 5, 5, 10, 1, 2, 3, 4, 5, 7, 8, 10, 1, 3, 4, 6, 3, 6, 1, 8, 1, 4, 5, 7, 9, 7, 1, 2, 3, 4, 5, 6, 7, 8, 10, 2, 1, 3, 5, 2, 1, 2, 3, 6, 3, 3, 4, 6, 3, 4, 9, 4, 8, 1, 3, 5, 6, 9, 10, 1, 2, 7, 5, 8, 3, 4, 10, 1, 2, 3, 7, 10, 8, 7, 2, 7, 6, 1, 6, 10, 3, 1, 2, 3, 5, 7, 9, 2, 3, 4, 5, 7, 7, 8, 1, 2, 3, 4, 5, 6, 7, 8, 9, 10, 6, 6, 2, 8, 1, 2, 4, 5, 6, 7, 8, 9, 10, 3, 7, 9, 2, 3, 7, 8, 1, 2, 3, 4, 5, 6, 7, 8, 9, 10, 7, 1, 2, 8, 1, 5, 1, 2, 7, 8, 6, 5, 6, 7, 3, 9, 1, 3, 5, 5, 10, 1, 5, 7, 10, 10, 1, 2, 3, 4, 5, 6, 7, 8, 9, 10, 1, 2, 4, 5, 6, 7, 8, 9, 10, 10, 2, 9, 5, 10, 10, 1, 2, 3, 4, 9, 4, 10, 1, 2, 3, 4, 5, 7, 8, 10, 5, 1, 2, 3, 4, 5, 6, 7, 1, 2, 3, 4, 5, 6, 7, 8, 9, 4, 5, 6, 1, 10, 1, 2, 3, 4, 5, 6, 7, 8, 10, 7, 1, 2, 3, 4, 5, 6, 7, 8, 10, 10, 1, 2, 3, 4, 5, 7, 8, 9, 10, 3, 5, 1, 2, 3, 4, 5, 6, 8, 9, 10, 2, 1, 2, 3, 4, 5, 6, 7, 8, 9, 10, 2, 3, 4, 5, 6, 7, 8, 9, 5, 1, 2, 3, 4, 5, 6, 7, 8, 9, 10, 9, 1, 2, 3, 4, 5, 6, 8, 9, 7, 2, 1, 2, 5, 7, 8, 2, 7, 1, 4, 5, 7, 9, 1, 2, 3, 4, 5, 6, 7, 8, 10, 5, 7, 7, 9, 6, 2, 8, 8, 2, 3, 3, 8, 10, 3, 5, 8, 1, 2, 3, 4, 5, 6, 7, 10, 6, 8, 10, 3, 10, 1, 2, 3, 4, 5, 8, 10, 1, 2, 3, 4, 5, 6, 7, 8, 10, 1, 2, 4, 8, 9, 4, 9, 10, 9, 10, 4, 7, 3, 4, 5, 8, 9, 1, 3, 5, 7, 10, 1, 3, 4, 5, 6, 7, 8, 9, 10, 3, 6, 3, 4, 8, 2, 4, 7, 8, 1, 3, 5, 9, 10, 1, 2, 3, 5, 9, 1, 2, 3, 4, 5, 7, 8, 9, 10, 3, 1, 8, 3, 1, 2, 3, 5, 7, 9, 4, 1, 2, 3, 4, 5, 7, 10, 1, 5, 1, 7, 4, 5, 3, 9, 9, 1, 3, 4, 5, 6, 7, 8, 10, 4, 1, 4, 5, 6, 8, 10, 1, 2, 3, 4, 5, 6, 7, 8, 9, 10, 6, 2, 10, 1, 2, 3, 4, 5, 6, 7, 8, 9, 10, 1, 2, 8, 1, 2, 3, 4, 5, 7, 10, 1, 5, 6, 8, 9, 10, 1, 2, 3, 4, 5, 6, 7, 8, 9, 10, 10, 1, 3, 4, 5, 6, 7, 8, 9, 10, 2, 3, 4, 5, 10, 5, 10, 10, 9, 10, 1, 2, 3, 4, 5, 6, 7, 8, 1, 2, 3, 4, 5, 6, 7, 8, 9, 1, 6, 8, 5, 1, 9, 1, 2, 4, 7, 9, 10, 2, 1, 2, 3, 4, 5, 6, 7, 8, 9, 2, 5, 5, 1, 2, 5, 10, 6, 3, 4, 1, 3, 4, 5, 6, 8, 9, 10, 1, 5, 5, 1, 2, 3, 4, 5, 7, 8, 9, 8, 1, 2, 3, 4, 5, 6, 7, 8, 10, 1, 2, 3, 4, 5, 6, 7, 8, 9, 10, 9, 6, 3, 7, 1, 3, 10, 9, 4, 5, 1, 2, 3, 4, 5, 6, 7, 8, 9, 10, 4, 6, 8, 10, 5, 4, 1, 2, 3, 5, 6, 7, 8, 10, 1, 2, 4, 6, 8, 10, 6, 8, 2, 5, 7, 8, 9, 1, 3, 4, 5, 6, 7, 8, 9, 1, 2, 3, 4, 5, 6, 7, 8, 9, 10, 1, 1, 7, 8, 1, 2, 5, 6, 9, 6, 9, 10, 1, 2, 3, 4, 5, 8, 9, 10, 5, 2, 5, 9, 10, 4, 1, 3, 5, 6, 7, 3, 6, 2, 3, 4, 6, 7, 8, 9, 4, 10, 3, 5, 3, 10, 2, 5, 1, 2, 3, 4, 5, 7, 8, 9, 1, 6, 8, 4, 2, 3, 4, 5, 6, 7, 8, 9, 1, 2, 3, 4, 5, 6, 7, 8, 9, 10, 7, 3, 3, 10, 1, 2, 3, 4, 6, 9, 10, 1, 3, 1, 2, 5, 6, 8, 9, 10, 6, 8, 8, 9, 7, 3, 4, 1, 2, 3, 4, 5, 6, 8, 9, 10, 2, 8, 10, 1, 10, 3, 1, 4, 5, 8, 9, 3, 1, 5, 9, 1, 2, 3, 4, 5, 6, 8, 10, 1, 2, 3, 4, 5, 7, 8, 5, 7, 8, 9, 8, 5, 1, 2, 3, 4, 5, 6, 7, 8, 9, 10, 3, 1, 2, 3, 4, 6, 7, 8, 9, 10, 2, 1, 2, 3, 4, 10, 5, 10, 9, 3, 1, 3, 7, 3, 1, 3, 4, 5, 6, 8, 9, 1, 2, 3, 6, 7, 9, 10, 4, 8, 8, 1, 3, 6, 5, 3, 1, 4, 1, 3, 4, 5, 6, 7, 9, 10, 1, 2, 3, 4, 5, 6, 8, 9, 10, 1, 2, 7, 7, 1, 2, 3, 5, 6, 8, 9, 1, 1, 4, 3, 7, 6, 2, 5, 1, 1, 9, 8, 2, 2, 9, 2, 9, 9, 3, 1, 3, 4, 7, 9, 10, 6, 7, 3, 8, 1, 2, 3, 4, 6, 7, 1, 2, 3, 4, 6, 9, 4, 7, 1, 1, 3, 4, 7, 8, 2, 3, 5, 1, 3, 4, 5, 8, 9, 10, 2, 5, 1, 2, 3, 4, 5, 6, 7, 8, 9, 1, 2, 3, 4, 5, 7, 8, 9, 10, 8, 7, 1, 1, 2, 6, 9, 1, 2, 3, 4, 5, 8, 9, 10, 1, 2, 1, 3, 4, 5, 7, 1, 2, 3, 4, 5, 6, 7, 8, 9, 10, 3, 8, 2, 3, 4, 5, 6, 9, 2, 7, 8, 10, 5, 4, 8, 9, 4, 9, 1, 10, 1, 2, 3, 4, 5, 6, 7, 8, 9, 10, 6, 8, 3, 1, 2, 3, 4, 8, 9, 10, 1, 2, 3, 4, 6, 9, 4, 1, 2, 3, 4, 5, 6, 8, 9, 9, 4, 5, 1, 2, 3, 4, 6, 8, 9, 1, 7, 1, 3, 4, 5, 8, 4, 3, 9, 4, 5, 3, 1, 4, 5, 6, 7, 8, 9, 10, 1, 2, 3, 4, 5, 6, 7, 8, 9, 10, 7, 7, 1, 2, 3, 6, 9, 9, 2, 1, 2, 3, 4, 5, 6, 7, 8, 9, 10, 10, 4, 8, 2, 8, 10, 1, 3, 5, 6, 1, 2, 3, 4, 5, 6, 7, 8, 10, 2, 6, 7], \"Freq\": [0.8596277096046407, 0.03466240764534841, 0.03466240764534841, 0.06932481529069683, 0.24085260841996045, 0.10395774978810259, 0.5424330112705947, 0.09469418792579642, 0.008234277210938818, 0.0020585693027347046, 0.0020585693027347046, 0.003087853954102057, 0.0010292846513673523, 0.9869819625947341, 0.9728195353216578, 0.015690637666478352, 0.004457650356329526, 0.0011144125890823816, 0.11218420063429309, 0.0029717669042196846, 0.004457650356329526, 0.8722135863884773, 0.0007429417260549212, 0.0003714708630274606, 0.0014858834521098423, 0.003738375531991875, 0.0149535021279675, 0.041122130851910625, 0.9383322585299606, 0.010859806193665961, 0.043439224774663845, 0.49412118181180126, 0.1085980619366596, 0.3203642827131459, 0.003619935397888654, 0.001809967698944327, 0.001809967698944327, 0.014479741591554615, 0.9716085101142525, 0.9870822589557512, 0.011986473128118267, 0.04794589251247307, 0.9349449039932248, 0.9734535654324323, 0.9665138156098079, 0.979922729138935, 0.03017813899227485, 0.13580162546523683, 0.015089069496137425, 0.8148097527914209, 0.978414101025995, 0.01243304017773669, 0.9697771338634618, 0.005469201005879555, 0.9844561810583199, 0.005469201005879555, 0.9730050976262598, 0.9795339081808552, 0.011147375213768053, 0.011147375213768053, 0.9698216435978206, 0.9775014250532867, 0.053650614204208094, 0.1369291795361132, 0.06085741312716142, 0.434009446248967, 0.1649556197920428, 0.01121057610237184, 0.006406043487069623, 0.01121057610237184, 0.10249669579311396, 0.017616619589441464, 0.9712224816673395, 0.9715900457365447, 0.9925271961741903, 0.9820173437600529, 0.07750658884386609, 0.8913257717044601, 0.009688323605483261, 0.9521242425397458, 0.012514380046351557, 0.9761216436154213, 0.9863059355754292, 0.9501152631205049, 0.0999572977767998, 0.8996156799911983, 0.9848538717013786, 0.9676016334414265, 0.7367650601984508, 0.004538593799990456, 0.2556741173994624, 0.0015128645999968188, 0.0015128645999968188, 0.9821557823050473, 0.9733171357074037, 0.9812102081194096, 0.9785532767732616, 0.012412895031683661, 0.9806187075030092, 0.005373120732937772, 0.9671617319287991, 0.02149248293175109, 0.05329444694985861, 0.6249985142301601, 0.3197666816991517, 0.9505097954063927, 0.019472521418538464, 0.9768714911633463, 0.0037463092407137837, 0.06368725709213433, 0.07867249405498947, 0.16858391583212026, 0.0074926184814275675, 0.0037463092407137837, 0.014985236962855135, 0.6518578078841984, 0.0037463092407137837, 0.036684741489785545, 0.5122020509894586, 0.1148993790057434, 0.021803195413740466, 0.28205721051108695, 0.010728556473427847, 0.011074638940312617, 0.007959896738349693, 0.0013843298675390771, 0.0013843298675390771, 0.9820187574378243, 0.9896508459453628, 0.02000539215460334, 0.970261519498262, 0.8603539237934933, 0.025682206680402785, 0.10700919450167827, 0.7942436515402423, 0.1281038147645552, 0.044836335167594325, 0.019215572214683282, 0.006405190738227761, 0.9839352690311284, 0.9856146975241414, 0.9847057587980673, 0.011653322589326241, 0.016824967876149715, 0.4182206300642929, 0.00048071336788999187, 0.05720489077890903, 0.5042683229166014, 0.00048071336788999187, 0.0024035668394499594, 0.9592455079628891, 0.9706849083270042, 0.9878745214014623, 0.10927992704298573, 0.014570656939064763, 0.8669540878743535, 0.15444352295915256, 0.05444411960430558, 0.0011111044817205219, 0.003333313445161566, 0.008888835853764175, 0.0011111044817205219, 0.009999940335484698, 0.7655509879054396, 0.9685802434171717, 0.9885794903954352, 0.0615151296332448, 0.01757575132378423, 0.2636362698567634, 0.6503027989800164, 0.9693293061118524, 0.6520231333869697, 0.08563885931052737, 0.04087309194366079, 0.08369252159892447, 0.0019463377116028945, 0.0681218199061013, 0.038926754232057895, 0.027248727962440523, 0.9441521415985356, 0.9695750024383645, 0.07655984102228934, 0.1314832052339317, 0.22967952306686804, 0.15311968204457868, 0.09653197346288657, 0.003328688740099537, 0.30790370845920717, 0.003328688740099537, 0.9728808976936523, 0.030391184376419533, 0.011892202582077209, 0.05021152201321488, 0.0026427116849060462, 0.0026427116849060462, 0.8707735001765423, 0.022463049321701394, 0.006606779212265116, 0.9681257719957644, 0.15329952320261214, 0.8268883372746958, 0.004645440097048852, 0.013936320291146557, 0.9785111328482419, 0.28188893996736175, 0.23430622432387654, 0.16525116407593052, 0.0769568830623876, 0.1810548097048137, 0.03607353893549419, 0.002576681352535299, 0.003607353893549419, 0.0042944689208921655, 0.013914079303690615, 0.0032399142832519345, 0.007559799994254514, 0.04643877139327773, 0.014039628560758383, 0.8639771422005159, 0.053998571387532245, 0.001079971427750645, 0.001079971427750645, 0.0032399142832519345, 0.00431988571100258, 0.9809603660525321, 0.965895079061614, 0.9612620248756791, 0.9832003907603765, 0.9696314904879987, 0.9831713768871215, 0.028500705265159545, 0.0023750587720966286, 0.2327557596654696, 0.5605138702148044, 0.0023750587720966286, 0.166254114046764, 0.004750117544193257, 0.14552773394645555, 0.2055019905246644, 0.17003837110035605, 0.05376311419316049, 0.11139984406731888, 0.10178259134208271, 0.04053939169596077, 0.10846123906794117, 0.03339323862929223, 0.0296531959028115, 0.9918952236074283, 0.9755390209462922, 0.9876388085036014, 0.9758701094940181, 0.9791834843961963, 0.1772766116690488, 0.3670374917654954, 0.07490561056438681, 0.1772766116690488, 0.0024968536854795605, 0.06741504950794813, 0.0024968536854795605, 0.012484268427397803, 0.062421342136989015, 0.05742763476602989, 0.9812625143789908, 0.017215131831210366, 0.9827855972041347, 0.9840096946439144, 0.2505371629289239, 0.18884900951893208, 0.1411636884780795, 0.18468600530107987, 0.1597079799939666, 0.029519484453861128, 0.01173210279576532, 0.01173210279576532, 0.00037845492889565545, 0.022328840804843673, 0.9722393700747894, 0.96377099059774, 0.002273031177774836, 0.9955876558653782, 0.9720335901122288, 0.9577458065120684, 0.9778962619685633, 0.9695833804662597, 0.9579000026567535, 0.9945365685367579, 0.9937687083593839, 0.9709397104312597, 0.005364828575347213, 0.990705010247452, 0.0017882761917824043, 0.0017882761917824043, 0.9710591583284414, 0.9954243761383303, 0.9963718271729115, 0.22399950652966824, 0.4168879704857715, 0.3484436768239284, 0.008296278019617343, 0.9539404689982617, 0.01128924495760365, 0.5037825562330629, 0.0225784899152073, 0.020461756485656613, 0.016933867436405476, 0.0014111556197004562, 0.3118653919538008, 0.06209084726682007, 0.04445140202056437, 0.005644622478801825, 0.9886417442648064, 0.9913306393314226, 0.010812823789778056, 0.951528493500469, 0.021625647579556113, 0.10451448972381139, 0.010719434843467834, 0.0026798587108669584, 0.04019788066300438, 0.24386714268889323, 0.47701485053431864, 0.11791378327814618, 0.048184071918607, 0.005353785768734111, 0.0026768928843670554, 0.9422662952972035, 0.9787191607617063, 0.15482041107710354, 0.026693174323638543, 0.09965451747491723, 0.08185906792582487, 0.6352975489025973, 0.9781452277773784, 0.9829703953747064, 0.011673512833786794, 0.9134523792438166, 0.005836756416893397, 0.032102160292913684, 0.0029183782084466984, 0.005836756416893397, 0.0029183782084466984, 0.02042864745912689, 0.008832021669979272, 0.1589763900596269, 0.8213780153080723, 0.9667862715371691, 0.0907276584425097, 0.907276584425097, 0.9853944206916113, 0.9836337613240113, 0.16092179110255198, 0.7092478941186551, 0.038740431191355104, 0.06854076287701288, 0.020860232179960442, 0.99007860221218, 0.1019444900810625, 0.5977654191116847, 0.06023992595699147, 0.15755057557982385, 0.004633840458230114, 0.02780304274938068, 0.004633840458230114, 0.009267680916460228, 0.032436883207610796, 0.9782131021635693, 0.8734471020412862, 0.018783808646049165, 0.09391904323024583, 0.9860738329736344, 0.00654051210919016, 0.01962153632757048, 0.9614552800509535, 0.01308102421838032, 0.979845588751814, 0.016892355133560324, 0.9459718874793782, 0.03378471026712065, 0.9356229988632584, 0.012816753409085732, 0.04485863693180006, 0.9726669502286728, 0.016485880512350386, 0.06279677231231824, 0.3247052617124748, 0.07964468683513533, 0.5222853502073298, 0.010721400150883603, 0.9903612101145021, 0.9613270581727328, 0.01525915965353544, 0.01525915965353544, 0.9773427954543368, 0.9842672404889209, 0.015764951352196445, 0.9537795568078848, 0.023647427028294667, 0.0475397934452064, 0.017827422541952402, 0.0415973192645556, 0.0237698967226032, 0.8676012303750169, 0.9620794683064904, 0.9844171901241133, 0.9981715852348398, 0.9881032206357516, 0.9879060847449047, 0.060435888195607426, 0.7534340728385726, 0.1813076645868223, 0.9943053112336897, 0.16826838058930474, 0.2804473009821746, 0.07011182524554364, 0.004674121683036243, 0.0327188517812537, 0.4393674382054068, 0.07589219653923555, 0.04268936055332, 0.7731517522434621, 0.08063545882293777, 0.023716311418511108, 0.02574106733860302, 0.9652900251976132, 0.045489936522990014, 0.0611761215309176, 0.8501912274296755, 0.006274474003171037, 0.007843092503963795, 0.0015686185007927592, 0.007843092503963795, 0.006274474003171037, 0.006274474003171037, 0.009411711004756554, 0.9948024672168874, 0.9751412499483839, 0.9925663651043513, 0.9761038370432362, 0.430496905040739, 0.06436000241472842, 0.002860444551765708, 0.11298755979474545, 0.07651689175973268, 0.001430222275882854, 0.005720889103531416, 0.2581551207968551, 0.04791244624207561, 0.09102526693242223, 0.018205053386484447, 0.8738425625512535, 0.0022116109205949064, 0.0022116109205949064, 0.990801692426518, 0.9777745536761668, 0.24367140850844063, 0.032551524037387106, 0.0018600870878506919, 0.2492516697719927, 0.15624731537945813, 0.25018171331591804, 0.0018600870878506919, 0.0065103048074774215, 0.055802612635520756, 0.0009300435439253459, 0.9892114539076422, 0.20253612146170913, 0.03038041821925637, 0.7493836494083237, 0.0016620759826926094, 0.995583513632873, 0.7531908560002791, 0.006724918357145349, 0.2387346016786599, 0.0033624591785726744, 0.9726688183551903, 0.9915091798286711, 0.9728927615257752, 0.9902709346564019, 0.0038317580371093865, 0.9924253316113312, 0.014915490495637453, 0.954591391720797, 0.014915490495637453, 0.9859161486067046, 0.961998343173887, 0.01979592499556826, 0.00989796249778413, 0.00989796249778413, 0.9502043997872764, 0.9844598764516478, 0.5174998460011855, 0.016520346241059393, 0.043365908882780906, 0.03923582232251606, 0.08920986970172072, 0.010325216400662121, 0.00041300865602648484, 0.13257577858450165, 0.15074815944966696, 0.00041300865602648484, 0.2094429827086048, 0.16560607935098987, 0.04708408138410496, 0.20457221566886982, 0.3588131719271447, 0.003247178026489997, 0.0016235890132449986, 0.004870767039734996, 0.003247178026489997, 0.9647273809373986, 0.9877383931172086, 0.9712811445355806, 0.03303712787247058, 0.9580767083016468, 0.9743074626834691, 0.019368293753647042, 0.18077074170070573, 0.0064560979178823474, 0.781187848063764, 0.0064560979178823474, 0.9664635638674828, 0.015843664981434143, 0.008785694614659896, 0.05954748572158374, 0.7214031466926292, 0.08004743982245682, 0.09078551101815226, 0.003904753162071065, 0.00780950632414213, 0.024404707262944154, 0.9727879341272622, 0.03222957103199815, 0.8563857445645223, 0.011510561082856483, 0.06906336649713889, 0.009208448866285185, 0.01841689773257037, 0.004604224433142593, 0.48887094092333805, 0.13252525506957957, 0.023560045345703037, 0.011780022672851519, 0.2032053911066887, 0.10896520972387655, 0.017670034009277278, 0.011780022672851519, 0.0029450056682128797, 0.1073092276148462, 0.3799326707444554, 0.5104438935192683, 0.10947573819358282, 0.8758059055486626, 0.0009278359392532559, 0.0023195898481331396, 0.01391753908879884, 0.06773202356548769, 0.0013917539088798838, 0.0013917539088798838, 0.910207056407444, 0.0009278359392532559, 0.00046391796962662796, 0.9623380659960272, 0.0008422261609962423, 0.0029477915634868483, 0.013475618575939877, 0.0677992059601975, 0.0016844523219924847, 0.0016844523219924847, 0.9091831407954436, 0.0008422261609962423, 0.0008422261609962423, 0.9647857985232181, 0.18171288396583804, 0.05619986102036228, 0.17234624046244432, 0.011239972204072456, 0.5114187352852968, 0.007493314802714971, 0.018733287006787426, 0.026226601809502398, 0.013113300904751199, 0.9660904704824866, 0.016374414753940452, 0.036911176577824514, 0.11468829865252617, 0.04613897072228064, 0.4890730896561748, 0.264969517576526, 0.03163815135242101, 0.002636512612701751, 0.01186430675715788, 0.0039547689190526265, 0.9867493364058131, 0.04441350016013467, 0.2281935008227609, 0.18071700065158247, 0.44260350159582484, 0.047476500171178444, 0.027567000099393935, 0.0030630000110437707, 0.015315000055218853, 0.004594500016565656, 0.004594500016565656, 0.0029804753570743716, 0.7739301010536451, 0.0675574414270191, 0.06457696606994472, 0.06954442499840201, 0.01788285214244623, 0.0009934917856914572, 0.0009934917856914572, 0.9913259481170732, 0.18387890831515974, 0.19537134008485724, 0.04268617514459066, 0.3234298655186292, 0.018059535638096046, 0.0016417759670996407, 0.2232815315255511, 0.0032835519341992813, 0.006567103868398563, 0.0032835519341992813, 0.9838304919356751, 0.005881122076509786, 0.03920748051006524, 0.10389982335167289, 0.2999372259019991, 0.44696527781474377, 0.05293009868858808, 0.01960374025503262, 0.029405610382548932, 0.990097023985714, 0.9768062329804247, 0.11046790886407011, 0.2669641130881694, 0.5753536920003651, 0.004602829536002921, 0.03682263628802337, 0.9895329424982166, 0.006262866724672257, 0.012849296083012586, 0.8737521336448559, 0.01927394412451888, 0.05782183237355664, 0.025698592166025172, 0.0915625741933908, 0.016350459677391214, 0.08829248225791256, 0.228906435483477, 0.009810275806434728, 0.5493754451603449, 0.0032700919354782428, 0.0032700919354782428, 0.009810275806434728, 0.9711954742093455, 0.972035980606824, 0.9809307233679456, 0.9757854669097832, 0.9789822087560768, 0.9688460341959761, 0.014460388570089196, 0.9903256908130623, 0.1508220941440768, 0.8389478986764273, 0.9960851460731812, 0.9748729743623411, 0.9873618520531776, 0.9122488726410966, 0.08108878867920857, 0.005528781046309676, 0.7505112289439709, 0.09305530062378076, 0.05664235690143177, 0.05664235690143177, 0.014160589225357942, 0.0040458826358165546, 0.0020229413179082773, 0.020229413179082775, 0.9558079875890125, 0.9920524065188108, 0.9767523201965437, 0.025656950916284792, 0.9493071839025373, 0.766642447935207, 0.17847760692671485, 0.004056309248334429, 0.004056309248334429, 0.02433785549000657, 0.004056309248334429, 0.02028154624167214, 0.012685514080635769, 0.2164465840008478, 0.04836352243242387, 0.3972151596499075, 0.02140680501107286, 0.030920940571549687, 0.20613960381033125, 0.0491563670624636, 0.017442581860874183, 0.004163827166253815, 0.01665530866501526, 0.004163827166253815, 0.00832765433250763, 0.9576802482383774, 0.1805561503251752, 0.8064841381191159, 0.9759766637718015, 0.9846303189996294, 0.9819811235556667, 0.9776697742449034, 0.012697010055128617, 0.011685411179630494, 0.042846507658645144, 0.6777538484185687, 0.0038951370598768317, 0.26097418301174774, 0.8746060057842752, 0.06094815371318991, 0.04875852297055192, 0.00609481537131899, 0.00609481537131899, 0.09797346520808951, 0.07946736622433927, 0.007075861376139797, 0.2607182768593049, 0.5306896032104849, 0.004354376231470645, 0.0010885940578676612, 0.0010885940578676612, 0.01687320789694875, 0.010998287309259428, 0.9843467141787188, 0.00736711928366333, 0.9503583875925695, 0.03683559641831665, 0.9045988880414941, 0.03319628946941263, 0.058093506571472095, 0.968403604494759, 0.011684438342924656, 0.011684438342924656, 0.011684438342924656, 0.9464395057768972, 0.011684438342924656, 0.014216030395126098, 0.9524740364734485, 0.014216030395126098, 0.014216030395126098, 0.9576305850799411, 0.008516829355257298, 0.4147695896010304, 0.2035522215906494, 0.012775244032885946, 0.0076651464197315675, 0.0008516829355257297, 0.0017033658710514593, 0.3491900035655492, 0.0008516829355257297, 0.9775450779360675, 0.0021349393594885697, 0.9948817415216735, 0.9851126053315948, 0.293257131524838, 0.024958053746794724, 0.006239513436698681, 0.6426698839799642, 0.0031197567183493405, 0.028077810465144064, 0.9811062623904914, 0.059080249618298164, 0.876357036004756, 0.00984670826971636, 0.032822360899054534, 0.006564472179810907, 0.0032822360899054533, 0.013128944359621813, 0.04125945262305155, 0.9489674103301856, 0.6901417856607471, 0.3039484548246814, 0.9654989693809395, 0.01419851425560205, 0.025050782275292043, 0.9644551175987437, 0.9921698017427067, 0.0050323799870635975, 0.275522804291732, 0.04151713489327468, 0.02138761494502029, 0.6542093983182677, 0.0012580949967658994, 0.0012580949967658994, 0.0012580949967658994, 0.9738098535002554, 0.020646261218678852, 0.3509864407175404, 0.005161565304669713, 0.010323130609339426, 0.5264796610763107, 0.08258504487471541, 0.017212200489142675, 0.15921285452456974, 0.004303050122285669, 0.008606100244571337, 0.12478845354628439, 0.004303050122285669, 0.004303050122285669, 0.03872745110057101, 0.6067300672422793, 0.03872745110057101, 0.9869437573399102, 0.9834981261605917, 0.9728560125772214, 0.014167143714649543, 0.22667429943439268, 0.014167143714649543, 0.05666857485859817, 0.002833428742929909, 0.002833428742929909, 0.005666857485859818, 0.07650257605910753, 0.028334287429299086, 0.5695191773289117, 0.03812207892131136, 0.9530519730327839, 0.9899000242912491, 0.033834700117989946, 0.15789526721728642, 0.039473816804321604, 0.7161678191641205, 0.005639116686331658, 0.005639116686331658, 0.039473816804321604, 0.031674591773193345, 0.010558197257731116, 0.08446557806184893, 0.010558197257731116, 0.021116394515462232, 0.823539386103027, 0.195473767324628, 0.011169929561407315, 0.2101342998739751, 0.043283477050453344, 0.0006981205975879572, 0.03350978868422194, 0.0006981205975879572, 0.4314385293093575, 0.06283085378291614, 0.010471808963819357, 0.9840662452592971, 0.20695556212435737, 0.13245155975958872, 0.09381985482970867, 0.01655644496994859, 0.1462485972345459, 0.0027594074949914317, 0.019315852464940022, 0.3394071218839461, 0.04415051991986291, 0.001828204128485633, 0.8958200229579601, 0.0822691857818535, 0.003656408256971266, 0.014625633027885065, 0.9962911371330853, 0.990380569826322, 0.992856539334609, 0.9959134408802406, 0.985995253681135, 0.0219406530294581, 0.0031343790042083, 0.4576193346144118, 0.26485502585560133, 0.13321110767885275, 0.11440483365360295, 0.0031343790042083, 0.00156718950210415, 0.14058110500670373, 0.45538665638923687, 0.11895324269798008, 0.1634105152214676, 0.030038697651005072, 0.0444572725234875, 0.013217026966442232, 0.015620122778522637, 0.018023218590603043, 0.21748392010194365, 0.7543973478536171, 0.013592745006371478, 0.9878308398086294, 0.9764650281939421, 0.009764650281939421, 0.981723143084222, 0.009357381357558692, 0.18714762715117383, 0.009357381357558692, 0.7673052713198127, 0.009357381357558692, 0.9853823270340683, 0.00427159834886544, 0.00213579917443272, 0.3289130728626388, 0.006407397523298159, 0.042715983488654394, 0.602295367190027, 0.00213579917443272, 0.010678995872163598, 0.9602387402625159, 0.953042498674576, 0.027624420251436986, 0.9764585525058455, 0.8360384896719373, 0.14616057511747155, 0.005846423004698862, 0.005846423004698862, 0.9771712551711214, 0.01797239445340402, 0.952536906030413, 0.004876638299384429, 0.024383191496922144, 0.273091744765528, 0.11216268088584186, 0.04632806384415207, 0.5071703831359806, 0.02194487234722993, 0.009753276598768857, 0.9768996504349174, 0.985336498582523, 0.955164999841148, 0.07165060324891347, 0.0931457842235875, 0.1576313271476096, 0.6161951879406558, 0.0017912650812228366, 0.00537379524366851, 0.01074759048733702, 0.04119909686812524, 0.9741458618246975, 0.045688688276546305, 0.18101973962732903, 0.010988418699422528, 0.0034700269577123775, 0.17639303701704587, 0.5291791110511376, 0.030651904793126003, 0.004048364783997773, 0.017928472614847285, 0.0584781340752713, 0.08040743435349804, 0.007309766759408912, 0.09502696787231586, 0.30213702605556836, 0.3971639939278842, 0.009746355679211883, 0.02680247811783268, 0.007309766759408912, 0.017056122438620796, 0.9791949923785317, 0.9725847960518967, 0.0188141728505678, 0.9595228153789579, 0.9642476917941585, 0.9596607533419459, 0.9780290082582354, 0.9783011475561604, 0.011636541425953552, 0.9774694797800985, 0.06263820637490462, 0.1655736588509979, 0.22069528046091397, 0.16494727678724885, 0.30108097864204153, 0.02192337223121662, 0.041550010228686735, 0.01712110974247393, 0.0010439701062484104, 0.003340704339994913, 0.9732670609901642, 0.0192092183090164, 0.979844185958046, 0.9722597338369487, 0.9820992270792768, 0.9651775164811193, 0.00528788423298491, 0.13748499005760764, 0.015863652698954726, 0.10046980042671327, 0.10046980042671327, 0.00528788423298491, 0.058166726562834004, 0.5710914971623702, 0.005986635213190862, 0.005986635213190862, 0.011973270426381724, 0.005986635213190862, 0.9638482693237288, 0.005986635213190862, 0.12594749040587905, 0.8701826609860734, 0.9776960753954875, 0.9942566525832746, 0.9978200437060076, 0.9957092185975848, 0.9792402275308021, 0.02998557324761333, 0.0017134613284350475, 0.003426922656870095, 0.0008567306642175237, 0.005997114649522666, 0.004283653321087618, 0.49347686258929363, 0.4592076360205927, 0.08781467989927938, 0.4422096380642283, 0.08781467989927938, 0.05958853278879672, 0.06899724849229094, 0.01881743140698844, 0.015681192839157032, 0.028226147110482658, 0.18503807550205298, 0.0031362385678314064, 0.9892510751851368, 0.9583875740761517, 0.022550295860615334, 0.011275147930307667, 0.012387627021759995, 0.17342677830463993, 0.012387627021759995, 0.7804205023708797, 0.018581440532639992, 0.97641766981198, 0.964617905068492, 0.9607262643823288, 0.03773894969605925, 0.11321684908817777, 0.11793421780018518, 0.6793010945290666, 0.023586843560037034, 0.009434737424014813, 0.004717368712007407, 0.01415210613602222, 0.9942603316211446, 0.9326309004402673, 0.042010400920732764, 0.016804160368293103, 0.9739850725605179, 0.989641106597875, 0.0014917355472800775, 0.013425619925520698, 0.0007458677736400387, 0.0014917355472800775, 0.9830537256575711, 0.005916510093130595, 0.9821406754596788, 0.6046887927717126, 0.007241781949361827, 0.33312196967064406, 0.04345069169617096, 0.0036208909746809135, 0.0036208909746809135, 0.0036208909746809135, 0.9808545167570702, 0.016257257183818846, 0.8527130533901018, 0.14055709671265415, 0.9883088122135542, 0.006959921212771508, 0.05321054661562349, 0.9418266750965357, 0.18471926652955095, 0.21374657984133752, 0.11610925324714631, 0.4433262396709223, 0.023749619982370837, 0.0026388466647078706, 0.007916539994123612, 0.005277693329415741, 0.016355886731454113, 0.9649973171557927, 0.016355886731454113, 0.9705719704266522, 0.011112644582790364, 0.0009260537152325304, 0.024077396596045787, 0.0009260537152325304, 0.34727014321219885, 0.0009260537152325304, 0.6130475594839351, 0.0009260537152325304, 0.05209903916576861, 0.11032737705692175, 0.10419807833153721, 0.10419807833153721, 0.0030646493626922708, 0.4934085473934556, 0.012258597450769083, 0.018387896176153624, 0.009193948088076812, 0.0950041302434604, 0.9878677977553919, 0.9853166785242277, 0.9758839857546201, 0.966063640820864, 0.034828379103236926, 0.006965675820647385, 0.1393135164129477, 0.7522929886299176, 0.04179405492388431, 0.017414189551618463, 0.0034828379103236926, 0.9866256659620328, 0.9867592274939501, 0.675456921510767, 0.036120690989880584, 0.0036120690989880585, 0.18060345494940291, 0.025284483692916408, 0.057793105583808936, 0.021672414593928352, 0.9675424153456943, 0.9821699604752127, 0.01296017310632608, 0.972012982974456, 0.9739228818847904, 0.9866385732234976, 0.9856626068854131, 0.1348107197405835, 0.2228121617934644, 0.020596082182589147, 0.4250282414043397, 0.007489484430032417, 0.1310659775255673, 0.0037447422150162085, 0.04868164879521071, 0.005617113322524313, 0.9751287572846932, 0.00786394159100559, 0.00786394159100559, 0.992526615845598, 0.9807312888583833, 0.9772078950863479, 0.001785322303445599, 0.3409965599581094, 0.001785322303445599, 0.01963854533790159, 0.6355747400266333, 0.9859737533436497, 0.9693007755465576, 0.005239463651603014, 0.010478927303206029, 0.5018866966530946, 0.24779343182035635, 0.1469961036222453, 0.029399220724449057, 0.002099944337460647, 0.0629983301238194, 0.002099944337460647, 0.008399777349842588, 0.00613152653707885, 0.46293025354945316, 0.01839457961123655, 0.4997194127719263, 0.003065763268539425, 0.003065763268539425, 0.009197289805618274, 0.9836458948457357, 0.01713341857522735, 0.03997797667553048, 0.9366268821124284, 0.9904856241895293, 0.9684841277101593, 0.26755705474907404, 0.35016683663012454, 0.1399434364701378, 0.08507574551929083, 0.00801438182428102, 0.09740556371049239, 0.0006164909095600784, 0.0024659636382403137, 0.04685330912656596, 0.0024659636382403137, 0.989860700682615, 0.041021041722196776, 0.405384412313474, 0.009652009816987477, 0.009652009816987477, 0.0024130024542468693, 0.007239007362740607, 0.019304019633974955, 0.0024130024542468693, 0.5067305153918426, 0.9809314317555924, 0.1996484224165366, 0.06654947413884553, 0.07070881627252337, 0.6488573728537439, 0.012478026401033538, 0.9833781368998189, 0.009640962126468812, 0.9572804682054422, 0.9987896489407415, 0.9538189170577793, 0.02778113350653726, 0.00926037783551242, 0.981550969892518, 0.40286645304638224, 0.12862603621360397, 0.2888018548946957, 0.06067265859132263, 0.046111220529405195, 0.06309956493497552, 0.00970762537461162, 0.11080006069151087, 0.2770001517287772, 0.0949714805927236, 0.0712286104445427, 0.007914290049393634, 0.03165716019757454, 0.4036287925190753, 0.9528691781575441, 0.03937475942799769, 0.9968774972870919, 0.007142327180613211, 0.007142327180613211, 0.97849882374401, 0.9929827021071167, 0.9629395057136148, 0.9864790128675551, 0.978890019764131, 0.09656427164324442, 0.3907484480447565, 0.0022456807358894053, 0.047907855698973975, 0.4573703098761422, 0.0007485602452964684, 0.0007485602452964684, 0.0029942409811858734, 0.05231025967700926, 0.015529608341612123, 0.08745621539749986, 0.013077564919252315, 0.6947456363352792, 0.11524604085091102, 0.0024520434223598087, 0.013077564919252315, 0.006538782459626157, 0.2896894527667045, 0.21558284857057078, 0.4917983733016146, 0.985980446013361, 0.07970415815979809, 0.7118405849444036, 0.13742096234447948, 0.04672312719712302, 0.019238934728227127, 0.0027484192468895893, 0.0027484192468895893, 0.984011138365926, 0.028558925374627554, 0.9567240000500231, 0.0029059530913920504, 0.9938359572560812, 0.980147222191766, 0.9818617896098802, 0.9728235135908307, 0.9684193843428874, 0.08891139832615098, 0.9027926599270716, 0.9915747966012368, 0.9829021810503521, 0.9799393169389371, 0.964545683764341, 0.9763068794990242, 0.9845442141425464, 0.9703810175361695, 0.9842966917174076, 0.19307505513020495, 0.09171065118684735, 0.6516283110644417, 0.004826876378255123, 0.004826876378255123, 0.05309564016080636, 0.9754951166085793, 0.9845756305630307, 0.027922796115772953, 0.9661287456057442, 0.9691014340605174, 0.003019007582743045, 0.003019007582743045, 0.010566526539600657, 0.01207603033097218, 0.9736656756172236, 0.002040960713593893, 0.9612924961027235, 0.004081921427187786, 0.02245056784953282, 0.002040960713593893, 0.0061228821407816785, 0.9785621821732143, 0.9957331402426918, 0.9632884647897056, 0.013320391942636216, 0.0026640783885272436, 0.09723886118124439, 0.8858060641853085, 0.0013320391942636218, 0.015618922130962136, 0.9683731721196525, 0.9578351256979237, 0.37067849952292464, 0.009603069935827064, 0.5281688464704886, 0.011523683922992477, 0.0019206139871654128, 0.0749039454994511, 0.0019206139871654128, 0.9772899001912081, 0.9777993145637488, 0.13172804078704867, 0.026944371979169043, 0.5508627160185671, 0.1886106038541833, 0.035925829305558724, 0.007484547771991401, 0.008981457326389681, 0.013472185989584521, 0.03442891975116044, 0.006455392346139939, 0.014524632778814862, 0.02743541747109474, 0.08553394858635419, 0.0032276961730699693, 0.0016138480865349847, 0.844042549257797, 0.016138480865349848, 0.0016138480865349847, 0.9896203787885164, 0.9914234847049446, 0.9804639440164802, 0.8946784568943081, 0.00263140722615973, 0.00263140722615973, 0.09473066014175027, 0.12629169200821178, 0.04592425163934974, 0.02296212581967487, 0.7003448375000836, 0.011481062909837435, 0.040183720184431025, 0.04592425163934974, 0.011481062909837435, 0.01651832358736409, 0.9745810916544813, 0.03528204386099037, 0.14553843092658528, 0.6747690888414408, 0.1323076644787139, 0.008820510965247592, 0.19374623991590773, 0.037100343813684454, 0.046718951469084134, 0.21160936841879283, 0.043970777853255656, 0.10855285782522489, 0.005496347231656957, 0.33115492070733166, 0.008244520847485434, 0.013740868079142392, 0.9793902052450972, 0.9719558830490831, 0.004431397622136712, 0.07090236195418739, 0.013294192866410136, 0.8951423196716158, 0.008862795244273424, 0.004431397622136712, 0.8526526593997455, 0.00870053734081373, 0.04350268670406865, 0.0870053734081373, 0.9835231102362426, 0.06107326919064713, 0.005552115380967921, 0.9327553840026107, 0.9559064112792206, 0.9628613411236401, 0.9759560458161006, 0.9773312076021955, 0.013737203399305667, 0.21292665268923783, 0.0034343008498264166, 0.7280717801632003, 0.01030290254947925, 0.01030290254947925, 0.0034343008498264166, 0.013737203399305667, 0.0034343008498264166, 0.0034343008498264166, 0.9859433529758094, 0.9740886894177663, 0.98965957905529, 0.05963845147949673, 0.1355419351806744, 0.7156614177539607, 0.005421677407226976, 0.054216774072269755, 0.016265032221680926, 0.005421677407226976, 0.024675543393776124, 0.012337771696888062, 0.012337771696888062, 0.9253328772666047, 0.9682953538530512, 0.010879723077000575, 0.9646199615271456, 0.3012999816793848, 0.6321754216831265, 0.018484661452722997, 0.036045089832809844, 0.0036969322905445992, 0.0009242330726361498, 0.0027726992179084495, 0.004621165363180749, 0.9566187693841741, 0.9761557243143048, 0.9971513996639834, 0.029155398209744533, 0.007523973731546976, 0.13731252060073232, 0.007523973731546976, 0.000940496716443372, 0.8144701564399602, 0.0028214901493301163, 0.9706443462852017, 0.983225372584545, 0.0010977718565740146, 0.981408039777169, 0.007684402996018102, 0.0010977718565740146, 0.008782174852592117, 0.9853055569674185, 0.018916243074130725, 0.964728396780667, 0.9441681518021788, 0.03496919080748811, 0.9723646100879838, 0.047103995267555356, 0.4599566596714229, 0.1911868043212541, 0.21889503683158076, 0.002770823251032668, 0.047103995267555356, 0.02770823251032668, 0.005541646502065336, 0.06893488613804188, 0.065105170241484, 0.05361602255181036, 0.03446744306902094, 0.5131819301387563, 0.08042403382771554, 0.0038297158965578827, 0.0038297158965578827, 0.16467778355198895, 0.007659431793115765, 0.9756927476360541, 0.9908333731421929, 0.010205245302081332, 0.0009277495729164847, 0.39522131806242244, 0.5714937369165546, 0.021338240177079148, 0.9915444494083853, 0.968054803245244, 0.40685327208588346, 0.1417129374681167, 0.2628546420779584, 0.050285235875783346, 0.002285692539808334, 0.020571232858275005, 0.002285692539808334, 0.004571385079616668, 0.10514185683118336, 0.002285692539808334, 0.9937631120175706, 0.9740262731628477, 0.9690485861895579, 0.019547381144544292, 0.039094762289088585, 0.9187269137935817, 0.17664051075873005, 0.03636716397973854, 0.005195309139962649, 0.7792963709943973, 0.09933470136976073, 0.10315526680705922, 0.058263622918801966, 0.20248996817681994, 0.093603853213813, 0.002865424077973867, 0.4183519153841846, 0.013371979030544713, 0.008596272233921601, 0.9779874150689918, 0.9373684048378895, 0.057389902337013646], \"Term\": [\"accountable\", \"accountable\", \"accountable\", \"accountable\", \"action\", \"action\", \"action\", \"action\", \"action\", \"action\", \"action\", \"action\", \"action\", \"actively\", \"activism\", \"activism\", \"activist\", \"activist\", \"activist\", \"activist\", \"activist\", \"activist\", \"activist\", \"activist\", \"activist\", \"add\", \"add\", \"add\", \"add\", \"address\", \"address\", \"address\", \"address\", \"address\", \"address\", \"address\", \"address\", \"address\", \"advocacy\", \"advocate\", \"affect\", \"affect\", \"affect\", \"aggressive\", \"agm\", \"ago\", \"ahead\", \"ahead\", \"ahead\", \"ahead\", \"aim\", \"align\", \"align\", \"almost\", \"almost\", \"almost\", \"alternative\", \"amazing\", \"ambitious\", \"ambitious\", \"ambitious\", \"american\", \"amp\", \"amp\", \"amp\", \"amp\", \"amp\", \"amp\", \"amp\", \"amp\", \"amp\", \"amp\", \"announce\", \"announcement\", \"annual\", \"appoint\", \"approach\", \"approach\", \"approach\", \"area\", \"argue\", \"argue\", \"assessment\", \"atmosphere\", \"attack\", \"attack\", \"attempt\", \"attention\", \"back\", \"back\", \"back\", \"back\", \"back\", \"back_better\", \"backlash\", \"bank\", \"base\", \"battle\", \"battle\", \"become\", \"become\", \"become\", \"begin\", \"begin\", \"begin\", \"behavior\", \"bid\", \"bid\", \"biden\", \"biden\", \"biden\", \"biden\", \"biden\", \"biden\", \"biden\", \"biden\", \"biden\", \"big\", \"big\", \"big\", \"big\", \"big\", \"big\", \"big\", \"big\", \"big\", \"big\", \"bipartisan\", \"black\", \"blackrock\", \"blackrock\", \"blame\", \"blame\", \"blame\", \"block\", \"block\", \"block\", \"block\", \"block\", \"bloomberg\", \"bloomberg_businessweek\", \"blow\", \"blow\", \"board\", \"board\", \"board\", \"board\", \"board\", \"board\", \"board\", \"brag\", \"broad\", \"buck\", \"build\", \"build\", \"build\", \"business\", \"business\", \"business\", \"business\", \"business\", \"business\", \"business\", \"business\", \"candidate\", \"capital\", \"capture\", \"capture\", \"capture\", \"capture\", \"car\", \"carbon\", \"carbon\", \"carbon\", \"carbon\", \"carbon\", \"carbon\", \"carbon\", \"carbon\", \"carbon_dioxide\", \"care_job\", \"case\", \"case\", \"case\", \"case\", \"case\", \"case\", \"case\", \"case\", \"catastrophe\", \"catch\", \"catch\", \"catch\", \"catch\", \"catch\", \"catch\", \"catch\", \"catch\", \"ccs\", \"challenge\", \"challenge\", \"challenge\", \"challenge\", \"chang_said\", \"change\", \"change\", \"change\", \"change\", \"change\", \"change\", \"change\", \"change\", \"change\", \"change\", \"chevron\", \"chevron\", \"chevron\", \"chevron\", \"chevron\", \"chevron\", \"chevron\", \"chevron\", \"chevron\", \"chevron\", \"choice\", \"choose\", \"circle\", \"cite\", \"citizen\", \"city\", \"clean\", \"clean\", \"clean\", \"clean\", \"clean\", \"clean\", \"clean\", \"climate\", \"climate\", \"climate\", \"climate\", \"climate\", \"climate\", \"climate\", \"climate\", \"climate\", \"climate\", \"climatechange\", \"climatefriendly\", \"climaterelate\", \"coalition\", \"combine\", \"come\", \"come\", \"come\", \"come\", \"come\", \"come\", \"come\", \"come\", \"come\", \"come\", \"comment\", \"comment\", \"committee\", \"committing_ecocide\", \"company\", \"company\", \"company\", \"company\", \"company\", \"company\", \"company\", \"company\", \"company\", \"company\", \"companys\", \"compensation\", \"concern\", \"concern\", \"condemns_statement\", \"confront\", \"conocophillip\", \"consequence\", \"conservative\", \"consumer\", \"contribute\", \"conversation\", \"corporation\", \"corporation\", \"corporation\", \"corporation\", \"corps\", \"could_slow\", \"coup\", \"court\", \"court\", \"court\", \"court\", \"criminal\", \"crisis\", \"crisis\", \"crisis\", \"crisis\", \"crisis\", \"crisis\", \"crisis\", \"crisis\", \"crisis\", \"crisis\", \"criticize\", \"crucial\", \"customer\", \"customer\", \"customer\", \"cut\", \"cut\", \"cut\", \"cut\", \"cut\", \"cut\", \"cut\", \"damage\", \"damage\", \"damage\", \"damage\", \"dark\", \"day\", \"day\", \"day\", \"day\", \"day\", \"death\", \"debate\", \"decade\", \"decade\", \"decade\", \"decade\", \"decade\", \"decade\", \"decade\", \"decade\", \"decision\", \"decision\", \"decision\", \"deep\", \"defeat\", \"defeat\", \"defend\", \"deliver\", \"demand\", \"demand\", \"demand\", \"demand\", \"demand\", \"demonstrate\", \"denial\", \"denial\", \"denial\", \"denial\", \"denial\", \"denial\", \"denial\", \"denial\", \"denial\", \"denialism\", \"denier\", \"denier\", \"denier\", \"deploy\", \"describe\", \"describe\", \"describe\", \"describe\", \"detail\", \"develop\", \"develop\", \"develop\", \"die\", \"die\", \"die\", \"different\", \"different\", \"director\", \"director\", \"director\", \"director\", \"director\", \"disclose\", \"disclosure\", \"disclosure\", \"disclosure\", \"discussion\", \"div\", \"divest\", \"divest\", \"divest\", \"document\", \"document\", \"document\", \"document\", \"document\", \"dominate\", \"double\", \"downplay\", \"drama\", \"dupe\", \"dutch\", \"dutch\", \"dutch\", \"earning\", \"earth\", \"earth\", \"earth\", \"earth\", \"earth\", \"earth\", \"economy\", \"economy\", \"economy\", \"economy\", \"economy\", \"ecosearch\", \"ecosearch\", \"effort\", \"effort\", \"effort\", \"effort\", \"effort\", \"effort\", \"effort\", \"effort\", \"effort\", \"effort\", \"elect\", \"election\", \"electrification\", \"embrace\", \"emission\", \"emission\", \"emission\", \"emission\", \"emission\", \"emission\", \"emission\", \"emission\", \"emission\", \"employee\", \"employee\", \"employee\", \"end\", \"end\", \"end\", \"end_week\", \"energy\", \"energy\", \"energy\", \"energy\", \"energy\", \"energy\", \"energy\", \"energy\", \"energy\", \"energy\", \"engage\", \"engagement\", \"engagement\", \"engagement\", \"engine\", \"engine\", \"enough\", \"enough\", \"enough\", \"enough\", \"era\", \"essential\", \"estimate\", \"evidence\", \"evil\", \"evil\", \"exactly\", \"exactly\", \"exactly\", \"exclusive\", \"exist\", \"explain\", \"explain\", \"explain\", \"explain\", \"exploration\", \"exxon\", \"exxon\", \"exxon\", \"exxon\", \"exxon\", \"exxon\", \"exxon\", \"exxon\", \"exxon\", \"exxon\", \"face\", \"face\", \"face\", \"face\", \"face\", \"face\", \"face\", \"face\", \"face\", \"facility\", \"fall\", \"fascinating\", \"fast\", \"fast\", \"fault\", \"feel\", \"feel\", \"feel\", \"feel\", \"feel\", \"field\", \"field\", \"fight\", \"fight\", \"fight\", \"fight\", \"fight\", \"fight\", \"fight\", \"fight\", \"film\", \"find\", \"find\", \"find\", \"find\", \"find\", \"find\", \"find\", \"first\", \"first\", \"first\", \"first\", \"first\", \"first\", \"first\", \"first\", \"first\", \"force\", \"force\", \"force\", \"forward\", \"forward\", \"fossil\", \"fossil\", \"fossil\", \"fossil\", \"fossil\", \"fossil\", \"fossil\", \"fossil\", \"fossil\", \"french\", \"fuel\", \"fuel\", \"fuel\", \"fuel\", \"fuel\", \"fuel\", \"fuel\", \"fuel\", \"fuel\", \"fundamental\", \"future\", \"future\", \"future\", \"future\", \"future\", \"future\", \"future\", \"future\", \"future\", \"game\", \"game\", \"gas\", \"gas\", \"gas\", \"gas\", \"gas\", \"gas\", \"gas\", \"gas\", \"gas\", \"gasoline\", \"get\", \"get\", \"get\", \"get\", \"get\", \"get\", \"get\", \"get\", \"get\", \"get\", \"giant\", \"giant\", \"giant\", \"giant\", \"giant\", \"giant\", \"giant\", \"giant\", \"giants_toward\", \"go\", \"go\", \"go\", \"go\", \"go\", \"go\", \"go\", \"go\", \"go\", \"go\", \"going\", \"good\", \"good\", \"good\", \"good\", \"good\", \"good\", \"good\", \"good\", \"government_give\", \"gravity\", \"green\", \"green\", \"green\", \"green\", \"green\", \"greenpeace\", \"greenpeace\", \"ground\", \"ground\", \"ground\", \"ground\", \"ground\", \"group\", \"group\", \"group\", \"group\", \"group\", \"group\", \"group\", \"group\", \"group\", \"growth\", \"gt\", \"guess\", \"guide\", \"guyanese_citizen\", \"half\", \"half\", \"harvard_researcher\", \"heat\", \"heat\", \"hedge_fund\", \"held_accountable\", \"here\", \"historic\", \"historic\", \"historic\", \"hold\", \"hold\", \"hold\", \"hold\", \"hold\", \"hold\", \"hold\", \"hold\", \"hour\", \"hurt\", \"hydrocarbon\", \"ice\", \"ice\", \"increase\", \"increase\", \"increase\", \"increase\", \"increase\", \"increase\", \"increase\", \"industry\", \"industry\", \"industry\", \"industry\", \"industry\", \"industry\", \"industry\", \"industry\", \"industry\", \"infrastructure\", \"infrastructure\", \"infrastructure\", \"infrastructure\", \"infrastructure\", \"initiative\", \"initiative\", \"insider\", \"install\", \"international\", \"interview\", \"interview\", \"invest\", \"invest\", \"invest\", \"invest\", \"invest\", \"investment\", \"investment\", \"investment\", \"investment\", \"investment\", \"investor\", \"investor\", \"investor\", \"investor\", \"investor\", \"investor\", \"investor\", \"investor\", \"investor\", \"investor_oust\", \"investor_oust\", \"job\", \"job\", \"job\", \"judge\", \"judge\", \"judge\", \"justice_urge\", \"key\", \"key\", \"key\", \"key\", \"key\", \"kill\", \"kill\", \"kill\", \"kill\", \"kind\", \"know\", \"know\", \"know\", \"know\", \"know\", \"know\", \"know\", \"know\", \"know\", \"knowingly\", \"landmark\", \"landmark\", \"language\", \"large\", \"large\", \"large\", \"large\", \"large\", \"large\", \"last_week\", \"late\", \"late\", \"late\", \"late\", \"late\", \"late\", \"late\", \"launch\", \"launch\", \"lawsuit\", \"lawsuit\", \"leadership\", \"leadership\", \"leak\", \"leak\", \"leaked_document\", \"least\", \"least\", \"least\", \"least\", \"least\", \"least\", \"least\", \"least\", \"lee_raymond\", \"legislation\", \"legislation\", \"legislation\", \"legislation\", \"legislation\", \"legislation\", \"let\", \"let\", \"let\", \"let\", \"let\", \"let\", \"let\", \"let\", \"let\", \"let\", \"level\", \"liability\", \"liable\", \"lie\", \"lie\", \"lie\", \"lie\", \"lie\", \"lie\", \"lie\", \"lie\", \"lie\", \"lie\", \"likely\", \"likely\", \"litigation\", \"lobby\", \"lobby\", \"lobby\", \"lobby\", \"lobby\", \"lobby\", \"lobby\", \"lobbying\", \"lobbying\", \"lobbying\", \"lobbying\", \"lobbying\", \"lobbying\", \"lobbyist\", \"lobbyist\", \"lobbyist\", \"lobbyist\", \"lobbyist\", \"lobbyist\", \"lobbyist\", \"lobbyist\", \"lobbyist\", \"lobbyist\", \"longterm\", \"look\", \"look\", \"look\", \"look\", \"look\", \"look\", \"look\", \"look\", \"look\", \"lose\", \"lose\", \"lose\", \"lose\", \"lose\", \"loss\", \"lowcarbon\", \"lower\", \"lucrative\", \"mainstream\", \"major\", \"major\", \"major\", \"major\", \"major\", \"major\", \"major\", \"major\", \"make\", \"make\", \"make\", \"make\", \"make\", \"make\", \"make\", \"make\", \"make\", \"management\", \"management\", \"management\", \"manager\", \"massive\", \"massive\", \"matter\", \"measure\", \"measure\", \"measure\", \"measure\", \"measure\", \"meat\", \"member\", \"member\", \"member\", \"member\", \"member\", \"member\", \"member\", \"member\", \"mess\", \"methane\", \"methane\", \"misrepresent\", \"mobil\", \"mobil\", \"mobil\", \"mobil\", \"moment\", \"morning\", \"morning\", \"move\", \"move\", \"move\", \"move\", \"move\", \"move\", \"move\", \"move\", \"naming_senator\", \"national\", \"natural\", \"need\", \"need\", \"need\", \"need\", \"need\", \"need\", \"need\", \"need\", \"negative\", \"new\", \"new\", \"new\", \"new\", \"new\", \"new\", \"new\", \"new\", \"new\", \"news\", \"news\", \"news\", \"news\", \"news\", \"news\", \"news\", \"news\", \"news\", \"news\", \"nice\", \"nominate\", \"notch\", \"notch\", \"notice\", \"number\", \"offer\", \"office\", \"offshore_drille\", \"offshore_drille\", \"oil\", \"oil\", \"oil\", \"oil\", \"oil\", \"oil\", \"oil\", \"oil\", \"oil\", \"oil\", \"old\", \"old\", \"organization\", \"pace\", \"pandemic\", \"paper\", \"part\", \"part\", \"part\", \"part\", \"part\", \"part\", \"part\", \"part\", \"pass\", \"pass\", \"pass\", \"pass\", \"pass\", \"pass\", \"past\", \"past\", \"pause\", \"pension_fund\", \"petition\", \"petroleum\", \"pick\", \"plan\", \"plan\", \"plan\", \"plan\", \"plan\", \"plan\", \"plan\", \"plan\", \"planet\", \"planet\", \"planet\", \"planet\", \"planet\", \"planet\", \"planet\", \"planet\", \"planet\", \"planet\", \"plastic\", \"playbook\", \"playbook\", \"playbook\", \"pledge\", \"pledge\", \"pledge\", \"pledge\", \"pledge\", \"ploy_ceo\", \"politic\", \"pollute\", \"power\", \"power\", \"power\", \"power\", \"power\", \"power\", \"power\", \"power\", \"power_shift\", \"powerful_signal\", \"powerful_signal\", \"powerful_signal\", \"practice\", \"present\", \"pressure\", \"pressure\", \"pressure\", \"pressure\", \"pressure\", \"proclimate_campaign\", \"proclimate_campaign\", \"product\", \"product\", \"product\", \"product\", \"product\", \"product\", \"product\", \"project\", \"project\", \"proposal\", \"proposal\", \"protect\", \"protect\", \"proxy\", \"proxy\", \"public\", \"public\", \"public\", \"public\", \"public\", \"public\", \"public\", \"public\", \"pull\", \"pull\", \"pull\", \"pursue\", \"push\", \"push\", \"push\", \"push\", \"push\", \"push\", \"push\", \"push\", \"put\", \"put\", \"put\", \"put\", \"put\", \"put\", \"put\", \"put\", \"put\", \"put\", \"quickly\", \"quit\", \"race\", \"rate\", \"read\", \"read\", \"read\", \"read\", \"read\", \"read\", \"read\", \"rebellion\", \"reckon\", \"reduce\", \"reduce\", \"reduce\", \"reduce\", \"reduce\", \"reduce\", \"reduce\", \"referendum\", \"refuse\", \"reject\", \"reject\", \"related\", \"release\", \"remove\", \"report\", \"report\", \"report\", \"report\", \"report\", \"report\", \"report\", \"report\", \"report\", \"responsibility\", \"responsibility\", \"responsibility\", \"result\", \"return\", \"reuter\", \"reveal\", \"reveal\", \"reveal\", \"reveal\", \"reveal\", \"revolt\", \"rise\", \"rise\", \"rise\", \"risk\", \"risk\", \"risk\", \"risk\", \"risk\", \"risk\", \"risk\", \"risk\", \"role\", \"role\", \"role\", \"role\", \"role\", \"role\", \"role\", \"royal_dutch\", \"rule\", \"rule\", \"rule\", \"sabotage\", \"samp\", \"say\", \"say\", \"say\", \"say\", \"say\", \"say\", \"say\", \"say\", \"say\", \"say\", \"say_youre\", \"science\", \"science\", \"science\", \"science\", \"science\", \"science\", \"science\", \"science\", \"science\", \"scientific\", \"scientist\", \"scientist\", \"scientist\", \"scientist\", \"scientist\", \"score\", \"score\", \"scramble\", \"seat\", \"secret\", \"secret\", \"secret\", \"secretly_recorde\", \"see\", \"see\", \"see\", \"see\", \"see\", \"see\", \"see\", \"sell\", \"sell\", \"sell\", \"sell\", \"sell\", \"sell\", \"sell\", \"senator\", \"senator\", \"send\", \"set\", \"set\", \"set\", \"setback\", \"shadow_group\", \"shake\", \"shape\", \"shareholder\", \"shareholder\", \"shareholder\", \"shareholder\", \"shareholder\", \"shareholder\", \"shareholder\", \"shareholder\", \"shell\", \"shell\", \"shell\", \"shell\", \"shell\", \"shell\", \"shell\", \"shell\", \"shell\", \"shift\", \"shift\", \"shift\", \"shock\", \"show\", \"show\", \"show\", \"show\", \"show\", \"show\", \"show\", \"shows_yearly\", \"side\", \"side\", \"sign\", \"sign\", \"signal\", \"sit\", \"slash\", \"society\", \"solar\", \"solar\", \"speed\", \"spending\", \"spent_million\", \"spill\", \"spotlight\", \"stake\", \"stakeholder\", \"stance\", \"state\", \"state\", \"state\", \"state\", \"state\", \"state\", \"steer\", \"stick\", \"sting\", \"sting\", \"strategy\", \"strategy\", \"strategy\", \"strategy\", \"strategy\", \"stress\", \"study\", \"study\", \"study\", \"study\", \"study\", \"study\", \"subpoena\", \"subsidy\", \"succeed\", \"sue\", \"sue\", \"sue\", \"sue\", \"sue\", \"suffer\", \"suffer\", \"summary\", \"support\", \"support\", \"support\", \"support\", \"support\", \"support\", \"support\", \"supreme_court\", \"surprise\", \"take\", \"take\", \"take\", \"take\", \"take\", \"take\", \"take\", \"take\", \"take\", \"talk\", \"talk\", \"talk\", \"talk\", \"talk\", \"talk\", \"talk\", \"talk\", \"talk\", \"tank\", \"taxpayerfunded_subsidie\", \"tech\", \"technology\", \"technology\", \"technology\", \"technology\", \"tell\", \"tell\", \"tell\", \"tell\", \"tell\", \"tell\", \"tell\", \"tell\", \"term\", \"term\", \"thank\", \"thank\", \"thank\", \"thank\", \"thank\", \"time\", \"time\", \"time\", \"time\", \"time\", \"time\", \"time\", \"time\", \"time\", \"time\", \"tiny\", \"tip\", \"tipping_point\", \"tipping_point\", \"tipping_point\", \"tipping_point\", \"tipping_point\", \"tipping_point\", \"tobacco\", \"tobacco\", \"tobacco\", \"tobacco\", \"toll\", \"total\", \"total\", \"total\", \"travel\", \"trick\", \"tricks_top\", \"trouble\", \"try\", \"try\", \"try\", \"try\", \"try\", \"try\", \"try\", \"try\", \"try\", \"try\", \"unable\", \"uncertainty\", \"undercut\", \"undermine\", \"undermine\", \"undermine\", \"undermine\", \"undermine\", \"undermine\", \"undermine\", \"update\", \"update\", \"update\", \"update\", \"urge\", \"urge\", \"urgent\", \"use\", \"use\", \"use\", \"use\", \"use\", \"use\", \"use\", \"use\", \"usual\", \"vehicle\", \"victory\", \"video\", \"video\", \"video\", \"video\", \"video\", \"video\", \"video\", \"view\", \"violation\", \"vote\", \"vote\", \"vote\", \"vote\", \"vote\", \"voting\", \"wall_street\", \"wall_street\", \"war\", \"war\", \"watershed_moment\", \"week\", \"week\", \"week\", \"week\", \"week\", \"week\", \"week\", \"week\", \"well\", \"well\", \"well\", \"well\", \"well\", \"well\", \"well\", \"well\", \"well\", \"well\", \"western\", \"willing\", \"win\", \"win\", \"win\", \"win\", \"win\", \"wind\", \"wonder\", \"work\", \"work\", \"work\", \"work\", \"work\", \"work\", \"work\", \"work\", \"work\", \"work\", \"worlds_bigg\", \"worlds_biggest\", \"worried\", \"worth\", \"worth\", \"worth\", \"xom\", \"xom\", \"xom\", \"xom\", \"year\", \"year\", \"year\", \"year\", \"year\", \"year\", \"year\", \"year\", \"year\", \"years_ago\", \"york_time\", \"york_time\"]}, \"R\": 30, \"lambda.step\": 0.01, \"plot.opts\": {\"xlab\": \"PC1\", \"ylab\": \"PC2\"}, \"topic.order\": [4, 9, 10, 2, 6, 7, 5, 8, 1, 3]};\n",
       "\n",
       "function LDAvis_load_lib(url, callback){\n",
       "  var s = document.createElement('script');\n",
       "  s.src = url;\n",
       "  s.async = true;\n",
       "  s.onreadystatechange = s.onload = callback;\n",
       "  s.onerror = function(){console.warn(\"failed to load library \" + url);};\n",
       "  document.getElementsByTagName(\"head\")[0].appendChild(s);\n",
       "}\n",
       "\n",
       "if(typeof(LDAvis) !== \"undefined\"){\n",
       "   // already loaded: just create the visualization\n",
       "   !function(LDAvis){\n",
       "       new LDAvis(\"#\" + \"ldavis_el30591405806245550249066573876\", ldavis_el30591405806245550249066573876_data);\n",
       "   }(LDAvis);\n",
       "}else if(typeof define === \"function\" && define.amd){\n",
       "   // require.js is available: use it to load d3/LDAvis\n",
       "   require.config({paths: {d3: \"https://d3js.org/d3.v5\"}});\n",
       "   require([\"d3\"], function(d3){\n",
       "      window.d3 = d3;\n",
       "      LDAvis_load_lib(\"https://cdn.jsdelivr.net/gh/bmabey/pyLDAvis@3.3.1/pyLDAvis/js/ldavis.v3.0.0.js\", function(){\n",
       "        new LDAvis(\"#\" + \"ldavis_el30591405806245550249066573876\", ldavis_el30591405806245550249066573876_data);\n",
       "      });\n",
       "    });\n",
       "}else{\n",
       "    // require.js not available: dynamically load d3 & LDAvis\n",
       "    LDAvis_load_lib(\"https://d3js.org/d3.v5.js\", function(){\n",
       "         LDAvis_load_lib(\"https://cdn.jsdelivr.net/gh/bmabey/pyLDAvis@3.3.1/pyLDAvis/js/ldavis.v3.0.0.js\", function(){\n",
       "                 new LDAvis(\"#\" + \"ldavis_el30591405806245550249066573876\", ldavis_el30591405806245550249066573876_data);\n",
       "            })\n",
       "         });\n",
       "}\n",
       "</script>"
      ],
      "text/plain": [
       "PreparedData(topic_coordinates=              x         y  topics  cluster       Freq\n",
       "topic                                                \n",
       "3      0.095682 -0.040436       1        1  14.365435\n",
       "8      0.063988  0.046793       2        1  14.299710\n",
       "9      0.144030  0.032834       3        1  13.876081\n",
       "1      0.049624  0.073239       4        1  12.975538\n",
       "5      0.133879  0.047712       5        1  10.494232\n",
       "6      0.159854  0.006644       6        1   9.880708\n",
       "4     -0.269552  0.242918       7        1   7.523811\n",
       "7     -0.140357 -0.127579       8        1   7.022122\n",
       "0     -0.114664 -0.245799       9        1   5.616304\n",
       "2     -0.122484 -0.036327      10        1   3.946059, topic_info=          Term         Freq         Total Category  logprob  loglift\n",
       "56        fuel  2374.000000   2374.000000  Default  30.0000  30.0000\n",
       "174   activist  2692.000000   2692.000000  Default  29.0000  29.0000\n",
       "55      fossil  2155.000000   2155.000000  Default  28.0000  28.0000\n",
       "59    pressure  1340.000000   1340.000000  Default  27.0000  27.0000\n",
       "1033     board  2080.000000   2080.000000  Default  26.0000  26.0000\n",
       "...        ...          ...           ...      ...      ...      ...\n",
       "3      climate   444.043691  14973.090977  Topic10  -2.9674  -0.2856\n",
       "30      change    81.293658   5821.441594  Topic10  -4.6652  -1.0388\n",
       "20    emission    66.923359   1398.384037  Topic10  -4.8598   0.1929\n",
       "795       sell    51.281826    126.353721  Topic10  -5.1260   2.3307\n",
       "67     company    58.689007   2642.322569  Topic10  -4.9911  -0.5747\n",
       "\n",
       "[606 rows x 6 columns], token_table=      Topic      Freq         Term\n",
       "term                              \n",
       "1733      1  0.859628  accountable\n",
       "1733      2  0.034662  accountable\n",
       "1733      3  0.034662  accountable\n",
       "1733     10  0.069325  accountable\n",
       "64        1  0.240853       action\n",
       "...     ...       ...          ...\n",
       "63        8  0.013372         year\n",
       "63       10  0.008596         year\n",
       "1488      2  0.977987    years_ago\n",
       "2197      6  0.937368    york_time\n",
       "2197      7  0.057390    york_time\n",
       "\n",
       "[1506 rows x 3 columns], R=30, lambda_step=0.01, plot_opts={'xlab': 'PC1', 'ylab': 'PC2'}, topic_order=[4, 9, 10, 2, 6, 7, 5, 8, 1, 3])"
      ]
     },
     "execution_count": 45,
     "metadata": {},
     "output_type": "execute_result"
    }
   ],
   "source": [
    "# Visualize the optimal topics\n",
    "pyLDAvis.enable_notebook()\n",
    "vis = pyLDAvis.gensim_models.prepare(optimal_model, corpus, id2word)\n",
    "vis"
   ]
  },
  {
   "cell_type": "code",
   "execution_count": 46,
   "id": "e90dd92a-f852-45a9-a4b5-8f19c9dc15e3",
   "metadata": {},
   "outputs": [
    {
     "data": {
      "text/plain": [
       "21029"
      ]
     },
     "execution_count": 46,
     "metadata": {},
     "output_type": "execute_result"
    }
   ],
   "source": [
    "len(nctext)"
   ]
  },
  {
   "cell_type": "code",
   "execution_count": 47,
   "id": "750c6e2a-7298-4329-99e3-d7ab061e7426",
   "metadata": {},
   "outputs": [
    {
     "data": {
      "text/plain": [
       "21029"
      ]
     },
     "execution_count": 47,
     "metadata": {},
     "output_type": "execute_result"
    }
   ],
   "source": [
    "len(authorid)"
   ]
  },
  {
   "cell_type": "code",
   "execution_count": 48,
   "id": "b32f3f32-a971-4192-885c-0e7913d57a04",
   "metadata": {},
   "outputs": [],
   "source": [
    "len(lst_author_id)\n",
    "\n",
    "\n",
    "nctext = tweets['text'].tolist()\n",
    "tweetid = tweets['id'].tolist()\n",
    "authorid = tweets['author_id'].tolist()"
   ]
  },
  {
   "cell_type": "markdown",
   "id": "45a55ce8-e7e1-49a3-b75a-d0274de33505",
   "metadata": {
    "tags": []
   },
   "source": [
    "### Finding the dominant topic in each sentence"
   ]
  },
  {
   "cell_type": "code",
   "execution_count": 49,
   "id": "3d78407f-fd9f-4051-afaf-9ae1e492d546",
   "metadata": {},
   "outputs": [
    {
     "data": {
      "text/html": [
       "<div>\n",
       "<style scoped>\n",
       "    .dataframe tbody tr th:only-of-type {\n",
       "        vertical-align: middle;\n",
       "    }\n",
       "\n",
       "    .dataframe tbody tr th {\n",
       "        vertical-align: top;\n",
       "    }\n",
       "\n",
       "    .dataframe thead th {\n",
       "        text-align: right;\n",
       "    }\n",
       "</style>\n",
       "<table border=\"1\" class=\"dataframe\">\n",
       "  <thead>\n",
       "    <tr style=\"text-align: right;\">\n",
       "      <th></th>\n",
       "      <th>Document_No</th>\n",
       "      <th>Dominant_Topic</th>\n",
       "      <th>Topic_Perc_Contrib</th>\n",
       "      <th>Keywords</th>\n",
       "      <th>Text</th>\n",
       "      <th>TweetId</th>\n",
       "      <th>AuthorId</th>\n",
       "      <th>AuthorName</th>\n",
       "      <th>AuthorUsername</th>\n",
       "    </tr>\n",
       "  </thead>\n",
       "  <tbody>\n",
       "    <tr>\n",
       "      <th>0</th>\n",
       "      <td>0</td>\n",
       "      <td>8.0</td>\n",
       "      <td>0.9526</td>\n",
       "      <td>climate, big, change, oil, crisis, use, downpl...</td>\n",
       "      <td>'We are in a climate emergency'December wildfi...</td>\n",
       "      <td>1477024401254092800</td>\n",
       "      <td>1009831809855688707</td>\n",
       "      <td>Vammek Opinion</td>\n",
       "      <td>Vammek</td>\n",
       "    </tr>\n",
       "    <tr>\n",
       "      <th>1</th>\n",
       "      <td>1</td>\n",
       "      <td>0.0</td>\n",
       "      <td>0.9182</td>\n",
       "      <td>business, plan, climate, know, exxon, emission...</td>\n",
       "      <td>#Oil business knows about the damage that It d...</td>\n",
       "      <td>1476991564803104776</td>\n",
       "      <td>590788952</td>\n",
       "      <td>Robert Pujol i Vives</td>\n",
       "      <td>rpujolvives</td>\n",
       "    </tr>\n",
       "    <tr>\n",
       "      <th>2</th>\n",
       "      <td>2</td>\n",
       "      <td>0.0</td>\n",
       "      <td>0.2807</td>\n",
       "      <td>business, plan, climate, know, exxon, emission...</td>\n",
       "      <td>@amywestervelt Your opinion piece concerning c...</td>\n",
       "      <td>1476962302159060992</td>\n",
       "      <td>1476958634705780736</td>\n",
       "      <td>Megan Robbins</td>\n",
       "      <td>MeganRo50852817</td>\n",
       "    </tr>\n",
       "    <tr>\n",
       "      <th>3</th>\n",
       "      <td>3</td>\n",
       "      <td>4.0</td>\n",
       "      <td>0.9471</td>\n",
       "      <td>fuel, fossil, pressure, sue, climate, corporat...</td>\n",
       "      <td>Each year, the government gives over $15 billi...</td>\n",
       "      <td>1476954565450903553</td>\n",
       "      <td>47878087</td>\n",
       "      <td>Jennifer Hall</td>\n",
       "      <td>JDHall_35402</td>\n",
       "    </tr>\n",
       "    <tr>\n",
       "      <th>4</th>\n",
       "      <td>4</td>\n",
       "      <td>4.0</td>\n",
       "      <td>0.9471</td>\n",
       "      <td>fuel, fossil, pressure, sue, climate, corporat...</td>\n",
       "      <td>Each year, the government gives over $15 billi...</td>\n",
       "      <td>1476922966893948928</td>\n",
       "      <td>1450838788037496836</td>\n",
       "      <td>Dennis Landi</td>\n",
       "      <td>DennisLandi2</td>\n",
       "    </tr>\n",
       "  </tbody>\n",
       "</table>\n",
       "</div>"
      ],
      "text/plain": [
       "   Document_No  Dominant_Topic  Topic_Perc_Contrib  \\\n",
       "0            0             8.0              0.9526   \n",
       "1            1             0.0              0.9182   \n",
       "2            2             0.0              0.2807   \n",
       "3            3             4.0              0.9471   \n",
       "4            4             4.0              0.9471   \n",
       "\n",
       "                                            Keywords  \\\n",
       "0  climate, big, change, oil, crisis, use, downpl...   \n",
       "1  business, plan, climate, know, exxon, emission...   \n",
       "2  business, plan, climate, know, exxon, emission...   \n",
       "3  fuel, fossil, pressure, sue, climate, corporat...   \n",
       "4  fuel, fossil, pressure, sue, climate, corporat...   \n",
       "\n",
       "                                                Text              TweetId  \\\n",
       "0  'We are in a climate emergency'December wildfi...  1477024401254092800   \n",
       "1  #Oil business knows about the damage that It d...  1476991564803104776   \n",
       "2  @amywestervelt Your opinion piece concerning c...  1476962302159060992   \n",
       "3  Each year, the government gives over $15 billi...  1476954565450903553   \n",
       "4  Each year, the government gives over $15 billi...  1476922966893948928   \n",
       "\n",
       "              AuthorId            AuthorName   AuthorUsername  \n",
       "0  1009831809855688707        Vammek Opinion           Vammek  \n",
       "1            590788952  Robert Pujol i Vives      rpujolvives  \n",
       "2  1476958634705780736         Megan Robbins  MeganRo50852817  \n",
       "3             47878087         Jennifer Hall     JDHall_35402  \n",
       "4  1450838788037496836          Dennis Landi     DennisLandi2  "
      ]
     },
     "execution_count": 49,
     "metadata": {},
     "output_type": "execute_result"
    }
   ],
   "source": [
    "def format_topics_sentences(ldamodel=lda_model,\n",
    "                            corpus=corpus,\n",
    "                            texts=nctext,\n",
    "                            tweet_id=tweetid,\n",
    "                            author_id=authorid,\n",
    "                            author_name=authorname,\n",
    "                            author_username=authorusername):\n",
    "    # Init output\n",
    "    sent_topics_df = pd.DataFrame()\n",
    "\n",
    "    # Get main topic in each document\n",
    "    for i, row in enumerate(ldamodel[corpus]):\n",
    "        row = sorted(row, key=lambda x: (x[1]), reverse=True)\n",
    "        # Get the Dominant topic, Perc Contribution and Keywords for each document\n",
    "        for j, (topic_num, prop_topic) in enumerate(row):\n",
    "            if j == 0:  # => dominant topic\n",
    "                wp = ldamodel.show_topic(topic_num)\n",
    "                topic_keywords = \", \".join([word for word, prop in wp])\n",
    "                sent_topics_df = sent_topics_df.append(pd.Series([int(topic_num), round(prop_topic,4), topic_keywords]), ignore_index=True)\n",
    "            else:\n",
    "                break\n",
    "    sent_topics_df.columns = ['Dominant_Topic', 'Perc_Contribution', 'Topic_Keywords']\n",
    "\n",
    "    # Add original text to the end of the output\n",
    "    contents = pd.Series(texts)\n",
    "    TweetId = pd.Series(tweet_id)\n",
    "    AuthorId = pd.Series(author_id)\n",
    "    AuthorName = pd.Series(author_name)\n",
    "    AuthorUseranme = pd.Series(author_username)\n",
    "    \n",
    "    sent_topics_df = pd.concat([sent_topics_df, contents, TweetId, AuthorId, AuthorName, AuthorUseranme], axis=1)\n",
    "    #sent_topics_df = pd.concat([sent_topics_df, TweetId], axis=1)\n",
    "    #sent_topics_df = pd.concat([sent_topics_df, AuthorId], axis=1)\n",
    "    return(sent_topics_df)\n",
    "\n",
    "\n",
    "df_topic_sents_keywords = format_topics_sentences(ldamodel=optimal_model,\n",
    "                                                  corpus=corpus,\n",
    "                                                  texts=nctext,\n",
    "                                                  tweet_id=tweetid,\n",
    "                                                  author_id=authorid,\n",
    "                                                  author_name=authorname,\n",
    "                                                  author_username=authorusername)\n",
    "\n",
    "# Format\n",
    "df_dominant_topic = df_topic_sents_keywords.reset_index()\n",
    "df_dominant_topic.columns = ['Document_No', 'Dominant_Topic', 'Topic_Perc_Contrib', \n",
    "                             'Keywords', 'Text', 'TweetId', 'AuthorId', 'AuthorName','AuthorUsername']\n",
    "\n",
    "# Show\n",
    "df_dominant_topic.head()"
   ]
  },
  {
   "cell_type": "code",
   "execution_count": 50,
   "id": "14f023ac-d51e-4dfd-8026-f1a708762dfa",
   "metadata": {},
   "outputs": [
    {
     "name": "stderr",
     "output_type": "stream",
     "text": [
      "<>:1: DeprecationWarning: invalid escape sequence \\(\n",
      "<>:1: DeprecationWarning: invalid escape sequence \\(\n",
      "/var/folders/kg/0ndh6pln2x7b6rpm16twhvpc0000gn/T/ipykernel_3059/1398678993.py:1: DeprecationWarning: invalid escape sequence \\(\n",
      "  url_regex = 'http[s]?://(?:[a-zA-Z]|[0-9]|[$-_@.&+]|[!*\\(\\),]|(?:%[0-9a-fA-F][0-9a-fA-F]))+'\n"
     ]
    },
    {
     "data": {
      "text/html": [
       "<div>\n",
       "<style scoped>\n",
       "    .dataframe tbody tr th:only-of-type {\n",
       "        vertical-align: middle;\n",
       "    }\n",
       "\n",
       "    .dataframe tbody tr th {\n",
       "        vertical-align: top;\n",
       "    }\n",
       "\n",
       "    .dataframe thead th {\n",
       "        text-align: right;\n",
       "    }\n",
       "</style>\n",
       "<table border=\"1\" class=\"dataframe\">\n",
       "  <thead>\n",
       "    <tr style=\"text-align: right;\">\n",
       "      <th></th>\n",
       "      <th>Dominant_Topic</th>\n",
       "      <th>TweetId</th>\n",
       "      <th>AuthorId</th>\n",
       "      <th>AuthorName</th>\n",
       "      <th>AuthorUsername</th>\n",
       "      <th>urls</th>\n",
       "    </tr>\n",
       "  </thead>\n",
       "  <tbody>\n",
       "    <tr>\n",
       "      <th>0</th>\n",
       "      <td>8.0</td>\n",
       "      <td>1477024401254092800</td>\n",
       "      <td>1009831809855688707</td>\n",
       "      <td>Vammek Opinion</td>\n",
       "      <td>Vammek</td>\n",
       "      <td>[https://t.co/sWDkZM4Rvn]</td>\n",
       "    </tr>\n",
       "    <tr>\n",
       "      <th>1</th>\n",
       "      <td>0.0</td>\n",
       "      <td>1476991564803104776</td>\n",
       "      <td>590788952</td>\n",
       "      <td>Robert Pujol i Vives</td>\n",
       "      <td>rpujolvives</td>\n",
       "      <td>[https://t.co/W7MemjJAA9, https://t.co/RFX8meY...</td>\n",
       "    </tr>\n",
       "    <tr>\n",
       "      <th>2</th>\n",
       "      <td>0.0</td>\n",
       "      <td>1476962302159060992</td>\n",
       "      <td>1476958634705780736</td>\n",
       "      <td>Megan Robbins</td>\n",
       "      <td>MeganRo50852817</td>\n",
       "      <td>[]</td>\n",
       "    </tr>\n",
       "    <tr>\n",
       "      <th>3</th>\n",
       "      <td>4.0</td>\n",
       "      <td>1476954565450903553</td>\n",
       "      <td>47878087</td>\n",
       "      <td>Jennifer Hall</td>\n",
       "      <td>JDHall_35402</td>\n",
       "      <td>[https://t.co/2A7wLyid3X?]</td>\n",
       "    </tr>\n",
       "    <tr>\n",
       "      <th>4</th>\n",
       "      <td>4.0</td>\n",
       "      <td>1476922966893948928</td>\n",
       "      <td>1450838788037496836</td>\n",
       "      <td>Dennis Landi</td>\n",
       "      <td>DennisLandi2</td>\n",
       "      <td>[https://t.co/OD7YqPO5SP?]</td>\n",
       "    </tr>\n",
       "    <tr>\n",
       "      <th>5</th>\n",
       "      <td>0.0</td>\n",
       "      <td>1476916783525371911</td>\n",
       "      <td>2843451077</td>\n",
       "      <td>Bob Hill</td>\n",
       "      <td>bobhillbrain</td>\n",
       "      <td>[https://t.co/o4xvt3yxVm, https://t.co/CGRbN8j...</td>\n",
       "    </tr>\n",
       "    <tr>\n",
       "      <th>6</th>\n",
       "      <td>4.0</td>\n",
       "      <td>1476798432949858306</td>\n",
       "      <td>1269149246</td>\n",
       "      <td>SAVE AMERICA</td>\n",
       "      <td>vietthanhsports</td>\n",
       "      <td>[https://t.co/SAKgz7OEZy?]</td>\n",
       "    </tr>\n",
       "    <tr>\n",
       "      <th>7</th>\n",
       "      <td>1.0</td>\n",
       "      <td>1476748809485045783</td>\n",
       "      <td>15729844</td>\n",
       "      <td>Max Berger</td>\n",
       "      <td>maxberger</td>\n",
       "      <td>[]</td>\n",
       "    </tr>\n",
       "    <tr>\n",
       "      <th>8</th>\n",
       "      <td>9.0</td>\n",
       "      <td>1476732535572889601</td>\n",
       "      <td>203414131</td>\n",
       "      <td>Jon</td>\n",
       "      <td>ObiWan0001</td>\n",
       "      <td>[https://t.co/ppdezrIN74]</td>\n",
       "    </tr>\n",
       "    <tr>\n",
       "      <th>9</th>\n",
       "      <td>9.0</td>\n",
       "      <td>1476720659006820354</td>\n",
       "      <td>1455307963078352898</td>\n",
       "      <td>John Harman</td>\n",
       "      <td>FanOfKurzweil</td>\n",
       "      <td>[]</td>\n",
       "    </tr>\n",
       "  </tbody>\n",
       "</table>\n",
       "</div>"
      ],
      "text/plain": [
       "   Dominant_Topic              TweetId             AuthorId  \\\n",
       "0             8.0  1477024401254092800  1009831809855688707   \n",
       "1             0.0  1476991564803104776            590788952   \n",
       "2             0.0  1476962302159060992  1476958634705780736   \n",
       "3             4.0  1476954565450903553             47878087   \n",
       "4             4.0  1476922966893948928  1450838788037496836   \n",
       "5             0.0  1476916783525371911           2843451077   \n",
       "6             4.0  1476798432949858306           1269149246   \n",
       "7             1.0  1476748809485045783             15729844   \n",
       "8             9.0  1476732535572889601            203414131   \n",
       "9             9.0  1476720659006820354  1455307963078352898   \n",
       "\n",
       "             AuthorName   AuthorUsername  \\\n",
       "0        Vammek Opinion           Vammek   \n",
       "1  Robert Pujol i Vives      rpujolvives   \n",
       "2         Megan Robbins  MeganRo50852817   \n",
       "3         Jennifer Hall     JDHall_35402   \n",
       "4          Dennis Landi     DennisLandi2   \n",
       "5              Bob Hill     bobhillbrain   \n",
       "6          SAVE AMERICA  vietthanhsports   \n",
       "7            Max Berger        maxberger   \n",
       "8                   Jon       ObiWan0001   \n",
       "9           John Harman    FanOfKurzweil   \n",
       "\n",
       "                                                urls  \n",
       "0                          [https://t.co/sWDkZM4Rvn]  \n",
       "1  [https://t.co/W7MemjJAA9, https://t.co/RFX8meY...  \n",
       "2                                                 []  \n",
       "3                         [https://t.co/2A7wLyid3X?]  \n",
       "4                         [https://t.co/OD7YqPO5SP?]  \n",
       "5  [https://t.co/o4xvt3yxVm, https://t.co/CGRbN8j...  \n",
       "6                         [https://t.co/SAKgz7OEZy?]  \n",
       "7                                                 []  \n",
       "8                          [https://t.co/ppdezrIN74]  \n",
       "9                                                 []  "
      ]
     },
     "execution_count": 50,
     "metadata": {},
     "output_type": "execute_result"
    }
   ],
   "source": [
    "\n",
    "url_regex = 'http[s]?://(?:[a-zA-Z]|[0-9]|[$-_@.&+]|[!*\\(\\),]|(?:%[0-9a-fA-F][0-9a-fA-F]))+'\n",
    "\n",
    "df_dominant_topic['urls'] = df_dominant_topic['Text'].apply(lambda x: re.findall(url_regex, x))\n",
    "\n",
    "df_url_lst = df_dominant_topic.filter(['Dominant_Topic','TweetId','AuthorId','AuthorName','AuthorUsername','urls'], axis=1)\n",
    "\n",
    "df_url_lst.head(10)"
   ]
  },
  {
   "cell_type": "code",
   "execution_count": 51,
   "id": "830c8f8b-5cc2-41a5-8f62-aebf447b785d",
   "metadata": {},
   "outputs": [
    {
     "data": {
      "text/html": [
       "<div>\n",
       "<style scoped>\n",
       "    .dataframe tbody tr th:only-of-type {\n",
       "        vertical-align: middle;\n",
       "    }\n",
       "\n",
       "    .dataframe tbody tr th {\n",
       "        vertical-align: top;\n",
       "    }\n",
       "\n",
       "    .dataframe thead th {\n",
       "        text-align: right;\n",
       "    }\n",
       "</style>\n",
       "<table border=\"1\" class=\"dataframe\">\n",
       "  <thead>\n",
       "    <tr style=\"text-align: right;\">\n",
       "      <th></th>\n",
       "      <th>Dominant_Topic</th>\n",
       "      <th>TweetId</th>\n",
       "      <th>AuthorId</th>\n",
       "      <th>AuthorName</th>\n",
       "      <th>AuthorUsername</th>\n",
       "      <th>urls</th>\n",
       "    </tr>\n",
       "  </thead>\n",
       "  <tbody>\n",
       "    <tr>\n",
       "      <th>0</th>\n",
       "      <td>8.0</td>\n",
       "      <td>1477024401254092800</td>\n",
       "      <td>1009831809855688707</td>\n",
       "      <td>Vammek Opinion</td>\n",
       "      <td>Vammek</td>\n",
       "      <td>[https://t.co/sWDkZM4Rvn]</td>\n",
       "    </tr>\n",
       "    <tr>\n",
       "      <th>1</th>\n",
       "      <td>0.0</td>\n",
       "      <td>1476991564803104776</td>\n",
       "      <td>590788952</td>\n",
       "      <td>Robert Pujol i Vives</td>\n",
       "      <td>rpujolvives</td>\n",
       "      <td>[https://t.co/W7MemjJAA9, https://t.co/RFX8meY...</td>\n",
       "    </tr>\n",
       "    <tr>\n",
       "      <th>3</th>\n",
       "      <td>4.0</td>\n",
       "      <td>1476954565450903553</td>\n",
       "      <td>47878087</td>\n",
       "      <td>Jennifer Hall</td>\n",
       "      <td>JDHall_35402</td>\n",
       "      <td>[https://t.co/2A7wLyid3X?]</td>\n",
       "    </tr>\n",
       "    <tr>\n",
       "      <th>4</th>\n",
       "      <td>4.0</td>\n",
       "      <td>1476922966893948928</td>\n",
       "      <td>1450838788037496836</td>\n",
       "      <td>Dennis Landi</td>\n",
       "      <td>DennisLandi2</td>\n",
       "      <td>[https://t.co/OD7YqPO5SP?]</td>\n",
       "    </tr>\n",
       "    <tr>\n",
       "      <th>5</th>\n",
       "      <td>0.0</td>\n",
       "      <td>1476916783525371911</td>\n",
       "      <td>2843451077</td>\n",
       "      <td>Bob Hill</td>\n",
       "      <td>bobhillbrain</td>\n",
       "      <td>[https://t.co/o4xvt3yxVm, https://t.co/CGRbN8j...</td>\n",
       "    </tr>\n",
       "    <tr>\n",
       "      <th>6</th>\n",
       "      <td>4.0</td>\n",
       "      <td>1476798432949858306</td>\n",
       "      <td>1269149246</td>\n",
       "      <td>SAVE AMERICA</td>\n",
       "      <td>vietthanhsports</td>\n",
       "      <td>[https://t.co/SAKgz7OEZy?]</td>\n",
       "    </tr>\n",
       "    <tr>\n",
       "      <th>8</th>\n",
       "      <td>9.0</td>\n",
       "      <td>1476732535572889601</td>\n",
       "      <td>203414131</td>\n",
       "      <td>Jon</td>\n",
       "      <td>ObiWan0001</td>\n",
       "      <td>[https://t.co/ppdezrIN74]</td>\n",
       "    </tr>\n",
       "    <tr>\n",
       "      <th>10</th>\n",
       "      <td>3.0</td>\n",
       "      <td>1476719254833618945</td>\n",
       "      <td>1006146920119750657</td>\n",
       "      <td>Connor</td>\n",
       "      <td>connorfx76</td>\n",
       "      <td>[https://t.co/Z46zJmZspE]</td>\n",
       "    </tr>\n",
       "    <tr>\n",
       "      <th>12</th>\n",
       "      <td>4.0</td>\n",
       "      <td>1476687897466130434</td>\n",
       "      <td>1618504489</td>\n",
       "      <td>Nelson</td>\n",
       "      <td>NelsonAPike</td>\n",
       "      <td>[https://t.co/1Zk40ByoVK?]</td>\n",
       "    </tr>\n",
       "    <tr>\n",
       "      <th>13</th>\n",
       "      <td>0.0</td>\n",
       "      <td>1476675758357729292</td>\n",
       "      <td>2843451077</td>\n",
       "      <td>Bob Hill</td>\n",
       "      <td>bobhillbrain</td>\n",
       "      <td>[https://t.co/o4xvt3yxVm, https://t.co/CGRbN8j...</td>\n",
       "    </tr>\n",
       "  </tbody>\n",
       "</table>\n",
       "</div>"
      ],
      "text/plain": [
       "    Dominant_Topic              TweetId             AuthorId  \\\n",
       "0              8.0  1477024401254092800  1009831809855688707   \n",
       "1              0.0  1476991564803104776            590788952   \n",
       "3              4.0  1476954565450903553             47878087   \n",
       "4              4.0  1476922966893948928  1450838788037496836   \n",
       "5              0.0  1476916783525371911           2843451077   \n",
       "6              4.0  1476798432949858306           1269149246   \n",
       "8              9.0  1476732535572889601            203414131   \n",
       "10             3.0  1476719254833618945  1006146920119750657   \n",
       "12             4.0  1476687897466130434           1618504489   \n",
       "13             0.0  1476675758357729292           2843451077   \n",
       "\n",
       "              AuthorName   AuthorUsername  \\\n",
       "0         Vammek Opinion           Vammek   \n",
       "1   Robert Pujol i Vives      rpujolvives   \n",
       "3          Jennifer Hall     JDHall_35402   \n",
       "4           Dennis Landi     DennisLandi2   \n",
       "5               Bob Hill     bobhillbrain   \n",
       "6           SAVE AMERICA  vietthanhsports   \n",
       "8                    Jon       ObiWan0001   \n",
       "10                Connor       connorfx76   \n",
       "12                Nelson      NelsonAPike   \n",
       "13              Bob Hill     bobhillbrain   \n",
       "\n",
       "                                                 urls  \n",
       "0                           [https://t.co/sWDkZM4Rvn]  \n",
       "1   [https://t.co/W7MemjJAA9, https://t.co/RFX8meY...  \n",
       "3                          [https://t.co/2A7wLyid3X?]  \n",
       "4                          [https://t.co/OD7YqPO5SP?]  \n",
       "5   [https://t.co/o4xvt3yxVm, https://t.co/CGRbN8j...  \n",
       "6                          [https://t.co/SAKgz7OEZy?]  \n",
       "8                           [https://t.co/ppdezrIN74]  \n",
       "10                          [https://t.co/Z46zJmZspE]  \n",
       "12                         [https://t.co/1Zk40ByoVK?]  \n",
       "13  [https://t.co/o4xvt3yxVm, https://t.co/CGRbN8j...  "
      ]
     },
     "execution_count": 51,
     "metadata": {},
     "output_type": "execute_result"
    }
   ],
   "source": [
    "#remove rows that don't contain urls\n",
    "df_url_lst_only = df_url_lst[df_url_lst['urls'].map(lambda d: len(d)) > 0]\n",
    "\n",
    "df_url_lst_only.head(10)"
   ]
  },
  {
   "cell_type": "code",
   "execution_count": 52,
   "id": "226a5286-5248-4e70-9f05-23213c6e0b6e",
   "metadata": {},
   "outputs": [
    {
     "data": {
      "text/plain": [
       "(19517, 6)"
      ]
     },
     "execution_count": 52,
     "metadata": {},
     "output_type": "execute_result"
    }
   ],
   "source": [
    "df_url_lst_only.shape"
   ]
  },
  {
   "cell_type": "code",
   "execution_count": 183,
   "id": "4760ebaf-8dd6-4756-9642-987251c8e3df",
   "metadata": {},
   "outputs": [
    {
     "data": {
      "text/html": [
       "<div>\n",
       "<style scoped>\n",
       "    .dataframe tbody tr th:only-of-type {\n",
       "        vertical-align: middle;\n",
       "    }\n",
       "\n",
       "    .dataframe tbody tr th {\n",
       "        vertical-align: top;\n",
       "    }\n",
       "\n",
       "    .dataframe thead th {\n",
       "        text-align: right;\n",
       "    }\n",
       "</style>\n",
       "<table border=\"1\" class=\"dataframe\">\n",
       "  <thead>\n",
       "    <tr style=\"text-align: right;\">\n",
       "      <th></th>\n",
       "      <th>Topic</th>\n",
       "      <th>TweetId</th>\n",
       "      <th>AuthorId</th>\n",
       "      <th>AuthorName</th>\n",
       "      <th>AuthorUsername</th>\n",
       "      <th>#urls</th>\n",
       "      <th>urls</th>\n",
       "    </tr>\n",
       "  </thead>\n",
       "  <tbody>\n",
       "    <tr>\n",
       "      <th>0</th>\n",
       "      <td>8.0</td>\n",
       "      <td>1477024401254092800</td>\n",
       "      <td>1009831809855688707</td>\n",
       "      <td>Vammek Opinion</td>\n",
       "      <td>Vammek</td>\n",
       "      <td>0</td>\n",
       "      <td>https://t.co/sWDkZM4Rvn</td>\n",
       "    </tr>\n",
       "    <tr>\n",
       "      <th>1</th>\n",
       "      <td>0.0</td>\n",
       "      <td>1476991564803104776</td>\n",
       "      <td>590788952</td>\n",
       "      <td>Robert Pujol i Vives</td>\n",
       "      <td>rpujolvives</td>\n",
       "      <td>0</td>\n",
       "      <td>https://t.co/W7MemjJAA9</td>\n",
       "    </tr>\n",
       "    <tr>\n",
       "      <th>2</th>\n",
       "      <td>0.0</td>\n",
       "      <td>1476991564803104776</td>\n",
       "      <td>590788952</td>\n",
       "      <td>Robert Pujol i Vives</td>\n",
       "      <td>rpujolvives</td>\n",
       "      <td>1</td>\n",
       "      <td>https://t.co/RFX8meYv11</td>\n",
       "    </tr>\n",
       "    <tr>\n",
       "      <th>3</th>\n",
       "      <td>4.0</td>\n",
       "      <td>1476954565450903553</td>\n",
       "      <td>47878087</td>\n",
       "      <td>Jennifer Hall</td>\n",
       "      <td>JDHall_35402</td>\n",
       "      <td>0</td>\n",
       "      <td>https://t.co/2A7wLyid3X?</td>\n",
       "    </tr>\n",
       "    <tr>\n",
       "      <th>4</th>\n",
       "      <td>4.0</td>\n",
       "      <td>1476922966893948928</td>\n",
       "      <td>1450838788037496836</td>\n",
       "      <td>Dennis Landi</td>\n",
       "      <td>DennisLandi2</td>\n",
       "      <td>0</td>\n",
       "      <td>https://t.co/OD7YqPO5SP?</td>\n",
       "    </tr>\n",
       "  </tbody>\n",
       "</table>\n",
       "</div>"
      ],
      "text/plain": [
       "   Topic              TweetId             AuthorId            AuthorName  \\\n",
       "0    8.0  1477024401254092800  1009831809855688707        Vammek Opinion   \n",
       "1    0.0  1476991564803104776            590788952  Robert Pujol i Vives   \n",
       "2    0.0  1476991564803104776            590788952  Robert Pujol i Vives   \n",
       "3    4.0  1476954565450903553             47878087         Jennifer Hall   \n",
       "4    4.0  1476922966893948928  1450838788037496836          Dennis Landi   \n",
       "\n",
       "  AuthorUsername  #urls                      urls  \n",
       "0         Vammek      0   https://t.co/sWDkZM4Rvn  \n",
       "1    rpujolvives      0   https://t.co/W7MemjJAA9  \n",
       "2    rpujolvives      1   https://t.co/RFX8meYv11  \n",
       "3   JDHall_35402      0  https://t.co/2A7wLyid3X?  \n",
       "4   DennisLandi2      0  https://t.co/OD7YqPO5SP?  "
      ]
     },
     "execution_count": 183,
     "metadata": {},
     "output_type": "execute_result"
    }
   ],
   "source": [
    "#creat multiple rows for the tweet that has multiple urls\n",
    "df_url = df_url_lst_only.set_index(['Dominant_Topic','TweetId','AuthorId','AuthorName','AuthorUsername'])['urls'].apply(pd.Series).stack()\n",
    "df_url = df_url.reset_index()\n",
    "df_url.columns = ['Topic','TweetId','AuthorId','AuthorName','AuthorUsername','#urls','urls']\n",
    "df_url.head()"
   ]
  },
  {
   "cell_type": "code",
   "execution_count": 184,
   "id": "fbc496e6-afe7-40ba-8f87-d38543477145",
   "metadata": {},
   "outputs": [],
   "source": [
    "df_twid_text = df_dominant_topic[[\"TweetId\", \"Text\"]]\n",
    "df_url = df_url.merge(df_twid_text, on='TweetId', how='left')"
   ]
  },
  {
   "cell_type": "code",
   "execution_count": 205,
   "id": "7b659587-f255-4da3-81ef-dc03c214b72e",
   "metadata": {},
   "outputs": [],
   "source": [
    "#list collect the original link from t.co/\n",
    "canonical_url = []\n",
    "#[df_url['Topic'] == 0]\n",
    "for url in df_url[df_url['Topic'] == 2]['urls']:\n",
    "    # make a fake request head\n",
    "    fake_header = FakeHttpHeader(domain_name = 'en-USA')\n",
    "    fake_header_dict = fake_header.as_header_dict()\n",
    "    # make the requests\n",
    "    canonical = requests.get(url, headers = fake_header_dict).content\n",
    "    \n",
    "    #retry 3 times if the requests fail\n",
    "    #session = requests.Session()\n",
    "    #retry = Retry(connect=3, backoff_factor=0.5)\n",
    "    #adapter = HTTPAdapter(max_retries=retry)\n",
    "    #session.mount('http://', adapter)\n",
    "    #session.mount('https://', adapter)\n",
    "    \n",
    "    match = re.findall(r'URL=[\\'\"]?([^\\'\" >]+)', str(canonical))\n",
    "    canonical_url.append(match)"
   ]
  },
  {
   "cell_type": "code",
   "execution_count": 210,
   "id": "4a7872ec-64dc-4cc6-ad2c-a79e868329d1",
   "metadata": {},
   "outputs": [
    {
     "name": "stderr",
     "output_type": "stream",
     "text": [
      "/var/folders/kg/0ndh6pln2x7b6rpm16twhvpc0000gn/T/ipykernel_3059/1655761727.py:3: SettingWithCopyWarning: \n",
      "A value is trying to be set on a copy of a slice from a DataFrame.\n",
      "Try using .loc[row_indexer,col_indexer] = value instead\n",
      "\n",
      "See the caveats in the documentation: https://pandas.pydata.org/pandas-docs/stable/user_guide/indexing.html#returning-a-view-versus-a-copy\n",
      "  df_topic2_url['canonical_urls'] = qq[0]\n"
     ]
    },
    {
     "data": {
      "text/html": [
       "<div>\n",
       "<style scoped>\n",
       "    .dataframe tbody tr th:only-of-type {\n",
       "        vertical-align: middle;\n",
       "    }\n",
       "\n",
       "    .dataframe tbody tr th {\n",
       "        vertical-align: top;\n",
       "    }\n",
       "\n",
       "    .dataframe thead th {\n",
       "        text-align: right;\n",
       "    }\n",
       "</style>\n",
       "<table border=\"1\" class=\"dataframe\">\n",
       "  <thead>\n",
       "    <tr style=\"text-align: right;\">\n",
       "      <th></th>\n",
       "      <th>Topic</th>\n",
       "      <th>TweetId</th>\n",
       "      <th>AuthorId</th>\n",
       "      <th>AuthorName</th>\n",
       "      <th>AuthorUsername</th>\n",
       "      <th>#urls</th>\n",
       "      <th>urls</th>\n",
       "      <th>Text</th>\n",
       "      <th>canonical_urls</th>\n",
       "    </tr>\n",
       "  </thead>\n",
       "  <tbody>\n",
       "    <tr>\n",
       "      <th>67</th>\n",
       "      <td>2.0</td>\n",
       "      <td>1475844219776421906</td>\n",
       "      <td>17751750</td>\n",
       "      <td>Elio Ohep - Editor Energiesnet</td>\n",
       "      <td>energiesnet1</td>\n",
       "      <td>0</td>\n",
       "      <td>https://t.co/n5DQ4TOndz</td>\n",
       "      <td>Liz Hampton/Reuters -Exxon Says Baytown Refine...</td>\n",
       "      <td>https://flip.it/ounJpV</td>\n",
       "    </tr>\n",
       "    <tr>\n",
       "      <th>68</th>\n",
       "      <td>2.0</td>\n",
       "      <td>1475844219776421906</td>\n",
       "      <td>17751750</td>\n",
       "      <td>Elio Ohep - Editor Energiesnet</td>\n",
       "      <td>energiesnet1</td>\n",
       "      <td>1</td>\n",
       "      <td>https://t.co/8uAAas7F8C</td>\n",
       "      <td>Liz Hampton/Reuters -Exxon Says Baytown Refine...</td>\n",
       "      <td>https://www.ecowatch.com/exxon-ceo-congression...</td>\n",
       "    </tr>\n",
       "    <tr>\n",
       "      <th>146</th>\n",
       "      <td>2.0</td>\n",
       "      <td>1474351167421489162</td>\n",
       "      <td>236536167</td>\n",
       "      <td>Pierre Crom</td>\n",
       "      <td>PierreCrom</td>\n",
       "      <td>0</td>\n",
       "      <td>https://t.co/pFWBVf8hoU</td>\n",
       "      <td>insane report from Holland as the Dutch gov gr...</td>\n",
       "      <td>https://www.theguardian.com/environment/2021/o...</td>\n",
       "    </tr>\n",
       "    <tr>\n",
       "      <th>177</th>\n",
       "      <td>2.0</td>\n",
       "      <td>1473377977245356035</td>\n",
       "      <td>1258110317558673410</td>\n",
       "      <td>Lobby For Climate</td>\n",
       "      <td>LobbyForClimate</td>\n",
       "      <td>0</td>\n",
       "      <td>https://t.co/luML7LAfKo</td>\n",
       "      <td>Flashback to this video of Exxon’s lobbyist ad...</td>\n",
       "      <td>https://www.theguardian.com/environment/2021/o...</td>\n",
       "    </tr>\n",
       "    <tr>\n",
       "      <th>190</th>\n",
       "      <td>2.0</td>\n",
       "      <td>1473115137024348160</td>\n",
       "      <td>1153879316977074176</td>\n",
       "      <td>Mel Collins</td>\n",
       "      <td>Melinda26188859</td>\n",
       "      <td>0</td>\n",
       "      <td>https://t.co/vPtukoxtFS</td>\n",
       "      <td>@msnbc @CNN @jheil @NicolleDWallace @ProjectLi...</td>\n",
       "      <td>https://www.theguardian.com/environment/2021/o...</td>\n",
       "    </tr>\n",
       "  </tbody>\n",
       "</table>\n",
       "</div>"
      ],
      "text/plain": [
       "     Topic              TweetId             AuthorId  \\\n",
       "67     2.0  1475844219776421906             17751750   \n",
       "68     2.0  1475844219776421906             17751750   \n",
       "146    2.0  1474351167421489162            236536167   \n",
       "177    2.0  1473377977245356035  1258110317558673410   \n",
       "190    2.0  1473115137024348160  1153879316977074176   \n",
       "\n",
       "                         AuthorName   AuthorUsername  #urls  \\\n",
       "67   Elio Ohep - Editor Energiesnet     energiesnet1      0   \n",
       "68   Elio Ohep - Editor Energiesnet     energiesnet1      1   \n",
       "146                     Pierre Crom       PierreCrom      0   \n",
       "177               Lobby For Climate  LobbyForClimate      0   \n",
       "190                     Mel Collins  Melinda26188859      0   \n",
       "\n",
       "                        urls  \\\n",
       "67   https://t.co/n5DQ4TOndz   \n",
       "68   https://t.co/8uAAas7F8C   \n",
       "146  https://t.co/pFWBVf8hoU   \n",
       "177  https://t.co/luML7LAfKo   \n",
       "190  https://t.co/vPtukoxtFS   \n",
       "\n",
       "                                                  Text  \\\n",
       "67   Liz Hampton/Reuters -Exxon Says Baytown Refine...   \n",
       "68   Liz Hampton/Reuters -Exxon Says Baytown Refine...   \n",
       "146  insane report from Holland as the Dutch gov gr...   \n",
       "177  Flashback to this video of Exxon’s lobbyist ad...   \n",
       "190  @msnbc @CNN @jheil @NicolleDWallace @ProjectLi...   \n",
       "\n",
       "                                        canonical_urls  \n",
       "67                              https://flip.it/ounJpV  \n",
       "68   https://www.ecowatch.com/exxon-ceo-congression...  \n",
       "146  https://www.theguardian.com/environment/2021/o...  \n",
       "177  https://www.theguardian.com/environment/2021/o...  \n",
       "190  https://www.theguardian.com/environment/2021/o...  "
      ]
     },
     "execution_count": 210,
     "metadata": {},
     "output_type": "execute_result"
    }
   ],
   "source": [
    "qq = pd.DataFrame(canonical_url)\n",
    "df_topic2_url = df_url[df_url['Topic'] == 2]\n",
    "df_topic2_url['canonical_urls'] = qq[0]\n",
    "df_topic2_url.head()"
   ]
  },
  {
   "cell_type": "code",
   "execution_count": 220,
   "id": "8576c30a-4e9c-4471-8450-1db71389959b",
   "metadata": {},
   "outputs": [
    {
     "data": {
      "text/plain": [
       "(624, 9)"
      ]
     },
     "execution_count": 220,
     "metadata": {},
     "output_type": "execute_result"
    }
   ],
   "source": []
  },
  {
   "cell_type": "code",
   "execution_count": 222,
   "id": "b98673f1-89a5-421e-8a8d-77c242b20c7b",
   "metadata": {},
   "outputs": [
    {
     "data": {
      "text/plain": [
       "(285, 1)"
      ]
     },
     "execution_count": 222,
     "metadata": {},
     "output_type": "execute_result"
    }
   ],
   "source": []
  },
  {
   "cell_type": "code",
   "execution_count": 223,
   "id": "2d0a8772-0fef-4ea5-a3da-423c89a44456",
   "metadata": {},
   "outputs": [],
   "source": [
    "topic = qq.pivot_table(columns=[0], aggfunc='size').sort_values(ascending=False).to_frame()\n",
    "topic.to_csv('/Users/lavine/Desktop/Terriers!/misinformation project/github/Climate-Change-Misinformation-project/' + 'topic'+ str(2) + '.csv') "
   ]
  },
  {
   "cell_type": "code",
   "execution_count": 212,
   "id": "2cbebae8-86c6-4a1f-9a68-91d6c8e4e9a9",
   "metadata": {},
   "outputs": [],
   "source": [
    "df_topic2_url.to_csv('/Users/lavine/Desktop/Terriers!/misinformation project/github/Climate-Change-Misinformation-project/' + 'topic'+ str(2)+'full table' + '.csv') "
   ]
  },
  {
   "cell_type": "code",
   "execution_count": 153,
   "id": "5c259acc-880d-4381-8f47-299364d49188",
   "metadata": {},
   "outputs": [
    {
     "data": {
      "text/plain": [
       "b'<head><noscript><META http-equiv=\"refresh\" content=\"0;URL=https://act.greennewdealnetwork.org/signup/end-fossil-fuel-subsidies\"></noscript><title>https://act.greennewdealnetwork.org/signup/end-fossil-fuel-subsidies</title></head><script>window.opener = null; location.replace(\"https:\\\\/\\\\/act.greennewdealnetwork.org\\\\/signup\\\\/end-fossil-fuel-subsidies\")</script>'"
      ]
     },
     "execution_count": 153,
     "metadata": {},
     "output_type": "execute_result"
    }
   ],
   "source": [
    "response.content"
   ]
  },
  {
   "cell_type": "code",
   "execution_count": 160,
   "id": "c542ad9d-4176-4a16-a8ad-433bdfe51688",
   "metadata": {},
   "outputs": [
    {
     "data": {
      "text/html": [
       "<div>\n",
       "<style scoped>\n",
       "    .dataframe tbody tr th:only-of-type {\n",
       "        vertical-align: middle;\n",
       "    }\n",
       "\n",
       "    .dataframe tbody tr th {\n",
       "        vertical-align: top;\n",
       "    }\n",
       "\n",
       "    .dataframe thead th {\n",
       "        text-align: right;\n",
       "    }\n",
       "</style>\n",
       "<table border=\"1\" class=\"dataframe\">\n",
       "  <thead>\n",
       "    <tr style=\"text-align: right;\">\n",
       "      <th></th>\n",
       "      <th>Topic</th>\n",
       "      <th>TweetId</th>\n",
       "      <th>AuthorId</th>\n",
       "      <th>AuthorName</th>\n",
       "      <th>AuthorUsername</th>\n",
       "      <th>#urls</th>\n",
       "      <th>urls</th>\n",
       "      <th>Text</th>\n",
       "      <th>canonical_urls</th>\n",
       "    </tr>\n",
       "  </thead>\n",
       "  <tbody>\n",
       "    <tr>\n",
       "      <th>0</th>\n",
       "      <td>8.0</td>\n",
       "      <td>1477024401254092800</td>\n",
       "      <td>1009831809855688707</td>\n",
       "      <td>Vammek Opinion</td>\n",
       "      <td>Vammek</td>\n",
       "      <td>0</td>\n",
       "      <td>https://t.co/sWDkZM4Rvn</td>\n",
       "      <td>'We are in a climate emergency'December wildfi...</td>\n",
       "      <td>NaN</td>\n",
       "    </tr>\n",
       "    <tr>\n",
       "      <th>1</th>\n",
       "      <td>0.0</td>\n",
       "      <td>1476991564803104776</td>\n",
       "      <td>590788952</td>\n",
       "      <td>Robert Pujol i Vives</td>\n",
       "      <td>rpujolvives</td>\n",
       "      <td>0</td>\n",
       "      <td>https://t.co/W7MemjJAA9</td>\n",
       "      <td>#Oil business knows about the damage that It d...</td>\n",
       "      <td>NaN</td>\n",
       "    </tr>\n",
       "    <tr>\n",
       "      <th>2</th>\n",
       "      <td>0.0</td>\n",
       "      <td>1476991564803104776</td>\n",
       "      <td>590788952</td>\n",
       "      <td>Robert Pujol i Vives</td>\n",
       "      <td>rpujolvives</td>\n",
       "      <td>1</td>\n",
       "      <td>https://t.co/RFX8meYv11</td>\n",
       "      <td>#Oil business knows about the damage that It d...</td>\n",
       "      <td>NaN</td>\n",
       "    </tr>\n",
       "    <tr>\n",
       "      <th>3</th>\n",
       "      <td>4.0</td>\n",
       "      <td>1476954565450903553</td>\n",
       "      <td>47878087</td>\n",
       "      <td>Jennifer Hall</td>\n",
       "      <td>JDHall_35402</td>\n",
       "      <td>0</td>\n",
       "      <td>https://t.co/2A7wLyid3X?</td>\n",
       "      <td>Each year, the government gives over $15 billi...</td>\n",
       "      <td>NaN</td>\n",
       "    </tr>\n",
       "    <tr>\n",
       "      <th>4</th>\n",
       "      <td>4.0</td>\n",
       "      <td>1476922966893948928</td>\n",
       "      <td>1450838788037496836</td>\n",
       "      <td>Dennis Landi</td>\n",
       "      <td>DennisLandi2</td>\n",
       "      <td>0</td>\n",
       "      <td>https://t.co/OD7YqPO5SP?</td>\n",
       "      <td>Each year, the government gives over $15 billi...</td>\n",
       "      <td>NaN</td>\n",
       "    </tr>\n",
       "  </tbody>\n",
       "</table>\n",
       "</div>"
      ],
      "text/plain": [
       "   Topic              TweetId             AuthorId            AuthorName  \\\n",
       "0    8.0  1477024401254092800  1009831809855688707        Vammek Opinion   \n",
       "1    0.0  1476991564803104776            590788952  Robert Pujol i Vives   \n",
       "2    0.0  1476991564803104776            590788952  Robert Pujol i Vives   \n",
       "3    4.0  1476954565450903553             47878087         Jennifer Hall   \n",
       "4    4.0  1476922966893948928  1450838788037496836          Dennis Landi   \n",
       "\n",
       "  AuthorUsername  #urls                      urls  \\\n",
       "0         Vammek      0   https://t.co/sWDkZM4Rvn   \n",
       "1    rpujolvives      0   https://t.co/W7MemjJAA9   \n",
       "2    rpujolvives      1   https://t.co/RFX8meYv11   \n",
       "3   JDHall_35402      0  https://t.co/2A7wLyid3X?   \n",
       "4   DennisLandi2      0  https://t.co/OD7YqPO5SP?   \n",
       "\n",
       "                                                Text canonical_urls  \n",
       "0  'We are in a climate emergency'December wildfi...            NaN  \n",
       "1  #Oil business knows about the damage that It d...            NaN  \n",
       "2  #Oil business knows about the damage that It d...            NaN  \n",
       "3  Each year, the government gives over $15 billi...            NaN  \n",
       "4  Each year, the government gives over $15 billi...            NaN  "
      ]
     },
     "execution_count": 160,
     "metadata": {},
     "output_type": "execute_result"
    }
   ],
   "source": [
    "df_url.head()"
   ]
  },
  {
   "cell_type": "markdown",
   "id": "6a015559-ca1b-4b38-b48b-3c245abfc1cb",
   "metadata": {},
   "source": [
    "#export df_url_lst to csv\n",
    "os.makedirs('/Users/lavine/Desktop/Terriers!/misinformation project/github/Climate-Change-Misinformation-project', exist_ok=True)  \n",
    "df_url.to_csv('/Users/lavine/Desktop/Terriers!/misinformation project/github/Climate-Change-Misinformation-project/each_topic_urls.csv')"
   ]
  },
  {
   "cell_type": "code",
   "execution_count": 56,
   "id": "306922fe-2af7-438a-b6e4-2a4fcbcc578b",
   "metadata": {},
   "outputs": [
    {
     "name": "stdout",
     "output_type": "stream",
     "text": [
      "1122\n",
      "2550\n",
      "624\n",
      "3280\n",
      "1010\n",
      "2616\n",
      "2604\n",
      "1455\n",
      "3140\n",
      "3022\n"
     ]
    }
   ],
   "source": [
    "for i in range (10):\n",
    "    print(len(df_url[df_url['Topic'] == i]))"
   ]
  },
  {
   "cell_type": "code",
   "execution_count": 58,
   "id": "dc0729ad-be59-4975-b974-4b87915d3f04",
   "metadata": {},
   "outputs": [],
   "source": [
    "os.makedirs('/Users/lavine/Desktop/Terriers!/misinformation project/github/Climate-Change-Misinformation-project', exist_ok=True)  "
   ]
  },
  {
   "cell_type": "markdown",
   "id": "a892cb45-33ec-42e6-92d1-faa9de546a51",
   "metadata": {},
   "source": [
    "#for i in range(10):\n",
    "\n",
    "for i in range(10):\n",
    "    topic = df_url[df_url['Topic'] == i].pivot_table(columns=['urls'], aggfunc='size').sort_values(ascending=False).to_frame()\n",
    "    topic.to_csv('/Users/lavine/Desktop/Terriers!/misinformation project/github/Climate-Change-Misinformation-project/' + 'topic'+ str(i) + '.csv') \n"
   ]
  },
  {
   "cell_type": "markdown",
   "id": "fc3f1b97-ae12-484f-87c2-4187acd5a3b0",
   "metadata": {},
   "source": [
    "#export df_url_lst to csv\n",
    "os.makedirs('/Users/lavine/Desktop/Terriers!/misinformation project/github/Climate-Change-Misinformation-project', exist_ok=True)  \n",
    "df_url.to_csv('/Users/lavine/Desktop/Terriers!/misinformation project/github/Climate-Change-Misinformation-project/links_rank.csv')  "
   ]
  },
  {
   "cell_type": "markdown",
   "id": "ac667693-c3cf-41c6-b3f7-f20dc92ffd93",
   "metadata": {
    "tags": []
   },
   "source": [
    "### Find the most representative document for each topic"
   ]
  },
  {
   "cell_type": "code",
   "execution_count": 59,
   "id": "1b9663c3-1bcf-4973-9665-162b6c85caf9",
   "metadata": {},
   "outputs": [],
   "source": [
    "df_topic_sents_keywords = df_topic_sents_keywords.iloc[: , :-4]"
   ]
  },
  {
   "cell_type": "code",
   "execution_count": 60,
   "id": "b0af1d4e-6496-4096-817a-52ea6e513e2d",
   "metadata": {},
   "outputs": [
    {
     "data": {
      "text/html": [
       "<div>\n",
       "<style scoped>\n",
       "    .dataframe tbody tr th:only-of-type {\n",
       "        vertical-align: middle;\n",
       "    }\n",
       "\n",
       "    .dataframe tbody tr th {\n",
       "        vertical-align: top;\n",
       "    }\n",
       "\n",
       "    .dataframe thead th {\n",
       "        text-align: right;\n",
       "    }\n",
       "</style>\n",
       "<table border=\"1\" class=\"dataframe\">\n",
       "  <thead>\n",
       "    <tr style=\"text-align: right;\">\n",
       "      <th></th>\n",
       "      <th>Topic_Num</th>\n",
       "      <th>Topic_Perc_Contrib</th>\n",
       "      <th>Keywords</th>\n",
       "      <th>Text</th>\n",
       "    </tr>\n",
       "  </thead>\n",
       "  <tbody>\n",
       "    <tr>\n",
       "      <th>0</th>\n",
       "      <td>0.0</td>\n",
       "      <td>0.9357</td>\n",
       "      <td>business, plan, climate, know, exxon, emission...</td>\n",
       "      <td>https://t.co/B4K7DImfmz Exxon-designed “bipart...</td>\n",
       "    </tr>\n",
       "    <tr>\n",
       "      <th>1</th>\n",
       "      <td>1.0</td>\n",
       "      <td>0.9577</td>\n",
       "      <td>climate, oil, amp, industry, company, change, ...</td>\n",
       "      <td>Oil firms face workforce crunch as renewables ...</td>\n",
       "    </tr>\n",
       "    <tr>\n",
       "      <th>2</th>\n",
       "      <td>2.0</td>\n",
       "      <td>0.9319</td>\n",
       "      <td>climate, concern, science, lie, worlds_bigg, l...</td>\n",
       "      <td>Tobacco CEOs were dubbed the Seven Dwarfs when...</td>\n",
       "    </tr>\n",
       "    <tr>\n",
       "      <th>3</th>\n",
       "      <td>3.0</td>\n",
       "      <td>0.9639</td>\n",
       "      <td>climate, change, exxon, company, strategy, emi...</td>\n",
       "      <td>Each day, three times a day, Exxon told more t...</td>\n",
       "    </tr>\n",
       "    <tr>\n",
       "      <th>4</th>\n",
       "      <td>4.0</td>\n",
       "      <td>0.9526</td>\n",
       "      <td>fuel, fossil, pressure, sue, climate, corporat...</td>\n",
       "      <td>Each year, the government gives over $15 billi...</td>\n",
       "    </tr>\n",
       "    <tr>\n",
       "      <th>5</th>\n",
       "      <td>5.0</td>\n",
       "      <td>0.9625</td>\n",
       "      <td>climate, oil, change, shell, big, chevron, eng...</td>\n",
       "      <td>Big Setbacks Propel Oil Giants Toward ‘Tipping...</td>\n",
       "    </tr>\n",
       "    <tr>\n",
       "      <th>6</th>\n",
       "      <td>6.0</td>\n",
       "      <td>0.9526</td>\n",
       "      <td>activist, climate, board, investor, new, win, ...</td>\n",
       "      <td>Exxon's management was just dealt a stunning d...</td>\n",
       "    </tr>\n",
       "    <tr>\n",
       "      <th>7</th>\n",
       "      <td>7.0</td>\n",
       "      <td>0.9500</td>\n",
       "      <td>climate, video, push, catch, lobbyist, plan, t...</td>\n",
       "      <td>In Your Facebook Feed: Oil Industry Pushback A...</td>\n",
       "    </tr>\n",
       "    <tr>\n",
       "      <th>8</th>\n",
       "      <td>8.0</td>\n",
       "      <td>0.9571</td>\n",
       "      <td>climate, big, change, oil, crisis, use, downpl...</td>\n",
       "      <td>They could have stopped climate change 40 year...</td>\n",
       "    </tr>\n",
       "    <tr>\n",
       "      <th>9</th>\n",
       "      <td>9.0</td>\n",
       "      <td>0.9537</td>\n",
       "      <td>climate, seat, oil, change, vote, board, giant...</td>\n",
       "      <td>In 1982, Exxon predicted the future evolution ...</td>\n",
       "    </tr>\n",
       "  </tbody>\n",
       "</table>\n",
       "</div>"
      ],
      "text/plain": [
       "   Topic_Num  Topic_Perc_Contrib  \\\n",
       "0        0.0              0.9357   \n",
       "1        1.0              0.9577   \n",
       "2        2.0              0.9319   \n",
       "3        3.0              0.9639   \n",
       "4        4.0              0.9526   \n",
       "5        5.0              0.9625   \n",
       "6        6.0              0.9526   \n",
       "7        7.0              0.9500   \n",
       "8        8.0              0.9571   \n",
       "9        9.0              0.9537   \n",
       "\n",
       "                                            Keywords  \\\n",
       "0  business, plan, climate, know, exxon, emission...   \n",
       "1  climate, oil, amp, industry, company, change, ...   \n",
       "2  climate, concern, science, lie, worlds_bigg, l...   \n",
       "3  climate, change, exxon, company, strategy, emi...   \n",
       "4  fuel, fossil, pressure, sue, climate, corporat...   \n",
       "5  climate, oil, change, shell, big, chevron, eng...   \n",
       "6  activist, climate, board, investor, new, win, ...   \n",
       "7  climate, video, push, catch, lobbyist, plan, t...   \n",
       "8  climate, big, change, oil, crisis, use, downpl...   \n",
       "9  climate, seat, oil, change, vote, board, giant...   \n",
       "\n",
       "                                                Text  \n",
       "0  https://t.co/B4K7DImfmz Exxon-designed “bipart...  \n",
       "1  Oil firms face workforce crunch as renewables ...  \n",
       "2  Tobacco CEOs were dubbed the Seven Dwarfs when...  \n",
       "3  Each day, three times a day, Exxon told more t...  \n",
       "4  Each year, the government gives over $15 billi...  \n",
       "5  Big Setbacks Propel Oil Giants Toward ‘Tipping...  \n",
       "6  Exxon's management was just dealt a stunning d...  \n",
       "7  In Your Facebook Feed: Oil Industry Pushback A...  \n",
       "8  They could have stopped climate change 40 year...  \n",
       "9  In 1982, Exxon predicted the future evolution ...  "
      ]
     },
     "execution_count": 60,
     "metadata": {},
     "output_type": "execute_result"
    }
   ],
   "source": [
    "# Group top 5 sentences under each topic\n",
    "sent_topics_sorteddf_mallet = pd.DataFrame()\n",
    "\n",
    "sent_topics_outdf_grpd = df_topic_sents_keywords.groupby('Dominant_Topic')\n",
    "\n",
    "for i, grp in sent_topics_outdf_grpd:\n",
    "    sent_topics_sorteddf_mallet = pd.concat([sent_topics_sorteddf_mallet, \n",
    "                                             grp.sort_values(['Perc_Contribution'], ascending=[0]).head(1)], \n",
    "                                            axis=0)\n",
    "\n",
    "# Reset Index    \n",
    "sent_topics_sorteddf_mallet.reset_index(drop=True, inplace=True)\n",
    "\n",
    "# Format\n",
    "sent_topics_sorteddf_mallet.columns = ['Topic_Num', \"Topic_Perc_Contrib\", \"Keywords\", \"Text\"]\n",
    "\n",
    "# Show\n",
    "sent_topics_sorteddf_mallet.head(10)"
   ]
  },
  {
   "cell_type": "markdown",
   "id": "59576a82-5edc-41c6-ab6e-1cd2a5935440",
   "metadata": {
    "tags": []
   },
   "source": [
    "### Topic distribution across documents"
   ]
  },
  {
   "cell_type": "code",
   "execution_count": 61,
   "id": "e1695dc0-dc55-4ed8-8636-14b13e5cfb70",
   "metadata": {},
   "outputs": [
    {
     "data": {
      "text/html": [
       "<div>\n",
       "<style scoped>\n",
       "    .dataframe tbody tr th:only-of-type {\n",
       "        vertical-align: middle;\n",
       "    }\n",
       "\n",
       "    .dataframe tbody tr th {\n",
       "        vertical-align: top;\n",
       "    }\n",
       "\n",
       "    .dataframe thead th {\n",
       "        text-align: right;\n",
       "    }\n",
       "</style>\n",
       "<table border=\"1\" class=\"dataframe\">\n",
       "  <thead>\n",
       "    <tr style=\"text-align: right;\">\n",
       "      <th></th>\n",
       "      <th>Dominant_Topic</th>\n",
       "      <th>Topic_Keywords</th>\n",
       "      <th>Num_Documents</th>\n",
       "      <th>Perc_Documents</th>\n",
       "    </tr>\n",
       "  </thead>\n",
       "  <tbody>\n",
       "    <tr>\n",
       "      <th>0.0</th>\n",
       "      <td>8.0</td>\n",
       "      <td>climate, big, change, oil, crisis, use, downpl...</td>\n",
       "      <td>995.0</td>\n",
       "      <td>0.0473</td>\n",
       "    </tr>\n",
       "    <tr>\n",
       "      <th>1.0</th>\n",
       "      <td>0.0</td>\n",
       "      <td>business, plan, climate, know, exxon, emission...</td>\n",
       "      <td>2630.0</td>\n",
       "      <td>0.1251</td>\n",
       "    </tr>\n",
       "    <tr>\n",
       "      <th>2.0</th>\n",
       "      <td>0.0</td>\n",
       "      <td>business, plan, climate, know, exxon, emission...</td>\n",
       "      <td>589.0</td>\n",
       "      <td>0.0280</td>\n",
       "    </tr>\n",
       "    <tr>\n",
       "      <th>3.0</th>\n",
       "      <td>4.0</td>\n",
       "      <td>fuel, fossil, pressure, sue, climate, corporat...</td>\n",
       "      <td>3163.0</td>\n",
       "      <td>0.1504</td>\n",
       "    </tr>\n",
       "    <tr>\n",
       "      <th>4.0</th>\n",
       "      <td>4.0</td>\n",
       "      <td>fuel, fossil, pressure, sue, climate, corporat...</td>\n",
       "      <td>984.0</td>\n",
       "      <td>0.0468</td>\n",
       "    </tr>\n",
       "    <tr>\n",
       "      <th>5.0</th>\n",
       "      <td>0.0</td>\n",
       "      <td>business, plan, climate, know, exxon, emission...</td>\n",
       "      <td>2430.0</td>\n",
       "      <td>0.1156</td>\n",
       "    </tr>\n",
       "    <tr>\n",
       "      <th>6.0</th>\n",
       "      <td>4.0</td>\n",
       "      <td>fuel, fossil, pressure, sue, climate, corporat...</td>\n",
       "      <td>2373.0</td>\n",
       "      <td>0.1128</td>\n",
       "    </tr>\n",
       "    <tr>\n",
       "      <th>7.0</th>\n",
       "      <td>1.0</td>\n",
       "      <td>climate, oil, amp, industry, company, change, ...</td>\n",
       "      <td>1615.0</td>\n",
       "      <td>0.0768</td>\n",
       "    </tr>\n",
       "    <tr>\n",
       "      <th>8.0</th>\n",
       "      <td>9.0</td>\n",
       "      <td>climate, seat, oil, change, vote, board, giant...</td>\n",
       "      <td>3142.0</td>\n",
       "      <td>0.1494</td>\n",
       "    </tr>\n",
       "    <tr>\n",
       "      <th>9.0</th>\n",
       "      <td>9.0</td>\n",
       "      <td>climate, seat, oil, change, vote, board, giant...</td>\n",
       "      <td>3108.0</td>\n",
       "      <td>0.1478</td>\n",
       "    </tr>\n",
       "  </tbody>\n",
       "</table>\n",
       "</div>"
      ],
      "text/plain": [
       "     Dominant_Topic                                     Topic_Keywords  \\\n",
       "0.0             8.0  climate, big, change, oil, crisis, use, downpl...   \n",
       "1.0             0.0  business, plan, climate, know, exxon, emission...   \n",
       "2.0             0.0  business, plan, climate, know, exxon, emission...   \n",
       "3.0             4.0  fuel, fossil, pressure, sue, climate, corporat...   \n",
       "4.0             4.0  fuel, fossil, pressure, sue, climate, corporat...   \n",
       "5.0             0.0  business, plan, climate, know, exxon, emission...   \n",
       "6.0             4.0  fuel, fossil, pressure, sue, climate, corporat...   \n",
       "7.0             1.0  climate, oil, amp, industry, company, change, ...   \n",
       "8.0             9.0  climate, seat, oil, change, vote, board, giant...   \n",
       "9.0             9.0  climate, seat, oil, change, vote, board, giant...   \n",
       "\n",
       "     Num_Documents  Perc_Documents  \n",
       "0.0          995.0          0.0473  \n",
       "1.0         2630.0          0.1251  \n",
       "2.0          589.0          0.0280  \n",
       "3.0         3163.0          0.1504  \n",
       "4.0          984.0          0.0468  \n",
       "5.0         2430.0          0.1156  \n",
       "6.0         2373.0          0.1128  \n",
       "7.0         1615.0          0.0768  \n",
       "8.0         3142.0          0.1494  \n",
       "9.0         3108.0          0.1478  "
      ]
     },
     "execution_count": 61,
     "metadata": {},
     "output_type": "execute_result"
    }
   ],
   "source": [
    "# Number of Documents for Each Topic\n",
    "topic_counts = df_topic_sents_keywords['Dominant_Topic'].value_counts()\n",
    "\n",
    "# Percentage of Documents for Each Topic\n",
    "topic_contribution = round(topic_counts/topic_counts.sum(), 4)\n",
    "\n",
    "# Topic Number and Keywords\n",
    "topic_num_keywords = df_topic_sents_keywords[['Dominant_Topic', 'Topic_Keywords']]\n",
    "\n",
    "# Concatenate Column wise\n",
    "df_dominant_topics = pd.concat([topic_num_keywords, topic_counts, topic_contribution], axis=1)\n",
    "\n",
    "# Change Column names\n",
    "df_dominant_topics.columns = ['Dominant_Topic', 'Topic_Keywords', 'Num_Documents', 'Perc_Documents']\n",
    "\n",
    "# Show\n",
    "df_dominant_topics.head(10)"
   ]
  },
  {
   "cell_type": "code",
   "execution_count": null,
   "id": "45614d3e-d5fc-4bc4-a25f-61ab57f845a3",
   "metadata": {},
   "outputs": [],
   "source": []
  },
  {
   "cell_type": "code",
   "execution_count": null,
   "id": "7703e154-4778-4825-b928-53d55e502849",
   "metadata": {},
   "outputs": [],
   "source": []
  }
 ],
 "metadata": {
  "kernelspec": {
   "display_name": "Python 3 (ipykernel)",
   "language": "python",
   "name": "python3"
  },
  "language_info": {
   "codemirror_mode": {
    "name": "ipython",
    "version": 3
   },
   "file_extension": ".py",
   "mimetype": "text/x-python",
   "name": "python",
   "nbconvert_exporter": "python",
   "pygments_lexer": "ipython3",
   "version": "3.9.7"
  }
 },
 "nbformat": 4,
 "nbformat_minor": 5
}
