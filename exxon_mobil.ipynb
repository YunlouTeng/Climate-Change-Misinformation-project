{
 "cells": [
  {
   "cell_type": "code",
   "execution_count": 1,
   "id": "3911a094-8aa5-4ad9-b24a-00fa2046e847",
   "metadata": {},
   "outputs": [],
   "source": [
    "import re\n",
    "import json\n",
    "import numpy as np\n",
    "import pandas as pd\n",
    "from pprint import pprint\n",
    "import seaborn as sns\n",
    "\n",
    "# NLTK Stop words\n",
    "import nltk\n",
    "from nltk import word_tokenize, FreqDist\n",
    "from nltk.corpus import stopwords\n",
    "from nltk.stem import WordNetLemmatizer\n",
    "from nltk.tokenize import TweetTokenizer\n",
    "\n",
    "# spacy for lemmatization\n",
    "import spacy\n",
    "\n",
    "#remove urls, mentions, emojis \n",
    "import preprocessor as p\n",
    "\n",
    "# Gensim\n",
    "import gensim\n",
    "import gensim.corpora as corpora\n",
    "from gensim.utils import simple_preprocess\n",
    "from gensim.models import CoherenceModel\n",
    "\n",
    "# Plotting tools\n",
    "import pyLDAvis\n",
    "import pyLDAvis.gensim_models  \n",
    "import matplotlib.pyplot as plt"
   ]
  },
  {
   "cell_type": "code",
   "execution_count": 2,
   "id": "01936baf-d833-49d0-9aca-11cfeceac718",
   "metadata": {},
   "outputs": [],
   "source": [
    "filepath = '/Users/lavine/Desktop/Terriers!/misinformation project/data/data.txt'"
   ]
  },
  {
   "cell_type": "markdown",
   "id": "2c5aa15e-14fe-4d05-9462-3e5b84aed595",
   "metadata": {
    "tags": []
   },
   "source": [
    "### Create a dataframe by every columns"
   ]
  },
  {
   "cell_type": "code",
   "execution_count": 3,
   "id": "1d9ce5af-9975-4db1-bf43-64d4a2f34184",
   "metadata": {},
   "outputs": [],
   "source": [
    "#load all the JSON objects in one list as dictionaries\n",
    "data = []\n",
    "with open(filepath,'r') as f:\n",
    "    for line in f:\n",
    "        data.append(json.loads(line))"
   ]
  },
  {
   "cell_type": "code",
   "execution_count": 11,
   "id": "7ffb3d4f-05dc-421e-865a-f671418b3e15",
   "metadata": {},
   "outputs": [
    {
     "data": {
      "text/plain": [
       "\"I'm thinking about writing a satire where the U.S. Congress is blocked from taking action on the climate by a Senator who owns a coal company, lives on a yacht and speaks daily with Exxon lobbyists -- but I'm worried people will think it's too on the nose. 😔\""
      ]
     },
     "execution_count": 11,
     "metadata": {},
     "output_type": "execute_result"
    }
   ],
   "source": [
    "data[2]['referenced_tweets'][0]['text']"
   ]
  },
  {
   "cell_type": "code",
   "execution_count": 13,
   "id": "047709f8-ac5a-4db6-8faa-aad6ecb46d71",
   "metadata": {},
   "outputs": [
    {
     "data": {
      "text/plain": [
       "[{'type': 'retweeted',\n",
       "  'id': '1476696095963058177',\n",
       "  'lang': 'en',\n",
       "  'possibly_sensitive': False,\n",
       "  'author_id': '2181341294',\n",
       "  'text': '@ScottGrimnes @MaMan564 @SoFarFletched ‘We’ started calling it ‘climate change’ when Exxon Mobile did a very successful PR campaign in the 90’s. Apparently ‘global warming’ is too specific and scary. But It’s global warming. https://t.co/WPetiWDQG3',\n",
       "  'entities': {'annotations': [{'start': 85,\n",
       "     'end': 96,\n",
       "     'probability': 0.581,\n",
       "     'type': 'Organization',\n",
       "     'normalized_text': 'Exxon Mobile'}],\n",
       "   'urls': [{'start': 225,\n",
       "     'end': 248,\n",
       "     'url': 'https://t.co/WPetiWDQG3',\n",
       "     'expanded_url': 'http://Exxonknew.org',\n",
       "     'display_url': 'Exxonknew.org'}],\n",
       "   'mentions': [{'start': 0,\n",
       "     'end': 13,\n",
       "     'username': 'ScottGrimnes',\n",
       "     'id': '847597746043342848',\n",
       "     'verified': False,\n",
       "     'created_at': '2017-03-30T23:53:45.000Z',\n",
       "     'location': 'Arizona, USA',\n",
       "     'public_metrics': {'followers_count': 357,\n",
       "      'following_count': 708,\n",
       "      'tweet_count': 19119,\n",
       "      'listed_count': 0},\n",
       "     'name': 'Scott Grimnes',\n",
       "     'description': 'PNW boy living in the Desert. Life is about Balance.',\n",
       "     'protected': False,\n",
       "     'url': '',\n",
       "     'profile_image_url': 'https://pbs.twimg.com/profile_images/1274786865522991105/PXfSI9wF_normal.jpg'},\n",
       "    {'start': 14,\n",
       "     'end': 23,\n",
       "     'username': 'MaMan564',\n",
       "     'id': '1269846144869298176',\n",
       "     'verified': False,\n",
       "     'created_at': '2020-06-08T04:18:20.000Z',\n",
       "     'public_metrics': {'followers_count': 141,\n",
       "      'following_count': 695,\n",
       "      'tweet_count': 5747,\n",
       "      'listed_count': 0},\n",
       "     'name': 'Ma Man',\n",
       "     'description': '',\n",
       "     'protected': False,\n",
       "     'url': '',\n",
       "     'profile_image_url': 'https://abs.twimg.com/sticky/default_profile_images/default_profile_normal.png'},\n",
       "    {'start': 24,\n",
       "     'end': 38,\n",
       "     'username': 'SoFarFletched',\n",
       "     'id': '2251014270',\n",
       "     'verified': False,\n",
       "     'created_at': '2013-12-17T21:48:49.000Z',\n",
       "     'location': 'Huntington Beach, CA',\n",
       "     'public_metrics': {'followers_count': 357,\n",
       "      'following_count': 874,\n",
       "      'tweet_count': 1304,\n",
       "      'listed_count': 4},\n",
       "     'name': 'Jason Fletcher',\n",
       "     'description': 'Director, Digital at Mastercard Luxury Card | Lifestyle Fintech | Performance Marketing | Nutella Hater | Denver Sports Fan | Club🏠: Jason.Fletcher',\n",
       "     'protected': False,\n",
       "     'url': '',\n",
       "     'profile_image_url': 'https://pbs.twimg.com/profile_images/1076940030742953984/TxivOKeT_normal.jpg',\n",
       "     'pinned_tweet_id': '1272228402662010881'}]},\n",
       "  'referenced_tweets': [{'type': 'replied_to', 'id': '1476684617755160580'}],\n",
       "  'created_at': '2021-12-30T23:25:59.000Z',\n",
       "  'source': 'Twitter for iPhone',\n",
       "  'in_reply_to_user_id': '847597746043342848',\n",
       "  'reply_settings': 'everyone',\n",
       "  'conversation_id': '1476664863980077057',\n",
       "  'context_annotations': [{'domain': {'id': '45',\n",
       "     'name': 'Brand Vertical',\n",
       "     'description': 'Top level entities that describe a Brands industry'},\n",
       "    'entity': {'id': '781974597474263040', 'name': 'Energy'}},\n",
       "   {'domain': {'id': '46',\n",
       "     'name': 'Brand Category',\n",
       "     'description': 'Categories within Brand Verticals that narrow down the scope of Brands'},\n",
       "    'entity': {'id': '781974596723412992', 'name': 'Gas/Oil'}},\n",
       "   {'domain': {'id': '47',\n",
       "     'name': 'Brand',\n",
       "     'description': 'Brands and Companies'},\n",
       "    'entity': {'id': '10026377931', 'name': 'ExxonMobil'}},\n",
       "   {'domain': {'id': '45',\n",
       "     'name': 'Brand Vertical',\n",
       "     'description': 'Top level entities that describe a Brands industry'},\n",
       "    'entity': {'id': '781974597474263040', 'name': 'Energy'}},\n",
       "   {'domain': {'id': '46',\n",
       "     'name': 'Brand Category',\n",
       "     'description': 'Categories within Brand Verticals that narrow down the scope of Brands'},\n",
       "    'entity': {'id': '781974596723412992', 'name': 'Gas/Oil'}},\n",
       "   {'domain': {'id': '47',\n",
       "     'name': 'Brand',\n",
       "     'description': 'Brands and Companies'},\n",
       "    'entity': {'id': '10039822051', 'name': 'Exxon'}}],\n",
       "  'public_metrics': {'retweet_count': 7,\n",
       "   'reply_count': 1,\n",
       "   'like_count': 31,\n",
       "   'quote_count': 0},\n",
       "  'author': {'verified': False,\n",
       "   'created_at': '2013-11-08T03:03:46.000Z',\n",
       "   'public_metrics': {'followers_count': 585,\n",
       "    'following_count': 4999,\n",
       "    'tweet_count': 9011,\n",
       "    'listed_count': 6},\n",
       "   'name': 'CARPE_DMT',\n",
       "   'description': 'play MAD DOG 2021 https://t.co/EP5AkVshrF',\n",
       "   'protected': False,\n",
       "   'entities': {'url': {'urls': [{'start': 0,\n",
       "       'end': 23,\n",
       "       'url': 'https://t.co/wL90PAKdfG',\n",
       "       'expanded_url': 'https://virtualreality.pizza',\n",
       "       'display_url': 'virtualreality.pizza'}]},\n",
       "    'description': {'urls': [{'start': 18,\n",
       "       'end': 41,\n",
       "       'url': 'https://t.co/EP5AkVshrF',\n",
       "       'expanded_url': 'https://www.oculus.com/experiences/quest/4280512035321327/',\n",
       "       'display_url': 'oculus.com/experiences/qu…'}]}},\n",
       "   'username': 'Carpe_DMT',\n",
       "   'url': 'https://t.co/wL90PAKdfG',\n",
       "   'profile_image_url': 'https://pbs.twimg.com/profile_images/1411076556986986498/ssRjQ9bA_normal.jpg',\n",
       "   'id': '2181341294',\n",
       "   'pinned_tweet_id': '1441988376643584002'},\n",
       "  'in_reply_to_user': {'verified': False,\n",
       "   'created_at': '2017-03-30T23:53:45.000Z',\n",
       "   'location': 'Arizona, USA',\n",
       "   'public_metrics': {'followers_count': 357,\n",
       "    'following_count': 708,\n",
       "    'tweet_count': 19119,\n",
       "    'listed_count': 0},\n",
       "   'name': 'Scott Grimnes',\n",
       "   'description': 'PNW boy living in the Desert. Life is about Balance.',\n",
       "   'protected': False,\n",
       "   'username': 'ScottGrimnes',\n",
       "   'url': '',\n",
       "   'profile_image_url': 'https://pbs.twimg.com/profile_images/1274786865522991105/PXfSI9wF_normal.jpg',\n",
       "   'id': '847597746043342848'}}]"
      ]
     },
     "execution_count": 13,
     "metadata": {},
     "output_type": "execute_result"
    }
   ],
   "source": [
    "data[4]['referenced_tweets']"
   ]
  },
  {
   "cell_type": "markdown",
   "id": "461a17e1-b7bd-41f8-852d-3260c48784ee",
   "metadata": {},
   "source": [
    " #### Put the text data in one list"
   ]
  },
  {
   "cell_type": "markdown",
   "id": "e1ba2fbf-e5ec-464c-8b6c-8f755bd24224",
   "metadata": {},
   "source": [
    "not original:\n",
    "referenced_tweet in i:\n",
    " == retweet \n",
    " \n",
    "lst_\n",
    "\n",
    "\n",
    "original:\n",
    "if not 'referenced_tweets' in i\n",
    "\n",
    "lst_o_text.append(i['text'])\n",
    "\n"
   ]
  },
  {
   "cell_type": "markdown",
   "id": "fae72b75-2e31-4eeb-8207-5db49fa05477",
   "metadata": {},
   "source": [
    "#retrive text and avoid truncated text when retweet without quoting\n",
    "lst_o_text = []\n",
    "lst_ret_text = []\n",
    "lst_rep_text = []\n",
    "\n",
    "for i in data:    \n",
    "    if 'referenced_tweets' in i:\n",
    "        if i['referenced_tweets'][0]['type'] != 'retweeted':\n",
    "            lst_text.append(i['referenced_tweets'][0]['text'])\n",
    "        else:\n",
    "            lst_text.append(i['text'])\n",
    "    else:\n",
    "        lst_text.append(i['text'])"
   ]
  },
  {
   "cell_type": "code",
   "execution_count": 15,
   "id": "5f5f8967-f8d6-4a4f-a72b-a71ba0eaba60",
   "metadata": {},
   "outputs": [],
   "source": [
    "lst_o_text = []\n",
    "\n",
    "for i in data:\n",
    "    if not 'referenced_tweets' in i:\n",
    "        lst_o_text.append(i['text'])"
   ]
  },
  {
   "cell_type": "markdown",
   "id": "8768c389-a75e-45af-be8b-cf8940199c75",
   "metadata": {},
   "source": [
    " #### Put the author info in list"
   ]
  },
  {
   "cell_type": "code",
   "execution_count": 8,
   "id": "f3ad13fe-db12-4fe4-a859-87dd1586bebe",
   "metadata": {},
   "outputs": [
    {
     "data": {
      "text/plain": [
       "dict_keys(['lang', 'id', 'possibly_sensitive', 'author_id', 'text', 'referenced_tweets', 'created_at', 'source', 'entities', 'in_reply_to_user_id', 'reply_settings', 'conversation_id', 'public_metrics', 'author', 'in_reply_to_user', '__twarc'])"
      ]
     },
     "execution_count": 8,
     "metadata": {},
     "output_type": "execute_result"
    }
   ],
   "source": [
    "data[0].keys()"
   ]
  },
  {
   "cell_type": "markdown",
   "id": "70882ac5-c59d-4020-b77f-dae8dc32b489",
   "metadata": {},
   "source": [
    " ##### 'id', 'author_id', 'conversation_id', 'author'"
   ]
  },
  {
   "cell_type": "code",
   "execution_count": 9,
   "id": "98da3718-a811-41dc-b879-4b862fd2cc95",
   "metadata": {},
   "outputs": [],
   "source": [
    "#create lists for id, author id and conversation\n",
    "lst_id = []\n",
    "lst_lang = []\n",
    "lst_author_id = []\n",
    "lst_conversation_id = []\n",
    "for i in data:\n",
    "    lst_id.append(i['id'])\n",
    "    lst_lang.append(i['lang'])\n",
    "    lst_author_id.append(i['author_id'])\n",
    "    lst_conversation_id.append(i['conversation_id'])"
   ]
  },
  {
   "cell_type": "markdown",
   "id": "c6a95d19-4d5a-49ca-9f34-d4fd0a8c2fda",
   "metadata": {},
   "source": [
    "There are too much info in author dictionary"
   ]
  },
  {
   "cell_type": "code",
   "execution_count": 11,
   "id": "d8402d33-10ed-4271-a81e-c53ead6b3117",
   "metadata": {},
   "outputs": [],
   "source": [
    "#lst verified or not, author name and author username\n",
    "lst_author_verified = []\n",
    "lst_author_name = []\n",
    "lst_author_username = []\n",
    "for i in data:\n",
    "    lst_author_verified.append(i['author']['verified'])\n",
    "    lst_author_name.append(i['author']['name'])\n",
    "    lst_author_username.append(i['author']['username'])"
   ]
  },
  {
   "cell_type": "markdown",
   "id": "26dc9a84-57a0-4a0c-b312-945a46893063",
   "metadata": {},
   "source": [
    " ##### Make creation time"
   ]
  },
  {
   "cell_type": "code",
   "execution_count": 12,
   "id": "abaac408-58a0-4fab-a4e7-1e1cd6713fe9",
   "metadata": {},
   "outputs": [],
   "source": [
    "#list creation time\n",
    "lst_twt_creation_time = []\n",
    "for i in data:\n",
    "    lst_twt_creation_time.append(i['created_at'])"
   ]
  },
  {
   "cell_type": "markdown",
   "id": "78a61f6d-633b-4c1d-a9ea-0599dfeb3afd",
   "metadata": {},
   "source": [
    "##### Put what we have in one dataframe"
   ]
  },
  {
   "cell_type": "markdown",
   "id": "c27356dd-560c-4c38-833e-1ee09bc44f64",
   "metadata": {},
   "source": [
    "lst_text,lst_id, lst_author_id,lst_conversation_id,lst_author_verified, lst_author_name, lst_author_username,lst_twt_creation_time"
   ]
  },
  {
   "cell_type": "code",
   "execution_count": 13,
   "id": "3b0e8f52-6dfe-4a2b-bbb4-c5ec3fefb98a",
   "metadata": {},
   "outputs": [],
   "source": [
    "tweets = pd.DataFrame({'text': lst_o_text,\n",
    "                  'language': lst_lang,\n",
    "                  'id': lst_id,\n",
    "                  'author_id': lst_author_id,\n",
    "                  'conversation_id': lst_conversation_id,\n",
    "                  'author_verified': lst_author_verified,\n",
    "                  'author_name': lst_author_name,\n",
    "                  'author_username': lst_author_username,\n",
    "                  'twt_creation_time': lst_twt_creation_time\n",
    "                  })"
   ]
  },
  {
   "cell_type": "code",
   "execution_count": 14,
   "id": "188315ed-e472-403c-9860-0cd9bebccca0",
   "metadata": {},
   "outputs": [],
   "source": [
    "pd.set_option(\"display.max_colwidth\", 10000)"
   ]
  },
  {
   "cell_type": "code",
   "execution_count": 15,
   "id": "5e7c9a2a-cb70-427a-900a-44f7c76611c0",
   "metadata": {},
   "outputs": [],
   "source": [
    "tweets.drop(tweets[tweets['language'] != 'en'].index, inplace = True)"
   ]
  },
  {
   "cell_type": "code",
   "execution_count": 16,
   "id": "dbe06b4c-50a9-47c3-a3bc-b9802eaa7822",
   "metadata": {},
   "outputs": [
    {
     "data": {
      "text/html": [
       "<div>\n",
       "<style scoped>\n",
       "    .dataframe tbody tr th:only-of-type {\n",
       "        vertical-align: middle;\n",
       "    }\n",
       "\n",
       "    .dataframe tbody tr th {\n",
       "        vertical-align: top;\n",
       "    }\n",
       "\n",
       "    .dataframe thead th {\n",
       "        text-align: right;\n",
       "    }\n",
       "</style>\n",
       "<table border=\"1\" class=\"dataframe\">\n",
       "  <thead>\n",
       "    <tr style=\"text-align: right;\">\n",
       "      <th></th>\n",
       "      <th>text</th>\n",
       "      <th>language</th>\n",
       "      <th>id</th>\n",
       "      <th>author_id</th>\n",
       "      <th>conversation_id</th>\n",
       "      <th>author_verified</th>\n",
       "      <th>author_name</th>\n",
       "      <th>author_username</th>\n",
       "      <th>twt_creation_time</th>\n",
       "    </tr>\n",
       "  </thead>\n",
       "  <tbody>\n",
       "    <tr>\n",
       "      <th>2</th>\n",
       "      <td>I'm thinking about writing a satire where the U.S. Congress is blocked from taking action on the climate by a Senator who owns a coal company, lives on a yacht and speaks daily with Exxon lobbyists -- but I'm worried people will think it's too on the nose. 😔</td>\n",
       "      <td>en</td>\n",
       "      <td>1477059914015125507</td>\n",
       "      <td>2732778706</td>\n",
       "      <td>1477059914015125507</td>\n",
       "      <td>False</td>\n",
       "      <td>Tai Chi</td>\n",
       "      <td>TaiWendysb</td>\n",
       "      <td>2021-12-31T23:31:40.000Z</td>\n",
       "    </tr>\n",
       "    <tr>\n",
       "      <th>3</th>\n",
       "      <td>@Mum2Mrs @oshima9 no, capitalists are the cause.\\nhttps://t.co/VyFfKhY2Yp</td>\n",
       "      <td>en</td>\n",
       "      <td>1477056800889323523</td>\n",
       "      <td>414239235</td>\n",
       "      <td>1477056800889323523</td>\n",
       "      <td>False</td>\n",
       "      <td>Richard Estes</td>\n",
       "      <td>oshima9</td>\n",
       "      <td>2021-12-31T23:19:18.000Z</td>\n",
       "    </tr>\n",
       "    <tr>\n",
       "      <th>4</th>\n",
       "      <td>@ScottGrimnes @MaMan564 @SoFarFletched ‘We’ started calling it ‘climate change’ when Exxon Mobile did a very successful PR campaign in the 90’s. Apparently ‘global warming’ is too specific and scary. But It’s global warming. https://t.co/WPetiWDQG3</td>\n",
       "      <td>en</td>\n",
       "      <td>1477046502400868359</td>\n",
       "      <td>824946672673361920</td>\n",
       "      <td>1477046502400868359</td>\n",
       "      <td>False</td>\n",
       "      <td>Kris</td>\n",
       "      <td>writing_callous</td>\n",
       "      <td>2021-12-31T22:38:23.000Z</td>\n",
       "    </tr>\n",
       "    <tr>\n",
       "      <th>5</th>\n",
       "      <td>I'm thinking about writing a satire where the U.S. Congress is blocked from taking action on the climate by a Senator who owns a coal company, lives on a yacht and speaks daily with Exxon lobbyists -- but I'm worried people will think it's too on the nose. 😔</td>\n",
       "      <td>en</td>\n",
       "      <td>1477040827503362057</td>\n",
       "      <td>2429328178</td>\n",
       "      <td>1477040827503362057</td>\n",
       "      <td>False</td>\n",
       "      <td>David💙l🇪🇺#FindMissyandBiscuit</td>\n",
       "      <td>David96212152</td>\n",
       "      <td>2021-12-31T22:15:50.000Z</td>\n",
       "    </tr>\n",
       "    <tr>\n",
       "      <th>6</th>\n",
       "      <td>@Mum2Mrs @oshima9 no, capitalists are the cause.\\nhttps://t.co/VyFfKhY2Yp</td>\n",
       "      <td>en</td>\n",
       "      <td>1477035647462363141</td>\n",
       "      <td>795750344970141701</td>\n",
       "      <td>1476641658636693513</td>\n",
       "      <td>False</td>\n",
       "      <td>☭🇵🇸🇾🇪🇸🇾</td>\n",
       "      <td>zia_kat</td>\n",
       "      <td>2021-12-31T21:55:15.000Z</td>\n",
       "    </tr>\n",
       "  </tbody>\n",
       "</table>\n",
       "</div>"
      ],
      "text/plain": [
       "                                                                                                                                                                                                                                                                 text  \\\n",
       "2  I'm thinking about writing a satire where the U.S. Congress is blocked from taking action on the climate by a Senator who owns a coal company, lives on a yacht and speaks daily with Exxon lobbyists -- but I'm worried people will think it's too on the nose. 😔   \n",
       "3                                                                                                                                                                                           @Mum2Mrs @oshima9 no, capitalists are the cause.\\nhttps://t.co/VyFfKhY2Yp   \n",
       "4            @ScottGrimnes @MaMan564 @SoFarFletched ‘We’ started calling it ‘climate change’ when Exxon Mobile did a very successful PR campaign in the 90’s. Apparently ‘global warming’ is too specific and scary. But It’s global warming. https://t.co/WPetiWDQG3   \n",
       "5  I'm thinking about writing a satire where the U.S. Congress is blocked from taking action on the climate by a Senator who owns a coal company, lives on a yacht and speaks daily with Exxon lobbyists -- but I'm worried people will think it's too on the nose. 😔   \n",
       "6                                                                                                                                                                                           @Mum2Mrs @oshima9 no, capitalists are the cause.\\nhttps://t.co/VyFfKhY2Yp   \n",
       "\n",
       "  language                   id           author_id      conversation_id  \\\n",
       "2       en  1477059914015125507          2732778706  1477059914015125507   \n",
       "3       en  1477056800889323523           414239235  1477056800889323523   \n",
       "4       en  1477046502400868359  824946672673361920  1477046502400868359   \n",
       "5       en  1477040827503362057          2429328178  1477040827503362057   \n",
       "6       en  1477035647462363141  795750344970141701  1476641658636693513   \n",
       "\n",
       "   author_verified                    author_name  author_username  \\\n",
       "2            False                        Tai Chi       TaiWendysb   \n",
       "3            False                  Richard Estes          oshima9   \n",
       "4            False                           Kris  writing_callous   \n",
       "5            False  David💙l🇪🇺#FindMissyandBiscuit    David96212152   \n",
       "6            False                        ☭🇵🇸🇾🇪🇸🇾          zia_kat   \n",
       "\n",
       "          twt_creation_time  \n",
       "2  2021-12-31T23:31:40.000Z  \n",
       "3  2021-12-31T23:19:18.000Z  \n",
       "4  2021-12-31T22:38:23.000Z  \n",
       "5  2021-12-31T22:15:50.000Z  \n",
       "6  2021-12-31T21:55:15.000Z  "
      ]
     },
     "execution_count": 16,
     "metadata": {},
     "output_type": "execute_result"
    }
   ],
   "source": [
    "tweets.head()"
   ]
  },
  {
   "cell_type": "markdown",
   "id": "87f8239d-0094-46e7-ab51-c559cb9963fa",
   "metadata": {
    "tags": []
   },
   "source": [
    "### Data preprocessing"
   ]
  },
  {
   "cell_type": "code",
   "execution_count": 17,
   "id": "7ae12cec-2bd4-43dc-bdd8-e442a6907d5d",
   "metadata": {},
   "outputs": [],
   "source": [
    "tweets['hashtag'] = tweets['text'].apply(lambda x: re.findall(r\"#(\\w+)\", x))"
   ]
  },
  {
   "cell_type": "code",
   "execution_count": 18,
   "id": "8d4bb11c-5b98-452c-8ea9-e1f0f4e36ca9",
   "metadata": {},
   "outputs": [],
   "source": [
    "#forming a separate feature for cleaned tweets\n",
    "tweets['ctext'] = tweets['text'].apply(lambda x: p.clean(x))"
   ]
  },
  {
   "cell_type": "code",
   "execution_count": 19,
   "id": "9b9e878d-4990-4b58-85f2-2e42650a652f",
   "metadata": {},
   "outputs": [
    {
     "data": {
      "text/html": [
       "<div>\n",
       "<style scoped>\n",
       "    .dataframe tbody tr th:only-of-type {\n",
       "        vertical-align: middle;\n",
       "    }\n",
       "\n",
       "    .dataframe tbody tr th {\n",
       "        vertical-align: top;\n",
       "    }\n",
       "\n",
       "    .dataframe thead th {\n",
       "        text-align: right;\n",
       "    }\n",
       "</style>\n",
       "<table border=\"1\" class=\"dataframe\">\n",
       "  <thead>\n",
       "    <tr style=\"text-align: right;\">\n",
       "      <th></th>\n",
       "      <th>text</th>\n",
       "      <th>language</th>\n",
       "      <th>id</th>\n",
       "      <th>author_id</th>\n",
       "      <th>conversation_id</th>\n",
       "      <th>author_verified</th>\n",
       "      <th>author_name</th>\n",
       "      <th>author_username</th>\n",
       "      <th>twt_creation_time</th>\n",
       "      <th>hashtag</th>\n",
       "      <th>ctext</th>\n",
       "    </tr>\n",
       "  </thead>\n",
       "  <tbody>\n",
       "    <tr>\n",
       "      <th>2</th>\n",
       "      <td>I'm thinking about writing a satire where the U.S. Congress is blocked from taking action on the climate by a Senator who owns a coal company, lives on a yacht and speaks daily with Exxon lobbyists -- but I'm worried people will think it's too on the nose. 😔</td>\n",
       "      <td>en</td>\n",
       "      <td>1477059914015125507</td>\n",
       "      <td>2732778706</td>\n",
       "      <td>1477059914015125507</td>\n",
       "      <td>False</td>\n",
       "      <td>Tai Chi</td>\n",
       "      <td>TaiWendysb</td>\n",
       "      <td>2021-12-31T23:31:40.000Z</td>\n",
       "      <td>[]</td>\n",
       "      <td>I'm thinking about writing a satire where the U.S. Congress is blocked from taking action on the climate by a Senator who owns a coal company, lives on a yacht and speaks daily with Exxon lobbyists -- but I'm worried people will think it's too on the nose.</td>\n",
       "    </tr>\n",
       "    <tr>\n",
       "      <th>3</th>\n",
       "      <td>@Mum2Mrs @oshima9 no, capitalists are the cause.\\nhttps://t.co/VyFfKhY2Yp</td>\n",
       "      <td>en</td>\n",
       "      <td>1477056800889323523</td>\n",
       "      <td>414239235</td>\n",
       "      <td>1477056800889323523</td>\n",
       "      <td>False</td>\n",
       "      <td>Richard Estes</td>\n",
       "      <td>oshima9</td>\n",
       "      <td>2021-12-31T23:19:18.000Z</td>\n",
       "      <td>[]</td>\n",
       "      <td>no, capitalists are the cause.</td>\n",
       "    </tr>\n",
       "    <tr>\n",
       "      <th>4</th>\n",
       "      <td>@ScottGrimnes @MaMan564 @SoFarFletched ‘We’ started calling it ‘climate change’ when Exxon Mobile did a very successful PR campaign in the 90’s. Apparently ‘global warming’ is too specific and scary. But It’s global warming. https://t.co/WPetiWDQG3</td>\n",
       "      <td>en</td>\n",
       "      <td>1477046502400868359</td>\n",
       "      <td>824946672673361920</td>\n",
       "      <td>1477046502400868359</td>\n",
       "      <td>False</td>\n",
       "      <td>Kris</td>\n",
       "      <td>writing_callous</td>\n",
       "      <td>2021-12-31T22:38:23.000Z</td>\n",
       "      <td>[]</td>\n",
       "      <td>We started calling it climate change when Exxon Mobile did a very successful PR campaign in the s. Apparently global warming is too specific and scary. But Its global warming.</td>\n",
       "    </tr>\n",
       "  </tbody>\n",
       "</table>\n",
       "</div>"
      ],
      "text/plain": [
       "                                                                                                                                                                                                                                                                 text  \\\n",
       "2  I'm thinking about writing a satire where the U.S. Congress is blocked from taking action on the climate by a Senator who owns a coal company, lives on a yacht and speaks daily with Exxon lobbyists -- but I'm worried people will think it's too on the nose. 😔   \n",
       "3                                                                                                                                                                                           @Mum2Mrs @oshima9 no, capitalists are the cause.\\nhttps://t.co/VyFfKhY2Yp   \n",
       "4            @ScottGrimnes @MaMan564 @SoFarFletched ‘We’ started calling it ‘climate change’ when Exxon Mobile did a very successful PR campaign in the 90’s. Apparently ‘global warming’ is too specific and scary. But It’s global warming. https://t.co/WPetiWDQG3   \n",
       "\n",
       "  language                   id           author_id      conversation_id  \\\n",
       "2       en  1477059914015125507          2732778706  1477059914015125507   \n",
       "3       en  1477056800889323523           414239235  1477056800889323523   \n",
       "4       en  1477046502400868359  824946672673361920  1477046502400868359   \n",
       "\n",
       "   author_verified    author_name  author_username         twt_creation_time  \\\n",
       "2            False        Tai Chi       TaiWendysb  2021-12-31T23:31:40.000Z   \n",
       "3            False  Richard Estes          oshima9  2021-12-31T23:19:18.000Z   \n",
       "4            False           Kris  writing_callous  2021-12-31T22:38:23.000Z   \n",
       "\n",
       "  hashtag  \\\n",
       "2      []   \n",
       "3      []   \n",
       "4      []   \n",
       "\n",
       "                                                                                                                                                                                                                                                              ctext  \n",
       "2  I'm thinking about writing a satire where the U.S. Congress is blocked from taking action on the climate by a Senator who owns a coal company, lives on a yacht and speaks daily with Exxon lobbyists -- but I'm worried people will think it's too on the nose.  \n",
       "3                                                                                                                                                                                                                                    no, capitalists are the cause.  \n",
       "4                                                                                   We started calling it climate change when Exxon Mobile did a very successful PR campaign in the s. Apparently global warming is too specific and scary. But Its global warming.  "
      ]
     },
     "execution_count": 19,
     "metadata": {},
     "output_type": "execute_result"
    }
   ],
   "source": [
    "tweets.head(3)"
   ]
  },
  {
   "cell_type": "code",
   "execution_count": 65,
   "id": "e458abf3-644f-47bd-b8c6-43f7d4491501",
   "metadata": {},
   "outputs": [
    {
     "data": {
      "text/html": [
       "<div>\n",
       "<style scoped>\n",
       "    .dataframe tbody tr th:only-of-type {\n",
       "        vertical-align: middle;\n",
       "    }\n",
       "\n",
       "    .dataframe tbody tr th {\n",
       "        vertical-align: top;\n",
       "    }\n",
       "\n",
       "    .dataframe thead th {\n",
       "        text-align: right;\n",
       "    }\n",
       "</style>\n",
       "<table border=\"1\" class=\"dataframe\">\n",
       "  <thead>\n",
       "    <tr style=\"text-align: right;\">\n",
       "      <th></th>\n",
       "      <th>text</th>\n",
       "      <th>language</th>\n",
       "      <th>id</th>\n",
       "      <th>author_id</th>\n",
       "      <th>conversation_id</th>\n",
       "      <th>author_verified</th>\n",
       "      <th>author_name</th>\n",
       "      <th>author_username</th>\n",
       "      <th>twt_creation_time</th>\n",
       "      <th>hashtag</th>\n",
       "      <th>ctext</th>\n",
       "    </tr>\n",
       "  </thead>\n",
       "  <tbody>\n",
       "    <tr>\n",
       "      <th>3</th>\n",
       "      <td>@Mum2Mrs @oshima9 no, capitalists are the cause.\\nhttps://t.co/VyFfKhY2Yp</td>\n",
       "      <td>en</td>\n",
       "      <td>1477056800889323523</td>\n",
       "      <td>414239235</td>\n",
       "      <td>1477056800889323523</td>\n",
       "      <td>False</td>\n",
       "      <td>Richard Estes</td>\n",
       "      <td>oshima9</td>\n",
       "      <td>2021-12-31T23:19:18.000Z</td>\n",
       "      <td>[]</td>\n",
       "      <td>no, capitalists are the cause.</td>\n",
       "    </tr>\n",
       "    <tr>\n",
       "      <th>6</th>\n",
       "      <td>@Mum2Mrs @oshima9 no, capitalists are the cause.\\nhttps://t.co/VyFfKhY2Yp</td>\n",
       "      <td>en</td>\n",
       "      <td>1477035647462363141</td>\n",
       "      <td>795750344970141701</td>\n",
       "      <td>1476641658636693513</td>\n",
       "      <td>False</td>\n",
       "      <td>☭🇵🇸🇾🇪🇸🇾</td>\n",
       "      <td>zia_kat</td>\n",
       "      <td>2021-12-31T21:55:15.000Z</td>\n",
       "      <td>[]</td>\n",
       "      <td>no, capitalists are the cause.</td>\n",
       "    </tr>\n",
       "  </tbody>\n",
       "</table>\n",
       "</div>"
      ],
      "text/plain": [
       "                                                                        text  \\\n",
       "3  @Mum2Mrs @oshima9 no, capitalists are the cause.\\nhttps://t.co/VyFfKhY2Yp   \n",
       "6  @Mum2Mrs @oshima9 no, capitalists are the cause.\\nhttps://t.co/VyFfKhY2Yp   \n",
       "\n",
       "  language                   id           author_id      conversation_id  \\\n",
       "3       en  1477056800889323523           414239235  1477056800889323523   \n",
       "6       en  1477035647462363141  795750344970141701  1476641658636693513   \n",
       "\n",
       "   author_verified    author_name author_username         twt_creation_time  \\\n",
       "3            False  Richard Estes         oshima9  2021-12-31T23:19:18.000Z   \n",
       "6            False        ☭🇵🇸🇾🇪🇸🇾         zia_kat  2021-12-31T21:55:15.000Z   \n",
       "\n",
       "  hashtag                           ctext  \n",
       "3      []  no, capitalists are the cause.  \n",
       "6      []  no, capitalists are the cause.  "
      ]
     },
     "execution_count": 65,
     "metadata": {},
     "output_type": "execute_result"
    }
   ],
   "source": []
  },
  {
   "cell_type": "code",
   "execution_count": 71,
   "id": "73fc558d-1a18-4d40-8840-b0638ed6d41a",
   "metadata": {},
   "outputs": [
    {
     "data": {
      "text/html": [
       "<div>\n",
       "<style scoped>\n",
       "    .dataframe tbody tr th:only-of-type {\n",
       "        vertical-align: middle;\n",
       "    }\n",
       "\n",
       "    .dataframe tbody tr th {\n",
       "        vertical-align: top;\n",
       "    }\n",
       "\n",
       "    .dataframe thead th {\n",
       "        text-align: right;\n",
       "    }\n",
       "</style>\n",
       "<table border=\"1\" class=\"dataframe\">\n",
       "  <thead>\n",
       "    <tr style=\"text-align: right;\">\n",
       "      <th></th>\n",
       "      <th>text</th>\n",
       "      <th>language</th>\n",
       "      <th>id</th>\n",
       "      <th>author_id</th>\n",
       "      <th>conversation_id</th>\n",
       "      <th>author_verified</th>\n",
       "      <th>author_name</th>\n",
       "      <th>author_username</th>\n",
       "      <th>twt_creation_time</th>\n",
       "      <th>hashtag</th>\n",
       "      <th>ctext</th>\n",
       "    </tr>\n",
       "  </thead>\n",
       "  <tbody>\n",
       "  </tbody>\n",
       "</table>\n",
       "</div>"
      ],
      "text/plain": [
       "Empty DataFrame\n",
       "Columns: [text, language, id, author_id, conversation_id, author_verified, author_name, author_username, twt_creation_time, hashtag, ctext]\n",
       "Index: []"
      ]
     },
     "execution_count": 71,
     "metadata": {},
     "output_type": "execute_result"
    }
   ],
   "source": []
  },
  {
   "cell_type": "code",
   "execution_count": 20,
   "id": "bef3a4db-2aa1-412a-b4b6-6a07696d38d7",
   "metadata": {},
   "outputs": [],
   "source": [
    "#convert to list\n",
    "ctext = tweets['ctext'].tolist()"
   ]
  },
  {
   "cell_type": "code",
   "execution_count": 21,
   "id": "25ad07de-a943-4a3d-a64e-0a555ecc16d5",
   "metadata": {},
   "outputs": [
    {
     "name": "stderr",
     "output_type": "stream",
     "text": [
      "<>:2: DeprecationWarning: invalid escape sequence \\s\n",
      "<>:2: DeprecationWarning: invalid escape sequence \\s\n",
      "/var/folders/kg/0ndh6pln2x7b6rpm16twhvpc0000gn/T/ipykernel_25328/1351202947.py:2: DeprecationWarning: invalid escape sequence \\s\n",
      "  ctext = [re.sub('\\s+', ' ', sent) for sent in ctext]\n"
     ]
    }
   ],
   "source": [
    "# Remove new line characters\n",
    "ctext = [re.sub('\\s+', ' ', sent) for sent in ctext]"
   ]
  },
  {
   "cell_type": "code",
   "execution_count": 22,
   "id": "10de78ad-cd53-4a1e-b4d8-42cf0466e43f",
   "metadata": {},
   "outputs": [],
   "source": [
    "# Remove distracting single quotes\n",
    "ctext = [re.sub(\"\\'\", \"\", sent) for sent in ctext]"
   ]
  },
  {
   "cell_type": "code",
   "execution_count": 23,
   "id": "a06b12d3-e30d-437a-82d6-8ff049bc9a56",
   "metadata": {},
   "outputs": [],
   "source": [
    "# remove punctuations\n",
    "ctext = [re.sub(r'[^\\w\\s]', '', sent) for sent in ctext]"
   ]
  },
  {
   "cell_type": "code",
   "execution_count": 24,
   "id": "e48ea990-81ac-4293-8fc2-cad5bc777db5",
   "metadata": {},
   "outputs": [
    {
     "data": {
      "text/plain": [
       "['no capitalists are the cause',\n",
       " 'We started calling it climate change when Exxon Mobile did a very successful PR campaign in the s Apparently global warming is too specific and scary But Its global warming',\n",
       " 'Im thinking about writing a satire where the US Congress is blocked from taking action on the climate by a Senator who owns a coal company lives on a yacht and speaks daily with Exxon lobbyists  but Im worried people will think its too on the nose',\n",
       " 'no capitalists are the cause']"
      ]
     },
     "execution_count": 24,
     "metadata": {},
     "output_type": "execute_result"
    }
   ],
   "source": [
    "ctext[1:5]"
   ]
  },
  {
   "cell_type": "markdown",
   "id": "eee9d1b7-d916-49e8-9467-c99192da368b",
   "metadata": {
    "tags": []
   },
   "source": [
    "### Tokenize words and further clean up text"
   ]
  },
  {
   "cell_type": "code",
   "execution_count": 25,
   "id": "f7a3bd80-1498-427b-94a2-0d0cd9273d37",
   "metadata": {},
   "outputs": [],
   "source": [
    "#tokenize each sentence into a list of words, removing punctuations and unnecessary characters altoghter"
   ]
  },
  {
   "cell_type": "code",
   "execution_count": 26,
   "id": "6b44245f-17f9-45d5-8ebd-bc0c18503060",
   "metadata": {},
   "outputs": [
    {
     "name": "stdout",
     "output_type": "stream",
     "text": [
      "[['im', 'thinking', 'about', 'writing', 'satire', 'where', 'the', 'us', 'congress', 'is', 'blocked', 'from', 'taking', 'action', 'on', 'the', 'climate', 'by', 'senator', 'who', 'owns', 'coal', 'company', 'lives', 'on', 'yacht', 'and', 'speaks', 'daily', 'with', 'exxon', 'lobbyists', 'but', 'im', 'worried', 'people', 'will', 'think', 'its', 'too', 'on', 'the', 'nose']]\n"
     ]
    }
   ],
   "source": [
    "def sent_to_words(sentences):\n",
    "    for sentence in sentences:\n",
    "        yield(gensim.utils.simple_preprocess(str(sentence), deacc=True))  # deacc=True removes punctuations\n",
    "\n",
    "tweet_words = list(sent_to_words(ctext))\n",
    "\n",
    "print(tweet_words[:1])"
   ]
  },
  {
   "cell_type": "code",
   "execution_count": 27,
   "id": "8bef03c9-848f-4004-824e-b2340c6086f1",
   "metadata": {},
   "outputs": [
    {
     "name": "stdout",
     "output_type": "stream",
     "text": [
      "['im', 'thinking', 'about_writing_satire', 'where', 'the', 'us', 'congress', 'is', 'blocked', 'from', 'taking', 'action', 'on', 'the', 'climate', 'by', 'senator', 'who', 'owns', 'coal', 'company', 'lives', 'on', 'yacht', 'and', 'speaks', 'daily', 'with', 'exxon', 'lobbyists', 'but', 'im', 'worried', 'people', 'will', 'think', 'its', 'too', 'on', 'the', 'nose']\n"
     ]
    }
   ],
   "source": [
    "# Build the bigram and trigram models\n",
    "bigram = gensim.models.Phrases(tweet_words, min_count=5, threshold=100) # higher threshold fewer phrases.\n",
    "trigram = gensim.models.Phrases(bigram[tweet_words], threshold=100)  \n",
    "\n",
    "# Faster way to get a sentence clubbed as a trigram/bigram\n",
    "bigram_mod = gensim.models.phrases.Phraser(bigram)\n",
    "trigram_mod = gensim.models.phrases.Phraser(trigram)\n",
    "\n",
    "# See trigram example\n",
    "print(trigram_mod[bigram_mod[tweet_words[0]]])"
   ]
  },
  {
   "cell_type": "markdown",
   "id": "c24a6586-a208-47dc-b7df-e84b8c5a621a",
   "metadata": {
    "tags": []
   },
   "source": [
    "### Remove Stopwords, Make Bigrams and Lemmatize"
   ]
  },
  {
   "cell_type": "code",
   "execution_count": 28,
   "id": "b527df8e-7e82-45eb-995f-64d60d7d5dcd",
   "metadata": {},
   "outputs": [],
   "source": [
    "stop_words = stopwords.words('english')\n",
    "stop_words.extend(['from', 'subject', 're', 'edu', 'use', 'm'])"
   ]
  },
  {
   "cell_type": "code",
   "execution_count": 29,
   "id": "3a9ae696-61af-40ea-8380-ea5b22393074",
   "metadata": {},
   "outputs": [],
   "source": [
    "# Define functions for stopwords, bigrams, trigrams and lemmatization\n",
    "def remove_stopwords(texts):\n",
    "    return [[word for word in simple_preprocess(str(doc)) if word not in stop_words] for doc in texts]\n",
    "\n",
    "def make_bigrams(texts):\n",
    "    return [bigram_mod[doc] for doc in texts]\n",
    "\n",
    "def make_trigrams(texts):\n",
    "    return [trigram_mod[bigram_mod[doc]] for doc in texts]"
   ]
  },
  {
   "cell_type": "code",
   "execution_count": 30,
   "id": "91edbe4c-1e69-4d5c-b09a-318a5c3047d2",
   "metadata": {},
   "outputs": [],
   "source": [
    "def lemmatization(texts, allowed_postags=['NOUN', 'ADJ', 'VERB', 'ADV']):\n",
    "    \"\"\"https://spacy.io/api/annotation\"\"\"\n",
    "    texts_out = []\n",
    "    for sent in texts:\n",
    "        doc = nlp(\" \".join(sent)) \n",
    "        texts_out.append([token.lemma_ for token in doc if token.pos_ in allowed_postags])\n",
    "    return texts_out"
   ]
  },
  {
   "cell_type": "code",
   "execution_count": 31,
   "id": "246f1398-6c05-4437-9052-fdc9f25af0b6",
   "metadata": {},
   "outputs": [],
   "source": [
    "# Remove Stop Words\n",
    "tweet_words_nostops = remove_stopwords(tweet_words)"
   ]
  },
  {
   "cell_type": "code",
   "execution_count": 32,
   "id": "29c6dc85-e89e-4ff4-a4d1-83fede7b1a5e",
   "metadata": {},
   "outputs": [],
   "source": [
    "# Form Bigrams\n",
    "tweet_words_bigrams = make_bigrams(tweet_words_nostops)"
   ]
  },
  {
   "cell_type": "code",
   "execution_count": 33,
   "id": "ccc2cc77-8a72-423b-ae6c-6546c8ade7a8",
   "metadata": {},
   "outputs": [
    {
     "name": "stdout",
     "output_type": "stream",
     "text": [
      "[['m', 'think', 'block', 'take', 'action', 'climate', 'senator', 'own', 'coal', 'company', 'live', 'yacht', 'speak', 'daily', 'lobbyist', 'm', 'worried', 'people', 'think', 'nose']]\n"
     ]
    }
   ],
   "source": [
    "# Initialize spacy 'en_core_web_sm' model, keeping only tagger component (for efficiency)\n",
    "# python3 -m spacy download en_core_web_sm\n",
    "nlp = spacy.load(\"en_core_web_sm\", disable=['parser', 'ner'])# not \"en\" any more\n",
    "\n",
    "# Do lemmatization keeping only noun, adj, vb, adv\n",
    "tweet_lemmatized = lemmatization(tweet_words_bigrams, allowed_postags=['NOUN', 'ADJ', 'VERB', 'ADV'])\n",
    "\n",
    "print(tweet_lemmatized[:1])"
   ]
  },
  {
   "cell_type": "markdown",
   "id": "805b9a70-7bf6-4b5b-8391-76185dd7cea7",
   "metadata": {
    "tags": []
   },
   "source": [
    "### Creat the dictionary and the corpus"
   ]
  },
  {
   "cell_type": "code",
   "execution_count": 34,
   "id": "045af5c1-03ce-4c46-a4ce-5d2510470d2b",
   "metadata": {},
   "outputs": [
    {
     "name": "stdout",
     "output_type": "stream",
     "text": [
      "[[(0, 1), (1, 1), (2, 1), (3, 1), (4, 1), (5, 1), (6, 1), (7, 1), (8, 2), (9, 1), (10, 1), (11, 1), (12, 1), (13, 1), (14, 1), (15, 2), (16, 1), (17, 1)]]\n"
     ]
    }
   ],
   "source": [
    "# Create Dictionary\n",
    "id2word = corpora.Dictionary(tweet_lemmatized)\n",
    "\n",
    "# Create Corpus\n",
    "texts = tweet_lemmatized\n",
    "\n",
    "# Term Document Frequency\n",
    "corpus = [id2word.doc2bow(text) for text in texts] \n",
    "\n",
    "#Gensim creates a unique id for each word in the document. \n",
    "#The produced corpus shown below is a mapping of (word_id, word_frequency(times of occurance)).\n",
    "\n",
    "# View\n",
    "print(corpus[:1])"
   ]
  },
  {
   "cell_type": "code",
   "execution_count": 35,
   "id": "494c70fb-e5f5-497a-89f3-9892a245c9d2",
   "metadata": {},
   "outputs": [
    {
     "data": {
      "text/plain": [
       "'environment'"
      ]
     },
     "execution_count": 35,
     "metadata": {},
     "output_type": "execute_result"
    }
   ],
   "source": [
    "id2word[40]"
   ]
  },
  {
   "cell_type": "code",
   "execution_count": 36,
   "id": "7c2ed933-af4b-42eb-a1f3-d6e64196b7aa",
   "metadata": {},
   "outputs": [
    {
     "data": {
      "text/plain": [
       "'company'"
      ]
     },
     "execution_count": 36,
     "metadata": {},
     "output_type": "execute_result"
    }
   ],
   "source": [
    "#If you want to see what word a given id corresponds to, pass the id as a key to the dictionary.\n",
    "id2word[4]\n",
    "\n",
    "#in put of LDA"
   ]
  },
  {
   "cell_type": "code",
   "execution_count": 37,
   "id": "5520aec4-4caa-4db2-bcad-f2eea66c6b10",
   "metadata": {},
   "outputs": [
    {
     "data": {
      "text/plain": [
       "[[('action', 1),\n",
       "  ('block', 1),\n",
       "  ('climate', 1),\n",
       "  ('coal', 1),\n",
       "  ('company', 1),\n",
       "  ('daily', 1),\n",
       "  ('live', 1),\n",
       "  ('lobbyist', 1),\n",
       "  ('m', 2),\n",
       "  ('nose', 1),\n",
       "  ('own', 1),\n",
       "  ('people', 1),\n",
       "  ('senator', 1),\n",
       "  ('speak', 1),\n",
       "  ('take', 1),\n",
       "  ('think', 2),\n",
       "  ('worried', 1),\n",
       "  ('yacht', 1)]]"
      ]
     },
     "execution_count": 37,
     "metadata": {},
     "output_type": "execute_result"
    }
   ],
   "source": [
    "# Human readable format of corpus (term-frequency)\n",
    "[[(id2word[id], freq) for id, freq in cp] for cp in corpus[:1]]"
   ]
  },
  {
   "cell_type": "markdown",
   "id": "82855c8f-5efb-4c9d-872f-6a1ac7954577",
   "metadata": {
    "tags": []
   },
   "source": [
    "### Building the Topic Model"
   ]
  },
  {
   "cell_type": "code",
   "execution_count": 51,
   "id": "fd2479a5-4314-45dd-98d5-a06ef929f664",
   "metadata": {},
   "outputs": [],
   "source": [
    "# Build LDA model\n",
    "lda_model = gensim.models.ldamodel.LdaModel(corpus=corpus,\n",
    "                                           id2word=id2word,\n",
    "                                           num_topics=4, \n",
    "                                           random_state=100,\n",
    "                                           update_every=1,\n",
    "                                           chunksize=200,\n",
    "                                           passes=10,\n",
    "                                           alpha='auto',\n",
    "                                           per_word_topics=True)"
   ]
  },
  {
   "cell_type": "code",
   "execution_count": 52,
   "id": "98c1416a-9b9f-49b1-95b7-4105946d733f",
   "metadata": {},
   "outputs": [
    {
     "name": "stdout",
     "output_type": "stream",
     "text": [
      "[(0,\n",
      "  '0.048*\"funding\" + 0.047*\"decade\" + 0.040*\"know\" + 0.033*\"plan\" + '\n",
      "  '0.032*\"denial\" + 0.031*\"money\" + 0.030*\"climate\" + 0.030*\"today\" + '\n",
      "  '0.029*\"spend\" + 0.023*\"disclose\"'),\n",
      " (1,\n",
      "  '0.097*\"emission\" + 0.060*\"fossil\" + 0.054*\"fuel\" + 0.051*\"break\" + '\n",
      "  '0.041*\"go\" + 0.040*\"cut\" + 0.037*\"chevron\" + 0.036*\"shareholder\" + '\n",
      "  '0.033*\"climate\" + 0.029*\"major\"'),\n",
      " (2,\n",
      "  '0.061*\"climate\" + 0.027*\"company\" + 0.025*\"change\" + 0.023*\"oil\" + '\n",
      "  '0.014*\"case\" + 0.014*\"big\" + 0.013*\"involve\" + 0.009*\"new\" + 0.008*\"energy\" '\n",
      "  '+ 0.008*\"job\"'),\n",
      " (3,\n",
      "  '0.122*\"know\" + 0.065*\"investment\" + 0.057*\"exxon\" + 0.054*\"emission\" + '\n",
      "  '0.051*\"show\" + 0.049*\"strategy\" + 0.047*\"rise\" + 0.046*\"commit\" + '\n",
      "  '0.043*\"yearly\" + 0.043*\"ecocide\"')]\n"
     ]
    }
   ],
   "source": [
    "# Print the Keyword in the topics\n",
    "pprint(lda_model.print_topics())\n",
    "doc_lda = lda_model[corpus]"
   ]
  },
  {
   "cell_type": "markdown",
   "id": "d2a08cd6-7d24-4d44-b4b9-398195a86847",
   "metadata": {
    "tags": []
   },
   "source": [
    "### Compute model perplexity and coherence score"
   ]
  },
  {
   "cell_type": "code",
   "execution_count": 53,
   "id": "0d82ce0a-a3f3-410d-84e0-140df9173b4a",
   "metadata": {},
   "outputs": [
    {
     "name": "stdout",
     "output_type": "stream",
     "text": [
      "\n",
      "Perplexity:  -7.597691894695228\n",
      "\n",
      "Coherence Score:  0.46153022726645476\n"
     ]
    }
   ],
   "source": [
    "# Compute Perplexity\n",
    "print('\\nPerplexity: ', lda_model.log_perplexity(corpus))  # a measure of how good the model is. lower the better.\n",
    "\n",
    "# Compute Coherence Score\n",
    "coherence_model_lda = CoherenceModel(model=lda_model, texts=tweet_lemmatized, dictionary=id2word, coherence='c_v')\n",
    "coherence_lda = coherence_model_lda.get_coherence()\n",
    "print('\\nCoherence Score: ', coherence_lda)"
   ]
  },
  {
   "cell_type": "code",
   "execution_count": 54,
   "id": "77942d7d-c8f8-4bd2-9df3-2fd7cdbb7ece",
   "metadata": {},
   "outputs": [
    {
     "name": "stderr",
     "output_type": "stream",
     "text": [
      "/opt/anaconda3/lib/python3.9/site-packages/pyLDAvis/_prepare.py:246: FutureWarning: In a future version of pandas all arguments of DataFrame.drop except for the argument 'labels' will be keyword-only\n",
      "  default_term_info = default_term_info.sort_values(\n",
      "/opt/anaconda3/lib/python3.9/site-packages/past/builtins/misc.py:45: DeprecationWarning: the imp module is deprecated in favour of importlib; see the module's documentation for alternative uses\n",
      "  from imp import reload\n",
      "/opt/anaconda3/lib/python3.9/site-packages/past/builtins/misc.py:45: DeprecationWarning: the imp module is deprecated in favour of importlib; see the module's documentation for alternative uses\n",
      "  from imp import reload\n",
      "/opt/anaconda3/lib/python3.9/site-packages/past/builtins/misc.py:45: DeprecationWarning: the imp module is deprecated in favour of importlib; see the module's documentation for alternative uses\n",
      "  from imp import reload\n",
      "/opt/anaconda3/lib/python3.9/site-packages/past/builtins/misc.py:45: DeprecationWarning: the imp module is deprecated in favour of importlib; see the module's documentation for alternative uses\n",
      "  from imp import reload\n",
      "/opt/anaconda3/lib/python3.9/site-packages/past/builtins/misc.py:45: DeprecationWarning: the imp module is deprecated in favour of importlib; see the module's documentation for alternative uses\n",
      "  from imp import reload\n",
      "/opt/anaconda3/lib/python3.9/site-packages/past/builtins/misc.py:45: DeprecationWarning: the imp module is deprecated in favour of importlib; see the module's documentation for alternative uses\n",
      "  from imp import reload\n",
      "/opt/anaconda3/lib/python3.9/site-packages/past/builtins/misc.py:45: DeprecationWarning: the imp module is deprecated in favour of importlib; see the module's documentation for alternative uses\n",
      "  from imp import reload\n",
      "/opt/anaconda3/lib/python3.9/site-packages/past/builtins/misc.py:45: DeprecationWarning: the imp module is deprecated in favour of importlib; see the module's documentation for alternative uses\n",
      "  from imp import reload\n"
     ]
    },
    {
     "data": {
      "text/html": [
       "\n",
       "<link rel=\"stylesheet\" type=\"text/css\" href=\"https://cdn.jsdelivr.net/gh/bmabey/pyLDAvis@3.3.1/pyLDAvis/js/ldavis.v1.0.0.css\">\n",
       "\n",
       "\n",
       "<div id=\"ldavis_el253281404541843311848588707252\"></div>\n",
       "<script type=\"text/javascript\">\n",
       "\n",
       "var ldavis_el253281404541843311848588707252_data = {\"mdsDat\": {\"x\": [0.2429675706094532, 0.18957234386096058, -0.10923240034163226, -0.3233075141287812], \"y\": [-0.06067527391595518, 0.2075246854823652, -0.33668712848590165, 0.18983771691949147], \"topics\": [1, 2, 3, 4], \"cluster\": [1, 1, 1, 1], \"Freq\": [60.53182506217956, 17.895672049036648, 10.972319808586613, 10.600183080197183]}, \"tinfo\": {\"Term\": [\"know\", \"emission\", \"fossil\", \"fuel\", \"exxon\", \"break\", \"investment\", \"show\", \"cut\", \"strategy\", \"chevron\", \"funding\", \"decade\", \"go\", \"rise\", \"shareholder\", \"commit\", \"yearly\", \"ecocide\", \"nowexxon\", \"assessment\", \"major\", \"climate\", \"lose\", \"shell\", \"plan\", \"denial\", \"company\", \"money\", \"change\", \"big\", \"involve\", \"case\", \"new\", \"law\", \"amp\", \"fund\", \"year\", \"recuse\", \"give\", \"industry\", \"amy_coney\", \"stricter_ethic\", \"previous\", \"investor\", \"large\", \"crisis\", \"ad\", \"green\", \"hear\", \"use\", \"world\", \"people\", \"good\", \"want\", \"enough\", \"need\", \"judge\", \"datum\", \"public\", \"company\", \"change\", \"energy\", \"job\", \"see\", \"take\", \"oil\", \"giant\", \"climate\", \"chevron\", \"cut\", \"point\", \"order\", \"save\", \"crush\", \"utterly\", \"turning\", \"ecuador\", \"halve\", \"planetdutch\", \"slam\", \"era\", \"fightyou\", \"tumble\", \"actionthank\", \"domino\", \"end\", \"tip\", \"crisisanother_sign\", \"bill\", \"infrastructure\", \"likely\", \"reel\", \"biden\", \"break\", \"history\", \"icymi\", \"exit\", \"insufficient\", \"detail\", \"push\", \"kill\", \"output\", \"countys_compensation\", \"liability_litigation\", \"fossil\", \"lose\", \"go\", \"shareholder\", \"emission\", \"fuel\", \"shell\", \"court\", \"chevron\", \"major\", \"seat\", \"climate\", \"board\", \"decade\", \"funding\", \"denial\", \"disclose\", \"hold\", \"obstruction\", \"still\", \"money\", \"reveal\", \"young_engineer\", \"document\", \"full\", \"ceo\", \"today\", \"truth\", \"watch\", \"deploy\", \"gravity\", \"leak\", \"share\", \"whatexxons_co\", \"easy\", \"operation\", \"lucrative\", \"political\", \"suspect\", \"ability\", \"surge\", \"relative_term\", \"thwarting\", \"spend\", \"overdue\", \"plan\", \"little\", \"buildings_california\", \"china_propose\", \"conoco_rating\", \"germany_earmark\", \"multiministry\", \"singapore_launche\", \"regulate\", \"twoand\", \"policy\", \"meat\", \"scope\", \"holding_bank\", \"know\", \"extend\", \"climate\", \"carbon\", \"go\", \"strategy\", \"rise\", \"commit\", \"yearly\", \"ecocide\", \"nowexxon\", \"assessment\", \"capture\", \"much\", \"least\", \"call\", \"fire\", \"speak\", \"re\", \"strenuous_objection\", \"guy\", \"quietly_shelve\", \"senior\", \"name\", \"projects_technology\", \"reversing\", \"essential\", \"investment\", \"directly\", \"fuck\", \"ground\", \"receive\", \"rose\", \"blueshell\", \"redviolet\", \"back\", \"business\", \"criticize\", \"scoopthis\", \"planetand\", \"climateand\", \"show\", \"earning\", \"shoot\", \"know\", \"trip\", \"exxon\", \"build\", \"say\", \"ambitious\", \"emission\", \"title\", \"football\", \"activist\"], \"Freq\": [70692.0, 94381.0, 47348.0, 50986.0, 37114.0, 36939.0, 27717.0, 23235.0, 28803.0, 21078.0, 39069.0, 21009.0, 20782.0, 34832.0, 20171.0, 31028.0, 19419.0, 18496.0, 18419.0, 18390.0, 18386.0, 30996.0, 185176.0, 21602.0, 24847.0, 14540.0, 14078.0, 65616.0, 13532.0, 61686.0, 33412.348487763964, 31579.33690754911, 34622.023724788734, 21501.020573926246, 18661.381385840927, 19285.325971447855, 19307.027879654124, 17894.52135295665, 16392.580537633985, 17590.298204463892, 16947.911527551405, 15617.288928304642, 15617.288928304642, 15682.224752807006, 15142.102088645615, 15092.21828179216, 14873.623659316394, 12315.242787318712, 13084.130294925808, 17010.663569223827, 11209.849976428315, 11658.95148487699, 11181.837977897565, 10466.703469128925, 11236.83804359067, 9866.980976788747, 19376.881746193627, 16239.541308751857, 11585.476480522486, 11240.736684929187, 65510.512778880206, 61617.47587887154, 20259.94779538385, 20019.8064401415, 13542.751873232191, 12068.374520132882, 55466.07226314007, 13680.586174360616, 148064.79812900812, 12464.643888374192, 28802.781696408627, 17253.056748865354, 14392.612089946644, 9182.87581662292, 8972.84462806085, 8907.668978277377, 8188.698187072344, 7818.135871100378, 7812.682968313228, 7795.69471823968, 7797.210976150525, 8312.882656761607, 8904.96127919012, 8904.96127919012, 8905.111967365889, 8904.96127919012, 11151.853915770667, 2419.7549122762075, 9396.998356588416, 1188.3124713038474, 932.3524476396669, 10931.76278459428, 9344.684110038108, 2926.1755109142373, 36823.43242986374, 10538.162590585573, 926.5044906850438, 441.29421551646874, 252.50022314853138, 1599.1469556908735, 16221.959846526226, 9257.639252736633, 4153.777161433213, 2233.06749874769, 2233.06749874769, 42881.214967404594, 19902.54198005926, 29748.181898325493, 25898.783466616187, 69932.59554734481, 38923.79253570068, 19543.942965792878, 17060.406269359057, 26603.52996375388, 20654.30854583859, 9683.022596778474, 23764.393282614088, 9605.414837631472, 20781.199035400983, 21008.46937306047, 14077.12484602909, 10212.857320664447, 8950.388235485676, 7445.370217300891, 7439.922844535167, 13529.147725410146, 4090.4804994728142, 7243.357523152613, 3801.6206854257084, 4358.465698570551, 3281.1621184979876, 13127.029287145551, 2321.323621757347, 2707.628418187116, 2280.2100418692617, 2143.0720423968714, 1841.747041302977, 1801.6994481252657, 1850.5527238956627, 1254.6446975556976, 1123.331949997807, 1056.388826370905, 2982.5571081473586, 1151.4111116845368, 4100.965029009014, 1132.9126903392716, 1444.4778981293534, 1444.4766662494878, 12894.639256764594, 7282.338308366707, 14360.102433717911, 4947.860262777763, 4067.225071369844, 4067.225071369844, 4067.225071369844, 4067.225071369844, 4067.225071369844, 4067.225071369844, 4177.562087172729, 9321.938806765043, 4266.447968249139, 3758.6145274374257, 3835.4333239769503, 6115.01921338097, 17811.691846609956, 4783.911424596942, 13346.544530424406, 4802.084527001031, 5083.888133177928, 21077.450445669874, 20169.951987518387, 19418.458116518097, 18494.939332554633, 18417.6780742558, 18388.51111617835, 18384.68058264922, 7632.232534639635, 9976.290555367505, 3165.3131430984804, 2714.444549816211, 1310.4701093762808, 679.252353136856, 5657.475473923628, 706.2100402904816, 517.4757339159047, 3204.0494927517834, 448.2028200325731, 426.31604759202736, 3369.093877209844, 3369.093877209844, 3368.8015094373736, 27598.679891126223, 576.0756868922547, 347.64000894781475, 318.2687256657436, 483.75486017486384, 757.7527529326818, 757.7527529326818, 757.7527529326818, 6172.1601766194735, 11828.148026191999, 1702.3212727018026, 2873.3398886064692, 3460.489550343284, 757.7389180262165, 21587.719085891993, 1070.016955636333, 916.9111532956936, 52090.93990206487, 880.9425783350941, 24266.33787268531, 887.443595924367, 7953.19760423549, 2333.5716575019947, 23118.909011990854, 1559.4032177922936, 1542.4089939051307, 1629.407447806627], \"Total\": [70692.0, 94381.0, 47348.0, 50986.0, 37114.0, 36939.0, 27717.0, 23235.0, 28803.0, 21078.0, 39069.0, 21009.0, 20782.0, 34832.0, 20171.0, 31028.0, 19419.0, 18496.0, 18419.0, 18390.0, 18386.0, 30996.0, 185176.0, 21602.0, 24847.0, 14540.0, 14078.0, 65616.0, 13532.0, 61686.0, 33413.94274453067, 31580.91430848206, 34624.37731161665, 21502.792447585718, 18662.965158248036, 19286.9997598476, 19308.72426233588, 17896.13954706412, 16394.138578368962, 17592.01301350515, 16949.581378320137, 15618.846618511508, 15618.846618511508, 15683.802330273784, 15143.700932971764, 15093.887656229806, 14875.402914282344, 12316.834097321389, 13085.833957423074, 17012.99495292593, 11211.423542025403, 11660.596154850706, 11183.481925281229, 10468.355634539475, 11238.625048480753, 9868.55570170327, 19379.981314822347, 16242.313307996323, 11587.50030562851, 11242.76760880137, 65616.46132183823, 61686.04978898096, 20265.61908591887, 20026.056154646085, 13548.35253280467, 12074.68975183848, 56525.38591151649, 13827.79192466773, 185176.04904474568, 39069.03920594315, 28803.813104185767, 17254.087696657643, 14393.906150462597, 9183.924459686077, 8973.87172698923, 8908.689201642102, 8189.7150478136255, 7819.151837387088, 7813.698988651058, 7796.710627791438, 7798.229626111695, 8314.051239879327, 8906.340511576667, 8906.340511576667, 8906.491319766516, 8906.443490604079, 11156.316840074041, 2421.278010741544, 9408.121735661489, 1189.7777338174621, 934.4354450926705, 10960.677510143478, 9372.20192620171, 2935.066402283366, 36939.17122740326, 10573.289860866758, 929.7119778477885, 443.15112014118523, 253.9653159930446, 1609.2736452764302, 16534.331185978433, 9414.714935208305, 4221.7185629081705, 2260.080975618531, 2260.080975618531, 47348.80368500864, 21602.55786911458, 34832.77165333073, 31028.86887783923, 94381.05897675743, 50986.08450312215, 24847.626584850805, 21690.90531569335, 39069.03920594315, 30996.94890423052, 11163.348998671394, 185176.04904474568, 15345.263634462432, 20782.52378722275, 21009.808971959465, 14078.443601630608, 10214.190012308138, 8951.706356411527, 7446.686549644428, 7441.313508043381, 13532.93090684185, 4091.8153868928243, 7245.900232071238, 3802.965209584255, 4360.111375434691, 3282.4900588111996, 13133.404107658229, 2322.671727043156, 2709.2924664544166, 2281.6281603897446, 2144.450482998858, 1843.0737222329458, 1803.0491800456787, 1852.0081855831445, 1255.9685175920129, 1124.6970164394152, 1057.769307038044, 2986.5254555180272, 1152.9995837994916, 4106.853813316102, 1134.5446892377013, 1446.5724247932317, 1446.5714475016407, 12913.627581729086, 7310.195435985272, 14540.12552666474, 4958.329475940887, 4073.2640221214597, 4073.2640221214597, 4073.2640221214597, 4073.2640221214597, 4073.2640221214597, 4073.2640221214597, 4186.435558645391, 9717.097947407829, 4375.980146130011, 3901.373303758761, 4055.554532477911, 8798.645805120554, 70692.49446739683, 7568.176928691069, 185176.04904474568, 14528.396854082735, 34832.77165333073, 21078.955839866863, 20171.485053676523, 19419.9691010666, 18496.448169025283, 18419.184189154388, 18390.017281086013, 18386.18657510029, 7633.827404757299, 9982.909293213464, 3167.7228187461224, 2716.629549710757, 1312.0689804653566, 680.8514594923569, 5671.879196455699, 708.4190086022576, 519.1000903932294, 3215.5910844423975, 449.8245753047501, 427.8928456393248, 3383.1695755462556, 3383.1695755462556, 3383.218263344651, 27717.673417379392, 578.702404971587, 349.2543796566987, 319.89427536329407, 486.319899369409, 762.2683789268332, 762.2683789268332, 762.2683789268332, 6222.592208539514, 12053.268506026634, 1715.5340987706265, 2911.7790528089336, 3516.632187621428, 762.2681491949676, 23235.27054058275, 1093.1890535363402, 930.8388503517746, 70692.49446739683, 895.872428823603, 37114.92456476837, 910.0900969071603, 16477.65454391555, 3470.2583432490956, 94381.05897675743, 2553.604268931303, 2532.0473769266932, 9878.91333043305], \"Category\": [\"Default\", \"Default\", \"Default\", \"Default\", \"Default\", \"Default\", \"Default\", \"Default\", \"Default\", \"Default\", \"Default\", \"Default\", \"Default\", \"Default\", \"Default\", \"Default\", \"Default\", \"Default\", \"Default\", \"Default\", \"Default\", \"Default\", \"Default\", \"Default\", \"Default\", \"Default\", \"Default\", \"Default\", \"Default\", \"Default\", \"Topic1\", \"Topic1\", \"Topic1\", \"Topic1\", \"Topic1\", \"Topic1\", \"Topic1\", \"Topic1\", \"Topic1\", \"Topic1\", \"Topic1\", \"Topic1\", \"Topic1\", \"Topic1\", \"Topic1\", \"Topic1\", \"Topic1\", \"Topic1\", \"Topic1\", \"Topic1\", \"Topic1\", \"Topic1\", \"Topic1\", \"Topic1\", \"Topic1\", \"Topic1\", \"Topic1\", \"Topic1\", \"Topic1\", \"Topic1\", \"Topic1\", \"Topic1\", \"Topic1\", \"Topic1\", \"Topic1\", \"Topic1\", \"Topic1\", \"Topic1\", \"Topic1\", \"Topic1\", \"Topic2\", \"Topic2\", \"Topic2\", \"Topic2\", \"Topic2\", \"Topic2\", \"Topic2\", \"Topic2\", \"Topic2\", \"Topic2\", \"Topic2\", \"Topic2\", \"Topic2\", \"Topic2\", \"Topic2\", \"Topic2\", \"Topic2\", \"Topic2\", \"Topic2\", \"Topic2\", \"Topic2\", \"Topic2\", \"Topic2\", \"Topic2\", \"Topic2\", \"Topic2\", \"Topic2\", \"Topic2\", \"Topic2\", \"Topic2\", \"Topic2\", \"Topic2\", \"Topic2\", \"Topic2\", \"Topic2\", \"Topic2\", \"Topic2\", \"Topic2\", \"Topic2\", \"Topic2\", \"Topic2\", \"Topic2\", \"Topic2\", \"Topic2\", \"Topic2\", \"Topic2\", \"Topic2\", \"Topic2\", \"Topic3\", \"Topic3\", \"Topic3\", \"Topic3\", \"Topic3\", \"Topic3\", \"Topic3\", \"Topic3\", \"Topic3\", \"Topic3\", \"Topic3\", \"Topic3\", \"Topic3\", \"Topic3\", \"Topic3\", \"Topic3\", \"Topic3\", \"Topic3\", \"Topic3\", \"Topic3\", \"Topic3\", \"Topic3\", \"Topic3\", \"Topic3\", \"Topic3\", \"Topic3\", \"Topic3\", \"Topic3\", \"Topic3\", \"Topic3\", \"Topic3\", \"Topic3\", \"Topic3\", \"Topic3\", \"Topic3\", \"Topic3\", \"Topic3\", \"Topic3\", \"Topic3\", \"Topic3\", \"Topic3\", \"Topic3\", \"Topic3\", \"Topic3\", \"Topic3\", \"Topic3\", \"Topic3\", \"Topic3\", \"Topic3\", \"Topic3\", \"Topic3\", \"Topic4\", \"Topic4\", \"Topic4\", \"Topic4\", \"Topic4\", \"Topic4\", \"Topic4\", \"Topic4\", \"Topic4\", \"Topic4\", \"Topic4\", \"Topic4\", \"Topic4\", \"Topic4\", \"Topic4\", \"Topic4\", \"Topic4\", \"Topic4\", \"Topic4\", \"Topic4\", \"Topic4\", \"Topic4\", \"Topic4\", \"Topic4\", \"Topic4\", \"Topic4\", \"Topic4\", \"Topic4\", \"Topic4\", \"Topic4\", \"Topic4\", \"Topic4\", \"Topic4\", \"Topic4\", \"Topic4\", \"Topic4\", \"Topic4\", \"Topic4\", \"Topic4\", \"Topic4\", \"Topic4\", \"Topic4\", \"Topic4\", \"Topic4\", \"Topic4\", \"Topic4\", \"Topic4\", \"Topic4\", \"Topic4\"], \"logprob\": [30.0, 29.0, 28.0, 27.0, 26.0, 25.0, 24.0, 23.0, 22.0, 21.0, 20.0, 19.0, 18.0, 17.0, 16.0, 15.0, 14.0, 13.0, 12.0, 11.0, 10.0, 9.0, 8.0, 7.0, 6.0, 5.0, 4.0, 3.0, 2.0, 1.0, -4.2877, -4.3441, -4.2521, -4.7285, -4.8702, -4.8373, -4.8362, -4.9121, -4.9998, -4.9293, -4.9665, -5.0482, -5.0482, -5.0441, -5.0791, -5.0824, -5.097, -5.2858, -5.2252, -4.9628, -5.3798, -5.3406, -5.3823, -5.4484, -5.3774, -5.5074, -4.8325, -5.0092, -5.3469, -5.3771, -3.6144, -3.6757, -4.788, -4.7999, -5.1908, -5.306, -3.7809, -5.1806, -2.799, -5.2737, -3.2175, -3.73, -3.9113, -4.3607, -4.3838, -4.3911, -4.4753, -4.5216, -4.5223, -4.5244, -4.5243, -4.4602, -4.3914, -4.3914, -4.3914, -4.3914, -4.1664, -5.6944, -4.3376, -6.4055, -6.6481, -4.1863, -4.3432, -5.5043, -2.9719, -4.223, -6.6544, -7.3961, -7.9544, -6.1085, -3.7917, -4.3526, -5.154, -5.7746, -5.7746, -2.8196, -3.5872, -3.1852, -3.3238, -2.3305, -2.9164, -3.6054, -3.7413, -3.297, -3.5501, -4.3076, -3.4098, -4.3157, -3.0548, -3.0439, -3.4443, -3.7652, -3.8971, -4.0812, -4.082, -3.484, -4.6802, -4.1087, -4.7534, -4.6167, -4.9006, -3.5142, -5.2467, -5.0928, -5.2646, -5.3266, -5.4781, -5.5001, -5.4733, -5.862, -5.9725, -6.034, -4.9961, -5.9478, -4.6776, -5.964, -5.7211, -5.7211, -3.532, -4.1034, -3.4244, -4.4899, -4.6859, -4.6859, -4.6859, -4.6859, -4.6859, -4.6859, -4.6591, -3.8565, -4.6381, -4.7648, -4.7446, -4.2781, -3.209, -4.5236, -3.4976, -4.5198, -4.4628, -3.0061, -3.0501, -3.0881, -3.1368, -3.141, -3.1426, -3.1428, -4.0219, -3.7541, -4.9021, -5.0557, -5.7839, -6.4411, -4.3214, -6.4022, -6.7131, -4.8899, -6.8568, -6.9069, -4.8397, -4.8397, -4.8398, -2.7366, -6.6058, -7.1109, -7.1992, -6.7805, -6.3317, -6.3317, -6.3317, -4.2343, -3.5838, -5.5223, -4.9989, -4.8129, -6.3317, -2.9822, -5.9867, -6.1411, -2.1013, -6.1811, -2.8652, -6.1737, -3.9808, -5.2069, -2.9137, -5.61, -5.621, -5.5661], \"loglift\": [30.0, 29.0, 28.0, 27.0, 26.0, 25.0, 24.0, 23.0, 22.0, 21.0, 20.0, 19.0, 18.0, 17.0, 16.0, 15.0, 14.0, 13.0, 12.0, 11.0, 10.0, 9.0, 8.0, 7.0, 6.0, 5.0, 4.0, 3.0, 2.0, 1.0, 0.502, 0.502, 0.5019, 0.5019, 0.5019, 0.5019, 0.5019, 0.5019, 0.5019, 0.5019, 0.5019, 0.5019, 0.5019, 0.5019, 0.5019, 0.5019, 0.5019, 0.5019, 0.5019, 0.5019, 0.5019, 0.5019, 0.5019, 0.5018, 0.5018, 0.5018, 0.5018, 0.5018, 0.5018, 0.5018, 0.5004, 0.5009, 0.5017, 0.5017, 0.5016, 0.5015, 0.4831, 0.4913, 0.2783, -0.6404, 1.7206, 1.7206, 1.7205, 1.7205, 1.7205, 1.7205, 1.7205, 1.7205, 1.7205, 1.7205, 1.7205, 1.7205, 1.7205, 1.7205, 1.7205, 1.7204, 1.7202, 1.72, 1.7194, 1.7194, 1.7184, 1.718, 1.7177, 1.7176, 1.7175, 1.7173, 1.7172, 1.7164, 1.7148, 1.7143, 1.7015, 1.7038, 1.7044, 1.7086, 1.7086, 1.6215, 1.6386, 1.5628, 1.5399, 1.4208, 1.4507, 1.4805, 1.4805, 1.3363, 1.3146, 1.5783, -0.3325, 1.2521, 2.2097, 2.2097, 2.2097, 2.2097, 2.2096, 2.2096, 2.2096, 2.2095, 2.2095, 2.2094, 2.2094, 2.2094, 2.2094, 2.2093, 2.2092, 2.2092, 2.2092, 2.2092, 2.2091, 2.209, 2.209, 2.2087, 2.2086, 2.2085, 2.2085, 2.2084, 2.2084, 2.2084, 2.2083, 2.2083, 2.2083, 2.206, 2.1973, 2.2077, 2.2083, 2.2083, 2.2083, 2.2083, 2.2083, 2.2083, 2.2077, 2.1683, 2.1844, 2.1725, 2.154, 1.8459, 0.8313, 1.7511, -0.4203, 1.1027, 0.2853, 2.2442, 2.2442, 2.2442, 2.2442, 2.2442, 2.2442, 2.2442, 2.2441, 2.2436, 2.2435, 2.2435, 2.2431, 2.2419, 2.2418, 2.2412, 2.2412, 2.2407, 2.2407, 2.2406, 2.2401, 2.2401, 2.24, 2.24, 2.2397, 2.2397, 2.2392, 2.239, 2.2384, 2.2384, 2.2384, 2.2362, 2.2254, 2.2366, 2.231, 2.2282, 2.2383, 2.1708, 2.2229, 2.2292, 1.939, 2.2275, 1.8194, 2.2191, 1.5159, 1.8475, 0.8376, 1.7511, 1.7486, 0.4421]}, \"token.table\": {\"Topic\": [1, 2, 3, 1, 2, 1, 2, 4, 1, 2, 1, 2, 3, 4, 1, 2, 3, 1, 2, 2, 4, 1, 2, 3, 4, 1, 2, 4, 1, 2, 3, 2, 3, 1, 2, 4, 1, 2, 1, 2, 3, 1, 2, 3, 4, 1, 2, 3, 1, 2, 3, 4, 2, 4, 2, 3, 4, 1, 2, 3, 4, 1, 2, 2, 3, 1, 2, 3, 1, 2, 3, 1, 2, 3, 1, 2, 3, 1, 2, 4, 2, 4, 1, 2, 3, 4, 1, 2, 3, 1, 2, 1, 2, 1, 2, 3, 1, 2, 1, 2, 3, 4, 2, 2, 1, 2, 3, 2, 3, 2, 3, 2, 3, 1, 2, 3, 2, 3, 4, 2, 3, 2, 3, 1, 2, 1, 2, 3, 4, 2, 3, 2, 4, 2, 1, 2, 3, 4, 1, 2, 1, 2, 1, 2, 2, 3, 1, 2, 4, 1, 2, 3, 1, 2, 3, 4, 1, 2, 3, 4, 1, 2, 2, 3, 4, 1, 2, 4, 1, 2, 3, 2, 3, 4, 1, 2, 2, 3, 1, 2, 3, 2, 3, 1, 2, 3, 1, 2, 3, 4, 1, 2, 3, 2, 3, 1, 2, 3, 2, 3, 1, 2, 3, 2, 3, 4, 2, 3, 4, 2, 1, 2, 3, 1, 2, 2, 3, 1, 2, 3, 1, 2, 3, 1, 2, 3, 1, 2, 3, 4, 2, 3, 1, 2, 4, 1, 2, 1, 2, 1, 2, 3, 1, 2, 1, 2, 3, 1, 2, 3, 4, 1, 2, 3, 1, 2, 2, 3, 1, 2, 4, 1, 2, 1, 2, 1, 2, 3, 1, 2, 2, 3, 1, 2, 1, 2, 3, 1, 2, 3, 2, 3, 4, 1, 2, 3, 2, 3, 4, 1, 2, 3, 4, 1, 2, 3, 2, 4, 2, 3, 1, 2, 3, 2, 3, 1, 2, 2, 3, 4, 1, 2, 3, 1, 2, 3, 1, 2, 3, 4, 1, 2, 4, 2, 2, 1, 2, 3, 1, 2, 3, 1, 2, 1, 2, 4, 1, 2, 3, 1, 2, 1, 2, 4, 2, 3, 4, 1, 2, 3, 4, 1, 2, 1, 2, 4, 1, 2, 1, 2, 3, 1, 2, 3, 4, 2, 3, 1, 2, 4, 2, 4, 1, 2, 4, 2, 1, 2, 3, 4, 1, 2, 4, 1, 2, 3, 1, 2, 1, 2, 3, 4, 2, 3, 4, 2, 3, 1, 2, 3, 1, 2, 1, 2, 3, 4, 1, 2, 3, 4, 1, 2, 3, 2, 2, 3, 4, 1, 2, 3, 2, 3, 2, 4, 1, 2, 4, 1, 2, 2, 3, 2, 3, 1, 2, 1, 2, 3, 4, 2, 3, 1, 2, 4, 2, 3, 1, 2, 3, 4, 2, 3, 1, 2, 2, 1, 2, 3, 4, 1, 2, 2, 1, 2, 3, 2, 3, 2, 3, 1, 2, 3, 1, 2, 3, 2, 4, 1, 2, 3], \"Freq\": [0.0012174769853720998, 0.00024349539707441996, 0.9985746234021963, 0.00011227765952914161, 0.9998325581070061, 0.8348084170952521, 0.00020245141678070866, 0.1648966789678872, 0.9998510901984311, 8.118969469739595e-05, 0.3270649870226476, 0.000288162984160923, 0.000288162984160923, 0.6725724050315943, 0.9998963156596412, 5.184839593775687e-05, 5.184839593775687e-05, 0.9998817698542913, 6.402521418033498e-05, 5.4388657262635514e-05, 0.9999354637735539, 0.006106779735276734, 0.0017677520286327388, 0.0001607047298757035, 0.9918695927928421, 0.0013628311771373069, 0.99691100607594, 0.0013628311771373069, 0.9999418582672053, 2.992762654935967e-05, 2.992762654935967e-05, 0.9985058269566381, 0.0008404931203338706, 0.00393562173498995, 0.0013118739116633167, 0.9944004250407941, 0.37399161961032323, 0.6259260335175387, 0.0025447241201304012, 0.9968550667612954, 0.0005685021970504088, 0.007691546170855742, 0.017580676961955984, 0.001098792310122249, 0.9746287790784348, 0.0012275167955834772, 0.0002455033591166954, 0.9984621615276004, 0.007964644606730532, 0.010370630998347046, 0.0002488951439603291, 0.9813105875875909, 0.00036810318878643987, 0.9990320543663979, 0.00013099588803603464, 0.00013099588803603464, 0.9997606174910164, 0.6693787413486784, 6.883071890474842e-05, 0.33052511218060193, 6.883071890474842e-05, 0.9999313399459793, 5.776277164496443e-05, 0.0003046467718358191, 0.9995460583933226, 0.9988806255349926, 0.0011023562091042973, 1.621112072212202e-05, 0.3190505897596743, 0.6809484067361714, 2.5595715183287153e-05, 0.0012275167955834772, 0.0002455033591166954, 0.9984621615276004, 0.799590447921382, 0.12833193127615386, 0.07207735594777082, 0.003935622921104999, 0.0013118743070349998, 0.9944007247325299, 5.1493387800760054e-05, 0.9998986043151588, 0.998392761210926, 1.5240078173298011e-05, 1.5240078173298011e-05, 0.0016002082081962913, 0.0012275167955834772, 0.0002455033591166954, 0.9984621615276004, 0.011504012590913658, 0.9880176967503921, 0.21345351577604274, 0.7865047471143173, 0.999905688989372, 6.7225069852721e-05, 6.7225069852721e-05, 0.0010629114164302314, 0.9988178580194884, 0.006994906139492856, 0.000582908844957738, 0.000582908844957738, 0.9921108541180701, 0.9999028594328345, 0.9999717709532823, 0.999784223899671, 8.62998898489142e-05, 8.62998898489142e-05, 4.81173513976588e-05, 0.9999266793947476, 7.103057896855707e-05, 0.999897460140378, 0.000438283510591481, 0.9992864041485767, 0.005592585217819832, 0.9936159736993235, 0.0006213983575355369, 0.003456007756004047, 0.0017280038780020236, 0.9953302337291656, 9.790301519699518e-05, 0.9998834942069118, 0.0002629527079237523, 0.9997461955261062, 0.00011227826247985042, 0.9998379273830681, 0.01920985206727732, 0.000914754860346539, 0.000914754860346539, 0.9787877005707967, 0.000796198301146302, 0.9992288679386091, 5.4291221029692595e-05, 0.9999357089248782, 0.9998526902391663, 0.014081215176100998, 0.7409643498196171, 1.0595346257412338e-05, 0.24495381012511586, 0.00035854126925042164, 0.9996130586701755, 0.9997227281389705, 0.00024672327940251, 0.999842357711676, 0.00010133195071568623, 0.9998735586480049, 0.00012027830610465595, 0.003842495218487085, 0.0002955765552682373, 0.9957974146986914, 0.0022565665628497254, 0.9951458542167289, 0.0022565665628497254, 0.3674596968600441, 0.00026426443499463797, 0.632120528507174, 0.00013213221749731898, 0.325071386820298, 0.00032332006977567974, 0.020800257822235397, 0.6538070677647204, 0.00011227956069051894, 0.9998494879490712, 0.000762155050449654, 0.000762155050449654, 0.9984231160890468, 0.39019807014796004, 0.0003949373179635223, 0.6089933442997514, 0.0943424047145318, 0.9056406215723837, 2.1119857782523348e-05, 0.002863242548262258, 0.002863242548262258, 0.9964084067952658, 0.2365547407207047, 0.7634239887084578, 0.00022935193941010345, 0.9995157519492308, 0.9999107003491037, 5.179006061786418e-05, 5.179006061786418e-05, 4.75968154367629e-05, 0.9999138986955151, 0.0012275167955834772, 0.0002455033591166954, 0.9984621615276004, 0.9893842830824012, 0.01019685577915493, 7.231812609329736e-05, 0.0003615906304664868, 0.9998855723046813, 5.6843977959333785e-05, 5.6843977959333785e-05, 0.8540233403205363, 0.145954506595052, 0.9998705016731565, 9.55259865934037e-05, 9.55259865934037e-05, 0.0004663199304101313, 0.9993236108689114, 0.999859851696954, 7.641851510982529e-05, 7.641851510982529e-05, 0.0031260328083843663, 0.0031260328083843663, 0.9940784330662286, 0.0019264107606733003, 0.0019264107606733003, 0.9959543632680963, 0.9999105431816514, 0.999882739462896, 5.877859852230298e-05, 5.877859852230298e-05, 0.003215650043402178, 0.9966623575697692, 0.00011171054547424524, 0.9998093819944949, 0.3049332885338529, 0.00011365385334843566, 0.694993313225684, 0.0010756019324553857, 0.9970829913861425, 0.0010756019324553857, 0.9999067010396988, 5.89985072598359e-05, 5.89985072598359e-05, 0.0010701648843177468, 0.99739367218414, 0.0010701648843177468, 0.0010701648843177468, 0.9961990243066456, 0.0039375455506191525, 0.004185055442902588, 0.00010823419248886004, 0.9957184928333493, 0.9998876804963798, 6.603405630011755e-05, 0.9999393840069556, 3.1664694385729614e-05, 0.9996975862546615, 0.0002496747218418236, 4.993494436836471e-05, 0.999857575214044, 0.00012313516936133547, 0.016569805997694653, 0.9833542559401096, 0.00010621670511342726, 0.011161015125359375, 1.4145773289428866e-05, 0.25196451383130697, 0.7368674764196391, 0.9998749390301028, 6.625198376822839e-05, 6.625198376822839e-05, 0.9998947027853627, 5.358205362978204e-05, 0.0005425718938624259, 0.9994174284945884, 0.0003156841861548446, 0.0003156841861548446, 0.9991404491800832, 0.011504012590913658, 0.9880176967503921, 0.0025545866096404724, 0.9973836005924872, 0.0018151274625194547, 0.0002016808291688283, 0.9979167427273624, 0.07864809391063267, 0.9213260818736444, 0.0009453857219587804, 0.9983273223884721, 0.3336457414551696, 0.6663236457179533, 0.03639743981002554, 0.0002563199986621517, 0.9635068749710283, 0.00022168146875583978, 7.389382291861326e-05, 0.9997095302659188, 0.00010017119966018478, 0.0006010271979611086, 0.9993078878100032, 0.0012275167955834772, 0.0002455033591166954, 0.9984621615276004, 0.0023370336994204153, 0.0023370336994204153, 0.995576355953097, 0.9998461652375243, 5.1599636952960955e-05, 5.1599636952960955e-05, 0.00010319927390592191, 0.999916641171602, 4.650558770157676e-05, 4.650558770157676e-05, 5.4377327911947756e-05, 0.9999446829728073, 0.00013428791360202332, 0.9997735167670635, 0.9812582277071964, 0.018717253901745463, 1.7691166258738622e-05, 0.0008891283477978957, 0.998491134577037, 6.947384466362256e-05, 0.9999370462435196, 0.9839594795581252, 0.015870314186421375, 0.0002368703609913638, 0.003693471704886222, 0.00013679524832911933, 0.996142998332647, 0.9998674898130001, 8.941758985986408e-05, 8.941758985986408e-05, 0.0002063255915155878, 0.003645085450108718, 0.9876118313879468, 0.008528124449310961, 0.015639963768062072, 0.0002843629776011286, 0.983895902499905, 0.9999088554359187, 0.9999369600597396, 0.02193794231102707, 0.002970763021284916, 0.9748673114462655, 0.00100451177955208, 0.00033483725985069336, 0.9988195461346182, 0.9998850833340137, 6.376004867580752e-05, 0.0038425505165229517, 0.000295580808963304, 0.9958117453973712, 0.9998427781429915, 8.894607046908563e-05, 8.894607046908563e-05, 0.018869828872460505, 0.9811101409264562, 0.003109848154630662, 0.00031098481546306626, 0.9963953487436642, 0.002292009323492569, 0.00017630840949942836, 0.9973766725382662, 0.002056259678653205, 0.002056259678653205, 0.002056259678653205, 0.9952296844681513, 0.9999305496678877, 6.0997410459823566e-05, 0.00393562173498995, 0.0013118739116633167, 0.9944004250407941, 0.0028808598248952094, 0.9970975949498418, 0.0016720668219875805, 0.00047773337771073724, 0.9979850260377301, 0.0006912892730849177, 0.0006912892730849177, 0.9982217103346213, 0.0006912892730849177, 0.00024439030245676936, 0.9995563370481866, 0.0038425505165229517, 0.000295580808963304, 0.9958117453973712, 4.957493200619538e-05, 0.9999263785649608, 0.00393562173498995, 0.0013118739116633167, 0.9944004250407941, 0.9998993393630212, 0.5128763913260077, 0.004430242168595263, 6.0688248884866606e-05, 0.48265364338134414, 0.012707008096753378, 0.0003434326512636048, 0.9866820070803366, 0.0004931508093365512, 0.05375343821768407, 0.9456166769028368, 0.13257670258057347, 0.8673920345187114, 0.9996049310946323, 7.380971210918055e-05, 7.380971210918055e-05, 0.0002214291363275417, 0.002223088854855281, 0.002223088854855281, 0.9959438069751658, 0.0005546160421285158, 0.9994181079155855, 0.16529767875822002, 0.8346743190015871, 3.222805200979138e-05, 0.21342078616205354, 0.7865539967473457, 0.012891597719052083, 0.001074299809921007, 0.001074299809921007, 0.9851329256975633, 0.07084057821169305, 4.303801835461303e-05, 4.303801835461303e-05, 0.9291047402393863, 0.0012275167955834772, 0.0002455033591166954, 0.9984621615276004, 0.9998423198378799, 0.001468749146466691, 0.001468749146466691, 0.9972806704508832, 0.0013938763438917346, 7.743757466065192e-05, 0.9985575252491065, 0.00013438487693323112, 0.9998234843832394, 4.744068006009524e-05, 0.9999072136266274, 0.0014115939689041445, 0.0014115939689041445, 0.996585342046326, 0.9998817698542913, 6.402521418033498e-05, 0.0008814108509660368, 0.9986384941445197, 0.0008673030017102778, 0.9982657549685298, 0.9994459690496428, 0.000496907177187426, 0.0006912897401141784, 0.0006912897401141784, 0.9982223847248736, 0.0006912897401141784, 0.99947217513401, 0.0004130050310471116, 0.3888621318821556, 0.00039160335536974386, 0.6105096310214306, 0.0004568503299537806, 0.9995123802172131, 0.014510994625731135, 0.001116230355825472, 0.001116230355825472, 0.9833989434822407, 0.00043053867163270453, 0.9992802568595072, 0.00011227956069051894, 0.9998494879490712, 0.9999126895368824, 0.03488695923770461, 0.004219366751462799, 0.9593399233447857, 0.0015436707627302924, 0.9998730275401633, 8.919473929885488e-05, 0.9999226371437477, 0.999855405045213, 8.897885601541452e-05, 8.897885601541452e-05, 0.00036910005559815957, 0.9995229505598161, 0.0005399544169320874, 0.9994556257412939, 0.9998631155020284, 8.575890861154717e-05, 8.575890861154717e-05, 0.9999363244200727, 5.587797286505017e-05, 5.587797286505017e-05, 5.4064433931409085e-05, 0.999921705561411, 0.00013800907657738346, 0.00013800907657738346, 0.9995997416499883], \"Term\": [\"ability\", \"ability\", \"ability\", \"actionthank\", \"actionthank\", \"activist\", \"activist\", \"activist\", \"ad\", \"ad\", \"ambitious\", \"ambitious\", \"ambitious\", \"ambitious\", \"amp\", \"amp\", \"amp\", \"amy_coney\", \"amy_coney\", \"assessment\", \"assessment\", \"back\", \"back\", \"back\", \"back\", \"biden\", \"biden\", \"biden\", \"big\", \"big\", \"big\", \"bill\", \"bill\", \"blueshell\", \"blueshell\", \"blueshell\", \"board\", \"board\", \"break\", \"break\", \"break\", \"build\", \"build\", \"build\", \"build\", \"buildings_california\", \"buildings_california\", \"buildings_california\", \"business\", \"business\", \"business\", \"business\", \"call\", \"call\", \"capture\", \"capture\", \"capture\", \"carbon\", \"carbon\", \"carbon\", \"carbon\", \"case\", \"case\", \"ceo\", \"ceo\", \"change\", \"change\", \"change\", \"chevron\", \"chevron\", \"chevron\", \"china_propose\", \"china_propose\", \"china_propose\", \"climate\", \"climate\", \"climate\", \"climateand\", \"climateand\", \"climateand\", \"commit\", \"commit\", \"company\", \"company\", \"company\", \"company\", \"conoco_rating\", \"conoco_rating\", \"conoco_rating\", \"countys_compensation\", \"countys_compensation\", \"court\", \"court\", \"crisis\", \"crisis\", \"crisis\", \"crisisanother_sign\", \"crisisanother_sign\", \"criticize\", \"criticize\", \"criticize\", \"criticize\", \"crush\", \"cut\", \"datum\", \"datum\", \"datum\", \"decade\", \"decade\", \"denial\", \"denial\", \"deploy\", \"deploy\", \"detail\", \"detail\", \"detail\", \"directly\", \"directly\", \"directly\", \"disclose\", \"disclose\", \"document\", \"document\", \"domino\", \"domino\", \"earning\", \"earning\", \"earning\", \"earning\", \"easy\", \"easy\", \"ecocide\", \"ecocide\", \"ecuador\", \"emission\", \"emission\", \"emission\", \"emission\", \"end\", \"end\", \"energy\", \"energy\", \"enough\", \"enough\", \"era\", \"era\", \"essential\", \"essential\", \"essential\", \"exit\", \"exit\", \"exit\", \"extend\", \"extend\", \"extend\", \"extend\", \"exxon\", \"exxon\", \"exxon\", \"exxon\", \"fightyou\", \"fightyou\", \"fire\", \"fire\", \"fire\", \"football\", \"football\", \"football\", \"fossil\", \"fossil\", \"fossil\", \"fuck\", \"fuck\", \"fuck\", \"fuel\", \"fuel\", \"full\", \"full\", \"fund\", \"fund\", \"fund\", \"funding\", \"funding\", \"germany_earmark\", \"germany_earmark\", \"germany_earmark\", \"giant\", \"giant\", \"giant\", \"giant\", \"give\", \"give\", \"give\", \"go\", \"go\", \"good\", \"good\", \"good\", \"gravity\", \"gravity\", \"green\", \"green\", \"green\", \"ground\", \"ground\", \"ground\", \"guy\", \"guy\", \"guy\", \"halve\", \"hear\", \"hear\", \"hear\", \"history\", \"history\", \"hold\", \"hold\", \"holding_bank\", \"holding_bank\", \"holding_bank\", \"icymi\", \"icymi\", \"icymi\", \"industry\", \"industry\", \"industry\", \"infrastructure\", \"infrastructure\", \"infrastructure\", \"infrastructure\", \"insufficient\", \"insufficient\", \"investment\", \"investment\", \"investment\", \"investor\", \"investor\", \"involve\", \"involve\", \"job\", \"job\", \"job\", \"judge\", \"judge\", \"kill\", \"kill\", \"kill\", \"know\", \"know\", \"know\", \"know\", \"large\", \"large\", \"large\", \"law\", \"law\", \"leak\", \"leak\", \"least\", \"least\", \"least\", \"liability_litigation\", \"liability_litigation\", \"likely\", \"likely\", \"little\", \"little\", \"little\", \"lose\", \"lose\", \"lucrative\", \"lucrative\", \"major\", \"major\", \"meat\", \"meat\", \"meat\", \"money\", \"money\", \"money\", \"much\", \"much\", \"much\", \"multiministry\", \"multiministry\", \"multiministry\", \"name\", \"name\", \"name\", \"need\", \"need\", \"need\", \"need\", \"new\", \"new\", \"new\", \"nowexxon\", \"nowexxon\", \"obstruction\", \"obstruction\", \"oil\", \"oil\", \"oil\", \"operation\", \"operation\", \"order\", \"order\", \"output\", \"output\", \"output\", \"overdue\", \"overdue\", \"overdue\", \"people\", \"people\", \"people\", \"plan\", \"plan\", \"plan\", \"plan\", \"planetand\", \"planetand\", \"planetand\", \"planetdutch\", \"point\", \"policy\", \"policy\", \"policy\", \"political\", \"political\", \"political\", \"previous\", \"previous\", \"projects_technology\", \"projects_technology\", \"projects_technology\", \"public\", \"public\", \"public\", \"push\", \"push\", \"quietly_shelve\", \"quietly_shelve\", \"quietly_shelve\", \"re\", \"re\", \"re\", \"receive\", \"receive\", \"receive\", \"receive\", \"recuse\", \"recuse\", \"redviolet\", \"redviolet\", \"redviolet\", \"reel\", \"reel\", \"regulate\", \"regulate\", \"regulate\", \"relative_term\", \"relative_term\", \"relative_term\", \"relative_term\", \"reveal\", \"reveal\", \"reversing\", \"reversing\", \"reversing\", \"rise\", \"rise\", \"rose\", \"rose\", \"rose\", \"save\", \"say\", \"say\", \"say\", \"say\", \"scoopthis\", \"scoopthis\", \"scoopthis\", \"scope\", \"scope\", \"scope\", \"seat\", \"seat\", \"see\", \"see\", \"see\", \"see\", \"senior\", \"senior\", \"senior\", \"share\", \"share\", \"shareholder\", \"shareholder\", \"shareholder\", \"shell\", \"shell\", \"shoot\", \"shoot\", \"shoot\", \"shoot\", \"show\", \"show\", \"show\", \"show\", \"singapore_launche\", \"singapore_launche\", \"singapore_launche\", \"slam\", \"speak\", \"speak\", \"speak\", \"spend\", \"spend\", \"spend\", \"still\", \"still\", \"strategy\", \"strategy\", \"strenuous_objection\", \"strenuous_objection\", \"strenuous_objection\", \"stricter_ethic\", \"stricter_ethic\", \"surge\", \"surge\", \"suspect\", \"suspect\", \"take\", \"take\", \"thwarting\", \"thwarting\", \"thwarting\", \"thwarting\", \"tip\", \"tip\", \"title\", \"title\", \"title\", \"today\", \"today\", \"trip\", \"trip\", \"trip\", \"trip\", \"truth\", \"truth\", \"tumble\", \"tumble\", \"turning\", \"twoand\", \"twoand\", \"twoand\", \"twoand\", \"use\", \"use\", \"utterly\", \"want\", \"want\", \"want\", \"watch\", \"watch\", \"whatexxons_co\", \"whatexxons_co\", \"world\", \"world\", \"world\", \"year\", \"year\", \"year\", \"yearly\", \"yearly\", \"young_engineer\", \"young_engineer\", \"young_engineer\"]}, \"R\": 30, \"lambda.step\": 0.01, \"plot.opts\": {\"xlab\": \"PC1\", \"ylab\": \"PC2\"}, \"topic.order\": [3, 2, 1, 4]};\n",
       "\n",
       "function LDAvis_load_lib(url, callback){\n",
       "  var s = document.createElement('script');\n",
       "  s.src = url;\n",
       "  s.async = true;\n",
       "  s.onreadystatechange = s.onload = callback;\n",
       "  s.onerror = function(){console.warn(\"failed to load library \" + url);};\n",
       "  document.getElementsByTagName(\"head\")[0].appendChild(s);\n",
       "}\n",
       "\n",
       "if(typeof(LDAvis) !== \"undefined\"){\n",
       "   // already loaded: just create the visualization\n",
       "   !function(LDAvis){\n",
       "       new LDAvis(\"#\" + \"ldavis_el253281404541843311848588707252\", ldavis_el253281404541843311848588707252_data);\n",
       "   }(LDAvis);\n",
       "}else if(typeof define === \"function\" && define.amd){\n",
       "   // require.js is available: use it to load d3/LDAvis\n",
       "   require.config({paths: {d3: \"https://d3js.org/d3.v5\"}});\n",
       "   require([\"d3\"], function(d3){\n",
       "      window.d3 = d3;\n",
       "      LDAvis_load_lib(\"https://cdn.jsdelivr.net/gh/bmabey/pyLDAvis@3.3.1/pyLDAvis/js/ldavis.v3.0.0.js\", function(){\n",
       "        new LDAvis(\"#\" + \"ldavis_el253281404541843311848588707252\", ldavis_el253281404541843311848588707252_data);\n",
       "      });\n",
       "    });\n",
       "}else{\n",
       "    // require.js not available: dynamically load d3 & LDAvis\n",
       "    LDAvis_load_lib(\"https://d3js.org/d3.v5.js\", function(){\n",
       "         LDAvis_load_lib(\"https://cdn.jsdelivr.net/gh/bmabey/pyLDAvis@3.3.1/pyLDAvis/js/ldavis.v3.0.0.js\", function(){\n",
       "                 new LDAvis(\"#\" + \"ldavis_el253281404541843311848588707252\", ldavis_el253281404541843311848588707252_data);\n",
       "            })\n",
       "         });\n",
       "}\n",
       "</script>"
      ],
      "text/plain": [
       "PreparedData(topic_coordinates=              x         y  topics  cluster       Freq\n",
       "topic                                                \n",
       "2      0.242968 -0.060675       1        1  60.531825\n",
       "1      0.189572  0.207525       2        1  17.895672\n",
       "0     -0.109232 -0.336687       3        1  10.972320\n",
       "3     -0.323308  0.189838       4        1  10.600183, topic_info=           Term          Freq         Total Category  logprob  loglift\n",
       "81         know  70692.000000  70692.000000  Default  30.0000  30.0000\n",
       "142    emission  94381.000000  94381.000000  Default  29.0000  29.0000\n",
       "189      fossil  47348.000000  47348.000000  Default  28.0000  28.0000\n",
       "190        fuel  50986.000000  50986.000000  Default  27.0000  27.0000\n",
       "143       exxon  37114.000000  37114.000000  Default  26.0000  26.0000\n",
       "...         ...           ...           ...      ...      ...      ...\n",
       "3033  ambitious   2333.571658   3470.258343   Topic4  -5.2069   1.8475\n",
       "142    emission  23118.909012  94381.058977   Topic4  -2.9137   0.8376\n",
       "4879      title   1559.403218   2553.604269   Topic4  -5.6100   1.7511\n",
       "4679   football   1542.408994   2532.047377   Topic4  -5.6210   1.7486\n",
       "274    activist   1629.407448   9878.913330   Topic4  -5.5661   0.4421\n",
       "\n",
       "[218 rows x 6 columns], token_table=       Topic      Freq            Term\n",
       "term                                  \n",
       "3105       1  0.001217         ability\n",
       "3105       2  0.000243         ability\n",
       "3105       3  0.998575         ability\n",
       "5048       1  0.000112     actionthank\n",
       "5048       2  0.999833     actionthank\n",
       "...      ...       ...             ...\n",
       "483        2  0.000054          yearly\n",
       "483        4  0.999922          yearly\n",
       "17733      1  0.000138  young_engineer\n",
       "17733      2  0.000138  young_engineer\n",
       "17733      3  0.999600  young_engineer\n",
       "\n",
       "[480 rows x 3 columns], R=30, lambda_step=0.01, plot_opts={'xlab': 'PC1', 'ylab': 'PC2'}, topic_order=[3, 2, 1, 4])"
      ]
     },
     "execution_count": 54,
     "metadata": {},
     "output_type": "execute_result"
    }
   ],
   "source": [
    "# Visualize the topics\n",
    "pyLDAvis.enable_notebook()\n",
    "vis = pyLDAvis.gensim_models.prepare(lda_model, corpus, id2word)\n",
    "vis"
   ]
  },
  {
   "cell_type": "markdown",
   "id": "12e69ee4-15d9-47c5-844d-117d707ab222",
   "metadata": {},
   "source": [
    "# The Following code is still being working on"
   ]
  },
  {
   "cell_type": "markdown",
   "id": "376f4e9e-9158-4afc-933d-8571b63db883",
   "metadata": {
    "tags": []
   },
   "source": [
    "### Find the optimal number of topics"
   ]
  },
  {
   "cell_type": "code",
   "execution_count": 55,
   "id": "7ad00526-2503-4f3f-9f45-cbf49d3eb72e",
   "metadata": {},
   "outputs": [],
   "source": [
    "def compute_coherence_values(dictionary, corpus, texts, limit, start=2, step=3):\n",
    "    \"\"\"\n",
    "    Compute c_v coherence for various number of topics\n",
    "\n",
    "    Parameters:\n",
    "    ----------\n",
    "    dictionary : Gensim dictionary\n",
    "    corpus : Gensim corpus\n",
    "    texts : List of input texts\n",
    "    limit : Max num of topics\n",
    "\n",
    "    Returns:\n",
    "    -------\n",
    "    model_list : List of LDA topic models\n",
    "    coherence_values : Coherence values corresponding to the LDA model with respective number of topics\n",
    "    \"\"\"\n",
    "    coherence_values = []\n",
    "    model_list = []\n",
    "    for num_topics in range(start, limit, step):\n",
    "        model = gensim.models.ldamodel.LdaModel(corpus=corpus, num_topics=num_topics, id2word=id2word)\n",
    "        model_list.append(model)\n",
    "        coherencemodel = CoherenceModel(model=model, texts=texts, dictionary=dictionary, coherence='c_v')\n",
    "        coherence_values.append(coherencemodel.get_coherence())\n",
    "\n",
    "    return model_list, coherence_values"
   ]
  },
  {
   "cell_type": "code",
   "execution_count": 56,
   "id": "3900923d-71e3-48cc-9874-a5c45678b06e",
   "metadata": {},
   "outputs": [],
   "source": [
    "# Can take a long time to run.\n",
    "model_list, coherence_values = compute_coherence_values(dictionary=id2word, corpus=corpus, texts=tweet_lemmatized, start=2, limit=20, step=2)"
   ]
  },
  {
   "cell_type": "code",
   "execution_count": 57,
   "id": "3415d926-fdd9-4d0e-8d5e-7620b147d78b",
   "metadata": {},
   "outputs": [
    {
     "data": {
      "image/png": "[encoded data removed]",
      "text/plain": [
       "<Figure size 432x288 with 1 Axes>"
      ]
     },
     "metadata": {
      "needs_background": "light"
     },
     "output_type": "display_data"
    }
   ],
   "source": [
    "# Show graph\n",
    "limit=20; start=2; step=2;\n",
    "x = range(start, limit, step)\n",
    "plt.plot(x, coherence_values)\n",
    "plt.xlabel(\"Num Topics\")\n",
    "plt.ylabel(\"Coherence score\")\n",
    "plt.legend((\"coherence_values\"), loc='best')\n",
    "plt.show()"
   ]
  },
  {
   "cell_type": "code",
   "execution_count": 58,
   "id": "fa752331-e3ad-4d55-8b56-b4b5b2be33b2",
   "metadata": {},
   "outputs": [
    {
     "name": "stdout",
     "output_type": "stream",
     "text": [
      "Num Topics = 2  has Coherence Value of 0.4636\n",
      "Num Topics = 4  has Coherence Value of 0.4489\n",
      "Num Topics = 6  has Coherence Value of 0.436\n",
      "Num Topics = 8  has Coherence Value of 0.3603\n",
      "Num Topics = 10  has Coherence Value of 0.3617\n",
      "Num Topics = 12  has Coherence Value of 0.36\n",
      "Num Topics = 14  has Coherence Value of 0.3484\n",
      "Num Topics = 16  has Coherence Value of 0.3345\n",
      "Num Topics = 18  has Coherence Value of 0.3423\n"
     ]
    }
   ],
   "source": [
    "# Print the coherence scores\n",
    "for m, cv in zip(x, coherence_values):\n",
    "    print(\"Num Topics =\", m, \" has Coherence Value of\", round(cv, 4))"
   ]
  },
  {
   "cell_type": "code",
   "execution_count": 59,
   "id": "6457081c-f856-4de7-854e-8b8bfca718ad",
   "metadata": {},
   "outputs": [
    {
     "name": "stdout",
     "output_type": "stream",
     "text": [
      "[(0,\n",
      "  '0.062*\"company\" + 0.051*\"shareholder\" + 0.041*\"cut\" + 0.039*\"demand\" + '\n",
      "  '0.033*\"seat\" + 0.032*\"lose\" + 0.030*\"climate\" + 0.030*\"day\" + 0.029*\"order\" '\n",
      "  '+ 0.027*\"director\"'),\n",
      " (1,\n",
      "  '0.066*\"climate\" + 0.059*\"use\" + 0.044*\"company\" + 0.040*\"action\" + '\n",
      "  '0.039*\"world\" + 0.035*\"know\" + 0.032*\"work\" + 0.027*\"decade\" + '\n",
      "  '0.027*\"exxon\" + 0.024*\"capture\"'),\n",
      " (2,\n",
      "  '0.058*\"climate\" + 0.029*\"emission\" + 0.023*\"big\" + 0.022*\"chevron\" + '\n",
      "  '0.022*\"change\" + 0.021*\"shell\" + 0.020*\"oil\" + 0.020*\"court\" + 0.018*\"fuel\" '\n",
      "  '+ 0.017*\"board\"'),\n",
      " (3,\n",
      "  '0.090*\"know\" + 0.071*\"point\" + 0.052*\"investment\" + 0.049*\"strategy\" + '\n",
      "  '0.044*\"emission\" + 0.041*\"exxon\" + 0.038*\"show\" + 0.035*\"try\" + '\n",
      "  '0.035*\"rise\" + 0.033*\"commit\"')]\n"
     ]
    }
   ],
   "source": [
    "# Select the model and print the topics\n",
    "optimal_model = model_list[1]\n",
    "model_topics = optimal_model.show_topics(formatted=False)\n",
    "pprint(optimal_model.print_topics(num_words=10))"
   ]
  },
  {
   "cell_type": "code",
   "execution_count": 60,
   "id": "89277f1f-5465-446a-b195-baa74dab95e0",
   "metadata": {},
   "outputs": [
    {
     "name": "stderr",
     "output_type": "stream",
     "text": [
      "/opt/anaconda3/lib/python3.9/site-packages/pyLDAvis/_prepare.py:246: FutureWarning: In a future version of pandas all arguments of DataFrame.drop except for the argument 'labels' will be keyword-only\n",
      "  default_term_info = default_term_info.sort_values(\n",
      "/opt/anaconda3/lib/python3.9/site-packages/past/builtins/misc.py:45: DeprecationWarning: the imp module is deprecated in favour of importlib; see the module's documentation for alternative uses\n",
      "  from imp import reload\n",
      "/opt/anaconda3/lib/python3.9/site-packages/past/builtins/misc.py:45: DeprecationWarning: the imp module is deprecated in favour of importlib; see the module's documentation for alternative uses\n",
      "  from imp import reload\n",
      "/opt/anaconda3/lib/python3.9/site-packages/past/builtins/misc.py:45: DeprecationWarning: the imp module is deprecated in favour of importlib; see the module's documentation for alternative uses\n",
      "  from imp import reload\n",
      "/opt/anaconda3/lib/python3.9/site-packages/past/builtins/misc.py:45: DeprecationWarning: the imp module is deprecated in favour of importlib; see the module's documentation for alternative uses\n",
      "  from imp import reload\n",
      "/opt/anaconda3/lib/python3.9/site-packages/past/builtins/misc.py:45: DeprecationWarning: the imp module is deprecated in favour of importlib; see the module's documentation for alternative uses\n",
      "  from imp import reload\n",
      "/opt/anaconda3/lib/python3.9/site-packages/past/builtins/misc.py:45: DeprecationWarning: the imp module is deprecated in favour of importlib; see the module's documentation for alternative uses\n",
      "  from imp import reload\n",
      "/opt/anaconda3/lib/python3.9/site-packages/past/builtins/misc.py:45: DeprecationWarning: the imp module is deprecated in favour of importlib; see the module's documentation for alternative uses\n",
      "  from imp import reload\n",
      "/opt/anaconda3/lib/python3.9/site-packages/past/builtins/misc.py:45: DeprecationWarning: the imp module is deprecated in favour of importlib; see the module's documentation for alternative uses\n",
      "  from imp import reload\n"
     ]
    },
    {
     "data": {
      "text/html": [
       "\n",
       "<link rel=\"stylesheet\" type=\"text/css\" href=\"https://cdn.jsdelivr.net/gh/bmabey/pyLDAvis@3.3.1/pyLDAvis/js/ldavis.v1.0.0.css\">\n",
       "\n",
       "\n",
       "<div id=\"ldavis_el253281404576109515848608231741\"></div>\n",
       "<script type=\"text/javascript\">\n",
       "\n",
       "var ldavis_el253281404576109515848608231741_data = {\"mdsDat\": {\"x\": [-0.16428072253189582, 0.07132603362929776, -0.25141727391618096, 0.3443719628187789], \"y\": [-0.18937786385921654, 0.3160397742351539, 0.016841836949057394, -0.14350374732499466], \"topics\": [1, 2, 3, 4], \"cluster\": [1, 1, 1, 1], \"Freq\": [44.105623534305515, 22.783550694776494, 19.1695243803802, 13.941301390537793]}, \"tinfo\": {\"Term\": [\"know\", \"use\", \"point\", \"company\", \"emission\", \"investment\", \"shareholder\", \"strategy\", \"cut\", \"demand\", \"action\", \"world\", \"exxon\", \"show\", \"seat\", \"lose\", \"work\", \"try\", \"rise\", \"day\", \"commit\", \"order\", \"ecocide\", \"yearly\", \"nowexxon\", \"assessment\", \"decade\", \"director\", \"capitalism\", \"hold\", \"court\", \"likely\", \"enough\", \"new\", \"long\", \"judge\", \"year\", \"fuel\", \"hear\", \"fossil\", \"shell\", \"renewable\", \"era\", \"global\", \"slam\", \"way\", \"give\", \"real\", \"yesterday\", \"problem\", \"product\", \"denial\", \"right\", \"risk\", \"argue\", \"solution\", \"spend\", \"small\", \"money\", \"address\", \"board\", \"industry\", \"break\", \"half\", \"involve\", \"good\", \"big\", \"save\", \"environmental\", \"fund\", \"elect\", \"amp\", \"chevron\", \"want\", \"change\", \"need\", \"law\", \"history\", \"case\", \"ecuador\", \"halve\", \"turning\", \"emission\", \"oil\", \"climate\", \"planetdutch\", \"major\", \"end\", \"investor\", \"today\", \"go\", \"use\", \"play\", \"third\", \"official\", \"station\", \"effective\", \"party\", \"boy\", \"tv\", \"whip\", \"recording\", \"watch\", \"prevent\", \"expose\", \"camera\", \"undercover\", \"quietly_shelve\", \"projects_technology\", \"reversing\", \"hold\", \"spotlight\", \"whatexxons_co\", \"straight\", \"reveal\", \"bloomberg_businessweek\", \"arctic\", \"essential\", \"plan\", \"side\", \"brilliant\", \"still\", \"truth\", \"share\", \"observation\", \"capture\", \"work\", \"action\", \"world\", \"ambitious\", \"decade\", \"company\", \"climate\", \"relationship\", \"know\", \"exxon\", \"go\", \"admit\", \"today\", \"say\", \"director\", \"crush\", \"face\", \"claim\", \"group\", \"tell\", \"question\", \"output\", \"annual\", \"find\", \"federal\", \"engine\", \"scope\", \"criticize\", \"proposal\", \"direct\", \"rest\", \"wind\", \"set\", \"operation\", \"appealedchevron\", \"boardford_announce\", \"emissionsexxon_get\", \"record\", \"firm\", \"cost\", \"expect\", \"lose\", \"throw\", \"join\", \"demand\", \"seat\", \"activist\", \"day\", \"order\", \"fightyou\", \"tumble\", \"actionthank\", \"solar\", \"large\", \"huge\", \"back\", \"job\", \"project\", \"member\", \"domino\", \"cut\", \"utterly\", \"push\", \"shareholder\", \"buck\", \"green\", \"least\", \"company\", \"help\", \"business\", \"oil\", \"climate\", \"say\", \"investor\", \"major\", \"investment\", \"strategy\", \"rise\", \"commit\", \"ecocide\", \"yearly\", \"nowexxon\", \"assessment\", \"report\", \"re\", \"weekly\", \"meeting\", \"coal\", \"office\", \"catch\", \"family\", \"hypocrite\", \"advocacy\", \"texas_governor\", \"remove\", \"terrible\", \"gate\", \"point\", \"try\", \"playbook\", \"manchin\", \"mention\", \"probably\", \"welp\", \"enrage\", \"corporation\", \"challenge\", \"petition\", \"fyi\", \"mean\", \"stock\", \"capitalism\", \"show\", \"nyu_project\", \"regulation_report\", \"microtargeting\", \"kill\", \"tough\", \"allegedly\", \"sign\", \"week\", \"leadnot\", \"know\", \"meaningfully_invest\", \"scoopthis\", \"exxon\", \"emission\", \"facebook\", \"lobbyist\", \"climate\"], \"Freq\": [83911.0, 54017.0, 39827.0, 92156.0, 76552.0, 29304.0, 45357.0, 27244.0, 33854.0, 30263.0, 38974.0, 38082.0, 55114.0, 22244.0, 25428.0, 24782.0, 30273.0, 19582.0, 19467.0, 23278.0, 18695.0, 22520.0, 17897.0, 17876.0, 17837.0, 17835.0, 27164.0, 20655.0, 18323.0, 21711.0, 35606.40387013768, 17329.14546955387, 18251.162368105648, 14345.020414698722, 14738.119757825569, 7610.213793718285, 8773.250082935969, 31412.81271597135, 8023.863968747049, 26038.49411027862, 38098.0913451403, 6355.363541275981, 16447.79612623276, 5410.738746908569, 16167.555108511446, 5908.9740695871205, 8456.178336517543, 3934.0218750122667, 4130.690802638091, 5114.832269336397, 4128.832223727882, 3596.4500527323235, 3482.6112691805506, 3909.53352979747, 4504.737236030886, 4288.405500884756, 3543.577939364814, 4085.947496098336, 3348.864976222647, 2857.1148724945488, 30117.65061323191, 11048.240626892037, 20564.48238822816, 13730.124602742817, 14307.386667671397, 8001.685642346495, 40152.227089244465, 16408.391282251036, 6106.248355841115, 11885.29769092669, 15136.489476139182, 11414.522624056037, 39126.15288016214, 7331.817324782192, 39056.3191709853, 9486.554842162444, 9081.955748354045, 15716.338035874422, 16761.400781176148, 14732.47634637441, 14731.761635301478, 14693.196948216111, 51792.3450447955, 36072.67939339445, 102547.80113004713, 14489.443220121953, 19347.898889040593, 14775.266576985652, 18869.565711308616, 19138.995279774274, 20311.18911410194, 54014.74307419595, 14480.86960268162, 11758.645876154436, 9476.341050796851, 9220.091172817643, 9714.236816185203, 8741.27785559562, 8551.231873933286, 8535.596004905547, 8488.336253973028, 8485.33834168698, 8527.72435353331, 9262.935909581462, 5975.566068977023, 8732.536502706951, 5817.509329121224, 10484.177600140916, 10719.670601927992, 10719.670601927992, 21703.53094509107, 1607.9904942411292, 2843.177038600422, 1900.7780676929456, 12194.552213268818, 1674.5600702029635, 1337.3506799213226, 10708.873513396076, 20411.139144002183, 1502.5953535969204, 504.3592538416684, 13603.068777717668, 8690.84795737086, 8425.138796427656, 2830.285205754301, 21759.28222288842, 29211.89264624198, 37064.19571768461, 36038.15597454225, 10165.5743866764, 24881.311147112687, 40592.209836263886, 60286.50858977968, 10350.098616357947, 32252.734081258954, 24526.812282530336, 18400.23917187187, 9275.8126079159, 11761.777654262129, 10734.967969483161, 20653.783923348306, 14212.929896221714, 4609.028117826731, 5537.025098843817, 4335.446349140464, 15323.058372914806, 1976.016930365247, 1804.1067379038464, 2834.866995110132, 3777.80019643766, 1093.1404092589516, 3956.2525179608283, 935.0717778781087, 916.7759840943811, 854.0624214562552, 1087.0413629574741, 976.8703276953589, 4729.781935074295, 725.1901281925109, 590.4336492412649, 696.0171951756826, 696.0171951756826, 696.0171951756826, 637.7288554708512, 6769.435091206715, 975.7789864298805, 516.4279776324868, 24698.734776706002, 1044.0244028054617, 468.84267370414756, 30118.212467364578, 25183.247972113557, 16904.22875082768, 23008.01059458527, 22248.848860097518, 13967.720489545902, 13967.720489545902, 13968.739194293299, 4402.268358785812, 9760.23888072939, 5245.0205569792515, 4040.6938153499063, 10477.70976473102, 2277.0709062860565, 5141.785950494952, 13553.248267305931, 31622.69016054798, 13375.347983320175, 15246.309731164003, 39222.13861882169, 12243.24561478708, 8572.274187357989, 5766.311863358714, 47828.8421570509, 5078.549135902507, 4957.354477762496, 13921.376597516382, 23362.413671818806, 7836.617988819884, 7708.805695509187, 6252.44099710677, 29302.740010252695, 27243.167040915934, 19465.901106977744, 18694.514457694313, 17896.552592537522, 17875.40135860659, 17836.150011021684, 17834.23836521204, 6433.462929479245, 5868.234028636058, 2423.678626717911, 1856.3227329559295, 1284.8641572004626, 2803.28718900838, 713.6888848496455, 778.5543428119806, 3218.061373355556, 548.9401942021408, 562.723843965655, 770.542152094939, 543.0669963639433, 564.9763147275771, 39696.84871043357, 19501.69020521964, 359.52134655632597, 323.957932345692, 356.41006343617886, 280.9478581439415, 268.0217490037557, 245.18447177296977, 11184.69424206891, 3002.9122635450913, 861.0635898605299, 833.9917452057676, 10052.516793933688, 700.4647332234448, 17405.9357911211, 21021.294189617656, 7605.174506866629, 7605.174506866629, 7603.11729632421, 4133.910846039787, 2001.1912071801469, 2994.2308141865865, 1751.476342881108, 6967.249326305467, 4945.264405743255, 50593.11295622467, 4945.264405743255, 2652.681690405659, 22860.032415898702, 24686.927203348172, 4461.121321904907, 4313.0840756215, 5942.662998237719], \"Total\": [83911.0, 54017.0, 39827.0, 92156.0, 76552.0, 29304.0, 45357.0, 27244.0, 33854.0, 30263.0, 38974.0, 38082.0, 55114.0, 22244.0, 25428.0, 24782.0, 30273.0, 19582.0, 19467.0, 23278.0, 18695.0, 22520.0, 17897.0, 17876.0, 17837.0, 17835.0, 27164.0, 20655.0, 18323.0, 21711.0, 35607.98212935222, 17330.718544040505, 18253.415704686035, 14346.891566268185, 14741.109435754961, 7611.89256901338, 8775.218008465914, 31419.91340401959, 8025.808350363103, 26044.997192190596, 38108.10159722627, 6357.418111466663, 16453.154405667614, 5412.50435142517, 16172.849919750892, 5910.96527749762, 8459.46865936567, 3935.6470194606864, 4132.540143467352, 5117.174193247013, 4130.748980469082, 3598.149824101492, 3484.328495083609, 3911.4878146817678, 4507.035395427334, 4290.611833030035, 3545.4090464090973, 4088.2049938873924, 3350.7332687061757, 2858.757062362879, 30207.19035988664, 11056.446652652532, 20719.633189448923, 13791.29039392313, 14394.101559114777, 8006.607803410745, 40845.405255398306, 16544.602208103664, 6112.3193347033675, 11980.949875354198, 15298.785684333983, 11520.582561467296, 40211.70388546835, 7374.718007880047, 41723.4101223571, 9634.596413156412, 9223.805221409055, 17392.023409776542, 18943.14112717745, 16372.03888602834, 16391.176170069935, 16416.54387537073, 76552.4085371997, 50092.40852422666, 192139.3863898833, 16394.978119866395, 25602.13107422999, 17179.216540207708, 26581.2661892835, 32185.386099708925, 39566.16128135851, 54017.85167175735, 14481.829189559383, 11759.464490270168, 9477.143125934936, 9220.892501700662, 9715.091679788877, 8742.07898477389, 8552.032708806451, 8536.397107442603, 8489.137012909385, 8486.144135510269, 8528.555906062817, 9263.978708417912, 5976.368518033446, 8733.98845146773, 5818.694413449682, 10487.407424876585, 10723.32857241782, 10723.32857241782, 21711.718411210408, 1608.8107988338093, 2844.9467890566307, 1901.9870844420545, 12202.919278553192, 1675.9133939463443, 1339.033940840931, 10722.467071179535, 20439.091849751432, 1504.8008230488947, 505.24907680435064, 13645.779024180893, 8707.952275337935, 8441.168964549432, 2840.9633173905477, 22412.488804737113, 30273.698181091862, 38974.6090597832, 38082.41982766783, 10450.222997233815, 27164.974431595656, 92156.46449031823, 192139.3863898833, 11862.122254033924, 83911.96582063113, 55114.43301050607, 39566.16128135851, 10063.842504617161, 32185.386099708925, 23191.92467040055, 20655.35314958586, 14216.274392744155, 4610.899139932241, 5539.615588080511, 4337.728756174162, 15332.440780877274, 1977.7888357061522, 1805.7666494865848, 2838.0648446840796, 3782.754338836615, 1094.8642258450452, 3962.672301288807, 936.7981736807368, 918.5444056351524, 855.7211689403615, 1089.2368644278934, 978.8483266595014, 4739.395569730282, 727.0228076719633, 591.9844902820871, 697.8556969349571, 697.8556969349571, 697.8556969349571, 639.4217813480859, 6788.152341088416, 978.8159383140181, 518.1147926695525, 24782.07192383466, 1047.6777385204032, 470.80834055872333, 30263.642313697244, 25428.806879235653, 17008.46402562976, 23278.67894924584, 22520.282896548513, 14183.056778539563, 14183.056778539563, 14184.102862987518, 4421.294668325971, 9885.944316108153, 5311.895525439815, 4082.8903918455367, 10691.817214039778, 2288.2460655578684, 5218.67654582724, 14131.392693677883, 33854.039957674635, 14136.198408597716, 16350.704314191233, 45357.357599811185, 14031.038781729336, 9487.333409632876, 6265.4596168139415, 92156.46449031823, 5375.8978883011, 5218.876222194904, 50092.40852422666, 192139.3863898833, 23191.92467040055, 26581.2661892835, 25602.13107422999, 29304.09370373923, 27244.52022993461, 19467.24407811281, 18695.86145089353, 17897.88724920722, 17876.735759232222, 17837.484384347747, 17835.572761037798, 6435.596719103599, 5871.569943199424, 2425.0903287332476, 1857.6894714113903, 1286.6544184079457, 2807.262960715373, 715.1036681973293, 780.1298317205972, 3225.2825730947684, 550.3276043870611, 564.1995586038007, 772.5710821668907, 544.4982781054504, 566.7463114560388, 39827.704704472126, 19582.675956985175, 361.02559491421937, 325.3168100834951, 357.9139175494055, 282.3454086842695, 269.38163430465784, 246.5268449375336, 11281.487679305163, 3024.9656938473627, 867.1162869506394, 839.6821175264547, 10395.646894775404, 705.5235576537458, 18323.483687356915, 22244.56818083915, 7918.264124027288, 7918.264124027288, 7917.067078941572, 4261.7349580163645, 2051.8660015386195, 3146.0915648358077, 1819.9347899733116, 7915.6067691709095, 5944.537629966984, 83911.96582063113, 5944.537629966984, 2951.386356853432, 55114.43301050607, 76552.4085371997, 6505.536360271557, 13477.690099936943, 192139.3863898833], \"Category\": [\"Default\", \"Default\", \"Default\", \"Default\", \"Default\", \"Default\", \"Default\", \"Default\", \"Default\", \"Default\", \"Default\", \"Default\", \"Default\", \"Default\", \"Default\", \"Default\", \"Default\", \"Default\", \"Default\", \"Default\", \"Default\", \"Default\", \"Default\", \"Default\", \"Default\", \"Default\", \"Default\", \"Default\", \"Default\", \"Default\", \"Topic1\", \"Topic1\", \"Topic1\", \"Topic1\", \"Topic1\", \"Topic1\", \"Topic1\", \"Topic1\", \"Topic1\", \"Topic1\", \"Topic1\", \"Topic1\", \"Topic1\", \"Topic1\", \"Topic1\", \"Topic1\", \"Topic1\", \"Topic1\", \"Topic1\", \"Topic1\", \"Topic1\", \"Topic1\", \"Topic1\", \"Topic1\", \"Topic1\", \"Topic1\", \"Topic1\", \"Topic1\", \"Topic1\", \"Topic1\", \"Topic1\", \"Topic1\", \"Topic1\", \"Topic1\", \"Topic1\", \"Topic1\", \"Topic1\", \"Topic1\", \"Topic1\", \"Topic1\", \"Topic1\", \"Topic1\", \"Topic1\", \"Topic1\", \"Topic1\", \"Topic1\", \"Topic1\", \"Topic1\", \"Topic1\", \"Topic1\", \"Topic1\", \"Topic1\", \"Topic1\", \"Topic1\", \"Topic1\", \"Topic1\", \"Topic1\", \"Topic1\", \"Topic1\", \"Topic1\", \"Topic1\", \"Topic2\", \"Topic2\", \"Topic2\", \"Topic2\", \"Topic2\", \"Topic2\", \"Topic2\", \"Topic2\", \"Topic2\", \"Topic2\", \"Topic2\", \"Topic2\", \"Topic2\", \"Topic2\", \"Topic2\", \"Topic2\", \"Topic2\", \"Topic2\", \"Topic2\", \"Topic2\", \"Topic2\", \"Topic2\", \"Topic2\", \"Topic2\", \"Topic2\", \"Topic2\", \"Topic2\", \"Topic2\", \"Topic2\", \"Topic2\", \"Topic2\", \"Topic2\", \"Topic2\", \"Topic2\", \"Topic2\", \"Topic2\", \"Topic2\", \"Topic2\", \"Topic2\", \"Topic2\", \"Topic2\", \"Topic2\", \"Topic2\", \"Topic2\", \"Topic2\", \"Topic2\", \"Topic2\", \"Topic2\", \"Topic2\", \"Topic3\", \"Topic3\", \"Topic3\", \"Topic3\", \"Topic3\", \"Topic3\", \"Topic3\", \"Topic3\", \"Topic3\", \"Topic3\", \"Topic3\", \"Topic3\", \"Topic3\", \"Topic3\", \"Topic3\", \"Topic3\", \"Topic3\", \"Topic3\", \"Topic3\", \"Topic3\", \"Topic3\", \"Topic3\", \"Topic3\", \"Topic3\", \"Topic3\", \"Topic3\", \"Topic3\", \"Topic3\", \"Topic3\", \"Topic3\", \"Topic3\", \"Topic3\", \"Topic3\", \"Topic3\", \"Topic3\", \"Topic3\", \"Topic3\", \"Topic3\", \"Topic3\", \"Topic3\", \"Topic3\", \"Topic3\", \"Topic3\", \"Topic3\", \"Topic3\", \"Topic3\", \"Topic3\", \"Topic3\", \"Topic3\", \"Topic3\", \"Topic3\", \"Topic3\", \"Topic3\", \"Topic3\", \"Topic3\", \"Topic3\", \"Topic3\", \"Topic3\", \"Topic3\", \"Topic3\", \"Topic3\", \"Topic4\", \"Topic4\", \"Topic4\", \"Topic4\", \"Topic4\", \"Topic4\", \"Topic4\", \"Topic4\", \"Topic4\", \"Topic4\", \"Topic4\", \"Topic4\", \"Topic4\", \"Topic4\", \"Topic4\", \"Topic4\", \"Topic4\", \"Topic4\", \"Topic4\", \"Topic4\", \"Topic4\", \"Topic4\", \"Topic4\", \"Topic4\", \"Topic4\", \"Topic4\", \"Topic4\", \"Topic4\", \"Topic4\", \"Topic4\", \"Topic4\", \"Topic4\", \"Topic4\", \"Topic4\", \"Topic4\", \"Topic4\", \"Topic4\", \"Topic4\", \"Topic4\", \"Topic4\", \"Topic4\", \"Topic4\", \"Topic4\", \"Topic4\", \"Topic4\", \"Topic4\", \"Topic4\", \"Topic4\", \"Topic4\", \"Topic4\", \"Topic4\", \"Topic4\", \"Topic4\", \"Topic4\", \"Topic4\"], \"logprob\": [30.0, 29.0, 28.0, 27.0, 26.0, 25.0, 24.0, 23.0, 22.0, 21.0, 20.0, 19.0, 18.0, 17.0, 16.0, 15.0, 14.0, 13.0, 12.0, 11.0, 10.0, 9.0, 8.0, 7.0, 6.0, 5.0, 4.0, 3.0, 2.0, 1.0, -3.9075, -4.6277, -4.5758, -4.8166, -4.7896, -5.4506, -5.3083, -4.0328, -5.3976, -4.2205, -3.8399, -5.6307, -4.6799, -5.7917, -4.697, -5.7036, -5.3451, -6.1104, -6.0616, -5.8479, -6.0621, -6.2001, -6.2323, -6.1166, -5.9749, -6.0241, -6.2149, -6.0725, -6.2714, -6.4302, -4.0749, -5.0778, -4.4565, -4.8605, -4.8193, -5.4004, -3.7874, -4.6823, -5.6707, -5.0047, -4.7629, -5.0452, -3.8133, -5.4878, -3.815, -5.2302, -5.2738, -4.7253, -4.661, -4.79, -4.79, -4.7927, -3.5328, -3.8945, -2.8497, -4.8066, -4.5175, -4.7871, -4.5425, -4.5283, -4.4689, -2.8302, -4.1467, -4.3549, -4.5707, -4.5981, -4.5459, -4.6514, -4.6734, -4.6753, -4.6808, -4.6812, -4.6762, -4.5935, -5.0318, -4.6524, -5.0586, -4.4696, -4.4474, -4.4474, -3.742, -6.3445, -5.7746, -6.1772, -4.3185, -6.3039, -6.5288, -4.4484, -3.8034, -6.4123, -7.504, -4.2092, -4.6572, -4.6883, -5.7791, -3.7395, -3.4449, -3.2068, -3.2349, -4.5005, -3.6054, -3.1159, -2.7204, -4.4825, -3.3459, -3.6197, -3.9071, -4.5921, -4.3546, -4.446, -3.6189, -3.9926, -5.1188, -4.9353, -5.18, -3.9174, -5.9657, -6.0567, -5.6048, -5.3176, -6.5577, -5.2715, -6.7139, -6.7337, -6.8045, -6.5633, -6.6702, -5.0929, -6.9681, -7.1737, -7.0092, -7.0092, -7.0092, -7.0966, -4.7344, -6.6713, -7.3076, -3.44, -6.6037, -7.4043, -3.2416, -3.4206, -3.8192, -3.5109, -3.5445, -4.01, -4.01, -4.01, -5.1647, -4.3685, -4.9895, -5.2504, -4.2975, -5.8239, -5.0094, -4.0402, -3.1929, -4.0534, -3.9224, -2.9775, -4.1418, -4.4982, -4.8947, -2.7792, -5.0218, -5.0459, -4.0134, -3.4957, -4.588, -4.6044, -4.8138, -2.9506, -3.0235, -3.3596, -3.4001, -3.4437, -3.4449, -3.4471, -3.4472, -4.4668, -4.5588, -5.443, -5.7097, -6.0777, -5.2975, -6.6656, -6.5786, -5.1595, -6.9281, -6.9033, -6.589, -6.9388, -6.8993, -2.647, -3.3578, -7.3513, -7.4555, -7.36, -7.5979, -7.645, -7.7341, -3.9138, -5.2287, -6.4779, -6.5098, -4.0205, -6.6843, -3.4715, -3.2828, -4.2995, -4.2995, -4.2998, -4.9091, -5.6346, -5.2316, -5.7679, -4.3871, -4.7299, -2.4045, -4.7299, -5.3527, -3.1989, -3.122, -4.8329, -4.8667, -4.5462], \"loglift\": [30.0, 29.0, 28.0, 27.0, 26.0, 25.0, 24.0, 23.0, 22.0, 21.0, 20.0, 19.0, 18.0, 17.0, 16.0, 15.0, 14.0, 13.0, 12.0, 11.0, 10.0, 9.0, 8.0, 7.0, 6.0, 5.0, 4.0, 3.0, 2.0, 1.0, 0.8185, 0.8185, 0.8185, 0.8185, 0.8184, 0.8184, 0.8184, 0.8184, 0.8183, 0.8183, 0.8183, 0.8183, 0.8183, 0.8183, 0.8183, 0.8182, 0.8182, 0.8182, 0.8181, 0.8181, 0.8181, 0.8181, 0.8181, 0.8181, 0.8181, 0.8181, 0.8181, 0.818, 0.818, 0.818, 0.8156, 0.8178, 0.8111, 0.8141, 0.8125, 0.818, 0.8015, 0.8103, 0.8176, 0.8106, 0.8079, 0.8093, 0.7912, 0.8127, 0.7525, 0.8031, 0.8031, 0.7173, 0.6962, 0.7131, 0.7118, 0.7077, 0.4278, 0.4902, 0.1907, 0.695, 0.5385, 0.6678, 0.4759, 0.2988, 0.1518, 1.4791, 1.4791, 1.4791, 1.479, 1.479, 1.479, 1.479, 1.479, 1.479, 1.479, 1.479, 1.479, 1.479, 1.479, 1.479, 1.4789, 1.4788, 1.4788, 1.4788, 1.4788, 1.4786, 1.4785, 1.4785, 1.4784, 1.4783, 1.4779, 1.4779, 1.4778, 1.4777, 1.4774, 1.476, 1.4772, 1.4772, 1.4754, 1.4496, 1.4434, 1.4289, 1.424, 1.4515, 1.3913, 0.6592, 0.32, 1.3428, 0.523, 0.6695, 0.7135, 1.3976, 0.4725, 0.7088, 1.6518, 1.6516, 1.6514, 1.6514, 1.6513, 1.6512, 1.651, 1.6509, 1.6507, 1.6505, 1.6503, 1.6502, 1.65, 1.6499, 1.6499, 1.6498, 1.6498, 1.6498, 1.6493, 1.6492, 1.6492, 1.6492, 1.6492, 1.6492, 1.6491, 1.6487, 1.6486, 1.6485, 1.6484, 1.6477, 1.647, 1.6421, 1.6457, 1.6402, 1.6397, 1.6365, 1.6365, 1.6365, 1.6475, 1.6391, 1.6392, 1.6415, 1.6316, 1.647, 1.637, 1.6101, 1.5837, 1.5965, 1.5819, 1.5065, 1.5156, 1.5504, 1.5688, 0.996, 1.5949, 1.6004, 0.3714, -0.4552, 0.5669, 0.414, 0.2421, 1.9703, 1.9703, 1.9702, 1.9702, 1.9702, 1.9702, 1.9702, 1.9702, 1.97, 1.9697, 1.9697, 1.9696, 1.9689, 1.9689, 1.9683, 1.9683, 1.9681, 1.9678, 1.9677, 1.9677, 1.9677, 1.9672, 1.967, 1.9662, 1.9661, 1.9661, 1.9661, 1.9654, 1.9653, 1.9649, 1.9617, 1.963, 1.9633, 1.9635, 1.9368, 1.9631, 1.9189, 1.9138, 1.93, 1.93, 1.9299, 1.9399, 1.9453, 1.9208, 1.932, 1.8427, 1.7863, 1.4644, 1.7863, 1.8636, 1.0903, 0.8386, 1.5931, 0.8309, -1.5057]}, \"token.table\": {\"Topic\": [1, 2, 3, 4, 1, 2, 3, 4, 1, 2, 3, 4, 1, 2, 1, 2, 3, 4, 2, 4, 1, 2, 3, 4, 1, 2, 3, 1, 2, 3, 4, 1, 2, 3, 4, 2, 3, 4, 1, 2, 1, 2, 4, 2, 4, 2, 3, 4, 1, 2, 3, 2, 3, 1, 2, 3, 2, 3, 4, 2, 1, 2, 3, 2, 1, 2, 3, 1, 2, 3, 4, 2, 3, 1, 2, 4, 2, 3, 4, 1, 2, 4, 2, 4, 1, 2, 4, 1, 2, 3, 4, 1, 2, 3, 2, 3, 4, 1, 2, 3, 4, 2, 4, 2, 4, 1, 2, 3, 4, 1, 2, 3, 4, 1, 2, 3, 1, 2, 2, 3, 4, 1, 2, 3, 1, 2, 3, 4, 1, 2, 3, 1, 2, 3, 1, 2, 3, 1, 2, 1, 2, 3, 2, 3, 1, 2, 3, 2, 4, 1, 2, 3, 4, 2, 1, 2, 3, 1, 2, 3, 4, 2, 3, 4, 1, 2, 3, 4, 1, 2, 3, 1, 2, 3, 2, 4, 1, 2, 3, 4, 1, 2, 3, 1, 2, 4, 2, 3, 2, 1, 2, 3, 4, 2, 3, 4, 1, 2, 3, 4, 2, 4, 2, 3, 1, 2, 3, 4, 2, 3, 1, 2, 3, 1, 2, 3, 4, 1, 2, 3, 4, 1, 2, 3, 1, 2, 3, 4, 2, 4, 1, 2, 1, 2, 1, 2, 3, 4, 1, 2, 3, 4, 1, 2, 3, 4, 1, 2, 3, 1, 2, 3, 1, 2, 3, 4, 1, 2, 1, 2, 3, 4, 1, 2, 3, 1, 2, 3, 1, 2, 3, 4, 1, 2, 3, 4, 1, 2, 3, 2, 4, 1, 2, 3, 1, 2, 3, 1, 2, 3, 4, 2, 3, 4, 1, 2, 1, 2, 3, 4, 1, 2, 3, 4, 1, 2, 3, 4, 1, 2, 3, 1, 2, 3, 4, 2, 3, 4, 1, 2, 2, 3, 4, 1, 2, 3, 1, 2, 3, 1, 2, 3, 2, 4, 2, 3, 4, 1, 2, 3, 4, 2, 4, 1, 2, 3, 2, 4, 1, 2, 4, 1, 2, 1, 2, 4, 1, 2, 2, 4, 1, 2, 4, 1, 2, 2, 3, 4, 2, 1, 2, 3, 2, 3, 1, 2, 3, 2, 3, 2, 1, 2, 4, 2, 3, 4, 1, 2, 3, 4, 2, 2, 4, 1, 2, 4, 2, 2, 4, 1, 2, 4, 1, 2, 4, 1, 2, 3, 4, 1, 2, 4, 2, 3, 1, 2, 3, 4, 2, 3, 1, 2, 4, 2, 3, 4, 1, 2, 2, 3, 2, 1, 2, 4, 1, 2, 3, 4, 2, 4, 1, 2, 4, 1, 2, 4, 2, 3, 4, 2, 3, 1, 2, 4, 1, 2, 4, 2, 4, 1, 2, 1, 2, 4, 1, 2, 3, 4, 1, 2, 4, 2, 3, 1, 2, 3, 2, 3, 2, 3, 1, 2, 3, 4, 1, 2, 3, 1, 2, 4, 1, 2, 3, 1, 2, 3, 4, 1, 2, 3, 1, 2, 4, 1, 2, 3, 4, 1, 2, 4, 1, 2, 2, 2, 1, 2, 3, 1, 2, 4, 2, 2, 4, 1, 2, 3, 4, 2, 4, 2, 4, 2, 1, 2, 3, 1, 2, 3, 1, 2, 3, 4, 2, 3, 1, 2, 3, 4, 1, 2, 3, 4, 1, 2, 3, 4, 2, 2, 3, 1, 2, 4, 1, 2, 3, 4, 1, 2, 3, 4, 2, 1, 2, 4, 1, 2, 3, 4, 2, 4, 2, 4, 1, 2, 2, 1, 2, 3, 1, 2, 3, 2, 3, 4, 1, 2, 4, 2, 4, 1, 2, 4], \"Freq\": [0.0006157855223944997, 0.9509781084179058, 0.048364821238068, 2.565773009977082e-05, 0.013465779390136962, 0.0016920351066140686, 0.9848349335121634, 7.050146277558618e-05, 0.0049975118195220315, 0.0010582966206046656, 0.9938581152611814, 5.8794256700259193e-05, 0.9993853754185651, 0.0003498023715150735, 0.0004968281248147579, 0.9217155371563387, 0.0008942906246665641, 0.07690899372132451, 0.0018170994731652084, 0.9975876107676994, 0.01811771807187525, 0.0028606923271381974, 0.027335504459320554, 0.9516569808279737, 0.0263152279212408, 0.9728022074448507, 0.0008612256410587898, 0.9908353105492741, 0.008159309609428976, 0.0008680116605775507, 0.00017360233211551014, 0.000352352766665314, 0.000352352766665314, 0.9989200934961651, 0.000352352766665314, 0.0014329610038179626, 0.9973408586573019, 0.0014329610038179626, 0.0007468070595521923, 0.9984810386212811, 0.9995483959523817, 0.00022187533761429116, 0.00022187533761429116, 5.6067725628891606e-05, 0.999911818865653, 0.004898490549720502, 0.9897400155710275, 0.005388339604692553, 0.98302366567151, 9.793023168674139e-05, 0.01684399985011952, 0.9994549873820189, 0.000596689544705683, 0.9970473798183799, 0.0008938269226076186, 0.0020524914519137907, 0.0014329610038179626, 0.9973408586573019, 0.0014329610038179626, 0.9998792440532427, 0.9924886127072859, 0.007432564012688292, 4.8263402679794106e-05, 0.9975277999274123, 0.1272892212603431, 7.127056061609355e-05, 0.8725654736228333, 0.0011496727924841603, 0.0007664485283227735, 0.9498213387239971, 0.048286257284334735, 0.9998868270237334, 0.00011449522810302684, 0.0004911729752683406, 0.04955389572707258, 0.9499285341689707, 0.9708426489163938, 0.02904630564109437, 8.923596203101188e-05, 0.8848057398439183, 5.278955550646849e-05, 0.11513402055960778, 0.0013983986441026828, 0.9984566318893154, 0.006942227491278003, 0.0003305822614894287, 0.9927385312527545, 0.9360692207435894, 0.0034033651512082575, 0.05402242993537614, 0.006495154619559421, 0.9730003013908421, 0.000273552198417913, 0.026708641918258048, 0.00018051794101953242, 0.999527839425151, 0.00018051794101953242, 0.5337167039344696, 0.3137670059883895, 0.1215888134075465, 0.03093067023718213, 0.0007772094710849862, 0.9987141703442072, 5.348777335703924e-05, 0.9999539229098485, 0.04034442966711907, 0.44046828645715363, 0.518997774757568, 0.00019531999300918324, 0.005850292255432841, 8.864079174898243e-05, 0.002659223752469473, 0.9914472557123685, 0.0010216425385578321, 0.0020432850771156643, 0.9971231176324442, 0.9999443346903226, 2.8083590818691305e-05, 0.0010886789945756873, 0.9983186380259053, 0.0010886789945756873, 0.00014068383493081563, 7.034191746540781e-05, 0.9997696729358413, 0.06389193144169054, 0.0019200071861811766, 0.9340982653631901, 8.861571628528508e-05, 0.011555638556057958, 4.295776414891434e-05, 0.9883722375382212, 0.08400523275831984, 0.9159220842505502, 3.6812109008904394e-05, 0.004592969959107961, 0.00019825769607660266, 0.9951875484058531, 0.9994025195707272, 0.00027792061167150367, 0.0009180739586198602, 0.0009180739586198602, 0.997946393019788, 4.841359974617767e-05, 0.9999344891575536, 0.03976961168529611, 0.001061466504055946, 0.9590703686313491, 5.5872516463880095e-05, 0.9999504271540621, 0.899826839073298, 6.107974742555648e-05, 0.09919350981910371, 0.0008551164639577906, 0.9998876305211666, 0.9893595682890913, 0.004575526544677352, 0.006013549173004519, 0.6765561135131668, 0.0003004477643420381, 0.0006531473137870393, 0.3224849547092128, 0.0014329610038179626, 0.9973408586573019, 0.0014329610038179626, 0.860050862355645, 5.82098722406528e-05, 0.13976190324980736, 0.0001164197444813056, 0.001261774787275197, 0.0002523549574550394, 0.9983162116921359, 0.9998676573894378, 5.478426702040643e-05, 5.478426702040643e-05, 0.0040563533770668495, 0.9938065773813781, 0.9989661314539819, 0.00032720803519619454, 0.0006544160703923891, 0.00016360401759809727, 0.9996867223426872, 0.00012155723763894543, 0.00018233585645841812, 0.00121240754704131, 0.99874403240503, 9.326211900317769e-05, 0.0019300742116386326, 0.9959182932055344, 0.9999383374649113, 0.07912627893983222, 0.44501954679139294, 0.06107293164674965, 0.41477338605011793, 0.00021687743966021677, 0.999588119393939, 0.00021687743966021677, 0.268386786777888, 0.025209297268942516, 0.02059784045145303, 0.6857236287606864, 0.0012818379189454571, 0.9985517388585111, 0.0009133552603092621, 0.9982972995180235, 0.013466772571128872, 0.0016921599042256173, 0.9848370642593093, 7.050666267606739e-05, 0.001057430549727477, 0.998743154217602, 0.0025043633592457372, 0.00014731549172033748, 0.9971785634549645, 0.9997313421791155, 3.839508956828925e-05, 0.00011518526870486775, 7.67901791365785e-05, 0.9997799674387803, 3.182694958898482e-05, 9.548084876695447e-05, 9.548084876695447e-05, 0.9919914634188084, 8.34658362152973e-05, 0.007845788604237946, 0.0023818537494779846, 0.003572780624216977, 0.0011909268747389923, 0.9932330135323196, 0.0017644578884525614, 0.9969187069756972, 0.9995899672301723, 0.0003546322021866742, 0.9997220600063307, 0.00018475735723643148, 0.5133426984631303, 0.465043850707577, 0.021129166260409477, 0.0004802083241002154, 0.9994244999225786, 0.00012489683828075215, 0.00037469051484225645, 0.00012489683828075215, 0.08432295624687622, 0.01201602126517986, 0.9035204761852786, 0.00010540369530859528, 0.0002305353921857463, 0.0002305353921857463, 0.9993709251252102, 0.9955558622744877, 7.250953111977332e-05, 0.004350571867186399, 0.8987762590765409, 6.100843463728896e-05, 0.10041988341297763, 0.0007321012156474675, 0.9997746830868418, 0.00012459804126206903, 0.05487455419158387, 0.0003720308758751449, 0.9447724092849304, 0.00018601543793757245, 0.9036326383487729, 5.749762269971831e-05, 0.09625102039932845, 0.0002763484624460688, 0.9996445048215795, 4.60580770743448e-05, 0.012236686450006586, 0.00018825671461548593, 0.9874064681582237, 0.00018825671461548593, 0.0009301510587090662, 0.00031005035290302205, 0.0009301510587090662, 0.997742035641925, 0.9992360427433975, 0.00027133491385139324, 0.0004522248564189887, 3.4124925005696355e-05, 0.9999626774419204, 0.7098984625347767, 7.524096052302881e-05, 0.2900162823360145, 0.9939488019618966, 6.947290151407678e-05, 0.005905196628696527, 0.0002805884107390651, 0.019641188751734557, 0.980001789241308, 9.352947024635503e-05, 0.002124006551823759, 0.996159072805343, 0.002124006551823759, 0.9997513668255009, 0.0001313733727760185, 0.027688254000413814, 0.00023464622034248994, 0.0021118159830824093, 0.9700274748958534, 0.009509966691827862, 0.3843671124204562, 0.0032057406517565098, 0.6029295048115877, 0.012340753305803398, 0.00010115371562133933, 0.9872602644642718, 0.00020230743124267865, 0.9846261691346305, 0.015178117559881995, 0.00010841512542772853, 0.13810998451103418, 0.00033644332402200776, 0.02960701251393668, 0.8318561186444141, 0.00015960521033706886, 0.920283642803539, 0.07948339474786029, 0.9999008382695652, 5.7701012076263216e-05, 0.677044800135499, 0.002967867617032324, 0.32001032580651034, 0.9997890636543666, 6.783749923017821e-05, 0.00013567499846035643, 0.003308843596775088, 4.0351751180184e-05, 0.9966479023993645, 0.7557183401609434, 3.905924850945542e-05, 0.24419842168111527, 0.0030739266124715234, 0.9959522224407735, 9.619410991177233e-05, 0.03289838558982614, 0.9670393869430474, 0.13810998451103418, 0.00033644332402200776, 0.02960701251393668, 0.8318561186444141, 0.0005383030993012218, 0.9990905523030678, 0.014371459764060037, 0.0001916194635208005, 0.9853072814239562, 0.002793967909509869, 0.9946525757855134, 0.004294519632205193, 0.03536663226521924, 0.9603303754016494, 0.9994827195819006, 0.00029844213782678433, 0.9846805816427491, 0.007680653846480808, 0.00757686122693377, 0.9998681549756302, 6.97015095835225e-05, 5.6061716913260044e-05, 0.9999167828649062, 0.004167580101283102, 0.03536128570785663, 0.9604377778866059, 0.003519932812502872, 0.9961409859383128, 0.0003562188558727575, 0.0010686565676182726, 0.9984814530113393, 0.9998793807458909, 0.720129078691708, 0.001956384268338851, 0.2779063816280117, 0.0016892334451591613, 0.9966477326439052, 0.011989192197997678, 4.440441554813955e-05, 0.9879538415305569, 0.0005537814092891347, 0.9990216623575991, 0.9998765757234899, 0.0057662392867551164, 0.0011532478573510233, 0.992946405179231, 0.9986255822930913, 0.0001957034113552675, 0.001174220468131605, 0.883746223634367, 6.099428695109165e-05, 0.1154011909114654, 0.0007929257303641914, 0.9999427427607017, 0.0027698867174157076, 0.9971592182696547, 0.0032640595526310288, 2.5108150404854066e-05, 0.9967182466214919, 0.9998943533390224, 0.0035417611522709125, 0.9952348837881264, 0.9995751183827429, 0.00019542035550004747, 0.00019542035550004747, 0.9995765948312638, 0.00024208684786419565, 0.00024208684786419565, 0.002185079688438583, 0.002185079688438583, 0.9950852901149306, 0.00043701593768771655, 0.0002797638792600739, 0.9996895952226642, 9.325462642002464e-05, 0.001168604957194525, 0.9979886334441243, 0.061465242150317186, 0.006054785047643185, 0.9324368973370506, 6.115944492568874e-05, 0.0005056151505896022, 0.9990955375650538, 0.00019070490150462863, 0.9996750936872633, 9.535245075231432e-05, 0.00017031220094009455, 0.0003406244018801891, 0.9993919951164749, 0.9995815124037948, 0.0002540878272505833, 0.00156391294317768, 0.9977764577473598, 0.9998651760455634, 0.004167580101283102, 0.03536128570785663, 0.9604377778866059, 0.1165895925182938, 0.872525150082676, 8.430194686789139e-05, 0.010790649199090098, 0.0025887585571937833, 0.9979664237982036, 0.999619639384375, 0.00015729656009195518, 0.00015729656009195518, 0.0001553857464423731, 0.0001553857464423731, 0.9995965068637861, 0.001021608734228195, 0.9981117333409466, 0.001021608734228195, 0.9993510340950046, 0.0006555808341746648, 0.0002797638792600739, 0.9996895952226642, 9.325462642002464e-05, 0.9996187227795876, 0.00028699934618994766, 0.00028699934618994766, 5.136833934929231e-05, 0.9999360937733242, 0.9996196294729123, 0.00025565719423859646, 0.9917433972491188, 0.008159761008570882, 6.0442674137562086e-05, 0.06359972365219506, 0.46287663281784003, 0.3379193452625442, 0.13560754636349387, 0.10029185074758397, 0.0010164714602795672, 0.8988995947072306, 0.001067465787290062, 0.998080511116208, 0.009595416771175471, 3.9325478570391277e-05, 0.9903335268381636, 0.00137547266667211, 0.9972176833372799, 0.9980845112072348, 0.0017770050644639196, 0.10891287018052755, 6.614141913797219e-05, 0.8647329138098484, 0.02628019053748762, 0.9997349225806881, 2.6241139235148515e-05, 0.00020992911388118812, 0.05493475935633566, 4.495479489061838e-05, 0.944994743395689, 0.000664539774754966, 0.9988032814567139, 0.000664539774754966, 0.03681450586533516, 0.0005494702367960472, 0.0005494702367960472, 0.9621223846298788, 0.9997001196588754, 6.1832021255497e-05, 0.000247328085021988, 0.9994606449797186, 0.00024460612946150724, 0.00024460612946150724, 0.00384502759379227, 0.0002261780937524865, 0.9956359686984455, 0.0002261780937524865, 0.9993912679282874, 0.00023306699345342522, 0.00023306699345342522, 0.9996025715536196, 0.00028205490167991526, 0.9994960259873958, 0.9999032087511597, 0.0002931309376263409, 0.9968650361327788, 0.002858026641856824, 0.005669548460298338, 0.0014173871150745844, 0.9921709805522091, 0.999481024634642, 3.670462873122138e-05, 0.999944200524664, 0.0003913271269557578, 0.0001956635634778789, 0.9993842610571796, 6.522118782595964e-05, 0.0018365530988994879, 0.9972483327024219, 0.0017724225138967763, 0.997873875323885, 0.9999605007293868, 0.0019089839618283066, 0.0009544919809141533, 0.9964896280743761, 0.5946487620408906, 0.36544535969094283, 0.0398938821495639, 0.013158754021828757, 0.00048736126006773174, 0.011209308981557831, 0.9752098813955312, 0.9980532420479673, 0.0019522385358204401, 0.0040341779730987464, 5.106554396327527e-05, 5.106554396327527e-05, 0.9958802383717943, 0.013466772571128872, 0.0016921599042256173, 0.9848370642593093, 7.050666267606739e-05, 0.8950117705373715, 6.0914161201754e-05, 0.10410230149379758, 0.000852798256824556, 0.9999534806736842, 0.9998806582026242, 0.00017185985874916193, 3.7024797138418563e-05, 0.9999472087158393, 1.8512398569209282e-05, 0.0506501096903482, 0.0031125765731498892, 0.9461525378609039, 7.074037666249749e-05, 0.9942075062620155, 0.00013559840510938564, 0.005559534609484811, 0.00013559840510938564, 0.9999348182659598, 0.9996675200402374, 0.00016917710611613428, 0.00016917710611613428, 0.003410982984293447, 0.0015159924374637543, 0.11496275984100136, 0.8801599426508313, 0.0004123557741959874, 0.9995503966510736, 0.0037122055576700804, 0.9948710894555816, 0.0003515004230822871, 0.9993157028229424, 0.9998660626035772, 0.0016879789589825858, 0.00021099736987282322, 0.9980175594984538, 3.303197362998661e-05, 0.9649300136791689, 0.03501389204778581, 0.9463159159286798, 0.05362054221450592, 5.251767112096564e-05, 0.9997472417820532, 0.00011395728277465556, 0.00011395728277465556, 5.593862400094839e-05, 0.9999029040169526, 0.9996273131260959, 0.00024198192038879106, 0.00024198192038879106], \"Term\": [\"action\", \"action\", \"action\", \"action\", \"actionthank\", \"actionthank\", \"actionthank\", \"actionthank\", \"activist\", \"activist\", \"activist\", \"activist\", \"address\", \"address\", \"admit\", \"admit\", \"admit\", \"admit\", \"advocacy\", \"advocacy\", \"allegedly\", \"allegedly\", \"allegedly\", \"allegedly\", \"ambitious\", \"ambitious\", \"ambitious\", \"amp\", \"amp\", \"amp\", \"amp\", \"annual\", \"annual\", \"annual\", \"annual\", \"appealedchevron\", \"appealedchevron\", \"appealedchevron\", \"arctic\", \"arctic\", \"argue\", \"argue\", \"argue\", \"assessment\", \"assessment\", \"back\", \"back\", \"back\", \"big\", \"big\", \"big\", \"bloomberg_businessweek\", \"bloomberg_businessweek\", \"board\", \"board\", \"board\", \"boardford_announce\", \"boardford_announce\", \"boardford_announce\", \"boy\", \"break\", \"break\", \"break\", \"brilliant\", \"buck\", \"buck\", \"buck\", \"business\", \"business\", \"business\", \"business\", \"camera\", \"camera\", \"capitalism\", \"capitalism\", \"capitalism\", \"capture\", \"capture\", \"capture\", \"case\", \"case\", \"case\", \"catch\", \"catch\", \"challenge\", \"challenge\", \"challenge\", \"change\", \"change\", \"change\", \"change\", \"chevron\", \"chevron\", \"chevron\", \"claim\", \"claim\", \"claim\", \"climate\", \"climate\", \"climate\", \"climate\", \"coal\", \"coal\", \"commit\", \"commit\", \"company\", \"company\", \"company\", \"company\", \"corporation\", \"corporation\", \"corporation\", \"corporation\", \"cost\", \"cost\", \"cost\", \"court\", \"court\", \"criticize\", \"criticize\", \"criticize\", \"crush\", \"crush\", \"crush\", \"cut\", \"cut\", \"cut\", \"cut\", \"day\", \"day\", \"day\", \"decade\", \"decade\", \"decade\", \"demand\", \"demand\", \"demand\", \"denial\", \"denial\", \"direct\", \"direct\", \"direct\", \"director\", \"director\", \"domino\", \"domino\", \"domino\", \"ecocide\", \"ecocide\", \"ecuador\", \"ecuador\", \"ecuador\", \"ecuador\", \"effective\", \"elect\", \"elect\", \"elect\", \"emission\", \"emission\", \"emission\", \"emission\", \"emissionsexxon_get\", \"emissionsexxon_get\", \"emissionsexxon_get\", \"end\", \"end\", \"end\", \"end\", \"engine\", \"engine\", \"engine\", \"enough\", \"enough\", \"enough\", \"enrage\", \"enrage\", \"environmental\", \"environmental\", \"environmental\", \"environmental\", \"era\", \"era\", \"era\", \"essential\", \"essential\", \"essential\", \"expect\", \"expect\", \"expose\", \"exxon\", \"exxon\", \"exxon\", \"exxon\", \"face\", \"face\", \"face\", \"facebook\", \"facebook\", \"facebook\", \"facebook\", \"family\", \"family\", \"federal\", \"federal\", \"fightyou\", \"fightyou\", \"fightyou\", \"fightyou\", \"find\", \"find\", \"firm\", \"firm\", \"firm\", \"fossil\", \"fossil\", \"fossil\", \"fossil\", \"fuel\", \"fuel\", \"fuel\", \"fuel\", \"fund\", \"fund\", \"fund\", \"fyi\", \"fyi\", \"fyi\", \"fyi\", \"gate\", \"gate\", \"give\", \"give\", \"global\", \"global\", \"go\", \"go\", \"go\", \"go\", \"good\", \"good\", \"good\", \"good\", \"green\", \"green\", \"green\", \"green\", \"group\", \"group\", \"group\", \"half\", \"half\", \"half\", \"halve\", \"halve\", \"halve\", \"halve\", \"hear\", \"hear\", \"help\", \"help\", \"help\", \"help\", \"history\", \"history\", \"history\", \"hold\", \"hold\", \"hold\", \"huge\", \"huge\", \"huge\", \"huge\", \"hypocrite\", \"hypocrite\", \"hypocrite\", \"hypocrite\", \"industry\", \"industry\", \"industry\", \"investment\", \"investment\", \"investor\", \"investor\", \"investor\", \"involve\", \"involve\", \"involve\", \"job\", \"job\", \"job\", \"job\", \"join\", \"join\", \"join\", \"judge\", \"judge\", \"kill\", \"kill\", \"kill\", \"kill\", \"know\", \"know\", \"know\", \"know\", \"large\", \"large\", \"large\", \"large\", \"law\", \"law\", \"law\", \"leadnot\", \"leadnot\", \"leadnot\", \"leadnot\", \"least\", \"least\", \"least\", \"likely\", \"likely\", \"lobbyist\", \"lobbyist\", \"lobbyist\", \"long\", \"long\", \"long\", \"lose\", \"lose\", \"lose\", \"major\", \"major\", \"major\", \"manchin\", \"manchin\", \"mean\", \"mean\", \"mean\", \"meaningfully_invest\", \"meaningfully_invest\", \"meaningfully_invest\", \"meaningfully_invest\", \"meeting\", \"meeting\", \"member\", \"member\", \"member\", \"mention\", \"mention\", \"microtargeting\", \"microtargeting\", \"microtargeting\", \"money\", \"money\", \"need\", \"need\", \"need\", \"new\", \"new\", \"nowexxon\", \"nowexxon\", \"nyu_project\", \"nyu_project\", \"nyu_project\", \"observation\", \"observation\", \"office\", \"office\", \"office\", \"official\", \"oil\", \"oil\", \"oil\", \"operation\", \"operation\", \"order\", \"order\", \"order\", \"output\", \"output\", \"party\", \"petition\", \"petition\", \"petition\", \"plan\", \"plan\", \"plan\", \"planetdutch\", \"planetdutch\", \"planetdutch\", \"planetdutch\", \"play\", \"playbook\", \"playbook\", \"point\", \"point\", \"point\", \"prevent\", \"probably\", \"probably\", \"problem\", \"problem\", \"problem\", \"product\", \"product\", \"product\", \"project\", \"project\", \"project\", \"project\", \"projects_technology\", \"projects_technology\", \"projects_technology\", \"proposal\", \"proposal\", \"push\", \"push\", \"push\", \"push\", \"question\", \"question\", \"quietly_shelve\", \"quietly_shelve\", \"quietly_shelve\", \"re\", \"re\", \"re\", \"real\", \"real\", \"record\", \"record\", \"recording\", \"regulation_report\", \"regulation_report\", \"regulation_report\", \"relationship\", \"relationship\", \"relationship\", \"relationship\", \"remove\", \"remove\", \"renewable\", \"renewable\", \"renewable\", \"report\", \"report\", \"report\", \"rest\", \"rest\", \"rest\", \"reveal\", \"reveal\", \"reversing\", \"reversing\", \"reversing\", \"right\", \"right\", \"right\", \"rise\", \"rise\", \"risk\", \"risk\", \"save\", \"save\", \"save\", \"say\", \"say\", \"say\", \"say\", \"scoopthis\", \"scoopthis\", \"scoopthis\", \"scope\", \"scope\", \"seat\", \"seat\", \"seat\", \"set\", \"set\", \"share\", \"share\", \"shareholder\", \"shareholder\", \"shareholder\", \"shareholder\", \"shell\", \"shell\", \"shell\", \"show\", \"show\", \"show\", \"side\", \"side\", \"side\", \"sign\", \"sign\", \"sign\", \"sign\", \"slam\", \"slam\", \"slam\", \"small\", \"small\", \"small\", \"solar\", \"solar\", \"solar\", \"solar\", \"solution\", \"solution\", \"solution\", \"spend\", \"spend\", \"spotlight\", \"station\", \"still\", \"still\", \"still\", \"stock\", \"stock\", \"stock\", \"straight\", \"strategy\", \"strategy\", \"tell\", \"tell\", \"tell\", \"tell\", \"terrible\", \"terrible\", \"texas_governor\", \"texas_governor\", \"third\", \"throw\", \"throw\", \"throw\", \"today\", \"today\", \"today\", \"tough\", \"tough\", \"tough\", \"tough\", \"truth\", \"truth\", \"try\", \"try\", \"try\", \"try\", \"tumble\", \"tumble\", \"tumble\", \"tumble\", \"turning\", \"turning\", \"turning\", \"turning\", \"tv\", \"undercover\", \"undercover\", \"use\", \"use\", \"use\", \"utterly\", \"utterly\", \"utterly\", \"utterly\", \"want\", \"want\", \"want\", \"want\", \"watch\", \"way\", \"way\", \"way\", \"week\", \"week\", \"week\", \"week\", \"weekly\", \"weekly\", \"welp\", \"welp\", \"whatexxons_co\", \"whatexxons_co\", \"whip\", \"wind\", \"wind\", \"wind\", \"work\", \"work\", \"work\", \"world\", \"world\", \"world\", \"year\", \"year\", \"year\", \"yearly\", \"yearly\", \"yesterday\", \"yesterday\", \"yesterday\"]}, \"R\": 30, \"lambda.step\": 0.01, \"plot.opts\": {\"xlab\": \"PC1\", \"ylab\": \"PC2\"}, \"topic.order\": [3, 2, 1, 4]};\n",
       "\n",
       "function LDAvis_load_lib(url, callback){\n",
       "  var s = document.createElement('script');\n",
       "  s.src = url;\n",
       "  s.async = true;\n",
       "  s.onreadystatechange = s.onload = callback;\n",
       "  s.onerror = function(){console.warn(\"failed to load library \" + url);};\n",
       "  document.getElementsByTagName(\"head\")[0].appendChild(s);\n",
       "}\n",
       "\n",
       "if(typeof(LDAvis) !== \"undefined\"){\n",
       "   // already loaded: just create the visualization\n",
       "   !function(LDAvis){\n",
       "       new LDAvis(\"#\" + \"ldavis_el253281404576109515848608231741\", ldavis_el253281404576109515848608231741_data);\n",
       "   }(LDAvis);\n",
       "}else if(typeof define === \"function\" && define.amd){\n",
       "   // require.js is available: use it to load d3/LDAvis\n",
       "   require.config({paths: {d3: \"https://d3js.org/d3.v5\"}});\n",
       "   require([\"d3\"], function(d3){\n",
       "      window.d3 = d3;\n",
       "      LDAvis_load_lib(\"https://cdn.jsdelivr.net/gh/bmabey/pyLDAvis@3.3.1/pyLDAvis/js/ldavis.v3.0.0.js\", function(){\n",
       "        new LDAvis(\"#\" + \"ldavis_el253281404576109515848608231741\", ldavis_el253281404576109515848608231741_data);\n",
       "      });\n",
       "    });\n",
       "}else{\n",
       "    // require.js not available: dynamically load d3 & LDAvis\n",
       "    LDAvis_load_lib(\"https://d3js.org/d3.v5.js\", function(){\n",
       "         LDAvis_load_lib(\"https://cdn.jsdelivr.net/gh/bmabey/pyLDAvis@3.3.1/pyLDAvis/js/ldavis.v3.0.0.js\", function(){\n",
       "                 new LDAvis(\"#\" + \"ldavis_el253281404576109515848608231741\", ldavis_el253281404576109515848608231741_data);\n",
       "            })\n",
       "         });\n",
       "}\n",
       "</script>"
      ],
      "text/plain": [
       "PreparedData(topic_coordinates=              x         y  topics  cluster       Freq\n",
       "topic                                                \n",
       "2     -0.164281 -0.189378       1        1  44.105624\n",
       "1      0.071326  0.316040       2        1  22.783551\n",
       "0     -0.251417  0.016842       3        1  19.169524\n",
       "3      0.344372 -0.143504       4        1  13.941301, topic_info=          Term          Freq          Total Category  logprob  loglift\n",
       "81        know  83911.000000   83911.000000  Default  30.0000  30.0000\n",
       "217        use  54017.000000   54017.000000  Default  29.0000  29.0000\n",
       "631      point  39827.000000   39827.000000  Default  28.0000  28.0000\n",
       "4      company  92156.000000   92156.000000  Default  27.0000  27.0000\n",
       "142   emission  76552.000000   76552.000000  Default  26.0000  26.0000\n",
       "...        ...           ...            ...      ...      ...      ...\n",
       "143      exxon  22860.032416   55114.433011   Topic4  -3.1989   1.0903\n",
       "142   emission  24686.927203   76552.408537   Topic4  -3.1220   0.8386\n",
       "2057  facebook   4461.121322    6505.536360   Topic4  -4.8329   1.5931\n",
       "7     lobbyist   4313.084076   13477.690100   Topic4  -4.8667   0.8309\n",
       "2      climate   5942.662998  192139.386390   Topic4  -4.5462  -1.5057\n",
       "\n",
       "[256 rows x 6 columns], token_table=      Topic      Freq         Term\n",
       "term                              \n",
       "0         1  0.000616       action\n",
       "0         2  0.950978       action\n",
       "0         3  0.048365       action\n",
       "0         4  0.000026       action\n",
       "5048      1  0.013466  actionthank\n",
       "...     ...       ...          ...\n",
       "483       2  0.000056       yearly\n",
       "483       4  0.999903       yearly\n",
       "2311      1  0.999627    yesterday\n",
       "2311      2  0.000242    yesterday\n",
       "2311      4  0.000242    yesterday\n",
       "\n",
       "[602 rows x 3 columns], R=30, lambda_step=0.01, plot_opts={'xlab': 'PC1', 'ylab': 'PC2'}, topic_order=[3, 2, 1, 4])"
      ]
     },
     "execution_count": 60,
     "metadata": {},
     "output_type": "execute_result"
    }
   ],
   "source": [
    "# Visualize the optimal topics\n",
    "pyLDAvis.enable_notebook()\n",
    "vis = pyLDAvis.gensim_models.prepare(optimal_model, corpus, id2word)\n",
    "vis"
   ]
  },
  {
   "cell_type": "markdown",
   "id": "45a55ce8-e7e1-49a3-b75a-d0274de33505",
   "metadata": {
    "tags": []
   },
   "source": [
    "### Finding the dominant topic in each sentence"
   ]
  },
  {
   "cell_type": "code",
   "execution_count": 62,
   "id": "3d78407f-fd9f-4051-afaf-9ae1e492d546",
   "metadata": {},
   "outputs": [
    {
     "data": {
      "text/html": [
       "<div>\n",
       "<style scoped>\n",
       "    .dataframe tbody tr th:only-of-type {\n",
       "        vertical-align: middle;\n",
       "    }\n",
       "\n",
       "    .dataframe tbody tr th {\n",
       "        vertical-align: top;\n",
       "    }\n",
       "\n",
       "    .dataframe thead th {\n",
       "        text-align: right;\n",
       "    }\n",
       "</style>\n",
       "<table border=\"1\" class=\"dataframe\">\n",
       "  <thead>\n",
       "    <tr style=\"text-align: right;\">\n",
       "      <th></th>\n",
       "      <th>Document_No</th>\n",
       "      <th>Dominant_Topic</th>\n",
       "      <th>Topic_Perc_Contrib</th>\n",
       "      <th>Keywords</th>\n",
       "      <th>Text</th>\n",
       "    </tr>\n",
       "  </thead>\n",
       "  <tbody>\n",
       "    <tr>\n",
       "      <th>0</th>\n",
       "      <td>0</td>\n",
       "      <td>2.0</td>\n",
       "      <td>0.6093</td>\n",
       "      <td>climate, emission, big, chevron, change, shell, oil, court, fuel, board</td>\n",
       "      <td>Im thinking about writing a satire where the US Congress is blocked from taking action on the climate by a Senator who owns a coal company lives on a yacht and speaks daily with Exxon lobbyists  but Im worried people will think its too on the nose</td>\n",
       "    </tr>\n",
       "    <tr>\n",
       "      <th>1</th>\n",
       "      <td>1</td>\n",
       "      <td>2.0</td>\n",
       "      <td>0.4282</td>\n",
       "      <td>climate, emission, big, chevron, change, shell, oil, court, fuel, board</td>\n",
       "      <td>no capitalists are the cause</td>\n",
       "    </tr>\n",
       "    <tr>\n",
       "      <th>2</th>\n",
       "      <td>2</td>\n",
       "      <td>2.0</td>\n",
       "      <td>0.7779</td>\n",
       "      <td>climate, emission, big, chevron, change, shell, oil, court, fuel, board</td>\n",
       "      <td>We started calling it climate change when Exxon Mobile did a very successful PR campaign in the s Apparently global warming is too specific and scary But Its global warming</td>\n",
       "    </tr>\n",
       "    <tr>\n",
       "      <th>3</th>\n",
       "      <td>3</td>\n",
       "      <td>2.0</td>\n",
       "      <td>0.6093</td>\n",
       "      <td>climate, emission, big, chevron, change, shell, oil, court, fuel, board</td>\n",
       "      <td>Im thinking about writing a satire where the US Congress is blocked from taking action on the climate by a Senator who owns a coal company lives on a yacht and speaks daily with Exxon lobbyists  but Im worried people will think its too on the nose</td>\n",
       "    </tr>\n",
       "    <tr>\n",
       "      <th>4</th>\n",
       "      <td>4</td>\n",
       "      <td>2.0</td>\n",
       "      <td>0.4282</td>\n",
       "      <td>climate, emission, big, chevron, change, shell, oil, court, fuel, board</td>\n",
       "      <td>no capitalists are the cause</td>\n",
       "    </tr>\n",
       "  </tbody>\n",
       "</table>\n",
       "</div>"
      ],
      "text/plain": [
       "   Document_No  Dominant_Topic  Topic_Perc_Contrib  \\\n",
       "0            0             2.0              0.6093   \n",
       "1            1             2.0              0.4282   \n",
       "2            2             2.0              0.7779   \n",
       "3            3             2.0              0.6093   \n",
       "4            4             2.0              0.4282   \n",
       "\n",
       "                                                                  Keywords  \\\n",
       "0  climate, emission, big, chevron, change, shell, oil, court, fuel, board   \n",
       "1  climate, emission, big, chevron, change, shell, oil, court, fuel, board   \n",
       "2  climate, emission, big, chevron, change, shell, oil, court, fuel, board   \n",
       "3  climate, emission, big, chevron, change, shell, oil, court, fuel, board   \n",
       "4  climate, emission, big, chevron, change, shell, oil, court, fuel, board   \n",
       "\n",
       "                                                                                                                                                                                                                                                      Text  \n",
       "0  Im thinking about writing a satire where the US Congress is blocked from taking action on the climate by a Senator who owns a coal company lives on a yacht and speaks daily with Exxon lobbyists  but Im worried people will think its too on the nose  \n",
       "1                                                                                                                                                                                                                             no capitalists are the cause  \n",
       "2                                                                             We started calling it climate change when Exxon Mobile did a very successful PR campaign in the s Apparently global warming is too specific and scary But Its global warming  \n",
       "3  Im thinking about writing a satire where the US Congress is blocked from taking action on the climate by a Senator who owns a coal company lives on a yacht and speaks daily with Exxon lobbyists  but Im worried people will think its too on the nose  \n",
       "4                                                                                                                                                                                                                             no capitalists are the cause  "
      ]
     },
     "execution_count": 62,
     "metadata": {},
     "output_type": "execute_result"
    }
   ],
   "source": [
    "def format_topics_sentences(ldamodel=lda_model, corpus=corpus, texts=ctext):\n",
    "    # Init output\n",
    "    sent_topics_df = pd.DataFrame()\n",
    "\n",
    "    # Get main topic in each document\n",
    "    for i, row in enumerate(ldamodel[corpus]):\n",
    "        row = sorted(row, key=lambda x: (x[1]), reverse=True)\n",
    "        # Get the Dominant topic, Perc Contribution and Keywords for each document\n",
    "        for j, (topic_num, prop_topic) in enumerate(row):\n",
    "            if j == 0:  # => dominant topic\n",
    "                wp = ldamodel.show_topic(topic_num)\n",
    "                topic_keywords = \", \".join([word for word, prop in wp])\n",
    "                sent_topics_df = sent_topics_df.append(pd.Series([int(topic_num), round(prop_topic,4), topic_keywords]), ignore_index=True)\n",
    "            else:\n",
    "                break\n",
    "    sent_topics_df.columns = ['Dominant_Topic', 'Perc_Contribution', 'Topic_Keywords']\n",
    "\n",
    "    # Add original text to the end of the output\n",
    "    contents = pd.Series(texts)\n",
    "    sent_topics_df = pd.concat([sent_topics_df, contents], axis=1)\n",
    "    return(sent_topics_df)\n",
    "\n",
    "\n",
    "df_topic_sents_keywords = format_topics_sentences(ldamodel=optimal_model, corpus=corpus, texts=ctext)\n",
    "\n",
    "# Format\n",
    "df_dominant_topic = df_topic_sents_keywords.reset_index()\n",
    "df_dominant_topic.columns = ['Document_No', 'Dominant_Topic', 'Topic_Perc_Contrib', 'Keywords', 'Text']\n",
    "\n",
    "# Show\n",
    "df_dominant_topic.head()"
   ]
  },
  {
   "cell_type": "markdown",
   "id": "ac667693-c3cf-41c6-b3f7-f20dc92ffd93",
   "metadata": {
    "tags": []
   },
   "source": [
    "### Find the most representative document for each topic"
   ]
  },
  {
   "cell_type": "code",
   "execution_count": 63,
   "id": "b0af1d4e-6496-4096-817a-52ea6e513e2d",
   "metadata": {},
   "outputs": [
    {
     "data": {
      "text/html": [
       "<div>\n",
       "<style scoped>\n",
       "    .dataframe tbody tr th:only-of-type {\n",
       "        vertical-align: middle;\n",
       "    }\n",
       "\n",
       "    .dataframe tbody tr th {\n",
       "        vertical-align: top;\n",
       "    }\n",
       "\n",
       "    .dataframe thead th {\n",
       "        text-align: right;\n",
       "    }\n",
       "</style>\n",
       "<table border=\"1\" class=\"dataframe\">\n",
       "  <thead>\n",
       "    <tr style=\"text-align: right;\">\n",
       "      <th></th>\n",
       "      <th>Topic_Num</th>\n",
       "      <th>Topic_Perc_Contrib</th>\n",
       "      <th>Keywords</th>\n",
       "      <th>Text</th>\n",
       "    </tr>\n",
       "  </thead>\n",
       "  <tbody>\n",
       "    <tr>\n",
       "      <th>0</th>\n",
       "      <td>0.0</td>\n",
       "      <td>0.9580</td>\n",
       "      <td>company, shareholder, cut, demand, seat, lose, climate, day, order, director</td>\n",
       "      <td>From CNN Activist investor ousts at least two Exxon directors in historic win for proclimate campaign  Activist investor ousts at least two Exxon directors in historic win for proclimate campaign</td>\n",
       "    </tr>\n",
       "    <tr>\n",
       "      <th>1</th>\n",
       "      <td>1.0</td>\n",
       "      <td>0.9641</td>\n",
       "      <td>climate, use, company, action, world, know, work, decade, exxon, capture</td>\n",
       "      <td>I am near speechless An Exxon official admitting on camera how the company works to prevent effective climate action by using third party whipping boys so no one knows its them These recordings should be played on every TV station in the world</td>\n",
       "    </tr>\n",
       "    <tr>\n",
       "      <th>2</th>\n",
       "      <td>2.0</td>\n",
       "      <td>0.9721</td>\n",
       "      <td>climate, emission, big, chevron, change, shell, oil, court, fuel, board</td>\n",
       "      <td>Theres man made climate change done by fossil fuels then theres man made climate change done by space lasersConveniently the space laser discourse sprung up around the time climate change got worse Now ask yourself if Exxon etc Would benefit from shifting blame</td>\n",
       "    </tr>\n",
       "    <tr>\n",
       "      <th>3</th>\n",
       "      <td>3.0</td>\n",
       "      <td>0.9462</td>\n",
       "      <td>know, point, investment, strategy, emission, exxon, show, try, rise, commit</td>\n",
       "      <td>Exxons own assessment of its 210 billion investment strategy shows yearly emissions rising  by Exxon knew thenExxon knows nowExxon is committing Ecocide</td>\n",
       "    </tr>\n",
       "  </tbody>\n",
       "</table>\n",
       "</div>"
      ],
      "text/plain": [
       "   Topic_Num  Topic_Perc_Contrib  \\\n",
       "0        0.0              0.9580   \n",
       "1        1.0              0.9641   \n",
       "2        2.0              0.9721   \n",
       "3        3.0              0.9462   \n",
       "\n",
       "                                                                       Keywords  \\\n",
       "0  company, shareholder, cut, demand, seat, lose, climate, day, order, director   \n",
       "1      climate, use, company, action, world, know, work, decade, exxon, capture   \n",
       "2       climate, emission, big, chevron, change, shell, oil, court, fuel, board   \n",
       "3   know, point, investment, strategy, emission, exxon, show, try, rise, commit   \n",
       "\n",
       "                                                                                                                                                                                                                                                                    Text  \n",
       "0                                                                    From CNN Activist investor ousts at least two Exxon directors in historic win for proclimate campaign  Activist investor ousts at least two Exxon directors in historic win for proclimate campaign  \n",
       "1                    I am near speechless An Exxon official admitting on camera how the company works to prevent effective climate action by using third party whipping boys so no one knows its them These recordings should be played on every TV station in the world  \n",
       "2  Theres man made climate change done by fossil fuels then theres man made climate change done by space lasersConveniently the space laser discourse sprung up around the time climate change got worse Now ask yourself if Exxon etc Would benefit from shifting blame  \n",
       "3                                                                                                               Exxons own assessment of its 210 billion investment strategy shows yearly emissions rising  by Exxon knew thenExxon knows nowExxon is committing Ecocide  "
      ]
     },
     "execution_count": 63,
     "metadata": {},
     "output_type": "execute_result"
    }
   ],
   "source": [
    "# Group top 5 sentences under each topic\n",
    "sent_topics_sorteddf_mallet = pd.DataFrame()\n",
    "\n",
    "sent_topics_outdf_grpd = df_topic_sents_keywords.groupby('Dominant_Topic')\n",
    "\n",
    "for i, grp in sent_topics_outdf_grpd:\n",
    "    sent_topics_sorteddf_mallet = pd.concat([sent_topics_sorteddf_mallet, \n",
    "                                             grp.sort_values(['Perc_Contribution'], ascending=[0]).head(1)], \n",
    "                                            axis=0)\n",
    "\n",
    "# Reset Index    \n",
    "sent_topics_sorteddf_mallet.reset_index(drop=True, inplace=True)\n",
    "\n",
    "# Format\n",
    "sent_topics_sorteddf_mallet.columns = ['Topic_Num', \"Topic_Perc_Contrib\", \"Keywords\", \"Text\"]\n",
    "\n",
    "# Show\n",
    "sent_topics_sorteddf_mallet.head()"
   ]
  },
  {
   "cell_type": "markdown",
   "id": "59576a82-5edc-41c6-ab6e-1cd2a5935440",
   "metadata": {
    "tags": []
   },
   "source": [
    "### Topic distribution across documents"
   ]
  },
  {
   "cell_type": "code",
   "execution_count": 64,
   "id": "e1695dc0-dc55-4ed8-8636-14b13e5cfb70",
   "metadata": {},
   "outputs": [
    {
     "data": {
      "text/html": [
       "<div>\n",
       "<style scoped>\n",
       "    .dataframe tbody tr th:only-of-type {\n",
       "        vertical-align: middle;\n",
       "    }\n",
       "\n",
       "    .dataframe tbody tr th {\n",
       "        vertical-align: top;\n",
       "    }\n",
       "\n",
       "    .dataframe thead th {\n",
       "        text-align: right;\n",
       "    }\n",
       "</style>\n",
       "<table border=\"1\" class=\"dataframe\">\n",
       "  <thead>\n",
       "    <tr style=\"text-align: right;\">\n",
       "      <th></th>\n",
       "      <th>Dominant_Topic</th>\n",
       "      <th>Topic_Keywords</th>\n",
       "      <th>Num_Documents</th>\n",
       "      <th>Perc_Documents</th>\n",
       "    </tr>\n",
       "  </thead>\n",
       "  <tbody>\n",
       "    <tr>\n",
       "      <th>0.0</th>\n",
       "      <td>2.0</td>\n",
       "      <td>climate, emission, big, chevron, change, shell, oil, court, fuel, board</td>\n",
       "      <td>35615.0</td>\n",
       "      <td>0.1470</td>\n",
       "    </tr>\n",
       "    <tr>\n",
       "      <th>1.0</th>\n",
       "      <td>2.0</td>\n",
       "      <td>climate, emission, big, chevron, change, shell, oil, court, fuel, board</td>\n",
       "      <td>52645.0</td>\n",
       "      <td>0.2173</td>\n",
       "    </tr>\n",
       "    <tr>\n",
       "      <th>2.0</th>\n",
       "      <td>2.0</td>\n",
       "      <td>climate, emission, big, chevron, change, shell, oil, court, fuel, board</td>\n",
       "      <td>131824.0</td>\n",
       "      <td>0.5441</td>\n",
       "    </tr>\n",
       "    <tr>\n",
       "      <th>3.0</th>\n",
       "      <td>2.0</td>\n",
       "      <td>climate, emission, big, chevron, change, shell, oil, court, fuel, board</td>\n",
       "      <td>22198.0</td>\n",
       "      <td>0.0916</td>\n",
       "    </tr>\n",
       "  </tbody>\n",
       "</table>\n",
       "</div>"
      ],
      "text/plain": [
       "     Dominant_Topic  \\\n",
       "0.0             2.0   \n",
       "1.0             2.0   \n",
       "2.0             2.0   \n",
       "3.0             2.0   \n",
       "\n",
       "                                                              Topic_Keywords  \\\n",
       "0.0  climate, emission, big, chevron, change, shell, oil, court, fuel, board   \n",
       "1.0  climate, emission, big, chevron, change, shell, oil, court, fuel, board   \n",
       "2.0  climate, emission, big, chevron, change, shell, oil, court, fuel, board   \n",
       "3.0  climate, emission, big, chevron, change, shell, oil, court, fuel, board   \n",
       "\n",
       "     Num_Documents  Perc_Documents  \n",
       "0.0        35615.0          0.1470  \n",
       "1.0        52645.0          0.2173  \n",
       "2.0       131824.0          0.5441  \n",
       "3.0        22198.0          0.0916  "
      ]
     },
     "execution_count": 64,
     "metadata": {},
     "output_type": "execute_result"
    }
   ],
   "source": [
    "# Number of Documents for Each Topic\n",
    "topic_counts = df_topic_sents_keywords['Dominant_Topic'].value_counts()\n",
    "\n",
    "# Percentage of Documents for Each Topic\n",
    "topic_contribution = round(topic_counts/topic_counts.sum(), 4)\n",
    "\n",
    "# Topic Number and Keywords\n",
    "topic_num_keywords = df_topic_sents_keywords[['Dominant_Topic', 'Topic_Keywords']]\n",
    "\n",
    "# Concatenate Column wise\n",
    "df_dominant_topics = pd.concat([topic_num_keywords, topic_counts, topic_contribution], axis=1)\n",
    "\n",
    "# Change Column names\n",
    "df_dominant_topics.columns = ['Dominant_Topic', 'Topic_Keywords', 'Num_Documents', 'Perc_Documents']\n",
    "\n",
    "# Show\n",
    "df_dominant_topics.head(4)"
   ]
  },
  {
   "cell_type": "code",
   "execution_count": null,
   "id": "b446f62a-d44e-483e-a929-63ce48369ace",
   "metadata": {},
   "outputs": [],
   "source": []
  }
 ],
 "metadata": {
  "kernelspec": {
   "display_name": "Python 3 (ipykernel)",
   "language": "python",
   "name": "python3"
  },
  "language_info": {
   "codemirror_mode": {
    "name": "ipython",
    "version": 3
   },
   "file_extension": ".py",
   "mimetype": "text/x-python",
   "name": "python",
   "nbconvert_exporter": "python",
   "pygments_lexer": "ipython3",
   "version": "3.9.7"
  }
 },
 "nbformat": 4,
 "nbformat_minor": 5
}
